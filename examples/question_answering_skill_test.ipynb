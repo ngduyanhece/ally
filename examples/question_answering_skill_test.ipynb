{
 "cells": [
  {
   "cell_type": "code",
   "execution_count": 1,
   "metadata": {},
   "outputs": [
    {
     "data": {
      "text/html": [
       "<div>\n",
       "<style scoped>\n",
       "    .dataframe tbody tr th:only-of-type {\n",
       "        vertical-align: middle;\n",
       "    }\n",
       "\n",
       "    .dataframe tbody tr th {\n",
       "        vertical-align: top;\n",
       "    }\n",
       "\n",
       "    .dataframe thead th {\n",
       "        text-align: right;\n",
       "    }\n",
       "</style>\n",
       "<table border=\"1\" class=\"dataframe\">\n",
       "  <thead>\n",
       "    <tr style=\"text-align: right;\">\n",
       "      <th></th>\n",
       "      <th>question</th>\n",
       "      <th>expected_answer</th>\n",
       "    </tr>\n",
       "  </thead>\n",
       "  <tbody>\n",
       "    <tr>\n",
       "      <th>0</th>\n",
       "      <td>In quantum mechanics, what principle asserts t...</td>\n",
       "      <td>Heisenberg Uncertainty Principle</td>\n",
       "    </tr>\n",
       "    <tr>\n",
       "      <th>1</th>\n",
       "      <td>Which famous poet wrote 'The Love Song of J. A...</td>\n",
       "      <td>T.S. Eliot</td>\n",
       "    </tr>\n",
       "    <tr>\n",
       "      <th>2</th>\n",
       "      <td>What mathematical theorem states that in any r...</td>\n",
       "      <td>Pythagorean Theorem</td>\n",
       "    </tr>\n",
       "    <tr>\n",
       "      <th>3</th>\n",
       "      <td>Which philosophical paradox involves a ship wh...</td>\n",
       "      <td>Ship of Theseus</td>\n",
       "    </tr>\n",
       "  </tbody>\n",
       "</table>\n",
       "</div>"
      ],
      "text/plain": [
       "                                            question  \\\n",
       "0  In quantum mechanics, what principle asserts t...   \n",
       "1  Which famous poet wrote 'The Love Song of J. A...   \n",
       "2  What mathematical theorem states that in any r...   \n",
       "3  Which philosophical paradox involves a ship wh...   \n",
       "\n",
       "                    expected_answer  \n",
       "0  Heisenberg Uncertainty Principle  \n",
       "1                        T.S. Eliot  \n",
       "2               Pythagorean Theorem  \n",
       "3                   Ship of Theseus  "
      ]
     },
     "execution_count": 1,
     "metadata": {},
     "output_type": "execute_result"
    }
   ],
   "source": [
    "import sys\n",
    "sys.path.append('../')\n",
    "import pandas as pd\n",
    "df = pd.DataFrame([\n",
    "  {\"question\": \"In quantum mechanics, what principle asserts that it's impossible to simultaneously know the exact position and momentum of a particle?\", \"expected_answer\": \"Heisenberg Uncertainty Principle\"},\n",
    "  {\"question\": \"Which famous poet wrote 'The Love Song of J. Alfred Prufrock'?\", \"expected_answer\": \"T.S. Eliot\"},\n",
    "  {\"question\": \"What mathematical theorem states that in any right-angled triangle, the area of the square whose side is the hypotenuse is equal to the sum of the areas of the squares whose sides are the two legs?\", \"expected_answer\": \"Pythagorean Theorem\"},\n",
    "  {\"question\": \"Which philosophical paradox involves a ship where all of its wooden parts are replaced with metal parts?\", \"expected_answer\": \"Ship of Theseus\"},\n",
    "])\n",
    "df"
   ]
  },
  {
   "cell_type": "code",
   "execution_count": 2,
   "metadata": {},
   "outputs": [],
   "source": [
    "from ally.skills.generation.qa import QuestionAnsweringSkill\n",
    "\n",
    "qa_skill = QuestionAnsweringSkill(\n",
    "  input_template=\"Question: {question}\",\n",
    "  name='qa_skill',\n",
    ")"
   ]
  },
  {
   "cell_type": "code",
   "execution_count": 3,
   "metadata": {},
   "outputs": [],
   "source": [
    "from ally.runtimes.openai import OpenAIRuntime\n",
    "from app.core.settings import settings\n",
    "\n",
    "openai_runtime = OpenAIRuntime(\n",
    "    verbose=True,\n",
    "    api_key=settings.openai_api_key,\n",
    "    gpt_model_name=\"gpt-3.5-turbo\",\n",
    "    max_tokens=256,\n",
    "  )"
   ]
  },
  {
   "cell_type": "code",
   "execution_count": 4,
   "metadata": {},
   "outputs": [],
   "source": [
    "from ally.agents.base import Agent\n",
    "from ally.environments.base import BasicEnvironment\n",
    "\n",
    "\n",
    "agent = Agent(\n",
    "\tskills=qa_skill,\n",
    "  runtimes={\n",
    "    'openai': openai_runtime\n",
    "\t},\n",
    "  teacher_runtimes={\n",
    "    'openai': openai_runtime\n",
    "\t},\n",
    "\tenvironment=BasicEnvironment(\n",
    "\t\t\tground_truth_dataset=df,\n",
    "\t\t\tground_truth_columns={'qa_skill': 'expected_answer'}\n",
    "\t)\n",
    ")"
   ]
  },
  {
   "cell_type": "code",
   "execution_count": 5,
   "metadata": {},
   "outputs": [
    {
     "data": {
      "text/html": [
       "<pre style=\"white-space:pre;overflow-x:auto;line-height:normal;font-family:Menlo,'DejaVu Sans Mono',consolas,'Courier New',monospace\">Applying skill: qa_skill\n",
       "</pre>\n"
      ],
      "text/plain": [
       "Applying skill: qa_skill\n"
      ]
     },
     "metadata": {},
     "output_type": "display_data"
    },
    {
     "data": {
      "text/html": [
       "<pre style=\"white-space:pre;overflow-x:auto;line-height:normal;font-family:Menlo,'DejaVu Sans Mono',consolas,'Courier New',monospace\"><span style=\"font-weight: bold\">[</span><span style=\"color: #008000; text-decoration-color: #008000\">'question'</span><span style=\"font-weight: bold\">]</span>\n",
       "</pre>\n"
      ],
      "text/plain": [
       "\u001b[1m[\u001b[0m\u001b[32m'question'\u001b[0m\u001b[1m]\u001b[0m\n"
      ]
     },
     "metadata": {},
     "output_type": "display_data"
    },
    {
     "name": "stderr",
     "output_type": "stream",
     "text": [
      "  0%|          | 0/4 [00:00<?, ?it/s]"
     ]
    },
    {
     "data": {
      "text/html": [
       "<pre style=\"white-space:pre;overflow-x:auto;line-height:normal;font-family:Menlo,'DejaVu Sans Mono',consolas,'Courier New',monospace\"><span style=\"font-weight: bold\">{</span><span style=\"color: #008000; text-decoration-color: #008000\">'question'</span>: <span style=\"color: #008000; text-decoration-color: #008000\">\"In quantum mechanics, what principle asserts that it's impossible to simultaneously know the exact </span>\n",
       "<span style=\"color: #008000; text-decoration-color: #008000\">position and momentum of a particle?\"</span>, <span style=\"color: #008000; text-decoration-color: #008000\">'expected_answer'</span>: <span style=\"color: #008000; text-decoration-color: #008000\">'Heisenberg Uncertainty Principle'</span><span style=\"font-weight: bold\">}</span>\n",
       "</pre>\n"
      ],
      "text/plain": [
       "\u001b[1m{\u001b[0m\u001b[32m'question'\u001b[0m: \u001b[32m\"In quantum mechanics, what principle asserts that it's impossible to simultaneously know the exact \u001b[0m\n",
       "\u001b[32mposition and momentum of a particle?\"\u001b[0m, \u001b[32m'expected_answer'\u001b[0m: \u001b[32m'Heisenberg Uncertainty Principle'\u001b[0m\u001b[1m}\u001b[0m\n"
      ]
     },
     "metadata": {},
     "output_type": "display_data"
    },
    {
     "name": "stderr",
     "output_type": "stream",
     "text": [
      " 50%|█████     | 2/4 [00:07<00:07,  3.75s/it]"
     ]
    },
    {
     "data": {
      "text/html": [
       "<pre style=\"white-space:pre;overflow-x:auto;line-height:normal;font-family:Menlo,'DejaVu Sans Mono',consolas,'Courier New',monospace\"><span style=\"font-weight: bold\">{</span><span style=\"color: #008000; text-decoration-color: #008000\">'question'</span>: <span style=\"color: #008000; text-decoration-color: #008000\">\"Which famous poet wrote 'The Love Song of J. Alfred Prufrock'?\"</span>, <span style=\"color: #008000; text-decoration-color: #008000\">'expected_answer'</span>: <span style=\"color: #008000; text-decoration-color: #008000\">'T.S. Eliot'</span><span style=\"font-weight: bold\">}</span>\n",
       "</pre>\n"
      ],
      "text/plain": [
       "\u001b[1m{\u001b[0m\u001b[32m'question'\u001b[0m: \u001b[32m\"Which famous poet wrote 'The Love Song of J. Alfred Prufrock'?\"\u001b[0m, \u001b[32m'expected_answer'\u001b[0m: \u001b[32m'T.S. Eliot'\u001b[0m\u001b[1m}\u001b[0m\n"
      ]
     },
     "metadata": {},
     "output_type": "display_data"
    },
    {
     "name": "stderr",
     "output_type": "stream",
     "text": [
      " 75%|███████▌  | 3/4 [00:11<00:03,  3.88s/it]"
     ]
    },
    {
     "data": {
      "text/html": [
       "<pre style=\"white-space:pre;overflow-x:auto;line-height:normal;font-family:Menlo,'DejaVu Sans Mono',consolas,'Courier New',monospace\"><span style=\"font-weight: bold\">{</span><span style=\"color: #008000; text-decoration-color: #008000\">'question'</span>: <span style=\"color: #008000; text-decoration-color: #008000\">'What mathematical theorem states that in any right-angled triangle, the area of the square whose side</span>\n",
       "<span style=\"color: #008000; text-decoration-color: #008000\">is the hypotenuse is equal to the sum of the areas of the squares whose sides are the two legs?'</span>, \n",
       "<span style=\"color: #008000; text-decoration-color: #008000\">'expected_answer'</span>: <span style=\"color: #008000; text-decoration-color: #008000\">'Pythagorean Theorem'</span><span style=\"font-weight: bold\">}</span>\n",
       "</pre>\n"
      ],
      "text/plain": [
       "\u001b[1m{\u001b[0m\u001b[32m'question'\u001b[0m: \u001b[32m'What mathematical theorem states that in any right-angled triangle, the area of the square whose side\u001b[0m\n",
       "\u001b[32mis the hypotenuse is equal to the sum of the areas of the squares whose sides are the two legs?'\u001b[0m, \n",
       "\u001b[32m'expected_answer'\u001b[0m: \u001b[32m'Pythagorean Theorem'\u001b[0m\u001b[1m}\u001b[0m\n"
      ]
     },
     "metadata": {},
     "output_type": "display_data"
    },
    {
     "name": "stderr",
     "output_type": "stream",
     "text": [
      "100%|██████████| 4/4 [00:19<00:00,  5.34s/it]"
     ]
    },
    {
     "data": {
      "text/html": [
       "<pre style=\"white-space:pre;overflow-x:auto;line-height:normal;font-family:Menlo,'DejaVu Sans Mono',consolas,'Courier New',monospace\"><span style=\"font-weight: bold\">{</span><span style=\"color: #008000; text-decoration-color: #008000\">'question'</span>: <span style=\"color: #008000; text-decoration-color: #008000\">'Which philosophical paradox involves a ship where all of its wooden parts are replaced with metal </span>\n",
       "<span style=\"color: #008000; text-decoration-color: #008000\">parts?'</span>, <span style=\"color: #008000; text-decoration-color: #008000\">'expected_answer'</span>: <span style=\"color: #008000; text-decoration-color: #008000\">'Ship of Theseus'</span><span style=\"font-weight: bold\">}</span>\n",
       "</pre>\n"
      ],
      "text/plain": [
       "\u001b[1m{\u001b[0m\u001b[32m'question'\u001b[0m: \u001b[32m'Which philosophical paradox involves a ship where all of its wooden parts are replaced with metal \u001b[0m\n",
       "\u001b[32mparts?'\u001b[0m, \u001b[32m'expected_answer'\u001b[0m: \u001b[32m'Ship of Theseus'\u001b[0m\u001b[1m}\u001b[0m\n"
      ]
     },
     "metadata": {},
     "output_type": "display_data"
    },
    {
     "name": "stderr",
     "output_type": "stream",
     "text": [
      "100%|██████████| 4/4 [00:42<00:00, 10.55s/it]\n"
     ]
    }
   ],
   "source": [
    "runtime = agent.get_runtime()\n",
    "teacher_runtime = agent.get_teacher_runtime()\n",
    "\n",
    "dataset = agent.environment.as_dataset()\n",
    "\n",
    "# Apply agent skills to dataset and get experience with predictions\n",
    "predictions = agent.skills.apply(dataset, runtime=runtime)"
   ]
  },
  {
   "cell_type": "code",
   "execution_count": 6,
   "metadata": {},
   "outputs": [
    {
     "data": {
      "text/html": [
       "<div>\n",
       "<style scoped>\n",
       "    .dataframe tbody tr th:only-of-type {\n",
       "        vertical-align: middle;\n",
       "    }\n",
       "\n",
       "    .dataframe tbody tr th {\n",
       "        vertical-align: top;\n",
       "    }\n",
       "\n",
       "    .dataframe thead th {\n",
       "        text-align: right;\n",
       "    }\n",
       "</style>\n",
       "<table border=\"1\" class=\"dataframe\">\n",
       "  <thead>\n",
       "    <tr style=\"text-align: right;\">\n",
       "      <th></th>\n",
       "      <th>question</th>\n",
       "      <th>expected_answer</th>\n",
       "      <th>qa_skill</th>\n",
       "    </tr>\n",
       "  </thead>\n",
       "  <tbody>\n",
       "    <tr>\n",
       "      <th>0</th>\n",
       "      <td>In quantum mechanics, what principle asserts t...</td>\n",
       "      <td>Heisenberg Uncertainty Principle</td>\n",
       "      <td>The Heisenberg uncertainty principle asserts t...</td>\n",
       "    </tr>\n",
       "    <tr>\n",
       "      <th>1</th>\n",
       "      <td>Which famous poet wrote 'The Love Song of J. A...</td>\n",
       "      <td>T.S. Eliot</td>\n",
       "      <td>T.S. Eliot</td>\n",
       "    </tr>\n",
       "    <tr>\n",
       "      <th>2</th>\n",
       "      <td>What mathematical theorem states that in any r...</td>\n",
       "      <td>Pythagorean Theorem</td>\n",
       "      <td>The mathematical theorem that states this is c...</td>\n",
       "    </tr>\n",
       "    <tr>\n",
       "      <th>3</th>\n",
       "      <td>Which philosophical paradox involves a ship wh...</td>\n",
       "      <td>Ship of Theseus</td>\n",
       "      <td>The philosophical paradox you are referring to...</td>\n",
       "    </tr>\n",
       "  </tbody>\n",
       "</table>\n",
       "</div>"
      ],
      "text/plain": [
       "                                            question  \\\n",
       "0  In quantum mechanics, what principle asserts t...   \n",
       "1  Which famous poet wrote 'The Love Song of J. A...   \n",
       "2  What mathematical theorem states that in any r...   \n",
       "3  Which philosophical paradox involves a ship wh...   \n",
       "\n",
       "                    expected_answer  \\\n",
       "0  Heisenberg Uncertainty Principle   \n",
       "1                        T.S. Eliot   \n",
       "2               Pythagorean Theorem   \n",
       "3                   Ship of Theseus   \n",
       "\n",
       "                                            qa_skill  \n",
       "0  The Heisenberg uncertainty principle asserts t...  \n",
       "1                                         T.S. Eliot  \n",
       "2  The mathematical theorem that states this is c...  \n",
       "3  The philosophical paradox you are referring to...  "
      ]
     },
     "execution_count": 6,
     "metadata": {},
     "output_type": "execute_result"
    }
   ],
   "source": [
    "predictions"
   ]
  },
  {
   "cell_type": "code",
   "execution_count": 12,
   "metadata": {},
   "outputs": [
    {
     "data": {
      "text/plain": [
       "LinearSkillSet(skills={'qa_skill': QuestionAnsweringSkill(name='qa_skill', instruction_template='Answer the question.', description='', input_template='Question: {question}', output_template=[{'name': 'answer', 'description': 'the the answer to the question'}], prediction_field='answer')}, skill_sequence=['qa_skill'])"
      ]
     },
     "execution_count": 12,
     "metadata": {},
     "output_type": "execute_result"
    }
   ],
   "source": [
    "from ally.utils.logs import print_text\n",
    "agent.skills"
   ]
  }
 ],
 "metadata": {
  "kernelspec": {
   "display_name": "ally",
   "language": "python",
   "name": "python3"
  },
  "language_info": {
   "codemirror_mode": {
    "name": "ipython",
    "version": 3
   },
   "file_extension": ".py",
   "mimetype": "text/x-python",
   "name": "python",
   "nbconvert_exporter": "python",
   "pygments_lexer": "ipython3",
   "version": "3.11.6"
  }
 },
 "nbformat": 4,
 "nbformat_minor": 2
}
