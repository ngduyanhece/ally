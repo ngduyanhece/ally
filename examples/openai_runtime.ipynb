{
 "cells": [
  {
   "cell_type": "code",
   "execution_count": 1,
   "metadata": {},
   "outputs": [],
   "source": [
    "import sys\n",
    "sys.path.append('../')\n",
    "from ally.runtimes.openai import OpenAIRuntime\n",
    "from ally.utils.internal_data import InternalDataFrame\n",
    "from app.core.settings import settings"
   ]
  },
  {
   "cell_type": "code",
   "execution_count": 2,
   "metadata": {},
   "outputs": [],
   "source": [
    "def test_process_batch():\n",
    "  df = InternalDataFrame(\n",
    "    [['Hello', 'Yes'],\n",
    "    ['Test', 'No']],\n",
    "    columns=['text', 'comments']\n",
    "  )\n",
    "\n",
    "  runtime = OpenAIRuntime(\n",
    "    verbose=True,\n",
    "    api_key=settings.openai_api_key,\n",
    "    gpt_model_name=\"gpt-3.5-turbo\",\n",
    "  )\n",
    "  result = runtime.process_batch(\n",
    "    batch=df,\n",
    "    input_template=\"{text} {comments}\",\n",
    "    output_template=[\n",
    "      {\n",
    "        \"name\": \"result\",\n",
    "        \"description\": \"answer to the user's question\"\n",
    "      }\n",
    "    ],\n",
    "    instruction_template='this is the test',\n",
    "  )\n",
    "  return result"
   ]
  },
  {
   "cell_type": "code",
   "execution_count": 3,
   "metadata": {},
   "outputs": [
    {
     "data": {
      "text/html": [
       "<pre style=\"white-space:pre;overflow-x:auto;line-height:normal;font-family:Menlo,'DejaVu Sans Mono',consolas,'Courier New',monospace\"><span style=\"font-weight: bold\">[</span><span style=\"color: #008000; text-decoration-color: #008000\">'comments'</span>, <span style=\"color: #008000; text-decoration-color: #008000\">'text'</span><span style=\"font-weight: bold\">]</span>\n",
       "</pre>\n"
      ],
      "text/plain": [
       "\u001b[1m[\u001b[0m\u001b[32m'comments'\u001b[0m, \u001b[32m'text'\u001b[0m\u001b[1m]\u001b[0m\n"
      ]
     },
     "metadata": {},
     "output_type": "display_data"
    },
    {
     "name": "stderr",
     "output_type": "stream",
     "text": [
      "  0%|          | 0/2 [00:00<?, ?it/s]"
     ]
    },
    {
     "data": {
      "text/html": [
       "<pre style=\"white-space:pre;overflow-x:auto;line-height:normal;font-family:Menlo,'DejaVu Sans Mono',consolas,'Courier New',monospace\"><span style=\"font-weight: bold\">{</span><span style=\"color: #008000; text-decoration-color: #008000\">'text'</span>: <span style=\"color: #008000; text-decoration-color: #008000\">'Hello'</span>, <span style=\"color: #008000; text-decoration-color: #008000\">'comments'</span>: <span style=\"color: #008000; text-decoration-color: #008000\">'Yes'</span><span style=\"font-weight: bold\">}</span>\n",
       "</pre>\n"
      ],
      "text/plain": [
       "\u001b[1m{\u001b[0m\u001b[32m'text'\u001b[0m: \u001b[32m'Hello'\u001b[0m, \u001b[32m'comments'\u001b[0m: \u001b[32m'Yes'\u001b[0m\u001b[1m}\u001b[0m\n"
      ]
     },
     "metadata": {},
     "output_type": "display_data"
    },
    {
     "name": "stderr",
     "output_type": "stream",
     "text": [
      "100%|██████████| 2/2 [00:04<00:00,  2.46s/it]"
     ]
    },
    {
     "data": {
      "text/html": [
       "<pre style=\"white-space:pre;overflow-x:auto;line-height:normal;font-family:Menlo,'DejaVu Sans Mono',consolas,'Courier New',monospace\"><span style=\"font-weight: bold\">{</span><span style=\"color: #008000; text-decoration-color: #008000\">'text'</span>: <span style=\"color: #008000; text-decoration-color: #008000\">'Test'</span>, <span style=\"color: #008000; text-decoration-color: #008000\">'comments'</span>: <span style=\"color: #008000; text-decoration-color: #008000\">'No'</span><span style=\"font-weight: bold\">}</span>\n",
       "</pre>\n"
      ],
      "text/plain": [
       "\u001b[1m{\u001b[0m\u001b[32m'text'\u001b[0m: \u001b[32m'Test'\u001b[0m, \u001b[32m'comments'\u001b[0m: \u001b[32m'No'\u001b[0m\u001b[1m}\u001b[0m\n"
      ]
     },
     "metadata": {},
     "output_type": "display_data"
    },
    {
     "name": "stderr",
     "output_type": "stream",
     "text": [
      "100%|██████████| 2/2 [00:08<00:00,  4.31s/it]\n"
     ]
    }
   ],
   "source": [
    "result = test_process_batch()"
   ]
  },
  {
   "cell_type": "code",
   "execution_count": 4,
   "metadata": {},
   "outputs": [
    {
     "data": {
      "text/html": [
       "<pre style=\"white-space:pre;overflow-x:auto;line-height:normal;font-family:Menlo,'DejaVu Sans Mono',consolas,'Courier New',monospace\">                                \n",
       " <span style=\"color: #800080; text-decoration-color: #800080; font-weight: bold\"> result                       </span> \n",
       " ────────────────────────────── \n",
       "  Hello, how can I assist you?  \n",
       " <span style=\"color: #7f7f7f; text-decoration-color: #7f7f7f\"> No                           </span> \n",
       "                                \n",
       "</pre>\n"
      ],
      "text/plain": [
       "                                \n",
       " \u001b[1;35m \u001b[0m\u001b[1;35mresult                      \u001b[0m\u001b[1;35m \u001b[0m \n",
       " ────────────────────────────── \n",
       "  Hello, how can I assist you?  \n",
       " \u001b[2m \u001b[0m\u001b[2mNo                          \u001b[0m\u001b[2m \u001b[0m \n",
       "                                \n"
      ]
     },
     "metadata": {},
     "output_type": "display_data"
    }
   ],
   "source": [
    "from ally.utils.logs import print_dataframe\n",
    "\n",
    "\n",
    "print_dataframe(result)"
   ]
  }
 ],
 "metadata": {
  "kernelspec": {
   "display_name": "ally",
   "language": "python",
   "name": "python3"
  },
  "language_info": {
   "codemirror_mode": {
    "name": "ipython",
    "version": 3
   },
   "file_extension": ".py",
   "mimetype": "text/x-python",
   "name": "python",
   "nbconvert_exporter": "python",
   "pygments_lexer": "ipython3",
   "version": "3.11.6"
  }
 },
 "nbformat": 4,
 "nbformat_minor": 2
}
