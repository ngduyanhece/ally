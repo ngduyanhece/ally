{
 "cells": [
  {
   "cell_type": "markdown",
   "metadata": {},
   "source": [
    "# ALLY Quickstart\n",
    "\n",
    "In this notebook, we are going to run through some of the common tasks for creating data labeling agents with ALLY. In this example, we're going to create a data labeling agent for a text classification task - labeling our text samples as either \"Subjective or \"Objective\" statements. \n",
    "\n",
    "This agent will be LLM-based, so we will use [OpenAI's API](https://platform.openai.com/). You will to generate an API key and set it as an environment variable as follows: \n",
    "\n",
    "\n",
    "Now, let's begin. "
   ]
  },
  {
   "cell_type": "markdown",
   "metadata": {},
   "source": [
    "## Dataset Creation\n",
    "First, let's use a dataset of product reviews stored in pandas dataframe. This will help us manage our data as we add more attributes, like predictions and labels for subjectivity and objectivity over time. "
   ]
  },
  {
   "cell_type": "code",
   "execution_count": 1,
   "metadata": {},
   "outputs": [
    {
     "data": {
      "text/html": [
       "<div>\n",
       "<style scoped>\n",
       "    .dataframe tbody tr th:only-of-type {\n",
       "        vertical-align: middle;\n",
       "    }\n",
       "\n",
       "    .dataframe tbody tr th {\n",
       "        vertical-align: top;\n",
       "    }\n",
       "\n",
       "    .dataframe thead th {\n",
       "        text-align: right;\n",
       "    }\n",
       "</style>\n",
       "<table border=\"1\" class=\"dataframe\">\n",
       "  <thead>\n",
       "    <tr style=\"text-align: right;\">\n",
       "      <th></th>\n",
       "      <th>text</th>\n",
       "      <th>ground_truth</th>\n",
       "    </tr>\n",
       "  </thead>\n",
       "  <tbody>\n",
       "    <tr>\n",
       "      <th>0</th>\n",
       "      <td>The mic is great.</td>\n",
       "      <td>Subjective</td>\n",
       "    </tr>\n",
       "    <tr>\n",
       "      <th>1</th>\n",
       "      <td>Will order from them again!</td>\n",
       "      <td>Subjective</td>\n",
       "    </tr>\n",
       "    <tr>\n",
       "      <th>2</th>\n",
       "      <td>Not loud enough and doesn't turn on like it sh...</td>\n",
       "      <td>Objective</td>\n",
       "    </tr>\n",
       "    <tr>\n",
       "      <th>3</th>\n",
       "      <td>The phone doesn't seem to accept anything exce...</td>\n",
       "      <td>Objective</td>\n",
       "    </tr>\n",
       "    <tr>\n",
       "      <th>4</th>\n",
       "      <td>All three broke within two months of use.</td>\n",
       "      <td>Objective</td>\n",
       "    </tr>\n",
       "  </tbody>\n",
       "</table>\n",
       "</div>"
      ],
      "text/plain": [
       "                                                text ground_truth\n",
       "0                                  The mic is great.   Subjective\n",
       "1                        Will order from them again!   Subjective\n",
       "2  Not loud enough and doesn't turn on like it sh...    Objective\n",
       "3  The phone doesn't seem to accept anything exce...    Objective\n",
       "4          All three broke within two months of use.    Objective"
      ]
     },
     "execution_count": 1,
     "metadata": {},
     "output_type": "execute_result"
    }
   ],
   "source": [
    "import pandas as pd\n",
    "\n",
    "df = pd.DataFrame([\n",
    "  [\"The mic is great.\", \"Subjective\"],\n",
    "  [\"Will order from them again!\", \"Subjective\"],\n",
    "  [\"Not loud enough and doesn't turn on like it should.\", \"Objective\"],\n",
    "  [\"The phone doesn't seem to accept anything except CBR mp3s\", \"Objective\"],\n",
    "  [\"All three broke within two months of use.\", \"Objective\"]\n",
    "], columns=[\"text\", \"ground_truth\"])\n",
    "\n",
    "df"
   ]
  },
  {
   "cell_type": "markdown",
   "metadata": {},
   "source": [
    "We instantiate Dataset that uses this pandas dataframe as a data source. Dataset object takes care of input data schema and data streaming:"
   ]
  },
  {
   "cell_type": "code",
   "execution_count": 2,
   "metadata": {},
   "outputs": [],
   "source": [
    "import sys\n",
    "sys.path.append('../')\n",
    "\n",
    "from ally.datasets.dataframe import DataFrameDataset\n",
    "\n",
    "dataset = DataFrameDataset(df=df)"
   ]
  },
  {
   "cell_type": "markdown",
   "metadata": {},
   "source": [
    "## Create Agent\n",
    "\n",
    "To create Agent, we need to to define 2 things:\n",
    "\n",
    "**Skills** - Agent's abilities are defined as _Skills_. Each agent can possess many different skills. In our case, this agent only has one labeling skill, to produce a classification of Subjective or Objective for a given piece of text.  To define this skill, we will leverage an LLM, passing it instructions and the set of labeles we expect to receive back. \n",
    "\n",
    "**Environment** - that is where the Agent receives ground truth signal to improve its skill. Since we already created ground truth dataset, we can simply refer to the column from the dataframe. In the real world scenario, you may consider using a different environment where ground truth signal can be obtained asynchoronously by gathering real human feedback during agent's learning phase."
   ]
  },
  {
   "cell_type": "code",
   "execution_count": 3,
   "metadata": {},
   "outputs": [
    {
     "data": {
      "text/html": [
       "<pre style=\"white-space:pre;overflow-x:auto;line-height:normal;font-family:Menlo,'DejaVu Sans Mono',consolas,'Courier New',monospace\"><span style=\"color: #000080; text-decoration-color: #000080; font-weight: bold\">Agent Instance</span>\n",
       "\n",
       "Environment: BasicEnvironment\n",
       "Skills: subjectivity_detection\n",
       "Runtimes: openai\n",
       "Default Runtime: openai\n",
       "Default Teacher Runtime: openai-gpt4\n",
       "</pre>\n"
      ],
      "text/plain": [
       "\u001b[1;34mAgent Instance\u001b[0m\n",
       "\n",
       "Environment: BasicEnvironment\n",
       "Skills: subjectivity_detection\n",
       "Runtimes: openai\n",
       "Default Runtime: openai\n",
       "Default Teacher Runtime: openai-gpt4\n"
      ]
     },
     "metadata": {},
     "output_type": "display_data"
    }
   ],
   "source": [
    "from rich import print\n",
    "\n",
    "from ally.agents.base import Agent\n",
    "from ally.environments.base import BasicEnvironment\n",
    "from ally.runtimes.openai import OpenAIRuntime\n",
    "from ally.skills.labeling.classification import ClassificationSkill\n",
    "from app.core.settings import settings\n",
    "\n",
    "\n",
    "agent = Agent(\n",
    "    # define the agent's labeling skill that should classify text onto 2 categories\n",
    "    skills=ClassificationSkill(\n",
    "      name='subjectivity_detection',\n",
    "      description='Understanding subjective and objective statements from text.',\n",
    "      instruction_template='Classify a product review as either expressing \"Subjective\" or \"Objective\" statements.',\n",
    "      input_template='Review: {text}',\n",
    "    ),\n",
    "    \n",
    "    # basic environment extracts ground truth signal from the input records\n",
    "    environment=BasicEnvironment(\n",
    "      ground_truth_dataset=dataset,\n",
    "      ground_truth_columns={'subjectivity_detection': 'ground_truth'}\n",
    "    ),\n",
    "    \n",
    "    runtimes = {\n",
    "      # You can specify your OPENAI API KEY here via `OpenAIRuntime(..., api_key='your-api-key')`\n",
    "      'openai': OpenAIRuntime(\n",
    "        verbose=True,\n",
    "        api_key=settings.openai_api_key,\n",
    "        gpt_model_name=\"gpt-3.5-turbo\",\n",
    "      )\n",
    "    },\n",
    "    default_runtime='openai',\n",
    "    \n",
    "    teacher_runtimes = {\n",
    "      'openai-gpt3': OpenAIRuntime(\n",
    "        verbose=True,\n",
    "        api_key=settings.openai_api_key,\n",
    "        gpt_model_name=\"gpt-3.5-turbo\",\n",
    "        ),\n",
    "      'openai-gpt4': OpenAIRuntime(\n",
    "          verbose=True,\n",
    "          api_key=settings.openai_api_key,\n",
    "          gpt_model_name=\"gpt-4\",\n",
    "        )\n",
    "    },\n",
    "    \n",
    "    # NOTE! If you don't have an access to gpt4 - replace it with \"openai-gpt3\"\n",
    "    default_teacher_runtime='openai-gpt4'\n",
    ")\n",
    "\n",
    "print(agent)"
   ]
  },
  {
   "cell_type": "markdown",
   "metadata": {},
   "source": [
    "## Learning Agent\n",
    "\n",
    "We will now let Agent learn from the ground truth. After every action, Agent returns its _Experience_, where it stores various observations like predicted data, errors, accuracy, etc."
   ]
  },
  {
   "cell_type": "code",
   "execution_count": 4,
   "metadata": {},
   "outputs": [],
   "source": [
    "runtime = agent.get_runtime()\n",
    "teacher_runtime = agent.get_teacher_runtime()\n",
    "\n",
    "dataset = agent.environment.as_dataset()"
   ]
  },
  {
   "cell_type": "code",
   "execution_count": 5,
   "metadata": {},
   "outputs": [
    {
     "data": {
      "text/html": [
       "<pre style=\"white-space:pre;overflow-x:auto;line-height:normal;font-family:Menlo,'DejaVu Sans Mono',consolas,'Courier New',monospace\">Applying skill: subjectivity_detection\n",
       "</pre>\n"
      ],
      "text/plain": [
       "Applying skill: subjectivity_detection\n"
      ]
     },
     "metadata": {},
     "output_type": "display_data"
    },
    {
     "data": {
      "text/html": [
       "<pre style=\"white-space:pre;overflow-x:auto;line-height:normal;font-family:Menlo,'DejaVu Sans Mono',consolas,'Courier New',monospace\"><span style=\"font-weight: bold\">[</span><span style=\"color: #008000; text-decoration-color: #008000\">'text'</span><span style=\"font-weight: bold\">]</span>\n",
       "</pre>\n"
      ],
      "text/plain": [
       "\u001b[1m[\u001b[0m\u001b[32m'text'\u001b[0m\u001b[1m]\u001b[0m\n"
      ]
     },
     "metadata": {},
     "output_type": "display_data"
    },
    {
     "name": "stderr",
     "output_type": "stream",
     "text": [
      "  0%|          | 0/5 [00:00<?, ?it/s]"
     ]
    },
    {
     "data": {
      "text/html": [
       "<pre style=\"white-space:pre;overflow-x:auto;line-height:normal;font-family:Menlo,'DejaVu Sans Mono',consolas,'Courier New',monospace\"><span style=\"font-weight: bold\">{</span><span style=\"color: #008000; text-decoration-color: #008000\">'text'</span>: <span style=\"color: #008000; text-decoration-color: #008000\">'The mic is great.'</span>, <span style=\"color: #008000; text-decoration-color: #008000\">'ground_truth'</span>: <span style=\"color: #008000; text-decoration-color: #008000\">'Subjective'</span><span style=\"font-weight: bold\">}</span>\n",
       "</pre>\n"
      ],
      "text/plain": [
       "\u001b[1m{\u001b[0m\u001b[32m'text'\u001b[0m: \u001b[32m'The mic is great.'\u001b[0m, \u001b[32m'ground_truth'\u001b[0m: \u001b[32m'Subjective'\u001b[0m\u001b[1m}\u001b[0m\n"
      ]
     },
     "metadata": {},
     "output_type": "display_data"
    },
    {
     "name": "stderr",
     "output_type": "stream",
     "text": [
      " 40%|████      | 2/5 [00:04<00:07,  2.38s/it]"
     ]
    },
    {
     "data": {
      "text/html": [
       "<pre style=\"white-space:pre;overflow-x:auto;line-height:normal;font-family:Menlo,'DejaVu Sans Mono',consolas,'Courier New',monospace\"><span style=\"font-weight: bold\">{</span><span style=\"color: #008000; text-decoration-color: #008000\">'text'</span>: <span style=\"color: #008000; text-decoration-color: #008000\">'Will order from them again!'</span>, <span style=\"color: #008000; text-decoration-color: #008000\">'ground_truth'</span>: <span style=\"color: #008000; text-decoration-color: #008000\">'Subjective'</span><span style=\"font-weight: bold\">}</span>\n",
       "</pre>\n"
      ],
      "text/plain": [
       "\u001b[1m{\u001b[0m\u001b[32m'text'\u001b[0m: \u001b[32m'Will order from them again!'\u001b[0m, \u001b[32m'ground_truth'\u001b[0m: \u001b[32m'Subjective'\u001b[0m\u001b[1m}\u001b[0m\n"
      ]
     },
     "metadata": {},
     "output_type": "display_data"
    },
    {
     "name": "stderr",
     "output_type": "stream",
     "text": [
      " 60%|██████    | 3/5 [00:28<00:22, 11.38s/it]"
     ]
    },
    {
     "data": {
      "text/html": [
       "<pre style=\"white-space:pre;overflow-x:auto;line-height:normal;font-family:Menlo,'DejaVu Sans Mono',consolas,'Courier New',monospace\"><span style=\"font-weight: bold\">{</span><span style=\"color: #008000; text-decoration-color: #008000\">'text'</span>: <span style=\"color: #008000; text-decoration-color: #008000\">\"Not loud enough and doesn't turn on like it should.\"</span>, <span style=\"color: #008000; text-decoration-color: #008000\">'ground_truth'</span>: <span style=\"color: #008000; text-decoration-color: #008000\">'Objective'</span><span style=\"font-weight: bold\">}</span>\n",
       "</pre>\n"
      ],
      "text/plain": [
       "\u001b[1m{\u001b[0m\u001b[32m'text'\u001b[0m: \u001b[32m\"Not loud enough and doesn't turn on like it should.\"\u001b[0m, \u001b[32m'ground_truth'\u001b[0m: \u001b[32m'Objective'\u001b[0m\u001b[1m}\u001b[0m\n"
      ]
     },
     "metadata": {},
     "output_type": "display_data"
    },
    {
     "name": "stderr",
     "output_type": "stream",
     "text": [
      " 80%|████████  | 4/5 [00:33<00:09,  9.08s/it]"
     ]
    },
    {
     "data": {
      "text/html": [
       "<pre style=\"white-space:pre;overflow-x:auto;line-height:normal;font-family:Menlo,'DejaVu Sans Mono',consolas,'Courier New',monospace\"><span style=\"font-weight: bold\">{</span><span style=\"color: #008000; text-decoration-color: #008000\">'text'</span>: <span style=\"color: #008000; text-decoration-color: #008000\">\"The phone doesn't seem to accept anything except CBR mp3s\"</span>, <span style=\"color: #008000; text-decoration-color: #008000\">'ground_truth'</span>: <span style=\"color: #008000; text-decoration-color: #008000\">'Objective'</span><span style=\"font-weight: bold\">}</span>\n",
       "</pre>\n"
      ],
      "text/plain": [
       "\u001b[1m{\u001b[0m\u001b[32m'text'\u001b[0m: \u001b[32m\"The phone doesn't seem to accept anything except CBR mp3s\"\u001b[0m, \u001b[32m'ground_truth'\u001b[0m: \u001b[32m'Objective'\u001b[0m\u001b[1m}\u001b[0m\n"
      ]
     },
     "metadata": {},
     "output_type": "display_data"
    },
    {
     "name": "stderr",
     "output_type": "stream",
     "text": [
      "100%|██████████| 5/5 [00:40<00:00,  8.17s/it]"
     ]
    },
    {
     "data": {
      "text/html": [
       "<pre style=\"white-space:pre;overflow-x:auto;line-height:normal;font-family:Menlo,'DejaVu Sans Mono',consolas,'Courier New',monospace\"><span style=\"font-weight: bold\">{</span><span style=\"color: #008000; text-decoration-color: #008000\">'text'</span>: <span style=\"color: #008000; text-decoration-color: #008000\">'All three broke within two months of use.'</span>, <span style=\"color: #008000; text-decoration-color: #008000\">'ground_truth'</span>: <span style=\"color: #008000; text-decoration-color: #008000\">'Objective'</span><span style=\"font-weight: bold\">}</span>\n",
       "</pre>\n"
      ],
      "text/plain": [
       "\u001b[1m{\u001b[0m\u001b[32m'text'\u001b[0m: \u001b[32m'All three broke within two months of use.'\u001b[0m, \u001b[32m'ground_truth'\u001b[0m: \u001b[32m'Objective'\u001b[0m\u001b[1m}\u001b[0m\n"
      ]
     },
     "metadata": {},
     "output_type": "display_data"
    },
    {
     "name": "stderr",
     "output_type": "stream",
     "text": [
      "100%|██████████| 5/5 [00:46<00:00,  9.29s/it]\n"
     ]
    },
    {
     "data": {
      "text/html": [
       "<pre style=\"white-space:pre;overflow-x:auto;line-height:normal;font-family:Menlo,'DejaVu Sans Mono',consolas,'Courier New',monospace\">\n",
       "\n",
       "=&gt; Iteration #<span style=\"color: #008080; text-decoration-color: #008080; font-weight: bold\">0</span>: Comparing to ground truth, analyzing and improving <span style=\"color: #808000; text-decoration-color: #808000\">...</span>\n",
       "</pre>\n"
      ],
      "text/plain": [
       "\n",
       "\n",
       "=> Iteration #\u001b[1;36m0\u001b[0m: Comparing to ground truth, analyzing and improving \u001b[33m...\u001b[0m\n"
      ]
     },
     "metadata": {},
     "output_type": "display_data"
    },
    {
     "data": {
      "text/html": [
       "<pre style=\"white-space:pre;overflow-x:auto;line-height:normal;font-family:Menlo,'DejaVu Sans Mono',consolas,'Courier New',monospace\"><span style=\"color: #008080; text-decoration-color: #008080; font-weight: bold\">0</span>    Subjective\n",
       "<span style=\"color: #008080; text-decoration-color: #008080; font-weight: bold\">1</span>    Subjective\n",
       "<span style=\"color: #008080; text-decoration-color: #008080; font-weight: bold\">2</span>     Objective\n",
       "<span style=\"color: #008080; text-decoration-color: #008080; font-weight: bold\">3</span>     Objective\n",
       "<span style=\"color: #008080; text-decoration-color: #008080; font-weight: bold\">4</span>     Objective\n",
       "Name: ground_truth, dtype: object\n",
       "</pre>\n"
      ],
      "text/plain": [
       "\u001b[1;36m0\u001b[0m    Subjective\n",
       "\u001b[1;36m1\u001b[0m    Subjective\n",
       "\u001b[1;36m2\u001b[0m     Objective\n",
       "\u001b[1;36m3\u001b[0m     Objective\n",
       "\u001b[1;36m4\u001b[0m     Objective\n",
       "Name: ground_truth, dtype: object\n"
      ]
     },
     "metadata": {},
     "output_type": "display_data"
    },
    {
     "data": {
      "text/html": [
       "<pre style=\"white-space:pre;overflow-x:auto;line-height:normal;font-family:Menlo,'DejaVu Sans Mono',consolas,'Courier New',monospace\"><span style=\"color: #008080; text-decoration-color: #008080; font-weight: bold\">0</span>    Subjective\n",
       "<span style=\"color: #008080; text-decoration-color: #008080; font-weight: bold\">1</span>    Subjective\n",
       "<span style=\"color: #008080; text-decoration-color: #008080; font-weight: bold\">2</span>    Subjective\n",
       "<span style=\"color: #008080; text-decoration-color: #008080; font-weight: bold\">3</span>    Subjective\n",
       "<span style=\"color: #008080; text-decoration-color: #008080; font-weight: bold\">4</span>    Subjective\n",
       "Name: subjectivity_detection, dtype: object\n",
       "</pre>\n"
      ],
      "text/plain": [
       "\u001b[1;36m0\u001b[0m    Subjective\n",
       "\u001b[1;36m1\u001b[0m    Subjective\n",
       "\u001b[1;36m2\u001b[0m    Subjective\n",
       "\u001b[1;36m3\u001b[0m    Subjective\n",
       "\u001b[1;36m4\u001b[0m    Subjective\n",
       "Name: subjectivity_detection, dtype: object\n"
      ]
     },
     "metadata": {},
     "output_type": "display_data"
    },
    {
     "data": {
      "text/html": [
       "<pre style=\"white-space:pre;overflow-x:auto;line-height:normal;font-family:Menlo,'DejaVu Sans Mono',consolas,'Courier New',monospace\"> compare ground truth with predictions\n",
       "</pre>\n"
      ],
      "text/plain": [
       " compare ground truth with predictions\n"
      ]
     },
     "metadata": {},
     "output_type": "display_data"
    },
    {
     "data": {
      "text/html": [
       "<pre style=\"white-space:pre;overflow-x:auto;line-height:normal;font-family:Menlo,'DejaVu Sans Mono',consolas,'Courier New',monospace\">Comparing predictions to ground truth data <span style=\"color: #808000; text-decoration-color: #808000\">...</span>\n",
       "</pre>\n"
      ],
      "text/plain": [
       "Comparing predictions to ground truth data \u001b[33m...\u001b[0m\n"
      ]
     },
     "metadata": {},
     "output_type": "display_data"
    },
    {
     "data": {
      "text/html": [
       "<pre style=\"white-space:pre;overflow-x:auto;line-height:normal;font-family:Menlo,'DejaVu Sans Mono',consolas,'Courier New',monospace\">                                                                                                                   \n",
       " <span style=\"color: #800080; text-decoration-color: #800080; font-weight: bold\"> text                                  </span> <span style=\"color: #800080; text-decoration-color: #800080; font-weight: bold\"> ground_truth </span> <span style=\"color: #800080; text-decoration-color: #800080; font-weight: bold\"> subjectivity_detection </span> <span style=\"color: #800080; text-decoration-color: #800080; font-weight: bold\"> score  </span> <span style=\"color: #800080; text-decoration-color: #800080; font-weight: bold\"> subjectivity_detection </span> \n",
       " ───────────────────────────────────────────────────────────────────────────────────────────────────────────────── \n",
       "  The mic is great.                       Subjective     Subjective               -0.001   True                    \n",
       " <span style=\"color: #7f7f7f; text-decoration-color: #7f7f7f\"> Will order from them again!           </span> <span style=\"color: #7f7f7f; text-decoration-color: #7f7f7f\"> Subjective   </span> <span style=\"color: #7f7f7f; text-decoration-color: #7f7f7f\"> Subjective             </span> <span style=\"color: #7f7f7f; text-decoration-color: #7f7f7f\"> -0.001 </span> <span style=\"color: #7f7f7f; text-decoration-color: #7f7f7f\"> True                   </span> \n",
       "  Not loud enough and doesn't turn on     Objective      Subjective               -0.999   False                   \n",
       "  like it should.                                                                                                  \n",
       " <span style=\"color: #7f7f7f; text-decoration-color: #7f7f7f\"> The phone doesn't seem to accept      </span> <span style=\"color: #7f7f7f; text-decoration-color: #7f7f7f\"> Objective    </span> <span style=\"color: #7f7f7f; text-decoration-color: #7f7f7f\"> Subjective             </span> <span style=\"color: #7f7f7f; text-decoration-color: #7f7f7f\"> -0.001 </span> <span style=\"color: #7f7f7f; text-decoration-color: #7f7f7f\"> False                  </span> \n",
       " <span style=\"color: #7f7f7f; text-decoration-color: #7f7f7f\"> anything except CBR mp3s              </span> <span style=\"color: #7f7f7f; text-decoration-color: #7f7f7f\">              </span> <span style=\"color: #7f7f7f; text-decoration-color: #7f7f7f\">                        </span> <span style=\"color: #7f7f7f; text-decoration-color: #7f7f7f\">        </span> <span style=\"color: #7f7f7f; text-decoration-color: #7f7f7f\">                        </span> \n",
       "  All three broke within two months of    Objective      Subjective               -0.999   False                   \n",
       "  use.                                                                                                             \n",
       "                                                                                                                   \n",
       "</pre>\n"
      ],
      "text/plain": [
       "                                                                                                                   \n",
       " \u001b[1;35m \u001b[0m\u001b[1;35mtext                                 \u001b[0m\u001b[1;35m \u001b[0m \u001b[1;35m \u001b[0m\u001b[1;35mground_truth\u001b[0m\u001b[1;35m \u001b[0m \u001b[1;35m \u001b[0m\u001b[1;35msubjectivity_detection\u001b[0m\u001b[1;35m \u001b[0m \u001b[1;35m \u001b[0m\u001b[1;35mscore \u001b[0m\u001b[1;35m \u001b[0m \u001b[1;35m \u001b[0m\u001b[1;35msubjectivity_detection\u001b[0m\u001b[1;35m \u001b[0m \n",
       " ───────────────────────────────────────────────────────────────────────────────────────────────────────────────── \n",
       "  The mic is great.                       Subjective     Subjective               -0.001   True                    \n",
       " \u001b[2m \u001b[0m\u001b[2mWill order from them again!          \u001b[0m\u001b[2m \u001b[0m \u001b[2m \u001b[0m\u001b[2mSubjective  \u001b[0m\u001b[2m \u001b[0m \u001b[2m \u001b[0m\u001b[2mSubjective            \u001b[0m\u001b[2m \u001b[0m \u001b[2m \u001b[0m\u001b[2m-0.001\u001b[0m\u001b[2m \u001b[0m \u001b[2m \u001b[0m\u001b[2mTrue                  \u001b[0m\u001b[2m \u001b[0m \n",
       "  Not loud enough and doesn't turn on     Objective      Subjective               -0.999   False                   \n",
       "  like it should.                                                                                                  \n",
       " \u001b[2m \u001b[0m\u001b[2mThe phone doesn't seem to accept     \u001b[0m\u001b[2m \u001b[0m \u001b[2m \u001b[0m\u001b[2mObjective   \u001b[0m\u001b[2m \u001b[0m \u001b[2m \u001b[0m\u001b[2mSubjective            \u001b[0m\u001b[2m \u001b[0m \u001b[2m \u001b[0m\u001b[2m-0.001\u001b[0m\u001b[2m \u001b[0m \u001b[2m \u001b[0m\u001b[2mFalse                 \u001b[0m\u001b[2m \u001b[0m \n",
       " \u001b[2m \u001b[0m\u001b[2manything except CBR mp3s             \u001b[0m\u001b[2m \u001b[0m \u001b[2m              \u001b[0m \u001b[2m                        \u001b[0m \u001b[2m        \u001b[0m \u001b[2m                        \u001b[0m \n",
       "  All three broke within two months of    Objective      Subjective               -0.999   False                   \n",
       "  use.                                                                                                             \n",
       "                                                                                                                   \n"
      ]
     },
     "metadata": {},
     "output_type": "display_data"
    },
    {
     "data": {
      "text/html": [
       "<pre style=\"white-space:pre;overflow-x:auto;line-height:normal;font-family:Menlo,'DejaVu Sans Mono',consolas,'Courier New',monospace\"><span style=\"color: #800000; text-decoration-color: #800000; font-weight: bold\">Accuracy = </span><span style=\"color: #008080; text-decoration-color: #008080; font-weight: bold\">40.00</span><span style=\"color: #800000; text-decoration-color: #800000; font-weight: bold\">%</span>\n",
       "</pre>\n"
      ],
      "text/plain": [
       "\u001b[1;31mAccuracy = \u001b[0m\u001b[1;36m40.00\u001b[0m\u001b[1;31m%\u001b[0m\n"
      ]
     },
     "metadata": {},
     "output_type": "display_data"
    },
    {
     "data": {
      "text/html": [
       "<pre style=\"white-space:pre;overflow-x:auto;line-height:normal;font-family:Menlo,'DejaVu Sans Mono',consolas,'Courier New',monospace\">Analyze evaluation experience <span style=\"color: #808000; text-decoration-color: #808000\">...</span>\n",
       "</pre>\n"
      ],
      "text/plain": [
       "Analyze evaluation experience \u001b[33m...\u001b[0m\n"
      ]
     },
     "metadata": {},
     "output_type": "display_data"
    },
    {
     "data": {
      "text/html": [
       "<pre style=\"white-space:pre;overflow-x:auto;line-height:normal;font-family:Menlo,'DejaVu Sans Mono',consolas,'Courier New',monospace\"><span style=\"font-weight: bold\">[</span><span style=\"color: #008000; text-decoration-color: #008000\">'text'</span><span style=\"font-weight: bold\">]</span>\n",
       "</pre>\n"
      ],
      "text/plain": [
       "\u001b[1m[\u001b[0m\u001b[32m'text'\u001b[0m\u001b[1m]\u001b[0m\n"
      ]
     },
     "metadata": {},
     "output_type": "display_data"
    },
    {
     "name": "stderr",
     "output_type": "stream",
     "text": [
      "  0%|          | 0/3 [00:00<?, ?it/s]"
     ]
    },
    {
     "data": {
      "text/html": [
       "<pre style=\"white-space:pre;overflow-x:auto;line-height:normal;font-family:Menlo,'DejaVu Sans Mono',consolas,'Courier New',monospace\"><span style=\"font-weight: bold\">{</span><span style=\"color: #008000; text-decoration-color: #008000\">'text'</span>: <span style=\"color: #008000; text-decoration-color: #008000\">\"The phone doesn't seem to accept anything except CBR mp3s\"</span>, <span style=\"color: #008000; text-decoration-color: #008000\">'ground_truth'</span>: <span style=\"color: #008000; text-decoration-color: #008000\">'Objective'</span>, \n",
       "<span style=\"color: #008000; text-decoration-color: #008000\">'subjectivity_detection'</span>: <span style=\"color: #008000; text-decoration-color: #008000\">'Subjective'</span>, <span style=\"color: #008000; text-decoration-color: #008000\">'score'</span>: <span style=\"color: #008000; text-decoration-color: #008000\">'-0.001'</span><span style=\"font-weight: bold\">}</span>\n",
       "</pre>\n"
      ],
      "text/plain": [
       "\u001b[1m{\u001b[0m\u001b[32m'text'\u001b[0m: \u001b[32m\"The phone doesn't seem to accept anything except CBR mp3s\"\u001b[0m, \u001b[32m'ground_truth'\u001b[0m: \u001b[32m'Objective'\u001b[0m, \n",
       "\u001b[32m'subjectivity_detection'\u001b[0m: \u001b[32m'Subjective'\u001b[0m, \u001b[32m'score'\u001b[0m: \u001b[32m'-0.001'\u001b[0m\u001b[1m}\u001b[0m\n"
      ]
     },
     "metadata": {},
     "output_type": "display_data"
    },
    {
     "name": "stderr",
     "output_type": "stream",
     "text": [
      " 67%|██████▋   | 2/3 [00:05<00:02,  2.86s/it]"
     ]
    },
    {
     "data": {
      "text/html": [
       "<pre style=\"white-space:pre;overflow-x:auto;line-height:normal;font-family:Menlo,'DejaVu Sans Mono',consolas,'Courier New',monospace\"><span style=\"font-weight: bold\">{</span><span style=\"color: #008000; text-decoration-color: #008000\">'text'</span>: <span style=\"color: #008000; text-decoration-color: #008000\">'All three broke within two months of use.'</span>, <span style=\"color: #008000; text-decoration-color: #008000\">'ground_truth'</span>: <span style=\"color: #008000; text-decoration-color: #008000\">'Objective'</span>, <span style=\"color: #008000; text-decoration-color: #008000\">'subjectivity_detection'</span>: \n",
       "<span style=\"color: #008000; text-decoration-color: #008000\">'Subjective'</span>, <span style=\"color: #008000; text-decoration-color: #008000\">'score'</span>: <span style=\"color: #008000; text-decoration-color: #008000\">'-0.999'</span><span style=\"font-weight: bold\">}</span>\n",
       "</pre>\n"
      ],
      "text/plain": [
       "\u001b[1m{\u001b[0m\u001b[32m'text'\u001b[0m: \u001b[32m'All three broke within two months of use.'\u001b[0m, \u001b[32m'ground_truth'\u001b[0m: \u001b[32m'Objective'\u001b[0m, \u001b[32m'subjectivity_detection'\u001b[0m: \n",
       "\u001b[32m'Subjective'\u001b[0m, \u001b[32m'score'\u001b[0m: \u001b[32m'-0.999'\u001b[0m\u001b[1m}\u001b[0m\n"
      ]
     },
     "metadata": {},
     "output_type": "display_data"
    },
    {
     "name": "stderr",
     "output_type": "stream",
     "text": [
      "100%|██████████| 3/3 [00:15<00:00,  5.94s/it]"
     ]
    },
    {
     "data": {
      "text/html": [
       "<pre style=\"white-space:pre;overflow-x:auto;line-height:normal;font-family:Menlo,'DejaVu Sans Mono',consolas,'Courier New',monospace\"><span style=\"font-weight: bold\">{</span><span style=\"color: #008000; text-decoration-color: #008000\">'text'</span>: <span style=\"color: #008000; text-decoration-color: #008000\">\"Not loud enough and doesn't turn on like it should.\"</span>, <span style=\"color: #008000; text-decoration-color: #008000\">'ground_truth'</span>: <span style=\"color: #008000; text-decoration-color: #008000\">'Objective'</span>, \n",
       "<span style=\"color: #008000; text-decoration-color: #008000\">'subjectivity_detection'</span>: <span style=\"color: #008000; text-decoration-color: #008000\">'Subjective'</span>, <span style=\"color: #008000; text-decoration-color: #008000\">'score'</span>: <span style=\"color: #008000; text-decoration-color: #008000\">'-0.999'</span><span style=\"font-weight: bold\">}</span>\n",
       "</pre>\n"
      ],
      "text/plain": [
       "\u001b[1m{\u001b[0m\u001b[32m'text'\u001b[0m: \u001b[32m\"Not loud enough and doesn't turn on like it should.\"\u001b[0m, \u001b[32m'ground_truth'\u001b[0m: \u001b[32m'Objective'\u001b[0m, \n",
       "\u001b[32m'subjectivity_detection'\u001b[0m: \u001b[32m'Subjective'\u001b[0m, \u001b[32m'score'\u001b[0m: \u001b[32m'-0.999'\u001b[0m\u001b[1m}\u001b[0m\n"
      ]
     },
     "metadata": {},
     "output_type": "display_data"
    },
    {
     "name": "stderr",
     "output_type": "stream",
     "text": [
      "100%|██████████| 3/3 [00:27<00:00,  9.13s/it]\n"
     ]
    },
    {
     "data": {
      "text/html": [
       "<pre style=\"white-space:pre;overflow-x:auto;line-height:normal;font-family:Menlo,'DejaVu Sans Mono',consolas,'Courier New',monospace\"><span style=\"font-weight: bold\">[</span><span style=\"color: #008000; text-decoration-color: #008000\">'ground_truth'</span>, <span style=\"color: #008000; text-decoration-color: #008000\">'input'</span>, <span style=\"color: #008000; text-decoration-color: #008000\">'prediction'</span><span style=\"font-weight: bold\">]</span>\n",
       "</pre>\n"
      ],
      "text/plain": [
       "\u001b[1m[\u001b[0m\u001b[32m'ground_truth'\u001b[0m, \u001b[32m'input'\u001b[0m, \u001b[32m'prediction'\u001b[0m\u001b[1m]\u001b[0m\n"
      ]
     },
     "metadata": {},
     "output_type": "display_data"
    },
    {
     "name": "stderr",
     "output_type": "stream",
     "text": [
      "  0%|          | 0/3 [00:00<?, ?it/s]"
     ]
    },
    {
     "data": {
      "text/html": [
       "<pre style=\"white-space:pre;overflow-x:auto;line-height:normal;font-family:Menlo,'DejaVu Sans Mono',consolas,'Courier New',monospace\"><span style=\"font-weight: bold\">{</span><span style=\"color: #008000; text-decoration-color: #008000\">'input'</span>: <span style=\"color: #008000; text-decoration-color: #008000\">\"The phone doesn't seem to accept anything except CBR mp3s\"</span>, <span style=\"color: #008000; text-decoration-color: #008000\">'prediction'</span>: <span style=\"color: #008000; text-decoration-color: #008000\">'Subjective'</span>, <span style=\"color: #008000; text-decoration-color: #008000\">'ground_truth'</span>: \n",
       "<span style=\"color: #008000; text-decoration-color: #008000\">'Objective'</span><span style=\"font-weight: bold\">}</span>\n",
       "</pre>\n"
      ],
      "text/plain": [
       "\u001b[1m{\u001b[0m\u001b[32m'input'\u001b[0m: \u001b[32m\"The phone doesn't seem to accept anything except CBR mp3s\"\u001b[0m, \u001b[32m'prediction'\u001b[0m: \u001b[32m'Subjective'\u001b[0m, \u001b[32m'ground_truth'\u001b[0m: \n",
       "\u001b[32m'Objective'\u001b[0m\u001b[1m}\u001b[0m\n"
      ]
     },
     "metadata": {},
     "output_type": "display_data"
    },
    {
     "name": "stderr",
     "output_type": "stream",
     "text": [
      " 67%|██████▋   | 2/3 [00:03<00:01,  1.69s/it]"
     ]
    },
    {
     "data": {
      "text/html": [
       "<pre style=\"white-space:pre;overflow-x:auto;line-height:normal;font-family:Menlo,'DejaVu Sans Mono',consolas,'Courier New',monospace\"><span style=\"font-weight: bold\">{</span><span style=\"color: #008000; text-decoration-color: #008000\">'input'</span>: <span style=\"color: #008000; text-decoration-color: #008000\">'All three broke within two months of use.'</span>, <span style=\"color: #008000; text-decoration-color: #008000\">'prediction'</span>: <span style=\"color: #008000; text-decoration-color: #008000\">'Subjective'</span>, <span style=\"color: #008000; text-decoration-color: #008000\">'ground_truth'</span>: <span style=\"color: #008000; text-decoration-color: #008000\">'Objective'</span><span style=\"font-weight: bold\">}</span>\n",
       "</pre>\n"
      ],
      "text/plain": [
       "\u001b[1m{\u001b[0m\u001b[32m'input'\u001b[0m: \u001b[32m'All three broke within two months of use.'\u001b[0m, \u001b[32m'prediction'\u001b[0m: \u001b[32m'Subjective'\u001b[0m, \u001b[32m'ground_truth'\u001b[0m: \u001b[32m'Objective'\u001b[0m\u001b[1m}\u001b[0m\n"
      ]
     },
     "metadata": {},
     "output_type": "display_data"
    },
    {
     "name": "stderr",
     "output_type": "stream",
     "text": [
      "100%|██████████| 3/3 [00:07<00:00,  2.61s/it]"
     ]
    },
    {
     "data": {
      "text/html": [
       "<pre style=\"white-space:pre;overflow-x:auto;line-height:normal;font-family:Menlo,'DejaVu Sans Mono',consolas,'Courier New',monospace\"><span style=\"font-weight: bold\">{</span><span style=\"color: #008000; text-decoration-color: #008000\">'input'</span>: <span style=\"color: #008000; text-decoration-color: #008000\">\"Not loud enough and doesn't turn on like it should.\"</span>, <span style=\"color: #008000; text-decoration-color: #008000\">'prediction'</span>: <span style=\"color: #008000; text-decoration-color: #008000\">'Subjective'</span>, <span style=\"color: #008000; text-decoration-color: #008000\">'ground_truth'</span>: \n",
       "<span style=\"color: #008000; text-decoration-color: #008000\">'Objective'</span><span style=\"font-weight: bold\">}</span>\n",
       "</pre>\n"
      ],
      "text/plain": [
       "\u001b[1m{\u001b[0m\u001b[32m'input'\u001b[0m: \u001b[32m\"Not loud enough and doesn't turn on like it should.\"\u001b[0m, \u001b[32m'prediction'\u001b[0m: \u001b[32m'Subjective'\u001b[0m, \u001b[32m'ground_truth'\u001b[0m: \n",
       "\u001b[32m'Objective'\u001b[0m\u001b[1m}\u001b[0m\n"
      ]
     },
     "metadata": {},
     "output_type": "display_data"
    },
    {
     "name": "stderr",
     "output_type": "stream",
     "text": [
      "100%|██████████| 3/3 [00:13<00:00,  4.51s/it]\n"
     ]
    },
    {
     "data": {
      "text/html": [
       "<pre style=\"white-space:pre;overflow-x:auto;line-height:normal;font-family:Menlo,'DejaVu Sans Mono',consolas,'Courier New',monospace\"><span style=\"font-weight: bold\">[</span><span style=\"color: #008000; text-decoration-color: #008000\">'ground_truth'</span>, <span style=\"color: #008000; text-decoration-color: #008000\">'input'</span>, <span style=\"color: #008000; text-decoration-color: #008000\">'prediction'</span>, <span style=\"color: #008000; text-decoration-color: #008000\">'reason'</span><span style=\"font-weight: bold\">]</span>\n",
       "</pre>\n"
      ],
      "text/plain": [
       "\u001b[1m[\u001b[0m\u001b[32m'ground_truth'\u001b[0m, \u001b[32m'input'\u001b[0m, \u001b[32m'prediction'\u001b[0m, \u001b[32m'reason'\u001b[0m\u001b[1m]\u001b[0m\n"
      ]
     },
     "metadata": {},
     "output_type": "display_data"
    },
    {
     "name": "stderr",
     "output_type": "stream",
     "text": [
      "  0%|          | 0/3 [00:00<?, ?it/s]"
     ]
    },
    {
     "data": {
      "text/html": [
       "<pre style=\"white-space:pre;overflow-x:auto;line-height:normal;font-family:Menlo,'DejaVu Sans Mono',consolas,'Courier New',monospace\"><span style=\"font-weight: bold\">{</span><span style=\"color: #008000; text-decoration-color: #008000\">'input'</span>: <span style=\"color: #008000; text-decoration-color: #008000\">\"The phone doesn't seem to accept anything except CBR mp3s\"</span>, <span style=\"color: #008000; text-decoration-color: #008000\">'prediction'</span>: <span style=\"color: #008000; text-decoration-color: #008000\">'Subjective'</span>, <span style=\"color: #008000; text-decoration-color: #008000\">'ground_truth'</span>: \n",
       "<span style=\"color: #008000; text-decoration-color: #008000\">'Objective'</span>, <span style=\"color: #008000; text-decoration-color: #008000\">'reason'</span>: <span style=\"color: #008000; text-decoration-color: #008000\">'The model likely misinterpreted the statement as expressing a personal opinion or </span>\n",
       "<span style=\"color: #008000; text-decoration-color: #008000\">experience (subjective), when it is actually stating a factual characteristic of the product (objective).'</span><span style=\"font-weight: bold\">}</span>\n",
       "</pre>\n"
      ],
      "text/plain": [
       "\u001b[1m{\u001b[0m\u001b[32m'input'\u001b[0m: \u001b[32m\"The phone doesn't seem to accept anything except CBR mp3s\"\u001b[0m, \u001b[32m'prediction'\u001b[0m: \u001b[32m'Subjective'\u001b[0m, \u001b[32m'ground_truth'\u001b[0m: \n",
       "\u001b[32m'Objective'\u001b[0m, \u001b[32m'reason'\u001b[0m: \u001b[32m'The model likely misinterpreted the statement as expressing a personal opinion or \u001b[0m\n",
       "\u001b[32mexperience \u001b[0m\u001b[32m(\u001b[0m\u001b[32msubjective\u001b[0m\u001b[32m)\u001b[0m\u001b[32m, when it is actually stating a factual characteristic of the product \u001b[0m\u001b[32m(\u001b[0m\u001b[32mobjective\u001b[0m\u001b[32m)\u001b[0m\u001b[32m.'\u001b[0m\u001b[1m}\u001b[0m\n"
      ]
     },
     "metadata": {},
     "output_type": "display_data"
    },
    {
     "name": "stderr",
     "output_type": "stream",
     "text": [
      " 67%|██████▋   | 2/3 [00:05<00:02,  2.77s/it]"
     ]
    },
    {
     "data": {
      "text/html": [
       "<pre style=\"white-space:pre;overflow-x:auto;line-height:normal;font-family:Menlo,'DejaVu Sans Mono',consolas,'Courier New',monospace\"><span style=\"font-weight: bold\">{</span><span style=\"color: #008000; text-decoration-color: #008000\">'input'</span>: <span style=\"color: #008000; text-decoration-color: #008000\">'All three broke within two months of use.'</span>, <span style=\"color: #008000; text-decoration-color: #008000\">'prediction'</span>: <span style=\"color: #008000; text-decoration-color: #008000\">'Subjective'</span>, <span style=\"color: #008000; text-decoration-color: #008000\">'ground_truth'</span>: <span style=\"color: #008000; text-decoration-color: #008000\">'Objective'</span>, \n",
       "<span style=\"color: #008000; text-decoration-color: #008000\">'reason'</span>: <span style=\"color: #008000; text-decoration-color: #008000\">\"The model likely misclassified the input as 'Subjective' because it interpreted the phrase 'broke within</span>\n",
       "<span style=\"color: #008000; text-decoration-color: #008000\">two months of use' as expressing a personal experience or opinion, rather than a factual statement about the </span>\n",
       "<span style=\"color: #008000; text-decoration-color: #008000\">product's durability.\"</span><span style=\"font-weight: bold\">}</span>\n",
       "</pre>\n"
      ],
      "text/plain": [
       "\u001b[1m{\u001b[0m\u001b[32m'input'\u001b[0m: \u001b[32m'All three broke within two months of use.'\u001b[0m, \u001b[32m'prediction'\u001b[0m: \u001b[32m'Subjective'\u001b[0m, \u001b[32m'ground_truth'\u001b[0m: \u001b[32m'Objective'\u001b[0m, \n",
       "\u001b[32m'reason'\u001b[0m: \u001b[32m\"The model likely misclassified the input as 'Subjective' because it interpreted the phrase 'broke within\u001b[0m\n",
       "\u001b[32mtwo months of use' as expressing a personal experience or opinion, rather than a factual statement about the \u001b[0m\n",
       "\u001b[32mproduct's durability.\"\u001b[0m\u001b[1m}\u001b[0m\n"
      ]
     },
     "metadata": {},
     "output_type": "display_data"
    },
    {
     "name": "stderr",
     "output_type": "stream",
     "text": [
      "100%|██████████| 3/3 [00:12<00:00,  4.40s/it]"
     ]
    },
    {
     "data": {
      "text/html": [
       "<pre style=\"white-space:pre;overflow-x:auto;line-height:normal;font-family:Menlo,'DejaVu Sans Mono',consolas,'Courier New',monospace\"><span style=\"font-weight: bold\">{</span><span style=\"color: #008000; text-decoration-color: #008000\">'input'</span>: <span style=\"color: #008000; text-decoration-color: #008000\">\"Not loud enough and doesn't turn on like it should.\"</span>, <span style=\"color: #008000; text-decoration-color: #008000\">'prediction'</span>: <span style=\"color: #008000; text-decoration-color: #008000\">'Subjective'</span>, <span style=\"color: #008000; text-decoration-color: #008000\">'ground_truth'</span>: \n",
       "<span style=\"color: #008000; text-decoration-color: #008000\">'Objective'</span>, <span style=\"color: #008000; text-decoration-color: #008000\">'reason'</span>: <span style=\"color: #008000; text-decoration-color: #008000\">\"The model likely classified the review as 'Subjective' because it contains personal </span>\n",
       "<span style=\"color: #008000; text-decoration-color: #008000\">opinions and experiences of the user such as 'Not loud enough' and 'doesn't turn on like it should'. However, these</span>\n",
       "<span style=\"color: #008000; text-decoration-color: #008000\">are factual statements about the product's performance, making the review 'Objective'.\"</span><span style=\"font-weight: bold\">}</span>\n",
       "</pre>\n"
      ],
      "text/plain": [
       "\u001b[1m{\u001b[0m\u001b[32m'input'\u001b[0m: \u001b[32m\"Not loud enough and doesn't turn on like it should.\"\u001b[0m, \u001b[32m'prediction'\u001b[0m: \u001b[32m'Subjective'\u001b[0m, \u001b[32m'ground_truth'\u001b[0m: \n",
       "\u001b[32m'Objective'\u001b[0m, \u001b[32m'reason'\u001b[0m: \u001b[32m\"The model likely classified the review as 'Subjective' because it contains personal \u001b[0m\n",
       "\u001b[32mopinions and experiences of the user such as 'Not loud enough' and 'doesn't turn on like it should'. However, these\u001b[0m\n",
       "\u001b[32mare factual statements about the product's performance, making the review 'Objective'.\"\u001b[0m\u001b[1m}\u001b[0m\n"
      ]
     },
     "metadata": {},
     "output_type": "display_data"
    },
    {
     "name": "stderr",
     "output_type": "stream",
     "text": [
      "100%|██████████| 3/3 [00:22<00:00,  7.48s/it]\n"
     ]
    },
    {
     "data": {
      "text/html": [
       "<pre style=\"white-space:pre;overflow-x:auto;line-height:normal;font-family:Menlo,'DejaVu Sans Mono',consolas,'Courier New',monospace\">Error analysis for skill <span style=\"color: #008000; text-decoration-color: #008000\">\"subjectivity_detection\"</span>:\n",
       "\n",
       "</pre>\n"
      ],
      "text/plain": [
       "Error analysis for skill \u001b[32m\"subjectivity_detection\"\u001b[0m:\n",
       "\n"
      ]
     },
     "metadata": {},
     "output_type": "display_data"
    },
    {
     "data": {
      "text/html": [
       "<pre style=\"white-space:pre;overflow-x:auto;line-height:normal;font-family:Menlo,'DejaVu Sans Mono',consolas,'Courier New',monospace\"><span style=\"color: #008000; text-decoration-color: #008000\">Input: The phone doesn't seem to accept anything except CBR mp3s</span>\n",
       "\n",
       "<span style=\"color: #008000; text-decoration-color: #008000\">Prediction: Subjective</span>\n",
       "\n",
       "<span style=\"color: #008000; text-decoration-color: #008000\">Ground truth: Objective</span>\n",
       "\n",
       "<span style=\"color: #008000; text-decoration-color: #008000\">Error reason: The model likely misinterpreted the statement as expressing a personal opinion or experience </span>\n",
       "<span style=\"color: #008000; text-decoration-color: #008000; font-weight: bold\">(</span><span style=\"color: #008000; text-decoration-color: #008000\">subjective</span><span style=\"color: #008000; text-decoration-color: #008000; font-weight: bold\">)</span><span style=\"color: #008000; text-decoration-color: #008000\">, when it is actually stating a factual characteristic of the product </span><span style=\"color: #008000; text-decoration-color: #008000; font-weight: bold\">(</span><span style=\"color: #008000; text-decoration-color: #008000\">objective</span><span style=\"color: #008000; text-decoration-color: #008000; font-weight: bold\">)</span><span style=\"color: #008000; text-decoration-color: #008000\">. Input: All three </span>\n",
       "<span style=\"color: #008000; text-decoration-color: #008000\">broke within two months of use.</span>\n",
       "\n",
       "<span style=\"color: #008000; text-decoration-color: #008000\">Prediction: Subjective</span>\n",
       "\n",
       "<span style=\"color: #008000; text-decoration-color: #008000\">Ground truth: Objective</span>\n",
       "\n",
       "<span style=\"color: #008000; text-decoration-color: #008000\">Error reason: The model likely misclassified the input as </span><span style=\"color: #008000; text-decoration-color: #008000\">'Subjective'</span><span style=\"color: #008000; text-decoration-color: #008000\"> because it interpreted the phrase </span><span style=\"color: #008000; text-decoration-color: #008000\">'broke </span>\n",
       "<span style=\"color: #008000; text-decoration-color: #008000\">within two months of use'</span><span style=\"color: #008000; text-decoration-color: #008000\"> as expressing a personal experience or opinion, rather than a factual statement about the</span>\n",
       "<span style=\"color: #008000; text-decoration-color: #008000\">product's durability. Input: Not loud enough and doesn't turn on like it should.</span>\n",
       "\n",
       "<span style=\"color: #008000; text-decoration-color: #008000\">Prediction: Subjective</span>\n",
       "\n",
       "<span style=\"color: #008000; text-decoration-color: #008000\">Ground truth: Objective</span>\n",
       "\n",
       "<span style=\"color: #008000; text-decoration-color: #008000\">Error reason: The model likely classified the review as </span><span style=\"color: #008000; text-decoration-color: #008000\">'Subjective'</span><span style=\"color: #008000; text-decoration-color: #008000\"> because it contains personal opinions and </span>\n",
       "<span style=\"color: #008000; text-decoration-color: #008000\">experiences of the user such as </span><span style=\"color: #008000; text-decoration-color: #008000\">'Not loud enough'</span><span style=\"color: #008000; text-decoration-color: #008000\"> and </span><span style=\"color: #008000; text-decoration-color: #008000\">'doesn'</span><span style=\"color: #008000; text-decoration-color: #008000\">t turn on like it should'. However, these are factual </span>\n",
       "<span style=\"color: #008000; text-decoration-color: #008000\">statements about the product's performance, making the review </span><span style=\"color: #008000; text-decoration-color: #008000\">'Objective'</span><span style=\"color: #008000; text-decoration-color: #008000\">.</span>\n",
       "</pre>\n"
      ],
      "text/plain": [
       "\u001b[32mInput: The phone doesn't seem to accept anything except CBR mp3s\u001b[0m\n",
       "\n",
       "\u001b[32mPrediction: Subjective\u001b[0m\n",
       "\n",
       "\u001b[32mGround truth: Objective\u001b[0m\n",
       "\n",
       "\u001b[32mError reason: The model likely misinterpreted the statement as expressing a personal opinion or experience \u001b[0m\n",
       "\u001b[1;32m(\u001b[0m\u001b[32msubjective\u001b[0m\u001b[1;32m)\u001b[0m\u001b[32m, when it is actually stating a factual characteristic of the product \u001b[0m\u001b[1;32m(\u001b[0m\u001b[32mobjective\u001b[0m\u001b[1;32m)\u001b[0m\u001b[32m. Input: All three \u001b[0m\n",
       "\u001b[32mbroke within two months of use.\u001b[0m\n",
       "\n",
       "\u001b[32mPrediction: Subjective\u001b[0m\n",
       "\n",
       "\u001b[32mGround truth: Objective\u001b[0m\n",
       "\n",
       "\u001b[32mError reason: The model likely misclassified the input as \u001b[0m\u001b[32m'Subjective'\u001b[0m\u001b[32m because it interpreted the phrase \u001b[0m\u001b[32m'broke \u001b[0m\n",
       "\u001b[32mwithin two months of use'\u001b[0m\u001b[32m as expressing a personal experience or opinion, rather than a factual statement about the\u001b[0m\n",
       "\u001b[32mproduct's durability. Input: Not loud enough and doesn't turn on like it should.\u001b[0m\n",
       "\n",
       "\u001b[32mPrediction: Subjective\u001b[0m\n",
       "\n",
       "\u001b[32mGround truth: Objective\u001b[0m\n",
       "\n",
       "\u001b[32mError reason: The model likely classified the review as \u001b[0m\u001b[32m'Subjective'\u001b[0m\u001b[32m because it contains personal opinions and \u001b[0m\n",
       "\u001b[32mexperiences of the user such as \u001b[0m\u001b[32m'Not loud enough'\u001b[0m\u001b[32m and \u001b[0m\u001b[32m'doesn'\u001b[0m\u001b[32mt turn on like it should'. However, these are factual \u001b[0m\n",
       "\u001b[32mstatements about the product's performance, making the review \u001b[0m\u001b[32m'Objective'\u001b[0m\u001b[32m.\u001b[0m\n"
      ]
     },
     "metadata": {},
     "output_type": "display_data"
    },
    {
     "data": {
      "text/html": [
       "<pre style=\"white-space:pre;overflow-x:auto;line-height:normal;font-family:Menlo,'DejaVu Sans Mono',consolas,'Courier New',monospace\">Improve <span style=\"color: #008000; text-decoration-color: #008000\">\"subjectivity_detection\"</span> skill based on analysis <span style=\"color: #808000; text-decoration-color: #808000\">...</span>\n",
       "</pre>\n"
      ],
      "text/plain": [
       "Improve \u001b[32m\"subjectivity_detection\"\u001b[0m skill based on analysis \u001b[33m...\u001b[0m\n"
      ]
     },
     "metadata": {},
     "output_type": "display_data"
    },
    {
     "data": {
      "text/html": [
       "<pre style=\"white-space:pre;overflow-x:auto;line-height:normal;font-family:Menlo,'DejaVu Sans Mono',consolas,'Courier New',monospace\"><span style=\"font-weight: bold\">{</span><span style=\"color: #008000; text-decoration-color: #008000\">'error_analysis'</span>: <span style=\"color: #008000; text-decoration-color: #008000\">\"Input: The phone doesn't seem to accept anything except CBR mp3s\\n\\nPrediction: </span>\n",
       "<span style=\"color: #008000; text-decoration-color: #008000\">Subjective\\n\\nGround truth: Objective\\n\\nError reason: The model likely misinterpreted the statement as expressing </span>\n",
       "<span style=\"color: #008000; text-decoration-color: #008000\">a personal opinion or experience (subjective), when it is actually stating a factual characteristic of the product </span>\n",
       "<span style=\"color: #008000; text-decoration-color: #008000\">(objective). Input: All three broke within two months of use.\\n\\nPrediction: Subjective\\n\\nGround truth: </span>\n",
       "<span style=\"color: #008000; text-decoration-color: #008000\">Objective\\n\\nError reason: The model likely misclassified the input as 'Subjective' because it interpreted the </span>\n",
       "<span style=\"color: #008000; text-decoration-color: #008000\">phrase 'broke within two months of use' as expressing a personal experience or opinion, rather than a factual </span>\n",
       "<span style=\"color: #008000; text-decoration-color: #008000\">statement about the product's durability. Input: Not loud enough and doesn't turn on like it should.\\n\\nPrediction:</span>\n",
       "<span style=\"color: #008000; text-decoration-color: #008000\">Subjective\\n\\nGround truth: Objective\\n\\nError reason: The model likely classified the review as 'Subjective' </span>\n",
       "<span style=\"color: #008000; text-decoration-color: #008000\">because it contains personal opinions and experiences of the user such as 'Not loud enough' and 'doesn't turn on </span>\n",
       "<span style=\"color: #008000; text-decoration-color: #008000\">like it should'. However, these are factual statements about the product's performance, making the review </span>\n",
       "<span style=\"color: #008000; text-decoration-color: #008000\">'Objective'.\"</span><span style=\"font-weight: bold\">}</span>\n",
       "</pre>\n"
      ],
      "text/plain": [
       "\u001b[1m{\u001b[0m\u001b[32m'error_analysis'\u001b[0m: \u001b[32m\"Input: The phone doesn't seem to accept anything except CBR mp3s\\n\\nPrediction: \u001b[0m\n",
       "\u001b[32mSubjective\\n\\nGround truth: Objective\\n\\nError reason: The model likely misinterpreted the statement as expressing \u001b[0m\n",
       "\u001b[32ma personal opinion or experience \u001b[0m\u001b[32m(\u001b[0m\u001b[32msubjective\u001b[0m\u001b[32m)\u001b[0m\u001b[32m, when it is actually stating a factual characteristic of the product \u001b[0m\n",
       "\u001b[32m(\u001b[0m\u001b[32mobjective\u001b[0m\u001b[32m)\u001b[0m\u001b[32m. Input: All three broke within two months of use.\\n\\nPrediction: Subjective\\n\\nGround truth: \u001b[0m\n",
       "\u001b[32mObjective\\n\\nError reason: The model likely misclassified the input as 'Subjective' because it interpreted the \u001b[0m\n",
       "\u001b[32mphrase 'broke within two months of use' as expressing a personal experience or opinion, rather than a factual \u001b[0m\n",
       "\u001b[32mstatement about the product's durability. Input: Not loud enough and doesn't turn on like it should.\\n\\nPrediction:\u001b[0m\n",
       "\u001b[32mSubjective\\n\\nGround truth: Objective\\n\\nError reason: The model likely classified the review as 'Subjective' \u001b[0m\n",
       "\u001b[32mbecause it contains personal opinions and experiences of the user such as 'Not loud enough' and 'doesn't turn on \u001b[0m\n",
       "\u001b[32mlike it should'. However, these are factual statements about the product's performance, making the review \u001b[0m\n",
       "\u001b[32m'Objective'.\"\u001b[0m\u001b[1m}\u001b[0m\n"
      ]
     },
     "metadata": {},
     "output_type": "display_data"
    },
    {
     "data": {
      "text/html": [
       "<pre style=\"white-space:pre;overflow-x:auto;line-height:normal;font-family:Menlo,'DejaVu Sans Mono',consolas,'Courier New',monospace\">Updated instructions for skill <span style=\"color: #008000; text-decoration-color: #008000\">\"subjectivity_detection\"</span>:\n",
       "\n",
       "</pre>\n"
      ],
      "text/plain": [
       "Updated instructions for skill \u001b[32m\"subjectivity_detection\"\u001b[0m:\n",
       "\n"
      ]
     },
     "metadata": {},
     "output_type": "display_data"
    },
    {
     "data": {
      "text/html": [
       "<pre style=\"white-space:pre;overflow-x:auto;line-height:normal;font-family:Menlo,'DejaVu Sans Mono',consolas,'Courier New',monospace\"><span style=\"color: #008000; text-decoration-color: #008000; font-weight: bold\">Read the product review and determine if the statements made are based on factual information about the product </span>\n",
       "<span style=\"color: #008000; text-decoration-color: #008000; font-weight: bold\">(Objective) or if they are based on personal feelings, opinions, or experiences (Subjective). Remember, a statement</span>\n",
       "<span style=\"color: #008000; text-decoration-color: #008000; font-weight: bold\">can be objective even if it describes a negative aspect of the product or a problem encountered during use, as long</span>\n",
       "<span style=\"color: #008000; text-decoration-color: #008000; font-weight: bold\">as it is a factual observation and not an opinion or personal feeling.</span>\n",
       "</pre>\n"
      ],
      "text/plain": [
       "\u001b[1;32mRead the product review and determine if the statements made are based on factual information about the product \u001b[0m\n",
       "\u001b[1;32m(\u001b[0m\u001b[1;32mObjective\u001b[0m\u001b[1;32m)\u001b[0m\u001b[1;32m or if they are based on personal feelings, opinions, or experiences \u001b[0m\u001b[1;32m(\u001b[0m\u001b[1;32mSubjective\u001b[0m\u001b[1;32m)\u001b[0m\u001b[1;32m. Remember, a statement\u001b[0m\n",
       "\u001b[1;32mcan be objective even if it describes a negative aspect of the product or a problem encountered during use, as long\u001b[0m\n",
       "\u001b[1;32mas it is a factual observation and not an opinion or personal feeling.\u001b[0m\n"
      ]
     },
     "metadata": {},
     "output_type": "display_data"
    },
    {
     "data": {
      "text/html": [
       "<pre style=\"white-space:pre;overflow-x:auto;line-height:normal;font-family:Menlo,'DejaVu Sans Mono',consolas,'Courier New',monospace\">Re-apply subjectivity_detection skill to dataset <span style=\"color: #808000; text-decoration-color: #808000\">...</span>\n",
       "</pre>\n"
      ],
      "text/plain": [
       "Re-apply subjectivity_detection skill to dataset \u001b[33m...\u001b[0m\n"
      ]
     },
     "metadata": {},
     "output_type": "display_data"
    },
    {
     "data": {
      "text/html": [
       "<pre style=\"white-space:pre;overflow-x:auto;line-height:normal;font-family:Menlo,'DejaVu Sans Mono',consolas,'Courier New',monospace\">Applying skill: subjectivity_detection\n",
       "</pre>\n"
      ],
      "text/plain": [
       "Applying skill: subjectivity_detection\n"
      ]
     },
     "metadata": {},
     "output_type": "display_data"
    },
    {
     "data": {
      "text/html": [
       "<pre style=\"white-space:pre;overflow-x:auto;line-height:normal;font-family:Menlo,'DejaVu Sans Mono',consolas,'Courier New',monospace\"><span style=\"font-weight: bold\">[</span><span style=\"color: #008000; text-decoration-color: #008000\">'text'</span><span style=\"font-weight: bold\">]</span>\n",
       "</pre>\n"
      ],
      "text/plain": [
       "\u001b[1m[\u001b[0m\u001b[32m'text'\u001b[0m\u001b[1m]\u001b[0m\n"
      ]
     },
     "metadata": {},
     "output_type": "display_data"
    },
    {
     "name": "stderr",
     "output_type": "stream",
     "text": [
      "  0%|          | 0/5 [00:00<?, ?it/s]"
     ]
    },
    {
     "data": {
      "text/html": [
       "<pre style=\"white-space:pre;overflow-x:auto;line-height:normal;font-family:Menlo,'DejaVu Sans Mono',consolas,'Courier New',monospace\"><span style=\"font-weight: bold\">{</span><span style=\"color: #008000; text-decoration-color: #008000\">'text'</span>: <span style=\"color: #008000; text-decoration-color: #008000\">'The mic is great.'</span>, <span style=\"color: #008000; text-decoration-color: #008000\">'ground_truth'</span>: <span style=\"color: #008000; text-decoration-color: #008000\">'Subjective'</span>, <span style=\"color: #008000; text-decoration-color: #008000\">'subjectivity_detection'</span>: <span style=\"color: #008000; text-decoration-color: #008000\">'Subjective'</span>, <span style=\"color: #008000; text-decoration-color: #008000\">'score'</span>: \n",
       "<span style=\"color: #008000; text-decoration-color: #008000\">'-0.001'</span><span style=\"font-weight: bold\">}</span>\n",
       "</pre>\n"
      ],
      "text/plain": [
       "\u001b[1m{\u001b[0m\u001b[32m'text'\u001b[0m: \u001b[32m'The mic is great.'\u001b[0m, \u001b[32m'ground_truth'\u001b[0m: \u001b[32m'Subjective'\u001b[0m, \u001b[32m'subjectivity_detection'\u001b[0m: \u001b[32m'Subjective'\u001b[0m, \u001b[32m'score'\u001b[0m: \n",
       "\u001b[32m'-0.001'\u001b[0m\u001b[1m}\u001b[0m\n"
      ]
     },
     "metadata": {},
     "output_type": "display_data"
    },
    {
     "name": "stderr",
     "output_type": "stream",
     "text": [
      " 40%|████      | 2/5 [00:16<00:24,  8.20s/it]"
     ]
    },
    {
     "data": {
      "text/html": [
       "<pre style=\"white-space:pre;overflow-x:auto;line-height:normal;font-family:Menlo,'DejaVu Sans Mono',consolas,'Courier New',monospace\"><span style=\"font-weight: bold\">{</span><span style=\"color: #008000; text-decoration-color: #008000\">'text'</span>: <span style=\"color: #008000; text-decoration-color: #008000\">'Will order from them again!'</span>, <span style=\"color: #008000; text-decoration-color: #008000\">'ground_truth'</span>: <span style=\"color: #008000; text-decoration-color: #008000\">'Subjective'</span>, <span style=\"color: #008000; text-decoration-color: #008000\">'subjectivity_detection'</span>: <span style=\"color: #008000; text-decoration-color: #008000\">'Subjective'</span>, \n",
       "<span style=\"color: #008000; text-decoration-color: #008000\">'score'</span>: <span style=\"color: #008000; text-decoration-color: #008000\">'-0.001'</span><span style=\"font-weight: bold\">}</span>\n",
       "</pre>\n"
      ],
      "text/plain": [
       "\u001b[1m{\u001b[0m\u001b[32m'text'\u001b[0m: \u001b[32m'Will order from them again!'\u001b[0m, \u001b[32m'ground_truth'\u001b[0m: \u001b[32m'Subjective'\u001b[0m, \u001b[32m'subjectivity_detection'\u001b[0m: \u001b[32m'Subjective'\u001b[0m, \n",
       "\u001b[32m'score'\u001b[0m: \u001b[32m'-0.001'\u001b[0m\u001b[1m}\u001b[0m\n"
      ]
     },
     "metadata": {},
     "output_type": "display_data"
    },
    {
     "name": "stderr",
     "output_type": "stream",
     "text": [
      " 60%|██████    | 3/5 [00:20<00:12,  6.48s/it]"
     ]
    },
    {
     "data": {
      "text/html": [
       "<pre style=\"white-space:pre;overflow-x:auto;line-height:normal;font-family:Menlo,'DejaVu Sans Mono',consolas,'Courier New',monospace\"><span style=\"font-weight: bold\">{</span><span style=\"color: #008000; text-decoration-color: #008000\">'text'</span>: <span style=\"color: #008000; text-decoration-color: #008000\">\"Not loud enough and doesn't turn on like it should.\"</span>, <span style=\"color: #008000; text-decoration-color: #008000\">'ground_truth'</span>: <span style=\"color: #008000; text-decoration-color: #008000\">'Objective'</span>, \n",
       "<span style=\"color: #008000; text-decoration-color: #008000\">'subjectivity_detection'</span>: <span style=\"color: #008000; text-decoration-color: #008000\">'Subjective'</span>, <span style=\"color: #008000; text-decoration-color: #008000\">'score'</span>: <span style=\"color: #008000; text-decoration-color: #008000\">'-0.999'</span><span style=\"font-weight: bold\">}</span>\n",
       "</pre>\n"
      ],
      "text/plain": [
       "\u001b[1m{\u001b[0m\u001b[32m'text'\u001b[0m: \u001b[32m\"Not loud enough and doesn't turn on like it should.\"\u001b[0m, \u001b[32m'ground_truth'\u001b[0m: \u001b[32m'Objective'\u001b[0m, \n",
       "\u001b[32m'subjectivity_detection'\u001b[0m: \u001b[32m'Subjective'\u001b[0m, \u001b[32m'score'\u001b[0m: \u001b[32m'-0.999'\u001b[0m\u001b[1m}\u001b[0m\n"
      ]
     },
     "metadata": {},
     "output_type": "display_data"
    },
    {
     "name": "stderr",
     "output_type": "stream",
     "text": [
      " 80%|████████  | 4/5 [00:24<00:05,  5.59s/it]"
     ]
    },
    {
     "data": {
      "text/html": [
       "<pre style=\"white-space:pre;overflow-x:auto;line-height:normal;font-family:Menlo,'DejaVu Sans Mono',consolas,'Courier New',monospace\"><span style=\"font-weight: bold\">{</span><span style=\"color: #008000; text-decoration-color: #008000\">'text'</span>: <span style=\"color: #008000; text-decoration-color: #008000\">\"The phone doesn't seem to accept anything except CBR mp3s\"</span>, <span style=\"color: #008000; text-decoration-color: #008000\">'ground_truth'</span>: <span style=\"color: #008000; text-decoration-color: #008000\">'Objective'</span>, \n",
       "<span style=\"color: #008000; text-decoration-color: #008000\">'subjectivity_detection'</span>: <span style=\"color: #008000; text-decoration-color: #008000\">'Subjective'</span>, <span style=\"color: #008000; text-decoration-color: #008000\">'score'</span>: <span style=\"color: #008000; text-decoration-color: #008000\">'-0.001'</span><span style=\"font-weight: bold\">}</span>\n",
       "</pre>\n"
      ],
      "text/plain": [
       "\u001b[1m{\u001b[0m\u001b[32m'text'\u001b[0m: \u001b[32m\"The phone doesn't seem to accept anything except CBR mp3s\"\u001b[0m, \u001b[32m'ground_truth'\u001b[0m: \u001b[32m'Objective'\u001b[0m, \n",
       "\u001b[32m'subjectivity_detection'\u001b[0m: \u001b[32m'Subjective'\u001b[0m, \u001b[32m'score'\u001b[0m: \u001b[32m'-0.001'\u001b[0m\u001b[1m}\u001b[0m\n"
      ]
     },
     "metadata": {},
     "output_type": "display_data"
    },
    {
     "name": "stderr",
     "output_type": "stream",
     "text": [
      "100%|██████████| 5/5 [00:31<00:00,  6.13s/it]"
     ]
    },
    {
     "data": {
      "text/html": [
       "<pre style=\"white-space:pre;overflow-x:auto;line-height:normal;font-family:Menlo,'DejaVu Sans Mono',consolas,'Courier New',monospace\"><span style=\"font-weight: bold\">{</span><span style=\"color: #008000; text-decoration-color: #008000\">'text'</span>: <span style=\"color: #008000; text-decoration-color: #008000\">'All three broke within two months of use.'</span>, <span style=\"color: #008000; text-decoration-color: #008000\">'ground_truth'</span>: <span style=\"color: #008000; text-decoration-color: #008000\">'Objective'</span>, <span style=\"color: #008000; text-decoration-color: #008000\">'subjectivity_detection'</span>: \n",
       "<span style=\"color: #008000; text-decoration-color: #008000\">'Subjective'</span>, <span style=\"color: #008000; text-decoration-color: #008000\">'score'</span>: <span style=\"color: #008000; text-decoration-color: #008000\">'-0.999'</span><span style=\"font-weight: bold\">}</span>\n",
       "</pre>\n"
      ],
      "text/plain": [
       "\u001b[1m{\u001b[0m\u001b[32m'text'\u001b[0m: \u001b[32m'All three broke within two months of use.'\u001b[0m, \u001b[32m'ground_truth'\u001b[0m: \u001b[32m'Objective'\u001b[0m, \u001b[32m'subjectivity_detection'\u001b[0m: \n",
       "\u001b[32m'Subjective'\u001b[0m, \u001b[32m'score'\u001b[0m: \u001b[32m'-0.999'\u001b[0m\u001b[1m}\u001b[0m\n"
      ]
     },
     "metadata": {},
     "output_type": "display_data"
    },
    {
     "name": "stderr",
     "output_type": "stream",
     "text": [
      "100%|██████████| 5/5 [00:35<00:00,  7.19s/it]\n"
     ]
    },
    {
     "data": {
      "text/html": [
       "<pre style=\"white-space:pre;overflow-x:auto;line-height:normal;font-family:Menlo,'DejaVu Sans Mono',consolas,'Courier New',monospace\">\n",
       "\n",
       "=&gt; Iteration #<span style=\"color: #008080; text-decoration-color: #008080; font-weight: bold\">1</span>: Comparing to ground truth, analyzing and improving <span style=\"color: #808000; text-decoration-color: #808000\">...</span>\n",
       "</pre>\n"
      ],
      "text/plain": [
       "\n",
       "\n",
       "=> Iteration #\u001b[1;36m1\u001b[0m: Comparing to ground truth, analyzing and improving \u001b[33m...\u001b[0m\n"
      ]
     },
     "metadata": {},
     "output_type": "display_data"
    },
    {
     "data": {
      "text/html": [
       "<pre style=\"white-space:pre;overflow-x:auto;line-height:normal;font-family:Menlo,'DejaVu Sans Mono',consolas,'Courier New',monospace\"><span style=\"color: #008080; text-decoration-color: #008080; font-weight: bold\">0</span>    Subjective\n",
       "<span style=\"color: #008080; text-decoration-color: #008080; font-weight: bold\">1</span>    Subjective\n",
       "<span style=\"color: #008080; text-decoration-color: #008080; font-weight: bold\">2</span>     Objective\n",
       "<span style=\"color: #008080; text-decoration-color: #008080; font-weight: bold\">3</span>     Objective\n",
       "<span style=\"color: #008080; text-decoration-color: #008080; font-weight: bold\">4</span>     Objective\n",
       "Name: ground_truth, dtype: object\n",
       "</pre>\n"
      ],
      "text/plain": [
       "\u001b[1;36m0\u001b[0m    Subjective\n",
       "\u001b[1;36m1\u001b[0m    Subjective\n",
       "\u001b[1;36m2\u001b[0m     Objective\n",
       "\u001b[1;36m3\u001b[0m     Objective\n",
       "\u001b[1;36m4\u001b[0m     Objective\n",
       "Name: ground_truth, dtype: object\n"
      ]
     },
     "metadata": {},
     "output_type": "display_data"
    },
    {
     "data": {
      "text/html": [
       "<pre style=\"white-space:pre;overflow-x:auto;line-height:normal;font-family:Menlo,'DejaVu Sans Mono',consolas,'Courier New',monospace\"><span style=\"color: #008080; text-decoration-color: #008080; font-weight: bold\">0</span>     Objective\n",
       "<span style=\"color: #008080; text-decoration-color: #008080; font-weight: bold\">1</span>      Positive\n",
       "<span style=\"color: #008080; text-decoration-color: #008080; font-weight: bold\">2</span>    Subjective\n",
       "<span style=\"color: #008080; text-decoration-color: #008080; font-weight: bold\">3</span>     Objective\n",
       "<span style=\"color: #008080; text-decoration-color: #008080; font-weight: bold\">4</span>     Objective\n",
       "Name: subjectivity_detection, dtype: object\n",
       "</pre>\n"
      ],
      "text/plain": [
       "\u001b[1;36m0\u001b[0m     Objective\n",
       "\u001b[1;36m1\u001b[0m      Positive\n",
       "\u001b[1;36m2\u001b[0m    Subjective\n",
       "\u001b[1;36m3\u001b[0m     Objective\n",
       "\u001b[1;36m4\u001b[0m     Objective\n",
       "Name: subjectivity_detection, dtype: object\n"
      ]
     },
     "metadata": {},
     "output_type": "display_data"
    },
    {
     "data": {
      "text/html": [
       "<pre style=\"white-space:pre;overflow-x:auto;line-height:normal;font-family:Menlo,'DejaVu Sans Mono',consolas,'Courier New',monospace\"> compare ground truth with predictions\n",
       "</pre>\n"
      ],
      "text/plain": [
       " compare ground truth with predictions\n"
      ]
     },
     "metadata": {},
     "output_type": "display_data"
    },
    {
     "data": {
      "text/html": [
       "<pre style=\"white-space:pre;overflow-x:auto;line-height:normal;font-family:Menlo,'DejaVu Sans Mono',consolas,'Courier New',monospace\">Comparing predictions to ground truth data <span style=\"color: #808000; text-decoration-color: #808000\">...</span>\n",
       "</pre>\n"
      ],
      "text/plain": [
       "Comparing predictions to ground truth data \u001b[33m...\u001b[0m\n"
      ]
     },
     "metadata": {},
     "output_type": "display_data"
    },
    {
     "data": {
      "text/html": [
       "<pre style=\"white-space:pre;overflow-x:auto;line-height:normal;font-family:Menlo,'DejaVu Sans Mono',consolas,'Courier New',monospace\">                                                                                                                   \n",
       " <span style=\"color: #800080; text-decoration-color: #800080; font-weight: bold\"> text                              </span> <span style=\"color: #800080; text-decoration-color: #800080; font-weight: bold\"> ground_truth </span> <span style=\"color: #800080; text-decoration-color: #800080; font-weight: bold\"> subjectivity_detection </span> <span style=\"color: #800080; text-decoration-color: #800080; font-weight: bold\"> score      </span> <span style=\"color: #800080; text-decoration-color: #800080; font-weight: bold\"> subjectivity_detection </span> \n",
       " ───────────────────────────────────────────────────────────────────────────────────────────────────────────────── \n",
       "  The mic is great.                   Subjective     Objective                0.99         False                   \n",
       " <span style=\"color: #7f7f7f; text-decoration-color: #7f7f7f\"> Will order from them again!       </span> <span style=\"color: #7f7f7f; text-decoration-color: #7f7f7f\"> Subjective   </span> <span style=\"color: #7f7f7f; text-decoration-color: #7f7f7f\"> Positive               </span> <span style=\"color: #7f7f7f; text-decoration-color: #7f7f7f\"> 0.9876     </span> <span style=\"color: #7f7f7f; text-decoration-color: #7f7f7f\"> False                  </span> \n",
       "  Not loud enough and doesn't turn    Objective      Subjective               Subjective   False                   \n",
       "  on like it should.                                                                                               \n",
       " <span style=\"color: #7f7f7f; text-decoration-color: #7f7f7f\"> The phone doesn't seem to accept  </span> <span style=\"color: #7f7f7f; text-decoration-color: #7f7f7f\"> Objective    </span> <span style=\"color: #7f7f7f; text-decoration-color: #7f7f7f\"> Objective              </span> <span style=\"color: #7f7f7f; text-decoration-color: #7f7f7f\"> 0.9999     </span> <span style=\"color: #7f7f7f; text-decoration-color: #7f7f7f\"> True                   </span> \n",
       " <span style=\"color: #7f7f7f; text-decoration-color: #7f7f7f\"> anything except CBR mp3s          </span> <span style=\"color: #7f7f7f; text-decoration-color: #7f7f7f\">              </span> <span style=\"color: #7f7f7f; text-decoration-color: #7f7f7f\">                        </span> <span style=\"color: #7f7f7f; text-decoration-color: #7f7f7f\">            </span> <span style=\"color: #7f7f7f; text-decoration-color: #7f7f7f\">                        </span> \n",
       "  All three broke within two months   Objective      Objective                -5.234       True                    \n",
       "  of use.                                                                                                          \n",
       "                                                                                                                   \n",
       "</pre>\n"
      ],
      "text/plain": [
       "                                                                                                                   \n",
       " \u001b[1;35m \u001b[0m\u001b[1;35mtext                             \u001b[0m\u001b[1;35m \u001b[0m \u001b[1;35m \u001b[0m\u001b[1;35mground_truth\u001b[0m\u001b[1;35m \u001b[0m \u001b[1;35m \u001b[0m\u001b[1;35msubjectivity_detection\u001b[0m\u001b[1;35m \u001b[0m \u001b[1;35m \u001b[0m\u001b[1;35mscore     \u001b[0m\u001b[1;35m \u001b[0m \u001b[1;35m \u001b[0m\u001b[1;35msubjectivity_detection\u001b[0m\u001b[1;35m \u001b[0m \n",
       " ───────────────────────────────────────────────────────────────────────────────────────────────────────────────── \n",
       "  The mic is great.                   Subjective     Objective                0.99         False                   \n",
       " \u001b[2m \u001b[0m\u001b[2mWill order from them again!      \u001b[0m\u001b[2m \u001b[0m \u001b[2m \u001b[0m\u001b[2mSubjective  \u001b[0m\u001b[2m \u001b[0m \u001b[2m \u001b[0m\u001b[2mPositive              \u001b[0m\u001b[2m \u001b[0m \u001b[2m \u001b[0m\u001b[2m0.9876    \u001b[0m\u001b[2m \u001b[0m \u001b[2m \u001b[0m\u001b[2mFalse                 \u001b[0m\u001b[2m \u001b[0m \n",
       "  Not loud enough and doesn't turn    Objective      Subjective               Subjective   False                   \n",
       "  on like it should.                                                                                               \n",
       " \u001b[2m \u001b[0m\u001b[2mThe phone doesn't seem to accept \u001b[0m\u001b[2m \u001b[0m \u001b[2m \u001b[0m\u001b[2mObjective   \u001b[0m\u001b[2m \u001b[0m \u001b[2m \u001b[0m\u001b[2mObjective             \u001b[0m\u001b[2m \u001b[0m \u001b[2m \u001b[0m\u001b[2m0.9999    \u001b[0m\u001b[2m \u001b[0m \u001b[2m \u001b[0m\u001b[2mTrue                  \u001b[0m\u001b[2m \u001b[0m \n",
       " \u001b[2m \u001b[0m\u001b[2manything except CBR mp3s         \u001b[0m\u001b[2m \u001b[0m \u001b[2m              \u001b[0m \u001b[2m                        \u001b[0m \u001b[2m            \u001b[0m \u001b[2m                        \u001b[0m \n",
       "  All three broke within two months   Objective      Objective                -5.234       True                    \n",
       "  of use.                                                                                                          \n",
       "                                                                                                                   \n"
      ]
     },
     "metadata": {},
     "output_type": "display_data"
    },
    {
     "data": {
      "text/html": [
       "<pre style=\"white-space:pre;overflow-x:auto;line-height:normal;font-family:Menlo,'DejaVu Sans Mono',consolas,'Courier New',monospace\"><span style=\"color: #800000; text-decoration-color: #800000; font-weight: bold\">Accuracy = </span><span style=\"color: #008080; text-decoration-color: #008080; font-weight: bold\">40.00</span><span style=\"color: #800000; text-decoration-color: #800000; font-weight: bold\">%</span>\n",
       "</pre>\n"
      ],
      "text/plain": [
       "\u001b[1;31mAccuracy = \u001b[0m\u001b[1;36m40.00\u001b[0m\u001b[1;31m%\u001b[0m\n"
      ]
     },
     "metadata": {},
     "output_type": "display_data"
    },
    {
     "data": {
      "text/html": [
       "<pre style=\"white-space:pre;overflow-x:auto;line-height:normal;font-family:Menlo,'DejaVu Sans Mono',consolas,'Courier New',monospace\">Analyze evaluation experience <span style=\"color: #808000; text-decoration-color: #808000\">...</span>\n",
       "</pre>\n"
      ],
      "text/plain": [
       "Analyze evaluation experience \u001b[33m...\u001b[0m\n"
      ]
     },
     "metadata": {},
     "output_type": "display_data"
    },
    {
     "data": {
      "text/html": [
       "<pre style=\"white-space:pre;overflow-x:auto;line-height:normal;font-family:Menlo,'DejaVu Sans Mono',consolas,'Courier New',monospace\"><span style=\"font-weight: bold\">[</span><span style=\"color: #008000; text-decoration-color: #008000\">'text'</span><span style=\"font-weight: bold\">]</span>\n",
       "</pre>\n"
      ],
      "text/plain": [
       "\u001b[1m[\u001b[0m\u001b[32m'text'\u001b[0m\u001b[1m]\u001b[0m\n"
      ]
     },
     "metadata": {},
     "output_type": "display_data"
    },
    {
     "name": "stderr",
     "output_type": "stream",
     "text": [
      "  0%|          | 0/3 [00:00<?, ?it/s]"
     ]
    },
    {
     "data": {
      "text/html": [
       "<pre style=\"white-space:pre;overflow-x:auto;line-height:normal;font-family:Menlo,'DejaVu Sans Mono',consolas,'Courier New',monospace\"><span style=\"font-weight: bold\">{</span><span style=\"color: #008000; text-decoration-color: #008000\">'text'</span>: <span style=\"color: #008000; text-decoration-color: #008000\">\"Not loud enough and doesn't turn on like it should.\"</span>, <span style=\"color: #008000; text-decoration-color: #008000\">'ground_truth'</span>: <span style=\"color: #008000; text-decoration-color: #008000\">'Objective'</span>, \n",
       "<span style=\"color: #008000; text-decoration-color: #008000\">'subjectivity_detection'</span>: <span style=\"color: #008000; text-decoration-color: #008000\">'Subjective'</span>, <span style=\"color: #008000; text-decoration-color: #008000\">'score'</span>: <span style=\"color: #008000; text-decoration-color: #008000\">'Subjective'</span><span style=\"font-weight: bold\">}</span>\n",
       "</pre>\n"
      ],
      "text/plain": [
       "\u001b[1m{\u001b[0m\u001b[32m'text'\u001b[0m: \u001b[32m\"Not loud enough and doesn't turn on like it should.\"\u001b[0m, \u001b[32m'ground_truth'\u001b[0m: \u001b[32m'Objective'\u001b[0m, \n",
       "\u001b[32m'subjectivity_detection'\u001b[0m: \u001b[32m'Subjective'\u001b[0m, \u001b[32m'score'\u001b[0m: \u001b[32m'Subjective'\u001b[0m\u001b[1m}\u001b[0m\n"
      ]
     },
     "metadata": {},
     "output_type": "display_data"
    },
    {
     "name": "stderr",
     "output_type": "stream",
     "text": [
      " 67%|██████▋   | 2/3 [00:04<00:02,  2.50s/it]"
     ]
    },
    {
     "data": {
      "text/html": [
       "<pre style=\"white-space:pre;overflow-x:auto;line-height:normal;font-family:Menlo,'DejaVu Sans Mono',consolas,'Courier New',monospace\"><span style=\"font-weight: bold\">{</span><span style=\"color: #008000; text-decoration-color: #008000\">'text'</span>: <span style=\"color: #008000; text-decoration-color: #008000\">'The mic is great.'</span>, <span style=\"color: #008000; text-decoration-color: #008000\">'ground_truth'</span>: <span style=\"color: #008000; text-decoration-color: #008000\">'Subjective'</span>, <span style=\"color: #008000; text-decoration-color: #008000\">'subjectivity_detection'</span>: <span style=\"color: #008000; text-decoration-color: #008000\">'Objective'</span>, <span style=\"color: #008000; text-decoration-color: #008000\">'score'</span>: <span style=\"color: #008000; text-decoration-color: #008000\">'0.99'</span><span style=\"font-weight: bold\">}</span>\n",
       "</pre>\n"
      ],
      "text/plain": [
       "\u001b[1m{\u001b[0m\u001b[32m'text'\u001b[0m: \u001b[32m'The mic is great.'\u001b[0m, \u001b[32m'ground_truth'\u001b[0m: \u001b[32m'Subjective'\u001b[0m, \u001b[32m'subjectivity_detection'\u001b[0m: \u001b[32m'Objective'\u001b[0m, \u001b[32m'score'\u001b[0m: \u001b[32m'0.99'\u001b[0m\u001b[1m}\u001b[0m\n"
      ]
     },
     "metadata": {},
     "output_type": "display_data"
    },
    {
     "name": "stderr",
     "output_type": "stream",
     "text": [
      "100%|██████████| 3/3 [00:08<00:00,  3.06s/it]"
     ]
    },
    {
     "data": {
      "text/html": [
       "<pre style=\"white-space:pre;overflow-x:auto;line-height:normal;font-family:Menlo,'DejaVu Sans Mono',consolas,'Courier New',monospace\"><span style=\"font-weight: bold\">{</span><span style=\"color: #008000; text-decoration-color: #008000\">'text'</span>: <span style=\"color: #008000; text-decoration-color: #008000\">'Will order from them again!'</span>, <span style=\"color: #008000; text-decoration-color: #008000\">'ground_truth'</span>: <span style=\"color: #008000; text-decoration-color: #008000\">'Subjective'</span>, <span style=\"color: #008000; text-decoration-color: #008000\">'subjectivity_detection'</span>: <span style=\"color: #008000; text-decoration-color: #008000\">'Positive'</span>, \n",
       "<span style=\"color: #008000; text-decoration-color: #008000\">'score'</span>: <span style=\"color: #008000; text-decoration-color: #008000\">'0.9876'</span><span style=\"font-weight: bold\">}</span>\n",
       "</pre>\n"
      ],
      "text/plain": [
       "\u001b[1m{\u001b[0m\u001b[32m'text'\u001b[0m: \u001b[32m'Will order from them again!'\u001b[0m, \u001b[32m'ground_truth'\u001b[0m: \u001b[32m'Subjective'\u001b[0m, \u001b[32m'subjectivity_detection'\u001b[0m: \u001b[32m'Positive'\u001b[0m, \n",
       "\u001b[32m'score'\u001b[0m: \u001b[32m'0.9876'\u001b[0m\u001b[1m}\u001b[0m\n"
      ]
     },
     "metadata": {},
     "output_type": "display_data"
    },
    {
     "name": "stderr",
     "output_type": "stream",
     "text": [
      "100%|██████████| 3/3 [00:12<00:00,  4.29s/it]\n"
     ]
    },
    {
     "data": {
      "text/html": [
       "<pre style=\"white-space:pre;overflow-x:auto;line-height:normal;font-family:Menlo,'DejaVu Sans Mono',consolas,'Courier New',monospace\"><span style=\"font-weight: bold\">[</span><span style=\"color: #008000; text-decoration-color: #008000\">'ground_truth'</span>, <span style=\"color: #008000; text-decoration-color: #008000\">'input'</span>, <span style=\"color: #008000; text-decoration-color: #008000\">'prediction'</span><span style=\"font-weight: bold\">]</span>\n",
       "</pre>\n"
      ],
      "text/plain": [
       "\u001b[1m[\u001b[0m\u001b[32m'ground_truth'\u001b[0m, \u001b[32m'input'\u001b[0m, \u001b[32m'prediction'\u001b[0m\u001b[1m]\u001b[0m\n"
      ]
     },
     "metadata": {},
     "output_type": "display_data"
    },
    {
     "name": "stderr",
     "output_type": "stream",
     "text": [
      "  0%|          | 0/3 [00:00<?, ?it/s]"
     ]
    },
    {
     "data": {
      "text/html": [
       "<pre style=\"white-space:pre;overflow-x:auto;line-height:normal;font-family:Menlo,'DejaVu Sans Mono',consolas,'Courier New',monospace\"><span style=\"font-weight: bold\">{</span><span style=\"color: #008000; text-decoration-color: #008000\">'input'</span>: <span style=\"color: #008000; text-decoration-color: #008000\">\"Not loud enough and doesn't turn on like it should.\"</span>, <span style=\"color: #008000; text-decoration-color: #008000\">'prediction'</span>: <span style=\"color: #008000; text-decoration-color: #008000\">'Subjective'</span>, <span style=\"color: #008000; text-decoration-color: #008000\">'ground_truth'</span>: \n",
       "<span style=\"color: #008000; text-decoration-color: #008000\">'Objective'</span><span style=\"font-weight: bold\">}</span>\n",
       "</pre>\n"
      ],
      "text/plain": [
       "\u001b[1m{\u001b[0m\u001b[32m'input'\u001b[0m: \u001b[32m\"Not loud enough and doesn't turn on like it should.\"\u001b[0m, \u001b[32m'prediction'\u001b[0m: \u001b[32m'Subjective'\u001b[0m, \u001b[32m'ground_truth'\u001b[0m: \n",
       "\u001b[32m'Objective'\u001b[0m\u001b[1m}\u001b[0m\n"
      ]
     },
     "metadata": {},
     "output_type": "display_data"
    },
    {
     "name": "stderr",
     "output_type": "stream",
     "text": [
      " 67%|██████▋   | 2/3 [00:03<00:01,  1.95s/it]"
     ]
    },
    {
     "data": {
      "text/html": [
       "<pre style=\"white-space:pre;overflow-x:auto;line-height:normal;font-family:Menlo,'DejaVu Sans Mono',consolas,'Courier New',monospace\"><span style=\"font-weight: bold\">{</span><span style=\"color: #008000; text-decoration-color: #008000\">'input'</span>: <span style=\"color: #008000; text-decoration-color: #008000\">'The mic is great.'</span>, <span style=\"color: #008000; text-decoration-color: #008000\">'prediction'</span>: <span style=\"color: #008000; text-decoration-color: #008000\">'Objective'</span>, <span style=\"color: #008000; text-decoration-color: #008000\">'ground_truth'</span>: <span style=\"color: #008000; text-decoration-color: #008000\">'Subjective'</span><span style=\"font-weight: bold\">}</span>\n",
       "</pre>\n"
      ],
      "text/plain": [
       "\u001b[1m{\u001b[0m\u001b[32m'input'\u001b[0m: \u001b[32m'The mic is great.'\u001b[0m, \u001b[32m'prediction'\u001b[0m: \u001b[32m'Objective'\u001b[0m, \u001b[32m'ground_truth'\u001b[0m: \u001b[32m'Subjective'\u001b[0m\u001b[1m}\u001b[0m\n"
      ]
     },
     "metadata": {},
     "output_type": "display_data"
    },
    {
     "name": "stderr",
     "output_type": "stream",
     "text": [
      "100%|██████████| 3/3 [00:08<00:00,  2.95s/it]"
     ]
    },
    {
     "data": {
      "text/html": [
       "<pre style=\"white-space:pre;overflow-x:auto;line-height:normal;font-family:Menlo,'DejaVu Sans Mono',consolas,'Courier New',monospace\"><span style=\"font-weight: bold\">{</span><span style=\"color: #008000; text-decoration-color: #008000\">'input'</span>: <span style=\"color: #008000; text-decoration-color: #008000\">'Will order from them again!'</span>, <span style=\"color: #008000; text-decoration-color: #008000\">'prediction'</span>: <span style=\"color: #008000; text-decoration-color: #008000\">'Positive'</span>, <span style=\"color: #008000; text-decoration-color: #008000\">'ground_truth'</span>: <span style=\"color: #008000; text-decoration-color: #008000\">'Subjective'</span><span style=\"font-weight: bold\">}</span>\n",
       "</pre>\n"
      ],
      "text/plain": [
       "\u001b[1m{\u001b[0m\u001b[32m'input'\u001b[0m: \u001b[32m'Will order from them again!'\u001b[0m, \u001b[32m'prediction'\u001b[0m: \u001b[32m'Positive'\u001b[0m, \u001b[32m'ground_truth'\u001b[0m: \u001b[32m'Subjective'\u001b[0m\u001b[1m}\u001b[0m\n"
      ]
     },
     "metadata": {},
     "output_type": "display_data"
    },
    {
     "name": "stderr",
     "output_type": "stream",
     "text": [
      "100%|██████████| 3/3 [00:12<00:00,  4.16s/it]\n"
     ]
    },
    {
     "data": {
      "text/html": [
       "<pre style=\"white-space:pre;overflow-x:auto;line-height:normal;font-family:Menlo,'DejaVu Sans Mono',consolas,'Courier New',monospace\"><span style=\"font-weight: bold\">[</span><span style=\"color: #008000; text-decoration-color: #008000\">'ground_truth'</span>, <span style=\"color: #008000; text-decoration-color: #008000\">'input'</span>, <span style=\"color: #008000; text-decoration-color: #008000\">'prediction'</span>, <span style=\"color: #008000; text-decoration-color: #008000\">'reason'</span><span style=\"font-weight: bold\">]</span>\n",
       "</pre>\n"
      ],
      "text/plain": [
       "\u001b[1m[\u001b[0m\u001b[32m'ground_truth'\u001b[0m, \u001b[32m'input'\u001b[0m, \u001b[32m'prediction'\u001b[0m, \u001b[32m'reason'\u001b[0m\u001b[1m]\u001b[0m\n"
      ]
     },
     "metadata": {},
     "output_type": "display_data"
    },
    {
     "name": "stderr",
     "output_type": "stream",
     "text": [
      "  0%|          | 0/3 [00:00<?, ?it/s]"
     ]
    },
    {
     "data": {
      "text/html": [
       "<pre style=\"white-space:pre;overflow-x:auto;line-height:normal;font-family:Menlo,'DejaVu Sans Mono',consolas,'Courier New',monospace\"><span style=\"font-weight: bold\">{</span><span style=\"color: #008000; text-decoration-color: #008000\">'input'</span>: <span style=\"color: #008000; text-decoration-color: #008000\">\"Not loud enough and doesn't turn on like it should.\"</span>, <span style=\"color: #008000; text-decoration-color: #008000\">'prediction'</span>: <span style=\"color: #008000; text-decoration-color: #008000\">'Subjective'</span>, <span style=\"color: #008000; text-decoration-color: #008000\">'ground_truth'</span>: \n",
       "<span style=\"color: #008000; text-decoration-color: #008000\">'Objective'</span>, <span style=\"color: #008000; text-decoration-color: #008000\">'reason'</span>: <span style=\"color: #008000; text-decoration-color: #008000\">\"The model incorrectly classified the review as subjective. The review is stating facts </span>\n",
       "<span style=\"color: #008000; text-decoration-color: #008000\">about the product's performance, which makes it objective. The model might have been confused by the negative tone </span>\n",
       "<span style=\"color: #008000; text-decoration-color: #008000\">of the review.\"</span><span style=\"font-weight: bold\">}</span>\n",
       "</pre>\n"
      ],
      "text/plain": [
       "\u001b[1m{\u001b[0m\u001b[32m'input'\u001b[0m: \u001b[32m\"Not loud enough and doesn't turn on like it should.\"\u001b[0m, \u001b[32m'prediction'\u001b[0m: \u001b[32m'Subjective'\u001b[0m, \u001b[32m'ground_truth'\u001b[0m: \n",
       "\u001b[32m'Objective'\u001b[0m, \u001b[32m'reason'\u001b[0m: \u001b[32m\"The model incorrectly classified the review as subjective. The review is stating facts \u001b[0m\n",
       "\u001b[32mabout the product's performance, which makes it objective. The model might have been confused by the negative tone \u001b[0m\n",
       "\u001b[32mof the review.\"\u001b[0m\u001b[1m}\u001b[0m\n"
      ]
     },
     "metadata": {},
     "output_type": "display_data"
    },
    {
     "name": "stderr",
     "output_type": "stream",
     "text": [
      " 67%|██████▋   | 2/3 [00:06<00:03,  3.31s/it]"
     ]
    },
    {
     "data": {
      "text/html": [
       "<pre style=\"white-space:pre;overflow-x:auto;line-height:normal;font-family:Menlo,'DejaVu Sans Mono',consolas,'Courier New',monospace\"><span style=\"font-weight: bold\">{</span><span style=\"color: #008000; text-decoration-color: #008000\">'input'</span>: <span style=\"color: #008000; text-decoration-color: #008000\">'The mic is great.'</span>, <span style=\"color: #008000; text-decoration-color: #008000\">'prediction'</span>: <span style=\"color: #008000; text-decoration-color: #008000\">'Objective'</span>, <span style=\"color: #008000; text-decoration-color: #008000\">'ground_truth'</span>: <span style=\"color: #008000; text-decoration-color: #008000\">'Subjective'</span>, <span style=\"color: #008000; text-decoration-color: #008000\">'reason'</span>: <span style=\"color: #008000; text-decoration-color: #008000\">\"The model made </span>\n",
       "<span style=\"color: #008000; text-decoration-color: #008000\">an error because the statement 'The mic is great.' is a subjective opinion based on personal feelings or </span>\n",
       "<span style=\"color: #008000; text-decoration-color: #008000\">experiences, not a factual observation. The model incorrectly classified it as objective.\"</span><span style=\"font-weight: bold\">}</span>\n",
       "</pre>\n"
      ],
      "text/plain": [
       "\u001b[1m{\u001b[0m\u001b[32m'input'\u001b[0m: \u001b[32m'The mic is great.'\u001b[0m, \u001b[32m'prediction'\u001b[0m: \u001b[32m'Objective'\u001b[0m, \u001b[32m'ground_truth'\u001b[0m: \u001b[32m'Subjective'\u001b[0m, \u001b[32m'reason'\u001b[0m: \u001b[32m\"The model made \u001b[0m\n",
       "\u001b[32man error because the statement 'The mic is great.' is a subjective opinion based on personal feelings or \u001b[0m\n",
       "\u001b[32mexperiences, not a factual observation. The model incorrectly classified it as objective.\"\u001b[0m\u001b[1m}\u001b[0m\n"
      ]
     },
     "metadata": {},
     "output_type": "display_data"
    },
    {
     "name": "stderr",
     "output_type": "stream",
     "text": [
      "100%|██████████| 3/3 [00:12<00:00,  4.51s/it]"
     ]
    },
    {
     "data": {
      "text/html": [
       "<pre style=\"white-space:pre;overflow-x:auto;line-height:normal;font-family:Menlo,'DejaVu Sans Mono',consolas,'Courier New',monospace\"><span style=\"font-weight: bold\">{</span><span style=\"color: #008000; text-decoration-color: #008000\">'input'</span>: <span style=\"color: #008000; text-decoration-color: #008000\">'Will order from them again!'</span>, <span style=\"color: #008000; text-decoration-color: #008000\">'prediction'</span>: <span style=\"color: #008000; text-decoration-color: #008000\">'Positive'</span>, <span style=\"color: #008000; text-decoration-color: #008000\">'ground_truth'</span>: <span style=\"color: #008000; text-decoration-color: #008000\">'Subjective'</span>, <span style=\"color: #008000; text-decoration-color: #008000\">'reason'</span>: <span style=\"color: #008000; text-decoration-color: #008000\">\"The </span>\n",
       "<span style=\"color: #008000; text-decoration-color: #008000\">model incorrectly predicted the sentiment of the statement instead of determining whether it was subjective or </span>\n",
       "<span style=\"color: #008000; text-decoration-color: #008000\">objective as per the instructions. The statement 'Will order from them again!' is based on personal feelings or </span>\n",
       "<span style=\"color: #008000; text-decoration-color: #008000\">experiences, hence it is subjective.\"</span><span style=\"font-weight: bold\">}</span>\n",
       "</pre>\n"
      ],
      "text/plain": [
       "\u001b[1m{\u001b[0m\u001b[32m'input'\u001b[0m: \u001b[32m'Will order from them again!'\u001b[0m, \u001b[32m'prediction'\u001b[0m: \u001b[32m'Positive'\u001b[0m, \u001b[32m'ground_truth'\u001b[0m: \u001b[32m'Subjective'\u001b[0m, \u001b[32m'reason'\u001b[0m: \u001b[32m\"The \u001b[0m\n",
       "\u001b[32mmodel incorrectly predicted the sentiment of the statement instead of determining whether it was subjective or \u001b[0m\n",
       "\u001b[32mobjective as per the instructions. The statement 'Will order from them again!' is based on personal feelings or \u001b[0m\n",
       "\u001b[32mexperiences, hence it is subjective.\"\u001b[0m\u001b[1m}\u001b[0m\n"
      ]
     },
     "metadata": {},
     "output_type": "display_data"
    },
    {
     "name": "stderr",
     "output_type": "stream",
     "text": [
      "100%|██████████| 3/3 [00:18<00:00,  6.14s/it]\n"
     ]
    },
    {
     "data": {
      "text/html": [
       "<pre style=\"white-space:pre;overflow-x:auto;line-height:normal;font-family:Menlo,'DejaVu Sans Mono',consolas,'Courier New',monospace\">Error analysis for skill <span style=\"color: #008000; text-decoration-color: #008000\">\"subjectivity_detection\"</span>:\n",
       "\n",
       "</pre>\n"
      ],
      "text/plain": [
       "Error analysis for skill \u001b[32m\"subjectivity_detection\"\u001b[0m:\n",
       "\n"
      ]
     },
     "metadata": {},
     "output_type": "display_data"
    },
    {
     "data": {
      "text/html": [
       "<pre style=\"white-space:pre;overflow-x:auto;line-height:normal;font-family:Menlo,'DejaVu Sans Mono',consolas,'Courier New',monospace\"><span style=\"color: #008000; text-decoration-color: #008000\">Input: Not loud enough and doesn't turn on like it should.</span>\n",
       "\n",
       "<span style=\"color: #008000; text-decoration-color: #008000\">Prediction: Subjective</span>\n",
       "\n",
       "<span style=\"color: #008000; text-decoration-color: #008000\">Ground truth: Objective</span>\n",
       "\n",
       "<span style=\"color: #008000; text-decoration-color: #008000\">Error reason: The model incorrectly classified the review as subjective. The review is stating facts about the </span>\n",
       "<span style=\"color: #008000; text-decoration-color: #008000\">product's performance, which makes it objective. The model might have been confused by the negative tone of the </span>\n",
       "<span style=\"color: #008000; text-decoration-color: #008000\">review. Input: The mic is great.</span>\n",
       "\n",
       "<span style=\"color: #008000; text-decoration-color: #008000\">Prediction: Objective</span>\n",
       "\n",
       "<span style=\"color: #008000; text-decoration-color: #008000\">Ground truth: Subjective</span>\n",
       "\n",
       "<span style=\"color: #008000; text-decoration-color: #008000\">Error reason: The model made an error because the statement </span><span style=\"color: #008000; text-decoration-color: #008000\">'The mic is great.'</span><span style=\"color: #008000; text-decoration-color: #008000\"> is a subjective opinion based on </span>\n",
       "<span style=\"color: #008000; text-decoration-color: #008000\">personal feelings or experiences, not a factual observation. The model incorrectly classified it as objective. </span>\n",
       "<span style=\"color: #008000; text-decoration-color: #008000\">Input: Will order from them again!</span>\n",
       "\n",
       "<span style=\"color: #008000; text-decoration-color: #008000\">Prediction: Positive</span>\n",
       "\n",
       "<span style=\"color: #008000; text-decoration-color: #008000\">Ground truth: Subjective</span>\n",
       "\n",
       "<span style=\"color: #008000; text-decoration-color: #008000\">Error reason: The model incorrectly predicted the sentiment of the statement instead of determining whether it was </span>\n",
       "<span style=\"color: #008000; text-decoration-color: #008000\">subjective or objective as per the instructions. The statement </span><span style=\"color: #008000; text-decoration-color: #008000\">'Will order from them again!'</span><span style=\"color: #008000; text-decoration-color: #008000\"> is based on personal </span>\n",
       "<span style=\"color: #008000; text-decoration-color: #008000\">feelings or experiences, hence it is subjective.</span>\n",
       "</pre>\n"
      ],
      "text/plain": [
       "\u001b[32mInput: Not loud enough and doesn't turn on like it should.\u001b[0m\n",
       "\n",
       "\u001b[32mPrediction: Subjective\u001b[0m\n",
       "\n",
       "\u001b[32mGround truth: Objective\u001b[0m\n",
       "\n",
       "\u001b[32mError reason: The model incorrectly classified the review as subjective. The review is stating facts about the \u001b[0m\n",
       "\u001b[32mproduct's performance, which makes it objective. The model might have been confused by the negative tone of the \u001b[0m\n",
       "\u001b[32mreview. Input: The mic is great.\u001b[0m\n",
       "\n",
       "\u001b[32mPrediction: Objective\u001b[0m\n",
       "\n",
       "\u001b[32mGround truth: Subjective\u001b[0m\n",
       "\n",
       "\u001b[32mError reason: The model made an error because the statement \u001b[0m\u001b[32m'The mic is great.'\u001b[0m\u001b[32m is a subjective opinion based on \u001b[0m\n",
       "\u001b[32mpersonal feelings or experiences, not a factual observation. The model incorrectly classified it as objective. \u001b[0m\n",
       "\u001b[32mInput: Will order from them again!\u001b[0m\n",
       "\n",
       "\u001b[32mPrediction: Positive\u001b[0m\n",
       "\n",
       "\u001b[32mGround truth: Subjective\u001b[0m\n",
       "\n",
       "\u001b[32mError reason: The model incorrectly predicted the sentiment of the statement instead of determining whether it was \u001b[0m\n",
       "\u001b[32msubjective or objective as per the instructions. The statement \u001b[0m\u001b[32m'Will order from them again!'\u001b[0m\u001b[32m is based on personal \u001b[0m\n",
       "\u001b[32mfeelings or experiences, hence it is subjective.\u001b[0m\n"
      ]
     },
     "metadata": {},
     "output_type": "display_data"
    },
    {
     "data": {
      "text/html": [
       "<pre style=\"white-space:pre;overflow-x:auto;line-height:normal;font-family:Menlo,'DejaVu Sans Mono',consolas,'Courier New',monospace\">Improve <span style=\"color: #008000; text-decoration-color: #008000\">\"subjectivity_detection\"</span> skill based on analysis <span style=\"color: #808000; text-decoration-color: #808000\">...</span>\n",
       "</pre>\n"
      ],
      "text/plain": [
       "Improve \u001b[32m\"subjectivity_detection\"\u001b[0m skill based on analysis \u001b[33m...\u001b[0m\n"
      ]
     },
     "metadata": {},
     "output_type": "display_data"
    },
    {
     "data": {
      "text/html": [
       "<pre style=\"white-space:pre;overflow-x:auto;line-height:normal;font-family:Menlo,'DejaVu Sans Mono',consolas,'Courier New',monospace\"><span style=\"font-weight: bold\">{</span><span style=\"color: #008000; text-decoration-color: #008000\">'error_analysis'</span>: <span style=\"color: #008000; text-decoration-color: #008000\">\"Input: Not loud enough and doesn't turn on like it should.\\n\\nPrediction: Subjective\\n\\nGround </span>\n",
       "<span style=\"color: #008000; text-decoration-color: #008000\">truth: Objective\\n\\nError reason: The model incorrectly classified the review as subjective. The review is stating </span>\n",
       "<span style=\"color: #008000; text-decoration-color: #008000\">facts about the product's performance, which makes it objective. The model might have been confused by the negative</span>\n",
       "<span style=\"color: #008000; text-decoration-color: #008000\">tone of the review. Input: The mic is great.\\n\\nPrediction: Objective\\n\\nGround truth: Subjective\\n\\nError reason: </span>\n",
       "<span style=\"color: #008000; text-decoration-color: #008000\">The model made an error because the statement 'The mic is great.' is a subjective opinion based on personal </span>\n",
       "<span style=\"color: #008000; text-decoration-color: #008000\">feelings or experiences, not a factual observation. The model incorrectly classified it as objective. Input: Will </span>\n",
       "<span style=\"color: #008000; text-decoration-color: #008000\">order from them again!\\n\\nPrediction: Positive\\n\\nGround truth: Subjective\\n\\nError reason: The model incorrectly </span>\n",
       "<span style=\"color: #008000; text-decoration-color: #008000\">predicted the sentiment of the statement instead of determining whether it was subjective or objective as per the </span>\n",
       "<span style=\"color: #008000; text-decoration-color: #008000\">instructions. The statement 'Will order from them again!' is based on personal feelings or experiences, hence it is</span>\n",
       "<span style=\"color: #008000; text-decoration-color: #008000\">subjective.\"</span><span style=\"font-weight: bold\">}</span>\n",
       "</pre>\n"
      ],
      "text/plain": [
       "\u001b[1m{\u001b[0m\u001b[32m'error_analysis'\u001b[0m: \u001b[32m\"Input: Not loud enough and doesn't turn on like it should.\\n\\nPrediction: Subjective\\n\\nGround \u001b[0m\n",
       "\u001b[32mtruth: Objective\\n\\nError reason: The model incorrectly classified the review as subjective. The review is stating \u001b[0m\n",
       "\u001b[32mfacts about the product's performance, which makes it objective. The model might have been confused by the negative\u001b[0m\n",
       "\u001b[32mtone of the review. Input: The mic is great.\\n\\nPrediction: Objective\\n\\nGround truth: Subjective\\n\\nError reason: \u001b[0m\n",
       "\u001b[32mThe model made an error because the statement 'The mic is great.' is a subjective opinion based on personal \u001b[0m\n",
       "\u001b[32mfeelings or experiences, not a factual observation. The model incorrectly classified it as objective. Input: Will \u001b[0m\n",
       "\u001b[32morder from them again!\\n\\nPrediction: Positive\\n\\nGround truth: Subjective\\n\\nError reason: The model incorrectly \u001b[0m\n",
       "\u001b[32mpredicted the sentiment of the statement instead of determining whether it was subjective or objective as per the \u001b[0m\n",
       "\u001b[32minstructions. The statement 'Will order from them again!' is based on personal feelings or experiences, hence it is\u001b[0m\n",
       "\u001b[32msubjective.\"\u001b[0m\u001b[1m}\u001b[0m\n"
      ]
     },
     "metadata": {},
     "output_type": "display_data"
    },
    {
     "data": {
      "text/html": [
       "<pre style=\"white-space:pre;overflow-x:auto;line-height:normal;font-family:Menlo,'DejaVu Sans Mono',consolas,'Courier New',monospace\">Updated instructions for skill <span style=\"color: #008000; text-decoration-color: #008000\">\"subjectivity_detection\"</span>:\n",
       "\n",
       "</pre>\n"
      ],
      "text/plain": [
       "Updated instructions for skill \u001b[32m\"subjectivity_detection\"\u001b[0m:\n",
       "\n"
      ]
     },
     "metadata": {},
     "output_type": "display_data"
    },
    {
     "data": {
      "text/html": [
       "<pre style=\"white-space:pre;overflow-x:auto;line-height:normal;font-family:Menlo,'DejaVu Sans Mono',consolas,'Courier New',monospace\"><span style=\"color: #008000; text-decoration-color: #008000; font-weight: bold\">Read the product review and determine if the statements made are based on factual information about the product or </span>\n",
       "<span style=\"color: #008000; text-decoration-color: #008000; font-weight: bold\">if they are based on personal feelings, opinions, or experiences. If the statement is describing a fact about the </span>\n",
       "<span style=\"color: #008000; text-decoration-color: #008000; font-weight: bold\">product, regardless of whether it is positive or negative, label it as </span><span style=\"color: #008000; text-decoration-color: #008000\">'Objective'</span><span style=\"color: #008000; text-decoration-color: #008000; font-weight: bold\">. If the statement is expressing </span>\n",
       "<span style=\"color: #008000; text-decoration-color: #008000; font-weight: bold\">a personal feeling, opinion, or experience, label it as </span><span style=\"color: #008000; text-decoration-color: #008000\">'Subjective'</span><span style=\"color: #008000; text-decoration-color: #008000; font-weight: bold\">. Avoid confusing the sentiment of the </span>\n",
       "<span style=\"color: #008000; text-decoration-color: #008000; font-weight: bold\">statement with its objectivity or subjectivity. For example, </span><span style=\"color: #008000; text-decoration-color: #008000\">'The product is not working'</span><span style=\"color: #008000; text-decoration-color: #008000; font-weight: bold\"> is an objective </span>\n",
       "<span style=\"color: #008000; text-decoration-color: #008000; font-weight: bold\">statement, while </span><span style=\"color: #008000; text-decoration-color: #008000\">'I love this product'</span><span style=\"color: #008000; text-decoration-color: #008000; font-weight: bold\"> is a subjective statement.</span>\n",
       "</pre>\n"
      ],
      "text/plain": [
       "\u001b[1;32mRead the product review and determine if the statements made are based on factual information about the product or \u001b[0m\n",
       "\u001b[1;32mif they are based on personal feelings, opinions, or experiences. If the statement is describing a fact about the \u001b[0m\n",
       "\u001b[1;32mproduct, regardless of whether it is positive or negative, label it as \u001b[0m\u001b[32m'Objective'\u001b[0m\u001b[1;32m. If the statement is expressing \u001b[0m\n",
       "\u001b[1;32ma personal feeling, opinion, or experience, label it as \u001b[0m\u001b[32m'Subjective'\u001b[0m\u001b[1;32m. Avoid confusing the sentiment of the \u001b[0m\n",
       "\u001b[1;32mstatement with its objectivity or subjectivity. For example, \u001b[0m\u001b[32m'The product is not working'\u001b[0m\u001b[1;32m is an objective \u001b[0m\n",
       "\u001b[1;32mstatement, while \u001b[0m\u001b[32m'I love this product'\u001b[0m\u001b[1;32m is a subjective statement.\u001b[0m\n"
      ]
     },
     "metadata": {},
     "output_type": "display_data"
    },
    {
     "data": {
      "text/html": [
       "<pre style=\"white-space:pre;overflow-x:auto;line-height:normal;font-family:Menlo,'DejaVu Sans Mono',consolas,'Courier New',monospace\">Re-apply subjectivity_detection skill to dataset <span style=\"color: #808000; text-decoration-color: #808000\">...</span>\n",
       "</pre>\n"
      ],
      "text/plain": [
       "Re-apply subjectivity_detection skill to dataset \u001b[33m...\u001b[0m\n"
      ]
     },
     "metadata": {},
     "output_type": "display_data"
    },
    {
     "data": {
      "text/html": [
       "<pre style=\"white-space:pre;overflow-x:auto;line-height:normal;font-family:Menlo,'DejaVu Sans Mono',consolas,'Courier New',monospace\">Applying skill: subjectivity_detection\n",
       "</pre>\n"
      ],
      "text/plain": [
       "Applying skill: subjectivity_detection\n"
      ]
     },
     "metadata": {},
     "output_type": "display_data"
    },
    {
     "data": {
      "text/html": [
       "<pre style=\"white-space:pre;overflow-x:auto;line-height:normal;font-family:Menlo,'DejaVu Sans Mono',consolas,'Courier New',monospace\"><span style=\"font-weight: bold\">[</span><span style=\"color: #008000; text-decoration-color: #008000\">'text'</span><span style=\"font-weight: bold\">]</span>\n",
       "</pre>\n"
      ],
      "text/plain": [
       "\u001b[1m[\u001b[0m\u001b[32m'text'\u001b[0m\u001b[1m]\u001b[0m\n"
      ]
     },
     "metadata": {},
     "output_type": "display_data"
    },
    {
     "name": "stderr",
     "output_type": "stream",
     "text": [
      "  0%|          | 0/5 [00:00<?, ?it/s]"
     ]
    },
    {
     "data": {
      "text/html": [
       "<pre style=\"white-space:pre;overflow-x:auto;line-height:normal;font-family:Menlo,'DejaVu Sans Mono',consolas,'Courier New',monospace\"><span style=\"font-weight: bold\">{</span><span style=\"color: #008000; text-decoration-color: #008000\">'text'</span>: <span style=\"color: #008000; text-decoration-color: #008000\">'The mic is great.'</span>, <span style=\"color: #008000; text-decoration-color: #008000\">'ground_truth'</span>: <span style=\"color: #008000; text-decoration-color: #008000\">'Subjective'</span>, <span style=\"color: #008000; text-decoration-color: #008000\">'subjectivity_detection'</span>: <span style=\"color: #008000; text-decoration-color: #008000\">'Objective'</span>, <span style=\"color: #008000; text-decoration-color: #008000\">'score'</span>: <span style=\"color: #008000; text-decoration-color: #008000\">'0.99'</span><span style=\"font-weight: bold\">}</span>\n",
       "</pre>\n"
      ],
      "text/plain": [
       "\u001b[1m{\u001b[0m\u001b[32m'text'\u001b[0m: \u001b[32m'The mic is great.'\u001b[0m, \u001b[32m'ground_truth'\u001b[0m: \u001b[32m'Subjective'\u001b[0m, \u001b[32m'subjectivity_detection'\u001b[0m: \u001b[32m'Objective'\u001b[0m, \u001b[32m'score'\u001b[0m: \u001b[32m'0.99'\u001b[0m\u001b[1m}\u001b[0m\n"
      ]
     },
     "metadata": {},
     "output_type": "display_data"
    },
    {
     "name": "stderr",
     "output_type": "stream",
     "text": [
      " 40%|████      | 2/5 [00:05<00:08,  2.86s/it]"
     ]
    },
    {
     "data": {
      "text/html": [
       "<pre style=\"white-space:pre;overflow-x:auto;line-height:normal;font-family:Menlo,'DejaVu Sans Mono',consolas,'Courier New',monospace\"><span style=\"font-weight: bold\">{</span><span style=\"color: #008000; text-decoration-color: #008000\">'text'</span>: <span style=\"color: #008000; text-decoration-color: #008000\">'Will order from them again!'</span>, <span style=\"color: #008000; text-decoration-color: #008000\">'ground_truth'</span>: <span style=\"color: #008000; text-decoration-color: #008000\">'Subjective'</span>, <span style=\"color: #008000; text-decoration-color: #008000\">'subjectivity_detection'</span>: <span style=\"color: #008000; text-decoration-color: #008000\">'Positive'</span>, \n",
       "<span style=\"color: #008000; text-decoration-color: #008000\">'score'</span>: <span style=\"color: #008000; text-decoration-color: #008000\">'0.9876'</span><span style=\"font-weight: bold\">}</span>\n",
       "</pre>\n"
      ],
      "text/plain": [
       "\u001b[1m{\u001b[0m\u001b[32m'text'\u001b[0m: \u001b[32m'Will order from them again!'\u001b[0m, \u001b[32m'ground_truth'\u001b[0m: \u001b[32m'Subjective'\u001b[0m, \u001b[32m'subjectivity_detection'\u001b[0m: \u001b[32m'Positive'\u001b[0m, \n",
       "\u001b[32m'score'\u001b[0m: \u001b[32m'0.9876'\u001b[0m\u001b[1m}\u001b[0m\n"
      ]
     },
     "metadata": {},
     "output_type": "display_data"
    },
    {
     "name": "stderr",
     "output_type": "stream",
     "text": [
      " 60%|██████    | 3/5 [00:11<00:07,  3.89s/it]"
     ]
    },
    {
     "data": {
      "text/html": [
       "<pre style=\"white-space:pre;overflow-x:auto;line-height:normal;font-family:Menlo,'DejaVu Sans Mono',consolas,'Courier New',monospace\"><span style=\"font-weight: bold\">{</span><span style=\"color: #008000; text-decoration-color: #008000\">'text'</span>: <span style=\"color: #008000; text-decoration-color: #008000\">\"Not loud enough and doesn't turn on like it should.\"</span>, <span style=\"color: #008000; text-decoration-color: #008000\">'ground_truth'</span>: <span style=\"color: #008000; text-decoration-color: #008000\">'Objective'</span>, \n",
       "<span style=\"color: #008000; text-decoration-color: #008000\">'subjectivity_detection'</span>: <span style=\"color: #008000; text-decoration-color: #008000\">'Subjective'</span>, <span style=\"color: #008000; text-decoration-color: #008000\">'score'</span>: <span style=\"color: #008000; text-decoration-color: #008000\">'Subjective'</span><span style=\"font-weight: bold\">}</span>\n",
       "</pre>\n"
      ],
      "text/plain": [
       "\u001b[1m{\u001b[0m\u001b[32m'text'\u001b[0m: \u001b[32m\"Not loud enough and doesn't turn on like it should.\"\u001b[0m, \u001b[32m'ground_truth'\u001b[0m: \u001b[32m'Objective'\u001b[0m, \n",
       "\u001b[32m'subjectivity_detection'\u001b[0m: \u001b[32m'Subjective'\u001b[0m, \u001b[32m'score'\u001b[0m: \u001b[32m'Subjective'\u001b[0m\u001b[1m}\u001b[0m\n"
      ]
     },
     "metadata": {},
     "output_type": "display_data"
    },
    {
     "name": "stderr",
     "output_type": "stream",
     "text": [
      " 80%|████████  | 4/5 [00:20<00:05,  5.90s/it]"
     ]
    },
    {
     "data": {
      "text/html": [
       "<pre style=\"white-space:pre;overflow-x:auto;line-height:normal;font-family:Menlo,'DejaVu Sans Mono',consolas,'Courier New',monospace\"><span style=\"font-weight: bold\">{</span><span style=\"color: #008000; text-decoration-color: #008000\">'text'</span>: <span style=\"color: #008000; text-decoration-color: #008000\">\"The phone doesn't seem to accept anything except CBR mp3s\"</span>, <span style=\"color: #008000; text-decoration-color: #008000\">'ground_truth'</span>: <span style=\"color: #008000; text-decoration-color: #008000\">'Objective'</span>, \n",
       "<span style=\"color: #008000; text-decoration-color: #008000\">'subjectivity_detection'</span>: <span style=\"color: #008000; text-decoration-color: #008000\">'Objective'</span>, <span style=\"color: #008000; text-decoration-color: #008000\">'score'</span>: <span style=\"color: #008000; text-decoration-color: #008000\">'0.9999'</span><span style=\"font-weight: bold\">}</span>\n",
       "</pre>\n"
      ],
      "text/plain": [
       "\u001b[1m{\u001b[0m\u001b[32m'text'\u001b[0m: \u001b[32m\"The phone doesn't seem to accept anything except CBR mp3s\"\u001b[0m, \u001b[32m'ground_truth'\u001b[0m: \u001b[32m'Objective'\u001b[0m, \n",
       "\u001b[32m'subjectivity_detection'\u001b[0m: \u001b[32m'Objective'\u001b[0m, \u001b[32m'score'\u001b[0m: \u001b[32m'0.9999'\u001b[0m\u001b[1m}\u001b[0m\n"
      ]
     },
     "metadata": {},
     "output_type": "display_data"
    },
    {
     "name": "stderr",
     "output_type": "stream",
     "text": [
      "100%|██████████| 5/5 [00:36<00:00,  9.49s/it]"
     ]
    },
    {
     "data": {
      "text/html": [
       "<pre style=\"white-space:pre;overflow-x:auto;line-height:normal;font-family:Menlo,'DejaVu Sans Mono',consolas,'Courier New',monospace\"><span style=\"font-weight: bold\">{</span><span style=\"color: #008000; text-decoration-color: #008000\">'text'</span>: <span style=\"color: #008000; text-decoration-color: #008000\">'All three broke within two months of use.'</span>, <span style=\"color: #008000; text-decoration-color: #008000\">'ground_truth'</span>: <span style=\"color: #008000; text-decoration-color: #008000\">'Objective'</span>, <span style=\"color: #008000; text-decoration-color: #008000\">'subjectivity_detection'</span>: \n",
       "<span style=\"color: #008000; text-decoration-color: #008000\">'Objective'</span>, <span style=\"color: #008000; text-decoration-color: #008000\">'score'</span>: <span style=\"color: #008000; text-decoration-color: #008000\">'-5.234'</span><span style=\"font-weight: bold\">}</span>\n",
       "</pre>\n"
      ],
      "text/plain": [
       "\u001b[1m{\u001b[0m\u001b[32m'text'\u001b[0m: \u001b[32m'All three broke within two months of use.'\u001b[0m, \u001b[32m'ground_truth'\u001b[0m: \u001b[32m'Objective'\u001b[0m, \u001b[32m'subjectivity_detection'\u001b[0m: \n",
       "\u001b[32m'Objective'\u001b[0m, \u001b[32m'score'\u001b[0m: \u001b[32m'-5.234'\u001b[0m\u001b[1m}\u001b[0m\n"
      ]
     },
     "metadata": {},
     "output_type": "display_data"
    },
    {
     "name": "stderr",
     "output_type": "stream",
     "text": [
      "100%|██████████| 5/5 [00:55<00:00, 11.18s/it]\n"
     ]
    },
    {
     "data": {
      "text/html": [
       "<pre style=\"white-space:pre;overflow-x:auto;line-height:normal;font-family:Menlo,'DejaVu Sans Mono',consolas,'Courier New',monospace\">\n",
       "\n",
       "=&gt; Iteration #<span style=\"color: #008080; text-decoration-color: #008080; font-weight: bold\">2</span>: Comparing to ground truth, analyzing and improving <span style=\"color: #808000; text-decoration-color: #808000\">...</span>\n",
       "</pre>\n"
      ],
      "text/plain": [
       "\n",
       "\n",
       "=> Iteration #\u001b[1;36m2\u001b[0m: Comparing to ground truth, analyzing and improving \u001b[33m...\u001b[0m\n"
      ]
     },
     "metadata": {},
     "output_type": "display_data"
    },
    {
     "data": {
      "text/html": [
       "<pre style=\"white-space:pre;overflow-x:auto;line-height:normal;font-family:Menlo,'DejaVu Sans Mono',consolas,'Courier New',monospace\"><span style=\"color: #008080; text-decoration-color: #008080; font-weight: bold\">0</span>    Subjective\n",
       "<span style=\"color: #008080; text-decoration-color: #008080; font-weight: bold\">1</span>    Subjective\n",
       "<span style=\"color: #008080; text-decoration-color: #008080; font-weight: bold\">2</span>     Objective\n",
       "<span style=\"color: #008080; text-decoration-color: #008080; font-weight: bold\">3</span>     Objective\n",
       "<span style=\"color: #008080; text-decoration-color: #008080; font-weight: bold\">4</span>     Objective\n",
       "Name: ground_truth, dtype: object\n",
       "</pre>\n"
      ],
      "text/plain": [
       "\u001b[1;36m0\u001b[0m    Subjective\n",
       "\u001b[1;36m1\u001b[0m    Subjective\n",
       "\u001b[1;36m2\u001b[0m     Objective\n",
       "\u001b[1;36m3\u001b[0m     Objective\n",
       "\u001b[1;36m4\u001b[0m     Objective\n",
       "Name: ground_truth, dtype: object\n"
      ]
     },
     "metadata": {},
     "output_type": "display_data"
    },
    {
     "data": {
      "text/html": [
       "<pre style=\"white-space:pre;overflow-x:auto;line-height:normal;font-family:Menlo,'DejaVu Sans Mono',consolas,'Courier New',monospace\"><span style=\"color: #008080; text-decoration-color: #008080; font-weight: bold\">0</span>                Objective\n",
       "<span style=\"color: #008080; text-decoration-color: #008080; font-weight: bold\">1</span>               Subjective\n",
       "<span style=\"color: #008080; text-decoration-color: #008080; font-weight: bold\">2</span>    Subjective, Objective\n",
       "<span style=\"color: #008080; text-decoration-color: #008080; font-weight: bold\">3</span>                Objective\n",
       "<span style=\"color: #008080; text-decoration-color: #008080; font-weight: bold\">4</span>               Subjective\n",
       "Name: subjectivity_detection, dtype: object\n",
       "</pre>\n"
      ],
      "text/plain": [
       "\u001b[1;36m0\u001b[0m                Objective\n",
       "\u001b[1;36m1\u001b[0m               Subjective\n",
       "\u001b[1;36m2\u001b[0m    Subjective, Objective\n",
       "\u001b[1;36m3\u001b[0m                Objective\n",
       "\u001b[1;36m4\u001b[0m               Subjective\n",
       "Name: subjectivity_detection, dtype: object\n"
      ]
     },
     "metadata": {},
     "output_type": "display_data"
    },
    {
     "data": {
      "text/html": [
       "<pre style=\"white-space:pre;overflow-x:auto;line-height:normal;font-family:Menlo,'DejaVu Sans Mono',consolas,'Courier New',monospace\"> compare ground truth with predictions\n",
       "</pre>\n"
      ],
      "text/plain": [
       " compare ground truth with predictions\n"
      ]
     },
     "metadata": {},
     "output_type": "display_data"
    },
    {
     "data": {
      "text/html": [
       "<pre style=\"white-space:pre;overflow-x:auto;line-height:normal;font-family:Menlo,'DejaVu Sans Mono',consolas,'Courier New',monospace\">Comparing predictions to ground truth data <span style=\"color: #808000; text-decoration-color: #808000\">...</span>\n",
       "</pre>\n"
      ],
      "text/plain": [
       "Comparing predictions to ground truth data \u001b[33m...\u001b[0m\n"
      ]
     },
     "metadata": {},
     "output_type": "display_data"
    },
    {
     "data": {
      "text/html": [
       "<pre style=\"white-space:pre;overflow-x:auto;line-height:normal;font-family:Menlo,'DejaVu Sans Mono',consolas,'Courier New',monospace\">                                                                                                                   \n",
       " <span style=\"color: #800080; text-decoration-color: #800080; font-weight: bold\"> text                          </span> <span style=\"color: #800080; text-decoration-color: #800080; font-weight: bold\"> ground_truth </span> <span style=\"color: #800080; text-decoration-color: #800080; font-weight: bold\"> subjectivity_detection </span> <span style=\"color: #800080; text-decoration-color: #800080; font-weight: bold\"> score          </span> <span style=\"color: #800080; text-decoration-color: #800080; font-weight: bold\"> subjectivity_detection </span> \n",
       " ───────────────────────────────────────────────────────────────────────────────────────────────────────────────── \n",
       "  The mic is great.               Subjective     Objective                0.9999           False                   \n",
       " <span style=\"color: #7f7f7f; text-decoration-color: #7f7f7f\"> Will order from them again!   </span> <span style=\"color: #7f7f7f; text-decoration-color: #7f7f7f\"> Subjective   </span> <span style=\"color: #7f7f7f; text-decoration-color: #7f7f7f\"> Subjective             </span> <span style=\"color: #7f7f7f; text-decoration-color: #7f7f7f\"> -0.999         </span> <span style=\"color: #7f7f7f; text-decoration-color: #7f7f7f\"> True                   </span> \n",
       "  Not loud enough and doesn't     Objective      Subjective, Objective    0.9999, 0.9999   False                   \n",
       "  turn on like it should.                                                                                          \n",
       " <span style=\"color: #7f7f7f; text-decoration-color: #7f7f7f\"> The phone doesn't seem to     </span> <span style=\"color: #7f7f7f; text-decoration-color: #7f7f7f\"> Objective    </span> <span style=\"color: #7f7f7f; text-decoration-color: #7f7f7f\"> Objective              </span> <span style=\"color: #7f7f7f; text-decoration-color: #7f7f7f\"> 0.9999         </span> <span style=\"color: #7f7f7f; text-decoration-color: #7f7f7f\"> True                   </span> \n",
       " <span style=\"color: #7f7f7f; text-decoration-color: #7f7f7f\"> accept anything except CBR    </span> <span style=\"color: #7f7f7f; text-decoration-color: #7f7f7f\">              </span> <span style=\"color: #7f7f7f; text-decoration-color: #7f7f7f\">                        </span> <span style=\"color: #7f7f7f; text-decoration-color: #7f7f7f\">                </span> <span style=\"color: #7f7f7f; text-decoration-color: #7f7f7f\">                        </span> \n",
       " <span style=\"color: #7f7f7f; text-decoration-color: #7f7f7f\"> mp3s                          </span> <span style=\"color: #7f7f7f; text-decoration-color: #7f7f7f\">              </span> <span style=\"color: #7f7f7f; text-decoration-color: #7f7f7f\">                        </span> <span style=\"color: #7f7f7f; text-decoration-color: #7f7f7f\">                </span> <span style=\"color: #7f7f7f; text-decoration-color: #7f7f7f\">                        </span> \n",
       "  All three broke within two      Objective      Subjective               -0.999           False                   \n",
       "  months of use.                                                                                                   \n",
       "                                                                                                                   \n",
       "</pre>\n"
      ],
      "text/plain": [
       "                                                                                                                   \n",
       " \u001b[1;35m \u001b[0m\u001b[1;35mtext                         \u001b[0m\u001b[1;35m \u001b[0m \u001b[1;35m \u001b[0m\u001b[1;35mground_truth\u001b[0m\u001b[1;35m \u001b[0m \u001b[1;35m \u001b[0m\u001b[1;35msubjectivity_detection\u001b[0m\u001b[1;35m \u001b[0m \u001b[1;35m \u001b[0m\u001b[1;35mscore         \u001b[0m\u001b[1;35m \u001b[0m \u001b[1;35m \u001b[0m\u001b[1;35msubjectivity_detection\u001b[0m\u001b[1;35m \u001b[0m \n",
       " ───────────────────────────────────────────────────────────────────────────────────────────────────────────────── \n",
       "  The mic is great.               Subjective     Objective                0.9999           False                   \n",
       " \u001b[2m \u001b[0m\u001b[2mWill order from them again!  \u001b[0m\u001b[2m \u001b[0m \u001b[2m \u001b[0m\u001b[2mSubjective  \u001b[0m\u001b[2m \u001b[0m \u001b[2m \u001b[0m\u001b[2mSubjective            \u001b[0m\u001b[2m \u001b[0m \u001b[2m \u001b[0m\u001b[2m-0.999        \u001b[0m\u001b[2m \u001b[0m \u001b[2m \u001b[0m\u001b[2mTrue                  \u001b[0m\u001b[2m \u001b[0m \n",
       "  Not loud enough and doesn't     Objective      Subjective, Objective    0.9999, 0.9999   False                   \n",
       "  turn on like it should.                                                                                          \n",
       " \u001b[2m \u001b[0m\u001b[2mThe phone doesn't seem to    \u001b[0m\u001b[2m \u001b[0m \u001b[2m \u001b[0m\u001b[2mObjective   \u001b[0m\u001b[2m \u001b[0m \u001b[2m \u001b[0m\u001b[2mObjective             \u001b[0m\u001b[2m \u001b[0m \u001b[2m \u001b[0m\u001b[2m0.9999        \u001b[0m\u001b[2m \u001b[0m \u001b[2m \u001b[0m\u001b[2mTrue                  \u001b[0m\u001b[2m \u001b[0m \n",
       " \u001b[2m \u001b[0m\u001b[2maccept anything except CBR   \u001b[0m\u001b[2m \u001b[0m \u001b[2m              \u001b[0m \u001b[2m                        \u001b[0m \u001b[2m                \u001b[0m \u001b[2m                        \u001b[0m \n",
       " \u001b[2m \u001b[0m\u001b[2mmp3s                         \u001b[0m\u001b[2m \u001b[0m \u001b[2m              \u001b[0m \u001b[2m                        \u001b[0m \u001b[2m                \u001b[0m \u001b[2m                        \u001b[0m \n",
       "  All three broke within two      Objective      Subjective               -0.999           False                   \n",
       "  months of use.                                                                                                   \n",
       "                                                                                                                   \n"
      ]
     },
     "metadata": {},
     "output_type": "display_data"
    },
    {
     "data": {
      "text/html": [
       "<pre style=\"white-space:pre;overflow-x:auto;line-height:normal;font-family:Menlo,'DejaVu Sans Mono',consolas,'Courier New',monospace\"><span style=\"color: #800000; text-decoration-color: #800000; font-weight: bold\">Accuracy = </span><span style=\"color: #008080; text-decoration-color: #008080; font-weight: bold\">40.00</span><span style=\"color: #800000; text-decoration-color: #800000; font-weight: bold\">%</span>\n",
       "</pre>\n"
      ],
      "text/plain": [
       "\u001b[1;31mAccuracy = \u001b[0m\u001b[1;36m40.00\u001b[0m\u001b[1;31m%\u001b[0m\n"
      ]
     },
     "metadata": {},
     "output_type": "display_data"
    },
    {
     "data": {
      "text/html": [
       "<pre style=\"white-space:pre;overflow-x:auto;line-height:normal;font-family:Menlo,'DejaVu Sans Mono',consolas,'Courier New',monospace\">Analyze evaluation experience <span style=\"color: #808000; text-decoration-color: #808000\">...</span>\n",
       "</pre>\n"
      ],
      "text/plain": [
       "Analyze evaluation experience \u001b[33m...\u001b[0m\n"
      ]
     },
     "metadata": {},
     "output_type": "display_data"
    },
    {
     "data": {
      "text/html": [
       "<pre style=\"white-space:pre;overflow-x:auto;line-height:normal;font-family:Menlo,'DejaVu Sans Mono',consolas,'Courier New',monospace\"><span style=\"font-weight: bold\">[</span><span style=\"color: #008000; text-decoration-color: #008000\">'text'</span><span style=\"font-weight: bold\">]</span>\n",
       "</pre>\n"
      ],
      "text/plain": [
       "\u001b[1m[\u001b[0m\u001b[32m'text'\u001b[0m\u001b[1m]\u001b[0m\n"
      ]
     },
     "metadata": {},
     "output_type": "display_data"
    },
    {
     "name": "stderr",
     "output_type": "stream",
     "text": [
      "  0%|          | 0/3 [00:00<?, ?it/s]"
     ]
    },
    {
     "data": {
      "text/html": [
       "<pre style=\"white-space:pre;overflow-x:auto;line-height:normal;font-family:Menlo,'DejaVu Sans Mono',consolas,'Courier New',monospace\"><span style=\"font-weight: bold\">{</span><span style=\"color: #008000; text-decoration-color: #008000\">'text'</span>: <span style=\"color: #008000; text-decoration-color: #008000\">\"Not loud enough and doesn't turn on like it should.\"</span>, <span style=\"color: #008000; text-decoration-color: #008000\">'ground_truth'</span>: <span style=\"color: #008000; text-decoration-color: #008000\">'Objective'</span>, \n",
       "<span style=\"color: #008000; text-decoration-color: #008000\">'subjectivity_detection'</span>: <span style=\"color: #008000; text-decoration-color: #008000\">'Subjective, Objective'</span>, <span style=\"color: #008000; text-decoration-color: #008000\">'score'</span>: <span style=\"color: #008000; text-decoration-color: #008000\">'0.9999, 0.9999'</span><span style=\"font-weight: bold\">}</span>\n",
       "</pre>\n"
      ],
      "text/plain": [
       "\u001b[1m{\u001b[0m\u001b[32m'text'\u001b[0m: \u001b[32m\"Not loud enough and doesn't turn on like it should.\"\u001b[0m, \u001b[32m'ground_truth'\u001b[0m: \u001b[32m'Objective'\u001b[0m, \n",
       "\u001b[32m'subjectivity_detection'\u001b[0m: \u001b[32m'Subjective, Objective'\u001b[0m, \u001b[32m'score'\u001b[0m: \u001b[32m'0.9999, 0.9999'\u001b[0m\u001b[1m}\u001b[0m\n"
      ]
     },
     "metadata": {},
     "output_type": "display_data"
    },
    {
     "name": "stderr",
     "output_type": "stream",
     "text": [
      " 67%|██████▋   | 2/3 [00:11<00:05,  5.82s/it]"
     ]
    },
    {
     "data": {
      "text/html": [
       "<pre style=\"white-space:pre;overflow-x:auto;line-height:normal;font-family:Menlo,'DejaVu Sans Mono',consolas,'Courier New',monospace\"><span style=\"font-weight: bold\">{</span><span style=\"color: #008000; text-decoration-color: #008000\">'text'</span>: <span style=\"color: #008000; text-decoration-color: #008000\">'The mic is great.'</span>, <span style=\"color: #008000; text-decoration-color: #008000\">'ground_truth'</span>: <span style=\"color: #008000; text-decoration-color: #008000\">'Subjective'</span>, <span style=\"color: #008000; text-decoration-color: #008000\">'subjectivity_detection'</span>: <span style=\"color: #008000; text-decoration-color: #008000\">'Objective'</span>, <span style=\"color: #008000; text-decoration-color: #008000\">'score'</span>: \n",
       "<span style=\"color: #008000; text-decoration-color: #008000\">'0.9999'</span><span style=\"font-weight: bold\">}</span>\n",
       "</pre>\n"
      ],
      "text/plain": [
       "\u001b[1m{\u001b[0m\u001b[32m'text'\u001b[0m: \u001b[32m'The mic is great.'\u001b[0m, \u001b[32m'ground_truth'\u001b[0m: \u001b[32m'Subjective'\u001b[0m, \u001b[32m'subjectivity_detection'\u001b[0m: \u001b[32m'Objective'\u001b[0m, \u001b[32m'score'\u001b[0m: \n",
       "\u001b[32m'0.9999'\u001b[0m\u001b[1m}\u001b[0m\n"
      ]
     },
     "metadata": {},
     "output_type": "display_data"
    },
    {
     "name": "stderr",
     "output_type": "stream",
     "text": [
      "100%|██████████| 3/3 [00:19<00:00,  6.55s/it]"
     ]
    },
    {
     "data": {
      "text/html": [
       "<pre style=\"white-space:pre;overflow-x:auto;line-height:normal;font-family:Menlo,'DejaVu Sans Mono',consolas,'Courier New',monospace\"><span style=\"font-weight: bold\">{</span><span style=\"color: #008000; text-decoration-color: #008000\">'text'</span>: <span style=\"color: #008000; text-decoration-color: #008000\">'All three broke within two months of use.'</span>, <span style=\"color: #008000; text-decoration-color: #008000\">'ground_truth'</span>: <span style=\"color: #008000; text-decoration-color: #008000\">'Objective'</span>, <span style=\"color: #008000; text-decoration-color: #008000\">'subjectivity_detection'</span>: \n",
       "<span style=\"color: #008000; text-decoration-color: #008000\">'Subjective'</span>, <span style=\"color: #008000; text-decoration-color: #008000\">'score'</span>: <span style=\"color: #008000; text-decoration-color: #008000\">'-0.999'</span><span style=\"font-weight: bold\">}</span>\n",
       "</pre>\n"
      ],
      "text/plain": [
       "\u001b[1m{\u001b[0m\u001b[32m'text'\u001b[0m: \u001b[32m'All three broke within two months of use.'\u001b[0m, \u001b[32m'ground_truth'\u001b[0m: \u001b[32m'Objective'\u001b[0m, \u001b[32m'subjectivity_detection'\u001b[0m: \n",
       "\u001b[32m'Subjective'\u001b[0m, \u001b[32m'score'\u001b[0m: \u001b[32m'-0.999'\u001b[0m\u001b[1m}\u001b[0m\n"
      ]
     },
     "metadata": {},
     "output_type": "display_data"
    },
    {
     "name": "stderr",
     "output_type": "stream",
     "text": [
      "100%|██████████| 3/3 [00:23<00:00,  7.74s/it]\n"
     ]
    },
    {
     "data": {
      "text/html": [
       "<pre style=\"white-space:pre;overflow-x:auto;line-height:normal;font-family:Menlo,'DejaVu Sans Mono',consolas,'Courier New',monospace\"><span style=\"font-weight: bold\">[</span><span style=\"color: #008000; text-decoration-color: #008000\">'ground_truth'</span>, <span style=\"color: #008000; text-decoration-color: #008000\">'input'</span>, <span style=\"color: #008000; text-decoration-color: #008000\">'prediction'</span><span style=\"font-weight: bold\">]</span>\n",
       "</pre>\n"
      ],
      "text/plain": [
       "\u001b[1m[\u001b[0m\u001b[32m'ground_truth'\u001b[0m, \u001b[32m'input'\u001b[0m, \u001b[32m'prediction'\u001b[0m\u001b[1m]\u001b[0m\n"
      ]
     },
     "metadata": {},
     "output_type": "display_data"
    },
    {
     "name": "stderr",
     "output_type": "stream",
     "text": [
      "  0%|          | 0/3 [00:00<?, ?it/s]"
     ]
    },
    {
     "data": {
      "text/html": [
       "<pre style=\"white-space:pre;overflow-x:auto;line-height:normal;font-family:Menlo,'DejaVu Sans Mono',consolas,'Courier New',monospace\"><span style=\"font-weight: bold\">{</span><span style=\"color: #008000; text-decoration-color: #008000\">'input'</span>: <span style=\"color: #008000; text-decoration-color: #008000\">\"Not loud enough and doesn't turn on like it should.\"</span>, <span style=\"color: #008000; text-decoration-color: #008000\">'prediction'</span>: <span style=\"color: #008000; text-decoration-color: #008000\">'Subjective, Objective'</span>, \n",
       "<span style=\"color: #008000; text-decoration-color: #008000\">'ground_truth'</span>: <span style=\"color: #008000; text-decoration-color: #008000\">'Objective'</span><span style=\"font-weight: bold\">}</span>\n",
       "</pre>\n"
      ],
      "text/plain": [
       "\u001b[1m{\u001b[0m\u001b[32m'input'\u001b[0m: \u001b[32m\"Not loud enough and doesn't turn on like it should.\"\u001b[0m, \u001b[32m'prediction'\u001b[0m: \u001b[32m'Subjective, Objective'\u001b[0m, \n",
       "\u001b[32m'ground_truth'\u001b[0m: \u001b[32m'Objective'\u001b[0m\u001b[1m}\u001b[0m\n"
      ]
     },
     "metadata": {},
     "output_type": "display_data"
    },
    {
     "name": "stderr",
     "output_type": "stream",
     "text": [
      " 67%|██████▋   | 2/3 [00:05<00:02,  2.74s/it]"
     ]
    },
    {
     "data": {
      "text/html": [
       "<pre style=\"white-space:pre;overflow-x:auto;line-height:normal;font-family:Menlo,'DejaVu Sans Mono',consolas,'Courier New',monospace\"><span style=\"font-weight: bold\">{</span><span style=\"color: #008000; text-decoration-color: #008000\">'input'</span>: <span style=\"color: #008000; text-decoration-color: #008000\">'The mic is great.'</span>, <span style=\"color: #008000; text-decoration-color: #008000\">'prediction'</span>: <span style=\"color: #008000; text-decoration-color: #008000\">'Objective'</span>, <span style=\"color: #008000; text-decoration-color: #008000\">'ground_truth'</span>: <span style=\"color: #008000; text-decoration-color: #008000\">'Subjective'</span><span style=\"font-weight: bold\">}</span>\n",
       "</pre>\n"
      ],
      "text/plain": [
       "\u001b[1m{\u001b[0m\u001b[32m'input'\u001b[0m: \u001b[32m'The mic is great.'\u001b[0m, \u001b[32m'prediction'\u001b[0m: \u001b[32m'Objective'\u001b[0m, \u001b[32m'ground_truth'\u001b[0m: \u001b[32m'Subjective'\u001b[0m\u001b[1m}\u001b[0m\n"
      ]
     },
     "metadata": {},
     "output_type": "display_data"
    },
    {
     "name": "stderr",
     "output_type": "stream",
     "text": [
      "100%|██████████| 3/3 [00:08<00:00,  2.94s/it]"
     ]
    },
    {
     "data": {
      "text/html": [
       "<pre style=\"white-space:pre;overflow-x:auto;line-height:normal;font-family:Menlo,'DejaVu Sans Mono',consolas,'Courier New',monospace\"><span style=\"font-weight: bold\">{</span><span style=\"color: #008000; text-decoration-color: #008000\">'input'</span>: <span style=\"color: #008000; text-decoration-color: #008000\">'All three broke within two months of use.'</span>, <span style=\"color: #008000; text-decoration-color: #008000\">'prediction'</span>: <span style=\"color: #008000; text-decoration-color: #008000\">'Subjective'</span>, <span style=\"color: #008000; text-decoration-color: #008000\">'ground_truth'</span>: <span style=\"color: #008000; text-decoration-color: #008000\">'Objective'</span><span style=\"font-weight: bold\">}</span>\n",
       "</pre>\n"
      ],
      "text/plain": [
       "\u001b[1m{\u001b[0m\u001b[32m'input'\u001b[0m: \u001b[32m'All three broke within two months of use.'\u001b[0m, \u001b[32m'prediction'\u001b[0m: \u001b[32m'Subjective'\u001b[0m, \u001b[32m'ground_truth'\u001b[0m: \u001b[32m'Objective'\u001b[0m\u001b[1m}\u001b[0m\n"
      ]
     },
     "metadata": {},
     "output_type": "display_data"
    },
    {
     "name": "stderr",
     "output_type": "stream",
     "text": [
      "100%|██████████| 3/3 [00:16<00:00,  5.64s/it]\n"
     ]
    },
    {
     "data": {
      "text/html": [
       "<pre style=\"white-space:pre;overflow-x:auto;line-height:normal;font-family:Menlo,'DejaVu Sans Mono',consolas,'Courier New',monospace\"><span style=\"font-weight: bold\">[</span><span style=\"color: #008000; text-decoration-color: #008000\">'ground_truth'</span>, <span style=\"color: #008000; text-decoration-color: #008000\">'input'</span>, <span style=\"color: #008000; text-decoration-color: #008000\">'prediction'</span>, <span style=\"color: #008000; text-decoration-color: #008000\">'reason'</span><span style=\"font-weight: bold\">]</span>\n",
       "</pre>\n"
      ],
      "text/plain": [
       "\u001b[1m[\u001b[0m\u001b[32m'ground_truth'\u001b[0m, \u001b[32m'input'\u001b[0m, \u001b[32m'prediction'\u001b[0m, \u001b[32m'reason'\u001b[0m\u001b[1m]\u001b[0m\n"
      ]
     },
     "metadata": {},
     "output_type": "display_data"
    },
    {
     "name": "stderr",
     "output_type": "stream",
     "text": [
      "  0%|          | 0/3 [00:00<?, ?it/s]"
     ]
    },
    {
     "data": {
      "text/html": [
       "<pre style=\"white-space:pre;overflow-x:auto;line-height:normal;font-family:Menlo,'DejaVu Sans Mono',consolas,'Courier New',monospace\"><span style=\"font-weight: bold\">{</span><span style=\"color: #008000; text-decoration-color: #008000\">'input'</span>: <span style=\"color: #008000; text-decoration-color: #008000\">\"Not loud enough and doesn't turn on like it should.\"</span>, <span style=\"color: #008000; text-decoration-color: #008000\">'prediction'</span>: <span style=\"color: #008000; text-decoration-color: #008000\">'Subjective, Objective'</span>, \n",
       "<span style=\"color: #008000; text-decoration-color: #008000\">'ground_truth'</span>: <span style=\"color: #008000; text-decoration-color: #008000\">'Objective'</span>, <span style=\"color: #008000; text-decoration-color: #008000\">'reason'</span>: <span style=\"color: #008000; text-decoration-color: #008000\">\"The model incorrectly identified the statement as both subjective and </span>\n",
       "<span style=\"color: #008000; text-decoration-color: #008000\">objective. The statement 'Not loud enough and doesn't turn on like it should' is an objective statement as it </span>\n",
       "<span style=\"color: #008000; text-decoration-color: #008000\">describes factual information about the product's performance, not personal feelings or opinions.\"</span><span style=\"font-weight: bold\">}</span>\n",
       "</pre>\n"
      ],
      "text/plain": [
       "\u001b[1m{\u001b[0m\u001b[32m'input'\u001b[0m: \u001b[32m\"Not loud enough and doesn't turn on like it should.\"\u001b[0m, \u001b[32m'prediction'\u001b[0m: \u001b[32m'Subjective, Objective'\u001b[0m, \n",
       "\u001b[32m'ground_truth'\u001b[0m: \u001b[32m'Objective'\u001b[0m, \u001b[32m'reason'\u001b[0m: \u001b[32m\"The model incorrectly identified the statement as both subjective and \u001b[0m\n",
       "\u001b[32mobjective. The statement 'Not loud enough and doesn't turn on like it should' is an objective statement as it \u001b[0m\n",
       "\u001b[32mdescribes factual information about the product's performance, not personal feelings or opinions.\"\u001b[0m\u001b[1m}\u001b[0m\n"
      ]
     },
     "metadata": {},
     "output_type": "display_data"
    },
    {
     "name": "stderr",
     "output_type": "stream",
     "text": [
      " 67%|██████▋   | 2/3 [00:06<00:03,  3.05s/it]"
     ]
    },
    {
     "data": {
      "text/html": [
       "<pre style=\"white-space:pre;overflow-x:auto;line-height:normal;font-family:Menlo,'DejaVu Sans Mono',consolas,'Courier New',monospace\"><span style=\"font-weight: bold\">{</span><span style=\"color: #008000; text-decoration-color: #008000\">'input'</span>: <span style=\"color: #008000; text-decoration-color: #008000\">'The mic is great.'</span>, <span style=\"color: #008000; text-decoration-color: #008000\">'prediction'</span>: <span style=\"color: #008000; text-decoration-color: #008000\">'Objective'</span>, <span style=\"color: #008000; text-decoration-color: #008000\">'ground_truth'</span>: <span style=\"color: #008000; text-decoration-color: #008000\">'Subjective'</span>, <span style=\"color: #008000; text-decoration-color: #008000\">'reason'</span>: <span style=\"color: #008000; text-decoration-color: #008000\">\"The model </span>\n",
       "<span style=\"color: #008000; text-decoration-color: #008000\">incorrectly identified the statement as objective. The statement 'The mic is great' is a subjective statement as it</span>\n",
       "<span style=\"color: #008000; text-decoration-color: #008000\">expresses a personal opinion about the quality of the microphone, not a factual information.\"</span><span style=\"font-weight: bold\">}</span>\n",
       "</pre>\n"
      ],
      "text/plain": [
       "\u001b[1m{\u001b[0m\u001b[32m'input'\u001b[0m: \u001b[32m'The mic is great.'\u001b[0m, \u001b[32m'prediction'\u001b[0m: \u001b[32m'Objective'\u001b[0m, \u001b[32m'ground_truth'\u001b[0m: \u001b[32m'Subjective'\u001b[0m, \u001b[32m'reason'\u001b[0m: \u001b[32m\"The model \u001b[0m\n",
       "\u001b[32mincorrectly identified the statement as objective. The statement 'The mic is great' is a subjective statement as it\u001b[0m\n",
       "\u001b[32mexpresses a personal opinion about the quality of the microphone, not a factual information.\"\u001b[0m\u001b[1m}\u001b[0m\n"
      ]
     },
     "metadata": {},
     "output_type": "display_data"
    },
    {
     "name": "stderr",
     "output_type": "stream",
     "text": [
      "100%|██████████| 3/3 [00:11<00:00,  3.83s/it]"
     ]
    },
    {
     "data": {
      "text/html": [
       "<pre style=\"white-space:pre;overflow-x:auto;line-height:normal;font-family:Menlo,'DejaVu Sans Mono',consolas,'Courier New',monospace\"><span style=\"font-weight: bold\">{</span><span style=\"color: #008000; text-decoration-color: #008000\">'input'</span>: <span style=\"color: #008000; text-decoration-color: #008000\">'All three broke within two months of use.'</span>, <span style=\"color: #008000; text-decoration-color: #008000\">'prediction'</span>: <span style=\"color: #008000; text-decoration-color: #008000\">'Subjective'</span>, <span style=\"color: #008000; text-decoration-color: #008000\">'ground_truth'</span>: <span style=\"color: #008000; text-decoration-color: #008000\">'Objective'</span>, \n",
       "<span style=\"color: #008000; text-decoration-color: #008000\">'reason'</span>: <span style=\"color: #008000; text-decoration-color: #008000\">\"The model incorrectly identified the statement as subjective. The statement 'All three broke within two </span>\n",
       "<span style=\"color: #008000; text-decoration-color: #008000\">months of use' is a factual account of the user's experience with the product, making it objective. The model may </span>\n",
       "<span style=\"color: #008000; text-decoration-color: #008000\">have confused the negative sentiment of the statement with subjectivity.\"</span><span style=\"font-weight: bold\">}</span>\n",
       "</pre>\n"
      ],
      "text/plain": [
       "\u001b[1m{\u001b[0m\u001b[32m'input'\u001b[0m: \u001b[32m'All three broke within two months of use.'\u001b[0m, \u001b[32m'prediction'\u001b[0m: \u001b[32m'Subjective'\u001b[0m, \u001b[32m'ground_truth'\u001b[0m: \u001b[32m'Objective'\u001b[0m, \n",
       "\u001b[32m'reason'\u001b[0m: \u001b[32m\"The model incorrectly identified the statement as subjective. The statement 'All three broke within two \u001b[0m\n",
       "\u001b[32mmonths of use' is a factual account of the user's experience with the product, making it objective. The model may \u001b[0m\n",
       "\u001b[32mhave confused the negative sentiment of the statement with subjectivity.\"\u001b[0m\u001b[1m}\u001b[0m\n"
      ]
     },
     "metadata": {},
     "output_type": "display_data"
    },
    {
     "name": "stderr",
     "output_type": "stream",
     "text": [
      "100%|██████████| 3/3 [00:19<00:00,  6.37s/it]\n"
     ]
    },
    {
     "data": {
      "text/html": [
       "<pre style=\"white-space:pre;overflow-x:auto;line-height:normal;font-family:Menlo,'DejaVu Sans Mono',consolas,'Courier New',monospace\">Error analysis for skill <span style=\"color: #008000; text-decoration-color: #008000\">\"subjectivity_detection\"</span>:\n",
       "\n",
       "</pre>\n"
      ],
      "text/plain": [
       "Error analysis for skill \u001b[32m\"subjectivity_detection\"\u001b[0m:\n",
       "\n"
      ]
     },
     "metadata": {},
     "output_type": "display_data"
    },
    {
     "data": {
      "text/html": [
       "<pre style=\"white-space:pre;overflow-x:auto;line-height:normal;font-family:Menlo,'DejaVu Sans Mono',consolas,'Courier New',monospace\"><span style=\"color: #008000; text-decoration-color: #008000\">Input: Not loud enough and doesn't turn on like it should.</span>\n",
       "\n",
       "<span style=\"color: #008000; text-decoration-color: #008000\">Prediction: Subjective, Objective</span>\n",
       "\n",
       "<span style=\"color: #008000; text-decoration-color: #008000\">Ground truth: Objective</span>\n",
       "\n",
       "<span style=\"color: #008000; text-decoration-color: #008000\">Error reason: The model incorrectly identified the statement as both subjective and objective. The statement </span><span style=\"color: #008000; text-decoration-color: #008000\">'Not </span>\n",
       "<span style=\"color: #008000; text-decoration-color: #008000\">loud enough and doesn'</span><span style=\"color: #008000; text-decoration-color: #008000\">t turn on like it should' is an objective statement as it describes factual information about</span>\n",
       "<span style=\"color: #008000; text-decoration-color: #008000\">the product's performance, not personal feelings or opinions. Input: The mic is great.</span>\n",
       "\n",
       "<span style=\"color: #008000; text-decoration-color: #008000\">Prediction: Objective</span>\n",
       "\n",
       "<span style=\"color: #008000; text-decoration-color: #008000\">Ground truth: Subjective</span>\n",
       "\n",
       "<span style=\"color: #008000; text-decoration-color: #008000\">Error reason: The model incorrectly identified the statement as objective. The statement </span><span style=\"color: #008000; text-decoration-color: #008000\">'The mic is great'</span><span style=\"color: #008000; text-decoration-color: #008000\"> is a </span>\n",
       "<span style=\"color: #008000; text-decoration-color: #008000\">subjective statement as it expresses a personal opinion about the quality of the microphone, not a factual </span>\n",
       "<span style=\"color: #008000; text-decoration-color: #008000\">information. Input: All three broke within two months of use.</span>\n",
       "\n",
       "<span style=\"color: #008000; text-decoration-color: #008000\">Prediction: Subjective</span>\n",
       "\n",
       "<span style=\"color: #008000; text-decoration-color: #008000\">Ground truth: Objective</span>\n",
       "\n",
       "<span style=\"color: #008000; text-decoration-color: #008000\">Error reason: The model incorrectly identified the statement as subjective. The statement </span><span style=\"color: #008000; text-decoration-color: #008000\">'All three broke within </span>\n",
       "<span style=\"color: #008000; text-decoration-color: #008000\">two months of use'</span><span style=\"color: #008000; text-decoration-color: #008000\"> is a factual account of the user's experience with the product, making it objective. The model </span>\n",
       "<span style=\"color: #008000; text-decoration-color: #008000\">may have confused the negative sentiment of the statement with subjectivity.</span>\n",
       "</pre>\n"
      ],
      "text/plain": [
       "\u001b[32mInput: Not loud enough and doesn't turn on like it should.\u001b[0m\n",
       "\n",
       "\u001b[32mPrediction: Subjective, Objective\u001b[0m\n",
       "\n",
       "\u001b[32mGround truth: Objective\u001b[0m\n",
       "\n",
       "\u001b[32mError reason: The model incorrectly identified the statement as both subjective and objective. The statement \u001b[0m\u001b[32m'Not \u001b[0m\n",
       "\u001b[32mloud enough and doesn'\u001b[0m\u001b[32mt turn on like it should' is an objective statement as it describes factual information about\u001b[0m\n",
       "\u001b[32mthe product's performance, not personal feelings or opinions. Input: The mic is great.\u001b[0m\n",
       "\n",
       "\u001b[32mPrediction: Objective\u001b[0m\n",
       "\n",
       "\u001b[32mGround truth: Subjective\u001b[0m\n",
       "\n",
       "\u001b[32mError reason: The model incorrectly identified the statement as objective. The statement \u001b[0m\u001b[32m'The mic is great'\u001b[0m\u001b[32m is a \u001b[0m\n",
       "\u001b[32msubjective statement as it expresses a personal opinion about the quality of the microphone, not a factual \u001b[0m\n",
       "\u001b[32minformation. Input: All three broke within two months of use.\u001b[0m\n",
       "\n",
       "\u001b[32mPrediction: Subjective\u001b[0m\n",
       "\n",
       "\u001b[32mGround truth: Objective\u001b[0m\n",
       "\n",
       "\u001b[32mError reason: The model incorrectly identified the statement as subjective. The statement \u001b[0m\u001b[32m'All three broke within \u001b[0m\n",
       "\u001b[32mtwo months of use'\u001b[0m\u001b[32m is a factual account of the user's experience with the product, making it objective. The model \u001b[0m\n",
       "\u001b[32mmay have confused the negative sentiment of the statement with subjectivity.\u001b[0m\n"
      ]
     },
     "metadata": {},
     "output_type": "display_data"
    },
    {
     "data": {
      "text/html": [
       "<pre style=\"white-space:pre;overflow-x:auto;line-height:normal;font-family:Menlo,'DejaVu Sans Mono',consolas,'Courier New',monospace\">Improve <span style=\"color: #008000; text-decoration-color: #008000\">\"subjectivity_detection\"</span> skill based on analysis <span style=\"color: #808000; text-decoration-color: #808000\">...</span>\n",
       "</pre>\n"
      ],
      "text/plain": [
       "Improve \u001b[32m\"subjectivity_detection\"\u001b[0m skill based on analysis \u001b[33m...\u001b[0m\n"
      ]
     },
     "metadata": {},
     "output_type": "display_data"
    },
    {
     "data": {
      "text/html": [
       "<pre style=\"white-space:pre;overflow-x:auto;line-height:normal;font-family:Menlo,'DejaVu Sans Mono',consolas,'Courier New',monospace\"><span style=\"font-weight: bold\">{</span><span style=\"color: #008000; text-decoration-color: #008000\">'error_analysis'</span>: <span style=\"color: #008000; text-decoration-color: #008000\">\"Input: Not loud enough and doesn't turn on like it should.\\n\\nPrediction: Subjective, </span>\n",
       "<span style=\"color: #008000; text-decoration-color: #008000\">Objective\\n\\nGround truth: Objective\\n\\nError reason: The model incorrectly identified the statement as both </span>\n",
       "<span style=\"color: #008000; text-decoration-color: #008000\">subjective and objective. The statement 'Not loud enough and doesn't turn on like it should' is an objective </span>\n",
       "<span style=\"color: #008000; text-decoration-color: #008000\">statement as it describes factual information about the product's performance, not personal feelings or opinions. </span>\n",
       "<span style=\"color: #008000; text-decoration-color: #008000\">Input: The mic is great.\\n\\nPrediction: Objective\\n\\nGround truth: Subjective\\n\\nError reason: The model </span>\n",
       "<span style=\"color: #008000; text-decoration-color: #008000\">incorrectly identified the statement as objective. The statement 'The mic is great' is a subjective statement as it</span>\n",
       "<span style=\"color: #008000; text-decoration-color: #008000\">expresses a personal opinion about the quality of the microphone, not a factual information. Input: All three broke</span>\n",
       "<span style=\"color: #008000; text-decoration-color: #008000\">within two months of use.\\n\\nPrediction: Subjective\\n\\nGround truth: Objective\\n\\nError reason: The model </span>\n",
       "<span style=\"color: #008000; text-decoration-color: #008000\">incorrectly identified the statement as subjective. The statement 'All three broke within two months of use' is a </span>\n",
       "<span style=\"color: #008000; text-decoration-color: #008000\">factual account of the user's experience with the product, making it objective. The model may have confused the </span>\n",
       "<span style=\"color: #008000; text-decoration-color: #008000\">negative sentiment of the statement with subjectivity.\"</span><span style=\"font-weight: bold\">}</span>\n",
       "</pre>\n"
      ],
      "text/plain": [
       "\u001b[1m{\u001b[0m\u001b[32m'error_analysis'\u001b[0m: \u001b[32m\"Input: Not loud enough and doesn't turn on like it should.\\n\\nPrediction: Subjective, \u001b[0m\n",
       "\u001b[32mObjective\\n\\nGround truth: Objective\\n\\nError reason: The model incorrectly identified the statement as both \u001b[0m\n",
       "\u001b[32msubjective and objective. The statement 'Not loud enough and doesn't turn on like it should' is an objective \u001b[0m\n",
       "\u001b[32mstatement as it describes factual information about the product's performance, not personal feelings or opinions. \u001b[0m\n",
       "\u001b[32mInput: The mic is great.\\n\\nPrediction: Objective\\n\\nGround truth: Subjective\\n\\nError reason: The model \u001b[0m\n",
       "\u001b[32mincorrectly identified the statement as objective. The statement 'The mic is great' is a subjective statement as it\u001b[0m\n",
       "\u001b[32mexpresses a personal opinion about the quality of the microphone, not a factual information. Input: All three broke\u001b[0m\n",
       "\u001b[32mwithin two months of use.\\n\\nPrediction: Subjective\\n\\nGround truth: Objective\\n\\nError reason: The model \u001b[0m\n",
       "\u001b[32mincorrectly identified the statement as subjective. The statement 'All three broke within two months of use' is a \u001b[0m\n",
       "\u001b[32mfactual account of the user's experience with the product, making it objective. The model may have confused the \u001b[0m\n",
       "\u001b[32mnegative sentiment of the statement with subjectivity.\"\u001b[0m\u001b[1m}\u001b[0m\n"
      ]
     },
     "metadata": {},
     "output_type": "display_data"
    },
    {
     "data": {
      "text/html": [
       "<pre style=\"white-space:pre;overflow-x:auto;line-height:normal;font-family:Menlo,'DejaVu Sans Mono',consolas,'Courier New',monospace\">Updated instructions for skill <span style=\"color: #008000; text-decoration-color: #008000\">\"subjectivity_detection\"</span>:\n",
       "\n",
       "</pre>\n"
      ],
      "text/plain": [
       "Updated instructions for skill \u001b[32m\"subjectivity_detection\"\u001b[0m:\n",
       "\n"
      ]
     },
     "metadata": {},
     "output_type": "display_data"
    },
    {
     "data": {
      "text/html": [
       "<pre style=\"white-space:pre;overflow-x:auto;line-height:normal;font-family:Menlo,'DejaVu Sans Mono',consolas,'Courier New',monospace\"><span style=\"color: #008000; text-decoration-color: #008000; font-weight: bold\">Read the product review and determine if the statements made are based on factual information about the product or </span>\n",
       "<span style=\"color: #008000; text-decoration-color: #008000; font-weight: bold\">if they are based on personal feelings, opinions, or experiences. If the statement is describing a fact about the </span>\n",
       "<span style=\"color: #008000; text-decoration-color: #008000; font-weight: bold\">product, regardless of whether it is positive or negative, label it as </span><span style=\"color: #008000; text-decoration-color: #008000\">'Objective'</span><span style=\"color: #008000; text-decoration-color: #008000; font-weight: bold\">. If the statement is expressing </span>\n",
       "<span style=\"color: #008000; text-decoration-color: #008000; font-weight: bold\">a personal feeling, opinion, or experience, label it as </span><span style=\"color: #008000; text-decoration-color: #008000\">'Subjective'</span><span style=\"color: #008000; text-decoration-color: #008000; font-weight: bold\">. Be careful not to confuse the sentiment of </span>\n",
       "<span style=\"color: #008000; text-decoration-color: #008000; font-weight: bold\">the statement with its objectivity or subjectivity. For example, </span><span style=\"color: #008000; text-decoration-color: #008000\">'The product is not working'</span><span style=\"color: #008000; text-decoration-color: #008000; font-weight: bold\"> is an objective </span>\n",
       "<span style=\"color: #008000; text-decoration-color: #008000; font-weight: bold\">statement, while </span><span style=\"color: #008000; text-decoration-color: #008000\">'I love this product'</span><span style=\"color: #008000; text-decoration-color: #008000; font-weight: bold\"> is a subjective statement. Also, remember that a user's factual account of </span>\n",
       "<span style=\"color: #008000; text-decoration-color: #008000; font-weight: bold\">their experience with the product, such as </span><span style=\"color: #008000; text-decoration-color: #008000\">'All three broke within two months of use'</span><span style=\"color: #008000; text-decoration-color: #008000; font-weight: bold\">, is considered objective, not</span>\n",
       "<span style=\"color: #008000; text-decoration-color: #008000; font-weight: bold\">subjective.</span>\n",
       "</pre>\n"
      ],
      "text/plain": [
       "\u001b[1;32mRead the product review and determine if the statements made are based on factual information about the product or \u001b[0m\n",
       "\u001b[1;32mif they are based on personal feelings, opinions, or experiences. If the statement is describing a fact about the \u001b[0m\n",
       "\u001b[1;32mproduct, regardless of whether it is positive or negative, label it as \u001b[0m\u001b[32m'Objective'\u001b[0m\u001b[1;32m. If the statement is expressing \u001b[0m\n",
       "\u001b[1;32ma personal feeling, opinion, or experience, label it as \u001b[0m\u001b[32m'Subjective'\u001b[0m\u001b[1;32m. Be careful not to confuse the sentiment of \u001b[0m\n",
       "\u001b[1;32mthe statement with its objectivity or subjectivity. For example, \u001b[0m\u001b[32m'The product is not working'\u001b[0m\u001b[1;32m is an objective \u001b[0m\n",
       "\u001b[1;32mstatement, while \u001b[0m\u001b[32m'I love this product'\u001b[0m\u001b[1;32m is a subjective statement. Also, remember that a user's factual account of \u001b[0m\n",
       "\u001b[1;32mtheir experience with the product, such as \u001b[0m\u001b[32m'All three broke within two months of use'\u001b[0m\u001b[1;32m, is considered objective, not\u001b[0m\n",
       "\u001b[1;32msubjective.\u001b[0m\n"
      ]
     },
     "metadata": {},
     "output_type": "display_data"
    },
    {
     "data": {
      "text/html": [
       "<pre style=\"white-space:pre;overflow-x:auto;line-height:normal;font-family:Menlo,'DejaVu Sans Mono',consolas,'Courier New',monospace\">Re-apply subjectivity_detection skill to dataset <span style=\"color: #808000; text-decoration-color: #808000\">...</span>\n",
       "</pre>\n"
      ],
      "text/plain": [
       "Re-apply subjectivity_detection skill to dataset \u001b[33m...\u001b[0m\n"
      ]
     },
     "metadata": {},
     "output_type": "display_data"
    },
    {
     "data": {
      "text/html": [
       "<pre style=\"white-space:pre;overflow-x:auto;line-height:normal;font-family:Menlo,'DejaVu Sans Mono',consolas,'Courier New',monospace\">Applying skill: subjectivity_detection\n",
       "</pre>\n"
      ],
      "text/plain": [
       "Applying skill: subjectivity_detection\n"
      ]
     },
     "metadata": {},
     "output_type": "display_data"
    },
    {
     "data": {
      "text/html": [
       "<pre style=\"white-space:pre;overflow-x:auto;line-height:normal;font-family:Menlo,'DejaVu Sans Mono',consolas,'Courier New',monospace\"><span style=\"font-weight: bold\">[</span><span style=\"color: #008000; text-decoration-color: #008000\">'text'</span><span style=\"font-weight: bold\">]</span>\n",
       "</pre>\n"
      ],
      "text/plain": [
       "\u001b[1m[\u001b[0m\u001b[32m'text'\u001b[0m\u001b[1m]\u001b[0m\n"
      ]
     },
     "metadata": {},
     "output_type": "display_data"
    },
    {
     "name": "stderr",
     "output_type": "stream",
     "text": [
      "  0%|          | 0/5 [00:00<?, ?it/s]"
     ]
    },
    {
     "data": {
      "text/html": [
       "<pre style=\"white-space:pre;overflow-x:auto;line-height:normal;font-family:Menlo,'DejaVu Sans Mono',consolas,'Courier New',monospace\"><span style=\"font-weight: bold\">{</span><span style=\"color: #008000; text-decoration-color: #008000\">'text'</span>: <span style=\"color: #008000; text-decoration-color: #008000\">'The mic is great.'</span>, <span style=\"color: #008000; text-decoration-color: #008000\">'ground_truth'</span>: <span style=\"color: #008000; text-decoration-color: #008000\">'Subjective'</span>, <span style=\"color: #008000; text-decoration-color: #008000\">'subjectivity_detection'</span>: <span style=\"color: #008000; text-decoration-color: #008000\">'Objective'</span>, <span style=\"color: #008000; text-decoration-color: #008000\">'score'</span>: \n",
       "<span style=\"color: #008000; text-decoration-color: #008000\">'0.9999'</span><span style=\"font-weight: bold\">}</span>\n",
       "</pre>\n"
      ],
      "text/plain": [
       "\u001b[1m{\u001b[0m\u001b[32m'text'\u001b[0m: \u001b[32m'The mic is great.'\u001b[0m, \u001b[32m'ground_truth'\u001b[0m: \u001b[32m'Subjective'\u001b[0m, \u001b[32m'subjectivity_detection'\u001b[0m: \u001b[32m'Objective'\u001b[0m, \u001b[32m'score'\u001b[0m: \n",
       "\u001b[32m'0.9999'\u001b[0m\u001b[1m}\u001b[0m\n"
      ]
     },
     "metadata": {},
     "output_type": "display_data"
    },
    {
     "name": "stderr",
     "output_type": "stream",
     "text": [
      " 40%|████      | 2/5 [00:06<00:09,  3.07s/it]"
     ]
    },
    {
     "data": {
      "text/html": [
       "<pre style=\"white-space:pre;overflow-x:auto;line-height:normal;font-family:Menlo,'DejaVu Sans Mono',consolas,'Courier New',monospace\"><span style=\"font-weight: bold\">{</span><span style=\"color: #008000; text-decoration-color: #008000\">'text'</span>: <span style=\"color: #008000; text-decoration-color: #008000\">'Will order from them again!'</span>, <span style=\"color: #008000; text-decoration-color: #008000\">'ground_truth'</span>: <span style=\"color: #008000; text-decoration-color: #008000\">'Subjective'</span>, <span style=\"color: #008000; text-decoration-color: #008000\">'subjectivity_detection'</span>: <span style=\"color: #008000; text-decoration-color: #008000\">'Subjective'</span>, \n",
       "<span style=\"color: #008000; text-decoration-color: #008000\">'score'</span>: <span style=\"color: #008000; text-decoration-color: #008000\">'-0.999'</span><span style=\"font-weight: bold\">}</span>\n",
       "</pre>\n"
      ],
      "text/plain": [
       "\u001b[1m{\u001b[0m\u001b[32m'text'\u001b[0m: \u001b[32m'Will order from them again!'\u001b[0m, \u001b[32m'ground_truth'\u001b[0m: \u001b[32m'Subjective'\u001b[0m, \u001b[32m'subjectivity_detection'\u001b[0m: \u001b[32m'Subjective'\u001b[0m, \n",
       "\u001b[32m'score'\u001b[0m: \u001b[32m'-0.999'\u001b[0m\u001b[1m}\u001b[0m\n"
      ]
     },
     "metadata": {},
     "output_type": "display_data"
    },
    {
     "name": "stderr",
     "output_type": "stream",
     "text": [
      " 60%|██████    | 3/5 [00:11<00:07,  3.94s/it]"
     ]
    },
    {
     "data": {
      "text/html": [
       "<pre style=\"white-space:pre;overflow-x:auto;line-height:normal;font-family:Menlo,'DejaVu Sans Mono',consolas,'Courier New',monospace\"><span style=\"font-weight: bold\">{</span><span style=\"color: #008000; text-decoration-color: #008000\">'text'</span>: <span style=\"color: #008000; text-decoration-color: #008000\">\"Not loud enough and doesn't turn on like it should.\"</span>, <span style=\"color: #008000; text-decoration-color: #008000\">'ground_truth'</span>: <span style=\"color: #008000; text-decoration-color: #008000\">'Objective'</span>, \n",
       "<span style=\"color: #008000; text-decoration-color: #008000\">'subjectivity_detection'</span>: <span style=\"color: #008000; text-decoration-color: #008000\">'Subjective, Objective'</span>, <span style=\"color: #008000; text-decoration-color: #008000\">'score'</span>: <span style=\"color: #008000; text-decoration-color: #008000\">'0.9999, 0.9999'</span><span style=\"font-weight: bold\">}</span>\n",
       "</pre>\n"
      ],
      "text/plain": [
       "\u001b[1m{\u001b[0m\u001b[32m'text'\u001b[0m: \u001b[32m\"Not loud enough and doesn't turn on like it should.\"\u001b[0m, \u001b[32m'ground_truth'\u001b[0m: \u001b[32m'Objective'\u001b[0m, \n",
       "\u001b[32m'subjectivity_detection'\u001b[0m: \u001b[32m'Subjective, Objective'\u001b[0m, \u001b[32m'score'\u001b[0m: \u001b[32m'0.9999, 0.9999'\u001b[0m\u001b[1m}\u001b[0m\n"
      ]
     },
     "metadata": {},
     "output_type": "display_data"
    },
    {
     "name": "stderr",
     "output_type": "stream",
     "text": [
      " 80%|████████  | 4/5 [00:25<00:07,  7.92s/it]"
     ]
    },
    {
     "data": {
      "text/html": [
       "<pre style=\"white-space:pre;overflow-x:auto;line-height:normal;font-family:Menlo,'DejaVu Sans Mono',consolas,'Courier New',monospace\"><span style=\"font-weight: bold\">{</span><span style=\"color: #008000; text-decoration-color: #008000\">'text'</span>: <span style=\"color: #008000; text-decoration-color: #008000\">\"The phone doesn't seem to accept anything except CBR mp3s\"</span>, <span style=\"color: #008000; text-decoration-color: #008000\">'ground_truth'</span>: <span style=\"color: #008000; text-decoration-color: #008000\">'Objective'</span>, \n",
       "<span style=\"color: #008000; text-decoration-color: #008000\">'subjectivity_detection'</span>: <span style=\"color: #008000; text-decoration-color: #008000\">'Objective'</span>, <span style=\"color: #008000; text-decoration-color: #008000\">'score'</span>: <span style=\"color: #008000; text-decoration-color: #008000\">'0.9999'</span><span style=\"font-weight: bold\">}</span>\n",
       "</pre>\n"
      ],
      "text/plain": [
       "\u001b[1m{\u001b[0m\u001b[32m'text'\u001b[0m: \u001b[32m\"The phone doesn't seem to accept anything except CBR mp3s\"\u001b[0m, \u001b[32m'ground_truth'\u001b[0m: \u001b[32m'Objective'\u001b[0m, \n",
       "\u001b[32m'subjectivity_detection'\u001b[0m: \u001b[32m'Objective'\u001b[0m, \u001b[32m'score'\u001b[0m: \u001b[32m'0.9999'\u001b[0m\u001b[1m}\u001b[0m\n"
      ]
     },
     "metadata": {},
     "output_type": "display_data"
    },
    {
     "name": "stderr",
     "output_type": "stream",
     "text": [
      "100%|██████████| 5/5 [00:35<00:00,  8.48s/it]"
     ]
    },
    {
     "data": {
      "text/html": [
       "<pre style=\"white-space:pre;overflow-x:auto;line-height:normal;font-family:Menlo,'DejaVu Sans Mono',consolas,'Courier New',monospace\"><span style=\"font-weight: bold\">{</span><span style=\"color: #008000; text-decoration-color: #008000\">'text'</span>: <span style=\"color: #008000; text-decoration-color: #008000\">'All three broke within two months of use.'</span>, <span style=\"color: #008000; text-decoration-color: #008000\">'ground_truth'</span>: <span style=\"color: #008000; text-decoration-color: #008000\">'Objective'</span>, <span style=\"color: #008000; text-decoration-color: #008000\">'subjectivity_detection'</span>: \n",
       "<span style=\"color: #008000; text-decoration-color: #008000\">'Subjective'</span>, <span style=\"color: #008000; text-decoration-color: #008000\">'score'</span>: <span style=\"color: #008000; text-decoration-color: #008000\">'-0.999'</span><span style=\"font-weight: bold\">}</span>\n",
       "</pre>\n"
      ],
      "text/plain": [
       "\u001b[1m{\u001b[0m\u001b[32m'text'\u001b[0m: \u001b[32m'All three broke within two months of use.'\u001b[0m, \u001b[32m'ground_truth'\u001b[0m: \u001b[32m'Objective'\u001b[0m, \u001b[32m'subjectivity_detection'\u001b[0m: \n",
       "\u001b[32m'Subjective'\u001b[0m, \u001b[32m'score'\u001b[0m: \u001b[32m'-0.999'\u001b[0m\u001b[1m}\u001b[0m\n"
      ]
     },
     "metadata": {},
     "output_type": "display_data"
    },
    {
     "name": "stderr",
     "output_type": "stream",
     "text": [
      "100%|██████████| 5/5 [00:54<00:00, 10.99s/it]\n"
     ]
    },
    {
     "data": {
      "text/html": [
       "<pre style=\"white-space:pre;overflow-x:auto;line-height:normal;font-family:Menlo,'DejaVu Sans Mono',consolas,'Courier New',monospace\">Train is done!\n",
       "</pre>\n"
      ],
      "text/plain": [
       "Train is done!\n"
      ]
     },
     "metadata": {},
     "output_type": "display_data"
    }
   ],
   "source": [
    "ground_truth_signal = agent.learn(learning_iterations=3, accuracy_threshold=0.95)"
   ]
  },
  {
   "cell_type": "markdown",
   "metadata": {},
   "source": [
    "Let's see the final instructions:"
   ]
  },
  {
   "cell_type": "code",
   "execution_count": 7,
   "metadata": {},
   "outputs": [
    {
     "data": {
      "text/html": [
       "<pre style=\"white-space:pre;overflow-x:auto;line-height:normal;font-family:Menlo,'DejaVu Sans Mono',consolas,'Courier New',monospace\"><span style=\"color: #000080; text-decoration-color: #000080; font-weight: bold\">Total Agent Skills: </span><span style=\"color: #000080; text-decoration-color: #000080; font-weight: bold\">1</span>\n",
       "\n",
       "<span style=\"color: #008000; text-decoration-color: #008000; font-weight: bold; text-decoration: underline\">subjectivity_detection</span>\n",
       "<span style=\"color: #008000; text-decoration-color: #008000\">Read the product review and determine if the statements made are based on factual information about the product or </span>\n",
       "<span style=\"color: #008000; text-decoration-color: #008000\">if they are based on personal feelings, opinions, or experiences. If the statement is describing a fact about the </span>\n",
       "<span style=\"color: #008000; text-decoration-color: #008000\">product, regardless of whether it is positive or negative, label it as </span><span style=\"color: #008000; text-decoration-color: #008000\">'Objective'</span><span style=\"color: #008000; text-decoration-color: #008000\">. If the statement is expressing </span>\n",
       "<span style=\"color: #008000; text-decoration-color: #008000\">a personal feeling, opinion, or experience, label it as </span><span style=\"color: #008000; text-decoration-color: #008000\">'Subjective'</span><span style=\"color: #008000; text-decoration-color: #008000\">. Be careful not to confuse the sentiment of </span>\n",
       "<span style=\"color: #008000; text-decoration-color: #008000\">the statement with its objectivity or subjectivity. For example, </span><span style=\"color: #008000; text-decoration-color: #008000\">'The product is not working'</span><span style=\"color: #008000; text-decoration-color: #008000\"> is an objective </span>\n",
       "<span style=\"color: #008000; text-decoration-color: #008000\">statement, while </span><span style=\"color: #008000; text-decoration-color: #008000\">'I love this product'</span><span style=\"color: #008000; text-decoration-color: #008000\"> is a subjective statement. Also, remember that a user's factual account of </span>\n",
       "<span style=\"color: #008000; text-decoration-color: #008000\">their experience with the product, such as </span><span style=\"color: #008000; text-decoration-color: #008000\">'All three broke within two months of use'</span><span style=\"color: #008000; text-decoration-color: #008000\">, is considered objective, not</span>\n",
       "<span style=\"color: #008000; text-decoration-color: #008000\">subjective.</span>\n",
       "\n",
       "</pre>\n"
      ],
      "text/plain": [
       "\u001b[1;34mTotal Agent Skills: \u001b[0m\u001b[1;34m1\u001b[0m\n",
       "\n",
       "\u001b[1;4;32msubjectivity_detection\u001b[0m\n",
       "\u001b[32mRead the product review and determine if the statements made are based on factual information about the product or \u001b[0m\n",
       "\u001b[32mif they are based on personal feelings, opinions, or experiences. If the statement is describing a fact about the \u001b[0m\n",
       "\u001b[32mproduct, regardless of whether it is positive or negative, label it as \u001b[0m\u001b[32m'Objective'\u001b[0m\u001b[32m. If the statement is expressing \u001b[0m\n",
       "\u001b[32ma personal feeling, opinion, or experience, label it as \u001b[0m\u001b[32m'Subjective'\u001b[0m\u001b[32m. Be careful not to confuse the sentiment of \u001b[0m\n",
       "\u001b[32mthe statement with its objectivity or subjectivity. For example, \u001b[0m\u001b[32m'The product is not working'\u001b[0m\u001b[32m is an objective \u001b[0m\n",
       "\u001b[32mstatement, while \u001b[0m\u001b[32m'I love this product'\u001b[0m\u001b[32m is a subjective statement. Also, remember that a user's factual account of \u001b[0m\n",
       "\u001b[32mtheir experience with the product, such as \u001b[0m\u001b[32m'All three broke within two months of use'\u001b[0m\u001b[32m, is considered objective, not\u001b[0m\n",
       "\u001b[32msubjective.\u001b[0m\n",
       "\n"
      ]
     },
     "metadata": {},
     "output_type": "display_data"
    }
   ],
   "source": [
    "print(agent.skills)"
   ]
  },
  {
   "cell_type": "markdown",
   "metadata": {},
   "source": [
    "... and predictions created by the skill:"
   ]
  },
  {
   "cell_type": "code",
   "execution_count": 8,
   "metadata": {},
   "outputs": [
    {
     "data": {
      "text/html": [
       "<pre style=\"white-space:pre;overflow-x:auto;line-height:normal;font-family:Menlo,'DejaVu Sans Mono',consolas,'Courier New',monospace\">Applying skill: subjectivity_detection\n",
       "</pre>\n"
      ],
      "text/plain": [
       "Applying skill: subjectivity_detection\n"
      ]
     },
     "metadata": {},
     "output_type": "display_data"
    },
    {
     "data": {
      "text/html": [
       "<pre style=\"white-space:pre;overflow-x:auto;line-height:normal;font-family:Menlo,'DejaVu Sans Mono',consolas,'Courier New',monospace\"><span style=\"font-weight: bold\">[</span><span style=\"color: #008000; text-decoration-color: #008000\">'text'</span><span style=\"font-weight: bold\">]</span>\n",
       "</pre>\n"
      ],
      "text/plain": [
       "\u001b[1m[\u001b[0m\u001b[32m'text'\u001b[0m\u001b[1m]\u001b[0m\n"
      ]
     },
     "metadata": {},
     "output_type": "display_data"
    },
    {
     "name": "stderr",
     "output_type": "stream",
     "text": [
      "  0%|          | 0/5 [00:00<?, ?it/s]"
     ]
    },
    {
     "data": {
      "text/html": [
       "<pre style=\"white-space:pre;overflow-x:auto;line-height:normal;font-family:Menlo,'DejaVu Sans Mono',consolas,'Courier New',monospace\"><span style=\"font-weight: bold\">{</span><span style=\"color: #008000; text-decoration-color: #008000\">'text'</span>: <span style=\"color: #008000; text-decoration-color: #008000\">'The mic is great.'</span>, <span style=\"color: #008000; text-decoration-color: #008000\">'ground_truth'</span>: <span style=\"color: #008000; text-decoration-color: #008000\">'Subjective'</span><span style=\"font-weight: bold\">}</span>\n",
       "</pre>\n"
      ],
      "text/plain": [
       "\u001b[1m{\u001b[0m\u001b[32m'text'\u001b[0m: \u001b[32m'The mic is great.'\u001b[0m, \u001b[32m'ground_truth'\u001b[0m: \u001b[32m'Subjective'\u001b[0m\u001b[1m}\u001b[0m\n"
      ]
     },
     "metadata": {},
     "output_type": "display_data"
    },
    {
     "name": "stderr",
     "output_type": "stream",
     "text": [
      " 40%|████      | 2/5 [00:05<00:08,  2.97s/it]"
     ]
    },
    {
     "data": {
      "text/html": [
       "<pre style=\"white-space:pre;overflow-x:auto;line-height:normal;font-family:Menlo,'DejaVu Sans Mono',consolas,'Courier New',monospace\"><span style=\"font-weight: bold\">{</span><span style=\"color: #008000; text-decoration-color: #008000\">'text'</span>: <span style=\"color: #008000; text-decoration-color: #008000\">'Will order from them again!'</span>, <span style=\"color: #008000; text-decoration-color: #008000\">'ground_truth'</span>: <span style=\"color: #008000; text-decoration-color: #008000\">'Subjective'</span><span style=\"font-weight: bold\">}</span>\n",
       "</pre>\n"
      ],
      "text/plain": [
       "\u001b[1m{\u001b[0m\u001b[32m'text'\u001b[0m: \u001b[32m'Will order from them again!'\u001b[0m, \u001b[32m'ground_truth'\u001b[0m: \u001b[32m'Subjective'\u001b[0m\u001b[1m}\u001b[0m\n"
      ]
     },
     "metadata": {},
     "output_type": "display_data"
    },
    {
     "name": "stderr",
     "output_type": "stream",
     "text": [
      " 60%|██████    | 3/5 [00:37<00:30, 15.05s/it]"
     ]
    },
    {
     "data": {
      "text/html": [
       "<pre style=\"white-space:pre;overflow-x:auto;line-height:normal;font-family:Menlo,'DejaVu Sans Mono',consolas,'Courier New',monospace\"><span style=\"font-weight: bold\">{</span><span style=\"color: #008000; text-decoration-color: #008000\">'text'</span>: <span style=\"color: #008000; text-decoration-color: #008000\">\"Not loud enough and doesn't turn on like it should.\"</span>, <span style=\"color: #008000; text-decoration-color: #008000\">'ground_truth'</span>: <span style=\"color: #008000; text-decoration-color: #008000\">'Objective'</span><span style=\"font-weight: bold\">}</span>\n",
       "</pre>\n"
      ],
      "text/plain": [
       "\u001b[1m{\u001b[0m\u001b[32m'text'\u001b[0m: \u001b[32m\"Not loud enough and doesn't turn on like it should.\"\u001b[0m, \u001b[32m'ground_truth'\u001b[0m: \u001b[32m'Objective'\u001b[0m\u001b[1m}\u001b[0m\n"
      ]
     },
     "metadata": {},
     "output_type": "display_data"
    },
    {
     "name": "stderr",
     "output_type": "stream",
     "text": [
      " 80%|████████  | 4/5 [00:46<00:12, 12.56s/it]"
     ]
    },
    {
     "data": {
      "text/html": [
       "<pre style=\"white-space:pre;overflow-x:auto;line-height:normal;font-family:Menlo,'DejaVu Sans Mono',consolas,'Courier New',monospace\"><span style=\"font-weight: bold\">{</span><span style=\"color: #008000; text-decoration-color: #008000\">'text'</span>: <span style=\"color: #008000; text-decoration-color: #008000\">\"The phone doesn't seem to accept anything except CBR mp3s\"</span>, <span style=\"color: #008000; text-decoration-color: #008000\">'ground_truth'</span>: <span style=\"color: #008000; text-decoration-color: #008000\">'Objective'</span><span style=\"font-weight: bold\">}</span>\n",
       "</pre>\n"
      ],
      "text/plain": [
       "\u001b[1m{\u001b[0m\u001b[32m'text'\u001b[0m: \u001b[32m\"The phone doesn't seem to accept anything except CBR mp3s\"\u001b[0m, \u001b[32m'ground_truth'\u001b[0m: \u001b[32m'Objective'\u001b[0m\u001b[1m}\u001b[0m\n"
      ]
     },
     "metadata": {},
     "output_type": "display_data"
    },
    {
     "name": "stderr",
     "output_type": "stream",
     "text": [
      "100%|██████████| 5/5 [00:51<00:00,  9.88s/it]"
     ]
    },
    {
     "data": {
      "text/html": [
       "<pre style=\"white-space:pre;overflow-x:auto;line-height:normal;font-family:Menlo,'DejaVu Sans Mono',consolas,'Courier New',monospace\"><span style=\"font-weight: bold\">{</span><span style=\"color: #008000; text-decoration-color: #008000\">'text'</span>: <span style=\"color: #008000; text-decoration-color: #008000\">'All three broke within two months of use.'</span>, <span style=\"color: #008000; text-decoration-color: #008000\">'ground_truth'</span>: <span style=\"color: #008000; text-decoration-color: #008000\">'Objective'</span><span style=\"font-weight: bold\">}</span>\n",
       "</pre>\n"
      ],
      "text/plain": [
       "\u001b[1m{\u001b[0m\u001b[32m'text'\u001b[0m: \u001b[32m'All three broke within two months of use.'\u001b[0m, \u001b[32m'ground_truth'\u001b[0m: \u001b[32m'Objective'\u001b[0m\u001b[1m}\u001b[0m\n"
      ]
     },
     "metadata": {},
     "output_type": "display_data"
    },
    {
     "name": "stderr",
     "output_type": "stream",
     "text": [
      "100%|██████████| 5/5 [01:06<00:00, 13.24s/it]\n"
     ]
    },
    {
     "data": {
      "text/html": [
       "<div>\n",
       "<style scoped>\n",
       "    .dataframe tbody tr th:only-of-type {\n",
       "        vertical-align: middle;\n",
       "    }\n",
       "\n",
       "    .dataframe tbody tr th {\n",
       "        vertical-align: top;\n",
       "    }\n",
       "\n",
       "    .dataframe thead th {\n",
       "        text-align: right;\n",
       "    }\n",
       "</style>\n",
       "<table border=\"1\" class=\"dataframe\">\n",
       "  <thead>\n",
       "    <tr style=\"text-align: right;\">\n",
       "      <th></th>\n",
       "      <th>text</th>\n",
       "      <th>ground_truth</th>\n",
       "      <th>subjectivity_detection</th>\n",
       "      <th>score</th>\n",
       "    </tr>\n",
       "  </thead>\n",
       "  <tbody>\n",
       "    <tr>\n",
       "      <th>0</th>\n",
       "      <td>The mic is great.</td>\n",
       "      <td>Subjective</td>\n",
       "      <td>Objective</td>\n",
       "      <td>-0.000001</td>\n",
       "    </tr>\n",
       "    <tr>\n",
       "      <th>1</th>\n",
       "      <td>Will order from them again!</td>\n",
       "      <td>Subjective</td>\n",
       "      <td>Subjective</td>\n",
       "      <td>-0.999</td>\n",
       "    </tr>\n",
       "    <tr>\n",
       "      <th>2</th>\n",
       "      <td>Not loud enough and doesn't turn on like it sh...</td>\n",
       "      <td>Objective</td>\n",
       "      <td>Subjective, Objective</td>\n",
       "      <td>0.9999, 0.9999</td>\n",
       "    </tr>\n",
       "    <tr>\n",
       "      <th>3</th>\n",
       "      <td>The phone doesn't seem to accept anything exce...</td>\n",
       "      <td>Objective</td>\n",
       "      <td>Objective</td>\n",
       "      <td>0.9999</td>\n",
       "    </tr>\n",
       "    <tr>\n",
       "      <th>4</th>\n",
       "      <td>All three broke within two months of use.</td>\n",
       "      <td>Objective</td>\n",
       "      <td>Objective</td>\n",
       "      <td>-0.999</td>\n",
       "    </tr>\n",
       "  </tbody>\n",
       "</table>\n",
       "</div>"
      ],
      "text/plain": [
       "                                                text ground_truth  \\\n",
       "0                                  The mic is great.   Subjective   \n",
       "1                        Will order from them again!   Subjective   \n",
       "2  Not loud enough and doesn't turn on like it sh...    Objective   \n",
       "3  The phone doesn't seem to accept anything exce...    Objective   \n",
       "4          All three broke within two months of use.    Objective   \n",
       "\n",
       "  subjectivity_detection           score  \n",
       "0              Objective       -0.000001  \n",
       "1             Subjective          -0.999  \n",
       "2  Subjective, Objective  0.9999, 0.9999  \n",
       "3              Objective          0.9999  \n",
       "4              Objective          -0.999  "
      ]
     },
     "execution_count": 8,
     "metadata": {},
     "output_type": "execute_result"
    }
   ],
   "source": [
    "agent.run(dataset)"
   ]
  },
  {
   "cell_type": "markdown",
   "metadata": {},
   "source": [
    "## Applying learned skills to the real data\n",
    "\n",
    "Now as we have our Agent with evolved \"subjectivity detection\" skill, we can apply it to the real dataset without ground truth data:"
   ]
  },
  {
   "cell_type": "code",
   "execution_count": 9,
   "metadata": {},
   "outputs": [
    {
     "data": {
      "text/html": [
       "<div>\n",
       "<style scoped>\n",
       "    .dataframe tbody tr th:only-of-type {\n",
       "        vertical-align: middle;\n",
       "    }\n",
       "\n",
       "    .dataframe tbody tr th {\n",
       "        vertical-align: top;\n",
       "    }\n",
       "\n",
       "    .dataframe thead th {\n",
       "        text-align: right;\n",
       "    }\n",
       "</style>\n",
       "<table border=\"1\" class=\"dataframe\">\n",
       "  <thead>\n",
       "    <tr style=\"text-align: right;\">\n",
       "      <th></th>\n",
       "      <th>text</th>\n",
       "    </tr>\n",
       "  </thead>\n",
       "  <tbody>\n",
       "    <tr>\n",
       "      <th>0</th>\n",
       "      <td>Doesn't hold charge.</td>\n",
       "    </tr>\n",
       "    <tr>\n",
       "      <th>1</th>\n",
       "      <td>Excellent bluetooth headset</td>\n",
       "    </tr>\n",
       "    <tr>\n",
       "      <th>2</th>\n",
       "      <td>I love this thing!</td>\n",
       "    </tr>\n",
       "    <tr>\n",
       "      <th>3</th>\n",
       "      <td>VERY DISAPPOINTED.</td>\n",
       "    </tr>\n",
       "  </tbody>\n",
       "</table>\n",
       "</div>"
      ],
      "text/plain": [
       "                          text\n",
       "0         Doesn't hold charge.\n",
       "1  Excellent bluetooth headset\n",
       "2           I love this thing!\n",
       "3           VERY DISAPPOINTED."
      ]
     },
     "execution_count": 9,
     "metadata": {},
     "output_type": "execute_result"
    }
   ],
   "source": [
    "test_df = pd.DataFrame([\n",
    "    \"Doesn't hold charge.\",\n",
    "    \"Excellent bluetooth headset\",\n",
    "    \"I love this thing!\",\n",
    "    \"VERY DISAPPOINTED.\"\n",
    "], columns=['text'])\n",
    "test_df"
   ]
  },
  {
   "cell_type": "code",
   "execution_count": 10,
   "metadata": {},
   "outputs": [
    {
     "data": {
      "text/html": [
       "<pre style=\"white-space:pre;overflow-x:auto;line-height:normal;font-family:Menlo,'DejaVu Sans Mono',consolas,'Courier New',monospace\">Applying skill: subjectivity_detection\n",
       "</pre>\n"
      ],
      "text/plain": [
       "Applying skill: subjectivity_detection\n"
      ]
     },
     "metadata": {},
     "output_type": "display_data"
    },
    {
     "data": {
      "text/html": [
       "<pre style=\"white-space:pre;overflow-x:auto;line-height:normal;font-family:Menlo,'DejaVu Sans Mono',consolas,'Courier New',monospace\"><span style=\"font-weight: bold\">[</span><span style=\"color: #008000; text-decoration-color: #008000\">'text'</span><span style=\"font-weight: bold\">]</span>\n",
       "</pre>\n"
      ],
      "text/plain": [
       "\u001b[1m[\u001b[0m\u001b[32m'text'\u001b[0m\u001b[1m]\u001b[0m\n"
      ]
     },
     "metadata": {},
     "output_type": "display_data"
    },
    {
     "name": "stderr",
     "output_type": "stream",
     "text": [
      "  0%|          | 0/4 [00:00<?, ?it/s]"
     ]
    },
    {
     "data": {
      "text/html": [
       "<pre style=\"white-space:pre;overflow-x:auto;line-height:normal;font-family:Menlo,'DejaVu Sans Mono',consolas,'Courier New',monospace\"><span style=\"font-weight: bold\">{</span><span style=\"color: #008000; text-decoration-color: #008000\">'text'</span>: <span style=\"color: #008000; text-decoration-color: #008000\">\"Doesn't hold charge.\"</span><span style=\"font-weight: bold\">}</span>\n",
       "</pre>\n"
      ],
      "text/plain": [
       "\u001b[1m{\u001b[0m\u001b[32m'text'\u001b[0m: \u001b[32m\"Doesn't hold charge.\"\u001b[0m\u001b[1m}\u001b[0m\n"
      ]
     },
     "metadata": {},
     "output_type": "display_data"
    },
    {
     "name": "stderr",
     "output_type": "stream",
     "text": [
      " 50%|█████     | 2/4 [00:04<00:04,  2.33s/it]"
     ]
    },
    {
     "data": {
      "text/html": [
       "<pre style=\"white-space:pre;overflow-x:auto;line-height:normal;font-family:Menlo,'DejaVu Sans Mono',consolas,'Courier New',monospace\"><span style=\"font-weight: bold\">{</span><span style=\"color: #008000; text-decoration-color: #008000\">'text'</span>: <span style=\"color: #008000; text-decoration-color: #008000\">'Excellent bluetooth headset'</span><span style=\"font-weight: bold\">}</span>\n",
       "</pre>\n"
      ],
      "text/plain": [
       "\u001b[1m{\u001b[0m\u001b[32m'text'\u001b[0m: \u001b[32m'Excellent bluetooth headset'\u001b[0m\u001b[1m}\u001b[0m\n"
      ]
     },
     "metadata": {},
     "output_type": "display_data"
    },
    {
     "name": "stderr",
     "output_type": "stream",
     "text": [
      " 75%|███████▌  | 3/4 [00:11<00:04,  4.11s/it]"
     ]
    },
    {
     "data": {
      "text/html": [
       "<pre style=\"white-space:pre;overflow-x:auto;line-height:normal;font-family:Menlo,'DejaVu Sans Mono',consolas,'Courier New',monospace\"><span style=\"font-weight: bold\">{</span><span style=\"color: #008000; text-decoration-color: #008000\">'text'</span>: <span style=\"color: #008000; text-decoration-color: #008000\">'I love this thing!'</span><span style=\"font-weight: bold\">}</span>\n",
       "</pre>\n"
      ],
      "text/plain": [
       "\u001b[1m{\u001b[0m\u001b[32m'text'\u001b[0m: \u001b[32m'I love this thing!'\u001b[0m\u001b[1m}\u001b[0m\n"
      ]
     },
     "metadata": {},
     "output_type": "display_data"
    },
    {
     "name": "stderr",
     "output_type": "stream",
     "text": [
      "100%|██████████| 4/4 [00:17<00:00,  5.03s/it]"
     ]
    },
    {
     "data": {
      "text/html": [
       "<pre style=\"white-space:pre;overflow-x:auto;line-height:normal;font-family:Menlo,'DejaVu Sans Mono',consolas,'Courier New',monospace\"><span style=\"font-weight: bold\">{</span><span style=\"color: #008000; text-decoration-color: #008000\">'text'</span>: <span style=\"color: #008000; text-decoration-color: #008000\">'VERY DISAPPOINTED.'</span><span style=\"font-weight: bold\">}</span>\n",
       "</pre>\n"
      ],
      "text/plain": [
       "\u001b[1m{\u001b[0m\u001b[32m'text'\u001b[0m: \u001b[32m'VERY DISAPPOINTED.'\u001b[0m\u001b[1m}\u001b[0m\n"
      ]
     },
     "metadata": {},
     "output_type": "display_data"
    },
    {
     "name": "stderr",
     "output_type": "stream",
     "text": [
      "100%|██████████| 4/4 [00:23<00:00,  5.93s/it]\n"
     ]
    }
   ],
   "source": [
    "predictions = agent.run(test_df)"
   ]
  },
  {
   "cell_type": "code",
   "execution_count": 11,
   "metadata": {},
   "outputs": [
    {
     "data": {
      "text/html": [
       "<div>\n",
       "<style scoped>\n",
       "    .dataframe tbody tr th:only-of-type {\n",
       "        vertical-align: middle;\n",
       "    }\n",
       "\n",
       "    .dataframe tbody tr th {\n",
       "        vertical-align: top;\n",
       "    }\n",
       "\n",
       "    .dataframe thead th {\n",
       "        text-align: right;\n",
       "    }\n",
       "</style>\n",
       "<table border=\"1\" class=\"dataframe\">\n",
       "  <thead>\n",
       "    <tr style=\"text-align: right;\">\n",
       "      <th></th>\n",
       "      <th>text</th>\n",
       "      <th>subjectivity_detection</th>\n",
       "      <th>score</th>\n",
       "    </tr>\n",
       "  </thead>\n",
       "  <tbody>\n",
       "    <tr>\n",
       "      <th>0</th>\n",
       "      <td>Doesn't hold charge.</td>\n",
       "      <td>Objective</td>\n",
       "      <td>-0.999</td>\n",
       "    </tr>\n",
       "    <tr>\n",
       "      <th>1</th>\n",
       "      <td>Excellent bluetooth headset</td>\n",
       "      <td>Objective</td>\n",
       "      <td>-0.003</td>\n",
       "    </tr>\n",
       "    <tr>\n",
       "      <th>2</th>\n",
       "      <td>I love this thing!</td>\n",
       "      <td>Subjective</td>\n",
       "      <td>-0.999</td>\n",
       "    </tr>\n",
       "    <tr>\n",
       "      <th>3</th>\n",
       "      <td>VERY DISAPPOINTED.</td>\n",
       "      <td>Subjective</td>\n",
       "      <td>-0.999</td>\n",
       "    </tr>\n",
       "  </tbody>\n",
       "</table>\n",
       "</div>"
      ],
      "text/plain": [
       "                          text subjectivity_detection   score\n",
       "0         Doesn't hold charge.              Objective  -0.999\n",
       "1  Excellent bluetooth headset              Objective  -0.003\n",
       "2           I love this thing!             Subjective  -0.999\n",
       "3           VERY DISAPPOINTED.             Subjective  -0.999"
      ]
     },
     "execution_count": 11,
     "metadata": {},
     "output_type": "execute_result"
    }
   ],
   "source": [
    "predictions"
   ]
  }
 ],
 "metadata": {
  "kernelspec": {
   "display_name": "ally",
   "language": "python",
   "name": "python3"
  },
  "language_info": {
   "codemirror_mode": {
    "name": "ipython",
    "version": 3
   },
   "file_extension": ".py",
   "mimetype": "text/x-python",
   "name": "python",
   "nbconvert_exporter": "python",
   "pygments_lexer": "ipython3",
   "version": "3.11.6"
  }
 },
 "nbformat": 4,
 "nbformat_minor": 2
}
