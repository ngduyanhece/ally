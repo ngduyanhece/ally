{
 "cells": [
  {
   "cell_type": "markdown",
   "metadata": {},
   "source": [
    "# Learning sequence of skills\n",
    "Ally agent is able to create the sequence of skills based on the provided input/output samples.\n",
    "In the example below, we ask agent to build two skills from scratch with the following requirements:\n",
    "\n",
    "1. First skill get's nutrients `\"category\"` name as input and should produce the output similar to what we specify in `\"entities\"` (for example, list of common nutrients based on provided category)\n",
    "\n",
    "2. Second skill gets the output of the first skill (`\"entities\"`) and generate the text, using the examples provided in the ground truth.\n",
    "\n",
    "In other words, agent learns how to perform the data generation pipeline like `\"category\"` --> `\"entities\"` --> `\"description\"`. \n",
    "You can adjust to your specific use case"
   ]
  },
  {
   "cell_type": "code",
   "execution_count": 1,
   "metadata": {},
   "outputs": [],
   "source": [
    "import sys\n",
    "sys.path.append('../')\n",
    "\n",
    "from ally.skills.collection.tg import TextGenerationSkill\n",
    "\n",
    "\n",
    "\n",
    "from ally.runtimes.openai import OpenAIRuntime\n",
    "from app.core.settings import settings\n",
    "\n",
    "from ally.environments.base import StaticEnvironment\n",
    "\n",
    "from ally.skills.skillset import LinearSkillSet\n",
    "from ally.agents.base import Agent\n",
    "import pandas as pd\n",
    "\n",
    "\n",
    "openai_runtime = OpenAIRuntime(\n",
    "    verbose=True,\n",
    "    api_key=settings.openai_api_key,\n",
    "    gpt_model_name=\"gpt-3.5-turbo\",\n",
    "    max_tokens=256,\n",
    "  )\n",
    "\n",
    "\n",
    "agent = Agent(\n",
    "    \n",
    "    # Require agent to learn sequence of two skills\n",
    "    skills=LinearSkillSet(\n",
    "      skills=[\n",
    "        TextGenerationSkill(\n",
    "          name=\"skill_0\", \n",
    "          instruction_template=\"...\",\n",
    "          input_template=\"input: {category}\",\n",
    "          output_template=[{\n",
    "            \"name\": \"entities\",\n",
    "\t\t\t      \"description\": \"the output of skill_0\",\n",
    "          }]\n",
    "        ),\n",
    "        TextGenerationSkill(\n",
    "          name=\"skill_1\", \n",
    "          instruction_template=\"...\",\n",
    "          input_template=\"input: {entities}\",\n",
    "          output_template=[{\n",
    "            \"name\": \"text\",\n",
    "\t\t\t      \"description\": \"the output of skill_1\",\n",
    "          }]\n",
    "        )\n",
    "      ],\n",
    "    ),\n",
    "    runtimes={\n",
    "      'openai': openai_runtime\n",
    "\t  },\n",
    "    teacher_runtimes={\n",
    "      'openai': openai_runtime\n",
    "\t  },\n",
    "    \n",
    "    # provide ground truth demonstration in environment\n",
    "    environment=StaticEnvironment(\n",
    "        df=pd.DataFrame(\n",
    "            [{\n",
    "              \"category\": \"Macronutrients\",\n",
    "              \"entities\": \"Carbohydrates, Proteins, Fats\",\n",
    "              \"text\": \"Carbohydrates provide quick energy, proteins are essential for muscle repair and growth, and fats are vital for long-term energy storage and cell function.\"\n",
    "            }, {\n",
    "              \"category\": \"Vitamins\",\n",
    "              \"entities\": \"Vitamin A, Vitamin C, Vitamin D\",\n",
    "              \"text\": \"Vitamin A is crucial for good vision and a healthy immune system, Vitamin C helps in the repair of tissues and the enzymatic production of certain neurotransmitters, and Vitamin D is essential for strong bones and teeth as it helps the body absorb calcium.\"\n",
    "            }, {\n",
    "              \"category\": \"Minerals\",\n",
    "              \"entities\": \"Calcium, Iron, Magnesium\",\n",
    "              \"text\": \"Calcium is necessary for maintaining healthy bones and teeth, Iron is crucial for making red blood cells and transporting oxygen throughout the body, and Magnesium plays a role in over 300 enzyme reactions in the human body, including the metabolism of food, synthesis of fatty acids and proteins, and the transmission of nerve impulses.\"\n",
    "            }]\n",
    "        ),\n",
    "        ground_truth_columns={\n",
    "            'entities': 'entities',\n",
    "            'text': 'text'\n",
    "        },\n",
    "        matching_function='fuzzy',\n",
    "        matching_threshold=0.9\n",
    "    ),\n",
    ")\n",
    "    "
   ]
  },
  {
   "cell_type": "code",
   "execution_count": 2,
   "metadata": {},
   "outputs": [
    {
     "data": {
      "text/html": [
       "<pre style=\"white-space:pre;overflow-x:auto;line-height:normal;font-family:Menlo,'DejaVu Sans Mono',consolas,'Courier New',monospace\">\n",
       "\n",
       "=&gt; Iteration #<span style=\"color: #008080; text-decoration-color: #008080; font-weight: bold\">0</span>: Getting feedback, analyzing and improving <span style=\"color: #808000; text-decoration-color: #808000\">...</span>\n",
       "</pre>\n"
      ],
      "text/plain": [
       "\n",
       "\n",
       "=> Iteration #\u001b[1;36m0\u001b[0m: Getting feedback, analyzing and improving \u001b[33m...\u001b[0m\n"
      ]
     },
     "metadata": {},
     "output_type": "display_data"
    },
    {
     "data": {
      "text/html": [
       "<pre style=\"white-space:pre;overflow-x:auto;line-height:normal;font-family:Menlo,'DejaVu Sans Mono',consolas,'Courier New',monospace\">Applying skill: skill_0\n",
       "</pre>\n"
      ],
      "text/plain": [
       "Applying skill: skill_0\n"
      ]
     },
     "metadata": {},
     "output_type": "display_data"
    },
    {
     "data": {
      "text/html": [
       "<pre style=\"white-space:pre;overflow-x:auto;line-height:normal;font-family:Menlo,'DejaVu Sans Mono',consolas,'Courier New',monospace\"><span style=\"font-weight: bold\">[</span><span style=\"color: #008000; text-decoration-color: #008000\">'category'</span><span style=\"font-weight: bold\">]</span>\n",
       "</pre>\n"
      ],
      "text/plain": [
       "\u001b[1m[\u001b[0m\u001b[32m'category'\u001b[0m\u001b[1m]\u001b[0m\n"
      ]
     },
     "metadata": {},
     "output_type": "display_data"
    },
    {
     "name": "stderr",
     "output_type": "stream",
     "text": [
      "  0%|          | 0/3 [00:00<?, ?it/s]"
     ]
    },
    {
     "data": {
      "text/html": [
       "<pre style=\"white-space:pre;overflow-x:auto;line-height:normal;font-family:Menlo,'DejaVu Sans Mono',consolas,'Courier New',monospace\"><span style=\"font-weight: bold\">{</span><span style=\"color: #008000; text-decoration-color: #008000\">'category'</span>: <span style=\"color: #008000; text-decoration-color: #008000\">'Macronutrients'</span>, <span style=\"color: #008000; text-decoration-color: #008000\">'entities'</span>: <span style=\"color: #008000; text-decoration-color: #008000\">'Carbohydrates, Proteins, Fats'</span>, <span style=\"color: #008000; text-decoration-color: #008000\">'text'</span>: <span style=\"color: #008000; text-decoration-color: #008000\">'Carbohydrates provide quick </span>\n",
       "<span style=\"color: #008000; text-decoration-color: #008000\">energy, proteins are essential for muscle repair and growth, and fats are vital for long-term energy storage and </span>\n",
       "<span style=\"color: #008000; text-decoration-color: #008000\">cell function.'</span><span style=\"font-weight: bold\">}</span>\n",
       "</pre>\n"
      ],
      "text/plain": [
       "\u001b[1m{\u001b[0m\u001b[32m'category'\u001b[0m: \u001b[32m'Macronutrients'\u001b[0m, \u001b[32m'entities'\u001b[0m: \u001b[32m'Carbohydrates, Proteins, Fats'\u001b[0m, \u001b[32m'text'\u001b[0m: \u001b[32m'Carbohydrates provide quick \u001b[0m\n",
       "\u001b[32menergy, proteins are essential for muscle repair and growth, and fats are vital for long-term energy storage and \u001b[0m\n",
       "\u001b[32mcell function.'\u001b[0m\u001b[1m}\u001b[0m\n"
      ]
     },
     "metadata": {},
     "output_type": "display_data"
    },
    {
     "name": "stderr",
     "output_type": "stream",
     "text": [
      " 67%|██████▋   | 2/3 [00:02<00:01,  1.23s/it]"
     ]
    },
    {
     "data": {
      "text/html": [
       "<pre style=\"white-space:pre;overflow-x:auto;line-height:normal;font-family:Menlo,'DejaVu Sans Mono',consolas,'Courier New',monospace\"><span style=\"font-weight: bold\">{</span><span style=\"color: #008000; text-decoration-color: #008000\">'category'</span>: <span style=\"color: #008000; text-decoration-color: #008000\">'Vitamins'</span>, <span style=\"color: #008000; text-decoration-color: #008000\">'entities'</span>: <span style=\"color: #008000; text-decoration-color: #008000\">'Vitamin A, Vitamin C, Vitamin D'</span>, <span style=\"color: #008000; text-decoration-color: #008000\">'text'</span>: <span style=\"color: #008000; text-decoration-color: #008000\">'Vitamin A is crucial for good </span>\n",
       "<span style=\"color: #008000; text-decoration-color: #008000\">vision and a healthy immune system, Vitamin C helps in the repair of tissues and the enzymatic production of </span>\n",
       "<span style=\"color: #008000; text-decoration-color: #008000\">certain neurotransmitters, and Vitamin D is essential for strong bones and teeth as it helps the body absorb </span>\n",
       "<span style=\"color: #008000; text-decoration-color: #008000\">calcium.'</span><span style=\"font-weight: bold\">}</span>\n",
       "</pre>\n"
      ],
      "text/plain": [
       "\u001b[1m{\u001b[0m\u001b[32m'category'\u001b[0m: \u001b[32m'Vitamins'\u001b[0m, \u001b[32m'entities'\u001b[0m: \u001b[32m'Vitamin A, Vitamin C, Vitamin D'\u001b[0m, \u001b[32m'text'\u001b[0m: \u001b[32m'Vitamin A is crucial for good \u001b[0m\n",
       "\u001b[32mvision and a healthy immune system, Vitamin C helps in the repair of tissues and the enzymatic production of \u001b[0m\n",
       "\u001b[32mcertain neurotransmitters, and Vitamin D is essential for strong bones and teeth as it helps the body absorb \u001b[0m\n",
       "\u001b[32mcalcium.'\u001b[0m\u001b[1m}\u001b[0m\n"
      ]
     },
     "metadata": {},
     "output_type": "display_data"
    },
    {
     "name": "stderr",
     "output_type": "stream",
     "text": [
      "100%|██████████| 3/3 [00:09<00:00,  3.67s/it]"
     ]
    },
    {
     "data": {
      "text/html": [
       "<pre style=\"white-space:pre;overflow-x:auto;line-height:normal;font-family:Menlo,'DejaVu Sans Mono',consolas,'Courier New',monospace\"><span style=\"font-weight: bold\">{</span><span style=\"color: #008000; text-decoration-color: #008000\">'category'</span>: <span style=\"color: #008000; text-decoration-color: #008000\">'Minerals'</span>, <span style=\"color: #008000; text-decoration-color: #008000\">'entities'</span>: <span style=\"color: #008000; text-decoration-color: #008000\">'Calcium, Iron, Magnesium'</span>, <span style=\"color: #008000; text-decoration-color: #008000\">'text'</span>: <span style=\"color: #008000; text-decoration-color: #008000\">'Calcium is necessary for maintaining </span>\n",
       "<span style=\"color: #008000; text-decoration-color: #008000\">healthy bones and teeth, Iron is crucial for making red blood cells and transporting oxygen throughout the body, </span>\n",
       "<span style=\"color: #008000; text-decoration-color: #008000\">and Magnesium plays a role in over 300 enzyme reactions in the human body, including the metabolism of food, </span>\n",
       "<span style=\"color: #008000; text-decoration-color: #008000\">synthesis of fatty acids and proteins, and the transmission of nerve impulses.'</span><span style=\"font-weight: bold\">}</span>\n",
       "</pre>\n"
      ],
      "text/plain": [
       "\u001b[1m{\u001b[0m\u001b[32m'category'\u001b[0m: \u001b[32m'Minerals'\u001b[0m, \u001b[32m'entities'\u001b[0m: \u001b[32m'Calcium, Iron, Magnesium'\u001b[0m, \u001b[32m'text'\u001b[0m: \u001b[32m'Calcium is necessary for maintaining \u001b[0m\n",
       "\u001b[32mhealthy bones and teeth, Iron is crucial for making red blood cells and transporting oxygen throughout the body, \u001b[0m\n",
       "\u001b[32mand Magnesium plays a role in over 300 enzyme reactions in the human body, including the metabolism of food, \u001b[0m\n",
       "\u001b[32msynthesis of fatty acids and proteins, and the transmission of nerve impulses.'\u001b[0m\u001b[1m}\u001b[0m\n"
      ]
     },
     "metadata": {},
     "output_type": "display_data"
    },
    {
     "name": "stderr",
     "output_type": "stream",
     "text": [
      "100%|██████████| 3/3 [00:12<00:00,  4.11s/it]\n"
     ]
    },
    {
     "data": {
      "text/html": [
       "<pre style=\"white-space:pre;overflow-x:auto;line-height:normal;font-family:Menlo,'DejaVu Sans Mono',consolas,'Courier New',monospace\">Applying skill: skill_1\n",
       "</pre>\n"
      ],
      "text/plain": [
       "Applying skill: skill_1\n"
      ]
     },
     "metadata": {},
     "output_type": "display_data"
    },
    {
     "data": {
      "text/html": [
       "<pre style=\"white-space:pre;overflow-x:auto;line-height:normal;font-family:Menlo,'DejaVu Sans Mono',consolas,'Courier New',monospace\"><span style=\"font-weight: bold\">[</span><span style=\"color: #008000; text-decoration-color: #008000\">'entities'</span><span style=\"font-weight: bold\">]</span>\n",
       "</pre>\n"
      ],
      "text/plain": [
       "\u001b[1m[\u001b[0m\u001b[32m'entities'\u001b[0m\u001b[1m]\u001b[0m\n"
      ]
     },
     "metadata": {},
     "output_type": "display_data"
    },
    {
     "name": "stderr",
     "output_type": "stream",
     "text": [
      "  0%|          | 0/3 [00:00<?, ?it/s]"
     ]
    },
    {
     "data": {
      "text/html": [
       "<pre style=\"white-space:pre;overflow-x:auto;line-height:normal;font-family:Menlo,'DejaVu Sans Mono',consolas,'Courier New',monospace\"><span style=\"font-weight: bold\">{</span><span style=\"color: #008000; text-decoration-color: #008000\">'category'</span>: <span style=\"color: #008000; text-decoration-color: #008000\">'Macronutrients'</span>, <span style=\"color: #008000; text-decoration-color: #008000\">'text'</span>: <span style=\"color: #008000; text-decoration-color: #008000\">'Carbohydrates provide quick energy, proteins are essential for muscle </span>\n",
       "<span style=\"color: #008000; text-decoration-color: #008000\">repair and growth, and fats are vital for long-term energy storage and cell function.'</span>, <span style=\"color: #008000; text-decoration-color: #008000\">'entities'</span>: \n",
       "<span style=\"color: #008000; text-decoration-color: #008000\">'Macronutrients'</span><span style=\"font-weight: bold\">}</span>\n",
       "</pre>\n"
      ],
      "text/plain": [
       "\u001b[1m{\u001b[0m\u001b[32m'category'\u001b[0m: \u001b[32m'Macronutrients'\u001b[0m, \u001b[32m'text'\u001b[0m: \u001b[32m'Carbohydrates provide quick energy, proteins are essential for muscle \u001b[0m\n",
       "\u001b[32mrepair and growth, and fats are vital for long-term energy storage and cell function.'\u001b[0m, \u001b[32m'entities'\u001b[0m: \n",
       "\u001b[32m'Macronutrients'\u001b[0m\u001b[1m}\u001b[0m\n"
      ]
     },
     "metadata": {},
     "output_type": "display_data"
    },
    {
     "name": "stderr",
     "output_type": "stream",
     "text": [
      " 67%|██████▋   | 2/3 [00:13<00:06,  6.55s/it]"
     ]
    },
    {
     "data": {
      "text/html": [
       "<pre style=\"white-space:pre;overflow-x:auto;line-height:normal;font-family:Menlo,'DejaVu Sans Mono',consolas,'Courier New',monospace\"><span style=\"font-weight: bold\">{</span><span style=\"color: #008000; text-decoration-color: #008000\">'category'</span>: <span style=\"color: #008000; text-decoration-color: #008000\">'Vitamins'</span>, <span style=\"color: #008000; text-decoration-color: #008000\">'text'</span>: <span style=\"color: #008000; text-decoration-color: #008000\">'Vitamin A is crucial for good vision and a healthy immune system, Vitamin C helps</span>\n",
       "<span style=\"color: #008000; text-decoration-color: #008000\">in the repair of tissues and the enzymatic production of certain neurotransmitters, and Vitamin D is essential for </span>\n",
       "<span style=\"color: #008000; text-decoration-color: #008000\">strong bones and teeth as it helps the body absorb calcium.'</span>, <span style=\"color: #008000; text-decoration-color: #008000\">'entities'</span>: <span style=\"color: #008000; text-decoration-color: #008000\">'Vitamins'</span><span style=\"font-weight: bold\">}</span>\n",
       "</pre>\n"
      ],
      "text/plain": [
       "\u001b[1m{\u001b[0m\u001b[32m'category'\u001b[0m: \u001b[32m'Vitamins'\u001b[0m, \u001b[32m'text'\u001b[0m: \u001b[32m'Vitamin A is crucial for good vision and a healthy immune system, Vitamin C helps\u001b[0m\n",
       "\u001b[32min the repair of tissues and the enzymatic production of certain neurotransmitters, and Vitamin D is essential for \u001b[0m\n",
       "\u001b[32mstrong bones and teeth as it helps the body absorb calcium.'\u001b[0m, \u001b[32m'entities'\u001b[0m: \u001b[32m'Vitamins'\u001b[0m\u001b[1m}\u001b[0m\n"
      ]
     },
     "metadata": {},
     "output_type": "display_data"
    },
    {
     "name": "stderr",
     "output_type": "stream",
     "text": [
      "100%|██████████| 3/3 [00:26<00:00,  9.58s/it]"
     ]
    },
    {
     "data": {
      "text/html": [
       "<pre style=\"white-space:pre;overflow-x:auto;line-height:normal;font-family:Menlo,'DejaVu Sans Mono',consolas,'Courier New',monospace\"><span style=\"font-weight: bold\">{</span><span style=\"color: #008000; text-decoration-color: #008000\">'category'</span>: <span style=\"color: #008000; text-decoration-color: #008000\">'Minerals'</span>, <span style=\"color: #008000; text-decoration-color: #008000\">'text'</span>: <span style=\"color: #008000; text-decoration-color: #008000\">'Calcium is necessary for maintaining healthy bones and teeth, Iron is crucial for</span>\n",
       "<span style=\"color: #008000; text-decoration-color: #008000\">making red blood cells and transporting oxygen throughout the body, and Magnesium plays a role in over 300 enzyme </span>\n",
       "<span style=\"color: #008000; text-decoration-color: #008000\">reactions in the human body, including the metabolism of food, synthesis of fatty acids and proteins, and the </span>\n",
       "<span style=\"color: #008000; text-decoration-color: #008000\">transmission of nerve impulses.'</span>, <span style=\"color: #008000; text-decoration-color: #008000\">'entities'</span>: <span style=\"color: #008000; text-decoration-color: #008000\">'Minerals'</span><span style=\"font-weight: bold\">}</span>\n",
       "</pre>\n"
      ],
      "text/plain": [
       "\u001b[1m{\u001b[0m\u001b[32m'category'\u001b[0m: \u001b[32m'Minerals'\u001b[0m, \u001b[32m'text'\u001b[0m: \u001b[32m'Calcium is necessary for maintaining healthy bones and teeth, Iron is crucial for\u001b[0m\n",
       "\u001b[32mmaking red blood cells and transporting oxygen throughout the body, and Magnesium plays a role in over 300 enzyme \u001b[0m\n",
       "\u001b[32mreactions in the human body, including the metabolism of food, synthesis of fatty acids and proteins, and the \u001b[0m\n",
       "\u001b[32mtransmission of nerve impulses.'\u001b[0m, \u001b[32m'entities'\u001b[0m: \u001b[32m'Minerals'\u001b[0m\u001b[1m}\u001b[0m\n"
      ]
     },
     "metadata": {},
     "output_type": "display_data"
    },
    {
     "name": "stderr",
     "output_type": "stream",
     "text": [
      "100%|██████████| 3/3 [00:35<00:00, 11.73s/it]\n"
     ]
    },
    {
     "data": {
      "text/html": [
       "<pre style=\"white-space:pre;overflow-x:auto;line-height:normal;font-family:Menlo,'DejaVu Sans Mono',consolas,'Courier New',monospace\">Predictions and feedback:\n",
       "</pre>\n"
      ],
      "text/plain": [
       "Predictions and feedback:\n"
      ]
     },
     "metadata": {},
     "output_type": "display_data"
    },
    {
     "data": {
      "text/html": [
       "<pre style=\"white-space:pre;overflow-x:auto;line-height:normal;font-family:Menlo,'DejaVu Sans Mono',consolas,'Courier New',monospace\">                                                                                                                   \n",
       " <span style=\"color: #800080; text-decoration-color: #800080; font-weight: bold\"> category       </span> <span style=\"color: #800080; text-decoration-color: #800080; font-weight: bold\"> entities       </span> <span style=\"color: #800080; text-decoration-color: #800080; font-weight: bold\"> text              </span> <span style=\"color: #800080; text-decoration-color: #800080; font-weight: bold\"> entities </span> <span style=\"color: #800080; text-decoration-color: #800080; font-weight: bold\"> text  </span> <span style=\"color: #800080; text-decoration-color: #800080; font-weight: bold\"> entities__fb      </span> <span style=\"color: #800080; text-decoration-color: #800080; font-weight: bold\"> text__fb           </span> \n",
       " ───────────────────────────────────────────────────────────────────────────────────────────────────────────────── \n",
       "  Macronutrients   Macronutrients   Macronutrients      False      False   Incorrect. Must     Incorrect. Must be  \n",
       "                                    are the three                          be equal to         equal to            \n",
       "                                    main nutrients                         Carbohydrates,      Carbohydrates       \n",
       "                                    that provide                           Proteins, Fats      provide quick       \n",
       "                                    energy to the                                              energy, proteins    \n",
       "                                    body:                                                      are essential for   \n",
       "                                    carbohydrates,                                             muscle repair and   \n",
       "                                    proteins, and                                              growth, and fats    \n",
       "                                    fats.                                                      are vital for       \n",
       "                                    Carbohydrates are                                          long-term energy    \n",
       "                                    the body's main                                            storage and cell    \n",
       "                                    source of energy                                           function.           \n",
       "                                    and can be found                                                               \n",
       "                                    in foods like                                                                  \n",
       "                                    bread, pasta, and                                                              \n",
       "                                    fruits. Proteins                                                               \n",
       "                                    are essential for                                                              \n",
       "                                    building and                                                                   \n",
       "                                    repairing tissues                                                              \n",
       "                                    and can be found                                                               \n",
       "                                    in foods like                                                                  \n",
       "                                    meat, fish, and                                                                \n",
       "                                    beans. Fats are a                                                              \n",
       "                                    concentrated                                                                   \n",
       "                                    source of energy                                                               \n",
       "                                    and can be found                                                               \n",
       "                                    in foods like                                                                  \n",
       "                                    oils, butter, and                                                              \n",
       "                                    nuts. Balancing                                                                \n",
       "                                    these                                                                          \n",
       "                                    macronutrients is                                                              \n",
       "                                    important for                                                                  \n",
       "                                    maintaining a                                                                  \n",
       "                                    healthy diet.                                                                  \n",
       " <span style=\"color: #7f7f7f; text-decoration-color: #7f7f7f\"> Vitamins       </span> <span style=\"color: #7f7f7f; text-decoration-color: #7f7f7f\"> Vitamins       </span> <span style=\"color: #7f7f7f; text-decoration-color: #7f7f7f\"> Vitamins are      </span> <span style=\"color: #7f7f7f; text-decoration-color: #7f7f7f\"> False    </span> <span style=\"color: #7f7f7f; text-decoration-color: #7f7f7f\"> False </span> <span style=\"color: #7f7f7f; text-decoration-color: #7f7f7f\"> Incorrect. Must   </span> <span style=\"color: #7f7f7f; text-decoration-color: #7f7f7f\"> Incorrect. Must be </span> \n",
       " <span style=\"color: #7f7f7f; text-decoration-color: #7f7f7f\">                </span> <span style=\"color: #7f7f7f; text-decoration-color: #7f7f7f\">                </span> <span style=\"color: #7f7f7f; text-decoration-color: #7f7f7f\"> organic compounds </span> <span style=\"color: #7f7f7f; text-decoration-color: #7f7f7f\">          </span> <span style=\"color: #7f7f7f; text-decoration-color: #7f7f7f\">       </span> <span style=\"color: #7f7f7f; text-decoration-color: #7f7f7f\"> be equal to       </span> <span style=\"color: #7f7f7f; text-decoration-color: #7f7f7f\"> equal to Vitamin A </span> \n",
       " <span style=\"color: #7f7f7f; text-decoration-color: #7f7f7f\">                </span> <span style=\"color: #7f7f7f; text-decoration-color: #7f7f7f\">                </span> <span style=\"color: #7f7f7f; text-decoration-color: #7f7f7f\"> that are          </span> <span style=\"color: #7f7f7f; text-decoration-color: #7f7f7f\">          </span> <span style=\"color: #7f7f7f; text-decoration-color: #7f7f7f\">       </span> <span style=\"color: #7f7f7f; text-decoration-color: #7f7f7f\"> Vitamin A,        </span> <span style=\"color: #7f7f7f; text-decoration-color: #7f7f7f\"> is crucial for     </span> \n",
       " <span style=\"color: #7f7f7f; text-decoration-color: #7f7f7f\">                </span> <span style=\"color: #7f7f7f; text-decoration-color: #7f7f7f\">                </span> <span style=\"color: #7f7f7f; text-decoration-color: #7f7f7f\"> essential for the </span> <span style=\"color: #7f7f7f; text-decoration-color: #7f7f7f\">          </span> <span style=\"color: #7f7f7f; text-decoration-color: #7f7f7f\">       </span> <span style=\"color: #7f7f7f; text-decoration-color: #7f7f7f\"> Vitamin C,        </span> <span style=\"color: #7f7f7f; text-decoration-color: #7f7f7f\"> good vision and a  </span> \n",
       " <span style=\"color: #7f7f7f; text-decoration-color: #7f7f7f\">                </span> <span style=\"color: #7f7f7f; text-decoration-color: #7f7f7f\">                </span> <span style=\"color: #7f7f7f; text-decoration-color: #7f7f7f\"> proper            </span> <span style=\"color: #7f7f7f; text-decoration-color: #7f7f7f\">          </span> <span style=\"color: #7f7f7f; text-decoration-color: #7f7f7f\">       </span> <span style=\"color: #7f7f7f; text-decoration-color: #7f7f7f\"> Vitamin D         </span> <span style=\"color: #7f7f7f; text-decoration-color: #7f7f7f\"> healthy immune     </span> \n",
       " <span style=\"color: #7f7f7f; text-decoration-color: #7f7f7f\">                </span> <span style=\"color: #7f7f7f; text-decoration-color: #7f7f7f\">                </span> <span style=\"color: #7f7f7f; text-decoration-color: #7f7f7f\"> functioning of    </span> <span style=\"color: #7f7f7f; text-decoration-color: #7f7f7f\">          </span> <span style=\"color: #7f7f7f; text-decoration-color: #7f7f7f\">       </span> <span style=\"color: #7f7f7f; text-decoration-color: #7f7f7f\">                   </span> <span style=\"color: #7f7f7f; text-decoration-color: #7f7f7f\"> system, Vitamin C  </span> \n",
       " <span style=\"color: #7f7f7f; text-decoration-color: #7f7f7f\">                </span> <span style=\"color: #7f7f7f; text-decoration-color: #7f7f7f\">                </span> <span style=\"color: #7f7f7f; text-decoration-color: #7f7f7f\"> the body. They    </span> <span style=\"color: #7f7f7f; text-decoration-color: #7f7f7f\">          </span> <span style=\"color: #7f7f7f; text-decoration-color: #7f7f7f\">       </span> <span style=\"color: #7f7f7f; text-decoration-color: #7f7f7f\">                   </span> <span style=\"color: #7f7f7f; text-decoration-color: #7f7f7f\"> helps in the       </span> \n",
       " <span style=\"color: #7f7f7f; text-decoration-color: #7f7f7f\">                </span> <span style=\"color: #7f7f7f; text-decoration-color: #7f7f7f\">                </span> <span style=\"color: #7f7f7f; text-decoration-color: #7f7f7f\"> are               </span> <span style=\"color: #7f7f7f; text-decoration-color: #7f7f7f\">          </span> <span style=\"color: #7f7f7f; text-decoration-color: #7f7f7f\">       </span> <span style=\"color: #7f7f7f; text-decoration-color: #7f7f7f\">                   </span> <span style=\"color: #7f7f7f; text-decoration-color: #7f7f7f\"> repair of tissues  </span> \n",
       " <span style=\"color: #7f7f7f; text-decoration-color: #7f7f7f\">                </span> <span style=\"color: #7f7f7f; text-decoration-color: #7f7f7f\">                </span> <span style=\"color: #7f7f7f; text-decoration-color: #7f7f7f\"> micronutrients    </span> <span style=\"color: #7f7f7f; text-decoration-color: #7f7f7f\">          </span> <span style=\"color: #7f7f7f; text-decoration-color: #7f7f7f\">       </span> <span style=\"color: #7f7f7f; text-decoration-color: #7f7f7f\">                   </span> <span style=\"color: #7f7f7f; text-decoration-color: #7f7f7f\"> and the enzymatic  </span> \n",
       " <span style=\"color: #7f7f7f; text-decoration-color: #7f7f7f\">                </span> <span style=\"color: #7f7f7f; text-decoration-color: #7f7f7f\">                </span> <span style=\"color: #7f7f7f; text-decoration-color: #7f7f7f\"> that are required </span> <span style=\"color: #7f7f7f; text-decoration-color: #7f7f7f\">          </span> <span style=\"color: #7f7f7f; text-decoration-color: #7f7f7f\">       </span> <span style=\"color: #7f7f7f; text-decoration-color: #7f7f7f\">                   </span> <span style=\"color: #7f7f7f; text-decoration-color: #7f7f7f\"> production of      </span> \n",
       " <span style=\"color: #7f7f7f; text-decoration-color: #7f7f7f\">                </span> <span style=\"color: #7f7f7f; text-decoration-color: #7f7f7f\">                </span> <span style=\"color: #7f7f7f; text-decoration-color: #7f7f7f\"> in small amounts  </span> <span style=\"color: #7f7f7f; text-decoration-color: #7f7f7f\">          </span> <span style=\"color: #7f7f7f; text-decoration-color: #7f7f7f\">       </span> <span style=\"color: #7f7f7f; text-decoration-color: #7f7f7f\">                   </span> <span style=\"color: #7f7f7f; text-decoration-color: #7f7f7f\"> certain            </span> \n",
       " <span style=\"color: #7f7f7f; text-decoration-color: #7f7f7f\">                </span> <span style=\"color: #7f7f7f; text-decoration-color: #7f7f7f\">                </span> <span style=\"color: #7f7f7f; text-decoration-color: #7f7f7f\"> and play a        </span> <span style=\"color: #7f7f7f; text-decoration-color: #7f7f7f\">          </span> <span style=\"color: #7f7f7f; text-decoration-color: #7f7f7f\">       </span> <span style=\"color: #7f7f7f; text-decoration-color: #7f7f7f\">                   </span> <span style=\"color: #7f7f7f; text-decoration-color: #7f7f7f\"> neurotransmitters, </span> \n",
       " <span style=\"color: #7f7f7f; text-decoration-color: #7f7f7f\">                </span> <span style=\"color: #7f7f7f; text-decoration-color: #7f7f7f\">                </span> <span style=\"color: #7f7f7f; text-decoration-color: #7f7f7f\"> crucial role in   </span> <span style=\"color: #7f7f7f; text-decoration-color: #7f7f7f\">          </span> <span style=\"color: #7f7f7f; text-decoration-color: #7f7f7f\">       </span> <span style=\"color: #7f7f7f; text-decoration-color: #7f7f7f\">                   </span> <span style=\"color: #7f7f7f; text-decoration-color: #7f7f7f\"> and Vitamin D is   </span> \n",
       " <span style=\"color: #7f7f7f; text-decoration-color: #7f7f7f\">                </span> <span style=\"color: #7f7f7f; text-decoration-color: #7f7f7f\">                </span> <span style=\"color: #7f7f7f; text-decoration-color: #7f7f7f\"> various           </span> <span style=\"color: #7f7f7f; text-decoration-color: #7f7f7f\">          </span> <span style=\"color: #7f7f7f; text-decoration-color: #7f7f7f\">       </span> <span style=\"color: #7f7f7f; text-decoration-color: #7f7f7f\">                   </span> <span style=\"color: #7f7f7f; text-decoration-color: #7f7f7f\"> essential for      </span> \n",
       " <span style=\"color: #7f7f7f; text-decoration-color: #7f7f7f\">                </span> <span style=\"color: #7f7f7f; text-decoration-color: #7f7f7f\">                </span> <span style=\"color: #7f7f7f; text-decoration-color: #7f7f7f\"> physiological     </span> <span style=\"color: #7f7f7f; text-decoration-color: #7f7f7f\">          </span> <span style=\"color: #7f7f7f; text-decoration-color: #7f7f7f\">       </span> <span style=\"color: #7f7f7f; text-decoration-color: #7f7f7f\">                   </span> <span style=\"color: #7f7f7f; text-decoration-color: #7f7f7f\"> strong bones and   </span> \n",
       " <span style=\"color: #7f7f7f; text-decoration-color: #7f7f7f\">                </span> <span style=\"color: #7f7f7f; text-decoration-color: #7f7f7f\">                </span> <span style=\"color: #7f7f7f; text-decoration-color: #7f7f7f\"> processes. There  </span> <span style=\"color: #7f7f7f; text-decoration-color: #7f7f7f\">          </span> <span style=\"color: #7f7f7f; text-decoration-color: #7f7f7f\">       </span> <span style=\"color: #7f7f7f; text-decoration-color: #7f7f7f\">                   </span> <span style=\"color: #7f7f7f; text-decoration-color: #7f7f7f\"> teeth as it helps  </span> \n",
       " <span style=\"color: #7f7f7f; text-decoration-color: #7f7f7f\">                </span> <span style=\"color: #7f7f7f; text-decoration-color: #7f7f7f\">                </span> <span style=\"color: #7f7f7f; text-decoration-color: #7f7f7f\"> are 13 essential  </span> <span style=\"color: #7f7f7f; text-decoration-color: #7f7f7f\">          </span> <span style=\"color: #7f7f7f; text-decoration-color: #7f7f7f\">       </span> <span style=\"color: #7f7f7f; text-decoration-color: #7f7f7f\">                   </span> <span style=\"color: #7f7f7f; text-decoration-color: #7f7f7f\"> the body absorb    </span> \n",
       " <span style=\"color: #7f7f7f; text-decoration-color: #7f7f7f\">                </span> <span style=\"color: #7f7f7f; text-decoration-color: #7f7f7f\">                </span> <span style=\"color: #7f7f7f; text-decoration-color: #7f7f7f\"> vitamins,         </span> <span style=\"color: #7f7f7f; text-decoration-color: #7f7f7f\">          </span> <span style=\"color: #7f7f7f; text-decoration-color: #7f7f7f\">       </span> <span style=\"color: #7f7f7f; text-decoration-color: #7f7f7f\">                   </span> <span style=\"color: #7f7f7f; text-decoration-color: #7f7f7f\"> calcium.           </span> \n",
       " <span style=\"color: #7f7f7f; text-decoration-color: #7f7f7f\">                </span> <span style=\"color: #7f7f7f; text-decoration-color: #7f7f7f\">                </span> <span style=\"color: #7f7f7f; text-decoration-color: #7f7f7f\"> including vitamin </span> <span style=\"color: #7f7f7f; text-decoration-color: #7f7f7f\">          </span> <span style=\"color: #7f7f7f; text-decoration-color: #7f7f7f\">       </span> <span style=\"color: #7f7f7f; text-decoration-color: #7f7f7f\">                   </span> <span style=\"color: #7f7f7f; text-decoration-color: #7f7f7f\">                    </span> \n",
       " <span style=\"color: #7f7f7f; text-decoration-color: #7f7f7f\">                </span> <span style=\"color: #7f7f7f; text-decoration-color: #7f7f7f\">                </span> <span style=\"color: #7f7f7f; text-decoration-color: #7f7f7f\"> A, B vitamins,    </span> <span style=\"color: #7f7f7f; text-decoration-color: #7f7f7f\">          </span> <span style=\"color: #7f7f7f; text-decoration-color: #7f7f7f\">       </span> <span style=\"color: #7f7f7f; text-decoration-color: #7f7f7f\">                   </span> <span style=\"color: #7f7f7f; text-decoration-color: #7f7f7f\">                    </span> \n",
       " <span style=\"color: #7f7f7f; text-decoration-color: #7f7f7f\">                </span> <span style=\"color: #7f7f7f; text-decoration-color: #7f7f7f\">                </span> <span style=\"color: #7f7f7f; text-decoration-color: #7f7f7f\"> vitamin C,        </span> <span style=\"color: #7f7f7f; text-decoration-color: #7f7f7f\">          </span> <span style=\"color: #7f7f7f; text-decoration-color: #7f7f7f\">       </span> <span style=\"color: #7f7f7f; text-decoration-color: #7f7f7f\">                   </span> <span style=\"color: #7f7f7f; text-decoration-color: #7f7f7f\">                    </span> \n",
       " <span style=\"color: #7f7f7f; text-decoration-color: #7f7f7f\">                </span> <span style=\"color: #7f7f7f; text-decoration-color: #7f7f7f\">                </span> <span style=\"color: #7f7f7f; text-decoration-color: #7f7f7f\"> vitamin D,        </span> <span style=\"color: #7f7f7f; text-decoration-color: #7f7f7f\">          </span> <span style=\"color: #7f7f7f; text-decoration-color: #7f7f7f\">       </span> <span style=\"color: #7f7f7f; text-decoration-color: #7f7f7f\">                   </span> <span style=\"color: #7f7f7f; text-decoration-color: #7f7f7f\">                    </span> \n",
       " <span style=\"color: #7f7f7f; text-decoration-color: #7f7f7f\">                </span> <span style=\"color: #7f7f7f; text-decoration-color: #7f7f7f\">                </span> <span style=\"color: #7f7f7f; text-decoration-color: #7f7f7f\"> vitamin E, and    </span> <span style=\"color: #7f7f7f; text-decoration-color: #7f7f7f\">          </span> <span style=\"color: #7f7f7f; text-decoration-color: #7f7f7f\">       </span> <span style=\"color: #7f7f7f; text-decoration-color: #7f7f7f\">                   </span> <span style=\"color: #7f7f7f; text-decoration-color: #7f7f7f\">                    </span> \n",
       " <span style=\"color: #7f7f7f; text-decoration-color: #7f7f7f\">                </span> <span style=\"color: #7f7f7f; text-decoration-color: #7f7f7f\">                </span> <span style=\"color: #7f7f7f; text-decoration-color: #7f7f7f\"> vitamin K. Each   </span> <span style=\"color: #7f7f7f; text-decoration-color: #7f7f7f\">          </span> <span style=\"color: #7f7f7f; text-decoration-color: #7f7f7f\">       </span> <span style=\"color: #7f7f7f; text-decoration-color: #7f7f7f\">                   </span> <span style=\"color: #7f7f7f; text-decoration-color: #7f7f7f\">                    </span> \n",
       " <span style=\"color: #7f7f7f; text-decoration-color: #7f7f7f\">                </span> <span style=\"color: #7f7f7f; text-decoration-color: #7f7f7f\">                </span> <span style=\"color: #7f7f7f; text-decoration-color: #7f7f7f\"> vitamin has       </span> <span style=\"color: #7f7f7f; text-decoration-color: #7f7f7f\">          </span> <span style=\"color: #7f7f7f; text-decoration-color: #7f7f7f\">       </span> <span style=\"color: #7f7f7f; text-decoration-color: #7f7f7f\">                   </span> <span style=\"color: #7f7f7f; text-decoration-color: #7f7f7f\">                    </span> \n",
       " <span style=\"color: #7f7f7f; text-decoration-color: #7f7f7f\">                </span> <span style=\"color: #7f7f7f; text-decoration-color: #7f7f7f\">                </span> <span style=\"color: #7f7f7f; text-decoration-color: #7f7f7f\"> specific          </span> <span style=\"color: #7f7f7f; text-decoration-color: #7f7f7f\">          </span> <span style=\"color: #7f7f7f; text-decoration-color: #7f7f7f\">       </span> <span style=\"color: #7f7f7f; text-decoration-color: #7f7f7f\">                   </span> <span style=\"color: #7f7f7f; text-decoration-color: #7f7f7f\">                    </span> \n",
       " <span style=\"color: #7f7f7f; text-decoration-color: #7f7f7f\">                </span> <span style=\"color: #7f7f7f; text-decoration-color: #7f7f7f\">                </span> <span style=\"color: #7f7f7f; text-decoration-color: #7f7f7f\"> functions and     </span> <span style=\"color: #7f7f7f; text-decoration-color: #7f7f7f\">          </span> <span style=\"color: #7f7f7f; text-decoration-color: #7f7f7f\">       </span> <span style=\"color: #7f7f7f; text-decoration-color: #7f7f7f\">                   </span> <span style=\"color: #7f7f7f; text-decoration-color: #7f7f7f\">                    </span> \n",
       " <span style=\"color: #7f7f7f; text-decoration-color: #7f7f7f\">                </span> <span style=\"color: #7f7f7f; text-decoration-color: #7f7f7f\">                </span> <span style=\"color: #7f7f7f; text-decoration-color: #7f7f7f\"> benefits for the  </span> <span style=\"color: #7f7f7f; text-decoration-color: #7f7f7f\">          </span> <span style=\"color: #7f7f7f; text-decoration-color: #7f7f7f\">       </span> <span style=\"color: #7f7f7f; text-decoration-color: #7f7f7f\">                   </span> <span style=\"color: #7f7f7f; text-decoration-color: #7f7f7f\">                    </span> \n",
       " <span style=\"color: #7f7f7f; text-decoration-color: #7f7f7f\">                </span> <span style=\"color: #7f7f7f; text-decoration-color: #7f7f7f\">                </span> <span style=\"color: #7f7f7f; text-decoration-color: #7f7f7f\"> body. They can be </span> <span style=\"color: #7f7f7f; text-decoration-color: #7f7f7f\">          </span> <span style=\"color: #7f7f7f; text-decoration-color: #7f7f7f\">       </span> <span style=\"color: #7f7f7f; text-decoration-color: #7f7f7f\">                   </span> <span style=\"color: #7f7f7f; text-decoration-color: #7f7f7f\">                    </span> \n",
       " <span style=\"color: #7f7f7f; text-decoration-color: #7f7f7f\">                </span> <span style=\"color: #7f7f7f; text-decoration-color: #7f7f7f\">                </span> <span style=\"color: #7f7f7f; text-decoration-color: #7f7f7f\"> obtained through  </span> <span style=\"color: #7f7f7f; text-decoration-color: #7f7f7f\">          </span> <span style=\"color: #7f7f7f; text-decoration-color: #7f7f7f\">       </span> <span style=\"color: #7f7f7f; text-decoration-color: #7f7f7f\">                   </span> <span style=\"color: #7f7f7f; text-decoration-color: #7f7f7f\">                    </span> \n",
       " <span style=\"color: #7f7f7f; text-decoration-color: #7f7f7f\">                </span> <span style=\"color: #7f7f7f; text-decoration-color: #7f7f7f\">                </span> <span style=\"color: #7f7f7f; text-decoration-color: #7f7f7f\"> a balanced diet   </span> <span style=\"color: #7f7f7f; text-decoration-color: #7f7f7f\">          </span> <span style=\"color: #7f7f7f; text-decoration-color: #7f7f7f\">       </span> <span style=\"color: #7f7f7f; text-decoration-color: #7f7f7f\">                   </span> <span style=\"color: #7f7f7f; text-decoration-color: #7f7f7f\">                    </span> \n",
       " <span style=\"color: #7f7f7f; text-decoration-color: #7f7f7f\">                </span> <span style=\"color: #7f7f7f; text-decoration-color: #7f7f7f\">                </span> <span style=\"color: #7f7f7f; text-decoration-color: #7f7f7f\"> that includes a   </span> <span style=\"color: #7f7f7f; text-decoration-color: #7f7f7f\">          </span> <span style=\"color: #7f7f7f; text-decoration-color: #7f7f7f\">       </span> <span style=\"color: #7f7f7f; text-decoration-color: #7f7f7f\">                   </span> <span style=\"color: #7f7f7f; text-decoration-color: #7f7f7f\">                    </span> \n",
       " <span style=\"color: #7f7f7f; text-decoration-color: #7f7f7f\">                </span> <span style=\"color: #7f7f7f; text-decoration-color: #7f7f7f\">                </span> <span style=\"color: #7f7f7f; text-decoration-color: #7f7f7f\"> variety of        </span> <span style=\"color: #7f7f7f; text-decoration-color: #7f7f7f\">          </span> <span style=\"color: #7f7f7f; text-decoration-color: #7f7f7f\">       </span> <span style=\"color: #7f7f7f; text-decoration-color: #7f7f7f\">                   </span> <span style=\"color: #7f7f7f; text-decoration-color: #7f7f7f\">                    </span> \n",
       " <span style=\"color: #7f7f7f; text-decoration-color: #7f7f7f\">                </span> <span style=\"color: #7f7f7f; text-decoration-color: #7f7f7f\">                </span> <span style=\"color: #7f7f7f; text-decoration-color: #7f7f7f\"> fruits,           </span> <span style=\"color: #7f7f7f; text-decoration-color: #7f7f7f\">          </span> <span style=\"color: #7f7f7f; text-decoration-color: #7f7f7f\">       </span> <span style=\"color: #7f7f7f; text-decoration-color: #7f7f7f\">                   </span> <span style=\"color: #7f7f7f; text-decoration-color: #7f7f7f\">                    </span> \n",
       " <span style=\"color: #7f7f7f; text-decoration-color: #7f7f7f\">                </span> <span style=\"color: #7f7f7f; text-decoration-color: #7f7f7f\">                </span> <span style=\"color: #7f7f7f; text-decoration-color: #7f7f7f\"> vegetables, whole </span> <span style=\"color: #7f7f7f; text-decoration-color: #7f7f7f\">          </span> <span style=\"color: #7f7f7f; text-decoration-color: #7f7f7f\">       </span> <span style=\"color: #7f7f7f; text-decoration-color: #7f7f7f\">                   </span> <span style=\"color: #7f7f7f; text-decoration-color: #7f7f7f\">                    </span> \n",
       " <span style=\"color: #7f7f7f; text-decoration-color: #7f7f7f\">                </span> <span style=\"color: #7f7f7f; text-decoration-color: #7f7f7f\">                </span> <span style=\"color: #7f7f7f; text-decoration-color: #7f7f7f\"> grains, and lean  </span> <span style=\"color: #7f7f7f; text-decoration-color: #7f7f7f\">          </span> <span style=\"color: #7f7f7f; text-decoration-color: #7f7f7f\">       </span> <span style=\"color: #7f7f7f; text-decoration-color: #7f7f7f\">                   </span> <span style=\"color: #7f7f7f; text-decoration-color: #7f7f7f\">                    </span> \n",
       " <span style=\"color: #7f7f7f; text-decoration-color: #7f7f7f\">                </span> <span style=\"color: #7f7f7f; text-decoration-color: #7f7f7f\">                </span> <span style=\"color: #7f7f7f; text-decoration-color: #7f7f7f\"> proteins. In some </span> <span style=\"color: #7f7f7f; text-decoration-color: #7f7f7f\">          </span> <span style=\"color: #7f7f7f; text-decoration-color: #7f7f7f\">       </span> <span style=\"color: #7f7f7f; text-decoration-color: #7f7f7f\">                   </span> <span style=\"color: #7f7f7f; text-decoration-color: #7f7f7f\">                    </span> \n",
       " <span style=\"color: #7f7f7f; text-decoration-color: #7f7f7f\">                </span> <span style=\"color: #7f7f7f; text-decoration-color: #7f7f7f\">                </span> <span style=\"color: #7f7f7f; text-decoration-color: #7f7f7f\"> cases, vitamin    </span> <span style=\"color: #7f7f7f; text-decoration-color: #7f7f7f\">          </span> <span style=\"color: #7f7f7f; text-decoration-color: #7f7f7f\">       </span> <span style=\"color: #7f7f7f; text-decoration-color: #7f7f7f\">                   </span> <span style=\"color: #7f7f7f; text-decoration-color: #7f7f7f\">                    </span> \n",
       " <span style=\"color: #7f7f7f; text-decoration-color: #7f7f7f\">                </span> <span style=\"color: #7f7f7f; text-decoration-color: #7f7f7f\">                </span> <span style=\"color: #7f7f7f; text-decoration-color: #7f7f7f\"> supplements may   </span> <span style=\"color: #7f7f7f; text-decoration-color: #7f7f7f\">          </span> <span style=\"color: #7f7f7f; text-decoration-color: #7f7f7f\">       </span> <span style=\"color: #7f7f7f; text-decoration-color: #7f7f7f\">                   </span> <span style=\"color: #7f7f7f; text-decoration-color: #7f7f7f\">                    </span> \n",
       " <span style=\"color: #7f7f7f; text-decoration-color: #7f7f7f\">                </span> <span style=\"color: #7f7f7f; text-decoration-color: #7f7f7f\">                </span> <span style=\"color: #7f7f7f; text-decoration-color: #7f7f7f\"> be recommended to </span> <span style=\"color: #7f7f7f; text-decoration-color: #7f7f7f\">          </span> <span style=\"color: #7f7f7f; text-decoration-color: #7f7f7f\">       </span> <span style=\"color: #7f7f7f; text-decoration-color: #7f7f7f\">                   </span> <span style=\"color: #7f7f7f; text-decoration-color: #7f7f7f\">                    </span> \n",
       " <span style=\"color: #7f7f7f; text-decoration-color: #7f7f7f\">                </span> <span style=\"color: #7f7f7f; text-decoration-color: #7f7f7f\">                </span> <span style=\"color: #7f7f7f; text-decoration-color: #7f7f7f\"> meet specific     </span> <span style=\"color: #7f7f7f; text-decoration-color: #7f7f7f\">          </span> <span style=\"color: #7f7f7f; text-decoration-color: #7f7f7f\">       </span> <span style=\"color: #7f7f7f; text-decoration-color: #7f7f7f\">                   </span> <span style=\"color: #7f7f7f; text-decoration-color: #7f7f7f\">                    </span> \n",
       " <span style=\"color: #7f7f7f; text-decoration-color: #7f7f7f\">                </span> <span style=\"color: #7f7f7f; text-decoration-color: #7f7f7f\">                </span> <span style=\"color: #7f7f7f; text-decoration-color: #7f7f7f\"> dietary needs.    </span> <span style=\"color: #7f7f7f; text-decoration-color: #7f7f7f\">          </span> <span style=\"color: #7f7f7f; text-decoration-color: #7f7f7f\">       </span> <span style=\"color: #7f7f7f; text-decoration-color: #7f7f7f\">                   </span> <span style=\"color: #7f7f7f; text-decoration-color: #7f7f7f\">                    </span> \n",
       "  Minerals         Minerals         Minerals are        False      False   Incorrect. Must     Incorrect. Must be  \n",
       "                                    naturally                              be equal to         equal to Calcium    \n",
       "                                    occurring                              Calcium, Iron,      is necessary for    \n",
       "                                    substances that                        Magnesium           maintaining         \n",
       "                                    are solid and                                              healthy bones and   \n",
       "                                    inorganic. They                                            teeth, Iron is      \n",
       "                                    are composed of                                            crucial for making  \n",
       "                                    atoms arranged in                                          red blood cells     \n",
       "                                    a specific                                                 and transporting    \n",
       "                                    crystalline                                                oxygen throughout   \n",
       "                                    structure.                                                 the body, and       \n",
       "                                    Minerals have a                                            Magnesium plays a   \n",
       "                                    specific chemical                                          role in over 300    \n",
       "                                    composition and                                            enzyme reactions    \n",
       "                                    physical                                                   in the human body,  \n",
       "                                    properties, such                                           including the       \n",
       "                                    as hardness,                                               metabolism of       \n",
       "                                    color, and                                                 food, synthesis of  \n",
       "                                    luster. They are                                           fatty acids and     \n",
       "                                    classified into                                            proteins, and the   \n",
       "                                    different groups                                           transmission of     \n",
       "                                    based on their                                             nerve impulses.     \n",
       "                                    chemical                                                                       \n",
       "                                    composition and                                                                \n",
       "                                    crystal                                                                        \n",
       "                                    structure. Some                                                                \n",
       "                                    common minerals                                                                \n",
       "                                    include quartz,                                                                \n",
       "                                    feldspar,                                                                      \n",
       "                                    calcite, and                                                                   \n",
       "                                    mica.                                                                          \n",
       "                                                                                                                   \n",
       "</pre>\n"
      ],
      "text/plain": [
       "                                                                                                                   \n",
       " \u001b[1;35m \u001b[0m\u001b[1;35mcategory      \u001b[0m\u001b[1;35m \u001b[0m \u001b[1;35m \u001b[0m\u001b[1;35mentities      \u001b[0m\u001b[1;35m \u001b[0m \u001b[1;35m \u001b[0m\u001b[1;35mtext             \u001b[0m\u001b[1;35m \u001b[0m \u001b[1;35m \u001b[0m\u001b[1;35mentities\u001b[0m\u001b[1;35m \u001b[0m \u001b[1;35m \u001b[0m\u001b[1;35mtext \u001b[0m\u001b[1;35m \u001b[0m \u001b[1;35m \u001b[0m\u001b[1;35mentities__fb     \u001b[0m\u001b[1;35m \u001b[0m \u001b[1;35m \u001b[0m\u001b[1;35mtext__fb          \u001b[0m\u001b[1;35m \u001b[0m \n",
       " ───────────────────────────────────────────────────────────────────────────────────────────────────────────────── \n",
       "  Macronutrients   Macronutrients   Macronutrients      False      False   Incorrect. Must     Incorrect. Must be  \n",
       "                                    are the three                          be equal to         equal to            \n",
       "                                    main nutrients                         Carbohydrates,      Carbohydrates       \n",
       "                                    that provide                           Proteins, Fats      provide quick       \n",
       "                                    energy to the                                              energy, proteins    \n",
       "                                    body:                                                      are essential for   \n",
       "                                    carbohydrates,                                             muscle repair and   \n",
       "                                    proteins, and                                              growth, and fats    \n",
       "                                    fats.                                                      are vital for       \n",
       "                                    Carbohydrates are                                          long-term energy    \n",
       "                                    the body's main                                            storage and cell    \n",
       "                                    source of energy                                           function.           \n",
       "                                    and can be found                                                               \n",
       "                                    in foods like                                                                  \n",
       "                                    bread, pasta, and                                                              \n",
       "                                    fruits. Proteins                                                               \n",
       "                                    are essential for                                                              \n",
       "                                    building and                                                                   \n",
       "                                    repairing tissues                                                              \n",
       "                                    and can be found                                                               \n",
       "                                    in foods like                                                                  \n",
       "                                    meat, fish, and                                                                \n",
       "                                    beans. Fats are a                                                              \n",
       "                                    concentrated                                                                   \n",
       "                                    source of energy                                                               \n",
       "                                    and can be found                                                               \n",
       "                                    in foods like                                                                  \n",
       "                                    oils, butter, and                                                              \n",
       "                                    nuts. Balancing                                                                \n",
       "                                    these                                                                          \n",
       "                                    macronutrients is                                                              \n",
       "                                    important for                                                                  \n",
       "                                    maintaining a                                                                  \n",
       "                                    healthy diet.                                                                  \n",
       " \u001b[2m \u001b[0m\u001b[2mVitamins      \u001b[0m\u001b[2m \u001b[0m \u001b[2m \u001b[0m\u001b[2mVitamins      \u001b[0m\u001b[2m \u001b[0m \u001b[2m \u001b[0m\u001b[2mVitamins are     \u001b[0m\u001b[2m \u001b[0m \u001b[2m \u001b[0m\u001b[2mFalse   \u001b[0m\u001b[2m \u001b[0m \u001b[2m \u001b[0m\u001b[2mFalse\u001b[0m\u001b[2m \u001b[0m \u001b[2m \u001b[0m\u001b[2mIncorrect. Must  \u001b[0m\u001b[2m \u001b[0m \u001b[2m \u001b[0m\u001b[2mIncorrect. Must be\u001b[0m\u001b[2m \u001b[0m \n",
       " \u001b[2m                \u001b[0m \u001b[2m                \u001b[0m \u001b[2m \u001b[0m\u001b[2morganic compounds\u001b[0m\u001b[2m \u001b[0m \u001b[2m          \u001b[0m \u001b[2m       \u001b[0m \u001b[2m \u001b[0m\u001b[2mbe equal to      \u001b[0m\u001b[2m \u001b[0m \u001b[2m \u001b[0m\u001b[2mequal to Vitamin A\u001b[0m\u001b[2m \u001b[0m \n",
       " \u001b[2m                \u001b[0m \u001b[2m                \u001b[0m \u001b[2m \u001b[0m\u001b[2mthat are         \u001b[0m\u001b[2m \u001b[0m \u001b[2m          \u001b[0m \u001b[2m       \u001b[0m \u001b[2m \u001b[0m\u001b[2mVitamin A,       \u001b[0m\u001b[2m \u001b[0m \u001b[2m \u001b[0m\u001b[2mis crucial for    \u001b[0m\u001b[2m \u001b[0m \n",
       " \u001b[2m                \u001b[0m \u001b[2m                \u001b[0m \u001b[2m \u001b[0m\u001b[2messential for the\u001b[0m\u001b[2m \u001b[0m \u001b[2m          \u001b[0m \u001b[2m       \u001b[0m \u001b[2m \u001b[0m\u001b[2mVitamin C,       \u001b[0m\u001b[2m \u001b[0m \u001b[2m \u001b[0m\u001b[2mgood vision and a \u001b[0m\u001b[2m \u001b[0m \n",
       " \u001b[2m                \u001b[0m \u001b[2m                \u001b[0m \u001b[2m \u001b[0m\u001b[2mproper           \u001b[0m\u001b[2m \u001b[0m \u001b[2m          \u001b[0m \u001b[2m       \u001b[0m \u001b[2m \u001b[0m\u001b[2mVitamin D        \u001b[0m\u001b[2m \u001b[0m \u001b[2m \u001b[0m\u001b[2mhealthy immune    \u001b[0m\u001b[2m \u001b[0m \n",
       " \u001b[2m                \u001b[0m \u001b[2m                \u001b[0m \u001b[2m \u001b[0m\u001b[2mfunctioning of   \u001b[0m\u001b[2m \u001b[0m \u001b[2m          \u001b[0m \u001b[2m       \u001b[0m \u001b[2m                   \u001b[0m \u001b[2m \u001b[0m\u001b[2msystem, Vitamin C \u001b[0m\u001b[2m \u001b[0m \n",
       " \u001b[2m                \u001b[0m \u001b[2m                \u001b[0m \u001b[2m \u001b[0m\u001b[2mthe body. They   \u001b[0m\u001b[2m \u001b[0m \u001b[2m          \u001b[0m \u001b[2m       \u001b[0m \u001b[2m                   \u001b[0m \u001b[2m \u001b[0m\u001b[2mhelps in the      \u001b[0m\u001b[2m \u001b[0m \n",
       " \u001b[2m                \u001b[0m \u001b[2m                \u001b[0m \u001b[2m \u001b[0m\u001b[2mare              \u001b[0m\u001b[2m \u001b[0m \u001b[2m          \u001b[0m \u001b[2m       \u001b[0m \u001b[2m                   \u001b[0m \u001b[2m \u001b[0m\u001b[2mrepair of tissues \u001b[0m\u001b[2m \u001b[0m \n",
       " \u001b[2m                \u001b[0m \u001b[2m                \u001b[0m \u001b[2m \u001b[0m\u001b[2mmicronutrients   \u001b[0m\u001b[2m \u001b[0m \u001b[2m          \u001b[0m \u001b[2m       \u001b[0m \u001b[2m                   \u001b[0m \u001b[2m \u001b[0m\u001b[2mand the enzymatic \u001b[0m\u001b[2m \u001b[0m \n",
       " \u001b[2m                \u001b[0m \u001b[2m                \u001b[0m \u001b[2m \u001b[0m\u001b[2mthat are required\u001b[0m\u001b[2m \u001b[0m \u001b[2m          \u001b[0m \u001b[2m       \u001b[0m \u001b[2m                   \u001b[0m \u001b[2m \u001b[0m\u001b[2mproduction of     \u001b[0m\u001b[2m \u001b[0m \n",
       " \u001b[2m                \u001b[0m \u001b[2m                \u001b[0m \u001b[2m \u001b[0m\u001b[2min small amounts \u001b[0m\u001b[2m \u001b[0m \u001b[2m          \u001b[0m \u001b[2m       \u001b[0m \u001b[2m                   \u001b[0m \u001b[2m \u001b[0m\u001b[2mcertain           \u001b[0m\u001b[2m \u001b[0m \n",
       " \u001b[2m                \u001b[0m \u001b[2m                \u001b[0m \u001b[2m \u001b[0m\u001b[2mand play a       \u001b[0m\u001b[2m \u001b[0m \u001b[2m          \u001b[0m \u001b[2m       \u001b[0m \u001b[2m                   \u001b[0m \u001b[2m \u001b[0m\u001b[2mneurotransmitters,\u001b[0m\u001b[2m \u001b[0m \n",
       " \u001b[2m                \u001b[0m \u001b[2m                \u001b[0m \u001b[2m \u001b[0m\u001b[2mcrucial role in  \u001b[0m\u001b[2m \u001b[0m \u001b[2m          \u001b[0m \u001b[2m       \u001b[0m \u001b[2m                   \u001b[0m \u001b[2m \u001b[0m\u001b[2mand Vitamin D is  \u001b[0m\u001b[2m \u001b[0m \n",
       " \u001b[2m                \u001b[0m \u001b[2m                \u001b[0m \u001b[2m \u001b[0m\u001b[2mvarious          \u001b[0m\u001b[2m \u001b[0m \u001b[2m          \u001b[0m \u001b[2m       \u001b[0m \u001b[2m                   \u001b[0m \u001b[2m \u001b[0m\u001b[2messential for     \u001b[0m\u001b[2m \u001b[0m \n",
       " \u001b[2m                \u001b[0m \u001b[2m                \u001b[0m \u001b[2m \u001b[0m\u001b[2mphysiological    \u001b[0m\u001b[2m \u001b[0m \u001b[2m          \u001b[0m \u001b[2m       \u001b[0m \u001b[2m                   \u001b[0m \u001b[2m \u001b[0m\u001b[2mstrong bones and  \u001b[0m\u001b[2m \u001b[0m \n",
       " \u001b[2m                \u001b[0m \u001b[2m                \u001b[0m \u001b[2m \u001b[0m\u001b[2mprocesses. There \u001b[0m\u001b[2m \u001b[0m \u001b[2m          \u001b[0m \u001b[2m       \u001b[0m \u001b[2m                   \u001b[0m \u001b[2m \u001b[0m\u001b[2mteeth as it helps \u001b[0m\u001b[2m \u001b[0m \n",
       " \u001b[2m                \u001b[0m \u001b[2m                \u001b[0m \u001b[2m \u001b[0m\u001b[2mare 13 essential \u001b[0m\u001b[2m \u001b[0m \u001b[2m          \u001b[0m \u001b[2m       \u001b[0m \u001b[2m                   \u001b[0m \u001b[2m \u001b[0m\u001b[2mthe body absorb   \u001b[0m\u001b[2m \u001b[0m \n",
       " \u001b[2m                \u001b[0m \u001b[2m                \u001b[0m \u001b[2m \u001b[0m\u001b[2mvitamins,        \u001b[0m\u001b[2m \u001b[0m \u001b[2m          \u001b[0m \u001b[2m       \u001b[0m \u001b[2m                   \u001b[0m \u001b[2m \u001b[0m\u001b[2mcalcium.          \u001b[0m\u001b[2m \u001b[0m \n",
       " \u001b[2m                \u001b[0m \u001b[2m                \u001b[0m \u001b[2m \u001b[0m\u001b[2mincluding vitamin\u001b[0m\u001b[2m \u001b[0m \u001b[2m          \u001b[0m \u001b[2m       \u001b[0m \u001b[2m                   \u001b[0m \u001b[2m                    \u001b[0m \n",
       " \u001b[2m                \u001b[0m \u001b[2m                \u001b[0m \u001b[2m \u001b[0m\u001b[2mA, B vitamins,   \u001b[0m\u001b[2m \u001b[0m \u001b[2m          \u001b[0m \u001b[2m       \u001b[0m \u001b[2m                   \u001b[0m \u001b[2m                    \u001b[0m \n",
       " \u001b[2m                \u001b[0m \u001b[2m                \u001b[0m \u001b[2m \u001b[0m\u001b[2mvitamin C,       \u001b[0m\u001b[2m \u001b[0m \u001b[2m          \u001b[0m \u001b[2m       \u001b[0m \u001b[2m                   \u001b[0m \u001b[2m                    \u001b[0m \n",
       " \u001b[2m                \u001b[0m \u001b[2m                \u001b[0m \u001b[2m \u001b[0m\u001b[2mvitamin D,       \u001b[0m\u001b[2m \u001b[0m \u001b[2m          \u001b[0m \u001b[2m       \u001b[0m \u001b[2m                   \u001b[0m \u001b[2m                    \u001b[0m \n",
       " \u001b[2m                \u001b[0m \u001b[2m                \u001b[0m \u001b[2m \u001b[0m\u001b[2mvitamin E, and   \u001b[0m\u001b[2m \u001b[0m \u001b[2m          \u001b[0m \u001b[2m       \u001b[0m \u001b[2m                   \u001b[0m \u001b[2m                    \u001b[0m \n",
       " \u001b[2m                \u001b[0m \u001b[2m                \u001b[0m \u001b[2m \u001b[0m\u001b[2mvitamin K. Each  \u001b[0m\u001b[2m \u001b[0m \u001b[2m          \u001b[0m \u001b[2m       \u001b[0m \u001b[2m                   \u001b[0m \u001b[2m                    \u001b[0m \n",
       " \u001b[2m                \u001b[0m \u001b[2m                \u001b[0m \u001b[2m \u001b[0m\u001b[2mvitamin has      \u001b[0m\u001b[2m \u001b[0m \u001b[2m          \u001b[0m \u001b[2m       \u001b[0m \u001b[2m                   \u001b[0m \u001b[2m                    \u001b[0m \n",
       " \u001b[2m                \u001b[0m \u001b[2m                \u001b[0m \u001b[2m \u001b[0m\u001b[2mspecific         \u001b[0m\u001b[2m \u001b[0m \u001b[2m          \u001b[0m \u001b[2m       \u001b[0m \u001b[2m                   \u001b[0m \u001b[2m                    \u001b[0m \n",
       " \u001b[2m                \u001b[0m \u001b[2m                \u001b[0m \u001b[2m \u001b[0m\u001b[2mfunctions and    \u001b[0m\u001b[2m \u001b[0m \u001b[2m          \u001b[0m \u001b[2m       \u001b[0m \u001b[2m                   \u001b[0m \u001b[2m                    \u001b[0m \n",
       " \u001b[2m                \u001b[0m \u001b[2m                \u001b[0m \u001b[2m \u001b[0m\u001b[2mbenefits for the \u001b[0m\u001b[2m \u001b[0m \u001b[2m          \u001b[0m \u001b[2m       \u001b[0m \u001b[2m                   \u001b[0m \u001b[2m                    \u001b[0m \n",
       " \u001b[2m                \u001b[0m \u001b[2m                \u001b[0m \u001b[2m \u001b[0m\u001b[2mbody. They can be\u001b[0m\u001b[2m \u001b[0m \u001b[2m          \u001b[0m \u001b[2m       \u001b[0m \u001b[2m                   \u001b[0m \u001b[2m                    \u001b[0m \n",
       " \u001b[2m                \u001b[0m \u001b[2m                \u001b[0m \u001b[2m \u001b[0m\u001b[2mobtained through \u001b[0m\u001b[2m \u001b[0m \u001b[2m          \u001b[0m \u001b[2m       \u001b[0m \u001b[2m                   \u001b[0m \u001b[2m                    \u001b[0m \n",
       " \u001b[2m                \u001b[0m \u001b[2m                \u001b[0m \u001b[2m \u001b[0m\u001b[2ma balanced diet  \u001b[0m\u001b[2m \u001b[0m \u001b[2m          \u001b[0m \u001b[2m       \u001b[0m \u001b[2m                   \u001b[0m \u001b[2m                    \u001b[0m \n",
       " \u001b[2m                \u001b[0m \u001b[2m                \u001b[0m \u001b[2m \u001b[0m\u001b[2mthat includes a  \u001b[0m\u001b[2m \u001b[0m \u001b[2m          \u001b[0m \u001b[2m       \u001b[0m \u001b[2m                   \u001b[0m \u001b[2m                    \u001b[0m \n",
       " \u001b[2m                \u001b[0m \u001b[2m                \u001b[0m \u001b[2m \u001b[0m\u001b[2mvariety of       \u001b[0m\u001b[2m \u001b[0m \u001b[2m          \u001b[0m \u001b[2m       \u001b[0m \u001b[2m                   \u001b[0m \u001b[2m                    \u001b[0m \n",
       " \u001b[2m                \u001b[0m \u001b[2m                \u001b[0m \u001b[2m \u001b[0m\u001b[2mfruits,          \u001b[0m\u001b[2m \u001b[0m \u001b[2m          \u001b[0m \u001b[2m       \u001b[0m \u001b[2m                   \u001b[0m \u001b[2m                    \u001b[0m \n",
       " \u001b[2m                \u001b[0m \u001b[2m                \u001b[0m \u001b[2m \u001b[0m\u001b[2mvegetables, whole\u001b[0m\u001b[2m \u001b[0m \u001b[2m          \u001b[0m \u001b[2m       \u001b[0m \u001b[2m                   \u001b[0m \u001b[2m                    \u001b[0m \n",
       " \u001b[2m                \u001b[0m \u001b[2m                \u001b[0m \u001b[2m \u001b[0m\u001b[2mgrains, and lean \u001b[0m\u001b[2m \u001b[0m \u001b[2m          \u001b[0m \u001b[2m       \u001b[0m \u001b[2m                   \u001b[0m \u001b[2m                    \u001b[0m \n",
       " \u001b[2m                \u001b[0m \u001b[2m                \u001b[0m \u001b[2m \u001b[0m\u001b[2mproteins. In some\u001b[0m\u001b[2m \u001b[0m \u001b[2m          \u001b[0m \u001b[2m       \u001b[0m \u001b[2m                   \u001b[0m \u001b[2m                    \u001b[0m \n",
       " \u001b[2m                \u001b[0m \u001b[2m                \u001b[0m \u001b[2m \u001b[0m\u001b[2mcases, vitamin   \u001b[0m\u001b[2m \u001b[0m \u001b[2m          \u001b[0m \u001b[2m       \u001b[0m \u001b[2m                   \u001b[0m \u001b[2m                    \u001b[0m \n",
       " \u001b[2m                \u001b[0m \u001b[2m                \u001b[0m \u001b[2m \u001b[0m\u001b[2msupplements may  \u001b[0m\u001b[2m \u001b[0m \u001b[2m          \u001b[0m \u001b[2m       \u001b[0m \u001b[2m                   \u001b[0m \u001b[2m                    \u001b[0m \n",
       " \u001b[2m                \u001b[0m \u001b[2m                \u001b[0m \u001b[2m \u001b[0m\u001b[2mbe recommended to\u001b[0m\u001b[2m \u001b[0m \u001b[2m          \u001b[0m \u001b[2m       \u001b[0m \u001b[2m                   \u001b[0m \u001b[2m                    \u001b[0m \n",
       " \u001b[2m                \u001b[0m \u001b[2m                \u001b[0m \u001b[2m \u001b[0m\u001b[2mmeet specific    \u001b[0m\u001b[2m \u001b[0m \u001b[2m          \u001b[0m \u001b[2m       \u001b[0m \u001b[2m                   \u001b[0m \u001b[2m                    \u001b[0m \n",
       " \u001b[2m                \u001b[0m \u001b[2m                \u001b[0m \u001b[2m \u001b[0m\u001b[2mdietary needs.   \u001b[0m\u001b[2m \u001b[0m \u001b[2m          \u001b[0m \u001b[2m       \u001b[0m \u001b[2m                   \u001b[0m \u001b[2m                    \u001b[0m \n",
       "  Minerals         Minerals         Minerals are        False      False   Incorrect. Must     Incorrect. Must be  \n",
       "                                    naturally                              be equal to         equal to Calcium    \n",
       "                                    occurring                              Calcium, Iron,      is necessary for    \n",
       "                                    substances that                        Magnesium           maintaining         \n",
       "                                    are solid and                                              healthy bones and   \n",
       "                                    inorganic. They                                            teeth, Iron is      \n",
       "                                    are composed of                                            crucial for making  \n",
       "                                    atoms arranged in                                          red blood cells     \n",
       "                                    a specific                                                 and transporting    \n",
       "                                    crystalline                                                oxygen throughout   \n",
       "                                    structure.                                                 the body, and       \n",
       "                                    Minerals have a                                            Magnesium plays a   \n",
       "                                    specific chemical                                          role in over 300    \n",
       "                                    composition and                                            enzyme reactions    \n",
       "                                    physical                                                   in the human body,  \n",
       "                                    properties, such                                           including the       \n",
       "                                    as hardness,                                               metabolism of       \n",
       "                                    color, and                                                 food, synthesis of  \n",
       "                                    luster. They are                                           fatty acids and     \n",
       "                                    classified into                                            proteins, and the   \n",
       "                                    different groups                                           transmission of     \n",
       "                                    based on their                                             nerve impulses.     \n",
       "                                    chemical                                                                       \n",
       "                                    composition and                                                                \n",
       "                                    crystal                                                                        \n",
       "                                    structure. Some                                                                \n",
       "                                    common minerals                                                                \n",
       "                                    include quartz,                                                                \n",
       "                                    feldspar,                                                                      \n",
       "                                    calcite, and                                                                   \n",
       "                                    mica.                                                                          \n",
       "                                                                                                                   \n"
      ]
     },
     "metadata": {},
     "output_type": "display_data"
    },
    {
     "data": {
      "text/html": [
       "<pre style=\"white-space:pre;overflow-x:auto;line-height:normal;font-family:Menlo,'DejaVu Sans Mono',consolas,'Courier New',monospace\"><span style=\"color: #008000; text-decoration-color: #008000; font-weight: bold\">Output to improve: entities | </span><span style=\"color: #808000; text-decoration-color: #808000; font-weight: bold\">Skill</span><span style=\"color: #008000; text-decoration-color: #008000; font-weight: bold\">=</span><span style=\"color: #800080; text-decoration-color: #800080; font-weight: bold\">skill_0</span><span style=\"color: #008000; text-decoration-color: #008000; font-weight: bold\"> | Accuracy = </span><span style=\"color: #008080; text-decoration-color: #008080; font-weight: bold\">0.00</span><span style=\"color: #008000; text-decoration-color: #008000; font-weight: bold\">% </span>\n",
       "\n",
       "<span style=\"color: #008000; text-decoration-color: #008000; font-weight: bold\">                                                                </span>\n",
       "</pre>\n"
      ],
      "text/plain": [
       "\u001b[1;32mOutput to improve: entities | \u001b[0m\u001b[1;33mSkill\u001b[0m\u001b[1;32m=\u001b[0m\u001b[1;35mskill_0\u001b[0m\u001b[1;32m | Accuracy = \u001b[0m\u001b[1;36m0.00\u001b[0m\u001b[1;32m% \u001b[0m\n",
       "\n",
       "\u001b[1;32m                                                                \u001b[0m\n"
      ]
     },
     "metadata": {},
     "output_type": "display_data"
    },
    {
     "data": {
      "text/html": [
       "<pre style=\"white-space:pre;overflow-x:auto;line-height:normal;font-family:Menlo,'DejaVu Sans Mono',consolas,'Courier New',monospace\"><span style=\"font-weight: bold\">{</span><span style=\"color: #008000; text-decoration-color: #008000\">'input'</span>: <span style=\"color: #008000; text-decoration-color: #008000\">\"Here is the feedback based on the current instructions:\\n\\n\\n\\n    \\t\\t\\tinput: Macronutrients\\n\\n    </span>\n",
       "<span style=\"color: #008000; text-decoration-color: #008000\">\\t\\t\\tthe output of skill_0:Macronutrients\\n\\n    \\t\\t\\tIncorrect. Must be equal to Carbohydrates, Proteins, </span>\n",
       "<span style=\"color: #008000; text-decoration-color: #008000\">Fats\\n\\n\\n  \\t\\t\\t\\n\\n    \\t\\t\\tinput: Vitamins\\n\\n    \\t\\t\\tthe output of skill_0:Vitamins\\n\\n    \\t\\t\\tIncorrect.</span>\n",
       "<span style=\"color: #008000; text-decoration-color: #008000\">Must be equal to Vitamin A, Vitamin C, Vitamin D\\n\\n\\n  \\t\\t\\t\\n\\n    \\t\\t\\tinput: Minerals\\n\\n    \\t\\t\\tthe output</span>\n",
       "<span style=\"color: #008000; text-decoration-color: #008000\">of skill_0:Minerals\\n\\n    \\t\\t\\tIncorrect. Must be equal to Calcium, Iron, Magnesium\\n\\n\\n  </span>\n",
       "<span style=\"color: #008000; text-decoration-color: #008000\">\\t\\t\\t\\n\\n'\\n\\t\\t\\t\\tPlease address the feedback and provide new improved instructions for the </span>\n",
       "<span style=\"color: #008000; text-decoration-color: #008000\">LLM.\\n\\n\\t\\t\\t\\tCarefully analyze this feedback, and provide updated prompting instructions for LLM:\\n\\t\\t\\t\"</span><span style=\"font-weight: bold\">}</span>\n",
       "</pre>\n"
      ],
      "text/plain": [
       "\u001b[1m{\u001b[0m\u001b[32m'input'\u001b[0m: \u001b[32m\"Here is the feedback based on the current instructions:\\n\\n\\n\\n    \\t\\t\\tinput: Macronutrients\\n\\n    \u001b[0m\n",
       "\u001b[32m\\t\\t\\tthe output of skill_0:Macronutrients\\n\\n    \\t\\t\\tIncorrect. Must be equal to Carbohydrates, Proteins, \u001b[0m\n",
       "\u001b[32mFats\\n\\n\\n  \\t\\t\\t\\n\\n    \\t\\t\\tinput: Vitamins\\n\\n    \\t\\t\\tthe output of skill_0:Vitamins\\n\\n    \\t\\t\\tIncorrect.\u001b[0m\n",
       "\u001b[32mMust be equal to Vitamin A, Vitamin C, Vitamin D\\n\\n\\n  \\t\\t\\t\\n\\n    \\t\\t\\tinput: Minerals\\n\\n    \\t\\t\\tthe output\u001b[0m\n",
       "\u001b[32mof skill_0:Minerals\\n\\n    \\t\\t\\tIncorrect. Must be equal to Calcium, Iron, Magnesium\\n\\n\\n  \u001b[0m\n",
       "\u001b[32m\\t\\t\\t\\n\\n'\\n\\t\\t\\t\\tPlease address the feedback and provide new improved instructions for the \u001b[0m\n",
       "\u001b[32mLLM.\\n\\n\\t\\t\\t\\tCarefully analyze this feedback, and provide updated prompting instructions for LLM:\\n\\t\\t\\t\"\u001b[0m\u001b[1m}\u001b[0m\n"
      ]
     },
     "metadata": {},
     "output_type": "display_data"
    },
    {
     "data": {
      "text/html": [
       "<pre style=\"white-space:pre;overflow-x:auto;line-height:normal;font-family:Menlo,'DejaVu Sans Mono',consolas,'Courier New',monospace\"><span style=\"color: #008000; text-decoration-color: #008000; font-weight: bold\">Generate a list of macronutrients. The list should include carbohydrates, proteins, and fats. Make sure the output </span>\n",
       "<span style=\"color: #008000; text-decoration-color: #008000; font-weight: bold\">is equal to these three macronutrients.</span>\n",
       "</pre>\n"
      ],
      "text/plain": [
       "\u001b[1;32mGenerate a list of macronutrients. The list should include carbohydrates, proteins, and fats. Make sure the output \u001b[0m\n",
       "\u001b[1;32mis equal to these three macronutrients.\u001b[0m\n"
      ]
     },
     "metadata": {},
     "output_type": "display_data"
    },
    {
     "data": {
      "text/html": [
       "<pre style=\"white-space:pre;overflow-x:auto;line-height:normal;font-family:Menlo,'DejaVu Sans Mono',consolas,'Courier New',monospace\">Train is done!\n",
       "</pre>\n"
      ],
      "text/plain": [
       "Train is done!\n"
      ]
     },
     "metadata": {},
     "output_type": "display_data"
    },
    {
     "data": {
      "text/html": [
       "<pre style=\"white-space:pre;overflow-x:auto;line-height:normal;font-family:Menlo,'DejaVu Sans Mono',consolas,'Courier New',monospace\">\n",
       "\n",
       "=&gt; Iteration #<span style=\"color: #008080; text-decoration-color: #008080; font-weight: bold\">1</span>: Getting feedback, analyzing and improving <span style=\"color: #808000; text-decoration-color: #808000\">...</span>\n",
       "</pre>\n"
      ],
      "text/plain": [
       "\n",
       "\n",
       "=> Iteration #\u001b[1;36m1\u001b[0m: Getting feedback, analyzing and improving \u001b[33m...\u001b[0m\n"
      ]
     },
     "metadata": {},
     "output_type": "display_data"
    },
    {
     "data": {
      "text/html": [
       "<pre style=\"white-space:pre;overflow-x:auto;line-height:normal;font-family:Menlo,'DejaVu Sans Mono',consolas,'Courier New',monospace\">Applying skill: skill_0\n",
       "</pre>\n"
      ],
      "text/plain": [
       "Applying skill: skill_0\n"
      ]
     },
     "metadata": {},
     "output_type": "display_data"
    },
    {
     "data": {
      "text/html": [
       "<pre style=\"white-space:pre;overflow-x:auto;line-height:normal;font-family:Menlo,'DejaVu Sans Mono',consolas,'Courier New',monospace\"><span style=\"font-weight: bold\">[</span><span style=\"color: #008000; text-decoration-color: #008000\">'category'</span><span style=\"font-weight: bold\">]</span>\n",
       "</pre>\n"
      ],
      "text/plain": [
       "\u001b[1m[\u001b[0m\u001b[32m'category'\u001b[0m\u001b[1m]\u001b[0m\n"
      ]
     },
     "metadata": {},
     "output_type": "display_data"
    },
    {
     "name": "stderr",
     "output_type": "stream",
     "text": [
      "  0%|          | 0/3 [00:00<?, ?it/s]"
     ]
    },
    {
     "data": {
      "text/html": [
       "<pre style=\"white-space:pre;overflow-x:auto;line-height:normal;font-family:Menlo,'DejaVu Sans Mono',consolas,'Courier New',monospace\"><span style=\"font-weight: bold\">{</span><span style=\"color: #008000; text-decoration-color: #008000\">'category'</span>: <span style=\"color: #008000; text-decoration-color: #008000\">'Macronutrients'</span>, <span style=\"color: #008000; text-decoration-color: #008000\">'entities'</span>: <span style=\"color: #008000; text-decoration-color: #008000\">'Carbohydrates, Proteins, Fats'</span>, <span style=\"color: #008000; text-decoration-color: #008000\">'text'</span>: <span style=\"color: #008000; text-decoration-color: #008000\">'Carbohydrates provide quick </span>\n",
       "<span style=\"color: #008000; text-decoration-color: #008000\">energy, proteins are essential for muscle repair and growth, and fats are vital for long-term energy storage and </span>\n",
       "<span style=\"color: #008000; text-decoration-color: #008000\">cell function.'</span><span style=\"font-weight: bold\">}</span>\n",
       "</pre>\n"
      ],
      "text/plain": [
       "\u001b[1m{\u001b[0m\u001b[32m'category'\u001b[0m: \u001b[32m'Macronutrients'\u001b[0m, \u001b[32m'entities'\u001b[0m: \u001b[32m'Carbohydrates, Proteins, Fats'\u001b[0m, \u001b[32m'text'\u001b[0m: \u001b[32m'Carbohydrates provide quick \u001b[0m\n",
       "\u001b[32menergy, proteins are essential for muscle repair and growth, and fats are vital for long-term energy storage and \u001b[0m\n",
       "\u001b[32mcell function.'\u001b[0m\u001b[1m}\u001b[0m\n"
      ]
     },
     "metadata": {},
     "output_type": "display_data"
    },
    {
     "name": "stderr",
     "output_type": "stream",
     "text": [
      " 67%|██████▋   | 2/3 [00:02<00:01,  1.43s/it]"
     ]
    },
    {
     "data": {
      "text/html": [
       "<pre style=\"white-space:pre;overflow-x:auto;line-height:normal;font-family:Menlo,'DejaVu Sans Mono',consolas,'Courier New',monospace\"><span style=\"font-weight: bold\">{</span><span style=\"color: #008000; text-decoration-color: #008000\">'category'</span>: <span style=\"color: #008000; text-decoration-color: #008000\">'Vitamins'</span>, <span style=\"color: #008000; text-decoration-color: #008000\">'entities'</span>: <span style=\"color: #008000; text-decoration-color: #008000\">'Vitamin A, Vitamin C, Vitamin D'</span>, <span style=\"color: #008000; text-decoration-color: #008000\">'text'</span>: <span style=\"color: #008000; text-decoration-color: #008000\">'Vitamin A is crucial for good </span>\n",
       "<span style=\"color: #008000; text-decoration-color: #008000\">vision and a healthy immune system, Vitamin C helps in the repair of tissues and the enzymatic production of </span>\n",
       "<span style=\"color: #008000; text-decoration-color: #008000\">certain neurotransmitters, and Vitamin D is essential for strong bones and teeth as it helps the body absorb </span>\n",
       "<span style=\"color: #008000; text-decoration-color: #008000\">calcium.'</span><span style=\"font-weight: bold\">}</span>\n",
       "</pre>\n"
      ],
      "text/plain": [
       "\u001b[1m{\u001b[0m\u001b[32m'category'\u001b[0m: \u001b[32m'Vitamins'\u001b[0m, \u001b[32m'entities'\u001b[0m: \u001b[32m'Vitamin A, Vitamin C, Vitamin D'\u001b[0m, \u001b[32m'text'\u001b[0m: \u001b[32m'Vitamin A is crucial for good \u001b[0m\n",
       "\u001b[32mvision and a healthy immune system, Vitamin C helps in the repair of tissues and the enzymatic production of \u001b[0m\n",
       "\u001b[32mcertain neurotransmitters, and Vitamin D is essential for strong bones and teeth as it helps the body absorb \u001b[0m\n",
       "\u001b[32mcalcium.'\u001b[0m\u001b[1m}\u001b[0m\n"
      ]
     },
     "metadata": {},
     "output_type": "display_data"
    },
    {
     "name": "stderr",
     "output_type": "stream",
     "text": [
      "100%|██████████| 3/3 [00:05<00:00,  2.00s/it]"
     ]
    },
    {
     "data": {
      "text/html": [
       "<pre style=\"white-space:pre;overflow-x:auto;line-height:normal;font-family:Menlo,'DejaVu Sans Mono',consolas,'Courier New',monospace\"><span style=\"font-weight: bold\">{</span><span style=\"color: #008000; text-decoration-color: #008000\">'category'</span>: <span style=\"color: #008000; text-decoration-color: #008000\">'Minerals'</span>, <span style=\"color: #008000; text-decoration-color: #008000\">'entities'</span>: <span style=\"color: #008000; text-decoration-color: #008000\">'Calcium, Iron, Magnesium'</span>, <span style=\"color: #008000; text-decoration-color: #008000\">'text'</span>: <span style=\"color: #008000; text-decoration-color: #008000\">'Calcium is necessary for maintaining </span>\n",
       "<span style=\"color: #008000; text-decoration-color: #008000\">healthy bones and teeth, Iron is crucial for making red blood cells and transporting oxygen throughout the body, </span>\n",
       "<span style=\"color: #008000; text-decoration-color: #008000\">and Magnesium plays a role in over 300 enzyme reactions in the human body, including the metabolism of food, </span>\n",
       "<span style=\"color: #008000; text-decoration-color: #008000\">synthesis of fatty acids and proteins, and the transmission of nerve impulses.'</span><span style=\"font-weight: bold\">}</span>\n",
       "</pre>\n"
      ],
      "text/plain": [
       "\u001b[1m{\u001b[0m\u001b[32m'category'\u001b[0m: \u001b[32m'Minerals'\u001b[0m, \u001b[32m'entities'\u001b[0m: \u001b[32m'Calcium, Iron, Magnesium'\u001b[0m, \u001b[32m'text'\u001b[0m: \u001b[32m'Calcium is necessary for maintaining \u001b[0m\n",
       "\u001b[32mhealthy bones and teeth, Iron is crucial for making red blood cells and transporting oxygen throughout the body, \u001b[0m\n",
       "\u001b[32mand Magnesium plays a role in over 300 enzyme reactions in the human body, including the metabolism of food, \u001b[0m\n",
       "\u001b[32msynthesis of fatty acids and proteins, and the transmission of nerve impulses.'\u001b[0m\u001b[1m}\u001b[0m\n"
      ]
     },
     "metadata": {},
     "output_type": "display_data"
    },
    {
     "name": "stderr",
     "output_type": "stream",
     "text": [
      "100%|██████████| 3/3 [00:08<00:00,  2.76s/it]\n"
     ]
    },
    {
     "data": {
      "text/html": [
       "<pre style=\"white-space:pre;overflow-x:auto;line-height:normal;font-family:Menlo,'DejaVu Sans Mono',consolas,'Courier New',monospace\">Applying skill: skill_1\n",
       "</pre>\n"
      ],
      "text/plain": [
       "Applying skill: skill_1\n"
      ]
     },
     "metadata": {},
     "output_type": "display_data"
    },
    {
     "data": {
      "text/html": [
       "<pre style=\"white-space:pre;overflow-x:auto;line-height:normal;font-family:Menlo,'DejaVu Sans Mono',consolas,'Courier New',monospace\"><span style=\"font-weight: bold\">[</span><span style=\"color: #008000; text-decoration-color: #008000\">'entities'</span><span style=\"font-weight: bold\">]</span>\n",
       "</pre>\n"
      ],
      "text/plain": [
       "\u001b[1m[\u001b[0m\u001b[32m'entities'\u001b[0m\u001b[1m]\u001b[0m\n"
      ]
     },
     "metadata": {},
     "output_type": "display_data"
    },
    {
     "name": "stderr",
     "output_type": "stream",
     "text": [
      "  0%|          | 0/3 [00:00<?, ?it/s]"
     ]
    },
    {
     "data": {
      "text/html": [
       "<pre style=\"white-space:pre;overflow-x:auto;line-height:normal;font-family:Menlo,'DejaVu Sans Mono',consolas,'Courier New',monospace\"><span style=\"font-weight: bold\">{</span><span style=\"color: #008000; text-decoration-color: #008000\">'category'</span>: <span style=\"color: #008000; text-decoration-color: #008000\">'Macronutrients'</span>, <span style=\"color: #008000; text-decoration-color: #008000\">'text'</span>: <span style=\"color: #008000; text-decoration-color: #008000\">'Carbohydrates provide quick energy, proteins are essential for muscle </span>\n",
       "<span style=\"color: #008000; text-decoration-color: #008000\">repair and growth, and fats are vital for long-term energy storage and cell function.'</span>, <span style=\"color: #008000; text-decoration-color: #008000\">'entities'</span>: <span style=\"color: #008000; text-decoration-color: #008000\">'carbohydrates,</span>\n",
       "<span style=\"color: #008000; text-decoration-color: #008000\">proteins, fats'</span><span style=\"font-weight: bold\">}</span>\n",
       "</pre>\n"
      ],
      "text/plain": [
       "\u001b[1m{\u001b[0m\u001b[32m'category'\u001b[0m: \u001b[32m'Macronutrients'\u001b[0m, \u001b[32m'text'\u001b[0m: \u001b[32m'Carbohydrates provide quick energy, proteins are essential for muscle \u001b[0m\n",
       "\u001b[32mrepair and growth, and fats are vital for long-term energy storage and cell function.'\u001b[0m, \u001b[32m'entities'\u001b[0m: \u001b[32m'carbohydrates,\u001b[0m\n",
       "\u001b[32mproteins, fats'\u001b[0m\u001b[1m}\u001b[0m\n"
      ]
     },
     "metadata": {},
     "output_type": "display_data"
    },
    {
     "name": "stderr",
     "output_type": "stream",
     "text": [
      " 67%|██████▋   | 2/3 [00:02<00:01,  1.11s/it]"
     ]
    },
    {
     "data": {
      "text/html": [
       "<pre style=\"white-space:pre;overflow-x:auto;line-height:normal;font-family:Menlo,'DejaVu Sans Mono',consolas,'Courier New',monospace\"><span style=\"font-weight: bold\">{</span><span style=\"color: #008000; text-decoration-color: #008000\">'category'</span>: <span style=\"color: #008000; text-decoration-color: #008000\">'Vitamins'</span>, <span style=\"color: #008000; text-decoration-color: #008000\">'text'</span>: <span style=\"color: #008000; text-decoration-color: #008000\">'Vitamin A is crucial for good vision and a healthy immune system, Vitamin C helps</span>\n",
       "<span style=\"color: #008000; text-decoration-color: #008000\">in the repair of tissues and the enzymatic production of certain neurotransmitters, and Vitamin D is essential for </span>\n",
       "<span style=\"color: #008000; text-decoration-color: #008000\">strong bones and teeth as it helps the body absorb calcium.'</span>, <span style=\"color: #008000; text-decoration-color: #008000\">'entities'</span>: <span style=\"color: #008000; text-decoration-color: #008000\">'carbohydrates, proteins, fats'</span><span style=\"font-weight: bold\">}</span>\n",
       "</pre>\n"
      ],
      "text/plain": [
       "\u001b[1m{\u001b[0m\u001b[32m'category'\u001b[0m: \u001b[32m'Vitamins'\u001b[0m, \u001b[32m'text'\u001b[0m: \u001b[32m'Vitamin A is crucial for good vision and a healthy immune system, Vitamin C helps\u001b[0m\n",
       "\u001b[32min the repair of tissues and the enzymatic production of certain neurotransmitters, and Vitamin D is essential for \u001b[0m\n",
       "\u001b[32mstrong bones and teeth as it helps the body absorb calcium.'\u001b[0m, \u001b[32m'entities'\u001b[0m: \u001b[32m'carbohydrates, proteins, fats'\u001b[0m\u001b[1m}\u001b[0m\n"
      ]
     },
     "metadata": {},
     "output_type": "display_data"
    },
    {
     "name": "stderr",
     "output_type": "stream",
     "text": [
      "100%|██████████| 3/3 [00:04<00:00,  1.69s/it]"
     ]
    },
    {
     "data": {
      "text/html": [
       "<pre style=\"white-space:pre;overflow-x:auto;line-height:normal;font-family:Menlo,'DejaVu Sans Mono',consolas,'Courier New',monospace\"><span style=\"font-weight: bold\">{</span><span style=\"color: #008000; text-decoration-color: #008000\">'category'</span>: <span style=\"color: #008000; text-decoration-color: #008000\">'Minerals'</span>, <span style=\"color: #008000; text-decoration-color: #008000\">'text'</span>: <span style=\"color: #008000; text-decoration-color: #008000\">'Calcium is necessary for maintaining healthy bones and teeth, Iron is crucial for</span>\n",
       "<span style=\"color: #008000; text-decoration-color: #008000\">making red blood cells and transporting oxygen throughout the body, and Magnesium plays a role in over 300 enzyme </span>\n",
       "<span style=\"color: #008000; text-decoration-color: #008000\">reactions in the human body, including the metabolism of food, synthesis of fatty acids and proteins, and the </span>\n",
       "<span style=\"color: #008000; text-decoration-color: #008000\">transmission of nerve impulses.'</span>, <span style=\"color: #008000; text-decoration-color: #008000\">'entities'</span>: <span style=\"color: #008000; text-decoration-color: #008000\">'carbohydrates, proteins, fats'</span><span style=\"font-weight: bold\">}</span>\n",
       "</pre>\n"
      ],
      "text/plain": [
       "\u001b[1m{\u001b[0m\u001b[32m'category'\u001b[0m: \u001b[32m'Minerals'\u001b[0m, \u001b[32m'text'\u001b[0m: \u001b[32m'Calcium is necessary for maintaining healthy bones and teeth, Iron is crucial for\u001b[0m\n",
       "\u001b[32mmaking red blood cells and transporting oxygen throughout the body, and Magnesium plays a role in over 300 enzyme \u001b[0m\n",
       "\u001b[32mreactions in the human body, including the metabolism of food, synthesis of fatty acids and proteins, and the \u001b[0m\n",
       "\u001b[32mtransmission of nerve impulses.'\u001b[0m, \u001b[32m'entities'\u001b[0m: \u001b[32m'carbohydrates, proteins, fats'\u001b[0m\u001b[1m}\u001b[0m\n"
      ]
     },
     "metadata": {},
     "output_type": "display_data"
    },
    {
     "name": "stderr",
     "output_type": "stream",
     "text": [
      "100%|██████████| 3/3 [00:13<00:00,  4.35s/it]\n"
     ]
    },
    {
     "data": {
      "text/html": [
       "<pre style=\"white-space:pre;overflow-x:auto;line-height:normal;font-family:Menlo,'DejaVu Sans Mono',consolas,'Courier New',monospace\">Predictions and feedback:\n",
       "</pre>\n"
      ],
      "text/plain": [
       "Predictions and feedback:\n"
      ]
     },
     "metadata": {},
     "output_type": "display_data"
    },
    {
     "data": {
      "text/html": [
       "<pre style=\"white-space:pre;overflow-x:auto;line-height:normal;font-family:Menlo,'DejaVu Sans Mono',consolas,'Courier New',monospace\">                                                                                                                   \n",
       " <span style=\"color: #800080; text-decoration-color: #800080; font-weight: bold\"> category       </span> <span style=\"color: #800080; text-decoration-color: #800080; font-weight: bold\"> entities          </span> <span style=\"color: #800080; text-decoration-color: #800080; font-weight: bold\"> text             </span> <span style=\"color: #800080; text-decoration-color: #800080; font-weight: bold\"> entities </span> <span style=\"color: #800080; text-decoration-color: #800080; font-weight: bold\"> text  </span> <span style=\"color: #800080; text-decoration-color: #800080; font-weight: bold\"> entities__fb      </span> <span style=\"color: #800080; text-decoration-color: #800080; font-weight: bold\"> text__fb         </span> \n",
       " ───────────────────────────────────────────────────────────────────────────────────────────────────────────────── \n",
       "  Macronutrients   carbohydrates,      carbohydrates,     False      False   Incorrect. Must     Incorrect. Must   \n",
       "                   proteins, fats      proteins, fats                        be equal to         be equal to       \n",
       "                                                                             Carbohydrates,      Carbohydrates     \n",
       "                                                                             Proteins, Fats      provide quick     \n",
       "                                                                                                 energy, proteins  \n",
       "                                                                                                 are essential     \n",
       "                                                                                                 for muscle        \n",
       "                                                                                                 repair and        \n",
       "                                                                                                 growth, and fats  \n",
       "                                                                                                 are vital for     \n",
       "                                                                                                 long-term energy  \n",
       "                                                                                                 storage and cell  \n",
       "                                                                                                 function.         \n",
       " <span style=\"color: #7f7f7f; text-decoration-color: #7f7f7f\"> Vitamins       </span> <span style=\"color: #7f7f7f; text-decoration-color: #7f7f7f\"> carbohydrates,    </span> <span style=\"color: #7f7f7f; text-decoration-color: #7f7f7f\"> carbohydrates,   </span> <span style=\"color: #7f7f7f; text-decoration-color: #7f7f7f\"> False    </span> <span style=\"color: #7f7f7f; text-decoration-color: #7f7f7f\"> False </span> <span style=\"color: #7f7f7f; text-decoration-color: #7f7f7f\"> Incorrect. Must   </span> <span style=\"color: #7f7f7f; text-decoration-color: #7f7f7f\"> Incorrect. Must  </span> \n",
       " <span style=\"color: #7f7f7f; text-decoration-color: #7f7f7f\">                </span> <span style=\"color: #7f7f7f; text-decoration-color: #7f7f7f\"> proteins, fats    </span> <span style=\"color: #7f7f7f; text-decoration-color: #7f7f7f\"> proteins, fats   </span> <span style=\"color: #7f7f7f; text-decoration-color: #7f7f7f\">          </span> <span style=\"color: #7f7f7f; text-decoration-color: #7f7f7f\">       </span> <span style=\"color: #7f7f7f; text-decoration-color: #7f7f7f\"> be equal to       </span> <span style=\"color: #7f7f7f; text-decoration-color: #7f7f7f\"> be equal to      </span> \n",
       " <span style=\"color: #7f7f7f; text-decoration-color: #7f7f7f\">                </span> <span style=\"color: #7f7f7f; text-decoration-color: #7f7f7f\">                   </span> <span style=\"color: #7f7f7f; text-decoration-color: #7f7f7f\">                  </span> <span style=\"color: #7f7f7f; text-decoration-color: #7f7f7f\">          </span> <span style=\"color: #7f7f7f; text-decoration-color: #7f7f7f\">       </span> <span style=\"color: #7f7f7f; text-decoration-color: #7f7f7f\"> Vitamin A,        </span> <span style=\"color: #7f7f7f; text-decoration-color: #7f7f7f\"> Vitamin A is     </span> \n",
       " <span style=\"color: #7f7f7f; text-decoration-color: #7f7f7f\">                </span> <span style=\"color: #7f7f7f; text-decoration-color: #7f7f7f\">                   </span> <span style=\"color: #7f7f7f; text-decoration-color: #7f7f7f\">                  </span> <span style=\"color: #7f7f7f; text-decoration-color: #7f7f7f\">          </span> <span style=\"color: #7f7f7f; text-decoration-color: #7f7f7f\">       </span> <span style=\"color: #7f7f7f; text-decoration-color: #7f7f7f\"> Vitamin C,        </span> <span style=\"color: #7f7f7f; text-decoration-color: #7f7f7f\"> crucial for good </span> \n",
       " <span style=\"color: #7f7f7f; text-decoration-color: #7f7f7f\">                </span> <span style=\"color: #7f7f7f; text-decoration-color: #7f7f7f\">                   </span> <span style=\"color: #7f7f7f; text-decoration-color: #7f7f7f\">                  </span> <span style=\"color: #7f7f7f; text-decoration-color: #7f7f7f\">          </span> <span style=\"color: #7f7f7f; text-decoration-color: #7f7f7f\">       </span> <span style=\"color: #7f7f7f; text-decoration-color: #7f7f7f\"> Vitamin D         </span> <span style=\"color: #7f7f7f; text-decoration-color: #7f7f7f\"> vision and a     </span> \n",
       " <span style=\"color: #7f7f7f; text-decoration-color: #7f7f7f\">                </span> <span style=\"color: #7f7f7f; text-decoration-color: #7f7f7f\">                   </span> <span style=\"color: #7f7f7f; text-decoration-color: #7f7f7f\">                  </span> <span style=\"color: #7f7f7f; text-decoration-color: #7f7f7f\">          </span> <span style=\"color: #7f7f7f; text-decoration-color: #7f7f7f\">       </span> <span style=\"color: #7f7f7f; text-decoration-color: #7f7f7f\">                   </span> <span style=\"color: #7f7f7f; text-decoration-color: #7f7f7f\"> healthy immune   </span> \n",
       " <span style=\"color: #7f7f7f; text-decoration-color: #7f7f7f\">                </span> <span style=\"color: #7f7f7f; text-decoration-color: #7f7f7f\">                   </span> <span style=\"color: #7f7f7f; text-decoration-color: #7f7f7f\">                  </span> <span style=\"color: #7f7f7f; text-decoration-color: #7f7f7f\">          </span> <span style=\"color: #7f7f7f; text-decoration-color: #7f7f7f\">       </span> <span style=\"color: #7f7f7f; text-decoration-color: #7f7f7f\">                   </span> <span style=\"color: #7f7f7f; text-decoration-color: #7f7f7f\"> system, Vitamin  </span> \n",
       " <span style=\"color: #7f7f7f; text-decoration-color: #7f7f7f\">                </span> <span style=\"color: #7f7f7f; text-decoration-color: #7f7f7f\">                   </span> <span style=\"color: #7f7f7f; text-decoration-color: #7f7f7f\">                  </span> <span style=\"color: #7f7f7f; text-decoration-color: #7f7f7f\">          </span> <span style=\"color: #7f7f7f; text-decoration-color: #7f7f7f\">       </span> <span style=\"color: #7f7f7f; text-decoration-color: #7f7f7f\">                   </span> <span style=\"color: #7f7f7f; text-decoration-color: #7f7f7f\"> C helps in the   </span> \n",
       " <span style=\"color: #7f7f7f; text-decoration-color: #7f7f7f\">                </span> <span style=\"color: #7f7f7f; text-decoration-color: #7f7f7f\">                   </span> <span style=\"color: #7f7f7f; text-decoration-color: #7f7f7f\">                  </span> <span style=\"color: #7f7f7f; text-decoration-color: #7f7f7f\">          </span> <span style=\"color: #7f7f7f; text-decoration-color: #7f7f7f\">       </span> <span style=\"color: #7f7f7f; text-decoration-color: #7f7f7f\">                   </span> <span style=\"color: #7f7f7f; text-decoration-color: #7f7f7f\"> repair of        </span> \n",
       " <span style=\"color: #7f7f7f; text-decoration-color: #7f7f7f\">                </span> <span style=\"color: #7f7f7f; text-decoration-color: #7f7f7f\">                   </span> <span style=\"color: #7f7f7f; text-decoration-color: #7f7f7f\">                  </span> <span style=\"color: #7f7f7f; text-decoration-color: #7f7f7f\">          </span> <span style=\"color: #7f7f7f; text-decoration-color: #7f7f7f\">       </span> <span style=\"color: #7f7f7f; text-decoration-color: #7f7f7f\">                   </span> <span style=\"color: #7f7f7f; text-decoration-color: #7f7f7f\"> tissues and the  </span> \n",
       " <span style=\"color: #7f7f7f; text-decoration-color: #7f7f7f\">                </span> <span style=\"color: #7f7f7f; text-decoration-color: #7f7f7f\">                   </span> <span style=\"color: #7f7f7f; text-decoration-color: #7f7f7f\">                  </span> <span style=\"color: #7f7f7f; text-decoration-color: #7f7f7f\">          </span> <span style=\"color: #7f7f7f; text-decoration-color: #7f7f7f\">       </span> <span style=\"color: #7f7f7f; text-decoration-color: #7f7f7f\">                   </span> <span style=\"color: #7f7f7f; text-decoration-color: #7f7f7f\"> enzymatic        </span> \n",
       " <span style=\"color: #7f7f7f; text-decoration-color: #7f7f7f\">                </span> <span style=\"color: #7f7f7f; text-decoration-color: #7f7f7f\">                   </span> <span style=\"color: #7f7f7f; text-decoration-color: #7f7f7f\">                  </span> <span style=\"color: #7f7f7f; text-decoration-color: #7f7f7f\">          </span> <span style=\"color: #7f7f7f; text-decoration-color: #7f7f7f\">       </span> <span style=\"color: #7f7f7f; text-decoration-color: #7f7f7f\">                   </span> <span style=\"color: #7f7f7f; text-decoration-color: #7f7f7f\"> production of    </span> \n",
       " <span style=\"color: #7f7f7f; text-decoration-color: #7f7f7f\">                </span> <span style=\"color: #7f7f7f; text-decoration-color: #7f7f7f\">                   </span> <span style=\"color: #7f7f7f; text-decoration-color: #7f7f7f\">                  </span> <span style=\"color: #7f7f7f; text-decoration-color: #7f7f7f\">          </span> <span style=\"color: #7f7f7f; text-decoration-color: #7f7f7f\">       </span> <span style=\"color: #7f7f7f; text-decoration-color: #7f7f7f\">                   </span> <span style=\"color: #7f7f7f; text-decoration-color: #7f7f7f\"> certain          </span> \n",
       " <span style=\"color: #7f7f7f; text-decoration-color: #7f7f7f\">                </span> <span style=\"color: #7f7f7f; text-decoration-color: #7f7f7f\">                   </span> <span style=\"color: #7f7f7f; text-decoration-color: #7f7f7f\">                  </span> <span style=\"color: #7f7f7f; text-decoration-color: #7f7f7f\">          </span> <span style=\"color: #7f7f7f; text-decoration-color: #7f7f7f\">       </span> <span style=\"color: #7f7f7f; text-decoration-color: #7f7f7f\">                   </span> <span style=\"color: #7f7f7f; text-decoration-color: #7f7f7f\"> neurotransmitte… </span> \n",
       " <span style=\"color: #7f7f7f; text-decoration-color: #7f7f7f\">                </span> <span style=\"color: #7f7f7f; text-decoration-color: #7f7f7f\">                   </span> <span style=\"color: #7f7f7f; text-decoration-color: #7f7f7f\">                  </span> <span style=\"color: #7f7f7f; text-decoration-color: #7f7f7f\">          </span> <span style=\"color: #7f7f7f; text-decoration-color: #7f7f7f\">       </span> <span style=\"color: #7f7f7f; text-decoration-color: #7f7f7f\">                   </span> <span style=\"color: #7f7f7f; text-decoration-color: #7f7f7f\"> and Vitamin D is </span> \n",
       " <span style=\"color: #7f7f7f; text-decoration-color: #7f7f7f\">                </span> <span style=\"color: #7f7f7f; text-decoration-color: #7f7f7f\">                   </span> <span style=\"color: #7f7f7f; text-decoration-color: #7f7f7f\">                  </span> <span style=\"color: #7f7f7f; text-decoration-color: #7f7f7f\">          </span> <span style=\"color: #7f7f7f; text-decoration-color: #7f7f7f\">       </span> <span style=\"color: #7f7f7f; text-decoration-color: #7f7f7f\">                   </span> <span style=\"color: #7f7f7f; text-decoration-color: #7f7f7f\"> essential for    </span> \n",
       " <span style=\"color: #7f7f7f; text-decoration-color: #7f7f7f\">                </span> <span style=\"color: #7f7f7f; text-decoration-color: #7f7f7f\">                   </span> <span style=\"color: #7f7f7f; text-decoration-color: #7f7f7f\">                  </span> <span style=\"color: #7f7f7f; text-decoration-color: #7f7f7f\">          </span> <span style=\"color: #7f7f7f; text-decoration-color: #7f7f7f\">       </span> <span style=\"color: #7f7f7f; text-decoration-color: #7f7f7f\">                   </span> <span style=\"color: #7f7f7f; text-decoration-color: #7f7f7f\"> strong bones and </span> \n",
       " <span style=\"color: #7f7f7f; text-decoration-color: #7f7f7f\">                </span> <span style=\"color: #7f7f7f; text-decoration-color: #7f7f7f\">                   </span> <span style=\"color: #7f7f7f; text-decoration-color: #7f7f7f\">                  </span> <span style=\"color: #7f7f7f; text-decoration-color: #7f7f7f\">          </span> <span style=\"color: #7f7f7f; text-decoration-color: #7f7f7f\">       </span> <span style=\"color: #7f7f7f; text-decoration-color: #7f7f7f\">                   </span> <span style=\"color: #7f7f7f; text-decoration-color: #7f7f7f\"> teeth as it      </span> \n",
       " <span style=\"color: #7f7f7f; text-decoration-color: #7f7f7f\">                </span> <span style=\"color: #7f7f7f; text-decoration-color: #7f7f7f\">                   </span> <span style=\"color: #7f7f7f; text-decoration-color: #7f7f7f\">                  </span> <span style=\"color: #7f7f7f; text-decoration-color: #7f7f7f\">          </span> <span style=\"color: #7f7f7f; text-decoration-color: #7f7f7f\">       </span> <span style=\"color: #7f7f7f; text-decoration-color: #7f7f7f\">                   </span> <span style=\"color: #7f7f7f; text-decoration-color: #7f7f7f\"> helps the body   </span> \n",
       " <span style=\"color: #7f7f7f; text-decoration-color: #7f7f7f\">                </span> <span style=\"color: #7f7f7f; text-decoration-color: #7f7f7f\">                   </span> <span style=\"color: #7f7f7f; text-decoration-color: #7f7f7f\">                  </span> <span style=\"color: #7f7f7f; text-decoration-color: #7f7f7f\">          </span> <span style=\"color: #7f7f7f; text-decoration-color: #7f7f7f\">       </span> <span style=\"color: #7f7f7f; text-decoration-color: #7f7f7f\">                   </span> <span style=\"color: #7f7f7f; text-decoration-color: #7f7f7f\"> absorb calcium.  </span> \n",
       "  Minerals         carbohydrates,      carbohydrates,     False      False   Incorrect. Must     Incorrect. Must   \n",
       "                   proteins, fats      proteins, fats                        be equal to         be equal to       \n",
       "                                                                             Calcium, Iron,      Calcium is        \n",
       "                                                                             Magnesium           necessary for     \n",
       "                                                                                                 maintaining       \n",
       "                                                                                                 healthy bones     \n",
       "                                                                                                 and teeth, Iron   \n",
       "                                                                                                 is crucial for    \n",
       "                                                                                                 making red blood  \n",
       "                                                                                                 cells and         \n",
       "                                                                                                 transporting      \n",
       "                                                                                                 oxygen            \n",
       "                                                                                                 throughout the    \n",
       "                                                                                                 body, and         \n",
       "                                                                                                 Magnesium plays   \n",
       "                                                                                                 a role in over    \n",
       "                                                                                                 300 enzyme        \n",
       "                                                                                                 reactions in the  \n",
       "                                                                                                 human body,       \n",
       "                                                                                                 including the     \n",
       "                                                                                                 metabolism of     \n",
       "                                                                                                 food, synthesis   \n",
       "                                                                                                 of fatty acids    \n",
       "                                                                                                 and proteins,     \n",
       "                                                                                                 and the           \n",
       "                                                                                                 transmission of   \n",
       "                                                                                                 nerve impulses.   \n",
       "                                                                                                                   \n",
       "</pre>\n"
      ],
      "text/plain": [
       "                                                                                                                   \n",
       " \u001b[1;35m \u001b[0m\u001b[1;35mcategory      \u001b[0m\u001b[1;35m \u001b[0m \u001b[1;35m \u001b[0m\u001b[1;35mentities         \u001b[0m\u001b[1;35m \u001b[0m \u001b[1;35m \u001b[0m\u001b[1;35mtext            \u001b[0m\u001b[1;35m \u001b[0m \u001b[1;35m \u001b[0m\u001b[1;35mentities\u001b[0m\u001b[1;35m \u001b[0m \u001b[1;35m \u001b[0m\u001b[1;35mtext \u001b[0m\u001b[1;35m \u001b[0m \u001b[1;35m \u001b[0m\u001b[1;35mentities__fb     \u001b[0m\u001b[1;35m \u001b[0m \u001b[1;35m \u001b[0m\u001b[1;35mtext__fb        \u001b[0m\u001b[1;35m \u001b[0m \n",
       " ───────────────────────────────────────────────────────────────────────────────────────────────────────────────── \n",
       "  Macronutrients   carbohydrates,      carbohydrates,     False      False   Incorrect. Must     Incorrect. Must   \n",
       "                   proteins, fats      proteins, fats                        be equal to         be equal to       \n",
       "                                                                             Carbohydrates,      Carbohydrates     \n",
       "                                                                             Proteins, Fats      provide quick     \n",
       "                                                                                                 energy, proteins  \n",
       "                                                                                                 are essential     \n",
       "                                                                                                 for muscle        \n",
       "                                                                                                 repair and        \n",
       "                                                                                                 growth, and fats  \n",
       "                                                                                                 are vital for     \n",
       "                                                                                                 long-term energy  \n",
       "                                                                                                 storage and cell  \n",
       "                                                                                                 function.         \n",
       " \u001b[2m \u001b[0m\u001b[2mVitamins      \u001b[0m\u001b[2m \u001b[0m \u001b[2m \u001b[0m\u001b[2mcarbohydrates,   \u001b[0m\u001b[2m \u001b[0m \u001b[2m \u001b[0m\u001b[2mcarbohydrates,  \u001b[0m\u001b[2m \u001b[0m \u001b[2m \u001b[0m\u001b[2mFalse   \u001b[0m\u001b[2m \u001b[0m \u001b[2m \u001b[0m\u001b[2mFalse\u001b[0m\u001b[2m \u001b[0m \u001b[2m \u001b[0m\u001b[2mIncorrect. Must  \u001b[0m\u001b[2m \u001b[0m \u001b[2m \u001b[0m\u001b[2mIncorrect. Must \u001b[0m\u001b[2m \u001b[0m \n",
       " \u001b[2m                \u001b[0m \u001b[2m \u001b[0m\u001b[2mproteins, fats   \u001b[0m\u001b[2m \u001b[0m \u001b[2m \u001b[0m\u001b[2mproteins, fats  \u001b[0m\u001b[2m \u001b[0m \u001b[2m          \u001b[0m \u001b[2m       \u001b[0m \u001b[2m \u001b[0m\u001b[2mbe equal to      \u001b[0m\u001b[2m \u001b[0m \u001b[2m \u001b[0m\u001b[2mbe equal to     \u001b[0m\u001b[2m \u001b[0m \n",
       " \u001b[2m                \u001b[0m \u001b[2m                   \u001b[0m \u001b[2m                  \u001b[0m \u001b[2m          \u001b[0m \u001b[2m       \u001b[0m \u001b[2m \u001b[0m\u001b[2mVitamin A,       \u001b[0m\u001b[2m \u001b[0m \u001b[2m \u001b[0m\u001b[2mVitamin A is    \u001b[0m\u001b[2m \u001b[0m \n",
       " \u001b[2m                \u001b[0m \u001b[2m                   \u001b[0m \u001b[2m                  \u001b[0m \u001b[2m          \u001b[0m \u001b[2m       \u001b[0m \u001b[2m \u001b[0m\u001b[2mVitamin C,       \u001b[0m\u001b[2m \u001b[0m \u001b[2m \u001b[0m\u001b[2mcrucial for good\u001b[0m\u001b[2m \u001b[0m \n",
       " \u001b[2m                \u001b[0m \u001b[2m                   \u001b[0m \u001b[2m                  \u001b[0m \u001b[2m          \u001b[0m \u001b[2m       \u001b[0m \u001b[2m \u001b[0m\u001b[2mVitamin D        \u001b[0m\u001b[2m \u001b[0m \u001b[2m \u001b[0m\u001b[2mvision and a    \u001b[0m\u001b[2m \u001b[0m \n",
       " \u001b[2m                \u001b[0m \u001b[2m                   \u001b[0m \u001b[2m                  \u001b[0m \u001b[2m          \u001b[0m \u001b[2m       \u001b[0m \u001b[2m                   \u001b[0m \u001b[2m \u001b[0m\u001b[2mhealthy immune  \u001b[0m\u001b[2m \u001b[0m \n",
       " \u001b[2m                \u001b[0m \u001b[2m                   \u001b[0m \u001b[2m                  \u001b[0m \u001b[2m          \u001b[0m \u001b[2m       \u001b[0m \u001b[2m                   \u001b[0m \u001b[2m \u001b[0m\u001b[2msystem, Vitamin \u001b[0m\u001b[2m \u001b[0m \n",
       " \u001b[2m                \u001b[0m \u001b[2m                   \u001b[0m \u001b[2m                  \u001b[0m \u001b[2m          \u001b[0m \u001b[2m       \u001b[0m \u001b[2m                   \u001b[0m \u001b[2m \u001b[0m\u001b[2mC helps in the  \u001b[0m\u001b[2m \u001b[0m \n",
       " \u001b[2m                \u001b[0m \u001b[2m                   \u001b[0m \u001b[2m                  \u001b[0m \u001b[2m          \u001b[0m \u001b[2m       \u001b[0m \u001b[2m                   \u001b[0m \u001b[2m \u001b[0m\u001b[2mrepair of       \u001b[0m\u001b[2m \u001b[0m \n",
       " \u001b[2m                \u001b[0m \u001b[2m                   \u001b[0m \u001b[2m                  \u001b[0m \u001b[2m          \u001b[0m \u001b[2m       \u001b[0m \u001b[2m                   \u001b[0m \u001b[2m \u001b[0m\u001b[2mtissues and the \u001b[0m\u001b[2m \u001b[0m \n",
       " \u001b[2m                \u001b[0m \u001b[2m                   \u001b[0m \u001b[2m                  \u001b[0m \u001b[2m          \u001b[0m \u001b[2m       \u001b[0m \u001b[2m                   \u001b[0m \u001b[2m \u001b[0m\u001b[2menzymatic       \u001b[0m\u001b[2m \u001b[0m \n",
       " \u001b[2m                \u001b[0m \u001b[2m                   \u001b[0m \u001b[2m                  \u001b[0m \u001b[2m          \u001b[0m \u001b[2m       \u001b[0m \u001b[2m                   \u001b[0m \u001b[2m \u001b[0m\u001b[2mproduction of   \u001b[0m\u001b[2m \u001b[0m \n",
       " \u001b[2m                \u001b[0m \u001b[2m                   \u001b[0m \u001b[2m                  \u001b[0m \u001b[2m          \u001b[0m \u001b[2m       \u001b[0m \u001b[2m                   \u001b[0m \u001b[2m \u001b[0m\u001b[2mcertain         \u001b[0m\u001b[2m \u001b[0m \n",
       " \u001b[2m                \u001b[0m \u001b[2m                   \u001b[0m \u001b[2m                  \u001b[0m \u001b[2m          \u001b[0m \u001b[2m       \u001b[0m \u001b[2m                   \u001b[0m \u001b[2m \u001b[0m\u001b[2mneurotransmitte…\u001b[0m\u001b[2m \u001b[0m \n",
       " \u001b[2m                \u001b[0m \u001b[2m                   \u001b[0m \u001b[2m                  \u001b[0m \u001b[2m          \u001b[0m \u001b[2m       \u001b[0m \u001b[2m                   \u001b[0m \u001b[2m \u001b[0m\u001b[2mand Vitamin D is\u001b[0m\u001b[2m \u001b[0m \n",
       " \u001b[2m                \u001b[0m \u001b[2m                   \u001b[0m \u001b[2m                  \u001b[0m \u001b[2m          \u001b[0m \u001b[2m       \u001b[0m \u001b[2m                   \u001b[0m \u001b[2m \u001b[0m\u001b[2messential for   \u001b[0m\u001b[2m \u001b[0m \n",
       " \u001b[2m                \u001b[0m \u001b[2m                   \u001b[0m \u001b[2m                  \u001b[0m \u001b[2m          \u001b[0m \u001b[2m       \u001b[0m \u001b[2m                   \u001b[0m \u001b[2m \u001b[0m\u001b[2mstrong bones and\u001b[0m\u001b[2m \u001b[0m \n",
       " \u001b[2m                \u001b[0m \u001b[2m                   \u001b[0m \u001b[2m                  \u001b[0m \u001b[2m          \u001b[0m \u001b[2m       \u001b[0m \u001b[2m                   \u001b[0m \u001b[2m \u001b[0m\u001b[2mteeth as it     \u001b[0m\u001b[2m \u001b[0m \n",
       " \u001b[2m                \u001b[0m \u001b[2m                   \u001b[0m \u001b[2m                  \u001b[0m \u001b[2m          \u001b[0m \u001b[2m       \u001b[0m \u001b[2m                   \u001b[0m \u001b[2m \u001b[0m\u001b[2mhelps the body  \u001b[0m\u001b[2m \u001b[0m \n",
       " \u001b[2m                \u001b[0m \u001b[2m                   \u001b[0m \u001b[2m                  \u001b[0m \u001b[2m          \u001b[0m \u001b[2m       \u001b[0m \u001b[2m                   \u001b[0m \u001b[2m \u001b[0m\u001b[2mabsorb calcium. \u001b[0m\u001b[2m \u001b[0m \n",
       "  Minerals         carbohydrates,      carbohydrates,     False      False   Incorrect. Must     Incorrect. Must   \n",
       "                   proteins, fats      proteins, fats                        be equal to         be equal to       \n",
       "                                                                             Calcium, Iron,      Calcium is        \n",
       "                                                                             Magnesium           necessary for     \n",
       "                                                                                                 maintaining       \n",
       "                                                                                                 healthy bones     \n",
       "                                                                                                 and teeth, Iron   \n",
       "                                                                                                 is crucial for    \n",
       "                                                                                                 making red blood  \n",
       "                                                                                                 cells and         \n",
       "                                                                                                 transporting      \n",
       "                                                                                                 oxygen            \n",
       "                                                                                                 throughout the    \n",
       "                                                                                                 body, and         \n",
       "                                                                                                 Magnesium plays   \n",
       "                                                                                                 a role in over    \n",
       "                                                                                                 300 enzyme        \n",
       "                                                                                                 reactions in the  \n",
       "                                                                                                 human body,       \n",
       "                                                                                                 including the     \n",
       "                                                                                                 metabolism of     \n",
       "                                                                                                 food, synthesis   \n",
       "                                                                                                 of fatty acids    \n",
       "                                                                                                 and proteins,     \n",
       "                                                                                                 and the           \n",
       "                                                                                                 transmission of   \n",
       "                                                                                                 nerve impulses.   \n",
       "                                                                                                                   \n"
      ]
     },
     "metadata": {},
     "output_type": "display_data"
    },
    {
     "data": {
      "text/html": [
       "<pre style=\"white-space:pre;overflow-x:auto;line-height:normal;font-family:Menlo,'DejaVu Sans Mono',consolas,'Courier New',monospace\"><span style=\"color: #008000; text-decoration-color: #008000; font-weight: bold\">Output to improve: entities | </span><span style=\"color: #808000; text-decoration-color: #808000; font-weight: bold\">Skill</span><span style=\"color: #008000; text-decoration-color: #008000; font-weight: bold\">=</span><span style=\"color: #800080; text-decoration-color: #800080; font-weight: bold\">skill_0</span><span style=\"color: #008000; text-decoration-color: #008000; font-weight: bold\"> | Accuracy = </span><span style=\"color: #008080; text-decoration-color: #008080; font-weight: bold\">0.00</span><span style=\"color: #008000; text-decoration-color: #008000; font-weight: bold\">% </span>\n",
       "\n",
       "<span style=\"color: #008000; text-decoration-color: #008000; font-weight: bold\">                                                                </span>\n",
       "</pre>\n"
      ],
      "text/plain": [
       "\u001b[1;32mOutput to improve: entities | \u001b[0m\u001b[1;33mSkill\u001b[0m\u001b[1;32m=\u001b[0m\u001b[1;35mskill_0\u001b[0m\u001b[1;32m | Accuracy = \u001b[0m\u001b[1;36m0.00\u001b[0m\u001b[1;32m% \u001b[0m\n",
       "\n",
       "\u001b[1;32m                                                                \u001b[0m\n"
      ]
     },
     "metadata": {},
     "output_type": "display_data"
    },
    {
     "data": {
      "text/html": [
       "<pre style=\"white-space:pre;overflow-x:auto;line-height:normal;font-family:Menlo,'DejaVu Sans Mono',consolas,'Courier New',monospace\"><span style=\"font-weight: bold\">{</span><span style=\"color: #008000; text-decoration-color: #008000\">'input'</span>: <span style=\"color: #008000; text-decoration-color: #008000\">\"The quality of the proposed instructions has not improved. Carefully analyze the feedback and do your </span>\n",
       "<span style=\"color: #008000; text-decoration-color: #008000\">best to improve the instructions. Here is the feedback based on the current instructions:\\n\\n\\n\\n    \\t\\t\\tinput: </span>\n",
       "<span style=\"color: #008000; text-decoration-color: #008000\">Macronutrients\\n\\n    \\t\\t\\tthe output of skill_0:carbohydrates, proteins, fats\\n\\n    \\t\\t\\tIncorrect. Must be </span>\n",
       "<span style=\"color: #008000; text-decoration-color: #008000\">equal to Carbohydrates, Proteins, Fats\\n\\n\\n  \\t\\t\\t\\n\\n    \\t\\t\\tinput: Vitamins\\n\\n    \\t\\t\\tthe output of </span>\n",
       "<span style=\"color: #008000; text-decoration-color: #008000\">skill_0:carbohydrates, proteins, fats\\n\\n    \\t\\t\\tIncorrect. Must be equal to Vitamin A, Vitamin C, Vitamin </span>\n",
       "<span style=\"color: #008000; text-decoration-color: #008000\">D\\n\\n\\n  \\t\\t\\t\\n\\n    \\t\\t\\tinput: Minerals\\n\\n    \\t\\t\\tthe output of skill_0:carbohydrates, proteins, fats\\n\\n  </span>\n",
       "<span style=\"color: #008000; text-decoration-color: #008000\">\\t\\t\\tIncorrect. Must be equal to Calcium, Iron, Magnesium\\n\\n\\n  \\t\\t\\t\\n\\n'\\n\\t\\t\\t\\tPlease address the feedback </span>\n",
       "<span style=\"color: #008000; text-decoration-color: #008000\">and provide new improved instructions for the LLM.\\n\\n\\t\\t\\t\\tCarefully analyze this feedback, and provide updated </span>\n",
       "<span style=\"color: #008000; text-decoration-color: #008000\">prompting instructions for LLM:\\n\\t\\t\\t\"</span><span style=\"font-weight: bold\">}</span>\n",
       "</pre>\n"
      ],
      "text/plain": [
       "\u001b[1m{\u001b[0m\u001b[32m'input'\u001b[0m: \u001b[32m\"The quality of the proposed instructions has not improved. Carefully analyze the feedback and do your \u001b[0m\n",
       "\u001b[32mbest to improve the instructions. Here is the feedback based on the current instructions:\\n\\n\\n\\n    \\t\\t\\tinput: \u001b[0m\n",
       "\u001b[32mMacronutrients\\n\\n    \\t\\t\\tthe output of skill_0:carbohydrates, proteins, fats\\n\\n    \\t\\t\\tIncorrect. Must be \u001b[0m\n",
       "\u001b[32mequal to Carbohydrates, Proteins, Fats\\n\\n\\n  \\t\\t\\t\\n\\n    \\t\\t\\tinput: Vitamins\\n\\n    \\t\\t\\tthe output of \u001b[0m\n",
       "\u001b[32mskill_0:carbohydrates, proteins, fats\\n\\n    \\t\\t\\tIncorrect. Must be equal to Vitamin A, Vitamin C, Vitamin \u001b[0m\n",
       "\u001b[32mD\\n\\n\\n  \\t\\t\\t\\n\\n    \\t\\t\\tinput: Minerals\\n\\n    \\t\\t\\tthe output of skill_0:carbohydrates, proteins, fats\\n\\n  \u001b[0m\n",
       "\u001b[32m\\t\\t\\tIncorrect. Must be equal to Calcium, Iron, Magnesium\\n\\n\\n  \\t\\t\\t\\n\\n'\\n\\t\\t\\t\\tPlease address the feedback \u001b[0m\n",
       "\u001b[32mand provide new improved instructions for the LLM.\\n\\n\\t\\t\\t\\tCarefully analyze this feedback, and provide updated \u001b[0m\n",
       "\u001b[32mprompting instructions for LLM:\\n\\t\\t\\t\"\u001b[0m\u001b[1m}\u001b[0m\n"
      ]
     },
     "metadata": {},
     "output_type": "display_data"
    },
    {
     "data": {
      "text/html": [
       "<pre style=\"white-space:pre;overflow-x:auto;line-height:normal;font-family:Menlo,'DejaVu Sans Mono',consolas,'Courier New',monospace\"><span style=\"color: #008000; text-decoration-color: #008000; font-weight: bold\">Generate a list of macronutrients. The list should include carbohydrates, proteins, and fats. Make sure the output </span>\n",
       "<span style=\"color: #008000; text-decoration-color: #008000; font-weight: bold\">is equal to these three macronutrients.</span>\n",
       "</pre>\n"
      ],
      "text/plain": [
       "\u001b[1;32mGenerate a list of macronutrients. The list should include carbohydrates, proteins, and fats. Make sure the output \u001b[0m\n",
       "\u001b[1;32mis equal to these three macronutrients.\u001b[0m\n"
      ]
     },
     "metadata": {},
     "output_type": "display_data"
    },
    {
     "data": {
      "text/html": [
       "<pre style=\"white-space:pre;overflow-x:auto;line-height:normal;font-family:Menlo,'DejaVu Sans Mono',consolas,'Courier New',monospace\">Train is done!\n",
       "</pre>\n"
      ],
      "text/plain": [
       "Train is done!\n"
      ]
     },
     "metadata": {},
     "output_type": "display_data"
    },
    {
     "data": {
      "text/html": [
       "<pre style=\"white-space:pre;overflow-x:auto;line-height:normal;font-family:Menlo,'DejaVu Sans Mono',consolas,'Courier New',monospace\">\n",
       "\n",
       "=&gt; Iteration #<span style=\"color: #008080; text-decoration-color: #008080; font-weight: bold\">2</span>: Getting feedback, analyzing and improving <span style=\"color: #808000; text-decoration-color: #808000\">...</span>\n",
       "</pre>\n"
      ],
      "text/plain": [
       "\n",
       "\n",
       "=> Iteration #\u001b[1;36m2\u001b[0m: Getting feedback, analyzing and improving \u001b[33m...\u001b[0m\n"
      ]
     },
     "metadata": {},
     "output_type": "display_data"
    },
    {
     "data": {
      "text/html": [
       "<pre style=\"white-space:pre;overflow-x:auto;line-height:normal;font-family:Menlo,'DejaVu Sans Mono',consolas,'Courier New',monospace\">Applying skill: skill_0\n",
       "</pre>\n"
      ],
      "text/plain": [
       "Applying skill: skill_0\n"
      ]
     },
     "metadata": {},
     "output_type": "display_data"
    },
    {
     "data": {
      "text/html": [
       "<pre style=\"white-space:pre;overflow-x:auto;line-height:normal;font-family:Menlo,'DejaVu Sans Mono',consolas,'Courier New',monospace\"><span style=\"font-weight: bold\">[</span><span style=\"color: #008000; text-decoration-color: #008000\">'category'</span><span style=\"font-weight: bold\">]</span>\n",
       "</pre>\n"
      ],
      "text/plain": [
       "\u001b[1m[\u001b[0m\u001b[32m'category'\u001b[0m\u001b[1m]\u001b[0m\n"
      ]
     },
     "metadata": {},
     "output_type": "display_data"
    },
    {
     "name": "stderr",
     "output_type": "stream",
     "text": [
      "  0%|          | 0/3 [00:00<?, ?it/s]"
     ]
    },
    {
     "data": {
      "text/html": [
       "<pre style=\"white-space:pre;overflow-x:auto;line-height:normal;font-family:Menlo,'DejaVu Sans Mono',consolas,'Courier New',monospace\"><span style=\"font-weight: bold\">{</span><span style=\"color: #008000; text-decoration-color: #008000\">'category'</span>: <span style=\"color: #008000; text-decoration-color: #008000\">'Macronutrients'</span>, <span style=\"color: #008000; text-decoration-color: #008000\">'entities'</span>: <span style=\"color: #008000; text-decoration-color: #008000\">'Carbohydrates, Proteins, Fats'</span>, <span style=\"color: #008000; text-decoration-color: #008000\">'text'</span>: <span style=\"color: #008000; text-decoration-color: #008000\">'Carbohydrates provide quick </span>\n",
       "<span style=\"color: #008000; text-decoration-color: #008000\">energy, proteins are essential for muscle repair and growth, and fats are vital for long-term energy storage and </span>\n",
       "<span style=\"color: #008000; text-decoration-color: #008000\">cell function.'</span><span style=\"font-weight: bold\">}</span>\n",
       "</pre>\n"
      ],
      "text/plain": [
       "\u001b[1m{\u001b[0m\u001b[32m'category'\u001b[0m: \u001b[32m'Macronutrients'\u001b[0m, \u001b[32m'entities'\u001b[0m: \u001b[32m'Carbohydrates, Proteins, Fats'\u001b[0m, \u001b[32m'text'\u001b[0m: \u001b[32m'Carbohydrates provide quick \u001b[0m\n",
       "\u001b[32menergy, proteins are essential for muscle repair and growth, and fats are vital for long-term energy storage and \u001b[0m\n",
       "\u001b[32mcell function.'\u001b[0m\u001b[1m}\u001b[0m\n"
      ]
     },
     "metadata": {},
     "output_type": "display_data"
    },
    {
     "name": "stderr",
     "output_type": "stream",
     "text": [
      " 67%|██████▋   | 2/3 [00:02<00:01,  1.35s/it]"
     ]
    },
    {
     "data": {
      "text/html": [
       "<pre style=\"white-space:pre;overflow-x:auto;line-height:normal;font-family:Menlo,'DejaVu Sans Mono',consolas,'Courier New',monospace\"><span style=\"font-weight: bold\">{</span><span style=\"color: #008000; text-decoration-color: #008000\">'category'</span>: <span style=\"color: #008000; text-decoration-color: #008000\">'Vitamins'</span>, <span style=\"color: #008000; text-decoration-color: #008000\">'entities'</span>: <span style=\"color: #008000; text-decoration-color: #008000\">'Vitamin A, Vitamin C, Vitamin D'</span>, <span style=\"color: #008000; text-decoration-color: #008000\">'text'</span>: <span style=\"color: #008000; text-decoration-color: #008000\">'Vitamin A is crucial for good </span>\n",
       "<span style=\"color: #008000; text-decoration-color: #008000\">vision and a healthy immune system, Vitamin C helps in the repair of tissues and the enzymatic production of </span>\n",
       "<span style=\"color: #008000; text-decoration-color: #008000\">certain neurotransmitters, and Vitamin D is essential for strong bones and teeth as it helps the body absorb </span>\n",
       "<span style=\"color: #008000; text-decoration-color: #008000\">calcium.'</span><span style=\"font-weight: bold\">}</span>\n",
       "</pre>\n"
      ],
      "text/plain": [
       "\u001b[1m{\u001b[0m\u001b[32m'category'\u001b[0m: \u001b[32m'Vitamins'\u001b[0m, \u001b[32m'entities'\u001b[0m: \u001b[32m'Vitamin A, Vitamin C, Vitamin D'\u001b[0m, \u001b[32m'text'\u001b[0m: \u001b[32m'Vitamin A is crucial for good \u001b[0m\n",
       "\u001b[32mvision and a healthy immune system, Vitamin C helps in the repair of tissues and the enzymatic production of \u001b[0m\n",
       "\u001b[32mcertain neurotransmitters, and Vitamin D is essential for strong bones and teeth as it helps the body absorb \u001b[0m\n",
       "\u001b[32mcalcium.'\u001b[0m\u001b[1m}\u001b[0m\n"
      ]
     },
     "metadata": {},
     "output_type": "display_data"
    },
    {
     "name": "stderr",
     "output_type": "stream",
     "text": [
      "100%|██████████| 3/3 [00:05<00:00,  1.93s/it]"
     ]
    },
    {
     "data": {
      "text/html": [
       "<pre style=\"white-space:pre;overflow-x:auto;line-height:normal;font-family:Menlo,'DejaVu Sans Mono',consolas,'Courier New',monospace\"><span style=\"font-weight: bold\">{</span><span style=\"color: #008000; text-decoration-color: #008000\">'category'</span>: <span style=\"color: #008000; text-decoration-color: #008000\">'Minerals'</span>, <span style=\"color: #008000; text-decoration-color: #008000\">'entities'</span>: <span style=\"color: #008000; text-decoration-color: #008000\">'Calcium, Iron, Magnesium'</span>, <span style=\"color: #008000; text-decoration-color: #008000\">'text'</span>: <span style=\"color: #008000; text-decoration-color: #008000\">'Calcium is necessary for maintaining </span>\n",
       "<span style=\"color: #008000; text-decoration-color: #008000\">healthy bones and teeth, Iron is crucial for making red blood cells and transporting oxygen throughout the body, </span>\n",
       "<span style=\"color: #008000; text-decoration-color: #008000\">and Magnesium plays a role in over 300 enzyme reactions in the human body, including the metabolism of food, </span>\n",
       "<span style=\"color: #008000; text-decoration-color: #008000\">synthesis of fatty acids and proteins, and the transmission of nerve impulses.'</span><span style=\"font-weight: bold\">}</span>\n",
       "</pre>\n"
      ],
      "text/plain": [
       "\u001b[1m{\u001b[0m\u001b[32m'category'\u001b[0m: \u001b[32m'Minerals'\u001b[0m, \u001b[32m'entities'\u001b[0m: \u001b[32m'Calcium, Iron, Magnesium'\u001b[0m, \u001b[32m'text'\u001b[0m: \u001b[32m'Calcium is necessary for maintaining \u001b[0m\n",
       "\u001b[32mhealthy bones and teeth, Iron is crucial for making red blood cells and transporting oxygen throughout the body, \u001b[0m\n",
       "\u001b[32mand Magnesium plays a role in over 300 enzyme reactions in the human body, including the metabolism of food, \u001b[0m\n",
       "\u001b[32msynthesis of fatty acids and proteins, and the transmission of nerve impulses.'\u001b[0m\u001b[1m}\u001b[0m\n"
      ]
     },
     "metadata": {},
     "output_type": "display_data"
    },
    {
     "name": "stderr",
     "output_type": "stream",
     "text": [
      "100%|██████████| 3/3 [00:08<00:00,  2.73s/it]\n"
     ]
    },
    {
     "data": {
      "text/html": [
       "<pre style=\"white-space:pre;overflow-x:auto;line-height:normal;font-family:Menlo,'DejaVu Sans Mono',consolas,'Courier New',monospace\">Applying skill: skill_1\n",
       "</pre>\n"
      ],
      "text/plain": [
       "Applying skill: skill_1\n"
      ]
     },
     "metadata": {},
     "output_type": "display_data"
    },
    {
     "data": {
      "text/html": [
       "<pre style=\"white-space:pre;overflow-x:auto;line-height:normal;font-family:Menlo,'DejaVu Sans Mono',consolas,'Courier New',monospace\"><span style=\"font-weight: bold\">[</span><span style=\"color: #008000; text-decoration-color: #008000\">'entities'</span><span style=\"font-weight: bold\">]</span>\n",
       "</pre>\n"
      ],
      "text/plain": [
       "\u001b[1m[\u001b[0m\u001b[32m'entities'\u001b[0m\u001b[1m]\u001b[0m\n"
      ]
     },
     "metadata": {},
     "output_type": "display_data"
    },
    {
     "name": "stderr",
     "output_type": "stream",
     "text": [
      "  0%|          | 0/3 [00:00<?, ?it/s]"
     ]
    },
    {
     "data": {
      "text/html": [
       "<pre style=\"white-space:pre;overflow-x:auto;line-height:normal;font-family:Menlo,'DejaVu Sans Mono',consolas,'Courier New',monospace\"><span style=\"font-weight: bold\">{</span><span style=\"color: #008000; text-decoration-color: #008000\">'category'</span>: <span style=\"color: #008000; text-decoration-color: #008000\">'Macronutrients'</span>, <span style=\"color: #008000; text-decoration-color: #008000\">'text'</span>: <span style=\"color: #008000; text-decoration-color: #008000\">'Carbohydrates provide quick energy, proteins are essential for muscle </span>\n",
       "<span style=\"color: #008000; text-decoration-color: #008000\">repair and growth, and fats are vital for long-term energy storage and cell function.'</span>, <span style=\"color: #008000; text-decoration-color: #008000\">'entities'</span>: <span style=\"color: #008000; text-decoration-color: #008000\">'carbohydrates,</span>\n",
       "<span style=\"color: #008000; text-decoration-color: #008000\">proteins, fats'</span><span style=\"font-weight: bold\">}</span>\n",
       "</pre>\n"
      ],
      "text/plain": [
       "\u001b[1m{\u001b[0m\u001b[32m'category'\u001b[0m: \u001b[32m'Macronutrients'\u001b[0m, \u001b[32m'text'\u001b[0m: \u001b[32m'Carbohydrates provide quick energy, proteins are essential for muscle \u001b[0m\n",
       "\u001b[32mrepair and growth, and fats are vital for long-term energy storage and cell function.'\u001b[0m, \u001b[32m'entities'\u001b[0m: \u001b[32m'carbohydrates,\u001b[0m\n",
       "\u001b[32mproteins, fats'\u001b[0m\u001b[1m}\u001b[0m\n"
      ]
     },
     "metadata": {},
     "output_type": "display_data"
    },
    {
     "name": "stderr",
     "output_type": "stream",
     "text": [
      " 67%|██████▋   | 2/3 [00:03<00:01,  1.64s/it]"
     ]
    },
    {
     "data": {
      "text/html": [
       "<pre style=\"white-space:pre;overflow-x:auto;line-height:normal;font-family:Menlo,'DejaVu Sans Mono',consolas,'Courier New',monospace\"><span style=\"font-weight: bold\">{</span><span style=\"color: #008000; text-decoration-color: #008000\">'category'</span>: <span style=\"color: #008000; text-decoration-color: #008000\">'Vitamins'</span>, <span style=\"color: #008000; text-decoration-color: #008000\">'text'</span>: <span style=\"color: #008000; text-decoration-color: #008000\">'Vitamin A is crucial for good vision and a healthy immune system, Vitamin C helps</span>\n",
       "<span style=\"color: #008000; text-decoration-color: #008000\">in the repair of tissues and the enzymatic production of certain neurotransmitters, and Vitamin D is essential for </span>\n",
       "<span style=\"color: #008000; text-decoration-color: #008000\">strong bones and teeth as it helps the body absorb calcium.'</span>, <span style=\"color: #008000; text-decoration-color: #008000\">'entities'</span>: <span style=\"color: #008000; text-decoration-color: #008000\">'carbohydrates, proteins, fats'</span><span style=\"font-weight: bold\">}</span>\n",
       "</pre>\n"
      ],
      "text/plain": [
       "\u001b[1m{\u001b[0m\u001b[32m'category'\u001b[0m: \u001b[32m'Vitamins'\u001b[0m, \u001b[32m'text'\u001b[0m: \u001b[32m'Vitamin A is crucial for good vision and a healthy immune system, Vitamin C helps\u001b[0m\n",
       "\u001b[32min the repair of tissues and the enzymatic production of certain neurotransmitters, and Vitamin D is essential for \u001b[0m\n",
       "\u001b[32mstrong bones and teeth as it helps the body absorb calcium.'\u001b[0m, \u001b[32m'entities'\u001b[0m: \u001b[32m'carbohydrates, proteins, fats'\u001b[0m\u001b[1m}\u001b[0m\n"
      ]
     },
     "metadata": {},
     "output_type": "display_data"
    },
    {
     "name": "stderr",
     "output_type": "stream",
     "text": [
      "100%|██████████| 3/3 [00:06<00:00,  2.15s/it]"
     ]
    },
    {
     "data": {
      "text/html": [
       "<pre style=\"white-space:pre;overflow-x:auto;line-height:normal;font-family:Menlo,'DejaVu Sans Mono',consolas,'Courier New',monospace\"><span style=\"font-weight: bold\">{</span><span style=\"color: #008000; text-decoration-color: #008000\">'category'</span>: <span style=\"color: #008000; text-decoration-color: #008000\">'Minerals'</span>, <span style=\"color: #008000; text-decoration-color: #008000\">'text'</span>: <span style=\"color: #008000; text-decoration-color: #008000\">'Calcium is necessary for maintaining healthy bones and teeth, Iron is crucial for</span>\n",
       "<span style=\"color: #008000; text-decoration-color: #008000\">making red blood cells and transporting oxygen throughout the body, and Magnesium plays a role in over 300 enzyme </span>\n",
       "<span style=\"color: #008000; text-decoration-color: #008000\">reactions in the human body, including the metabolism of food, synthesis of fatty acids and proteins, and the </span>\n",
       "<span style=\"color: #008000; text-decoration-color: #008000\">transmission of nerve impulses.'</span>, <span style=\"color: #008000; text-decoration-color: #008000\">'entities'</span>: <span style=\"color: #008000; text-decoration-color: #008000\">'carbohydrates, proteins, fats'</span><span style=\"font-weight: bold\">}</span>\n",
       "</pre>\n"
      ],
      "text/plain": [
       "\u001b[1m{\u001b[0m\u001b[32m'category'\u001b[0m: \u001b[32m'Minerals'\u001b[0m, \u001b[32m'text'\u001b[0m: \u001b[32m'Calcium is necessary for maintaining healthy bones and teeth, Iron is crucial for\u001b[0m\n",
       "\u001b[32mmaking red blood cells and transporting oxygen throughout the body, and Magnesium plays a role in over 300 enzyme \u001b[0m\n",
       "\u001b[32mreactions in the human body, including the metabolism of food, synthesis of fatty acids and proteins, and the \u001b[0m\n",
       "\u001b[32mtransmission of nerve impulses.'\u001b[0m, \u001b[32m'entities'\u001b[0m: \u001b[32m'carbohydrates, proteins, fats'\u001b[0m\u001b[1m}\u001b[0m\n"
      ]
     },
     "metadata": {},
     "output_type": "display_data"
    },
    {
     "name": "stderr",
     "output_type": "stream",
     "text": [
      "100%|██████████| 3/3 [02:24<00:00, 48.25s/it]\n"
     ]
    },
    {
     "ename": "KeyboardInterrupt",
     "evalue": "",
     "output_type": "error",
     "traceback": [
      "\u001b[0;31m---------------------------------------------------------------------------\u001b[0m",
      "\u001b[0;31mKeyboardInterrupt\u001b[0m                         Traceback (most recent call last)",
      "\u001b[1;32m/Users/nguyenduyanh/Myspace/oos/ally/examples/skillsets_sequence_of_skills.ipynb Cell 3\u001b[0m line \u001b[0;36m1\n\u001b[0;32m----> <a href='vscode-notebook-cell:/Users/nguyenduyanh/Myspace/oos/ally/examples/skillsets_sequence_of_skills.ipynb#W2sZmlsZQ%3D%3D?line=0'>1</a>\u001b[0m agent\u001b[39m.\u001b[39;49mlearn(learning_iterations\u001b[39m=\u001b[39;49m\u001b[39m5\u001b[39;49m)\n",
      "File \u001b[0;32m~/Myspace/oos/ally/examples/../ally/agents/base.py:242\u001b[0m, in \u001b[0;36mAgent.learn\u001b[0;34m(self, learning_iterations, accuracy_threshold, update_memory, num_feedbacks, runtime, teacher_runtime)\u001b[0m\n\u001b[1;32m    238\u001b[0m print_text(\u001b[39mf\u001b[39m\u001b[39m'\u001b[39m\u001b[39m\\n\u001b[39;00m\u001b[39m\\n\u001b[39;00m\u001b[39m=> Iteration #\u001b[39m\u001b[39m{\u001b[39;00miteration\u001b[39m}\u001b[39;00m\u001b[39m: Getting feedback, analyzing and improving ...\u001b[39m\u001b[39m'\u001b[39m)\n\u001b[1;32m    240\u001b[0m inputs \u001b[39m=\u001b[39m \u001b[39mself\u001b[39m\u001b[39m.\u001b[39menvironment\u001b[39m.\u001b[39mget_data_batch()\n\u001b[0;32m--> 242\u001b[0m predictions \u001b[39m=\u001b[39m \u001b[39mself\u001b[39;49m\u001b[39m.\u001b[39;49mskills\u001b[39m.\u001b[39;49mapply(inputs, runtime\u001b[39m=\u001b[39;49mruntime)\n\u001b[1;32m    244\u001b[0m feedback \u001b[39m=\u001b[39m \u001b[39mself\u001b[39m\u001b[39m.\u001b[39menvironment\u001b[39m.\u001b[39mget_feedback(\u001b[39mself\u001b[39m\u001b[39m.\u001b[39mskills, predictions, num_feedbacks\u001b[39m=\u001b[39mnum_feedbacks)\n\u001b[1;32m    245\u001b[0m \u001b[39mprint\u001b[39m(\u001b[39m'\u001b[39m\u001b[39mPredictions and feedback:\u001b[39m\u001b[39m'\u001b[39m)\n",
      "File \u001b[0;32m~/Myspace/oos/ally/examples/../ally/skills/skillset.py:176\u001b[0m, in \u001b[0;36mLinearSkillSet.apply\u001b[0;34m(self, input, runtime, improved_skill)\u001b[0m\n\u001b[1;32m    174\u001b[0m \u001b[39m# use input dataset for the first node in the pipeline\u001b[39;00m\n\u001b[1;32m    175\u001b[0m print_text(\u001b[39mf\u001b[39m\u001b[39m\"\u001b[39m\u001b[39mApplying skill: \u001b[39m\u001b[39m{\u001b[39;00mskill_name\u001b[39m}\u001b[39;00m\u001b[39m\"\u001b[39m)\n\u001b[0;32m--> 176\u001b[0m skill_output \u001b[39m=\u001b[39m skill\u001b[39m.\u001b[39;49mapply(skill_input, runtime)\n\u001b[1;32m    177\u001b[0m \u001b[39mif\u001b[39;00m \u001b[39misinstance\u001b[39m(skill_output, InternalDataFrame) \u001b[39mand\u001b[39;00m \u001b[39misinstance\u001b[39m(skill_input, InternalDataFrame):\n\u001b[1;32m    178\u001b[0m \t\u001b[39m# Columns to drop from skill_input because they are also in skill_output\u001b[39;00m\n\u001b[1;32m    179\u001b[0m \tcols_to_drop \u001b[39m=\u001b[39m \u001b[39mset\u001b[39m(skill_output\u001b[39m.\u001b[39mcolumns) \u001b[39m&\u001b[39m \u001b[39mset\u001b[39m(skill_input\u001b[39m.\u001b[39mcolumns)\n",
      "File \u001b[0;32m~/Myspace/oos/ally/examples/../ally/skills/base.py:92\u001b[0m, in \u001b[0;36mTransformSkill.apply\u001b[0;34m(self, input, runtime)\u001b[0m\n\u001b[1;32m     76\u001b[0m \u001b[39mdef\u001b[39;00m \u001b[39mapply\u001b[39m(\n\u001b[1;32m     77\u001b[0m \t\u001b[39mself\u001b[39m,\n\u001b[1;32m     78\u001b[0m \t\u001b[39minput\u001b[39m: InternalDataFrame,\n\u001b[1;32m     79\u001b[0m \truntime: Runtime,\n\u001b[1;32m     80\u001b[0m ) \u001b[39m-\u001b[39m\u001b[39m>\u001b[39m InternalDataFrame:\n\u001b[1;32m     81\u001b[0m \u001b[39m\t\u001b[39m\u001b[39m\"\"\"\u001b[39;00m\n\u001b[1;32m     82\u001b[0m \u001b[39m\tApplies the skill to a dataframe and returns another dataframe.\u001b[39;00m\n\u001b[1;32m     83\u001b[0m \n\u001b[0;32m   (...)\u001b[0m\n\u001b[1;32m     89\u001b[0m \u001b[39m\t\tInternalDataFrame: The transformed data.\u001b[39;00m\n\u001b[1;32m     90\u001b[0m \u001b[39m\t\"\"\"\u001b[39;00m\n\u001b[0;32m---> 92\u001b[0m \t\u001b[39mreturn\u001b[39;00m runtime\u001b[39m.\u001b[39;49mbatch_to_batch(\n\u001b[1;32m     93\u001b[0m \t\t\u001b[39minput\u001b[39;49m,\n\u001b[1;32m     94\u001b[0m \t\tinput_template\u001b[39m=\u001b[39;49m\u001b[39mself\u001b[39;49m\u001b[39m.\u001b[39;49minput_template,\n\u001b[1;32m     95\u001b[0m \t\toutput_template\u001b[39m=\u001b[39;49m\u001b[39mself\u001b[39;49m\u001b[39m.\u001b[39;49moutput_template,\n\u001b[1;32m     96\u001b[0m \t\tinstruction_template\u001b[39m=\u001b[39;49m\u001b[39mself\u001b[39;49m\u001b[39m.\u001b[39;49minstruction_template,\n\u001b[1;32m     97\u001b[0m \t)\n",
      "File \u001b[0;32m~/Myspace/oos/ally/examples/../ally/runtimes/base.py:209\u001b[0m, in \u001b[0;36mRuntime.batch_to_batch\u001b[0;34m(self, batch, input_template, output_template, instruction_template)\u001b[0m\n\u001b[1;32m    206\u001b[0m chain, output_parser \u001b[39m=\u001b[39m \u001b[39mself\u001b[39m\u001b[39m.\u001b[39m_prepare_chain_and_params(\n\u001b[1;32m    207\u001b[0m \tinput_template, output_template, instruction_template)\n\u001b[1;32m    208\u001b[0m print_text(chain\u001b[39m.\u001b[39minput_keys)\n\u001b[0;32m--> 209\u001b[0m output \u001b[39m=\u001b[39m batch\u001b[39m.\u001b[39;49mprogress_apply(\n\u001b[1;32m    210\u001b[0m \t\t\u001b[39mself\u001b[39;49m\u001b[39m.\u001b[39;49m_process_record,\n\u001b[1;32m    211\u001b[0m \t\taxis\u001b[39m=\u001b[39;49m\u001b[39m1\u001b[39;49m,\n\u001b[1;32m    212\u001b[0m \t\tresult_type\u001b[39m=\u001b[39;49m\u001b[39m'\u001b[39;49m\u001b[39mexpand\u001b[39;49m\u001b[39m'\u001b[39;49m,\n\u001b[1;32m    213\u001b[0m \t\tchain\u001b[39m=\u001b[39;49mchain,\n\u001b[1;32m    214\u001b[0m \t\toutput_parser\u001b[39m=\u001b[39;49moutput_parser\n\u001b[1;32m    215\u001b[0m )\n\u001b[1;32m    216\u001b[0m \u001b[39mreturn\u001b[39;00m output\n",
      "File \u001b[0;32m~/miniforge3/envs/ally/lib/python3.11/site-packages/tqdm/std.py:920\u001b[0m, in \u001b[0;36mtqdm.pandas.<locals>.inner_generator.<locals>.inner\u001b[0;34m(df, func, *args, **kwargs)\u001b[0m\n\u001b[1;32m    917\u001b[0m \u001b[39m# Apply the provided function (in **kwargs)\u001b[39;00m\n\u001b[1;32m    918\u001b[0m \u001b[39m# on the df using our wrapper (which provides bar updating)\u001b[39;00m\n\u001b[1;32m    919\u001b[0m \u001b[39mtry\u001b[39;00m:\n\u001b[0;32m--> 920\u001b[0m     \u001b[39mreturn\u001b[39;00m \u001b[39mgetattr\u001b[39;49m(df, df_function)(wrapper, \u001b[39m*\u001b[39;49m\u001b[39m*\u001b[39;49mkwargs)\n\u001b[1;32m    921\u001b[0m \u001b[39mfinally\u001b[39;00m:\n\u001b[1;32m    922\u001b[0m     t\u001b[39m.\u001b[39mclose()\n",
      "File \u001b[0;32m~/miniforge3/envs/ally/lib/python3.11/site-packages/pandas/core/frame.py:10034\u001b[0m, in \u001b[0;36mDataFrame.apply\u001b[0;34m(self, func, axis, raw, result_type, args, by_row, **kwargs)\u001b[0m\n\u001b[1;32m  10022\u001b[0m \u001b[39mfrom\u001b[39;00m \u001b[39mpandas\u001b[39;00m\u001b[39m.\u001b[39;00m\u001b[39mcore\u001b[39;00m\u001b[39m.\u001b[39;00m\u001b[39mapply\u001b[39;00m \u001b[39mimport\u001b[39;00m frame_apply\n\u001b[1;32m  10024\u001b[0m op \u001b[39m=\u001b[39m frame_apply(\n\u001b[1;32m  10025\u001b[0m     \u001b[39mself\u001b[39m,\n\u001b[1;32m  10026\u001b[0m     func\u001b[39m=\u001b[39mfunc,\n\u001b[0;32m   (...)\u001b[0m\n\u001b[1;32m  10032\u001b[0m     kwargs\u001b[39m=\u001b[39mkwargs,\n\u001b[1;32m  10033\u001b[0m )\n\u001b[0;32m> 10034\u001b[0m \u001b[39mreturn\u001b[39;00m op\u001b[39m.\u001b[39;49mapply()\u001b[39m.\u001b[39m__finalize__(\u001b[39mself\u001b[39m, method\u001b[39m=\u001b[39m\u001b[39m\"\u001b[39m\u001b[39mapply\u001b[39m\u001b[39m\"\u001b[39m)\n",
      "File \u001b[0;32m~/miniforge3/envs/ally/lib/python3.11/site-packages/pandas/core/apply.py:837\u001b[0m, in \u001b[0;36mFrameApply.apply\u001b[0;34m(self)\u001b[0m\n\u001b[1;32m    834\u001b[0m \u001b[39melif\u001b[39;00m \u001b[39mself\u001b[39m\u001b[39m.\u001b[39mraw:\n\u001b[1;32m    835\u001b[0m     \u001b[39mreturn\u001b[39;00m \u001b[39mself\u001b[39m\u001b[39m.\u001b[39mapply_raw()\n\u001b[0;32m--> 837\u001b[0m \u001b[39mreturn\u001b[39;00m \u001b[39mself\u001b[39;49m\u001b[39m.\u001b[39;49mapply_standard()\n",
      "File \u001b[0;32m~/miniforge3/envs/ally/lib/python3.11/site-packages/pandas/core/apply.py:963\u001b[0m, in \u001b[0;36mFrameApply.apply_standard\u001b[0;34m(self)\u001b[0m\n\u001b[1;32m    962\u001b[0m \u001b[39mdef\u001b[39;00m \u001b[39mapply_standard\u001b[39m(\u001b[39mself\u001b[39m):\n\u001b[0;32m--> 963\u001b[0m     results, res_index \u001b[39m=\u001b[39m \u001b[39mself\u001b[39;49m\u001b[39m.\u001b[39;49mapply_series_generator()\n\u001b[1;32m    965\u001b[0m     \u001b[39m# wrap results\u001b[39;00m\n\u001b[1;32m    966\u001b[0m     \u001b[39mreturn\u001b[39;00m \u001b[39mself\u001b[39m\u001b[39m.\u001b[39mwrap_results(results, res_index)\n",
      "File \u001b[0;32m~/miniforge3/envs/ally/lib/python3.11/site-packages/pandas/core/apply.py:979\u001b[0m, in \u001b[0;36mFrameApply.apply_series_generator\u001b[0;34m(self)\u001b[0m\n\u001b[1;32m    976\u001b[0m \u001b[39mwith\u001b[39;00m option_context(\u001b[39m\"\u001b[39m\u001b[39mmode.chained_assignment\u001b[39m\u001b[39m\"\u001b[39m, \u001b[39mNone\u001b[39;00m):\n\u001b[1;32m    977\u001b[0m     \u001b[39mfor\u001b[39;00m i, v \u001b[39min\u001b[39;00m \u001b[39menumerate\u001b[39m(series_gen):\n\u001b[1;32m    978\u001b[0m         \u001b[39m# ignore SettingWithCopy here in case the user mutates\u001b[39;00m\n\u001b[0;32m--> 979\u001b[0m         results[i] \u001b[39m=\u001b[39m \u001b[39mself\u001b[39;49m\u001b[39m.\u001b[39;49mfunc(v, \u001b[39m*\u001b[39;49m\u001b[39mself\u001b[39;49m\u001b[39m.\u001b[39;49margs, \u001b[39m*\u001b[39;49m\u001b[39m*\u001b[39;49m\u001b[39mself\u001b[39;49m\u001b[39m.\u001b[39;49mkwargs)\n\u001b[1;32m    980\u001b[0m         \u001b[39mif\u001b[39;00m \u001b[39misinstance\u001b[39m(results[i], ABCSeries):\n\u001b[1;32m    981\u001b[0m             \u001b[39m# If we have a view on v, we need to make a copy because\u001b[39;00m\n\u001b[1;32m    982\u001b[0m             \u001b[39m#  series_generator will swap out the underlying data\u001b[39;00m\n\u001b[1;32m    983\u001b[0m             results[i] \u001b[39m=\u001b[39m results[i]\u001b[39m.\u001b[39mcopy(deep\u001b[39m=\u001b[39m\u001b[39mFalse\u001b[39;00m)\n",
      "File \u001b[0;32m~/miniforge3/envs/ally/lib/python3.11/site-packages/tqdm/std.py:915\u001b[0m, in \u001b[0;36mtqdm.pandas.<locals>.inner_generator.<locals>.inner.<locals>.wrapper\u001b[0;34m(*args, **kwargs)\u001b[0m\n\u001b[1;32m    909\u001b[0m \u001b[39mdef\u001b[39;00m \u001b[39mwrapper\u001b[39m(\u001b[39m*\u001b[39margs, \u001b[39m*\u001b[39m\u001b[39m*\u001b[39mkwargs):\n\u001b[1;32m    910\u001b[0m     \u001b[39m# update tbar correctly\u001b[39;00m\n\u001b[1;32m    911\u001b[0m     \u001b[39m# it seems `pandas apply` calls `func` twice\u001b[39;00m\n\u001b[1;32m    912\u001b[0m     \u001b[39m# on the first column/row to decide whether it can\u001b[39;00m\n\u001b[1;32m    913\u001b[0m     \u001b[39m# take a fast or slow code path; so stop when t.total==t.n\u001b[39;00m\n\u001b[1;32m    914\u001b[0m     t\u001b[39m.\u001b[39mupdate(n\u001b[39m=\u001b[39m\u001b[39m1\u001b[39m \u001b[39mif\u001b[39;00m \u001b[39mnot\u001b[39;00m t\u001b[39m.\u001b[39mtotal \u001b[39mor\u001b[39;00m t\u001b[39m.\u001b[39mn \u001b[39m<\u001b[39m t\u001b[39m.\u001b[39mtotal \u001b[39melse\u001b[39;00m \u001b[39m0\u001b[39m)\n\u001b[0;32m--> 915\u001b[0m     \u001b[39mreturn\u001b[39;00m func(\u001b[39m*\u001b[39;49margs, \u001b[39m*\u001b[39;49m\u001b[39m*\u001b[39;49mkwargs)\n",
      "File \u001b[0;32m~/Myspace/oos/ally/examples/../ally/runtimes/base.py:86\u001b[0m, in \u001b[0;36mRuntime._process_record\u001b[0;34m(self, record, chain, output_parser)\u001b[0m\n\u001b[1;32m     84\u001b[0m \u001b[39mif\u001b[39;00m \u001b[39mself\u001b[39m\u001b[39m.\u001b[39mverbose:\n\u001b[1;32m     85\u001b[0m \tprint_text(\u001b[39mstr\u001b[39m(verified_input))\n\u001b[0;32m---> 86\u001b[0m result \u001b[39m=\u001b[39m chain\u001b[39m.\u001b[39;49mrun(\n\u001b[1;32m     87\u001b[0m \t\tverified_input\n\u001b[1;32m     88\u001b[0m )\n\u001b[1;32m     89\u001b[0m \u001b[39mif\u001b[39;00m \u001b[39mnot\u001b[39;00m output_parser:\n\u001b[1;32m     90\u001b[0m \t\tverified_output \u001b[39m=\u001b[39m {\u001b[39m'\u001b[39m\u001b[39m'\u001b[39m: \u001b[39mstr\u001b[39m(result)}\n",
      "File \u001b[0;32m~/miniforge3/envs/ally/lib/python3.11/site-packages/langchain/chains/base.py:505\u001b[0m, in \u001b[0;36mChain.run\u001b[0;34m(self, callbacks, tags, metadata, *args, **kwargs)\u001b[0m\n\u001b[1;32m    503\u001b[0m     \u001b[39mif\u001b[39;00m \u001b[39mlen\u001b[39m(args) \u001b[39m!=\u001b[39m \u001b[39m1\u001b[39m:\n\u001b[1;32m    504\u001b[0m         \u001b[39mraise\u001b[39;00m \u001b[39mValueError\u001b[39;00m(\u001b[39m\"\u001b[39m\u001b[39m`run` supports only one positional argument.\u001b[39m\u001b[39m\"\u001b[39m)\n\u001b[0;32m--> 505\u001b[0m     \u001b[39mreturn\u001b[39;00m \u001b[39mself\u001b[39;49m(args[\u001b[39m0\u001b[39;49m], callbacks\u001b[39m=\u001b[39;49mcallbacks, tags\u001b[39m=\u001b[39;49mtags, metadata\u001b[39m=\u001b[39;49mmetadata)[\n\u001b[1;32m    506\u001b[0m         _output_key\n\u001b[1;32m    507\u001b[0m     ]\n\u001b[1;32m    509\u001b[0m \u001b[39mif\u001b[39;00m kwargs \u001b[39mand\u001b[39;00m \u001b[39mnot\u001b[39;00m args:\n\u001b[1;32m    510\u001b[0m     \u001b[39mreturn\u001b[39;00m \u001b[39mself\u001b[39m(kwargs, callbacks\u001b[39m=\u001b[39mcallbacks, tags\u001b[39m=\u001b[39mtags, metadata\u001b[39m=\u001b[39mmetadata)[\n\u001b[1;32m    511\u001b[0m         _output_key\n\u001b[1;32m    512\u001b[0m     ]\n",
      "File \u001b[0;32m~/miniforge3/envs/ally/lib/python3.11/site-packages/langchain/chains/base.py:310\u001b[0m, in \u001b[0;36mChain.__call__\u001b[0;34m(self, inputs, return_only_outputs, callbacks, tags, metadata, run_name, include_run_info)\u001b[0m\n\u001b[1;32m    308\u001b[0m \u001b[39mexcept\u001b[39;00m \u001b[39mBaseException\u001b[39;00m \u001b[39mas\u001b[39;00m e:\n\u001b[1;32m    309\u001b[0m     run_manager\u001b[39m.\u001b[39mon_chain_error(e)\n\u001b[0;32m--> 310\u001b[0m     \u001b[39mraise\u001b[39;00m e\n\u001b[1;32m    311\u001b[0m run_manager\u001b[39m.\u001b[39mon_chain_end(outputs)\n\u001b[1;32m    312\u001b[0m final_outputs: Dict[\u001b[39mstr\u001b[39m, Any] \u001b[39m=\u001b[39m \u001b[39mself\u001b[39m\u001b[39m.\u001b[39mprep_outputs(\n\u001b[1;32m    313\u001b[0m     inputs, outputs, return_only_outputs\n\u001b[1;32m    314\u001b[0m )\n",
      "File \u001b[0;32m~/miniforge3/envs/ally/lib/python3.11/site-packages/langchain/chains/base.py:304\u001b[0m, in \u001b[0;36mChain.__call__\u001b[0;34m(self, inputs, return_only_outputs, callbacks, tags, metadata, run_name, include_run_info)\u001b[0m\n\u001b[1;32m    297\u001b[0m run_manager \u001b[39m=\u001b[39m callback_manager\u001b[39m.\u001b[39mon_chain_start(\n\u001b[1;32m    298\u001b[0m     dumpd(\u001b[39mself\u001b[39m),\n\u001b[1;32m    299\u001b[0m     inputs,\n\u001b[1;32m    300\u001b[0m     name\u001b[39m=\u001b[39mrun_name,\n\u001b[1;32m    301\u001b[0m )\n\u001b[1;32m    302\u001b[0m \u001b[39mtry\u001b[39;00m:\n\u001b[1;32m    303\u001b[0m     outputs \u001b[39m=\u001b[39m (\n\u001b[0;32m--> 304\u001b[0m         \u001b[39mself\u001b[39;49m\u001b[39m.\u001b[39;49m_call(inputs, run_manager\u001b[39m=\u001b[39;49mrun_manager)\n\u001b[1;32m    305\u001b[0m         \u001b[39mif\u001b[39;00m new_arg_supported\n\u001b[1;32m    306\u001b[0m         \u001b[39melse\u001b[39;00m \u001b[39mself\u001b[39m\u001b[39m.\u001b[39m_call(inputs)\n\u001b[1;32m    307\u001b[0m     )\n\u001b[1;32m    308\u001b[0m \u001b[39mexcept\u001b[39;00m \u001b[39mBaseException\u001b[39;00m \u001b[39mas\u001b[39;00m e:\n\u001b[1;32m    309\u001b[0m     run_manager\u001b[39m.\u001b[39mon_chain_error(e)\n",
      "File \u001b[0;32m~/miniforge3/envs/ally/lib/python3.11/site-packages/langchain/chains/llm.py:93\u001b[0m, in \u001b[0;36mLLMChain._call\u001b[0;34m(self, inputs, run_manager)\u001b[0m\n\u001b[1;32m     88\u001b[0m \u001b[39mdef\u001b[39;00m \u001b[39m_call\u001b[39m(\n\u001b[1;32m     89\u001b[0m     \u001b[39mself\u001b[39m,\n\u001b[1;32m     90\u001b[0m     inputs: Dict[\u001b[39mstr\u001b[39m, Any],\n\u001b[1;32m     91\u001b[0m     run_manager: Optional[CallbackManagerForChainRun] \u001b[39m=\u001b[39m \u001b[39mNone\u001b[39;00m,\n\u001b[1;32m     92\u001b[0m ) \u001b[39m-\u001b[39m\u001b[39m>\u001b[39m Dict[\u001b[39mstr\u001b[39m, \u001b[39mstr\u001b[39m]:\n\u001b[0;32m---> 93\u001b[0m     response \u001b[39m=\u001b[39m \u001b[39mself\u001b[39;49m\u001b[39m.\u001b[39;49mgenerate([inputs], run_manager\u001b[39m=\u001b[39;49mrun_manager)\n\u001b[1;32m     94\u001b[0m     \u001b[39mreturn\u001b[39;00m \u001b[39mself\u001b[39m\u001b[39m.\u001b[39mcreate_outputs(response)[\u001b[39m0\u001b[39m]\n",
      "File \u001b[0;32m~/miniforge3/envs/ally/lib/python3.11/site-packages/langchain/chains/llm.py:103\u001b[0m, in \u001b[0;36mLLMChain.generate\u001b[0;34m(self, input_list, run_manager)\u001b[0m\n\u001b[1;32m    101\u001b[0m \u001b[39m\u001b[39m\u001b[39m\"\"\"Generate LLM result from inputs.\"\"\"\u001b[39;00m\n\u001b[1;32m    102\u001b[0m prompts, stop \u001b[39m=\u001b[39m \u001b[39mself\u001b[39m\u001b[39m.\u001b[39mprep_prompts(input_list, run_manager\u001b[39m=\u001b[39mrun_manager)\n\u001b[0;32m--> 103\u001b[0m \u001b[39mreturn\u001b[39;00m \u001b[39mself\u001b[39;49m\u001b[39m.\u001b[39;49mllm\u001b[39m.\u001b[39;49mgenerate_prompt(\n\u001b[1;32m    104\u001b[0m     prompts,\n\u001b[1;32m    105\u001b[0m     stop,\n\u001b[1;32m    106\u001b[0m     callbacks\u001b[39m=\u001b[39;49mrun_manager\u001b[39m.\u001b[39;49mget_child() \u001b[39mif\u001b[39;49;00m run_manager \u001b[39melse\u001b[39;49;00m \u001b[39mNone\u001b[39;49;00m,\n\u001b[1;32m    107\u001b[0m     \u001b[39m*\u001b[39;49m\u001b[39m*\u001b[39;49m\u001b[39mself\u001b[39;49m\u001b[39m.\u001b[39;49mllm_kwargs,\n\u001b[1;32m    108\u001b[0m )\n",
      "File \u001b[0;32m~/miniforge3/envs/ally/lib/python3.11/site-packages/langchain/chat_models/base.py:459\u001b[0m, in \u001b[0;36mBaseChatModel.generate_prompt\u001b[0;34m(self, prompts, stop, callbacks, **kwargs)\u001b[0m\n\u001b[1;32m    451\u001b[0m \u001b[39mdef\u001b[39;00m \u001b[39mgenerate_prompt\u001b[39m(\n\u001b[1;32m    452\u001b[0m     \u001b[39mself\u001b[39m,\n\u001b[1;32m    453\u001b[0m     prompts: List[PromptValue],\n\u001b[0;32m   (...)\u001b[0m\n\u001b[1;32m    456\u001b[0m     \u001b[39m*\u001b[39m\u001b[39m*\u001b[39mkwargs: Any,\n\u001b[1;32m    457\u001b[0m ) \u001b[39m-\u001b[39m\u001b[39m>\u001b[39m LLMResult:\n\u001b[1;32m    458\u001b[0m     prompt_messages \u001b[39m=\u001b[39m [p\u001b[39m.\u001b[39mto_messages() \u001b[39mfor\u001b[39;00m p \u001b[39min\u001b[39;00m prompts]\n\u001b[0;32m--> 459\u001b[0m     \u001b[39mreturn\u001b[39;00m \u001b[39mself\u001b[39;49m\u001b[39m.\u001b[39;49mgenerate(prompt_messages, stop\u001b[39m=\u001b[39;49mstop, callbacks\u001b[39m=\u001b[39;49mcallbacks, \u001b[39m*\u001b[39;49m\u001b[39m*\u001b[39;49mkwargs)\n",
      "File \u001b[0;32m~/miniforge3/envs/ally/lib/python3.11/site-packages/langchain/chat_models/base.py:349\u001b[0m, in \u001b[0;36mBaseChatModel.generate\u001b[0;34m(self, messages, stop, callbacks, tags, metadata, run_name, **kwargs)\u001b[0m\n\u001b[1;32m    347\u001b[0m         \u001b[39mif\u001b[39;00m run_managers:\n\u001b[1;32m    348\u001b[0m             run_managers[i]\u001b[39m.\u001b[39mon_llm_error(e)\n\u001b[0;32m--> 349\u001b[0m         \u001b[39mraise\u001b[39;00m e\n\u001b[1;32m    350\u001b[0m flattened_outputs \u001b[39m=\u001b[39m [\n\u001b[1;32m    351\u001b[0m     LLMResult(generations\u001b[39m=\u001b[39m[res\u001b[39m.\u001b[39mgenerations], llm_output\u001b[39m=\u001b[39mres\u001b[39m.\u001b[39mllm_output)\n\u001b[1;32m    352\u001b[0m     \u001b[39mfor\u001b[39;00m res \u001b[39min\u001b[39;00m results\n\u001b[1;32m    353\u001b[0m ]\n\u001b[1;32m    354\u001b[0m llm_output \u001b[39m=\u001b[39m \u001b[39mself\u001b[39m\u001b[39m.\u001b[39m_combine_llm_outputs([res\u001b[39m.\u001b[39mllm_output \u001b[39mfor\u001b[39;00m res \u001b[39min\u001b[39;00m results])\n",
      "File \u001b[0;32m~/miniforge3/envs/ally/lib/python3.11/site-packages/langchain/chat_models/base.py:339\u001b[0m, in \u001b[0;36mBaseChatModel.generate\u001b[0;34m(self, messages, stop, callbacks, tags, metadata, run_name, **kwargs)\u001b[0m\n\u001b[1;32m    336\u001b[0m \u001b[39mfor\u001b[39;00m i, m \u001b[39min\u001b[39;00m \u001b[39menumerate\u001b[39m(messages):\n\u001b[1;32m    337\u001b[0m     \u001b[39mtry\u001b[39;00m:\n\u001b[1;32m    338\u001b[0m         results\u001b[39m.\u001b[39mappend(\n\u001b[0;32m--> 339\u001b[0m             \u001b[39mself\u001b[39;49m\u001b[39m.\u001b[39;49m_generate_with_cache(\n\u001b[1;32m    340\u001b[0m                 m,\n\u001b[1;32m    341\u001b[0m                 stop\u001b[39m=\u001b[39;49mstop,\n\u001b[1;32m    342\u001b[0m                 run_manager\u001b[39m=\u001b[39;49mrun_managers[i] \u001b[39mif\u001b[39;49;00m run_managers \u001b[39melse\u001b[39;49;00m \u001b[39mNone\u001b[39;49;00m,\n\u001b[1;32m    343\u001b[0m                 \u001b[39m*\u001b[39;49m\u001b[39m*\u001b[39;49mkwargs,\n\u001b[1;32m    344\u001b[0m             )\n\u001b[1;32m    345\u001b[0m         )\n\u001b[1;32m    346\u001b[0m     \u001b[39mexcept\u001b[39;00m \u001b[39mBaseException\u001b[39;00m \u001b[39mas\u001b[39;00m e:\n\u001b[1;32m    347\u001b[0m         \u001b[39mif\u001b[39;00m run_managers:\n",
      "File \u001b[0;32m~/miniforge3/envs/ally/lib/python3.11/site-packages/langchain/chat_models/base.py:492\u001b[0m, in \u001b[0;36mBaseChatModel._generate_with_cache\u001b[0;34m(self, messages, stop, run_manager, **kwargs)\u001b[0m\n\u001b[1;32m    488\u001b[0m     \u001b[39mraise\u001b[39;00m \u001b[39mValueError\u001b[39;00m(\n\u001b[1;32m    489\u001b[0m         \u001b[39m\"\u001b[39m\u001b[39mAsked to cache, but no cache found at `langchain.cache`.\u001b[39m\u001b[39m\"\u001b[39m\n\u001b[1;32m    490\u001b[0m     )\n\u001b[1;32m    491\u001b[0m \u001b[39mif\u001b[39;00m new_arg_supported:\n\u001b[0;32m--> 492\u001b[0m     \u001b[39mreturn\u001b[39;00m \u001b[39mself\u001b[39;49m\u001b[39m.\u001b[39;49m_generate(\n\u001b[1;32m    493\u001b[0m         messages, stop\u001b[39m=\u001b[39;49mstop, run_manager\u001b[39m=\u001b[39;49mrun_manager, \u001b[39m*\u001b[39;49m\u001b[39m*\u001b[39;49mkwargs\n\u001b[1;32m    494\u001b[0m     )\n\u001b[1;32m    495\u001b[0m \u001b[39melse\u001b[39;00m:\n\u001b[1;32m    496\u001b[0m     \u001b[39mreturn\u001b[39;00m \u001b[39mself\u001b[39m\u001b[39m.\u001b[39m_generate(messages, stop\u001b[39m=\u001b[39mstop, \u001b[39m*\u001b[39m\u001b[39m*\u001b[39mkwargs)\n",
      "File \u001b[0;32m~/miniforge3/envs/ally/lib/python3.11/site-packages/langchain/chat_models/openai.py:360\u001b[0m, in \u001b[0;36mChatOpenAI._generate\u001b[0;34m(self, messages, stop, run_manager, stream, **kwargs)\u001b[0m\n\u001b[1;32m    358\u001b[0m message_dicts, params \u001b[39m=\u001b[39m \u001b[39mself\u001b[39m\u001b[39m.\u001b[39m_create_message_dicts(messages, stop)\n\u001b[1;32m    359\u001b[0m params \u001b[39m=\u001b[39m {\u001b[39m*\u001b[39m\u001b[39m*\u001b[39mparams, \u001b[39m*\u001b[39m\u001b[39m*\u001b[39mkwargs}\n\u001b[0;32m--> 360\u001b[0m response \u001b[39m=\u001b[39m \u001b[39mself\u001b[39;49m\u001b[39m.\u001b[39;49mcompletion_with_retry(\n\u001b[1;32m    361\u001b[0m     messages\u001b[39m=\u001b[39;49mmessage_dicts, run_manager\u001b[39m=\u001b[39;49mrun_manager, \u001b[39m*\u001b[39;49m\u001b[39m*\u001b[39;49mparams\n\u001b[1;32m    362\u001b[0m )\n\u001b[1;32m    363\u001b[0m \u001b[39mreturn\u001b[39;00m \u001b[39mself\u001b[39m\u001b[39m.\u001b[39m_create_chat_result(response)\n",
      "File \u001b[0;32m~/miniforge3/envs/ally/lib/python3.11/site-packages/langchain/chat_models/openai.py:299\u001b[0m, in \u001b[0;36mChatOpenAI.completion_with_retry\u001b[0;34m(self, run_manager, **kwargs)\u001b[0m\n\u001b[1;32m    295\u001b[0m \u001b[39m@retry_decorator\u001b[39m\n\u001b[1;32m    296\u001b[0m \u001b[39mdef\u001b[39;00m \u001b[39m_completion_with_retry\u001b[39m(\u001b[39m*\u001b[39m\u001b[39m*\u001b[39mkwargs: Any) \u001b[39m-\u001b[39m\u001b[39m>\u001b[39m Any:\n\u001b[1;32m    297\u001b[0m     \u001b[39mreturn\u001b[39;00m \u001b[39mself\u001b[39m\u001b[39m.\u001b[39mclient\u001b[39m.\u001b[39mcreate(\u001b[39m*\u001b[39m\u001b[39m*\u001b[39mkwargs)\n\u001b[0;32m--> 299\u001b[0m \u001b[39mreturn\u001b[39;00m _completion_with_retry(\u001b[39m*\u001b[39;49m\u001b[39m*\u001b[39;49mkwargs)\n",
      "File \u001b[0;32m~/miniforge3/envs/ally/lib/python3.11/site-packages/tenacity/__init__.py:289\u001b[0m, in \u001b[0;36mBaseRetrying.wraps.<locals>.wrapped_f\u001b[0;34m(*args, **kw)\u001b[0m\n\u001b[1;32m    287\u001b[0m \u001b[39m@functools\u001b[39m\u001b[39m.\u001b[39mwraps(f)\n\u001b[1;32m    288\u001b[0m \u001b[39mdef\u001b[39;00m \u001b[39mwrapped_f\u001b[39m(\u001b[39m*\u001b[39margs: t\u001b[39m.\u001b[39mAny, \u001b[39m*\u001b[39m\u001b[39m*\u001b[39mkw: t\u001b[39m.\u001b[39mAny) \u001b[39m-\u001b[39m\u001b[39m>\u001b[39m t\u001b[39m.\u001b[39mAny:\n\u001b[0;32m--> 289\u001b[0m     \u001b[39mreturn\u001b[39;00m \u001b[39mself\u001b[39;49m(f, \u001b[39m*\u001b[39;49margs, \u001b[39m*\u001b[39;49m\u001b[39m*\u001b[39;49mkw)\n",
      "File \u001b[0;32m~/miniforge3/envs/ally/lib/python3.11/site-packages/tenacity/__init__.py:379\u001b[0m, in \u001b[0;36mRetrying.__call__\u001b[0;34m(self, fn, *args, **kwargs)\u001b[0m\n\u001b[1;32m    377\u001b[0m retry_state \u001b[39m=\u001b[39m RetryCallState(retry_object\u001b[39m=\u001b[39m\u001b[39mself\u001b[39m, fn\u001b[39m=\u001b[39mfn, args\u001b[39m=\u001b[39margs, kwargs\u001b[39m=\u001b[39mkwargs)\n\u001b[1;32m    378\u001b[0m \u001b[39mwhile\u001b[39;00m \u001b[39mTrue\u001b[39;00m:\n\u001b[0;32m--> 379\u001b[0m     do \u001b[39m=\u001b[39m \u001b[39mself\u001b[39;49m\u001b[39m.\u001b[39;49miter(retry_state\u001b[39m=\u001b[39;49mretry_state)\n\u001b[1;32m    380\u001b[0m     \u001b[39mif\u001b[39;00m \u001b[39misinstance\u001b[39m(do, DoAttempt):\n\u001b[1;32m    381\u001b[0m         \u001b[39mtry\u001b[39;00m:\n",
      "File \u001b[0;32m~/miniforge3/envs/ally/lib/python3.11/site-packages/tenacity/__init__.py:314\u001b[0m, in \u001b[0;36mBaseRetrying.iter\u001b[0;34m(self, retry_state)\u001b[0m\n\u001b[1;32m    312\u001b[0m is_explicit_retry \u001b[39m=\u001b[39m fut\u001b[39m.\u001b[39mfailed \u001b[39mand\u001b[39;00m \u001b[39misinstance\u001b[39m(fut\u001b[39m.\u001b[39mexception(), TryAgain)\n\u001b[1;32m    313\u001b[0m \u001b[39mif\u001b[39;00m \u001b[39mnot\u001b[39;00m (is_explicit_retry \u001b[39mor\u001b[39;00m \u001b[39mself\u001b[39m\u001b[39m.\u001b[39mretry(retry_state)):\n\u001b[0;32m--> 314\u001b[0m     \u001b[39mreturn\u001b[39;00m fut\u001b[39m.\u001b[39;49mresult()\n\u001b[1;32m    316\u001b[0m \u001b[39mif\u001b[39;00m \u001b[39mself\u001b[39m\u001b[39m.\u001b[39mafter \u001b[39mis\u001b[39;00m \u001b[39mnot\u001b[39;00m \u001b[39mNone\u001b[39;00m:\n\u001b[1;32m    317\u001b[0m     \u001b[39mself\u001b[39m\u001b[39m.\u001b[39mafter(retry_state)\n",
      "File \u001b[0;32m~/miniforge3/envs/ally/lib/python3.11/concurrent/futures/_base.py:449\u001b[0m, in \u001b[0;36mFuture.result\u001b[0;34m(self, timeout)\u001b[0m\n\u001b[1;32m    447\u001b[0m     \u001b[39mraise\u001b[39;00m CancelledError()\n\u001b[1;32m    448\u001b[0m \u001b[39melif\u001b[39;00m \u001b[39mself\u001b[39m\u001b[39m.\u001b[39m_state \u001b[39m==\u001b[39m FINISHED:\n\u001b[0;32m--> 449\u001b[0m     \u001b[39mreturn\u001b[39;00m \u001b[39mself\u001b[39;49m\u001b[39m.\u001b[39;49m__get_result()\n\u001b[1;32m    451\u001b[0m \u001b[39mself\u001b[39m\u001b[39m.\u001b[39m_condition\u001b[39m.\u001b[39mwait(timeout)\n\u001b[1;32m    453\u001b[0m \u001b[39mif\u001b[39;00m \u001b[39mself\u001b[39m\u001b[39m.\u001b[39m_state \u001b[39min\u001b[39;00m [CANCELLED, CANCELLED_AND_NOTIFIED]:\n",
      "File \u001b[0;32m~/miniforge3/envs/ally/lib/python3.11/concurrent/futures/_base.py:401\u001b[0m, in \u001b[0;36mFuture.__get_result\u001b[0;34m(self)\u001b[0m\n\u001b[1;32m    399\u001b[0m \u001b[39mif\u001b[39;00m \u001b[39mself\u001b[39m\u001b[39m.\u001b[39m_exception:\n\u001b[1;32m    400\u001b[0m     \u001b[39mtry\u001b[39;00m:\n\u001b[0;32m--> 401\u001b[0m         \u001b[39mraise\u001b[39;00m \u001b[39mself\u001b[39m\u001b[39m.\u001b[39m_exception\n\u001b[1;32m    402\u001b[0m     \u001b[39mfinally\u001b[39;00m:\n\u001b[1;32m    403\u001b[0m         \u001b[39m# Break a reference cycle with the exception in self._exception\u001b[39;00m\n\u001b[1;32m    404\u001b[0m         \u001b[39mself\u001b[39m \u001b[39m=\u001b[39m \u001b[39mNone\u001b[39;00m\n",
      "File \u001b[0;32m~/miniforge3/envs/ally/lib/python3.11/site-packages/tenacity/__init__.py:382\u001b[0m, in \u001b[0;36mRetrying.__call__\u001b[0;34m(self, fn, *args, **kwargs)\u001b[0m\n\u001b[1;32m    380\u001b[0m \u001b[39mif\u001b[39;00m \u001b[39misinstance\u001b[39m(do, DoAttempt):\n\u001b[1;32m    381\u001b[0m     \u001b[39mtry\u001b[39;00m:\n\u001b[0;32m--> 382\u001b[0m         result \u001b[39m=\u001b[39m fn(\u001b[39m*\u001b[39;49margs, \u001b[39m*\u001b[39;49m\u001b[39m*\u001b[39;49mkwargs)\n\u001b[1;32m    383\u001b[0m     \u001b[39mexcept\u001b[39;00m \u001b[39mBaseException\u001b[39;00m:  \u001b[39m# noqa: B902\u001b[39;00m\n\u001b[1;32m    384\u001b[0m         retry_state\u001b[39m.\u001b[39mset_exception(sys\u001b[39m.\u001b[39mexc_info())  \u001b[39m# type: ignore[arg-type]\u001b[39;00m\n",
      "File \u001b[0;32m~/miniforge3/envs/ally/lib/python3.11/site-packages/langchain/chat_models/openai.py:297\u001b[0m, in \u001b[0;36mChatOpenAI.completion_with_retry.<locals>._completion_with_retry\u001b[0;34m(**kwargs)\u001b[0m\n\u001b[1;32m    295\u001b[0m \u001b[39m@retry_decorator\u001b[39m\n\u001b[1;32m    296\u001b[0m \u001b[39mdef\u001b[39;00m \u001b[39m_completion_with_retry\u001b[39m(\u001b[39m*\u001b[39m\u001b[39m*\u001b[39mkwargs: Any) \u001b[39m-\u001b[39m\u001b[39m>\u001b[39m Any:\n\u001b[0;32m--> 297\u001b[0m     \u001b[39mreturn\u001b[39;00m \u001b[39mself\u001b[39;49m\u001b[39m.\u001b[39;49mclient\u001b[39m.\u001b[39;49mcreate(\u001b[39m*\u001b[39;49m\u001b[39m*\u001b[39;49mkwargs)\n",
      "File \u001b[0;32m~/miniforge3/envs/ally/lib/python3.11/site-packages/openai/api_resources/chat_completion.py:25\u001b[0m, in \u001b[0;36mChatCompletion.create\u001b[0;34m(cls, *args, **kwargs)\u001b[0m\n\u001b[1;32m     23\u001b[0m \u001b[39mwhile\u001b[39;00m \u001b[39mTrue\u001b[39;00m:\n\u001b[1;32m     24\u001b[0m     \u001b[39mtry\u001b[39;00m:\n\u001b[0;32m---> 25\u001b[0m         \u001b[39mreturn\u001b[39;00m \u001b[39msuper\u001b[39;49m()\u001b[39m.\u001b[39;49mcreate(\u001b[39m*\u001b[39;49margs, \u001b[39m*\u001b[39;49m\u001b[39m*\u001b[39;49mkwargs)\n\u001b[1;32m     26\u001b[0m     \u001b[39mexcept\u001b[39;00m TryAgain \u001b[39mas\u001b[39;00m e:\n\u001b[1;32m     27\u001b[0m         \u001b[39mif\u001b[39;00m timeout \u001b[39mis\u001b[39;00m \u001b[39mnot\u001b[39;00m \u001b[39mNone\u001b[39;00m \u001b[39mand\u001b[39;00m time\u001b[39m.\u001b[39mtime() \u001b[39m>\u001b[39m start \u001b[39m+\u001b[39m timeout:\n",
      "File \u001b[0;32m~/miniforge3/envs/ally/lib/python3.11/site-packages/openai/api_resources/abstract/engine_api_resource.py:155\u001b[0m, in \u001b[0;36mEngineAPIResource.create\u001b[0;34m(cls, api_key, api_base, api_type, request_id, api_version, organization, **params)\u001b[0m\n\u001b[1;32m    129\u001b[0m \u001b[39m@classmethod\u001b[39m\n\u001b[1;32m    130\u001b[0m \u001b[39mdef\u001b[39;00m \u001b[39mcreate\u001b[39m(\n\u001b[1;32m    131\u001b[0m     \u001b[39mcls\u001b[39m,\n\u001b[0;32m   (...)\u001b[0m\n\u001b[1;32m    138\u001b[0m     \u001b[39m*\u001b[39m\u001b[39m*\u001b[39mparams,\n\u001b[1;32m    139\u001b[0m ):\n\u001b[1;32m    140\u001b[0m     (\n\u001b[1;32m    141\u001b[0m         deployment_id,\n\u001b[1;32m    142\u001b[0m         engine,\n\u001b[0;32m   (...)\u001b[0m\n\u001b[1;32m    152\u001b[0m         api_key, api_base, api_type, api_version, organization, \u001b[39m*\u001b[39m\u001b[39m*\u001b[39mparams\n\u001b[1;32m    153\u001b[0m     )\n\u001b[0;32m--> 155\u001b[0m     response, _, api_key \u001b[39m=\u001b[39m requestor\u001b[39m.\u001b[39;49mrequest(\n\u001b[1;32m    156\u001b[0m         \u001b[39m\"\u001b[39;49m\u001b[39mpost\u001b[39;49m\u001b[39m\"\u001b[39;49m,\n\u001b[1;32m    157\u001b[0m         url,\n\u001b[1;32m    158\u001b[0m         params\u001b[39m=\u001b[39;49mparams,\n\u001b[1;32m    159\u001b[0m         headers\u001b[39m=\u001b[39;49mheaders,\n\u001b[1;32m    160\u001b[0m         stream\u001b[39m=\u001b[39;49mstream,\n\u001b[1;32m    161\u001b[0m         request_id\u001b[39m=\u001b[39;49mrequest_id,\n\u001b[1;32m    162\u001b[0m         request_timeout\u001b[39m=\u001b[39;49mrequest_timeout,\n\u001b[1;32m    163\u001b[0m     )\n\u001b[1;32m    165\u001b[0m     \u001b[39mif\u001b[39;00m stream:\n\u001b[1;32m    166\u001b[0m         \u001b[39m# must be an iterator\u001b[39;00m\n\u001b[1;32m    167\u001b[0m         \u001b[39massert\u001b[39;00m \u001b[39mnot\u001b[39;00m \u001b[39misinstance\u001b[39m(response, OpenAIResponse)\n",
      "File \u001b[0;32m~/miniforge3/envs/ally/lib/python3.11/site-packages/openai/api_requestor.py:289\u001b[0m, in \u001b[0;36mAPIRequestor.request\u001b[0;34m(self, method, url, params, headers, files, stream, request_id, request_timeout)\u001b[0m\n\u001b[1;32m    278\u001b[0m \u001b[39mdef\u001b[39;00m \u001b[39mrequest\u001b[39m(\n\u001b[1;32m    279\u001b[0m     \u001b[39mself\u001b[39m,\n\u001b[1;32m    280\u001b[0m     method,\n\u001b[0;32m   (...)\u001b[0m\n\u001b[1;32m    287\u001b[0m     request_timeout: Optional[Union[\u001b[39mfloat\u001b[39m, Tuple[\u001b[39mfloat\u001b[39m, \u001b[39mfloat\u001b[39m]]] \u001b[39m=\u001b[39m \u001b[39mNone\u001b[39;00m,\n\u001b[1;32m    288\u001b[0m ) \u001b[39m-\u001b[39m\u001b[39m>\u001b[39m Tuple[Union[OpenAIResponse, Iterator[OpenAIResponse]], \u001b[39mbool\u001b[39m, \u001b[39mstr\u001b[39m]:\n\u001b[0;32m--> 289\u001b[0m     result \u001b[39m=\u001b[39m \u001b[39mself\u001b[39;49m\u001b[39m.\u001b[39;49mrequest_raw(\n\u001b[1;32m    290\u001b[0m         method\u001b[39m.\u001b[39;49mlower(),\n\u001b[1;32m    291\u001b[0m         url,\n\u001b[1;32m    292\u001b[0m         params\u001b[39m=\u001b[39;49mparams,\n\u001b[1;32m    293\u001b[0m         supplied_headers\u001b[39m=\u001b[39;49mheaders,\n\u001b[1;32m    294\u001b[0m         files\u001b[39m=\u001b[39;49mfiles,\n\u001b[1;32m    295\u001b[0m         stream\u001b[39m=\u001b[39;49mstream,\n\u001b[1;32m    296\u001b[0m         request_id\u001b[39m=\u001b[39;49mrequest_id,\n\u001b[1;32m    297\u001b[0m         request_timeout\u001b[39m=\u001b[39;49mrequest_timeout,\n\u001b[1;32m    298\u001b[0m     )\n\u001b[1;32m    299\u001b[0m     resp, got_stream \u001b[39m=\u001b[39m \u001b[39mself\u001b[39m\u001b[39m.\u001b[39m_interpret_response(result, stream)\n\u001b[1;32m    300\u001b[0m     \u001b[39mreturn\u001b[39;00m resp, got_stream, \u001b[39mself\u001b[39m\u001b[39m.\u001b[39mapi_key\n",
      "File \u001b[0;32m~/miniforge3/envs/ally/lib/python3.11/site-packages/openai/api_requestor.py:606\u001b[0m, in \u001b[0;36mAPIRequestor.request_raw\u001b[0;34m(self, method, url, params, supplied_headers, files, stream, request_id, request_timeout)\u001b[0m\n\u001b[1;32m    604\u001b[0m     _thread_context\u001b[39m.\u001b[39msession_create_time \u001b[39m=\u001b[39m time\u001b[39m.\u001b[39mtime()\n\u001b[1;32m    605\u001b[0m \u001b[39mtry\u001b[39;00m:\n\u001b[0;32m--> 606\u001b[0m     result \u001b[39m=\u001b[39m _thread_context\u001b[39m.\u001b[39;49msession\u001b[39m.\u001b[39;49mrequest(\n\u001b[1;32m    607\u001b[0m         method,\n\u001b[1;32m    608\u001b[0m         abs_url,\n\u001b[1;32m    609\u001b[0m         headers\u001b[39m=\u001b[39;49mheaders,\n\u001b[1;32m    610\u001b[0m         data\u001b[39m=\u001b[39;49mdata,\n\u001b[1;32m    611\u001b[0m         files\u001b[39m=\u001b[39;49mfiles,\n\u001b[1;32m    612\u001b[0m         stream\u001b[39m=\u001b[39;49mstream,\n\u001b[1;32m    613\u001b[0m         timeout\u001b[39m=\u001b[39;49mrequest_timeout \u001b[39mif\u001b[39;49;00m request_timeout \u001b[39melse\u001b[39;49;00m TIMEOUT_SECS,\n\u001b[1;32m    614\u001b[0m         proxies\u001b[39m=\u001b[39;49m_thread_context\u001b[39m.\u001b[39;49msession\u001b[39m.\u001b[39;49mproxies,\n\u001b[1;32m    615\u001b[0m     )\n\u001b[1;32m    616\u001b[0m \u001b[39mexcept\u001b[39;00m requests\u001b[39m.\u001b[39mexceptions\u001b[39m.\u001b[39mTimeout \u001b[39mas\u001b[39;00m e:\n\u001b[1;32m    617\u001b[0m     \u001b[39mraise\u001b[39;00m error\u001b[39m.\u001b[39mTimeout(\u001b[39m\"\u001b[39m\u001b[39mRequest timed out: \u001b[39m\u001b[39m{}\u001b[39;00m\u001b[39m\"\u001b[39m\u001b[39m.\u001b[39mformat(e)) \u001b[39mfrom\u001b[39;00m \u001b[39me\u001b[39;00m\n",
      "File \u001b[0;32m~/miniforge3/envs/ally/lib/python3.11/site-packages/requests/sessions.py:589\u001b[0m, in \u001b[0;36mSession.request\u001b[0;34m(self, method, url, params, data, headers, cookies, files, auth, timeout, allow_redirects, proxies, hooks, stream, verify, cert, json)\u001b[0m\n\u001b[1;32m    584\u001b[0m send_kwargs \u001b[39m=\u001b[39m {\n\u001b[1;32m    585\u001b[0m     \u001b[39m\"\u001b[39m\u001b[39mtimeout\u001b[39m\u001b[39m\"\u001b[39m: timeout,\n\u001b[1;32m    586\u001b[0m     \u001b[39m\"\u001b[39m\u001b[39mallow_redirects\u001b[39m\u001b[39m\"\u001b[39m: allow_redirects,\n\u001b[1;32m    587\u001b[0m }\n\u001b[1;32m    588\u001b[0m send_kwargs\u001b[39m.\u001b[39mupdate(settings)\n\u001b[0;32m--> 589\u001b[0m resp \u001b[39m=\u001b[39m \u001b[39mself\u001b[39;49m\u001b[39m.\u001b[39;49msend(prep, \u001b[39m*\u001b[39;49m\u001b[39m*\u001b[39;49msend_kwargs)\n\u001b[1;32m    591\u001b[0m \u001b[39mreturn\u001b[39;00m resp\n",
      "File \u001b[0;32m~/miniforge3/envs/ally/lib/python3.11/site-packages/requests/sessions.py:703\u001b[0m, in \u001b[0;36mSession.send\u001b[0;34m(self, request, **kwargs)\u001b[0m\n\u001b[1;32m    700\u001b[0m start \u001b[39m=\u001b[39m preferred_clock()\n\u001b[1;32m    702\u001b[0m \u001b[39m# Send the request\u001b[39;00m\n\u001b[0;32m--> 703\u001b[0m r \u001b[39m=\u001b[39m adapter\u001b[39m.\u001b[39;49msend(request, \u001b[39m*\u001b[39;49m\u001b[39m*\u001b[39;49mkwargs)\n\u001b[1;32m    705\u001b[0m \u001b[39m# Total elapsed time of the request (approximately)\u001b[39;00m\n\u001b[1;32m    706\u001b[0m elapsed \u001b[39m=\u001b[39m preferred_clock() \u001b[39m-\u001b[39m start\n",
      "File \u001b[0;32m~/miniforge3/envs/ally/lib/python3.11/site-packages/requests/adapters.py:486\u001b[0m, in \u001b[0;36mHTTPAdapter.send\u001b[0;34m(self, request, stream, timeout, verify, cert, proxies)\u001b[0m\n\u001b[1;32m    483\u001b[0m     timeout \u001b[39m=\u001b[39m TimeoutSauce(connect\u001b[39m=\u001b[39mtimeout, read\u001b[39m=\u001b[39mtimeout)\n\u001b[1;32m    485\u001b[0m \u001b[39mtry\u001b[39;00m:\n\u001b[0;32m--> 486\u001b[0m     resp \u001b[39m=\u001b[39m conn\u001b[39m.\u001b[39;49murlopen(\n\u001b[1;32m    487\u001b[0m         method\u001b[39m=\u001b[39;49mrequest\u001b[39m.\u001b[39;49mmethod,\n\u001b[1;32m    488\u001b[0m         url\u001b[39m=\u001b[39;49murl,\n\u001b[1;32m    489\u001b[0m         body\u001b[39m=\u001b[39;49mrequest\u001b[39m.\u001b[39;49mbody,\n\u001b[1;32m    490\u001b[0m         headers\u001b[39m=\u001b[39;49mrequest\u001b[39m.\u001b[39;49mheaders,\n\u001b[1;32m    491\u001b[0m         redirect\u001b[39m=\u001b[39;49m\u001b[39mFalse\u001b[39;49;00m,\n\u001b[1;32m    492\u001b[0m         assert_same_host\u001b[39m=\u001b[39;49m\u001b[39mFalse\u001b[39;49;00m,\n\u001b[1;32m    493\u001b[0m         preload_content\u001b[39m=\u001b[39;49m\u001b[39mFalse\u001b[39;49;00m,\n\u001b[1;32m    494\u001b[0m         decode_content\u001b[39m=\u001b[39;49m\u001b[39mFalse\u001b[39;49;00m,\n\u001b[1;32m    495\u001b[0m         retries\u001b[39m=\u001b[39;49m\u001b[39mself\u001b[39;49m\u001b[39m.\u001b[39;49mmax_retries,\n\u001b[1;32m    496\u001b[0m         timeout\u001b[39m=\u001b[39;49mtimeout,\n\u001b[1;32m    497\u001b[0m         chunked\u001b[39m=\u001b[39;49mchunked,\n\u001b[1;32m    498\u001b[0m     )\n\u001b[1;32m    500\u001b[0m \u001b[39mexcept\u001b[39;00m (ProtocolError, \u001b[39mOSError\u001b[39;00m) \u001b[39mas\u001b[39;00m err:\n\u001b[1;32m    501\u001b[0m     \u001b[39mraise\u001b[39;00m \u001b[39mConnectionError\u001b[39;00m(err, request\u001b[39m=\u001b[39mrequest)\n",
      "File \u001b[0;32m~/miniforge3/envs/ally/lib/python3.11/site-packages/urllib3/connectionpool.py:790\u001b[0m, in \u001b[0;36mHTTPConnectionPool.urlopen\u001b[0;34m(self, method, url, body, headers, retries, redirect, assert_same_host, timeout, pool_timeout, release_conn, chunked, body_pos, preload_content, decode_content, **response_kw)\u001b[0m\n\u001b[1;32m    787\u001b[0m response_conn \u001b[39m=\u001b[39m conn \u001b[39mif\u001b[39;00m \u001b[39mnot\u001b[39;00m release_conn \u001b[39melse\u001b[39;00m \u001b[39mNone\u001b[39;00m\n\u001b[1;32m    789\u001b[0m \u001b[39m# Make the request on the HTTPConnection object\u001b[39;00m\n\u001b[0;32m--> 790\u001b[0m response \u001b[39m=\u001b[39m \u001b[39mself\u001b[39;49m\u001b[39m.\u001b[39;49m_make_request(\n\u001b[1;32m    791\u001b[0m     conn,\n\u001b[1;32m    792\u001b[0m     method,\n\u001b[1;32m    793\u001b[0m     url,\n\u001b[1;32m    794\u001b[0m     timeout\u001b[39m=\u001b[39;49mtimeout_obj,\n\u001b[1;32m    795\u001b[0m     body\u001b[39m=\u001b[39;49mbody,\n\u001b[1;32m    796\u001b[0m     headers\u001b[39m=\u001b[39;49mheaders,\n\u001b[1;32m    797\u001b[0m     chunked\u001b[39m=\u001b[39;49mchunked,\n\u001b[1;32m    798\u001b[0m     retries\u001b[39m=\u001b[39;49mretries,\n\u001b[1;32m    799\u001b[0m     response_conn\u001b[39m=\u001b[39;49mresponse_conn,\n\u001b[1;32m    800\u001b[0m     preload_content\u001b[39m=\u001b[39;49mpreload_content,\n\u001b[1;32m    801\u001b[0m     decode_content\u001b[39m=\u001b[39;49mdecode_content,\n\u001b[1;32m    802\u001b[0m     \u001b[39m*\u001b[39;49m\u001b[39m*\u001b[39;49mresponse_kw,\n\u001b[1;32m    803\u001b[0m )\n\u001b[1;32m    805\u001b[0m \u001b[39m# Everything went great!\u001b[39;00m\n\u001b[1;32m    806\u001b[0m clean_exit \u001b[39m=\u001b[39m \u001b[39mTrue\u001b[39;00m\n",
      "File \u001b[0;32m~/miniforge3/envs/ally/lib/python3.11/site-packages/urllib3/connectionpool.py:536\u001b[0m, in \u001b[0;36mHTTPConnectionPool._make_request\u001b[0;34m(self, conn, method, url, body, headers, retries, timeout, chunked, response_conn, preload_content, decode_content, enforce_content_length)\u001b[0m\n\u001b[1;32m    534\u001b[0m \u001b[39m# Receive the response from the server\u001b[39;00m\n\u001b[1;32m    535\u001b[0m \u001b[39mtry\u001b[39;00m:\n\u001b[0;32m--> 536\u001b[0m     response \u001b[39m=\u001b[39m conn\u001b[39m.\u001b[39;49mgetresponse()\n\u001b[1;32m    537\u001b[0m \u001b[39mexcept\u001b[39;00m (BaseSSLError, \u001b[39mOSError\u001b[39;00m) \u001b[39mas\u001b[39;00m e:\n\u001b[1;32m    538\u001b[0m     \u001b[39mself\u001b[39m\u001b[39m.\u001b[39m_raise_timeout(err\u001b[39m=\u001b[39me, url\u001b[39m=\u001b[39murl, timeout_value\u001b[39m=\u001b[39mread_timeout)\n",
      "File \u001b[0;32m~/miniforge3/envs/ally/lib/python3.11/site-packages/urllib3/connection.py:461\u001b[0m, in \u001b[0;36mHTTPConnection.getresponse\u001b[0;34m(self)\u001b[0m\n\u001b[1;32m    458\u001b[0m \u001b[39mfrom\u001b[39;00m \u001b[39m.\u001b[39;00m\u001b[39mresponse\u001b[39;00m \u001b[39mimport\u001b[39;00m HTTPResponse\n\u001b[1;32m    460\u001b[0m \u001b[39m# Get the response from http.client.HTTPConnection\u001b[39;00m\n\u001b[0;32m--> 461\u001b[0m httplib_response \u001b[39m=\u001b[39m \u001b[39msuper\u001b[39;49m()\u001b[39m.\u001b[39;49mgetresponse()\n\u001b[1;32m    463\u001b[0m \u001b[39mtry\u001b[39;00m:\n\u001b[1;32m    464\u001b[0m     assert_header_parsing(httplib_response\u001b[39m.\u001b[39mmsg)\n",
      "File \u001b[0;32m~/miniforge3/envs/ally/lib/python3.11/http/client.py:1378\u001b[0m, in \u001b[0;36mHTTPConnection.getresponse\u001b[0;34m(self)\u001b[0m\n\u001b[1;32m   1376\u001b[0m \u001b[39mtry\u001b[39;00m:\n\u001b[1;32m   1377\u001b[0m     \u001b[39mtry\u001b[39;00m:\n\u001b[0;32m-> 1378\u001b[0m         response\u001b[39m.\u001b[39;49mbegin()\n\u001b[1;32m   1379\u001b[0m     \u001b[39mexcept\u001b[39;00m \u001b[39mConnectionError\u001b[39;00m:\n\u001b[1;32m   1380\u001b[0m         \u001b[39mself\u001b[39m\u001b[39m.\u001b[39mclose()\n",
      "File \u001b[0;32m~/miniforge3/envs/ally/lib/python3.11/http/client.py:318\u001b[0m, in \u001b[0;36mHTTPResponse.begin\u001b[0;34m(self)\u001b[0m\n\u001b[1;32m    316\u001b[0m \u001b[39m# read until we get a non-100 response\u001b[39;00m\n\u001b[1;32m    317\u001b[0m \u001b[39mwhile\u001b[39;00m \u001b[39mTrue\u001b[39;00m:\n\u001b[0;32m--> 318\u001b[0m     version, status, reason \u001b[39m=\u001b[39m \u001b[39mself\u001b[39;49m\u001b[39m.\u001b[39;49m_read_status()\n\u001b[1;32m    319\u001b[0m     \u001b[39mif\u001b[39;00m status \u001b[39m!=\u001b[39m CONTINUE:\n\u001b[1;32m    320\u001b[0m         \u001b[39mbreak\u001b[39;00m\n",
      "File \u001b[0;32m~/miniforge3/envs/ally/lib/python3.11/http/client.py:279\u001b[0m, in \u001b[0;36mHTTPResponse._read_status\u001b[0;34m(self)\u001b[0m\n\u001b[1;32m    278\u001b[0m \u001b[39mdef\u001b[39;00m \u001b[39m_read_status\u001b[39m(\u001b[39mself\u001b[39m):\n\u001b[0;32m--> 279\u001b[0m     line \u001b[39m=\u001b[39m \u001b[39mstr\u001b[39m(\u001b[39mself\u001b[39m\u001b[39m.\u001b[39mfp\u001b[39m.\u001b[39mreadline(_MAXLINE \u001b[39m+\u001b[39m \u001b[39m1\u001b[39m), \u001b[39m\"\u001b[39m\u001b[39miso-8859-1\u001b[39m\u001b[39m\"\u001b[39m)\n\u001b[1;32m    280\u001b[0m     \u001b[39mif\u001b[39;00m \u001b[39mlen\u001b[39m(line) \u001b[39m>\u001b[39m _MAXLINE:\n\u001b[1;32m    281\u001b[0m         \u001b[39mraise\u001b[39;00m LineTooLong(\u001b[39m\"\u001b[39m\u001b[39mstatus line\u001b[39m\u001b[39m\"\u001b[39m)\n",
      "File \u001b[0;32m~/miniforge3/envs/ally/lib/python3.11/socket.py:706\u001b[0m, in \u001b[0;36mSocketIO.readinto\u001b[0;34m(self, b)\u001b[0m\n\u001b[1;32m    704\u001b[0m \u001b[39mwhile\u001b[39;00m \u001b[39mTrue\u001b[39;00m:\n\u001b[1;32m    705\u001b[0m     \u001b[39mtry\u001b[39;00m:\n\u001b[0;32m--> 706\u001b[0m         \u001b[39mreturn\u001b[39;00m \u001b[39mself\u001b[39;49m\u001b[39m.\u001b[39;49m_sock\u001b[39m.\u001b[39;49mrecv_into(b)\n\u001b[1;32m    707\u001b[0m     \u001b[39mexcept\u001b[39;00m timeout:\n\u001b[1;32m    708\u001b[0m         \u001b[39mself\u001b[39m\u001b[39m.\u001b[39m_timeout_occurred \u001b[39m=\u001b[39m \u001b[39mTrue\u001b[39;00m\n",
      "File \u001b[0;32m~/miniforge3/envs/ally/lib/python3.11/ssl.py:1311\u001b[0m, in \u001b[0;36mSSLSocket.recv_into\u001b[0;34m(self, buffer, nbytes, flags)\u001b[0m\n\u001b[1;32m   1307\u001b[0m     \u001b[39mif\u001b[39;00m flags \u001b[39m!=\u001b[39m \u001b[39m0\u001b[39m:\n\u001b[1;32m   1308\u001b[0m         \u001b[39mraise\u001b[39;00m \u001b[39mValueError\u001b[39;00m(\n\u001b[1;32m   1309\u001b[0m           \u001b[39m\"\u001b[39m\u001b[39mnon-zero flags not allowed in calls to recv_into() on \u001b[39m\u001b[39m%s\u001b[39;00m\u001b[39m\"\u001b[39m \u001b[39m%\u001b[39m\n\u001b[1;32m   1310\u001b[0m           \u001b[39mself\u001b[39m\u001b[39m.\u001b[39m\u001b[39m__class__\u001b[39m)\n\u001b[0;32m-> 1311\u001b[0m     \u001b[39mreturn\u001b[39;00m \u001b[39mself\u001b[39;49m\u001b[39m.\u001b[39;49mread(nbytes, buffer)\n\u001b[1;32m   1312\u001b[0m \u001b[39melse\u001b[39;00m:\n\u001b[1;32m   1313\u001b[0m     \u001b[39mreturn\u001b[39;00m \u001b[39msuper\u001b[39m()\u001b[39m.\u001b[39mrecv_into(buffer, nbytes, flags)\n",
      "File \u001b[0;32m~/miniforge3/envs/ally/lib/python3.11/ssl.py:1167\u001b[0m, in \u001b[0;36mSSLSocket.read\u001b[0;34m(self, len, buffer)\u001b[0m\n\u001b[1;32m   1165\u001b[0m \u001b[39mtry\u001b[39;00m:\n\u001b[1;32m   1166\u001b[0m     \u001b[39mif\u001b[39;00m buffer \u001b[39mis\u001b[39;00m \u001b[39mnot\u001b[39;00m \u001b[39mNone\u001b[39;00m:\n\u001b[0;32m-> 1167\u001b[0m         \u001b[39mreturn\u001b[39;00m \u001b[39mself\u001b[39;49m\u001b[39m.\u001b[39;49m_sslobj\u001b[39m.\u001b[39;49mread(\u001b[39mlen\u001b[39;49m, buffer)\n\u001b[1;32m   1168\u001b[0m     \u001b[39melse\u001b[39;00m:\n\u001b[1;32m   1169\u001b[0m         \u001b[39mreturn\u001b[39;00m \u001b[39mself\u001b[39m\u001b[39m.\u001b[39m_sslobj\u001b[39m.\u001b[39mread(\u001b[39mlen\u001b[39m)\n",
      "\u001b[0;31mKeyboardInterrupt\u001b[0m: "
     ]
    }
   ],
   "source": [
    "agent.learn(learning_iterations=5)"
   ]
  },
  {
   "cell_type": "code",
   "execution_count": 3,
   "metadata": {},
   "outputs": [
    {
     "data": {
      "text/html": [
       "<pre style=\"white-space:pre;overflow-x:auto;line-height:normal;font-family:Menlo,'DejaVu Sans Mono',consolas,'Courier New',monospace\">Applying skill: skill_0\n",
       "</pre>\n"
      ],
      "text/plain": [
       "Applying skill: skill_0\n"
      ]
     },
     "metadata": {},
     "output_type": "display_data"
    },
    {
     "data": {
      "text/html": [
       "<pre style=\"white-space:pre;overflow-x:auto;line-height:normal;font-family:Menlo,'DejaVu Sans Mono',consolas,'Courier New',monospace\"><span style=\"font-weight: bold\">[</span><span style=\"color: #008000; text-decoration-color: #008000\">'category'</span><span style=\"font-weight: bold\">]</span>\n",
       "</pre>\n"
      ],
      "text/plain": [
       "\u001b[1m[\u001b[0m\u001b[32m'category'\u001b[0m\u001b[1m]\u001b[0m\n"
      ]
     },
     "metadata": {},
     "output_type": "display_data"
    },
    {
     "name": "stderr",
     "output_type": "stream",
     "text": [
      "  0%|          | 0/3 [00:00<?, ?it/s]"
     ]
    },
    {
     "data": {
      "text/html": [
       "<pre style=\"white-space:pre;overflow-x:auto;line-height:normal;font-family:Menlo,'DejaVu Sans Mono',consolas,'Courier New',monospace\"><span style=\"font-weight: bold\">{</span><span style=\"color: #008000; text-decoration-color: #008000\">'category'</span>: <span style=\"color: #008000; text-decoration-color: #008000\">'Trace Minerals'</span><span style=\"font-weight: bold\">}</span>\n",
       "</pre>\n"
      ],
      "text/plain": [
       "\u001b[1m{\u001b[0m\u001b[32m'category'\u001b[0m: \u001b[32m'Trace Minerals'\u001b[0m\u001b[1m}\u001b[0m\n"
      ]
     },
     "metadata": {},
     "output_type": "display_data"
    },
    {
     "name": "stderr",
     "output_type": "stream",
     "text": [
      " 67%|██████▋   | 2/3 [00:03<00:01,  1.69s/it]"
     ]
    },
    {
     "data": {
      "text/html": [
       "<pre style=\"white-space:pre;overflow-x:auto;line-height:normal;font-family:Menlo,'DejaVu Sans Mono',consolas,'Courier New',monospace\"><span style=\"font-weight: bold\">{</span><span style=\"color: #008000; text-decoration-color: #008000\">'category'</span>: <span style=\"color: #008000; text-decoration-color: #008000\">'Water-Soluble Vitamins'</span><span style=\"font-weight: bold\">}</span>\n",
       "</pre>\n"
      ],
      "text/plain": [
       "\u001b[1m{\u001b[0m\u001b[32m'category'\u001b[0m: \u001b[32m'Water-Soluble Vitamins'\u001b[0m\u001b[1m}\u001b[0m\n"
      ]
     },
     "metadata": {},
     "output_type": "display_data"
    },
    {
     "name": "stderr",
     "output_type": "stream",
     "text": [
      "100%|██████████| 3/3 [00:07<00:00,  2.82s/it]"
     ]
    },
    {
     "data": {
      "text/html": [
       "<pre style=\"white-space:pre;overflow-x:auto;line-height:normal;font-family:Menlo,'DejaVu Sans Mono',consolas,'Courier New',monospace\"><span style=\"font-weight: bold\">{</span><span style=\"color: #008000; text-decoration-color: #008000\">'category'</span>: <span style=\"color: #008000; text-decoration-color: #008000\">'Fatty Acids'</span><span style=\"font-weight: bold\">}</span>\n",
       "</pre>\n"
      ],
      "text/plain": [
       "\u001b[1m{\u001b[0m\u001b[32m'category'\u001b[0m: \u001b[32m'Fatty Acids'\u001b[0m\u001b[1m}\u001b[0m\n"
      ]
     },
     "metadata": {},
     "output_type": "display_data"
    },
    {
     "name": "stderr",
     "output_type": "stream",
     "text": [
      "100%|██████████| 3/3 [00:10<00:00,  3.51s/it]\n"
     ]
    },
    {
     "data": {
      "text/html": [
       "<pre style=\"white-space:pre;overflow-x:auto;line-height:normal;font-family:Menlo,'DejaVu Sans Mono',consolas,'Courier New',monospace\">Applying skill: skill_1\n",
       "</pre>\n"
      ],
      "text/plain": [
       "Applying skill: skill_1\n"
      ]
     },
     "metadata": {},
     "output_type": "display_data"
    },
    {
     "data": {
      "text/html": [
       "<pre style=\"white-space:pre;overflow-x:auto;line-height:normal;font-family:Menlo,'DejaVu Sans Mono',consolas,'Courier New',monospace\"><span style=\"font-weight: bold\">[</span><span style=\"color: #008000; text-decoration-color: #008000\">'entities'</span><span style=\"font-weight: bold\">]</span>\n",
       "</pre>\n"
      ],
      "text/plain": [
       "\u001b[1m[\u001b[0m\u001b[32m'entities'\u001b[0m\u001b[1m]\u001b[0m\n"
      ]
     },
     "metadata": {},
     "output_type": "display_data"
    },
    {
     "name": "stderr",
     "output_type": "stream",
     "text": [
      "  0%|          | 0/3 [00:00<?, ?it/s]"
     ]
    },
    {
     "data": {
      "text/html": [
       "<pre style=\"white-space:pre;overflow-x:auto;line-height:normal;font-family:Menlo,'DejaVu Sans Mono',consolas,'Courier New',monospace\"><span style=\"font-weight: bold\">{</span><span style=\"color: #008000; text-decoration-color: #008000\">'category'</span>: <span style=\"color: #008000; text-decoration-color: #008000\">'Trace Minerals'</span>, <span style=\"color: #008000; text-decoration-color: #008000\">'entities'</span>: <span style=\"color: #008000; text-decoration-color: #008000\">'carbohydrates, proteins, fats'</span><span style=\"font-weight: bold\">}</span>\n",
       "</pre>\n"
      ],
      "text/plain": [
       "\u001b[1m{\u001b[0m\u001b[32m'category'\u001b[0m: \u001b[32m'Trace Minerals'\u001b[0m, \u001b[32m'entities'\u001b[0m: \u001b[32m'carbohydrates, proteins, fats'\u001b[0m\u001b[1m}\u001b[0m\n"
      ]
     },
     "metadata": {},
     "output_type": "display_data"
    },
    {
     "name": "stderr",
     "output_type": "stream",
     "text": [
      " 67%|██████▋   | 2/3 [00:02<00:01,  1.34s/it]"
     ]
    },
    {
     "data": {
      "text/html": [
       "<pre style=\"white-space:pre;overflow-x:auto;line-height:normal;font-family:Menlo,'DejaVu Sans Mono',consolas,'Courier New',monospace\"><span style=\"font-weight: bold\">{</span><span style=\"color: #008000; text-decoration-color: #008000\">'category'</span>: <span style=\"color: #008000; text-decoration-color: #008000\">'Water-Soluble Vitamins'</span>, <span style=\"color: #008000; text-decoration-color: #008000\">'entities'</span>: <span style=\"color: #008000; text-decoration-color: #008000\">'carbohydrates, proteins, fats'</span><span style=\"font-weight: bold\">}</span>\n",
       "</pre>\n"
      ],
      "text/plain": [
       "\u001b[1m{\u001b[0m\u001b[32m'category'\u001b[0m: \u001b[32m'Water-Soluble Vitamins'\u001b[0m, \u001b[32m'entities'\u001b[0m: \u001b[32m'carbohydrates, proteins, fats'\u001b[0m\u001b[1m}\u001b[0m\n"
      ]
     },
     "metadata": {},
     "output_type": "display_data"
    },
    {
     "name": "stderr",
     "output_type": "stream",
     "text": [
      "100%|██████████| 3/3 [00:05<00:00,  2.02s/it]"
     ]
    },
    {
     "data": {
      "text/html": [
       "<pre style=\"white-space:pre;overflow-x:auto;line-height:normal;font-family:Menlo,'DejaVu Sans Mono',consolas,'Courier New',monospace\"><span style=\"font-weight: bold\">{</span><span style=\"color: #008000; text-decoration-color: #008000\">'category'</span>: <span style=\"color: #008000; text-decoration-color: #008000\">'Fatty Acids'</span>, <span style=\"color: #008000; text-decoration-color: #008000\">'entities'</span>: <span style=\"color: #008000; text-decoration-color: #008000\">'carbohydrates, proteins, fats'</span><span style=\"font-weight: bold\">}</span>\n",
       "</pre>\n"
      ],
      "text/plain": [
       "\u001b[1m{\u001b[0m\u001b[32m'category'\u001b[0m: \u001b[32m'Fatty Acids'\u001b[0m, \u001b[32m'entities'\u001b[0m: \u001b[32m'carbohydrates, proteins, fats'\u001b[0m\u001b[1m}\u001b[0m\n"
      ]
     },
     "metadata": {},
     "output_type": "display_data"
    },
    {
     "name": "stderr",
     "output_type": "stream",
     "text": [
      "100%|██████████| 3/3 [00:08<00:00,  2.69s/it]\n"
     ]
    }
   ],
   "source": [
    "predictions = agent.run(pd.DataFrame([\n",
    "    ['Trace Minerals'],\n",
    "    ['Water-Soluble Vitamins'],\n",
    "    ['Fatty Acids']\n",
    "], columns=['category']))"
   ]
  },
  {
   "cell_type": "code",
   "execution_count": 4,
   "metadata": {},
   "outputs": [
    {
     "data": {
      "text/html": [
       "<div>\n",
       "<style scoped>\n",
       "    .dataframe tbody tr th:only-of-type {\n",
       "        vertical-align: middle;\n",
       "    }\n",
       "\n",
       "    .dataframe tbody tr th {\n",
       "        vertical-align: top;\n",
       "    }\n",
       "\n",
       "    .dataframe thead th {\n",
       "        text-align: right;\n",
       "    }\n",
       "</style>\n",
       "<table border=\"1\" class=\"dataframe\">\n",
       "  <thead>\n",
       "    <tr style=\"text-align: right;\">\n",
       "      <th></th>\n",
       "      <th>category</th>\n",
       "      <th>entities</th>\n",
       "      <th>text</th>\n",
       "    </tr>\n",
       "  </thead>\n",
       "  <tbody>\n",
       "    <tr>\n",
       "      <th>0</th>\n",
       "      <td>Trace Minerals</td>\n",
       "      <td>carbohydrates, proteins, fats</td>\n",
       "      <td>carbohydrates, proteins, fats</td>\n",
       "    </tr>\n",
       "    <tr>\n",
       "      <th>1</th>\n",
       "      <td>Water-Soluble Vitamins</td>\n",
       "      <td>carbohydrates, proteins, fats</td>\n",
       "      <td>carbohydrates, proteins, fats</td>\n",
       "    </tr>\n",
       "    <tr>\n",
       "      <th>2</th>\n",
       "      <td>Fatty Acids</td>\n",
       "      <td>carbohydrates, proteins, fats</td>\n",
       "      <td>carbohydrates, proteins, fats</td>\n",
       "    </tr>\n",
       "  </tbody>\n",
       "</table>\n",
       "</div>"
      ],
      "text/plain": [
       "                 category                       entities  \\\n",
       "0          Trace Minerals  carbohydrates, proteins, fats   \n",
       "1  Water-Soluble Vitamins  carbohydrates, proteins, fats   \n",
       "2             Fatty Acids  carbohydrates, proteins, fats   \n",
       "\n",
       "                            text  \n",
       "0  carbohydrates, proteins, fats  \n",
       "1  carbohydrates, proteins, fats  \n",
       "2  carbohydrates, proteins, fats  "
      ]
     },
     "execution_count": 4,
     "metadata": {},
     "output_type": "execute_result"
    }
   ],
   "source": [
    "predictions"
   ]
  },
  {
   "cell_type": "code",
   "execution_count": null,
   "metadata": {},
   "outputs": [],
   "source": []
  }
 ],
 "metadata": {
  "kernelspec": {
   "display_name": "ally",
   "language": "python",
   "name": "python3"
  },
  "language_info": {
   "codemirror_mode": {
    "name": "ipython",
    "version": 3
   },
   "file_extension": ".py",
   "mimetype": "text/x-python",
   "name": "python",
   "nbconvert_exporter": "python",
   "pygments_lexer": "ipython3",
   "version": "3.11.6"
  }
 },
 "nbformat": 4,
 "nbformat_minor": 2
}
