{
 "cells": [
  {
   "cell_type": "markdown",
   "metadata": {},
   "source": [
    "# Learning sequence of skills\n",
    "Ally agent is able to create the sequence of skills based on the provided input/output samples.\n",
    "In the example below, we ask agent to build two skills from scratch with the following requirements:\n",
    "\n",
    "1. First skill get's nutrients `\"category\"` name as input and should produce the output similar to what we specify in `\"entities\"` (for example, list of common nutrients based on provided category)\n",
    "\n",
    "2. Second skill gets the output of the first skill (`\"entities\"`) and generate the text, using the examples provided in the ground truth.\n",
    "\n",
    "In other words, agent learns how to perform the data generation pipeline like `\"category\"` --> `\"entities\"` --> `\"description\"`. \n",
    "You can adjust to your specific use case"
   ]
  },
  {
   "cell_type": "code",
   "execution_count": 1,
   "metadata": {},
   "outputs": [],
   "source": [
    "import sys\n",
    "sys.path.append('../')\n",
    "\n",
    "\n",
    "from ally.runtimes.openai import OpenAIRuntime\n",
    "from app.core.settings import settings\n",
    "\n",
    "from ally.environments.base import BasicEnvironment\n",
    "\n",
    "from ally.skills.skillset import LinearSkillSet\n",
    "from ally.agents.base import Agent\n",
    "from ally.skills.generation.tg import TextGenerationSkill\n",
    "import pandas as pd\n",
    "\n",
    "\n",
    "openai_runtime = OpenAIRuntime(\n",
    "    verbose=True,\n",
    "    api_key=settings.openai_api_key,\n",
    "    gpt_model_name=\"gpt-3.5-turbo\",\n",
    "    max_tokens=256,\n",
    "  )\n",
    "\n",
    "\n",
    "agent = Agent(\n",
    "    \n",
    "    # Require agent to learn sequence of two skills\n",
    "    skills=LinearSkillSet(\n",
    "      skills=[\n",
    "        TextGenerationSkill(\n",
    "          name=\"skill_0\", \n",
    "          instruction_template=\"...\",\n",
    "          input_template=\"input: {category}\",\n",
    "          output_template=[{\n",
    "            \"name\": \"entities\",\n",
    "\t\t\t      \"description\": \"the output of skill_0\",\n",
    "          }],\n",
    "          prediction_field = 'entities'\n",
    "        ),\n",
    "        TextGenerationSkill(\n",
    "          name=\"skill_1\", \n",
    "          instruction_template=\"...\",\n",
    "          input_template=\"input: {skill_0}\",\n",
    "          output_template=[{\n",
    "            \"name\": \"text\",\n",
    "\t\t\t      \"description\": \"the output of skill_1\",\n",
    "          }],\n",
    "          prediction_field = 'text'\n",
    "        )\n",
    "      ],\n",
    "    ),\n",
    "    runtimes={\n",
    "      'openai': openai_runtime\n",
    "\t  },\n",
    "    teacher_runtimes={\n",
    "      'openai': openai_runtime\n",
    "\t  },\n",
    "    \n",
    "    # provide ground truth demonstration in environment\n",
    "    environment=BasicEnvironment(\n",
    "        ground_truth_dataset=pd.DataFrame(\n",
    "            [{\n",
    "              \"category\": \"Macronutrients\",\n",
    "              \"entities\": \"Carbohydrates, Proteins, Fats\",\n",
    "              \"text\": \"Carbohydrates provide quick energy, proteins are essential for muscle repair and growth, and fats are vital for long-term energy storage and cell function.\"\n",
    "            }, {\n",
    "              \"category\": \"Vitamins\",\n",
    "              \"entities\": \"Vitamin A, Vitamin C, Vitamin D\",\n",
    "              \"text\": \"Vitamin A is crucial for good vision and a healthy immune system, Vitamin C helps in the repair of tissues and the enzymatic production of certain neurotransmitters, and Vitamin D is essential for strong bones and teeth as it helps the body absorb calcium.\"\n",
    "            }, {\n",
    "              \"category\": \"Minerals\",\n",
    "              \"entities\": \"Calcium, Iron, Magnesium\",\n",
    "              \"text\": \"Calcium is necessary for maintaining healthy bones and teeth, Iron is crucial for making red blood cells and transporting oxygen throughout the body, and Magnesium plays a role in over 300 enzyme reactions in the human body, including the metabolism of food, synthesis of fatty acids and proteins, and the transmission of nerve impulses.\"\n",
    "            }]\n",
    "        ),\n",
    "        ground_truth_columns={\n",
    "            'skill_0': 'entities',\n",
    "            'skill_1': 'text'\n",
    "        },\n",
    "        matching_function='fuzzy',\n",
    "        matching_threshold=0.9\n",
    "    ),\n",
    ")\n",
    "    "
   ]
  },
  {
   "cell_type": "code",
   "execution_count": 2,
   "metadata": {},
   "outputs": [
    {
     "data": {
      "text/html": [
       "<pre style=\"white-space:pre;overflow-x:auto;line-height:normal;font-family:Menlo,'DejaVu Sans Mono',consolas,'Courier New',monospace\">Applying skill: skill_0\n",
       "</pre>\n"
      ],
      "text/plain": [
       "Applying skill: skill_0\n"
      ]
     },
     "metadata": {},
     "output_type": "display_data"
    },
    {
     "data": {
      "text/html": [
       "<pre style=\"white-space:pre;overflow-x:auto;line-height:normal;font-family:Menlo,'DejaVu Sans Mono',consolas,'Courier New',monospace\"><span style=\"font-weight: bold\">[</span><span style=\"color: #008000; text-decoration-color: #008000\">'category'</span><span style=\"font-weight: bold\">]</span>\n",
       "</pre>\n"
      ],
      "text/plain": [
       "\u001b[1m[\u001b[0m\u001b[32m'category'\u001b[0m\u001b[1m]\u001b[0m\n"
      ]
     },
     "metadata": {},
     "output_type": "display_data"
    },
    {
     "name": "stderr",
     "output_type": "stream",
     "text": [
      "  0%|          | 0/3 [00:00<?, ?it/s]"
     ]
    },
    {
     "data": {
      "text/html": [
       "<pre style=\"white-space:pre;overflow-x:auto;line-height:normal;font-family:Menlo,'DejaVu Sans Mono',consolas,'Courier New',monospace\"><span style=\"font-weight: bold\">{</span><span style=\"color: #008000; text-decoration-color: #008000\">'category'</span>: <span style=\"color: #008000; text-decoration-color: #008000\">'Macronutrients'</span>, <span style=\"color: #008000; text-decoration-color: #008000\">'entities'</span>: <span style=\"color: #008000; text-decoration-color: #008000\">'Carbohydrates, Proteins, Fats'</span>, <span style=\"color: #008000; text-decoration-color: #008000\">'text'</span>: <span style=\"color: #008000; text-decoration-color: #008000\">'Carbohydrates provide quick </span>\n",
       "<span style=\"color: #008000; text-decoration-color: #008000\">energy, proteins are essential for muscle repair and growth, and fats are vital for long-term energy storage and </span>\n",
       "<span style=\"color: #008000; text-decoration-color: #008000\">cell function.'</span><span style=\"font-weight: bold\">}</span>\n",
       "</pre>\n"
      ],
      "text/plain": [
       "\u001b[1m{\u001b[0m\u001b[32m'category'\u001b[0m: \u001b[32m'Macronutrients'\u001b[0m, \u001b[32m'entities'\u001b[0m: \u001b[32m'Carbohydrates, Proteins, Fats'\u001b[0m, \u001b[32m'text'\u001b[0m: \u001b[32m'Carbohydrates provide quick \u001b[0m\n",
       "\u001b[32menergy, proteins are essential for muscle repair and growth, and fats are vital for long-term energy storage and \u001b[0m\n",
       "\u001b[32mcell function.'\u001b[0m\u001b[1m}\u001b[0m\n"
      ]
     },
     "metadata": {},
     "output_type": "display_data"
    },
    {
     "name": "stderr",
     "output_type": "stream",
     "text": [
      " 67%|██████▋   | 2/3 [00:03<00:01,  1.98s/it]"
     ]
    },
    {
     "data": {
      "text/html": [
       "<pre style=\"white-space:pre;overflow-x:auto;line-height:normal;font-family:Menlo,'DejaVu Sans Mono',consolas,'Courier New',monospace\"><span style=\"font-weight: bold\">{</span><span style=\"color: #008000; text-decoration-color: #008000\">'category'</span>: <span style=\"color: #008000; text-decoration-color: #008000\">'Vitamins'</span>, <span style=\"color: #008000; text-decoration-color: #008000\">'entities'</span>: <span style=\"color: #008000; text-decoration-color: #008000\">'Vitamin A, Vitamin C, Vitamin D'</span>, <span style=\"color: #008000; text-decoration-color: #008000\">'text'</span>: <span style=\"color: #008000; text-decoration-color: #008000\">'Vitamin A is crucial for good </span>\n",
       "<span style=\"color: #008000; text-decoration-color: #008000\">vision and a healthy immune system, Vitamin C helps in the repair of tissues and the enzymatic production of </span>\n",
       "<span style=\"color: #008000; text-decoration-color: #008000\">certain neurotransmitters, and Vitamin D is essential for strong bones and teeth as it helps the body absorb </span>\n",
       "<span style=\"color: #008000; text-decoration-color: #008000\">calcium.'</span><span style=\"font-weight: bold\">}</span>\n",
       "</pre>\n"
      ],
      "text/plain": [
       "\u001b[1m{\u001b[0m\u001b[32m'category'\u001b[0m: \u001b[32m'Vitamins'\u001b[0m, \u001b[32m'entities'\u001b[0m: \u001b[32m'Vitamin A, Vitamin C, Vitamin D'\u001b[0m, \u001b[32m'text'\u001b[0m: \u001b[32m'Vitamin A is crucial for good \u001b[0m\n",
       "\u001b[32mvision and a healthy immune system, Vitamin C helps in the repair of tissues and the enzymatic production of \u001b[0m\n",
       "\u001b[32mcertain neurotransmitters, and Vitamin D is essential for strong bones and teeth as it helps the body absorb \u001b[0m\n",
       "\u001b[32mcalcium.'\u001b[0m\u001b[1m}\u001b[0m\n"
      ]
     },
     "metadata": {},
     "output_type": "display_data"
    },
    {
     "name": "stderr",
     "output_type": "stream",
     "text": [
      "100%|██████████| 3/3 [00:19<00:00,  7.67s/it]"
     ]
    },
    {
     "data": {
      "text/html": [
       "<pre style=\"white-space:pre;overflow-x:auto;line-height:normal;font-family:Menlo,'DejaVu Sans Mono',consolas,'Courier New',monospace\"><span style=\"font-weight: bold\">{</span><span style=\"color: #008000; text-decoration-color: #008000\">'category'</span>: <span style=\"color: #008000; text-decoration-color: #008000\">'Minerals'</span>, <span style=\"color: #008000; text-decoration-color: #008000\">'entities'</span>: <span style=\"color: #008000; text-decoration-color: #008000\">'Calcium, Iron, Magnesium'</span>, <span style=\"color: #008000; text-decoration-color: #008000\">'text'</span>: <span style=\"color: #008000; text-decoration-color: #008000\">'Calcium is necessary for maintaining </span>\n",
       "<span style=\"color: #008000; text-decoration-color: #008000\">healthy bones and teeth, Iron is crucial for making red blood cells and transporting oxygen throughout the body, </span>\n",
       "<span style=\"color: #008000; text-decoration-color: #008000\">and Magnesium plays a role in over 300 enzyme reactions in the human body, including the metabolism of food, </span>\n",
       "<span style=\"color: #008000; text-decoration-color: #008000\">synthesis of fatty acids and proteins, and the transmission of nerve impulses.'</span><span style=\"font-weight: bold\">}</span>\n",
       "</pre>\n"
      ],
      "text/plain": [
       "\u001b[1m{\u001b[0m\u001b[32m'category'\u001b[0m: \u001b[32m'Minerals'\u001b[0m, \u001b[32m'entities'\u001b[0m: \u001b[32m'Calcium, Iron, Magnesium'\u001b[0m, \u001b[32m'text'\u001b[0m: \u001b[32m'Calcium is necessary for maintaining \u001b[0m\n",
       "\u001b[32mhealthy bones and teeth, Iron is crucial for making red blood cells and transporting oxygen throughout the body, \u001b[0m\n",
       "\u001b[32mand Magnesium plays a role in over 300 enzyme reactions in the human body, including the metabolism of food, \u001b[0m\n",
       "\u001b[32msynthesis of fatty acids and proteins, and the transmission of nerve impulses.'\u001b[0m\u001b[1m}\u001b[0m\n"
      ]
     },
     "metadata": {},
     "output_type": "display_data"
    },
    {
     "name": "stderr",
     "output_type": "stream",
     "text": [
      "100%|██████████| 3/3 [00:23<00:00,  7.71s/it]\n"
     ]
    },
    {
     "data": {
      "text/html": [
       "<pre style=\"white-space:pre;overflow-x:auto;line-height:normal;font-family:Menlo,'DejaVu Sans Mono',consolas,'Courier New',monospace\">Applying skill: skill_1\n",
       "</pre>\n"
      ],
      "text/plain": [
       "Applying skill: skill_1\n"
      ]
     },
     "metadata": {},
     "output_type": "display_data"
    },
    {
     "data": {
      "text/html": [
       "<pre style=\"white-space:pre;overflow-x:auto;line-height:normal;font-family:Menlo,'DejaVu Sans Mono',consolas,'Courier New',monospace\"><span style=\"font-weight: bold\">[</span><span style=\"color: #008000; text-decoration-color: #008000\">'skill_0'</span><span style=\"font-weight: bold\">]</span>\n",
       "</pre>\n"
      ],
      "text/plain": [
       "\u001b[1m[\u001b[0m\u001b[32m'skill_0'\u001b[0m\u001b[1m]\u001b[0m\n"
      ]
     },
     "metadata": {},
     "output_type": "display_data"
    },
    {
     "name": "stderr",
     "output_type": "stream",
     "text": [
      "  0%|          | 0/3 [00:00<?, ?it/s]"
     ]
    },
    {
     "data": {
      "text/html": [
       "<pre style=\"white-space:pre;overflow-x:auto;line-height:normal;font-family:Menlo,'DejaVu Sans Mono',consolas,'Courier New',monospace\"><span style=\"font-weight: bold\">{</span><span style=\"color: #008000; text-decoration-color: #008000\">'category'</span>: <span style=\"color: #008000; text-decoration-color: #008000\">'Macronutrients'</span>, <span style=\"color: #008000; text-decoration-color: #008000\">'entities'</span>: <span style=\"color: #008000; text-decoration-color: #008000\">'Carbohydrates, Proteins, Fats'</span>, <span style=\"color: #008000; text-decoration-color: #008000\">'text'</span>: <span style=\"color: #008000; text-decoration-color: #008000\">'Carbohydrates provide quick </span>\n",
       "<span style=\"color: #008000; text-decoration-color: #008000\">energy, proteins are essential for muscle repair and growth, and fats are vital for long-term energy storage and </span>\n",
       "<span style=\"color: #008000; text-decoration-color: #008000\">cell function.'</span>, <span style=\"color: #008000; text-decoration-color: #008000\">'skill_0'</span>: <span style=\"color: #008000; text-decoration-color: #008000\">'Macronutrients'</span><span style=\"font-weight: bold\">}</span>\n",
       "</pre>\n"
      ],
      "text/plain": [
       "\u001b[1m{\u001b[0m\u001b[32m'category'\u001b[0m: \u001b[32m'Macronutrients'\u001b[0m, \u001b[32m'entities'\u001b[0m: \u001b[32m'Carbohydrates, Proteins, Fats'\u001b[0m, \u001b[32m'text'\u001b[0m: \u001b[32m'Carbohydrates provide quick \u001b[0m\n",
       "\u001b[32menergy, proteins are essential for muscle repair and growth, and fats are vital for long-term energy storage and \u001b[0m\n",
       "\u001b[32mcell function.'\u001b[0m, \u001b[32m'skill_0'\u001b[0m: \u001b[32m'Macronutrients'\u001b[0m\u001b[1m}\u001b[0m\n"
      ]
     },
     "metadata": {},
     "output_type": "display_data"
    },
    {
     "name": "stderr",
     "output_type": "stream",
     "text": [
      " 67%|██████▋   | 2/3 [00:18<00:09,  9.32s/it]"
     ]
    },
    {
     "data": {
      "text/html": [
       "<pre style=\"white-space:pre;overflow-x:auto;line-height:normal;font-family:Menlo,'DejaVu Sans Mono',consolas,'Courier New',monospace\"><span style=\"font-weight: bold\">{</span><span style=\"color: #008000; text-decoration-color: #008000\">'category'</span>: <span style=\"color: #008000; text-decoration-color: #008000\">'Vitamins'</span>, <span style=\"color: #008000; text-decoration-color: #008000\">'entities'</span>: <span style=\"color: #008000; text-decoration-color: #008000\">'Vitamin A, Vitamin C, Vitamin D'</span>, <span style=\"color: #008000; text-decoration-color: #008000\">'text'</span>: <span style=\"color: #008000; text-decoration-color: #008000\">'Vitamin A is crucial for good </span>\n",
       "<span style=\"color: #008000; text-decoration-color: #008000\">vision and a healthy immune system, Vitamin C helps in the repair of tissues and the enzymatic production of </span>\n",
       "<span style=\"color: #008000; text-decoration-color: #008000\">certain neurotransmitters, and Vitamin D is essential for strong bones and teeth as it helps the body absorb </span>\n",
       "<span style=\"color: #008000; text-decoration-color: #008000\">calcium.'</span>, <span style=\"color: #008000; text-decoration-color: #008000\">'skill_0'</span>: <span style=\"color: #008000; text-decoration-color: #008000\">'Vitamins'</span><span style=\"font-weight: bold\">}</span>\n",
       "</pre>\n"
      ],
      "text/plain": [
       "\u001b[1m{\u001b[0m\u001b[32m'category'\u001b[0m: \u001b[32m'Vitamins'\u001b[0m, \u001b[32m'entities'\u001b[0m: \u001b[32m'Vitamin A, Vitamin C, Vitamin D'\u001b[0m, \u001b[32m'text'\u001b[0m: \u001b[32m'Vitamin A is crucial for good \u001b[0m\n",
       "\u001b[32mvision and a healthy immune system, Vitamin C helps in the repair of tissues and the enzymatic production of \u001b[0m\n",
       "\u001b[32mcertain neurotransmitters, and Vitamin D is essential for strong bones and teeth as it helps the body absorb \u001b[0m\n",
       "\u001b[32mcalcium.'\u001b[0m, \u001b[32m'skill_0'\u001b[0m: \u001b[32m'Vitamins'\u001b[0m\u001b[1m}\u001b[0m\n"
      ]
     },
     "metadata": {},
     "output_type": "display_data"
    },
    {
     "name": "stderr",
     "output_type": "stream",
     "text": [
      "100%|██████████| 3/3 [00:44<00:00, 16.14s/it]"
     ]
    },
    {
     "data": {
      "text/html": [
       "<pre style=\"white-space:pre;overflow-x:auto;line-height:normal;font-family:Menlo,'DejaVu Sans Mono',consolas,'Courier New',monospace\"><span style=\"font-weight: bold\">{</span><span style=\"color: #008000; text-decoration-color: #008000\">'category'</span>: <span style=\"color: #008000; text-decoration-color: #008000\">'Minerals'</span>, <span style=\"color: #008000; text-decoration-color: #008000\">'entities'</span>: <span style=\"color: #008000; text-decoration-color: #008000\">'Calcium, Iron, Magnesium'</span>, <span style=\"color: #008000; text-decoration-color: #008000\">'text'</span>: <span style=\"color: #008000; text-decoration-color: #008000\">'Calcium is necessary for maintaining </span>\n",
       "<span style=\"color: #008000; text-decoration-color: #008000\">healthy bones and teeth, Iron is crucial for making red blood cells and transporting oxygen throughout the body, </span>\n",
       "<span style=\"color: #008000; text-decoration-color: #008000\">and Magnesium plays a role in over 300 enzyme reactions in the human body, including the metabolism of food, </span>\n",
       "<span style=\"color: #008000; text-decoration-color: #008000\">synthesis of fatty acids and proteins, and the transmission of nerve impulses.'</span>, <span style=\"color: #008000; text-decoration-color: #008000\">'skill_0'</span>: <span style=\"color: #008000; text-decoration-color: #008000\">'Minerals'</span><span style=\"font-weight: bold\">}</span>\n",
       "</pre>\n"
      ],
      "text/plain": [
       "\u001b[1m{\u001b[0m\u001b[32m'category'\u001b[0m: \u001b[32m'Minerals'\u001b[0m, \u001b[32m'entities'\u001b[0m: \u001b[32m'Calcium, Iron, Magnesium'\u001b[0m, \u001b[32m'text'\u001b[0m: \u001b[32m'Calcium is necessary for maintaining \u001b[0m\n",
       "\u001b[32mhealthy bones and teeth, Iron is crucial for making red blood cells and transporting oxygen throughout the body, \u001b[0m\n",
       "\u001b[32mand Magnesium plays a role in over 300 enzyme reactions in the human body, including the metabolism of food, \u001b[0m\n",
       "\u001b[32msynthesis of fatty acids and proteins, and the transmission of nerve impulses.'\u001b[0m, \u001b[32m'skill_0'\u001b[0m: \u001b[32m'Minerals'\u001b[0m\u001b[1m}\u001b[0m\n"
      ]
     },
     "metadata": {},
     "output_type": "display_data"
    },
    {
     "name": "stderr",
     "output_type": "stream",
     "text": [
      "100%|██████████| 3/3 [00:56<00:00, 18.76s/it]\n"
     ]
    },
    {
     "data": {
      "text/html": [
       "<pre style=\"white-space:pre;overflow-x:auto;line-height:normal;font-family:Menlo,'DejaVu Sans Mono',consolas,'Courier New',monospace\">\n",
       "\n",
       "=&gt; Iteration #<span style=\"color: #008080; text-decoration-color: #008080; font-weight: bold\">0</span>: Comparing to ground truth, analyzing and improving <span style=\"color: #808000; text-decoration-color: #808000\">...</span>\n",
       "</pre>\n"
      ],
      "text/plain": [
       "\n",
       "\n",
       "=> Iteration #\u001b[1;36m0\u001b[0m: Comparing to ground truth, analyzing and improving \u001b[33m...\u001b[0m\n"
      ]
     },
     "metadata": {},
     "output_type": "display_data"
    },
    {
     "data": {
      "text/html": [
       "<pre style=\"white-space:pre;overflow-x:auto;line-height:normal;font-family:Menlo,'DejaVu Sans Mono',consolas,'Courier New',monospace\"><span style=\"color: #008080; text-decoration-color: #008080; font-weight: bold\">0</span>      Carbohydrates, Proteins, Fats\n",
       "<span style=\"color: #008080; text-decoration-color: #008080; font-weight: bold\">1</span>    Vitamin A, Vitamin C, Vitamin D\n",
       "<span style=\"color: #008080; text-decoration-color: #008080; font-weight: bold\">2</span>           Calcium, Iron, Magnesium\n",
       "Name: entities, dtype: object\n",
       "</pre>\n"
      ],
      "text/plain": [
       "\u001b[1;36m0\u001b[0m      Carbohydrates, Proteins, Fats\n",
       "\u001b[1;36m1\u001b[0m    Vitamin A, Vitamin C, Vitamin D\n",
       "\u001b[1;36m2\u001b[0m           Calcium, Iron, Magnesium\n",
       "Name: entities, dtype: object\n"
      ]
     },
     "metadata": {},
     "output_type": "display_data"
    },
    {
     "data": {
      "text/html": [
       "<pre style=\"white-space:pre;overflow-x:auto;line-height:normal;font-family:Menlo,'DejaVu Sans Mono',consolas,'Courier New',monospace\"><span style=\"color: #008080; text-decoration-color: #008080; font-weight: bold\">0</span>    Macronutrients\n",
       "<span style=\"color: #008080; text-decoration-color: #008080; font-weight: bold\">1</span>          Vitamins\n",
       "<span style=\"color: #008080; text-decoration-color: #008080; font-weight: bold\">2</span>          Minerals\n",
       "Name: skill_0, dtype: object\n",
       "</pre>\n"
      ],
      "text/plain": [
       "\u001b[1;36m0\u001b[0m    Macronutrients\n",
       "\u001b[1;36m1\u001b[0m          Vitamins\n",
       "\u001b[1;36m2\u001b[0m          Minerals\n",
       "Name: skill_0, dtype: object\n"
      ]
     },
     "metadata": {},
     "output_type": "display_data"
    },
    {
     "data": {
      "text/html": [
       "<pre style=\"white-space:pre;overflow-x:auto;line-height:normal;font-family:Menlo,'DejaVu Sans Mono',consolas,'Courier New',monospace\"><span style=\"color: #008080; text-decoration-color: #008080; font-weight: bold\">0</span>    Carbohydrates provide quick energy, proteins a<span style=\"color: #808000; text-decoration-color: #808000\">...</span>\n",
       "<span style=\"color: #008080; text-decoration-color: #008080; font-weight: bold\">1</span>    Vitamin A is crucial for good vision and a hea<span style=\"color: #808000; text-decoration-color: #808000\">...</span>\n",
       "<span style=\"color: #008080; text-decoration-color: #008080; font-weight: bold\">2</span>    Calcium is necessary for maintaining healthy b<span style=\"color: #808000; text-decoration-color: #808000\">...</span>\n",
       "Name: text, dtype: object\n",
       "</pre>\n"
      ],
      "text/plain": [
       "\u001b[1;36m0\u001b[0m    Carbohydrates provide quick energy, proteins a\u001b[33m...\u001b[0m\n",
       "\u001b[1;36m1\u001b[0m    Vitamin A is crucial for good vision and a hea\u001b[33m...\u001b[0m\n",
       "\u001b[1;36m2\u001b[0m    Calcium is necessary for maintaining healthy b\u001b[33m...\u001b[0m\n",
       "Name: text, dtype: object\n"
      ]
     },
     "metadata": {},
     "output_type": "display_data"
    },
    {
     "data": {
      "text/html": [
       "<pre style=\"white-space:pre;overflow-x:auto;line-height:normal;font-family:Menlo,'DejaVu Sans Mono',consolas,'Courier New',monospace\"><span style=\"color: #008080; text-decoration-color: #008080; font-weight: bold\">0</span>    Macronutrients are the three main nutrients th<span style=\"color: #808000; text-decoration-color: #808000\">...</span>\n",
       "<span style=\"color: #008080; text-decoration-color: #008080; font-weight: bold\">1</span>    Vitamins are organic compounds that are essent<span style=\"color: #808000; text-decoration-color: #808000\">...</span>\n",
       "<span style=\"color: #008080; text-decoration-color: #008080; font-weight: bold\">2</span>    Minerals are naturally occurring substances th<span style=\"color: #808000; text-decoration-color: #808000\">...</span>\n",
       "Name: skill_1, dtype: object\n",
       "</pre>\n"
      ],
      "text/plain": [
       "\u001b[1;36m0\u001b[0m    Macronutrients are the three main nutrients th\u001b[33m...\u001b[0m\n",
       "\u001b[1;36m1\u001b[0m    Vitamins are organic compounds that are essent\u001b[33m...\u001b[0m\n",
       "\u001b[1;36m2\u001b[0m    Minerals are naturally occurring substances th\u001b[33m...\u001b[0m\n",
       "Name: skill_1, dtype: object\n"
      ]
     },
     "metadata": {},
     "output_type": "display_data"
    },
    {
     "data": {
      "text/html": [
       "<pre style=\"white-space:pre;overflow-x:auto;line-height:normal;font-family:Menlo,'DejaVu Sans Mono',consolas,'Courier New',monospace\">Comparing predictions to ground truth data <span style=\"color: #808000; text-decoration-color: #808000\">...</span>\n",
       "</pre>\n"
      ],
      "text/plain": [
       "Comparing predictions to ground truth data \u001b[33m...\u001b[0m\n"
      ]
     },
     "metadata": {},
     "output_type": "display_data"
    },
    {
     "data": {
      "text/html": [
       "<pre style=\"white-space:pre;overflow-x:auto;line-height:normal;font-family:Menlo,'DejaVu Sans Mono',consolas,'Courier New',monospace\">                                                                                                                   \n",
       " <span style=\"color: #800080; text-decoration-color: #800080; font-weight: bold\"> category       </span> <span style=\"color: #800080; text-decoration-color: #800080; font-weight: bold\"> entities          </span> <span style=\"color: #800080; text-decoration-color: #800080; font-weight: bold\"> text              </span> <span style=\"color: #800080; text-decoration-color: #800080; font-weight: bold\"> skill_0        </span> <span style=\"color: #800080; text-decoration-color: #800080; font-weight: bold\"> skill_1           </span> <span style=\"color: #800080; text-decoration-color: #800080; font-weight: bold\"> skill_0 </span> <span style=\"color: #800080; text-decoration-color: #800080; font-weight: bold\"> skill_1 </span> \n",
       " ───────────────────────────────────────────────────────────────────────────────────────────────────────────────── \n",
       "  Macronutrients   Carbohydrates,      Carbohydrates       Macronutrients   Macronutrients      False     False    \n",
       "                   Proteins, Fats      provide quick                        are the three                          \n",
       "                                       energy, proteins                     main nutrients                         \n",
       "                                       are essential for                    that provide                           \n",
       "                                       muscle repair and                    energy to the                          \n",
       "                                       growth, and fats                     body:                                  \n",
       "                                       are vital for                        carbohydrates,                         \n",
       "                                       long-term energy                     proteins, and                          \n",
       "                                       storage and cell                     fats.                                  \n",
       "                                       function.                            Carbohydrates are                      \n",
       "                                                                            the body's main                        \n",
       "                                                                            source of energy                       \n",
       "                                                                            and can be found                       \n",
       "                                                                            in foods like                          \n",
       "                                                                            bread, pasta, and                      \n",
       "                                                                            fruits. Proteins                       \n",
       "                                                                            are essential for                      \n",
       "                                                                            building and                           \n",
       "                                                                            repairing tissues                      \n",
       "                                                                            and can be found                       \n",
       "                                                                            in foods like                          \n",
       "                                                                            meat, fish, and                        \n",
       "                                                                            beans. Fats are a                      \n",
       "                                                                            concentrated                           \n",
       "                                                                            source of energy                       \n",
       "                                                                            and can be found                       \n",
       "                                                                            in foods like                          \n",
       "                                                                            oils, butter, and                      \n",
       "                                                                            nuts. Balancing                        \n",
       "                                                                            these                                  \n",
       "                                                                            macronutrients is                      \n",
       "                                                                            important for                          \n",
       "                                                                            maintaining a                          \n",
       "                                                                            healthy diet.                          \n",
       " <span style=\"color: #7f7f7f; text-decoration-color: #7f7f7f\"> Vitamins       </span> <span style=\"color: #7f7f7f; text-decoration-color: #7f7f7f\"> Vitamin A,        </span> <span style=\"color: #7f7f7f; text-decoration-color: #7f7f7f\"> Vitamin A is      </span> <span style=\"color: #7f7f7f; text-decoration-color: #7f7f7f\"> Vitamins       </span> <span style=\"color: #7f7f7f; text-decoration-color: #7f7f7f\"> Vitamins are      </span> <span style=\"color: #7f7f7f; text-decoration-color: #7f7f7f\"> False   </span> <span style=\"color: #7f7f7f; text-decoration-color: #7f7f7f\"> False   </span> \n",
       " <span style=\"color: #7f7f7f; text-decoration-color: #7f7f7f\">                </span> <span style=\"color: #7f7f7f; text-decoration-color: #7f7f7f\"> Vitamin C,        </span> <span style=\"color: #7f7f7f; text-decoration-color: #7f7f7f\"> crucial for good  </span> <span style=\"color: #7f7f7f; text-decoration-color: #7f7f7f\">                </span> <span style=\"color: #7f7f7f; text-decoration-color: #7f7f7f\"> organic compounds </span> <span style=\"color: #7f7f7f; text-decoration-color: #7f7f7f\">         </span> <span style=\"color: #7f7f7f; text-decoration-color: #7f7f7f\">         </span> \n",
       " <span style=\"color: #7f7f7f; text-decoration-color: #7f7f7f\">                </span> <span style=\"color: #7f7f7f; text-decoration-color: #7f7f7f\"> Vitamin D         </span> <span style=\"color: #7f7f7f; text-decoration-color: #7f7f7f\"> vision and a      </span> <span style=\"color: #7f7f7f; text-decoration-color: #7f7f7f\">                </span> <span style=\"color: #7f7f7f; text-decoration-color: #7f7f7f\"> that are          </span> <span style=\"color: #7f7f7f; text-decoration-color: #7f7f7f\">         </span> <span style=\"color: #7f7f7f; text-decoration-color: #7f7f7f\">         </span> \n",
       " <span style=\"color: #7f7f7f; text-decoration-color: #7f7f7f\">                </span> <span style=\"color: #7f7f7f; text-decoration-color: #7f7f7f\">                   </span> <span style=\"color: #7f7f7f; text-decoration-color: #7f7f7f\"> healthy immune    </span> <span style=\"color: #7f7f7f; text-decoration-color: #7f7f7f\">                </span> <span style=\"color: #7f7f7f; text-decoration-color: #7f7f7f\"> essential for the </span> <span style=\"color: #7f7f7f; text-decoration-color: #7f7f7f\">         </span> <span style=\"color: #7f7f7f; text-decoration-color: #7f7f7f\">         </span> \n",
       " <span style=\"color: #7f7f7f; text-decoration-color: #7f7f7f\">                </span> <span style=\"color: #7f7f7f; text-decoration-color: #7f7f7f\">                   </span> <span style=\"color: #7f7f7f; text-decoration-color: #7f7f7f\"> system, Vitamin C </span> <span style=\"color: #7f7f7f; text-decoration-color: #7f7f7f\">                </span> <span style=\"color: #7f7f7f; text-decoration-color: #7f7f7f\"> proper            </span> <span style=\"color: #7f7f7f; text-decoration-color: #7f7f7f\">         </span> <span style=\"color: #7f7f7f; text-decoration-color: #7f7f7f\">         </span> \n",
       " <span style=\"color: #7f7f7f; text-decoration-color: #7f7f7f\">                </span> <span style=\"color: #7f7f7f; text-decoration-color: #7f7f7f\">                   </span> <span style=\"color: #7f7f7f; text-decoration-color: #7f7f7f\"> helps in the      </span> <span style=\"color: #7f7f7f; text-decoration-color: #7f7f7f\">                </span> <span style=\"color: #7f7f7f; text-decoration-color: #7f7f7f\"> functioning of    </span> <span style=\"color: #7f7f7f; text-decoration-color: #7f7f7f\">         </span> <span style=\"color: #7f7f7f; text-decoration-color: #7f7f7f\">         </span> \n",
       " <span style=\"color: #7f7f7f; text-decoration-color: #7f7f7f\">                </span> <span style=\"color: #7f7f7f; text-decoration-color: #7f7f7f\">                   </span> <span style=\"color: #7f7f7f; text-decoration-color: #7f7f7f\"> repair of tissues </span> <span style=\"color: #7f7f7f; text-decoration-color: #7f7f7f\">                </span> <span style=\"color: #7f7f7f; text-decoration-color: #7f7f7f\"> the body. They    </span> <span style=\"color: #7f7f7f; text-decoration-color: #7f7f7f\">         </span> <span style=\"color: #7f7f7f; text-decoration-color: #7f7f7f\">         </span> \n",
       " <span style=\"color: #7f7f7f; text-decoration-color: #7f7f7f\">                </span> <span style=\"color: #7f7f7f; text-decoration-color: #7f7f7f\">                   </span> <span style=\"color: #7f7f7f; text-decoration-color: #7f7f7f\"> and the enzymatic </span> <span style=\"color: #7f7f7f; text-decoration-color: #7f7f7f\">                </span> <span style=\"color: #7f7f7f; text-decoration-color: #7f7f7f\"> are               </span> <span style=\"color: #7f7f7f; text-decoration-color: #7f7f7f\">         </span> <span style=\"color: #7f7f7f; text-decoration-color: #7f7f7f\">         </span> \n",
       " <span style=\"color: #7f7f7f; text-decoration-color: #7f7f7f\">                </span> <span style=\"color: #7f7f7f; text-decoration-color: #7f7f7f\">                   </span> <span style=\"color: #7f7f7f; text-decoration-color: #7f7f7f\"> production of     </span> <span style=\"color: #7f7f7f; text-decoration-color: #7f7f7f\">                </span> <span style=\"color: #7f7f7f; text-decoration-color: #7f7f7f\"> micronutrients    </span> <span style=\"color: #7f7f7f; text-decoration-color: #7f7f7f\">         </span> <span style=\"color: #7f7f7f; text-decoration-color: #7f7f7f\">         </span> \n",
       " <span style=\"color: #7f7f7f; text-decoration-color: #7f7f7f\">                </span> <span style=\"color: #7f7f7f; text-decoration-color: #7f7f7f\">                   </span> <span style=\"color: #7f7f7f; text-decoration-color: #7f7f7f\"> certain           </span> <span style=\"color: #7f7f7f; text-decoration-color: #7f7f7f\">                </span> <span style=\"color: #7f7f7f; text-decoration-color: #7f7f7f\"> that are required </span> <span style=\"color: #7f7f7f; text-decoration-color: #7f7f7f\">         </span> <span style=\"color: #7f7f7f; text-decoration-color: #7f7f7f\">         </span> \n",
       " <span style=\"color: #7f7f7f; text-decoration-color: #7f7f7f\">                </span> <span style=\"color: #7f7f7f; text-decoration-color: #7f7f7f\">                   </span> <span style=\"color: #7f7f7f; text-decoration-color: #7f7f7f\"> neurotransmitter… </span> <span style=\"color: #7f7f7f; text-decoration-color: #7f7f7f\">                </span> <span style=\"color: #7f7f7f; text-decoration-color: #7f7f7f\"> in small amounts  </span> <span style=\"color: #7f7f7f; text-decoration-color: #7f7f7f\">         </span> <span style=\"color: #7f7f7f; text-decoration-color: #7f7f7f\">         </span> \n",
       " <span style=\"color: #7f7f7f; text-decoration-color: #7f7f7f\">                </span> <span style=\"color: #7f7f7f; text-decoration-color: #7f7f7f\">                   </span> <span style=\"color: #7f7f7f; text-decoration-color: #7f7f7f\"> and Vitamin D is  </span> <span style=\"color: #7f7f7f; text-decoration-color: #7f7f7f\">                </span> <span style=\"color: #7f7f7f; text-decoration-color: #7f7f7f\"> and play a        </span> <span style=\"color: #7f7f7f; text-decoration-color: #7f7f7f\">         </span> <span style=\"color: #7f7f7f; text-decoration-color: #7f7f7f\">         </span> \n",
       " <span style=\"color: #7f7f7f; text-decoration-color: #7f7f7f\">                </span> <span style=\"color: #7f7f7f; text-decoration-color: #7f7f7f\">                   </span> <span style=\"color: #7f7f7f; text-decoration-color: #7f7f7f\"> essential for     </span> <span style=\"color: #7f7f7f; text-decoration-color: #7f7f7f\">                </span> <span style=\"color: #7f7f7f; text-decoration-color: #7f7f7f\"> crucial role in   </span> <span style=\"color: #7f7f7f; text-decoration-color: #7f7f7f\">         </span> <span style=\"color: #7f7f7f; text-decoration-color: #7f7f7f\">         </span> \n",
       " <span style=\"color: #7f7f7f; text-decoration-color: #7f7f7f\">                </span> <span style=\"color: #7f7f7f; text-decoration-color: #7f7f7f\">                   </span> <span style=\"color: #7f7f7f; text-decoration-color: #7f7f7f\"> strong bones and  </span> <span style=\"color: #7f7f7f; text-decoration-color: #7f7f7f\">                </span> <span style=\"color: #7f7f7f; text-decoration-color: #7f7f7f\"> various           </span> <span style=\"color: #7f7f7f; text-decoration-color: #7f7f7f\">         </span> <span style=\"color: #7f7f7f; text-decoration-color: #7f7f7f\">         </span> \n",
       " <span style=\"color: #7f7f7f; text-decoration-color: #7f7f7f\">                </span> <span style=\"color: #7f7f7f; text-decoration-color: #7f7f7f\">                   </span> <span style=\"color: #7f7f7f; text-decoration-color: #7f7f7f\"> teeth as it helps </span> <span style=\"color: #7f7f7f; text-decoration-color: #7f7f7f\">                </span> <span style=\"color: #7f7f7f; text-decoration-color: #7f7f7f\"> physiological     </span> <span style=\"color: #7f7f7f; text-decoration-color: #7f7f7f\">         </span> <span style=\"color: #7f7f7f; text-decoration-color: #7f7f7f\">         </span> \n",
       " <span style=\"color: #7f7f7f; text-decoration-color: #7f7f7f\">                </span> <span style=\"color: #7f7f7f; text-decoration-color: #7f7f7f\">                   </span> <span style=\"color: #7f7f7f; text-decoration-color: #7f7f7f\"> the body absorb   </span> <span style=\"color: #7f7f7f; text-decoration-color: #7f7f7f\">                </span> <span style=\"color: #7f7f7f; text-decoration-color: #7f7f7f\"> processes. There  </span> <span style=\"color: #7f7f7f; text-decoration-color: #7f7f7f\">         </span> <span style=\"color: #7f7f7f; text-decoration-color: #7f7f7f\">         </span> \n",
       " <span style=\"color: #7f7f7f; text-decoration-color: #7f7f7f\">                </span> <span style=\"color: #7f7f7f; text-decoration-color: #7f7f7f\">                   </span> <span style=\"color: #7f7f7f; text-decoration-color: #7f7f7f\"> calcium.          </span> <span style=\"color: #7f7f7f; text-decoration-color: #7f7f7f\">                </span> <span style=\"color: #7f7f7f; text-decoration-color: #7f7f7f\"> are 13 essential  </span> <span style=\"color: #7f7f7f; text-decoration-color: #7f7f7f\">         </span> <span style=\"color: #7f7f7f; text-decoration-color: #7f7f7f\">         </span> \n",
       " <span style=\"color: #7f7f7f; text-decoration-color: #7f7f7f\">                </span> <span style=\"color: #7f7f7f; text-decoration-color: #7f7f7f\">                   </span> <span style=\"color: #7f7f7f; text-decoration-color: #7f7f7f\">                   </span> <span style=\"color: #7f7f7f; text-decoration-color: #7f7f7f\">                </span> <span style=\"color: #7f7f7f; text-decoration-color: #7f7f7f\"> vitamins,         </span> <span style=\"color: #7f7f7f; text-decoration-color: #7f7f7f\">         </span> <span style=\"color: #7f7f7f; text-decoration-color: #7f7f7f\">         </span> \n",
       " <span style=\"color: #7f7f7f; text-decoration-color: #7f7f7f\">                </span> <span style=\"color: #7f7f7f; text-decoration-color: #7f7f7f\">                   </span> <span style=\"color: #7f7f7f; text-decoration-color: #7f7f7f\">                   </span> <span style=\"color: #7f7f7f; text-decoration-color: #7f7f7f\">                </span> <span style=\"color: #7f7f7f; text-decoration-color: #7f7f7f\"> including vitamin </span> <span style=\"color: #7f7f7f; text-decoration-color: #7f7f7f\">         </span> <span style=\"color: #7f7f7f; text-decoration-color: #7f7f7f\">         </span> \n",
       " <span style=\"color: #7f7f7f; text-decoration-color: #7f7f7f\">                </span> <span style=\"color: #7f7f7f; text-decoration-color: #7f7f7f\">                   </span> <span style=\"color: #7f7f7f; text-decoration-color: #7f7f7f\">                   </span> <span style=\"color: #7f7f7f; text-decoration-color: #7f7f7f\">                </span> <span style=\"color: #7f7f7f; text-decoration-color: #7f7f7f\"> A, B vitamins,    </span> <span style=\"color: #7f7f7f; text-decoration-color: #7f7f7f\">         </span> <span style=\"color: #7f7f7f; text-decoration-color: #7f7f7f\">         </span> \n",
       " <span style=\"color: #7f7f7f; text-decoration-color: #7f7f7f\">                </span> <span style=\"color: #7f7f7f; text-decoration-color: #7f7f7f\">                   </span> <span style=\"color: #7f7f7f; text-decoration-color: #7f7f7f\">                   </span> <span style=\"color: #7f7f7f; text-decoration-color: #7f7f7f\">                </span> <span style=\"color: #7f7f7f; text-decoration-color: #7f7f7f\"> vitamin C,        </span> <span style=\"color: #7f7f7f; text-decoration-color: #7f7f7f\">         </span> <span style=\"color: #7f7f7f; text-decoration-color: #7f7f7f\">         </span> \n",
       " <span style=\"color: #7f7f7f; text-decoration-color: #7f7f7f\">                </span> <span style=\"color: #7f7f7f; text-decoration-color: #7f7f7f\">                   </span> <span style=\"color: #7f7f7f; text-decoration-color: #7f7f7f\">                   </span> <span style=\"color: #7f7f7f; text-decoration-color: #7f7f7f\">                </span> <span style=\"color: #7f7f7f; text-decoration-color: #7f7f7f\"> vitamin D,        </span> <span style=\"color: #7f7f7f; text-decoration-color: #7f7f7f\">         </span> <span style=\"color: #7f7f7f; text-decoration-color: #7f7f7f\">         </span> \n",
       " <span style=\"color: #7f7f7f; text-decoration-color: #7f7f7f\">                </span> <span style=\"color: #7f7f7f; text-decoration-color: #7f7f7f\">                   </span> <span style=\"color: #7f7f7f; text-decoration-color: #7f7f7f\">                   </span> <span style=\"color: #7f7f7f; text-decoration-color: #7f7f7f\">                </span> <span style=\"color: #7f7f7f; text-decoration-color: #7f7f7f\"> vitamin E, and    </span> <span style=\"color: #7f7f7f; text-decoration-color: #7f7f7f\">         </span> <span style=\"color: #7f7f7f; text-decoration-color: #7f7f7f\">         </span> \n",
       " <span style=\"color: #7f7f7f; text-decoration-color: #7f7f7f\">                </span> <span style=\"color: #7f7f7f; text-decoration-color: #7f7f7f\">                   </span> <span style=\"color: #7f7f7f; text-decoration-color: #7f7f7f\">                   </span> <span style=\"color: #7f7f7f; text-decoration-color: #7f7f7f\">                </span> <span style=\"color: #7f7f7f; text-decoration-color: #7f7f7f\"> vitamin K. Each   </span> <span style=\"color: #7f7f7f; text-decoration-color: #7f7f7f\">         </span> <span style=\"color: #7f7f7f; text-decoration-color: #7f7f7f\">         </span> \n",
       " <span style=\"color: #7f7f7f; text-decoration-color: #7f7f7f\">                </span> <span style=\"color: #7f7f7f; text-decoration-color: #7f7f7f\">                   </span> <span style=\"color: #7f7f7f; text-decoration-color: #7f7f7f\">                   </span> <span style=\"color: #7f7f7f; text-decoration-color: #7f7f7f\">                </span> <span style=\"color: #7f7f7f; text-decoration-color: #7f7f7f\"> vitamin has       </span> <span style=\"color: #7f7f7f; text-decoration-color: #7f7f7f\">         </span> <span style=\"color: #7f7f7f; text-decoration-color: #7f7f7f\">         </span> \n",
       " <span style=\"color: #7f7f7f; text-decoration-color: #7f7f7f\">                </span> <span style=\"color: #7f7f7f; text-decoration-color: #7f7f7f\">                   </span> <span style=\"color: #7f7f7f; text-decoration-color: #7f7f7f\">                   </span> <span style=\"color: #7f7f7f; text-decoration-color: #7f7f7f\">                </span> <span style=\"color: #7f7f7f; text-decoration-color: #7f7f7f\"> specific          </span> <span style=\"color: #7f7f7f; text-decoration-color: #7f7f7f\">         </span> <span style=\"color: #7f7f7f; text-decoration-color: #7f7f7f\">         </span> \n",
       " <span style=\"color: #7f7f7f; text-decoration-color: #7f7f7f\">                </span> <span style=\"color: #7f7f7f; text-decoration-color: #7f7f7f\">                   </span> <span style=\"color: #7f7f7f; text-decoration-color: #7f7f7f\">                   </span> <span style=\"color: #7f7f7f; text-decoration-color: #7f7f7f\">                </span> <span style=\"color: #7f7f7f; text-decoration-color: #7f7f7f\"> functions and     </span> <span style=\"color: #7f7f7f; text-decoration-color: #7f7f7f\">         </span> <span style=\"color: #7f7f7f; text-decoration-color: #7f7f7f\">         </span> \n",
       " <span style=\"color: #7f7f7f; text-decoration-color: #7f7f7f\">                </span> <span style=\"color: #7f7f7f; text-decoration-color: #7f7f7f\">                   </span> <span style=\"color: #7f7f7f; text-decoration-color: #7f7f7f\">                   </span> <span style=\"color: #7f7f7f; text-decoration-color: #7f7f7f\">                </span> <span style=\"color: #7f7f7f; text-decoration-color: #7f7f7f\"> benefits for the  </span> <span style=\"color: #7f7f7f; text-decoration-color: #7f7f7f\">         </span> <span style=\"color: #7f7f7f; text-decoration-color: #7f7f7f\">         </span> \n",
       " <span style=\"color: #7f7f7f; text-decoration-color: #7f7f7f\">                </span> <span style=\"color: #7f7f7f; text-decoration-color: #7f7f7f\">                   </span> <span style=\"color: #7f7f7f; text-decoration-color: #7f7f7f\">                   </span> <span style=\"color: #7f7f7f; text-decoration-color: #7f7f7f\">                </span> <span style=\"color: #7f7f7f; text-decoration-color: #7f7f7f\"> body. They are    </span> <span style=\"color: #7f7f7f; text-decoration-color: #7f7f7f\">         </span> <span style=\"color: #7f7f7f; text-decoration-color: #7f7f7f\">         </span> \n",
       " <span style=\"color: #7f7f7f; text-decoration-color: #7f7f7f\">                </span> <span style=\"color: #7f7f7f; text-decoration-color: #7f7f7f\">                   </span> <span style=\"color: #7f7f7f; text-decoration-color: #7f7f7f\">                   </span> <span style=\"color: #7f7f7f; text-decoration-color: #7f7f7f\">                </span> <span style=\"color: #7f7f7f; text-decoration-color: #7f7f7f\"> found in various  </span> <span style=\"color: #7f7f7f; text-decoration-color: #7f7f7f\">         </span> <span style=\"color: #7f7f7f; text-decoration-color: #7f7f7f\">         </span> \n",
       " <span style=\"color: #7f7f7f; text-decoration-color: #7f7f7f\">                </span> <span style=\"color: #7f7f7f; text-decoration-color: #7f7f7f\">                   </span> <span style=\"color: #7f7f7f; text-decoration-color: #7f7f7f\">                   </span> <span style=\"color: #7f7f7f; text-decoration-color: #7f7f7f\">                </span> <span style=\"color: #7f7f7f; text-decoration-color: #7f7f7f\"> foods, including  </span> <span style=\"color: #7f7f7f; text-decoration-color: #7f7f7f\">         </span> <span style=\"color: #7f7f7f; text-decoration-color: #7f7f7f\">         </span> \n",
       " <span style=\"color: #7f7f7f; text-decoration-color: #7f7f7f\">                </span> <span style=\"color: #7f7f7f; text-decoration-color: #7f7f7f\">                   </span> <span style=\"color: #7f7f7f; text-decoration-color: #7f7f7f\">                   </span> <span style=\"color: #7f7f7f; text-decoration-color: #7f7f7f\">                </span> <span style=\"color: #7f7f7f; text-decoration-color: #7f7f7f\"> fruits,           </span> <span style=\"color: #7f7f7f; text-decoration-color: #7f7f7f\">         </span> <span style=\"color: #7f7f7f; text-decoration-color: #7f7f7f\">         </span> \n",
       " <span style=\"color: #7f7f7f; text-decoration-color: #7f7f7f\">                </span> <span style=\"color: #7f7f7f; text-decoration-color: #7f7f7f\">                   </span> <span style=\"color: #7f7f7f; text-decoration-color: #7f7f7f\">                   </span> <span style=\"color: #7f7f7f; text-decoration-color: #7f7f7f\">                </span> <span style=\"color: #7f7f7f; text-decoration-color: #7f7f7f\"> vegetables, dairy </span> <span style=\"color: #7f7f7f; text-decoration-color: #7f7f7f\">         </span> <span style=\"color: #7f7f7f; text-decoration-color: #7f7f7f\">         </span> \n",
       " <span style=\"color: #7f7f7f; text-decoration-color: #7f7f7f\">                </span> <span style=\"color: #7f7f7f; text-decoration-color: #7f7f7f\">                   </span> <span style=\"color: #7f7f7f; text-decoration-color: #7f7f7f\">                   </span> <span style=\"color: #7f7f7f; text-decoration-color: #7f7f7f\">                </span> <span style=\"color: #7f7f7f; text-decoration-color: #7f7f7f\"> products, and     </span> <span style=\"color: #7f7f7f; text-decoration-color: #7f7f7f\">         </span> <span style=\"color: #7f7f7f; text-decoration-color: #7f7f7f\">         </span> \n",
       " <span style=\"color: #7f7f7f; text-decoration-color: #7f7f7f\">                </span> <span style=\"color: #7f7f7f; text-decoration-color: #7f7f7f\">                   </span> <span style=\"color: #7f7f7f; text-decoration-color: #7f7f7f\">                   </span> <span style=\"color: #7f7f7f; text-decoration-color: #7f7f7f\">                </span> <span style=\"color: #7f7f7f; text-decoration-color: #7f7f7f\"> meats. It is      </span> <span style=\"color: #7f7f7f; text-decoration-color: #7f7f7f\">         </span> <span style=\"color: #7f7f7f; text-decoration-color: #7f7f7f\">         </span> \n",
       " <span style=\"color: #7f7f7f; text-decoration-color: #7f7f7f\">                </span> <span style=\"color: #7f7f7f; text-decoration-color: #7f7f7f\">                   </span> <span style=\"color: #7f7f7f; text-decoration-color: #7f7f7f\">                   </span> <span style=\"color: #7f7f7f; text-decoration-color: #7f7f7f\">                </span> <span style=\"color: #7f7f7f; text-decoration-color: #7f7f7f\"> important to      </span> <span style=\"color: #7f7f7f; text-decoration-color: #7f7f7f\">         </span> <span style=\"color: #7f7f7f; text-decoration-color: #7f7f7f\">         </span> \n",
       " <span style=\"color: #7f7f7f; text-decoration-color: #7f7f7f\">                </span> <span style=\"color: #7f7f7f; text-decoration-color: #7f7f7f\">                   </span> <span style=\"color: #7f7f7f; text-decoration-color: #7f7f7f\">                   </span> <span style=\"color: #7f7f7f; text-decoration-color: #7f7f7f\">                </span> <span style=\"color: #7f7f7f; text-decoration-color: #7f7f7f\"> maintain a        </span> <span style=\"color: #7f7f7f; text-decoration-color: #7f7f7f\">         </span> <span style=\"color: #7f7f7f; text-decoration-color: #7f7f7f\">         </span> \n",
       " <span style=\"color: #7f7f7f; text-decoration-color: #7f7f7f\">                </span> <span style=\"color: #7f7f7f; text-decoration-color: #7f7f7f\">                   </span> <span style=\"color: #7f7f7f; text-decoration-color: #7f7f7f\">                   </span> <span style=\"color: #7f7f7f; text-decoration-color: #7f7f7f\">                </span> <span style=\"color: #7f7f7f; text-decoration-color: #7f7f7f\"> balanced diet to  </span> <span style=\"color: #7f7f7f; text-decoration-color: #7f7f7f\">         </span> <span style=\"color: #7f7f7f; text-decoration-color: #7f7f7f\">         </span> \n",
       " <span style=\"color: #7f7f7f; text-decoration-color: #7f7f7f\">                </span> <span style=\"color: #7f7f7f; text-decoration-color: #7f7f7f\">                   </span> <span style=\"color: #7f7f7f; text-decoration-color: #7f7f7f\">                   </span> <span style=\"color: #7f7f7f; text-decoration-color: #7f7f7f\">                </span> <span style=\"color: #7f7f7f; text-decoration-color: #7f7f7f\"> ensure an         </span> <span style=\"color: #7f7f7f; text-decoration-color: #7f7f7f\">         </span> <span style=\"color: #7f7f7f; text-decoration-color: #7f7f7f\">         </span> \n",
       " <span style=\"color: #7f7f7f; text-decoration-color: #7f7f7f\">                </span> <span style=\"color: #7f7f7f; text-decoration-color: #7f7f7f\">                   </span> <span style=\"color: #7f7f7f; text-decoration-color: #7f7f7f\">                   </span> <span style=\"color: #7f7f7f; text-decoration-color: #7f7f7f\">                </span> <span style=\"color: #7f7f7f; text-decoration-color: #7f7f7f\"> adequate intake   </span> <span style=\"color: #7f7f7f; text-decoration-color: #7f7f7f\">         </span> <span style=\"color: #7f7f7f; text-decoration-color: #7f7f7f\">         </span> \n",
       " <span style=\"color: #7f7f7f; text-decoration-color: #7f7f7f\">                </span> <span style=\"color: #7f7f7f; text-decoration-color: #7f7f7f\">                   </span> <span style=\"color: #7f7f7f; text-decoration-color: #7f7f7f\">                   </span> <span style=\"color: #7f7f7f; text-decoration-color: #7f7f7f\">                </span> <span style=\"color: #7f7f7f; text-decoration-color: #7f7f7f\"> of vitamins.      </span> <span style=\"color: #7f7f7f; text-decoration-color: #7f7f7f\">         </span> <span style=\"color: #7f7f7f; text-decoration-color: #7f7f7f\">         </span> \n",
       "  Minerals         Calcium, Iron,      Calcium is          Minerals         Minerals are        False     False    \n",
       "                   Magnesium           necessary for                        naturally                              \n",
       "                                       maintaining                          occurring                              \n",
       "                                       healthy bones and                    substances that                        \n",
       "                                       teeth, Iron is                       are solid and                          \n",
       "                                       crucial for                          inorganic. They                        \n",
       "                                       making red blood                     are composed of                        \n",
       "                                       cells and                            atoms arranged in                      \n",
       "                                       transporting                         a specific                             \n",
       "                                       oxygen throughout                    crystalline                            \n",
       "                                       the body, and                        structure.                             \n",
       "                                       Magnesium plays a                    Minerals have a                        \n",
       "                                       role in over 300                     specific chemical                      \n",
       "                                       enzyme reactions                     composition and                        \n",
       "                                       in the human                         physical                               \n",
       "                                       body, including                      properties, such                       \n",
       "                                       the metabolism of                    as hardness,                           \n",
       "                                       food, synthesis                      color, and                             \n",
       "                                       of fatty acids                       luster. They are                       \n",
       "                                       and proteins, and                    found in rocks                         \n",
       "                                       the transmission                     and are essential                      \n",
       "                                       of nerve                             for various                            \n",
       "                                       impulses.                            industrial and                         \n",
       "                                                                            biological                             \n",
       "                                                                            processes.                             \n",
       "                                                                                                                   \n",
       "</pre>\n"
      ],
      "text/plain": [
       "                                                                                                                   \n",
       " \u001b[1;35m \u001b[0m\u001b[1;35mcategory      \u001b[0m\u001b[1;35m \u001b[0m \u001b[1;35m \u001b[0m\u001b[1;35mentities         \u001b[0m\u001b[1;35m \u001b[0m \u001b[1;35m \u001b[0m\u001b[1;35mtext             \u001b[0m\u001b[1;35m \u001b[0m \u001b[1;35m \u001b[0m\u001b[1;35mskill_0       \u001b[0m\u001b[1;35m \u001b[0m \u001b[1;35m \u001b[0m\u001b[1;35mskill_1          \u001b[0m\u001b[1;35m \u001b[0m \u001b[1;35m \u001b[0m\u001b[1;35mskill_0\u001b[0m\u001b[1;35m \u001b[0m \u001b[1;35m \u001b[0m\u001b[1;35mskill_1\u001b[0m\u001b[1;35m \u001b[0m \n",
       " ───────────────────────────────────────────────────────────────────────────────────────────────────────────────── \n",
       "  Macronutrients   Carbohydrates,      Carbohydrates       Macronutrients   Macronutrients      False     False    \n",
       "                   Proteins, Fats      provide quick                        are the three                          \n",
       "                                       energy, proteins                     main nutrients                         \n",
       "                                       are essential for                    that provide                           \n",
       "                                       muscle repair and                    energy to the                          \n",
       "                                       growth, and fats                     body:                                  \n",
       "                                       are vital for                        carbohydrates,                         \n",
       "                                       long-term energy                     proteins, and                          \n",
       "                                       storage and cell                     fats.                                  \n",
       "                                       function.                            Carbohydrates are                      \n",
       "                                                                            the body's main                        \n",
       "                                                                            source of energy                       \n",
       "                                                                            and can be found                       \n",
       "                                                                            in foods like                          \n",
       "                                                                            bread, pasta, and                      \n",
       "                                                                            fruits. Proteins                       \n",
       "                                                                            are essential for                      \n",
       "                                                                            building and                           \n",
       "                                                                            repairing tissues                      \n",
       "                                                                            and can be found                       \n",
       "                                                                            in foods like                          \n",
       "                                                                            meat, fish, and                        \n",
       "                                                                            beans. Fats are a                      \n",
       "                                                                            concentrated                           \n",
       "                                                                            source of energy                       \n",
       "                                                                            and can be found                       \n",
       "                                                                            in foods like                          \n",
       "                                                                            oils, butter, and                      \n",
       "                                                                            nuts. Balancing                        \n",
       "                                                                            these                                  \n",
       "                                                                            macronutrients is                      \n",
       "                                                                            important for                          \n",
       "                                                                            maintaining a                          \n",
       "                                                                            healthy diet.                          \n",
       " \u001b[2m \u001b[0m\u001b[2mVitamins      \u001b[0m\u001b[2m \u001b[0m \u001b[2m \u001b[0m\u001b[2mVitamin A,       \u001b[0m\u001b[2m \u001b[0m \u001b[2m \u001b[0m\u001b[2mVitamin A is     \u001b[0m\u001b[2m \u001b[0m \u001b[2m \u001b[0m\u001b[2mVitamins      \u001b[0m\u001b[2m \u001b[0m \u001b[2m \u001b[0m\u001b[2mVitamins are     \u001b[0m\u001b[2m \u001b[0m \u001b[2m \u001b[0m\u001b[2mFalse  \u001b[0m\u001b[2m \u001b[0m \u001b[2m \u001b[0m\u001b[2mFalse  \u001b[0m\u001b[2m \u001b[0m \n",
       " \u001b[2m                \u001b[0m \u001b[2m \u001b[0m\u001b[2mVitamin C,       \u001b[0m\u001b[2m \u001b[0m \u001b[2m \u001b[0m\u001b[2mcrucial for good \u001b[0m\u001b[2m \u001b[0m \u001b[2m                \u001b[0m \u001b[2m \u001b[0m\u001b[2morganic compounds\u001b[0m\u001b[2m \u001b[0m \u001b[2m         \u001b[0m \u001b[2m         \u001b[0m \n",
       " \u001b[2m                \u001b[0m \u001b[2m \u001b[0m\u001b[2mVitamin D        \u001b[0m\u001b[2m \u001b[0m \u001b[2m \u001b[0m\u001b[2mvision and a     \u001b[0m\u001b[2m \u001b[0m \u001b[2m                \u001b[0m \u001b[2m \u001b[0m\u001b[2mthat are         \u001b[0m\u001b[2m \u001b[0m \u001b[2m         \u001b[0m \u001b[2m         \u001b[0m \n",
       " \u001b[2m                \u001b[0m \u001b[2m                   \u001b[0m \u001b[2m \u001b[0m\u001b[2mhealthy immune   \u001b[0m\u001b[2m \u001b[0m \u001b[2m                \u001b[0m \u001b[2m \u001b[0m\u001b[2messential for the\u001b[0m\u001b[2m \u001b[0m \u001b[2m         \u001b[0m \u001b[2m         \u001b[0m \n",
       " \u001b[2m                \u001b[0m \u001b[2m                   \u001b[0m \u001b[2m \u001b[0m\u001b[2msystem, Vitamin C\u001b[0m\u001b[2m \u001b[0m \u001b[2m                \u001b[0m \u001b[2m \u001b[0m\u001b[2mproper           \u001b[0m\u001b[2m \u001b[0m \u001b[2m         \u001b[0m \u001b[2m         \u001b[0m \n",
       " \u001b[2m                \u001b[0m \u001b[2m                   \u001b[0m \u001b[2m \u001b[0m\u001b[2mhelps in the     \u001b[0m\u001b[2m \u001b[0m \u001b[2m                \u001b[0m \u001b[2m \u001b[0m\u001b[2mfunctioning of   \u001b[0m\u001b[2m \u001b[0m \u001b[2m         \u001b[0m \u001b[2m         \u001b[0m \n",
       " \u001b[2m                \u001b[0m \u001b[2m                   \u001b[0m \u001b[2m \u001b[0m\u001b[2mrepair of tissues\u001b[0m\u001b[2m \u001b[0m \u001b[2m                \u001b[0m \u001b[2m \u001b[0m\u001b[2mthe body. They   \u001b[0m\u001b[2m \u001b[0m \u001b[2m         \u001b[0m \u001b[2m         \u001b[0m \n",
       " \u001b[2m                \u001b[0m \u001b[2m                   \u001b[0m \u001b[2m \u001b[0m\u001b[2mand the enzymatic\u001b[0m\u001b[2m \u001b[0m \u001b[2m                \u001b[0m \u001b[2m \u001b[0m\u001b[2mare              \u001b[0m\u001b[2m \u001b[0m \u001b[2m         \u001b[0m \u001b[2m         \u001b[0m \n",
       " \u001b[2m                \u001b[0m \u001b[2m                   \u001b[0m \u001b[2m \u001b[0m\u001b[2mproduction of    \u001b[0m\u001b[2m \u001b[0m \u001b[2m                \u001b[0m \u001b[2m \u001b[0m\u001b[2mmicronutrients   \u001b[0m\u001b[2m \u001b[0m \u001b[2m         \u001b[0m \u001b[2m         \u001b[0m \n",
       " \u001b[2m                \u001b[0m \u001b[2m                   \u001b[0m \u001b[2m \u001b[0m\u001b[2mcertain          \u001b[0m\u001b[2m \u001b[0m \u001b[2m                \u001b[0m \u001b[2m \u001b[0m\u001b[2mthat are required\u001b[0m\u001b[2m \u001b[0m \u001b[2m         \u001b[0m \u001b[2m         \u001b[0m \n",
       " \u001b[2m                \u001b[0m \u001b[2m                   \u001b[0m \u001b[2m \u001b[0m\u001b[2mneurotransmitter…\u001b[0m\u001b[2m \u001b[0m \u001b[2m                \u001b[0m \u001b[2m \u001b[0m\u001b[2min small amounts \u001b[0m\u001b[2m \u001b[0m \u001b[2m         \u001b[0m \u001b[2m         \u001b[0m \n",
       " \u001b[2m                \u001b[0m \u001b[2m                   \u001b[0m \u001b[2m \u001b[0m\u001b[2mand Vitamin D is \u001b[0m\u001b[2m \u001b[0m \u001b[2m                \u001b[0m \u001b[2m \u001b[0m\u001b[2mand play a       \u001b[0m\u001b[2m \u001b[0m \u001b[2m         \u001b[0m \u001b[2m         \u001b[0m \n",
       " \u001b[2m                \u001b[0m \u001b[2m                   \u001b[0m \u001b[2m \u001b[0m\u001b[2messential for    \u001b[0m\u001b[2m \u001b[0m \u001b[2m                \u001b[0m \u001b[2m \u001b[0m\u001b[2mcrucial role in  \u001b[0m\u001b[2m \u001b[0m \u001b[2m         \u001b[0m \u001b[2m         \u001b[0m \n",
       " \u001b[2m                \u001b[0m \u001b[2m                   \u001b[0m \u001b[2m \u001b[0m\u001b[2mstrong bones and \u001b[0m\u001b[2m \u001b[0m \u001b[2m                \u001b[0m \u001b[2m \u001b[0m\u001b[2mvarious          \u001b[0m\u001b[2m \u001b[0m \u001b[2m         \u001b[0m \u001b[2m         \u001b[0m \n",
       " \u001b[2m                \u001b[0m \u001b[2m                   \u001b[0m \u001b[2m \u001b[0m\u001b[2mteeth as it helps\u001b[0m\u001b[2m \u001b[0m \u001b[2m                \u001b[0m \u001b[2m \u001b[0m\u001b[2mphysiological    \u001b[0m\u001b[2m \u001b[0m \u001b[2m         \u001b[0m \u001b[2m         \u001b[0m \n",
       " \u001b[2m                \u001b[0m \u001b[2m                   \u001b[0m \u001b[2m \u001b[0m\u001b[2mthe body absorb  \u001b[0m\u001b[2m \u001b[0m \u001b[2m                \u001b[0m \u001b[2m \u001b[0m\u001b[2mprocesses. There \u001b[0m\u001b[2m \u001b[0m \u001b[2m         \u001b[0m \u001b[2m         \u001b[0m \n",
       " \u001b[2m                \u001b[0m \u001b[2m                   \u001b[0m \u001b[2m \u001b[0m\u001b[2mcalcium.         \u001b[0m\u001b[2m \u001b[0m \u001b[2m                \u001b[0m \u001b[2m \u001b[0m\u001b[2mare 13 essential \u001b[0m\u001b[2m \u001b[0m \u001b[2m         \u001b[0m \u001b[2m         \u001b[0m \n",
       " \u001b[2m                \u001b[0m \u001b[2m                   \u001b[0m \u001b[2m                   \u001b[0m \u001b[2m                \u001b[0m \u001b[2m \u001b[0m\u001b[2mvitamins,        \u001b[0m\u001b[2m \u001b[0m \u001b[2m         \u001b[0m \u001b[2m         \u001b[0m \n",
       " \u001b[2m                \u001b[0m \u001b[2m                   \u001b[0m \u001b[2m                   \u001b[0m \u001b[2m                \u001b[0m \u001b[2m \u001b[0m\u001b[2mincluding vitamin\u001b[0m\u001b[2m \u001b[0m \u001b[2m         \u001b[0m \u001b[2m         \u001b[0m \n",
       " \u001b[2m                \u001b[0m \u001b[2m                   \u001b[0m \u001b[2m                   \u001b[0m \u001b[2m                \u001b[0m \u001b[2m \u001b[0m\u001b[2mA, B vitamins,   \u001b[0m\u001b[2m \u001b[0m \u001b[2m         \u001b[0m \u001b[2m         \u001b[0m \n",
       " \u001b[2m                \u001b[0m \u001b[2m                   \u001b[0m \u001b[2m                   \u001b[0m \u001b[2m                \u001b[0m \u001b[2m \u001b[0m\u001b[2mvitamin C,       \u001b[0m\u001b[2m \u001b[0m \u001b[2m         \u001b[0m \u001b[2m         \u001b[0m \n",
       " \u001b[2m                \u001b[0m \u001b[2m                   \u001b[0m \u001b[2m                   \u001b[0m \u001b[2m                \u001b[0m \u001b[2m \u001b[0m\u001b[2mvitamin D,       \u001b[0m\u001b[2m \u001b[0m \u001b[2m         \u001b[0m \u001b[2m         \u001b[0m \n",
       " \u001b[2m                \u001b[0m \u001b[2m                   \u001b[0m \u001b[2m                   \u001b[0m \u001b[2m                \u001b[0m \u001b[2m \u001b[0m\u001b[2mvitamin E, and   \u001b[0m\u001b[2m \u001b[0m \u001b[2m         \u001b[0m \u001b[2m         \u001b[0m \n",
       " \u001b[2m                \u001b[0m \u001b[2m                   \u001b[0m \u001b[2m                   \u001b[0m \u001b[2m                \u001b[0m \u001b[2m \u001b[0m\u001b[2mvitamin K. Each  \u001b[0m\u001b[2m \u001b[0m \u001b[2m         \u001b[0m \u001b[2m         \u001b[0m \n",
       " \u001b[2m                \u001b[0m \u001b[2m                   \u001b[0m \u001b[2m                   \u001b[0m \u001b[2m                \u001b[0m \u001b[2m \u001b[0m\u001b[2mvitamin has      \u001b[0m\u001b[2m \u001b[0m \u001b[2m         \u001b[0m \u001b[2m         \u001b[0m \n",
       " \u001b[2m                \u001b[0m \u001b[2m                   \u001b[0m \u001b[2m                   \u001b[0m \u001b[2m                \u001b[0m \u001b[2m \u001b[0m\u001b[2mspecific         \u001b[0m\u001b[2m \u001b[0m \u001b[2m         \u001b[0m \u001b[2m         \u001b[0m \n",
       " \u001b[2m                \u001b[0m \u001b[2m                   \u001b[0m \u001b[2m                   \u001b[0m \u001b[2m                \u001b[0m \u001b[2m \u001b[0m\u001b[2mfunctions and    \u001b[0m\u001b[2m \u001b[0m \u001b[2m         \u001b[0m \u001b[2m         \u001b[0m \n",
       " \u001b[2m                \u001b[0m \u001b[2m                   \u001b[0m \u001b[2m                   \u001b[0m \u001b[2m                \u001b[0m \u001b[2m \u001b[0m\u001b[2mbenefits for the \u001b[0m\u001b[2m \u001b[0m \u001b[2m         \u001b[0m \u001b[2m         \u001b[0m \n",
       " \u001b[2m                \u001b[0m \u001b[2m                   \u001b[0m \u001b[2m                   \u001b[0m \u001b[2m                \u001b[0m \u001b[2m \u001b[0m\u001b[2mbody. They are   \u001b[0m\u001b[2m \u001b[0m \u001b[2m         \u001b[0m \u001b[2m         \u001b[0m \n",
       " \u001b[2m                \u001b[0m \u001b[2m                   \u001b[0m \u001b[2m                   \u001b[0m \u001b[2m                \u001b[0m \u001b[2m \u001b[0m\u001b[2mfound in various \u001b[0m\u001b[2m \u001b[0m \u001b[2m         \u001b[0m \u001b[2m         \u001b[0m \n",
       " \u001b[2m                \u001b[0m \u001b[2m                   \u001b[0m \u001b[2m                   \u001b[0m \u001b[2m                \u001b[0m \u001b[2m \u001b[0m\u001b[2mfoods, including \u001b[0m\u001b[2m \u001b[0m \u001b[2m         \u001b[0m \u001b[2m         \u001b[0m \n",
       " \u001b[2m                \u001b[0m \u001b[2m                   \u001b[0m \u001b[2m                   \u001b[0m \u001b[2m                \u001b[0m \u001b[2m \u001b[0m\u001b[2mfruits,          \u001b[0m\u001b[2m \u001b[0m \u001b[2m         \u001b[0m \u001b[2m         \u001b[0m \n",
       " \u001b[2m                \u001b[0m \u001b[2m                   \u001b[0m \u001b[2m                   \u001b[0m \u001b[2m                \u001b[0m \u001b[2m \u001b[0m\u001b[2mvegetables, dairy\u001b[0m\u001b[2m \u001b[0m \u001b[2m         \u001b[0m \u001b[2m         \u001b[0m \n",
       " \u001b[2m                \u001b[0m \u001b[2m                   \u001b[0m \u001b[2m                   \u001b[0m \u001b[2m                \u001b[0m \u001b[2m \u001b[0m\u001b[2mproducts, and    \u001b[0m\u001b[2m \u001b[0m \u001b[2m         \u001b[0m \u001b[2m         \u001b[0m \n",
       " \u001b[2m                \u001b[0m \u001b[2m                   \u001b[0m \u001b[2m                   \u001b[0m \u001b[2m                \u001b[0m \u001b[2m \u001b[0m\u001b[2mmeats. It is     \u001b[0m\u001b[2m \u001b[0m \u001b[2m         \u001b[0m \u001b[2m         \u001b[0m \n",
       " \u001b[2m                \u001b[0m \u001b[2m                   \u001b[0m \u001b[2m                   \u001b[0m \u001b[2m                \u001b[0m \u001b[2m \u001b[0m\u001b[2mimportant to     \u001b[0m\u001b[2m \u001b[0m \u001b[2m         \u001b[0m \u001b[2m         \u001b[0m \n",
       " \u001b[2m                \u001b[0m \u001b[2m                   \u001b[0m \u001b[2m                   \u001b[0m \u001b[2m                \u001b[0m \u001b[2m \u001b[0m\u001b[2mmaintain a       \u001b[0m\u001b[2m \u001b[0m \u001b[2m         \u001b[0m \u001b[2m         \u001b[0m \n",
       " \u001b[2m                \u001b[0m \u001b[2m                   \u001b[0m \u001b[2m                   \u001b[0m \u001b[2m                \u001b[0m \u001b[2m \u001b[0m\u001b[2mbalanced diet to \u001b[0m\u001b[2m \u001b[0m \u001b[2m         \u001b[0m \u001b[2m         \u001b[0m \n",
       " \u001b[2m                \u001b[0m \u001b[2m                   \u001b[0m \u001b[2m                   \u001b[0m \u001b[2m                \u001b[0m \u001b[2m \u001b[0m\u001b[2mensure an        \u001b[0m\u001b[2m \u001b[0m \u001b[2m         \u001b[0m \u001b[2m         \u001b[0m \n",
       " \u001b[2m                \u001b[0m \u001b[2m                   \u001b[0m \u001b[2m                   \u001b[0m \u001b[2m                \u001b[0m \u001b[2m \u001b[0m\u001b[2madequate intake  \u001b[0m\u001b[2m \u001b[0m \u001b[2m         \u001b[0m \u001b[2m         \u001b[0m \n",
       " \u001b[2m                \u001b[0m \u001b[2m                   \u001b[0m \u001b[2m                   \u001b[0m \u001b[2m                \u001b[0m \u001b[2m \u001b[0m\u001b[2mof vitamins.     \u001b[0m\u001b[2m \u001b[0m \u001b[2m         \u001b[0m \u001b[2m         \u001b[0m \n",
       "  Minerals         Calcium, Iron,      Calcium is          Minerals         Minerals are        False     False    \n",
       "                   Magnesium           necessary for                        naturally                              \n",
       "                                       maintaining                          occurring                              \n",
       "                                       healthy bones and                    substances that                        \n",
       "                                       teeth, Iron is                       are solid and                          \n",
       "                                       crucial for                          inorganic. They                        \n",
       "                                       making red blood                     are composed of                        \n",
       "                                       cells and                            atoms arranged in                      \n",
       "                                       transporting                         a specific                             \n",
       "                                       oxygen throughout                    crystalline                            \n",
       "                                       the body, and                        structure.                             \n",
       "                                       Magnesium plays a                    Minerals have a                        \n",
       "                                       role in over 300                     specific chemical                      \n",
       "                                       enzyme reactions                     composition and                        \n",
       "                                       in the human                         physical                               \n",
       "                                       body, including                      properties, such                       \n",
       "                                       the metabolism of                    as hardness,                           \n",
       "                                       food, synthesis                      color, and                             \n",
       "                                       of fatty acids                       luster. They are                       \n",
       "                                       and proteins, and                    found in rocks                         \n",
       "                                       the transmission                     and are essential                      \n",
       "                                       of nerve                             for various                            \n",
       "                                       impulses.                            industrial and                         \n",
       "                                                                            biological                             \n",
       "                                                                            processes.                             \n",
       "                                                                                                                   \n"
      ]
     },
     "metadata": {},
     "output_type": "display_data"
    },
    {
     "data": {
      "text/html": [
       "<pre style=\"white-space:pre;overflow-x:auto;line-height:normal;font-family:Menlo,'DejaVu Sans Mono',consolas,'Courier New',monospace\"><span style=\"color: #800000; text-decoration-color: #800000; font-weight: bold\">Accuracy = </span><span style=\"color: #008080; text-decoration-color: #008080; font-weight: bold\">0.00</span><span style=\"color: #800000; text-decoration-color: #800000; font-weight: bold\">%</span>\n",
       "</pre>\n"
      ],
      "text/plain": [
       "\u001b[1;31mAccuracy = \u001b[0m\u001b[1;36m0.00\u001b[0m\u001b[1;31m%\u001b[0m\n"
      ]
     },
     "metadata": {},
     "output_type": "display_data"
    },
    {
     "data": {
      "text/html": [
       "<pre style=\"white-space:pre;overflow-x:auto;line-height:normal;font-family:Menlo,'DejaVu Sans Mono',consolas,'Courier New',monospace\">Analyze evaluation experience <span style=\"color: #808000; text-decoration-color: #808000\">...</span>\n",
       "</pre>\n"
      ],
      "text/plain": [
       "Analyze evaluation experience \u001b[33m...\u001b[0m\n"
      ]
     },
     "metadata": {},
     "output_type": "display_data"
    },
    {
     "data": {
      "text/html": [
       "<pre style=\"white-space:pre;overflow-x:auto;line-height:normal;font-family:Menlo,'DejaVu Sans Mono',consolas,'Courier New',monospace\"><span style=\"font-weight: bold\">[</span><span style=\"color: #008000; text-decoration-color: #008000\">'category'</span><span style=\"font-weight: bold\">]</span>\n",
       "</pre>\n"
      ],
      "text/plain": [
       "\u001b[1m[\u001b[0m\u001b[32m'category'\u001b[0m\u001b[1m]\u001b[0m\n"
      ]
     },
     "metadata": {},
     "output_type": "display_data"
    },
    {
     "name": "stderr",
     "output_type": "stream",
     "text": [
      "  0%|          | 0/3 [00:00<?, ?it/s]"
     ]
    },
    {
     "data": {
      "text/html": [
       "<pre style=\"white-space:pre;overflow-x:auto;line-height:normal;font-family:Menlo,'DejaVu Sans Mono',consolas,'Courier New',monospace\"><span style=\"font-weight: bold\">{</span><span style=\"color: #008000; text-decoration-color: #008000\">'category'</span>: <span style=\"color: #008000; text-decoration-color: #008000\">'Macronutrients'</span>, <span style=\"color: #008000; text-decoration-color: #008000\">'entities'</span>: <span style=\"color: #008000; text-decoration-color: #008000\">'Carbohydrates, Proteins, Fats'</span>, <span style=\"color: #008000; text-decoration-color: #008000\">'text'</span>: <span style=\"color: #008000; text-decoration-color: #008000\">'Carbohydrates provide quick </span>\n",
       "<span style=\"color: #008000; text-decoration-color: #008000\">energy, proteins are essential for muscle repair and growth, and fats are vital for long-term energy storage and </span>\n",
       "<span style=\"color: #008000; text-decoration-color: #008000\">cell function.'</span>, <span style=\"color: #008000; text-decoration-color: #008000\">'skill_0'</span>: <span style=\"color: #008000; text-decoration-color: #008000\">'Macronutrients'</span>, <span style=\"color: #008000; text-decoration-color: #008000\">'skill_1'</span>: <span style=\"color: #008000; text-decoration-color: #008000\">\"Macronutrients are the three main nutrients that provide </span>\n",
       "<span style=\"color: #008000; text-decoration-color: #008000\">energy to the body: carbohydrates, proteins, and fats. Carbohydrates are the body's main source of energy and can </span>\n",
       "<span style=\"color: #008000; text-decoration-color: #008000\">be found in foods like bread, pasta, and fruits. Proteins are essential for building and repairing tissues and can </span>\n",
       "<span style=\"color: #008000; text-decoration-color: #008000\">be found in foods like meat, fish, and beans. Fats are a concentrated source of energy and can be found in foods </span>\n",
       "<span style=\"color: #008000; text-decoration-color: #008000\">like oils, butter, and nuts. Balancing these macronutrients is important for maintaining a healthy diet.\"</span><span style=\"font-weight: bold\">}</span>\n",
       "</pre>\n"
      ],
      "text/plain": [
       "\u001b[1m{\u001b[0m\u001b[32m'category'\u001b[0m: \u001b[32m'Macronutrients'\u001b[0m, \u001b[32m'entities'\u001b[0m: \u001b[32m'Carbohydrates, Proteins, Fats'\u001b[0m, \u001b[32m'text'\u001b[0m: \u001b[32m'Carbohydrates provide quick \u001b[0m\n",
       "\u001b[32menergy, proteins are essential for muscle repair and growth, and fats are vital for long-term energy storage and \u001b[0m\n",
       "\u001b[32mcell function.'\u001b[0m, \u001b[32m'skill_0'\u001b[0m: \u001b[32m'Macronutrients'\u001b[0m, \u001b[32m'skill_1'\u001b[0m: \u001b[32m\"Macronutrients are the three main nutrients that provide \u001b[0m\n",
       "\u001b[32menergy to the body: carbohydrates, proteins, and fats. Carbohydrates are the body's main source of energy and can \u001b[0m\n",
       "\u001b[32mbe found in foods like bread, pasta, and fruits. Proteins are essential for building and repairing tissues and can \u001b[0m\n",
       "\u001b[32mbe found in foods like meat, fish, and beans. Fats are a concentrated source of energy and can be found in foods \u001b[0m\n",
       "\u001b[32mlike oils, butter, and nuts. Balancing these macronutrients is important for maintaining a healthy diet.\"\u001b[0m\u001b[1m}\u001b[0m\n"
      ]
     },
     "metadata": {},
     "output_type": "display_data"
    },
    {
     "name": "stderr",
     "output_type": "stream",
     "text": [
      " 67%|██████▋   | 2/3 [00:04<00:02,  2.11s/it]"
     ]
    },
    {
     "data": {
      "text/html": [
       "<pre style=\"white-space:pre;overflow-x:auto;line-height:normal;font-family:Menlo,'DejaVu Sans Mono',consolas,'Courier New',monospace\"><span style=\"font-weight: bold\">{</span><span style=\"color: #008000; text-decoration-color: #008000\">'category'</span>: <span style=\"color: #008000; text-decoration-color: #008000\">'Vitamins'</span>, <span style=\"color: #008000; text-decoration-color: #008000\">'entities'</span>: <span style=\"color: #008000; text-decoration-color: #008000\">'Vitamin A, Vitamin C, Vitamin D'</span>, <span style=\"color: #008000; text-decoration-color: #008000\">'text'</span>: <span style=\"color: #008000; text-decoration-color: #008000\">'Vitamin A is crucial for good </span>\n",
       "<span style=\"color: #008000; text-decoration-color: #008000\">vision and a healthy immune system, Vitamin C helps in the repair of tissues and the enzymatic production of </span>\n",
       "<span style=\"color: #008000; text-decoration-color: #008000\">certain neurotransmitters, and Vitamin D is essential for strong bones and teeth as it helps the body absorb </span>\n",
       "<span style=\"color: #008000; text-decoration-color: #008000\">calcium.'</span>, <span style=\"color: #008000; text-decoration-color: #008000\">'skill_0'</span>: <span style=\"color: #008000; text-decoration-color: #008000\">'Vitamins'</span>, <span style=\"color: #008000; text-decoration-color: #008000\">'skill_1'</span>: <span style=\"color: #008000; text-decoration-color: #008000\">'Vitamins are organic compounds that are essential for the proper </span>\n",
       "<span style=\"color: #008000; text-decoration-color: #008000\">functioning of the body. They are micronutrients that are required in small amounts and play a crucial role in </span>\n",
       "<span style=\"color: #008000; text-decoration-color: #008000\">various physiological processes. There are 13 essential vitamins, including vitamin A, B vitamins, vitamin C, </span>\n",
       "<span style=\"color: #008000; text-decoration-color: #008000\">vitamin D, vitamin E, and vitamin K. Each vitamin has specific functions and benefits for the body. They are found </span>\n",
       "<span style=\"color: #008000; text-decoration-color: #008000\">in various foods, including fruits, vegetables, dairy products, and meats. It is important to maintain a balanced </span>\n",
       "<span style=\"color: #008000; text-decoration-color: #008000\">diet to ensure an adequate intake of vitamins.'</span><span style=\"font-weight: bold\">}</span>\n",
       "</pre>\n"
      ],
      "text/plain": [
       "\u001b[1m{\u001b[0m\u001b[32m'category'\u001b[0m: \u001b[32m'Vitamins'\u001b[0m, \u001b[32m'entities'\u001b[0m: \u001b[32m'Vitamin A, Vitamin C, Vitamin D'\u001b[0m, \u001b[32m'text'\u001b[0m: \u001b[32m'Vitamin A is crucial for good \u001b[0m\n",
       "\u001b[32mvision and a healthy immune system, Vitamin C helps in the repair of tissues and the enzymatic production of \u001b[0m\n",
       "\u001b[32mcertain neurotransmitters, and Vitamin D is essential for strong bones and teeth as it helps the body absorb \u001b[0m\n",
       "\u001b[32mcalcium.'\u001b[0m, \u001b[32m'skill_0'\u001b[0m: \u001b[32m'Vitamins'\u001b[0m, \u001b[32m'skill_1'\u001b[0m: \u001b[32m'Vitamins are organic compounds that are essential for the proper \u001b[0m\n",
       "\u001b[32mfunctioning of the body. They are micronutrients that are required in small amounts and play a crucial role in \u001b[0m\n",
       "\u001b[32mvarious physiological processes. There are 13 essential vitamins, including vitamin A, B vitamins, vitamin C, \u001b[0m\n",
       "\u001b[32mvitamin D, vitamin E, and vitamin K. Each vitamin has specific functions and benefits for the body. They are found \u001b[0m\n",
       "\u001b[32min various foods, including fruits, vegetables, dairy products, and meats. It is important to maintain a balanced \u001b[0m\n",
       "\u001b[32mdiet to ensure an adequate intake of vitamins.'\u001b[0m\u001b[1m}\u001b[0m\n"
      ]
     },
     "metadata": {},
     "output_type": "display_data"
    },
    {
     "name": "stderr",
     "output_type": "stream",
     "text": [
      "100%|██████████| 3/3 [00:20<00:00,  7.84s/it]"
     ]
    },
    {
     "data": {
      "text/html": [
       "<pre style=\"white-space:pre;overflow-x:auto;line-height:normal;font-family:Menlo,'DejaVu Sans Mono',consolas,'Courier New',monospace\"><span style=\"font-weight: bold\">{</span><span style=\"color: #008000; text-decoration-color: #008000\">'category'</span>: <span style=\"color: #008000; text-decoration-color: #008000\">'Minerals'</span>, <span style=\"color: #008000; text-decoration-color: #008000\">'entities'</span>: <span style=\"color: #008000; text-decoration-color: #008000\">'Calcium, Iron, Magnesium'</span>, <span style=\"color: #008000; text-decoration-color: #008000\">'text'</span>: <span style=\"color: #008000; text-decoration-color: #008000\">'Calcium is necessary for maintaining </span>\n",
       "<span style=\"color: #008000; text-decoration-color: #008000\">healthy bones and teeth, Iron is crucial for making red blood cells and transporting oxygen throughout the body, </span>\n",
       "<span style=\"color: #008000; text-decoration-color: #008000\">and Magnesium plays a role in over 300 enzyme reactions in the human body, including the metabolism of food, </span>\n",
       "<span style=\"color: #008000; text-decoration-color: #008000\">synthesis of fatty acids and proteins, and the transmission of nerve impulses.'</span>, <span style=\"color: #008000; text-decoration-color: #008000\">'skill_0'</span>: <span style=\"color: #008000; text-decoration-color: #008000\">'Minerals'</span>, <span style=\"color: #008000; text-decoration-color: #008000\">'skill_1'</span>: \n",
       "<span style=\"color: #008000; text-decoration-color: #008000\">'Minerals are naturally occurring substances that are solid and inorganic. They are composed of atoms arranged in a</span>\n",
       "<span style=\"color: #008000; text-decoration-color: #008000\">specific crystalline structure. Minerals have a specific chemical composition and physical properties, such as </span>\n",
       "<span style=\"color: #008000; text-decoration-color: #008000\">hardness, color, and luster. They are found in rocks and are essential for various industrial and biological </span>\n",
       "<span style=\"color: #008000; text-decoration-color: #008000\">processes.'</span><span style=\"font-weight: bold\">}</span>\n",
       "</pre>\n"
      ],
      "text/plain": [
       "\u001b[1m{\u001b[0m\u001b[32m'category'\u001b[0m: \u001b[32m'Minerals'\u001b[0m, \u001b[32m'entities'\u001b[0m: \u001b[32m'Calcium, Iron, Magnesium'\u001b[0m, \u001b[32m'text'\u001b[0m: \u001b[32m'Calcium is necessary for maintaining \u001b[0m\n",
       "\u001b[32mhealthy bones and teeth, Iron is crucial for making red blood cells and transporting oxygen throughout the body, \u001b[0m\n",
       "\u001b[32mand Magnesium plays a role in over 300 enzyme reactions in the human body, including the metabolism of food, \u001b[0m\n",
       "\u001b[32msynthesis of fatty acids and proteins, and the transmission of nerve impulses.'\u001b[0m, \u001b[32m'skill_0'\u001b[0m: \u001b[32m'Minerals'\u001b[0m, \u001b[32m'skill_1'\u001b[0m: \n",
       "\u001b[32m'Minerals are naturally occurring substances that are solid and inorganic. They are composed of atoms arranged in a\u001b[0m\n",
       "\u001b[32mspecific crystalline structure. Minerals have a specific chemical composition and physical properties, such as \u001b[0m\n",
       "\u001b[32mhardness, color, and luster. They are found in rocks and are essential for various industrial and biological \u001b[0m\n",
       "\u001b[32mprocesses.'\u001b[0m\u001b[1m}\u001b[0m\n"
      ]
     },
     "metadata": {},
     "output_type": "display_data"
    },
    {
     "name": "stderr",
     "output_type": "stream",
     "text": [
      "100%|██████████| 3/3 [00:23<00:00,  7.77s/it]\n"
     ]
    },
    {
     "data": {
      "text/html": [
       "<pre style=\"white-space:pre;overflow-x:auto;line-height:normal;font-family:Menlo,'DejaVu Sans Mono',consolas,'Courier New',monospace\"><span style=\"font-weight: bold\">[</span><span style=\"color: #008000; text-decoration-color: #008000\">'ground_truth'</span>, <span style=\"color: #008000; text-decoration-color: #008000\">'input'</span>, <span style=\"color: #008000; text-decoration-color: #008000\">'prediction'</span><span style=\"font-weight: bold\">]</span>\n",
       "</pre>\n"
      ],
      "text/plain": [
       "\u001b[1m[\u001b[0m\u001b[32m'ground_truth'\u001b[0m, \u001b[32m'input'\u001b[0m, \u001b[32m'prediction'\u001b[0m\u001b[1m]\u001b[0m\n"
      ]
     },
     "metadata": {},
     "output_type": "display_data"
    },
    {
     "name": "stderr",
     "output_type": "stream",
     "text": [
      "  0%|          | 0/3 [00:00<?, ?it/s]"
     ]
    },
    {
     "data": {
      "text/html": [
       "<pre style=\"white-space:pre;overflow-x:auto;line-height:normal;font-family:Menlo,'DejaVu Sans Mono',consolas,'Courier New',monospace\"><span style=\"font-weight: bold\">{</span><span style=\"color: #008000; text-decoration-color: #008000\">'input'</span>: <span style=\"color: #008000; text-decoration-color: #008000\">'Macronutrients'</span>, <span style=\"color: #008000; text-decoration-color: #008000\">'prediction'</span>: <span style=\"color: #008000; text-decoration-color: #008000\">'Macronutrients'</span>, <span style=\"color: #008000; text-decoration-color: #008000\">'ground_truth'</span>: <span style=\"color: #008000; text-decoration-color: #008000\">'Carbohydrates, Proteins, Fats'</span><span style=\"font-weight: bold\">}</span>\n",
       "</pre>\n"
      ],
      "text/plain": [
       "\u001b[1m{\u001b[0m\u001b[32m'input'\u001b[0m: \u001b[32m'Macronutrients'\u001b[0m, \u001b[32m'prediction'\u001b[0m: \u001b[32m'Macronutrients'\u001b[0m, \u001b[32m'ground_truth'\u001b[0m: \u001b[32m'Carbohydrates, Proteins, Fats'\u001b[0m\u001b[1m}\u001b[0m\n"
      ]
     },
     "metadata": {},
     "output_type": "display_data"
    },
    {
     "name": "stderr",
     "output_type": "stream",
     "text": [
      " 67%|██████▋   | 2/3 [00:13<00:06,  6.76s/it]"
     ]
    },
    {
     "data": {
      "text/html": [
       "<pre style=\"white-space:pre;overflow-x:auto;line-height:normal;font-family:Menlo,'DejaVu Sans Mono',consolas,'Courier New',monospace\"><span style=\"font-weight: bold\">{</span><span style=\"color: #008000; text-decoration-color: #008000\">'input'</span>: <span style=\"color: #008000; text-decoration-color: #008000\">'Vitamins'</span>, <span style=\"color: #008000; text-decoration-color: #008000\">'prediction'</span>: <span style=\"color: #008000; text-decoration-color: #008000\">'Vitamins'</span>, <span style=\"color: #008000; text-decoration-color: #008000\">'ground_truth'</span>: <span style=\"color: #008000; text-decoration-color: #008000\">'Vitamin A, Vitamin C, Vitamin D'</span><span style=\"font-weight: bold\">}</span>\n",
       "</pre>\n"
      ],
      "text/plain": [
       "\u001b[1m{\u001b[0m\u001b[32m'input'\u001b[0m: \u001b[32m'Vitamins'\u001b[0m, \u001b[32m'prediction'\u001b[0m: \u001b[32m'Vitamins'\u001b[0m, \u001b[32m'ground_truth'\u001b[0m: \u001b[32m'Vitamin A, Vitamin C, Vitamin D'\u001b[0m\u001b[1m}\u001b[0m\n"
      ]
     },
     "metadata": {},
     "output_type": "display_data"
    },
    {
     "name": "stderr",
     "output_type": "stream",
     "text": [
      "100%|██████████| 3/3 [00:21<00:00,  7.27s/it]"
     ]
    },
    {
     "data": {
      "text/html": [
       "<pre style=\"white-space:pre;overflow-x:auto;line-height:normal;font-family:Menlo,'DejaVu Sans Mono',consolas,'Courier New',monospace\"><span style=\"font-weight: bold\">{</span><span style=\"color: #008000; text-decoration-color: #008000\">'input'</span>: <span style=\"color: #008000; text-decoration-color: #008000\">'Minerals'</span>, <span style=\"color: #008000; text-decoration-color: #008000\">'prediction'</span>: <span style=\"color: #008000; text-decoration-color: #008000\">'Minerals'</span>, <span style=\"color: #008000; text-decoration-color: #008000\">'ground_truth'</span>: <span style=\"color: #008000; text-decoration-color: #008000\">'Calcium, Iron, Magnesium'</span><span style=\"font-weight: bold\">}</span>\n",
       "</pre>\n"
      ],
      "text/plain": [
       "\u001b[1m{\u001b[0m\u001b[32m'input'\u001b[0m: \u001b[32m'Minerals'\u001b[0m, \u001b[32m'prediction'\u001b[0m: \u001b[32m'Minerals'\u001b[0m, \u001b[32m'ground_truth'\u001b[0m: \u001b[32m'Calcium, Iron, Magnesium'\u001b[0m\u001b[1m}\u001b[0m\n"
      ]
     },
     "metadata": {},
     "output_type": "display_data"
    },
    {
     "name": "stderr",
     "output_type": "stream",
     "text": [
      "100%|██████████| 3/3 [00:28<00:00,  9.35s/it]\n"
     ]
    },
    {
     "data": {
      "text/html": [
       "<pre style=\"white-space:pre;overflow-x:auto;line-height:normal;font-family:Menlo,'DejaVu Sans Mono',consolas,'Courier New',monospace\"><span style=\"font-weight: bold\">[</span><span style=\"color: #008000; text-decoration-color: #008000\">'ground_truth'</span>, <span style=\"color: #008000; text-decoration-color: #008000\">'input'</span>, <span style=\"color: #008000; text-decoration-color: #008000\">'prediction'</span>, <span style=\"color: #008000; text-decoration-color: #008000\">'reason'</span><span style=\"font-weight: bold\">]</span>\n",
       "</pre>\n"
      ],
      "text/plain": [
       "\u001b[1m[\u001b[0m\u001b[32m'ground_truth'\u001b[0m, \u001b[32m'input'\u001b[0m, \u001b[32m'prediction'\u001b[0m, \u001b[32m'reason'\u001b[0m\u001b[1m]\u001b[0m\n"
      ]
     },
     "metadata": {},
     "output_type": "display_data"
    },
    {
     "name": "stderr",
     "output_type": "stream",
     "text": [
      "  0%|          | 0/3 [00:00<?, ?it/s]"
     ]
    },
    {
     "data": {
      "text/html": [
       "<pre style=\"white-space:pre;overflow-x:auto;line-height:normal;font-family:Menlo,'DejaVu Sans Mono',consolas,'Courier New',monospace\"><span style=\"font-weight: bold\">{</span><span style=\"color: #008000; text-decoration-color: #008000\">'input'</span>: <span style=\"color: #008000; text-decoration-color: #008000\">'Macronutrients'</span>, <span style=\"color: #008000; text-decoration-color: #008000\">'prediction'</span>: <span style=\"color: #008000; text-decoration-color: #008000\">'Macronutrients'</span>, <span style=\"color: #008000; text-decoration-color: #008000\">'ground_truth'</span>: <span style=\"color: #008000; text-decoration-color: #008000\">'Carbohydrates, Proteins, Fats'</span>, \n",
       "<span style=\"color: #008000; text-decoration-color: #008000\">'reason'</span>: <span style=\"color: #008000; text-decoration-color: #008000\">\"The original instruction is too vague and does not provide enough guidance for the model to generate the</span>\n",
       "<span style=\"color: #008000; text-decoration-color: #008000\">specific macronutrients. It only mentions 'Macronutrients' without specifying which ones. Therefore, the model </span>\n",
       "<span style=\"color: #008000; text-decoration-color: #008000\">cannot accurately predict the ground truth.\"</span><span style=\"font-weight: bold\">}</span>\n",
       "</pre>\n"
      ],
      "text/plain": [
       "\u001b[1m{\u001b[0m\u001b[32m'input'\u001b[0m: \u001b[32m'Macronutrients'\u001b[0m, \u001b[32m'prediction'\u001b[0m: \u001b[32m'Macronutrients'\u001b[0m, \u001b[32m'ground_truth'\u001b[0m: \u001b[32m'Carbohydrates, Proteins, Fats'\u001b[0m, \n",
       "\u001b[32m'reason'\u001b[0m: \u001b[32m\"The original instruction is too vague and does not provide enough guidance for the model to generate the\u001b[0m\n",
       "\u001b[32mspecific macronutrients. It only mentions 'Macronutrients' without specifying which ones. Therefore, the model \u001b[0m\n",
       "\u001b[32mcannot accurately predict the ground truth.\"\u001b[0m\u001b[1m}\u001b[0m\n"
      ]
     },
     "metadata": {},
     "output_type": "display_data"
    },
    {
     "name": "stderr",
     "output_type": "stream",
     "text": [
      " 67%|██████▋   | 2/3 [00:22<00:11, 11.25s/it]"
     ]
    },
    {
     "data": {
      "text/html": [
       "<pre style=\"white-space:pre;overflow-x:auto;line-height:normal;font-family:Menlo,'DejaVu Sans Mono',consolas,'Courier New',monospace\"><span style=\"font-weight: bold\">{</span><span style=\"color: #008000; text-decoration-color: #008000\">'input'</span>: <span style=\"color: #008000; text-decoration-color: #008000\">'Vitamins'</span>, <span style=\"color: #008000; text-decoration-color: #008000\">'prediction'</span>: <span style=\"color: #008000; text-decoration-color: #008000\">'Vitamins'</span>, <span style=\"color: #008000; text-decoration-color: #008000\">'ground_truth'</span>: <span style=\"color: #008000; text-decoration-color: #008000\">'Vitamin A, Vitamin C, Vitamin D'</span>, <span style=\"color: #008000; text-decoration-color: #008000\">'reason'</span>: <span style=\"color: #008000; text-decoration-color: #008000\">'The </span>\n",
       "<span style=\"color: #008000; text-decoration-color: #008000\">original instruction did not specify any specific vitamins to predict, resulting in a prediction that matches the </span>\n",
       "<span style=\"color: #008000; text-decoration-color: #008000\">input exactly.'</span><span style=\"font-weight: bold\">}</span>\n",
       "</pre>\n"
      ],
      "text/plain": [
       "\u001b[1m{\u001b[0m\u001b[32m'input'\u001b[0m: \u001b[32m'Vitamins'\u001b[0m, \u001b[32m'prediction'\u001b[0m: \u001b[32m'Vitamins'\u001b[0m, \u001b[32m'ground_truth'\u001b[0m: \u001b[32m'Vitamin A, Vitamin C, Vitamin D'\u001b[0m, \u001b[32m'reason'\u001b[0m: \u001b[32m'The \u001b[0m\n",
       "\u001b[32moriginal instruction did not specify any specific vitamins to predict, resulting in a prediction that matches the \u001b[0m\n",
       "\u001b[32minput exactly.'\u001b[0m\u001b[1m}\u001b[0m\n"
      ]
     },
     "metadata": {},
     "output_type": "display_data"
    },
    {
     "name": "stderr",
     "output_type": "stream",
     "text": [
      "100%|██████████| 3/3 [00:39<00:00, 13.66s/it]"
     ]
    },
    {
     "data": {
      "text/html": [
       "<pre style=\"white-space:pre;overflow-x:auto;line-height:normal;font-family:Menlo,'DejaVu Sans Mono',consolas,'Courier New',monospace\"><span style=\"font-weight: bold\">{</span><span style=\"color: #008000; text-decoration-color: #008000\">'input'</span>: <span style=\"color: #008000; text-decoration-color: #008000\">'Minerals'</span>, <span style=\"color: #008000; text-decoration-color: #008000\">'prediction'</span>: <span style=\"color: #008000; text-decoration-color: #008000\">'Minerals'</span>, <span style=\"color: #008000; text-decoration-color: #008000\">'ground_truth'</span>: <span style=\"color: #008000; text-decoration-color: #008000\">'Calcium, Iron, Magnesium'</span>, <span style=\"color: #008000; text-decoration-color: #008000\">'reason'</span>: <span style=\"color: #008000; text-decoration-color: #008000\">\"The original</span>\n",
       "<span style=\"color: #008000; text-decoration-color: #008000\">instruction does not specify any specific minerals to predict, resulting in a general prediction of 'Minerals'.\"</span><span style=\"font-weight: bold\">}</span>\n",
       "</pre>\n"
      ],
      "text/plain": [
       "\u001b[1m{\u001b[0m\u001b[32m'input'\u001b[0m: \u001b[32m'Minerals'\u001b[0m, \u001b[32m'prediction'\u001b[0m: \u001b[32m'Minerals'\u001b[0m, \u001b[32m'ground_truth'\u001b[0m: \u001b[32m'Calcium, Iron, Magnesium'\u001b[0m, \u001b[32m'reason'\u001b[0m: \u001b[32m\"The original\u001b[0m\n",
       "\u001b[32minstruction does not specify any specific minerals to predict, resulting in a general prediction of 'Minerals'.\"\u001b[0m\u001b[1m}\u001b[0m\n"
      ]
     },
     "metadata": {},
     "output_type": "display_data"
    },
    {
     "name": "stderr",
     "output_type": "stream",
     "text": [
      "100%|██████████| 3/3 [00:53<00:00, 17.78s/it]\n"
     ]
    },
    {
     "data": {
      "text/html": [
       "<pre style=\"white-space:pre;overflow-x:auto;line-height:normal;font-family:Menlo,'DejaVu Sans Mono',consolas,'Courier New',monospace\">Error analysis for skill <span style=\"color: #008000; text-decoration-color: #008000\">\"skill_0\"</span>:\n",
       "\n",
       "</pre>\n"
      ],
      "text/plain": [
       "Error analysis for skill \u001b[32m\"skill_0\"\u001b[0m:\n",
       "\n"
      ]
     },
     "metadata": {},
     "output_type": "display_data"
    },
    {
     "data": {
      "text/html": [
       "<pre style=\"white-space:pre;overflow-x:auto;line-height:normal;font-family:Menlo,'DejaVu Sans Mono',consolas,'Courier New',monospace\"><span style=\"color: #008000; text-decoration-color: #008000\">The model's prediction for the input </span><span style=\"color: #008000; text-decoration-color: #008000\">'Macronutrients'</span><span style=\"color: #008000; text-decoration-color: #008000\"> was </span><span style=\"color: #008000; text-decoration-color: #008000\">'Macronutrients'</span><span style=\"color: #008000; text-decoration-color: #008000\">, which is incorrect. The ground truth </span>\n",
       "<span style=\"color: #008000; text-decoration-color: #008000\">for this input is </span><span style=\"color: #008000; text-decoration-color: #008000\">'Carbohydrates, Proteins, Fats'</span><span style=\"color: #008000; text-decoration-color: #008000\">. The error reason is that the original instruction is too vague </span>\n",
       "<span style=\"color: #008000; text-decoration-color: #008000\">and does not provide enough guidance for the model to generate the specific macronutrients. It only mentions </span>\n",
       "<span style=\"color: #008000; text-decoration-color: #008000\">'Macronutrients'</span><span style=\"color: #008000; text-decoration-color: #008000\"> without specifying which ones. Therefore, the model cannot accurately predict the ground truth. </span>\n",
       "<span style=\"color: #008000; text-decoration-color: #008000\">Error analysis report:</span>\n",
       "\n",
       "<span style=\"color: #008000; text-decoration-color: #008000\">Input: Vitamins</span>\n",
       "\n",
       "<span style=\"color: #008000; text-decoration-color: #008000\">Prediction: Vitamins</span>\n",
       "\n",
       "<span style=\"color: #008000; text-decoration-color: #008000\">Ground truth: Vitamin A, Vitamin C, Vitamin D</span>\n",
       "\n",
       "<span style=\"color: #008000; text-decoration-color: #008000\">Error reason: The original instruction did not specify any specific vitamins to predict, resulting in a prediction </span>\n",
       "<span style=\"color: #008000; text-decoration-color: #008000\">that matches the input exactly. Error analysis report:</span>\n",
       "\n",
       "<span style=\"color: #008000; text-decoration-color: #008000\">Input: Minerals</span>\n",
       "\n",
       "<span style=\"color: #008000; text-decoration-color: #008000\">Prediction: Minerals</span>\n",
       "\n",
       "<span style=\"color: #008000; text-decoration-color: #008000\">Ground truth: Calcium, Iron, Magnesium</span>\n",
       "\n",
       "<span style=\"color: #008000; text-decoration-color: #008000\">Error reason: The original instruction does not specify any specific minerals to predict, resulting in a general </span>\n",
       "<span style=\"color: #008000; text-decoration-color: #008000\">prediction of </span><span style=\"color: #008000; text-decoration-color: #008000\">'Minerals'</span><span style=\"color: #008000; text-decoration-color: #008000\">.</span>\n",
       "</pre>\n"
      ],
      "text/plain": [
       "\u001b[32mThe model's prediction for the input \u001b[0m\u001b[32m'Macronutrients'\u001b[0m\u001b[32m was \u001b[0m\u001b[32m'Macronutrients'\u001b[0m\u001b[32m, which is incorrect. The ground truth \u001b[0m\n",
       "\u001b[32mfor this input is \u001b[0m\u001b[32m'Carbohydrates, Proteins, Fats'\u001b[0m\u001b[32m. The error reason is that the original instruction is too vague \u001b[0m\n",
       "\u001b[32mand does not provide enough guidance for the model to generate the specific macronutrients. It only mentions \u001b[0m\n",
       "\u001b[32m'Macronutrients'\u001b[0m\u001b[32m without specifying which ones. Therefore, the model cannot accurately predict the ground truth. \u001b[0m\n",
       "\u001b[32mError analysis report:\u001b[0m\n",
       "\n",
       "\u001b[32mInput: Vitamins\u001b[0m\n",
       "\n",
       "\u001b[32mPrediction: Vitamins\u001b[0m\n",
       "\n",
       "\u001b[32mGround truth: Vitamin A, Vitamin C, Vitamin D\u001b[0m\n",
       "\n",
       "\u001b[32mError reason: The original instruction did not specify any specific vitamins to predict, resulting in a prediction \u001b[0m\n",
       "\u001b[32mthat matches the input exactly. Error analysis report:\u001b[0m\n",
       "\n",
       "\u001b[32mInput: Minerals\u001b[0m\n",
       "\n",
       "\u001b[32mPrediction: Minerals\u001b[0m\n",
       "\n",
       "\u001b[32mGround truth: Calcium, Iron, Magnesium\u001b[0m\n",
       "\n",
       "\u001b[32mError reason: The original instruction does not specify any specific minerals to predict, resulting in a general \u001b[0m\n",
       "\u001b[32mprediction of \u001b[0m\u001b[32m'Minerals'\u001b[0m\u001b[32m.\u001b[0m\n"
      ]
     },
     "metadata": {},
     "output_type": "display_data"
    },
    {
     "data": {
      "text/html": [
       "<pre style=\"white-space:pre;overflow-x:auto;line-height:normal;font-family:Menlo,'DejaVu Sans Mono',consolas,'Courier New',monospace\">Improve <span style=\"color: #008000; text-decoration-color: #008000\">\"skill_0\"</span> skill based on analysis <span style=\"color: #808000; text-decoration-color: #808000\">...</span>\n",
       "</pre>\n"
      ],
      "text/plain": [
       "Improve \u001b[32m\"skill_0\"\u001b[0m skill based on analysis \u001b[33m...\u001b[0m\n"
      ]
     },
     "metadata": {},
     "output_type": "display_data"
    },
    {
     "data": {
      "text/html": [
       "<pre style=\"white-space:pre;overflow-x:auto;line-height:normal;font-family:Menlo,'DejaVu Sans Mono',consolas,'Courier New',monospace\"><span style=\"font-weight: bold\">{</span><span style=\"color: #008000; text-decoration-color: #008000\">'error_analysis'</span>: <span style=\"color: #008000; text-decoration-color: #008000\">\"The model's prediction for the input 'Macronutrients' was 'Macronutrients', which is incorrect.</span>\n",
       "<span style=\"color: #008000; text-decoration-color: #008000\">The ground truth for this input is 'Carbohydrates, Proteins, Fats'. The error reason is that the original </span>\n",
       "<span style=\"color: #008000; text-decoration-color: #008000\">instruction is too vague and does not provide enough guidance for the model to generate the specific </span>\n",
       "<span style=\"color: #008000; text-decoration-color: #008000\">macronutrients. It only mentions 'Macronutrients' without specifying which ones. Therefore, the model cannot </span>\n",
       "<span style=\"color: #008000; text-decoration-color: #008000\">accurately predict the ground truth. Error analysis report:\\n\\nInput: Vitamins\\n\\nPrediction: Vitamins\\n\\nGround </span>\n",
       "<span style=\"color: #008000; text-decoration-color: #008000\">truth: Vitamin A, Vitamin C, Vitamin D\\n\\nError reason: The original instruction did not specify any specific </span>\n",
       "<span style=\"color: #008000; text-decoration-color: #008000\">vitamins to predict, resulting in a prediction that matches the input exactly. Error analysis report:\\n\\nInput: </span>\n",
       "<span style=\"color: #008000; text-decoration-color: #008000\">Minerals\\n\\nPrediction: Minerals\\n\\nGround truth: Calcium, Iron, Magnesium\\n\\nError reason: The original </span>\n",
       "<span style=\"color: #008000; text-decoration-color: #008000\">instruction does not specify any specific minerals to predict, resulting in a general prediction of 'Minerals'.\"</span><span style=\"font-weight: bold\">}</span>\n",
       "</pre>\n"
      ],
      "text/plain": [
       "\u001b[1m{\u001b[0m\u001b[32m'error_analysis'\u001b[0m: \u001b[32m\"The model's prediction for the input 'Macronutrients' was 'Macronutrients', which is incorrect.\u001b[0m\n",
       "\u001b[32mThe ground truth for this input is 'Carbohydrates, Proteins, Fats'. The error reason is that the original \u001b[0m\n",
       "\u001b[32minstruction is too vague and does not provide enough guidance for the model to generate the specific \u001b[0m\n",
       "\u001b[32mmacronutrients. It only mentions 'Macronutrients' without specifying which ones. Therefore, the model cannot \u001b[0m\n",
       "\u001b[32maccurately predict the ground truth. Error analysis report:\\n\\nInput: Vitamins\\n\\nPrediction: Vitamins\\n\\nGround \u001b[0m\n",
       "\u001b[32mtruth: Vitamin A, Vitamin C, Vitamin D\\n\\nError reason: The original instruction did not specify any specific \u001b[0m\n",
       "\u001b[32mvitamins to predict, resulting in a prediction that matches the input exactly. Error analysis report:\\n\\nInput: \u001b[0m\n",
       "\u001b[32mMinerals\\n\\nPrediction: Minerals\\n\\nGround truth: Calcium, Iron, Magnesium\\n\\nError reason: The original \u001b[0m\n",
       "\u001b[32minstruction does not specify any specific minerals to predict, resulting in a general prediction of 'Minerals'.\"\u001b[0m\u001b[1m}\u001b[0m\n"
      ]
     },
     "metadata": {},
     "output_type": "display_data"
    },
    {
     "data": {
      "text/html": [
       "<pre style=\"white-space:pre;overflow-x:auto;line-height:normal;font-family:Menlo,'DejaVu Sans Mono',consolas,'Courier New',monospace\">Updated instructions for skill <span style=\"color: #008000; text-decoration-color: #008000\">\"skill_0\"</span>:\n",
       "\n",
       "</pre>\n"
      ],
      "text/plain": [
       "Updated instructions for skill \u001b[32m\"skill_0\"\u001b[0m:\n",
       "\n"
      ]
     },
     "metadata": {},
     "output_type": "display_data"
    },
    {
     "data": {
      "text/html": [
       "<pre style=\"white-space:pre;overflow-x:auto;line-height:normal;font-family:Menlo,'DejaVu Sans Mono',consolas,'Courier New',monospace\"><span style=\"color: #008000; text-decoration-color: #008000; font-weight: bold\">Specify the specific macronutrients: Carbohydrates, Proteins, Fats.</span>\n",
       "</pre>\n"
      ],
      "text/plain": [
       "\u001b[1;32mSpecify the specific macronutrients: Carbohydrates, Proteins, Fats.\u001b[0m\n"
      ]
     },
     "metadata": {},
     "output_type": "display_data"
    },
    {
     "data": {
      "text/html": [
       "<pre style=\"white-space:pre;overflow-x:auto;line-height:normal;font-family:Menlo,'DejaVu Sans Mono',consolas,'Courier New',monospace\">Re-apply skill_0 skill to dataset <span style=\"color: #808000; text-decoration-color: #808000\">...</span>\n",
       "</pre>\n"
      ],
      "text/plain": [
       "Re-apply skill_0 skill to dataset \u001b[33m...\u001b[0m\n"
      ]
     },
     "metadata": {},
     "output_type": "display_data"
    },
    {
     "data": {
      "text/html": [
       "<pre style=\"white-space:pre;overflow-x:auto;line-height:normal;font-family:Menlo,'DejaVu Sans Mono',consolas,'Courier New',monospace\">Applying skill: skill_0\n",
       "</pre>\n"
      ],
      "text/plain": [
       "Applying skill: skill_0\n"
      ]
     },
     "metadata": {},
     "output_type": "display_data"
    },
    {
     "data": {
      "text/html": [
       "<pre style=\"white-space:pre;overflow-x:auto;line-height:normal;font-family:Menlo,'DejaVu Sans Mono',consolas,'Courier New',monospace\"><span style=\"font-weight: bold\">[</span><span style=\"color: #008000; text-decoration-color: #008000\">'category'</span><span style=\"font-weight: bold\">]</span>\n",
       "</pre>\n"
      ],
      "text/plain": [
       "\u001b[1m[\u001b[0m\u001b[32m'category'\u001b[0m\u001b[1m]\u001b[0m\n"
      ]
     },
     "metadata": {},
     "output_type": "display_data"
    },
    {
     "name": "stderr",
     "output_type": "stream",
     "text": [
      "  0%|          | 0/3 [00:00<?, ?it/s]"
     ]
    },
    {
     "data": {
      "text/html": [
       "<pre style=\"white-space:pre;overflow-x:auto;line-height:normal;font-family:Menlo,'DejaVu Sans Mono',consolas,'Courier New',monospace\"><span style=\"font-weight: bold\">{</span><span style=\"color: #008000; text-decoration-color: #008000\">'category'</span>: <span style=\"color: #008000; text-decoration-color: #008000\">'Macronutrients'</span>, <span style=\"color: #008000; text-decoration-color: #008000\">'entities'</span>: <span style=\"color: #008000; text-decoration-color: #008000\">'Carbohydrates, Proteins, Fats'</span>, <span style=\"color: #008000; text-decoration-color: #008000\">'text'</span>: <span style=\"color: #008000; text-decoration-color: #008000\">'Carbohydrates provide quick </span>\n",
       "<span style=\"color: #008000; text-decoration-color: #008000\">energy, proteins are essential for muscle repair and growth, and fats are vital for long-term energy storage and </span>\n",
       "<span style=\"color: #008000; text-decoration-color: #008000\">cell function.'</span>, <span style=\"color: #008000; text-decoration-color: #008000\">'skill_0'</span>: <span style=\"color: #008000; text-decoration-color: #008000\">'Macronutrients'</span>, <span style=\"color: #008000; text-decoration-color: #008000\">'skill_1'</span>: <span style=\"color: #008000; text-decoration-color: #008000\">\"Macronutrients are the three main nutrients that provide </span>\n",
       "<span style=\"color: #008000; text-decoration-color: #008000\">energy to the body: carbohydrates, proteins, and fats. Carbohydrates are the body's main source of energy and can </span>\n",
       "<span style=\"color: #008000; text-decoration-color: #008000\">be found in foods like bread, pasta, and fruits. Proteins are essential for building and repairing tissues and can </span>\n",
       "<span style=\"color: #008000; text-decoration-color: #008000\">be found in foods like meat, fish, and beans. Fats are a concentrated source of energy and can be found in foods </span>\n",
       "<span style=\"color: #008000; text-decoration-color: #008000\">like oils, butter, and nuts. Balancing these macronutrients is important for maintaining a healthy diet.\"</span><span style=\"font-weight: bold\">}</span>\n",
       "</pre>\n"
      ],
      "text/plain": [
       "\u001b[1m{\u001b[0m\u001b[32m'category'\u001b[0m: \u001b[32m'Macronutrients'\u001b[0m, \u001b[32m'entities'\u001b[0m: \u001b[32m'Carbohydrates, Proteins, Fats'\u001b[0m, \u001b[32m'text'\u001b[0m: \u001b[32m'Carbohydrates provide quick \u001b[0m\n",
       "\u001b[32menergy, proteins are essential for muscle repair and growth, and fats are vital for long-term energy storage and \u001b[0m\n",
       "\u001b[32mcell function.'\u001b[0m, \u001b[32m'skill_0'\u001b[0m: \u001b[32m'Macronutrients'\u001b[0m, \u001b[32m'skill_1'\u001b[0m: \u001b[32m\"Macronutrients are the three main nutrients that provide \u001b[0m\n",
       "\u001b[32menergy to the body: carbohydrates, proteins, and fats. Carbohydrates are the body's main source of energy and can \u001b[0m\n",
       "\u001b[32mbe found in foods like bread, pasta, and fruits. Proteins are essential for building and repairing tissues and can \u001b[0m\n",
       "\u001b[32mbe found in foods like meat, fish, and beans. Fats are a concentrated source of energy and can be found in foods \u001b[0m\n",
       "\u001b[32mlike oils, butter, and nuts. Balancing these macronutrients is important for maintaining a healthy diet.\"\u001b[0m\u001b[1m}\u001b[0m\n"
      ]
     },
     "metadata": {},
     "output_type": "display_data"
    },
    {
     "name": "stderr",
     "output_type": "stream",
     "text": [
      " 67%|██████▋   | 2/3 [00:03<00:01,  1.94s/it]"
     ]
    },
    {
     "data": {
      "text/html": [
       "<pre style=\"white-space:pre;overflow-x:auto;line-height:normal;font-family:Menlo,'DejaVu Sans Mono',consolas,'Courier New',monospace\"><span style=\"font-weight: bold\">{</span><span style=\"color: #008000; text-decoration-color: #008000\">'category'</span>: <span style=\"color: #008000; text-decoration-color: #008000\">'Vitamins'</span>, <span style=\"color: #008000; text-decoration-color: #008000\">'entities'</span>: <span style=\"color: #008000; text-decoration-color: #008000\">'Vitamin A, Vitamin C, Vitamin D'</span>, <span style=\"color: #008000; text-decoration-color: #008000\">'text'</span>: <span style=\"color: #008000; text-decoration-color: #008000\">'Vitamin A is crucial for good </span>\n",
       "<span style=\"color: #008000; text-decoration-color: #008000\">vision and a healthy immune system, Vitamin C helps in the repair of tissues and the enzymatic production of </span>\n",
       "<span style=\"color: #008000; text-decoration-color: #008000\">certain neurotransmitters, and Vitamin D is essential for strong bones and teeth as it helps the body absorb </span>\n",
       "<span style=\"color: #008000; text-decoration-color: #008000\">calcium.'</span>, <span style=\"color: #008000; text-decoration-color: #008000\">'skill_0'</span>: <span style=\"color: #008000; text-decoration-color: #008000\">'Vitamins'</span>, <span style=\"color: #008000; text-decoration-color: #008000\">'skill_1'</span>: <span style=\"color: #008000; text-decoration-color: #008000\">'Vitamins are organic compounds that are essential for the proper </span>\n",
       "<span style=\"color: #008000; text-decoration-color: #008000\">functioning of the body. They are micronutrients that are required in small amounts and play a crucial role in </span>\n",
       "<span style=\"color: #008000; text-decoration-color: #008000\">various physiological processes. There are 13 essential vitamins, including vitamin A, B vitamins, vitamin C, </span>\n",
       "<span style=\"color: #008000; text-decoration-color: #008000\">vitamin D, vitamin E, and vitamin K. Each vitamin has specific functions and benefits for the body. They are found </span>\n",
       "<span style=\"color: #008000; text-decoration-color: #008000\">in various foods, including fruits, vegetables, dairy products, and meats. It is important to maintain a balanced </span>\n",
       "<span style=\"color: #008000; text-decoration-color: #008000\">diet to ensure an adequate intake of vitamins.'</span><span style=\"font-weight: bold\">}</span>\n",
       "</pre>\n"
      ],
      "text/plain": [
       "\u001b[1m{\u001b[0m\u001b[32m'category'\u001b[0m: \u001b[32m'Vitamins'\u001b[0m, \u001b[32m'entities'\u001b[0m: \u001b[32m'Vitamin A, Vitamin C, Vitamin D'\u001b[0m, \u001b[32m'text'\u001b[0m: \u001b[32m'Vitamin A is crucial for good \u001b[0m\n",
       "\u001b[32mvision and a healthy immune system, Vitamin C helps in the repair of tissues and the enzymatic production of \u001b[0m\n",
       "\u001b[32mcertain neurotransmitters, and Vitamin D is essential for strong bones and teeth as it helps the body absorb \u001b[0m\n",
       "\u001b[32mcalcium.'\u001b[0m, \u001b[32m'skill_0'\u001b[0m: \u001b[32m'Vitamins'\u001b[0m, \u001b[32m'skill_1'\u001b[0m: \u001b[32m'Vitamins are organic compounds that are essential for the proper \u001b[0m\n",
       "\u001b[32mfunctioning of the body. They are micronutrients that are required in small amounts and play a crucial role in \u001b[0m\n",
       "\u001b[32mvarious physiological processes. There are 13 essential vitamins, including vitamin A, B vitamins, vitamin C, \u001b[0m\n",
       "\u001b[32mvitamin D, vitamin E, and vitamin K. Each vitamin has specific functions and benefits for the body. They are found \u001b[0m\n",
       "\u001b[32min various foods, including fruits, vegetables, dairy products, and meats. It is important to maintain a balanced \u001b[0m\n",
       "\u001b[32mdiet to ensure an adequate intake of vitamins.'\u001b[0m\u001b[1m}\u001b[0m\n"
      ]
     },
     "metadata": {},
     "output_type": "display_data"
    },
    {
     "name": "stderr",
     "output_type": "stream",
     "text": [
      "100%|██████████| 3/3 [00:07<00:00,  2.71s/it]"
     ]
    },
    {
     "data": {
      "text/html": [
       "<pre style=\"white-space:pre;overflow-x:auto;line-height:normal;font-family:Menlo,'DejaVu Sans Mono',consolas,'Courier New',monospace\"><span style=\"font-weight: bold\">{</span><span style=\"color: #008000; text-decoration-color: #008000\">'category'</span>: <span style=\"color: #008000; text-decoration-color: #008000\">'Minerals'</span>, <span style=\"color: #008000; text-decoration-color: #008000\">'entities'</span>: <span style=\"color: #008000; text-decoration-color: #008000\">'Calcium, Iron, Magnesium'</span>, <span style=\"color: #008000; text-decoration-color: #008000\">'text'</span>: <span style=\"color: #008000; text-decoration-color: #008000\">'Calcium is necessary for maintaining </span>\n",
       "<span style=\"color: #008000; text-decoration-color: #008000\">healthy bones and teeth, Iron is crucial for making red blood cells and transporting oxygen throughout the body, </span>\n",
       "<span style=\"color: #008000; text-decoration-color: #008000\">and Magnesium plays a role in over 300 enzyme reactions in the human body, including the metabolism of food, </span>\n",
       "<span style=\"color: #008000; text-decoration-color: #008000\">synthesis of fatty acids and proteins, and the transmission of nerve impulses.'</span>, <span style=\"color: #008000; text-decoration-color: #008000\">'skill_0'</span>: <span style=\"color: #008000; text-decoration-color: #008000\">'Minerals'</span>, <span style=\"color: #008000; text-decoration-color: #008000\">'skill_1'</span>: \n",
       "<span style=\"color: #008000; text-decoration-color: #008000\">'Minerals are naturally occurring substances that are solid and inorganic. They are composed of atoms arranged in a</span>\n",
       "<span style=\"color: #008000; text-decoration-color: #008000\">specific crystalline structure. Minerals have a specific chemical composition and physical properties, such as </span>\n",
       "<span style=\"color: #008000; text-decoration-color: #008000\">hardness, color, and luster. They are found in rocks and are essential for various industrial and biological </span>\n",
       "<span style=\"color: #008000; text-decoration-color: #008000\">processes.'</span><span style=\"font-weight: bold\">}</span>\n",
       "</pre>\n"
      ],
      "text/plain": [
       "\u001b[1m{\u001b[0m\u001b[32m'category'\u001b[0m: \u001b[32m'Minerals'\u001b[0m, \u001b[32m'entities'\u001b[0m: \u001b[32m'Calcium, Iron, Magnesium'\u001b[0m, \u001b[32m'text'\u001b[0m: \u001b[32m'Calcium is necessary for maintaining \u001b[0m\n",
       "\u001b[32mhealthy bones and teeth, Iron is crucial for making red blood cells and transporting oxygen throughout the body, \u001b[0m\n",
       "\u001b[32mand Magnesium plays a role in over 300 enzyme reactions in the human body, including the metabolism of food, \u001b[0m\n",
       "\u001b[32msynthesis of fatty acids and proteins, and the transmission of nerve impulses.'\u001b[0m, \u001b[32m'skill_0'\u001b[0m: \u001b[32m'Minerals'\u001b[0m, \u001b[32m'skill_1'\u001b[0m: \n",
       "\u001b[32m'Minerals are naturally occurring substances that are solid and inorganic. They are composed of atoms arranged in a\u001b[0m\n",
       "\u001b[32mspecific crystalline structure. Minerals have a specific chemical composition and physical properties, such as \u001b[0m\n",
       "\u001b[32mhardness, color, and luster. They are found in rocks and are essential for various industrial and biological \u001b[0m\n",
       "\u001b[32mprocesses.'\u001b[0m\u001b[1m}\u001b[0m\n"
      ]
     },
     "metadata": {},
     "output_type": "display_data"
    },
    {
     "name": "stderr",
     "output_type": "stream",
     "text": [
      "100%|██████████| 3/3 [00:18<00:00,  6.31s/it]\n"
     ]
    },
    {
     "data": {
      "text/html": [
       "<pre style=\"white-space:pre;overflow-x:auto;line-height:normal;font-family:Menlo,'DejaVu Sans Mono',consolas,'Courier New',monospace\">Applying skill: skill_1\n",
       "</pre>\n"
      ],
      "text/plain": [
       "Applying skill: skill_1\n"
      ]
     },
     "metadata": {},
     "output_type": "display_data"
    },
    {
     "data": {
      "text/html": [
       "<pre style=\"white-space:pre;overflow-x:auto;line-height:normal;font-family:Menlo,'DejaVu Sans Mono',consolas,'Courier New',monospace\"><span style=\"font-weight: bold\">[</span><span style=\"color: #008000; text-decoration-color: #008000\">'skill_0'</span><span style=\"font-weight: bold\">]</span>\n",
       "</pre>\n"
      ],
      "text/plain": [
       "\u001b[1m[\u001b[0m\u001b[32m'skill_0'\u001b[0m\u001b[1m]\u001b[0m\n"
      ]
     },
     "metadata": {},
     "output_type": "display_data"
    },
    {
     "name": "stderr",
     "output_type": "stream",
     "text": [
      "  0%|          | 0/3 [00:00<?, ?it/s]"
     ]
    },
    {
     "data": {
      "text/html": [
       "<pre style=\"white-space:pre;overflow-x:auto;line-height:normal;font-family:Menlo,'DejaVu Sans Mono',consolas,'Courier New',monospace\"><span style=\"font-weight: bold\">{</span><span style=\"color: #008000; text-decoration-color: #008000\">'category'</span>: <span style=\"color: #008000; text-decoration-color: #008000\">'Macronutrients'</span>, <span style=\"color: #008000; text-decoration-color: #008000\">'entities'</span>: <span style=\"color: #008000; text-decoration-color: #008000\">'Carbohydrates, Proteins, Fats'</span>, <span style=\"color: #008000; text-decoration-color: #008000\">'text'</span>: <span style=\"color: #008000; text-decoration-color: #008000\">'Carbohydrates provide quick </span>\n",
       "<span style=\"color: #008000; text-decoration-color: #008000\">energy, proteins are essential for muscle repair and growth, and fats are vital for long-term energy storage and </span>\n",
       "<span style=\"color: #008000; text-decoration-color: #008000\">cell function.'</span>, <span style=\"color: #008000; text-decoration-color: #008000\">'skill_0'</span>: <span style=\"color: #008000; text-decoration-color: #008000\">'Carbohydrates, Proteins, Fats'</span>, <span style=\"color: #008000; text-decoration-color: #008000\">'skill_1'</span>: <span style=\"color: #008000; text-decoration-color: #008000\">\"Macronutrients are the three main </span>\n",
       "<span style=\"color: #008000; text-decoration-color: #008000\">nutrients that provide energy to the body: carbohydrates, proteins, and fats. Carbohydrates are the body's main </span>\n",
       "<span style=\"color: #008000; text-decoration-color: #008000\">source of energy and can be found in foods like bread, pasta, and fruits. Proteins are essential for building and </span>\n",
       "<span style=\"color: #008000; text-decoration-color: #008000\">repairing tissues and can be found in foods like meat, fish, and beans. Fats are a concentrated source of energy </span>\n",
       "<span style=\"color: #008000; text-decoration-color: #008000\">and can be found in foods like oils, butter, and nuts. Balancing these macronutrients is important for maintaining </span>\n",
       "<span style=\"color: #008000; text-decoration-color: #008000\">a healthy diet.\"</span><span style=\"font-weight: bold\">}</span>\n",
       "</pre>\n"
      ],
      "text/plain": [
       "\u001b[1m{\u001b[0m\u001b[32m'category'\u001b[0m: \u001b[32m'Macronutrients'\u001b[0m, \u001b[32m'entities'\u001b[0m: \u001b[32m'Carbohydrates, Proteins, Fats'\u001b[0m, \u001b[32m'text'\u001b[0m: \u001b[32m'Carbohydrates provide quick \u001b[0m\n",
       "\u001b[32menergy, proteins are essential for muscle repair and growth, and fats are vital for long-term energy storage and \u001b[0m\n",
       "\u001b[32mcell function.'\u001b[0m, \u001b[32m'skill_0'\u001b[0m: \u001b[32m'Carbohydrates, Proteins, Fats'\u001b[0m, \u001b[32m'skill_1'\u001b[0m: \u001b[32m\"Macronutrients are the three main \u001b[0m\n",
       "\u001b[32mnutrients that provide energy to the body: carbohydrates, proteins, and fats. Carbohydrates are the body's main \u001b[0m\n",
       "\u001b[32msource of energy and can be found in foods like bread, pasta, and fruits. Proteins are essential for building and \u001b[0m\n",
       "\u001b[32mrepairing tissues and can be found in foods like meat, fish, and beans. Fats are a concentrated source of energy \u001b[0m\n",
       "\u001b[32mand can be found in foods like oils, butter, and nuts. Balancing these macronutrients is important for maintaining \u001b[0m\n",
       "\u001b[32ma healthy diet.\"\u001b[0m\u001b[1m}\u001b[0m\n"
      ]
     },
     "metadata": {},
     "output_type": "display_data"
    },
    {
     "name": "stderr",
     "output_type": "stream",
     "text": [
      " 67%|██████▋   | 2/3 [00:05<00:02,  2.56s/it]"
     ]
    },
    {
     "data": {
      "text/html": [
       "<pre style=\"white-space:pre;overflow-x:auto;line-height:normal;font-family:Menlo,'DejaVu Sans Mono',consolas,'Courier New',monospace\"><span style=\"font-weight: bold\">{</span><span style=\"color: #008000; text-decoration-color: #008000\">'category'</span>: <span style=\"color: #008000; text-decoration-color: #008000\">'Vitamins'</span>, <span style=\"color: #008000; text-decoration-color: #008000\">'entities'</span>: <span style=\"color: #008000; text-decoration-color: #008000\">'Vitamin A, Vitamin C, Vitamin D'</span>, <span style=\"color: #008000; text-decoration-color: #008000\">'text'</span>: <span style=\"color: #008000; text-decoration-color: #008000\">'Vitamin A is crucial for good </span>\n",
       "<span style=\"color: #008000; text-decoration-color: #008000\">vision and a healthy immune system, Vitamin C helps in the repair of tissues and the enzymatic production of </span>\n",
       "<span style=\"color: #008000; text-decoration-color: #008000\">certain neurotransmitters, and Vitamin D is essential for strong bones and teeth as it helps the body absorb </span>\n",
       "<span style=\"color: #008000; text-decoration-color: #008000\">calcium.'</span>, <span style=\"color: #008000; text-decoration-color: #008000\">'skill_0'</span>: <span style=\"color: #008000; text-decoration-color: #008000\">'Vitamins'</span>, <span style=\"color: #008000; text-decoration-color: #008000\">'skill_1'</span>: <span style=\"color: #008000; text-decoration-color: #008000\">'Vitamins are organic compounds that are essential for the proper </span>\n",
       "<span style=\"color: #008000; text-decoration-color: #008000\">functioning of the body. They are micronutrients that are required in small amounts and play a crucial role in </span>\n",
       "<span style=\"color: #008000; text-decoration-color: #008000\">various physiological processes. There are 13 essential vitamins, including vitamin A, B vitamins, vitamin C, </span>\n",
       "<span style=\"color: #008000; text-decoration-color: #008000\">vitamin D, vitamin E, and vitamin K. Each vitamin has specific functions and benefits for the body. They are found </span>\n",
       "<span style=\"color: #008000; text-decoration-color: #008000\">in various foods, including fruits, vegetables, dairy products, and meats. It is important to maintain a balanced </span>\n",
       "<span style=\"color: #008000; text-decoration-color: #008000\">diet to ensure an adequate intake of vitamins.'</span><span style=\"font-weight: bold\">}</span>\n",
       "</pre>\n"
      ],
      "text/plain": [
       "\u001b[1m{\u001b[0m\u001b[32m'category'\u001b[0m: \u001b[32m'Vitamins'\u001b[0m, \u001b[32m'entities'\u001b[0m: \u001b[32m'Vitamin A, Vitamin C, Vitamin D'\u001b[0m, \u001b[32m'text'\u001b[0m: \u001b[32m'Vitamin A is crucial for good \u001b[0m\n",
       "\u001b[32mvision and a healthy immune system, Vitamin C helps in the repair of tissues and the enzymatic production of \u001b[0m\n",
       "\u001b[32mcertain neurotransmitters, and Vitamin D is essential for strong bones and teeth as it helps the body absorb \u001b[0m\n",
       "\u001b[32mcalcium.'\u001b[0m, \u001b[32m'skill_0'\u001b[0m: \u001b[32m'Vitamins'\u001b[0m, \u001b[32m'skill_1'\u001b[0m: \u001b[32m'Vitamins are organic compounds that are essential for the proper \u001b[0m\n",
       "\u001b[32mfunctioning of the body. They are micronutrients that are required in small amounts and play a crucial role in \u001b[0m\n",
       "\u001b[32mvarious physiological processes. There are 13 essential vitamins, including vitamin A, B vitamins, vitamin C, \u001b[0m\n",
       "\u001b[32mvitamin D, vitamin E, and vitamin K. Each vitamin has specific functions and benefits for the body. They are found \u001b[0m\n",
       "\u001b[32min various foods, including fruits, vegetables, dairy products, and meats. It is important to maintain a balanced \u001b[0m\n",
       "\u001b[32mdiet to ensure an adequate intake of vitamins.'\u001b[0m\u001b[1m}\u001b[0m\n"
      ]
     },
     "metadata": {},
     "output_type": "display_data"
    },
    {
     "name": "stderr",
     "output_type": "stream",
     "text": [
      "100%|██████████| 3/3 [00:29<00:00, 11.52s/it]"
     ]
    },
    {
     "data": {
      "text/html": [
       "<pre style=\"white-space:pre;overflow-x:auto;line-height:normal;font-family:Menlo,'DejaVu Sans Mono',consolas,'Courier New',monospace\"><span style=\"font-weight: bold\">{</span><span style=\"color: #008000; text-decoration-color: #008000\">'category'</span>: <span style=\"color: #008000; text-decoration-color: #008000\">'Minerals'</span>, <span style=\"color: #008000; text-decoration-color: #008000\">'entities'</span>: <span style=\"color: #008000; text-decoration-color: #008000\">'Calcium, Iron, Magnesium'</span>, <span style=\"color: #008000; text-decoration-color: #008000\">'text'</span>: <span style=\"color: #008000; text-decoration-color: #008000\">'Calcium is necessary for maintaining </span>\n",
       "<span style=\"color: #008000; text-decoration-color: #008000\">healthy bones and teeth, Iron is crucial for making red blood cells and transporting oxygen throughout the body, </span>\n",
       "<span style=\"color: #008000; text-decoration-color: #008000\">and Magnesium plays a role in over 300 enzyme reactions in the human body, including the metabolism of food, </span>\n",
       "<span style=\"color: #008000; text-decoration-color: #008000\">synthesis of fatty acids and proteins, and the transmission of nerve impulses.'</span>, <span style=\"color: #008000; text-decoration-color: #008000\">'skill_0'</span>: <span style=\"color: #008000; text-decoration-color: #008000\">'Minerals'</span>, <span style=\"color: #008000; text-decoration-color: #008000\">'skill_1'</span>: \n",
       "<span style=\"color: #008000; text-decoration-color: #008000\">'Minerals are naturally occurring substances that are solid and inorganic. They are composed of atoms arranged in a</span>\n",
       "<span style=\"color: #008000; text-decoration-color: #008000\">specific crystalline structure. Minerals have a specific chemical composition and physical properties, such as </span>\n",
       "<span style=\"color: #008000; text-decoration-color: #008000\">hardness, color, and luster. They are found in rocks and are essential for various industrial and biological </span>\n",
       "<span style=\"color: #008000; text-decoration-color: #008000\">processes.'</span><span style=\"font-weight: bold\">}</span>\n",
       "</pre>\n"
      ],
      "text/plain": [
       "\u001b[1m{\u001b[0m\u001b[32m'category'\u001b[0m: \u001b[32m'Minerals'\u001b[0m, \u001b[32m'entities'\u001b[0m: \u001b[32m'Calcium, Iron, Magnesium'\u001b[0m, \u001b[32m'text'\u001b[0m: \u001b[32m'Calcium is necessary for maintaining \u001b[0m\n",
       "\u001b[32mhealthy bones and teeth, Iron is crucial for making red blood cells and transporting oxygen throughout the body, \u001b[0m\n",
       "\u001b[32mand Magnesium plays a role in over 300 enzyme reactions in the human body, including the metabolism of food, \u001b[0m\n",
       "\u001b[32msynthesis of fatty acids and proteins, and the transmission of nerve impulses.'\u001b[0m, \u001b[32m'skill_0'\u001b[0m: \u001b[32m'Minerals'\u001b[0m, \u001b[32m'skill_1'\u001b[0m: \n",
       "\u001b[32m'Minerals are naturally occurring substances that are solid and inorganic. They are composed of atoms arranged in a\u001b[0m\n",
       "\u001b[32mspecific crystalline structure. Minerals have a specific chemical composition and physical properties, such as \u001b[0m\n",
       "\u001b[32mhardness, color, and luster. They are found in rocks and are essential for various industrial and biological \u001b[0m\n",
       "\u001b[32mprocesses.'\u001b[0m\u001b[1m}\u001b[0m\n"
      ]
     },
     "metadata": {},
     "output_type": "display_data"
    },
    {
     "name": "stderr",
     "output_type": "stream",
     "text": [
      "100%|██████████| 3/3 [00:38<00:00, 12.76s/it]\n"
     ]
    },
    {
     "data": {
      "text/html": [
       "<pre style=\"white-space:pre;overflow-x:auto;line-height:normal;font-family:Menlo,'DejaVu Sans Mono',consolas,'Courier New',monospace\">\n",
       "\n",
       "=&gt; Iteration #<span style=\"color: #008080; text-decoration-color: #008080; font-weight: bold\">1</span>: Comparing to ground truth, analyzing and improving <span style=\"color: #808000; text-decoration-color: #808000\">...</span>\n",
       "</pre>\n"
      ],
      "text/plain": [
       "\n",
       "\n",
       "=> Iteration #\u001b[1;36m1\u001b[0m: Comparing to ground truth, analyzing and improving \u001b[33m...\u001b[0m\n"
      ]
     },
     "metadata": {},
     "output_type": "display_data"
    },
    {
     "data": {
      "text/html": [
       "<pre style=\"white-space:pre;overflow-x:auto;line-height:normal;font-family:Menlo,'DejaVu Sans Mono',consolas,'Courier New',monospace\"><span style=\"color: #008080; text-decoration-color: #008080; font-weight: bold\">0</span>      Carbohydrates, Proteins, Fats\n",
       "<span style=\"color: #008080; text-decoration-color: #008080; font-weight: bold\">1</span>    Vitamin A, Vitamin C, Vitamin D\n",
       "<span style=\"color: #008080; text-decoration-color: #008080; font-weight: bold\">2</span>           Calcium, Iron, Magnesium\n",
       "Name: entities, dtype: object\n",
       "</pre>\n"
      ],
      "text/plain": [
       "\u001b[1;36m0\u001b[0m      Carbohydrates, Proteins, Fats\n",
       "\u001b[1;36m1\u001b[0m    Vitamin A, Vitamin C, Vitamin D\n",
       "\u001b[1;36m2\u001b[0m           Calcium, Iron, Magnesium\n",
       "Name: entities, dtype: object\n"
      ]
     },
     "metadata": {},
     "output_type": "display_data"
    },
    {
     "data": {
      "text/html": [
       "<pre style=\"white-space:pre;overflow-x:auto;line-height:normal;font-family:Menlo,'DejaVu Sans Mono',consolas,'Courier New',monospace\"><span style=\"color: #008080; text-decoration-color: #008080; font-weight: bold\">0</span>    Carbohydrates, Proteins, Fats\n",
       "<span style=\"color: #008080; text-decoration-color: #008080; font-weight: bold\">1</span>                         Vitamins\n",
       "<span style=\"color: #008080; text-decoration-color: #008080; font-weight: bold\">2</span>                         Minerals\n",
       "Name: skill_0, dtype: object\n",
       "</pre>\n"
      ],
      "text/plain": [
       "\u001b[1;36m0\u001b[0m    Carbohydrates, Proteins, Fats\n",
       "\u001b[1;36m1\u001b[0m                         Vitamins\n",
       "\u001b[1;36m2\u001b[0m                         Minerals\n",
       "Name: skill_0, dtype: object\n"
      ]
     },
     "metadata": {},
     "output_type": "display_data"
    },
    {
     "data": {
      "text/html": [
       "<pre style=\"white-space:pre;overflow-x:auto;line-height:normal;font-family:Menlo,'DejaVu Sans Mono',consolas,'Courier New',monospace\"><span style=\"color: #008080; text-decoration-color: #008080; font-weight: bold\">0</span>    Carbohydrates provide quick energy, proteins a<span style=\"color: #808000; text-decoration-color: #808000\">...</span>\n",
       "<span style=\"color: #008080; text-decoration-color: #008080; font-weight: bold\">1</span>    Vitamin A is crucial for good vision and a hea<span style=\"color: #808000; text-decoration-color: #808000\">...</span>\n",
       "<span style=\"color: #008080; text-decoration-color: #008080; font-weight: bold\">2</span>    Calcium is necessary for maintaining healthy b<span style=\"color: #808000; text-decoration-color: #808000\">...</span>\n",
       "Name: text, dtype: object\n",
       "</pre>\n"
      ],
      "text/plain": [
       "\u001b[1;36m0\u001b[0m    Carbohydrates provide quick energy, proteins a\u001b[33m...\u001b[0m\n",
       "\u001b[1;36m1\u001b[0m    Vitamin A is crucial for good vision and a hea\u001b[33m...\u001b[0m\n",
       "\u001b[1;36m2\u001b[0m    Calcium is necessary for maintaining healthy b\u001b[33m...\u001b[0m\n",
       "Name: text, dtype: object\n"
      ]
     },
     "metadata": {},
     "output_type": "display_data"
    },
    {
     "data": {
      "text/html": [
       "<pre style=\"white-space:pre;overflow-x:auto;line-height:normal;font-family:Menlo,'DejaVu Sans Mono',consolas,'Courier New',monospace\"><span style=\"color: #008080; text-decoration-color: #008080; font-weight: bold\">0</span>                        Carbohydrates, Proteins, Fats\n",
       "<span style=\"color: #008080; text-decoration-color: #008080; font-weight: bold\">1</span>    Vitamins are organic compounds that are essent<span style=\"color: #808000; text-decoration-color: #808000\">...</span>\n",
       "<span style=\"color: #008080; text-decoration-color: #008080; font-weight: bold\">2</span>    Minerals are naturally occurring inorganic sub<span style=\"color: #808000; text-decoration-color: #808000\">...</span>\n",
       "Name: skill_1, dtype: object\n",
       "</pre>\n"
      ],
      "text/plain": [
       "\u001b[1;36m0\u001b[0m                        Carbohydrates, Proteins, Fats\n",
       "\u001b[1;36m1\u001b[0m    Vitamins are organic compounds that are essent\u001b[33m...\u001b[0m\n",
       "\u001b[1;36m2\u001b[0m    Minerals are naturally occurring inorganic sub\u001b[33m...\u001b[0m\n",
       "Name: skill_1, dtype: object\n"
      ]
     },
     "metadata": {},
     "output_type": "display_data"
    },
    {
     "data": {
      "text/html": [
       "<pre style=\"white-space:pre;overflow-x:auto;line-height:normal;font-family:Menlo,'DejaVu Sans Mono',consolas,'Courier New',monospace\">Comparing predictions to ground truth data <span style=\"color: #808000; text-decoration-color: #808000\">...</span>\n",
       "</pre>\n"
      ],
      "text/plain": [
       "Comparing predictions to ground truth data \u001b[33m...\u001b[0m\n"
      ]
     },
     "metadata": {},
     "output_type": "display_data"
    },
    {
     "data": {
      "text/html": [
       "<pre style=\"white-space:pre;overflow-x:auto;line-height:normal;font-family:Menlo,'DejaVu Sans Mono',consolas,'Courier New',monospace\">                                                                                                                   \n",
       " <span style=\"color: #800080; text-decoration-color: #800080; font-weight: bold\"> category       </span> <span style=\"color: #800080; text-decoration-color: #800080; font-weight: bold\"> entities         </span> <span style=\"color: #800080; text-decoration-color: #800080; font-weight: bold\"> text             </span> <span style=\"color: #800080; text-decoration-color: #800080; font-weight: bold\"> skill_0           </span> <span style=\"color: #800080; text-decoration-color: #800080; font-weight: bold\"> skill_1          </span> <span style=\"color: #800080; text-decoration-color: #800080; font-weight: bold\"> skill_0 </span> <span style=\"color: #800080; text-decoration-color: #800080; font-weight: bold\"> skill_1 </span> \n",
       " ───────────────────────────────────────────────────────────────────────────────────────────────────────────────── \n",
       "  Macronutrients   Carbohydrates,     Carbohydrates      Carbohydrates,      Carbohydrates,     True      False    \n",
       "                   Proteins, Fats     provide quick      Proteins, Fats      Proteins, Fats                        \n",
       "                                      energy, proteins                                                             \n",
       "                                      are essential                                                                \n",
       "                                      for muscle                                                                   \n",
       "                                      repair and                                                                   \n",
       "                                      growth, and fats                                                             \n",
       "                                      are vital for                                                                \n",
       "                                      long-term energy                                                             \n",
       "                                      storage and cell                                                             \n",
       "                                      function.                                                                    \n",
       " <span style=\"color: #7f7f7f; text-decoration-color: #7f7f7f\"> Vitamins       </span> <span style=\"color: #7f7f7f; text-decoration-color: #7f7f7f\"> Vitamin A,       </span> <span style=\"color: #7f7f7f; text-decoration-color: #7f7f7f\"> Vitamin A is     </span> <span style=\"color: #7f7f7f; text-decoration-color: #7f7f7f\"> Vitamins          </span> <span style=\"color: #7f7f7f; text-decoration-color: #7f7f7f\"> Vitamins are     </span> <span style=\"color: #7f7f7f; text-decoration-color: #7f7f7f\"> False   </span> <span style=\"color: #7f7f7f; text-decoration-color: #7f7f7f\"> False   </span> \n",
       " <span style=\"color: #7f7f7f; text-decoration-color: #7f7f7f\">                </span> <span style=\"color: #7f7f7f; text-decoration-color: #7f7f7f\"> Vitamin C,       </span> <span style=\"color: #7f7f7f; text-decoration-color: #7f7f7f\"> crucial for good </span> <span style=\"color: #7f7f7f; text-decoration-color: #7f7f7f\">                   </span> <span style=\"color: #7f7f7f; text-decoration-color: #7f7f7f\"> organic          </span> <span style=\"color: #7f7f7f; text-decoration-color: #7f7f7f\">         </span> <span style=\"color: #7f7f7f; text-decoration-color: #7f7f7f\">         </span> \n",
       " <span style=\"color: #7f7f7f; text-decoration-color: #7f7f7f\">                </span> <span style=\"color: #7f7f7f; text-decoration-color: #7f7f7f\"> Vitamin D        </span> <span style=\"color: #7f7f7f; text-decoration-color: #7f7f7f\"> vision and a     </span> <span style=\"color: #7f7f7f; text-decoration-color: #7f7f7f\">                   </span> <span style=\"color: #7f7f7f; text-decoration-color: #7f7f7f\"> compounds that   </span> <span style=\"color: #7f7f7f; text-decoration-color: #7f7f7f\">         </span> <span style=\"color: #7f7f7f; text-decoration-color: #7f7f7f\">         </span> \n",
       " <span style=\"color: #7f7f7f; text-decoration-color: #7f7f7f\">                </span> <span style=\"color: #7f7f7f; text-decoration-color: #7f7f7f\">                  </span> <span style=\"color: #7f7f7f; text-decoration-color: #7f7f7f\"> healthy immune   </span> <span style=\"color: #7f7f7f; text-decoration-color: #7f7f7f\">                   </span> <span style=\"color: #7f7f7f; text-decoration-color: #7f7f7f\"> are essential    </span> <span style=\"color: #7f7f7f; text-decoration-color: #7f7f7f\">         </span> <span style=\"color: #7f7f7f; text-decoration-color: #7f7f7f\">         </span> \n",
       " <span style=\"color: #7f7f7f; text-decoration-color: #7f7f7f\">                </span> <span style=\"color: #7f7f7f; text-decoration-color: #7f7f7f\">                  </span> <span style=\"color: #7f7f7f; text-decoration-color: #7f7f7f\"> system, Vitamin  </span> <span style=\"color: #7f7f7f; text-decoration-color: #7f7f7f\">                   </span> <span style=\"color: #7f7f7f; text-decoration-color: #7f7f7f\"> for the proper   </span> <span style=\"color: #7f7f7f; text-decoration-color: #7f7f7f\">         </span> <span style=\"color: #7f7f7f; text-decoration-color: #7f7f7f\">         </span> \n",
       " <span style=\"color: #7f7f7f; text-decoration-color: #7f7f7f\">                </span> <span style=\"color: #7f7f7f; text-decoration-color: #7f7f7f\">                  </span> <span style=\"color: #7f7f7f; text-decoration-color: #7f7f7f\"> C helps in the   </span> <span style=\"color: #7f7f7f; text-decoration-color: #7f7f7f\">                   </span> <span style=\"color: #7f7f7f; text-decoration-color: #7f7f7f\"> functioning of   </span> <span style=\"color: #7f7f7f; text-decoration-color: #7f7f7f\">         </span> <span style=\"color: #7f7f7f; text-decoration-color: #7f7f7f\">         </span> \n",
       " <span style=\"color: #7f7f7f; text-decoration-color: #7f7f7f\">                </span> <span style=\"color: #7f7f7f; text-decoration-color: #7f7f7f\">                  </span> <span style=\"color: #7f7f7f; text-decoration-color: #7f7f7f\"> repair of        </span> <span style=\"color: #7f7f7f; text-decoration-color: #7f7f7f\">                   </span> <span style=\"color: #7f7f7f; text-decoration-color: #7f7f7f\"> the body. They   </span> <span style=\"color: #7f7f7f; text-decoration-color: #7f7f7f\">         </span> <span style=\"color: #7f7f7f; text-decoration-color: #7f7f7f\">         </span> \n",
       " <span style=\"color: #7f7f7f; text-decoration-color: #7f7f7f\">                </span> <span style=\"color: #7f7f7f; text-decoration-color: #7f7f7f\">                  </span> <span style=\"color: #7f7f7f; text-decoration-color: #7f7f7f\"> tissues and the  </span> <span style=\"color: #7f7f7f; text-decoration-color: #7f7f7f\">                   </span> <span style=\"color: #7f7f7f; text-decoration-color: #7f7f7f\"> are              </span> <span style=\"color: #7f7f7f; text-decoration-color: #7f7f7f\">         </span> <span style=\"color: #7f7f7f; text-decoration-color: #7f7f7f\">         </span> \n",
       " <span style=\"color: #7f7f7f; text-decoration-color: #7f7f7f\">                </span> <span style=\"color: #7f7f7f; text-decoration-color: #7f7f7f\">                  </span> <span style=\"color: #7f7f7f; text-decoration-color: #7f7f7f\"> enzymatic        </span> <span style=\"color: #7f7f7f; text-decoration-color: #7f7f7f\">                   </span> <span style=\"color: #7f7f7f; text-decoration-color: #7f7f7f\"> micronutrients   </span> <span style=\"color: #7f7f7f; text-decoration-color: #7f7f7f\">         </span> <span style=\"color: #7f7f7f; text-decoration-color: #7f7f7f\">         </span> \n",
       " <span style=\"color: #7f7f7f; text-decoration-color: #7f7f7f\">                </span> <span style=\"color: #7f7f7f; text-decoration-color: #7f7f7f\">                  </span> <span style=\"color: #7f7f7f; text-decoration-color: #7f7f7f\"> production of    </span> <span style=\"color: #7f7f7f; text-decoration-color: #7f7f7f\">                   </span> <span style=\"color: #7f7f7f; text-decoration-color: #7f7f7f\"> that are         </span> <span style=\"color: #7f7f7f; text-decoration-color: #7f7f7f\">         </span> <span style=\"color: #7f7f7f; text-decoration-color: #7f7f7f\">         </span> \n",
       " <span style=\"color: #7f7f7f; text-decoration-color: #7f7f7f\">                </span> <span style=\"color: #7f7f7f; text-decoration-color: #7f7f7f\">                  </span> <span style=\"color: #7f7f7f; text-decoration-color: #7f7f7f\"> certain          </span> <span style=\"color: #7f7f7f; text-decoration-color: #7f7f7f\">                   </span> <span style=\"color: #7f7f7f; text-decoration-color: #7f7f7f\"> required in      </span> <span style=\"color: #7f7f7f; text-decoration-color: #7f7f7f\">         </span> <span style=\"color: #7f7f7f; text-decoration-color: #7f7f7f\">         </span> \n",
       " <span style=\"color: #7f7f7f; text-decoration-color: #7f7f7f\">                </span> <span style=\"color: #7f7f7f; text-decoration-color: #7f7f7f\">                  </span> <span style=\"color: #7f7f7f; text-decoration-color: #7f7f7f\"> neurotransmitte… </span> <span style=\"color: #7f7f7f; text-decoration-color: #7f7f7f\">                   </span> <span style=\"color: #7f7f7f; text-decoration-color: #7f7f7f\"> small amounts    </span> <span style=\"color: #7f7f7f; text-decoration-color: #7f7f7f\">         </span> <span style=\"color: #7f7f7f; text-decoration-color: #7f7f7f\">         </span> \n",
       " <span style=\"color: #7f7f7f; text-decoration-color: #7f7f7f\">                </span> <span style=\"color: #7f7f7f; text-decoration-color: #7f7f7f\">                  </span> <span style=\"color: #7f7f7f; text-decoration-color: #7f7f7f\"> and Vitamin D is </span> <span style=\"color: #7f7f7f; text-decoration-color: #7f7f7f\">                   </span> <span style=\"color: #7f7f7f; text-decoration-color: #7f7f7f\"> and play a       </span> <span style=\"color: #7f7f7f; text-decoration-color: #7f7f7f\">         </span> <span style=\"color: #7f7f7f; text-decoration-color: #7f7f7f\">         </span> \n",
       " <span style=\"color: #7f7f7f; text-decoration-color: #7f7f7f\">                </span> <span style=\"color: #7f7f7f; text-decoration-color: #7f7f7f\">                  </span> <span style=\"color: #7f7f7f; text-decoration-color: #7f7f7f\"> essential for    </span> <span style=\"color: #7f7f7f; text-decoration-color: #7f7f7f\">                   </span> <span style=\"color: #7f7f7f; text-decoration-color: #7f7f7f\"> crucial role in  </span> <span style=\"color: #7f7f7f; text-decoration-color: #7f7f7f\">         </span> <span style=\"color: #7f7f7f; text-decoration-color: #7f7f7f\">         </span> \n",
       " <span style=\"color: #7f7f7f; text-decoration-color: #7f7f7f\">                </span> <span style=\"color: #7f7f7f; text-decoration-color: #7f7f7f\">                  </span> <span style=\"color: #7f7f7f; text-decoration-color: #7f7f7f\"> strong bones and </span> <span style=\"color: #7f7f7f; text-decoration-color: #7f7f7f\">                   </span> <span style=\"color: #7f7f7f; text-decoration-color: #7f7f7f\"> various          </span> <span style=\"color: #7f7f7f; text-decoration-color: #7f7f7f\">         </span> <span style=\"color: #7f7f7f; text-decoration-color: #7f7f7f\">         </span> \n",
       " <span style=\"color: #7f7f7f; text-decoration-color: #7f7f7f\">                </span> <span style=\"color: #7f7f7f; text-decoration-color: #7f7f7f\">                  </span> <span style=\"color: #7f7f7f; text-decoration-color: #7f7f7f\"> teeth as it      </span> <span style=\"color: #7f7f7f; text-decoration-color: #7f7f7f\">                   </span> <span style=\"color: #7f7f7f; text-decoration-color: #7f7f7f\"> physiological    </span> <span style=\"color: #7f7f7f; text-decoration-color: #7f7f7f\">         </span> <span style=\"color: #7f7f7f; text-decoration-color: #7f7f7f\">         </span> \n",
       " <span style=\"color: #7f7f7f; text-decoration-color: #7f7f7f\">                </span> <span style=\"color: #7f7f7f; text-decoration-color: #7f7f7f\">                  </span> <span style=\"color: #7f7f7f; text-decoration-color: #7f7f7f\"> helps the body   </span> <span style=\"color: #7f7f7f; text-decoration-color: #7f7f7f\">                   </span> <span style=\"color: #7f7f7f; text-decoration-color: #7f7f7f\"> processes.       </span> <span style=\"color: #7f7f7f; text-decoration-color: #7f7f7f\">         </span> <span style=\"color: #7f7f7f; text-decoration-color: #7f7f7f\">         </span> \n",
       " <span style=\"color: #7f7f7f; text-decoration-color: #7f7f7f\">                </span> <span style=\"color: #7f7f7f; text-decoration-color: #7f7f7f\">                  </span> <span style=\"color: #7f7f7f; text-decoration-color: #7f7f7f\"> absorb calcium.  </span> <span style=\"color: #7f7f7f; text-decoration-color: #7f7f7f\">                   </span> <span style=\"color: #7f7f7f; text-decoration-color: #7f7f7f\"> Vitamins are     </span> <span style=\"color: #7f7f7f; text-decoration-color: #7f7f7f\">         </span> <span style=\"color: #7f7f7f; text-decoration-color: #7f7f7f\">         </span> \n",
       " <span style=\"color: #7f7f7f; text-decoration-color: #7f7f7f\">                </span> <span style=\"color: #7f7f7f; text-decoration-color: #7f7f7f\">                  </span> <span style=\"color: #7f7f7f; text-decoration-color: #7f7f7f\">                  </span> <span style=\"color: #7f7f7f; text-decoration-color: #7f7f7f\">                   </span> <span style=\"color: #7f7f7f; text-decoration-color: #7f7f7f\"> classified into  </span> <span style=\"color: #7f7f7f; text-decoration-color: #7f7f7f\">         </span> <span style=\"color: #7f7f7f; text-decoration-color: #7f7f7f\">         </span> \n",
       " <span style=\"color: #7f7f7f; text-decoration-color: #7f7f7f\">                </span> <span style=\"color: #7f7f7f; text-decoration-color: #7f7f7f\">                  </span> <span style=\"color: #7f7f7f; text-decoration-color: #7f7f7f\">                  </span> <span style=\"color: #7f7f7f; text-decoration-color: #7f7f7f\">                   </span> <span style=\"color: #7f7f7f; text-decoration-color: #7f7f7f\"> two categories:  </span> <span style=\"color: #7f7f7f; text-decoration-color: #7f7f7f\">         </span> <span style=\"color: #7f7f7f; text-decoration-color: #7f7f7f\">         </span> \n",
       " <span style=\"color: #7f7f7f; text-decoration-color: #7f7f7f\">                </span> <span style=\"color: #7f7f7f; text-decoration-color: #7f7f7f\">                  </span> <span style=\"color: #7f7f7f; text-decoration-color: #7f7f7f\">                  </span> <span style=\"color: #7f7f7f; text-decoration-color: #7f7f7f\">                   </span> <span style=\"color: #7f7f7f; text-decoration-color: #7f7f7f\"> water-soluble    </span> <span style=\"color: #7f7f7f; text-decoration-color: #7f7f7f\">         </span> <span style=\"color: #7f7f7f; text-decoration-color: #7f7f7f\">         </span> \n",
       " <span style=\"color: #7f7f7f; text-decoration-color: #7f7f7f\">                </span> <span style=\"color: #7f7f7f; text-decoration-color: #7f7f7f\">                  </span> <span style=\"color: #7f7f7f; text-decoration-color: #7f7f7f\">                  </span> <span style=\"color: #7f7f7f; text-decoration-color: #7f7f7f\">                   </span> <span style=\"color: #7f7f7f; text-decoration-color: #7f7f7f\"> vitamins (such   </span> <span style=\"color: #7f7f7f; text-decoration-color: #7f7f7f\">         </span> <span style=\"color: #7f7f7f; text-decoration-color: #7f7f7f\">         </span> \n",
       " <span style=\"color: #7f7f7f; text-decoration-color: #7f7f7f\">                </span> <span style=\"color: #7f7f7f; text-decoration-color: #7f7f7f\">                  </span> <span style=\"color: #7f7f7f; text-decoration-color: #7f7f7f\">                  </span> <span style=\"color: #7f7f7f; text-decoration-color: #7f7f7f\">                   </span> <span style=\"color: #7f7f7f; text-decoration-color: #7f7f7f\"> as vitamin C and </span> <span style=\"color: #7f7f7f; text-decoration-color: #7f7f7f\">         </span> <span style=\"color: #7f7f7f; text-decoration-color: #7f7f7f\">         </span> \n",
       " <span style=\"color: #7f7f7f; text-decoration-color: #7f7f7f\">                </span> <span style=\"color: #7f7f7f; text-decoration-color: #7f7f7f\">                  </span> <span style=\"color: #7f7f7f; text-decoration-color: #7f7f7f\">                  </span> <span style=\"color: #7f7f7f; text-decoration-color: #7f7f7f\">                   </span> <span style=\"color: #7f7f7f; text-decoration-color: #7f7f7f\"> the B vitamins)  </span> <span style=\"color: #7f7f7f; text-decoration-color: #7f7f7f\">         </span> <span style=\"color: #7f7f7f; text-decoration-color: #7f7f7f\">         </span> \n",
       " <span style=\"color: #7f7f7f; text-decoration-color: #7f7f7f\">                </span> <span style=\"color: #7f7f7f; text-decoration-color: #7f7f7f\">                  </span> <span style=\"color: #7f7f7f; text-decoration-color: #7f7f7f\">                  </span> <span style=\"color: #7f7f7f; text-decoration-color: #7f7f7f\">                   </span> <span style=\"color: #7f7f7f; text-decoration-color: #7f7f7f\"> and fat-soluble  </span> <span style=\"color: #7f7f7f; text-decoration-color: #7f7f7f\">         </span> <span style=\"color: #7f7f7f; text-decoration-color: #7f7f7f\">         </span> \n",
       " <span style=\"color: #7f7f7f; text-decoration-color: #7f7f7f\">                </span> <span style=\"color: #7f7f7f; text-decoration-color: #7f7f7f\">                  </span> <span style=\"color: #7f7f7f; text-decoration-color: #7f7f7f\">                  </span> <span style=\"color: #7f7f7f; text-decoration-color: #7f7f7f\">                   </span> <span style=\"color: #7f7f7f; text-decoration-color: #7f7f7f\"> vitamins (such   </span> <span style=\"color: #7f7f7f; text-decoration-color: #7f7f7f\">         </span> <span style=\"color: #7f7f7f; text-decoration-color: #7f7f7f\">         </span> \n",
       " <span style=\"color: #7f7f7f; text-decoration-color: #7f7f7f\">                </span> <span style=\"color: #7f7f7f; text-decoration-color: #7f7f7f\">                  </span> <span style=\"color: #7f7f7f; text-decoration-color: #7f7f7f\">                  </span> <span style=\"color: #7f7f7f; text-decoration-color: #7f7f7f\">                   </span> <span style=\"color: #7f7f7f; text-decoration-color: #7f7f7f\"> as vitamins A,   </span> <span style=\"color: #7f7f7f; text-decoration-color: #7f7f7f\">         </span> <span style=\"color: #7f7f7f; text-decoration-color: #7f7f7f\">         </span> \n",
       " <span style=\"color: #7f7f7f; text-decoration-color: #7f7f7f\">                </span> <span style=\"color: #7f7f7f; text-decoration-color: #7f7f7f\">                  </span> <span style=\"color: #7f7f7f; text-decoration-color: #7f7f7f\">                  </span> <span style=\"color: #7f7f7f; text-decoration-color: #7f7f7f\">                   </span> <span style=\"color: #7f7f7f; text-decoration-color: #7f7f7f\"> D, E, and K).    </span> <span style=\"color: #7f7f7f; text-decoration-color: #7f7f7f\">         </span> <span style=\"color: #7f7f7f; text-decoration-color: #7f7f7f\">         </span> \n",
       " <span style=\"color: #7f7f7f; text-decoration-color: #7f7f7f\">                </span> <span style=\"color: #7f7f7f; text-decoration-color: #7f7f7f\">                  </span> <span style=\"color: #7f7f7f; text-decoration-color: #7f7f7f\">                  </span> <span style=\"color: #7f7f7f; text-decoration-color: #7f7f7f\">                   </span> <span style=\"color: #7f7f7f; text-decoration-color: #7f7f7f\"> Each vitamin has </span> <span style=\"color: #7f7f7f; text-decoration-color: #7f7f7f\">         </span> <span style=\"color: #7f7f7f; text-decoration-color: #7f7f7f\">         </span> \n",
       " <span style=\"color: #7f7f7f; text-decoration-color: #7f7f7f\">                </span> <span style=\"color: #7f7f7f; text-decoration-color: #7f7f7f\">                  </span> <span style=\"color: #7f7f7f; text-decoration-color: #7f7f7f\">                  </span> <span style=\"color: #7f7f7f; text-decoration-color: #7f7f7f\">                   </span> <span style=\"color: #7f7f7f; text-decoration-color: #7f7f7f\"> specific         </span> <span style=\"color: #7f7f7f; text-decoration-color: #7f7f7f\">         </span> <span style=\"color: #7f7f7f; text-decoration-color: #7f7f7f\">         </span> \n",
       " <span style=\"color: #7f7f7f; text-decoration-color: #7f7f7f\">                </span> <span style=\"color: #7f7f7f; text-decoration-color: #7f7f7f\">                  </span> <span style=\"color: #7f7f7f; text-decoration-color: #7f7f7f\">                  </span> <span style=\"color: #7f7f7f; text-decoration-color: #7f7f7f\">                   </span> <span style=\"color: #7f7f7f; text-decoration-color: #7f7f7f\"> functions and    </span> <span style=\"color: #7f7f7f; text-decoration-color: #7f7f7f\">         </span> <span style=\"color: #7f7f7f; text-decoration-color: #7f7f7f\">         </span> \n",
       " <span style=\"color: #7f7f7f; text-decoration-color: #7f7f7f\">                </span> <span style=\"color: #7f7f7f; text-decoration-color: #7f7f7f\">                  </span> <span style=\"color: #7f7f7f; text-decoration-color: #7f7f7f\">                  </span> <span style=\"color: #7f7f7f; text-decoration-color: #7f7f7f\">                   </span> <span style=\"color: #7f7f7f; text-decoration-color: #7f7f7f\"> benefits. For    </span> <span style=\"color: #7f7f7f; text-decoration-color: #7f7f7f\">         </span> <span style=\"color: #7f7f7f; text-decoration-color: #7f7f7f\">         </span> \n",
       " <span style=\"color: #7f7f7f; text-decoration-color: #7f7f7f\">                </span> <span style=\"color: #7f7f7f; text-decoration-color: #7f7f7f\">                  </span> <span style=\"color: #7f7f7f; text-decoration-color: #7f7f7f\">                  </span> <span style=\"color: #7f7f7f; text-decoration-color: #7f7f7f\">                   </span> <span style=\"color: #7f7f7f; text-decoration-color: #7f7f7f\"> example, vitamin </span> <span style=\"color: #7f7f7f; text-decoration-color: #7f7f7f\">         </span> <span style=\"color: #7f7f7f; text-decoration-color: #7f7f7f\">         </span> \n",
       " <span style=\"color: #7f7f7f; text-decoration-color: #7f7f7f\">                </span> <span style=\"color: #7f7f7f; text-decoration-color: #7f7f7f\">                  </span> <span style=\"color: #7f7f7f; text-decoration-color: #7f7f7f\">                  </span> <span style=\"color: #7f7f7f; text-decoration-color: #7f7f7f\">                   </span> <span style=\"color: #7f7f7f; text-decoration-color: #7f7f7f\"> C is important   </span> <span style=\"color: #7f7f7f; text-decoration-color: #7f7f7f\">         </span> <span style=\"color: #7f7f7f; text-decoration-color: #7f7f7f\">         </span> \n",
       " <span style=\"color: #7f7f7f; text-decoration-color: #7f7f7f\">                </span> <span style=\"color: #7f7f7f; text-decoration-color: #7f7f7f\">                  </span> <span style=\"color: #7f7f7f; text-decoration-color: #7f7f7f\">                  </span> <span style=\"color: #7f7f7f; text-decoration-color: #7f7f7f\">                   </span> <span style=\"color: #7f7f7f; text-decoration-color: #7f7f7f\"> for immune       </span> <span style=\"color: #7f7f7f; text-decoration-color: #7f7f7f\">         </span> <span style=\"color: #7f7f7f; text-decoration-color: #7f7f7f\">         </span> \n",
       " <span style=\"color: #7f7f7f; text-decoration-color: #7f7f7f\">                </span> <span style=\"color: #7f7f7f; text-decoration-color: #7f7f7f\">                  </span> <span style=\"color: #7f7f7f; text-decoration-color: #7f7f7f\">                  </span> <span style=\"color: #7f7f7f; text-decoration-color: #7f7f7f\">                   </span> <span style=\"color: #7f7f7f; text-decoration-color: #7f7f7f\"> function and     </span> <span style=\"color: #7f7f7f; text-decoration-color: #7f7f7f\">         </span> <span style=\"color: #7f7f7f; text-decoration-color: #7f7f7f\">         </span> \n",
       " <span style=\"color: #7f7f7f; text-decoration-color: #7f7f7f\">                </span> <span style=\"color: #7f7f7f; text-decoration-color: #7f7f7f\">                  </span> <span style=\"color: #7f7f7f; text-decoration-color: #7f7f7f\">                  </span> <span style=\"color: #7f7f7f; text-decoration-color: #7f7f7f\">                   </span> <span style=\"color: #7f7f7f; text-decoration-color: #7f7f7f\"> collagen         </span> <span style=\"color: #7f7f7f; text-decoration-color: #7f7f7f\">         </span> <span style=\"color: #7f7f7f; text-decoration-color: #7f7f7f\">         </span> \n",
       " <span style=\"color: #7f7f7f; text-decoration-color: #7f7f7f\">                </span> <span style=\"color: #7f7f7f; text-decoration-color: #7f7f7f\">                  </span> <span style=\"color: #7f7f7f; text-decoration-color: #7f7f7f\">                  </span> <span style=\"color: #7f7f7f; text-decoration-color: #7f7f7f\">                   </span> <span style=\"color: #7f7f7f; text-decoration-color: #7f7f7f\"> synthesis, while </span> <span style=\"color: #7f7f7f; text-decoration-color: #7f7f7f\">         </span> <span style=\"color: #7f7f7f; text-decoration-color: #7f7f7f\">         </span> \n",
       " <span style=\"color: #7f7f7f; text-decoration-color: #7f7f7f\">                </span> <span style=\"color: #7f7f7f; text-decoration-color: #7f7f7f\">                  </span> <span style=\"color: #7f7f7f; text-decoration-color: #7f7f7f\">                  </span> <span style=\"color: #7f7f7f; text-decoration-color: #7f7f7f\">                   </span> <span style=\"color: #7f7f7f; text-decoration-color: #7f7f7f\"> vitamin D is     </span> <span style=\"color: #7f7f7f; text-decoration-color: #7f7f7f\">         </span> <span style=\"color: #7f7f7f; text-decoration-color: #7f7f7f\">         </span> \n",
       " <span style=\"color: #7f7f7f; text-decoration-color: #7f7f7f\">                </span> <span style=\"color: #7f7f7f; text-decoration-color: #7f7f7f\">                  </span> <span style=\"color: #7f7f7f; text-decoration-color: #7f7f7f\">                  </span> <span style=\"color: #7f7f7f; text-decoration-color: #7f7f7f\">                   </span> <span style=\"color: #7f7f7f; text-decoration-color: #7f7f7f\"> essential for    </span> <span style=\"color: #7f7f7f; text-decoration-color: #7f7f7f\">         </span> <span style=\"color: #7f7f7f; text-decoration-color: #7f7f7f\">         </span> \n",
       " <span style=\"color: #7f7f7f; text-decoration-color: #7f7f7f\">                </span> <span style=\"color: #7f7f7f; text-decoration-color: #7f7f7f\">                  </span> <span style=\"color: #7f7f7f; text-decoration-color: #7f7f7f\">                  </span> <span style=\"color: #7f7f7f; text-decoration-color: #7f7f7f\">                   </span> <span style=\"color: #7f7f7f; text-decoration-color: #7f7f7f\"> bone health. It  </span> <span style=\"color: #7f7f7f; text-decoration-color: #7f7f7f\">         </span> <span style=\"color: #7f7f7f; text-decoration-color: #7f7f7f\">         </span> \n",
       " <span style=\"color: #7f7f7f; text-decoration-color: #7f7f7f\">                </span> <span style=\"color: #7f7f7f; text-decoration-color: #7f7f7f\">                  </span> <span style=\"color: #7f7f7f; text-decoration-color: #7f7f7f\">                  </span> <span style=\"color: #7f7f7f; text-decoration-color: #7f7f7f\">                   </span> <span style=\"color: #7f7f7f; text-decoration-color: #7f7f7f\"> is important to  </span> <span style=\"color: #7f7f7f; text-decoration-color: #7f7f7f\">         </span> <span style=\"color: #7f7f7f; text-decoration-color: #7f7f7f\">         </span> \n",
       " <span style=\"color: #7f7f7f; text-decoration-color: #7f7f7f\">                </span> <span style=\"color: #7f7f7f; text-decoration-color: #7f7f7f\">                  </span> <span style=\"color: #7f7f7f; text-decoration-color: #7f7f7f\">                  </span> <span style=\"color: #7f7f7f; text-decoration-color: #7f7f7f\">                   </span> <span style=\"color: #7f7f7f; text-decoration-color: #7f7f7f\"> obtain vitamins  </span> <span style=\"color: #7f7f7f; text-decoration-color: #7f7f7f\">         </span> <span style=\"color: #7f7f7f; text-decoration-color: #7f7f7f\">         </span> \n",
       " <span style=\"color: #7f7f7f; text-decoration-color: #7f7f7f\">                </span> <span style=\"color: #7f7f7f; text-decoration-color: #7f7f7f\">                  </span> <span style=\"color: #7f7f7f; text-decoration-color: #7f7f7f\">                  </span> <span style=\"color: #7f7f7f; text-decoration-color: #7f7f7f\">                   </span> <span style=\"color: #7f7f7f; text-decoration-color: #7f7f7f\"> through a        </span> <span style=\"color: #7f7f7f; text-decoration-color: #7f7f7f\">         </span> <span style=\"color: #7f7f7f; text-decoration-color: #7f7f7f\">         </span> \n",
       " <span style=\"color: #7f7f7f; text-decoration-color: #7f7f7f\">                </span> <span style=\"color: #7f7f7f; text-decoration-color: #7f7f7f\">                  </span> <span style=\"color: #7f7f7f; text-decoration-color: #7f7f7f\">                  </span> <span style=\"color: #7f7f7f; text-decoration-color: #7f7f7f\">                   </span> <span style=\"color: #7f7f7f; text-decoration-color: #7f7f7f\"> balanced diet,   </span> <span style=\"color: #7f7f7f; text-decoration-color: #7f7f7f\">         </span> <span style=\"color: #7f7f7f; text-decoration-color: #7f7f7f\">         </span> \n",
       " <span style=\"color: #7f7f7f; text-decoration-color: #7f7f7f\">                </span> <span style=\"color: #7f7f7f; text-decoration-color: #7f7f7f\">                  </span> <span style=\"color: #7f7f7f; text-decoration-color: #7f7f7f\">                  </span> <span style=\"color: #7f7f7f; text-decoration-color: #7f7f7f\">                   </span> <span style=\"color: #7f7f7f; text-decoration-color: #7f7f7f\"> as deficiencies  </span> <span style=\"color: #7f7f7f; text-decoration-color: #7f7f7f\">         </span> <span style=\"color: #7f7f7f; text-decoration-color: #7f7f7f\">         </span> \n",
       " <span style=\"color: #7f7f7f; text-decoration-color: #7f7f7f\">                </span> <span style=\"color: #7f7f7f; text-decoration-color: #7f7f7f\">                  </span> <span style=\"color: #7f7f7f; text-decoration-color: #7f7f7f\">                  </span> <span style=\"color: #7f7f7f; text-decoration-color: #7f7f7f\">                   </span> <span style=\"color: #7f7f7f; text-decoration-color: #7f7f7f\"> or excesses can  </span> <span style=\"color: #7f7f7f; text-decoration-color: #7f7f7f\">         </span> <span style=\"color: #7f7f7f; text-decoration-color: #7f7f7f\">         </span> \n",
       " <span style=\"color: #7f7f7f; text-decoration-color: #7f7f7f\">                </span> <span style=\"color: #7f7f7f; text-decoration-color: #7f7f7f\">                  </span> <span style=\"color: #7f7f7f; text-decoration-color: #7f7f7f\">                  </span> <span style=\"color: #7f7f7f; text-decoration-color: #7f7f7f\">                   </span> <span style=\"color: #7f7f7f; text-decoration-color: #7f7f7f\"> lead to various  </span> <span style=\"color: #7f7f7f; text-decoration-color: #7f7f7f\">         </span> <span style=\"color: #7f7f7f; text-decoration-color: #7f7f7f\">         </span> \n",
       " <span style=\"color: #7f7f7f; text-decoration-color: #7f7f7f\">                </span> <span style=\"color: #7f7f7f; text-decoration-color: #7f7f7f\">                  </span> <span style=\"color: #7f7f7f; text-decoration-color: #7f7f7f\">                  </span> <span style=\"color: #7f7f7f; text-decoration-color: #7f7f7f\">                   </span> <span style=\"color: #7f7f7f; text-decoration-color: #7f7f7f\"> health problems. </span> <span style=\"color: #7f7f7f; text-decoration-color: #7f7f7f\">         </span> <span style=\"color: #7f7f7f; text-decoration-color: #7f7f7f\">         </span> \n",
       "  Minerals         Calcium, Iron,     Calcium is         Minerals            Minerals are       False     False    \n",
       "                   Magnesium          necessary for                          naturally                             \n",
       "                                      maintaining                            occurring                             \n",
       "                                      healthy bones                          inorganic                             \n",
       "                                      and teeth, Iron                        substances that                       \n",
       "                                      is crucial for                         are solid and                         \n",
       "                                      making red blood                       have a definite                       \n",
       "                                      cells and                              chemical                              \n",
       "                                      transporting                           composition.                          \n",
       "                                      oxygen                                 They are the                          \n",
       "                                      throughout the                         building blocks                       \n",
       "                                      body, and                              of rocks and are                      \n",
       "                                      Magnesium plays                        classified into                       \n",
       "                                      a role in over                         different groups                      \n",
       "                                      300 enzyme                             based on their                        \n",
       "                                      reactions in the                       chemical                              \n",
       "                                      human body,                            composition and                       \n",
       "                                      including the                          physical                              \n",
       "                                      metabolism of                          properties. Some                      \n",
       "                                      food, synthesis                        common minerals                       \n",
       "                                      of fatty acids                         include quartz,                       \n",
       "                                      and proteins,                          feldspar, mica,                       \n",
       "                                      and the                                calcite, and                          \n",
       "                                      transmission of                        hematite.                             \n",
       "                                      nerve impulses.                                                              \n",
       "                                                                                                                   \n",
       "</pre>\n"
      ],
      "text/plain": [
       "                                                                                                                   \n",
       " \u001b[1;35m \u001b[0m\u001b[1;35mcategory      \u001b[0m\u001b[1;35m \u001b[0m \u001b[1;35m \u001b[0m\u001b[1;35mentities        \u001b[0m\u001b[1;35m \u001b[0m \u001b[1;35m \u001b[0m\u001b[1;35mtext            \u001b[0m\u001b[1;35m \u001b[0m \u001b[1;35m \u001b[0m\u001b[1;35mskill_0          \u001b[0m\u001b[1;35m \u001b[0m \u001b[1;35m \u001b[0m\u001b[1;35mskill_1         \u001b[0m\u001b[1;35m \u001b[0m \u001b[1;35m \u001b[0m\u001b[1;35mskill_0\u001b[0m\u001b[1;35m \u001b[0m \u001b[1;35m \u001b[0m\u001b[1;35mskill_1\u001b[0m\u001b[1;35m \u001b[0m \n",
       " ───────────────────────────────────────────────────────────────────────────────────────────────────────────────── \n",
       "  Macronutrients   Carbohydrates,     Carbohydrates      Carbohydrates,      Carbohydrates,     True      False    \n",
       "                   Proteins, Fats     provide quick      Proteins, Fats      Proteins, Fats                        \n",
       "                                      energy, proteins                                                             \n",
       "                                      are essential                                                                \n",
       "                                      for muscle                                                                   \n",
       "                                      repair and                                                                   \n",
       "                                      growth, and fats                                                             \n",
       "                                      are vital for                                                                \n",
       "                                      long-term energy                                                             \n",
       "                                      storage and cell                                                             \n",
       "                                      function.                                                                    \n",
       " \u001b[2m \u001b[0m\u001b[2mVitamins      \u001b[0m\u001b[2m \u001b[0m \u001b[2m \u001b[0m\u001b[2mVitamin A,      \u001b[0m\u001b[2m \u001b[0m \u001b[2m \u001b[0m\u001b[2mVitamin A is    \u001b[0m\u001b[2m \u001b[0m \u001b[2m \u001b[0m\u001b[2mVitamins         \u001b[0m\u001b[2m \u001b[0m \u001b[2m \u001b[0m\u001b[2mVitamins are    \u001b[0m\u001b[2m \u001b[0m \u001b[2m \u001b[0m\u001b[2mFalse  \u001b[0m\u001b[2m \u001b[0m \u001b[2m \u001b[0m\u001b[2mFalse  \u001b[0m\u001b[2m \u001b[0m \n",
       " \u001b[2m                \u001b[0m \u001b[2m \u001b[0m\u001b[2mVitamin C,      \u001b[0m\u001b[2m \u001b[0m \u001b[2m \u001b[0m\u001b[2mcrucial for good\u001b[0m\u001b[2m \u001b[0m \u001b[2m                   \u001b[0m \u001b[2m \u001b[0m\u001b[2morganic         \u001b[0m\u001b[2m \u001b[0m \u001b[2m         \u001b[0m \u001b[2m         \u001b[0m \n",
       " \u001b[2m                \u001b[0m \u001b[2m \u001b[0m\u001b[2mVitamin D       \u001b[0m\u001b[2m \u001b[0m \u001b[2m \u001b[0m\u001b[2mvision and a    \u001b[0m\u001b[2m \u001b[0m \u001b[2m                   \u001b[0m \u001b[2m \u001b[0m\u001b[2mcompounds that  \u001b[0m\u001b[2m \u001b[0m \u001b[2m         \u001b[0m \u001b[2m         \u001b[0m \n",
       " \u001b[2m                \u001b[0m \u001b[2m                  \u001b[0m \u001b[2m \u001b[0m\u001b[2mhealthy immune  \u001b[0m\u001b[2m \u001b[0m \u001b[2m                   \u001b[0m \u001b[2m \u001b[0m\u001b[2mare essential   \u001b[0m\u001b[2m \u001b[0m \u001b[2m         \u001b[0m \u001b[2m         \u001b[0m \n",
       " \u001b[2m                \u001b[0m \u001b[2m                  \u001b[0m \u001b[2m \u001b[0m\u001b[2msystem, Vitamin \u001b[0m\u001b[2m \u001b[0m \u001b[2m                   \u001b[0m \u001b[2m \u001b[0m\u001b[2mfor the proper  \u001b[0m\u001b[2m \u001b[0m \u001b[2m         \u001b[0m \u001b[2m         \u001b[0m \n",
       " \u001b[2m                \u001b[0m \u001b[2m                  \u001b[0m \u001b[2m \u001b[0m\u001b[2mC helps in the  \u001b[0m\u001b[2m \u001b[0m \u001b[2m                   \u001b[0m \u001b[2m \u001b[0m\u001b[2mfunctioning of  \u001b[0m\u001b[2m \u001b[0m \u001b[2m         \u001b[0m \u001b[2m         \u001b[0m \n",
       " \u001b[2m                \u001b[0m \u001b[2m                  \u001b[0m \u001b[2m \u001b[0m\u001b[2mrepair of       \u001b[0m\u001b[2m \u001b[0m \u001b[2m                   \u001b[0m \u001b[2m \u001b[0m\u001b[2mthe body. They  \u001b[0m\u001b[2m \u001b[0m \u001b[2m         \u001b[0m \u001b[2m         \u001b[0m \n",
       " \u001b[2m                \u001b[0m \u001b[2m                  \u001b[0m \u001b[2m \u001b[0m\u001b[2mtissues and the \u001b[0m\u001b[2m \u001b[0m \u001b[2m                   \u001b[0m \u001b[2m \u001b[0m\u001b[2mare             \u001b[0m\u001b[2m \u001b[0m \u001b[2m         \u001b[0m \u001b[2m         \u001b[0m \n",
       " \u001b[2m                \u001b[0m \u001b[2m                  \u001b[0m \u001b[2m \u001b[0m\u001b[2menzymatic       \u001b[0m\u001b[2m \u001b[0m \u001b[2m                   \u001b[0m \u001b[2m \u001b[0m\u001b[2mmicronutrients  \u001b[0m\u001b[2m \u001b[0m \u001b[2m         \u001b[0m \u001b[2m         \u001b[0m \n",
       " \u001b[2m                \u001b[0m \u001b[2m                  \u001b[0m \u001b[2m \u001b[0m\u001b[2mproduction of   \u001b[0m\u001b[2m \u001b[0m \u001b[2m                   \u001b[0m \u001b[2m \u001b[0m\u001b[2mthat are        \u001b[0m\u001b[2m \u001b[0m \u001b[2m         \u001b[0m \u001b[2m         \u001b[0m \n",
       " \u001b[2m                \u001b[0m \u001b[2m                  \u001b[0m \u001b[2m \u001b[0m\u001b[2mcertain         \u001b[0m\u001b[2m \u001b[0m \u001b[2m                   \u001b[0m \u001b[2m \u001b[0m\u001b[2mrequired in     \u001b[0m\u001b[2m \u001b[0m \u001b[2m         \u001b[0m \u001b[2m         \u001b[0m \n",
       " \u001b[2m                \u001b[0m \u001b[2m                  \u001b[0m \u001b[2m \u001b[0m\u001b[2mneurotransmitte…\u001b[0m\u001b[2m \u001b[0m \u001b[2m                   \u001b[0m \u001b[2m \u001b[0m\u001b[2msmall amounts   \u001b[0m\u001b[2m \u001b[0m \u001b[2m         \u001b[0m \u001b[2m         \u001b[0m \n",
       " \u001b[2m                \u001b[0m \u001b[2m                  \u001b[0m \u001b[2m \u001b[0m\u001b[2mand Vitamin D is\u001b[0m\u001b[2m \u001b[0m \u001b[2m                   \u001b[0m \u001b[2m \u001b[0m\u001b[2mand play a      \u001b[0m\u001b[2m \u001b[0m \u001b[2m         \u001b[0m \u001b[2m         \u001b[0m \n",
       " \u001b[2m                \u001b[0m \u001b[2m                  \u001b[0m \u001b[2m \u001b[0m\u001b[2messential for   \u001b[0m\u001b[2m \u001b[0m \u001b[2m                   \u001b[0m \u001b[2m \u001b[0m\u001b[2mcrucial role in \u001b[0m\u001b[2m \u001b[0m \u001b[2m         \u001b[0m \u001b[2m         \u001b[0m \n",
       " \u001b[2m                \u001b[0m \u001b[2m                  \u001b[0m \u001b[2m \u001b[0m\u001b[2mstrong bones and\u001b[0m\u001b[2m \u001b[0m \u001b[2m                   \u001b[0m \u001b[2m \u001b[0m\u001b[2mvarious         \u001b[0m\u001b[2m \u001b[0m \u001b[2m         \u001b[0m \u001b[2m         \u001b[0m \n",
       " \u001b[2m                \u001b[0m \u001b[2m                  \u001b[0m \u001b[2m \u001b[0m\u001b[2mteeth as it     \u001b[0m\u001b[2m \u001b[0m \u001b[2m                   \u001b[0m \u001b[2m \u001b[0m\u001b[2mphysiological   \u001b[0m\u001b[2m \u001b[0m \u001b[2m         \u001b[0m \u001b[2m         \u001b[0m \n",
       " \u001b[2m                \u001b[0m \u001b[2m                  \u001b[0m \u001b[2m \u001b[0m\u001b[2mhelps the body  \u001b[0m\u001b[2m \u001b[0m \u001b[2m                   \u001b[0m \u001b[2m \u001b[0m\u001b[2mprocesses.      \u001b[0m\u001b[2m \u001b[0m \u001b[2m         \u001b[0m \u001b[2m         \u001b[0m \n",
       " \u001b[2m                \u001b[0m \u001b[2m                  \u001b[0m \u001b[2m \u001b[0m\u001b[2mabsorb calcium. \u001b[0m\u001b[2m \u001b[0m \u001b[2m                   \u001b[0m \u001b[2m \u001b[0m\u001b[2mVitamins are    \u001b[0m\u001b[2m \u001b[0m \u001b[2m         \u001b[0m \u001b[2m         \u001b[0m \n",
       " \u001b[2m                \u001b[0m \u001b[2m                  \u001b[0m \u001b[2m                  \u001b[0m \u001b[2m                   \u001b[0m \u001b[2m \u001b[0m\u001b[2mclassified into \u001b[0m\u001b[2m \u001b[0m \u001b[2m         \u001b[0m \u001b[2m         \u001b[0m \n",
       " \u001b[2m                \u001b[0m \u001b[2m                  \u001b[0m \u001b[2m                  \u001b[0m \u001b[2m                   \u001b[0m \u001b[2m \u001b[0m\u001b[2mtwo categories: \u001b[0m\u001b[2m \u001b[0m \u001b[2m         \u001b[0m \u001b[2m         \u001b[0m \n",
       " \u001b[2m                \u001b[0m \u001b[2m                  \u001b[0m \u001b[2m                  \u001b[0m \u001b[2m                   \u001b[0m \u001b[2m \u001b[0m\u001b[2mwater-soluble   \u001b[0m\u001b[2m \u001b[0m \u001b[2m         \u001b[0m \u001b[2m         \u001b[0m \n",
       " \u001b[2m                \u001b[0m \u001b[2m                  \u001b[0m \u001b[2m                  \u001b[0m \u001b[2m                   \u001b[0m \u001b[2m \u001b[0m\u001b[2mvitamins (such  \u001b[0m\u001b[2m \u001b[0m \u001b[2m         \u001b[0m \u001b[2m         \u001b[0m \n",
       " \u001b[2m                \u001b[0m \u001b[2m                  \u001b[0m \u001b[2m                  \u001b[0m \u001b[2m                   \u001b[0m \u001b[2m \u001b[0m\u001b[2mas vitamin C and\u001b[0m\u001b[2m \u001b[0m \u001b[2m         \u001b[0m \u001b[2m         \u001b[0m \n",
       " \u001b[2m                \u001b[0m \u001b[2m                  \u001b[0m \u001b[2m                  \u001b[0m \u001b[2m                   \u001b[0m \u001b[2m \u001b[0m\u001b[2mthe B vitamins) \u001b[0m\u001b[2m \u001b[0m \u001b[2m         \u001b[0m \u001b[2m         \u001b[0m \n",
       " \u001b[2m                \u001b[0m \u001b[2m                  \u001b[0m \u001b[2m                  \u001b[0m \u001b[2m                   \u001b[0m \u001b[2m \u001b[0m\u001b[2mand fat-soluble \u001b[0m\u001b[2m \u001b[0m \u001b[2m         \u001b[0m \u001b[2m         \u001b[0m \n",
       " \u001b[2m                \u001b[0m \u001b[2m                  \u001b[0m \u001b[2m                  \u001b[0m \u001b[2m                   \u001b[0m \u001b[2m \u001b[0m\u001b[2mvitamins (such  \u001b[0m\u001b[2m \u001b[0m \u001b[2m         \u001b[0m \u001b[2m         \u001b[0m \n",
       " \u001b[2m                \u001b[0m \u001b[2m                  \u001b[0m \u001b[2m                  \u001b[0m \u001b[2m                   \u001b[0m \u001b[2m \u001b[0m\u001b[2mas vitamins A,  \u001b[0m\u001b[2m \u001b[0m \u001b[2m         \u001b[0m \u001b[2m         \u001b[0m \n",
       " \u001b[2m                \u001b[0m \u001b[2m                  \u001b[0m \u001b[2m                  \u001b[0m \u001b[2m                   \u001b[0m \u001b[2m \u001b[0m\u001b[2mD, E, and K).   \u001b[0m\u001b[2m \u001b[0m \u001b[2m         \u001b[0m \u001b[2m         \u001b[0m \n",
       " \u001b[2m                \u001b[0m \u001b[2m                  \u001b[0m \u001b[2m                  \u001b[0m \u001b[2m                   \u001b[0m \u001b[2m \u001b[0m\u001b[2mEach vitamin has\u001b[0m\u001b[2m \u001b[0m \u001b[2m         \u001b[0m \u001b[2m         \u001b[0m \n",
       " \u001b[2m                \u001b[0m \u001b[2m                  \u001b[0m \u001b[2m                  \u001b[0m \u001b[2m                   \u001b[0m \u001b[2m \u001b[0m\u001b[2mspecific        \u001b[0m\u001b[2m \u001b[0m \u001b[2m         \u001b[0m \u001b[2m         \u001b[0m \n",
       " \u001b[2m                \u001b[0m \u001b[2m                  \u001b[0m \u001b[2m                  \u001b[0m \u001b[2m                   \u001b[0m \u001b[2m \u001b[0m\u001b[2mfunctions and   \u001b[0m\u001b[2m \u001b[0m \u001b[2m         \u001b[0m \u001b[2m         \u001b[0m \n",
       " \u001b[2m                \u001b[0m \u001b[2m                  \u001b[0m \u001b[2m                  \u001b[0m \u001b[2m                   \u001b[0m \u001b[2m \u001b[0m\u001b[2mbenefits. For   \u001b[0m\u001b[2m \u001b[0m \u001b[2m         \u001b[0m \u001b[2m         \u001b[0m \n",
       " \u001b[2m                \u001b[0m \u001b[2m                  \u001b[0m \u001b[2m                  \u001b[0m \u001b[2m                   \u001b[0m \u001b[2m \u001b[0m\u001b[2mexample, vitamin\u001b[0m\u001b[2m \u001b[0m \u001b[2m         \u001b[0m \u001b[2m         \u001b[0m \n",
       " \u001b[2m                \u001b[0m \u001b[2m                  \u001b[0m \u001b[2m                  \u001b[0m \u001b[2m                   \u001b[0m \u001b[2m \u001b[0m\u001b[2mC is important  \u001b[0m\u001b[2m \u001b[0m \u001b[2m         \u001b[0m \u001b[2m         \u001b[0m \n",
       " \u001b[2m                \u001b[0m \u001b[2m                  \u001b[0m \u001b[2m                  \u001b[0m \u001b[2m                   \u001b[0m \u001b[2m \u001b[0m\u001b[2mfor immune      \u001b[0m\u001b[2m \u001b[0m \u001b[2m         \u001b[0m \u001b[2m         \u001b[0m \n",
       " \u001b[2m                \u001b[0m \u001b[2m                  \u001b[0m \u001b[2m                  \u001b[0m \u001b[2m                   \u001b[0m \u001b[2m \u001b[0m\u001b[2mfunction and    \u001b[0m\u001b[2m \u001b[0m \u001b[2m         \u001b[0m \u001b[2m         \u001b[0m \n",
       " \u001b[2m                \u001b[0m \u001b[2m                  \u001b[0m \u001b[2m                  \u001b[0m \u001b[2m                   \u001b[0m \u001b[2m \u001b[0m\u001b[2mcollagen        \u001b[0m\u001b[2m \u001b[0m \u001b[2m         \u001b[0m \u001b[2m         \u001b[0m \n",
       " \u001b[2m                \u001b[0m \u001b[2m                  \u001b[0m \u001b[2m                  \u001b[0m \u001b[2m                   \u001b[0m \u001b[2m \u001b[0m\u001b[2msynthesis, while\u001b[0m\u001b[2m \u001b[0m \u001b[2m         \u001b[0m \u001b[2m         \u001b[0m \n",
       " \u001b[2m                \u001b[0m \u001b[2m                  \u001b[0m \u001b[2m                  \u001b[0m \u001b[2m                   \u001b[0m \u001b[2m \u001b[0m\u001b[2mvitamin D is    \u001b[0m\u001b[2m \u001b[0m \u001b[2m         \u001b[0m \u001b[2m         \u001b[0m \n",
       " \u001b[2m                \u001b[0m \u001b[2m                  \u001b[0m \u001b[2m                  \u001b[0m \u001b[2m                   \u001b[0m \u001b[2m \u001b[0m\u001b[2messential for   \u001b[0m\u001b[2m \u001b[0m \u001b[2m         \u001b[0m \u001b[2m         \u001b[0m \n",
       " \u001b[2m                \u001b[0m \u001b[2m                  \u001b[0m \u001b[2m                  \u001b[0m \u001b[2m                   \u001b[0m \u001b[2m \u001b[0m\u001b[2mbone health. It \u001b[0m\u001b[2m \u001b[0m \u001b[2m         \u001b[0m \u001b[2m         \u001b[0m \n",
       " \u001b[2m                \u001b[0m \u001b[2m                  \u001b[0m \u001b[2m                  \u001b[0m \u001b[2m                   \u001b[0m \u001b[2m \u001b[0m\u001b[2mis important to \u001b[0m\u001b[2m \u001b[0m \u001b[2m         \u001b[0m \u001b[2m         \u001b[0m \n",
       " \u001b[2m                \u001b[0m \u001b[2m                  \u001b[0m \u001b[2m                  \u001b[0m \u001b[2m                   \u001b[0m \u001b[2m \u001b[0m\u001b[2mobtain vitamins \u001b[0m\u001b[2m \u001b[0m \u001b[2m         \u001b[0m \u001b[2m         \u001b[0m \n",
       " \u001b[2m                \u001b[0m \u001b[2m                  \u001b[0m \u001b[2m                  \u001b[0m \u001b[2m                   \u001b[0m \u001b[2m \u001b[0m\u001b[2mthrough a       \u001b[0m\u001b[2m \u001b[0m \u001b[2m         \u001b[0m \u001b[2m         \u001b[0m \n",
       " \u001b[2m                \u001b[0m \u001b[2m                  \u001b[0m \u001b[2m                  \u001b[0m \u001b[2m                   \u001b[0m \u001b[2m \u001b[0m\u001b[2mbalanced diet,  \u001b[0m\u001b[2m \u001b[0m \u001b[2m         \u001b[0m \u001b[2m         \u001b[0m \n",
       " \u001b[2m                \u001b[0m \u001b[2m                  \u001b[0m \u001b[2m                  \u001b[0m \u001b[2m                   \u001b[0m \u001b[2m \u001b[0m\u001b[2mas deficiencies \u001b[0m\u001b[2m \u001b[0m \u001b[2m         \u001b[0m \u001b[2m         \u001b[0m \n",
       " \u001b[2m                \u001b[0m \u001b[2m                  \u001b[0m \u001b[2m                  \u001b[0m \u001b[2m                   \u001b[0m \u001b[2m \u001b[0m\u001b[2mor excesses can \u001b[0m\u001b[2m \u001b[0m \u001b[2m         \u001b[0m \u001b[2m         \u001b[0m \n",
       " \u001b[2m                \u001b[0m \u001b[2m                  \u001b[0m \u001b[2m                  \u001b[0m \u001b[2m                   \u001b[0m \u001b[2m \u001b[0m\u001b[2mlead to various \u001b[0m\u001b[2m \u001b[0m \u001b[2m         \u001b[0m \u001b[2m         \u001b[0m \n",
       " \u001b[2m                \u001b[0m \u001b[2m                  \u001b[0m \u001b[2m                  \u001b[0m \u001b[2m                   \u001b[0m \u001b[2m \u001b[0m\u001b[2mhealth problems.\u001b[0m\u001b[2m \u001b[0m \u001b[2m         \u001b[0m \u001b[2m         \u001b[0m \n",
       "  Minerals         Calcium, Iron,     Calcium is         Minerals            Minerals are       False     False    \n",
       "                   Magnesium          necessary for                          naturally                             \n",
       "                                      maintaining                            occurring                             \n",
       "                                      healthy bones                          inorganic                             \n",
       "                                      and teeth, Iron                        substances that                       \n",
       "                                      is crucial for                         are solid and                         \n",
       "                                      making red blood                       have a definite                       \n",
       "                                      cells and                              chemical                              \n",
       "                                      transporting                           composition.                          \n",
       "                                      oxygen                                 They are the                          \n",
       "                                      throughout the                         building blocks                       \n",
       "                                      body, and                              of rocks and are                      \n",
       "                                      Magnesium plays                        classified into                       \n",
       "                                      a role in over                         different groups                      \n",
       "                                      300 enzyme                             based on their                        \n",
       "                                      reactions in the                       chemical                              \n",
       "                                      human body,                            composition and                       \n",
       "                                      including the                          physical                              \n",
       "                                      metabolism of                          properties. Some                      \n",
       "                                      food, synthesis                        common minerals                       \n",
       "                                      of fatty acids                         include quartz,                       \n",
       "                                      and proteins,                          feldspar, mica,                       \n",
       "                                      and the                                calcite, and                          \n",
       "                                      transmission of                        hematite.                             \n",
       "                                      nerve impulses.                                                              \n",
       "                                                                                                                   \n"
      ]
     },
     "metadata": {},
     "output_type": "display_data"
    },
    {
     "data": {
      "text/html": [
       "<pre style=\"white-space:pre;overflow-x:auto;line-height:normal;font-family:Menlo,'DejaVu Sans Mono',consolas,'Courier New',monospace\"><span style=\"color: #800000; text-decoration-color: #800000; font-weight: bold\">Accuracy = </span><span style=\"color: #008080; text-decoration-color: #008080; font-weight: bold\">33.33</span><span style=\"color: #800000; text-decoration-color: #800000; font-weight: bold\">%</span>\n",
       "</pre>\n"
      ],
      "text/plain": [
       "\u001b[1;31mAccuracy = \u001b[0m\u001b[1;36m33.33\u001b[0m\u001b[1;31m%\u001b[0m\n"
      ]
     },
     "metadata": {},
     "output_type": "display_data"
    },
    {
     "data": {
      "text/html": [
       "<pre style=\"white-space:pre;overflow-x:auto;line-height:normal;font-family:Menlo,'DejaVu Sans Mono',consolas,'Courier New',monospace\">Analyze evaluation experience <span style=\"color: #808000; text-decoration-color: #808000\">...</span>\n",
       "</pre>\n"
      ],
      "text/plain": [
       "Analyze evaluation experience \u001b[33m...\u001b[0m\n"
      ]
     },
     "metadata": {},
     "output_type": "display_data"
    },
    {
     "data": {
      "text/html": [
       "<pre style=\"white-space:pre;overflow-x:auto;line-height:normal;font-family:Menlo,'DejaVu Sans Mono',consolas,'Courier New',monospace\"><span style=\"font-weight: bold\">[</span><span style=\"color: #008000; text-decoration-color: #008000\">'category'</span><span style=\"font-weight: bold\">]</span>\n",
       "</pre>\n"
      ],
      "text/plain": [
       "\u001b[1m[\u001b[0m\u001b[32m'category'\u001b[0m\u001b[1m]\u001b[0m\n"
      ]
     },
     "metadata": {},
     "output_type": "display_data"
    },
    {
     "name": "stderr",
     "output_type": "stream",
     "text": [
      "  0%|          | 0/2 [00:00<?, ?it/s]"
     ]
    },
    {
     "data": {
      "text/html": [
       "<pre style=\"white-space:pre;overflow-x:auto;line-height:normal;font-family:Menlo,'DejaVu Sans Mono',consolas,'Courier New',monospace\"><span style=\"font-weight: bold\">{</span><span style=\"color: #008000; text-decoration-color: #008000\">'category'</span>: <span style=\"color: #008000; text-decoration-color: #008000\">'Vitamins'</span>, <span style=\"color: #008000; text-decoration-color: #008000\">'entities'</span>: <span style=\"color: #008000; text-decoration-color: #008000\">'Vitamin A, Vitamin C, Vitamin D'</span>, <span style=\"color: #008000; text-decoration-color: #008000\">'text'</span>: <span style=\"color: #008000; text-decoration-color: #008000\">'Vitamin A is crucial for good </span>\n",
       "<span style=\"color: #008000; text-decoration-color: #008000\">vision and a healthy immune system, Vitamin C helps in the repair of tissues and the enzymatic production of </span>\n",
       "<span style=\"color: #008000; text-decoration-color: #008000\">certain neurotransmitters, and Vitamin D is essential for strong bones and teeth as it helps the body absorb </span>\n",
       "<span style=\"color: #008000; text-decoration-color: #008000\">calcium.'</span>, <span style=\"color: #008000; text-decoration-color: #008000\">'skill_0'</span>: <span style=\"color: #008000; text-decoration-color: #008000\">'Vitamins'</span>, <span style=\"color: #008000; text-decoration-color: #008000\">'skill_1'</span>: <span style=\"color: #008000; text-decoration-color: #008000\">'Vitamins are organic compounds that are essential for the proper </span>\n",
       "<span style=\"color: #008000; text-decoration-color: #008000\">functioning of the body. They are micronutrients that are required in small amounts and play a crucial role in </span>\n",
       "<span style=\"color: #008000; text-decoration-color: #008000\">various physiological processes. Vitamins are classified into two categories: water-soluble vitamins (such as </span>\n",
       "<span style=\"color: #008000; text-decoration-color: #008000\">vitamin C and the B vitamins) and fat-soluble vitamins (such as vitamins A, D, E, and K). Each vitamin has specific</span>\n",
       "<span style=\"color: #008000; text-decoration-color: #008000\">functions and benefits. For example, vitamin C is important for immune function and collagen synthesis, while </span>\n",
       "<span style=\"color: #008000; text-decoration-color: #008000\">vitamin D is essential for bone health. It is important to obtain vitamins through a balanced diet, as deficiencies</span>\n",
       "<span style=\"color: #008000; text-decoration-color: #008000\">or excesses can lead to various health problems.'</span><span style=\"font-weight: bold\">}</span>\n",
       "</pre>\n"
      ],
      "text/plain": [
       "\u001b[1m{\u001b[0m\u001b[32m'category'\u001b[0m: \u001b[32m'Vitamins'\u001b[0m, \u001b[32m'entities'\u001b[0m: \u001b[32m'Vitamin A, Vitamin C, Vitamin D'\u001b[0m, \u001b[32m'text'\u001b[0m: \u001b[32m'Vitamin A is crucial for good \u001b[0m\n",
       "\u001b[32mvision and a healthy immune system, Vitamin C helps in the repair of tissues and the enzymatic production of \u001b[0m\n",
       "\u001b[32mcertain neurotransmitters, and Vitamin D is essential for strong bones and teeth as it helps the body absorb \u001b[0m\n",
       "\u001b[32mcalcium.'\u001b[0m, \u001b[32m'skill_0'\u001b[0m: \u001b[32m'Vitamins'\u001b[0m, \u001b[32m'skill_1'\u001b[0m: \u001b[32m'Vitamins are organic compounds that are essential for the proper \u001b[0m\n",
       "\u001b[32mfunctioning of the body. They are micronutrients that are required in small amounts and play a crucial role in \u001b[0m\n",
       "\u001b[32mvarious physiological processes. Vitamins are classified into two categories: water-soluble vitamins \u001b[0m\u001b[32m(\u001b[0m\u001b[32msuch as \u001b[0m\n",
       "\u001b[32mvitamin C and the B vitamins\u001b[0m\u001b[32m)\u001b[0m\u001b[32m and fat-soluble vitamins \u001b[0m\u001b[32m(\u001b[0m\u001b[32msuch as vitamins A, D, E, and K\u001b[0m\u001b[32m)\u001b[0m\u001b[32m. Each vitamin has specific\u001b[0m\n",
       "\u001b[32mfunctions and benefits. For example, vitamin C is important for immune function and collagen synthesis, while \u001b[0m\n",
       "\u001b[32mvitamin D is essential for bone health. It is important to obtain vitamins through a balanced diet, as deficiencies\u001b[0m\n",
       "\u001b[32mor excesses can lead to various health problems.'\u001b[0m\u001b[1m}\u001b[0m\n"
      ]
     },
     "metadata": {},
     "output_type": "display_data"
    },
    {
     "name": "stderr",
     "output_type": "stream",
     "text": [
      "100%|██████████| 2/2 [00:04<00:00,  2.26s/it]"
     ]
    },
    {
     "data": {
      "text/html": [
       "<pre style=\"white-space:pre;overflow-x:auto;line-height:normal;font-family:Menlo,'DejaVu Sans Mono',consolas,'Courier New',monospace\"><span style=\"font-weight: bold\">{</span><span style=\"color: #008000; text-decoration-color: #008000\">'category'</span>: <span style=\"color: #008000; text-decoration-color: #008000\">'Minerals'</span>, <span style=\"color: #008000; text-decoration-color: #008000\">'entities'</span>: <span style=\"color: #008000; text-decoration-color: #008000\">'Calcium, Iron, Magnesium'</span>, <span style=\"color: #008000; text-decoration-color: #008000\">'text'</span>: <span style=\"color: #008000; text-decoration-color: #008000\">'Calcium is necessary for maintaining </span>\n",
       "<span style=\"color: #008000; text-decoration-color: #008000\">healthy bones and teeth, Iron is crucial for making red blood cells and transporting oxygen throughout the body, </span>\n",
       "<span style=\"color: #008000; text-decoration-color: #008000\">and Magnesium plays a role in over 300 enzyme reactions in the human body, including the metabolism of food, </span>\n",
       "<span style=\"color: #008000; text-decoration-color: #008000\">synthesis of fatty acids and proteins, and the transmission of nerve impulses.'</span>, <span style=\"color: #008000; text-decoration-color: #008000\">'skill_0'</span>: <span style=\"color: #008000; text-decoration-color: #008000\">'Minerals'</span>, <span style=\"color: #008000; text-decoration-color: #008000\">'skill_1'</span>: \n",
       "<span style=\"color: #008000; text-decoration-color: #008000\">'Minerals are naturally occurring inorganic substances that are solid and have a definite chemical composition. </span>\n",
       "<span style=\"color: #008000; text-decoration-color: #008000\">They are the building blocks of rocks and are classified into different groups based on their chemical composition </span>\n",
       "<span style=\"color: #008000; text-decoration-color: #008000\">and physical properties. Some common minerals include quartz, feldspar, mica, calcite, and hematite.'</span><span style=\"font-weight: bold\">}</span>\n",
       "</pre>\n"
      ],
      "text/plain": [
       "\u001b[1m{\u001b[0m\u001b[32m'category'\u001b[0m: \u001b[32m'Minerals'\u001b[0m, \u001b[32m'entities'\u001b[0m: \u001b[32m'Calcium, Iron, Magnesium'\u001b[0m, \u001b[32m'text'\u001b[0m: \u001b[32m'Calcium is necessary for maintaining \u001b[0m\n",
       "\u001b[32mhealthy bones and teeth, Iron is crucial for making red blood cells and transporting oxygen throughout the body, \u001b[0m\n",
       "\u001b[32mand Magnesium plays a role in over 300 enzyme reactions in the human body, including the metabolism of food, \u001b[0m\n",
       "\u001b[32msynthesis of fatty acids and proteins, and the transmission of nerve impulses.'\u001b[0m, \u001b[32m'skill_0'\u001b[0m: \u001b[32m'Minerals'\u001b[0m, \u001b[32m'skill_1'\u001b[0m: \n",
       "\u001b[32m'Minerals are naturally occurring inorganic substances that are solid and have a definite chemical composition. \u001b[0m\n",
       "\u001b[32mThey are the building blocks of rocks and are classified into different groups based on their chemical composition \u001b[0m\n",
       "\u001b[32mand physical properties. Some common minerals include quartz, feldspar, mica, calcite, and hematite.'\u001b[0m\u001b[1m}\u001b[0m\n"
      ]
     },
     "metadata": {},
     "output_type": "display_data"
    },
    {
     "name": "stderr",
     "output_type": "stream",
     "text": [
      "100%|██████████| 2/2 [00:07<00:00,  3.88s/it]\n"
     ]
    },
    {
     "data": {
      "text/html": [
       "<pre style=\"white-space:pre;overflow-x:auto;line-height:normal;font-family:Menlo,'DejaVu Sans Mono',consolas,'Courier New',monospace\"><span style=\"font-weight: bold\">[</span><span style=\"color: #008000; text-decoration-color: #008000\">'ground_truth'</span>, <span style=\"color: #008000; text-decoration-color: #008000\">'input'</span>, <span style=\"color: #008000; text-decoration-color: #008000\">'prediction'</span><span style=\"font-weight: bold\">]</span>\n",
       "</pre>\n"
      ],
      "text/plain": [
       "\u001b[1m[\u001b[0m\u001b[32m'ground_truth'\u001b[0m, \u001b[32m'input'\u001b[0m, \u001b[32m'prediction'\u001b[0m\u001b[1m]\u001b[0m\n"
      ]
     },
     "metadata": {},
     "output_type": "display_data"
    },
    {
     "name": "stderr",
     "output_type": "stream",
     "text": [
      "  0%|          | 0/2 [00:00<?, ?it/s]"
     ]
    },
    {
     "data": {
      "text/html": [
       "<pre style=\"white-space:pre;overflow-x:auto;line-height:normal;font-family:Menlo,'DejaVu Sans Mono',consolas,'Courier New',monospace\"><span style=\"font-weight: bold\">{</span><span style=\"color: #008000; text-decoration-color: #008000\">'input'</span>: <span style=\"color: #008000; text-decoration-color: #008000\">'Vitamins'</span>, <span style=\"color: #008000; text-decoration-color: #008000\">'prediction'</span>: <span style=\"color: #008000; text-decoration-color: #008000\">'Vitamins'</span>, <span style=\"color: #008000; text-decoration-color: #008000\">'ground_truth'</span>: <span style=\"color: #008000; text-decoration-color: #008000\">'Vitamin A, Vitamin C, Vitamin D'</span><span style=\"font-weight: bold\">}</span>\n",
       "</pre>\n"
      ],
      "text/plain": [
       "\u001b[1m{\u001b[0m\u001b[32m'input'\u001b[0m: \u001b[32m'Vitamins'\u001b[0m, \u001b[32m'prediction'\u001b[0m: \u001b[32m'Vitamins'\u001b[0m, \u001b[32m'ground_truth'\u001b[0m: \u001b[32m'Vitamin A, Vitamin C, Vitamin D'\u001b[0m\u001b[1m}\u001b[0m\n"
      ]
     },
     "metadata": {},
     "output_type": "display_data"
    },
    {
     "name": "stderr",
     "output_type": "stream",
     "text": [
      "100%|██████████| 2/2 [00:13<00:00,  6.50s/it]"
     ]
    },
    {
     "data": {
      "text/html": [
       "<pre style=\"white-space:pre;overflow-x:auto;line-height:normal;font-family:Menlo,'DejaVu Sans Mono',consolas,'Courier New',monospace\"><span style=\"font-weight: bold\">{</span><span style=\"color: #008000; text-decoration-color: #008000\">'input'</span>: <span style=\"color: #008000; text-decoration-color: #008000\">'Minerals'</span>, <span style=\"color: #008000; text-decoration-color: #008000\">'prediction'</span>: <span style=\"color: #008000; text-decoration-color: #008000\">'Minerals'</span>, <span style=\"color: #008000; text-decoration-color: #008000\">'ground_truth'</span>: <span style=\"color: #008000; text-decoration-color: #008000\">'Calcium, Iron, Magnesium'</span><span style=\"font-weight: bold\">}</span>\n",
       "</pre>\n"
      ],
      "text/plain": [
       "\u001b[1m{\u001b[0m\u001b[32m'input'\u001b[0m: \u001b[32m'Minerals'\u001b[0m, \u001b[32m'prediction'\u001b[0m: \u001b[32m'Minerals'\u001b[0m, \u001b[32m'ground_truth'\u001b[0m: \u001b[32m'Calcium, Iron, Magnesium'\u001b[0m\u001b[1m}\u001b[0m\n"
      ]
     },
     "metadata": {},
     "output_type": "display_data"
    },
    {
     "name": "stderr",
     "output_type": "stream",
     "text": [
      "100%|██████████| 2/2 [00:22<00:00, 11.32s/it]\n"
     ]
    },
    {
     "data": {
      "text/html": [
       "<pre style=\"white-space:pre;overflow-x:auto;line-height:normal;font-family:Menlo,'DejaVu Sans Mono',consolas,'Courier New',monospace\"><span style=\"font-weight: bold\">[</span><span style=\"color: #008000; text-decoration-color: #008000\">'ground_truth'</span>, <span style=\"color: #008000; text-decoration-color: #008000\">'input'</span>, <span style=\"color: #008000; text-decoration-color: #008000\">'prediction'</span>, <span style=\"color: #008000; text-decoration-color: #008000\">'reason'</span><span style=\"font-weight: bold\">]</span>\n",
       "</pre>\n"
      ],
      "text/plain": [
       "\u001b[1m[\u001b[0m\u001b[32m'ground_truth'\u001b[0m, \u001b[32m'input'\u001b[0m, \u001b[32m'prediction'\u001b[0m, \u001b[32m'reason'\u001b[0m\u001b[1m]\u001b[0m\n"
      ]
     },
     "metadata": {},
     "output_type": "display_data"
    },
    {
     "name": "stderr",
     "output_type": "stream",
     "text": [
      "  0%|          | 0/2 [00:00<?, ?it/s]"
     ]
    },
    {
     "data": {
      "text/html": [
       "<pre style=\"white-space:pre;overflow-x:auto;line-height:normal;font-family:Menlo,'DejaVu Sans Mono',consolas,'Courier New',monospace\"><span style=\"font-weight: bold\">{</span><span style=\"color: #008000; text-decoration-color: #008000\">'input'</span>: <span style=\"color: #008000; text-decoration-color: #008000\">'Vitamins'</span>, <span style=\"color: #008000; text-decoration-color: #008000\">'prediction'</span>: <span style=\"color: #008000; text-decoration-color: #008000\">'Vitamins'</span>, <span style=\"color: #008000; text-decoration-color: #008000\">'ground_truth'</span>: <span style=\"color: #008000; text-decoration-color: #008000\">'Vitamin A, Vitamin C, Vitamin D'</span>, <span style=\"color: #008000; text-decoration-color: #008000\">'reason'</span>: <span style=\"color: #008000; text-decoration-color: #008000\">'The </span>\n",
       "<span style=\"color: #008000; text-decoration-color: #008000\">original instruction template asks for macronutrients (carbohydrates, proteins, fats), but the input and ground </span>\n",
       "<span style=\"color: #008000; text-decoration-color: #008000\">truth are about vitamins. Therefore, the model cannot generate the correct prediction because it is not provided </span>\n",
       "<span style=\"color: #008000; text-decoration-color: #008000\">with the necessary information to generate the expected output.'</span><span style=\"font-weight: bold\">}</span>\n",
       "</pre>\n"
      ],
      "text/plain": [
       "\u001b[1m{\u001b[0m\u001b[32m'input'\u001b[0m: \u001b[32m'Vitamins'\u001b[0m, \u001b[32m'prediction'\u001b[0m: \u001b[32m'Vitamins'\u001b[0m, \u001b[32m'ground_truth'\u001b[0m: \u001b[32m'Vitamin A, Vitamin C, Vitamin D'\u001b[0m, \u001b[32m'reason'\u001b[0m: \u001b[32m'The \u001b[0m\n",
       "\u001b[32moriginal instruction template asks for macronutrients \u001b[0m\u001b[32m(\u001b[0m\u001b[32mcarbohydrates, proteins, fats\u001b[0m\u001b[32m)\u001b[0m\u001b[32m, but the input and ground \u001b[0m\n",
       "\u001b[32mtruth are about vitamins. Therefore, the model cannot generate the correct prediction because it is not provided \u001b[0m\n",
       "\u001b[32mwith the necessary information to generate the expected output.'\u001b[0m\u001b[1m}\u001b[0m\n"
      ]
     },
     "metadata": {},
     "output_type": "display_data"
    },
    {
     "name": "stderr",
     "output_type": "stream",
     "text": [
      "100%|██████████| 2/2 [00:15<00:00,  7.79s/it]"
     ]
    },
    {
     "data": {
      "text/html": [
       "<pre style=\"white-space:pre;overflow-x:auto;line-height:normal;font-family:Menlo,'DejaVu Sans Mono',consolas,'Courier New',monospace\"><span style=\"font-weight: bold\">{</span><span style=\"color: #008000; text-decoration-color: #008000\">'input'</span>: <span style=\"color: #008000; text-decoration-color: #008000\">'Minerals'</span>, <span style=\"color: #008000; text-decoration-color: #008000\">'prediction'</span>: <span style=\"color: #008000; text-decoration-color: #008000\">'Minerals'</span>, <span style=\"color: #008000; text-decoration-color: #008000\">'ground_truth'</span>: <span style=\"color: #008000; text-decoration-color: #008000\">'Calcium, Iron, Magnesium'</span>, <span style=\"color: #008000; text-decoration-color: #008000\">'reason'</span>: <span style=\"color: #008000; text-decoration-color: #008000\">'The original</span>\n",
       "<span style=\"color: #008000; text-decoration-color: #008000\">instruction template asks for macronutrients (carbohydrates, proteins, fats), but the input and ground truth are </span>\n",
       "<span style=\"color: #008000; text-decoration-color: #008000\">about minerals. Therefore, the model cannot generate the correct prediction based on the given instruction.'</span><span style=\"font-weight: bold\">}</span>\n",
       "</pre>\n"
      ],
      "text/plain": [
       "\u001b[1m{\u001b[0m\u001b[32m'input'\u001b[0m: \u001b[32m'Minerals'\u001b[0m, \u001b[32m'prediction'\u001b[0m: \u001b[32m'Minerals'\u001b[0m, \u001b[32m'ground_truth'\u001b[0m: \u001b[32m'Calcium, Iron, Magnesium'\u001b[0m, \u001b[32m'reason'\u001b[0m: \u001b[32m'The original\u001b[0m\n",
       "\u001b[32minstruction template asks for macronutrients \u001b[0m\u001b[32m(\u001b[0m\u001b[32mcarbohydrates, proteins, fats\u001b[0m\u001b[32m)\u001b[0m\u001b[32m, but the input and ground truth are \u001b[0m\n",
       "\u001b[32mabout minerals. Therefore, the model cannot generate the correct prediction based on the given instruction.'\u001b[0m\u001b[1m}\u001b[0m\n"
      ]
     },
     "metadata": {},
     "output_type": "display_data"
    },
    {
     "name": "stderr",
     "output_type": "stream",
     "text": [
      "100%|██████████| 2/2 [00:32<00:00, 16.49s/it]\n"
     ]
    },
    {
     "data": {
      "text/html": [
       "<pre style=\"white-space:pre;overflow-x:auto;line-height:normal;font-family:Menlo,'DejaVu Sans Mono',consolas,'Courier New',monospace\">Error analysis for skill <span style=\"color: #008000; text-decoration-color: #008000\">\"skill_0\"</span>:\n",
       "\n",
       "</pre>\n"
      ],
      "text/plain": [
       "Error analysis for skill \u001b[32m\"skill_0\"\u001b[0m:\n",
       "\n"
      ]
     },
     "metadata": {},
     "output_type": "display_data"
    },
    {
     "data": {
      "text/html": [
       "<pre style=\"white-space:pre;overflow-x:auto;line-height:normal;font-family:Menlo,'DejaVu Sans Mono',consolas,'Courier New',monospace\"><span style=\"color: #008000; text-decoration-color: #008000\">Input: Vitamins</span>\n",
       "\n",
       "<span style=\"color: #008000; text-decoration-color: #008000\">Prediction: Vitamins</span>\n",
       "\n",
       "<span style=\"color: #008000; text-decoration-color: #008000\">Ground truth: Vitamin A, Vitamin C, Vitamin D</span>\n",
       "\n",
       "<span style=\"color: #008000; text-decoration-color: #008000\">Error reason: The original instruction template asks for macronutrients </span><span style=\"color: #008000; text-decoration-color: #008000; font-weight: bold\">(</span><span style=\"color: #008000; text-decoration-color: #008000\">carbohydrates, proteins, fats</span><span style=\"color: #008000; text-decoration-color: #008000; font-weight: bold\">)</span><span style=\"color: #008000; text-decoration-color: #008000\">, but the </span>\n",
       "<span style=\"color: #008000; text-decoration-color: #008000\">input and ground truth are about vitamins. Therefore, the model cannot generate the correct prediction because it </span>\n",
       "<span style=\"color: #008000; text-decoration-color: #008000\">is not provided with the necessary information to generate the expected output. Error analysis report:</span>\n",
       "\n",
       "<span style=\"color: #008000; text-decoration-color: #008000\">Input: Minerals</span>\n",
       "\n",
       "<span style=\"color: #008000; text-decoration-color: #008000\">Prediction: Minerals</span>\n",
       "\n",
       "<span style=\"color: #008000; text-decoration-color: #008000\">Ground truth: Calcium, Iron, Magnesium</span>\n",
       "\n",
       "<span style=\"color: #008000; text-decoration-color: #008000\">Error reason: The original instruction template asks for macronutrients </span><span style=\"color: #008000; text-decoration-color: #008000; font-weight: bold\">(</span><span style=\"color: #008000; text-decoration-color: #008000\">carbohydrates, proteins, fats</span><span style=\"color: #008000; text-decoration-color: #008000; font-weight: bold\">)</span><span style=\"color: #008000; text-decoration-color: #008000\">, but the </span>\n",
       "<span style=\"color: #008000; text-decoration-color: #008000\">input and ground truth are about minerals. Therefore, the model cannot generate the correct prediction based on the</span>\n",
       "<span style=\"color: #008000; text-decoration-color: #008000\">given instruction.</span>\n",
       "</pre>\n"
      ],
      "text/plain": [
       "\u001b[32mInput: Vitamins\u001b[0m\n",
       "\n",
       "\u001b[32mPrediction: Vitamins\u001b[0m\n",
       "\n",
       "\u001b[32mGround truth: Vitamin A, Vitamin C, Vitamin D\u001b[0m\n",
       "\n",
       "\u001b[32mError reason: The original instruction template asks for macronutrients \u001b[0m\u001b[1;32m(\u001b[0m\u001b[32mcarbohydrates, proteins, fats\u001b[0m\u001b[1;32m)\u001b[0m\u001b[32m, but the \u001b[0m\n",
       "\u001b[32minput and ground truth are about vitamins. Therefore, the model cannot generate the correct prediction because it \u001b[0m\n",
       "\u001b[32mis not provided with the necessary information to generate the expected output. Error analysis report:\u001b[0m\n",
       "\n",
       "\u001b[32mInput: Minerals\u001b[0m\n",
       "\n",
       "\u001b[32mPrediction: Minerals\u001b[0m\n",
       "\n",
       "\u001b[32mGround truth: Calcium, Iron, Magnesium\u001b[0m\n",
       "\n",
       "\u001b[32mError reason: The original instruction template asks for macronutrients \u001b[0m\u001b[1;32m(\u001b[0m\u001b[32mcarbohydrates, proteins, fats\u001b[0m\u001b[1;32m)\u001b[0m\u001b[32m, but the \u001b[0m\n",
       "\u001b[32minput and ground truth are about minerals. Therefore, the model cannot generate the correct prediction based on the\u001b[0m\n",
       "\u001b[32mgiven instruction.\u001b[0m\n"
      ]
     },
     "metadata": {},
     "output_type": "display_data"
    },
    {
     "data": {
      "text/html": [
       "<pre style=\"white-space:pre;overflow-x:auto;line-height:normal;font-family:Menlo,'DejaVu Sans Mono',consolas,'Courier New',monospace\">Improve <span style=\"color: #008000; text-decoration-color: #008000\">\"skill_0\"</span> skill based on analysis <span style=\"color: #808000; text-decoration-color: #808000\">...</span>\n",
       "</pre>\n"
      ],
      "text/plain": [
       "Improve \u001b[32m\"skill_0\"\u001b[0m skill based on analysis \u001b[33m...\u001b[0m\n"
      ]
     },
     "metadata": {},
     "output_type": "display_data"
    },
    {
     "data": {
      "text/html": [
       "<pre style=\"white-space:pre;overflow-x:auto;line-height:normal;font-family:Menlo,'DejaVu Sans Mono',consolas,'Courier New',monospace\"><span style=\"font-weight: bold\">{</span><span style=\"color: #008000; text-decoration-color: #008000\">'error_analysis'</span>: <span style=\"color: #008000; text-decoration-color: #008000\">'Input: Vitamins\\n\\nPrediction: Vitamins\\n\\nGround truth: Vitamin A, Vitamin C, Vitamin </span>\n",
       "<span style=\"color: #008000; text-decoration-color: #008000\">D\\n\\nError reason: The original instruction template asks for macronutrients (carbohydrates, proteins, fats), but </span>\n",
       "<span style=\"color: #008000; text-decoration-color: #008000\">the input and ground truth are about vitamins. Therefore, the model cannot generate the correct prediction because </span>\n",
       "<span style=\"color: #008000; text-decoration-color: #008000\">it is not provided with the necessary information to generate the expected output. Error analysis report:\\n\\nInput:</span>\n",
       "<span style=\"color: #008000; text-decoration-color: #008000\">Minerals\\n\\nPrediction: Minerals\\n\\nGround truth: Calcium, Iron, Magnesium\\n\\nError reason: The original </span>\n",
       "<span style=\"color: #008000; text-decoration-color: #008000\">instruction template asks for macronutrients (carbohydrates, proteins, fats), but the input and ground truth are </span>\n",
       "<span style=\"color: #008000; text-decoration-color: #008000\">about minerals. Therefore, the model cannot generate the correct prediction based on the given instruction.'</span><span style=\"font-weight: bold\">}</span>\n",
       "</pre>\n"
      ],
      "text/plain": [
       "\u001b[1m{\u001b[0m\u001b[32m'error_analysis'\u001b[0m: \u001b[32m'Input: Vitamins\\n\\nPrediction: Vitamins\\n\\nGround truth: Vitamin A, Vitamin C, Vitamin \u001b[0m\n",
       "\u001b[32mD\\n\\nError reason: The original instruction template asks for macronutrients \u001b[0m\u001b[32m(\u001b[0m\u001b[32mcarbohydrates, proteins, fats\u001b[0m\u001b[32m)\u001b[0m\u001b[32m, but \u001b[0m\n",
       "\u001b[32mthe input and ground truth are about vitamins. Therefore, the model cannot generate the correct prediction because \u001b[0m\n",
       "\u001b[32mit is not provided with the necessary information to generate the expected output. Error analysis report:\\n\\nInput:\u001b[0m\n",
       "\u001b[32mMinerals\\n\\nPrediction: Minerals\\n\\nGround truth: Calcium, Iron, Magnesium\\n\\nError reason: The original \u001b[0m\n",
       "\u001b[32minstruction template asks for macronutrients \u001b[0m\u001b[32m(\u001b[0m\u001b[32mcarbohydrates, proteins, fats\u001b[0m\u001b[32m)\u001b[0m\u001b[32m, but the input and ground truth are \u001b[0m\n",
       "\u001b[32mabout minerals. Therefore, the model cannot generate the correct prediction based on the given instruction.'\u001b[0m\u001b[1m}\u001b[0m\n"
      ]
     },
     "metadata": {},
     "output_type": "display_data"
    },
    {
     "data": {
      "text/html": [
       "<pre style=\"white-space:pre;overflow-x:auto;line-height:normal;font-family:Menlo,'DejaVu Sans Mono',consolas,'Courier New',monospace\">Updated instructions for skill <span style=\"color: #008000; text-decoration-color: #008000\">\"skill_0\"</span>:\n",
       "\n",
       "</pre>\n"
      ],
      "text/plain": [
       "Updated instructions for skill \u001b[32m\"skill_0\"\u001b[0m:\n",
       "\n"
      ]
     },
     "metadata": {},
     "output_type": "display_data"
    },
    {
     "data": {
      "text/html": [
       "<pre style=\"white-space:pre;overflow-x:auto;line-height:normal;font-family:Menlo,'DejaVu Sans Mono',consolas,'Courier New',monospace\"><span style=\"color: #008000; text-decoration-color: #008000; font-weight: bold\">Specify the specific macronutrients: Carbohydrates, Proteins, Fats.</span>\n",
       "</pre>\n"
      ],
      "text/plain": [
       "\u001b[1;32mSpecify the specific macronutrients: Carbohydrates, Proteins, Fats.\u001b[0m\n"
      ]
     },
     "metadata": {},
     "output_type": "display_data"
    },
    {
     "data": {
      "text/html": [
       "<pre style=\"white-space:pre;overflow-x:auto;line-height:normal;font-family:Menlo,'DejaVu Sans Mono',consolas,'Courier New',monospace\">Re-apply skill_0 skill to dataset <span style=\"color: #808000; text-decoration-color: #808000\">...</span>\n",
       "</pre>\n"
      ],
      "text/plain": [
       "Re-apply skill_0 skill to dataset \u001b[33m...\u001b[0m\n"
      ]
     },
     "metadata": {},
     "output_type": "display_data"
    },
    {
     "data": {
      "text/html": [
       "<pre style=\"white-space:pre;overflow-x:auto;line-height:normal;font-family:Menlo,'DejaVu Sans Mono',consolas,'Courier New',monospace\">Applying skill: skill_0\n",
       "</pre>\n"
      ],
      "text/plain": [
       "Applying skill: skill_0\n"
      ]
     },
     "metadata": {},
     "output_type": "display_data"
    },
    {
     "data": {
      "text/html": [
       "<pre style=\"white-space:pre;overflow-x:auto;line-height:normal;font-family:Menlo,'DejaVu Sans Mono',consolas,'Courier New',monospace\"><span style=\"font-weight: bold\">[</span><span style=\"color: #008000; text-decoration-color: #008000\">'category'</span><span style=\"font-weight: bold\">]</span>\n",
       "</pre>\n"
      ],
      "text/plain": [
       "\u001b[1m[\u001b[0m\u001b[32m'category'\u001b[0m\u001b[1m]\u001b[0m\n"
      ]
     },
     "metadata": {},
     "output_type": "display_data"
    },
    {
     "name": "stderr",
     "output_type": "stream",
     "text": [
      "  0%|          | 0/3 [00:00<?, ?it/s]"
     ]
    },
    {
     "data": {
      "text/html": [
       "<pre style=\"white-space:pre;overflow-x:auto;line-height:normal;font-family:Menlo,'DejaVu Sans Mono',consolas,'Courier New',monospace\"><span style=\"font-weight: bold\">{</span><span style=\"color: #008000; text-decoration-color: #008000\">'category'</span>: <span style=\"color: #008000; text-decoration-color: #008000\">'Macronutrients'</span>, <span style=\"color: #008000; text-decoration-color: #008000\">'entities'</span>: <span style=\"color: #008000; text-decoration-color: #008000\">'Carbohydrates, Proteins, Fats'</span>, <span style=\"color: #008000; text-decoration-color: #008000\">'text'</span>: <span style=\"color: #008000; text-decoration-color: #008000\">'Carbohydrates provide quick </span>\n",
       "<span style=\"color: #008000; text-decoration-color: #008000\">energy, proteins are essential for muscle repair and growth, and fats are vital for long-term energy storage and </span>\n",
       "<span style=\"color: #008000; text-decoration-color: #008000\">cell function.'</span>, <span style=\"color: #008000; text-decoration-color: #008000\">'skill_0'</span>: <span style=\"color: #008000; text-decoration-color: #008000\">'Carbohydrates, Proteins, Fats'</span>, <span style=\"color: #008000; text-decoration-color: #008000\">'skill_1'</span>: <span style=\"color: #008000; text-decoration-color: #008000\">'Carbohydrates, Proteins, Fats'</span><span style=\"font-weight: bold\">}</span>\n",
       "</pre>\n"
      ],
      "text/plain": [
       "\u001b[1m{\u001b[0m\u001b[32m'category'\u001b[0m: \u001b[32m'Macronutrients'\u001b[0m, \u001b[32m'entities'\u001b[0m: \u001b[32m'Carbohydrates, Proteins, Fats'\u001b[0m, \u001b[32m'text'\u001b[0m: \u001b[32m'Carbohydrates provide quick \u001b[0m\n",
       "\u001b[32menergy, proteins are essential for muscle repair and growth, and fats are vital for long-term energy storage and \u001b[0m\n",
       "\u001b[32mcell function.'\u001b[0m, \u001b[32m'skill_0'\u001b[0m: \u001b[32m'Carbohydrates, Proteins, Fats'\u001b[0m, \u001b[32m'skill_1'\u001b[0m: \u001b[32m'Carbohydrates, Proteins, Fats'\u001b[0m\u001b[1m}\u001b[0m\n"
      ]
     },
     "metadata": {},
     "output_type": "display_data"
    },
    {
     "name": "stderr",
     "output_type": "stream",
     "text": [
      " 67%|██████▋   | 2/3 [00:04<00:02,  2.28s/it]"
     ]
    },
    {
     "data": {
      "text/html": [
       "<pre style=\"white-space:pre;overflow-x:auto;line-height:normal;font-family:Menlo,'DejaVu Sans Mono',consolas,'Courier New',monospace\"><span style=\"font-weight: bold\">{</span><span style=\"color: #008000; text-decoration-color: #008000\">'category'</span>: <span style=\"color: #008000; text-decoration-color: #008000\">'Vitamins'</span>, <span style=\"color: #008000; text-decoration-color: #008000\">'entities'</span>: <span style=\"color: #008000; text-decoration-color: #008000\">'Vitamin A, Vitamin C, Vitamin D'</span>, <span style=\"color: #008000; text-decoration-color: #008000\">'text'</span>: <span style=\"color: #008000; text-decoration-color: #008000\">'Vitamin A is crucial for good </span>\n",
       "<span style=\"color: #008000; text-decoration-color: #008000\">vision and a healthy immune system, Vitamin C helps in the repair of tissues and the enzymatic production of </span>\n",
       "<span style=\"color: #008000; text-decoration-color: #008000\">certain neurotransmitters, and Vitamin D is essential for strong bones and teeth as it helps the body absorb </span>\n",
       "<span style=\"color: #008000; text-decoration-color: #008000\">calcium.'</span>, <span style=\"color: #008000; text-decoration-color: #008000\">'skill_0'</span>: <span style=\"color: #008000; text-decoration-color: #008000\">'Vitamins'</span>, <span style=\"color: #008000; text-decoration-color: #008000\">'skill_1'</span>: <span style=\"color: #008000; text-decoration-color: #008000\">'Vitamins are organic compounds that are essential for the proper </span>\n",
       "<span style=\"color: #008000; text-decoration-color: #008000\">functioning of the body. They are micronutrients that are required in small amounts and play a crucial role in </span>\n",
       "<span style=\"color: #008000; text-decoration-color: #008000\">various physiological processes. Vitamins are classified into two categories: water-soluble vitamins (such as </span>\n",
       "<span style=\"color: #008000; text-decoration-color: #008000\">vitamin C and the B vitamins) and fat-soluble vitamins (such as vitamins A, D, E, and K). Each vitamin has specific</span>\n",
       "<span style=\"color: #008000; text-decoration-color: #008000\">functions and benefits. For example, vitamin C is important for immune function and collagen synthesis, while </span>\n",
       "<span style=\"color: #008000; text-decoration-color: #008000\">vitamin D is essential for bone health. It is important to obtain vitamins through a balanced diet, as deficiencies</span>\n",
       "<span style=\"color: #008000; text-decoration-color: #008000\">or excesses can lead to various health problems.'</span><span style=\"font-weight: bold\">}</span>\n",
       "</pre>\n"
      ],
      "text/plain": [
       "\u001b[1m{\u001b[0m\u001b[32m'category'\u001b[0m: \u001b[32m'Vitamins'\u001b[0m, \u001b[32m'entities'\u001b[0m: \u001b[32m'Vitamin A, Vitamin C, Vitamin D'\u001b[0m, \u001b[32m'text'\u001b[0m: \u001b[32m'Vitamin A is crucial for good \u001b[0m\n",
       "\u001b[32mvision and a healthy immune system, Vitamin C helps in the repair of tissues and the enzymatic production of \u001b[0m\n",
       "\u001b[32mcertain neurotransmitters, and Vitamin D is essential for strong bones and teeth as it helps the body absorb \u001b[0m\n",
       "\u001b[32mcalcium.'\u001b[0m, \u001b[32m'skill_0'\u001b[0m: \u001b[32m'Vitamins'\u001b[0m, \u001b[32m'skill_1'\u001b[0m: \u001b[32m'Vitamins are organic compounds that are essential for the proper \u001b[0m\n",
       "\u001b[32mfunctioning of the body. They are micronutrients that are required in small amounts and play a crucial role in \u001b[0m\n",
       "\u001b[32mvarious physiological processes. Vitamins are classified into two categories: water-soluble vitamins \u001b[0m\u001b[32m(\u001b[0m\u001b[32msuch as \u001b[0m\n",
       "\u001b[32mvitamin C and the B vitamins\u001b[0m\u001b[32m)\u001b[0m\u001b[32m and fat-soluble vitamins \u001b[0m\u001b[32m(\u001b[0m\u001b[32msuch as vitamins A, D, E, and K\u001b[0m\u001b[32m)\u001b[0m\u001b[32m. Each vitamin has specific\u001b[0m\n",
       "\u001b[32mfunctions and benefits. For example, vitamin C is important for immune function and collagen synthesis, while \u001b[0m\n",
       "\u001b[32mvitamin D is essential for bone health. It is important to obtain vitamins through a balanced diet, as deficiencies\u001b[0m\n",
       "\u001b[32mor excesses can lead to various health problems.'\u001b[0m\u001b[1m}\u001b[0m\n"
      ]
     },
     "metadata": {},
     "output_type": "display_data"
    },
    {
     "name": "stderr",
     "output_type": "stream",
     "text": [
      "100%|██████████| 3/3 [00:08<00:00,  2.83s/it]"
     ]
    },
    {
     "data": {
      "text/html": [
       "<pre style=\"white-space:pre;overflow-x:auto;line-height:normal;font-family:Menlo,'DejaVu Sans Mono',consolas,'Courier New',monospace\"><span style=\"font-weight: bold\">{</span><span style=\"color: #008000; text-decoration-color: #008000\">'category'</span>: <span style=\"color: #008000; text-decoration-color: #008000\">'Minerals'</span>, <span style=\"color: #008000; text-decoration-color: #008000\">'entities'</span>: <span style=\"color: #008000; text-decoration-color: #008000\">'Calcium, Iron, Magnesium'</span>, <span style=\"color: #008000; text-decoration-color: #008000\">'text'</span>: <span style=\"color: #008000; text-decoration-color: #008000\">'Calcium is necessary for maintaining </span>\n",
       "<span style=\"color: #008000; text-decoration-color: #008000\">healthy bones and teeth, Iron is crucial for making red blood cells and transporting oxygen throughout the body, </span>\n",
       "<span style=\"color: #008000; text-decoration-color: #008000\">and Magnesium plays a role in over 300 enzyme reactions in the human body, including the metabolism of food, </span>\n",
       "<span style=\"color: #008000; text-decoration-color: #008000\">synthesis of fatty acids and proteins, and the transmission of nerve impulses.'</span>, <span style=\"color: #008000; text-decoration-color: #008000\">'skill_0'</span>: <span style=\"color: #008000; text-decoration-color: #008000\">'Minerals'</span>, <span style=\"color: #008000; text-decoration-color: #008000\">'skill_1'</span>: \n",
       "<span style=\"color: #008000; text-decoration-color: #008000\">'Minerals are naturally occurring inorganic substances that are solid and have a definite chemical composition. </span>\n",
       "<span style=\"color: #008000; text-decoration-color: #008000\">They are the building blocks of rocks and are classified into different groups based on their chemical composition </span>\n",
       "<span style=\"color: #008000; text-decoration-color: #008000\">and physical properties. Some common minerals include quartz, feldspar, mica, calcite, and hematite.'</span><span style=\"font-weight: bold\">}</span>\n",
       "</pre>\n"
      ],
      "text/plain": [
       "\u001b[1m{\u001b[0m\u001b[32m'category'\u001b[0m: \u001b[32m'Minerals'\u001b[0m, \u001b[32m'entities'\u001b[0m: \u001b[32m'Calcium, Iron, Magnesium'\u001b[0m, \u001b[32m'text'\u001b[0m: \u001b[32m'Calcium is necessary for maintaining \u001b[0m\n",
       "\u001b[32mhealthy bones and teeth, Iron is crucial for making red blood cells and transporting oxygen throughout the body, \u001b[0m\n",
       "\u001b[32mand Magnesium plays a role in over 300 enzyme reactions in the human body, including the metabolism of food, \u001b[0m\n",
       "\u001b[32msynthesis of fatty acids and proteins, and the transmission of nerve impulses.'\u001b[0m, \u001b[32m'skill_0'\u001b[0m: \u001b[32m'Minerals'\u001b[0m, \u001b[32m'skill_1'\u001b[0m: \n",
       "\u001b[32m'Minerals are naturally occurring inorganic substances that are solid and have a definite chemical composition. \u001b[0m\n",
       "\u001b[32mThey are the building blocks of rocks and are classified into different groups based on their chemical composition \u001b[0m\n",
       "\u001b[32mand physical properties. Some common minerals include quartz, feldspar, mica, calcite, and hematite.'\u001b[0m\u001b[1m}\u001b[0m\n"
      ]
     },
     "metadata": {},
     "output_type": "display_data"
    },
    {
     "name": "stderr",
     "output_type": "stream",
     "text": [
      "100%|██████████| 3/3 [00:11<00:00,  3.92s/it]\n"
     ]
    },
    {
     "data": {
      "text/html": [
       "<pre style=\"white-space:pre;overflow-x:auto;line-height:normal;font-family:Menlo,'DejaVu Sans Mono',consolas,'Courier New',monospace\">Applying skill: skill_1\n",
       "</pre>\n"
      ],
      "text/plain": [
       "Applying skill: skill_1\n"
      ]
     },
     "metadata": {},
     "output_type": "display_data"
    },
    {
     "data": {
      "text/html": [
       "<pre style=\"white-space:pre;overflow-x:auto;line-height:normal;font-family:Menlo,'DejaVu Sans Mono',consolas,'Courier New',monospace\"><span style=\"font-weight: bold\">[</span><span style=\"color: #008000; text-decoration-color: #008000\">'skill_0'</span><span style=\"font-weight: bold\">]</span>\n",
       "</pre>\n"
      ],
      "text/plain": [
       "\u001b[1m[\u001b[0m\u001b[32m'skill_0'\u001b[0m\u001b[1m]\u001b[0m\n"
      ]
     },
     "metadata": {},
     "output_type": "display_data"
    },
    {
     "name": "stderr",
     "output_type": "stream",
     "text": [
      "  0%|          | 0/3 [00:00<?, ?it/s]"
     ]
    },
    {
     "data": {
      "text/html": [
       "<pre style=\"white-space:pre;overflow-x:auto;line-height:normal;font-family:Menlo,'DejaVu Sans Mono',consolas,'Courier New',monospace\"><span style=\"font-weight: bold\">{</span><span style=\"color: #008000; text-decoration-color: #008000\">'category'</span>: <span style=\"color: #008000; text-decoration-color: #008000\">'Macronutrients'</span>, <span style=\"color: #008000; text-decoration-color: #008000\">'entities'</span>: <span style=\"color: #008000; text-decoration-color: #008000\">'Carbohydrates, Proteins, Fats'</span>, <span style=\"color: #008000; text-decoration-color: #008000\">'text'</span>: <span style=\"color: #008000; text-decoration-color: #008000\">'Carbohydrates provide quick </span>\n",
       "<span style=\"color: #008000; text-decoration-color: #008000\">energy, proteins are essential for muscle repair and growth, and fats are vital for long-term energy storage and </span>\n",
       "<span style=\"color: #008000; text-decoration-color: #008000\">cell function.'</span>, <span style=\"color: #008000; text-decoration-color: #008000\">'skill_0'</span>: <span style=\"color: #008000; text-decoration-color: #008000\">'Carbohydrates, Proteins, Fats'</span>, <span style=\"color: #008000; text-decoration-color: #008000\">'skill_1'</span>: <span style=\"color: #008000; text-decoration-color: #008000\">'Carbohydrates, Proteins, Fats'</span><span style=\"font-weight: bold\">}</span>\n",
       "</pre>\n"
      ],
      "text/plain": [
       "\u001b[1m{\u001b[0m\u001b[32m'category'\u001b[0m: \u001b[32m'Macronutrients'\u001b[0m, \u001b[32m'entities'\u001b[0m: \u001b[32m'Carbohydrates, Proteins, Fats'\u001b[0m, \u001b[32m'text'\u001b[0m: \u001b[32m'Carbohydrates provide quick \u001b[0m\n",
       "\u001b[32menergy, proteins are essential for muscle repair and growth, and fats are vital for long-term energy storage and \u001b[0m\n",
       "\u001b[32mcell function.'\u001b[0m, \u001b[32m'skill_0'\u001b[0m: \u001b[32m'Carbohydrates, Proteins, Fats'\u001b[0m, \u001b[32m'skill_1'\u001b[0m: \u001b[32m'Carbohydrates, Proteins, Fats'\u001b[0m\u001b[1m}\u001b[0m\n"
      ]
     },
     "metadata": {},
     "output_type": "display_data"
    },
    {
     "name": "stderr",
     "output_type": "stream",
     "text": [
      " 67%|██████▋   | 2/3 [00:38<00:19, 19.43s/it]"
     ]
    },
    {
     "data": {
      "text/html": [
       "<pre style=\"white-space:pre;overflow-x:auto;line-height:normal;font-family:Menlo,'DejaVu Sans Mono',consolas,'Courier New',monospace\"><span style=\"font-weight: bold\">{</span><span style=\"color: #008000; text-decoration-color: #008000\">'category'</span>: <span style=\"color: #008000; text-decoration-color: #008000\">'Vitamins'</span>, <span style=\"color: #008000; text-decoration-color: #008000\">'entities'</span>: <span style=\"color: #008000; text-decoration-color: #008000\">'Vitamin A, Vitamin C, Vitamin D'</span>, <span style=\"color: #008000; text-decoration-color: #008000\">'text'</span>: <span style=\"color: #008000; text-decoration-color: #008000\">'Vitamin A is crucial for good </span>\n",
       "<span style=\"color: #008000; text-decoration-color: #008000\">vision and a healthy immune system, Vitamin C helps in the repair of tissues and the enzymatic production of </span>\n",
       "<span style=\"color: #008000; text-decoration-color: #008000\">certain neurotransmitters, and Vitamin D is essential for strong bones and teeth as it helps the body absorb </span>\n",
       "<span style=\"color: #008000; text-decoration-color: #008000\">calcium.'</span>, <span style=\"color: #008000; text-decoration-color: #008000\">'skill_0'</span>: <span style=\"color: #008000; text-decoration-color: #008000\">'Vitamins'</span>, <span style=\"color: #008000; text-decoration-color: #008000\">'skill_1'</span>: <span style=\"color: #008000; text-decoration-color: #008000\">'Vitamins are organic compounds that are essential for the proper </span>\n",
       "<span style=\"color: #008000; text-decoration-color: #008000\">functioning of the body. They are micronutrients that are required in small amounts and play a crucial role in </span>\n",
       "<span style=\"color: #008000; text-decoration-color: #008000\">various physiological processes. Vitamins are classified into two categories: water-soluble vitamins (such as </span>\n",
       "<span style=\"color: #008000; text-decoration-color: #008000\">vitamin C and the B vitamins) and fat-soluble vitamins (such as vitamins A, D, E, and K). Each vitamin has specific</span>\n",
       "<span style=\"color: #008000; text-decoration-color: #008000\">functions and benefits. For example, vitamin C is important for immune function and collagen synthesis, while </span>\n",
       "<span style=\"color: #008000; text-decoration-color: #008000\">vitamin D is essential for bone health. It is important to obtain vitamins through a balanced diet, as deficiencies</span>\n",
       "<span style=\"color: #008000; text-decoration-color: #008000\">or excesses can lead to various health problems.'</span><span style=\"font-weight: bold\">}</span>\n",
       "</pre>\n"
      ],
      "text/plain": [
       "\u001b[1m{\u001b[0m\u001b[32m'category'\u001b[0m: \u001b[32m'Vitamins'\u001b[0m, \u001b[32m'entities'\u001b[0m: \u001b[32m'Vitamin A, Vitamin C, Vitamin D'\u001b[0m, \u001b[32m'text'\u001b[0m: \u001b[32m'Vitamin A is crucial for good \u001b[0m\n",
       "\u001b[32mvision and a healthy immune system, Vitamin C helps in the repair of tissues and the enzymatic production of \u001b[0m\n",
       "\u001b[32mcertain neurotransmitters, and Vitamin D is essential for strong bones and teeth as it helps the body absorb \u001b[0m\n",
       "\u001b[32mcalcium.'\u001b[0m, \u001b[32m'skill_0'\u001b[0m: \u001b[32m'Vitamins'\u001b[0m, \u001b[32m'skill_1'\u001b[0m: \u001b[32m'Vitamins are organic compounds that are essential for the proper \u001b[0m\n",
       "\u001b[32mfunctioning of the body. They are micronutrients that are required in small amounts and play a crucial role in \u001b[0m\n",
       "\u001b[32mvarious physiological processes. Vitamins are classified into two categories: water-soluble vitamins \u001b[0m\u001b[32m(\u001b[0m\u001b[32msuch as \u001b[0m\n",
       "\u001b[32mvitamin C and the B vitamins\u001b[0m\u001b[32m)\u001b[0m\u001b[32m and fat-soluble vitamins \u001b[0m\u001b[32m(\u001b[0m\u001b[32msuch as vitamins A, D, E, and K\u001b[0m\u001b[32m)\u001b[0m\u001b[32m. Each vitamin has specific\u001b[0m\n",
       "\u001b[32mfunctions and benefits. For example, vitamin C is important for immune function and collagen synthesis, while \u001b[0m\n",
       "\u001b[32mvitamin D is essential for bone health. It is important to obtain vitamins through a balanced diet, as deficiencies\u001b[0m\n",
       "\u001b[32mor excesses can lead to various health problems.'\u001b[0m\u001b[1m}\u001b[0m\n"
      ]
     },
     "metadata": {},
     "output_type": "display_data"
    },
    {
     "name": "stderr",
     "output_type": "stream",
     "text": [
      "100%|██████████| 3/3 [01:00<00:00, 20.16s/it]"
     ]
    },
    {
     "data": {
      "text/html": [
       "<pre style=\"white-space:pre;overflow-x:auto;line-height:normal;font-family:Menlo,'DejaVu Sans Mono',consolas,'Courier New',monospace\"><span style=\"font-weight: bold\">{</span><span style=\"color: #008000; text-decoration-color: #008000\">'category'</span>: <span style=\"color: #008000; text-decoration-color: #008000\">'Minerals'</span>, <span style=\"color: #008000; text-decoration-color: #008000\">'entities'</span>: <span style=\"color: #008000; text-decoration-color: #008000\">'Calcium, Iron, Magnesium'</span>, <span style=\"color: #008000; text-decoration-color: #008000\">'text'</span>: <span style=\"color: #008000; text-decoration-color: #008000\">'Calcium is necessary for maintaining </span>\n",
       "<span style=\"color: #008000; text-decoration-color: #008000\">healthy bones and teeth, Iron is crucial for making red blood cells and transporting oxygen throughout the body, </span>\n",
       "<span style=\"color: #008000; text-decoration-color: #008000\">and Magnesium plays a role in over 300 enzyme reactions in the human body, including the metabolism of food, </span>\n",
       "<span style=\"color: #008000; text-decoration-color: #008000\">synthesis of fatty acids and proteins, and the transmission of nerve impulses.'</span>, <span style=\"color: #008000; text-decoration-color: #008000\">'skill_0'</span>: <span style=\"color: #008000; text-decoration-color: #008000\">'Minerals'</span>, <span style=\"color: #008000; text-decoration-color: #008000\">'skill_1'</span>: \n",
       "<span style=\"color: #008000; text-decoration-color: #008000\">'Minerals are naturally occurring inorganic substances that are solid and have a definite chemical composition. </span>\n",
       "<span style=\"color: #008000; text-decoration-color: #008000\">They are the building blocks of rocks and are classified into different groups based on their chemical composition </span>\n",
       "<span style=\"color: #008000; text-decoration-color: #008000\">and physical properties. Some common minerals include quartz, feldspar, mica, calcite, and hematite.'</span><span style=\"font-weight: bold\">}</span>\n",
       "</pre>\n"
      ],
      "text/plain": [
       "\u001b[1m{\u001b[0m\u001b[32m'category'\u001b[0m: \u001b[32m'Minerals'\u001b[0m, \u001b[32m'entities'\u001b[0m: \u001b[32m'Calcium, Iron, Magnesium'\u001b[0m, \u001b[32m'text'\u001b[0m: \u001b[32m'Calcium is necessary for maintaining \u001b[0m\n",
       "\u001b[32mhealthy bones and teeth, Iron is crucial for making red blood cells and transporting oxygen throughout the body, \u001b[0m\n",
       "\u001b[32mand Magnesium plays a role in over 300 enzyme reactions in the human body, including the metabolism of food, \u001b[0m\n",
       "\u001b[32msynthesis of fatty acids and proteins, and the transmission of nerve impulses.'\u001b[0m, \u001b[32m'skill_0'\u001b[0m: \u001b[32m'Minerals'\u001b[0m, \u001b[32m'skill_1'\u001b[0m: \n",
       "\u001b[32m'Minerals are naturally occurring inorganic substances that are solid and have a definite chemical composition. \u001b[0m\n",
       "\u001b[32mThey are the building blocks of rocks and are classified into different groups based on their chemical composition \u001b[0m\n",
       "\u001b[32mand physical properties. Some common minerals include quartz, feldspar, mica, calcite, and hematite.'\u001b[0m\u001b[1m}\u001b[0m\n"
      ]
     },
     "metadata": {},
     "output_type": "display_data"
    },
    {
     "name": "stderr",
     "output_type": "stream",
     "text": [
      "100%|██████████| 3/3 [01:11<00:00, 23.94s/it]\n"
     ]
    },
    {
     "data": {
      "text/html": [
       "<pre style=\"white-space:pre;overflow-x:auto;line-height:normal;font-family:Menlo,'DejaVu Sans Mono',consolas,'Courier New',monospace\">\n",
       "\n",
       "=&gt; Iteration #<span style=\"color: #008080; text-decoration-color: #008080; font-weight: bold\">2</span>: Comparing to ground truth, analyzing and improving <span style=\"color: #808000; text-decoration-color: #808000\">...</span>\n",
       "</pre>\n"
      ],
      "text/plain": [
       "\n",
       "\n",
       "=> Iteration #\u001b[1;36m2\u001b[0m: Comparing to ground truth, analyzing and improving \u001b[33m...\u001b[0m\n"
      ]
     },
     "metadata": {},
     "output_type": "display_data"
    },
    {
     "data": {
      "text/html": [
       "<pre style=\"white-space:pre;overflow-x:auto;line-height:normal;font-family:Menlo,'DejaVu Sans Mono',consolas,'Courier New',monospace\"><span style=\"color: #008080; text-decoration-color: #008080; font-weight: bold\">0</span>      Carbohydrates, Proteins, Fats\n",
       "<span style=\"color: #008080; text-decoration-color: #008080; font-weight: bold\">1</span>    Vitamin A, Vitamin C, Vitamin D\n",
       "<span style=\"color: #008080; text-decoration-color: #008080; font-weight: bold\">2</span>           Calcium, Iron, Magnesium\n",
       "Name: entities, dtype: object\n",
       "</pre>\n"
      ],
      "text/plain": [
       "\u001b[1;36m0\u001b[0m      Carbohydrates, Proteins, Fats\n",
       "\u001b[1;36m1\u001b[0m    Vitamin A, Vitamin C, Vitamin D\n",
       "\u001b[1;36m2\u001b[0m           Calcium, Iron, Magnesium\n",
       "Name: entities, dtype: object\n"
      ]
     },
     "metadata": {},
     "output_type": "display_data"
    },
    {
     "data": {
      "text/html": [
       "<pre style=\"white-space:pre;overflow-x:auto;line-height:normal;font-family:Menlo,'DejaVu Sans Mono',consolas,'Courier New',monospace\"><span style=\"color: #008080; text-decoration-color: #008080; font-weight: bold\">0</span>    Carbohydrates, Proteins, Fats\n",
       "<span style=\"color: #008080; text-decoration-color: #008080; font-weight: bold\">1</span>                         Vitamins\n",
       "<span style=\"color: #008080; text-decoration-color: #008080; font-weight: bold\">2</span>                         Minerals\n",
       "Name: skill_0, dtype: object\n",
       "</pre>\n"
      ],
      "text/plain": [
       "\u001b[1;36m0\u001b[0m    Carbohydrates, Proteins, Fats\n",
       "\u001b[1;36m1\u001b[0m                         Vitamins\n",
       "\u001b[1;36m2\u001b[0m                         Minerals\n",
       "Name: skill_0, dtype: object\n"
      ]
     },
     "metadata": {},
     "output_type": "display_data"
    },
    {
     "data": {
      "text/html": [
       "<pre style=\"white-space:pre;overflow-x:auto;line-height:normal;font-family:Menlo,'DejaVu Sans Mono',consolas,'Courier New',monospace\"><span style=\"color: #008080; text-decoration-color: #008080; font-weight: bold\">0</span>    Carbohydrates provide quick energy, proteins a<span style=\"color: #808000; text-decoration-color: #808000\">...</span>\n",
       "<span style=\"color: #008080; text-decoration-color: #008080; font-weight: bold\">1</span>    Vitamin A is crucial for good vision and a hea<span style=\"color: #808000; text-decoration-color: #808000\">...</span>\n",
       "<span style=\"color: #008080; text-decoration-color: #008080; font-weight: bold\">2</span>    Calcium is necessary for maintaining healthy b<span style=\"color: #808000; text-decoration-color: #808000\">...</span>\n",
       "Name: text, dtype: object\n",
       "</pre>\n"
      ],
      "text/plain": [
       "\u001b[1;36m0\u001b[0m    Carbohydrates provide quick energy, proteins a\u001b[33m...\u001b[0m\n",
       "\u001b[1;36m1\u001b[0m    Vitamin A is crucial for good vision and a hea\u001b[33m...\u001b[0m\n",
       "\u001b[1;36m2\u001b[0m    Calcium is necessary for maintaining healthy b\u001b[33m...\u001b[0m\n",
       "Name: text, dtype: object\n"
      ]
     },
     "metadata": {},
     "output_type": "display_data"
    },
    {
     "data": {
      "text/html": [
       "<pre style=\"white-space:pre;overflow-x:auto;line-height:normal;font-family:Menlo,'DejaVu Sans Mono',consolas,'Courier New',monospace\"><span style=\"color: #008080; text-decoration-color: #008080; font-weight: bold\">0</span>    Carbohydrates, proteins, and fats are the thre<span style=\"color: #808000; text-decoration-color: #808000\">...</span>\n",
       "<span style=\"color: #008080; text-decoration-color: #008080; font-weight: bold\">1</span>    Vitamins are organic compounds that are essent<span style=\"color: #808000; text-decoration-color: #808000\">...</span>\n",
       "<span style=\"color: #008080; text-decoration-color: #008080; font-weight: bold\">2</span>    Minerals are naturally occurring inorganic sub<span style=\"color: #808000; text-decoration-color: #808000\">...</span>\n",
       "Name: skill_1, dtype: object\n",
       "</pre>\n"
      ],
      "text/plain": [
       "\u001b[1;36m0\u001b[0m    Carbohydrates, proteins, and fats are the thre\u001b[33m...\u001b[0m\n",
       "\u001b[1;36m1\u001b[0m    Vitamins are organic compounds that are essent\u001b[33m...\u001b[0m\n",
       "\u001b[1;36m2\u001b[0m    Minerals are naturally occurring inorganic sub\u001b[33m...\u001b[0m\n",
       "Name: skill_1, dtype: object\n"
      ]
     },
     "metadata": {},
     "output_type": "display_data"
    },
    {
     "data": {
      "text/html": [
       "<pre style=\"white-space:pre;overflow-x:auto;line-height:normal;font-family:Menlo,'DejaVu Sans Mono',consolas,'Courier New',monospace\">Comparing predictions to ground truth data <span style=\"color: #808000; text-decoration-color: #808000\">...</span>\n",
       "</pre>\n"
      ],
      "text/plain": [
       "Comparing predictions to ground truth data \u001b[33m...\u001b[0m\n"
      ]
     },
     "metadata": {},
     "output_type": "display_data"
    },
    {
     "data": {
      "text/html": [
       "<pre style=\"white-space:pre;overflow-x:auto;line-height:normal;font-family:Menlo,'DejaVu Sans Mono',consolas,'Courier New',monospace\">                                                                                                                   \n",
       " <span style=\"color: #800080; text-decoration-color: #800080; font-weight: bold\"> category       </span> <span style=\"color: #800080; text-decoration-color: #800080; font-weight: bold\"> entities         </span> <span style=\"color: #800080; text-decoration-color: #800080; font-weight: bold\"> text             </span> <span style=\"color: #800080; text-decoration-color: #800080; font-weight: bold\"> skill_0           </span> <span style=\"color: #800080; text-decoration-color: #800080; font-weight: bold\"> skill_1          </span> <span style=\"color: #800080; text-decoration-color: #800080; font-weight: bold\"> skill_0 </span> <span style=\"color: #800080; text-decoration-color: #800080; font-weight: bold\"> skill_1 </span> \n",
       " ───────────────────────────────────────────────────────────────────────────────────────────────────────────────── \n",
       "  Macronutrients   Carbohydrates,     Carbohydrates      Carbohydrates,      Carbohydrates,     True      False    \n",
       "                   Proteins, Fats     provide quick      Proteins, Fats      proteins, and                         \n",
       "                                      energy, proteins                       fats are the                          \n",
       "                                      are essential                          three                                 \n",
       "                                      for muscle                             macronutrients                        \n",
       "                                      repair and                             that provide                          \n",
       "                                      growth, and fats                       energy and are                        \n",
       "                                      are vital for                          essential for                         \n",
       "                                      long-term energy                       the proper                            \n",
       "                                      storage and cell                       functioning of                        \n",
       "                                      function.                              the body.                             \n",
       "                                                                                                                   \n",
       "                                                                             Carbohydrates                         \n",
       "                                                                             are the body's                        \n",
       "                                                                             main source of                        \n",
       "                                                                             energy. They are                      \n",
       "                                                                             found in foods                        \n",
       "                                                                             like bread,                           \n",
       "                                                                             pasta, rice, and                      \n",
       "                                                                             fruits.                               \n",
       "                                                                             Carbohydrates                         \n",
       "                                                                             are broken down                       \n",
       "                                                                             into glucose,                         \n",
       "                                                                             which is used by                      \n",
       "                                                                             the body for                          \n",
       "                                                                             energy.                               \n",
       "                                                                                                                   \n",
       "                                                                             Proteins are                          \n",
       "                                                                             important for                         \n",
       "                                                                             building and                          \n",
       "                                                                             repairing                             \n",
       "                                                                             tissues, as well                      \n",
       "                                                                             as for the                            \n",
       "                                                                             production of                         \n",
       "                                                                             enzymes and                           \n",
       "                                                                             hormones. They                        \n",
       "                                                                             are found in                          \n",
       "                                                                             foods like meat,                      \n",
       "                                                                             fish, eggs, and                       \n",
       "                                                                             legumes.                              \n",
       "                                                                             Proteins are                          \n",
       "                                                                             made up of amino                      \n",
       "                                                                             acids, which are                      \n",
       "                                                                             the building                          \n",
       "                                                                             blocks of                             \n",
       "                                                                             protein.                              \n",
       "                                                                                                                   \n",
       "                                                                             Fats are a                            \n",
       "                                                                             concentrated                          \n",
       "                                                                             source of energy                      \n",
       "                                                                             and are                               \n",
       "                                                                             important for                         \n",
       "                                                                             the absorption                        \n",
       "                                                                             of fat-soluble                        \n",
       "                                                                             vitamins. They                        \n",
       "                                                                             are found in                          \n",
       "                                                                             foods like oils,                      \n",
       "                                                                             butter, nuts,                         \n",
       "                                                                             and fatty meats.                      \n",
       "                                                                             Fats are made up                      \n",
       "                                                                             of fatty acids,                       \n",
       "                                                                             which can be                          \n",
       "                                                                             either saturated                      \n",
       "                                                                             or unsaturated.                       \n",
       "                                                                                                                   \n",
       "                                                                             It is important                       \n",
       "                                                                             to have a                             \n",
       "                                                                             balanced diet                         \n",
       "                                                                             that includes                         \n",
       "                                                                             all three                             \n",
       "                                                                             macronutrients                        \n",
       "                                                                             in the right                          \n",
       "                                                                             proportions to                        \n",
       "                                                                             maintain good                         \n",
       "                                                                             health.                               \n",
       " <span style=\"color: #7f7f7f; text-decoration-color: #7f7f7f\"> Vitamins       </span> <span style=\"color: #7f7f7f; text-decoration-color: #7f7f7f\"> Vitamin A,       </span> <span style=\"color: #7f7f7f; text-decoration-color: #7f7f7f\"> Vitamin A is     </span> <span style=\"color: #7f7f7f; text-decoration-color: #7f7f7f\"> Vitamins          </span> <span style=\"color: #7f7f7f; text-decoration-color: #7f7f7f\"> Vitamins are     </span> <span style=\"color: #7f7f7f; text-decoration-color: #7f7f7f\"> False   </span> <span style=\"color: #7f7f7f; text-decoration-color: #7f7f7f\"> False   </span> \n",
       " <span style=\"color: #7f7f7f; text-decoration-color: #7f7f7f\">                </span> <span style=\"color: #7f7f7f; text-decoration-color: #7f7f7f\"> Vitamin C,       </span> <span style=\"color: #7f7f7f; text-decoration-color: #7f7f7f\"> crucial for good </span> <span style=\"color: #7f7f7f; text-decoration-color: #7f7f7f\">                   </span> <span style=\"color: #7f7f7f; text-decoration-color: #7f7f7f\"> organic          </span> <span style=\"color: #7f7f7f; text-decoration-color: #7f7f7f\">         </span> <span style=\"color: #7f7f7f; text-decoration-color: #7f7f7f\">         </span> \n",
       " <span style=\"color: #7f7f7f; text-decoration-color: #7f7f7f\">                </span> <span style=\"color: #7f7f7f; text-decoration-color: #7f7f7f\"> Vitamin D        </span> <span style=\"color: #7f7f7f; text-decoration-color: #7f7f7f\"> vision and a     </span> <span style=\"color: #7f7f7f; text-decoration-color: #7f7f7f\">                   </span> <span style=\"color: #7f7f7f; text-decoration-color: #7f7f7f\"> compounds that   </span> <span style=\"color: #7f7f7f; text-decoration-color: #7f7f7f\">         </span> <span style=\"color: #7f7f7f; text-decoration-color: #7f7f7f\">         </span> \n",
       " <span style=\"color: #7f7f7f; text-decoration-color: #7f7f7f\">                </span> <span style=\"color: #7f7f7f; text-decoration-color: #7f7f7f\">                  </span> <span style=\"color: #7f7f7f; text-decoration-color: #7f7f7f\"> healthy immune   </span> <span style=\"color: #7f7f7f; text-decoration-color: #7f7f7f\">                   </span> <span style=\"color: #7f7f7f; text-decoration-color: #7f7f7f\"> are essential    </span> <span style=\"color: #7f7f7f; text-decoration-color: #7f7f7f\">         </span> <span style=\"color: #7f7f7f; text-decoration-color: #7f7f7f\">         </span> \n",
       " <span style=\"color: #7f7f7f; text-decoration-color: #7f7f7f\">                </span> <span style=\"color: #7f7f7f; text-decoration-color: #7f7f7f\">                  </span> <span style=\"color: #7f7f7f; text-decoration-color: #7f7f7f\"> system, Vitamin  </span> <span style=\"color: #7f7f7f; text-decoration-color: #7f7f7f\">                   </span> <span style=\"color: #7f7f7f; text-decoration-color: #7f7f7f\"> for the proper   </span> <span style=\"color: #7f7f7f; text-decoration-color: #7f7f7f\">         </span> <span style=\"color: #7f7f7f; text-decoration-color: #7f7f7f\">         </span> \n",
       " <span style=\"color: #7f7f7f; text-decoration-color: #7f7f7f\">                </span> <span style=\"color: #7f7f7f; text-decoration-color: #7f7f7f\">                  </span> <span style=\"color: #7f7f7f; text-decoration-color: #7f7f7f\"> C helps in the   </span> <span style=\"color: #7f7f7f; text-decoration-color: #7f7f7f\">                   </span> <span style=\"color: #7f7f7f; text-decoration-color: #7f7f7f\"> functioning of   </span> <span style=\"color: #7f7f7f; text-decoration-color: #7f7f7f\">         </span> <span style=\"color: #7f7f7f; text-decoration-color: #7f7f7f\">         </span> \n",
       " <span style=\"color: #7f7f7f; text-decoration-color: #7f7f7f\">                </span> <span style=\"color: #7f7f7f; text-decoration-color: #7f7f7f\">                  </span> <span style=\"color: #7f7f7f; text-decoration-color: #7f7f7f\"> repair of        </span> <span style=\"color: #7f7f7f; text-decoration-color: #7f7f7f\">                   </span> <span style=\"color: #7f7f7f; text-decoration-color: #7f7f7f\"> the body. They   </span> <span style=\"color: #7f7f7f; text-decoration-color: #7f7f7f\">         </span> <span style=\"color: #7f7f7f; text-decoration-color: #7f7f7f\">         </span> \n",
       " <span style=\"color: #7f7f7f; text-decoration-color: #7f7f7f\">                </span> <span style=\"color: #7f7f7f; text-decoration-color: #7f7f7f\">                  </span> <span style=\"color: #7f7f7f; text-decoration-color: #7f7f7f\"> tissues and the  </span> <span style=\"color: #7f7f7f; text-decoration-color: #7f7f7f\">                   </span> <span style=\"color: #7f7f7f; text-decoration-color: #7f7f7f\"> are              </span> <span style=\"color: #7f7f7f; text-decoration-color: #7f7f7f\">         </span> <span style=\"color: #7f7f7f; text-decoration-color: #7f7f7f\">         </span> \n",
       " <span style=\"color: #7f7f7f; text-decoration-color: #7f7f7f\">                </span> <span style=\"color: #7f7f7f; text-decoration-color: #7f7f7f\">                  </span> <span style=\"color: #7f7f7f; text-decoration-color: #7f7f7f\"> enzymatic        </span> <span style=\"color: #7f7f7f; text-decoration-color: #7f7f7f\">                   </span> <span style=\"color: #7f7f7f; text-decoration-color: #7f7f7f\"> micronutrients   </span> <span style=\"color: #7f7f7f; text-decoration-color: #7f7f7f\">         </span> <span style=\"color: #7f7f7f; text-decoration-color: #7f7f7f\">         </span> \n",
       " <span style=\"color: #7f7f7f; text-decoration-color: #7f7f7f\">                </span> <span style=\"color: #7f7f7f; text-decoration-color: #7f7f7f\">                  </span> <span style=\"color: #7f7f7f; text-decoration-color: #7f7f7f\"> production of    </span> <span style=\"color: #7f7f7f; text-decoration-color: #7f7f7f\">                   </span> <span style=\"color: #7f7f7f; text-decoration-color: #7f7f7f\"> that are         </span> <span style=\"color: #7f7f7f; text-decoration-color: #7f7f7f\">         </span> <span style=\"color: #7f7f7f; text-decoration-color: #7f7f7f\">         </span> \n",
       " <span style=\"color: #7f7f7f; text-decoration-color: #7f7f7f\">                </span> <span style=\"color: #7f7f7f; text-decoration-color: #7f7f7f\">                  </span> <span style=\"color: #7f7f7f; text-decoration-color: #7f7f7f\"> certain          </span> <span style=\"color: #7f7f7f; text-decoration-color: #7f7f7f\">                   </span> <span style=\"color: #7f7f7f; text-decoration-color: #7f7f7f\"> required in      </span> <span style=\"color: #7f7f7f; text-decoration-color: #7f7f7f\">         </span> <span style=\"color: #7f7f7f; text-decoration-color: #7f7f7f\">         </span> \n",
       " <span style=\"color: #7f7f7f; text-decoration-color: #7f7f7f\">                </span> <span style=\"color: #7f7f7f; text-decoration-color: #7f7f7f\">                  </span> <span style=\"color: #7f7f7f; text-decoration-color: #7f7f7f\"> neurotransmitte… </span> <span style=\"color: #7f7f7f; text-decoration-color: #7f7f7f\">                   </span> <span style=\"color: #7f7f7f; text-decoration-color: #7f7f7f\"> small amounts    </span> <span style=\"color: #7f7f7f; text-decoration-color: #7f7f7f\">         </span> <span style=\"color: #7f7f7f; text-decoration-color: #7f7f7f\">         </span> \n",
       " <span style=\"color: #7f7f7f; text-decoration-color: #7f7f7f\">                </span> <span style=\"color: #7f7f7f; text-decoration-color: #7f7f7f\">                  </span> <span style=\"color: #7f7f7f; text-decoration-color: #7f7f7f\"> and Vitamin D is </span> <span style=\"color: #7f7f7f; text-decoration-color: #7f7f7f\">                   </span> <span style=\"color: #7f7f7f; text-decoration-color: #7f7f7f\"> and play a       </span> <span style=\"color: #7f7f7f; text-decoration-color: #7f7f7f\">         </span> <span style=\"color: #7f7f7f; text-decoration-color: #7f7f7f\">         </span> \n",
       " <span style=\"color: #7f7f7f; text-decoration-color: #7f7f7f\">                </span> <span style=\"color: #7f7f7f; text-decoration-color: #7f7f7f\">                  </span> <span style=\"color: #7f7f7f; text-decoration-color: #7f7f7f\"> essential for    </span> <span style=\"color: #7f7f7f; text-decoration-color: #7f7f7f\">                   </span> <span style=\"color: #7f7f7f; text-decoration-color: #7f7f7f\"> crucial role in  </span> <span style=\"color: #7f7f7f; text-decoration-color: #7f7f7f\">         </span> <span style=\"color: #7f7f7f; text-decoration-color: #7f7f7f\">         </span> \n",
       " <span style=\"color: #7f7f7f; text-decoration-color: #7f7f7f\">                </span> <span style=\"color: #7f7f7f; text-decoration-color: #7f7f7f\">                  </span> <span style=\"color: #7f7f7f; text-decoration-color: #7f7f7f\"> strong bones and </span> <span style=\"color: #7f7f7f; text-decoration-color: #7f7f7f\">                   </span> <span style=\"color: #7f7f7f; text-decoration-color: #7f7f7f\"> various          </span> <span style=\"color: #7f7f7f; text-decoration-color: #7f7f7f\">         </span> <span style=\"color: #7f7f7f; text-decoration-color: #7f7f7f\">         </span> \n",
       " <span style=\"color: #7f7f7f; text-decoration-color: #7f7f7f\">                </span> <span style=\"color: #7f7f7f; text-decoration-color: #7f7f7f\">                  </span> <span style=\"color: #7f7f7f; text-decoration-color: #7f7f7f\"> teeth as it      </span> <span style=\"color: #7f7f7f; text-decoration-color: #7f7f7f\">                   </span> <span style=\"color: #7f7f7f; text-decoration-color: #7f7f7f\"> physiological    </span> <span style=\"color: #7f7f7f; text-decoration-color: #7f7f7f\">         </span> <span style=\"color: #7f7f7f; text-decoration-color: #7f7f7f\">         </span> \n",
       " <span style=\"color: #7f7f7f; text-decoration-color: #7f7f7f\">                </span> <span style=\"color: #7f7f7f; text-decoration-color: #7f7f7f\">                  </span> <span style=\"color: #7f7f7f; text-decoration-color: #7f7f7f\"> helps the body   </span> <span style=\"color: #7f7f7f; text-decoration-color: #7f7f7f\">                   </span> <span style=\"color: #7f7f7f; text-decoration-color: #7f7f7f\"> processes. There </span> <span style=\"color: #7f7f7f; text-decoration-color: #7f7f7f\">         </span> <span style=\"color: #7f7f7f; text-decoration-color: #7f7f7f\">         </span> \n",
       " <span style=\"color: #7f7f7f; text-decoration-color: #7f7f7f\">                </span> <span style=\"color: #7f7f7f; text-decoration-color: #7f7f7f\">                  </span> <span style=\"color: #7f7f7f; text-decoration-color: #7f7f7f\"> absorb calcium.  </span> <span style=\"color: #7f7f7f; text-decoration-color: #7f7f7f\">                   </span> <span style=\"color: #7f7f7f; text-decoration-color: #7f7f7f\"> are 13 essential </span> <span style=\"color: #7f7f7f; text-decoration-color: #7f7f7f\">         </span> <span style=\"color: #7f7f7f; text-decoration-color: #7f7f7f\">         </span> \n",
       " <span style=\"color: #7f7f7f; text-decoration-color: #7f7f7f\">                </span> <span style=\"color: #7f7f7f; text-decoration-color: #7f7f7f\">                  </span> <span style=\"color: #7f7f7f; text-decoration-color: #7f7f7f\">                  </span> <span style=\"color: #7f7f7f; text-decoration-color: #7f7f7f\">                   </span> <span style=\"color: #7f7f7f; text-decoration-color: #7f7f7f\"> vitamins,        </span> <span style=\"color: #7f7f7f; text-decoration-color: #7f7f7f\">         </span> <span style=\"color: #7f7f7f; text-decoration-color: #7f7f7f\">         </span> \n",
       " <span style=\"color: #7f7f7f; text-decoration-color: #7f7f7f\">                </span> <span style=\"color: #7f7f7f; text-decoration-color: #7f7f7f\">                  </span> <span style=\"color: #7f7f7f; text-decoration-color: #7f7f7f\">                  </span> <span style=\"color: #7f7f7f; text-decoration-color: #7f7f7f\">                   </span> <span style=\"color: #7f7f7f; text-decoration-color: #7f7f7f\"> including        </span> <span style=\"color: #7f7f7f; text-decoration-color: #7f7f7f\">         </span> <span style=\"color: #7f7f7f; text-decoration-color: #7f7f7f\">         </span> \n",
       " <span style=\"color: #7f7f7f; text-decoration-color: #7f7f7f\">                </span> <span style=\"color: #7f7f7f; text-decoration-color: #7f7f7f\">                  </span> <span style=\"color: #7f7f7f; text-decoration-color: #7f7f7f\">                  </span> <span style=\"color: #7f7f7f; text-decoration-color: #7f7f7f\">                   </span> <span style=\"color: #7f7f7f; text-decoration-color: #7f7f7f\"> vitamin A, B     </span> <span style=\"color: #7f7f7f; text-decoration-color: #7f7f7f\">         </span> <span style=\"color: #7f7f7f; text-decoration-color: #7f7f7f\">         </span> \n",
       " <span style=\"color: #7f7f7f; text-decoration-color: #7f7f7f\">                </span> <span style=\"color: #7f7f7f; text-decoration-color: #7f7f7f\">                  </span> <span style=\"color: #7f7f7f; text-decoration-color: #7f7f7f\">                  </span> <span style=\"color: #7f7f7f; text-decoration-color: #7f7f7f\">                   </span> <span style=\"color: #7f7f7f; text-decoration-color: #7f7f7f\"> vitamins,        </span> <span style=\"color: #7f7f7f; text-decoration-color: #7f7f7f\">         </span> <span style=\"color: #7f7f7f; text-decoration-color: #7f7f7f\">         </span> \n",
       " <span style=\"color: #7f7f7f; text-decoration-color: #7f7f7f\">                </span> <span style=\"color: #7f7f7f; text-decoration-color: #7f7f7f\">                  </span> <span style=\"color: #7f7f7f; text-decoration-color: #7f7f7f\">                  </span> <span style=\"color: #7f7f7f; text-decoration-color: #7f7f7f\">                   </span> <span style=\"color: #7f7f7f; text-decoration-color: #7f7f7f\"> vitamin C,       </span> <span style=\"color: #7f7f7f; text-decoration-color: #7f7f7f\">         </span> <span style=\"color: #7f7f7f; text-decoration-color: #7f7f7f\">         </span> \n",
       " <span style=\"color: #7f7f7f; text-decoration-color: #7f7f7f\">                </span> <span style=\"color: #7f7f7f; text-decoration-color: #7f7f7f\">                  </span> <span style=\"color: #7f7f7f; text-decoration-color: #7f7f7f\">                  </span> <span style=\"color: #7f7f7f; text-decoration-color: #7f7f7f\">                   </span> <span style=\"color: #7f7f7f; text-decoration-color: #7f7f7f\"> vitamin D,       </span> <span style=\"color: #7f7f7f; text-decoration-color: #7f7f7f\">         </span> <span style=\"color: #7f7f7f; text-decoration-color: #7f7f7f\">         </span> \n",
       " <span style=\"color: #7f7f7f; text-decoration-color: #7f7f7f\">                </span> <span style=\"color: #7f7f7f; text-decoration-color: #7f7f7f\">                  </span> <span style=\"color: #7f7f7f; text-decoration-color: #7f7f7f\">                  </span> <span style=\"color: #7f7f7f; text-decoration-color: #7f7f7f\">                   </span> <span style=\"color: #7f7f7f; text-decoration-color: #7f7f7f\"> vitamin E, and   </span> <span style=\"color: #7f7f7f; text-decoration-color: #7f7f7f\">         </span> <span style=\"color: #7f7f7f; text-decoration-color: #7f7f7f\">         </span> \n",
       " <span style=\"color: #7f7f7f; text-decoration-color: #7f7f7f\">                </span> <span style=\"color: #7f7f7f; text-decoration-color: #7f7f7f\">                  </span> <span style=\"color: #7f7f7f; text-decoration-color: #7f7f7f\">                  </span> <span style=\"color: #7f7f7f; text-decoration-color: #7f7f7f\">                   </span> <span style=\"color: #7f7f7f; text-decoration-color: #7f7f7f\"> vitamin K. Each  </span> <span style=\"color: #7f7f7f; text-decoration-color: #7f7f7f\">         </span> <span style=\"color: #7f7f7f; text-decoration-color: #7f7f7f\">         </span> \n",
       " <span style=\"color: #7f7f7f; text-decoration-color: #7f7f7f\">                </span> <span style=\"color: #7f7f7f; text-decoration-color: #7f7f7f\">                  </span> <span style=\"color: #7f7f7f; text-decoration-color: #7f7f7f\">                  </span> <span style=\"color: #7f7f7f; text-decoration-color: #7f7f7f\">                   </span> <span style=\"color: #7f7f7f; text-decoration-color: #7f7f7f\"> vitamin has      </span> <span style=\"color: #7f7f7f; text-decoration-color: #7f7f7f\">         </span> <span style=\"color: #7f7f7f; text-decoration-color: #7f7f7f\">         </span> \n",
       " <span style=\"color: #7f7f7f; text-decoration-color: #7f7f7f\">                </span> <span style=\"color: #7f7f7f; text-decoration-color: #7f7f7f\">                  </span> <span style=\"color: #7f7f7f; text-decoration-color: #7f7f7f\">                  </span> <span style=\"color: #7f7f7f; text-decoration-color: #7f7f7f\">                   </span> <span style=\"color: #7f7f7f; text-decoration-color: #7f7f7f\"> specific         </span> <span style=\"color: #7f7f7f; text-decoration-color: #7f7f7f\">         </span> <span style=\"color: #7f7f7f; text-decoration-color: #7f7f7f\">         </span> \n",
       " <span style=\"color: #7f7f7f; text-decoration-color: #7f7f7f\">                </span> <span style=\"color: #7f7f7f; text-decoration-color: #7f7f7f\">                  </span> <span style=\"color: #7f7f7f; text-decoration-color: #7f7f7f\">                  </span> <span style=\"color: #7f7f7f; text-decoration-color: #7f7f7f\">                   </span> <span style=\"color: #7f7f7f; text-decoration-color: #7f7f7f\"> functions and    </span> <span style=\"color: #7f7f7f; text-decoration-color: #7f7f7f\">         </span> <span style=\"color: #7f7f7f; text-decoration-color: #7f7f7f\">         </span> \n",
       " <span style=\"color: #7f7f7f; text-decoration-color: #7f7f7f\">                </span> <span style=\"color: #7f7f7f; text-decoration-color: #7f7f7f\">                  </span> <span style=\"color: #7f7f7f; text-decoration-color: #7f7f7f\">                  </span> <span style=\"color: #7f7f7f; text-decoration-color: #7f7f7f\">                   </span> <span style=\"color: #7f7f7f; text-decoration-color: #7f7f7f\"> benefits for the </span> <span style=\"color: #7f7f7f; text-decoration-color: #7f7f7f\">         </span> <span style=\"color: #7f7f7f; text-decoration-color: #7f7f7f\">         </span> \n",
       " <span style=\"color: #7f7f7f; text-decoration-color: #7f7f7f\">                </span> <span style=\"color: #7f7f7f; text-decoration-color: #7f7f7f\">                  </span> <span style=\"color: #7f7f7f; text-decoration-color: #7f7f7f\">                  </span> <span style=\"color: #7f7f7f; text-decoration-color: #7f7f7f\">                   </span> <span style=\"color: #7f7f7f; text-decoration-color: #7f7f7f\"> body. They are   </span> <span style=\"color: #7f7f7f; text-decoration-color: #7f7f7f\">         </span> <span style=\"color: #7f7f7f; text-decoration-color: #7f7f7f\">         </span> \n",
       " <span style=\"color: #7f7f7f; text-decoration-color: #7f7f7f\">                </span> <span style=\"color: #7f7f7f; text-decoration-color: #7f7f7f\">                  </span> <span style=\"color: #7f7f7f; text-decoration-color: #7f7f7f\">                  </span> <span style=\"color: #7f7f7f; text-decoration-color: #7f7f7f\">                   </span> <span style=\"color: #7f7f7f; text-decoration-color: #7f7f7f\"> found in various </span> <span style=\"color: #7f7f7f; text-decoration-color: #7f7f7f\">         </span> <span style=\"color: #7f7f7f; text-decoration-color: #7f7f7f\">         </span> \n",
       " <span style=\"color: #7f7f7f; text-decoration-color: #7f7f7f\">                </span> <span style=\"color: #7f7f7f; text-decoration-color: #7f7f7f\">                  </span> <span style=\"color: #7f7f7f; text-decoration-color: #7f7f7f\">                  </span> <span style=\"color: #7f7f7f; text-decoration-color: #7f7f7f\">                   </span> <span style=\"color: #7f7f7f; text-decoration-color: #7f7f7f\"> foods, including </span> <span style=\"color: #7f7f7f; text-decoration-color: #7f7f7f\">         </span> <span style=\"color: #7f7f7f; text-decoration-color: #7f7f7f\">         </span> \n",
       " <span style=\"color: #7f7f7f; text-decoration-color: #7f7f7f\">                </span> <span style=\"color: #7f7f7f; text-decoration-color: #7f7f7f\">                  </span> <span style=\"color: #7f7f7f; text-decoration-color: #7f7f7f\">                  </span> <span style=\"color: #7f7f7f; text-decoration-color: #7f7f7f\">                   </span> <span style=\"color: #7f7f7f; text-decoration-color: #7f7f7f\"> fruits,          </span> <span style=\"color: #7f7f7f; text-decoration-color: #7f7f7f\">         </span> <span style=\"color: #7f7f7f; text-decoration-color: #7f7f7f\">         </span> \n",
       " <span style=\"color: #7f7f7f; text-decoration-color: #7f7f7f\">                </span> <span style=\"color: #7f7f7f; text-decoration-color: #7f7f7f\">                  </span> <span style=\"color: #7f7f7f; text-decoration-color: #7f7f7f\">                  </span> <span style=\"color: #7f7f7f; text-decoration-color: #7f7f7f\">                   </span> <span style=\"color: #7f7f7f; text-decoration-color: #7f7f7f\"> vegetables,      </span> <span style=\"color: #7f7f7f; text-decoration-color: #7f7f7f\">         </span> <span style=\"color: #7f7f7f; text-decoration-color: #7f7f7f\">         </span> \n",
       " <span style=\"color: #7f7f7f; text-decoration-color: #7f7f7f\">                </span> <span style=\"color: #7f7f7f; text-decoration-color: #7f7f7f\">                  </span> <span style=\"color: #7f7f7f; text-decoration-color: #7f7f7f\">                  </span> <span style=\"color: #7f7f7f; text-decoration-color: #7f7f7f\">                   </span> <span style=\"color: #7f7f7f; text-decoration-color: #7f7f7f\"> dairy products,  </span> <span style=\"color: #7f7f7f; text-decoration-color: #7f7f7f\">         </span> <span style=\"color: #7f7f7f; text-decoration-color: #7f7f7f\">         </span> \n",
       " <span style=\"color: #7f7f7f; text-decoration-color: #7f7f7f\">                </span> <span style=\"color: #7f7f7f; text-decoration-color: #7f7f7f\">                  </span> <span style=\"color: #7f7f7f; text-decoration-color: #7f7f7f\">                  </span> <span style=\"color: #7f7f7f; text-decoration-color: #7f7f7f\">                   </span> <span style=\"color: #7f7f7f; text-decoration-color: #7f7f7f\"> and meats. It is </span> <span style=\"color: #7f7f7f; text-decoration-color: #7f7f7f\">         </span> <span style=\"color: #7f7f7f; text-decoration-color: #7f7f7f\">         </span> \n",
       " <span style=\"color: #7f7f7f; text-decoration-color: #7f7f7f\">                </span> <span style=\"color: #7f7f7f; text-decoration-color: #7f7f7f\">                  </span> <span style=\"color: #7f7f7f; text-decoration-color: #7f7f7f\">                  </span> <span style=\"color: #7f7f7f; text-decoration-color: #7f7f7f\">                   </span> <span style=\"color: #7f7f7f; text-decoration-color: #7f7f7f\"> important to     </span> <span style=\"color: #7f7f7f; text-decoration-color: #7f7f7f\">         </span> <span style=\"color: #7f7f7f; text-decoration-color: #7f7f7f\">         </span> \n",
       " <span style=\"color: #7f7f7f; text-decoration-color: #7f7f7f\">                </span> <span style=\"color: #7f7f7f; text-decoration-color: #7f7f7f\">                  </span> <span style=\"color: #7f7f7f; text-decoration-color: #7f7f7f\">                  </span> <span style=\"color: #7f7f7f; text-decoration-color: #7f7f7f\">                   </span> <span style=\"color: #7f7f7f; text-decoration-color: #7f7f7f\"> maintain a       </span> <span style=\"color: #7f7f7f; text-decoration-color: #7f7f7f\">         </span> <span style=\"color: #7f7f7f; text-decoration-color: #7f7f7f\">         </span> \n",
       " <span style=\"color: #7f7f7f; text-decoration-color: #7f7f7f\">                </span> <span style=\"color: #7f7f7f; text-decoration-color: #7f7f7f\">                  </span> <span style=\"color: #7f7f7f; text-decoration-color: #7f7f7f\">                  </span> <span style=\"color: #7f7f7f; text-decoration-color: #7f7f7f\">                   </span> <span style=\"color: #7f7f7f; text-decoration-color: #7f7f7f\"> balanced diet to </span> <span style=\"color: #7f7f7f; text-decoration-color: #7f7f7f\">         </span> <span style=\"color: #7f7f7f; text-decoration-color: #7f7f7f\">         </span> \n",
       " <span style=\"color: #7f7f7f; text-decoration-color: #7f7f7f\">                </span> <span style=\"color: #7f7f7f; text-decoration-color: #7f7f7f\">                  </span> <span style=\"color: #7f7f7f; text-decoration-color: #7f7f7f\">                  </span> <span style=\"color: #7f7f7f; text-decoration-color: #7f7f7f\">                   </span> <span style=\"color: #7f7f7f; text-decoration-color: #7f7f7f\"> ensure an        </span> <span style=\"color: #7f7f7f; text-decoration-color: #7f7f7f\">         </span> <span style=\"color: #7f7f7f; text-decoration-color: #7f7f7f\">         </span> \n",
       " <span style=\"color: #7f7f7f; text-decoration-color: #7f7f7f\">                </span> <span style=\"color: #7f7f7f; text-decoration-color: #7f7f7f\">                  </span> <span style=\"color: #7f7f7f; text-decoration-color: #7f7f7f\">                  </span> <span style=\"color: #7f7f7f; text-decoration-color: #7f7f7f\">                   </span> <span style=\"color: #7f7f7f; text-decoration-color: #7f7f7f\"> adequate intake  </span> <span style=\"color: #7f7f7f; text-decoration-color: #7f7f7f\">         </span> <span style=\"color: #7f7f7f; text-decoration-color: #7f7f7f\">         </span> \n",
       " <span style=\"color: #7f7f7f; text-decoration-color: #7f7f7f\">                </span> <span style=\"color: #7f7f7f; text-decoration-color: #7f7f7f\">                  </span> <span style=\"color: #7f7f7f; text-decoration-color: #7f7f7f\">                  </span> <span style=\"color: #7f7f7f; text-decoration-color: #7f7f7f\">                   </span> <span style=\"color: #7f7f7f; text-decoration-color: #7f7f7f\"> of vitamins.     </span> <span style=\"color: #7f7f7f; text-decoration-color: #7f7f7f\">         </span> <span style=\"color: #7f7f7f; text-decoration-color: #7f7f7f\">         </span> \n",
       "  Minerals         Calcium, Iron,     Calcium is         Minerals            Minerals are       False     False    \n",
       "                   Magnesium          necessary for                          naturally                             \n",
       "                                      maintaining                            occurring                             \n",
       "                                      healthy bones                          inorganic                             \n",
       "                                      and teeth, Iron                        substances that                       \n",
       "                                      is crucial for                         are solid and                         \n",
       "                                      making red blood                       have a definite                       \n",
       "                                      cells and                              chemical                              \n",
       "                                      transporting                           composition.                          \n",
       "                                      oxygen                                 They are the                          \n",
       "                                      throughout the                         building blocks                       \n",
       "                                      body, and                              of rocks and are                      \n",
       "                                      Magnesium plays                        classified into                       \n",
       "                                      a role in over                         different groups                      \n",
       "                                      300 enzyme                             based on their                        \n",
       "                                      reactions in the                       chemical                              \n",
       "                                      human body,                            composition and                       \n",
       "                                      including the                          physical                              \n",
       "                                      metabolism of                          properties. Some                      \n",
       "                                      food, synthesis                        common minerals                       \n",
       "                                      of fatty acids                         include quartz,                       \n",
       "                                      and proteins,                          feldspar, mica,                       \n",
       "                                      and the                                calcite, and                          \n",
       "                                      transmission of                        hematite.                             \n",
       "                                      nerve impulses.                                                              \n",
       "                                                                                                                   \n",
       "</pre>\n"
      ],
      "text/plain": [
       "                                                                                                                   \n",
       " \u001b[1;35m \u001b[0m\u001b[1;35mcategory      \u001b[0m\u001b[1;35m \u001b[0m \u001b[1;35m \u001b[0m\u001b[1;35mentities        \u001b[0m\u001b[1;35m \u001b[0m \u001b[1;35m \u001b[0m\u001b[1;35mtext            \u001b[0m\u001b[1;35m \u001b[0m \u001b[1;35m \u001b[0m\u001b[1;35mskill_0          \u001b[0m\u001b[1;35m \u001b[0m \u001b[1;35m \u001b[0m\u001b[1;35mskill_1         \u001b[0m\u001b[1;35m \u001b[0m \u001b[1;35m \u001b[0m\u001b[1;35mskill_0\u001b[0m\u001b[1;35m \u001b[0m \u001b[1;35m \u001b[0m\u001b[1;35mskill_1\u001b[0m\u001b[1;35m \u001b[0m \n",
       " ───────────────────────────────────────────────────────────────────────────────────────────────────────────────── \n",
       "  Macronutrients   Carbohydrates,     Carbohydrates      Carbohydrates,      Carbohydrates,     True      False    \n",
       "                   Proteins, Fats     provide quick      Proteins, Fats      proteins, and                         \n",
       "                                      energy, proteins                       fats are the                          \n",
       "                                      are essential                          three                                 \n",
       "                                      for muscle                             macronutrients                        \n",
       "                                      repair and                             that provide                          \n",
       "                                      growth, and fats                       energy and are                        \n",
       "                                      are vital for                          essential for                         \n",
       "                                      long-term energy                       the proper                            \n",
       "                                      storage and cell                       functioning of                        \n",
       "                                      function.                              the body.                             \n",
       "                                                                                                                   \n",
       "                                                                             Carbohydrates                         \n",
       "                                                                             are the body's                        \n",
       "                                                                             main source of                        \n",
       "                                                                             energy. They are                      \n",
       "                                                                             found in foods                        \n",
       "                                                                             like bread,                           \n",
       "                                                                             pasta, rice, and                      \n",
       "                                                                             fruits.                               \n",
       "                                                                             Carbohydrates                         \n",
       "                                                                             are broken down                       \n",
       "                                                                             into glucose,                         \n",
       "                                                                             which is used by                      \n",
       "                                                                             the body for                          \n",
       "                                                                             energy.                               \n",
       "                                                                                                                   \n",
       "                                                                             Proteins are                          \n",
       "                                                                             important for                         \n",
       "                                                                             building and                          \n",
       "                                                                             repairing                             \n",
       "                                                                             tissues, as well                      \n",
       "                                                                             as for the                            \n",
       "                                                                             production of                         \n",
       "                                                                             enzymes and                           \n",
       "                                                                             hormones. They                        \n",
       "                                                                             are found in                          \n",
       "                                                                             foods like meat,                      \n",
       "                                                                             fish, eggs, and                       \n",
       "                                                                             legumes.                              \n",
       "                                                                             Proteins are                          \n",
       "                                                                             made up of amino                      \n",
       "                                                                             acids, which are                      \n",
       "                                                                             the building                          \n",
       "                                                                             blocks of                             \n",
       "                                                                             protein.                              \n",
       "                                                                                                                   \n",
       "                                                                             Fats are a                            \n",
       "                                                                             concentrated                          \n",
       "                                                                             source of energy                      \n",
       "                                                                             and are                               \n",
       "                                                                             important for                         \n",
       "                                                                             the absorption                        \n",
       "                                                                             of fat-soluble                        \n",
       "                                                                             vitamins. They                        \n",
       "                                                                             are found in                          \n",
       "                                                                             foods like oils,                      \n",
       "                                                                             butter, nuts,                         \n",
       "                                                                             and fatty meats.                      \n",
       "                                                                             Fats are made up                      \n",
       "                                                                             of fatty acids,                       \n",
       "                                                                             which can be                          \n",
       "                                                                             either saturated                      \n",
       "                                                                             or unsaturated.                       \n",
       "                                                                                                                   \n",
       "                                                                             It is important                       \n",
       "                                                                             to have a                             \n",
       "                                                                             balanced diet                         \n",
       "                                                                             that includes                         \n",
       "                                                                             all three                             \n",
       "                                                                             macronutrients                        \n",
       "                                                                             in the right                          \n",
       "                                                                             proportions to                        \n",
       "                                                                             maintain good                         \n",
       "                                                                             health.                               \n",
       " \u001b[2m \u001b[0m\u001b[2mVitamins      \u001b[0m\u001b[2m \u001b[0m \u001b[2m \u001b[0m\u001b[2mVitamin A,      \u001b[0m\u001b[2m \u001b[0m \u001b[2m \u001b[0m\u001b[2mVitamin A is    \u001b[0m\u001b[2m \u001b[0m \u001b[2m \u001b[0m\u001b[2mVitamins         \u001b[0m\u001b[2m \u001b[0m \u001b[2m \u001b[0m\u001b[2mVitamins are    \u001b[0m\u001b[2m \u001b[0m \u001b[2m \u001b[0m\u001b[2mFalse  \u001b[0m\u001b[2m \u001b[0m \u001b[2m \u001b[0m\u001b[2mFalse  \u001b[0m\u001b[2m \u001b[0m \n",
       " \u001b[2m                \u001b[0m \u001b[2m \u001b[0m\u001b[2mVitamin C,      \u001b[0m\u001b[2m \u001b[0m \u001b[2m \u001b[0m\u001b[2mcrucial for good\u001b[0m\u001b[2m \u001b[0m \u001b[2m                   \u001b[0m \u001b[2m \u001b[0m\u001b[2morganic         \u001b[0m\u001b[2m \u001b[0m \u001b[2m         \u001b[0m \u001b[2m         \u001b[0m \n",
       " \u001b[2m                \u001b[0m \u001b[2m \u001b[0m\u001b[2mVitamin D       \u001b[0m\u001b[2m \u001b[0m \u001b[2m \u001b[0m\u001b[2mvision and a    \u001b[0m\u001b[2m \u001b[0m \u001b[2m                   \u001b[0m \u001b[2m \u001b[0m\u001b[2mcompounds that  \u001b[0m\u001b[2m \u001b[0m \u001b[2m         \u001b[0m \u001b[2m         \u001b[0m \n",
       " \u001b[2m                \u001b[0m \u001b[2m                  \u001b[0m \u001b[2m \u001b[0m\u001b[2mhealthy immune  \u001b[0m\u001b[2m \u001b[0m \u001b[2m                   \u001b[0m \u001b[2m \u001b[0m\u001b[2mare essential   \u001b[0m\u001b[2m \u001b[0m \u001b[2m         \u001b[0m \u001b[2m         \u001b[0m \n",
       " \u001b[2m                \u001b[0m \u001b[2m                  \u001b[0m \u001b[2m \u001b[0m\u001b[2msystem, Vitamin \u001b[0m\u001b[2m \u001b[0m \u001b[2m                   \u001b[0m \u001b[2m \u001b[0m\u001b[2mfor the proper  \u001b[0m\u001b[2m \u001b[0m \u001b[2m         \u001b[0m \u001b[2m         \u001b[0m \n",
       " \u001b[2m                \u001b[0m \u001b[2m                  \u001b[0m \u001b[2m \u001b[0m\u001b[2mC helps in the  \u001b[0m\u001b[2m \u001b[0m \u001b[2m                   \u001b[0m \u001b[2m \u001b[0m\u001b[2mfunctioning of  \u001b[0m\u001b[2m \u001b[0m \u001b[2m         \u001b[0m \u001b[2m         \u001b[0m \n",
       " \u001b[2m                \u001b[0m \u001b[2m                  \u001b[0m \u001b[2m \u001b[0m\u001b[2mrepair of       \u001b[0m\u001b[2m \u001b[0m \u001b[2m                   \u001b[0m \u001b[2m \u001b[0m\u001b[2mthe body. They  \u001b[0m\u001b[2m \u001b[0m \u001b[2m         \u001b[0m \u001b[2m         \u001b[0m \n",
       " \u001b[2m                \u001b[0m \u001b[2m                  \u001b[0m \u001b[2m \u001b[0m\u001b[2mtissues and the \u001b[0m\u001b[2m \u001b[0m \u001b[2m                   \u001b[0m \u001b[2m \u001b[0m\u001b[2mare             \u001b[0m\u001b[2m \u001b[0m \u001b[2m         \u001b[0m \u001b[2m         \u001b[0m \n",
       " \u001b[2m                \u001b[0m \u001b[2m                  \u001b[0m \u001b[2m \u001b[0m\u001b[2menzymatic       \u001b[0m\u001b[2m \u001b[0m \u001b[2m                   \u001b[0m \u001b[2m \u001b[0m\u001b[2mmicronutrients  \u001b[0m\u001b[2m \u001b[0m \u001b[2m         \u001b[0m \u001b[2m         \u001b[0m \n",
       " \u001b[2m                \u001b[0m \u001b[2m                  \u001b[0m \u001b[2m \u001b[0m\u001b[2mproduction of   \u001b[0m\u001b[2m \u001b[0m \u001b[2m                   \u001b[0m \u001b[2m \u001b[0m\u001b[2mthat are        \u001b[0m\u001b[2m \u001b[0m \u001b[2m         \u001b[0m \u001b[2m         \u001b[0m \n",
       " \u001b[2m                \u001b[0m \u001b[2m                  \u001b[0m \u001b[2m \u001b[0m\u001b[2mcertain         \u001b[0m\u001b[2m \u001b[0m \u001b[2m                   \u001b[0m \u001b[2m \u001b[0m\u001b[2mrequired in     \u001b[0m\u001b[2m \u001b[0m \u001b[2m         \u001b[0m \u001b[2m         \u001b[0m \n",
       " \u001b[2m                \u001b[0m \u001b[2m                  \u001b[0m \u001b[2m \u001b[0m\u001b[2mneurotransmitte…\u001b[0m\u001b[2m \u001b[0m \u001b[2m                   \u001b[0m \u001b[2m \u001b[0m\u001b[2msmall amounts   \u001b[0m\u001b[2m \u001b[0m \u001b[2m         \u001b[0m \u001b[2m         \u001b[0m \n",
       " \u001b[2m                \u001b[0m \u001b[2m                  \u001b[0m \u001b[2m \u001b[0m\u001b[2mand Vitamin D is\u001b[0m\u001b[2m \u001b[0m \u001b[2m                   \u001b[0m \u001b[2m \u001b[0m\u001b[2mand play a      \u001b[0m\u001b[2m \u001b[0m \u001b[2m         \u001b[0m \u001b[2m         \u001b[0m \n",
       " \u001b[2m                \u001b[0m \u001b[2m                  \u001b[0m \u001b[2m \u001b[0m\u001b[2messential for   \u001b[0m\u001b[2m \u001b[0m \u001b[2m                   \u001b[0m \u001b[2m \u001b[0m\u001b[2mcrucial role in \u001b[0m\u001b[2m \u001b[0m \u001b[2m         \u001b[0m \u001b[2m         \u001b[0m \n",
       " \u001b[2m                \u001b[0m \u001b[2m                  \u001b[0m \u001b[2m \u001b[0m\u001b[2mstrong bones and\u001b[0m\u001b[2m \u001b[0m \u001b[2m                   \u001b[0m \u001b[2m \u001b[0m\u001b[2mvarious         \u001b[0m\u001b[2m \u001b[0m \u001b[2m         \u001b[0m \u001b[2m         \u001b[0m \n",
       " \u001b[2m                \u001b[0m \u001b[2m                  \u001b[0m \u001b[2m \u001b[0m\u001b[2mteeth as it     \u001b[0m\u001b[2m \u001b[0m \u001b[2m                   \u001b[0m \u001b[2m \u001b[0m\u001b[2mphysiological   \u001b[0m\u001b[2m \u001b[0m \u001b[2m         \u001b[0m \u001b[2m         \u001b[0m \n",
       " \u001b[2m                \u001b[0m \u001b[2m                  \u001b[0m \u001b[2m \u001b[0m\u001b[2mhelps the body  \u001b[0m\u001b[2m \u001b[0m \u001b[2m                   \u001b[0m \u001b[2m \u001b[0m\u001b[2mprocesses. There\u001b[0m\u001b[2m \u001b[0m \u001b[2m         \u001b[0m \u001b[2m         \u001b[0m \n",
       " \u001b[2m                \u001b[0m \u001b[2m                  \u001b[0m \u001b[2m \u001b[0m\u001b[2mabsorb calcium. \u001b[0m\u001b[2m \u001b[0m \u001b[2m                   \u001b[0m \u001b[2m \u001b[0m\u001b[2mare 13 essential\u001b[0m\u001b[2m \u001b[0m \u001b[2m         \u001b[0m \u001b[2m         \u001b[0m \n",
       " \u001b[2m                \u001b[0m \u001b[2m                  \u001b[0m \u001b[2m                  \u001b[0m \u001b[2m                   \u001b[0m \u001b[2m \u001b[0m\u001b[2mvitamins,       \u001b[0m\u001b[2m \u001b[0m \u001b[2m         \u001b[0m \u001b[2m         \u001b[0m \n",
       " \u001b[2m                \u001b[0m \u001b[2m                  \u001b[0m \u001b[2m                  \u001b[0m \u001b[2m                   \u001b[0m \u001b[2m \u001b[0m\u001b[2mincluding       \u001b[0m\u001b[2m \u001b[0m \u001b[2m         \u001b[0m \u001b[2m         \u001b[0m \n",
       " \u001b[2m                \u001b[0m \u001b[2m                  \u001b[0m \u001b[2m                  \u001b[0m \u001b[2m                   \u001b[0m \u001b[2m \u001b[0m\u001b[2mvitamin A, B    \u001b[0m\u001b[2m \u001b[0m \u001b[2m         \u001b[0m \u001b[2m         \u001b[0m \n",
       " \u001b[2m                \u001b[0m \u001b[2m                  \u001b[0m \u001b[2m                  \u001b[0m \u001b[2m                   \u001b[0m \u001b[2m \u001b[0m\u001b[2mvitamins,       \u001b[0m\u001b[2m \u001b[0m \u001b[2m         \u001b[0m \u001b[2m         \u001b[0m \n",
       " \u001b[2m                \u001b[0m \u001b[2m                  \u001b[0m \u001b[2m                  \u001b[0m \u001b[2m                   \u001b[0m \u001b[2m \u001b[0m\u001b[2mvitamin C,      \u001b[0m\u001b[2m \u001b[0m \u001b[2m         \u001b[0m \u001b[2m         \u001b[0m \n",
       " \u001b[2m                \u001b[0m \u001b[2m                  \u001b[0m \u001b[2m                  \u001b[0m \u001b[2m                   \u001b[0m \u001b[2m \u001b[0m\u001b[2mvitamin D,      \u001b[0m\u001b[2m \u001b[0m \u001b[2m         \u001b[0m \u001b[2m         \u001b[0m \n",
       " \u001b[2m                \u001b[0m \u001b[2m                  \u001b[0m \u001b[2m                  \u001b[0m \u001b[2m                   \u001b[0m \u001b[2m \u001b[0m\u001b[2mvitamin E, and  \u001b[0m\u001b[2m \u001b[0m \u001b[2m         \u001b[0m \u001b[2m         \u001b[0m \n",
       " \u001b[2m                \u001b[0m \u001b[2m                  \u001b[0m \u001b[2m                  \u001b[0m \u001b[2m                   \u001b[0m \u001b[2m \u001b[0m\u001b[2mvitamin K. Each \u001b[0m\u001b[2m \u001b[0m \u001b[2m         \u001b[0m \u001b[2m         \u001b[0m \n",
       " \u001b[2m                \u001b[0m \u001b[2m                  \u001b[0m \u001b[2m                  \u001b[0m \u001b[2m                   \u001b[0m \u001b[2m \u001b[0m\u001b[2mvitamin has     \u001b[0m\u001b[2m \u001b[0m \u001b[2m         \u001b[0m \u001b[2m         \u001b[0m \n",
       " \u001b[2m                \u001b[0m \u001b[2m                  \u001b[0m \u001b[2m                  \u001b[0m \u001b[2m                   \u001b[0m \u001b[2m \u001b[0m\u001b[2mspecific        \u001b[0m\u001b[2m \u001b[0m \u001b[2m         \u001b[0m \u001b[2m         \u001b[0m \n",
       " \u001b[2m                \u001b[0m \u001b[2m                  \u001b[0m \u001b[2m                  \u001b[0m \u001b[2m                   \u001b[0m \u001b[2m \u001b[0m\u001b[2mfunctions and   \u001b[0m\u001b[2m \u001b[0m \u001b[2m         \u001b[0m \u001b[2m         \u001b[0m \n",
       " \u001b[2m                \u001b[0m \u001b[2m                  \u001b[0m \u001b[2m                  \u001b[0m \u001b[2m                   \u001b[0m \u001b[2m \u001b[0m\u001b[2mbenefits for the\u001b[0m\u001b[2m \u001b[0m \u001b[2m         \u001b[0m \u001b[2m         \u001b[0m \n",
       " \u001b[2m                \u001b[0m \u001b[2m                  \u001b[0m \u001b[2m                  \u001b[0m \u001b[2m                   \u001b[0m \u001b[2m \u001b[0m\u001b[2mbody. They are  \u001b[0m\u001b[2m \u001b[0m \u001b[2m         \u001b[0m \u001b[2m         \u001b[0m \n",
       " \u001b[2m                \u001b[0m \u001b[2m                  \u001b[0m \u001b[2m                  \u001b[0m \u001b[2m                   \u001b[0m \u001b[2m \u001b[0m\u001b[2mfound in various\u001b[0m\u001b[2m \u001b[0m \u001b[2m         \u001b[0m \u001b[2m         \u001b[0m \n",
       " \u001b[2m                \u001b[0m \u001b[2m                  \u001b[0m \u001b[2m                  \u001b[0m \u001b[2m                   \u001b[0m \u001b[2m \u001b[0m\u001b[2mfoods, including\u001b[0m\u001b[2m \u001b[0m \u001b[2m         \u001b[0m \u001b[2m         \u001b[0m \n",
       " \u001b[2m                \u001b[0m \u001b[2m                  \u001b[0m \u001b[2m                  \u001b[0m \u001b[2m                   \u001b[0m \u001b[2m \u001b[0m\u001b[2mfruits,         \u001b[0m\u001b[2m \u001b[0m \u001b[2m         \u001b[0m \u001b[2m         \u001b[0m \n",
       " \u001b[2m                \u001b[0m \u001b[2m                  \u001b[0m \u001b[2m                  \u001b[0m \u001b[2m                   \u001b[0m \u001b[2m \u001b[0m\u001b[2mvegetables,     \u001b[0m\u001b[2m \u001b[0m \u001b[2m         \u001b[0m \u001b[2m         \u001b[0m \n",
       " \u001b[2m                \u001b[0m \u001b[2m                  \u001b[0m \u001b[2m                  \u001b[0m \u001b[2m                   \u001b[0m \u001b[2m \u001b[0m\u001b[2mdairy products, \u001b[0m\u001b[2m \u001b[0m \u001b[2m         \u001b[0m \u001b[2m         \u001b[0m \n",
       " \u001b[2m                \u001b[0m \u001b[2m                  \u001b[0m \u001b[2m                  \u001b[0m \u001b[2m                   \u001b[0m \u001b[2m \u001b[0m\u001b[2mand meats. It is\u001b[0m\u001b[2m \u001b[0m \u001b[2m         \u001b[0m \u001b[2m         \u001b[0m \n",
       " \u001b[2m                \u001b[0m \u001b[2m                  \u001b[0m \u001b[2m                  \u001b[0m \u001b[2m                   \u001b[0m \u001b[2m \u001b[0m\u001b[2mimportant to    \u001b[0m\u001b[2m \u001b[0m \u001b[2m         \u001b[0m \u001b[2m         \u001b[0m \n",
       " \u001b[2m                \u001b[0m \u001b[2m                  \u001b[0m \u001b[2m                  \u001b[0m \u001b[2m                   \u001b[0m \u001b[2m \u001b[0m\u001b[2mmaintain a      \u001b[0m\u001b[2m \u001b[0m \u001b[2m         \u001b[0m \u001b[2m         \u001b[0m \n",
       " \u001b[2m                \u001b[0m \u001b[2m                  \u001b[0m \u001b[2m                  \u001b[0m \u001b[2m                   \u001b[0m \u001b[2m \u001b[0m\u001b[2mbalanced diet to\u001b[0m\u001b[2m \u001b[0m \u001b[2m         \u001b[0m \u001b[2m         \u001b[0m \n",
       " \u001b[2m                \u001b[0m \u001b[2m                  \u001b[0m \u001b[2m                  \u001b[0m \u001b[2m                   \u001b[0m \u001b[2m \u001b[0m\u001b[2mensure an       \u001b[0m\u001b[2m \u001b[0m \u001b[2m         \u001b[0m \u001b[2m         \u001b[0m \n",
       " \u001b[2m                \u001b[0m \u001b[2m                  \u001b[0m \u001b[2m                  \u001b[0m \u001b[2m                   \u001b[0m \u001b[2m \u001b[0m\u001b[2madequate intake \u001b[0m\u001b[2m \u001b[0m \u001b[2m         \u001b[0m \u001b[2m         \u001b[0m \n",
       " \u001b[2m                \u001b[0m \u001b[2m                  \u001b[0m \u001b[2m                  \u001b[0m \u001b[2m                   \u001b[0m \u001b[2m \u001b[0m\u001b[2mof vitamins.    \u001b[0m\u001b[2m \u001b[0m \u001b[2m         \u001b[0m \u001b[2m         \u001b[0m \n",
       "  Minerals         Calcium, Iron,     Calcium is         Minerals            Minerals are       False     False    \n",
       "                   Magnesium          necessary for                          naturally                             \n",
       "                                      maintaining                            occurring                             \n",
       "                                      healthy bones                          inorganic                             \n",
       "                                      and teeth, Iron                        substances that                       \n",
       "                                      is crucial for                         are solid and                         \n",
       "                                      making red blood                       have a definite                       \n",
       "                                      cells and                              chemical                              \n",
       "                                      transporting                           composition.                          \n",
       "                                      oxygen                                 They are the                          \n",
       "                                      throughout the                         building blocks                       \n",
       "                                      body, and                              of rocks and are                      \n",
       "                                      Magnesium plays                        classified into                       \n",
       "                                      a role in over                         different groups                      \n",
       "                                      300 enzyme                             based on their                        \n",
       "                                      reactions in the                       chemical                              \n",
       "                                      human body,                            composition and                       \n",
       "                                      including the                          physical                              \n",
       "                                      metabolism of                          properties. Some                      \n",
       "                                      food, synthesis                        common minerals                       \n",
       "                                      of fatty acids                         include quartz,                       \n",
       "                                      and proteins,                          feldspar, mica,                       \n",
       "                                      and the                                calcite, and                          \n",
       "                                      transmission of                        hematite.                             \n",
       "                                      nerve impulses.                                                              \n",
       "                                                                                                                   \n"
      ]
     },
     "metadata": {},
     "output_type": "display_data"
    },
    {
     "data": {
      "text/html": [
       "<pre style=\"white-space:pre;overflow-x:auto;line-height:normal;font-family:Menlo,'DejaVu Sans Mono',consolas,'Courier New',monospace\"><span style=\"color: #800000; text-decoration-color: #800000; font-weight: bold\">Accuracy = </span><span style=\"color: #008080; text-decoration-color: #008080; font-weight: bold\">33.33</span><span style=\"color: #800000; text-decoration-color: #800000; font-weight: bold\">%</span>\n",
       "</pre>\n"
      ],
      "text/plain": [
       "\u001b[1;31mAccuracy = \u001b[0m\u001b[1;36m33.33\u001b[0m\u001b[1;31m%\u001b[0m\n"
      ]
     },
     "metadata": {},
     "output_type": "display_data"
    },
    {
     "data": {
      "text/html": [
       "<pre style=\"white-space:pre;overflow-x:auto;line-height:normal;font-family:Menlo,'DejaVu Sans Mono',consolas,'Courier New',monospace\">Analyze evaluation experience <span style=\"color: #808000; text-decoration-color: #808000\">...</span>\n",
       "</pre>\n"
      ],
      "text/plain": [
       "Analyze evaluation experience \u001b[33m...\u001b[0m\n"
      ]
     },
     "metadata": {},
     "output_type": "display_data"
    },
    {
     "data": {
      "text/html": [
       "<pre style=\"white-space:pre;overflow-x:auto;line-height:normal;font-family:Menlo,'DejaVu Sans Mono',consolas,'Courier New',monospace\"><span style=\"font-weight: bold\">[</span><span style=\"color: #008000; text-decoration-color: #008000\">'category'</span><span style=\"font-weight: bold\">]</span>\n",
       "</pre>\n"
      ],
      "text/plain": [
       "\u001b[1m[\u001b[0m\u001b[32m'category'\u001b[0m\u001b[1m]\u001b[0m\n"
      ]
     },
     "metadata": {},
     "output_type": "display_data"
    },
    {
     "name": "stderr",
     "output_type": "stream",
     "text": [
      "  0%|          | 0/2 [00:00<?, ?it/s]"
     ]
    },
    {
     "data": {
      "text/html": [
       "<pre style=\"white-space:pre;overflow-x:auto;line-height:normal;font-family:Menlo,'DejaVu Sans Mono',consolas,'Courier New',monospace\"><span style=\"font-weight: bold\">{</span><span style=\"color: #008000; text-decoration-color: #008000\">'category'</span>: <span style=\"color: #008000; text-decoration-color: #008000\">'Vitamins'</span>, <span style=\"color: #008000; text-decoration-color: #008000\">'entities'</span>: <span style=\"color: #008000; text-decoration-color: #008000\">'Vitamin A, Vitamin C, Vitamin D'</span>, <span style=\"color: #008000; text-decoration-color: #008000\">'text'</span>: <span style=\"color: #008000; text-decoration-color: #008000\">'Vitamin A is crucial for good </span>\n",
       "<span style=\"color: #008000; text-decoration-color: #008000\">vision and a healthy immune system, Vitamin C helps in the repair of tissues and the enzymatic production of </span>\n",
       "<span style=\"color: #008000; text-decoration-color: #008000\">certain neurotransmitters, and Vitamin D is essential for strong bones and teeth as it helps the body absorb </span>\n",
       "<span style=\"color: #008000; text-decoration-color: #008000\">calcium.'</span>, <span style=\"color: #008000; text-decoration-color: #008000\">'skill_0'</span>: <span style=\"color: #008000; text-decoration-color: #008000\">'Vitamins'</span>, <span style=\"color: #008000; text-decoration-color: #008000\">'skill_1'</span>: <span style=\"color: #008000; text-decoration-color: #008000\">'Vitamins are organic compounds that are essential for the proper </span>\n",
       "<span style=\"color: #008000; text-decoration-color: #008000\">functioning of the body. They are micronutrients that are required in small amounts and play a crucial role in </span>\n",
       "<span style=\"color: #008000; text-decoration-color: #008000\">various physiological processes. There are 13 essential vitamins, including vitamin A, B vitamins, vitamin C, </span>\n",
       "<span style=\"color: #008000; text-decoration-color: #008000\">vitamin D, vitamin E, and vitamin K. Each vitamin has specific functions and benefits for the body. They are found </span>\n",
       "<span style=\"color: #008000; text-decoration-color: #008000\">in various foods, including fruits, vegetables, dairy products, and meats. It is important to maintain a balanced </span>\n",
       "<span style=\"color: #008000; text-decoration-color: #008000\">diet to ensure an adequate intake of vitamins.'</span><span style=\"font-weight: bold\">}</span>\n",
       "</pre>\n"
      ],
      "text/plain": [
       "\u001b[1m{\u001b[0m\u001b[32m'category'\u001b[0m: \u001b[32m'Vitamins'\u001b[0m, \u001b[32m'entities'\u001b[0m: \u001b[32m'Vitamin A, Vitamin C, Vitamin D'\u001b[0m, \u001b[32m'text'\u001b[0m: \u001b[32m'Vitamin A is crucial for good \u001b[0m\n",
       "\u001b[32mvision and a healthy immune system, Vitamin C helps in the repair of tissues and the enzymatic production of \u001b[0m\n",
       "\u001b[32mcertain neurotransmitters, and Vitamin D is essential for strong bones and teeth as it helps the body absorb \u001b[0m\n",
       "\u001b[32mcalcium.'\u001b[0m, \u001b[32m'skill_0'\u001b[0m: \u001b[32m'Vitamins'\u001b[0m, \u001b[32m'skill_1'\u001b[0m: \u001b[32m'Vitamins are organic compounds that are essential for the proper \u001b[0m\n",
       "\u001b[32mfunctioning of the body. They are micronutrients that are required in small amounts and play a crucial role in \u001b[0m\n",
       "\u001b[32mvarious physiological processes. There are 13 essential vitamins, including vitamin A, B vitamins, vitamin C, \u001b[0m\n",
       "\u001b[32mvitamin D, vitamin E, and vitamin K. Each vitamin has specific functions and benefits for the body. They are found \u001b[0m\n",
       "\u001b[32min various foods, including fruits, vegetables, dairy products, and meats. It is important to maintain a balanced \u001b[0m\n",
       "\u001b[32mdiet to ensure an adequate intake of vitamins.'\u001b[0m\u001b[1m}\u001b[0m\n"
      ]
     },
     "metadata": {},
     "output_type": "display_data"
    },
    {
     "name": "stderr",
     "output_type": "stream",
     "text": [
      "100%|██████████| 2/2 [00:03<00:00,  1.54s/it]"
     ]
    },
    {
     "data": {
      "text/html": [
       "<pre style=\"white-space:pre;overflow-x:auto;line-height:normal;font-family:Menlo,'DejaVu Sans Mono',consolas,'Courier New',monospace\"><span style=\"font-weight: bold\">{</span><span style=\"color: #008000; text-decoration-color: #008000\">'category'</span>: <span style=\"color: #008000; text-decoration-color: #008000\">'Minerals'</span>, <span style=\"color: #008000; text-decoration-color: #008000\">'entities'</span>: <span style=\"color: #008000; text-decoration-color: #008000\">'Calcium, Iron, Magnesium'</span>, <span style=\"color: #008000; text-decoration-color: #008000\">'text'</span>: <span style=\"color: #008000; text-decoration-color: #008000\">'Calcium is necessary for maintaining </span>\n",
       "<span style=\"color: #008000; text-decoration-color: #008000\">healthy bones and teeth, Iron is crucial for making red blood cells and transporting oxygen throughout the body, </span>\n",
       "<span style=\"color: #008000; text-decoration-color: #008000\">and Magnesium plays a role in over 300 enzyme reactions in the human body, including the metabolism of food, </span>\n",
       "<span style=\"color: #008000; text-decoration-color: #008000\">synthesis of fatty acids and proteins, and the transmission of nerve impulses.'</span>, <span style=\"color: #008000; text-decoration-color: #008000\">'skill_0'</span>: <span style=\"color: #008000; text-decoration-color: #008000\">'Minerals'</span>, <span style=\"color: #008000; text-decoration-color: #008000\">'skill_1'</span>: \n",
       "<span style=\"color: #008000; text-decoration-color: #008000\">'Minerals are naturally occurring inorganic substances that are solid and have a definite chemical composition. </span>\n",
       "<span style=\"color: #008000; text-decoration-color: #008000\">They are the building blocks of rocks and are classified into different groups based on their chemical composition </span>\n",
       "<span style=\"color: #008000; text-decoration-color: #008000\">and physical properties. Some common minerals include quartz, feldspar, mica, calcite, and hematite.'</span><span style=\"font-weight: bold\">}</span>\n",
       "</pre>\n"
      ],
      "text/plain": [
       "\u001b[1m{\u001b[0m\u001b[32m'category'\u001b[0m: \u001b[32m'Minerals'\u001b[0m, \u001b[32m'entities'\u001b[0m: \u001b[32m'Calcium, Iron, Magnesium'\u001b[0m, \u001b[32m'text'\u001b[0m: \u001b[32m'Calcium is necessary for maintaining \u001b[0m\n",
       "\u001b[32mhealthy bones and teeth, Iron is crucial for making red blood cells and transporting oxygen throughout the body, \u001b[0m\n",
       "\u001b[32mand Magnesium plays a role in over 300 enzyme reactions in the human body, including the metabolism of food, \u001b[0m\n",
       "\u001b[32msynthesis of fatty acids and proteins, and the transmission of nerve impulses.'\u001b[0m, \u001b[32m'skill_0'\u001b[0m: \u001b[32m'Minerals'\u001b[0m, \u001b[32m'skill_1'\u001b[0m: \n",
       "\u001b[32m'Minerals are naturally occurring inorganic substances that are solid and have a definite chemical composition. \u001b[0m\n",
       "\u001b[32mThey are the building blocks of rocks and are classified into different groups based on their chemical composition \u001b[0m\n",
       "\u001b[32mand physical properties. Some common minerals include quartz, feldspar, mica, calcite, and hematite.'\u001b[0m\u001b[1m}\u001b[0m\n"
      ]
     },
     "metadata": {},
     "output_type": "display_data"
    },
    {
     "name": "stderr",
     "output_type": "stream",
     "text": [
      "100%|██████████| 2/2 [00:23<00:00, 11.96s/it]\n"
     ]
    },
    {
     "data": {
      "text/html": [
       "<pre style=\"white-space:pre;overflow-x:auto;line-height:normal;font-family:Menlo,'DejaVu Sans Mono',consolas,'Courier New',monospace\"><span style=\"font-weight: bold\">[</span><span style=\"color: #008000; text-decoration-color: #008000\">'ground_truth'</span>, <span style=\"color: #008000; text-decoration-color: #008000\">'input'</span>, <span style=\"color: #008000; text-decoration-color: #008000\">'prediction'</span><span style=\"font-weight: bold\">]</span>\n",
       "</pre>\n"
      ],
      "text/plain": [
       "\u001b[1m[\u001b[0m\u001b[32m'ground_truth'\u001b[0m, \u001b[32m'input'\u001b[0m, \u001b[32m'prediction'\u001b[0m\u001b[1m]\u001b[0m\n"
      ]
     },
     "metadata": {},
     "output_type": "display_data"
    },
    {
     "name": "stderr",
     "output_type": "stream",
     "text": [
      "  0%|          | 0/2 [00:00<?, ?it/s]"
     ]
    },
    {
     "data": {
      "text/html": [
       "<pre style=\"white-space:pre;overflow-x:auto;line-height:normal;font-family:Menlo,'DejaVu Sans Mono',consolas,'Courier New',monospace\"><span style=\"font-weight: bold\">{</span><span style=\"color: #008000; text-decoration-color: #008000\">'input'</span>: <span style=\"color: #008000; text-decoration-color: #008000\">'Vitamins'</span>, <span style=\"color: #008000; text-decoration-color: #008000\">'prediction'</span>: <span style=\"color: #008000; text-decoration-color: #008000\">'Vitamins'</span>, <span style=\"color: #008000; text-decoration-color: #008000\">'ground_truth'</span>: <span style=\"color: #008000; text-decoration-color: #008000\">'Vitamin A, Vitamin C, Vitamin D'</span><span style=\"font-weight: bold\">}</span>\n",
       "</pre>\n"
      ],
      "text/plain": [
       "\u001b[1m{\u001b[0m\u001b[32m'input'\u001b[0m: \u001b[32m'Vitamins'\u001b[0m, \u001b[32m'prediction'\u001b[0m: \u001b[32m'Vitamins'\u001b[0m, \u001b[32m'ground_truth'\u001b[0m: \u001b[32m'Vitamin A, Vitamin C, Vitamin D'\u001b[0m\u001b[1m}\u001b[0m\n"
      ]
     },
     "metadata": {},
     "output_type": "display_data"
    },
    {
     "name": "stderr",
     "output_type": "stream",
     "text": [
      "100%|██████████| 2/2 [00:15<00:00,  7.51s/it]"
     ]
    },
    {
     "data": {
      "text/html": [
       "<pre style=\"white-space:pre;overflow-x:auto;line-height:normal;font-family:Menlo,'DejaVu Sans Mono',consolas,'Courier New',monospace\"><span style=\"font-weight: bold\">{</span><span style=\"color: #008000; text-decoration-color: #008000\">'input'</span>: <span style=\"color: #008000; text-decoration-color: #008000\">'Minerals'</span>, <span style=\"color: #008000; text-decoration-color: #008000\">'prediction'</span>: <span style=\"color: #008000; text-decoration-color: #008000\">'Minerals'</span>, <span style=\"color: #008000; text-decoration-color: #008000\">'ground_truth'</span>: <span style=\"color: #008000; text-decoration-color: #008000\">'Calcium, Iron, Magnesium'</span><span style=\"font-weight: bold\">}</span>\n",
       "</pre>\n"
      ],
      "text/plain": [
       "\u001b[1m{\u001b[0m\u001b[32m'input'\u001b[0m: \u001b[32m'Minerals'\u001b[0m, \u001b[32m'prediction'\u001b[0m: \u001b[32m'Minerals'\u001b[0m, \u001b[32m'ground_truth'\u001b[0m: \u001b[32m'Calcium, Iron, Magnesium'\u001b[0m\u001b[1m}\u001b[0m\n"
      ]
     },
     "metadata": {},
     "output_type": "display_data"
    },
    {
     "name": "stderr",
     "output_type": "stream",
     "text": [
      "100%|██████████| 2/2 [00:32<00:00, 16.18s/it]\n"
     ]
    },
    {
     "data": {
      "text/html": [
       "<pre style=\"white-space:pre;overflow-x:auto;line-height:normal;font-family:Menlo,'DejaVu Sans Mono',consolas,'Courier New',monospace\"><span style=\"font-weight: bold\">[</span><span style=\"color: #008000; text-decoration-color: #008000\">'ground_truth'</span>, <span style=\"color: #008000; text-decoration-color: #008000\">'input'</span>, <span style=\"color: #008000; text-decoration-color: #008000\">'prediction'</span>, <span style=\"color: #008000; text-decoration-color: #008000\">'reason'</span><span style=\"font-weight: bold\">]</span>\n",
       "</pre>\n"
      ],
      "text/plain": [
       "\u001b[1m[\u001b[0m\u001b[32m'ground_truth'\u001b[0m, \u001b[32m'input'\u001b[0m, \u001b[32m'prediction'\u001b[0m, \u001b[32m'reason'\u001b[0m\u001b[1m]\u001b[0m\n"
      ]
     },
     "metadata": {},
     "output_type": "display_data"
    },
    {
     "name": "stderr",
     "output_type": "stream",
     "text": [
      "  0%|          | 0/2 [00:00<?, ?it/s]"
     ]
    },
    {
     "data": {
      "text/html": [
       "<pre style=\"white-space:pre;overflow-x:auto;line-height:normal;font-family:Menlo,'DejaVu Sans Mono',consolas,'Courier New',monospace\"><span style=\"font-weight: bold\">{</span><span style=\"color: #008000; text-decoration-color: #008000\">'input'</span>: <span style=\"color: #008000; text-decoration-color: #008000\">'Vitamins'</span>, <span style=\"color: #008000; text-decoration-color: #008000\">'prediction'</span>: <span style=\"color: #008000; text-decoration-color: #008000\">'Vitamins'</span>, <span style=\"color: #008000; text-decoration-color: #008000\">'ground_truth'</span>: <span style=\"color: #008000; text-decoration-color: #008000\">'Vitamin A, Vitamin C, Vitamin D'</span>, <span style=\"color: #008000; text-decoration-color: #008000\">'reason'</span>: <span style=\"color: #008000; text-decoration-color: #008000\">'The </span>\n",
       "<span style=\"color: #008000; text-decoration-color: #008000\">original instruction template asks for macronutrients (carbohydrates, proteins, fats), but the input and ground </span>\n",
       "<span style=\"color: #008000; text-decoration-color: #008000\">truth are about vitamins. Therefore, the model cannot generate the correct prediction because it is not provided </span>\n",
       "<span style=\"color: #008000; text-decoration-color: #008000\">with the necessary information to generate the expected output.'</span><span style=\"font-weight: bold\">}</span>\n",
       "</pre>\n"
      ],
      "text/plain": [
       "\u001b[1m{\u001b[0m\u001b[32m'input'\u001b[0m: \u001b[32m'Vitamins'\u001b[0m, \u001b[32m'prediction'\u001b[0m: \u001b[32m'Vitamins'\u001b[0m, \u001b[32m'ground_truth'\u001b[0m: \u001b[32m'Vitamin A, Vitamin C, Vitamin D'\u001b[0m, \u001b[32m'reason'\u001b[0m: \u001b[32m'The \u001b[0m\n",
       "\u001b[32moriginal instruction template asks for macronutrients \u001b[0m\u001b[32m(\u001b[0m\u001b[32mcarbohydrates, proteins, fats\u001b[0m\u001b[32m)\u001b[0m\u001b[32m, but the input and ground \u001b[0m\n",
       "\u001b[32mtruth are about vitamins. Therefore, the model cannot generate the correct prediction because it is not provided \u001b[0m\n",
       "\u001b[32mwith the necessary information to generate the expected output.'\u001b[0m\u001b[1m}\u001b[0m\n"
      ]
     },
     "metadata": {},
     "output_type": "display_data"
    },
    {
     "name": "stderr",
     "output_type": "stream",
     "text": [
      "100%|██████████| 2/2 [00:18<00:00,  9.37s/it]"
     ]
    },
    {
     "data": {
      "text/html": [
       "<pre style=\"white-space:pre;overflow-x:auto;line-height:normal;font-family:Menlo,'DejaVu Sans Mono',consolas,'Courier New',monospace\"><span style=\"font-weight: bold\">{</span><span style=\"color: #008000; text-decoration-color: #008000\">'input'</span>: <span style=\"color: #008000; text-decoration-color: #008000\">'Minerals'</span>, <span style=\"color: #008000; text-decoration-color: #008000\">'prediction'</span>: <span style=\"color: #008000; text-decoration-color: #008000\">'Minerals'</span>, <span style=\"color: #008000; text-decoration-color: #008000\">'ground_truth'</span>: <span style=\"color: #008000; text-decoration-color: #008000\">'Calcium, Iron, Magnesium'</span>, <span style=\"color: #008000; text-decoration-color: #008000\">'reason'</span>: <span style=\"color: #008000; text-decoration-color: #008000\">'The original</span>\n",
       "<span style=\"color: #008000; text-decoration-color: #008000\">instruction template asks for macronutrients (carbohydrates, proteins, fats), but the input and ground truth are </span>\n",
       "<span style=\"color: #008000; text-decoration-color: #008000\">about minerals. Therefore, the model cannot generate the correct prediction based on the given instruction.'</span><span style=\"font-weight: bold\">}</span>\n",
       "</pre>\n"
      ],
      "text/plain": [
       "\u001b[1m{\u001b[0m\u001b[32m'input'\u001b[0m: \u001b[32m'Minerals'\u001b[0m, \u001b[32m'prediction'\u001b[0m: \u001b[32m'Minerals'\u001b[0m, \u001b[32m'ground_truth'\u001b[0m: \u001b[32m'Calcium, Iron, Magnesium'\u001b[0m, \u001b[32m'reason'\u001b[0m: \u001b[32m'The original\u001b[0m\n",
       "\u001b[32minstruction template asks for macronutrients \u001b[0m\u001b[32m(\u001b[0m\u001b[32mcarbohydrates, proteins, fats\u001b[0m\u001b[32m)\u001b[0m\u001b[32m, but the input and ground truth are \u001b[0m\n",
       "\u001b[32mabout minerals. Therefore, the model cannot generate the correct prediction based on the given instruction.'\u001b[0m\u001b[1m}\u001b[0m\n"
      ]
     },
     "metadata": {},
     "output_type": "display_data"
    },
    {
     "name": "stderr",
     "output_type": "stream",
     "text": [
      "100%|██████████| 2/2 [00:32<00:00, 16.33s/it]\n"
     ]
    },
    {
     "data": {
      "text/html": [
       "<pre style=\"white-space:pre;overflow-x:auto;line-height:normal;font-family:Menlo,'DejaVu Sans Mono',consolas,'Courier New',monospace\">Error analysis for skill <span style=\"color: #008000; text-decoration-color: #008000\">\"skill_0\"</span>:\n",
       "\n",
       "</pre>\n"
      ],
      "text/plain": [
       "Error analysis for skill \u001b[32m\"skill_0\"\u001b[0m:\n",
       "\n"
      ]
     },
     "metadata": {},
     "output_type": "display_data"
    },
    {
     "data": {
      "text/html": [
       "<pre style=\"white-space:pre;overflow-x:auto;line-height:normal;font-family:Menlo,'DejaVu Sans Mono',consolas,'Courier New',monospace\"><span style=\"color: #008000; text-decoration-color: #008000\">Input: Vitamins</span>\n",
       "\n",
       "<span style=\"color: #008000; text-decoration-color: #008000\">Prediction: Vitamins</span>\n",
       "\n",
       "<span style=\"color: #008000; text-decoration-color: #008000\">Ground truth: Vitamin A, Vitamin C, Vitamin D</span>\n",
       "\n",
       "<span style=\"color: #008000; text-decoration-color: #008000\">Error reason: The original instruction template asks for macronutrients </span><span style=\"color: #008000; text-decoration-color: #008000; font-weight: bold\">(</span><span style=\"color: #008000; text-decoration-color: #008000\">carbohydrates, proteins, fats</span><span style=\"color: #008000; text-decoration-color: #008000; font-weight: bold\">)</span><span style=\"color: #008000; text-decoration-color: #008000\">, but the </span>\n",
       "<span style=\"color: #008000; text-decoration-color: #008000\">input and ground truth are about vitamins. Therefore, the model cannot generate the correct prediction because it </span>\n",
       "<span style=\"color: #008000; text-decoration-color: #008000\">is not provided with the necessary information to generate the expected output. Error analysis report:</span>\n",
       "\n",
       "<span style=\"color: #008000; text-decoration-color: #008000\">Input: Minerals</span>\n",
       "\n",
       "<span style=\"color: #008000; text-decoration-color: #008000\">Prediction: Minerals</span>\n",
       "\n",
       "<span style=\"color: #008000; text-decoration-color: #008000\">Ground truth: Calcium, Iron, Magnesium</span>\n",
       "\n",
       "<span style=\"color: #008000; text-decoration-color: #008000\">Error reason: The original instruction template asks for macronutrients </span><span style=\"color: #008000; text-decoration-color: #008000; font-weight: bold\">(</span><span style=\"color: #008000; text-decoration-color: #008000\">carbohydrates, proteins, fats</span><span style=\"color: #008000; text-decoration-color: #008000; font-weight: bold\">)</span><span style=\"color: #008000; text-decoration-color: #008000\">, but the </span>\n",
       "<span style=\"color: #008000; text-decoration-color: #008000\">input and ground truth are about minerals. Therefore, the model cannot generate the correct prediction based on the</span>\n",
       "<span style=\"color: #008000; text-decoration-color: #008000\">given instruction.</span>\n",
       "</pre>\n"
      ],
      "text/plain": [
       "\u001b[32mInput: Vitamins\u001b[0m\n",
       "\n",
       "\u001b[32mPrediction: Vitamins\u001b[0m\n",
       "\n",
       "\u001b[32mGround truth: Vitamin A, Vitamin C, Vitamin D\u001b[0m\n",
       "\n",
       "\u001b[32mError reason: The original instruction template asks for macronutrients \u001b[0m\u001b[1;32m(\u001b[0m\u001b[32mcarbohydrates, proteins, fats\u001b[0m\u001b[1;32m)\u001b[0m\u001b[32m, but the \u001b[0m\n",
       "\u001b[32minput and ground truth are about vitamins. Therefore, the model cannot generate the correct prediction because it \u001b[0m\n",
       "\u001b[32mis not provided with the necessary information to generate the expected output. Error analysis report:\u001b[0m\n",
       "\n",
       "\u001b[32mInput: Minerals\u001b[0m\n",
       "\n",
       "\u001b[32mPrediction: Minerals\u001b[0m\n",
       "\n",
       "\u001b[32mGround truth: Calcium, Iron, Magnesium\u001b[0m\n",
       "\n",
       "\u001b[32mError reason: The original instruction template asks for macronutrients \u001b[0m\u001b[1;32m(\u001b[0m\u001b[32mcarbohydrates, proteins, fats\u001b[0m\u001b[1;32m)\u001b[0m\u001b[32m, but the \u001b[0m\n",
       "\u001b[32minput and ground truth are about minerals. Therefore, the model cannot generate the correct prediction based on the\u001b[0m\n",
       "\u001b[32mgiven instruction.\u001b[0m\n"
      ]
     },
     "metadata": {},
     "output_type": "display_data"
    },
    {
     "data": {
      "text/html": [
       "<pre style=\"white-space:pre;overflow-x:auto;line-height:normal;font-family:Menlo,'DejaVu Sans Mono',consolas,'Courier New',monospace\">Improve <span style=\"color: #008000; text-decoration-color: #008000\">\"skill_0\"</span> skill based on analysis <span style=\"color: #808000; text-decoration-color: #808000\">...</span>\n",
       "</pre>\n"
      ],
      "text/plain": [
       "Improve \u001b[32m\"skill_0\"\u001b[0m skill based on analysis \u001b[33m...\u001b[0m\n"
      ]
     },
     "metadata": {},
     "output_type": "display_data"
    },
    {
     "data": {
      "text/html": [
       "<pre style=\"white-space:pre;overflow-x:auto;line-height:normal;font-family:Menlo,'DejaVu Sans Mono',consolas,'Courier New',monospace\"><span style=\"font-weight: bold\">{</span><span style=\"color: #008000; text-decoration-color: #008000\">'error_analysis'</span>: <span style=\"color: #008000; text-decoration-color: #008000\">'Input: Vitamins\\n\\nPrediction: Vitamins\\n\\nGround truth: Vitamin A, Vitamin C, Vitamin </span>\n",
       "<span style=\"color: #008000; text-decoration-color: #008000\">D\\n\\nError reason: The original instruction template asks for macronutrients (carbohydrates, proteins, fats), but </span>\n",
       "<span style=\"color: #008000; text-decoration-color: #008000\">the input and ground truth are about vitamins. Therefore, the model cannot generate the correct prediction because </span>\n",
       "<span style=\"color: #008000; text-decoration-color: #008000\">it is not provided with the necessary information to generate the expected output. Error analysis report:\\n\\nInput:</span>\n",
       "<span style=\"color: #008000; text-decoration-color: #008000\">Minerals\\n\\nPrediction: Minerals\\n\\nGround truth: Calcium, Iron, Magnesium\\n\\nError reason: The original </span>\n",
       "<span style=\"color: #008000; text-decoration-color: #008000\">instruction template asks for macronutrients (carbohydrates, proteins, fats), but the input and ground truth are </span>\n",
       "<span style=\"color: #008000; text-decoration-color: #008000\">about minerals. Therefore, the model cannot generate the correct prediction based on the given instruction.'</span><span style=\"font-weight: bold\">}</span>\n",
       "</pre>\n"
      ],
      "text/plain": [
       "\u001b[1m{\u001b[0m\u001b[32m'error_analysis'\u001b[0m: \u001b[32m'Input: Vitamins\\n\\nPrediction: Vitamins\\n\\nGround truth: Vitamin A, Vitamin C, Vitamin \u001b[0m\n",
       "\u001b[32mD\\n\\nError reason: The original instruction template asks for macronutrients \u001b[0m\u001b[32m(\u001b[0m\u001b[32mcarbohydrates, proteins, fats\u001b[0m\u001b[32m)\u001b[0m\u001b[32m, but \u001b[0m\n",
       "\u001b[32mthe input and ground truth are about vitamins. Therefore, the model cannot generate the correct prediction because \u001b[0m\n",
       "\u001b[32mit is not provided with the necessary information to generate the expected output. Error analysis report:\\n\\nInput:\u001b[0m\n",
       "\u001b[32mMinerals\\n\\nPrediction: Minerals\\n\\nGround truth: Calcium, Iron, Magnesium\\n\\nError reason: The original \u001b[0m\n",
       "\u001b[32minstruction template asks for macronutrients \u001b[0m\u001b[32m(\u001b[0m\u001b[32mcarbohydrates, proteins, fats\u001b[0m\u001b[32m)\u001b[0m\u001b[32m, but the input and ground truth are \u001b[0m\n",
       "\u001b[32mabout minerals. Therefore, the model cannot generate the correct prediction based on the given instruction.'\u001b[0m\u001b[1m}\u001b[0m\n"
      ]
     },
     "metadata": {},
     "output_type": "display_data"
    },
    {
     "data": {
      "text/html": [
       "<pre style=\"white-space:pre;overflow-x:auto;line-height:normal;font-family:Menlo,'DejaVu Sans Mono',consolas,'Courier New',monospace\">Updated instructions for skill <span style=\"color: #008000; text-decoration-color: #008000\">\"skill_0\"</span>:\n",
       "\n",
       "</pre>\n"
      ],
      "text/plain": [
       "Updated instructions for skill \u001b[32m\"skill_0\"\u001b[0m:\n",
       "\n"
      ]
     },
     "metadata": {},
     "output_type": "display_data"
    },
    {
     "data": {
      "text/html": [
       "<pre style=\"white-space:pre;overflow-x:auto;line-height:normal;font-family:Menlo,'DejaVu Sans Mono',consolas,'Courier New',monospace\"><span style=\"color: #008000; text-decoration-color: #008000; font-weight: bold\">Specify the specific macronutrients: Carbohydrates, Proteins, Fats.</span>\n",
       "</pre>\n"
      ],
      "text/plain": [
       "\u001b[1;32mSpecify the specific macronutrients: Carbohydrates, Proteins, Fats.\u001b[0m\n"
      ]
     },
     "metadata": {},
     "output_type": "display_data"
    },
    {
     "data": {
      "text/html": [
       "<pre style=\"white-space:pre;overflow-x:auto;line-height:normal;font-family:Menlo,'DejaVu Sans Mono',consolas,'Courier New',monospace\">Re-apply skill_0 skill to dataset <span style=\"color: #808000; text-decoration-color: #808000\">...</span>\n",
       "</pre>\n"
      ],
      "text/plain": [
       "Re-apply skill_0 skill to dataset \u001b[33m...\u001b[0m\n"
      ]
     },
     "metadata": {},
     "output_type": "display_data"
    },
    {
     "data": {
      "text/html": [
       "<pre style=\"white-space:pre;overflow-x:auto;line-height:normal;font-family:Menlo,'DejaVu Sans Mono',consolas,'Courier New',monospace\">Applying skill: skill_0\n",
       "</pre>\n"
      ],
      "text/plain": [
       "Applying skill: skill_0\n"
      ]
     },
     "metadata": {},
     "output_type": "display_data"
    },
    {
     "data": {
      "text/html": [
       "<pre style=\"white-space:pre;overflow-x:auto;line-height:normal;font-family:Menlo,'DejaVu Sans Mono',consolas,'Courier New',monospace\"><span style=\"font-weight: bold\">[</span><span style=\"color: #008000; text-decoration-color: #008000\">'category'</span><span style=\"font-weight: bold\">]</span>\n",
       "</pre>\n"
      ],
      "text/plain": [
       "\u001b[1m[\u001b[0m\u001b[32m'category'\u001b[0m\u001b[1m]\u001b[0m\n"
      ]
     },
     "metadata": {},
     "output_type": "display_data"
    },
    {
     "name": "stderr",
     "output_type": "stream",
     "text": [
      "  0%|          | 0/3 [00:00<?, ?it/s]"
     ]
    },
    {
     "data": {
      "text/html": [
       "<pre style=\"white-space:pre;overflow-x:auto;line-height:normal;font-family:Menlo,'DejaVu Sans Mono',consolas,'Courier New',monospace\"><span style=\"font-weight: bold\">{</span><span style=\"color: #008000; text-decoration-color: #008000\">'category'</span>: <span style=\"color: #008000; text-decoration-color: #008000\">'Macronutrients'</span>, <span style=\"color: #008000; text-decoration-color: #008000\">'entities'</span>: <span style=\"color: #008000; text-decoration-color: #008000\">'Carbohydrates, Proteins, Fats'</span>, <span style=\"color: #008000; text-decoration-color: #008000\">'text'</span>: <span style=\"color: #008000; text-decoration-color: #008000\">'Carbohydrates provide quick </span>\n",
       "<span style=\"color: #008000; text-decoration-color: #008000\">energy, proteins are essential for muscle repair and growth, and fats are vital for long-term energy storage and </span>\n",
       "<span style=\"color: #008000; text-decoration-color: #008000\">cell function.'</span>, <span style=\"color: #008000; text-decoration-color: #008000\">'skill_0'</span>: <span style=\"color: #008000; text-decoration-color: #008000\">'Carbohydrates, Proteins, Fats'</span>, <span style=\"color: #008000; text-decoration-color: #008000\">'skill_1'</span>: <span style=\"color: #008000; text-decoration-color: #008000\">\"Carbohydrates, proteins, and fats are the </span>\n",
       "<span style=\"color: #008000; text-decoration-color: #008000\">three macronutrients that provide energy and are essential for the proper functioning of the body.\\n\\nCarbohydrates</span>\n",
       "<span style=\"color: #008000; text-decoration-color: #008000\">are the body's main source of energy. They are found in foods like bread, pasta, rice, and fruits. Carbohydrates </span>\n",
       "<span style=\"color: #008000; text-decoration-color: #008000\">are broken down into glucose, which is used by the body for energy.\\n\\nProteins are important for building and </span>\n",
       "<span style=\"color: #008000; text-decoration-color: #008000\">repairing tissues, as well as for the production of enzymes and hormones. They are found in foods like meat, fish, </span>\n",
       "<span style=\"color: #008000; text-decoration-color: #008000\">eggs, and legumes. Proteins are made up of amino acids, which are the building blocks of protein.\\n\\nFats are a </span>\n",
       "<span style=\"color: #008000; text-decoration-color: #008000\">concentrated source of energy and are important for the absorption of fat-soluble vitamins. They are found in foods</span>\n",
       "<span style=\"color: #008000; text-decoration-color: #008000\">like oils, butter, nuts, and fatty meats. Fats are made up of fatty acids, which can be either saturated or </span>\n",
       "<span style=\"color: #008000; text-decoration-color: #008000\">unsaturated.\\n\\nIt is important to have a balanced diet that includes all three macronutrients in the right </span>\n",
       "<span style=\"color: #008000; text-decoration-color: #008000\">proportions to maintain good health.\"</span><span style=\"font-weight: bold\">}</span>\n",
       "</pre>\n"
      ],
      "text/plain": [
       "\u001b[1m{\u001b[0m\u001b[32m'category'\u001b[0m: \u001b[32m'Macronutrients'\u001b[0m, \u001b[32m'entities'\u001b[0m: \u001b[32m'Carbohydrates, Proteins, Fats'\u001b[0m, \u001b[32m'text'\u001b[0m: \u001b[32m'Carbohydrates provide quick \u001b[0m\n",
       "\u001b[32menergy, proteins are essential for muscle repair and growth, and fats are vital for long-term energy storage and \u001b[0m\n",
       "\u001b[32mcell function.'\u001b[0m, \u001b[32m'skill_0'\u001b[0m: \u001b[32m'Carbohydrates, Proteins, Fats'\u001b[0m, \u001b[32m'skill_1'\u001b[0m: \u001b[32m\"Carbohydrates, proteins, and fats are the \u001b[0m\n",
       "\u001b[32mthree macronutrients that provide energy and are essential for the proper functioning of the body.\\n\\nCarbohydrates\u001b[0m\n",
       "\u001b[32mare the body's main source of energy. They are found in foods like bread, pasta, rice, and fruits. Carbohydrates \u001b[0m\n",
       "\u001b[32mare broken down into glucose, which is used by the body for energy.\\n\\nProteins are important for building and \u001b[0m\n",
       "\u001b[32mrepairing tissues, as well as for the production of enzymes and hormones. They are found in foods like meat, fish, \u001b[0m\n",
       "\u001b[32meggs, and legumes. Proteins are made up of amino acids, which are the building blocks of protein.\\n\\nFats are a \u001b[0m\n",
       "\u001b[32mconcentrated source of energy and are important for the absorption of fat-soluble vitamins. They are found in foods\u001b[0m\n",
       "\u001b[32mlike oils, butter, nuts, and fatty meats. Fats are made up of fatty acids, which can be either saturated or \u001b[0m\n",
       "\u001b[32munsaturated.\\n\\nIt is important to have a balanced diet that includes all three macronutrients in the right \u001b[0m\n",
       "\u001b[32mproportions to maintain good health.\"\u001b[0m\u001b[1m}\u001b[0m\n"
      ]
     },
     "metadata": {},
     "output_type": "display_data"
    },
    {
     "name": "stderr",
     "output_type": "stream",
     "text": [
      " 67%|██████▋   | 2/3 [00:05<00:02,  2.57s/it]"
     ]
    },
    {
     "data": {
      "text/html": [
       "<pre style=\"white-space:pre;overflow-x:auto;line-height:normal;font-family:Menlo,'DejaVu Sans Mono',consolas,'Courier New',monospace\"><span style=\"font-weight: bold\">{</span><span style=\"color: #008000; text-decoration-color: #008000\">'category'</span>: <span style=\"color: #008000; text-decoration-color: #008000\">'Vitamins'</span>, <span style=\"color: #008000; text-decoration-color: #008000\">'entities'</span>: <span style=\"color: #008000; text-decoration-color: #008000\">'Vitamin A, Vitamin C, Vitamin D'</span>, <span style=\"color: #008000; text-decoration-color: #008000\">'text'</span>: <span style=\"color: #008000; text-decoration-color: #008000\">'Vitamin A is crucial for good </span>\n",
       "<span style=\"color: #008000; text-decoration-color: #008000\">vision and a healthy immune system, Vitamin C helps in the repair of tissues and the enzymatic production of </span>\n",
       "<span style=\"color: #008000; text-decoration-color: #008000\">certain neurotransmitters, and Vitamin D is essential for strong bones and teeth as it helps the body absorb </span>\n",
       "<span style=\"color: #008000; text-decoration-color: #008000\">calcium.'</span>, <span style=\"color: #008000; text-decoration-color: #008000\">'skill_0'</span>: <span style=\"color: #008000; text-decoration-color: #008000\">'Vitamins'</span>, <span style=\"color: #008000; text-decoration-color: #008000\">'skill_1'</span>: <span style=\"color: #008000; text-decoration-color: #008000\">'Vitamins are organic compounds that are essential for the proper </span>\n",
       "<span style=\"color: #008000; text-decoration-color: #008000\">functioning of the body. They are micronutrients that are required in small amounts and play a crucial role in </span>\n",
       "<span style=\"color: #008000; text-decoration-color: #008000\">various physiological processes. There are 13 essential vitamins, including vitamin A, B vitamins, vitamin C, </span>\n",
       "<span style=\"color: #008000; text-decoration-color: #008000\">vitamin D, vitamin E, and vitamin K. Each vitamin has specific functions and benefits for the body. They are found </span>\n",
       "<span style=\"color: #008000; text-decoration-color: #008000\">in various foods, including fruits, vegetables, dairy products, and meats. It is important to maintain a balanced </span>\n",
       "<span style=\"color: #008000; text-decoration-color: #008000\">diet to ensure an adequate intake of vitamins.'</span><span style=\"font-weight: bold\">}</span>\n",
       "</pre>\n"
      ],
      "text/plain": [
       "\u001b[1m{\u001b[0m\u001b[32m'category'\u001b[0m: \u001b[32m'Vitamins'\u001b[0m, \u001b[32m'entities'\u001b[0m: \u001b[32m'Vitamin A, Vitamin C, Vitamin D'\u001b[0m, \u001b[32m'text'\u001b[0m: \u001b[32m'Vitamin A is crucial for good \u001b[0m\n",
       "\u001b[32mvision and a healthy immune system, Vitamin C helps in the repair of tissues and the enzymatic production of \u001b[0m\n",
       "\u001b[32mcertain neurotransmitters, and Vitamin D is essential for strong bones and teeth as it helps the body absorb \u001b[0m\n",
       "\u001b[32mcalcium.'\u001b[0m, \u001b[32m'skill_0'\u001b[0m: \u001b[32m'Vitamins'\u001b[0m, \u001b[32m'skill_1'\u001b[0m: \u001b[32m'Vitamins are organic compounds that are essential for the proper \u001b[0m\n",
       "\u001b[32mfunctioning of the body. They are micronutrients that are required in small amounts and play a crucial role in \u001b[0m\n",
       "\u001b[32mvarious physiological processes. There are 13 essential vitamins, including vitamin A, B vitamins, vitamin C, \u001b[0m\n",
       "\u001b[32mvitamin D, vitamin E, and vitamin K. Each vitamin has specific functions and benefits for the body. They are found \u001b[0m\n",
       "\u001b[32min various foods, including fruits, vegetables, dairy products, and meats. It is important to maintain a balanced \u001b[0m\n",
       "\u001b[32mdiet to ensure an adequate intake of vitamins.'\u001b[0m\u001b[1m}\u001b[0m\n"
      ]
     },
     "metadata": {},
     "output_type": "display_data"
    },
    {
     "name": "stderr",
     "output_type": "stream",
     "text": [
      "100%|██████████| 3/3 [00:07<00:00,  2.66s/it]"
     ]
    },
    {
     "data": {
      "text/html": [
       "<pre style=\"white-space:pre;overflow-x:auto;line-height:normal;font-family:Menlo,'DejaVu Sans Mono',consolas,'Courier New',monospace\"><span style=\"font-weight: bold\">{</span><span style=\"color: #008000; text-decoration-color: #008000\">'category'</span>: <span style=\"color: #008000; text-decoration-color: #008000\">'Minerals'</span>, <span style=\"color: #008000; text-decoration-color: #008000\">'entities'</span>: <span style=\"color: #008000; text-decoration-color: #008000\">'Calcium, Iron, Magnesium'</span>, <span style=\"color: #008000; text-decoration-color: #008000\">'text'</span>: <span style=\"color: #008000; text-decoration-color: #008000\">'Calcium is necessary for maintaining </span>\n",
       "<span style=\"color: #008000; text-decoration-color: #008000\">healthy bones and teeth, Iron is crucial for making red blood cells and transporting oxygen throughout the body, </span>\n",
       "<span style=\"color: #008000; text-decoration-color: #008000\">and Magnesium plays a role in over 300 enzyme reactions in the human body, including the metabolism of food, </span>\n",
       "<span style=\"color: #008000; text-decoration-color: #008000\">synthesis of fatty acids and proteins, and the transmission of nerve impulses.'</span>, <span style=\"color: #008000; text-decoration-color: #008000\">'skill_0'</span>: <span style=\"color: #008000; text-decoration-color: #008000\">'Minerals'</span>, <span style=\"color: #008000; text-decoration-color: #008000\">'skill_1'</span>: \n",
       "<span style=\"color: #008000; text-decoration-color: #008000\">'Minerals are naturally occurring inorganic substances that are solid and have a definite chemical composition. </span>\n",
       "<span style=\"color: #008000; text-decoration-color: #008000\">They are the building blocks of rocks and are classified into different groups based on their chemical composition </span>\n",
       "<span style=\"color: #008000; text-decoration-color: #008000\">and physical properties. Some common minerals include quartz, feldspar, mica, calcite, and hematite.'</span><span style=\"font-weight: bold\">}</span>\n",
       "</pre>\n"
      ],
      "text/plain": [
       "\u001b[1m{\u001b[0m\u001b[32m'category'\u001b[0m: \u001b[32m'Minerals'\u001b[0m, \u001b[32m'entities'\u001b[0m: \u001b[32m'Calcium, Iron, Magnesium'\u001b[0m, \u001b[32m'text'\u001b[0m: \u001b[32m'Calcium is necessary for maintaining \u001b[0m\n",
       "\u001b[32mhealthy bones and teeth, Iron is crucial for making red blood cells and transporting oxygen throughout the body, \u001b[0m\n",
       "\u001b[32mand Magnesium plays a role in over 300 enzyme reactions in the human body, including the metabolism of food, \u001b[0m\n",
       "\u001b[32msynthesis of fatty acids and proteins, and the transmission of nerve impulses.'\u001b[0m, \u001b[32m'skill_0'\u001b[0m: \u001b[32m'Minerals'\u001b[0m, \u001b[32m'skill_1'\u001b[0m: \n",
       "\u001b[32m'Minerals are naturally occurring inorganic substances that are solid and have a definite chemical composition. \u001b[0m\n",
       "\u001b[32mThey are the building blocks of rocks and are classified into different groups based on their chemical composition \u001b[0m\n",
       "\u001b[32mand physical properties. Some common minerals include quartz, feldspar, mica, calcite, and hematite.'\u001b[0m\u001b[1m}\u001b[0m\n"
      ]
     },
     "metadata": {},
     "output_type": "display_data"
    },
    {
     "name": "stderr",
     "output_type": "stream",
     "text": [
      "100%|██████████| 3/3 [00:12<00:00,  4.01s/it]\n"
     ]
    },
    {
     "data": {
      "text/html": [
       "<pre style=\"white-space:pre;overflow-x:auto;line-height:normal;font-family:Menlo,'DejaVu Sans Mono',consolas,'Courier New',monospace\">Applying skill: skill_1\n",
       "</pre>\n"
      ],
      "text/plain": [
       "Applying skill: skill_1\n"
      ]
     },
     "metadata": {},
     "output_type": "display_data"
    },
    {
     "data": {
      "text/html": [
       "<pre style=\"white-space:pre;overflow-x:auto;line-height:normal;font-family:Menlo,'DejaVu Sans Mono',consolas,'Courier New',monospace\"><span style=\"font-weight: bold\">[</span><span style=\"color: #008000; text-decoration-color: #008000\">'skill_0'</span><span style=\"font-weight: bold\">]</span>\n",
       "</pre>\n"
      ],
      "text/plain": [
       "\u001b[1m[\u001b[0m\u001b[32m'skill_0'\u001b[0m\u001b[1m]\u001b[0m\n"
      ]
     },
     "metadata": {},
     "output_type": "display_data"
    },
    {
     "name": "stderr",
     "output_type": "stream",
     "text": [
      "  0%|          | 0/3 [00:00<?, ?it/s]"
     ]
    },
    {
     "data": {
      "text/html": [
       "<pre style=\"white-space:pre;overflow-x:auto;line-height:normal;font-family:Menlo,'DejaVu Sans Mono',consolas,'Courier New',monospace\"><span style=\"font-weight: bold\">{</span><span style=\"color: #008000; text-decoration-color: #008000\">'category'</span>: <span style=\"color: #008000; text-decoration-color: #008000\">'Macronutrients'</span>, <span style=\"color: #008000; text-decoration-color: #008000\">'entities'</span>: <span style=\"color: #008000; text-decoration-color: #008000\">'Carbohydrates, Proteins, Fats'</span>, <span style=\"color: #008000; text-decoration-color: #008000\">'text'</span>: <span style=\"color: #008000; text-decoration-color: #008000\">'Carbohydrates provide quick </span>\n",
       "<span style=\"color: #008000; text-decoration-color: #008000\">energy, proteins are essential for muscle repair and growth, and fats are vital for long-term energy storage and </span>\n",
       "<span style=\"color: #008000; text-decoration-color: #008000\">cell function.'</span>, <span style=\"color: #008000; text-decoration-color: #008000\">'skill_0'</span>: <span style=\"color: #008000; text-decoration-color: #008000\">'Carbohydrates, Proteins, Fats'</span>, <span style=\"color: #008000; text-decoration-color: #008000\">'skill_1'</span>: <span style=\"color: #008000; text-decoration-color: #008000\">\"Carbohydrates, proteins, and fats are the </span>\n",
       "<span style=\"color: #008000; text-decoration-color: #008000\">three macronutrients that provide energy and are essential for the proper functioning of the body.\\n\\nCarbohydrates</span>\n",
       "<span style=\"color: #008000; text-decoration-color: #008000\">are the body's main source of energy. They are found in foods like bread, pasta, rice, and fruits. Carbohydrates </span>\n",
       "<span style=\"color: #008000; text-decoration-color: #008000\">are broken down into glucose, which is used by the body for energy.\\n\\nProteins are important for building and </span>\n",
       "<span style=\"color: #008000; text-decoration-color: #008000\">repairing tissues, as well as for the production of enzymes and hormones. They are found in foods like meat, fish, </span>\n",
       "<span style=\"color: #008000; text-decoration-color: #008000\">eggs, and legumes. Proteins are made up of amino acids, which are the building blocks of protein.\\n\\nFats are a </span>\n",
       "<span style=\"color: #008000; text-decoration-color: #008000\">concentrated source of energy and are important for the absorption of fat-soluble vitamins. They are found in foods</span>\n",
       "<span style=\"color: #008000; text-decoration-color: #008000\">like oils, butter, nuts, and fatty meats. Fats are made up of fatty acids, which can be either saturated or </span>\n",
       "<span style=\"color: #008000; text-decoration-color: #008000\">unsaturated.\\n\\nIt is important to have a balanced diet that includes all three macronutrients in the right </span>\n",
       "<span style=\"color: #008000; text-decoration-color: #008000\">proportions to maintain good health.\"</span><span style=\"font-weight: bold\">}</span>\n",
       "</pre>\n"
      ],
      "text/plain": [
       "\u001b[1m{\u001b[0m\u001b[32m'category'\u001b[0m: \u001b[32m'Macronutrients'\u001b[0m, \u001b[32m'entities'\u001b[0m: \u001b[32m'Carbohydrates, Proteins, Fats'\u001b[0m, \u001b[32m'text'\u001b[0m: \u001b[32m'Carbohydrates provide quick \u001b[0m\n",
       "\u001b[32menergy, proteins are essential for muscle repair and growth, and fats are vital for long-term energy storage and \u001b[0m\n",
       "\u001b[32mcell function.'\u001b[0m, \u001b[32m'skill_0'\u001b[0m: \u001b[32m'Carbohydrates, Proteins, Fats'\u001b[0m, \u001b[32m'skill_1'\u001b[0m: \u001b[32m\"Carbohydrates, proteins, and fats are the \u001b[0m\n",
       "\u001b[32mthree macronutrients that provide energy and are essential for the proper functioning of the body.\\n\\nCarbohydrates\u001b[0m\n",
       "\u001b[32mare the body's main source of energy. They are found in foods like bread, pasta, rice, and fruits. Carbohydrates \u001b[0m\n",
       "\u001b[32mare broken down into glucose, which is used by the body for energy.\\n\\nProteins are important for building and \u001b[0m\n",
       "\u001b[32mrepairing tissues, as well as for the production of enzymes and hormones. They are found in foods like meat, fish, \u001b[0m\n",
       "\u001b[32meggs, and legumes. Proteins are made up of amino acids, which are the building blocks of protein.\\n\\nFats are a \u001b[0m\n",
       "\u001b[32mconcentrated source of energy and are important for the absorption of fat-soluble vitamins. They are found in foods\u001b[0m\n",
       "\u001b[32mlike oils, butter, nuts, and fatty meats. Fats are made up of fatty acids, which can be either saturated or \u001b[0m\n",
       "\u001b[32munsaturated.\\n\\nIt is important to have a balanced diet that includes all three macronutrients in the right \u001b[0m\n",
       "\u001b[32mproportions to maintain good health.\"\u001b[0m\u001b[1m}\u001b[0m\n"
      ]
     },
     "metadata": {},
     "output_type": "display_data"
    },
    {
     "name": "stderr",
     "output_type": "stream",
     "text": [
      " 67%|██████▋   | 2/3 [00:03<00:01,  1.85s/it]"
     ]
    },
    {
     "data": {
      "text/html": [
       "<pre style=\"white-space:pre;overflow-x:auto;line-height:normal;font-family:Menlo,'DejaVu Sans Mono',consolas,'Courier New',monospace\"><span style=\"font-weight: bold\">{</span><span style=\"color: #008000; text-decoration-color: #008000\">'category'</span>: <span style=\"color: #008000; text-decoration-color: #008000\">'Vitamins'</span>, <span style=\"color: #008000; text-decoration-color: #008000\">'entities'</span>: <span style=\"color: #008000; text-decoration-color: #008000\">'Vitamin A, Vitamin C, Vitamin D'</span>, <span style=\"color: #008000; text-decoration-color: #008000\">'text'</span>: <span style=\"color: #008000; text-decoration-color: #008000\">'Vitamin A is crucial for good </span>\n",
       "<span style=\"color: #008000; text-decoration-color: #008000\">vision and a healthy immune system, Vitamin C helps in the repair of tissues and the enzymatic production of </span>\n",
       "<span style=\"color: #008000; text-decoration-color: #008000\">certain neurotransmitters, and Vitamin D is essential for strong bones and teeth as it helps the body absorb </span>\n",
       "<span style=\"color: #008000; text-decoration-color: #008000\">calcium.'</span>, <span style=\"color: #008000; text-decoration-color: #008000\">'skill_0'</span>: <span style=\"color: #008000; text-decoration-color: #008000\">'Vitamins'</span>, <span style=\"color: #008000; text-decoration-color: #008000\">'skill_1'</span>: <span style=\"color: #008000; text-decoration-color: #008000\">'Vitamins are organic compounds that are essential for the proper </span>\n",
       "<span style=\"color: #008000; text-decoration-color: #008000\">functioning of the body. They are micronutrients that are required in small amounts and play a crucial role in </span>\n",
       "<span style=\"color: #008000; text-decoration-color: #008000\">various physiological processes. There are 13 essential vitamins, including vitamin A, B vitamins, vitamin C, </span>\n",
       "<span style=\"color: #008000; text-decoration-color: #008000\">vitamin D, vitamin E, and vitamin K. Each vitamin has specific functions and benefits for the body. They are found </span>\n",
       "<span style=\"color: #008000; text-decoration-color: #008000\">in various foods, including fruits, vegetables, dairy products, and meats. It is important to maintain a balanced </span>\n",
       "<span style=\"color: #008000; text-decoration-color: #008000\">diet to ensure an adequate intake of vitamins.'</span><span style=\"font-weight: bold\">}</span>\n",
       "</pre>\n"
      ],
      "text/plain": [
       "\u001b[1m{\u001b[0m\u001b[32m'category'\u001b[0m: \u001b[32m'Vitamins'\u001b[0m, \u001b[32m'entities'\u001b[0m: \u001b[32m'Vitamin A, Vitamin C, Vitamin D'\u001b[0m, \u001b[32m'text'\u001b[0m: \u001b[32m'Vitamin A is crucial for good \u001b[0m\n",
       "\u001b[32mvision and a healthy immune system, Vitamin C helps in the repair of tissues and the enzymatic production of \u001b[0m\n",
       "\u001b[32mcertain neurotransmitters, and Vitamin D is essential for strong bones and teeth as it helps the body absorb \u001b[0m\n",
       "\u001b[32mcalcium.'\u001b[0m, \u001b[32m'skill_0'\u001b[0m: \u001b[32m'Vitamins'\u001b[0m, \u001b[32m'skill_1'\u001b[0m: \u001b[32m'Vitamins are organic compounds that are essential for the proper \u001b[0m\n",
       "\u001b[32mfunctioning of the body. They are micronutrients that are required in small amounts and play a crucial role in \u001b[0m\n",
       "\u001b[32mvarious physiological processes. There are 13 essential vitamins, including vitamin A, B vitamins, vitamin C, \u001b[0m\n",
       "\u001b[32mvitamin D, vitamin E, and vitamin K. Each vitamin has specific functions and benefits for the body. They are found \u001b[0m\n",
       "\u001b[32min various foods, including fruits, vegetables, dairy products, and meats. It is important to maintain a balanced \u001b[0m\n",
       "\u001b[32mdiet to ensure an adequate intake of vitamins.'\u001b[0m\u001b[1m}\u001b[0m\n"
      ]
     },
     "metadata": {},
     "output_type": "display_data"
    },
    {
     "name": "stderr",
     "output_type": "stream",
     "text": [
      "100%|██████████| 3/3 [00:27<00:00, 10.82s/it]"
     ]
    },
    {
     "data": {
      "text/html": [
       "<pre style=\"white-space:pre;overflow-x:auto;line-height:normal;font-family:Menlo,'DejaVu Sans Mono',consolas,'Courier New',monospace\"><span style=\"font-weight: bold\">{</span><span style=\"color: #008000; text-decoration-color: #008000\">'category'</span>: <span style=\"color: #008000; text-decoration-color: #008000\">'Minerals'</span>, <span style=\"color: #008000; text-decoration-color: #008000\">'entities'</span>: <span style=\"color: #008000; text-decoration-color: #008000\">'Calcium, Iron, Magnesium'</span>, <span style=\"color: #008000; text-decoration-color: #008000\">'text'</span>: <span style=\"color: #008000; text-decoration-color: #008000\">'Calcium is necessary for maintaining </span>\n",
       "<span style=\"color: #008000; text-decoration-color: #008000\">healthy bones and teeth, Iron is crucial for making red blood cells and transporting oxygen throughout the body, </span>\n",
       "<span style=\"color: #008000; text-decoration-color: #008000\">and Magnesium plays a role in over 300 enzyme reactions in the human body, including the metabolism of food, </span>\n",
       "<span style=\"color: #008000; text-decoration-color: #008000\">synthesis of fatty acids and proteins, and the transmission of nerve impulses.'</span>, <span style=\"color: #008000; text-decoration-color: #008000\">'skill_0'</span>: <span style=\"color: #008000; text-decoration-color: #008000\">'Carbohydrates, </span>\n",
       "<span style=\"color: #008000; text-decoration-color: #008000\">Proteins, Fats'</span>, <span style=\"color: #008000; text-decoration-color: #008000\">'skill_1'</span>: <span style=\"color: #008000; text-decoration-color: #008000\">'Minerals are naturally occurring inorganic substances that are solid and have a </span>\n",
       "<span style=\"color: #008000; text-decoration-color: #008000\">definite chemical composition. They are the building blocks of rocks and are classified into different groups based</span>\n",
       "<span style=\"color: #008000; text-decoration-color: #008000\">on their chemical composition and physical properties. Some common minerals include quartz, feldspar, mica, </span>\n",
       "<span style=\"color: #008000; text-decoration-color: #008000\">calcite, and hematite.'</span><span style=\"font-weight: bold\">}</span>\n",
       "</pre>\n"
      ],
      "text/plain": [
       "\u001b[1m{\u001b[0m\u001b[32m'category'\u001b[0m: \u001b[32m'Minerals'\u001b[0m, \u001b[32m'entities'\u001b[0m: \u001b[32m'Calcium, Iron, Magnesium'\u001b[0m, \u001b[32m'text'\u001b[0m: \u001b[32m'Calcium is necessary for maintaining \u001b[0m\n",
       "\u001b[32mhealthy bones and teeth, Iron is crucial for making red blood cells and transporting oxygen throughout the body, \u001b[0m\n",
       "\u001b[32mand Magnesium plays a role in over 300 enzyme reactions in the human body, including the metabolism of food, \u001b[0m\n",
       "\u001b[32msynthesis of fatty acids and proteins, and the transmission of nerve impulses.'\u001b[0m, \u001b[32m'skill_0'\u001b[0m: \u001b[32m'Carbohydrates, \u001b[0m\n",
       "\u001b[32mProteins, Fats'\u001b[0m, \u001b[32m'skill_1'\u001b[0m: \u001b[32m'Minerals are naturally occurring inorganic substances that are solid and have a \u001b[0m\n",
       "\u001b[32mdefinite chemical composition. They are the building blocks of rocks and are classified into different groups based\u001b[0m\n",
       "\u001b[32mon their chemical composition and physical properties. Some common minerals include quartz, feldspar, mica, \u001b[0m\n",
       "\u001b[32mcalcite, and hematite.'\u001b[0m\u001b[1m}\u001b[0m\n"
      ]
     },
     "metadata": {},
     "output_type": "display_data"
    },
    {
     "name": "stderr",
     "output_type": "stream",
     "text": [
      "100%|██████████| 3/3 [00:45<00:00, 15.16s/it]\n"
     ]
    },
    {
     "data": {
      "text/html": [
       "<pre style=\"white-space:pre;overflow-x:auto;line-height:normal;font-family:Menlo,'DejaVu Sans Mono',consolas,'Courier New',monospace\">\n",
       "\n",
       "=&gt; Iteration #<span style=\"color: #008080; text-decoration-color: #008080; font-weight: bold\">3</span>: Comparing to ground truth, analyzing and improving <span style=\"color: #808000; text-decoration-color: #808000\">...</span>\n",
       "</pre>\n"
      ],
      "text/plain": [
       "\n",
       "\n",
       "=> Iteration #\u001b[1;36m3\u001b[0m: Comparing to ground truth, analyzing and improving \u001b[33m...\u001b[0m\n"
      ]
     },
     "metadata": {},
     "output_type": "display_data"
    },
    {
     "data": {
      "text/html": [
       "<pre style=\"white-space:pre;overflow-x:auto;line-height:normal;font-family:Menlo,'DejaVu Sans Mono',consolas,'Courier New',monospace\"><span style=\"color: #008080; text-decoration-color: #008080; font-weight: bold\">0</span>      Carbohydrates, Proteins, Fats\n",
       "<span style=\"color: #008080; text-decoration-color: #008080; font-weight: bold\">1</span>    Vitamin A, Vitamin C, Vitamin D\n",
       "<span style=\"color: #008080; text-decoration-color: #008080; font-weight: bold\">2</span>           Calcium, Iron, Magnesium\n",
       "Name: entities, dtype: object\n",
       "</pre>\n"
      ],
      "text/plain": [
       "\u001b[1;36m0\u001b[0m      Carbohydrates, Proteins, Fats\n",
       "\u001b[1;36m1\u001b[0m    Vitamin A, Vitamin C, Vitamin D\n",
       "\u001b[1;36m2\u001b[0m           Calcium, Iron, Magnesium\n",
       "Name: entities, dtype: object\n"
      ]
     },
     "metadata": {},
     "output_type": "display_data"
    },
    {
     "data": {
      "text/html": [
       "<pre style=\"white-space:pre;overflow-x:auto;line-height:normal;font-family:Menlo,'DejaVu Sans Mono',consolas,'Courier New',monospace\"><span style=\"color: #008080; text-decoration-color: #008080; font-weight: bold\">0</span>    Carbohydrates, Proteins, Fats\n",
       "<span style=\"color: #008080; text-decoration-color: #008080; font-weight: bold\">1</span>                         Vitamins\n",
       "<span style=\"color: #008080; text-decoration-color: #008080; font-weight: bold\">2</span>    Carbohydrates, Proteins, Fats\n",
       "Name: skill_0, dtype: object\n",
       "</pre>\n"
      ],
      "text/plain": [
       "\u001b[1;36m0\u001b[0m    Carbohydrates, Proteins, Fats\n",
       "\u001b[1;36m1\u001b[0m                         Vitamins\n",
       "\u001b[1;36m2\u001b[0m    Carbohydrates, Proteins, Fats\n",
       "Name: skill_0, dtype: object\n"
      ]
     },
     "metadata": {},
     "output_type": "display_data"
    },
    {
     "data": {
      "text/html": [
       "<pre style=\"white-space:pre;overflow-x:auto;line-height:normal;font-family:Menlo,'DejaVu Sans Mono',consolas,'Courier New',monospace\"><span style=\"color: #008080; text-decoration-color: #008080; font-weight: bold\">0</span>    Carbohydrates provide quick energy, proteins a<span style=\"color: #808000; text-decoration-color: #808000\">...</span>\n",
       "<span style=\"color: #008080; text-decoration-color: #008080; font-weight: bold\">1</span>    Vitamin A is crucial for good vision and a hea<span style=\"color: #808000; text-decoration-color: #808000\">...</span>\n",
       "<span style=\"color: #008080; text-decoration-color: #008080; font-weight: bold\">2</span>    Calcium is necessary for maintaining healthy b<span style=\"color: #808000; text-decoration-color: #808000\">...</span>\n",
       "Name: text, dtype: object\n",
       "</pre>\n"
      ],
      "text/plain": [
       "\u001b[1;36m0\u001b[0m    Carbohydrates provide quick energy, proteins a\u001b[33m...\u001b[0m\n",
       "\u001b[1;36m1\u001b[0m    Vitamin A is crucial for good vision and a hea\u001b[33m...\u001b[0m\n",
       "\u001b[1;36m2\u001b[0m    Calcium is necessary for maintaining healthy b\u001b[33m...\u001b[0m\n",
       "Name: text, dtype: object\n"
      ]
     },
     "metadata": {},
     "output_type": "display_data"
    },
    {
     "data": {
      "text/html": [
       "<pre style=\"white-space:pre;overflow-x:auto;line-height:normal;font-family:Menlo,'DejaVu Sans Mono',consolas,'Courier New',monospace\"><span style=\"color: #008080; text-decoration-color: #008080; font-weight: bold\">0</span>                        Carbohydrates, Proteins, Fats\n",
       "<span style=\"color: #008080; text-decoration-color: #008080; font-weight: bold\">1</span>    Vitamins are organic compounds that are essent<span style=\"color: #808000; text-decoration-color: #808000\">...</span>\n",
       "<span style=\"color: #008080; text-decoration-color: #008080; font-weight: bold\">2</span>                        Carbohydrates, Proteins, Fats\n",
       "Name: skill_1, dtype: object\n",
       "</pre>\n"
      ],
      "text/plain": [
       "\u001b[1;36m0\u001b[0m                        Carbohydrates, Proteins, Fats\n",
       "\u001b[1;36m1\u001b[0m    Vitamins are organic compounds that are essent\u001b[33m...\u001b[0m\n",
       "\u001b[1;36m2\u001b[0m                        Carbohydrates, Proteins, Fats\n",
       "Name: skill_1, dtype: object\n"
      ]
     },
     "metadata": {},
     "output_type": "display_data"
    },
    {
     "data": {
      "text/html": [
       "<pre style=\"white-space:pre;overflow-x:auto;line-height:normal;font-family:Menlo,'DejaVu Sans Mono',consolas,'Courier New',monospace\">Comparing predictions to ground truth data <span style=\"color: #808000; text-decoration-color: #808000\">...</span>\n",
       "</pre>\n"
      ],
      "text/plain": [
       "Comparing predictions to ground truth data \u001b[33m...\u001b[0m\n"
      ]
     },
     "metadata": {},
     "output_type": "display_data"
    },
    {
     "data": {
      "text/html": [
       "<pre style=\"white-space:pre;overflow-x:auto;line-height:normal;font-family:Menlo,'DejaVu Sans Mono',consolas,'Courier New',monospace\">                                                                                                                   \n",
       " <span style=\"color: #800080; text-decoration-color: #800080; font-weight: bold\"> category       </span> <span style=\"color: #800080; text-decoration-color: #800080; font-weight: bold\"> entities         </span> <span style=\"color: #800080; text-decoration-color: #800080; font-weight: bold\"> text             </span> <span style=\"color: #800080; text-decoration-color: #800080; font-weight: bold\"> skill_0           </span> <span style=\"color: #800080; text-decoration-color: #800080; font-weight: bold\"> skill_1          </span> <span style=\"color: #800080; text-decoration-color: #800080; font-weight: bold\"> skill_0 </span> <span style=\"color: #800080; text-decoration-color: #800080; font-weight: bold\"> skill_1 </span> \n",
       " ───────────────────────────────────────────────────────────────────────────────────────────────────────────────── \n",
       "  Macronutrients   Carbohydrates,     Carbohydrates      Carbohydrates,      Carbohydrates,     True      False    \n",
       "                   Proteins, Fats     provide quick      Proteins, Fats      Proteins, Fats                        \n",
       "                                      energy, proteins                                                             \n",
       "                                      are essential                                                                \n",
       "                                      for muscle                                                                   \n",
       "                                      repair and                                                                   \n",
       "                                      growth, and fats                                                             \n",
       "                                      are vital for                                                                \n",
       "                                      long-term energy                                                             \n",
       "                                      storage and cell                                                             \n",
       "                                      function.                                                                    \n",
       " <span style=\"color: #7f7f7f; text-decoration-color: #7f7f7f\"> Vitamins       </span> <span style=\"color: #7f7f7f; text-decoration-color: #7f7f7f\"> Vitamin A,       </span> <span style=\"color: #7f7f7f; text-decoration-color: #7f7f7f\"> Vitamin A is     </span> <span style=\"color: #7f7f7f; text-decoration-color: #7f7f7f\"> Vitamins          </span> <span style=\"color: #7f7f7f; text-decoration-color: #7f7f7f\"> Vitamins are     </span> <span style=\"color: #7f7f7f; text-decoration-color: #7f7f7f\"> False   </span> <span style=\"color: #7f7f7f; text-decoration-color: #7f7f7f\"> False   </span> \n",
       " <span style=\"color: #7f7f7f; text-decoration-color: #7f7f7f\">                </span> <span style=\"color: #7f7f7f; text-decoration-color: #7f7f7f\"> Vitamin C,       </span> <span style=\"color: #7f7f7f; text-decoration-color: #7f7f7f\"> crucial for good </span> <span style=\"color: #7f7f7f; text-decoration-color: #7f7f7f\">                   </span> <span style=\"color: #7f7f7f; text-decoration-color: #7f7f7f\"> organic          </span> <span style=\"color: #7f7f7f; text-decoration-color: #7f7f7f\">         </span> <span style=\"color: #7f7f7f; text-decoration-color: #7f7f7f\">         </span> \n",
       " <span style=\"color: #7f7f7f; text-decoration-color: #7f7f7f\">                </span> <span style=\"color: #7f7f7f; text-decoration-color: #7f7f7f\"> Vitamin D        </span> <span style=\"color: #7f7f7f; text-decoration-color: #7f7f7f\"> vision and a     </span> <span style=\"color: #7f7f7f; text-decoration-color: #7f7f7f\">                   </span> <span style=\"color: #7f7f7f; text-decoration-color: #7f7f7f\"> compounds that   </span> <span style=\"color: #7f7f7f; text-decoration-color: #7f7f7f\">         </span> <span style=\"color: #7f7f7f; text-decoration-color: #7f7f7f\">         </span> \n",
       " <span style=\"color: #7f7f7f; text-decoration-color: #7f7f7f\">                </span> <span style=\"color: #7f7f7f; text-decoration-color: #7f7f7f\">                  </span> <span style=\"color: #7f7f7f; text-decoration-color: #7f7f7f\"> healthy immune   </span> <span style=\"color: #7f7f7f; text-decoration-color: #7f7f7f\">                   </span> <span style=\"color: #7f7f7f; text-decoration-color: #7f7f7f\"> are essential    </span> <span style=\"color: #7f7f7f; text-decoration-color: #7f7f7f\">         </span> <span style=\"color: #7f7f7f; text-decoration-color: #7f7f7f\">         </span> \n",
       " <span style=\"color: #7f7f7f; text-decoration-color: #7f7f7f\">                </span> <span style=\"color: #7f7f7f; text-decoration-color: #7f7f7f\">                  </span> <span style=\"color: #7f7f7f; text-decoration-color: #7f7f7f\"> system, Vitamin  </span> <span style=\"color: #7f7f7f; text-decoration-color: #7f7f7f\">                   </span> <span style=\"color: #7f7f7f; text-decoration-color: #7f7f7f\"> for the proper   </span> <span style=\"color: #7f7f7f; text-decoration-color: #7f7f7f\">         </span> <span style=\"color: #7f7f7f; text-decoration-color: #7f7f7f\">         </span> \n",
       " <span style=\"color: #7f7f7f; text-decoration-color: #7f7f7f\">                </span> <span style=\"color: #7f7f7f; text-decoration-color: #7f7f7f\">                  </span> <span style=\"color: #7f7f7f; text-decoration-color: #7f7f7f\"> C helps in the   </span> <span style=\"color: #7f7f7f; text-decoration-color: #7f7f7f\">                   </span> <span style=\"color: #7f7f7f; text-decoration-color: #7f7f7f\"> functioning of   </span> <span style=\"color: #7f7f7f; text-decoration-color: #7f7f7f\">         </span> <span style=\"color: #7f7f7f; text-decoration-color: #7f7f7f\">         </span> \n",
       " <span style=\"color: #7f7f7f; text-decoration-color: #7f7f7f\">                </span> <span style=\"color: #7f7f7f; text-decoration-color: #7f7f7f\">                  </span> <span style=\"color: #7f7f7f; text-decoration-color: #7f7f7f\"> repair of        </span> <span style=\"color: #7f7f7f; text-decoration-color: #7f7f7f\">                   </span> <span style=\"color: #7f7f7f; text-decoration-color: #7f7f7f\"> the body. They   </span> <span style=\"color: #7f7f7f; text-decoration-color: #7f7f7f\">         </span> <span style=\"color: #7f7f7f; text-decoration-color: #7f7f7f\">         </span> \n",
       " <span style=\"color: #7f7f7f; text-decoration-color: #7f7f7f\">                </span> <span style=\"color: #7f7f7f; text-decoration-color: #7f7f7f\">                  </span> <span style=\"color: #7f7f7f; text-decoration-color: #7f7f7f\"> tissues and the  </span> <span style=\"color: #7f7f7f; text-decoration-color: #7f7f7f\">                   </span> <span style=\"color: #7f7f7f; text-decoration-color: #7f7f7f\"> are              </span> <span style=\"color: #7f7f7f; text-decoration-color: #7f7f7f\">         </span> <span style=\"color: #7f7f7f; text-decoration-color: #7f7f7f\">         </span> \n",
       " <span style=\"color: #7f7f7f; text-decoration-color: #7f7f7f\">                </span> <span style=\"color: #7f7f7f; text-decoration-color: #7f7f7f\">                  </span> <span style=\"color: #7f7f7f; text-decoration-color: #7f7f7f\"> enzymatic        </span> <span style=\"color: #7f7f7f; text-decoration-color: #7f7f7f\">                   </span> <span style=\"color: #7f7f7f; text-decoration-color: #7f7f7f\"> micronutrients   </span> <span style=\"color: #7f7f7f; text-decoration-color: #7f7f7f\">         </span> <span style=\"color: #7f7f7f; text-decoration-color: #7f7f7f\">         </span> \n",
       " <span style=\"color: #7f7f7f; text-decoration-color: #7f7f7f\">                </span> <span style=\"color: #7f7f7f; text-decoration-color: #7f7f7f\">                  </span> <span style=\"color: #7f7f7f; text-decoration-color: #7f7f7f\"> production of    </span> <span style=\"color: #7f7f7f; text-decoration-color: #7f7f7f\">                   </span> <span style=\"color: #7f7f7f; text-decoration-color: #7f7f7f\"> that are         </span> <span style=\"color: #7f7f7f; text-decoration-color: #7f7f7f\">         </span> <span style=\"color: #7f7f7f; text-decoration-color: #7f7f7f\">         </span> \n",
       " <span style=\"color: #7f7f7f; text-decoration-color: #7f7f7f\">                </span> <span style=\"color: #7f7f7f; text-decoration-color: #7f7f7f\">                  </span> <span style=\"color: #7f7f7f; text-decoration-color: #7f7f7f\"> certain          </span> <span style=\"color: #7f7f7f; text-decoration-color: #7f7f7f\">                   </span> <span style=\"color: #7f7f7f; text-decoration-color: #7f7f7f\"> required in      </span> <span style=\"color: #7f7f7f; text-decoration-color: #7f7f7f\">         </span> <span style=\"color: #7f7f7f; text-decoration-color: #7f7f7f\">         </span> \n",
       " <span style=\"color: #7f7f7f; text-decoration-color: #7f7f7f\">                </span> <span style=\"color: #7f7f7f; text-decoration-color: #7f7f7f\">                  </span> <span style=\"color: #7f7f7f; text-decoration-color: #7f7f7f\"> neurotransmitte… </span> <span style=\"color: #7f7f7f; text-decoration-color: #7f7f7f\">                   </span> <span style=\"color: #7f7f7f; text-decoration-color: #7f7f7f\"> small amounts    </span> <span style=\"color: #7f7f7f; text-decoration-color: #7f7f7f\">         </span> <span style=\"color: #7f7f7f; text-decoration-color: #7f7f7f\">         </span> \n",
       " <span style=\"color: #7f7f7f; text-decoration-color: #7f7f7f\">                </span> <span style=\"color: #7f7f7f; text-decoration-color: #7f7f7f\">                  </span> <span style=\"color: #7f7f7f; text-decoration-color: #7f7f7f\"> and Vitamin D is </span> <span style=\"color: #7f7f7f; text-decoration-color: #7f7f7f\">                   </span> <span style=\"color: #7f7f7f; text-decoration-color: #7f7f7f\"> and play a       </span> <span style=\"color: #7f7f7f; text-decoration-color: #7f7f7f\">         </span> <span style=\"color: #7f7f7f; text-decoration-color: #7f7f7f\">         </span> \n",
       " <span style=\"color: #7f7f7f; text-decoration-color: #7f7f7f\">                </span> <span style=\"color: #7f7f7f; text-decoration-color: #7f7f7f\">                  </span> <span style=\"color: #7f7f7f; text-decoration-color: #7f7f7f\"> essential for    </span> <span style=\"color: #7f7f7f; text-decoration-color: #7f7f7f\">                   </span> <span style=\"color: #7f7f7f; text-decoration-color: #7f7f7f\"> crucial role in  </span> <span style=\"color: #7f7f7f; text-decoration-color: #7f7f7f\">         </span> <span style=\"color: #7f7f7f; text-decoration-color: #7f7f7f\">         </span> \n",
       " <span style=\"color: #7f7f7f; text-decoration-color: #7f7f7f\">                </span> <span style=\"color: #7f7f7f; text-decoration-color: #7f7f7f\">                  </span> <span style=\"color: #7f7f7f; text-decoration-color: #7f7f7f\"> strong bones and </span> <span style=\"color: #7f7f7f; text-decoration-color: #7f7f7f\">                   </span> <span style=\"color: #7f7f7f; text-decoration-color: #7f7f7f\"> various          </span> <span style=\"color: #7f7f7f; text-decoration-color: #7f7f7f\">         </span> <span style=\"color: #7f7f7f; text-decoration-color: #7f7f7f\">         </span> \n",
       " <span style=\"color: #7f7f7f; text-decoration-color: #7f7f7f\">                </span> <span style=\"color: #7f7f7f; text-decoration-color: #7f7f7f\">                  </span> <span style=\"color: #7f7f7f; text-decoration-color: #7f7f7f\"> teeth as it      </span> <span style=\"color: #7f7f7f; text-decoration-color: #7f7f7f\">                   </span> <span style=\"color: #7f7f7f; text-decoration-color: #7f7f7f\"> physiological    </span> <span style=\"color: #7f7f7f; text-decoration-color: #7f7f7f\">         </span> <span style=\"color: #7f7f7f; text-decoration-color: #7f7f7f\">         </span> \n",
       " <span style=\"color: #7f7f7f; text-decoration-color: #7f7f7f\">                </span> <span style=\"color: #7f7f7f; text-decoration-color: #7f7f7f\">                  </span> <span style=\"color: #7f7f7f; text-decoration-color: #7f7f7f\"> helps the body   </span> <span style=\"color: #7f7f7f; text-decoration-color: #7f7f7f\">                   </span> <span style=\"color: #7f7f7f; text-decoration-color: #7f7f7f\"> processes. There </span> <span style=\"color: #7f7f7f; text-decoration-color: #7f7f7f\">         </span> <span style=\"color: #7f7f7f; text-decoration-color: #7f7f7f\">         </span> \n",
       " <span style=\"color: #7f7f7f; text-decoration-color: #7f7f7f\">                </span> <span style=\"color: #7f7f7f; text-decoration-color: #7f7f7f\">                  </span> <span style=\"color: #7f7f7f; text-decoration-color: #7f7f7f\"> absorb calcium.  </span> <span style=\"color: #7f7f7f; text-decoration-color: #7f7f7f\">                   </span> <span style=\"color: #7f7f7f; text-decoration-color: #7f7f7f\"> are 13 essential </span> <span style=\"color: #7f7f7f; text-decoration-color: #7f7f7f\">         </span> <span style=\"color: #7f7f7f; text-decoration-color: #7f7f7f\">         </span> \n",
       " <span style=\"color: #7f7f7f; text-decoration-color: #7f7f7f\">                </span> <span style=\"color: #7f7f7f; text-decoration-color: #7f7f7f\">                  </span> <span style=\"color: #7f7f7f; text-decoration-color: #7f7f7f\">                  </span> <span style=\"color: #7f7f7f; text-decoration-color: #7f7f7f\">                   </span> <span style=\"color: #7f7f7f; text-decoration-color: #7f7f7f\"> vitamins,        </span> <span style=\"color: #7f7f7f; text-decoration-color: #7f7f7f\">         </span> <span style=\"color: #7f7f7f; text-decoration-color: #7f7f7f\">         </span> \n",
       " <span style=\"color: #7f7f7f; text-decoration-color: #7f7f7f\">                </span> <span style=\"color: #7f7f7f; text-decoration-color: #7f7f7f\">                  </span> <span style=\"color: #7f7f7f; text-decoration-color: #7f7f7f\">                  </span> <span style=\"color: #7f7f7f; text-decoration-color: #7f7f7f\">                   </span> <span style=\"color: #7f7f7f; text-decoration-color: #7f7f7f\"> including        </span> <span style=\"color: #7f7f7f; text-decoration-color: #7f7f7f\">         </span> <span style=\"color: #7f7f7f; text-decoration-color: #7f7f7f\">         </span> \n",
       " <span style=\"color: #7f7f7f; text-decoration-color: #7f7f7f\">                </span> <span style=\"color: #7f7f7f; text-decoration-color: #7f7f7f\">                  </span> <span style=\"color: #7f7f7f; text-decoration-color: #7f7f7f\">                  </span> <span style=\"color: #7f7f7f; text-decoration-color: #7f7f7f\">                   </span> <span style=\"color: #7f7f7f; text-decoration-color: #7f7f7f\"> vitamin A, B     </span> <span style=\"color: #7f7f7f; text-decoration-color: #7f7f7f\">         </span> <span style=\"color: #7f7f7f; text-decoration-color: #7f7f7f\">         </span> \n",
       " <span style=\"color: #7f7f7f; text-decoration-color: #7f7f7f\">                </span> <span style=\"color: #7f7f7f; text-decoration-color: #7f7f7f\">                  </span> <span style=\"color: #7f7f7f; text-decoration-color: #7f7f7f\">                  </span> <span style=\"color: #7f7f7f; text-decoration-color: #7f7f7f\">                   </span> <span style=\"color: #7f7f7f; text-decoration-color: #7f7f7f\"> vitamins,        </span> <span style=\"color: #7f7f7f; text-decoration-color: #7f7f7f\">         </span> <span style=\"color: #7f7f7f; text-decoration-color: #7f7f7f\">         </span> \n",
       " <span style=\"color: #7f7f7f; text-decoration-color: #7f7f7f\">                </span> <span style=\"color: #7f7f7f; text-decoration-color: #7f7f7f\">                  </span> <span style=\"color: #7f7f7f; text-decoration-color: #7f7f7f\">                  </span> <span style=\"color: #7f7f7f; text-decoration-color: #7f7f7f\">                   </span> <span style=\"color: #7f7f7f; text-decoration-color: #7f7f7f\"> vitamin C,       </span> <span style=\"color: #7f7f7f; text-decoration-color: #7f7f7f\">         </span> <span style=\"color: #7f7f7f; text-decoration-color: #7f7f7f\">         </span> \n",
       " <span style=\"color: #7f7f7f; text-decoration-color: #7f7f7f\">                </span> <span style=\"color: #7f7f7f; text-decoration-color: #7f7f7f\">                  </span> <span style=\"color: #7f7f7f; text-decoration-color: #7f7f7f\">                  </span> <span style=\"color: #7f7f7f; text-decoration-color: #7f7f7f\">                   </span> <span style=\"color: #7f7f7f; text-decoration-color: #7f7f7f\"> vitamin D,       </span> <span style=\"color: #7f7f7f; text-decoration-color: #7f7f7f\">         </span> <span style=\"color: #7f7f7f; text-decoration-color: #7f7f7f\">         </span> \n",
       " <span style=\"color: #7f7f7f; text-decoration-color: #7f7f7f\">                </span> <span style=\"color: #7f7f7f; text-decoration-color: #7f7f7f\">                  </span> <span style=\"color: #7f7f7f; text-decoration-color: #7f7f7f\">                  </span> <span style=\"color: #7f7f7f; text-decoration-color: #7f7f7f\">                   </span> <span style=\"color: #7f7f7f; text-decoration-color: #7f7f7f\"> vitamin E, and   </span> <span style=\"color: #7f7f7f; text-decoration-color: #7f7f7f\">         </span> <span style=\"color: #7f7f7f; text-decoration-color: #7f7f7f\">         </span> \n",
       " <span style=\"color: #7f7f7f; text-decoration-color: #7f7f7f\">                </span> <span style=\"color: #7f7f7f; text-decoration-color: #7f7f7f\">                  </span> <span style=\"color: #7f7f7f; text-decoration-color: #7f7f7f\">                  </span> <span style=\"color: #7f7f7f; text-decoration-color: #7f7f7f\">                   </span> <span style=\"color: #7f7f7f; text-decoration-color: #7f7f7f\"> vitamin K. Each  </span> <span style=\"color: #7f7f7f; text-decoration-color: #7f7f7f\">         </span> <span style=\"color: #7f7f7f; text-decoration-color: #7f7f7f\">         </span> \n",
       " <span style=\"color: #7f7f7f; text-decoration-color: #7f7f7f\">                </span> <span style=\"color: #7f7f7f; text-decoration-color: #7f7f7f\">                  </span> <span style=\"color: #7f7f7f; text-decoration-color: #7f7f7f\">                  </span> <span style=\"color: #7f7f7f; text-decoration-color: #7f7f7f\">                   </span> <span style=\"color: #7f7f7f; text-decoration-color: #7f7f7f\"> vitamin has      </span> <span style=\"color: #7f7f7f; text-decoration-color: #7f7f7f\">         </span> <span style=\"color: #7f7f7f; text-decoration-color: #7f7f7f\">         </span> \n",
       " <span style=\"color: #7f7f7f; text-decoration-color: #7f7f7f\">                </span> <span style=\"color: #7f7f7f; text-decoration-color: #7f7f7f\">                  </span> <span style=\"color: #7f7f7f; text-decoration-color: #7f7f7f\">                  </span> <span style=\"color: #7f7f7f; text-decoration-color: #7f7f7f\">                   </span> <span style=\"color: #7f7f7f; text-decoration-color: #7f7f7f\"> specific         </span> <span style=\"color: #7f7f7f; text-decoration-color: #7f7f7f\">         </span> <span style=\"color: #7f7f7f; text-decoration-color: #7f7f7f\">         </span> \n",
       " <span style=\"color: #7f7f7f; text-decoration-color: #7f7f7f\">                </span> <span style=\"color: #7f7f7f; text-decoration-color: #7f7f7f\">                  </span> <span style=\"color: #7f7f7f; text-decoration-color: #7f7f7f\">                  </span> <span style=\"color: #7f7f7f; text-decoration-color: #7f7f7f\">                   </span> <span style=\"color: #7f7f7f; text-decoration-color: #7f7f7f\"> functions and    </span> <span style=\"color: #7f7f7f; text-decoration-color: #7f7f7f\">         </span> <span style=\"color: #7f7f7f; text-decoration-color: #7f7f7f\">         </span> \n",
       " <span style=\"color: #7f7f7f; text-decoration-color: #7f7f7f\">                </span> <span style=\"color: #7f7f7f; text-decoration-color: #7f7f7f\">                  </span> <span style=\"color: #7f7f7f; text-decoration-color: #7f7f7f\">                  </span> <span style=\"color: #7f7f7f; text-decoration-color: #7f7f7f\">                   </span> <span style=\"color: #7f7f7f; text-decoration-color: #7f7f7f\"> benefits for the </span> <span style=\"color: #7f7f7f; text-decoration-color: #7f7f7f\">         </span> <span style=\"color: #7f7f7f; text-decoration-color: #7f7f7f\">         </span> \n",
       " <span style=\"color: #7f7f7f; text-decoration-color: #7f7f7f\">                </span> <span style=\"color: #7f7f7f; text-decoration-color: #7f7f7f\">                  </span> <span style=\"color: #7f7f7f; text-decoration-color: #7f7f7f\">                  </span> <span style=\"color: #7f7f7f; text-decoration-color: #7f7f7f\">                   </span> <span style=\"color: #7f7f7f; text-decoration-color: #7f7f7f\"> body. They are   </span> <span style=\"color: #7f7f7f; text-decoration-color: #7f7f7f\">         </span> <span style=\"color: #7f7f7f; text-decoration-color: #7f7f7f\">         </span> \n",
       " <span style=\"color: #7f7f7f; text-decoration-color: #7f7f7f\">                </span> <span style=\"color: #7f7f7f; text-decoration-color: #7f7f7f\">                  </span> <span style=\"color: #7f7f7f; text-decoration-color: #7f7f7f\">                  </span> <span style=\"color: #7f7f7f; text-decoration-color: #7f7f7f\">                   </span> <span style=\"color: #7f7f7f; text-decoration-color: #7f7f7f\"> found in various </span> <span style=\"color: #7f7f7f; text-decoration-color: #7f7f7f\">         </span> <span style=\"color: #7f7f7f; text-decoration-color: #7f7f7f\">         </span> \n",
       " <span style=\"color: #7f7f7f; text-decoration-color: #7f7f7f\">                </span> <span style=\"color: #7f7f7f; text-decoration-color: #7f7f7f\">                  </span> <span style=\"color: #7f7f7f; text-decoration-color: #7f7f7f\">                  </span> <span style=\"color: #7f7f7f; text-decoration-color: #7f7f7f\">                   </span> <span style=\"color: #7f7f7f; text-decoration-color: #7f7f7f\"> foods, including </span> <span style=\"color: #7f7f7f; text-decoration-color: #7f7f7f\">         </span> <span style=\"color: #7f7f7f; text-decoration-color: #7f7f7f\">         </span> \n",
       " <span style=\"color: #7f7f7f; text-decoration-color: #7f7f7f\">                </span> <span style=\"color: #7f7f7f; text-decoration-color: #7f7f7f\">                  </span> <span style=\"color: #7f7f7f; text-decoration-color: #7f7f7f\">                  </span> <span style=\"color: #7f7f7f; text-decoration-color: #7f7f7f\">                   </span> <span style=\"color: #7f7f7f; text-decoration-color: #7f7f7f\"> fruits,          </span> <span style=\"color: #7f7f7f; text-decoration-color: #7f7f7f\">         </span> <span style=\"color: #7f7f7f; text-decoration-color: #7f7f7f\">         </span> \n",
       " <span style=\"color: #7f7f7f; text-decoration-color: #7f7f7f\">                </span> <span style=\"color: #7f7f7f; text-decoration-color: #7f7f7f\">                  </span> <span style=\"color: #7f7f7f; text-decoration-color: #7f7f7f\">                  </span> <span style=\"color: #7f7f7f; text-decoration-color: #7f7f7f\">                   </span> <span style=\"color: #7f7f7f; text-decoration-color: #7f7f7f\"> vegetables,      </span> <span style=\"color: #7f7f7f; text-decoration-color: #7f7f7f\">         </span> <span style=\"color: #7f7f7f; text-decoration-color: #7f7f7f\">         </span> \n",
       " <span style=\"color: #7f7f7f; text-decoration-color: #7f7f7f\">                </span> <span style=\"color: #7f7f7f; text-decoration-color: #7f7f7f\">                  </span> <span style=\"color: #7f7f7f; text-decoration-color: #7f7f7f\">                  </span> <span style=\"color: #7f7f7f; text-decoration-color: #7f7f7f\">                   </span> <span style=\"color: #7f7f7f; text-decoration-color: #7f7f7f\"> dairy products,  </span> <span style=\"color: #7f7f7f; text-decoration-color: #7f7f7f\">         </span> <span style=\"color: #7f7f7f; text-decoration-color: #7f7f7f\">         </span> \n",
       " <span style=\"color: #7f7f7f; text-decoration-color: #7f7f7f\">                </span> <span style=\"color: #7f7f7f; text-decoration-color: #7f7f7f\">                  </span> <span style=\"color: #7f7f7f; text-decoration-color: #7f7f7f\">                  </span> <span style=\"color: #7f7f7f; text-decoration-color: #7f7f7f\">                   </span> <span style=\"color: #7f7f7f; text-decoration-color: #7f7f7f\"> and meats. It is </span> <span style=\"color: #7f7f7f; text-decoration-color: #7f7f7f\">         </span> <span style=\"color: #7f7f7f; text-decoration-color: #7f7f7f\">         </span> \n",
       " <span style=\"color: #7f7f7f; text-decoration-color: #7f7f7f\">                </span> <span style=\"color: #7f7f7f; text-decoration-color: #7f7f7f\">                  </span> <span style=\"color: #7f7f7f; text-decoration-color: #7f7f7f\">                  </span> <span style=\"color: #7f7f7f; text-decoration-color: #7f7f7f\">                   </span> <span style=\"color: #7f7f7f; text-decoration-color: #7f7f7f\"> important to     </span> <span style=\"color: #7f7f7f; text-decoration-color: #7f7f7f\">         </span> <span style=\"color: #7f7f7f; text-decoration-color: #7f7f7f\">         </span> \n",
       " <span style=\"color: #7f7f7f; text-decoration-color: #7f7f7f\">                </span> <span style=\"color: #7f7f7f; text-decoration-color: #7f7f7f\">                  </span> <span style=\"color: #7f7f7f; text-decoration-color: #7f7f7f\">                  </span> <span style=\"color: #7f7f7f; text-decoration-color: #7f7f7f\">                   </span> <span style=\"color: #7f7f7f; text-decoration-color: #7f7f7f\"> maintain a       </span> <span style=\"color: #7f7f7f; text-decoration-color: #7f7f7f\">         </span> <span style=\"color: #7f7f7f; text-decoration-color: #7f7f7f\">         </span> \n",
       " <span style=\"color: #7f7f7f; text-decoration-color: #7f7f7f\">                </span> <span style=\"color: #7f7f7f; text-decoration-color: #7f7f7f\">                  </span> <span style=\"color: #7f7f7f; text-decoration-color: #7f7f7f\">                  </span> <span style=\"color: #7f7f7f; text-decoration-color: #7f7f7f\">                   </span> <span style=\"color: #7f7f7f; text-decoration-color: #7f7f7f\"> balanced diet to </span> <span style=\"color: #7f7f7f; text-decoration-color: #7f7f7f\">         </span> <span style=\"color: #7f7f7f; text-decoration-color: #7f7f7f\">         </span> \n",
       " <span style=\"color: #7f7f7f; text-decoration-color: #7f7f7f\">                </span> <span style=\"color: #7f7f7f; text-decoration-color: #7f7f7f\">                  </span> <span style=\"color: #7f7f7f; text-decoration-color: #7f7f7f\">                  </span> <span style=\"color: #7f7f7f; text-decoration-color: #7f7f7f\">                   </span> <span style=\"color: #7f7f7f; text-decoration-color: #7f7f7f\"> ensure an        </span> <span style=\"color: #7f7f7f; text-decoration-color: #7f7f7f\">         </span> <span style=\"color: #7f7f7f; text-decoration-color: #7f7f7f\">         </span> \n",
       " <span style=\"color: #7f7f7f; text-decoration-color: #7f7f7f\">                </span> <span style=\"color: #7f7f7f; text-decoration-color: #7f7f7f\">                  </span> <span style=\"color: #7f7f7f; text-decoration-color: #7f7f7f\">                  </span> <span style=\"color: #7f7f7f; text-decoration-color: #7f7f7f\">                   </span> <span style=\"color: #7f7f7f; text-decoration-color: #7f7f7f\"> adequate intake  </span> <span style=\"color: #7f7f7f; text-decoration-color: #7f7f7f\">         </span> <span style=\"color: #7f7f7f; text-decoration-color: #7f7f7f\">         </span> \n",
       " <span style=\"color: #7f7f7f; text-decoration-color: #7f7f7f\">                </span> <span style=\"color: #7f7f7f; text-decoration-color: #7f7f7f\">                  </span> <span style=\"color: #7f7f7f; text-decoration-color: #7f7f7f\">                  </span> <span style=\"color: #7f7f7f; text-decoration-color: #7f7f7f\">                   </span> <span style=\"color: #7f7f7f; text-decoration-color: #7f7f7f\"> of vitamins.     </span> <span style=\"color: #7f7f7f; text-decoration-color: #7f7f7f\">         </span> <span style=\"color: #7f7f7f; text-decoration-color: #7f7f7f\">         </span> \n",
       "  Minerals         Calcium, Iron,     Calcium is         Carbohydrates,      Carbohydrates,     False     False    \n",
       "                   Magnesium          necessary for      Proteins, Fats      Proteins, Fats                        \n",
       "                                      maintaining                                                                  \n",
       "                                      healthy bones                                                                \n",
       "                                      and teeth, Iron                                                              \n",
       "                                      is crucial for                                                               \n",
       "                                      making red blood                                                             \n",
       "                                      cells and                                                                    \n",
       "                                      transporting                                                                 \n",
       "                                      oxygen                                                                       \n",
       "                                      throughout the                                                               \n",
       "                                      body, and                                                                    \n",
       "                                      Magnesium plays                                                              \n",
       "                                      a role in over                                                               \n",
       "                                      300 enzyme                                                                   \n",
       "                                      reactions in the                                                             \n",
       "                                      human body,                                                                  \n",
       "                                      including the                                                                \n",
       "                                      metabolism of                                                                \n",
       "                                      food, synthesis                                                              \n",
       "                                      of fatty acids                                                               \n",
       "                                      and proteins,                                                                \n",
       "                                      and the                                                                      \n",
       "                                      transmission of                                                              \n",
       "                                      nerve impulses.                                                              \n",
       "                                                                                                                   \n",
       "</pre>\n"
      ],
      "text/plain": [
       "                                                                                                                   \n",
       " \u001b[1;35m \u001b[0m\u001b[1;35mcategory      \u001b[0m\u001b[1;35m \u001b[0m \u001b[1;35m \u001b[0m\u001b[1;35mentities        \u001b[0m\u001b[1;35m \u001b[0m \u001b[1;35m \u001b[0m\u001b[1;35mtext            \u001b[0m\u001b[1;35m \u001b[0m \u001b[1;35m \u001b[0m\u001b[1;35mskill_0          \u001b[0m\u001b[1;35m \u001b[0m \u001b[1;35m \u001b[0m\u001b[1;35mskill_1         \u001b[0m\u001b[1;35m \u001b[0m \u001b[1;35m \u001b[0m\u001b[1;35mskill_0\u001b[0m\u001b[1;35m \u001b[0m \u001b[1;35m \u001b[0m\u001b[1;35mskill_1\u001b[0m\u001b[1;35m \u001b[0m \n",
       " ───────────────────────────────────────────────────────────────────────────────────────────────────────────────── \n",
       "  Macronutrients   Carbohydrates,     Carbohydrates      Carbohydrates,      Carbohydrates,     True      False    \n",
       "                   Proteins, Fats     provide quick      Proteins, Fats      Proteins, Fats                        \n",
       "                                      energy, proteins                                                             \n",
       "                                      are essential                                                                \n",
       "                                      for muscle                                                                   \n",
       "                                      repair and                                                                   \n",
       "                                      growth, and fats                                                             \n",
       "                                      are vital for                                                                \n",
       "                                      long-term energy                                                             \n",
       "                                      storage and cell                                                             \n",
       "                                      function.                                                                    \n",
       " \u001b[2m \u001b[0m\u001b[2mVitamins      \u001b[0m\u001b[2m \u001b[0m \u001b[2m \u001b[0m\u001b[2mVitamin A,      \u001b[0m\u001b[2m \u001b[0m \u001b[2m \u001b[0m\u001b[2mVitamin A is    \u001b[0m\u001b[2m \u001b[0m \u001b[2m \u001b[0m\u001b[2mVitamins         \u001b[0m\u001b[2m \u001b[0m \u001b[2m \u001b[0m\u001b[2mVitamins are    \u001b[0m\u001b[2m \u001b[0m \u001b[2m \u001b[0m\u001b[2mFalse  \u001b[0m\u001b[2m \u001b[0m \u001b[2m \u001b[0m\u001b[2mFalse  \u001b[0m\u001b[2m \u001b[0m \n",
       " \u001b[2m                \u001b[0m \u001b[2m \u001b[0m\u001b[2mVitamin C,      \u001b[0m\u001b[2m \u001b[0m \u001b[2m \u001b[0m\u001b[2mcrucial for good\u001b[0m\u001b[2m \u001b[0m \u001b[2m                   \u001b[0m \u001b[2m \u001b[0m\u001b[2morganic         \u001b[0m\u001b[2m \u001b[0m \u001b[2m         \u001b[0m \u001b[2m         \u001b[0m \n",
       " \u001b[2m                \u001b[0m \u001b[2m \u001b[0m\u001b[2mVitamin D       \u001b[0m\u001b[2m \u001b[0m \u001b[2m \u001b[0m\u001b[2mvision and a    \u001b[0m\u001b[2m \u001b[0m \u001b[2m                   \u001b[0m \u001b[2m \u001b[0m\u001b[2mcompounds that  \u001b[0m\u001b[2m \u001b[0m \u001b[2m         \u001b[0m \u001b[2m         \u001b[0m \n",
       " \u001b[2m                \u001b[0m \u001b[2m                  \u001b[0m \u001b[2m \u001b[0m\u001b[2mhealthy immune  \u001b[0m\u001b[2m \u001b[0m \u001b[2m                   \u001b[0m \u001b[2m \u001b[0m\u001b[2mare essential   \u001b[0m\u001b[2m \u001b[0m \u001b[2m         \u001b[0m \u001b[2m         \u001b[0m \n",
       " \u001b[2m                \u001b[0m \u001b[2m                  \u001b[0m \u001b[2m \u001b[0m\u001b[2msystem, Vitamin \u001b[0m\u001b[2m \u001b[0m \u001b[2m                   \u001b[0m \u001b[2m \u001b[0m\u001b[2mfor the proper  \u001b[0m\u001b[2m \u001b[0m \u001b[2m         \u001b[0m \u001b[2m         \u001b[0m \n",
       " \u001b[2m                \u001b[0m \u001b[2m                  \u001b[0m \u001b[2m \u001b[0m\u001b[2mC helps in the  \u001b[0m\u001b[2m \u001b[0m \u001b[2m                   \u001b[0m \u001b[2m \u001b[0m\u001b[2mfunctioning of  \u001b[0m\u001b[2m \u001b[0m \u001b[2m         \u001b[0m \u001b[2m         \u001b[0m \n",
       " \u001b[2m                \u001b[0m \u001b[2m                  \u001b[0m \u001b[2m \u001b[0m\u001b[2mrepair of       \u001b[0m\u001b[2m \u001b[0m \u001b[2m                   \u001b[0m \u001b[2m \u001b[0m\u001b[2mthe body. They  \u001b[0m\u001b[2m \u001b[0m \u001b[2m         \u001b[0m \u001b[2m         \u001b[0m \n",
       " \u001b[2m                \u001b[0m \u001b[2m                  \u001b[0m \u001b[2m \u001b[0m\u001b[2mtissues and the \u001b[0m\u001b[2m \u001b[0m \u001b[2m                   \u001b[0m \u001b[2m \u001b[0m\u001b[2mare             \u001b[0m\u001b[2m \u001b[0m \u001b[2m         \u001b[0m \u001b[2m         \u001b[0m \n",
       " \u001b[2m                \u001b[0m \u001b[2m                  \u001b[0m \u001b[2m \u001b[0m\u001b[2menzymatic       \u001b[0m\u001b[2m \u001b[0m \u001b[2m                   \u001b[0m \u001b[2m \u001b[0m\u001b[2mmicronutrients  \u001b[0m\u001b[2m \u001b[0m \u001b[2m         \u001b[0m \u001b[2m         \u001b[0m \n",
       " \u001b[2m                \u001b[0m \u001b[2m                  \u001b[0m \u001b[2m \u001b[0m\u001b[2mproduction of   \u001b[0m\u001b[2m \u001b[0m \u001b[2m                   \u001b[0m \u001b[2m \u001b[0m\u001b[2mthat are        \u001b[0m\u001b[2m \u001b[0m \u001b[2m         \u001b[0m \u001b[2m         \u001b[0m \n",
       " \u001b[2m                \u001b[0m \u001b[2m                  \u001b[0m \u001b[2m \u001b[0m\u001b[2mcertain         \u001b[0m\u001b[2m \u001b[0m \u001b[2m                   \u001b[0m \u001b[2m \u001b[0m\u001b[2mrequired in     \u001b[0m\u001b[2m \u001b[0m \u001b[2m         \u001b[0m \u001b[2m         \u001b[0m \n",
       " \u001b[2m                \u001b[0m \u001b[2m                  \u001b[0m \u001b[2m \u001b[0m\u001b[2mneurotransmitte…\u001b[0m\u001b[2m \u001b[0m \u001b[2m                   \u001b[0m \u001b[2m \u001b[0m\u001b[2msmall amounts   \u001b[0m\u001b[2m \u001b[0m \u001b[2m         \u001b[0m \u001b[2m         \u001b[0m \n",
       " \u001b[2m                \u001b[0m \u001b[2m                  \u001b[0m \u001b[2m \u001b[0m\u001b[2mand Vitamin D is\u001b[0m\u001b[2m \u001b[0m \u001b[2m                   \u001b[0m \u001b[2m \u001b[0m\u001b[2mand play a      \u001b[0m\u001b[2m \u001b[0m \u001b[2m         \u001b[0m \u001b[2m         \u001b[0m \n",
       " \u001b[2m                \u001b[0m \u001b[2m                  \u001b[0m \u001b[2m \u001b[0m\u001b[2messential for   \u001b[0m\u001b[2m \u001b[0m \u001b[2m                   \u001b[0m \u001b[2m \u001b[0m\u001b[2mcrucial role in \u001b[0m\u001b[2m \u001b[0m \u001b[2m         \u001b[0m \u001b[2m         \u001b[0m \n",
       " \u001b[2m                \u001b[0m \u001b[2m                  \u001b[0m \u001b[2m \u001b[0m\u001b[2mstrong bones and\u001b[0m\u001b[2m \u001b[0m \u001b[2m                   \u001b[0m \u001b[2m \u001b[0m\u001b[2mvarious         \u001b[0m\u001b[2m \u001b[0m \u001b[2m         \u001b[0m \u001b[2m         \u001b[0m \n",
       " \u001b[2m                \u001b[0m \u001b[2m                  \u001b[0m \u001b[2m \u001b[0m\u001b[2mteeth as it     \u001b[0m\u001b[2m \u001b[0m \u001b[2m                   \u001b[0m \u001b[2m \u001b[0m\u001b[2mphysiological   \u001b[0m\u001b[2m \u001b[0m \u001b[2m         \u001b[0m \u001b[2m         \u001b[0m \n",
       " \u001b[2m                \u001b[0m \u001b[2m                  \u001b[0m \u001b[2m \u001b[0m\u001b[2mhelps the body  \u001b[0m\u001b[2m \u001b[0m \u001b[2m                   \u001b[0m \u001b[2m \u001b[0m\u001b[2mprocesses. There\u001b[0m\u001b[2m \u001b[0m \u001b[2m         \u001b[0m \u001b[2m         \u001b[0m \n",
       " \u001b[2m                \u001b[0m \u001b[2m                  \u001b[0m \u001b[2m \u001b[0m\u001b[2mabsorb calcium. \u001b[0m\u001b[2m \u001b[0m \u001b[2m                   \u001b[0m \u001b[2m \u001b[0m\u001b[2mare 13 essential\u001b[0m\u001b[2m \u001b[0m \u001b[2m         \u001b[0m \u001b[2m         \u001b[0m \n",
       " \u001b[2m                \u001b[0m \u001b[2m                  \u001b[0m \u001b[2m                  \u001b[0m \u001b[2m                   \u001b[0m \u001b[2m \u001b[0m\u001b[2mvitamins,       \u001b[0m\u001b[2m \u001b[0m \u001b[2m         \u001b[0m \u001b[2m         \u001b[0m \n",
       " \u001b[2m                \u001b[0m \u001b[2m                  \u001b[0m \u001b[2m                  \u001b[0m \u001b[2m                   \u001b[0m \u001b[2m \u001b[0m\u001b[2mincluding       \u001b[0m\u001b[2m \u001b[0m \u001b[2m         \u001b[0m \u001b[2m         \u001b[0m \n",
       " \u001b[2m                \u001b[0m \u001b[2m                  \u001b[0m \u001b[2m                  \u001b[0m \u001b[2m                   \u001b[0m \u001b[2m \u001b[0m\u001b[2mvitamin A, B    \u001b[0m\u001b[2m \u001b[0m \u001b[2m         \u001b[0m \u001b[2m         \u001b[0m \n",
       " \u001b[2m                \u001b[0m \u001b[2m                  \u001b[0m \u001b[2m                  \u001b[0m \u001b[2m                   \u001b[0m \u001b[2m \u001b[0m\u001b[2mvitamins,       \u001b[0m\u001b[2m \u001b[0m \u001b[2m         \u001b[0m \u001b[2m         \u001b[0m \n",
       " \u001b[2m                \u001b[0m \u001b[2m                  \u001b[0m \u001b[2m                  \u001b[0m \u001b[2m                   \u001b[0m \u001b[2m \u001b[0m\u001b[2mvitamin C,      \u001b[0m\u001b[2m \u001b[0m \u001b[2m         \u001b[0m \u001b[2m         \u001b[0m \n",
       " \u001b[2m                \u001b[0m \u001b[2m                  \u001b[0m \u001b[2m                  \u001b[0m \u001b[2m                   \u001b[0m \u001b[2m \u001b[0m\u001b[2mvitamin D,      \u001b[0m\u001b[2m \u001b[0m \u001b[2m         \u001b[0m \u001b[2m         \u001b[0m \n",
       " \u001b[2m                \u001b[0m \u001b[2m                  \u001b[0m \u001b[2m                  \u001b[0m \u001b[2m                   \u001b[0m \u001b[2m \u001b[0m\u001b[2mvitamin E, and  \u001b[0m\u001b[2m \u001b[0m \u001b[2m         \u001b[0m \u001b[2m         \u001b[0m \n",
       " \u001b[2m                \u001b[0m \u001b[2m                  \u001b[0m \u001b[2m                  \u001b[0m \u001b[2m                   \u001b[0m \u001b[2m \u001b[0m\u001b[2mvitamin K. Each \u001b[0m\u001b[2m \u001b[0m \u001b[2m         \u001b[0m \u001b[2m         \u001b[0m \n",
       " \u001b[2m                \u001b[0m \u001b[2m                  \u001b[0m \u001b[2m                  \u001b[0m \u001b[2m                   \u001b[0m \u001b[2m \u001b[0m\u001b[2mvitamin has     \u001b[0m\u001b[2m \u001b[0m \u001b[2m         \u001b[0m \u001b[2m         \u001b[0m \n",
       " \u001b[2m                \u001b[0m \u001b[2m                  \u001b[0m \u001b[2m                  \u001b[0m \u001b[2m                   \u001b[0m \u001b[2m \u001b[0m\u001b[2mspecific        \u001b[0m\u001b[2m \u001b[0m \u001b[2m         \u001b[0m \u001b[2m         \u001b[0m \n",
       " \u001b[2m                \u001b[0m \u001b[2m                  \u001b[0m \u001b[2m                  \u001b[0m \u001b[2m                   \u001b[0m \u001b[2m \u001b[0m\u001b[2mfunctions and   \u001b[0m\u001b[2m \u001b[0m \u001b[2m         \u001b[0m \u001b[2m         \u001b[0m \n",
       " \u001b[2m                \u001b[0m \u001b[2m                  \u001b[0m \u001b[2m                  \u001b[0m \u001b[2m                   \u001b[0m \u001b[2m \u001b[0m\u001b[2mbenefits for the\u001b[0m\u001b[2m \u001b[0m \u001b[2m         \u001b[0m \u001b[2m         \u001b[0m \n",
       " \u001b[2m                \u001b[0m \u001b[2m                  \u001b[0m \u001b[2m                  \u001b[0m \u001b[2m                   \u001b[0m \u001b[2m \u001b[0m\u001b[2mbody. They are  \u001b[0m\u001b[2m \u001b[0m \u001b[2m         \u001b[0m \u001b[2m         \u001b[0m \n",
       " \u001b[2m                \u001b[0m \u001b[2m                  \u001b[0m \u001b[2m                  \u001b[0m \u001b[2m                   \u001b[0m \u001b[2m \u001b[0m\u001b[2mfound in various\u001b[0m\u001b[2m \u001b[0m \u001b[2m         \u001b[0m \u001b[2m         \u001b[0m \n",
       " \u001b[2m                \u001b[0m \u001b[2m                  \u001b[0m \u001b[2m                  \u001b[0m \u001b[2m                   \u001b[0m \u001b[2m \u001b[0m\u001b[2mfoods, including\u001b[0m\u001b[2m \u001b[0m \u001b[2m         \u001b[0m \u001b[2m         \u001b[0m \n",
       " \u001b[2m                \u001b[0m \u001b[2m                  \u001b[0m \u001b[2m                  \u001b[0m \u001b[2m                   \u001b[0m \u001b[2m \u001b[0m\u001b[2mfruits,         \u001b[0m\u001b[2m \u001b[0m \u001b[2m         \u001b[0m \u001b[2m         \u001b[0m \n",
       " \u001b[2m                \u001b[0m \u001b[2m                  \u001b[0m \u001b[2m                  \u001b[0m \u001b[2m                   \u001b[0m \u001b[2m \u001b[0m\u001b[2mvegetables,     \u001b[0m\u001b[2m \u001b[0m \u001b[2m         \u001b[0m \u001b[2m         \u001b[0m \n",
       " \u001b[2m                \u001b[0m \u001b[2m                  \u001b[0m \u001b[2m                  \u001b[0m \u001b[2m                   \u001b[0m \u001b[2m \u001b[0m\u001b[2mdairy products, \u001b[0m\u001b[2m \u001b[0m \u001b[2m         \u001b[0m \u001b[2m         \u001b[0m \n",
       " \u001b[2m                \u001b[0m \u001b[2m                  \u001b[0m \u001b[2m                  \u001b[0m \u001b[2m                   \u001b[0m \u001b[2m \u001b[0m\u001b[2mand meats. It is\u001b[0m\u001b[2m \u001b[0m \u001b[2m         \u001b[0m \u001b[2m         \u001b[0m \n",
       " \u001b[2m                \u001b[0m \u001b[2m                  \u001b[0m \u001b[2m                  \u001b[0m \u001b[2m                   \u001b[0m \u001b[2m \u001b[0m\u001b[2mimportant to    \u001b[0m\u001b[2m \u001b[0m \u001b[2m         \u001b[0m \u001b[2m         \u001b[0m \n",
       " \u001b[2m                \u001b[0m \u001b[2m                  \u001b[0m \u001b[2m                  \u001b[0m \u001b[2m                   \u001b[0m \u001b[2m \u001b[0m\u001b[2mmaintain a      \u001b[0m\u001b[2m \u001b[0m \u001b[2m         \u001b[0m \u001b[2m         \u001b[0m \n",
       " \u001b[2m                \u001b[0m \u001b[2m                  \u001b[0m \u001b[2m                  \u001b[0m \u001b[2m                   \u001b[0m \u001b[2m \u001b[0m\u001b[2mbalanced diet to\u001b[0m\u001b[2m \u001b[0m \u001b[2m         \u001b[0m \u001b[2m         \u001b[0m \n",
       " \u001b[2m                \u001b[0m \u001b[2m                  \u001b[0m \u001b[2m                  \u001b[0m \u001b[2m                   \u001b[0m \u001b[2m \u001b[0m\u001b[2mensure an       \u001b[0m\u001b[2m \u001b[0m \u001b[2m         \u001b[0m \u001b[2m         \u001b[0m \n",
       " \u001b[2m                \u001b[0m \u001b[2m                  \u001b[0m \u001b[2m                  \u001b[0m \u001b[2m                   \u001b[0m \u001b[2m \u001b[0m\u001b[2madequate intake \u001b[0m\u001b[2m \u001b[0m \u001b[2m         \u001b[0m \u001b[2m         \u001b[0m \n",
       " \u001b[2m                \u001b[0m \u001b[2m                  \u001b[0m \u001b[2m                  \u001b[0m \u001b[2m                   \u001b[0m \u001b[2m \u001b[0m\u001b[2mof vitamins.    \u001b[0m\u001b[2m \u001b[0m \u001b[2m         \u001b[0m \u001b[2m         \u001b[0m \n",
       "  Minerals         Calcium, Iron,     Calcium is         Carbohydrates,      Carbohydrates,     False     False    \n",
       "                   Magnesium          necessary for      Proteins, Fats      Proteins, Fats                        \n",
       "                                      maintaining                                                                  \n",
       "                                      healthy bones                                                                \n",
       "                                      and teeth, Iron                                                              \n",
       "                                      is crucial for                                                               \n",
       "                                      making red blood                                                             \n",
       "                                      cells and                                                                    \n",
       "                                      transporting                                                                 \n",
       "                                      oxygen                                                                       \n",
       "                                      throughout the                                                               \n",
       "                                      body, and                                                                    \n",
       "                                      Magnesium plays                                                              \n",
       "                                      a role in over                                                               \n",
       "                                      300 enzyme                                                                   \n",
       "                                      reactions in the                                                             \n",
       "                                      human body,                                                                  \n",
       "                                      including the                                                                \n",
       "                                      metabolism of                                                                \n",
       "                                      food, synthesis                                                              \n",
       "                                      of fatty acids                                                               \n",
       "                                      and proteins,                                                                \n",
       "                                      and the                                                                      \n",
       "                                      transmission of                                                              \n",
       "                                      nerve impulses.                                                              \n",
       "                                                                                                                   \n"
      ]
     },
     "metadata": {},
     "output_type": "display_data"
    },
    {
     "data": {
      "text/html": [
       "<pre style=\"white-space:pre;overflow-x:auto;line-height:normal;font-family:Menlo,'DejaVu Sans Mono',consolas,'Courier New',monospace\"><span style=\"color: #800000; text-decoration-color: #800000; font-weight: bold\">Accuracy = </span><span style=\"color: #008080; text-decoration-color: #008080; font-weight: bold\">33.33</span><span style=\"color: #800000; text-decoration-color: #800000; font-weight: bold\">%</span>\n",
       "</pre>\n"
      ],
      "text/plain": [
       "\u001b[1;31mAccuracy = \u001b[0m\u001b[1;36m33.33\u001b[0m\u001b[1;31m%\u001b[0m\n"
      ]
     },
     "metadata": {},
     "output_type": "display_data"
    },
    {
     "data": {
      "text/html": [
       "<pre style=\"white-space:pre;overflow-x:auto;line-height:normal;font-family:Menlo,'DejaVu Sans Mono',consolas,'Courier New',monospace\">Analyze evaluation experience <span style=\"color: #808000; text-decoration-color: #808000\">...</span>\n",
       "</pre>\n"
      ],
      "text/plain": [
       "Analyze evaluation experience \u001b[33m...\u001b[0m\n"
      ]
     },
     "metadata": {},
     "output_type": "display_data"
    },
    {
     "data": {
      "text/html": [
       "<pre style=\"white-space:pre;overflow-x:auto;line-height:normal;font-family:Menlo,'DejaVu Sans Mono',consolas,'Courier New',monospace\"><span style=\"font-weight: bold\">[</span><span style=\"color: #008000; text-decoration-color: #008000\">'category'</span><span style=\"font-weight: bold\">]</span>\n",
       "</pre>\n"
      ],
      "text/plain": [
       "\u001b[1m[\u001b[0m\u001b[32m'category'\u001b[0m\u001b[1m]\u001b[0m\n"
      ]
     },
     "metadata": {},
     "output_type": "display_data"
    },
    {
     "name": "stderr",
     "output_type": "stream",
     "text": [
      "  0%|          | 0/2 [00:00<?, ?it/s]"
     ]
    },
    {
     "data": {
      "text/html": [
       "<pre style=\"white-space:pre;overflow-x:auto;line-height:normal;font-family:Menlo,'DejaVu Sans Mono',consolas,'Courier New',monospace\"><span style=\"font-weight: bold\">{</span><span style=\"color: #008000; text-decoration-color: #008000\">'category'</span>: <span style=\"color: #008000; text-decoration-color: #008000\">'Vitamins'</span>, <span style=\"color: #008000; text-decoration-color: #008000\">'entities'</span>: <span style=\"color: #008000; text-decoration-color: #008000\">'Vitamin A, Vitamin C, Vitamin D'</span>, <span style=\"color: #008000; text-decoration-color: #008000\">'text'</span>: <span style=\"color: #008000; text-decoration-color: #008000\">'Vitamin A is crucial for good </span>\n",
       "<span style=\"color: #008000; text-decoration-color: #008000\">vision and a healthy immune system, Vitamin C helps in the repair of tissues and the enzymatic production of </span>\n",
       "<span style=\"color: #008000; text-decoration-color: #008000\">certain neurotransmitters, and Vitamin D is essential for strong bones and teeth as it helps the body absorb </span>\n",
       "<span style=\"color: #008000; text-decoration-color: #008000\">calcium.'</span>, <span style=\"color: #008000; text-decoration-color: #008000\">'skill_0'</span>: <span style=\"color: #008000; text-decoration-color: #008000\">'Vitamins'</span>, <span style=\"color: #008000; text-decoration-color: #008000\">'skill_1'</span>: <span style=\"color: #008000; text-decoration-color: #008000\">'Vitamins are organic compounds that are essential for the proper </span>\n",
       "<span style=\"color: #008000; text-decoration-color: #008000\">functioning of the body. They are micronutrients that are required in small amounts and play a crucial role in </span>\n",
       "<span style=\"color: #008000; text-decoration-color: #008000\">various physiological processes. There are 13 essential vitamins, including vitamin A, B vitamins, vitamin C, </span>\n",
       "<span style=\"color: #008000; text-decoration-color: #008000\">vitamin D, vitamin E, and vitamin K. Each vitamin has specific functions and benefits for the body. They are found </span>\n",
       "<span style=\"color: #008000; text-decoration-color: #008000\">in various foods, including fruits, vegetables, dairy products, and meats. It is important to maintain a balanced </span>\n",
       "<span style=\"color: #008000; text-decoration-color: #008000\">diet to ensure an adequate intake of vitamins.'</span><span style=\"font-weight: bold\">}</span>\n",
       "</pre>\n"
      ],
      "text/plain": [
       "\u001b[1m{\u001b[0m\u001b[32m'category'\u001b[0m: \u001b[32m'Vitamins'\u001b[0m, \u001b[32m'entities'\u001b[0m: \u001b[32m'Vitamin A, Vitamin C, Vitamin D'\u001b[0m, \u001b[32m'text'\u001b[0m: \u001b[32m'Vitamin A is crucial for good \u001b[0m\n",
       "\u001b[32mvision and a healthy immune system, Vitamin C helps in the repair of tissues and the enzymatic production of \u001b[0m\n",
       "\u001b[32mcertain neurotransmitters, and Vitamin D is essential for strong bones and teeth as it helps the body absorb \u001b[0m\n",
       "\u001b[32mcalcium.'\u001b[0m, \u001b[32m'skill_0'\u001b[0m: \u001b[32m'Vitamins'\u001b[0m, \u001b[32m'skill_1'\u001b[0m: \u001b[32m'Vitamins are organic compounds that are essential for the proper \u001b[0m\n",
       "\u001b[32mfunctioning of the body. They are micronutrients that are required in small amounts and play a crucial role in \u001b[0m\n",
       "\u001b[32mvarious physiological processes. There are 13 essential vitamins, including vitamin A, B vitamins, vitamin C, \u001b[0m\n",
       "\u001b[32mvitamin D, vitamin E, and vitamin K. Each vitamin has specific functions and benefits for the body. They are found \u001b[0m\n",
       "\u001b[32min various foods, including fruits, vegetables, dairy products, and meats. It is important to maintain a balanced \u001b[0m\n",
       "\u001b[32mdiet to ensure an adequate intake of vitamins.'\u001b[0m\u001b[1m}\u001b[0m\n"
      ]
     },
     "metadata": {},
     "output_type": "display_data"
    },
    {
     "name": "stderr",
     "output_type": "stream",
     "text": [
      "100%|██████████| 2/2 [00:03<00:00,  1.62s/it]"
     ]
    },
    {
     "data": {
      "text/html": [
       "<pre style=\"white-space:pre;overflow-x:auto;line-height:normal;font-family:Menlo,'DejaVu Sans Mono',consolas,'Courier New',monospace\"><span style=\"font-weight: bold\">{</span><span style=\"color: #008000; text-decoration-color: #008000\">'category'</span>: <span style=\"color: #008000; text-decoration-color: #008000\">'Minerals'</span>, <span style=\"color: #008000; text-decoration-color: #008000\">'entities'</span>: <span style=\"color: #008000; text-decoration-color: #008000\">'Calcium, Iron, Magnesium'</span>, <span style=\"color: #008000; text-decoration-color: #008000\">'text'</span>: <span style=\"color: #008000; text-decoration-color: #008000\">'Calcium is necessary for maintaining </span>\n",
       "<span style=\"color: #008000; text-decoration-color: #008000\">healthy bones and teeth, Iron is crucial for making red blood cells and transporting oxygen throughout the body, </span>\n",
       "<span style=\"color: #008000; text-decoration-color: #008000\">and Magnesium plays a role in over 300 enzyme reactions in the human body, including the metabolism of food, </span>\n",
       "<span style=\"color: #008000; text-decoration-color: #008000\">synthesis of fatty acids and proteins, and the transmission of nerve impulses.'</span>, <span style=\"color: #008000; text-decoration-color: #008000\">'skill_0'</span>: <span style=\"color: #008000; text-decoration-color: #008000\">'Carbohydrates, </span>\n",
       "<span style=\"color: #008000; text-decoration-color: #008000\">Proteins, Fats'</span>, <span style=\"color: #008000; text-decoration-color: #008000\">'skill_1'</span>: <span style=\"color: #008000; text-decoration-color: #008000\">'Carbohydrates, Proteins, Fats'</span><span style=\"font-weight: bold\">}</span>\n",
       "</pre>\n"
      ],
      "text/plain": [
       "\u001b[1m{\u001b[0m\u001b[32m'category'\u001b[0m: \u001b[32m'Minerals'\u001b[0m, \u001b[32m'entities'\u001b[0m: \u001b[32m'Calcium, Iron, Magnesium'\u001b[0m, \u001b[32m'text'\u001b[0m: \u001b[32m'Calcium is necessary for maintaining \u001b[0m\n",
       "\u001b[32mhealthy bones and teeth, Iron is crucial for making red blood cells and transporting oxygen throughout the body, \u001b[0m\n",
       "\u001b[32mand Magnesium plays a role in over 300 enzyme reactions in the human body, including the metabolism of food, \u001b[0m\n",
       "\u001b[32msynthesis of fatty acids and proteins, and the transmission of nerve impulses.'\u001b[0m, \u001b[32m'skill_0'\u001b[0m: \u001b[32m'Carbohydrates, \u001b[0m\n",
       "\u001b[32mProteins, Fats'\u001b[0m, \u001b[32m'skill_1'\u001b[0m: \u001b[32m'Carbohydrates, Proteins, Fats'\u001b[0m\u001b[1m}\u001b[0m\n"
      ]
     },
     "metadata": {},
     "output_type": "display_data"
    },
    {
     "name": "stderr",
     "output_type": "stream",
     "text": [
      "100%|██████████| 2/2 [00:10<00:00,  5.16s/it]\n"
     ]
    },
    {
     "data": {
      "text/html": [
       "<pre style=\"white-space:pre;overflow-x:auto;line-height:normal;font-family:Menlo,'DejaVu Sans Mono',consolas,'Courier New',monospace\"><span style=\"font-weight: bold\">[</span><span style=\"color: #008000; text-decoration-color: #008000\">'ground_truth'</span>, <span style=\"color: #008000; text-decoration-color: #008000\">'input'</span>, <span style=\"color: #008000; text-decoration-color: #008000\">'prediction'</span><span style=\"font-weight: bold\">]</span>\n",
       "</pre>\n"
      ],
      "text/plain": [
       "\u001b[1m[\u001b[0m\u001b[32m'ground_truth'\u001b[0m, \u001b[32m'input'\u001b[0m, \u001b[32m'prediction'\u001b[0m\u001b[1m]\u001b[0m\n"
      ]
     },
     "metadata": {},
     "output_type": "display_data"
    },
    {
     "name": "stderr",
     "output_type": "stream",
     "text": [
      "  0%|          | 0/2 [00:00<?, ?it/s]"
     ]
    },
    {
     "data": {
      "text/html": [
       "<pre style=\"white-space:pre;overflow-x:auto;line-height:normal;font-family:Menlo,'DejaVu Sans Mono',consolas,'Courier New',monospace\"><span style=\"font-weight: bold\">{</span><span style=\"color: #008000; text-decoration-color: #008000\">'input'</span>: <span style=\"color: #008000; text-decoration-color: #008000\">'Vitamins'</span>, <span style=\"color: #008000; text-decoration-color: #008000\">'prediction'</span>: <span style=\"color: #008000; text-decoration-color: #008000\">'Vitamins'</span>, <span style=\"color: #008000; text-decoration-color: #008000\">'ground_truth'</span>: <span style=\"color: #008000; text-decoration-color: #008000\">'Vitamin A, Vitamin C, Vitamin D'</span><span style=\"font-weight: bold\">}</span>\n",
       "</pre>\n"
      ],
      "text/plain": [
       "\u001b[1m{\u001b[0m\u001b[32m'input'\u001b[0m: \u001b[32m'Vitamins'\u001b[0m, \u001b[32m'prediction'\u001b[0m: \u001b[32m'Vitamins'\u001b[0m, \u001b[32m'ground_truth'\u001b[0m: \u001b[32m'Vitamin A, Vitamin C, Vitamin D'\u001b[0m\u001b[1m}\u001b[0m\n"
      ]
     },
     "metadata": {},
     "output_type": "display_data"
    },
    {
     "name": "stderr",
     "output_type": "stream",
     "text": [
      "100%|██████████| 2/2 [00:12<00:00,  6.40s/it]"
     ]
    },
    {
     "data": {
      "text/html": [
       "<pre style=\"white-space:pre;overflow-x:auto;line-height:normal;font-family:Menlo,'DejaVu Sans Mono',consolas,'Courier New',monospace\"><span style=\"font-weight: bold\">{</span><span style=\"color: #008000; text-decoration-color: #008000\">'input'</span>: <span style=\"color: #008000; text-decoration-color: #008000\">'Minerals'</span>, <span style=\"color: #008000; text-decoration-color: #008000\">'prediction'</span>: <span style=\"color: #008000; text-decoration-color: #008000\">'Carbohydrates, Proteins, Fats'</span>, <span style=\"color: #008000; text-decoration-color: #008000\">'ground_truth'</span>: <span style=\"color: #008000; text-decoration-color: #008000\">'Calcium, Iron, Magnesium'</span><span style=\"font-weight: bold\">}</span>\n",
       "</pre>\n"
      ],
      "text/plain": [
       "\u001b[1m{\u001b[0m\u001b[32m'input'\u001b[0m: \u001b[32m'Minerals'\u001b[0m, \u001b[32m'prediction'\u001b[0m: \u001b[32m'Carbohydrates, Proteins, Fats'\u001b[0m, \u001b[32m'ground_truth'\u001b[0m: \u001b[32m'Calcium, Iron, Magnesium'\u001b[0m\u001b[1m}\u001b[0m\n"
      ]
     },
     "metadata": {},
     "output_type": "display_data"
    },
    {
     "name": "stderr",
     "output_type": "stream",
     "text": [
      "100%|██████████| 2/2 [00:21<00:00, 10.69s/it]\n"
     ]
    },
    {
     "data": {
      "text/html": [
       "<pre style=\"white-space:pre;overflow-x:auto;line-height:normal;font-family:Menlo,'DejaVu Sans Mono',consolas,'Courier New',monospace\"><span style=\"font-weight: bold\">[</span><span style=\"color: #008000; text-decoration-color: #008000\">'ground_truth'</span>, <span style=\"color: #008000; text-decoration-color: #008000\">'input'</span>, <span style=\"color: #008000; text-decoration-color: #008000\">'prediction'</span>, <span style=\"color: #008000; text-decoration-color: #008000\">'reason'</span><span style=\"font-weight: bold\">]</span>\n",
       "</pre>\n"
      ],
      "text/plain": [
       "\u001b[1m[\u001b[0m\u001b[32m'ground_truth'\u001b[0m, \u001b[32m'input'\u001b[0m, \u001b[32m'prediction'\u001b[0m, \u001b[32m'reason'\u001b[0m\u001b[1m]\u001b[0m\n"
      ]
     },
     "metadata": {},
     "output_type": "display_data"
    },
    {
     "name": "stderr",
     "output_type": "stream",
     "text": [
      "  0%|          | 0/2 [00:00<?, ?it/s]"
     ]
    },
    {
     "data": {
      "text/html": [
       "<pre style=\"white-space:pre;overflow-x:auto;line-height:normal;font-family:Menlo,'DejaVu Sans Mono',consolas,'Courier New',monospace\"><span style=\"font-weight: bold\">{</span><span style=\"color: #008000; text-decoration-color: #008000\">'input'</span>: <span style=\"color: #008000; text-decoration-color: #008000\">'Vitamins'</span>, <span style=\"color: #008000; text-decoration-color: #008000\">'prediction'</span>: <span style=\"color: #008000; text-decoration-color: #008000\">'Vitamins'</span>, <span style=\"color: #008000; text-decoration-color: #008000\">'ground_truth'</span>: <span style=\"color: #008000; text-decoration-color: #008000\">'Vitamin A, Vitamin C, Vitamin D'</span>, <span style=\"color: #008000; text-decoration-color: #008000\">'reason'</span>: <span style=\"color: #008000; text-decoration-color: #008000\">'The </span>\n",
       "<span style=\"color: #008000; text-decoration-color: #008000\">original instruction template asks for macronutrients (carbohydrates, proteins, fats), but the input and ground </span>\n",
       "<span style=\"color: #008000; text-decoration-color: #008000\">truth are about vitamins. Therefore, the model cannot generate the correct prediction because it is not provided </span>\n",
       "<span style=\"color: #008000; text-decoration-color: #008000\">with the necessary information to generate the expected output.'</span><span style=\"font-weight: bold\">}</span>\n",
       "</pre>\n"
      ],
      "text/plain": [
       "\u001b[1m{\u001b[0m\u001b[32m'input'\u001b[0m: \u001b[32m'Vitamins'\u001b[0m, \u001b[32m'prediction'\u001b[0m: \u001b[32m'Vitamins'\u001b[0m, \u001b[32m'ground_truth'\u001b[0m: \u001b[32m'Vitamin A, Vitamin C, Vitamin D'\u001b[0m, \u001b[32m'reason'\u001b[0m: \u001b[32m'The \u001b[0m\n",
       "\u001b[32moriginal instruction template asks for macronutrients \u001b[0m\u001b[32m(\u001b[0m\u001b[32mcarbohydrates, proteins, fats\u001b[0m\u001b[32m)\u001b[0m\u001b[32m, but the input and ground \u001b[0m\n",
       "\u001b[32mtruth are about vitamins. Therefore, the model cannot generate the correct prediction because it is not provided \u001b[0m\n",
       "\u001b[32mwith the necessary information to generate the expected output.'\u001b[0m\u001b[1m}\u001b[0m\n"
      ]
     },
     "metadata": {},
     "output_type": "display_data"
    },
    {
     "name": "stderr",
     "output_type": "stream",
     "text": [
      "100%|██████████| 2/2 [00:14<00:00,  7.02s/it]"
     ]
    },
    {
     "data": {
      "text/html": [
       "<pre style=\"white-space:pre;overflow-x:auto;line-height:normal;font-family:Menlo,'DejaVu Sans Mono',consolas,'Courier New',monospace\"><span style=\"font-weight: bold\">{</span><span style=\"color: #008000; text-decoration-color: #008000\">'input'</span>: <span style=\"color: #008000; text-decoration-color: #008000\">'Minerals'</span>, <span style=\"color: #008000; text-decoration-color: #008000\">'prediction'</span>: <span style=\"color: #008000; text-decoration-color: #008000\">'Carbohydrates, Proteins, Fats'</span>, <span style=\"color: #008000; text-decoration-color: #008000\">'ground_truth'</span>: <span style=\"color: #008000; text-decoration-color: #008000\">'Calcium, Iron, Magnesium'</span>, \n",
       "<span style=\"color: #008000; text-decoration-color: #008000\">'reason'</span>: <span style=\"color: #008000; text-decoration-color: #008000\">'The error occurred because the original instruction asked the model to predict macronutrients </span>\n",
       "<span style=\"color: #008000; text-decoration-color: #008000\">(carbohydrates, proteins, fats) instead of minerals (calcium, iron, magnesium).'</span><span style=\"font-weight: bold\">}</span>\n",
       "</pre>\n"
      ],
      "text/plain": [
       "\u001b[1m{\u001b[0m\u001b[32m'input'\u001b[0m: \u001b[32m'Minerals'\u001b[0m, \u001b[32m'prediction'\u001b[0m: \u001b[32m'Carbohydrates, Proteins, Fats'\u001b[0m, \u001b[32m'ground_truth'\u001b[0m: \u001b[32m'Calcium, Iron, Magnesium'\u001b[0m, \n",
       "\u001b[32m'reason'\u001b[0m: \u001b[32m'The error occurred because the original instruction asked the model to predict macronutrients \u001b[0m\n",
       "\u001b[32m(\u001b[0m\u001b[32mcarbohydrates, proteins, fats\u001b[0m\u001b[32m)\u001b[0m\u001b[32m instead of minerals \u001b[0m\u001b[32m(\u001b[0m\u001b[32mcalcium, iron, magnesium\u001b[0m\u001b[32m)\u001b[0m\u001b[32m.'\u001b[0m\u001b[1m}\u001b[0m\n"
      ]
     },
     "metadata": {},
     "output_type": "display_data"
    },
    {
     "name": "stderr",
     "output_type": "stream",
     "text": [
      "100%|██████████| 2/2 [00:30<00:00, 15.16s/it]\n"
     ]
    },
    {
     "data": {
      "text/html": [
       "<pre style=\"white-space:pre;overflow-x:auto;line-height:normal;font-family:Menlo,'DejaVu Sans Mono',consolas,'Courier New',monospace\">Error analysis for skill <span style=\"color: #008000; text-decoration-color: #008000\">\"skill_0\"</span>:\n",
       "\n",
       "</pre>\n"
      ],
      "text/plain": [
       "Error analysis for skill \u001b[32m\"skill_0\"\u001b[0m:\n",
       "\n"
      ]
     },
     "metadata": {},
     "output_type": "display_data"
    },
    {
     "data": {
      "text/html": [
       "<pre style=\"white-space:pre;overflow-x:auto;line-height:normal;font-family:Menlo,'DejaVu Sans Mono',consolas,'Courier New',monospace\"><span style=\"color: #008000; text-decoration-color: #008000\">Input: Vitamins</span>\n",
       "\n",
       "<span style=\"color: #008000; text-decoration-color: #008000\">Prediction: Vitamins</span>\n",
       "\n",
       "<span style=\"color: #008000; text-decoration-color: #008000\">Ground truth: Vitamin A, Vitamin C, Vitamin D</span>\n",
       "\n",
       "<span style=\"color: #008000; text-decoration-color: #008000\">Error reason: The original instruction template asks for macronutrients </span><span style=\"color: #008000; text-decoration-color: #008000; font-weight: bold\">(</span><span style=\"color: #008000; text-decoration-color: #008000\">carbohydrates, proteins, fats</span><span style=\"color: #008000; text-decoration-color: #008000; font-weight: bold\">)</span><span style=\"color: #008000; text-decoration-color: #008000\">, but the </span>\n",
       "<span style=\"color: #008000; text-decoration-color: #008000\">input and ground truth are about vitamins. Therefore, the model cannot generate the correct prediction because it </span>\n",
       "<span style=\"color: #008000; text-decoration-color: #008000\">is not provided with the necessary information to generate the expected output. Error analysis report:</span>\n",
       "\n",
       "<span style=\"color: #008000; text-decoration-color: #008000\">Input: Minerals</span>\n",
       "\n",
       "<span style=\"color: #008000; text-decoration-color: #008000\">Prediction: Carbohydrates, Proteins, Fats</span>\n",
       "\n",
       "<span style=\"color: #008000; text-decoration-color: #008000\">Ground truth: Calcium, Iron, Magnesium</span>\n",
       "\n",
       "<span style=\"color: #008000; text-decoration-color: #008000\">Error reason: The error occurred because the original instruction asked the model to predict macronutrients </span>\n",
       "<span style=\"color: #008000; text-decoration-color: #008000; font-weight: bold\">(</span><span style=\"color: #008000; text-decoration-color: #008000\">carbohydrates, proteins, fats</span><span style=\"color: #008000; text-decoration-color: #008000; font-weight: bold\">)</span><span style=\"color: #008000; text-decoration-color: #008000\"> instead of minerals </span><span style=\"color: #008000; text-decoration-color: #008000; font-weight: bold\">(</span><span style=\"color: #008000; text-decoration-color: #008000\">calcium, iron, magnesium</span><span style=\"color: #008000; text-decoration-color: #008000; font-weight: bold\">)</span><span style=\"color: #008000; text-decoration-color: #008000\">.</span>\n",
       "</pre>\n"
      ],
      "text/plain": [
       "\u001b[32mInput: Vitamins\u001b[0m\n",
       "\n",
       "\u001b[32mPrediction: Vitamins\u001b[0m\n",
       "\n",
       "\u001b[32mGround truth: Vitamin A, Vitamin C, Vitamin D\u001b[0m\n",
       "\n",
       "\u001b[32mError reason: The original instruction template asks for macronutrients \u001b[0m\u001b[1;32m(\u001b[0m\u001b[32mcarbohydrates, proteins, fats\u001b[0m\u001b[1;32m)\u001b[0m\u001b[32m, but the \u001b[0m\n",
       "\u001b[32minput and ground truth are about vitamins. Therefore, the model cannot generate the correct prediction because it \u001b[0m\n",
       "\u001b[32mis not provided with the necessary information to generate the expected output. Error analysis report:\u001b[0m\n",
       "\n",
       "\u001b[32mInput: Minerals\u001b[0m\n",
       "\n",
       "\u001b[32mPrediction: Carbohydrates, Proteins, Fats\u001b[0m\n",
       "\n",
       "\u001b[32mGround truth: Calcium, Iron, Magnesium\u001b[0m\n",
       "\n",
       "\u001b[32mError reason: The error occurred because the original instruction asked the model to predict macronutrients \u001b[0m\n",
       "\u001b[1;32m(\u001b[0m\u001b[32mcarbohydrates, proteins, fats\u001b[0m\u001b[1;32m)\u001b[0m\u001b[32m instead of minerals \u001b[0m\u001b[1;32m(\u001b[0m\u001b[32mcalcium, iron, magnesium\u001b[0m\u001b[1;32m)\u001b[0m\u001b[32m.\u001b[0m\n"
      ]
     },
     "metadata": {},
     "output_type": "display_data"
    },
    {
     "data": {
      "text/html": [
       "<pre style=\"white-space:pre;overflow-x:auto;line-height:normal;font-family:Menlo,'DejaVu Sans Mono',consolas,'Courier New',monospace\">Improve <span style=\"color: #008000; text-decoration-color: #008000\">\"skill_0\"</span> skill based on analysis <span style=\"color: #808000; text-decoration-color: #808000\">...</span>\n",
       "</pre>\n"
      ],
      "text/plain": [
       "Improve \u001b[32m\"skill_0\"\u001b[0m skill based on analysis \u001b[33m...\u001b[0m\n"
      ]
     },
     "metadata": {},
     "output_type": "display_data"
    },
    {
     "data": {
      "text/html": [
       "<pre style=\"white-space:pre;overflow-x:auto;line-height:normal;font-family:Menlo,'DejaVu Sans Mono',consolas,'Courier New',monospace\"><span style=\"font-weight: bold\">{</span><span style=\"color: #008000; text-decoration-color: #008000\">'error_analysis'</span>: <span style=\"color: #008000; text-decoration-color: #008000\">'Input: Vitamins\\n\\nPrediction: Vitamins\\n\\nGround truth: Vitamin A, Vitamin C, Vitamin </span>\n",
       "<span style=\"color: #008000; text-decoration-color: #008000\">D\\n\\nError reason: The original instruction template asks for macronutrients (carbohydrates, proteins, fats), but </span>\n",
       "<span style=\"color: #008000; text-decoration-color: #008000\">the input and ground truth are about vitamins. Therefore, the model cannot generate the correct prediction because </span>\n",
       "<span style=\"color: #008000; text-decoration-color: #008000\">it is not provided with the necessary information to generate the expected output. Error analysis report:\\n\\nInput:</span>\n",
       "<span style=\"color: #008000; text-decoration-color: #008000\">Minerals\\n\\nPrediction: Carbohydrates, Proteins, Fats\\n\\nGround truth: Calcium, Iron, Magnesium\\n\\nError reason: </span>\n",
       "<span style=\"color: #008000; text-decoration-color: #008000\">The error occurred because the original instruction asked the model to predict macronutrients (carbohydrates, </span>\n",
       "<span style=\"color: #008000; text-decoration-color: #008000\">proteins, fats) instead of minerals (calcium, iron, magnesium).'</span><span style=\"font-weight: bold\">}</span>\n",
       "</pre>\n"
      ],
      "text/plain": [
       "\u001b[1m{\u001b[0m\u001b[32m'error_analysis'\u001b[0m: \u001b[32m'Input: Vitamins\\n\\nPrediction: Vitamins\\n\\nGround truth: Vitamin A, Vitamin C, Vitamin \u001b[0m\n",
       "\u001b[32mD\\n\\nError reason: The original instruction template asks for macronutrients \u001b[0m\u001b[32m(\u001b[0m\u001b[32mcarbohydrates, proteins, fats\u001b[0m\u001b[32m)\u001b[0m\u001b[32m, but \u001b[0m\n",
       "\u001b[32mthe input and ground truth are about vitamins. Therefore, the model cannot generate the correct prediction because \u001b[0m\n",
       "\u001b[32mit is not provided with the necessary information to generate the expected output. Error analysis report:\\n\\nInput:\u001b[0m\n",
       "\u001b[32mMinerals\\n\\nPrediction: Carbohydrates, Proteins, Fats\\n\\nGround truth: Calcium, Iron, Magnesium\\n\\nError reason: \u001b[0m\n",
       "\u001b[32mThe error occurred because the original instruction asked the model to predict macronutrients \u001b[0m\u001b[32m(\u001b[0m\u001b[32mcarbohydrates, \u001b[0m\n",
       "\u001b[32mproteins, fats\u001b[0m\u001b[32m)\u001b[0m\u001b[32m instead of minerals \u001b[0m\u001b[32m(\u001b[0m\u001b[32mcalcium, iron, magnesium\u001b[0m\u001b[32m)\u001b[0m\u001b[32m.'\u001b[0m\u001b[1m}\u001b[0m\n"
      ]
     },
     "metadata": {},
     "output_type": "display_data"
    },
    {
     "ename": "OutputParserException",
     "evalue": "Got invalid JSON object. Error: Extra data: line 4 column 1 (char 94)",
     "output_type": "error",
     "traceback": [
      "\u001b[0;31m---------------------------------------------------------------------------\u001b[0m",
      "\u001b[0;31mJSONDecodeError\u001b[0m                           Traceback (most recent call last)",
      "File \u001b[0;32m~/miniforge3/envs/ally/lib/python3.11/site-packages/langchain/output_parsers/json.py:163\u001b[0m, in \u001b[0;36mparse_and_check_json_markdown\u001b[0;34m(text, expected_keys)\u001b[0m\n\u001b[1;32m    162\u001b[0m \u001b[39mtry\u001b[39;00m:\n\u001b[0;32m--> 163\u001b[0m     json_obj \u001b[39m=\u001b[39m parse_json_markdown(text)\n\u001b[1;32m    164\u001b[0m \u001b[39mexcept\u001b[39;00m json\u001b[39m.\u001b[39mJSONDecodeError \u001b[39mas\u001b[39;00m e:\n",
      "File \u001b[0;32m~/miniforge3/envs/ally/lib/python3.11/site-packages/langchain/output_parsers/json.py:145\u001b[0m, in \u001b[0;36mparse_json_markdown\u001b[0;34m(json_string, parser)\u001b[0m\n\u001b[1;32m    144\u001b[0m \u001b[39m# Parse the JSON string into a Python dictionary\u001b[39;00m\n\u001b[0;32m--> 145\u001b[0m parsed \u001b[39m=\u001b[39m parser(json_str)\n\u001b[1;32m    147\u001b[0m \u001b[39mreturn\u001b[39;00m parsed\n",
      "File \u001b[0;32m~/miniforge3/envs/ally/lib/python3.11/json/__init__.py:346\u001b[0m, in \u001b[0;36mloads\u001b[0;34m(s, cls, object_hook, parse_float, parse_int, parse_constant, object_pairs_hook, **kw)\u001b[0m\n\u001b[1;32m    343\u001b[0m \u001b[39mif\u001b[39;00m (\u001b[39mcls\u001b[39m \u001b[39mis\u001b[39;00m \u001b[39mNone\u001b[39;00m \u001b[39mand\u001b[39;00m object_hook \u001b[39mis\u001b[39;00m \u001b[39mNone\u001b[39;00m \u001b[39mand\u001b[39;00m\n\u001b[1;32m    344\u001b[0m         parse_int \u001b[39mis\u001b[39;00m \u001b[39mNone\u001b[39;00m \u001b[39mand\u001b[39;00m parse_float \u001b[39mis\u001b[39;00m \u001b[39mNone\u001b[39;00m \u001b[39mand\u001b[39;00m\n\u001b[1;32m    345\u001b[0m         parse_constant \u001b[39mis\u001b[39;00m \u001b[39mNone\u001b[39;00m \u001b[39mand\u001b[39;00m object_pairs_hook \u001b[39mis\u001b[39;00m \u001b[39mNone\u001b[39;00m \u001b[39mand\u001b[39;00m \u001b[39mnot\u001b[39;00m kw):\n\u001b[0;32m--> 346\u001b[0m     \u001b[39mreturn\u001b[39;00m _default_decoder\u001b[39m.\u001b[39;49mdecode(s)\n\u001b[1;32m    347\u001b[0m \u001b[39mif\u001b[39;00m \u001b[39mcls\u001b[39m \u001b[39mis\u001b[39;00m \u001b[39mNone\u001b[39;00m:\n",
      "File \u001b[0;32m~/miniforge3/envs/ally/lib/python3.11/json/decoder.py:340\u001b[0m, in \u001b[0;36mJSONDecoder.decode\u001b[0;34m(self, s, _w)\u001b[0m\n\u001b[1;32m    339\u001b[0m \u001b[39mif\u001b[39;00m end \u001b[39m!=\u001b[39m \u001b[39mlen\u001b[39m(s):\n\u001b[0;32m--> 340\u001b[0m     \u001b[39mraise\u001b[39;00m JSONDecodeError(\u001b[39m\"\u001b[39m\u001b[39mExtra data\u001b[39m\u001b[39m\"\u001b[39m, s, end)\n\u001b[1;32m    341\u001b[0m \u001b[39mreturn\u001b[39;00m obj\n",
      "\u001b[0;31mJSONDecodeError\u001b[0m: Extra data: line 4 column 1 (char 94)",
      "\nDuring handling of the above exception, another exception occurred:\n",
      "\u001b[0;31mOutputParserException\u001b[0m                     Traceback (most recent call last)",
      "File \u001b[0;32m~/Myspace/oos/ally/examples/../ally/runtimes/base.py:132\u001b[0m, in \u001b[0;36mLLMRuntime._process_record\u001b[0;34m(self, record, chain, output_parser)\u001b[0m\n\u001b[1;32m    131\u001b[0m \u001b[39mtry\u001b[39;00m:\n\u001b[0;32m--> 132\u001b[0m \tverified_output \u001b[39m=\u001b[39m output_parser\u001b[39m.\u001b[39;49mparse(result)\n\u001b[1;32m    133\u001b[0m \u001b[39mexcept\u001b[39;00m \u001b[39mException\u001b[39;00m \u001b[39mas\u001b[39;00m e:\n",
      "File \u001b[0;32m~/miniforge3/envs/ally/lib/python3.11/site-packages/langchain/output_parsers/structured.py:96\u001b[0m, in \u001b[0;36mStructuredOutputParser.parse\u001b[0;34m(self, text)\u001b[0m\n\u001b[1;32m     95\u001b[0m expected_keys \u001b[39m=\u001b[39m [rs\u001b[39m.\u001b[39mname \u001b[39mfor\u001b[39;00m rs \u001b[39min\u001b[39;00m \u001b[39mself\u001b[39m\u001b[39m.\u001b[39mresponse_schemas]\n\u001b[0;32m---> 96\u001b[0m \u001b[39mreturn\u001b[39;00m parse_and_check_json_markdown(text, expected_keys)\n",
      "File \u001b[0;32m~/miniforge3/envs/ally/lib/python3.11/site-packages/langchain/output_parsers/json.py:165\u001b[0m, in \u001b[0;36mparse_and_check_json_markdown\u001b[0;34m(text, expected_keys)\u001b[0m\n\u001b[1;32m    164\u001b[0m \u001b[39mexcept\u001b[39;00m json\u001b[39m.\u001b[39mJSONDecodeError \u001b[39mas\u001b[39;00m e:\n\u001b[0;32m--> 165\u001b[0m     \u001b[39mraise\u001b[39;00m OutputParserException(\u001b[39mf\u001b[39m\u001b[39m\"\u001b[39m\u001b[39mGot invalid JSON object. Error: \u001b[39m\u001b[39m{\u001b[39;00me\u001b[39m}\u001b[39;00m\u001b[39m\"\u001b[39m)\n\u001b[1;32m    166\u001b[0m \u001b[39mfor\u001b[39;00m key \u001b[39min\u001b[39;00m expected_keys:\n",
      "\u001b[0;31mOutputParserException\u001b[0m: Got invalid JSON object. Error: Extra data: line 4 column 1 (char 94)",
      "\nDuring handling of the above exception, another exception occurred:\n",
      "\u001b[0;31mJSONDecodeError\u001b[0m                           Traceback (most recent call last)",
      "File \u001b[0;32m~/miniforge3/envs/ally/lib/python3.11/site-packages/langchain/output_parsers/json.py:163\u001b[0m, in \u001b[0;36mparse_and_check_json_markdown\u001b[0;34m(text, expected_keys)\u001b[0m\n\u001b[1;32m    162\u001b[0m \u001b[39mtry\u001b[39;00m:\n\u001b[0;32m--> 163\u001b[0m     json_obj \u001b[39m=\u001b[39m parse_json_markdown(text)\n\u001b[1;32m    164\u001b[0m \u001b[39mexcept\u001b[39;00m json\u001b[39m.\u001b[39mJSONDecodeError \u001b[39mas\u001b[39;00m e:\n",
      "File \u001b[0;32m~/miniforge3/envs/ally/lib/python3.11/site-packages/langchain/output_parsers/json.py:145\u001b[0m, in \u001b[0;36mparse_json_markdown\u001b[0;34m(json_string, parser)\u001b[0m\n\u001b[1;32m    144\u001b[0m \u001b[39m# Parse the JSON string into a Python dictionary\u001b[39;00m\n\u001b[0;32m--> 145\u001b[0m parsed \u001b[39m=\u001b[39m parser(json_str)\n\u001b[1;32m    147\u001b[0m \u001b[39mreturn\u001b[39;00m parsed\n",
      "File \u001b[0;32m~/miniforge3/envs/ally/lib/python3.11/json/__init__.py:346\u001b[0m, in \u001b[0;36mloads\u001b[0;34m(s, cls, object_hook, parse_float, parse_int, parse_constant, object_pairs_hook, **kw)\u001b[0m\n\u001b[1;32m    343\u001b[0m \u001b[39mif\u001b[39;00m (\u001b[39mcls\u001b[39m \u001b[39mis\u001b[39;00m \u001b[39mNone\u001b[39;00m \u001b[39mand\u001b[39;00m object_hook \u001b[39mis\u001b[39;00m \u001b[39mNone\u001b[39;00m \u001b[39mand\u001b[39;00m\n\u001b[1;32m    344\u001b[0m         parse_int \u001b[39mis\u001b[39;00m \u001b[39mNone\u001b[39;00m \u001b[39mand\u001b[39;00m parse_float \u001b[39mis\u001b[39;00m \u001b[39mNone\u001b[39;00m \u001b[39mand\u001b[39;00m\n\u001b[1;32m    345\u001b[0m         parse_constant \u001b[39mis\u001b[39;00m \u001b[39mNone\u001b[39;00m \u001b[39mand\u001b[39;00m object_pairs_hook \u001b[39mis\u001b[39;00m \u001b[39mNone\u001b[39;00m \u001b[39mand\u001b[39;00m \u001b[39mnot\u001b[39;00m kw):\n\u001b[0;32m--> 346\u001b[0m     \u001b[39mreturn\u001b[39;00m _default_decoder\u001b[39m.\u001b[39;49mdecode(s)\n\u001b[1;32m    347\u001b[0m \u001b[39mif\u001b[39;00m \u001b[39mcls\u001b[39m \u001b[39mis\u001b[39;00m \u001b[39mNone\u001b[39;00m:\n",
      "File \u001b[0;32m~/miniforge3/envs/ally/lib/python3.11/json/decoder.py:340\u001b[0m, in \u001b[0;36mJSONDecoder.decode\u001b[0;34m(self, s, _w)\u001b[0m\n\u001b[1;32m    339\u001b[0m \u001b[39mif\u001b[39;00m end \u001b[39m!=\u001b[39m \u001b[39mlen\u001b[39m(s):\n\u001b[0;32m--> 340\u001b[0m     \u001b[39mraise\u001b[39;00m JSONDecodeError(\u001b[39m\"\u001b[39m\u001b[39mExtra data\u001b[39m\u001b[39m\"\u001b[39m, s, end)\n\u001b[1;32m    341\u001b[0m \u001b[39mreturn\u001b[39;00m obj\n",
      "\u001b[0;31mJSONDecodeError\u001b[0m: Extra data: line 4 column 1 (char 94)",
      "\nDuring handling of the above exception, another exception occurred:\n",
      "\u001b[0;31mOutputParserException\u001b[0m                     Traceback (most recent call last)",
      "\u001b[1;32m/Users/nguyenduyanh/Myspace/oos/ally/examples/skillsets_sequence_of_skills.ipynb Cell 3\u001b[0m line \u001b[0;36m1\n\u001b[0;32m----> <a href='vscode-notebook-cell:/Users/nguyenduyanh/Myspace/oos/ally/examples/skillsets_sequence_of_skills.ipynb#W5sZmlsZQ%3D%3D?line=0'>1</a>\u001b[0m agent\u001b[39m.\u001b[39;49mlearn(learning_iterations\u001b[39m=\u001b[39;49m\u001b[39m5\u001b[39;49m)\n",
      "File \u001b[0;32m~/Myspace/oos/ally/examples/../ally/agents/base.py:247\u001b[0m, in \u001b[0;36mAgent.learn\u001b[0;34m(self, learning_iterations, accuracy_threshold, update_memory, request_environment_feedback, wait_for_environment_feedback, num_predictions_feedback, runtime, teacher_runtime)\u001b[0m\n\u001b[1;32m    245\u001b[0m \u001b[39m# 3. IMPROVEMENT PHASE: Improve skills based on analysis\u001b[39;00m\n\u001b[1;32m    246\u001b[0m print_text(\u001b[39mf\u001b[39m\u001b[39m\"\u001b[39m\u001b[39mImprove \u001b[39m\u001b[39m\\\"\u001b[39;00m\u001b[39m{\u001b[39;00mtrain_skill\u001b[39m.\u001b[39mname\u001b[39m}\u001b[39;00m\u001b[39m\\\"\u001b[39;00m\u001b[39m skill based on analysis ...\u001b[39m\u001b[39m\"\u001b[39m)\n\u001b[0;32m--> 247\u001b[0m train_skill\u001b[39m.\u001b[39;49mimprove(\n\u001b[1;32m    248\u001b[0m \terror_analysis\u001b[39m=\u001b[39;49merror_analysis,\n\u001b[1;32m    249\u001b[0m \truntime\u001b[39m=\u001b[39;49mteacher_runtime,\n\u001b[1;32m    250\u001b[0m )\n\u001b[1;32m    251\u001b[0m print_text(\u001b[39mf\u001b[39m\u001b[39m'\u001b[39m\u001b[39mUpdated instructions for skill \u001b[39m\u001b[39m\"\u001b[39m\u001b[39m{\u001b[39;00mtrain_skill\u001b[39m.\u001b[39mname\u001b[39m}\u001b[39;00m\u001b[39m\"\u001b[39m\u001b[39m:\u001b[39m\u001b[39m\\n\u001b[39;00m\u001b[39m'\u001b[39m)\n\u001b[1;32m    252\u001b[0m print_text(train_skill\u001b[39m.\u001b[39minstruction_template, style\u001b[39m=\u001b[39m\u001b[39m'\u001b[39m\u001b[39mbold green\u001b[39m\u001b[39m'\u001b[39m)\n",
      "File \u001b[0;32m~/Myspace/oos/ally/examples/../ally/skills/base.py:339\u001b[0m, in \u001b[0;36mLLMSkill.improve\u001b[0;34m(self, error_analysis, runtime)\u001b[0m\n\u001b[1;32m    326\u001b[0m \u001b[39mdef\u001b[39;00m \u001b[39mimprove\u001b[39m(\n\u001b[1;32m    327\u001b[0m \t\u001b[39mself\u001b[39m,\n\u001b[1;32m    328\u001b[0m \terror_analysis: \u001b[39mstr\u001b[39m,\n\u001b[1;32m    329\u001b[0m \truntime: LLMRuntime,\n\u001b[1;32m    330\u001b[0m ):\n\u001b[1;32m    331\u001b[0m \u001b[39m\t\u001b[39m\u001b[39m\"\"\"\u001b[39;00m\n\u001b[1;32m    332\u001b[0m \u001b[39m\tRefines the LLM skill based on its recent experiences and updates the skill's instructions.\u001b[39;00m\n\u001b[1;32m    333\u001b[0m \n\u001b[0;32m   (...)\u001b[0m\n\u001b[1;32m    336\u001b[0m \u001b[39m\t\t\truntime (Runtime): The runtime instance to be used for processing.\u001b[39;00m\n\u001b[1;32m    337\u001b[0m \u001b[39m\t\"\"\"\u001b[39;00m\n\u001b[0;32m--> 339\u001b[0m \tresult \u001b[39m=\u001b[39m runtime\u001b[39m.\u001b[39;49mprocess_record(\n\u001b[1;32m    340\u001b[0m \t\t\trecord\u001b[39m=\u001b[39;49m{\n\u001b[1;32m    341\u001b[0m \t\t\t\t\t\u001b[39m'\u001b[39;49m\u001b[39merror_analysis\u001b[39;49m\u001b[39m'\u001b[39;49m: error_analysis\n\u001b[1;32m    342\u001b[0m \t\t\t},\n\u001b[1;32m    343\u001b[0m \t\t\tinstruction_template\u001b[39m=\u001b[39;49m\u001b[39m\"\"\"\u001b[39;49m\n\u001b[1;32m    344\u001b[0m \u001b[39m\t\t\t\tLLM prompt was created by concatenating instructions with text input:\u001b[39;49m\u001b[39m\\n\u001b[39;49;00m\u001b[39m\\n\u001b[39;49;00m\n\u001b[1;32m    345\u001b[0m \u001b[39m\t\t\t\tPrediction = LLM(Input, Instructions)\u001b[39;49m\u001b[39m\\n\u001b[39;49;00m\u001b[39m\\n\u001b[39;49;00m\n\u001b[1;32m    346\u001b[0m \u001b[39m\t\t\t\tWe expect the prediction to be equal to the ground truth.\u001b[39;49m\u001b[39m\\n\u001b[39;49;00m\n\u001b[1;32m    347\u001b[0m \u001b[39m\t\t\t\tYour task is to analyze errors made by old instructions \u001b[39;49m\n\u001b[1;32m    348\u001b[0m \u001b[39m\t\t\t\tand craft new instructions for the LLM.\u001b[39;49m\u001b[39m\\n\u001b[39;49;00m\n\u001b[1;32m    349\u001b[0m \u001b[39m\t\t\t\tFollow best practices for LLM prompt engineering.\u001b[39;49m\u001b[39m\\n\u001b[39;49;00m\n\u001b[1;32m    350\u001b[0m \u001b[39m\t\t\t\tInclude 2-3 examples at the end of your response to demonstrate how the new instruction would be applied.\u001b[39;49m\u001b[39m\\n\u001b[39;49;00m\n\u001b[1;32m    351\u001b[0m \u001b[39m\t\t\t\tUse the following format for your examples:\u001b[39;49m\u001b[39m\\n\u001b[39;49;00m\n\u001b[1;32m    352\u001b[0m \u001b[39m\t\t\t\tInput: ...\u001b[39;49m\u001b[39m\\n\u001b[39;49;00m\n\u001b[1;32m    353\u001b[0m \u001b[39m\t\t\t\tOutput: ...\u001b[39;49m\u001b[39m\\n\u001b[39;49;00m\u001b[39m\\n\u001b[39;49;00m\n\u001b[1;32m    354\u001b[0m \u001b[39m\t\t\t\u001b[39;49m\u001b[39m\"\"\"\u001b[39;49m,\n\u001b[1;32m    355\u001b[0m \t\t\tinput_template\u001b[39m=\u001b[39;49m\u001b[39mf\u001b[39;49m\u001b[39m\"\"\"\u001b[39;49m\n\u001b[1;32m    356\u001b[0m \u001b[39m\t\t\t\tOld instructions: \u001b[39;49m\u001b[39m{\u001b[39;49;00m\u001b[39mself\u001b[39;49m\u001b[39m.\u001b[39;49minstruction_template\u001b[39m}\u001b[39;49;00m\u001b[39m\\n\u001b[39;49;00m\u001b[39m\\n\u001b[39;49;00m\n\u001b[1;32m    357\u001b[0m \u001b[39m\t\t\t\tErrors:\u001b[39;49m\u001b[39m\\\u001b[39;49m\u001b[39m{\u001b[39;49;00merror_analysis\u001b[39m}\u001b[39;49;00m\u001b[39m\\n\u001b[39;49;00m\u001b[39m\"\u001b[39;49m\n\u001b[1;32m    358\u001b[0m \u001b[39m\t\t\t\tNew instruction:\u001b[39;49m\u001b[39m\\n\u001b[39;49;00m\n\u001b[1;32m    359\u001b[0m \u001b[39m\t\t\t\u001b[39;49m\u001b[39m\"\"\"\u001b[39;49m,\n\u001b[1;32m    360\u001b[0m \t\t\toutput_template\u001b[39m=\u001b[39;49m[{\n\u001b[1;32m    361\u001b[0m \t\t\t\t\u001b[39m\"\u001b[39;49m\u001b[39mname\u001b[39;49m\u001b[39m\"\u001b[39;49m: \u001b[39m\"\u001b[39;49m\u001b[39mnew_instruction\u001b[39;49m\u001b[39m\"\u001b[39;49m,\n\u001b[1;32m    362\u001b[0m \t\t\t\t\u001b[39m\"\u001b[39;49m\u001b[39mdescription\u001b[39;49m\u001b[39m\"\u001b[39;49m: \u001b[39m\"\u001b[39;49m\u001b[39mNew instruction\u001b[39;49m\u001b[39m\"\u001b[39;49m\n\u001b[1;32m    363\u001b[0m \t\t\t}],\n\u001b[1;32m    364\u001b[0m \t)\n\u001b[1;32m    365\u001b[0m \t\u001b[39mself\u001b[39m\u001b[39m.\u001b[39minstruction_template \u001b[39m=\u001b[39m result[\u001b[39m'\u001b[39m\u001b[39mnew_instruction\u001b[39m\u001b[39m'\u001b[39m]\n",
      "File \u001b[0;32m~/Myspace/oos/ally/examples/../ally/runtimes/base.py:217\u001b[0m, in \u001b[0;36mLLMRuntime.process_record\u001b[0;34m(self, record, input_template, output_template, instruction_template)\u001b[0m\n\u001b[1;32m    205\u001b[0m \u001b[39m\u001b[39m\u001b[39m\"\"\"Processes a record using the provided templates and instructions.\u001b[39;00m\n\u001b[1;32m    206\u001b[0m \n\u001b[1;32m    207\u001b[0m \u001b[39mArgs:\u001b[39;00m\n\u001b[0;32m   (...)\u001b[0m\n\u001b[1;32m    213\u001b[0m \u001b[39m\t\tDict[str, Any]: The processed record.\u001b[39;00m\n\u001b[1;32m    214\u001b[0m \u001b[39m\"\"\"\u001b[39;00m\n\u001b[1;32m    215\u001b[0m chain, output_parser \u001b[39m=\u001b[39m \u001b[39mself\u001b[39m\u001b[39m.\u001b[39m_prepare_chain_and_params(\n\u001b[1;32m    216\u001b[0m \tinput_template, output_template, instruction_template)\n\u001b[0;32m--> 217\u001b[0m output \u001b[39m=\u001b[39m \u001b[39mself\u001b[39;49m\u001b[39m.\u001b[39;49m_process_record(\n\u001b[1;32m    218\u001b[0m \trecord\u001b[39m=\u001b[39;49mrecord,\n\u001b[1;32m    219\u001b[0m \tchain\u001b[39m=\u001b[39;49mchain,\n\u001b[1;32m    220\u001b[0m \toutput_parser\u001b[39m=\u001b[39;49moutput_parser,\n\u001b[1;32m    221\u001b[0m )\n\u001b[1;32m    222\u001b[0m \u001b[39mreturn\u001b[39;00m output\n",
      "File \u001b[0;32m~/Myspace/oos/ally/examples/../ally/runtimes/base.py:136\u001b[0m, in \u001b[0;36mLLMRuntime._process_record\u001b[0;34m(self, record, chain, output_parser)\u001b[0m\n\u001b[1;32m    133\u001b[0m \t\u001b[39mexcept\u001b[39;00m \u001b[39mException\u001b[39;00m \u001b[39mas\u001b[39;00m e:\n\u001b[1;32m    134\u001b[0m \t\tretry_parser \u001b[39m=\u001b[39m RetryWithErrorOutputParser\u001b[39m.\u001b[39mfrom_llm(\n\u001b[1;32m    135\u001b[0m \t\t\tparser\u001b[39m=\u001b[39moutput_parser, llm\u001b[39m=\u001b[39m\u001b[39mself\u001b[39m\u001b[39m.\u001b[39m_llm, max_retries\u001b[39m=\u001b[39m\u001b[39m2\u001b[39m)\n\u001b[0;32m--> 136\u001b[0m \t\tverified_output \u001b[39m=\u001b[39m retry_parser\u001b[39m.\u001b[39;49mparse_with_chat_prompt_template(\n\u001b[1;32m    137\u001b[0m \t\t\tresult, \u001b[39mself\u001b[39;49m\u001b[39m.\u001b[39;49m_llm_prompt_template, verified_input)\n\u001b[1;32m    139\u001b[0m \u001b[39mreturn\u001b[39;00m verified_output\n",
      "File \u001b[0;32m~/Myspace/oos/ally/examples/../ally/utils/retry_parser.py:80\u001b[0m, in \u001b[0;36mRetryWithErrorOutputParser.parse_with_chat_prompt_template\u001b[0;34m(self, completion, chat_prompt_template, verified_input)\u001b[0m\n\u001b[1;32m     78\u001b[0m \u001b[39mexcept\u001b[39;00m OutputParserException \u001b[39mas\u001b[39;00m e:\n\u001b[1;32m     79\u001b[0m \t\t\u001b[39mif\u001b[39;00m retries \u001b[39m==\u001b[39m \u001b[39mself\u001b[39m\u001b[39m.\u001b[39mmax_retries:\n\u001b[0;32m---> 80\u001b[0m \t\t\t\t\u001b[39mraise\u001b[39;00m e\n\u001b[1;32m     81\u001b[0m \t\t\u001b[39melse\u001b[39;00m:\n\u001b[1;32m     82\u001b[0m \t\t\t\tretries \u001b[39m+\u001b[39m\u001b[39m=\u001b[39m \u001b[39m1\u001b[39m\n",
      "File \u001b[0;32m~/Myspace/oos/ally/examples/../ally/utils/retry_parser.py:77\u001b[0m, in \u001b[0;36mRetryWithErrorOutputParser.parse_with_chat_prompt_template\u001b[0;34m(self, completion, chat_prompt_template, verified_input)\u001b[0m\n\u001b[1;32m     75\u001b[0m \u001b[39mwhile\u001b[39;00m retries \u001b[39m<\u001b[39m\u001b[39m=\u001b[39m \u001b[39mself\u001b[39m\u001b[39m.\u001b[39mmax_retries:\n\u001b[1;32m     76\u001b[0m \t\t\u001b[39mtry\u001b[39;00m:\n\u001b[0;32m---> 77\u001b[0m \t\t\t\t\u001b[39mreturn\u001b[39;00m \u001b[39mself\u001b[39;49m\u001b[39m.\u001b[39;49mparser\u001b[39m.\u001b[39;49mparse(completion)\n\u001b[1;32m     78\u001b[0m \t\t\u001b[39mexcept\u001b[39;00m OutputParserException \u001b[39mas\u001b[39;00m e:\n\u001b[1;32m     79\u001b[0m \t\t\t\t\u001b[39mif\u001b[39;00m retries \u001b[39m==\u001b[39m \u001b[39mself\u001b[39m\u001b[39m.\u001b[39mmax_retries:\n",
      "File \u001b[0;32m~/miniforge3/envs/ally/lib/python3.11/site-packages/langchain/output_parsers/structured.py:96\u001b[0m, in \u001b[0;36mStructuredOutputParser.parse\u001b[0;34m(self, text)\u001b[0m\n\u001b[1;32m     94\u001b[0m \u001b[39mdef\u001b[39;00m \u001b[39mparse\u001b[39m(\u001b[39mself\u001b[39m, text: \u001b[39mstr\u001b[39m) \u001b[39m-\u001b[39m\u001b[39m>\u001b[39m Any:\n\u001b[1;32m     95\u001b[0m     expected_keys \u001b[39m=\u001b[39m [rs\u001b[39m.\u001b[39mname \u001b[39mfor\u001b[39;00m rs \u001b[39min\u001b[39;00m \u001b[39mself\u001b[39m\u001b[39m.\u001b[39mresponse_schemas]\n\u001b[0;32m---> 96\u001b[0m     \u001b[39mreturn\u001b[39;00m parse_and_check_json_markdown(text, expected_keys)\n",
      "File \u001b[0;32m~/miniforge3/envs/ally/lib/python3.11/site-packages/langchain/output_parsers/json.py:165\u001b[0m, in \u001b[0;36mparse_and_check_json_markdown\u001b[0;34m(text, expected_keys)\u001b[0m\n\u001b[1;32m    163\u001b[0m     json_obj \u001b[39m=\u001b[39m parse_json_markdown(text)\n\u001b[1;32m    164\u001b[0m \u001b[39mexcept\u001b[39;00m json\u001b[39m.\u001b[39mJSONDecodeError \u001b[39mas\u001b[39;00m e:\n\u001b[0;32m--> 165\u001b[0m     \u001b[39mraise\u001b[39;00m OutputParserException(\u001b[39mf\u001b[39m\u001b[39m\"\u001b[39m\u001b[39mGot invalid JSON object. Error: \u001b[39m\u001b[39m{\u001b[39;00me\u001b[39m}\u001b[39;00m\u001b[39m\"\u001b[39m)\n\u001b[1;32m    166\u001b[0m \u001b[39mfor\u001b[39;00m key \u001b[39min\u001b[39;00m expected_keys:\n\u001b[1;32m    167\u001b[0m     \u001b[39mif\u001b[39;00m key \u001b[39mnot\u001b[39;00m \u001b[39min\u001b[39;00m json_obj:\n",
      "\u001b[0;31mOutputParserException\u001b[0m: Got invalid JSON object. Error: Extra data: line 4 column 1 (char 94)"
     ]
    }
   ],
   "source": [
    "agent.learn(learning_iterations=5)"
   ]
  },
  {
   "cell_type": "code",
   "execution_count": 3,
   "metadata": {},
   "outputs": [
    {
     "data": {
      "text/html": [
       "<pre style=\"white-space:pre;overflow-x:auto;line-height:normal;font-family:Menlo,'DejaVu Sans Mono',consolas,'Courier New',monospace\">Applying skill: skill_0\n",
       "</pre>\n"
      ],
      "text/plain": [
       "Applying skill: skill_0\n"
      ]
     },
     "metadata": {},
     "output_type": "display_data"
    },
    {
     "data": {
      "text/html": [
       "<pre style=\"white-space:pre;overflow-x:auto;line-height:normal;font-family:Menlo,'DejaVu Sans Mono',consolas,'Courier New',monospace\"><span style=\"font-weight: bold\">[</span><span style=\"color: #008000; text-decoration-color: #008000\">'category'</span><span style=\"font-weight: bold\">]</span>\n",
       "</pre>\n"
      ],
      "text/plain": [
       "\u001b[1m[\u001b[0m\u001b[32m'category'\u001b[0m\u001b[1m]\u001b[0m\n"
      ]
     },
     "metadata": {},
     "output_type": "display_data"
    },
    {
     "name": "stderr",
     "output_type": "stream",
     "text": [
      "  0%|          | 0/3 [00:00<?, ?it/s]"
     ]
    },
    {
     "data": {
      "text/html": [
       "<pre style=\"white-space:pre;overflow-x:auto;line-height:normal;font-family:Menlo,'DejaVu Sans Mono',consolas,'Courier New',monospace\"><span style=\"font-weight: bold\">{</span><span style=\"color: #008000; text-decoration-color: #008000\">'category'</span>: <span style=\"color: #008000; text-decoration-color: #008000\">'Trace Minerals'</span><span style=\"font-weight: bold\">}</span>\n",
       "</pre>\n"
      ],
      "text/plain": [
       "\u001b[1m{\u001b[0m\u001b[32m'category'\u001b[0m: \u001b[32m'Trace Minerals'\u001b[0m\u001b[1m}\u001b[0m\n"
      ]
     },
     "metadata": {},
     "output_type": "display_data"
    },
    {
     "name": "stderr",
     "output_type": "stream",
     "text": [
      " 67%|██████▋   | 2/3 [00:02<00:01,  1.41s/it]"
     ]
    },
    {
     "data": {
      "text/html": [
       "<pre style=\"white-space:pre;overflow-x:auto;line-height:normal;font-family:Menlo,'DejaVu Sans Mono',consolas,'Courier New',monospace\"><span style=\"font-weight: bold\">{</span><span style=\"color: #008000; text-decoration-color: #008000\">'category'</span>: <span style=\"color: #008000; text-decoration-color: #008000\">'Water-Soluble Vitamins'</span><span style=\"font-weight: bold\">}</span>\n",
       "</pre>\n"
      ],
      "text/plain": [
       "\u001b[1m{\u001b[0m\u001b[32m'category'\u001b[0m: \u001b[32m'Water-Soluble Vitamins'\u001b[0m\u001b[1m}\u001b[0m\n"
      ]
     },
     "metadata": {},
     "output_type": "display_data"
    },
    {
     "name": "stderr",
     "output_type": "stream",
     "text": [
      "100%|██████████| 3/3 [00:07<00:00,  2.75s/it]"
     ]
    },
    {
     "data": {
      "text/html": [
       "<pre style=\"white-space:pre;overflow-x:auto;line-height:normal;font-family:Menlo,'DejaVu Sans Mono',consolas,'Courier New',monospace\"><span style=\"font-weight: bold\">{</span><span style=\"color: #008000; text-decoration-color: #008000\">'category'</span>: <span style=\"color: #008000; text-decoration-color: #008000\">'Fatty Acids'</span><span style=\"font-weight: bold\">}</span>\n",
       "</pre>\n"
      ],
      "text/plain": [
       "\u001b[1m{\u001b[0m\u001b[32m'category'\u001b[0m: \u001b[32m'Fatty Acids'\u001b[0m\u001b[1m}\u001b[0m\n"
      ]
     },
     "metadata": {},
     "output_type": "display_data"
    },
    {
     "name": "stderr",
     "output_type": "stream",
     "text": [
      "100%|██████████| 3/3 [00:25<00:00,  8.36s/it]\n"
     ]
    },
    {
     "data": {
      "text/html": [
       "<pre style=\"white-space:pre;overflow-x:auto;line-height:normal;font-family:Menlo,'DejaVu Sans Mono',consolas,'Courier New',monospace\">Applying skill: skill_1\n",
       "</pre>\n"
      ],
      "text/plain": [
       "Applying skill: skill_1\n"
      ]
     },
     "metadata": {},
     "output_type": "display_data"
    },
    {
     "data": {
      "text/html": [
       "<pre style=\"white-space:pre;overflow-x:auto;line-height:normal;font-family:Menlo,'DejaVu Sans Mono',consolas,'Courier New',monospace\"><span style=\"font-weight: bold\">[</span><span style=\"color: #008000; text-decoration-color: #008000\">'skill_0'</span><span style=\"font-weight: bold\">]</span>\n",
       "</pre>\n"
      ],
      "text/plain": [
       "\u001b[1m[\u001b[0m\u001b[32m'skill_0'\u001b[0m\u001b[1m]\u001b[0m\n"
      ]
     },
     "metadata": {},
     "output_type": "display_data"
    },
    {
     "name": "stderr",
     "output_type": "stream",
     "text": [
      "  0%|          | 0/3 [00:00<?, ?it/s]"
     ]
    },
    {
     "data": {
      "text/html": [
       "<pre style=\"white-space:pre;overflow-x:auto;line-height:normal;font-family:Menlo,'DejaVu Sans Mono',consolas,'Courier New',monospace\"><span style=\"font-weight: bold\">{</span><span style=\"color: #008000; text-decoration-color: #008000\">'category'</span>: <span style=\"color: #008000; text-decoration-color: #008000\">'Trace Minerals'</span>, <span style=\"color: #008000; text-decoration-color: #008000\">'skill_0'</span>: <span style=\"color: #008000; text-decoration-color: #008000\">'Trace Minerals'</span><span style=\"font-weight: bold\">}</span>\n",
       "</pre>\n"
      ],
      "text/plain": [
       "\u001b[1m{\u001b[0m\u001b[32m'category'\u001b[0m: \u001b[32m'Trace Minerals'\u001b[0m, \u001b[32m'skill_0'\u001b[0m: \u001b[32m'Trace Minerals'\u001b[0m\u001b[1m}\u001b[0m\n"
      ]
     },
     "metadata": {},
     "output_type": "display_data"
    },
    {
     "name": "stderr",
     "output_type": "stream",
     "text": [
      " 67%|██████▋   | 2/3 [00:15<00:07,  7.87s/it]"
     ]
    },
    {
     "data": {
      "text/html": [
       "<pre style=\"white-space:pre;overflow-x:auto;line-height:normal;font-family:Menlo,'DejaVu Sans Mono',consolas,'Courier New',monospace\"><span style=\"font-weight: bold\">{</span><span style=\"color: #008000; text-decoration-color: #008000\">'category'</span>: <span style=\"color: #008000; text-decoration-color: #008000\">'Water-Soluble Vitamins'</span>, <span style=\"color: #008000; text-decoration-color: #008000\">'skill_0'</span>: <span style=\"color: #008000; text-decoration-color: #008000\">'Water-Soluble Vitamins'</span><span style=\"font-weight: bold\">}</span>\n",
       "</pre>\n"
      ],
      "text/plain": [
       "\u001b[1m{\u001b[0m\u001b[32m'category'\u001b[0m: \u001b[32m'Water-Soluble Vitamins'\u001b[0m, \u001b[32m'skill_0'\u001b[0m: \u001b[32m'Water-Soluble Vitamins'\u001b[0m\u001b[1m}\u001b[0m\n"
      ]
     },
     "metadata": {},
     "output_type": "display_data"
    },
    {
     "name": "stderr",
     "output_type": "stream",
     "text": [
      "100%|██████████| 3/3 [00:33<00:00, 11.82s/it]"
     ]
    },
    {
     "data": {
      "text/html": [
       "<pre style=\"white-space:pre;overflow-x:auto;line-height:normal;font-family:Menlo,'DejaVu Sans Mono',consolas,'Courier New',monospace\"><span style=\"font-weight: bold\">{</span><span style=\"color: #008000; text-decoration-color: #008000\">'category'</span>: <span style=\"color: #008000; text-decoration-color: #008000\">'Fatty Acids'</span>, <span style=\"color: #008000; text-decoration-color: #008000\">'skill_0'</span>: <span style=\"color: #008000; text-decoration-color: #008000\">'Fatty Acids'</span><span style=\"font-weight: bold\">}</span>\n",
       "</pre>\n"
      ],
      "text/plain": [
       "\u001b[1m{\u001b[0m\u001b[32m'category'\u001b[0m: \u001b[32m'Fatty Acids'\u001b[0m, \u001b[32m'skill_0'\u001b[0m: \u001b[32m'Fatty Acids'\u001b[0m\u001b[1m}\u001b[0m\n"
      ]
     },
     "metadata": {},
     "output_type": "display_data"
    },
    {
     "name": "stderr",
     "output_type": "stream",
     "text": [
      "Retrying langchain.chat_models.openai.ChatOpenAI.completion_with_retry.<locals>._completion_with_retry in 4.0 seconds as it raised ServiceUnavailableError: The server is overloaded or not ready yet..\n",
      "100%|██████████| 3/3 [01:32<00:00, 30.72s/it]\n"
     ]
    }
   ],
   "source": [
    "predictions = agent.run(pd.DataFrame([\n",
    "    ['Trace Minerals'],\n",
    "    ['Water-Soluble Vitamins'],\n",
    "    ['Fatty Acids']\n",
    "], columns=['category']))"
   ]
  },
  {
   "cell_type": "code",
   "execution_count": 4,
   "metadata": {},
   "outputs": [
    {
     "data": {
      "text/html": [
       "<div>\n",
       "<style scoped>\n",
       "    .dataframe tbody tr th:only-of-type {\n",
       "        vertical-align: middle;\n",
       "    }\n",
       "\n",
       "    .dataframe tbody tr th {\n",
       "        vertical-align: top;\n",
       "    }\n",
       "\n",
       "    .dataframe thead th {\n",
       "        text-align: right;\n",
       "    }\n",
       "</style>\n",
       "<table border=\"1\" class=\"dataframe\">\n",
       "  <thead>\n",
       "    <tr style=\"text-align: right;\">\n",
       "      <th></th>\n",
       "      <th>category</th>\n",
       "      <th>skill_0</th>\n",
       "      <th>skill_1</th>\n",
       "    </tr>\n",
       "  </thead>\n",
       "  <tbody>\n",
       "    <tr>\n",
       "      <th>0</th>\n",
       "      <td>Trace Minerals</td>\n",
       "      <td>Trace Minerals</td>\n",
       "      <td>Trace minerals are essential minerals that are...</td>\n",
       "    </tr>\n",
       "    <tr>\n",
       "      <th>1</th>\n",
       "      <td>Water-Soluble Vitamins</td>\n",
       "      <td>Water-Soluble Vitamins</td>\n",
       "      <td>Water-soluble vitamins are a group of vitamins...</td>\n",
       "    </tr>\n",
       "    <tr>\n",
       "      <th>2</th>\n",
       "      <td>Fatty Acids</td>\n",
       "      <td>Fatty Acids</td>\n",
       "      <td>Fatty acids are organic molecules composed of ...</td>\n",
       "    </tr>\n",
       "  </tbody>\n",
       "</table>\n",
       "</div>"
      ],
      "text/plain": [
       "                 category                 skill_0  \\\n",
       "0          Trace Minerals          Trace Minerals   \n",
       "1  Water-Soluble Vitamins  Water-Soluble Vitamins   \n",
       "2             Fatty Acids             Fatty Acids   \n",
       "\n",
       "                                             skill_1  \n",
       "0  Trace minerals are essential minerals that are...  \n",
       "1  Water-soluble vitamins are a group of vitamins...  \n",
       "2  Fatty acids are organic molecules composed of ...  "
      ]
     },
     "execution_count": 4,
     "metadata": {},
     "output_type": "execute_result"
    }
   ],
   "source": [
    "predictions"
   ]
  },
  {
   "cell_type": "code",
   "execution_count": null,
   "metadata": {},
   "outputs": [],
   "source": []
  }
 ],
 "metadata": {
  "kernelspec": {
   "display_name": "ally",
   "language": "python",
   "name": "python3"
  },
  "language_info": {
   "codemirror_mode": {
    "name": "ipython",
    "version": 3
   },
   "file_extension": ".py",
   "mimetype": "text/x-python",
   "name": "python",
   "nbconvert_exporter": "python",
   "pygments_lexer": "ipython3",
   "version": "3.11.6"
  }
 },
 "nbformat": 4,
 "nbformat_minor": 2
}
