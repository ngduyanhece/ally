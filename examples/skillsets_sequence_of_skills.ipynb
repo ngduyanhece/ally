{
 "cells": [
  {
   "cell_type": "markdown",
   "metadata": {},
   "source": [
    "# Learning sequence of skills\n",
    "Ally agent is able to create the sequence of skills based on the provided input/output samples.\n",
    "In the example below, we ask agent to build two skills from scratch with the following requirements:\n",
    "\n",
    "1. First skill get's nutrients `\"category\"` name as input and should produce the output similar to what we specify in `\"entities\"` (for example, list of common nutrients based on provided category)\n",
    "\n",
    "2. Second skill gets the output of the first skill (`\"entities\"`) and generate the text, using the examples provided in the ground truth.\n",
    "\n",
    "In other words, agent learns how to perform the data generation pipeline like `\"category\"` --> `\"entities\"` --> `\"description\"`. \n",
    "You can adjust to your specific use case"
   ]
  },
  {
   "cell_type": "code",
   "execution_count": null,
   "metadata": {},
   "outputs": [],
   "source": [
    "import sys\n",
    "sys.path.append('../')\n",
    "\n",
    "\n",
    "from ally.runtimes.openai import OpenAIRuntime\n",
    "from app.core.settings import settings\n",
    "\n",
    "from ally.environments.base import BasicEnvironment\n",
    "\n",
    "from ally.skills.skillset import LinearSkillSet\n",
    "from ally.agents.base import Agent\n",
    "from ally.skills.generation.tg import TextGenerationSkill\n",
    "import pandas as pd\n",
    "\n",
    "\n",
    "openai_runtime = OpenAIRuntime(\n",
    "    verbose=True,\n",
    "    api_key=settings.openai_api_key,\n",
    "    gpt_model_name=\"gpt-3.5-turbo\",\n",
    "    max_tokens=256,\n",
    "  )\n",
    "\n",
    "\n",
    "agent = Agent(\n",
    "    \n",
    "    # Require agent to learn sequence of two skills\n",
    "    skills=LinearSkillSet(\n",
    "      skills=[\n",
    "        TextGenerationSkill(\n",
    "          name=\"skill_0\", \n",
    "          instruction_template=\"...\",\n",
    "          input_template=\"input: {category}\",\n",
    "          output_template=[{\n",
    "            \"name\": \"entities\",\n",
    "\t\t\t      \"description\": \"the output of skill_0\",\n",
    "          }],\n",
    "          prediction_field = 'entities'\n",
    "        ),\n",
    "        TextGenerationSkill(\n",
    "          name=\"skill_1\", \n",
    "          instruction_template=\"...\",\n",
    "          input_template=\"input: {skill_0}\",\n",
    "          output_template=[{\n",
    "            \"name\": \"text\",\n",
    "\t\t\t      \"description\": \"the output of skill_1\",\n",
    "          }],\n",
    "          prediction_field = 'text'\n",
    "        )\n",
    "      ],\n",
    "    ),\n",
    "    runtimes={\n",
    "      'openai': openai_runtime\n",
    "\t  },\n",
    "    teacher_runtimes={\n",
    "      'openai': openai_runtime\n",
    "\t  },\n",
    "    \n",
    "    # provide ground truth demonstration in environment\n",
    "    environment=BasicEnvironment(\n",
    "        ground_truth_dataset=pd.DataFrame(\n",
    "            [{\n",
    "              \"category\": \"Macronutrients\",\n",
    "              \"entities\": \"Carbohydrates, Proteins, Fats\",\n",
    "              \"text\": \"Carbohydrates provide quick energy, proteins are essential for muscle repair and growth, and fats are vital for long-term energy storage and cell function.\"\n",
    "            }, {\n",
    "              \"category\": \"Vitamins\",\n",
    "              \"entities\": \"Vitamin A, Vitamin C, Vitamin D\",\n",
    "              \"text\": \"Vitamin A is crucial for good vision and a healthy immune system, Vitamin C helps in the repair of tissues and the enzymatic production of certain neurotransmitters, and Vitamin D is essential for strong bones and teeth as it helps the body absorb calcium.\"\n",
    "            }, {\n",
    "              \"category\": \"Minerals\",\n",
    "              \"entities\": \"Calcium, Iron, Magnesium\",\n",
    "              \"text\": \"Calcium is necessary for maintaining healthy bones and teeth, Iron is crucial for making red blood cells and transporting oxygen throughout the body, and Magnesium plays a role in over 300 enzyme reactions in the human body, including the metabolism of food, synthesis of fatty acids and proteins, and the transmission of nerve impulses.\"\n",
    "            }]\n",
    "        ),\n",
    "        ground_truth_columns={\n",
    "            'skill_0': 'entities',\n",
    "            'skill_1': 'text'\n",
    "        },\n",
    "        matching_function='fuzzy',\n",
    "        matching_threshold=0.9\n",
    "    ),\n",
    ")\n",
    "    "
   ]
  },
  {
   "cell_type": "code",
   "execution_count": null,
   "metadata": {},
   "outputs": [],
   "source": [
    "agent.learn(learning_iterations=1)"
   ]
  },
  {
   "cell_type": "code",
   "execution_count": null,
   "metadata": {},
   "outputs": [],
   "source": [
    "data = pd.DataFrame([\n",
    "    ['Trace Minerals'],\n",
    "    ['Water-Soluble Vitamins'],\n",
    "    ['Fatty Acids']\n",
    "], columns=['category'])"
   ]
  },
  {
   "cell_type": "code",
   "execution_count": null,
   "metadata": {},
   "outputs": [],
   "source": [
    "runtime = agent.get_runtime()"
   ]
  },
  {
   "cell_type": "code",
   "execution_count": null,
   "metadata": {},
   "outputs": [],
   "source": []
  }
 ],
 "metadata": {
  "kernelspec": {
   "display_name": "ally",
   "language": "python",
   "name": "python3"
  },
  "language_info": {
   "codemirror_mode": {
    "name": "ipython",
    "version": 3
   },
   "file_extension": ".py",
   "mimetype": "text/x-python",
   "name": "python",
   "nbconvert_exporter": "python",
   "pygments_lexer": "ipython3",
   "version": "3.11.6"
  }
 },
 "nbformat": 4,
 "nbformat_minor": 2
}
