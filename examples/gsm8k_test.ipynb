{
 "cells": [
  {
   "cell_type": "markdown",
   "metadata": {},
   "source": [
    "# Testing on GSM8k Math reasoning"
   ]
  },
  {
   "cell_type": "markdown",
   "metadata": {},
   "source": [
    "In this notebook, we show how Ally can learn and improve math reasoning skills based on [GSM8k dataset](https://github.com/openai/grade-school-math).\n",
    "\n",
    "We use a handful of annotated examples from train set, and verify the answer accuracy on the full test set that consists of 1319 examples."
   ]
  },
  {
   "cell_type": "code",
   "execution_count": 1,
   "metadata": {},
   "outputs": [
    {
     "name": "stderr",
     "output_type": "stream",
     "text": [
      "/Users/nguyenduyanh/miniforge3/envs/ally/lib/python3.11/site-packages/tqdm/auto.py:21: TqdmWarning: IProgress not found. Please update jupyter and ipywidgets. See https://ipywidgets.readthedocs.io/en/stable/user_install.html\n",
      "  from .autonotebook import tqdm as notebook_tqdm\n"
     ]
    },
    {
     "data": {
      "text/html": [
       "<div>\n",
       "<style scoped>\n",
       "    .dataframe tbody tr th:only-of-type {\n",
       "        vertical-align: middle;\n",
       "    }\n",
       "\n",
       "    .dataframe tbody tr th {\n",
       "        vertical-align: top;\n",
       "    }\n",
       "\n",
       "    .dataframe thead th {\n",
       "        text-align: right;\n",
       "    }\n",
       "</style>\n",
       "<table border=\"1\" class=\"dataframe\">\n",
       "  <thead>\n",
       "    <tr style=\"text-align: right;\">\n",
       "      <th></th>\n",
       "      <th>question</th>\n",
       "      <th>answer</th>\n",
       "    </tr>\n",
       "  </thead>\n",
       "  <tbody>\n",
       "    <tr>\n",
       "      <th>0</th>\n",
       "      <td>Natalia sold clips to 48 of her friends in Apr...</td>\n",
       "      <td>Natalia sold 48/2 = &lt;&lt;48/2=24&gt;&gt;24 clips in May...</td>\n",
       "    </tr>\n",
       "    <tr>\n",
       "      <th>1</th>\n",
       "      <td>Weng earns $12 an hour for babysitting. Yester...</td>\n",
       "      <td>Weng earns 12/60 = $&lt;&lt;12/60=0.2&gt;&gt;0.2 per minut...</td>\n",
       "    </tr>\n",
       "    <tr>\n",
       "      <th>2</th>\n",
       "      <td>Betty is saving money for a new wallet which c...</td>\n",
       "      <td>In the beginning, Betty has only 100 / 2 = $&lt;&lt;...</td>\n",
       "    </tr>\n",
       "    <tr>\n",
       "      <th>3</th>\n",
       "      <td>Julie is reading a 120-page book. Yesterday, s...</td>\n",
       "      <td>Maila read 12 x 2 = &lt;&lt;12*2=24&gt;&gt;24 pages today....</td>\n",
       "    </tr>\n",
       "    <tr>\n",
       "      <th>4</th>\n",
       "      <td>James writes a 3-page letter to 2 different fr...</td>\n",
       "      <td>He writes each friend 3*2=&lt;&lt;3*2=6&gt;&gt;6 pages a w...</td>\n",
       "    </tr>\n",
       "  </tbody>\n",
       "</table>\n",
       "</div>"
      ],
      "text/plain": [
       "                                            question  \\\n",
       "0  Natalia sold clips to 48 of her friends in Apr...   \n",
       "1  Weng earns $12 an hour for babysitting. Yester...   \n",
       "2  Betty is saving money for a new wallet which c...   \n",
       "3  Julie is reading a 120-page book. Yesterday, s...   \n",
       "4  James writes a 3-page letter to 2 different fr...   \n",
       "\n",
       "                                              answer  \n",
       "0  Natalia sold 48/2 = <<48/2=24>>24 clips in May...  \n",
       "1  Weng earns 12/60 = $<<12/60=0.2>>0.2 per minut...  \n",
       "2  In the beginning, Betty has only 100 / 2 = $<<...  \n",
       "3  Maila read 12 x 2 = <<12*2=24>>24 pages today....  \n",
       "4  He writes each friend 3*2=<<3*2=6>>6 pages a w...  "
      ]
     },
     "execution_count": 1,
     "metadata": {},
     "output_type": "execute_result"
    }
   ],
   "source": [
    "import sys\n",
    "sys.path.append('../')\n",
    "\n",
    "import pandas as pd\n",
    "from datasets import load_dataset\n",
    "gsm8k = load_dataset(\"gsm8k\", \"main\")\n",
    "\n",
    "df_train = pd.DataFrame({'question': gsm8k['train']['question'], 'answer': gsm8k['train']['answer']})\n",
    "df_test = pd.DataFrame({'question': gsm8k['test']['question'], 'answer': gsm8k['test']['answer']})\n",
    "\n",
    "df_train.head()"
   ]
  },
  {
   "cell_type": "markdown",
   "metadata": {},
   "source": [
    "The following code is used to evaluate the quality of answers by comparing numbers in the outputs:"
   ]
  },
  {
   "cell_type": "code",
   "execution_count": 2,
   "metadata": {},
   "outputs": [],
   "source": [
    "import re\n",
    "\n",
    "def extract_and_convert_numbers(text):\n",
    "  pattern = \"\\d{1,3}(?:,\\d{3})*\\.?\\d*\"\n",
    "  numbers = re.findall(pattern, text)\n",
    "  return [int(num.replace(',', '').split('.')[0]) for num in numbers if num.replace(',', '').split('.')[0]]\n",
    "\n",
    "def evaluate_answers(ground_truth, prediction):\n",
    "  pred = extract_and_convert_numbers(prediction)\n",
    "  gt = extract_and_convert_numbers(ground_truth)                             \n",
    "  return any(p == gt[-1] for p in pred)"
   ]
  },
  {
   "cell_type": "markdown",
   "metadata": {},
   "source": [
    "Now we can create and execute baseline agent. We start with the naive baseline that just expects answer given the question, by following the prompt template, without any additional instructions:\n",
    "```\n",
    "Q: {question}\n",
    "A: {answer}\n",
    "```"
   ]
  },
  {
   "cell_type": "code",
   "execution_count": 3,
   "metadata": {},
   "outputs": [],
   "source": [
    "from ally.skills.skillset import LinearSkillSet\n",
    "from ally.skills.base import TransformSkill\n",
    "\n",
    "skills = LinearSkillSet(skills=[\n",
    "\tTransformSkill(\n",
    "\t\tname='math_solver',\n",
    "\t\t# we start with no instructions then explain how agent can learn more details\n",
    "\t\tinstructions='',\n",
    "\t\t# instructions=prompt,\n",
    "\t\tinput_template='Q: {question}',\n",
    "\t\t# here is the baseline established in Kojima et al., 2022 paper\n",
    "\t\t# output_template='A: Let’s think step by step. {rationale}\\nFinal numerical answer:{answer}',\n",
    "\t\toutput_template=[{\n",
    "      \"name\": \"answer\",\n",
    "      \"description\": \"The final numerical answer\",\n",
    "\t\t}]\n",
    "\t)\n",
    "])"
   ]
  },
  {
   "cell_type": "code",
   "execution_count": 4,
   "metadata": {},
   "outputs": [],
   "source": [
    "from ally.runtimes.openai import OpenAIRuntime\n",
    "from app.core.settings import settings\n",
    "\n",
    "openai_runtime = OpenAIRuntime(\n",
    "  verbose=True,\n",
    "  api_key=settings.openai_api_key,\n",
    "  gpt_model_name=\"gpt-3.5-turbo\",\n",
    ")\n",
    "openai_teacher_runtime = OpenAIRuntime(\n",
    "  verbose=True,\n",
    "  api_key=settings.openai_api_key,\n",
    "  gpt_model_name=\"gpt-4\",\n",
    ")"
   ]
  },
  {
   "cell_type": "code",
   "execution_count": 5,
   "metadata": {},
   "outputs": [],
   "source": [
    "from ally.agents.base import Agent\n",
    "from ally.environments.base import StaticEnvironment\n",
    "\n",
    "\n",
    "agent = Agent(\n",
    "\tskills=skills,\n",
    "  runtimes={\n",
    "    'openai': openai_runtime\n",
    "\t},\n",
    "  teacher_runtimes={\n",
    "    'openai': openai_teacher_runtime\n",
    "\t},\n",
    "\tenvironment=StaticEnvironment(\n",
    "\t\tdf=df_train,\n",
    "\t)\n",
    ")"
   ]
  },
  {
   "cell_type": "code",
   "execution_count": 6,
   "metadata": {},
   "outputs": [
    {
     "data": {
      "text/html": [
       "<pre style=\"white-space:pre;overflow-x:auto;line-height:normal;font-family:Menlo,'DejaVu Sans Mono',consolas,'Courier New',monospace\">Applying skill: math_solver\n",
       "</pre>\n"
      ],
      "text/plain": [
       "Applying skill: math_solver\n"
      ]
     },
     "metadata": {},
     "output_type": "display_data"
    },
    {
     "name": "stderr",
     "output_type": "stream",
     "text": [
      "  0%|          | 0/5 [00:00<?, ?it/s]"
     ]
    },
    {
     "data": {
      "text/html": [
       "<pre style=\"white-space:pre;overflow-x:auto;line-height:normal;font-family:Menlo,'DejaVu Sans Mono',consolas,'Courier New',monospace\"><span style=\"font-weight: bold\">{</span><span style=\"color: #008000; text-decoration-color: #008000\">'question'</span>: <span style=\"color: #008000; text-decoration-color: #008000\">\"Janet’s ducks lay 16 eggs per day. She eats three for breakfast every morning and bakes muffins for </span>\n",
       "<span style=\"color: #008000; text-decoration-color: #008000\">her friends every day with four. She sells the remainder at the farmers' market daily for $2 per fresh duck egg. </span>\n",
       "<span style=\"color: #008000; text-decoration-color: #008000\">How much in dollars does she make every day at the farmers' market?\"</span><span style=\"font-weight: bold\">}</span>\n",
       "</pre>\n"
      ],
      "text/plain": [
       "\u001b[1m{\u001b[0m\u001b[32m'question'\u001b[0m: \u001b[32m\"Janet’s ducks lay 16 eggs per day. She eats three for breakfast every morning and bakes muffins for \u001b[0m\n",
       "\u001b[32mher friends every day with four. She sells the remainder at the farmers' market daily for $2 per fresh duck egg. \u001b[0m\n",
       "\u001b[32mHow much in dollars does she make every day at the farmers' market?\"\u001b[0m\u001b[1m}\u001b[0m\n"
      ]
     },
     "metadata": {},
     "output_type": "display_data"
    },
    {
     "name": "stderr",
     "output_type": "stream",
     "text": [
      " 40%|████      | 2/5 [00:00<00:00,  3.00it/s]"
     ]
    },
    {
     "data": {
      "text/html": [
       "<pre style=\"white-space:pre;overflow-x:auto;line-height:normal;font-family:Menlo,'DejaVu Sans Mono',consolas,'Courier New',monospace\"><span style=\"font-weight: bold\">{</span><span style=\"color: #008000; text-decoration-color: #008000\">'question'</span>: <span style=\"color: #008000; text-decoration-color: #008000\">'A robe takes 2 bolts of blue fiber and half that much white fiber.  How many bolts in total does it </span>\n",
       "<span style=\"color: #008000; text-decoration-color: #008000\">take?'</span><span style=\"font-weight: bold\">}</span>\n",
       "</pre>\n"
      ],
      "text/plain": [
       "\u001b[1m{\u001b[0m\u001b[32m'question'\u001b[0m: \u001b[32m'A robe takes 2 bolts of blue fiber and half that much white fiber.  How many bolts in total does it \u001b[0m\n",
       "\u001b[32mtake?'\u001b[0m\u001b[1m}\u001b[0m\n"
      ]
     },
     "metadata": {},
     "output_type": "display_data"
    },
    {
     "name": "stderr",
     "output_type": "stream",
     "text": [
      " 60%|██████    | 3/5 [00:01<00:01,  1.74it/s]"
     ]
    },
    {
     "data": {
      "text/html": [
       "<pre style=\"white-space:pre;overflow-x:auto;line-height:normal;font-family:Menlo,'DejaVu Sans Mono',consolas,'Courier New',monospace\"><span style=\"font-weight: bold\">{</span><span style=\"color: #008000; text-decoration-color: #008000\">'question'</span>: <span style=\"color: #008000; text-decoration-color: #008000\">'Josh decides to try flipping a house.  He buys a house for $80,000 and then puts in $50,000 in </span>\n",
       "<span style=\"color: #008000; text-decoration-color: #008000\">repairs.  This increased the value of the house by 150%.  How much profit did he make?'</span><span style=\"font-weight: bold\">}</span>\n",
       "</pre>\n"
      ],
      "text/plain": [
       "\u001b[1m{\u001b[0m\u001b[32m'question'\u001b[0m: \u001b[32m'Josh decides to try flipping a house.  He buys a house for $80,000 and then puts in $50,000 in \u001b[0m\n",
       "\u001b[32mrepairs.  This increased the value of the house by 150%.  How much profit did he make?'\u001b[0m\u001b[1m}\u001b[0m\n"
      ]
     },
     "metadata": {},
     "output_type": "display_data"
    },
    {
     "name": "stderr",
     "output_type": "stream",
     "text": [
      " 80%|████████  | 4/5 [00:02<00:00,  1.56it/s]"
     ]
    },
    {
     "data": {
      "text/html": [
       "<pre style=\"white-space:pre;overflow-x:auto;line-height:normal;font-family:Menlo,'DejaVu Sans Mono',consolas,'Courier New',monospace\"><span style=\"font-weight: bold\">{</span><span style=\"color: #008000; text-decoration-color: #008000\">'question'</span>: <span style=\"color: #008000; text-decoration-color: #008000\">'James decides to run 3 sprints 3 times a week.  He runs 60 meters each sprint.  How many total meters</span>\n",
       "<span style=\"color: #008000; text-decoration-color: #008000\">does he run a week?'</span><span style=\"font-weight: bold\">}</span>\n",
       "</pre>\n"
      ],
      "text/plain": [
       "\u001b[1m{\u001b[0m\u001b[32m'question'\u001b[0m: \u001b[32m'James decides to run 3 sprints 3 times a week.  He runs 60 meters each sprint.  How many total meters\u001b[0m\n",
       "\u001b[32mdoes he run a week?'\u001b[0m\u001b[1m}\u001b[0m\n"
      ]
     },
     "metadata": {},
     "output_type": "display_data"
    },
    {
     "name": "stderr",
     "output_type": "stream",
     "text": [
      "100%|██████████| 5/5 [00:03<00:00,  1.35it/s]"
     ]
    },
    {
     "data": {
      "text/html": [
       "<pre style=\"white-space:pre;overflow-x:auto;line-height:normal;font-family:Menlo,'DejaVu Sans Mono',consolas,'Courier New',monospace\"><span style=\"font-weight: bold\">{</span><span style=\"color: #008000; text-decoration-color: #008000\">'question'</span>: <span style=\"color: #008000; text-decoration-color: #008000\">\"Every day, Wendi feeds each of her chickens three cups of mixed chicken feed, containing seeds, </span>\n",
       "<span style=\"color: #008000; text-decoration-color: #008000\">mealworms and vegetables to help keep them healthy.  She gives the chickens their feed in three separate meals. In </span>\n",
       "<span style=\"color: #008000; text-decoration-color: #008000\">the morning, she gives her flock of chickens 15 cups of feed.  In the afternoon, she gives her chickens another 25 </span>\n",
       "<span style=\"color: #008000; text-decoration-color: #008000\">cups of feed.  How many cups of feed does she need to give her chickens in the final meal of the day if the size of</span>\n",
       "<span style=\"color: #008000; text-decoration-color: #008000\">Wendi's flock is 20 chickens?\"</span><span style=\"font-weight: bold\">}</span>\n",
       "</pre>\n"
      ],
      "text/plain": [
       "\u001b[1m{\u001b[0m\u001b[32m'question'\u001b[0m: \u001b[32m\"Every day, Wendi feeds each of her chickens three cups of mixed chicken feed, containing seeds, \u001b[0m\n",
       "\u001b[32mmealworms and vegetables to help keep them healthy.  She gives the chickens their feed in three separate meals. In \u001b[0m\n",
       "\u001b[32mthe morning, she gives her flock of chickens 15 cups of feed.  In the afternoon, she gives her chickens another 25 \u001b[0m\n",
       "\u001b[32mcups of feed.  How many cups of feed does she need to give her chickens in the final meal of the day if the size of\u001b[0m\n",
       "\u001b[32mWendi's flock is 20 chickens?\"\u001b[0m\u001b[1m}\u001b[0m\n"
      ]
     },
     "metadata": {},
     "output_type": "display_data"
    },
    {
     "name": "stderr",
     "output_type": "stream",
     "text": [
      "100%|██████████| 5/5 [00:03<00:00,  1.26it/s]\n"
     ]
    }
   ],
   "source": [
    "# run baseline agent on a test dataset\n",
    "result_baseline = agent.run(df_test.drop(columns='answer')[:5])"
   ]
  },
  {
   "cell_type": "code",
   "execution_count": 7,
   "metadata": {},
   "outputs": [
    {
     "name": "stdout",
     "output_type": "stream",
     "text": [
      "Baseline accuracy: 0.4\n"
     ]
    }
   ],
   "source": [
    "# evaluate baseline results\n",
    "accuracy = StaticEnvironment(df=df_test, matching_function=evaluate_answers).get_feedback(skills, result_baseline).get_accuracy()\n",
    "\n",
    "print(f'Baseline accuracy: {accuracy[\"answer\"]}')"
   ]
  },
  {
   "cell_type": "markdown",
   "metadata": {},
   "source": [
    "# Improve the baseline"
   ]
  },
  {
   "cell_type": "markdown",
   "metadata": {},
   "source": [
    "The agent can improve its initial skill by learning new instructions from provided ground truth signals:"
   ]
  },
  {
   "cell_type": "code",
   "execution_count": 8,
   "metadata": {},
   "outputs": [
    {
     "data": {
      "text/html": [
       "<pre style=\"white-space:pre;overflow-x:auto;line-height:normal;font-family:Menlo,'DejaVu Sans Mono',consolas,'Courier New',monospace\">\n",
       "\n",
       "=&gt; Iteration #<span style=\"color: #008080; text-decoration-color: #008080; font-weight: bold\">0</span>: Getting feedback, analyzing and improving <span style=\"color: #808000; text-decoration-color: #808000\">...</span>\n",
       "</pre>\n"
      ],
      "text/plain": [
       "\n",
       "\n",
       "=> Iteration #\u001b[1;36m0\u001b[0m: Getting feedback, analyzing and improving \u001b[33m...\u001b[0m\n"
      ]
     },
     "metadata": {},
     "output_type": "display_data"
    },
    {
     "data": {
      "text/html": [
       "<pre style=\"white-space:pre;overflow-x:auto;line-height:normal;font-family:Menlo,'DejaVu Sans Mono',consolas,'Courier New',monospace\">Applying skill: math_solver\n",
       "</pre>\n"
      ],
      "text/plain": [
       "Applying skill: math_solver\n"
      ]
     },
     "metadata": {},
     "output_type": "display_data"
    },
    {
     "name": "stderr",
     "output_type": "stream",
     "text": [
      "  0%|          | 0/5 [00:00<?, ?it/s]"
     ]
    },
    {
     "data": {
      "text/html": [
       "<pre style=\"white-space:pre;overflow-x:auto;line-height:normal;font-family:Menlo,'DejaVu Sans Mono',consolas,'Courier New',monospace\"><span style=\"font-weight: bold\">{</span><span style=\"color: #008000; text-decoration-color: #008000\">'question'</span>: <span style=\"color: #008000; text-decoration-color: #008000\">'When three friends sold their video games, Ryan, the first of the three friends, received $50 more </span>\n",
       "<span style=\"color: #008000; text-decoration-color: #008000\">than Jason from his sales. Jason received 30% more money than Zachary from selling his video games. If Zachary sold</span>\n",
       "<span style=\"color: #008000; text-decoration-color: #008000\">40 games at $5 each, calculate the total amount of money the three friends received together from the sale of the </span>\n",
       "<span style=\"color: #008000; text-decoration-color: #008000\">video games.'</span>, <span style=\"color: #008000; text-decoration-color: #008000\">'answer'</span>: <span style=\"color: #008000; text-decoration-color: #008000\">'The total amount of money that Zachary received from selling his video games is $40*5 = </span>\n",
       "<span style=\"color: #008000; text-decoration-color: #008000\">$&lt;&lt;40*5=200&gt;&gt;200\\nJason received 30/100*$200 = $&lt;&lt;30/100*200=60&gt;&gt;60 more than the amount Zachary received after </span>\n",
       "<span style=\"color: #008000; text-decoration-color: #008000\">selling his games.\\nThe total amount of money that Jason received is $60+$200 = $&lt;&lt;60+200=260&gt;&gt;260\\nTogether, </span>\n",
       "<span style=\"color: #008000; text-decoration-color: #008000\">Zachary and Jason received $260+$200 = $&lt;&lt;260+200=460&gt;&gt;460 from the sale of their video games.\\nRyan received </span>\n",
       "<span style=\"color: #008000; text-decoration-color: #008000\">$260+$50=$&lt;&lt;260+50=310&gt;&gt;310 from the sale of his video games.\\nThe three friends made a total of $310+$460 = </span>\n",
       "<span style=\"color: #008000; text-decoration-color: #008000\">$&lt;&lt;310+460=770&gt;&gt;770 from the sale of the video games.\\n#### 770'</span><span style=\"font-weight: bold\">}</span>\n",
       "</pre>\n"
      ],
      "text/plain": [
       "\u001b[1m{\u001b[0m\u001b[32m'question'\u001b[0m: \u001b[32m'When three friends sold their video games, Ryan, the first of the three friends, received $50 more \u001b[0m\n",
       "\u001b[32mthan Jason from his sales. Jason received 30% more money than Zachary from selling his video games. If Zachary sold\u001b[0m\n",
       "\u001b[32m40 games at $5 each, calculate the total amount of money the three friends received together from the sale of the \u001b[0m\n",
       "\u001b[32mvideo games.'\u001b[0m, \u001b[32m'answer'\u001b[0m: \u001b[32m'The total amount of money that Zachary received from selling his video games is $40*5 = \u001b[0m\n",
       "\u001b[32m$\u001b[0m\u001b[32m<\u001b[0m\u001b[32m<40*\u001b[0m\u001b[32m5\u001b[0m\u001b[32m=\u001b[0m\u001b[32m200\u001b[0m\u001b[32m>>200\\nJason received 30/100*$200 = $<<30/100*\u001b[0m\u001b[32m200\u001b[0m\u001b[32m=\u001b[0m\u001b[32m60\u001b[0m\u001b[32m>>60 more than the amount Zachary received after \u001b[0m\n",
       "\u001b[32mselling his games.\\nThe total amount of money that Jason received is $60+$200 = $<<60+\u001b[0m\u001b[32m200\u001b[0m\u001b[32m=\u001b[0m\u001b[32m260\u001b[0m\u001b[32m>>260\\nTogether, \u001b[0m\n",
       "\u001b[32mZachary and Jason received $260+$200 = $<<260+\u001b[0m\u001b[32m200\u001b[0m\u001b[32m=\u001b[0m\u001b[32m460\u001b[0m\u001b[32m>>460 from the sale of their video games.\\nRyan received \u001b[0m\n",
       "\u001b[32m$260+$\u001b[0m\u001b[32m50\u001b[0m\u001b[32m=$<<260+\u001b[0m\u001b[32m50\u001b[0m\u001b[32m=\u001b[0m\u001b[32m310\u001b[0m\u001b[32m>>310 from the sale of his video games.\\nThe three friends made a total of $310+$460 = \u001b[0m\n",
       "\u001b[32m$<<310+\u001b[0m\u001b[32m460\u001b[0m\u001b[32m=\u001b[0m\u001b[32m770\u001b[0m\u001b[32m>\u001b[0m\u001b[32m>\u001b[0m\u001b[32m770 from the sale of the video games.\\n#### 770'\u001b[0m\u001b[1m}\u001b[0m\n"
      ]
     },
     "metadata": {},
     "output_type": "display_data"
    },
    {
     "name": "stderr",
     "output_type": "stream",
     "text": [
      " 40%|████      | 2/5 [00:06<00:09,  3.06s/it]"
     ]
    },
    {
     "data": {
      "text/html": [
       "<pre style=\"white-space:pre;overflow-x:auto;line-height:normal;font-family:Menlo,'DejaVu Sans Mono',consolas,'Courier New',monospace\"><span style=\"font-weight: bold\">{</span><span style=\"color: #008000; text-decoration-color: #008000\">'question'</span>: <span style=\"color: #008000; text-decoration-color: #008000\">'If it takes 10 people 10 days to shovel 10,000 pounds of coal, how many days will it take half of </span>\n",
       "<span style=\"color: #008000; text-decoration-color: #008000\">these ten people to shovel 40,000 pounds of coal?'</span>, <span style=\"color: #008000; text-decoration-color: #008000\">'answer'</span>: <span style=\"color: #008000; text-decoration-color: #008000\">'The 10 people shovel 10,000 pounds per 10 days, or </span>\n",
       "<span style=\"color: #008000; text-decoration-color: #008000\">10,000/10=&lt;&lt;10000/10=1000&gt;&gt;1000 pounds per day per 10 people.\\nAnd 1000 pounds per day per 10 people is </span>\n",
       "<span style=\"color: #008000; text-decoration-color: #008000\">1000/10=&lt;&lt;1000/10=100&gt;&gt;100 pounds per day per person.\\nHalf of ten people is 10/2=&lt;&lt;10/2=5&gt;&gt;5 people.\\nAt 100 </span>\n",
       "<span style=\"color: #008000; text-decoration-color: #008000\">pounds per day per person, 5 people can shovel 5*100=&lt;&lt;5*100=500&gt;&gt;500 pounds per day.\\nTherefore, for 5 people to </span>\n",
       "<span style=\"color: #008000; text-decoration-color: #008000\">shovel 40,000 pounds, it will take 40,000/500=&lt;&lt;40000/500=80&gt;&gt;80 days.\\n#### 80'</span><span style=\"font-weight: bold\">}</span>\n",
       "</pre>\n"
      ],
      "text/plain": [
       "\u001b[1m{\u001b[0m\u001b[32m'question'\u001b[0m: \u001b[32m'If it takes 10 people 10 days to shovel 10,000 pounds of coal, how many days will it take half of \u001b[0m\n",
       "\u001b[32mthese ten people to shovel 40,000 pounds of coal?'\u001b[0m, \u001b[32m'answer'\u001b[0m: \u001b[32m'The 10 people shovel 10,000 pounds per 10 days, or \u001b[0m\n",
       "\u001b[32m10,000/\u001b[0m\u001b[32m10\u001b[0m\u001b[32m=\u001b[0m\u001b[32m<\u001b[0m\u001b[32m<10000/\u001b[0m\u001b[32m10\u001b[0m\u001b[32m=\u001b[0m\u001b[32m1000\u001b[0m\u001b[32m>>1000 pounds per day per 10 people.\\nAnd 1000 pounds per day per 10 people is \u001b[0m\n",
       "\u001b[32m1000/\u001b[0m\u001b[32m10\u001b[0m\u001b[32m=<<1000/\u001b[0m\u001b[32m10\u001b[0m\u001b[32m=\u001b[0m\u001b[32m100\u001b[0m\u001b[32m>>100 pounds per day per person.\\nHalf of ten people is 10/\u001b[0m\u001b[32m2\u001b[0m\u001b[32m=<<10/\u001b[0m\u001b[32m2\u001b[0m\u001b[32m=\u001b[0m\u001b[32m5\u001b[0m\u001b[32m>>5 people.\\nAt 100 \u001b[0m\n",
       "\u001b[32mpounds per day per person, 5 people can shovel 5*\u001b[0m\u001b[32m100\u001b[0m\u001b[32m=<<5*\u001b[0m\u001b[32m100\u001b[0m\u001b[32m=\u001b[0m\u001b[32m500\u001b[0m\u001b[32m>>500 pounds per day.\\nTherefore, for 5 people to \u001b[0m\n",
       "\u001b[32mshovel 40,000 pounds, it will take 40,000/\u001b[0m\u001b[32m500\u001b[0m\u001b[32m=<<40000/\u001b[0m\u001b[32m500\u001b[0m\u001b[32m=\u001b[0m\u001b[32m80\u001b[0m\u001b[32m>\u001b[0m\u001b[32m>\u001b[0m\u001b[32m80 days.\\n#### 80'\u001b[0m\u001b[1m}\u001b[0m\n"
      ]
     },
     "metadata": {},
     "output_type": "display_data"
    },
    {
     "name": "stderr",
     "output_type": "stream",
     "text": [
      " 60%|██████    | 3/5 [00:08<00:05,  2.66s/it]"
     ]
    },
    {
     "data": {
      "text/html": [
       "<pre style=\"white-space:pre;overflow-x:auto;line-height:normal;font-family:Menlo,'DejaVu Sans Mono',consolas,'Courier New',monospace\"><span style=\"font-weight: bold\">{</span><span style=\"color: #008000; text-decoration-color: #008000\">'question'</span>: <span style=\"color: #008000; text-decoration-color: #008000\">'Nick is trying to raise money for a charity. He is selling candy bars for $5. He is also selling </span>\n",
       "<span style=\"color: #008000; text-decoration-color: #008000\">chocolate oranges for $10. He wants to raise $1000. He only had 20 chocolate oranges that he sold out. How many </span>\n",
       "<span style=\"color: #008000; text-decoration-color: #008000\">candy bars does Nick need to sell to reach his goal?'</span>, <span style=\"color: #008000; text-decoration-color: #008000\">'answer'</span>: <span style=\"color: #008000; text-decoration-color: #008000\">'Nick has made 20 * $10 = $&lt;&lt;20*10=200&gt;&gt;200 from </span>\n",
       "<span style=\"color: #008000; text-decoration-color: #008000\">the chocolate oranges.\\nThis means he needs to raise another $1000 - $200 = $&lt;&lt;1000-200=800&gt;&gt;800.\\nHe needs to sell</span>\n",
       "<span style=\"color: #008000; text-decoration-color: #008000\">a total of $800 / $5 = &lt;&lt;800/5=160&gt;&gt;160 candy bars to reach his goal.\\n#### 160'</span><span style=\"font-weight: bold\">}</span>\n",
       "</pre>\n"
      ],
      "text/plain": [
       "\u001b[1m{\u001b[0m\u001b[32m'question'\u001b[0m: \u001b[32m'Nick is trying to raise money for a charity. He is selling candy bars for $5. He is also selling \u001b[0m\n",
       "\u001b[32mchocolate oranges for $10. He wants to raise $1000. He only had 20 chocolate oranges that he sold out. How many \u001b[0m\n",
       "\u001b[32mcandy bars does Nick need to sell to reach his goal?'\u001b[0m, \u001b[32m'answer'\u001b[0m: \u001b[32m'Nick has made 20 * $10 = $\u001b[0m\u001b[32m<\u001b[0m\u001b[32m<20*\u001b[0m\u001b[32m10\u001b[0m\u001b[32m=\u001b[0m\u001b[32m200\u001b[0m\u001b[32m>>200 from \u001b[0m\n",
       "\u001b[32mthe chocolate oranges.\\nThis means he needs to raise another $1000 - $200 = $<<1000-\u001b[0m\u001b[32m200\u001b[0m\u001b[32m=\u001b[0m\u001b[32m800\u001b[0m\u001b[32m>>800.\\nHe needs to sell\u001b[0m\n",
       "\u001b[32ma total of $800 / $5 = <<800/\u001b[0m\u001b[32m5\u001b[0m\u001b[32m=\u001b[0m\u001b[32m160\u001b[0m\u001b[32m>\u001b[0m\u001b[32m>\u001b[0m\u001b[32m160 candy bars to reach his goal.\\n#### 160'\u001b[0m\u001b[1m}\u001b[0m\n"
      ]
     },
     "metadata": {},
     "output_type": "display_data"
    },
    {
     "name": "stderr",
     "output_type": "stream",
     "text": [
      " 80%|████████  | 4/5 [00:09<00:02,  2.06s/it]"
     ]
    },
    {
     "data": {
      "text/html": [
       "<pre style=\"white-space:pre;overflow-x:auto;line-height:normal;font-family:Menlo,'DejaVu Sans Mono',consolas,'Courier New',monospace\"><span style=\"font-weight: bold\">{</span><span style=\"color: #008000; text-decoration-color: #008000\">'question'</span>: <span style=\"color: #008000; text-decoration-color: #008000\">'Lorie has 2 pieces of $100 bills. He requested to change one piece of the $100 bills into $50 bills. </span>\n",
       "<span style=\"color: #008000; text-decoration-color: #008000\">Half of the remaining $100 bill is changed to $10 bills while the rest is changed to $5 bills. How many pieces of </span>\n",
       "<span style=\"color: #008000; text-decoration-color: #008000\">bills will she have?'</span>, <span style=\"color: #008000; text-decoration-color: #008000\">'answer'</span>: <span style=\"color: #008000; text-decoration-color: #008000\">'There will be $100/$50 = &lt;&lt;100/50=2&gt;&gt;2 pieces of $50 when $100 is changed to $50 </span>\n",
       "<span style=\"color: #008000; text-decoration-color: #008000\">bills.\\nHalf of $100 is $100/2 = $&lt;&lt;100/2=50&gt;&gt;50.\\nSo there will be $50/$10 = &lt;&lt;50/10=5&gt;&gt;5 pieces of $10 when $50 </span>\n",
       "<span style=\"color: #008000; text-decoration-color: #008000\">is changed to $10 bills.\\nThe remaining $50 will be changed to $5 bills so there will be $50/$5 = &lt;&lt;50/5=10&gt;&gt;10 </span>\n",
       "<span style=\"color: #008000; text-decoration-color: #008000\">pieces of $5 bills.\\nSo in total, Lorie will have 2 $50 bills + 5 $10 bills + 10 $5 bills = &lt;&lt;2+5+10=17&gt;&gt;17 pieces </span>\n",
       "<span style=\"color: #008000; text-decoration-color: #008000\">of bills.\\n#### 17'</span><span style=\"font-weight: bold\">}</span>\n",
       "</pre>\n"
      ],
      "text/plain": [
       "\u001b[1m{\u001b[0m\u001b[32m'question'\u001b[0m: \u001b[32m'Lorie has 2 pieces of $100 bills. He requested to change one piece of the $100 bills into $50 bills. \u001b[0m\n",
       "\u001b[32mHalf of the remaining $100 bill is changed to $10 bills while the rest is changed to $5 bills. How many pieces of \u001b[0m\n",
       "\u001b[32mbills will she have?'\u001b[0m, \u001b[32m'answer'\u001b[0m: \u001b[32m'There will be $100/$50 = \u001b[0m\u001b[32m<\u001b[0m\u001b[32m<100/\u001b[0m\u001b[32m50\u001b[0m\u001b[32m=\u001b[0m\u001b[32m2\u001b[0m\u001b[32m>>2 pieces of $50 when $100 is changed to $50 \u001b[0m\n",
       "\u001b[32mbills.\\nHalf of $100 is $100/2 = $<<100/\u001b[0m\u001b[32m2\u001b[0m\u001b[32m=\u001b[0m\u001b[32m50\u001b[0m\u001b[32m>>50.\\nSo there will be $50/$10 = <<50/\u001b[0m\u001b[32m10\u001b[0m\u001b[32m=\u001b[0m\u001b[32m5\u001b[0m\u001b[32m>>5 pieces of $10 when $50 \u001b[0m\n",
       "\u001b[32mis changed to $10 bills.\\nThe remaining $50 will be changed to $5 bills so there will be $50/$5 = <<50/\u001b[0m\u001b[32m5\u001b[0m\u001b[32m=\u001b[0m\u001b[32m10\u001b[0m\u001b[32m>>10 \u001b[0m\n",
       "\u001b[32mpieces of $5 bills.\\nSo in total, Lorie will have 2 $50 bills + 5 $10 bills + 10 $5 bills = <<2+5+\u001b[0m\u001b[32m10\u001b[0m\u001b[32m=\u001b[0m\u001b[32m17\u001b[0m\u001b[32m>\u001b[0m\u001b[32m>\u001b[0m\u001b[32m17 pieces \u001b[0m\n",
       "\u001b[32mof bills.\\n#### 17'\u001b[0m\u001b[1m}\u001b[0m\n"
      ]
     },
     "metadata": {},
     "output_type": "display_data"
    },
    {
     "name": "stderr",
     "output_type": "stream",
     "text": [
      "100%|██████████| 5/5 [00:10<00:00,  1.77s/it]"
     ]
    },
    {
     "data": {
      "text/html": [
       "<pre style=\"white-space:pre;overflow-x:auto;line-height:normal;font-family:Menlo,'DejaVu Sans Mono',consolas,'Courier New',monospace\"><span style=\"font-weight: bold\">{</span><span style=\"color: #008000; text-decoration-color: #008000\">'question'</span>: <span style=\"color: #008000; text-decoration-color: #008000\">'Big Lots is having a sale. All chairs are 25% off. If you buy more than 5 chairs, you get an </span>\n",
       "<span style=\"color: #008000; text-decoration-color: #008000\">additional 1/3 off the discounted price of the number of chairs over 5. If you bought 8 chairs that were normally </span>\n",
       "<span style=\"color: #008000; text-decoration-color: #008000\">priced at $20, how much do the chairs cost in total?'</span>, <span style=\"color: #008000; text-decoration-color: #008000\">'answer'</span>: <span style=\"color: #008000; text-decoration-color: #008000\">'You save $5 per chair with the 25% off sale.\\nOn </span>\n",
       "<span style=\"color: #008000; text-decoration-color: #008000\">sale chairs cost $15 each because 20 - 5 = &lt;&lt;20-5=15&gt;&gt;15\\nYou bought 3 chairs above the 5 required before the extra</span>\n",
       "<span style=\"color: #008000; text-decoration-color: #008000\">savings starts because 8 - 5 = &lt;&lt;8-5=3&gt;&gt;3\\nYou save an extra $5 on these chairs because 15 x (1/3) = </span>\n",
       "<span style=\"color: #008000; text-decoration-color: #008000\">&lt;&lt;15*(1/3)=5&gt;&gt;5\\nThe first five chairs cost $75 in total because 5 x 15 = &lt;&lt;5*15=75&gt;&gt;75\\nThe final three chairs </span>\n",
       "<span style=\"color: #008000; text-decoration-color: #008000\">cost $30 in total because 3 x 10 = &lt;&lt;3*10=30&gt;&gt;30\\nIn total they cost $105 because 75 + 30 = &lt;&lt;75+30=105&gt;&gt;105\\n#### </span>\n",
       "<span style=\"color: #008000; text-decoration-color: #008000\">105'</span><span style=\"font-weight: bold\">}</span>\n",
       "</pre>\n"
      ],
      "text/plain": [
       "\u001b[1m{\u001b[0m\u001b[32m'question'\u001b[0m: \u001b[32m'Big Lots is having a sale. All chairs are 25% off. If you buy more than 5 chairs, you get an \u001b[0m\n",
       "\u001b[32madditional 1/3 off the discounted price of the number of chairs over 5. If you bought 8 chairs that were normally \u001b[0m\n",
       "\u001b[32mpriced at $20, how much do the chairs cost in total?'\u001b[0m, \u001b[32m'answer'\u001b[0m: \u001b[32m'You save $5 per chair with the 25% off sale.\\nOn \u001b[0m\n",
       "\u001b[32msale chairs cost $15 each because 20 - 5 = \u001b[0m\u001b[32m<\u001b[0m\u001b[32m<20-\u001b[0m\u001b[32m5\u001b[0m\u001b[32m=\u001b[0m\u001b[32m15\u001b[0m\u001b[32m>>15\\nYou bought 3 chairs above the 5 required before the extra\u001b[0m\n",
       "\u001b[32msavings starts because 8 - 5 = <<8-\u001b[0m\u001b[32m5\u001b[0m\u001b[32m=\u001b[0m\u001b[32m3\u001b[0m\u001b[32m>>3\\nYou save an extra $5 on these chairs because 15 x \u001b[0m\u001b[32m(\u001b[0m\u001b[32m1/3\u001b[0m\u001b[32m)\u001b[0m\u001b[32m = \u001b[0m\n",
       "\u001b[32m<<15*\u001b[0m\u001b[32m(\u001b[0m\u001b[32m1/3\u001b[0m\u001b[32m)\u001b[0m\u001b[32m=5>>5\\nThe first five chairs cost $75 in total because 5 x 15 = <<5*\u001b[0m\u001b[32m15\u001b[0m\u001b[32m=\u001b[0m\u001b[32m75\u001b[0m\u001b[32m>>75\\nThe final three chairs \u001b[0m\n",
       "\u001b[32mcost $30 in total because 3 x 10 = <<3*\u001b[0m\u001b[32m10\u001b[0m\u001b[32m=\u001b[0m\u001b[32m30\u001b[0m\u001b[32m>>30\\nIn total they cost $105 because 75 + 30 = <<75+\u001b[0m\u001b[32m30\u001b[0m\u001b[32m=\u001b[0m\u001b[32m105\u001b[0m\u001b[32m>\u001b[0m\u001b[32m>\u001b[0m\u001b[32m105\\n#### \u001b[0m\n",
       "\u001b[32m105'\u001b[0m\u001b[1m}\u001b[0m\n"
      ]
     },
     "metadata": {},
     "output_type": "display_data"
    },
    {
     "name": "stderr",
     "output_type": "stream",
     "text": [
      "100%|██████████| 5/5 [00:15<00:00,  3.13s/it]"
     ]
    },
    {
     "name": "stdout",
     "output_type": "stream",
     "text": [
      "Predictions and feedback:\n"
     ]
    },
    {
     "name": "stderr",
     "output_type": "stream",
     "text": [
      "\n"
     ]
    },
    {
     "data": {
      "text/html": [
       "<pre style=\"white-space:pre;overflow-x:auto;line-height:normal;font-family:Menlo,'DejaVu Sans Mono',consolas,'Courier New',monospace\">                                                                                                                   \n",
       " <span style=\"color: #800080; text-decoration-color: #800080; font-weight: bold\"> answer__fb                       </span> <span style=\"color: #800080; text-decoration-color: #800080; font-weight: bold\"> question                         </span> <span style=\"color: #800080; text-decoration-color: #800080; font-weight: bold\"> output                           </span> <span style=\"color: #800080; text-decoration-color: #800080; font-weight: bold\"> answer </span> \n",
       " ───────────────────────────────────────────────────────────────────────────────────────────────────────────────── \n",
       "  nan                                When three friends sold their      To find the total amount of        nan     \n",
       "                                     video games, Ryan, the first of    money the three friends received           \n",
       "                                     the three friends, received $50    together from the sale of the              \n",
       "                                     more than Jason from his sales.    video games, we need to                    \n",
       "                                     Jason received 30% more money      calculate the amount of money              \n",
       "                                     than Zachary from selling his      each friend received.                      \n",
       "                                     video games. If Zachary sold 40                                               \n",
       "                                     games at $5 each, calculate the    First, let's calculate how much            \n",
       "                                     total amount of money the three    money Zachary received from                \n",
       "                                     friends received together from     selling his video games. Zachary           \n",
       "                                     the sale of the video games.       sold 40 games at $5 each, so he            \n",
       "                                                                        received 40 * $5 =                         \n",
       "                                                                        $&lt;&lt;40*5=200&gt;&gt;200.                          \n",
       "                                                                                                                   \n",
       "                                                                        Next, let's calculate how much             \n",
       "                                                                        money Jason received from                  \n",
       "                                                                        selling his video games. We are            \n",
       "                                                                        told that Jason received 30%               \n",
       "                                                                        more money than Zachary. To find           \n",
       "                                                                        this amount, we can multiply               \n",
       "                                                                        Zachary's earnings by 1.3: $200            \n",
       "                                                                        * 1.3 = $&lt;&lt;200*1.3=260&gt;&gt;260.               \n",
       "                                                                                                                   \n",
       "                                                                        Finally, let's calculate how               \n",
       "                                                                        much money Ryan received from              \n",
       "                                                                        selling his video games. We are            \n",
       "                                                                        told that Ryan received $50 more           \n",
       "                                                                        than Jason. So, Ryan's earnings            \n",
       "                                                                        can be found by adding $50 to              \n",
       "                                                                        Jason's earnings: $260 + $50 =             \n",
       "                                                                        $&lt;&lt;260+50=310&gt;&gt;310.                        \n",
       "                                                                                                                   \n",
       "                                                                        To find the total amount of                \n",
       "                                                                        money the three friends received           \n",
       "                                                                        together, we can add up their              \n",
       "                                                                        individual earnings: $200 + $260           \n",
       "                                                                        + $310 =                                   \n",
       "                                                                        $&lt;&lt;200+260+310=770&gt;&gt;770.                   \n",
       "                                                                                                                   \n",
       "                                                                        Therefore, the three friends               \n",
       " <span style=\"color: #7f7f7f; text-decoration-color: #7f7f7f\"> Incorrect. Must be equal to The  </span> <span style=\"color: #7f7f7f; text-decoration-color: #7f7f7f\"> If it takes 10 people 10 days to </span> <span style=\"color: #7f7f7f; text-decoration-color: #7f7f7f\"> nan                              </span> <span style=\"color: #7f7f7f; text-decoration-color: #7f7f7f\"> 10     </span> \n",
       " <span style=\"color: #7f7f7f; text-decoration-color: #7f7f7f\"> 10 people shovel 10,000 pounds   </span> <span style=\"color: #7f7f7f; text-decoration-color: #7f7f7f\"> shovel 10,000 pounds of coal,    </span> <span style=\"color: #7f7f7f; text-decoration-color: #7f7f7f\">                                  </span> <span style=\"color: #7f7f7f; text-decoration-color: #7f7f7f\">        </span> \n",
       " <span style=\"color: #7f7f7f; text-decoration-color: #7f7f7f\"> per 10 days, or                  </span> <span style=\"color: #7f7f7f; text-decoration-color: #7f7f7f\"> how many days will it take half  </span> <span style=\"color: #7f7f7f; text-decoration-color: #7f7f7f\">                                  </span> <span style=\"color: #7f7f7f; text-decoration-color: #7f7f7f\">        </span> \n",
       " <span style=\"color: #7f7f7f; text-decoration-color: #7f7f7f\"> 10,000/10=&lt;&lt;10000/10=1000&gt;&gt;1000  </span> <span style=\"color: #7f7f7f; text-decoration-color: #7f7f7f\"> of these ten people to shovel    </span> <span style=\"color: #7f7f7f; text-decoration-color: #7f7f7f\">                                  </span> <span style=\"color: #7f7f7f; text-decoration-color: #7f7f7f\">        </span> \n",
       " <span style=\"color: #7f7f7f; text-decoration-color: #7f7f7f\"> pounds per day per 10 people.    </span> <span style=\"color: #7f7f7f; text-decoration-color: #7f7f7f\"> 40,000 pounds of coal?           </span> <span style=\"color: #7f7f7f; text-decoration-color: #7f7f7f\">                                  </span> <span style=\"color: #7f7f7f; text-decoration-color: #7f7f7f\">        </span> \n",
       " <span style=\"color: #7f7f7f; text-decoration-color: #7f7f7f\"> And 1000 pounds per day per 10   </span> <span style=\"color: #7f7f7f; text-decoration-color: #7f7f7f\">                                  </span> <span style=\"color: #7f7f7f; text-decoration-color: #7f7f7f\">                                  </span> <span style=\"color: #7f7f7f; text-decoration-color: #7f7f7f\">        </span> \n",
       " <span style=\"color: #7f7f7f; text-decoration-color: #7f7f7f\"> people is                        </span> <span style=\"color: #7f7f7f; text-decoration-color: #7f7f7f\">                                  </span> <span style=\"color: #7f7f7f; text-decoration-color: #7f7f7f\">                                  </span> <span style=\"color: #7f7f7f; text-decoration-color: #7f7f7f\">        </span> \n",
       " <span style=\"color: #7f7f7f; text-decoration-color: #7f7f7f\"> 1000/10=&lt;&lt;1000/10=100&gt;&gt;100       </span> <span style=\"color: #7f7f7f; text-decoration-color: #7f7f7f\">                                  </span> <span style=\"color: #7f7f7f; text-decoration-color: #7f7f7f\">                                  </span> <span style=\"color: #7f7f7f; text-decoration-color: #7f7f7f\">        </span> \n",
       " <span style=\"color: #7f7f7f; text-decoration-color: #7f7f7f\"> pounds per day per person.       </span> <span style=\"color: #7f7f7f; text-decoration-color: #7f7f7f\">                                  </span> <span style=\"color: #7f7f7f; text-decoration-color: #7f7f7f\">                                  </span> <span style=\"color: #7f7f7f; text-decoration-color: #7f7f7f\">        </span> \n",
       " <span style=\"color: #7f7f7f; text-decoration-color: #7f7f7f\"> Half of ten people is            </span> <span style=\"color: #7f7f7f; text-decoration-color: #7f7f7f\">                                  </span> <span style=\"color: #7f7f7f; text-decoration-color: #7f7f7f\">                                  </span> <span style=\"color: #7f7f7f; text-decoration-color: #7f7f7f\">        </span> \n",
       " <span style=\"color: #7f7f7f; text-decoration-color: #7f7f7f\"> 10/2=&lt;&lt;10/2=5&gt;&gt;5 people.         </span> <span style=\"color: #7f7f7f; text-decoration-color: #7f7f7f\">                                  </span> <span style=\"color: #7f7f7f; text-decoration-color: #7f7f7f\">                                  </span> <span style=\"color: #7f7f7f; text-decoration-color: #7f7f7f\">        </span> \n",
       " <span style=\"color: #7f7f7f; text-decoration-color: #7f7f7f\"> At 100 pounds per day per        </span> <span style=\"color: #7f7f7f; text-decoration-color: #7f7f7f\">                                  </span> <span style=\"color: #7f7f7f; text-decoration-color: #7f7f7f\">                                  </span> <span style=\"color: #7f7f7f; text-decoration-color: #7f7f7f\">        </span> \n",
       " <span style=\"color: #7f7f7f; text-decoration-color: #7f7f7f\"> person, 5 people can shovel      </span> <span style=\"color: #7f7f7f; text-decoration-color: #7f7f7f\">                                  </span> <span style=\"color: #7f7f7f; text-decoration-color: #7f7f7f\">                                  </span> <span style=\"color: #7f7f7f; text-decoration-color: #7f7f7f\">        </span> \n",
       " <span style=\"color: #7f7f7f; text-decoration-color: #7f7f7f\"> 5*100=&lt;&lt;5*100=500&gt;&gt;500 pounds    </span> <span style=\"color: #7f7f7f; text-decoration-color: #7f7f7f\">                                  </span> <span style=\"color: #7f7f7f; text-decoration-color: #7f7f7f\">                                  </span> <span style=\"color: #7f7f7f; text-decoration-color: #7f7f7f\">        </span> \n",
       " <span style=\"color: #7f7f7f; text-decoration-color: #7f7f7f\"> per day.                         </span> <span style=\"color: #7f7f7f; text-decoration-color: #7f7f7f\">                                  </span> <span style=\"color: #7f7f7f; text-decoration-color: #7f7f7f\">                                  </span> <span style=\"color: #7f7f7f; text-decoration-color: #7f7f7f\">        </span> \n",
       " <span style=\"color: #7f7f7f; text-decoration-color: #7f7f7f\"> Therefore, for 5 people to       </span> <span style=\"color: #7f7f7f; text-decoration-color: #7f7f7f\">                                  </span> <span style=\"color: #7f7f7f; text-decoration-color: #7f7f7f\">                                  </span> <span style=\"color: #7f7f7f; text-decoration-color: #7f7f7f\">        </span> \n",
       " <span style=\"color: #7f7f7f; text-decoration-color: #7f7f7f\"> shovel 40,000 pounds, it will    </span> <span style=\"color: #7f7f7f; text-decoration-color: #7f7f7f\">                                  </span> <span style=\"color: #7f7f7f; text-decoration-color: #7f7f7f\">                                  </span> <span style=\"color: #7f7f7f; text-decoration-color: #7f7f7f\">        </span> \n",
       " <span style=\"color: #7f7f7f; text-decoration-color: #7f7f7f\"> take                             </span> <span style=\"color: #7f7f7f; text-decoration-color: #7f7f7f\">                                  </span> <span style=\"color: #7f7f7f; text-decoration-color: #7f7f7f\">                                  </span> <span style=\"color: #7f7f7f; text-decoration-color: #7f7f7f\">        </span> \n",
       " <span style=\"color: #7f7f7f; text-decoration-color: #7f7f7f\"> 40,000/500=&lt;&lt;40000/500=80&gt;&gt;80    </span> <span style=\"color: #7f7f7f; text-decoration-color: #7f7f7f\">                                  </span> <span style=\"color: #7f7f7f; text-decoration-color: #7f7f7f\">                                  </span> <span style=\"color: #7f7f7f; text-decoration-color: #7f7f7f\">        </span> \n",
       " <span style=\"color: #7f7f7f; text-decoration-color: #7f7f7f\"> days.                            </span> <span style=\"color: #7f7f7f; text-decoration-color: #7f7f7f\">                                  </span> <span style=\"color: #7f7f7f; text-decoration-color: #7f7f7f\">                                  </span> <span style=\"color: #7f7f7f; text-decoration-color: #7f7f7f\">        </span> \n",
       " <span style=\"color: #7f7f7f; text-decoration-color: #7f7f7f\"> #### 80                          </span> <span style=\"color: #7f7f7f; text-decoration-color: #7f7f7f\">                                  </span> <span style=\"color: #7f7f7f; text-decoration-color: #7f7f7f\">                                  </span> <span style=\"color: #7f7f7f; text-decoration-color: #7f7f7f\">        </span> \n",
       "  Incorrect. Must be equal to Nick   Nick is trying to raise money      nan                                180     \n",
       "  has made 20 * $10 =                for a charity. He is selling                                                  \n",
       "  $&lt;&lt;20*10=200&gt;&gt;200 from the         candy bars for $5. He is also                                                 \n",
       "  chocolate oranges.                 selling chocolate oranges for                                                 \n",
       "  This means he needs to raise       $10. He wants to raise $1000. He                                              \n",
       "  another $1000 - $200 =             only had 20 chocolate oranges                                                 \n",
       "  $&lt;&lt;1000-200=800&gt;&gt;800.              that he sold out. How many candy                                              \n",
       "  He needs to sell a total of $800   bars does Nick need to sell to                                                \n",
       "  / $5 = &lt;&lt;800/5=160&gt;&gt;160 candy      reach his goal?                                                               \n",
       "  bars to reach his goal.                                                                                          \n",
       "  #### 160                                                                                                         \n",
       " <span style=\"color: #7f7f7f; text-decoration-color: #7f7f7f\"> Incorrect. Must be equal to      </span> <span style=\"color: #7f7f7f; text-decoration-color: #7f7f7f\"> Lorie has 2 pieces of $100       </span> <span style=\"color: #7f7f7f; text-decoration-color: #7f7f7f\"> nan                              </span> <span style=\"color: #7f7f7f; text-decoration-color: #7f7f7f\"> 9      </span> \n",
       " <span style=\"color: #7f7f7f; text-decoration-color: #7f7f7f\"> There will be $100/$50 =         </span> <span style=\"color: #7f7f7f; text-decoration-color: #7f7f7f\"> bills. He requested to change    </span> <span style=\"color: #7f7f7f; text-decoration-color: #7f7f7f\">                                  </span> <span style=\"color: #7f7f7f; text-decoration-color: #7f7f7f\">        </span> \n",
       " <span style=\"color: #7f7f7f; text-decoration-color: #7f7f7f\"> &lt;&lt;100/50=2&gt;&gt;2 pieces of $50 when </span> <span style=\"color: #7f7f7f; text-decoration-color: #7f7f7f\"> one piece of the $100 bills into </span> <span style=\"color: #7f7f7f; text-decoration-color: #7f7f7f\">                                  </span> <span style=\"color: #7f7f7f; text-decoration-color: #7f7f7f\">        </span> \n",
       " <span style=\"color: #7f7f7f; text-decoration-color: #7f7f7f\"> $100 is changed to $50 bills.    </span> <span style=\"color: #7f7f7f; text-decoration-color: #7f7f7f\"> $50 bills. Half of the remaining </span> <span style=\"color: #7f7f7f; text-decoration-color: #7f7f7f\">                                  </span> <span style=\"color: #7f7f7f; text-decoration-color: #7f7f7f\">        </span> \n",
       " <span style=\"color: #7f7f7f; text-decoration-color: #7f7f7f\"> Half of $100 is $100/2 =         </span> <span style=\"color: #7f7f7f; text-decoration-color: #7f7f7f\"> $100 bill is changed to $10      </span> <span style=\"color: #7f7f7f; text-decoration-color: #7f7f7f\">                                  </span> <span style=\"color: #7f7f7f; text-decoration-color: #7f7f7f\">        </span> \n",
       " <span style=\"color: #7f7f7f; text-decoration-color: #7f7f7f\"> $&lt;&lt;100/2=50&gt;&gt;50.                 </span> <span style=\"color: #7f7f7f; text-decoration-color: #7f7f7f\"> bills while the rest is changed  </span> <span style=\"color: #7f7f7f; text-decoration-color: #7f7f7f\">                                  </span> <span style=\"color: #7f7f7f; text-decoration-color: #7f7f7f\">        </span> \n",
       " <span style=\"color: #7f7f7f; text-decoration-color: #7f7f7f\"> So there will be $50/$10 =       </span> <span style=\"color: #7f7f7f; text-decoration-color: #7f7f7f\"> to $5 bills. How many pieces of  </span> <span style=\"color: #7f7f7f; text-decoration-color: #7f7f7f\">                                  </span> <span style=\"color: #7f7f7f; text-decoration-color: #7f7f7f\">        </span> \n",
       " <span style=\"color: #7f7f7f; text-decoration-color: #7f7f7f\"> &lt;&lt;50/10=5&gt;&gt;5 pieces of $10 when  </span> <span style=\"color: #7f7f7f; text-decoration-color: #7f7f7f\"> bills will she have?             </span> <span style=\"color: #7f7f7f; text-decoration-color: #7f7f7f\">                                  </span> <span style=\"color: #7f7f7f; text-decoration-color: #7f7f7f\">        </span> \n",
       " <span style=\"color: #7f7f7f; text-decoration-color: #7f7f7f\"> $50 is changed to $10 bills.     </span> <span style=\"color: #7f7f7f; text-decoration-color: #7f7f7f\">                                  </span> <span style=\"color: #7f7f7f; text-decoration-color: #7f7f7f\">                                  </span> <span style=\"color: #7f7f7f; text-decoration-color: #7f7f7f\">        </span> \n",
       " <span style=\"color: #7f7f7f; text-decoration-color: #7f7f7f\"> The remaining $50 will be        </span> <span style=\"color: #7f7f7f; text-decoration-color: #7f7f7f\">                                  </span> <span style=\"color: #7f7f7f; text-decoration-color: #7f7f7f\">                                  </span> <span style=\"color: #7f7f7f; text-decoration-color: #7f7f7f\">        </span> \n",
       " <span style=\"color: #7f7f7f; text-decoration-color: #7f7f7f\"> changed to $5 bills so there     </span> <span style=\"color: #7f7f7f; text-decoration-color: #7f7f7f\">                                  </span> <span style=\"color: #7f7f7f; text-decoration-color: #7f7f7f\">                                  </span> <span style=\"color: #7f7f7f; text-decoration-color: #7f7f7f\">        </span> \n",
       " <span style=\"color: #7f7f7f; text-decoration-color: #7f7f7f\"> will be $50/$5 = &lt;&lt;50/5=10&gt;&gt;10   </span> <span style=\"color: #7f7f7f; text-decoration-color: #7f7f7f\">                                  </span> <span style=\"color: #7f7f7f; text-decoration-color: #7f7f7f\">                                  </span> <span style=\"color: #7f7f7f; text-decoration-color: #7f7f7f\">        </span> \n",
       " <span style=\"color: #7f7f7f; text-decoration-color: #7f7f7f\"> pieces of $5 bills.              </span> <span style=\"color: #7f7f7f; text-decoration-color: #7f7f7f\">                                  </span> <span style=\"color: #7f7f7f; text-decoration-color: #7f7f7f\">                                  </span> <span style=\"color: #7f7f7f; text-decoration-color: #7f7f7f\">        </span> \n",
       " <span style=\"color: #7f7f7f; text-decoration-color: #7f7f7f\"> So in total, Lorie will have 2   </span> <span style=\"color: #7f7f7f; text-decoration-color: #7f7f7f\">                                  </span> <span style=\"color: #7f7f7f; text-decoration-color: #7f7f7f\">                                  </span> <span style=\"color: #7f7f7f; text-decoration-color: #7f7f7f\">        </span> \n",
       " <span style=\"color: #7f7f7f; text-decoration-color: #7f7f7f\"> $50 bills + 5 $10 bills + 10 $5  </span> <span style=\"color: #7f7f7f; text-decoration-color: #7f7f7f\">                                  </span> <span style=\"color: #7f7f7f; text-decoration-color: #7f7f7f\">                                  </span> <span style=\"color: #7f7f7f; text-decoration-color: #7f7f7f\">        </span> \n",
       " <span style=\"color: #7f7f7f; text-decoration-color: #7f7f7f\"> bills = &lt;&lt;2+5+10=17&gt;&gt;17 pieces   </span> <span style=\"color: #7f7f7f; text-decoration-color: #7f7f7f\">                                  </span> <span style=\"color: #7f7f7f; text-decoration-color: #7f7f7f\">                                  </span> <span style=\"color: #7f7f7f; text-decoration-color: #7f7f7f\">        </span> \n",
       " <span style=\"color: #7f7f7f; text-decoration-color: #7f7f7f\"> of bills.                        </span> <span style=\"color: #7f7f7f; text-decoration-color: #7f7f7f\">                                  </span> <span style=\"color: #7f7f7f; text-decoration-color: #7f7f7f\">                                  </span> <span style=\"color: #7f7f7f; text-decoration-color: #7f7f7f\">        </span> \n",
       " <span style=\"color: #7f7f7f; text-decoration-color: #7f7f7f\"> #### 17                          </span> <span style=\"color: #7f7f7f; text-decoration-color: #7f7f7f\">                                  </span> <span style=\"color: #7f7f7f; text-decoration-color: #7f7f7f\">                                  </span> <span style=\"color: #7f7f7f; text-decoration-color: #7f7f7f\">        </span> \n",
       "  nan                                Big Lots is having a sale. All     To calculate the total cost of     nan     \n",
       "                                     chairs are 25% off. If you buy     the chairs, we need to follow              \n",
       "                                     more than 5 chairs, you get an     these steps:                               \n",
       "                                     additional 1/3 off the                                                        \n",
       "                                     discounted price of the number     1. Calculate the discounted                \n",
       "                                     of chairs over 5. If you bought    price of each chair: $20 * 25% =           \n",
       "                                     8 chairs that were normally        $5 discount per chair.                     \n",
       "                                     priced at $20, how much do the        So, the discounted price of             \n",
       "                                     chairs cost in total?              each chair is $20 - $5 = $15.              \n",
       "                                                                                                                   \n",
       "                                                                        2. Calculate the additional                \n",
       "                                                                        discount for the chairs over 5:            \n",
       "                                                                        $15 * 1/3 = $5 discount per                \n",
       "                                                                        chair.                                     \n",
       "                                                                           So, the additional discount             \n",
       "                                                                        for each chair over 5 is $5.               \n",
       "                                                                                                                   \n",
       "                                                                        3. Calculate the total cost of             \n",
       "                                                                        the first 5 chairs: $15 * 5 =              \n",
       "                                                                        $75.                                       \n",
       "                                                                                                                   \n",
       "                                                                        4. Calculate the total cost of             \n",
       "                                                                        the remaining 3 chairs: $15 - $5           \n",
       "                                                                        = $10 per chair.                           \n",
       "                                                                           So, the total cost of the               \n",
       "                                                                        remaining 3 chairs is $10 * 3 =            \n",
       "                                                                        $30.                                       \n",
       "                                                                                                                   \n",
       "                                                                        5. Calculate the total cost of             \n",
       "                                                                        all 8 chairs: $75 + $30 = $105.            \n",
       "                                                                                                                   \n",
       "                                                                        Therefore, the chairs cost a               \n",
       "                                                                        total of $105.                             \n",
       "                                                                                                                   \n",
       "</pre>\n"
      ],
      "text/plain": [
       "                                                                                                                   \n",
       " \u001b[1;35m \u001b[0m\u001b[1;35manswer__fb                      \u001b[0m\u001b[1;35m \u001b[0m \u001b[1;35m \u001b[0m\u001b[1;35mquestion                        \u001b[0m\u001b[1;35m \u001b[0m \u001b[1;35m \u001b[0m\u001b[1;35moutput                          \u001b[0m\u001b[1;35m \u001b[0m \u001b[1;35m \u001b[0m\u001b[1;35manswer\u001b[0m\u001b[1;35m \u001b[0m \n",
       " ───────────────────────────────────────────────────────────────────────────────────────────────────────────────── \n",
       "  nan                                When three friends sold their      To find the total amount of        nan     \n",
       "                                     video games, Ryan, the first of    money the three friends received           \n",
       "                                     the three friends, received $50    together from the sale of the              \n",
       "                                     more than Jason from his sales.    video games, we need to                    \n",
       "                                     Jason received 30% more money      calculate the amount of money              \n",
       "                                     than Zachary from selling his      each friend received.                      \n",
       "                                     video games. If Zachary sold 40                                               \n",
       "                                     games at $5 each, calculate the    First, let's calculate how much            \n",
       "                                     total amount of money the three    money Zachary received from                \n",
       "                                     friends received together from     selling his video games. Zachary           \n",
       "                                     the sale of the video games.       sold 40 games at $5 each, so he            \n",
       "                                                                        received 40 * $5 =                         \n",
       "                                                                        $<<40*5=200>>200.                          \n",
       "                                                                                                                   \n",
       "                                                                        Next, let's calculate how much             \n",
       "                                                                        money Jason received from                  \n",
       "                                                                        selling his video games. We are            \n",
       "                                                                        told that Jason received 30%               \n",
       "                                                                        more money than Zachary. To find           \n",
       "                                                                        this amount, we can multiply               \n",
       "                                                                        Zachary's earnings by 1.3: $200            \n",
       "                                                                        * 1.3 = $<<200*1.3=260>>260.               \n",
       "                                                                                                                   \n",
       "                                                                        Finally, let's calculate how               \n",
       "                                                                        much money Ryan received from              \n",
       "                                                                        selling his video games. We are            \n",
       "                                                                        told that Ryan received $50 more           \n",
       "                                                                        than Jason. So, Ryan's earnings            \n",
       "                                                                        can be found by adding $50 to              \n",
       "                                                                        Jason's earnings: $260 + $50 =             \n",
       "                                                                        $<<260+50=310>>310.                        \n",
       "                                                                                                                   \n",
       "                                                                        To find the total amount of                \n",
       "                                                                        money the three friends received           \n",
       "                                                                        together, we can add up their              \n",
       "                                                                        individual earnings: $200 + $260           \n",
       "                                                                        + $310 =                                   \n",
       "                                                                        $<<200+260+310=770>>770.                   \n",
       "                                                                                                                   \n",
       "                                                                        Therefore, the three friends               \n",
       " \u001b[2m \u001b[0m\u001b[2mIncorrect. Must be equal to The \u001b[0m\u001b[2m \u001b[0m \u001b[2m \u001b[0m\u001b[2mIf it takes 10 people 10 days to\u001b[0m\u001b[2m \u001b[0m \u001b[2m \u001b[0m\u001b[2mnan                             \u001b[0m\u001b[2m \u001b[0m \u001b[2m \u001b[0m\u001b[2m10    \u001b[0m\u001b[2m \u001b[0m \n",
       " \u001b[2m \u001b[0m\u001b[2m10 people shovel 10,000 pounds  \u001b[0m\u001b[2m \u001b[0m \u001b[2m \u001b[0m\u001b[2mshovel 10,000 pounds of coal,   \u001b[0m\u001b[2m \u001b[0m \u001b[2m                                  \u001b[0m \u001b[2m        \u001b[0m \n",
       " \u001b[2m \u001b[0m\u001b[2mper 10 days, or                 \u001b[0m\u001b[2m \u001b[0m \u001b[2m \u001b[0m\u001b[2mhow many days will it take half \u001b[0m\u001b[2m \u001b[0m \u001b[2m                                  \u001b[0m \u001b[2m        \u001b[0m \n",
       " \u001b[2m \u001b[0m\u001b[2m10,000/10=<<10000/10=1000>>1000 \u001b[0m\u001b[2m \u001b[0m \u001b[2m \u001b[0m\u001b[2mof these ten people to shovel   \u001b[0m\u001b[2m \u001b[0m \u001b[2m                                  \u001b[0m \u001b[2m        \u001b[0m \n",
       " \u001b[2m \u001b[0m\u001b[2mpounds per day per 10 people.   \u001b[0m\u001b[2m \u001b[0m \u001b[2m \u001b[0m\u001b[2m40,000 pounds of coal?          \u001b[0m\u001b[2m \u001b[0m \u001b[2m                                  \u001b[0m \u001b[2m        \u001b[0m \n",
       " \u001b[2m \u001b[0m\u001b[2mAnd 1000 pounds per day per 10  \u001b[0m\u001b[2m \u001b[0m \u001b[2m                                  \u001b[0m \u001b[2m                                  \u001b[0m \u001b[2m        \u001b[0m \n",
       " \u001b[2m \u001b[0m\u001b[2mpeople is                       \u001b[0m\u001b[2m \u001b[0m \u001b[2m                                  \u001b[0m \u001b[2m                                  \u001b[0m \u001b[2m        \u001b[0m \n",
       " \u001b[2m \u001b[0m\u001b[2m1000/10=<<1000/10=100>>100      \u001b[0m\u001b[2m \u001b[0m \u001b[2m                                  \u001b[0m \u001b[2m                                  \u001b[0m \u001b[2m        \u001b[0m \n",
       " \u001b[2m \u001b[0m\u001b[2mpounds per day per person.      \u001b[0m\u001b[2m \u001b[0m \u001b[2m                                  \u001b[0m \u001b[2m                                  \u001b[0m \u001b[2m        \u001b[0m \n",
       " \u001b[2m \u001b[0m\u001b[2mHalf of ten people is           \u001b[0m\u001b[2m \u001b[0m \u001b[2m                                  \u001b[0m \u001b[2m                                  \u001b[0m \u001b[2m        \u001b[0m \n",
       " \u001b[2m \u001b[0m\u001b[2m10/2=<<10/2=5>>5 people.        \u001b[0m\u001b[2m \u001b[0m \u001b[2m                                  \u001b[0m \u001b[2m                                  \u001b[0m \u001b[2m        \u001b[0m \n",
       " \u001b[2m \u001b[0m\u001b[2mAt 100 pounds per day per       \u001b[0m\u001b[2m \u001b[0m \u001b[2m                                  \u001b[0m \u001b[2m                                  \u001b[0m \u001b[2m        \u001b[0m \n",
       " \u001b[2m \u001b[0m\u001b[2mperson, 5 people can shovel     \u001b[0m\u001b[2m \u001b[0m \u001b[2m                                  \u001b[0m \u001b[2m                                  \u001b[0m \u001b[2m        \u001b[0m \n",
       " \u001b[2m \u001b[0m\u001b[2m5*100=<<5*100=500>>500 pounds   \u001b[0m\u001b[2m \u001b[0m \u001b[2m                                  \u001b[0m \u001b[2m                                  \u001b[0m \u001b[2m        \u001b[0m \n",
       " \u001b[2m \u001b[0m\u001b[2mper day.                        \u001b[0m\u001b[2m \u001b[0m \u001b[2m                                  \u001b[0m \u001b[2m                                  \u001b[0m \u001b[2m        \u001b[0m \n",
       " \u001b[2m \u001b[0m\u001b[2mTherefore, for 5 people to      \u001b[0m\u001b[2m \u001b[0m \u001b[2m                                  \u001b[0m \u001b[2m                                  \u001b[0m \u001b[2m        \u001b[0m \n",
       " \u001b[2m \u001b[0m\u001b[2mshovel 40,000 pounds, it will   \u001b[0m\u001b[2m \u001b[0m \u001b[2m                                  \u001b[0m \u001b[2m                                  \u001b[0m \u001b[2m        \u001b[0m \n",
       " \u001b[2m \u001b[0m\u001b[2mtake                            \u001b[0m\u001b[2m \u001b[0m \u001b[2m                                  \u001b[0m \u001b[2m                                  \u001b[0m \u001b[2m        \u001b[0m \n",
       " \u001b[2m \u001b[0m\u001b[2m40,000/500=<<40000/500=80>>80   \u001b[0m\u001b[2m \u001b[0m \u001b[2m                                  \u001b[0m \u001b[2m                                  \u001b[0m \u001b[2m        \u001b[0m \n",
       " \u001b[2m \u001b[0m\u001b[2mdays.                           \u001b[0m\u001b[2m \u001b[0m \u001b[2m                                  \u001b[0m \u001b[2m                                  \u001b[0m \u001b[2m        \u001b[0m \n",
       " \u001b[2m \u001b[0m\u001b[2m#### 80                         \u001b[0m\u001b[2m \u001b[0m \u001b[2m                                  \u001b[0m \u001b[2m                                  \u001b[0m \u001b[2m        \u001b[0m \n",
       "  Incorrect. Must be equal to Nick   Nick is trying to raise money      nan                                180     \n",
       "  has made 20 * $10 =                for a charity. He is selling                                                  \n",
       "  $<<20*10=200>>200 from the         candy bars for $5. He is also                                                 \n",
       "  chocolate oranges.                 selling chocolate oranges for                                                 \n",
       "  This means he needs to raise       $10. He wants to raise $1000. He                                              \n",
       "  another $1000 - $200 =             only had 20 chocolate oranges                                                 \n",
       "  $<<1000-200=800>>800.              that he sold out. How many candy                                              \n",
       "  He needs to sell a total of $800   bars does Nick need to sell to                                                \n",
       "  / $5 = <<800/5=160>>160 candy      reach his goal?                                                               \n",
       "  bars to reach his goal.                                                                                          \n",
       "  #### 160                                                                                                         \n",
       " \u001b[2m \u001b[0m\u001b[2mIncorrect. Must be equal to     \u001b[0m\u001b[2m \u001b[0m \u001b[2m \u001b[0m\u001b[2mLorie has 2 pieces of $100      \u001b[0m\u001b[2m \u001b[0m \u001b[2m \u001b[0m\u001b[2mnan                             \u001b[0m\u001b[2m \u001b[0m \u001b[2m \u001b[0m\u001b[2m9     \u001b[0m\u001b[2m \u001b[0m \n",
       " \u001b[2m \u001b[0m\u001b[2mThere will be $100/$50 =        \u001b[0m\u001b[2m \u001b[0m \u001b[2m \u001b[0m\u001b[2mbills. He requested to change   \u001b[0m\u001b[2m \u001b[0m \u001b[2m                                  \u001b[0m \u001b[2m        \u001b[0m \n",
       " \u001b[2m \u001b[0m\u001b[2m<<100/50=2>>2 pieces of $50 when\u001b[0m\u001b[2m \u001b[0m \u001b[2m \u001b[0m\u001b[2mone piece of the $100 bills into\u001b[0m\u001b[2m \u001b[0m \u001b[2m                                  \u001b[0m \u001b[2m        \u001b[0m \n",
       " \u001b[2m \u001b[0m\u001b[2m$100 is changed to $50 bills.   \u001b[0m\u001b[2m \u001b[0m \u001b[2m \u001b[0m\u001b[2m$50 bills. Half of the remaining\u001b[0m\u001b[2m \u001b[0m \u001b[2m                                  \u001b[0m \u001b[2m        \u001b[0m \n",
       " \u001b[2m \u001b[0m\u001b[2mHalf of $100 is $100/2 =        \u001b[0m\u001b[2m \u001b[0m \u001b[2m \u001b[0m\u001b[2m$100 bill is changed to $10     \u001b[0m\u001b[2m \u001b[0m \u001b[2m                                  \u001b[0m \u001b[2m        \u001b[0m \n",
       " \u001b[2m \u001b[0m\u001b[2m$<<100/2=50>>50.                \u001b[0m\u001b[2m \u001b[0m \u001b[2m \u001b[0m\u001b[2mbills while the rest is changed \u001b[0m\u001b[2m \u001b[0m \u001b[2m                                  \u001b[0m \u001b[2m        \u001b[0m \n",
       " \u001b[2m \u001b[0m\u001b[2mSo there will be $50/$10 =      \u001b[0m\u001b[2m \u001b[0m \u001b[2m \u001b[0m\u001b[2mto $5 bills. How many pieces of \u001b[0m\u001b[2m \u001b[0m \u001b[2m                                  \u001b[0m \u001b[2m        \u001b[0m \n",
       " \u001b[2m \u001b[0m\u001b[2m<<50/10=5>>5 pieces of $10 when \u001b[0m\u001b[2m \u001b[0m \u001b[2m \u001b[0m\u001b[2mbills will she have?            \u001b[0m\u001b[2m \u001b[0m \u001b[2m                                  \u001b[0m \u001b[2m        \u001b[0m \n",
       " \u001b[2m \u001b[0m\u001b[2m$50 is changed to $10 bills.    \u001b[0m\u001b[2m \u001b[0m \u001b[2m                                  \u001b[0m \u001b[2m                                  \u001b[0m \u001b[2m        \u001b[0m \n",
       " \u001b[2m \u001b[0m\u001b[2mThe remaining $50 will be       \u001b[0m\u001b[2m \u001b[0m \u001b[2m                                  \u001b[0m \u001b[2m                                  \u001b[0m \u001b[2m        \u001b[0m \n",
       " \u001b[2m \u001b[0m\u001b[2mchanged to $5 bills so there    \u001b[0m\u001b[2m \u001b[0m \u001b[2m                                  \u001b[0m \u001b[2m                                  \u001b[0m \u001b[2m        \u001b[0m \n",
       " \u001b[2m \u001b[0m\u001b[2mwill be $50/$5 = <<50/5=10>>10  \u001b[0m\u001b[2m \u001b[0m \u001b[2m                                  \u001b[0m \u001b[2m                                  \u001b[0m \u001b[2m        \u001b[0m \n",
       " \u001b[2m \u001b[0m\u001b[2mpieces of $5 bills.             \u001b[0m\u001b[2m \u001b[0m \u001b[2m                                  \u001b[0m \u001b[2m                                  \u001b[0m \u001b[2m        \u001b[0m \n",
       " \u001b[2m \u001b[0m\u001b[2mSo in total, Lorie will have 2  \u001b[0m\u001b[2m \u001b[0m \u001b[2m                                  \u001b[0m \u001b[2m                                  \u001b[0m \u001b[2m        \u001b[0m \n",
       " \u001b[2m \u001b[0m\u001b[2m$50 bills + 5 $10 bills + 10 $5 \u001b[0m\u001b[2m \u001b[0m \u001b[2m                                  \u001b[0m \u001b[2m                                  \u001b[0m \u001b[2m        \u001b[0m \n",
       " \u001b[2m \u001b[0m\u001b[2mbills = <<2+5+10=17>>17 pieces  \u001b[0m\u001b[2m \u001b[0m \u001b[2m                                  \u001b[0m \u001b[2m                                  \u001b[0m \u001b[2m        \u001b[0m \n",
       " \u001b[2m \u001b[0m\u001b[2mof bills.                       \u001b[0m\u001b[2m \u001b[0m \u001b[2m                                  \u001b[0m \u001b[2m                                  \u001b[0m \u001b[2m        \u001b[0m \n",
       " \u001b[2m \u001b[0m\u001b[2m#### 17                         \u001b[0m\u001b[2m \u001b[0m \u001b[2m                                  \u001b[0m \u001b[2m                                  \u001b[0m \u001b[2m        \u001b[0m \n",
       "  nan                                Big Lots is having a sale. All     To calculate the total cost of     nan     \n",
       "                                     chairs are 25% off. If you buy     the chairs, we need to follow              \n",
       "                                     more than 5 chairs, you get an     these steps:                               \n",
       "                                     additional 1/3 off the                                                        \n",
       "                                     discounted price of the number     1. Calculate the discounted                \n",
       "                                     of chairs over 5. If you bought    price of each chair: $20 * 25% =           \n",
       "                                     8 chairs that were normally        $5 discount per chair.                     \n",
       "                                     priced at $20, how much do the        So, the discounted price of             \n",
       "                                     chairs cost in total?              each chair is $20 - $5 = $15.              \n",
       "                                                                                                                   \n",
       "                                                                        2. Calculate the additional                \n",
       "                                                                        discount for the chairs over 5:            \n",
       "                                                                        $15 * 1/3 = $5 discount per                \n",
       "                                                                        chair.                                     \n",
       "                                                                           So, the additional discount             \n",
       "                                                                        for each chair over 5 is $5.               \n",
       "                                                                                                                   \n",
       "                                                                        3. Calculate the total cost of             \n",
       "                                                                        the first 5 chairs: $15 * 5 =              \n",
       "                                                                        $75.                                       \n",
       "                                                                                                                   \n",
       "                                                                        4. Calculate the total cost of             \n",
       "                                                                        the remaining 3 chairs: $15 - $5           \n",
       "                                                                        = $10 per chair.                           \n",
       "                                                                           So, the total cost of the               \n",
       "                                                                        remaining 3 chairs is $10 * 3 =            \n",
       "                                                                        $30.                                       \n",
       "                                                                                                                   \n",
       "                                                                        5. Calculate the total cost of             \n",
       "                                                                        all 8 chairs: $75 + $30 = $105.            \n",
       "                                                                                                                   \n",
       "                                                                        Therefore, the chairs cost a               \n",
       "                                                                        total of $105.                             \n",
       "                                                                                                                   \n"
      ]
     },
     "metadata": {},
     "output_type": "display_data"
    },
    {
     "data": {
      "text/html": [
       "<pre style=\"white-space:pre;overflow-x:auto;line-height:normal;font-family:Menlo,'DejaVu Sans Mono',consolas,'Courier New',monospace\"><span style=\"color: #800000; text-decoration-color: #800000; font-weight: bold\">Skill output to improve: </span><span style=\"color: #008000; text-decoration-color: #008000\">\"answer\"</span><span style=\"color: #800000; text-decoration-color: #800000; font-weight: bold\"> (</span><span style=\"color: #808000; text-decoration-color: #808000; font-weight: bold\">Skill</span><span style=\"color: #800000; text-decoration-color: #800000; font-weight: bold\">=</span><span style=\"color: #008000; text-decoration-color: #008000\">\"math_solver\"</span><span style=\"color: #800000; text-decoration-color: #800000; font-weight: bold\">)</span>\n",
       "<span style=\"color: #800000; text-decoration-color: #800000; font-weight: bold\">Accuracy = </span><span style=\"color: #008080; text-decoration-color: #008080; font-weight: bold\">0.00</span><span style=\"color: #800000; text-decoration-color: #800000; font-weight: bold\">%</span>\n",
       "</pre>\n"
      ],
      "text/plain": [
       "\u001b[1;31mSkill output to improve: \u001b[0m\u001b[32m\"answer\"\u001b[0m\u001b[1;31m \u001b[0m\u001b[1;31m(\u001b[0m\u001b[1;33mSkill\u001b[0m\u001b[1;31m=\u001b[0m\u001b[32m\"math_solver\"\u001b[0m\u001b[1;31m)\u001b[0m\n",
       "\u001b[1;31mAccuracy = \u001b[0m\u001b[1;36m0.00\u001b[0m\u001b[1;31m%\u001b[0m\n"
      ]
     },
     "metadata": {},
     "output_type": "display_data"
    },
    {
     "data": {
      "text/html": [
       "<pre style=\"white-space:pre;overflow-x:auto;line-height:normal;font-family:Menlo,'DejaVu Sans Mono',consolas,'Courier New',monospace\"><span style=\"font-weight: bold\">{</span><span style=\"color: #008000; text-decoration-color: #008000\">'input'</span>: <span style=\"color: #008000; text-decoration-color: #008000\">'\\n\\t\\t\\tA prompt is a text paragraph that outlines the expected actions and instructs the large language</span>\n",
       "<span style=\"color: #008000; text-decoration-color: #008000\">model (LLM) to \\t\\t\\tgenerate a specific output. This prompt is concatenated with the input text, and the </span>\n",
       "<span style=\"color: #008000; text-decoration-color: #008000\">\\t\\t\\tmodel then creates the required output.\\n\\t\\t\\tThis describes the full template how the prompt is </span>\n",
       "<span style=\"color: #008000; text-decoration-color: #008000\">concatenated with the input to produce the </span>\n",
       "<span style=\"color: #008000; text-decoration-color: #008000\">output:\\n\\t\\t\\t```\\n\\t\\t\\t\\n\\t\\t{prompt}\\n\\t\\t\\t```\\n\\t\\t\\tHere:\\n\\t\\t\\t- \"{prompt}\" is the LLM </span>\n",
       "<span style=\"color: #008000; text-decoration-color: #008000\">prompt\\n\\n\\t\\t\\tModel can produce erroneous output if a prompt is not well defined. \\t\\t\\tIn our collaboration, </span>\n",
       "<span style=\"color: #008000; text-decoration-color: #008000\">we’ll work together to refine a prompt. The process consists of two main steps:\\n\\n\\t\\t\\t## Step 1\\n\\t\\t\\tI will </span>\n",
       "<span style=\"color: #008000; text-decoration-color: #008000\">provide you with the current prompt along with prediction examples. Each example contains the input text, the final</span>\n",
       "<span style=\"color: #008000; text-decoration-color: #008000\">prediction produced by the model, and the user feedback. \\t\\t\\tUser feedback indicates whether the model prediction</span>\n",
       "<span style=\"color: #008000; text-decoration-color: #008000\">is correct or not. \\t\\t\\tYour task is to analyze the examples and user feedback, determining whether the </span>\n",
       "<span style=\"color: #008000; text-decoration-color: #008000\">\\t\\t\\texisting instruction is describing the task reflected by these examples precisely, and suggests changes to </span>\n",
       "<span style=\"color: #008000; text-decoration-color: #008000\">the prompt to address the incorrect predictions.\\n\\n\\t\\t\\t## Step 2\\n\\t\\t\\tNext, you will carefully review your </span>\n",
       "<span style=\"color: #008000; text-decoration-color: #008000\">reasoning in step 1, integrate the insights to refine the prompt, \\t\\t\\tand provide me with the new prompt that </span>\n",
       "<span style=\"color: #008000; text-decoration-color: #008000\">improves the model’s performance.\\n\\t\\t\\t## Current prompt\\n\\t\\t\\t\\n\\t\\t\\t## Examples\\n\\t\\t\\t### Example #0\\n\\nQ: </span>\n",
       "<span style=\"color: #008000; text-decoration-color: #008000\">When three friends sold their video games, Ryan, the first of the three friends, received $50 more than Jason from </span>\n",
       "<span style=\"color: #008000; text-decoration-color: #008000\">his sales. Jason received 30% more money than Zachary from selling his video games. If Zachary sold 40 games at $5 </span>\n",
       "<span style=\"color: #008000; text-decoration-color: #008000\">each, calculate the total amount of money the three friends received together from the sale of the video </span>\n",
       "<span style=\"color: #008000; text-decoration-color: #008000\">games.\\n\\nThe final numerical answer: nan\\n\\nUser feedback: nan\\n\\n\\n### Example #1\\n\\nQ: If it takes 10 people 10 </span>\n",
       "<span style=\"color: #008000; text-decoration-color: #008000\">days to shovel 10,000 pounds of coal, how many days will it take half of these ten people to shovel 40,000 pounds </span>\n",
       "<span style=\"color: #008000; text-decoration-color: #008000\">of coal?\\n\\nThe final numerical answer: 10\\n\\nUser feedback: Incorrect. Must be equal to The 10 people shovel </span>\n",
       "<span style=\"color: #008000; text-decoration-color: #008000\">10,000 pounds per 10 days, or 10,000/10=&lt;&lt;10000/10=1000&gt;&gt;1000 pounds per day per 10 people.\\nAnd 1000 pounds per </span>\n",
       "<span style=\"color: #008000; text-decoration-color: #008000\">day per 10 people is 1000/10=&lt;&lt;1000/10=100&gt;&gt;100 pounds per day per person.\\nHalf of ten people is 10/2=&lt;&lt;10/2=5&gt;&gt;5 </span>\n",
       "<span style=\"color: #008000; text-decoration-color: #008000\">people.\\nAt 100 pounds per day per person, 5 people can shovel 5*100=&lt;&lt;5*100=500&gt;&gt;500 pounds per day.\\nTherefore, </span>\n",
       "<span style=\"color: #008000; text-decoration-color: #008000\">for 5 people to shovel 40,000 pounds, it will take 40,000/500=&lt;&lt;40000/500=80&gt;&gt;80 days.\\n#### 80\\n\\n\\n### Example </span>\n",
       "<span style=\"color: #008000; text-decoration-color: #008000\">#2\\n\\nQ: Nick is trying to raise money for a charity. He is selling candy bars for $5. He is also selling chocolate</span>\n",
       "<span style=\"color: #008000; text-decoration-color: #008000\">oranges for $10. He wants to raise $1000. He only had 20 chocolate oranges that he sold out. How many candy bars </span>\n",
       "<span style=\"color: #008000; text-decoration-color: #008000\">does Nick need to sell to reach his goal?\\n\\nThe final numerical answer: 180\\n\\nUser feedback: Incorrect. Must be </span>\n",
       "<span style=\"color: #008000; text-decoration-color: #008000\">equal to Nick has made 20 * $10 = $&lt;&lt;20*10=200&gt;&gt;200 from the chocolate oranges.\\nThis means he needs to raise </span>\n",
       "<span style=\"color: #008000; text-decoration-color: #008000\">another $1000 - $200 = $&lt;&lt;1000-200=800&gt;&gt;800.\\nHe needs to sell a total of $800 / $5 = &lt;&lt;800/5=160&gt;&gt;160 candy bars </span>\n",
       "<span style=\"color: #008000; text-decoration-color: #008000\">to reach his goal.\\n#### 160\\n\\n\\n### Example #3\\n\\nQ: Lorie has 2 pieces of $100 bills. He requested to change one</span>\n",
       "<span style=\"color: #008000; text-decoration-color: #008000\">piece of the $100 bills into $50 bills. Half of the remaining $100 bill is changed to $10 bills while the rest is </span>\n",
       "<span style=\"color: #008000; text-decoration-color: #008000\">changed to $5 bills. How many pieces of bills will she have?\\n\\nThe final numerical answer: 9\\n\\nUser feedback: </span>\n",
       "<span style=\"color: #008000; text-decoration-color: #008000\">Incorrect. Must be equal to There will be $100/$50 = &lt;&lt;100/50=2&gt;&gt;2 pieces of $50 when $100 is changed to $50 </span>\n",
       "<span style=\"color: #008000; text-decoration-color: #008000\">bills.\\nHalf of $100 is $100/2 = $&lt;&lt;100/2=50&gt;&gt;50.\\nSo there will be $50/$10 = &lt;&lt;50/10=5&gt;&gt;5 pieces of $10 when $50 </span>\n",
       "<span style=\"color: #008000; text-decoration-color: #008000\">is changed to $10 bills.\\nThe remaining $50 will be changed to $5 bills so there will be $50/$5 = &lt;&lt;50/5=10&gt;&gt;10 </span>\n",
       "<span style=\"color: #008000; text-decoration-color: #008000\">pieces of $5 bills.\\nSo in total, Lorie will have 2 $50 bills + 5 $10 bills + 10 $5 bills = &lt;&lt;2+5+10=17&gt;&gt;17 pieces </span>\n",
       "<span style=\"color: #008000; text-decoration-color: #008000\">of bills.\\n#### 17\\n\\n\\n### Example #4\\n\\nQ: Big Lots is having a sale. All chairs are 25% off. If you buy more </span>\n",
       "<span style=\"color: #008000; text-decoration-color: #008000\">than 5 chairs, you get an additional 1/3 off the discounted price of the number of chairs over 5. If you bought 8 </span>\n",
       "<span style=\"color: #008000; text-decoration-color: #008000\">chairs that were normally priced at $20, how much do the chairs cost in total?\\n\\nThe final numerical answer: </span>\n",
       "<span style=\"color: #008000; text-decoration-color: #008000\">nan\\n\\nUser feedback: nan\\n\\n\\n\\t\\t\\tSummarize your analysis about incorrect predictions and suggest changes to the</span>\n",
       "<span style=\"color: #008000; text-decoration-color: #008000\">prompt.'</span><span style=\"font-weight: bold\">}</span>\n",
       "</pre>\n"
      ],
      "text/plain": [
       "\u001b[1m{\u001b[0m\u001b[32m'input'\u001b[0m: \u001b[32m'\\n\\t\\t\\tA prompt is a text paragraph that outlines the expected actions and instructs the large language\u001b[0m\n",
       "\u001b[32mmodel \u001b[0m\u001b[32m(\u001b[0m\u001b[32mLLM\u001b[0m\u001b[32m)\u001b[0m\u001b[32m to \\t\\t\\tgenerate a specific output. This prompt is concatenated with the input text, and the \u001b[0m\n",
       "\u001b[32m\\t\\t\\tmodel then creates the required output.\\n\\t\\t\\tThis describes the full template how the prompt is \u001b[0m\n",
       "\u001b[32mconcatenated with the input to produce the \u001b[0m\n",
       "\u001b[32moutput:\\n\\t\\t\\t```\\n\\t\\t\\t\\n\\t\\t\u001b[0m\u001b[32m{\u001b[0m\u001b[32mprompt\u001b[0m\u001b[32m}\u001b[0m\u001b[32m\\n\\t\\t\\t```\\n\\t\\t\\tHere:\\n\\t\\t\\t- \"\u001b[0m\u001b[32m{\u001b[0m\u001b[32mprompt\u001b[0m\u001b[32m}\u001b[0m\u001b[32m\" is the LLM \u001b[0m\n",
       "\u001b[32mprompt\\n\\n\\t\\t\\tModel can produce erroneous output if a prompt is not well defined. \\t\\t\\tIn our collaboration, \u001b[0m\n",
       "\u001b[32mwe’ll work together to refine a prompt. The process consists of two main steps:\\n\\n\\t\\t\\t## Step 1\\n\\t\\t\\tI will \u001b[0m\n",
       "\u001b[32mprovide you with the current prompt along with prediction examples. Each example contains the input text, the final\u001b[0m\n",
       "\u001b[32mprediction produced by the model, and the user feedback. \\t\\t\\tUser feedback indicates whether the model prediction\u001b[0m\n",
       "\u001b[32mis correct or not. \\t\\t\\tYour task is to analyze the examples and user feedback, determining whether the \u001b[0m\n",
       "\u001b[32m\\t\\t\\texisting instruction is describing the task reflected by these examples precisely, and suggests changes to \u001b[0m\n",
       "\u001b[32mthe prompt to address the incorrect predictions.\\n\\n\\t\\t\\t## Step 2\\n\\t\\t\\tNext, you will carefully review your \u001b[0m\n",
       "\u001b[32mreasoning in step 1, integrate the insights to refine the prompt, \\t\\t\\tand provide me with the new prompt that \u001b[0m\n",
       "\u001b[32mimproves the model’s performance.\\n\\t\\t\\t## Current prompt\\n\\t\\t\\t\\n\\t\\t\\t## Examples\\n\\t\\t\\t### Example #0\\n\\nQ: \u001b[0m\n",
       "\u001b[32mWhen three friends sold their video games, Ryan, the first of the three friends, received $50 more than Jason from \u001b[0m\n",
       "\u001b[32mhis sales. Jason received 30% more money than Zachary from selling his video games. If Zachary sold 40 games at $5 \u001b[0m\n",
       "\u001b[32meach, calculate the total amount of money the three friends received together from the sale of the video \u001b[0m\n",
       "\u001b[32mgames.\\n\\nThe final numerical answer: nan\\n\\nUser feedback: nan\\n\\n\\n### Example #1\\n\\nQ: If it takes 10 people 10 \u001b[0m\n",
       "\u001b[32mdays to shovel 10,000 pounds of coal, how many days will it take half of these ten people to shovel 40,000 pounds \u001b[0m\n",
       "\u001b[32mof coal?\\n\\nThe final numerical answer: 10\\n\\nUser feedback: Incorrect. Must be equal to The 10 people shovel \u001b[0m\n",
       "\u001b[32m10,000 pounds per 10 days, or 10,000/\u001b[0m\u001b[32m10\u001b[0m\u001b[32m=\u001b[0m\u001b[32m<\u001b[0m\u001b[32m<10000/\u001b[0m\u001b[32m10\u001b[0m\u001b[32m=\u001b[0m\u001b[32m1000\u001b[0m\u001b[32m>>1000 pounds per day per 10 people.\\nAnd 1000 pounds per \u001b[0m\n",
       "\u001b[32mday per 10 people is 1000/\u001b[0m\u001b[32m10\u001b[0m\u001b[32m=<<1000/\u001b[0m\u001b[32m10\u001b[0m\u001b[32m=\u001b[0m\u001b[32m100\u001b[0m\u001b[32m>>100 pounds per day per person.\\nHalf of ten people is 10/\u001b[0m\u001b[32m2\u001b[0m\u001b[32m=<<10/\u001b[0m\u001b[32m2\u001b[0m\u001b[32m=\u001b[0m\u001b[32m5\u001b[0m\u001b[32m>>5 \u001b[0m\n",
       "\u001b[32mpeople.\\nAt 100 pounds per day per person, 5 people can shovel 5*\u001b[0m\u001b[32m100\u001b[0m\u001b[32m=<<5*\u001b[0m\u001b[32m100\u001b[0m\u001b[32m=\u001b[0m\u001b[32m500\u001b[0m\u001b[32m>>500 pounds per day.\\nTherefore, \u001b[0m\n",
       "\u001b[32mfor 5 people to shovel 40,000 pounds, it will take 40,000/\u001b[0m\u001b[32m500\u001b[0m\u001b[32m=<<40000/\u001b[0m\u001b[32m500\u001b[0m\u001b[32m=\u001b[0m\u001b[32m80\u001b[0m\u001b[32m>>80 days.\\n#### 80\\n\\n\\n### Example \u001b[0m\n",
       "\u001b[32m#2\\n\\nQ: Nick is trying to raise money for a charity. He is selling candy bars for $5. He is also selling chocolate\u001b[0m\n",
       "\u001b[32moranges for $10. He wants to raise $1000. He only had 20 chocolate oranges that he sold out. How many candy bars \u001b[0m\n",
       "\u001b[32mdoes Nick need to sell to reach his goal?\\n\\nThe final numerical answer: 180\\n\\nUser feedback: Incorrect. Must be \u001b[0m\n",
       "\u001b[32mequal to Nick has made 20 * $10 = $<<20*\u001b[0m\u001b[32m10\u001b[0m\u001b[32m=\u001b[0m\u001b[32m200\u001b[0m\u001b[32m>>200 from the chocolate oranges.\\nThis means he needs to raise \u001b[0m\n",
       "\u001b[32manother $1000 - $200 = $<<1000-\u001b[0m\u001b[32m200\u001b[0m\u001b[32m=\u001b[0m\u001b[32m800\u001b[0m\u001b[32m>>800.\\nHe needs to sell a total of $800 / $5 = <<800/\u001b[0m\u001b[32m5\u001b[0m\u001b[32m=\u001b[0m\u001b[32m160\u001b[0m\u001b[32m>>160 candy bars \u001b[0m\n",
       "\u001b[32mto reach his goal.\\n#### 160\\n\\n\\n### Example #3\\n\\nQ: Lorie has 2 pieces of $100 bills. He requested to change one\u001b[0m\n",
       "\u001b[32mpiece of the $100 bills into $50 bills. Half of the remaining $100 bill is changed to $10 bills while the rest is \u001b[0m\n",
       "\u001b[32mchanged to $5 bills. How many pieces of bills will she have?\\n\\nThe final numerical answer: 9\\n\\nUser feedback: \u001b[0m\n",
       "\u001b[32mIncorrect. Must be equal to There will be $100/$50 = <<100/\u001b[0m\u001b[32m50\u001b[0m\u001b[32m=\u001b[0m\u001b[32m2\u001b[0m\u001b[32m>>2 pieces of $50 when $100 is changed to $50 \u001b[0m\n",
       "\u001b[32mbills.\\nHalf of $100 is $100/2 = $<<100/\u001b[0m\u001b[32m2\u001b[0m\u001b[32m=\u001b[0m\u001b[32m50\u001b[0m\u001b[32m>>50.\\nSo there will be $50/$10 = <<50/\u001b[0m\u001b[32m10\u001b[0m\u001b[32m=\u001b[0m\u001b[32m5\u001b[0m\u001b[32m>>5 pieces of $10 when $50 \u001b[0m\n",
       "\u001b[32mis changed to $10 bills.\\nThe remaining $50 will be changed to $5 bills so there will be $50/$5 = <<50/\u001b[0m\u001b[32m5\u001b[0m\u001b[32m=\u001b[0m\u001b[32m10\u001b[0m\u001b[32m>>10 \u001b[0m\n",
       "\u001b[32mpieces of $5 bills.\\nSo in total, Lorie will have 2 $50 bills + 5 $10 bills + 10 $5 bills = <<2+5+\u001b[0m\u001b[32m10\u001b[0m\u001b[32m=\u001b[0m\u001b[32m17\u001b[0m\u001b[32m>\u001b[0m\u001b[32m>\u001b[0m\u001b[32m17 pieces \u001b[0m\n",
       "\u001b[32mof bills.\\n#### 17\\n\\n\\n### Example #4\\n\\nQ: Big Lots is having a sale. All chairs are 25% off. If you buy more \u001b[0m\n",
       "\u001b[32mthan 5 chairs, you get an additional 1/3 off the discounted price of the number of chairs over 5. If you bought 8 \u001b[0m\n",
       "\u001b[32mchairs that were normally priced at $20, how much do the chairs cost in total?\\n\\nThe final numerical answer: \u001b[0m\n",
       "\u001b[32mnan\\n\\nUser feedback: nan\\n\\n\\n\\t\\t\\tSummarize your analysis about incorrect predictions and suggest changes to the\u001b[0m\n",
       "\u001b[32mprompt.'\u001b[0m\u001b[1m}\u001b[0m\n"
      ]
     },
     "metadata": {},
     "output_type": "display_data"
    },
    {
     "data": {
      "text/html": [
       "<pre style=\"white-space:pre;overflow-x:auto;line-height:normal;font-family:Menlo,'DejaVu Sans Mono',consolas,'Courier New',monospace\"><span style=\"font-weight: bold\">{</span><span style=\"color: #008000; text-decoration-color: #008000\">'input'</span>: <span style=\"color: #008000; text-decoration-color: #008000\">'\\n\\t\\t\\tNow please carefully review your reasoning in Step 1 and help with Step 2: refining the </span>\n",
       "<span style=\"color: #008000; text-decoration-color: #008000\">prompt.\\n\\t\\t\\t## Current prompt\\n\\t\\t\\t\\n\\n\\t\\t\\t## Follow this guidance to refine the prompt:\\n\\n\\t\\t\\t1. The new</span>\n",
       "<span style=\"color: #008000; text-decoration-color: #008000\">prompt should should describe the task precisely, and address the points raised in the user feedback.\\n\\n\\t\\t\\t2. </span>\n",
       "<span style=\"color: #008000; text-decoration-color: #008000\">The new prompt should be similar to the current instruction, and only differ in the parts that address the issues </span>\n",
       "<span style=\"color: #008000; text-decoration-color: #008000\">you identified in Step 1.\\n\\t\\t\\t\\t\\tExample:\\n\\t\\t\\t\\t\\t- Current prompt: \"The model should generate a summary of </span>\n",
       "<span style=\"color: #008000; text-decoration-color: #008000\">the input text.\"\\n\\t\\t\\t\\t\\t- New prompt: \"The model should generate a summary of the input text. Pay attention to </span>\n",
       "<span style=\"color: #008000; text-decoration-color: #008000\">the original style.\"\\n\\n\\t\\t\\t3. Reply only with the new prompt. Do not include input and output templates in the </span>\n",
       "<span style=\"color: #008000; text-decoration-color: #008000\">prompt. remove any special characters from the prompt.'</span><span style=\"font-weight: bold\">}</span>\n",
       "</pre>\n"
      ],
      "text/plain": [
       "\u001b[1m{\u001b[0m\u001b[32m'input'\u001b[0m: \u001b[32m'\\n\\t\\t\\tNow please carefully review your reasoning in Step 1 and help with Step 2: refining the \u001b[0m\n",
       "\u001b[32mprompt.\\n\\t\\t\\t## Current prompt\\n\\t\\t\\t\\n\\n\\t\\t\\t## Follow this guidance to refine the prompt:\\n\\n\\t\\t\\t1. The new\u001b[0m\n",
       "\u001b[32mprompt should should describe the task precisely, and address the points raised in the user feedback.\\n\\n\\t\\t\\t2. \u001b[0m\n",
       "\u001b[32mThe new prompt should be similar to the current instruction, and only differ in the parts that address the issues \u001b[0m\n",
       "\u001b[32myou identified in Step 1.\\n\\t\\t\\t\\t\\tExample:\\n\\t\\t\\t\\t\\t- Current prompt: \"The model should generate a summary of \u001b[0m\n",
       "\u001b[32mthe input text.\"\\n\\t\\t\\t\\t\\t- New prompt: \"The model should generate a summary of the input text. Pay attention to \u001b[0m\n",
       "\u001b[32mthe original style.\"\\n\\n\\t\\t\\t3. Reply only with the new prompt. Do not include input and output templates in the \u001b[0m\n",
       "\u001b[32mprompt. remove any special characters from the prompt.'\u001b[0m\u001b[1m}\u001b[0m\n"
      ]
     },
     "metadata": {},
     "output_type": "display_data"
    },
    {
     "data": {
      "text/html": [
       "<pre style=\"white-space:pre;overflow-x:auto;line-height:normal;font-family:Menlo,'DejaVu Sans Mono',consolas,'Courier New',monospace\">reasoning: The current prompt does not provide any specific instruction to the model. It is just a placeholder text\n",
       "<span style=\"color: #008000; text-decoration-color: #008000\">\"You are a helpful assistant\"</span>. This might be the reason why the model is not able to generate the correct answers \n",
       "for the given problems. \n",
       "\n",
       "The model seems to struggle with multi-step mathematical problems, where it needs to perform several calculations \n",
       "to arrive at the final answer. It is not able to correctly interpret the problem and perform the necessary \n",
       "calculations. \n",
       "\n",
       "To improve the model's performance, the prompt should be more specific and instruct the model to carefully read the\n",
       "problem, break it down into smaller steps, perform the necessary calculations, and provide the final answer. \n",
       "\n",
       "Here is a suggested prompt:\n",
       "\n",
       "<span style=\"color: #008000; text-decoration-color: #008000\">\"Carefully read the given problem, break it down into smaller steps, perform the necessary calculations, and </span>\n",
       "<span style=\"color: #008000; text-decoration-color: #008000\">provide the final numerical answer. Make sure to consider all the details provided in the problem.\"</span>\n",
       "</pre>\n"
      ],
      "text/plain": [
       "reasoning: The current prompt does not provide any specific instruction to the model. It is just a placeholder text\n",
       "\u001b[32m\"You are a helpful assistant\"\u001b[0m. This might be the reason why the model is not able to generate the correct answers \n",
       "for the given problems. \n",
       "\n",
       "The model seems to struggle with multi-step mathematical problems, where it needs to perform several calculations \n",
       "to arrive at the final answer. It is not able to correctly interpret the problem and perform the necessary \n",
       "calculations. \n",
       "\n",
       "To improve the model's performance, the prompt should be more specific and instruct the model to carefully read the\n",
       "problem, break it down into smaller steps, perform the necessary calculations, and provide the final answer. \n",
       "\n",
       "Here is a suggested prompt:\n",
       "\n",
       "\u001b[32m\"Carefully read the given problem, break it down into smaller steps, perform the necessary calculations, and \u001b[0m\n",
       "\u001b[32mprovide the final numerical answer. Make sure to consider all the details provided in the problem.\"\u001b[0m\n"
      ]
     },
     "metadata": {},
     "output_type": "display_data"
    },
    {
     "data": {
      "text/html": [
       "<pre style=\"white-space:pre;overflow-x:auto;line-height:normal;font-family:Menlo,'DejaVu Sans Mono',consolas,'Courier New',monospace\">New prompt: <span style=\"color: #008000; text-decoration-color: #008000\">\"Carefully read the given mathematical problem, break it down into smaller steps, perform the necessary</span>\n",
       "<span style=\"color: #008000; text-decoration-color: #008000\">calculations, and provide the final numerical answer. Make sure to consider all the details provided in the </span>\n",
       "<span style=\"color: #008000; text-decoration-color: #008000\">problem.\"</span>\n",
       "</pre>\n"
      ],
      "text/plain": [
       "New prompt: \u001b[32m\"Carefully read the given mathematical problem, break it down into smaller steps, perform the necessary\u001b[0m\n",
       "\u001b[32mcalculations, and provide the final numerical answer. Make sure to consider all the details provided in the \u001b[0m\n",
       "\u001b[32mproblem.\"\u001b[0m\n"
      ]
     },
     "metadata": {},
     "output_type": "display_data"
    },
    {
     "data": {
      "text/html": [
       "<span style=\"background-color: lightgreen;\">\"</span><span style=\"background-color: lightgreen;\">C</span><span style=\"background-color: lightgreen;\">a</span><span style=\"background-color: lightgreen;\">r</span><span style=\"background-color: lightgreen;\">e</span><span style=\"background-color: lightgreen;\">f</span><span style=\"background-color: lightgreen;\">u</span><span style=\"background-color: lightgreen;\">l</span><span style=\"background-color: lightgreen;\">l</span><span style=\"background-color: lightgreen;\">y</span><span style=\"background-color: lightgreen;\"> </span><span style=\"background-color: lightgreen;\">r</span><span style=\"background-color: lightgreen;\">e</span><span style=\"background-color: lightgreen;\">a</span><span style=\"background-color: lightgreen;\">d</span><span style=\"background-color: lightgreen;\"> </span><span style=\"background-color: lightgreen;\">t</span><span style=\"background-color: lightgreen;\">h</span><span style=\"background-color: lightgreen;\">e</span><span style=\"background-color: lightgreen;\"> </span><span style=\"background-color: lightgreen;\">g</span><span style=\"background-color: lightgreen;\">i</span><span style=\"background-color: lightgreen;\">v</span><span style=\"background-color: lightgreen;\">e</span><span style=\"background-color: lightgreen;\">n</span><span style=\"background-color: lightgreen;\"> </span><span style=\"background-color: lightgreen;\">m</span><span style=\"background-color: lightgreen;\">a</span><span style=\"background-color: lightgreen;\">t</span><span style=\"background-color: lightgreen;\">h</span><span style=\"background-color: lightgreen;\">e</span><span style=\"background-color: lightgreen;\">m</span><span style=\"background-color: lightgreen;\">a</span><span style=\"background-color: lightgreen;\">t</span><span style=\"background-color: lightgreen;\">i</span><span style=\"background-color: lightgreen;\">c</span><span style=\"background-color: lightgreen;\">a</span><span style=\"background-color: lightgreen;\">l</span><span style=\"background-color: lightgreen;\"> </span><span style=\"background-color: lightgreen;\">p</span><span style=\"background-color: lightgreen;\">r</span><span style=\"background-color: lightgreen;\">o</span><span style=\"background-color: lightgreen;\">b</span><span style=\"background-color: lightgreen;\">l</span><span style=\"background-color: lightgreen;\">e</span><span style=\"background-color: lightgreen;\">m</span><span style=\"background-color: lightgreen;\">,</span><span style=\"background-color: lightgreen;\"> </span><span style=\"background-color: lightgreen;\">b</span><span style=\"background-color: lightgreen;\">r</span><span style=\"background-color: lightgreen;\">e</span><span style=\"background-color: lightgreen;\">a</span><span style=\"background-color: lightgreen;\">k</span><span style=\"background-color: lightgreen;\"> </span><span style=\"background-color: lightgreen;\">i</span><span style=\"background-color: lightgreen;\">t</span><span style=\"background-color: lightgreen;\"> </span><span style=\"background-color: lightgreen;\">d</span><span style=\"background-color: lightgreen;\">o</span><span style=\"background-color: lightgreen;\">w</span><span style=\"background-color: lightgreen;\">n</span><span style=\"background-color: lightgreen;\"> </span><span style=\"background-color: lightgreen;\">i</span><span style=\"background-color: lightgreen;\">n</span><span style=\"background-color: lightgreen;\">t</span><span style=\"background-color: lightgreen;\">o</span><span style=\"background-color: lightgreen;\"> </span><span style=\"background-color: lightgreen;\">s</span><span style=\"background-color: lightgreen;\">m</span><span style=\"background-color: lightgreen;\">a</span><span style=\"background-color: lightgreen;\">l</span><span style=\"background-color: lightgreen;\">l</span><span style=\"background-color: lightgreen;\">e</span><span style=\"background-color: lightgreen;\">r</span><span style=\"background-color: lightgreen;\"> </span><span style=\"background-color: lightgreen;\">s</span><span style=\"background-color: lightgreen;\">t</span><span style=\"background-color: lightgreen;\">e</span><span style=\"background-color: lightgreen;\">p</span><span style=\"background-color: lightgreen;\">s</span><span style=\"background-color: lightgreen;\">,</span><span style=\"background-color: lightgreen;\"> </span><span style=\"background-color: lightgreen;\">p</span><span style=\"background-color: lightgreen;\">e</span><span style=\"background-color: lightgreen;\">r</span><span style=\"background-color: lightgreen;\">f</span><span style=\"background-color: lightgreen;\">o</span><span style=\"background-color: lightgreen;\">r</span><span style=\"background-color: lightgreen;\">m</span><span style=\"background-color: lightgreen;\"> </span><span style=\"background-color: lightgreen;\">t</span><span style=\"background-color: lightgreen;\">h</span><span style=\"background-color: lightgreen;\">e</span><span style=\"background-color: lightgreen;\"> </span><span style=\"background-color: lightgreen;\">n</span><span style=\"background-color: lightgreen;\">e</span><span style=\"background-color: lightgreen;\">c</span><span style=\"background-color: lightgreen;\">e</span><span style=\"background-color: lightgreen;\">s</span><span style=\"background-color: lightgreen;\">s</span><span style=\"background-color: lightgreen;\">a</span><span style=\"background-color: lightgreen;\">r</span><span style=\"background-color: lightgreen;\">y</span><span style=\"background-color: lightgreen;\"> </span><span style=\"background-color: lightgreen;\">c</span><span style=\"background-color: lightgreen;\">a</span><span style=\"background-color: lightgreen;\">l</span><span style=\"background-color: lightgreen;\">c</span><span style=\"background-color: lightgreen;\">u</span><span style=\"background-color: lightgreen;\">l</span><span style=\"background-color: lightgreen;\">a</span><span style=\"background-color: lightgreen;\">t</span><span style=\"background-color: lightgreen;\">i</span><span style=\"background-color: lightgreen;\">o</span><span style=\"background-color: lightgreen;\">n</span><span style=\"background-color: lightgreen;\">s</span><span style=\"background-color: lightgreen;\">,</span><span style=\"background-color: lightgreen;\"> </span><span style=\"background-color: lightgreen;\">a</span><span style=\"background-color: lightgreen;\">n</span><span style=\"background-color: lightgreen;\">d</span><span style=\"background-color: lightgreen;\"> </span><span style=\"background-color: lightgreen;\">p</span><span style=\"background-color: lightgreen;\">r</span><span style=\"background-color: lightgreen;\">o</span><span style=\"background-color: lightgreen;\">v</span><span style=\"background-color: lightgreen;\">i</span><span style=\"background-color: lightgreen;\">d</span><span style=\"background-color: lightgreen;\">e</span><span style=\"background-color: lightgreen;\"> </span><span style=\"background-color: lightgreen;\">t</span><span style=\"background-color: lightgreen;\">h</span><span style=\"background-color: lightgreen;\">e</span><span style=\"background-color: lightgreen;\"> </span><span style=\"background-color: lightgreen;\">f</span><span style=\"background-color: lightgreen;\">i</span><span style=\"background-color: lightgreen;\">n</span><span style=\"background-color: lightgreen;\">a</span><span style=\"background-color: lightgreen;\">l</span><span style=\"background-color: lightgreen;\"> </span><span style=\"background-color: lightgreen;\">n</span><span style=\"background-color: lightgreen;\">u</span><span style=\"background-color: lightgreen;\">m</span><span style=\"background-color: lightgreen;\">e</span><span style=\"background-color: lightgreen;\">r</span><span style=\"background-color: lightgreen;\">i</span><span style=\"background-color: lightgreen;\">c</span><span style=\"background-color: lightgreen;\">a</span><span style=\"background-color: lightgreen;\">l</span><span style=\"background-color: lightgreen;\"> </span><span style=\"background-color: lightgreen;\">a</span><span style=\"background-color: lightgreen;\">n</span><span style=\"background-color: lightgreen;\">s</span><span style=\"background-color: lightgreen;\">w</span><span style=\"background-color: lightgreen;\">e</span><span style=\"background-color: lightgreen;\">r</span><span style=\"background-color: lightgreen;\">.</span><span style=\"background-color: lightgreen;\"> </span><span style=\"background-color: lightgreen;\">M</span><span style=\"background-color: lightgreen;\">a</span><span style=\"background-color: lightgreen;\">k</span><span style=\"background-color: lightgreen;\">e</span><span style=\"background-color: lightgreen;\"> </span><span style=\"background-color: lightgreen;\">s</span><span style=\"background-color: lightgreen;\">u</span><span style=\"background-color: lightgreen;\">r</span><span style=\"background-color: lightgreen;\">e</span><span style=\"background-color: lightgreen;\"> </span><span style=\"background-color: lightgreen;\">t</span><span style=\"background-color: lightgreen;\">o</span><span style=\"background-color: lightgreen;\"> </span><span style=\"background-color: lightgreen;\">c</span><span style=\"background-color: lightgreen;\">o</span><span style=\"background-color: lightgreen;\">n</span><span style=\"background-color: lightgreen;\">s</span><span style=\"background-color: lightgreen;\">i</span><span style=\"background-color: lightgreen;\">d</span><span style=\"background-color: lightgreen;\">e</span><span style=\"background-color: lightgreen;\">r</span><span style=\"background-color: lightgreen;\"> </span><span style=\"background-color: lightgreen;\">a</span><span style=\"background-color: lightgreen;\">l</span><span style=\"background-color: lightgreen;\">l</span><span style=\"background-color: lightgreen;\"> </span><span style=\"background-color: lightgreen;\">t</span><span style=\"background-color: lightgreen;\">h</span><span style=\"background-color: lightgreen;\">e</span><span style=\"background-color: lightgreen;\"> </span><span style=\"background-color: lightgreen;\">d</span><span style=\"background-color: lightgreen;\">e</span><span style=\"background-color: lightgreen;\">t</span><span style=\"background-color: lightgreen;\">a</span><span style=\"background-color: lightgreen;\">i</span><span style=\"background-color: lightgreen;\">l</span><span style=\"background-color: lightgreen;\">s</span><span style=\"background-color: lightgreen;\"> </span><span style=\"background-color: lightgreen;\">p</span><span style=\"background-color: lightgreen;\">r</span><span style=\"background-color: lightgreen;\">o</span><span style=\"background-color: lightgreen;\">v</span><span style=\"background-color: lightgreen;\">i</span><span style=\"background-color: lightgreen;\">d</span><span style=\"background-color: lightgreen;\">e</span><span style=\"background-color: lightgreen;\">d</span><span style=\"background-color: lightgreen;\"> </span><span style=\"background-color: lightgreen;\">i</span><span style=\"background-color: lightgreen;\">n</span><span style=\"background-color: lightgreen;\"> </span><span style=\"background-color: lightgreen;\">t</span><span style=\"background-color: lightgreen;\">h</span><span style=\"background-color: lightgreen;\">e</span><span style=\"background-color: lightgreen;\"> </span><span style=\"background-color: lightgreen;\">p</span><span style=\"background-color: lightgreen;\">r</span><span style=\"background-color: lightgreen;\">o</span><span style=\"background-color: lightgreen;\">b</span><span style=\"background-color: lightgreen;\">l</span><span style=\"background-color: lightgreen;\">e</span><span style=\"background-color: lightgreen;\">m</span><span style=\"background-color: lightgreen;\">.</span><span style=\"background-color: lightgreen;\">\"</span>"
      ],
      "text/plain": [
       "<IPython.core.display.HTML object>"
      ]
     },
     "metadata": {},
     "output_type": "display_data"
    },
    {
     "data": {
      "text/html": [
       "<pre style=\"white-space:pre;overflow-x:auto;line-height:normal;font-family:Menlo,'DejaVu Sans Mono',consolas,'Courier New',monospace\">Train is done!\n",
       "</pre>\n"
      ],
      "text/plain": [
       "Train is done!\n"
      ]
     },
     "metadata": {},
     "output_type": "display_data"
    },
    {
     "data": {
      "text/html": [
       "<pre style=\"white-space:pre;overflow-x:auto;line-height:normal;font-family:Menlo,'DejaVu Sans Mono',consolas,'Courier New',monospace\">\n",
       "\n",
       "=&gt; Iteration #<span style=\"color: #008080; text-decoration-color: #008080; font-weight: bold\">1</span>: Getting feedback, analyzing and improving <span style=\"color: #808000; text-decoration-color: #808000\">...</span>\n",
       "</pre>\n"
      ],
      "text/plain": [
       "\n",
       "\n",
       "=> Iteration #\u001b[1;36m1\u001b[0m: Getting feedback, analyzing and improving \u001b[33m...\u001b[0m\n"
      ]
     },
     "metadata": {},
     "output_type": "display_data"
    },
    {
     "data": {
      "text/html": [
       "<pre style=\"white-space:pre;overflow-x:auto;line-height:normal;font-family:Menlo,'DejaVu Sans Mono',consolas,'Courier New',monospace\">Applying skill: math_solver\n",
       "</pre>\n"
      ],
      "text/plain": [
       "Applying skill: math_solver\n"
      ]
     },
     "metadata": {},
     "output_type": "display_data"
    },
    {
     "name": "stderr",
     "output_type": "stream",
     "text": [
      "  0%|          | 0/5 [00:00<?, ?it/s]"
     ]
    },
    {
     "data": {
      "text/html": [
       "<pre style=\"white-space:pre;overflow-x:auto;line-height:normal;font-family:Menlo,'DejaVu Sans Mono',consolas,'Courier New',monospace\"><span style=\"font-weight: bold\">{</span><span style=\"color: #008000; text-decoration-color: #008000\">'question'</span>: <span style=\"color: #008000; text-decoration-color: #008000\">\"Janet uses her horses' manure as fertilizer. One horse produces 5 gallons of fertilizer per day. Once</span>\n",
       "<span style=\"color: #008000; text-decoration-color: #008000\">Janet has collected enough fertilizer, she'll spread it over 20 acres of farmland. Each acre needs 400 gallons of </span>\n",
       "<span style=\"color: #008000; text-decoration-color: #008000\">fertilizer and Janet can spread fertilizer over 4 acres per day. If Janet has 80 horses, how long will it take </span>\n",
       "<span style=\"color: #008000; text-decoration-color: #008000\">until all her fields are fertilized?\"</span>, <span style=\"color: #008000; text-decoration-color: #008000\">'answer'</span>: <span style=\"color: #008000; text-decoration-color: #008000\">'First find the total amount of fertilizer the horses produce per </span>\n",
       "<span style=\"color: #008000; text-decoration-color: #008000\">day: 5 gallons/horse * 80 horses = &lt;&lt;5*80=400&gt;&gt;400 gallons\\nThen multiply the number of acres of farmland by the </span>\n",
       "<span style=\"color: #008000; text-decoration-color: #008000\">number of gallons per acre to find the total amount of fertilizer needed: 400 gallons/acre * 20 acres = </span>\n",
       "<span style=\"color: #008000; text-decoration-color: #008000\">&lt;&lt;400*20=8000&gt;&gt;8000 gallons\\nThen divide the total amount of fertilizer needed by the amount of fertilizer produced</span>\n",
       "<span style=\"color: #008000; text-decoration-color: #008000\">per day to find the number of days needed to collect fertilizer: 8000 gallons / 400 gallons/day = &lt;&lt;8000/400=20&gt;&gt;20</span>\n",
       "<span style=\"color: #008000; text-decoration-color: #008000\">days\\nThen divide the total number of acres Janet needs to cover by the number of acres she can cover per day to </span>\n",
       "<span style=\"color: #008000; text-decoration-color: #008000\">find how many days it takes her to cover them all: 20 acres / 4 acres/day = &lt;&lt;20/4=5&gt;&gt;5 days\\nThen add the time to </span>\n",
       "<span style=\"color: #008000; text-decoration-color: #008000\">collect the fertilizer to the time to spread it to find the total time: 5 days + 20 days = &lt;&lt;5+20=25&gt;&gt;25 days\\n####</span>\n",
       "<span style=\"color: #008000; text-decoration-color: #008000\">25'</span><span style=\"font-weight: bold\">}</span>\n",
       "</pre>\n"
      ],
      "text/plain": [
       "\u001b[1m{\u001b[0m\u001b[32m'question'\u001b[0m: \u001b[32m\"Janet uses her horses' manure as fertilizer. One horse produces 5 gallons of fertilizer per day. Once\u001b[0m\n",
       "\u001b[32mJanet has collected enough fertilizer, she'll spread it over 20 acres of farmland. Each acre needs 400 gallons of \u001b[0m\n",
       "\u001b[32mfertilizer and Janet can spread fertilizer over 4 acres per day. If Janet has 80 horses, how long will it take \u001b[0m\n",
       "\u001b[32muntil all her fields are fertilized?\"\u001b[0m, \u001b[32m'answer'\u001b[0m: \u001b[32m'First find the total amount of fertilizer the horses produce per \u001b[0m\n",
       "\u001b[32mday: 5 gallons/horse * 80 horses = \u001b[0m\u001b[32m<\u001b[0m\u001b[32m<5*\u001b[0m\u001b[32m80\u001b[0m\u001b[32m=\u001b[0m\u001b[32m400\u001b[0m\u001b[32m>>400 gallons\\nThen multiply the number of acres of farmland by the \u001b[0m\n",
       "\u001b[32mnumber of gallons per acre to find the total amount of fertilizer needed: 400 gallons/acre * 20 acres = \u001b[0m\n",
       "\u001b[32m<<400*\u001b[0m\u001b[32m20\u001b[0m\u001b[32m=\u001b[0m\u001b[32m8000\u001b[0m\u001b[32m>>8000 gallons\\nThen divide the total amount of fertilizer needed by the amount of fertilizer produced\u001b[0m\n",
       "\u001b[32mper day to find the number of days needed to collect fertilizer: 8000 gallons / 400 gallons/day = <<8000/\u001b[0m\u001b[32m400\u001b[0m\u001b[32m=\u001b[0m\u001b[32m20\u001b[0m\u001b[32m>>20\u001b[0m\n",
       "\u001b[32mdays\\nThen divide the total number of acres Janet needs to cover by the number of acres she can cover per day to \u001b[0m\n",
       "\u001b[32mfind how many days it takes her to cover them all: 20 acres / 4 acres/day = <<20/\u001b[0m\u001b[32m4\u001b[0m\u001b[32m=\u001b[0m\u001b[32m5\u001b[0m\u001b[32m>>5 days\\nThen add the time to \u001b[0m\n",
       "\u001b[32mcollect the fertilizer to the time to spread it to find the total time: 5 days + 20 days = <<5+\u001b[0m\u001b[32m20\u001b[0m\u001b[32m=\u001b[0m\u001b[32m25\u001b[0m\u001b[32m>\u001b[0m\u001b[32m>\u001b[0m\u001b[32m25 days\\n####\u001b[0m\n",
       "\u001b[32m25'\u001b[0m\u001b[1m}\u001b[0m\n"
      ]
     },
     "metadata": {},
     "output_type": "display_data"
    },
    {
     "name": "stderr",
     "output_type": "stream",
     "text": [
      " 40%|████      | 2/5 [00:04<00:06,  2.29s/it]"
     ]
    },
    {
     "data": {
      "text/html": [
       "<pre style=\"white-space:pre;overflow-x:auto;line-height:normal;font-family:Menlo,'DejaVu Sans Mono',consolas,'Courier New',monospace\"><span style=\"font-weight: bold\">{</span><span style=\"color: #008000; text-decoration-color: #008000\">'question'</span>: <span style=\"color: #008000; text-decoration-color: #008000\">'Tammy just got her hair cut. For every 14 haircuts, she gets a free additional haircut. She has </span>\n",
       "<span style=\"color: #008000; text-decoration-color: #008000\">gotten 5 free haircuts already. She is 5 haircuts away from another free one. How many haircuts has she gotten </span>\n",
       "<span style=\"color: #008000; text-decoration-color: #008000\">there?'</span>, <span style=\"color: #008000; text-decoration-color: #008000\">'answer'</span>: <span style=\"color: #008000; text-decoration-color: #008000\">'She has gotten 70 haircuts to get 5 free ones because 14 x 5 = &lt;&lt;70=70&gt;&gt;70\\nShe has gotten 9 </span>\n",
       "<span style=\"color: #008000; text-decoration-color: #008000\">haircuts towards her 6th free one because 14 - 5 = &lt;&lt;14-5=9&gt;&gt;9\\nShe has gotten 79 haircuts because 70 + 9 = </span>\n",
       "<span style=\"color: #008000; text-decoration-color: #008000\">&lt;&lt;70+9=79&gt;&gt;79\\n#### 79'</span><span style=\"font-weight: bold\">}</span>\n",
       "</pre>\n"
      ],
      "text/plain": [
       "\u001b[1m{\u001b[0m\u001b[32m'question'\u001b[0m: \u001b[32m'Tammy just got her hair cut. For every 14 haircuts, she gets a free additional haircut. She has \u001b[0m\n",
       "\u001b[32mgotten 5 free haircuts already. She is 5 haircuts away from another free one. How many haircuts has she gotten \u001b[0m\n",
       "\u001b[32mthere?'\u001b[0m, \u001b[32m'answer'\u001b[0m: \u001b[32m'She has gotten 70 haircuts to get 5 free ones because 14 x 5 = \u001b[0m\u001b[32m<\u001b[0m\u001b[32m<\u001b[0m\u001b[32m70\u001b[0m\u001b[32m=\u001b[0m\u001b[32m70\u001b[0m\u001b[32m>>70\\nShe has gotten 9 \u001b[0m\n",
       "\u001b[32mhaircuts towards her 6th free one because 14 - 5 = <<14-\u001b[0m\u001b[32m5\u001b[0m\u001b[32m=\u001b[0m\u001b[32m9\u001b[0m\u001b[32m>>9\\nShe has gotten 79 haircuts because 70 + 9 = \u001b[0m\n",
       "\u001b[32m<<70+\u001b[0m\u001b[32m9\u001b[0m\u001b[32m=\u001b[0m\u001b[32m79\u001b[0m\u001b[32m>\u001b[0m\u001b[32m>\u001b[0m\u001b[32m79\\n#### 79'\u001b[0m\u001b[1m}\u001b[0m\n"
      ]
     },
     "metadata": {},
     "output_type": "display_data"
    },
    {
     "name": "stderr",
     "output_type": "stream",
     "text": [
      " 60%|██████    | 3/5 [00:10<00:07,  3.78s/it]"
     ]
    },
    {
     "data": {
      "text/html": [
       "<pre style=\"white-space:pre;overflow-x:auto;line-height:normal;font-family:Menlo,'DejaVu Sans Mono',consolas,'Courier New',monospace\"><span style=\"font-weight: bold\">{</span><span style=\"color: #008000; text-decoration-color: #008000\">'question'</span>: <span style=\"color: #008000; text-decoration-color: #008000\">'In the first team, Beth scored 12 while Jan scored 10. In the second team, Judy scored 8 while Angel </span>\n",
       "<span style=\"color: #008000; text-decoration-color: #008000\">scored 11. How many more points did the first team get than the second team?'</span>, <span style=\"color: #008000; text-decoration-color: #008000\">'answer'</span>: <span style=\"color: #008000; text-decoration-color: #008000\">'Beth and Jan scored a </span>\n",
       "<span style=\"color: #008000; text-decoration-color: #008000\">total of 12 + 10 = &lt;&lt;12+10=22&gt;&gt;22.\\nJudy and Angel scored a total of 8 + 11 = &lt;&lt;8+11=19&gt;&gt;19.\\nThus, the first team </span>\n",
       "<span style=\"color: #008000; text-decoration-color: #008000\">scores 22 - 19 = &lt;&lt;22-19=3&gt;&gt;3 more points than the second team.\\n#### 3'</span><span style=\"font-weight: bold\">}</span>\n",
       "</pre>\n"
      ],
      "text/plain": [
       "\u001b[1m{\u001b[0m\u001b[32m'question'\u001b[0m: \u001b[32m'In the first team, Beth scored 12 while Jan scored 10. In the second team, Judy scored 8 while Angel \u001b[0m\n",
       "\u001b[32mscored 11. How many more points did the first team get than the second team?'\u001b[0m, \u001b[32m'answer'\u001b[0m: \u001b[32m'Beth and Jan scored a \u001b[0m\n",
       "\u001b[32mtotal of 12 + 10 = \u001b[0m\u001b[32m<\u001b[0m\u001b[32m<12+\u001b[0m\u001b[32m10\u001b[0m\u001b[32m=\u001b[0m\u001b[32m22\u001b[0m\u001b[32m>>22.\\nJudy and Angel scored a total of 8 + 11 = <<8+\u001b[0m\u001b[32m11\u001b[0m\u001b[32m=\u001b[0m\u001b[32m19\u001b[0m\u001b[32m>>19.\\nThus, the first team \u001b[0m\n",
       "\u001b[32mscores 22 - 19 = <<22-\u001b[0m\u001b[32m19\u001b[0m\u001b[32m=\u001b[0m\u001b[32m3\u001b[0m\u001b[32m>\u001b[0m\u001b[32m>\u001b[0m\u001b[32m3 more points than the second team.\\n#### 3'\u001b[0m\u001b[1m}\u001b[0m\n"
      ]
     },
     "metadata": {},
     "output_type": "display_data"
    },
    {
     "name": "stderr",
     "output_type": "stream",
     "text": [
      " 80%|████████  | 4/5 [00:12<00:03,  3.31s/it]"
     ]
    },
    {
     "data": {
      "text/html": [
       "<pre style=\"white-space:pre;overflow-x:auto;line-height:normal;font-family:Menlo,'DejaVu Sans Mono',consolas,'Courier New',monospace\"><span style=\"font-weight: bold\">{</span><span style=\"color: #008000; text-decoration-color: #008000\">'question'</span>: <span style=\"color: #008000; text-decoration-color: #008000\">'Lolita has 54000 strawberry seeds. In each planting zone, 3123 seeds will be used. If she will </span>\n",
       "<span style=\"color: #008000; text-decoration-color: #008000\">accumulate 7 planting zones, how many strawberry seeds will remain?'</span>, <span style=\"color: #008000; text-decoration-color: #008000\">'answer'</span>: <span style=\"color: #008000; text-decoration-color: #008000\">'The total amount of seeds used in </span>\n",
       "<span style=\"color: #008000; text-decoration-color: #008000\">the planting zones is 3123 x 7 = &lt;&lt;3123*7=21861&gt;&gt;21861.\\nThe total amount of seeds left after planting is 54000 - </span>\n",
       "<span style=\"color: #008000; text-decoration-color: #008000\">21861 = &lt;&lt;54000-21861=32139&gt;&gt;32139.\\n#### 32139'</span><span style=\"font-weight: bold\">}</span>\n",
       "</pre>\n"
      ],
      "text/plain": [
       "\u001b[1m{\u001b[0m\u001b[32m'question'\u001b[0m: \u001b[32m'Lolita has 54000 strawberry seeds. In each planting zone, 3123 seeds will be used. If she will \u001b[0m\n",
       "\u001b[32maccumulate 7 planting zones, how many strawberry seeds will remain?'\u001b[0m, \u001b[32m'answer'\u001b[0m: \u001b[32m'The total amount of seeds used in \u001b[0m\n",
       "\u001b[32mthe planting zones is 3123 x 7 = \u001b[0m\u001b[32m<\u001b[0m\u001b[32m<3123*\u001b[0m\u001b[32m7\u001b[0m\u001b[32m=\u001b[0m\u001b[32m21861\u001b[0m\u001b[32m>>21861.\\nThe total amount of seeds left after planting is 54000 - \u001b[0m\n",
       "\u001b[32m21861 = <<54000-\u001b[0m\u001b[32m21861\u001b[0m\u001b[32m=\u001b[0m\u001b[32m32139\u001b[0m\u001b[32m>\u001b[0m\u001b[32m>\u001b[0m\u001b[32m32139.\\n#### 32139'\u001b[0m\u001b[1m}\u001b[0m\n"
      ]
     },
     "metadata": {},
     "output_type": "display_data"
    },
    {
     "name": "stderr",
     "output_type": "stream",
     "text": [
      "100%|██████████| 5/5 [00:16<00:00,  3.25s/it]"
     ]
    },
    {
     "data": {
      "text/html": [
       "<pre style=\"white-space:pre;overflow-x:auto;line-height:normal;font-family:Menlo,'DejaVu Sans Mono',consolas,'Courier New',monospace\"><span style=\"font-weight: bold\">{</span><span style=\"color: #008000; text-decoration-color: #008000\">'question'</span>: <span style=\"color: #008000; text-decoration-color: #008000\">'Genevieve picked some cherries from the supermarket shelves that cost $8 per kilogram. When Genevieve</span>\n",
       "<span style=\"color: #008000; text-decoration-color: #008000\">reached the checkout counter, she realized she was $400 short of the total price and her friend Clarice chipped in.</span>\n",
       "<span style=\"color: #008000; text-decoration-color: #008000\">If Genevieve had $1600 on her, how many kilograms of cherries did she buy?'</span>, <span style=\"color: #008000; text-decoration-color: #008000\">'answer'</span>: <span style=\"color: #008000; text-decoration-color: #008000\">'If Genevieve had $1600 on </span>\n",
       "<span style=\"color: #008000; text-decoration-color: #008000\">her, and Clarice chipped in with $400, the total cost of the cherries was $1600+$400 = $&lt;&lt;1600+400=2000&gt;&gt;2000\\nIf </span>\n",
       "<span style=\"color: #008000; text-decoration-color: #008000\">the cherries cost $8 per kilogram, Genevieve bought $2000/$8 = 250 kilograms of cherry\\n#### 250'</span><span style=\"font-weight: bold\">}</span>\n",
       "</pre>\n"
      ],
      "text/plain": [
       "\u001b[1m{\u001b[0m\u001b[32m'question'\u001b[0m: \u001b[32m'Genevieve picked some cherries from the supermarket shelves that cost $8 per kilogram. When Genevieve\u001b[0m\n",
       "\u001b[32mreached the checkout counter, she realized she was $400 short of the total price and her friend Clarice chipped in.\u001b[0m\n",
       "\u001b[32mIf Genevieve had $1600 on her, how many kilograms of cherries did she buy?'\u001b[0m, \u001b[32m'answer'\u001b[0m: \u001b[32m'If Genevieve had $1600 on \u001b[0m\n",
       "\u001b[32mher, and Clarice chipped in with $400, the total cost of the cherries was $1600+$400 = $\u001b[0m\u001b[32m<\u001b[0m\u001b[32m<1600+\u001b[0m\u001b[32m400\u001b[0m\u001b[32m=\u001b[0m\u001b[32m2000\u001b[0m\u001b[32m>\u001b[0m\u001b[32m>\u001b[0m\u001b[32m2000\\nIf \u001b[0m\n",
       "\u001b[32mthe cherries cost $8 per kilogram, Genevieve bought $2000/$8 = 250 kilograms of cherry\\n#### 250'\u001b[0m\u001b[1m}\u001b[0m\n"
      ]
     },
     "metadata": {},
     "output_type": "display_data"
    },
    {
     "name": "stderr",
     "output_type": "stream",
     "text": [
      "100%|██████████| 5/5 [00:22<00:00,  4.41s/it]"
     ]
    },
    {
     "name": "stdout",
     "output_type": "stream",
     "text": [
      "Predictions and feedback:\n"
     ]
    },
    {
     "name": "stderr",
     "output_type": "stream",
     "text": [
      "\n"
     ]
    },
    {
     "data": {
      "text/html": [
       "<pre style=\"white-space:pre;overflow-x:auto;line-height:normal;font-family:Menlo,'DejaVu Sans Mono',consolas,'Courier New',monospace\">                                                                                                                   \n",
       " <span style=\"color: #800080; text-decoration-color: #800080; font-weight: bold\"> answer__fb                                        </span> <span style=\"color: #800080; text-decoration-color: #800080; font-weight: bold\"> question                                           </span> <span style=\"color: #800080; text-decoration-color: #800080; font-weight: bold\"> answer </span> \n",
       " ───────────────────────────────────────────────────────────────────────────────────────────────────────────────── \n",
       "  Incorrect. Must be equal to First find the total    Janet uses her horses' manure as fertilizer. One     20      \n",
       "  amount of fertilizer the horses produce per day:    horse produces 5 gallons of fertilizer per day.              \n",
       "  5 gallons/horse * 80 horses = &lt;&lt;5*80=400&gt;&gt;400       Once Janet has collected enough fertilizer, she'll           \n",
       "  gallons                                             spread it over 20 acres of farmland. Each acre               \n",
       "  Then multiply the number of acres of farmland by    needs 400 gallons of fertilizer and Janet can                \n",
       "  the number of gallons per acre to find the total    spread fertilizer over 4 acres per day. If Janet             \n",
       "  amount of fertilizer needed: 400 gallons/acre *     has 80 horses, how long will it take until all her           \n",
       "  20 acres = &lt;&lt;400*20=8000&gt;&gt;8000 gallons              fields are fertilized?                                       \n",
       "  Then divide the total amount of fertilizer needed                                                                \n",
       "  by the amount of fertilizer produced per day to                                                                  \n",
       "  find the number of days needed to collect                                                                        \n",
       "  fertilizer: 8000 gallons / 400 gallons/day =                                                                     \n",
       "  &lt;&lt;8000/400=20&gt;&gt;20 days                                                                                           \n",
       "  Then divide the total number of acres Janet needs                                                                \n",
       "  to cover by the number of acres she can cover per                                                                \n",
       "  day to find how many days it takes her to cover                                                                  \n",
       "  them all: 20 acres / 4 acres/day = &lt;&lt;20/4=5&gt;&gt;5                                                                   \n",
       "  days                                                                                                             \n",
       "  Then add the time to collect the fertilizer to                                                                   \n",
       "  the time to spread it to find the total time: 5                                                                  \n",
       "  days + 20 days = &lt;&lt;5+20=25&gt;&gt;25 days                                                                              \n",
       "  #### 25                                                                                                          \n",
       " <span style=\"color: #7f7f7f; text-decoration-color: #7f7f7f\"> Incorrect. Must be equal to She has gotten 70     </span> <span style=\"color: #7f7f7f; text-decoration-color: #7f7f7f\"> Tammy just got her hair cut. For every 14          </span> <span style=\"color: #7f7f7f; text-decoration-color: #7f7f7f\"> 75     </span> \n",
       " <span style=\"color: #7f7f7f; text-decoration-color: #7f7f7f\"> haircuts to get 5 free ones because 14 x 5 =      </span> <span style=\"color: #7f7f7f; text-decoration-color: #7f7f7f\"> haircuts, she gets a free additional haircut. She  </span> <span style=\"color: #7f7f7f; text-decoration-color: #7f7f7f\">        </span> \n",
       " <span style=\"color: #7f7f7f; text-decoration-color: #7f7f7f\"> &lt;&lt;70=70&gt;&gt;70                                       </span> <span style=\"color: #7f7f7f; text-decoration-color: #7f7f7f\"> has gotten 5 free haircuts already. She is 5       </span> <span style=\"color: #7f7f7f; text-decoration-color: #7f7f7f\">        </span> \n",
       " <span style=\"color: #7f7f7f; text-decoration-color: #7f7f7f\"> She has gotten 9 haircuts towards her 6th free    </span> <span style=\"color: #7f7f7f; text-decoration-color: #7f7f7f\"> haircuts away from another free one. How many      </span> <span style=\"color: #7f7f7f; text-decoration-color: #7f7f7f\">        </span> \n",
       " <span style=\"color: #7f7f7f; text-decoration-color: #7f7f7f\"> one because 14 - 5 = &lt;&lt;14-5=9&gt;&gt;9                  </span> <span style=\"color: #7f7f7f; text-decoration-color: #7f7f7f\"> haircuts has she gotten there?                     </span> <span style=\"color: #7f7f7f; text-decoration-color: #7f7f7f\">        </span> \n",
       " <span style=\"color: #7f7f7f; text-decoration-color: #7f7f7f\"> She has gotten 79 haircuts because 70 + 9 =       </span> <span style=\"color: #7f7f7f; text-decoration-color: #7f7f7f\">                                                    </span> <span style=\"color: #7f7f7f; text-decoration-color: #7f7f7f\">        </span> \n",
       " <span style=\"color: #7f7f7f; text-decoration-color: #7f7f7f\"> &lt;&lt;70+9=79&gt;&gt;79                                     </span> <span style=\"color: #7f7f7f; text-decoration-color: #7f7f7f\">                                                    </span> <span style=\"color: #7f7f7f; text-decoration-color: #7f7f7f\">        </span> \n",
       " <span style=\"color: #7f7f7f; text-decoration-color: #7f7f7f\"> #### 79                                           </span> <span style=\"color: #7f7f7f; text-decoration-color: #7f7f7f\">                                                    </span> <span style=\"color: #7f7f7f; text-decoration-color: #7f7f7f\">        </span> \n",
       "  Incorrect. Must be equal to Beth and Jan scored a   In the first team, Beth scored 12 while Jan scored   3       \n",
       "  total of 12 + 10 = &lt;&lt;12+10=22&gt;&gt;22.                  10. In the second team, Judy scored 8 while Angel            \n",
       "  Judy and Angel scored a total of 8 + 11 =           scored 11. How many more points did the first team           \n",
       "  &lt;&lt;8+11=19&gt;&gt;19.                                      get than the second team?                                    \n",
       "  Thus, the first team scores 22 - 19 =                                                                            \n",
       "  &lt;&lt;22-19=3&gt;&gt;3 more points than the second team.                                                                   \n",
       "  #### 3                                                                                                           \n",
       " <span style=\"color: #7f7f7f; text-decoration-color: #7f7f7f\"> Incorrect. Must be equal to The total amount of   </span> <span style=\"color: #7f7f7f; text-decoration-color: #7f7f7f\"> Lolita has 54000 strawberry seeds. In each         </span> <span style=\"color: #7f7f7f; text-decoration-color: #7f7f7f\"> 6,891  </span> \n",
       " <span style=\"color: #7f7f7f; text-decoration-color: #7f7f7f\"> seeds used in the planting zones is 3123 x 7 =    </span> <span style=\"color: #7f7f7f; text-decoration-color: #7f7f7f\"> planting zone, 3123 seeds will be used. If she     </span> <span style=\"color: #7f7f7f; text-decoration-color: #7f7f7f\">        </span> \n",
       " <span style=\"color: #7f7f7f; text-decoration-color: #7f7f7f\"> &lt;&lt;3123*7=21861&gt;&gt;21861.                            </span> <span style=\"color: #7f7f7f; text-decoration-color: #7f7f7f\"> will accumulate 7 planting zones, how many         </span> <span style=\"color: #7f7f7f; text-decoration-color: #7f7f7f\">        </span> \n",
       " <span style=\"color: #7f7f7f; text-decoration-color: #7f7f7f\"> The total amount of seeds left after planting is  </span> <span style=\"color: #7f7f7f; text-decoration-color: #7f7f7f\"> strawberry seeds will remain?                      </span> <span style=\"color: #7f7f7f; text-decoration-color: #7f7f7f\">        </span> \n",
       " <span style=\"color: #7f7f7f; text-decoration-color: #7f7f7f\"> 54000 - 21861 = &lt;&lt;54000-21861=32139&gt;&gt;32139.       </span> <span style=\"color: #7f7f7f; text-decoration-color: #7f7f7f\">                                                    </span> <span style=\"color: #7f7f7f; text-decoration-color: #7f7f7f\">        </span> \n",
       " <span style=\"color: #7f7f7f; text-decoration-color: #7f7f7f\"> #### 32139                                        </span> <span style=\"color: #7f7f7f; text-decoration-color: #7f7f7f\">                                                    </span> <span style=\"color: #7f7f7f; text-decoration-color: #7f7f7f\">        </span> \n",
       "  Incorrect. Must be equal to If Genevieve had        Genevieve picked some cherries from the              250     \n",
       "  $1600 on her, and Clarice chipped in with $400,     supermarket shelves that cost $8 per kilogram.               \n",
       "  the total cost of the cherries was $1600+$400 =     When Genevieve reached the checkout counter, she             \n",
       "  $&lt;&lt;1600+400=2000&gt;&gt;2000                              realized she was $400 short of the total price and           \n",
       "  If the cherries cost $8 per kilogram, Genevieve     her friend Clarice chipped in. If Genevieve had              \n",
       "  bought $2000/$8 = 250 kilograms of cherry           $1600 on her, how many kilograms of cherries did             \n",
       "  #### 250                                            she buy?                                                     \n",
       "                                                                                                                   \n",
       "</pre>\n"
      ],
      "text/plain": [
       "                                                                                                                   \n",
       " \u001b[1;35m \u001b[0m\u001b[1;35manswer__fb                                       \u001b[0m\u001b[1;35m \u001b[0m \u001b[1;35m \u001b[0m\u001b[1;35mquestion                                          \u001b[0m\u001b[1;35m \u001b[0m \u001b[1;35m \u001b[0m\u001b[1;35manswer\u001b[0m\u001b[1;35m \u001b[0m \n",
       " ───────────────────────────────────────────────────────────────────────────────────────────────────────────────── \n",
       "  Incorrect. Must be equal to First find the total    Janet uses her horses' manure as fertilizer. One     20      \n",
       "  amount of fertilizer the horses produce per day:    horse produces 5 gallons of fertilizer per day.              \n",
       "  5 gallons/horse * 80 horses = <<5*80=400>>400       Once Janet has collected enough fertilizer, she'll           \n",
       "  gallons                                             spread it over 20 acres of farmland. Each acre               \n",
       "  Then multiply the number of acres of farmland by    needs 400 gallons of fertilizer and Janet can                \n",
       "  the number of gallons per acre to find the total    spread fertilizer over 4 acres per day. If Janet             \n",
       "  amount of fertilizer needed: 400 gallons/acre *     has 80 horses, how long will it take until all her           \n",
       "  20 acres = <<400*20=8000>>8000 gallons              fields are fertilized?                                       \n",
       "  Then divide the total amount of fertilizer needed                                                                \n",
       "  by the amount of fertilizer produced per day to                                                                  \n",
       "  find the number of days needed to collect                                                                        \n",
       "  fertilizer: 8000 gallons / 400 gallons/day =                                                                     \n",
       "  <<8000/400=20>>20 days                                                                                           \n",
       "  Then divide the total number of acres Janet needs                                                                \n",
       "  to cover by the number of acres she can cover per                                                                \n",
       "  day to find how many days it takes her to cover                                                                  \n",
       "  them all: 20 acres / 4 acres/day = <<20/4=5>>5                                                                   \n",
       "  days                                                                                                             \n",
       "  Then add the time to collect the fertilizer to                                                                   \n",
       "  the time to spread it to find the total time: 5                                                                  \n",
       "  days + 20 days = <<5+20=25>>25 days                                                                              \n",
       "  #### 25                                                                                                          \n",
       " \u001b[2m \u001b[0m\u001b[2mIncorrect. Must be equal to She has gotten 70    \u001b[0m\u001b[2m \u001b[0m \u001b[2m \u001b[0m\u001b[2mTammy just got her hair cut. For every 14         \u001b[0m\u001b[2m \u001b[0m \u001b[2m \u001b[0m\u001b[2m75    \u001b[0m\u001b[2m \u001b[0m \n",
       " \u001b[2m \u001b[0m\u001b[2mhaircuts to get 5 free ones because 14 x 5 =     \u001b[0m\u001b[2m \u001b[0m \u001b[2m \u001b[0m\u001b[2mhaircuts, she gets a free additional haircut. She \u001b[0m\u001b[2m \u001b[0m \u001b[2m        \u001b[0m \n",
       " \u001b[2m \u001b[0m\u001b[2m<<70=70>>70                                      \u001b[0m\u001b[2m \u001b[0m \u001b[2m \u001b[0m\u001b[2mhas gotten 5 free haircuts already. She is 5      \u001b[0m\u001b[2m \u001b[0m \u001b[2m        \u001b[0m \n",
       " \u001b[2m \u001b[0m\u001b[2mShe has gotten 9 haircuts towards her 6th free   \u001b[0m\u001b[2m \u001b[0m \u001b[2m \u001b[0m\u001b[2mhaircuts away from another free one. How many     \u001b[0m\u001b[2m \u001b[0m \u001b[2m        \u001b[0m \n",
       " \u001b[2m \u001b[0m\u001b[2mone because 14 - 5 = <<14-5=9>>9                 \u001b[0m\u001b[2m \u001b[0m \u001b[2m \u001b[0m\u001b[2mhaircuts has she gotten there?                    \u001b[0m\u001b[2m \u001b[0m \u001b[2m        \u001b[0m \n",
       " \u001b[2m \u001b[0m\u001b[2mShe has gotten 79 haircuts because 70 + 9 =      \u001b[0m\u001b[2m \u001b[0m \u001b[2m                                                    \u001b[0m \u001b[2m        \u001b[0m \n",
       " \u001b[2m \u001b[0m\u001b[2m<<70+9=79>>79                                    \u001b[0m\u001b[2m \u001b[0m \u001b[2m                                                    \u001b[0m \u001b[2m        \u001b[0m \n",
       " \u001b[2m \u001b[0m\u001b[2m#### 79                                          \u001b[0m\u001b[2m \u001b[0m \u001b[2m                                                    \u001b[0m \u001b[2m        \u001b[0m \n",
       "  Incorrect. Must be equal to Beth and Jan scored a   In the first team, Beth scored 12 while Jan scored   3       \n",
       "  total of 12 + 10 = <<12+10=22>>22.                  10. In the second team, Judy scored 8 while Angel            \n",
       "  Judy and Angel scored a total of 8 + 11 =           scored 11. How many more points did the first team           \n",
       "  <<8+11=19>>19.                                      get than the second team?                                    \n",
       "  Thus, the first team scores 22 - 19 =                                                                            \n",
       "  <<22-19=3>>3 more points than the second team.                                                                   \n",
       "  #### 3                                                                                                           \n",
       " \u001b[2m \u001b[0m\u001b[2mIncorrect. Must be equal to The total amount of  \u001b[0m\u001b[2m \u001b[0m \u001b[2m \u001b[0m\u001b[2mLolita has 54000 strawberry seeds. In each        \u001b[0m\u001b[2m \u001b[0m \u001b[2m \u001b[0m\u001b[2m6,891 \u001b[0m\u001b[2m \u001b[0m \n",
       " \u001b[2m \u001b[0m\u001b[2mseeds used in the planting zones is 3123 x 7 =   \u001b[0m\u001b[2m \u001b[0m \u001b[2m \u001b[0m\u001b[2mplanting zone, 3123 seeds will be used. If she    \u001b[0m\u001b[2m \u001b[0m \u001b[2m        \u001b[0m \n",
       " \u001b[2m \u001b[0m\u001b[2m<<3123*7=21861>>21861.                           \u001b[0m\u001b[2m \u001b[0m \u001b[2m \u001b[0m\u001b[2mwill accumulate 7 planting zones, how many        \u001b[0m\u001b[2m \u001b[0m \u001b[2m        \u001b[0m \n",
       " \u001b[2m \u001b[0m\u001b[2mThe total amount of seeds left after planting is \u001b[0m\u001b[2m \u001b[0m \u001b[2m \u001b[0m\u001b[2mstrawberry seeds will remain?                     \u001b[0m\u001b[2m \u001b[0m \u001b[2m        \u001b[0m \n",
       " \u001b[2m \u001b[0m\u001b[2m54000 - 21861 = <<54000-21861=32139>>32139.      \u001b[0m\u001b[2m \u001b[0m \u001b[2m                                                    \u001b[0m \u001b[2m        \u001b[0m \n",
       " \u001b[2m \u001b[0m\u001b[2m#### 32139                                       \u001b[0m\u001b[2m \u001b[0m \u001b[2m                                                    \u001b[0m \u001b[2m        \u001b[0m \n",
       "  Incorrect. Must be equal to If Genevieve had        Genevieve picked some cherries from the              250     \n",
       "  $1600 on her, and Clarice chipped in with $400,     supermarket shelves that cost $8 per kilogram.               \n",
       "  the total cost of the cherries was $1600+$400 =     When Genevieve reached the checkout counter, she             \n",
       "  $<<1600+400=2000>>2000                              realized she was $400 short of the total price and           \n",
       "  If the cherries cost $8 per kilogram, Genevieve     her friend Clarice chipped in. If Genevieve had              \n",
       "  bought $2000/$8 = 250 kilograms of cherry           $1600 on her, how many kilograms of cherries did             \n",
       "  #### 250                                            she buy?                                                     \n",
       "                                                                                                                   \n"
      ]
     },
     "metadata": {},
     "output_type": "display_data"
    },
    {
     "data": {
      "text/html": [
       "<pre style=\"white-space:pre;overflow-x:auto;line-height:normal;font-family:Menlo,'DejaVu Sans Mono',consolas,'Courier New',monospace\"><span style=\"color: #800000; text-decoration-color: #800000; font-weight: bold\">Skill output to improve: </span><span style=\"color: #008000; text-decoration-color: #008000\">\"answer\"</span><span style=\"color: #800000; text-decoration-color: #800000; font-weight: bold\"> (</span><span style=\"color: #808000; text-decoration-color: #808000; font-weight: bold\">Skill</span><span style=\"color: #800000; text-decoration-color: #800000; font-weight: bold\">=</span><span style=\"color: #008000; text-decoration-color: #008000\">\"math_solver\"</span><span style=\"color: #800000; text-decoration-color: #800000; font-weight: bold\">)</span>\n",
       "<span style=\"color: #800000; text-decoration-color: #800000; font-weight: bold\">Accuracy = </span><span style=\"color: #008080; text-decoration-color: #008080; font-weight: bold\">0.00</span><span style=\"color: #800000; text-decoration-color: #800000; font-weight: bold\">%</span>\n",
       "</pre>\n"
      ],
      "text/plain": [
       "\u001b[1;31mSkill output to improve: \u001b[0m\u001b[32m\"answer\"\u001b[0m\u001b[1;31m \u001b[0m\u001b[1;31m(\u001b[0m\u001b[1;33mSkill\u001b[0m\u001b[1;31m=\u001b[0m\u001b[32m\"math_solver\"\u001b[0m\u001b[1;31m)\u001b[0m\n",
       "\u001b[1;31mAccuracy = \u001b[0m\u001b[1;36m0.00\u001b[0m\u001b[1;31m%\u001b[0m\n"
      ]
     },
     "metadata": {},
     "output_type": "display_data"
    },
    {
     "data": {
      "text/html": [
       "<pre style=\"white-space:pre;overflow-x:auto;line-height:normal;font-family:Menlo,'DejaVu Sans Mono',consolas,'Courier New',monospace\"><span style=\"font-weight: bold\">{</span><span style=\"color: #008000; text-decoration-color: #008000\">'input'</span>: <span style=\"color: #008000; text-decoration-color: #008000\">'\\n\\t\\t\\tA prompt is a text paragraph that outlines the expected actions and instructs the large language</span>\n",
       "<span style=\"color: #008000; text-decoration-color: #008000\">model (LLM) to \\t\\t\\tgenerate a specific output. This prompt is concatenated with the input text, and the </span>\n",
       "<span style=\"color: #008000; text-decoration-color: #008000\">\\t\\t\\tmodel then creates the required output.\\n\\t\\t\\tThis describes the full template how the prompt is </span>\n",
       "<span style=\"color: #008000; text-decoration-color: #008000\">concatenated with the input to produce the </span>\n",
       "<span style=\"color: #008000; text-decoration-color: #008000\">output:\\n\\t\\t\\t```\\n\\t\\t\\t\\n\\t\\t{prompt}\\n\\t\\t\\t```\\n\\t\\t\\tHere:\\n\\t\\t\\t- \"{prompt}\" is the LLM </span>\n",
       "<span style=\"color: #008000; text-decoration-color: #008000\">prompt\\n\\n\\t\\t\\tModel can produce erroneous output if a prompt is not well defined. \\t\\t\\tIn our collaboration, </span>\n",
       "<span style=\"color: #008000; text-decoration-color: #008000\">we’ll work together to refine a prompt. The process consists of two main steps:\\n\\n\\t\\t\\t## Step 1\\n\\t\\t\\tI will </span>\n",
       "<span style=\"color: #008000; text-decoration-color: #008000\">provide you with the current prompt along with prediction examples. Each example contains the input text, the final</span>\n",
       "<span style=\"color: #008000; text-decoration-color: #008000\">prediction produced by the model, and the user feedback. \\t\\t\\tUser feedback indicates whether the model prediction</span>\n",
       "<span style=\"color: #008000; text-decoration-color: #008000\">is correct or not. \\t\\t\\tYour task is to analyze the examples and user feedback, determining whether the </span>\n",
       "<span style=\"color: #008000; text-decoration-color: #008000\">\\t\\t\\texisting instruction is describing the task reflected by these examples precisely, and suggests changes to </span>\n",
       "<span style=\"color: #008000; text-decoration-color: #008000\">the prompt to address the incorrect predictions.\\n\\n\\t\\t\\t## Step 2\\n\\t\\t\\tNext, you will carefully review your </span>\n",
       "<span style=\"color: #008000; text-decoration-color: #008000\">reasoning in step 1, integrate the insights to refine the prompt, \\t\\t\\tand provide me with the new prompt that </span>\n",
       "<span style=\"color: #008000; text-decoration-color: #008000\">improves the model’s performance.\\n\\t\\t\\t## Current prompt\\n\\t\\t\\t\"Carefully read the given mathematical problem, </span>\n",
       "<span style=\"color: #008000; text-decoration-color: #008000\">break it down into smaller steps, perform the necessary calculations, and provide the final numerical answer. Make </span>\n",
       "<span style=\"color: #008000; text-decoration-color: #008000\">sure to consider all the details provided in the problem.\"\\n\\t\\t\\t## Examples\\n\\t\\t\\t### Example #0\\n\\nQ: Janet </span>\n",
       "<span style=\"color: #008000; text-decoration-color: #008000\">uses her horses\\' manure as fertilizer. One horse produces 5 gallons of fertilizer per day. Once Janet has </span>\n",
       "<span style=\"color: #008000; text-decoration-color: #008000\">collected enough fertilizer, she\\'ll spread it over 20 acres of farmland. Each acre needs 400 gallons of fertilizer</span>\n",
       "<span style=\"color: #008000; text-decoration-color: #008000\">and Janet can spread fertilizer over 4 acres per day. If Janet has 80 horses, how long will it take until all her </span>\n",
       "<span style=\"color: #008000; text-decoration-color: #008000\">fields are fertilized?\\n\\nThe final numerical answer: 20\\n\\nUser feedback: Incorrect. Must be equal to First find </span>\n",
       "<span style=\"color: #008000; text-decoration-color: #008000\">the total amount of fertilizer the horses produce per day: 5 gallons/horse * 80 horses = &lt;&lt;5*80=400&gt;&gt;400 </span>\n",
       "<span style=\"color: #008000; text-decoration-color: #008000\">gallons\\nThen multiply the number of acres of farmland by the number of gallons per acre to find the total amount </span>\n",
       "<span style=\"color: #008000; text-decoration-color: #008000\">of fertilizer needed: 400 gallons/acre * 20 acres = &lt;&lt;400*20=8000&gt;&gt;8000 gallons\\nThen divide the total amount of </span>\n",
       "<span style=\"color: #008000; text-decoration-color: #008000\">fertilizer needed by the amount of fertilizer produced per day to find the number of days needed to collect </span>\n",
       "<span style=\"color: #008000; text-decoration-color: #008000\">fertilizer: 8000 gallons / 400 gallons/day = &lt;&lt;8000/400=20&gt;&gt;20 days\\nThen divide the total number of acres Janet </span>\n",
       "<span style=\"color: #008000; text-decoration-color: #008000\">needs to cover by the number of acres she can cover per day to find how many days it takes her to cover them all: </span>\n",
       "<span style=\"color: #008000; text-decoration-color: #008000\">20 acres / 4 acres/day = &lt;&lt;20/4=5&gt;&gt;5 days\\nThen add the time to collect the fertilizer to the time to spread it to </span>\n",
       "<span style=\"color: #008000; text-decoration-color: #008000\">find the total time: 5 days + 20 days = &lt;&lt;5+20=25&gt;&gt;25 days\\n#### 25\\n\\n\\n### Example #1\\n\\nQ: Tammy just got her </span>\n",
       "<span style=\"color: #008000; text-decoration-color: #008000\">hair cut. For every 14 haircuts, she gets a free additional haircut. She has gotten 5 free haircuts already. She is</span>\n",
       "<span style=\"color: #008000; text-decoration-color: #008000\">5 haircuts away from another free one. How many haircuts has she gotten there?\\n\\nThe final numerical answer: </span>\n",
       "<span style=\"color: #008000; text-decoration-color: #008000\">75\\n\\nUser feedback: Incorrect. Must be equal to She has gotten 70 haircuts to get 5 free ones because 14 x 5 = </span>\n",
       "<span style=\"color: #008000; text-decoration-color: #008000\">&lt;&lt;70=70&gt;&gt;70\\nShe has gotten 9 haircuts towards her 6th free one because 14 - 5 = &lt;&lt;14-5=9&gt;&gt;9\\nShe has gotten 79 </span>\n",
       "<span style=\"color: #008000; text-decoration-color: #008000\">haircuts because 70 + 9 = &lt;&lt;70+9=79&gt;&gt;79\\n#### 79\\n\\n\\n### Example #2\\n\\nQ: In the first team, Beth scored 12 while </span>\n",
       "<span style=\"color: #008000; text-decoration-color: #008000\">Jan scored 10. In the second team, Judy scored 8 while Angel scored 11. How many more points did the first team get</span>\n",
       "<span style=\"color: #008000; text-decoration-color: #008000\">than the second team?\\n\\nThe final numerical answer: 3\\n\\nUser feedback: Incorrect. Must be equal to Beth and Jan </span>\n",
       "<span style=\"color: #008000; text-decoration-color: #008000\">scored a total of 12 + 10 = &lt;&lt;12+10=22&gt;&gt;22.\\nJudy and Angel scored a total of 8 + 11 = &lt;&lt;8+11=19&gt;&gt;19.\\nThus, the </span>\n",
       "<span style=\"color: #008000; text-decoration-color: #008000\">first team scores 22 - 19 = &lt;&lt;22-19=3&gt;&gt;3 more points than the second team.\\n#### 3\\n\\n\\n### Example #3\\n\\nQ: Lolita</span>\n",
       "<span style=\"color: #008000; text-decoration-color: #008000\">has 54000 strawberry seeds. In each planting zone, 3123 seeds will be used. If she will accumulate 7 planting </span>\n",
       "<span style=\"color: #008000; text-decoration-color: #008000\">zones, how many strawberry seeds will remain?\\n\\nThe final numerical answer: 6,891\\n\\nUser feedback: Incorrect. </span>\n",
       "<span style=\"color: #008000; text-decoration-color: #008000\">Must be equal to The total amount of seeds used in the planting zones is 3123 x 7 = &lt;&lt;3123*7=21861&gt;&gt;21861.\\nThe </span>\n",
       "<span style=\"color: #008000; text-decoration-color: #008000\">total amount of seeds left after planting is 54000 - 21861 = &lt;&lt;54000-21861=32139&gt;&gt;32139.\\n#### 32139\\n\\n\\n### </span>\n",
       "<span style=\"color: #008000; text-decoration-color: #008000\">Example #4\\n\\nQ: Genevieve picked some cherries from the supermarket shelves that cost $8 per kilogram. When </span>\n",
       "<span style=\"color: #008000; text-decoration-color: #008000\">Genevieve reached the checkout counter, she realized she was $400 short of the total price and her friend Clarice </span>\n",
       "<span style=\"color: #008000; text-decoration-color: #008000\">chipped in. If Genevieve had $1600 on her, how many kilograms of cherries did she buy?\\n\\nThe final numerical </span>\n",
       "<span style=\"color: #008000; text-decoration-color: #008000\">answer: 250\\n\\nUser feedback: Incorrect. Must be equal to If Genevieve had $1600 on her, and Clarice chipped in </span>\n",
       "<span style=\"color: #008000; text-decoration-color: #008000\">with $400, the total cost of the cherries was $1600+$400 = $&lt;&lt;1600+400=2000&gt;&gt;2000\\nIf the cherries cost $8 per </span>\n",
       "<span style=\"color: #008000; text-decoration-color: #008000\">kilogram, Genevieve bought $2000/$8 = 250 kilograms of cherry\\n#### 250\\n\\n\\n\\t\\t\\tSummarize your analysis about </span>\n",
       "<span style=\"color: #008000; text-decoration-color: #008000\">incorrect predictions and suggest changes to the prompt.'</span><span style=\"font-weight: bold\">}</span>\n",
       "</pre>\n"
      ],
      "text/plain": [
       "\u001b[1m{\u001b[0m\u001b[32m'input'\u001b[0m: \u001b[32m'\\n\\t\\t\\tA prompt is a text paragraph that outlines the expected actions and instructs the large language\u001b[0m\n",
       "\u001b[32mmodel \u001b[0m\u001b[32m(\u001b[0m\u001b[32mLLM\u001b[0m\u001b[32m)\u001b[0m\u001b[32m to \\t\\t\\tgenerate a specific output. This prompt is concatenated with the input text, and the \u001b[0m\n",
       "\u001b[32m\\t\\t\\tmodel then creates the required output.\\n\\t\\t\\tThis describes the full template how the prompt is \u001b[0m\n",
       "\u001b[32mconcatenated with the input to produce the \u001b[0m\n",
       "\u001b[32moutput:\\n\\t\\t\\t```\\n\\t\\t\\t\\n\\t\\t\u001b[0m\u001b[32m{\u001b[0m\u001b[32mprompt\u001b[0m\u001b[32m}\u001b[0m\u001b[32m\\n\\t\\t\\t```\\n\\t\\t\\tHere:\\n\\t\\t\\t- \"\u001b[0m\u001b[32m{\u001b[0m\u001b[32mprompt\u001b[0m\u001b[32m}\u001b[0m\u001b[32m\" is the LLM \u001b[0m\n",
       "\u001b[32mprompt\\n\\n\\t\\t\\tModel can produce erroneous output if a prompt is not well defined. \\t\\t\\tIn our collaboration, \u001b[0m\n",
       "\u001b[32mwe’ll work together to refine a prompt. The process consists of two main steps:\\n\\n\\t\\t\\t## Step 1\\n\\t\\t\\tI will \u001b[0m\n",
       "\u001b[32mprovide you with the current prompt along with prediction examples. Each example contains the input text, the final\u001b[0m\n",
       "\u001b[32mprediction produced by the model, and the user feedback. \\t\\t\\tUser feedback indicates whether the model prediction\u001b[0m\n",
       "\u001b[32mis correct or not. \\t\\t\\tYour task is to analyze the examples and user feedback, determining whether the \u001b[0m\n",
       "\u001b[32m\\t\\t\\texisting instruction is describing the task reflected by these examples precisely, and suggests changes to \u001b[0m\n",
       "\u001b[32mthe prompt to address the incorrect predictions.\\n\\n\\t\\t\\t## Step 2\\n\\t\\t\\tNext, you will carefully review your \u001b[0m\n",
       "\u001b[32mreasoning in step 1, integrate the insights to refine the prompt, \\t\\t\\tand provide me with the new prompt that \u001b[0m\n",
       "\u001b[32mimproves the model’s performance.\\n\\t\\t\\t## Current prompt\\n\\t\\t\\t\"Carefully read the given mathematical problem, \u001b[0m\n",
       "\u001b[32mbreak it down into smaller steps, perform the necessary calculations, and provide the final numerical answer. Make \u001b[0m\n",
       "\u001b[32msure to consider all the details provided in the problem.\"\\n\\t\\t\\t## Examples\\n\\t\\t\\t### Example #0\\n\\nQ: Janet \u001b[0m\n",
       "\u001b[32muses her horses\\' manure as fertilizer. One horse produces 5 gallons of fertilizer per day. Once Janet has \u001b[0m\n",
       "\u001b[32mcollected enough fertilizer, she\\'ll spread it over 20 acres of farmland. Each acre needs 400 gallons of fertilizer\u001b[0m\n",
       "\u001b[32mand Janet can spread fertilizer over 4 acres per day. If Janet has 80 horses, how long will it take until all her \u001b[0m\n",
       "\u001b[32mfields are fertilized?\\n\\nThe final numerical answer: 20\\n\\nUser feedback: Incorrect. Must be equal to First find \u001b[0m\n",
       "\u001b[32mthe total amount of fertilizer the horses produce per day: 5 gallons/horse * 80 horses = \u001b[0m\u001b[32m<\u001b[0m\u001b[32m<5*\u001b[0m\u001b[32m80\u001b[0m\u001b[32m=\u001b[0m\u001b[32m400\u001b[0m\u001b[32m>>400 \u001b[0m\n",
       "\u001b[32mgallons\\nThen multiply the number of acres of farmland by the number of gallons per acre to find the total amount \u001b[0m\n",
       "\u001b[32mof fertilizer needed: 400 gallons/acre * 20 acres = <<400*\u001b[0m\u001b[32m20\u001b[0m\u001b[32m=\u001b[0m\u001b[32m8000\u001b[0m\u001b[32m>>8000 gallons\\nThen divide the total amount of \u001b[0m\n",
       "\u001b[32mfertilizer needed by the amount of fertilizer produced per day to find the number of days needed to collect \u001b[0m\n",
       "\u001b[32mfertilizer: 8000 gallons / 400 gallons/day = <<8000/\u001b[0m\u001b[32m400\u001b[0m\u001b[32m=\u001b[0m\u001b[32m20\u001b[0m\u001b[32m>>20 days\\nThen divide the total number of acres Janet \u001b[0m\n",
       "\u001b[32mneeds to cover by the number of acres she can cover per day to find how many days it takes her to cover them all: \u001b[0m\n",
       "\u001b[32m20 acres / 4 acres/day = <<20/\u001b[0m\u001b[32m4\u001b[0m\u001b[32m=\u001b[0m\u001b[32m5\u001b[0m\u001b[32m>>5 days\\nThen add the time to collect the fertilizer to the time to spread it to \u001b[0m\n",
       "\u001b[32mfind the total time: 5 days + 20 days = <<5+\u001b[0m\u001b[32m20\u001b[0m\u001b[32m=\u001b[0m\u001b[32m25\u001b[0m\u001b[32m>>25 days\\n#### 25\\n\\n\\n### Example #1\\n\\nQ: Tammy just got her \u001b[0m\n",
       "\u001b[32mhair cut. For every 14 haircuts, she gets a free additional haircut. She has gotten 5 free haircuts already. She is\u001b[0m\n",
       "\u001b[32m5 haircuts away from another free one. How many haircuts has she gotten there?\\n\\nThe final numerical answer: \u001b[0m\n",
       "\u001b[32m75\\n\\nUser feedback: Incorrect. Must be equal to She has gotten 70 haircuts to get 5 free ones because 14 x 5 = \u001b[0m\n",
       "\u001b[32m<<\u001b[0m\u001b[32m70\u001b[0m\u001b[32m=\u001b[0m\u001b[32m70\u001b[0m\u001b[32m>>70\\nShe has gotten 9 haircuts towards her 6th free one because 14 - 5 = <<14-\u001b[0m\u001b[32m5\u001b[0m\u001b[32m=\u001b[0m\u001b[32m9\u001b[0m\u001b[32m>>9\\nShe has gotten 79 \u001b[0m\n",
       "\u001b[32mhaircuts because 70 + 9 = <<70+\u001b[0m\u001b[32m9\u001b[0m\u001b[32m=\u001b[0m\u001b[32m79\u001b[0m\u001b[32m>>79\\n#### 79\\n\\n\\n### Example #2\\n\\nQ: In the first team, Beth scored 12 while \u001b[0m\n",
       "\u001b[32mJan scored 10. In the second team, Judy scored 8 while Angel scored 11. How many more points did the first team get\u001b[0m\n",
       "\u001b[32mthan the second team?\\n\\nThe final numerical answer: 3\\n\\nUser feedback: Incorrect. Must be equal to Beth and Jan \u001b[0m\n",
       "\u001b[32mscored a total of 12 + 10 = <<12+\u001b[0m\u001b[32m10\u001b[0m\u001b[32m=\u001b[0m\u001b[32m22\u001b[0m\u001b[32m>>22.\\nJudy and Angel scored a total of 8 + 11 = <<8+\u001b[0m\u001b[32m11\u001b[0m\u001b[32m=\u001b[0m\u001b[32m19\u001b[0m\u001b[32m>>19.\\nThus, the \u001b[0m\n",
       "\u001b[32mfirst team scores 22 - 19 = <<22-\u001b[0m\u001b[32m19\u001b[0m\u001b[32m=\u001b[0m\u001b[32m3\u001b[0m\u001b[32m>>3 more points than the second team.\\n#### 3\\n\\n\\n### Example #3\\n\\nQ: Lolita\u001b[0m\n",
       "\u001b[32mhas 54000 strawberry seeds. In each planting zone, 3123 seeds will be used. If she will accumulate 7 planting \u001b[0m\n",
       "\u001b[32mzones, how many strawberry seeds will remain?\\n\\nThe final numerical answer: 6,891\\n\\nUser feedback: Incorrect. \u001b[0m\n",
       "\u001b[32mMust be equal to The total amount of seeds used in the planting zones is 3123 x 7 = <<3123*\u001b[0m\u001b[32m7\u001b[0m\u001b[32m=\u001b[0m\u001b[32m21861\u001b[0m\u001b[32m>>21861.\\nThe \u001b[0m\n",
       "\u001b[32mtotal amount of seeds left after planting is 54000 - 21861 = <<54000-\u001b[0m\u001b[32m21861\u001b[0m\u001b[32m=\u001b[0m\u001b[32m32139\u001b[0m\u001b[32m>>32139.\\n#### 32139\\n\\n\\n### \u001b[0m\n",
       "\u001b[32mExample #4\\n\\nQ: Genevieve picked some cherries from the supermarket shelves that cost $8 per kilogram. When \u001b[0m\n",
       "\u001b[32mGenevieve reached the checkout counter, she realized she was $400 short of the total price and her friend Clarice \u001b[0m\n",
       "\u001b[32mchipped in. If Genevieve had $1600 on her, how many kilograms of cherries did she buy?\\n\\nThe final numerical \u001b[0m\n",
       "\u001b[32manswer: 250\\n\\nUser feedback: Incorrect. Must be equal to If Genevieve had $1600 on her, and Clarice chipped in \u001b[0m\n",
       "\u001b[32mwith $400, the total cost of the cherries was $1600+$400 = $<<1600+\u001b[0m\u001b[32m400\u001b[0m\u001b[32m=\u001b[0m\u001b[32m2000\u001b[0m\u001b[32m>\u001b[0m\u001b[32m>\u001b[0m\u001b[32m2000\\nIf the cherries cost $8 per \u001b[0m\n",
       "\u001b[32mkilogram, Genevieve bought $2000/$8 = 250 kilograms of cherry\\n#### 250\\n\\n\\n\\t\\t\\tSummarize your analysis about \u001b[0m\n",
       "\u001b[32mincorrect predictions and suggest changes to the prompt.'\u001b[0m\u001b[1m}\u001b[0m\n"
      ]
     },
     "metadata": {},
     "output_type": "display_data"
    },
    {
     "data": {
      "text/html": [
       "<pre style=\"white-space:pre;overflow-x:auto;line-height:normal;font-family:Menlo,'DejaVu Sans Mono',consolas,'Courier New',monospace\"><span style=\"font-weight: bold\">{</span><span style=\"color: #008000; text-decoration-color: #008000\">'input'</span>: <span style=\"color: #008000; text-decoration-color: #008000\">'\\n\\t\\t\\tNow please carefully review your reasoning in Step 1 and help with Step 2: refining the </span>\n",
       "<span style=\"color: #008000; text-decoration-color: #008000\">prompt.\\n\\t\\t\\t## Current prompt\\n\\t\\t\\t\"Carefully read the given mathematical problem, break it down into smaller </span>\n",
       "<span style=\"color: #008000; text-decoration-color: #008000\">steps, perform the necessary calculations, and provide the final numerical answer. Make sure to consider all the </span>\n",
       "<span style=\"color: #008000; text-decoration-color: #008000\">details provided in the problem.\"\\n\\n\\t\\t\\t## Follow this guidance to refine the prompt:\\n\\n\\t\\t\\t1. The new prompt</span>\n",
       "<span style=\"color: #008000; text-decoration-color: #008000\">should should describe the task precisely, and address the points raised in the user feedback.\\n\\n\\t\\t\\t2. The new </span>\n",
       "<span style=\"color: #008000; text-decoration-color: #008000\">prompt should be similar to the current instruction, and only differ in the parts that address the issues you </span>\n",
       "<span style=\"color: #008000; text-decoration-color: #008000\">identified in Step 1.\\n\\t\\t\\t\\t\\tExample:\\n\\t\\t\\t\\t\\t- Current prompt: \"The model should generate a summary of the </span>\n",
       "<span style=\"color: #008000; text-decoration-color: #008000\">input text.\"\\n\\t\\t\\t\\t\\t- New prompt: \"The model should generate a summary of the input text. Pay attention to the </span>\n",
       "<span style=\"color: #008000; text-decoration-color: #008000\">original style.\"\\n\\n\\t\\t\\t3. Reply only with the new prompt. Do not include input and output templates in the </span>\n",
       "<span style=\"color: #008000; text-decoration-color: #008000\">prompt. remove any special characters from the prompt.'</span><span style=\"font-weight: bold\">}</span>\n",
       "</pre>\n"
      ],
      "text/plain": [
       "\u001b[1m{\u001b[0m\u001b[32m'input'\u001b[0m: \u001b[32m'\\n\\t\\t\\tNow please carefully review your reasoning in Step 1 and help with Step 2: refining the \u001b[0m\n",
       "\u001b[32mprompt.\\n\\t\\t\\t## Current prompt\\n\\t\\t\\t\"Carefully read the given mathematical problem, break it down into smaller \u001b[0m\n",
       "\u001b[32msteps, perform the necessary calculations, and provide the final numerical answer. Make sure to consider all the \u001b[0m\n",
       "\u001b[32mdetails provided in the problem.\"\\n\\n\\t\\t\\t## Follow this guidance to refine the prompt:\\n\\n\\t\\t\\t1. The new prompt\u001b[0m\n",
       "\u001b[32mshould should describe the task precisely, and address the points raised in the user feedback.\\n\\n\\t\\t\\t2. The new \u001b[0m\n",
       "\u001b[32mprompt should be similar to the current instruction, and only differ in the parts that address the issues you \u001b[0m\n",
       "\u001b[32midentified in Step 1.\\n\\t\\t\\t\\t\\tExample:\\n\\t\\t\\t\\t\\t- Current prompt: \"The model should generate a summary of the \u001b[0m\n",
       "\u001b[32minput text.\"\\n\\t\\t\\t\\t\\t- New prompt: \"The model should generate a summary of the input text. Pay attention to the \u001b[0m\n",
       "\u001b[32moriginal style.\"\\n\\n\\t\\t\\t3. Reply only with the new prompt. Do not include input and output templates in the \u001b[0m\n",
       "\u001b[32mprompt. remove any special characters from the prompt.'\u001b[0m\u001b[1m}\u001b[0m\n"
      ]
     },
     "metadata": {},
     "output_type": "display_data"
    },
    {
     "data": {
      "text/html": [
       "<pre style=\"white-space:pre;overflow-x:auto;line-height:normal;font-family:Menlo,'DejaVu Sans Mono',consolas,'Courier New',monospace\">reasoning: The current prompt instructs the model to <span style=\"color: #008000; text-decoration-color: #008000\">\"Carefully read the given mathematical problem, break it down </span>\n",
       "<span style=\"color: #008000; text-decoration-color: #008000\">into smaller steps, perform the necessary calculations, and provide the final numerical answer. Make sure to </span>\n",
       "<span style=\"color: #008000; text-decoration-color: #008000\">consider all the details provided in the problem.\"</span> \n",
       "\n",
       "From the examples provided, it seems that the model is able to understand the problem and perform calculations. \n",
       "However, it is making mistakes in the final step of providing the correct numerical answer. This could be due to \n",
       "the model not fully understanding the problem or missing some details in the problem.\n",
       "\n",
       "For example, in Example #<span style=\"color: #008080; text-decoration-color: #008080; font-weight: bold\">0</span>, the model correctly calculated the amount of fertilizer produced per day and the total \n",
       "amount of fertilizer needed. However, it failed to consider the time needed to spread the fertilizer, resulting in \n",
       "an incorrect final answer.\n",
       "\n",
       "In Example #<span style=\"color: #008080; text-decoration-color: #008080; font-weight: bold\">1</span>, the model correctly calculated the number of haircuts Tammy has gotten to get <span style=\"color: #008080; text-decoration-color: #008080; font-weight: bold\">5</span> free ones and the \n",
       "number of haircuts she has gotten towards her 6th free one. However, it failed to add these two numbers together to\n",
       "get the correct total number of haircuts.\n",
       "\n",
       "In Example #<span style=\"color: #008080; text-decoration-color: #008080; font-weight: bold\">2</span>, the model correctly calculated the total points scored by each team. However, it failed to subtract \n",
       "the points scored by the second team from the points scored by the first team to get the\n",
       "</pre>\n"
      ],
      "text/plain": [
       "reasoning: The current prompt instructs the model to \u001b[32m\"Carefully read the given mathematical problem, break it down \u001b[0m\n",
       "\u001b[32minto smaller steps, perform the necessary calculations, and provide the final numerical answer. Make sure to \u001b[0m\n",
       "\u001b[32mconsider all the details provided in the problem.\"\u001b[0m \n",
       "\n",
       "From the examples provided, it seems that the model is able to understand the problem and perform calculations. \n",
       "However, it is making mistakes in the final step of providing the correct numerical answer. This could be due to \n",
       "the model not fully understanding the problem or missing some details in the problem.\n",
       "\n",
       "For example, in Example #\u001b[1;36m0\u001b[0m, the model correctly calculated the amount of fertilizer produced per day and the total \n",
       "amount of fertilizer needed. However, it failed to consider the time needed to spread the fertilizer, resulting in \n",
       "an incorrect final answer.\n",
       "\n",
       "In Example #\u001b[1;36m1\u001b[0m, the model correctly calculated the number of haircuts Tammy has gotten to get \u001b[1;36m5\u001b[0m free ones and the \n",
       "number of haircuts she has gotten towards her 6th free one. However, it failed to add these two numbers together to\n",
       "get the correct total number of haircuts.\n",
       "\n",
       "In Example #\u001b[1;36m2\u001b[0m, the model correctly calculated the total points scored by each team. However, it failed to subtract \n",
       "the points scored by the second team from the points scored by the first team to get the\n"
      ]
     },
     "metadata": {},
     "output_type": "display_data"
    },
    {
     "data": {
      "text/html": [
       "<pre style=\"white-space:pre;overflow-x:auto;line-height:normal;font-family:Menlo,'DejaVu Sans Mono',consolas,'Courier New',monospace\">New prompt: <span style=\"color: #008000; text-decoration-color: #008000\">\"Carefully read the given mathematical problem, break it down into smaller steps, perform the necessary</span>\n",
       "<span style=\"color: #008000; text-decoration-color: #008000\">calculations, and provide the final numerical answer. Ensure to consider all the details provided in the problem </span>\n",
       "<span style=\"color: #008000; text-decoration-color: #008000\">and double-check your calculations to ensure accuracy. Make sure to correctly interpret the problem and apply the </span>\n",
       "<span style=\"color: #008000; text-decoration-color: #008000\">appropriate mathematical operations to arrive at the correct final answer.\"</span>\n",
       "</pre>\n"
      ],
      "text/plain": [
       "New prompt: \u001b[32m\"Carefully read the given mathematical problem, break it down into smaller steps, perform the necessary\u001b[0m\n",
       "\u001b[32mcalculations, and provide the final numerical answer. Ensure to consider all the details provided in the problem \u001b[0m\n",
       "\u001b[32mand double-check your calculations to ensure accuracy. Make sure to correctly interpret the problem and apply the \u001b[0m\n",
       "\u001b[32mappropriate mathematical operations to arrive at the correct final answer.\"\u001b[0m\n"
      ]
     },
     "metadata": {},
     "output_type": "display_data"
    },
    {
     "data": {
      "text/html": [
       "\"Carefully read the given mathematical problem, break it down into smaller steps, perform the necessary calculations, and provide the final numerical answer. <span style=\"background-color: lightgreen;\">E</span><span style=\"background-color: lightgreen;\">n</span><span style=\"background-color: lightgreen;\">s</span><span style=\"background-color: lightgreen;\">u</span><span style=\"background-color: lightgreen;\">r</span><span style=\"background-color: lightgreen;\">e</span><span style=\"background-color: lightgreen;\"> </span><span style=\"background-color: lightgreen;\">t</span><span style=\"background-color: lightgreen;\">o</span><span style=\"background-color: lightgreen;\"> </span><span style=\"background-color: lightgreen;\">c</span><span style=\"background-color: lightgreen;\">o</span><span style=\"background-color: lightgreen;\">n</span><span style=\"background-color: lightgreen;\">s</span><span style=\"background-color: lightgreen;\">i</span><span style=\"background-color: lightgreen;\">d</span><span style=\"background-color: lightgreen;\">e</span><span style=\"background-color: lightgreen;\">r</span><span style=\"background-color: lightgreen;\"> </span><span style=\"background-color: lightgreen;\">a</span><span style=\"background-color: lightgreen;\">l</span><span style=\"background-color: lightgreen;\">l</span><span style=\"background-color: lightgreen;\"> </span><span style=\"background-color: lightgreen;\">t</span><span style=\"background-color: lightgreen;\">h</span><span style=\"background-color: lightgreen;\">e</span><span style=\"background-color: lightgreen;\"> </span><span style=\"background-color: lightgreen;\">d</span><span style=\"background-color: lightgreen;\">e</span><span style=\"background-color: lightgreen;\">t</span><span style=\"background-color: lightgreen;\">a</span><span style=\"background-color: lightgreen;\">i</span><span style=\"background-color: lightgreen;\">l</span><span style=\"background-color: lightgreen;\">s</span><span style=\"background-color: lightgreen;\"> </span><span style=\"background-color: lightgreen;\">p</span><span style=\"background-color: lightgreen;\">r</span><span style=\"background-color: lightgreen;\">o</span><span style=\"background-color: lightgreen;\">v</span><span style=\"background-color: lightgreen;\">i</span><span style=\"background-color: lightgreen;\">d</span><span style=\"background-color: lightgreen;\">e</span><span style=\"background-color: lightgreen;\">d</span><span style=\"background-color: lightgreen;\"> </span><span style=\"background-color: lightgreen;\">i</span><span style=\"background-color: lightgreen;\">n</span><span style=\"background-color: lightgreen;\"> </span><span style=\"background-color: lightgreen;\">t</span><span style=\"background-color: lightgreen;\">h</span><span style=\"background-color: lightgreen;\">e</span><span style=\"background-color: lightgreen;\"> </span><span style=\"background-color: lightgreen;\">p</span><span style=\"background-color: lightgreen;\">r</span><span style=\"background-color: lightgreen;\">o</span><span style=\"background-color: lightgreen;\">b</span><span style=\"background-color: lightgreen;\">l</span><span style=\"background-color: lightgreen;\">e</span><span style=\"background-color: lightgreen;\">m</span><span style=\"background-color: lightgreen;\"> </span><span style=\"background-color: lightgreen;\">a</span><span style=\"background-color: lightgreen;\">n</span><span style=\"background-color: lightgreen;\">d</span><span style=\"background-color: lightgreen;\"> </span><span style=\"background-color: lightgreen;\">d</span><span style=\"background-color: lightgreen;\">o</span><span style=\"background-color: lightgreen;\">u</span><span style=\"background-color: lightgreen;\">b</span><span style=\"background-color: lightgreen;\">l</span><span style=\"background-color: lightgreen;\">e</span><span style=\"background-color: lightgreen;\">-</span><span style=\"background-color: lightgreen;\">c</span><span style=\"background-color: lightgreen;\">h</span><span style=\"background-color: lightgreen;\">e</span><span style=\"background-color: lightgreen;\">c</span><span style=\"background-color: lightgreen;\">k</span><span style=\"background-color: lightgreen;\"> </span><span style=\"background-color: lightgreen;\">y</span><span style=\"background-color: lightgreen;\">o</span><span style=\"background-color: lightgreen;\">u</span><span style=\"background-color: lightgreen;\">r</span><span style=\"background-color: lightgreen;\"> </span><span style=\"background-color: lightgreen;\">c</span><span style=\"background-color: lightgreen;\">a</span><span style=\"background-color: lightgreen;\">l</span><span style=\"background-color: lightgreen;\">c</span><span style=\"background-color: lightgreen;\">u</span><span style=\"background-color: lightgreen;\">l</span><span style=\"background-color: lightgreen;\">a</span><span style=\"background-color: lightgreen;\">t</span><span style=\"background-color: lightgreen;\">i</span><span style=\"background-color: lightgreen;\">o</span><span style=\"background-color: lightgreen;\">n</span><span style=\"background-color: lightgreen;\">s</span><span style=\"background-color: lightgreen;\"> </span><span style=\"background-color: lightgreen;\">t</span><span style=\"background-color: lightgreen;\">o</span><span style=\"background-color: lightgreen;\"> </span><span style=\"background-color: lightgreen;\">e</span><span style=\"background-color: lightgreen;\">n</span><span style=\"background-color: lightgreen;\">s</span><span style=\"background-color: lightgreen;\">u</span><span style=\"background-color: lightgreen;\">r</span><span style=\"background-color: lightgreen;\">e</span><span style=\"background-color: lightgreen;\"> </span><span style=\"background-color: lightgreen;\">a</span><span style=\"background-color: lightgreen;\">c</span><span style=\"background-color: lightgreen;\">c</span><span style=\"background-color: lightgreen;\">u</span><span style=\"background-color: lightgreen;\">r</span><span style=\"background-color: lightgreen;\">a</span><span style=\"background-color: lightgreen;\">c</span><span style=\"background-color: lightgreen;\">y</span><span style=\"background-color: lightgreen;\">.</span><span style=\"background-color: lightgreen;\"> </span>Make sure to corr<span style=\"background-color: lightgreen;\">e</span><span style=\"background-color: lightgreen;\">c</span><span style=\"background-color: lightgreen;\">t</span><span style=\"background-color: lightgreen;\">l</span><span style=\"background-color: lightgreen;\">y</span><span style=\"background-color: lightgreen;\"> </span><span style=\"background-color: lightgreen;\">i</span><span style=\"background-color: lightgreen;\">n</span><span style=\"background-color: lightgreen;\">t</span><span style=\"background-color: lightgreen;\">e</span><span style=\"background-color: lightgreen;\">r</span><span style=\"background-color: lightgreen;\">p</span><span style=\"background-color: lightgreen;\">r</span><span style=\"background-color: lightgreen;\">e</span><span style=\"background-color: lightgreen;\">t</span><span style=\"background-color: lightgreen;\"> </span><span style=\"background-color: lightgreen;\">t</span><span style=\"background-color: lightgreen;\">h</span><span style=\"background-color: lightgreen;\">e</span><span style=\"background-color: lightgreen;\"> </span><span style=\"background-color: lightgreen;\">p</span><span style=\"background-color: lightgreen;\">r</span>o<span style=\"background-color: lightgreen;\">b</span><span style=\"background-color: lightgreen;\">l</span><span style=\"background-color: lightgreen;\">e</span><span style=\"background-color: lightgreen;\">m</span><span style=\"background-color: lightgreen;\"> </span><span style=\"background-color: lightgreen;\">a</span><span style=\"background-color: lightgreen;\">n</span><span style=\"background-color: lightgreen;\">d</span><span style=\"background-color: lightgreen;\"> </span><span style=\"background-color: lightgreen;\">a</span><span style=\"background-color: lightgreen;\">p</span><span style=\"background-color: lightgreen;\">p</span><span style=\"background-color: lightgreen;\">l</span><span style=\"background-color: lightgreen;\">y</span><span style=\"background-color: lightgreen;\"> </span><span style=\"background-color: lightgreen;\">t</span><span style=\"background-color: lightgreen;\">h</span><span style=\"background-color: lightgreen;\">e</span><span style=\"background-color: lightgreen;\"> </span><span style=\"background-color: lightgreen;\">a</span><span style=\"background-color: lightgreen;\">p</span><span style=\"background-color: lightgreen;\">p</span><span style=\"background-color: lightgreen;\">r</span><span style=\"background-color: lightgreen;\">o</span><span style=\"background-color: lightgreen;\">p</span><span style=\"background-color: lightgreen;\">r</span><span style=\"background-color: lightgreen;\">i</span><span style=\"background-color: lightgreen;\">a</span><span style=\"background-color: lightgreen;\">t</span><span style=\"background-color: lightgreen;\">e</span><span style=\"background-color: lightgreen;\"> </span><span style=\"background-color: lightgreen;\">m</span><span style=\"background-color: lightgreen;\">a</span><span style=\"background-color: lightgreen;\">t</span><span style=\"background-color: lightgreen;\">h</span><span style=\"background-color: lightgreen;\">e</span><span style=\"background-color: lightgreen;\">m</span><span style=\"background-color: lightgreen;\">a</span><span style=\"background-color: lightgreen;\">t</span><span style=\"background-color: lightgreen;\">i</span><span style=\"background-color: lightgreen;\">c</span><span style=\"background-color: lightgreen;\">a</span><span style=\"background-color: lightgreen;\">l</span><span style=\"background-color: lightgreen;\"> </span><span style=\"background-color: lightgreen;\">o</span><span style=\"background-color: lightgreen;\">p</span><span style=\"background-color: lightgreen;\">e</span><span style=\"background-color: lightgreen;\">r</span><span style=\"background-color: lightgreen;\">a</span><span style=\"background-color: lightgreen;\">t</span><span style=\"background-color: lightgreen;\">i</span><span style=\"background-color: lightgreen;\">o</span><span style=\"background-color: lightgreen;\">n</span><span style=\"background-color: lightgreen;\">s</span><span style=\"background-color: lightgreen;\"> </span><span style=\"background-color: lightgreen;\">t</span><span style=\"background-color: lightgreen;\">o</span><span style=\"background-color: lightgreen;\"> </span><span style=\"background-color: lightgreen;\">a</span><span style=\"background-color: lightgreen;\">r</span><span style=\"background-color: lightgreen;\">r</span><span style=\"background-color: lightgreen;\">i</span>ve <span style=\"background-color: lightgreen;\">a</span>t <span style=\"background-color: lightgreen;\">t</span><span style=\"background-color: lightgreen;\">h</span>e<span style=\"background-color: lightgreen;\"> </span><span style=\"background-color: lightgreen;\">c</span><span style=\"background-color: lightgreen;\">o</span><span style=\"background-color: lightgreen;\">r</span><span style=\"background-color: lightgreen;\">r</span><span style=\"background-color: lightgreen;\">e</span><span style=\"background-color: lightgreen;\">c</span><span style=\"background-color: lightgreen;\">t</span><span style=\"background-color: lightgreen;\"> </span><span style=\"background-color: lightgreen;\">f</span><span style=\"background-color: lightgreen;\">i</span><span style=\"background-color: lightgreen;\">n</span><span style=\"background-color: lightgreen;\">a</span><span style=\"background-color: lightgreen;\">l</span><span style=\"background-color: lightgreen;\"> </span><span style=\"background-color: lightgreen;\">a</span><span style=\"background-color: lightgreen;\">n</span><span style=\"background-color: lightgreen;\">s</span><span style=\"background-color: lightgreen;\">w</span><span style=\"background-color: lightgreen;\">e</span><span style=\"background-color: lightgreen;\">r</span>.\""
      ],
      "text/plain": [
       "<IPython.core.display.HTML object>"
      ]
     },
     "metadata": {},
     "output_type": "display_data"
    },
    {
     "data": {
      "text/html": [
       "<pre style=\"white-space:pre;overflow-x:auto;line-height:normal;font-family:Menlo,'DejaVu Sans Mono',consolas,'Courier New',monospace\">Train is done!\n",
       "</pre>\n"
      ],
      "text/plain": [
       "Train is done!\n"
      ]
     },
     "metadata": {},
     "output_type": "display_data"
    },
    {
     "data": {
      "text/html": [
       "<pre style=\"white-space:pre;overflow-x:auto;line-height:normal;font-family:Menlo,'DejaVu Sans Mono',consolas,'Courier New',monospace\">\n",
       "\n",
       "=&gt; Iteration #<span style=\"color: #008080; text-decoration-color: #008080; font-weight: bold\">2</span>: Getting feedback, analyzing and improving <span style=\"color: #808000; text-decoration-color: #808000\">...</span>\n",
       "</pre>\n"
      ],
      "text/plain": [
       "\n",
       "\n",
       "=> Iteration #\u001b[1;36m2\u001b[0m: Getting feedback, analyzing and improving \u001b[33m...\u001b[0m\n"
      ]
     },
     "metadata": {},
     "output_type": "display_data"
    },
    {
     "data": {
      "text/html": [
       "<pre style=\"white-space:pre;overflow-x:auto;line-height:normal;font-family:Menlo,'DejaVu Sans Mono',consolas,'Courier New',monospace\">Applying skill: math_solver\n",
       "</pre>\n"
      ],
      "text/plain": [
       "Applying skill: math_solver\n"
      ]
     },
     "metadata": {},
     "output_type": "display_data"
    },
    {
     "name": "stderr",
     "output_type": "stream",
     "text": [
      "  0%|          | 0/5 [00:00<?, ?it/s]"
     ]
    },
    {
     "data": {
      "text/html": [
       "<pre style=\"white-space:pre;overflow-x:auto;line-height:normal;font-family:Menlo,'DejaVu Sans Mono',consolas,'Courier New',monospace\"><span style=\"font-weight: bold\">{</span><span style=\"color: #008000; text-decoration-color: #008000\">'question'</span>: <span style=\"color: #008000; text-decoration-color: #008000\">'There are 100 lions in Londolozi at first. If lion cubs are born at the rate of 5 per month and lions</span>\n",
       "<span style=\"color: #008000; text-decoration-color: #008000\">die at the rate of 1 per month, how many lions will there be in Londolozi after 1 year?'</span>, <span style=\"color: #008000; text-decoration-color: #008000\">'answer'</span>: <span style=\"color: #008000; text-decoration-color: #008000\">'There are </span>\n",
       "<span style=\"color: #008000; text-decoration-color: #008000\">5-1=&lt;&lt;5-1=4&gt;&gt;4 more lions each month.\\nThere will be 4*12=&lt;&lt;4*12=48&gt;&gt;48 more lions after 1 year.\\nThere will be </span>\n",
       "<span style=\"color: #008000; text-decoration-color: #008000\">100+48=&lt;&lt;100+48=148&gt;&gt;148 lions in Londolozi after 1 year.\\n#### 148'</span><span style=\"font-weight: bold\">}</span>\n",
       "</pre>\n"
      ],
      "text/plain": [
       "\u001b[1m{\u001b[0m\u001b[32m'question'\u001b[0m: \u001b[32m'There are 100 lions in Londolozi at first. If lion cubs are born at the rate of 5 per month and lions\u001b[0m\n",
       "\u001b[32mdie at the rate of 1 per month, how many lions will there be in Londolozi after 1 year?'\u001b[0m, \u001b[32m'answer'\u001b[0m: \u001b[32m'There are \u001b[0m\n",
       "\u001b[32m5-\u001b[0m\u001b[32m1\u001b[0m\u001b[32m=\u001b[0m\u001b[32m<\u001b[0m\u001b[32m<5-\u001b[0m\u001b[32m1\u001b[0m\u001b[32m=\u001b[0m\u001b[32m4\u001b[0m\u001b[32m>>4 more lions each month.\\nThere will be 4*\u001b[0m\u001b[32m12\u001b[0m\u001b[32m=<<4*\u001b[0m\u001b[32m12\u001b[0m\u001b[32m=\u001b[0m\u001b[32m48\u001b[0m\u001b[32m>>48 more lions after 1 year.\\nThere will be \u001b[0m\n",
       "\u001b[32m100+\u001b[0m\u001b[32m48\u001b[0m\u001b[32m=<<100+\u001b[0m\u001b[32m48\u001b[0m\u001b[32m=\u001b[0m\u001b[32m148\u001b[0m\u001b[32m>\u001b[0m\u001b[32m>\u001b[0m\u001b[32m148 lions in Londolozi after 1 year.\\n#### 148'\u001b[0m\u001b[1m}\u001b[0m\n"
      ]
     },
     "metadata": {},
     "output_type": "display_data"
    },
    {
     "name": "stderr",
     "output_type": "stream",
     "text": [
      " 40%|████      | 2/5 [00:04<00:07,  2.33s/it]"
     ]
    },
    {
     "data": {
      "text/html": [
       "<pre style=\"white-space:pre;overflow-x:auto;line-height:normal;font-family:Menlo,'DejaVu Sans Mono',consolas,'Courier New',monospace\"><span style=\"font-weight: bold\">{</span><span style=\"color: #008000; text-decoration-color: #008000\">'question'</span>: <span style=\"color: #008000; text-decoration-color: #008000\">'Marla is planning the lunch menu for an elementary school. There are 5 third grade classes with 30 </span>\n",
       "<span style=\"color: #008000; text-decoration-color: #008000\">students each, 4 fourth grade classes with 28 students each, and 4 fifth grade classes with 27 students each. Each </span>\n",
       "<span style=\"color: #008000; text-decoration-color: #008000\">student gets a hamburger, which costs $2.10, some carrots, which cost $0.50, and a cookie, which cost $0.20. How </span>\n",
       "<span style=\"color: #008000; text-decoration-color: #008000\">much does one lunch for all the students cost?'</span>, <span style=\"color: #008000; text-decoration-color: #008000\">'answer'</span>: <span style=\"color: #008000; text-decoration-color: #008000\">'First find the total number of students in third grade </span>\n",
       "<span style=\"color: #008000; text-decoration-color: #008000\">5 classes * 30 students/class = &lt;&lt;5*30=150&gt;&gt;150 students\\nThen find the total number of students in fourth grade 4 </span>\n",
       "<span style=\"color: #008000; text-decoration-color: #008000\">classes * 28 students/class = &lt;&lt;4*28=112&gt;&gt;112 students\\nThen find the total number of student in fifth grade 4 </span>\n",
       "<span style=\"color: #008000; text-decoration-color: #008000\">classes * 27 students/class = &lt;&lt;4*27=108&gt;&gt;108 students\\nNow add the number of students in each grade to find the </span>\n",
       "<span style=\"color: #008000; text-decoration-color: #008000\">total number of students 150 students + 112 students + 108 students = &lt;&lt;150+112+108=370&gt;&gt;370 students\\nNow find the</span>\n",
       "<span style=\"color: #008000; text-decoration-color: #008000\">total cost of one lunch $2.10 + $0.50 + $0.20 = $&lt;&lt;2.10+0.50+0.20=2.80&gt;&gt;2.80\\nNow multiply that cost by the number </span>\n",
       "<span style=\"color: #008000; text-decoration-color: #008000\">of students to find the total cost for the school $2.80/student * 370 students = $&lt;&lt;2.80*370=1036&gt;&gt;1036\\n#### </span>\n",
       "<span style=\"color: #008000; text-decoration-color: #008000\">1036'</span><span style=\"font-weight: bold\">}</span>\n",
       "</pre>\n"
      ],
      "text/plain": [
       "\u001b[1m{\u001b[0m\u001b[32m'question'\u001b[0m: \u001b[32m'Marla is planning the lunch menu for an elementary school. There are 5 third grade classes with 30 \u001b[0m\n",
       "\u001b[32mstudents each, 4 fourth grade classes with 28 students each, and 4 fifth grade classes with 27 students each. Each \u001b[0m\n",
       "\u001b[32mstudent gets a hamburger, which costs $2.10, some carrots, which cost $0.50, and a cookie, which cost $0.20. How \u001b[0m\n",
       "\u001b[32mmuch does one lunch for all the students cost?'\u001b[0m, \u001b[32m'answer'\u001b[0m: \u001b[32m'First find the total number of students in third grade \u001b[0m\n",
       "\u001b[32m5 classes * 30 students/class = \u001b[0m\u001b[32m<\u001b[0m\u001b[32m<5*\u001b[0m\u001b[32m30\u001b[0m\u001b[32m=\u001b[0m\u001b[32m150\u001b[0m\u001b[32m>>150 students\\nThen find the total number of students in fourth grade 4 \u001b[0m\n",
       "\u001b[32mclasses * 28 students/class = <<4*\u001b[0m\u001b[32m28\u001b[0m\u001b[32m=\u001b[0m\u001b[32m112\u001b[0m\u001b[32m>>112 students\\nThen find the total number of student in fifth grade 4 \u001b[0m\n",
       "\u001b[32mclasses * 27 students/class = <<4*\u001b[0m\u001b[32m27\u001b[0m\u001b[32m=\u001b[0m\u001b[32m108\u001b[0m\u001b[32m>>108 students\\nNow add the number of students in each grade to find the \u001b[0m\n",
       "\u001b[32mtotal number of students 150 students + 112 students + 108 students = <<150+112+\u001b[0m\u001b[32m108\u001b[0m\u001b[32m=\u001b[0m\u001b[32m370\u001b[0m\u001b[32m>>370 students\\nNow find the\u001b[0m\n",
       "\u001b[32mtotal cost of one lunch $2.10 + $0.50 + $0.20 = $<<2.10+0.50+0.\u001b[0m\u001b[32m20\u001b[0m\u001b[32m=\u001b[0m\u001b[32m2\u001b[0m\u001b[32m.80>>2.80\\nNow multiply that cost by the number \u001b[0m\n",
       "\u001b[32mof students to find the total cost for the school $2.80/student * 370 students = $<<2.80*\u001b[0m\u001b[32m370\u001b[0m\u001b[32m=\u001b[0m\u001b[32m1036\u001b[0m\u001b[32m>\u001b[0m\u001b[32m>\u001b[0m\u001b[32m1036\\n#### \u001b[0m\n",
       "\u001b[32m1036'\u001b[0m\u001b[1m}\u001b[0m\n"
      ]
     },
     "metadata": {},
     "output_type": "display_data"
    },
    {
     "name": "stderr",
     "output_type": "stream",
     "text": [
      " 60%|██████    | 3/5 [00:10<00:07,  3.85s/it]"
     ]
    },
    {
     "data": {
      "text/html": [
       "<pre style=\"white-space:pre;overflow-x:auto;line-height:normal;font-family:Menlo,'DejaVu Sans Mono',consolas,'Courier New',monospace\"><span style=\"font-weight: bold\">{</span><span style=\"color: #008000; text-decoration-color: #008000\">'question'</span>: <span style=\"color: #008000; text-decoration-color: #008000\">\"Rhonda, Sally, and Diane are members of their school's track team.  The three of them run the </span>\n",
       "<span style=\"color: #008000; text-decoration-color: #008000\">600-meter relay race together. Rhonda runs the first 200 meters of the race, Sally runs the second 200 meters of </span>\n",
       "<span style=\"color: #008000; text-decoration-color: #008000\">the race, and Diane runs the final 200 meters of the race. Rhonda can run 200 meters in 24 seconds.  Sally takes </span>\n",
       "<span style=\"color: #008000; text-decoration-color: #008000\">two seconds longer to run the same distance, while Diane can run 200 meters three seconds faster than Rhonda.  How </span>\n",
       "<span style=\"color: #008000; text-decoration-color: #008000\">many seconds does it take for the three of them to run the 600-meter relay race?\"</span>, <span style=\"color: #008000; text-decoration-color: #008000\">'answer'</span>: <span style=\"color: #008000; text-decoration-color: #008000\">'Sally takes </span>\n",
       "<span style=\"color: #008000; text-decoration-color: #008000\">24+2=&lt;&lt;24+2=26&gt;&gt;26 seconds.\\nDiane takes 24-3=&lt;&lt;24-3=21&gt;&gt;21 seconds.\\nThus, the three take </span>\n",
       "<span style=\"color: #008000; text-decoration-color: #008000\">24+26+21=&lt;&lt;24+26+21=71&gt;&gt;71 seconds to run the 600-meter relay race.\\n#### 71'</span><span style=\"font-weight: bold\">}</span>\n",
       "</pre>\n"
      ],
      "text/plain": [
       "\u001b[1m{\u001b[0m\u001b[32m'question'\u001b[0m: \u001b[32m\"Rhonda, Sally, and Diane are members of their school's track team.  The three of them run the \u001b[0m\n",
       "\u001b[32m600-meter relay race together. Rhonda runs the first 200 meters of the race, Sally runs the second 200 meters of \u001b[0m\n",
       "\u001b[32mthe race, and Diane runs the final 200 meters of the race. Rhonda can run 200 meters in 24 seconds.  Sally takes \u001b[0m\n",
       "\u001b[32mtwo seconds longer to run the same distance, while Diane can run 200 meters three seconds faster than Rhonda.  How \u001b[0m\n",
       "\u001b[32mmany seconds does it take for the three of them to run the 600-meter relay race?\"\u001b[0m, \u001b[32m'answer'\u001b[0m: \u001b[32m'Sally takes \u001b[0m\n",
       "\u001b[32m24+\u001b[0m\u001b[32m2\u001b[0m\u001b[32m=\u001b[0m\u001b[32m<\u001b[0m\u001b[32m<24+\u001b[0m\u001b[32m2\u001b[0m\u001b[32m=\u001b[0m\u001b[32m26\u001b[0m\u001b[32m>>26 seconds.\\nDiane takes 24-\u001b[0m\u001b[32m3\u001b[0m\u001b[32m=<<24-\u001b[0m\u001b[32m3\u001b[0m\u001b[32m=\u001b[0m\u001b[32m21\u001b[0m\u001b[32m>>21 seconds.\\nThus, the three take \u001b[0m\n",
       "\u001b[32m24+26+\u001b[0m\u001b[32m21\u001b[0m\u001b[32m=<<24+26+\u001b[0m\u001b[32m21\u001b[0m\u001b[32m=\u001b[0m\u001b[32m71\u001b[0m\u001b[32m>\u001b[0m\u001b[32m>\u001b[0m\u001b[32m71 seconds to run the 600-meter relay race.\\n#### 71'\u001b[0m\u001b[1m}\u001b[0m\n"
      ]
     },
     "metadata": {},
     "output_type": "display_data"
    },
    {
     "name": "stderr",
     "output_type": "stream",
     "text": [
      " 80%|████████  | 4/5 [00:15<00:04,  4.28s/it]"
     ]
    },
    {
     "data": {
      "text/html": [
       "<pre style=\"white-space:pre;overflow-x:auto;line-height:normal;font-family:Menlo,'DejaVu Sans Mono',consolas,'Courier New',monospace\"><span style=\"font-weight: bold\">{</span><span style=\"color: #008000; text-decoration-color: #008000\">'question'</span>: <span style=\"color: #008000; text-decoration-color: #008000\">'Milly is making croissants. She needs to fold the dough 4 times, which takes 5 minutes each time, </span>\n",
       "<span style=\"color: #008000; text-decoration-color: #008000\">then let it rest for 75 minutes each time. If mixing the ingredients takes 10 minutes and baking the croissants </span>\n",
       "<span style=\"color: #008000; text-decoration-color: #008000\">takes 30 minutes, how many hours does the whole process take?'</span>, <span style=\"color: #008000; text-decoration-color: #008000\">'answer'</span>: <span style=\"color: #008000; text-decoration-color: #008000\">'First finding the time to fold the dough</span>\n",
       "<span style=\"color: #008000; text-decoration-color: #008000\">and let it rest one time: 5 minutes + 75 minutes = &lt;&lt;5+75=80&gt;&gt;80 minutes\\nThen find the total time spent folding </span>\n",
       "<span style=\"color: #008000; text-decoration-color: #008000\">and resting the dough: 80 minutes/time * 4 times = &lt;&lt;80*4=320&gt;&gt;320 minutes\\nThen add the mixing and baking time: </span>\n",
       "<span style=\"color: #008000; text-decoration-color: #008000\">320 minutes + 30 minutes + 10 minutes = &lt;&lt;320+30+10=360&gt;&gt;360 minutes\\nThen divide that number by the number of </span>\n",
       "<span style=\"color: #008000; text-decoration-color: #008000\">minutes per hour to find the total time in hours: 360 minutes / 60 minutes/hour = &lt;&lt;360/60=6&gt;&gt;6 hours\\n#### 6'</span><span style=\"font-weight: bold\">}</span>\n",
       "</pre>\n"
      ],
      "text/plain": [
       "\u001b[1m{\u001b[0m\u001b[32m'question'\u001b[0m: \u001b[32m'Milly is making croissants. She needs to fold the dough 4 times, which takes 5 minutes each time, \u001b[0m\n",
       "\u001b[32mthen let it rest for 75 minutes each time. If mixing the ingredients takes 10 minutes and baking the croissants \u001b[0m\n",
       "\u001b[32mtakes 30 minutes, how many hours does the whole process take?'\u001b[0m, \u001b[32m'answer'\u001b[0m: \u001b[32m'First finding the time to fold the dough\u001b[0m\n",
       "\u001b[32mand let it rest one time: 5 minutes + 75 minutes = \u001b[0m\u001b[32m<\u001b[0m\u001b[32m<5+\u001b[0m\u001b[32m75\u001b[0m\u001b[32m=\u001b[0m\u001b[32m80\u001b[0m\u001b[32m>>80 minutes\\nThen find the total time spent folding \u001b[0m\n",
       "\u001b[32mand resting the dough: 80 minutes/time * 4 times = <<80*\u001b[0m\u001b[32m4\u001b[0m\u001b[32m=\u001b[0m\u001b[32m320\u001b[0m\u001b[32m>>320 minutes\\nThen add the mixing and baking time: \u001b[0m\n",
       "\u001b[32m320 minutes + 30 minutes + 10 minutes = <<320+30+\u001b[0m\u001b[32m10\u001b[0m\u001b[32m=\u001b[0m\u001b[32m360\u001b[0m\u001b[32m>>360 minutes\\nThen divide that number by the number of \u001b[0m\n",
       "\u001b[32mminutes per hour to find the total time in hours: 360 minutes / 60 minutes/hour = <<360/\u001b[0m\u001b[32m60\u001b[0m\u001b[32m=\u001b[0m\u001b[32m6\u001b[0m\u001b[32m>\u001b[0m\u001b[32m>\u001b[0m\u001b[32m6 hours\\n#### 6'\u001b[0m\u001b[1m}\u001b[0m\n"
      ]
     },
     "metadata": {},
     "output_type": "display_data"
    },
    {
     "name": "stderr",
     "output_type": "stream",
     "text": [
      "100%|██████████| 5/5 [00:22<00:00,  5.06s/it]"
     ]
    },
    {
     "data": {
      "text/html": [
       "<pre style=\"white-space:pre;overflow-x:auto;line-height:normal;font-family:Menlo,'DejaVu Sans Mono',consolas,'Courier New',monospace\"><span style=\"font-weight: bold\">{</span><span style=\"color: #008000; text-decoration-color: #008000\">'question'</span>: <span style=\"color: #008000; text-decoration-color: #008000\">\"Five years ago, there were 500 old books in the library. Two years ago, the librarian bought 300 </span>\n",
       "<span style=\"color: #008000; text-decoration-color: #008000\">books. Last year, the librarian bought 100 more books than she had bought the previous year. This year, the </span>\n",
       "<span style=\"color: #008000; text-decoration-color: #008000\">librarian donated 200 of the library's old books. How many books are in the library now?\"</span>, <span style=\"color: #008000; text-decoration-color: #008000\">'answer'</span>: <span style=\"color: #008000; text-decoration-color: #008000\">'Last year the</span>\n",
       "<span style=\"color: #008000; text-decoration-color: #008000\">librarian bought 300 + 100 = &lt;&lt;300+100=400&gt;&gt;400 books.\\nThus, there were 500 + 300 + 400 = &lt;&lt;500+300+400=1200&gt;&gt;1200</span>\n",
       "<span style=\"color: #008000; text-decoration-color: #008000\">books as of last year.\\nTherefore, there are 1200 - 200 = &lt;&lt;1200-200=1000&gt;&gt;1000 books now in the library.\\n#### </span>\n",
       "<span style=\"color: #008000; text-decoration-color: #008000\">1000'</span><span style=\"font-weight: bold\">}</span>\n",
       "</pre>\n"
      ],
      "text/plain": [
       "\u001b[1m{\u001b[0m\u001b[32m'question'\u001b[0m: \u001b[32m\"Five years ago, there were 500 old books in the library. Two years ago, the librarian bought 300 \u001b[0m\n",
       "\u001b[32mbooks. Last year, the librarian bought 100 more books than she had bought the previous year. This year, the \u001b[0m\n",
       "\u001b[32mlibrarian donated 200 of the library's old books. How many books are in the library now?\"\u001b[0m, \u001b[32m'answer'\u001b[0m: \u001b[32m'Last year the\u001b[0m\n",
       "\u001b[32mlibrarian bought 300 + 100 = \u001b[0m\u001b[32m<\u001b[0m\u001b[32m<300+\u001b[0m\u001b[32m100\u001b[0m\u001b[32m=\u001b[0m\u001b[32m400\u001b[0m\u001b[32m>>400 books.\\nThus, there were 500 + 300 + 400 = <<500+300+\u001b[0m\u001b[32m400\u001b[0m\u001b[32m=\u001b[0m\u001b[32m1200\u001b[0m\u001b[32m>>1200\u001b[0m\n",
       "\u001b[32mbooks as of last year.\\nTherefore, there are 1200 - 200 = <<1200-\u001b[0m\u001b[32m200\u001b[0m\u001b[32m=\u001b[0m\u001b[32m1000\u001b[0m\u001b[32m>\u001b[0m\u001b[32m>\u001b[0m\u001b[32m1000 books now in the library.\\n#### \u001b[0m\n",
       "\u001b[32m1000'\u001b[0m\u001b[1m}\u001b[0m\n"
      ]
     },
     "metadata": {},
     "output_type": "display_data"
    },
    {
     "name": "stderr",
     "output_type": "stream",
     "text": [
      "100%|██████████| 5/5 [00:26<00:00,  5.20s/it]"
     ]
    },
    {
     "name": "stdout",
     "output_type": "stream",
     "text": [
      "Predictions and feedback:\n"
     ]
    },
    {
     "name": "stderr",
     "output_type": "stream",
     "text": [
      "\n"
     ]
    },
    {
     "data": {
      "text/html": [
       "<pre style=\"white-space:pre;overflow-x:auto;line-height:normal;font-family:Menlo,'DejaVu Sans Mono',consolas,'Courier New',monospace\">                                                                                                                   \n",
       " <span style=\"color: #800080; text-decoration-color: #800080; font-weight: bold\"> answer__fb                 </span> <span style=\"color: #800080; text-decoration-color: #800080; font-weight: bold\"> question                  </span> <span style=\"color: #800080; text-decoration-color: #800080; font-weight: bold\"> answer                     </span> <span style=\"color: #800080; text-decoration-color: #800080; font-weight: bold\"> output                    </span> \n",
       " ───────────────────────────────────────────────────────────────────────────────────────────────────────────────── \n",
       "  Incorrect. Must be equal     There are 100 lions in      There will be 164 lions in   nan                        \n",
       "  to There are                 Londolozi at first. If      Londolozi after 1 year.                                 \n",
       "  5-1=&lt;&lt;5-1=4&gt;&gt;4 more lions    lion cubs are born at the                                                           \n",
       "  each month.                  rate of 5 per month and                                                             \n",
       "  There will be                lions die at the rate of                                                            \n",
       "  4*12=&lt;&lt;4*12=48&gt;&gt;48 more      1 per month, how many                                                               \n",
       "  lions after 1 year.          lions will there be in                                                              \n",
       "  There will be                Londolozi after 1 year?                                                             \n",
       "  100+48=&lt;&lt;100+48=148&gt;&gt;148                                                                                         \n",
       "  lions in Londolozi after 1                                                                                       \n",
       "  year.                                                                                                            \n",
       "  #### 148                                                                                                         \n",
       " <span style=\"color: #7f7f7f; text-decoration-color: #7f7f7f\"> Incorrect. Must be equal   </span> <span style=\"color: #7f7f7f; text-decoration-color: #7f7f7f\"> Marla is planning the     </span> <span style=\"color: #7f7f7f; text-decoration-color: #7f7f7f\"> $3,402.00                  </span> <span style=\"color: #7f7f7f; text-decoration-color: #7f7f7f\"> nan                       </span> \n",
       " <span style=\"color: #7f7f7f; text-decoration-color: #7f7f7f\"> to First find the total    </span> <span style=\"color: #7f7f7f; text-decoration-color: #7f7f7f\"> lunch menu for an         </span> <span style=\"color: #7f7f7f; text-decoration-color: #7f7f7f\">                            </span> <span style=\"color: #7f7f7f; text-decoration-color: #7f7f7f\">                           </span> \n",
       " <span style=\"color: #7f7f7f; text-decoration-color: #7f7f7f\"> number of students in      </span> <span style=\"color: #7f7f7f; text-decoration-color: #7f7f7f\"> elementary school. There  </span> <span style=\"color: #7f7f7f; text-decoration-color: #7f7f7f\">                            </span> <span style=\"color: #7f7f7f; text-decoration-color: #7f7f7f\">                           </span> \n",
       " <span style=\"color: #7f7f7f; text-decoration-color: #7f7f7f\"> third grade 5 classes * 30 </span> <span style=\"color: #7f7f7f; text-decoration-color: #7f7f7f\"> are 5 third grade classes </span> <span style=\"color: #7f7f7f; text-decoration-color: #7f7f7f\">                            </span> <span style=\"color: #7f7f7f; text-decoration-color: #7f7f7f\">                           </span> \n",
       " <span style=\"color: #7f7f7f; text-decoration-color: #7f7f7f\"> students/class =           </span> <span style=\"color: #7f7f7f; text-decoration-color: #7f7f7f\"> with 30 students each, 4  </span> <span style=\"color: #7f7f7f; text-decoration-color: #7f7f7f\">                            </span> <span style=\"color: #7f7f7f; text-decoration-color: #7f7f7f\">                           </span> \n",
       " <span style=\"color: #7f7f7f; text-decoration-color: #7f7f7f\"> &lt;&lt;5*30=150&gt;&gt;150 students   </span> <span style=\"color: #7f7f7f; text-decoration-color: #7f7f7f\"> fourth grade classes with </span> <span style=\"color: #7f7f7f; text-decoration-color: #7f7f7f\">                            </span> <span style=\"color: #7f7f7f; text-decoration-color: #7f7f7f\">                           </span> \n",
       " <span style=\"color: #7f7f7f; text-decoration-color: #7f7f7f\"> Then find the total number </span> <span style=\"color: #7f7f7f; text-decoration-color: #7f7f7f\"> 28 students each, and 4   </span> <span style=\"color: #7f7f7f; text-decoration-color: #7f7f7f\">                            </span> <span style=\"color: #7f7f7f; text-decoration-color: #7f7f7f\">                           </span> \n",
       " <span style=\"color: #7f7f7f; text-decoration-color: #7f7f7f\"> of students in fourth      </span> <span style=\"color: #7f7f7f; text-decoration-color: #7f7f7f\"> fifth grade classes with  </span> <span style=\"color: #7f7f7f; text-decoration-color: #7f7f7f\">                            </span> <span style=\"color: #7f7f7f; text-decoration-color: #7f7f7f\">                           </span> \n",
       " <span style=\"color: #7f7f7f; text-decoration-color: #7f7f7f\"> grade 4 classes * 28       </span> <span style=\"color: #7f7f7f; text-decoration-color: #7f7f7f\"> 27 students each. Each    </span> <span style=\"color: #7f7f7f; text-decoration-color: #7f7f7f\">                            </span> <span style=\"color: #7f7f7f; text-decoration-color: #7f7f7f\">                           </span> \n",
       " <span style=\"color: #7f7f7f; text-decoration-color: #7f7f7f\"> students/class =           </span> <span style=\"color: #7f7f7f; text-decoration-color: #7f7f7f\"> student gets a hamburger, </span> <span style=\"color: #7f7f7f; text-decoration-color: #7f7f7f\">                            </span> <span style=\"color: #7f7f7f; text-decoration-color: #7f7f7f\">                           </span> \n",
       " <span style=\"color: #7f7f7f; text-decoration-color: #7f7f7f\"> &lt;&lt;4*28=112&gt;&gt;112 students   </span> <span style=\"color: #7f7f7f; text-decoration-color: #7f7f7f\"> which costs $2.10, some   </span> <span style=\"color: #7f7f7f; text-decoration-color: #7f7f7f\">                            </span> <span style=\"color: #7f7f7f; text-decoration-color: #7f7f7f\">                           </span> \n",
       " <span style=\"color: #7f7f7f; text-decoration-color: #7f7f7f\"> Then find the total number </span> <span style=\"color: #7f7f7f; text-decoration-color: #7f7f7f\"> carrots, which cost       </span> <span style=\"color: #7f7f7f; text-decoration-color: #7f7f7f\">                            </span> <span style=\"color: #7f7f7f; text-decoration-color: #7f7f7f\">                           </span> \n",
       " <span style=\"color: #7f7f7f; text-decoration-color: #7f7f7f\"> of student in fifth grade  </span> <span style=\"color: #7f7f7f; text-decoration-color: #7f7f7f\"> $0.50, and a cookie,      </span> <span style=\"color: #7f7f7f; text-decoration-color: #7f7f7f\">                            </span> <span style=\"color: #7f7f7f; text-decoration-color: #7f7f7f\">                           </span> \n",
       " <span style=\"color: #7f7f7f; text-decoration-color: #7f7f7f\"> 4 classes * 27             </span> <span style=\"color: #7f7f7f; text-decoration-color: #7f7f7f\"> which cost $0.20. How     </span> <span style=\"color: #7f7f7f; text-decoration-color: #7f7f7f\">                            </span> <span style=\"color: #7f7f7f; text-decoration-color: #7f7f7f\">                           </span> \n",
       " <span style=\"color: #7f7f7f; text-decoration-color: #7f7f7f\"> students/class =           </span> <span style=\"color: #7f7f7f; text-decoration-color: #7f7f7f\"> much does one lunch for   </span> <span style=\"color: #7f7f7f; text-decoration-color: #7f7f7f\">                            </span> <span style=\"color: #7f7f7f; text-decoration-color: #7f7f7f\">                           </span> \n",
       " <span style=\"color: #7f7f7f; text-decoration-color: #7f7f7f\"> &lt;&lt;4*27=108&gt;&gt;108 students   </span> <span style=\"color: #7f7f7f; text-decoration-color: #7f7f7f\"> all the students cost?    </span> <span style=\"color: #7f7f7f; text-decoration-color: #7f7f7f\">                            </span> <span style=\"color: #7f7f7f; text-decoration-color: #7f7f7f\">                           </span> \n",
       " <span style=\"color: #7f7f7f; text-decoration-color: #7f7f7f\"> Now add the number of      </span> <span style=\"color: #7f7f7f; text-decoration-color: #7f7f7f\">                           </span> <span style=\"color: #7f7f7f; text-decoration-color: #7f7f7f\">                            </span> <span style=\"color: #7f7f7f; text-decoration-color: #7f7f7f\">                           </span> \n",
       " <span style=\"color: #7f7f7f; text-decoration-color: #7f7f7f\"> students in each grade to  </span> <span style=\"color: #7f7f7f; text-decoration-color: #7f7f7f\">                           </span> <span style=\"color: #7f7f7f; text-decoration-color: #7f7f7f\">                            </span> <span style=\"color: #7f7f7f; text-decoration-color: #7f7f7f\">                           </span> \n",
       " <span style=\"color: #7f7f7f; text-decoration-color: #7f7f7f\"> find the total number of   </span> <span style=\"color: #7f7f7f; text-decoration-color: #7f7f7f\">                           </span> <span style=\"color: #7f7f7f; text-decoration-color: #7f7f7f\">                            </span> <span style=\"color: #7f7f7f; text-decoration-color: #7f7f7f\">                           </span> \n",
       " <span style=\"color: #7f7f7f; text-decoration-color: #7f7f7f\"> students 150 students +    </span> <span style=\"color: #7f7f7f; text-decoration-color: #7f7f7f\">                           </span> <span style=\"color: #7f7f7f; text-decoration-color: #7f7f7f\">                            </span> <span style=\"color: #7f7f7f; text-decoration-color: #7f7f7f\">                           </span> \n",
       " <span style=\"color: #7f7f7f; text-decoration-color: #7f7f7f\"> 112 students + 108         </span> <span style=\"color: #7f7f7f; text-decoration-color: #7f7f7f\">                           </span> <span style=\"color: #7f7f7f; text-decoration-color: #7f7f7f\">                            </span> <span style=\"color: #7f7f7f; text-decoration-color: #7f7f7f\">                           </span> \n",
       " <span style=\"color: #7f7f7f; text-decoration-color: #7f7f7f\"> students =                 </span> <span style=\"color: #7f7f7f; text-decoration-color: #7f7f7f\">                           </span> <span style=\"color: #7f7f7f; text-decoration-color: #7f7f7f\">                            </span> <span style=\"color: #7f7f7f; text-decoration-color: #7f7f7f\">                           </span> \n",
       " <span style=\"color: #7f7f7f; text-decoration-color: #7f7f7f\"> &lt;&lt;150+112+108=370&gt;&gt;370     </span> <span style=\"color: #7f7f7f; text-decoration-color: #7f7f7f\">                           </span> <span style=\"color: #7f7f7f; text-decoration-color: #7f7f7f\">                            </span> <span style=\"color: #7f7f7f; text-decoration-color: #7f7f7f\">                           </span> \n",
       " <span style=\"color: #7f7f7f; text-decoration-color: #7f7f7f\"> students                   </span> <span style=\"color: #7f7f7f; text-decoration-color: #7f7f7f\">                           </span> <span style=\"color: #7f7f7f; text-decoration-color: #7f7f7f\">                            </span> <span style=\"color: #7f7f7f; text-decoration-color: #7f7f7f\">                           </span> \n",
       " <span style=\"color: #7f7f7f; text-decoration-color: #7f7f7f\"> Now find the total cost of </span> <span style=\"color: #7f7f7f; text-decoration-color: #7f7f7f\">                           </span> <span style=\"color: #7f7f7f; text-decoration-color: #7f7f7f\">                            </span> <span style=\"color: #7f7f7f; text-decoration-color: #7f7f7f\">                           </span> \n",
       " <span style=\"color: #7f7f7f; text-decoration-color: #7f7f7f\"> one lunch $2.10 + $0.50 +  </span> <span style=\"color: #7f7f7f; text-decoration-color: #7f7f7f\">                           </span> <span style=\"color: #7f7f7f; text-decoration-color: #7f7f7f\">                            </span> <span style=\"color: #7f7f7f; text-decoration-color: #7f7f7f\">                           </span> \n",
       " <span style=\"color: #7f7f7f; text-decoration-color: #7f7f7f\"> $0.20 =                    </span> <span style=\"color: #7f7f7f; text-decoration-color: #7f7f7f\">                           </span> <span style=\"color: #7f7f7f; text-decoration-color: #7f7f7f\">                            </span> <span style=\"color: #7f7f7f; text-decoration-color: #7f7f7f\">                           </span> \n",
       " <span style=\"color: #7f7f7f; text-decoration-color: #7f7f7f\"> $&lt;&lt;2.10+0.50+0.20=2.80&gt;&gt;2… </span> <span style=\"color: #7f7f7f; text-decoration-color: #7f7f7f\">                           </span> <span style=\"color: #7f7f7f; text-decoration-color: #7f7f7f\">                            </span> <span style=\"color: #7f7f7f; text-decoration-color: #7f7f7f\">                           </span> \n",
       " <span style=\"color: #7f7f7f; text-decoration-color: #7f7f7f\"> Now multiply that cost by  </span> <span style=\"color: #7f7f7f; text-decoration-color: #7f7f7f\">                           </span> <span style=\"color: #7f7f7f; text-decoration-color: #7f7f7f\">                            </span> <span style=\"color: #7f7f7f; text-decoration-color: #7f7f7f\">                           </span> \n",
       " <span style=\"color: #7f7f7f; text-decoration-color: #7f7f7f\"> the number of students to  </span> <span style=\"color: #7f7f7f; text-decoration-color: #7f7f7f\">                           </span> <span style=\"color: #7f7f7f; text-decoration-color: #7f7f7f\">                            </span> <span style=\"color: #7f7f7f; text-decoration-color: #7f7f7f\">                           </span> \n",
       " <span style=\"color: #7f7f7f; text-decoration-color: #7f7f7f\"> find the total cost for    </span> <span style=\"color: #7f7f7f; text-decoration-color: #7f7f7f\">                           </span> <span style=\"color: #7f7f7f; text-decoration-color: #7f7f7f\">                            </span> <span style=\"color: #7f7f7f; text-decoration-color: #7f7f7f\">                           </span> \n",
       " <span style=\"color: #7f7f7f; text-decoration-color: #7f7f7f\"> the school $2.80/student * </span> <span style=\"color: #7f7f7f; text-decoration-color: #7f7f7f\">                           </span> <span style=\"color: #7f7f7f; text-decoration-color: #7f7f7f\">                            </span> <span style=\"color: #7f7f7f; text-decoration-color: #7f7f7f\">                           </span> \n",
       " <span style=\"color: #7f7f7f; text-decoration-color: #7f7f7f\"> 370 students =             </span> <span style=\"color: #7f7f7f; text-decoration-color: #7f7f7f\">                           </span> <span style=\"color: #7f7f7f; text-decoration-color: #7f7f7f\">                            </span> <span style=\"color: #7f7f7f; text-decoration-color: #7f7f7f\">                           </span> \n",
       " <span style=\"color: #7f7f7f; text-decoration-color: #7f7f7f\"> $&lt;&lt;2.80*370=1036&gt;&gt;1036     </span> <span style=\"color: #7f7f7f; text-decoration-color: #7f7f7f\">                           </span> <span style=\"color: #7f7f7f; text-decoration-color: #7f7f7f\">                            </span> <span style=\"color: #7f7f7f; text-decoration-color: #7f7f7f\">                           </span> \n",
       " <span style=\"color: #7f7f7f; text-decoration-color: #7f7f7f\"> #### 1036                  </span> <span style=\"color: #7f7f7f; text-decoration-color: #7f7f7f\">                           </span> <span style=\"color: #7f7f7f; text-decoration-color: #7f7f7f\">                            </span> <span style=\"color: #7f7f7f; text-decoration-color: #7f7f7f\">                           </span> \n",
       "  Incorrect. Must be equal     Rhonda, Sally, and Diane    71                           nan                        \n",
       "  to Sally takes               are members of their                                                                \n",
       "  24+2=&lt;&lt;24+2=26&gt;&gt;26           school's track team.  The                                                           \n",
       "  seconds.                     three of them run the                                                               \n",
       "  Diane takes                  600-meter relay race                                                                \n",
       "  24-3=&lt;&lt;24-3=21&gt;&gt;21           together. Rhonda runs the                                                           \n",
       "  seconds.                     first 200 meters of the                                                             \n",
       "  Thus, the three take         race, Sally runs the                                                                \n",
       "  24+26+21=&lt;&lt;24+26+21=71&gt;&gt;71   second 200 meters of the                                                            \n",
       "  seconds to run the           race, and Diane runs the                                                            \n",
       "  600-meter relay race.        final 200 meters of the                                                             \n",
       "  #### 71                      race. Rhonda can run 200                                                            \n",
       "                               meters in 24 seconds.                                                               \n",
       "                               Sally takes two seconds                                                             \n",
       "                               longer to run the same                                                              \n",
       "                               distance, while Diane can                                                           \n",
       "                               run 200 meters three                                                                \n",
       "                               seconds faster than                                                                 \n",
       "                               Rhonda.  How many seconds                                                           \n",
       "                               does it take for the                                                                \n",
       "                               three of them to run the                                                            \n",
       "                               600-meter relay race?                                                               \n",
       " <span style=\"color: #7f7f7f; text-decoration-color: #7f7f7f\"> nan                        </span> <span style=\"color: #7f7f7f; text-decoration-color: #7f7f7f\"> Milly is making           </span> <span style=\"color: #7f7f7f; text-decoration-color: #7f7f7f\"> nan                        </span> <span style=\"color: #7f7f7f; text-decoration-color: #7f7f7f\"> To calculate the total    </span> \n",
       " <span style=\"color: #7f7f7f; text-decoration-color: #7f7f7f\">                            </span> <span style=\"color: #7f7f7f; text-decoration-color: #7f7f7f\"> croissants. She needs to  </span> <span style=\"color: #7f7f7f; text-decoration-color: #7f7f7f\">                            </span> <span style=\"color: #7f7f7f; text-decoration-color: #7f7f7f\"> time it takes to make the </span> \n",
       " <span style=\"color: #7f7f7f; text-decoration-color: #7f7f7f\">                            </span> <span style=\"color: #7f7f7f; text-decoration-color: #7f7f7f\"> fold the dough 4 times,   </span> <span style=\"color: #7f7f7f; text-decoration-color: #7f7f7f\">                            </span> <span style=\"color: #7f7f7f; text-decoration-color: #7f7f7f\"> croissants, we need to    </span> \n",
       " <span style=\"color: #7f7f7f; text-decoration-color: #7f7f7f\">                            </span> <span style=\"color: #7f7f7f; text-decoration-color: #7f7f7f\"> which takes 5 minutes     </span> <span style=\"color: #7f7f7f; text-decoration-color: #7f7f7f\">                            </span> <span style=\"color: #7f7f7f; text-decoration-color: #7f7f7f\"> consider each step of the </span> \n",
       " <span style=\"color: #7f7f7f; text-decoration-color: #7f7f7f\">                            </span> <span style=\"color: #7f7f7f; text-decoration-color: #7f7f7f\"> each time, then let it    </span> <span style=\"color: #7f7f7f; text-decoration-color: #7f7f7f\">                            </span> <span style=\"color: #7f7f7f; text-decoration-color: #7f7f7f\"> process.                  </span> \n",
       " <span style=\"color: #7f7f7f; text-decoration-color: #7f7f7f\">                            </span> <span style=\"color: #7f7f7f; text-decoration-color: #7f7f7f\"> rest for 75 minutes each  </span> <span style=\"color: #7f7f7f; text-decoration-color: #7f7f7f\">                            </span> <span style=\"color: #7f7f7f; text-decoration-color: #7f7f7f\">                           </span> \n",
       " <span style=\"color: #7f7f7f; text-decoration-color: #7f7f7f\">                            </span> <span style=\"color: #7f7f7f; text-decoration-color: #7f7f7f\"> time. If mixing the       </span> <span style=\"color: #7f7f7f; text-decoration-color: #7f7f7f\">                            </span> <span style=\"color: #7f7f7f; text-decoration-color: #7f7f7f\"> 1. Folding the dough:     </span> \n",
       " <span style=\"color: #7f7f7f; text-decoration-color: #7f7f7f\">                            </span> <span style=\"color: #7f7f7f; text-decoration-color: #7f7f7f\"> ingredients takes 10      </span> <span style=\"color: #7f7f7f; text-decoration-color: #7f7f7f\">                            </span> <span style=\"color: #7f7f7f; text-decoration-color: #7f7f7f\"> Milly needs to fold the   </span> \n",
       " <span style=\"color: #7f7f7f; text-decoration-color: #7f7f7f\">                            </span> <span style=\"color: #7f7f7f; text-decoration-color: #7f7f7f\"> minutes and baking the    </span> <span style=\"color: #7f7f7f; text-decoration-color: #7f7f7f\">                            </span> <span style=\"color: #7f7f7f; text-decoration-color: #7f7f7f\"> dough 4 times, and each   </span> \n",
       " <span style=\"color: #7f7f7f; text-decoration-color: #7f7f7f\">                            </span> <span style=\"color: #7f7f7f; text-decoration-color: #7f7f7f\"> croissants takes 30       </span> <span style=\"color: #7f7f7f; text-decoration-color: #7f7f7f\">                            </span> <span style=\"color: #7f7f7f; text-decoration-color: #7f7f7f\"> fold takes 5 minutes. So  </span> \n",
       " <span style=\"color: #7f7f7f; text-decoration-color: #7f7f7f\">                            </span> <span style=\"color: #7f7f7f; text-decoration-color: #7f7f7f\"> minutes, how many hours   </span> <span style=\"color: #7f7f7f; text-decoration-color: #7f7f7f\">                            </span> <span style=\"color: #7f7f7f; text-decoration-color: #7f7f7f\"> the total time for        </span> \n",
       " <span style=\"color: #7f7f7f; text-decoration-color: #7f7f7f\">                            </span> <span style=\"color: #7f7f7f; text-decoration-color: #7f7f7f\"> does the whole process    </span> <span style=\"color: #7f7f7f; text-decoration-color: #7f7f7f\">                            </span> <span style=\"color: #7f7f7f; text-decoration-color: #7f7f7f\"> folding the dough is 4 *  </span> \n",
       " <span style=\"color: #7f7f7f; text-decoration-color: #7f7f7f\">                            </span> <span style=\"color: #7f7f7f; text-decoration-color: #7f7f7f\"> take?                     </span> <span style=\"color: #7f7f7f; text-decoration-color: #7f7f7f\">                            </span> <span style=\"color: #7f7f7f; text-decoration-color: #7f7f7f\"> 5 = 20 minutes.           </span> \n",
       " <span style=\"color: #7f7f7f; text-decoration-color: #7f7f7f\">                            </span> <span style=\"color: #7f7f7f; text-decoration-color: #7f7f7f\">                           </span> <span style=\"color: #7f7f7f; text-decoration-color: #7f7f7f\">                            </span> <span style=\"color: #7f7f7f; text-decoration-color: #7f7f7f\">                           </span> \n",
       " <span style=\"color: #7f7f7f; text-decoration-color: #7f7f7f\">                            </span> <span style=\"color: #7f7f7f; text-decoration-color: #7f7f7f\">                           </span> <span style=\"color: #7f7f7f; text-decoration-color: #7f7f7f\">                            </span> <span style=\"color: #7f7f7f; text-decoration-color: #7f7f7f\"> 2. Letting the dough      </span> \n",
       " <span style=\"color: #7f7f7f; text-decoration-color: #7f7f7f\">                            </span> <span style=\"color: #7f7f7f; text-decoration-color: #7f7f7f\">                           </span> <span style=\"color: #7f7f7f; text-decoration-color: #7f7f7f\">                            </span> <span style=\"color: #7f7f7f; text-decoration-color: #7f7f7f\"> rest: After each fold,    </span> \n",
       " <span style=\"color: #7f7f7f; text-decoration-color: #7f7f7f\">                            </span> <span style=\"color: #7f7f7f; text-decoration-color: #7f7f7f\">                           </span> <span style=\"color: #7f7f7f; text-decoration-color: #7f7f7f\">                            </span> <span style=\"color: #7f7f7f; text-decoration-color: #7f7f7f\"> Milly needs to let the    </span> \n",
       " <span style=\"color: #7f7f7f; text-decoration-color: #7f7f7f\">                            </span> <span style=\"color: #7f7f7f; text-decoration-color: #7f7f7f\">                           </span> <span style=\"color: #7f7f7f; text-decoration-color: #7f7f7f\">                            </span> <span style=\"color: #7f7f7f; text-decoration-color: #7f7f7f\"> dough rest for 75         </span> \n",
       " <span style=\"color: #7f7f7f; text-decoration-color: #7f7f7f\">                            </span> <span style=\"color: #7f7f7f; text-decoration-color: #7f7f7f\">                           </span> <span style=\"color: #7f7f7f; text-decoration-color: #7f7f7f\">                            </span> <span style=\"color: #7f7f7f; text-decoration-color: #7f7f7f\"> minutes. Since she folds  </span> \n",
       " <span style=\"color: #7f7f7f; text-decoration-color: #7f7f7f\">                            </span> <span style=\"color: #7f7f7f; text-decoration-color: #7f7f7f\">                           </span> <span style=\"color: #7f7f7f; text-decoration-color: #7f7f7f\">                            </span> <span style=\"color: #7f7f7f; text-decoration-color: #7f7f7f\"> the dough 4 times, the    </span> \n",
       " <span style=\"color: #7f7f7f; text-decoration-color: #7f7f7f\">                            </span> <span style=\"color: #7f7f7f; text-decoration-color: #7f7f7f\">                           </span> <span style=\"color: #7f7f7f; text-decoration-color: #7f7f7f\">                            </span> <span style=\"color: #7f7f7f; text-decoration-color: #7f7f7f\"> total time for letting    </span> \n",
       " <span style=\"color: #7f7f7f; text-decoration-color: #7f7f7f\">                            </span> <span style=\"color: #7f7f7f; text-decoration-color: #7f7f7f\">                           </span> <span style=\"color: #7f7f7f; text-decoration-color: #7f7f7f\">                            </span> <span style=\"color: #7f7f7f; text-decoration-color: #7f7f7f\"> the dough rest is 4 * 75  </span> \n",
       " <span style=\"color: #7f7f7f; text-decoration-color: #7f7f7f\">                            </span> <span style=\"color: #7f7f7f; text-decoration-color: #7f7f7f\">                           </span> <span style=\"color: #7f7f7f; text-decoration-color: #7f7f7f\">                            </span> <span style=\"color: #7f7f7f; text-decoration-color: #7f7f7f\"> = 300 minutes.            </span> \n",
       " <span style=\"color: #7f7f7f; text-decoration-color: #7f7f7f\">                            </span> <span style=\"color: #7f7f7f; text-decoration-color: #7f7f7f\">                           </span> <span style=\"color: #7f7f7f; text-decoration-color: #7f7f7f\">                            </span> <span style=\"color: #7f7f7f; text-decoration-color: #7f7f7f\">                           </span> \n",
       " <span style=\"color: #7f7f7f; text-decoration-color: #7f7f7f\">                            </span> <span style=\"color: #7f7f7f; text-decoration-color: #7f7f7f\">                           </span> <span style=\"color: #7f7f7f; text-decoration-color: #7f7f7f\">                            </span> <span style=\"color: #7f7f7f; text-decoration-color: #7f7f7f\"> 3. Mixing the             </span> \n",
       " <span style=\"color: #7f7f7f; text-decoration-color: #7f7f7f\">                            </span> <span style=\"color: #7f7f7f; text-decoration-color: #7f7f7f\">                           </span> <span style=\"color: #7f7f7f; text-decoration-color: #7f7f7f\">                            </span> <span style=\"color: #7f7f7f; text-decoration-color: #7f7f7f\"> ingredients: Mixing the   </span> \n",
       " <span style=\"color: #7f7f7f; text-decoration-color: #7f7f7f\">                            </span> <span style=\"color: #7f7f7f; text-decoration-color: #7f7f7f\">                           </span> <span style=\"color: #7f7f7f; text-decoration-color: #7f7f7f\">                            </span> <span style=\"color: #7f7f7f; text-decoration-color: #7f7f7f\"> ingredients takes 10      </span> \n",
       " <span style=\"color: #7f7f7f; text-decoration-color: #7f7f7f\">                            </span> <span style=\"color: #7f7f7f; text-decoration-color: #7f7f7f\">                           </span> <span style=\"color: #7f7f7f; text-decoration-color: #7f7f7f\">                            </span> <span style=\"color: #7f7f7f; text-decoration-color: #7f7f7f\"> minutes.                  </span> \n",
       " <span style=\"color: #7f7f7f; text-decoration-color: #7f7f7f\">                            </span> <span style=\"color: #7f7f7f; text-decoration-color: #7f7f7f\">                           </span> <span style=\"color: #7f7f7f; text-decoration-color: #7f7f7f\">                            </span> <span style=\"color: #7f7f7f; text-decoration-color: #7f7f7f\">                           </span> \n",
       " <span style=\"color: #7f7f7f; text-decoration-color: #7f7f7f\">                            </span> <span style=\"color: #7f7f7f; text-decoration-color: #7f7f7f\">                           </span> <span style=\"color: #7f7f7f; text-decoration-color: #7f7f7f\">                            </span> <span style=\"color: #7f7f7f; text-decoration-color: #7f7f7f\"> 4. Baking the croissants: </span> \n",
       " <span style=\"color: #7f7f7f; text-decoration-color: #7f7f7f\">                            </span> <span style=\"color: #7f7f7f; text-decoration-color: #7f7f7f\">                           </span> <span style=\"color: #7f7f7f; text-decoration-color: #7f7f7f\">                            </span> <span style=\"color: #7f7f7f; text-decoration-color: #7f7f7f\"> Baking the croissants     </span> \n",
       " <span style=\"color: #7f7f7f; text-decoration-color: #7f7f7f\">                            </span> <span style=\"color: #7f7f7f; text-decoration-color: #7f7f7f\">                           </span> <span style=\"color: #7f7f7f; text-decoration-color: #7f7f7f\">                            </span> <span style=\"color: #7f7f7f; text-decoration-color: #7f7f7f\"> takes 30 minutes.         </span> \n",
       " <span style=\"color: #7f7f7f; text-decoration-color: #7f7f7f\">                            </span> <span style=\"color: #7f7f7f; text-decoration-color: #7f7f7f\">                           </span> <span style=\"color: #7f7f7f; text-decoration-color: #7f7f7f\">                            </span> <span style=\"color: #7f7f7f; text-decoration-color: #7f7f7f\">                           </span> \n",
       " <span style=\"color: #7f7f7f; text-decoration-color: #7f7f7f\">                            </span> <span style=\"color: #7f7f7f; text-decoration-color: #7f7f7f\">                           </span> <span style=\"color: #7f7f7f; text-decoration-color: #7f7f7f\">                            </span> <span style=\"color: #7f7f7f; text-decoration-color: #7f7f7f\"> Now, let's calculate the  </span> \n",
       " <span style=\"color: #7f7f7f; text-decoration-color: #7f7f7f\">                            </span> <span style=\"color: #7f7f7f; text-decoration-color: #7f7f7f\">                           </span> <span style=\"color: #7f7f7f; text-decoration-color: #7f7f7f\">                            </span> <span style=\"color: #7f7f7f; text-decoration-color: #7f7f7f\"> total time:               </span> \n",
       " <span style=\"color: #7f7f7f; text-decoration-color: #7f7f7f\">                            </span> <span style=\"color: #7f7f7f; text-decoration-color: #7f7f7f\">                           </span> <span style=\"color: #7f7f7f; text-decoration-color: #7f7f7f\">                            </span> <span style=\"color: #7f7f7f; text-decoration-color: #7f7f7f\">                           </span> \n",
       " <span style=\"color: #7f7f7f; text-decoration-color: #7f7f7f\">                            </span> <span style=\"color: #7f7f7f; text-decoration-color: #7f7f7f\">                           </span> <span style=\"color: #7f7f7f; text-decoration-color: #7f7f7f\">                            </span> <span style=\"color: #7f7f7f; text-decoration-color: #7f7f7f\"> Total time = Folding the  </span> \n",
       " <span style=\"color: #7f7f7f; text-decoration-color: #7f7f7f\">                            </span> <span style=\"color: #7f7f7f; text-decoration-color: #7f7f7f\">                           </span> <span style=\"color: #7f7f7f; text-decoration-color: #7f7f7f\">                            </span> <span style=\"color: #7f7f7f; text-decoration-color: #7f7f7f\"> dough + Letting the dough </span> \n",
       " <span style=\"color: #7f7f7f; text-decoration-color: #7f7f7f\">                            </span> <span style=\"color: #7f7f7f; text-decoration-color: #7f7f7f\">                           </span> <span style=\"color: #7f7f7f; text-decoration-color: #7f7f7f\">                            </span> <span style=\"color: #7f7f7f; text-decoration-color: #7f7f7f\"> rest + Mixing the         </span> \n",
       " <span style=\"color: #7f7f7f; text-decoration-color: #7f7f7f\">                            </span> <span style=\"color: #7f7f7f; text-decoration-color: #7f7f7f\">                           </span> <span style=\"color: #7f7f7f; text-decoration-color: #7f7f7f\">                            </span> <span style=\"color: #7f7f7f; text-decoration-color: #7f7f7f\"> ingredients + Baking the  </span> \n",
       " <span style=\"color: #7f7f7f; text-decoration-color: #7f7f7f\">                            </span> <span style=\"color: #7f7f7f; text-decoration-color: #7f7f7f\">                           </span> <span style=\"color: #7f7f7f; text-decoration-color: #7f7f7f\">                            </span> <span style=\"color: #7f7f7f; text-decoration-color: #7f7f7f\"> croissants                </span> \n",
       " <span style=\"color: #7f7f7f; text-decoration-color: #7f7f7f\">                            </span> <span style=\"color: #7f7f7f; text-decoration-color: #7f7f7f\">                           </span> <span style=\"color: #7f7f7f; text-decoration-color: #7f7f7f\">                            </span> <span style=\"color: #7f7f7f; text-decoration-color: #7f7f7f\"> Total time = 20 minutes + </span> \n",
       " <span style=\"color: #7f7f7f; text-decoration-color: #7f7f7f\">                            </span> <span style=\"color: #7f7f7f; text-decoration-color: #7f7f7f\">                           </span> <span style=\"color: #7f7f7f; text-decoration-color: #7f7f7f\">                            </span> <span style=\"color: #7f7f7f; text-decoration-color: #7f7f7f\"> 300 minutes + 10 minutes  </span> \n",
       " <span style=\"color: #7f7f7f; text-decoration-color: #7f7f7f\">                            </span> <span style=\"color: #7f7f7f; text-decoration-color: #7f7f7f\">                           </span> <span style=\"color: #7f7f7f; text-decoration-color: #7f7f7f\">                            </span> <span style=\"color: #7f7f7f; text-decoration-color: #7f7f7f\"> + 30 minutes              </span> \n",
       " <span style=\"color: #7f7f7f; text-decoration-color: #7f7f7f\">                            </span> <span style=\"color: #7f7f7f; text-decoration-color: #7f7f7f\">                           </span> <span style=\"color: #7f7f7f; text-decoration-color: #7f7f7f\">                            </span> <span style=\"color: #7f7f7f; text-decoration-color: #7f7f7f\"> Total time = 360 minutes  </span> \n",
       " <span style=\"color: #7f7f7f; text-decoration-color: #7f7f7f\">                            </span> <span style=\"color: #7f7f7f; text-decoration-color: #7f7f7f\">                           </span> <span style=\"color: #7f7f7f; text-decoration-color: #7f7f7f\">                            </span> <span style=\"color: #7f7f7f; text-decoration-color: #7f7f7f\">                           </span> \n",
       " <span style=\"color: #7f7f7f; text-decoration-color: #7f7f7f\">                            </span> <span style=\"color: #7f7f7f; text-decoration-color: #7f7f7f\">                           </span> <span style=\"color: #7f7f7f; text-decoration-color: #7f7f7f\">                            </span> <span style=\"color: #7f7f7f; text-decoration-color: #7f7f7f\"> To convert the total time </span> \n",
       " <span style=\"color: #7f7f7f; text-decoration-color: #7f7f7f\">                            </span> <span style=\"color: #7f7f7f; text-decoration-color: #7f7f7f\">                           </span> <span style=\"color: #7f7f7f; text-decoration-color: #7f7f7f\">                            </span> <span style=\"color: #7f7f7f; text-decoration-color: #7f7f7f\"> to hours, we divide by    </span> \n",
       " <span style=\"color: #7f7f7f; text-decoration-color: #7f7f7f\">                            </span> <span style=\"color: #7f7f7f; text-decoration-color: #7f7f7f\">                           </span> <span style=\"color: #7f7f7f; text-decoration-color: #7f7f7f\">                            </span> <span style=\"color: #7f7f7f; text-decoration-color: #7f7f7f\"> 60:                       </span> \n",
       " <span style=\"color: #7f7f7f; text-decoration-color: #7f7f7f\">                            </span> <span style=\"color: #7f7f7f; text-decoration-color: #7f7f7f\">                           </span> <span style=\"color: #7f7f7f; text-decoration-color: #7f7f7f\">                            </span> <span style=\"color: #7f7f7f; text-decoration-color: #7f7f7f\">                           </span> \n",
       " <span style=\"color: #7f7f7f; text-decoration-color: #7f7f7f\">                            </span> <span style=\"color: #7f7f7f; text-decoration-color: #7f7f7f\">                           </span> <span style=\"color: #7f7f7f; text-decoration-color: #7f7f7f\">                            </span> <span style=\"color: #7f7f7f; text-decoration-color: #7f7f7f\"> Total time in hours = 360 </span> \n",
       " <span style=\"color: #7f7f7f; text-decoration-color: #7f7f7f\">                            </span> <span style=\"color: #7f7f7f; text-decoration-color: #7f7f7f\">                           </span> <span style=\"color: #7f7f7f; text-decoration-color: #7f7f7f\">                            </span> <span style=\"color: #7f7f7f; text-decoration-color: #7f7f7f\"> minutes / 60 = 6 hours    </span> \n",
       " <span style=\"color: #7f7f7f; text-decoration-color: #7f7f7f\">                            </span> <span style=\"color: #7f7f7f; text-decoration-color: #7f7f7f\">                           </span> <span style=\"color: #7f7f7f; text-decoration-color: #7f7f7f\">                            </span> <span style=\"color: #7f7f7f; text-decoration-color: #7f7f7f\">                           </span> \n",
       " <span style=\"color: #7f7f7f; text-decoration-color: #7f7f7f\">                            </span> <span style=\"color: #7f7f7f; text-decoration-color: #7f7f7f\">                           </span> <span style=\"color: #7f7f7f; text-decoration-color: #7f7f7f\">                            </span> <span style=\"color: #7f7f7f; text-decoration-color: #7f7f7f\"> Therefore, the whole      </span> \n",
       " <span style=\"color: #7f7f7f; text-decoration-color: #7f7f7f\">                            </span> <span style=\"color: #7f7f7f; text-decoration-color: #7f7f7f\">                           </span> <span style=\"color: #7f7f7f; text-decoration-color: #7f7f7f\">                            </span> <span style=\"color: #7f7f7f; text-decoration-color: #7f7f7f\"> process takes 6 hours.    </span> \n",
       " <span style=\"color: #7f7f7f; text-decoration-color: #7f7f7f\">                            </span> <span style=\"color: #7f7f7f; text-decoration-color: #7f7f7f\">                           </span> <span style=\"color: #7f7f7f; text-decoration-color: #7f7f7f\">                            </span> <span style=\"color: #7f7f7f; text-decoration-color: #7f7f7f\">                           </span> \n",
       " <span style=\"color: #7f7f7f; text-decoration-color: #7f7f7f\">                            </span> <span style=\"color: #7f7f7f; text-decoration-color: #7f7f7f\">                           </span> <span style=\"color: #7f7f7f; text-decoration-color: #7f7f7f\">                            </span> <span style=\"color: #7f7f7f; text-decoration-color: #7f7f7f\"> ```                       </span> \n",
       "  Incorrect. Must be equal     Five years ago, there       700                          nan                        \n",
       "  to Last year the librarian   were 500 old books in the                                                           \n",
       "  bought 300 + 100 =           library. Two years ago,                                                             \n",
       "  &lt;&lt;300+100=400&gt;&gt;400 books.    the librarian bought 300                                                            \n",
       "  Thus, there were 500 + 300   books. Last year, the                                                               \n",
       "  + 400 =                      librarian bought 100 more                                                           \n",
       "  &lt;&lt;500+300+400=1200&gt;&gt;1200     books than she had bought                                                           \n",
       "  books as of last year.       the previous year. This                                                             \n",
       "  Therefore, there are 1200    year, the librarian                                                                 \n",
       "  - 200 =                      donated 200 of the                                                                  \n",
       "  &lt;&lt;1200-200=1000&gt;&gt;1000        library's old books. How                                                            \n",
       "  books now in the library.    many books are in the                                                               \n",
       "  #### 1000                    library now?                                                                        \n",
       "                                                                                                                   \n",
       "</pre>\n"
      ],
      "text/plain": [
       "                                                                                                                   \n",
       " \u001b[1;35m \u001b[0m\u001b[1;35manswer__fb                \u001b[0m\u001b[1;35m \u001b[0m \u001b[1;35m \u001b[0m\u001b[1;35mquestion                 \u001b[0m\u001b[1;35m \u001b[0m \u001b[1;35m \u001b[0m\u001b[1;35manswer                    \u001b[0m\u001b[1;35m \u001b[0m \u001b[1;35m \u001b[0m\u001b[1;35moutput                   \u001b[0m\u001b[1;35m \u001b[0m \n",
       " ───────────────────────────────────────────────────────────────────────────────────────────────────────────────── \n",
       "  Incorrect. Must be equal     There are 100 lions in      There will be 164 lions in   nan                        \n",
       "  to There are                 Londolozi at first. If      Londolozi after 1 year.                                 \n",
       "  5-1=<<5-1=4>>4 more lions    lion cubs are born at the                                                           \n",
       "  each month.                  rate of 5 per month and                                                             \n",
       "  There will be                lions die at the rate of                                                            \n",
       "  4*12=<<4*12=48>>48 more      1 per month, how many                                                               \n",
       "  lions after 1 year.          lions will there be in                                                              \n",
       "  There will be                Londolozi after 1 year?                                                             \n",
       "  100+48=<<100+48=148>>148                                                                                         \n",
       "  lions in Londolozi after 1                                                                                       \n",
       "  year.                                                                                                            \n",
       "  #### 148                                                                                                         \n",
       " \u001b[2m \u001b[0m\u001b[2mIncorrect. Must be equal  \u001b[0m\u001b[2m \u001b[0m \u001b[2m \u001b[0m\u001b[2mMarla is planning the    \u001b[0m\u001b[2m \u001b[0m \u001b[2m \u001b[0m\u001b[2m$3,402.00                 \u001b[0m\u001b[2m \u001b[0m \u001b[2m \u001b[0m\u001b[2mnan                      \u001b[0m\u001b[2m \u001b[0m \n",
       " \u001b[2m \u001b[0m\u001b[2mto First find the total   \u001b[0m\u001b[2m \u001b[0m \u001b[2m \u001b[0m\u001b[2mlunch menu for an        \u001b[0m\u001b[2m \u001b[0m \u001b[2m                            \u001b[0m \u001b[2m                           \u001b[0m \n",
       " \u001b[2m \u001b[0m\u001b[2mnumber of students in     \u001b[0m\u001b[2m \u001b[0m \u001b[2m \u001b[0m\u001b[2melementary school. There \u001b[0m\u001b[2m \u001b[0m \u001b[2m                            \u001b[0m \u001b[2m                           \u001b[0m \n",
       " \u001b[2m \u001b[0m\u001b[2mthird grade 5 classes * 30\u001b[0m\u001b[2m \u001b[0m \u001b[2m \u001b[0m\u001b[2mare 5 third grade classes\u001b[0m\u001b[2m \u001b[0m \u001b[2m                            \u001b[0m \u001b[2m                           \u001b[0m \n",
       " \u001b[2m \u001b[0m\u001b[2mstudents/class =          \u001b[0m\u001b[2m \u001b[0m \u001b[2m \u001b[0m\u001b[2mwith 30 students each, 4 \u001b[0m\u001b[2m \u001b[0m \u001b[2m                            \u001b[0m \u001b[2m                           \u001b[0m \n",
       " \u001b[2m \u001b[0m\u001b[2m<<5*30=150>>150 students  \u001b[0m\u001b[2m \u001b[0m \u001b[2m \u001b[0m\u001b[2mfourth grade classes with\u001b[0m\u001b[2m \u001b[0m \u001b[2m                            \u001b[0m \u001b[2m                           \u001b[0m \n",
       " \u001b[2m \u001b[0m\u001b[2mThen find the total number\u001b[0m\u001b[2m \u001b[0m \u001b[2m \u001b[0m\u001b[2m28 students each, and 4  \u001b[0m\u001b[2m \u001b[0m \u001b[2m                            \u001b[0m \u001b[2m                           \u001b[0m \n",
       " \u001b[2m \u001b[0m\u001b[2mof students in fourth     \u001b[0m\u001b[2m \u001b[0m \u001b[2m \u001b[0m\u001b[2mfifth grade classes with \u001b[0m\u001b[2m \u001b[0m \u001b[2m                            \u001b[0m \u001b[2m                           \u001b[0m \n",
       " \u001b[2m \u001b[0m\u001b[2mgrade 4 classes * 28      \u001b[0m\u001b[2m \u001b[0m \u001b[2m \u001b[0m\u001b[2m27 students each. Each   \u001b[0m\u001b[2m \u001b[0m \u001b[2m                            \u001b[0m \u001b[2m                           \u001b[0m \n",
       " \u001b[2m \u001b[0m\u001b[2mstudents/class =          \u001b[0m\u001b[2m \u001b[0m \u001b[2m \u001b[0m\u001b[2mstudent gets a hamburger,\u001b[0m\u001b[2m \u001b[0m \u001b[2m                            \u001b[0m \u001b[2m                           \u001b[0m \n",
       " \u001b[2m \u001b[0m\u001b[2m<<4*28=112>>112 students  \u001b[0m\u001b[2m \u001b[0m \u001b[2m \u001b[0m\u001b[2mwhich costs $2.10, some  \u001b[0m\u001b[2m \u001b[0m \u001b[2m                            \u001b[0m \u001b[2m                           \u001b[0m \n",
       " \u001b[2m \u001b[0m\u001b[2mThen find the total number\u001b[0m\u001b[2m \u001b[0m \u001b[2m \u001b[0m\u001b[2mcarrots, which cost      \u001b[0m\u001b[2m \u001b[0m \u001b[2m                            \u001b[0m \u001b[2m                           \u001b[0m \n",
       " \u001b[2m \u001b[0m\u001b[2mof student in fifth grade \u001b[0m\u001b[2m \u001b[0m \u001b[2m \u001b[0m\u001b[2m$0.50, and a cookie,     \u001b[0m\u001b[2m \u001b[0m \u001b[2m                            \u001b[0m \u001b[2m                           \u001b[0m \n",
       " \u001b[2m \u001b[0m\u001b[2m4 classes * 27            \u001b[0m\u001b[2m \u001b[0m \u001b[2m \u001b[0m\u001b[2mwhich cost $0.20. How    \u001b[0m\u001b[2m \u001b[0m \u001b[2m                            \u001b[0m \u001b[2m                           \u001b[0m \n",
       " \u001b[2m \u001b[0m\u001b[2mstudents/class =          \u001b[0m\u001b[2m \u001b[0m \u001b[2m \u001b[0m\u001b[2mmuch does one lunch for  \u001b[0m\u001b[2m \u001b[0m \u001b[2m                            \u001b[0m \u001b[2m                           \u001b[0m \n",
       " \u001b[2m \u001b[0m\u001b[2m<<4*27=108>>108 students  \u001b[0m\u001b[2m \u001b[0m \u001b[2m \u001b[0m\u001b[2mall the students cost?   \u001b[0m\u001b[2m \u001b[0m \u001b[2m                            \u001b[0m \u001b[2m                           \u001b[0m \n",
       " \u001b[2m \u001b[0m\u001b[2mNow add the number of     \u001b[0m\u001b[2m \u001b[0m \u001b[2m                           \u001b[0m \u001b[2m                            \u001b[0m \u001b[2m                           \u001b[0m \n",
       " \u001b[2m \u001b[0m\u001b[2mstudents in each grade to \u001b[0m\u001b[2m \u001b[0m \u001b[2m                           \u001b[0m \u001b[2m                            \u001b[0m \u001b[2m                           \u001b[0m \n",
       " \u001b[2m \u001b[0m\u001b[2mfind the total number of  \u001b[0m\u001b[2m \u001b[0m \u001b[2m                           \u001b[0m \u001b[2m                            \u001b[0m \u001b[2m                           \u001b[0m \n",
       " \u001b[2m \u001b[0m\u001b[2mstudents 150 students +   \u001b[0m\u001b[2m \u001b[0m \u001b[2m                           \u001b[0m \u001b[2m                            \u001b[0m \u001b[2m                           \u001b[0m \n",
       " \u001b[2m \u001b[0m\u001b[2m112 students + 108        \u001b[0m\u001b[2m \u001b[0m \u001b[2m                           \u001b[0m \u001b[2m                            \u001b[0m \u001b[2m                           \u001b[0m \n",
       " \u001b[2m \u001b[0m\u001b[2mstudents =                \u001b[0m\u001b[2m \u001b[0m \u001b[2m                           \u001b[0m \u001b[2m                            \u001b[0m \u001b[2m                           \u001b[0m \n",
       " \u001b[2m \u001b[0m\u001b[2m<<150+112+108=370>>370    \u001b[0m\u001b[2m \u001b[0m \u001b[2m                           \u001b[0m \u001b[2m                            \u001b[0m \u001b[2m                           \u001b[0m \n",
       " \u001b[2m \u001b[0m\u001b[2mstudents                  \u001b[0m\u001b[2m \u001b[0m \u001b[2m                           \u001b[0m \u001b[2m                            \u001b[0m \u001b[2m                           \u001b[0m \n",
       " \u001b[2m \u001b[0m\u001b[2mNow find the total cost of\u001b[0m\u001b[2m \u001b[0m \u001b[2m                           \u001b[0m \u001b[2m                            \u001b[0m \u001b[2m                           \u001b[0m \n",
       " \u001b[2m \u001b[0m\u001b[2mone lunch $2.10 + $0.50 + \u001b[0m\u001b[2m \u001b[0m \u001b[2m                           \u001b[0m \u001b[2m                            \u001b[0m \u001b[2m                           \u001b[0m \n",
       " \u001b[2m \u001b[0m\u001b[2m$0.20 =                   \u001b[0m\u001b[2m \u001b[0m \u001b[2m                           \u001b[0m \u001b[2m                            \u001b[0m \u001b[2m                           \u001b[0m \n",
       " \u001b[2m \u001b[0m\u001b[2m$<<2.10+0.50+0.20=2.80>>2…\u001b[0m\u001b[2m \u001b[0m \u001b[2m                           \u001b[0m \u001b[2m                            \u001b[0m \u001b[2m                           \u001b[0m \n",
       " \u001b[2m \u001b[0m\u001b[2mNow multiply that cost by \u001b[0m\u001b[2m \u001b[0m \u001b[2m                           \u001b[0m \u001b[2m                            \u001b[0m \u001b[2m                           \u001b[0m \n",
       " \u001b[2m \u001b[0m\u001b[2mthe number of students to \u001b[0m\u001b[2m \u001b[0m \u001b[2m                           \u001b[0m \u001b[2m                            \u001b[0m \u001b[2m                           \u001b[0m \n",
       " \u001b[2m \u001b[0m\u001b[2mfind the total cost for   \u001b[0m\u001b[2m \u001b[0m \u001b[2m                           \u001b[0m \u001b[2m                            \u001b[0m \u001b[2m                           \u001b[0m \n",
       " \u001b[2m \u001b[0m\u001b[2mthe school $2.80/student *\u001b[0m\u001b[2m \u001b[0m \u001b[2m                           \u001b[0m \u001b[2m                            \u001b[0m \u001b[2m                           \u001b[0m \n",
       " \u001b[2m \u001b[0m\u001b[2m370 students =            \u001b[0m\u001b[2m \u001b[0m \u001b[2m                           \u001b[0m \u001b[2m                            \u001b[0m \u001b[2m                           \u001b[0m \n",
       " \u001b[2m \u001b[0m\u001b[2m$<<2.80*370=1036>>1036    \u001b[0m\u001b[2m \u001b[0m \u001b[2m                           \u001b[0m \u001b[2m                            \u001b[0m \u001b[2m                           \u001b[0m \n",
       " \u001b[2m \u001b[0m\u001b[2m#### 1036                 \u001b[0m\u001b[2m \u001b[0m \u001b[2m                           \u001b[0m \u001b[2m                            \u001b[0m \u001b[2m                           \u001b[0m \n",
       "  Incorrect. Must be equal     Rhonda, Sally, and Diane    71                           nan                        \n",
       "  to Sally takes               are members of their                                                                \n",
       "  24+2=<<24+2=26>>26           school's track team.  The                                                           \n",
       "  seconds.                     three of them run the                                                               \n",
       "  Diane takes                  600-meter relay race                                                                \n",
       "  24-3=<<24-3=21>>21           together. Rhonda runs the                                                           \n",
       "  seconds.                     first 200 meters of the                                                             \n",
       "  Thus, the three take         race, Sally runs the                                                                \n",
       "  24+26+21=<<24+26+21=71>>71   second 200 meters of the                                                            \n",
       "  seconds to run the           race, and Diane runs the                                                            \n",
       "  600-meter relay race.        final 200 meters of the                                                             \n",
       "  #### 71                      race. Rhonda can run 200                                                            \n",
       "                               meters in 24 seconds.                                                               \n",
       "                               Sally takes two seconds                                                             \n",
       "                               longer to run the same                                                              \n",
       "                               distance, while Diane can                                                           \n",
       "                               run 200 meters three                                                                \n",
       "                               seconds faster than                                                                 \n",
       "                               Rhonda.  How many seconds                                                           \n",
       "                               does it take for the                                                                \n",
       "                               three of them to run the                                                            \n",
       "                               600-meter relay race?                                                               \n",
       " \u001b[2m \u001b[0m\u001b[2mnan                       \u001b[0m\u001b[2m \u001b[0m \u001b[2m \u001b[0m\u001b[2mMilly is making          \u001b[0m\u001b[2m \u001b[0m \u001b[2m \u001b[0m\u001b[2mnan                       \u001b[0m\u001b[2m \u001b[0m \u001b[2m \u001b[0m\u001b[2mTo calculate the total   \u001b[0m\u001b[2m \u001b[0m \n",
       " \u001b[2m                            \u001b[0m \u001b[2m \u001b[0m\u001b[2mcroissants. She needs to \u001b[0m\u001b[2m \u001b[0m \u001b[2m                            \u001b[0m \u001b[2m \u001b[0m\u001b[2mtime it takes to make the\u001b[0m\u001b[2m \u001b[0m \n",
       " \u001b[2m                            \u001b[0m \u001b[2m \u001b[0m\u001b[2mfold the dough 4 times,  \u001b[0m\u001b[2m \u001b[0m \u001b[2m                            \u001b[0m \u001b[2m \u001b[0m\u001b[2mcroissants, we need to   \u001b[0m\u001b[2m \u001b[0m \n",
       " \u001b[2m                            \u001b[0m \u001b[2m \u001b[0m\u001b[2mwhich takes 5 minutes    \u001b[0m\u001b[2m \u001b[0m \u001b[2m                            \u001b[0m \u001b[2m \u001b[0m\u001b[2mconsider each step of the\u001b[0m\u001b[2m \u001b[0m \n",
       " \u001b[2m                            \u001b[0m \u001b[2m \u001b[0m\u001b[2meach time, then let it   \u001b[0m\u001b[2m \u001b[0m \u001b[2m                            \u001b[0m \u001b[2m \u001b[0m\u001b[2mprocess.                 \u001b[0m\u001b[2m \u001b[0m \n",
       " \u001b[2m                            \u001b[0m \u001b[2m \u001b[0m\u001b[2mrest for 75 minutes each \u001b[0m\u001b[2m \u001b[0m \u001b[2m                            \u001b[0m \u001b[2m \u001b[0m\u001b[2m                         \u001b[0m\u001b[2m \u001b[0m \n",
       " \u001b[2m                            \u001b[0m \u001b[2m \u001b[0m\u001b[2mtime. If mixing the      \u001b[0m\u001b[2m \u001b[0m \u001b[2m                            \u001b[0m \u001b[2m \u001b[0m\u001b[2m1. Folding the dough:    \u001b[0m\u001b[2m \u001b[0m \n",
       " \u001b[2m                            \u001b[0m \u001b[2m \u001b[0m\u001b[2mingredients takes 10     \u001b[0m\u001b[2m \u001b[0m \u001b[2m                            \u001b[0m \u001b[2m \u001b[0m\u001b[2mMilly needs to fold the  \u001b[0m\u001b[2m \u001b[0m \n",
       " \u001b[2m                            \u001b[0m \u001b[2m \u001b[0m\u001b[2mminutes and baking the   \u001b[0m\u001b[2m \u001b[0m \u001b[2m                            \u001b[0m \u001b[2m \u001b[0m\u001b[2mdough 4 times, and each  \u001b[0m\u001b[2m \u001b[0m \n",
       " \u001b[2m                            \u001b[0m \u001b[2m \u001b[0m\u001b[2mcroissants takes 30      \u001b[0m\u001b[2m \u001b[0m \u001b[2m                            \u001b[0m \u001b[2m \u001b[0m\u001b[2mfold takes 5 minutes. So \u001b[0m\u001b[2m \u001b[0m \n",
       " \u001b[2m                            \u001b[0m \u001b[2m \u001b[0m\u001b[2mminutes, how many hours  \u001b[0m\u001b[2m \u001b[0m \u001b[2m                            \u001b[0m \u001b[2m \u001b[0m\u001b[2mthe total time for       \u001b[0m\u001b[2m \u001b[0m \n",
       " \u001b[2m                            \u001b[0m \u001b[2m \u001b[0m\u001b[2mdoes the whole process   \u001b[0m\u001b[2m \u001b[0m \u001b[2m                            \u001b[0m \u001b[2m \u001b[0m\u001b[2mfolding the dough is 4 * \u001b[0m\u001b[2m \u001b[0m \n",
       " \u001b[2m                            \u001b[0m \u001b[2m \u001b[0m\u001b[2mtake?                    \u001b[0m\u001b[2m \u001b[0m \u001b[2m                            \u001b[0m \u001b[2m \u001b[0m\u001b[2m5 = 20 minutes.          \u001b[0m\u001b[2m \u001b[0m \n",
       " \u001b[2m                            \u001b[0m \u001b[2m                           \u001b[0m \u001b[2m                            \u001b[0m \u001b[2m \u001b[0m\u001b[2m                         \u001b[0m\u001b[2m \u001b[0m \n",
       " \u001b[2m                            \u001b[0m \u001b[2m                           \u001b[0m \u001b[2m                            \u001b[0m \u001b[2m \u001b[0m\u001b[2m2. Letting the dough     \u001b[0m\u001b[2m \u001b[0m \n",
       " \u001b[2m                            \u001b[0m \u001b[2m                           \u001b[0m \u001b[2m                            \u001b[0m \u001b[2m \u001b[0m\u001b[2mrest: After each fold,   \u001b[0m\u001b[2m \u001b[0m \n",
       " \u001b[2m                            \u001b[0m \u001b[2m                           \u001b[0m \u001b[2m                            \u001b[0m \u001b[2m \u001b[0m\u001b[2mMilly needs to let the   \u001b[0m\u001b[2m \u001b[0m \n",
       " \u001b[2m                            \u001b[0m \u001b[2m                           \u001b[0m \u001b[2m                            \u001b[0m \u001b[2m \u001b[0m\u001b[2mdough rest for 75        \u001b[0m\u001b[2m \u001b[0m \n",
       " \u001b[2m                            \u001b[0m \u001b[2m                           \u001b[0m \u001b[2m                            \u001b[0m \u001b[2m \u001b[0m\u001b[2mminutes. Since she folds \u001b[0m\u001b[2m \u001b[0m \n",
       " \u001b[2m                            \u001b[0m \u001b[2m                           \u001b[0m \u001b[2m                            \u001b[0m \u001b[2m \u001b[0m\u001b[2mthe dough 4 times, the   \u001b[0m\u001b[2m \u001b[0m \n",
       " \u001b[2m                            \u001b[0m \u001b[2m                           \u001b[0m \u001b[2m                            \u001b[0m \u001b[2m \u001b[0m\u001b[2mtotal time for letting   \u001b[0m\u001b[2m \u001b[0m \n",
       " \u001b[2m                            \u001b[0m \u001b[2m                           \u001b[0m \u001b[2m                            \u001b[0m \u001b[2m \u001b[0m\u001b[2mthe dough rest is 4 * 75 \u001b[0m\u001b[2m \u001b[0m \n",
       " \u001b[2m                            \u001b[0m \u001b[2m                           \u001b[0m \u001b[2m                            \u001b[0m \u001b[2m \u001b[0m\u001b[2m= 300 minutes.           \u001b[0m\u001b[2m \u001b[0m \n",
       " \u001b[2m                            \u001b[0m \u001b[2m                           \u001b[0m \u001b[2m                            \u001b[0m \u001b[2m \u001b[0m\u001b[2m                         \u001b[0m\u001b[2m \u001b[0m \n",
       " \u001b[2m                            \u001b[0m \u001b[2m                           \u001b[0m \u001b[2m                            \u001b[0m \u001b[2m \u001b[0m\u001b[2m3. Mixing the            \u001b[0m\u001b[2m \u001b[0m \n",
       " \u001b[2m                            \u001b[0m \u001b[2m                           \u001b[0m \u001b[2m                            \u001b[0m \u001b[2m \u001b[0m\u001b[2mingredients: Mixing the  \u001b[0m\u001b[2m \u001b[0m \n",
       " \u001b[2m                            \u001b[0m \u001b[2m                           \u001b[0m \u001b[2m                            \u001b[0m \u001b[2m \u001b[0m\u001b[2mingredients takes 10     \u001b[0m\u001b[2m \u001b[0m \n",
       " \u001b[2m                            \u001b[0m \u001b[2m                           \u001b[0m \u001b[2m                            \u001b[0m \u001b[2m \u001b[0m\u001b[2mminutes.                 \u001b[0m\u001b[2m \u001b[0m \n",
       " \u001b[2m                            \u001b[0m \u001b[2m                           \u001b[0m \u001b[2m                            \u001b[0m \u001b[2m \u001b[0m\u001b[2m                         \u001b[0m\u001b[2m \u001b[0m \n",
       " \u001b[2m                            \u001b[0m \u001b[2m                           \u001b[0m \u001b[2m                            \u001b[0m \u001b[2m \u001b[0m\u001b[2m4. Baking the croissants:\u001b[0m\u001b[2m \u001b[0m \n",
       " \u001b[2m                            \u001b[0m \u001b[2m                           \u001b[0m \u001b[2m                            \u001b[0m \u001b[2m \u001b[0m\u001b[2mBaking the croissants    \u001b[0m\u001b[2m \u001b[0m \n",
       " \u001b[2m                            \u001b[0m \u001b[2m                           \u001b[0m \u001b[2m                            \u001b[0m \u001b[2m \u001b[0m\u001b[2mtakes 30 minutes.        \u001b[0m\u001b[2m \u001b[0m \n",
       " \u001b[2m                            \u001b[0m \u001b[2m                           \u001b[0m \u001b[2m                            \u001b[0m \u001b[2m \u001b[0m\u001b[2m                         \u001b[0m\u001b[2m \u001b[0m \n",
       " \u001b[2m                            \u001b[0m \u001b[2m                           \u001b[0m \u001b[2m                            \u001b[0m \u001b[2m \u001b[0m\u001b[2mNow, let's calculate the \u001b[0m\u001b[2m \u001b[0m \n",
       " \u001b[2m                            \u001b[0m \u001b[2m                           \u001b[0m \u001b[2m                            \u001b[0m \u001b[2m \u001b[0m\u001b[2mtotal time:              \u001b[0m\u001b[2m \u001b[0m \n",
       " \u001b[2m                            \u001b[0m \u001b[2m                           \u001b[0m \u001b[2m                            \u001b[0m \u001b[2m \u001b[0m\u001b[2m                         \u001b[0m\u001b[2m \u001b[0m \n",
       " \u001b[2m                            \u001b[0m \u001b[2m                           \u001b[0m \u001b[2m                            \u001b[0m \u001b[2m \u001b[0m\u001b[2mTotal time = Folding the \u001b[0m\u001b[2m \u001b[0m \n",
       " \u001b[2m                            \u001b[0m \u001b[2m                           \u001b[0m \u001b[2m                            \u001b[0m \u001b[2m \u001b[0m\u001b[2mdough + Letting the dough\u001b[0m\u001b[2m \u001b[0m \n",
       " \u001b[2m                            \u001b[0m \u001b[2m                           \u001b[0m \u001b[2m                            \u001b[0m \u001b[2m \u001b[0m\u001b[2mrest + Mixing the        \u001b[0m\u001b[2m \u001b[0m \n",
       " \u001b[2m                            \u001b[0m \u001b[2m                           \u001b[0m \u001b[2m                            \u001b[0m \u001b[2m \u001b[0m\u001b[2mingredients + Baking the \u001b[0m\u001b[2m \u001b[0m \n",
       " \u001b[2m                            \u001b[0m \u001b[2m                           \u001b[0m \u001b[2m                            \u001b[0m \u001b[2m \u001b[0m\u001b[2mcroissants               \u001b[0m\u001b[2m \u001b[0m \n",
       " \u001b[2m                            \u001b[0m \u001b[2m                           \u001b[0m \u001b[2m                            \u001b[0m \u001b[2m \u001b[0m\u001b[2mTotal time = 20 minutes +\u001b[0m\u001b[2m \u001b[0m \n",
       " \u001b[2m                            \u001b[0m \u001b[2m                           \u001b[0m \u001b[2m                            \u001b[0m \u001b[2m \u001b[0m\u001b[2m300 minutes + 10 minutes \u001b[0m\u001b[2m \u001b[0m \n",
       " \u001b[2m                            \u001b[0m \u001b[2m                           \u001b[0m \u001b[2m                            \u001b[0m \u001b[2m \u001b[0m\u001b[2m+ 30 minutes             \u001b[0m\u001b[2m \u001b[0m \n",
       " \u001b[2m                            \u001b[0m \u001b[2m                           \u001b[0m \u001b[2m                            \u001b[0m \u001b[2m \u001b[0m\u001b[2mTotal time = 360 minutes \u001b[0m\u001b[2m \u001b[0m \n",
       " \u001b[2m                            \u001b[0m \u001b[2m                           \u001b[0m \u001b[2m                            \u001b[0m \u001b[2m \u001b[0m\u001b[2m                         \u001b[0m\u001b[2m \u001b[0m \n",
       " \u001b[2m                            \u001b[0m \u001b[2m                           \u001b[0m \u001b[2m                            \u001b[0m \u001b[2m \u001b[0m\u001b[2mTo convert the total time\u001b[0m\u001b[2m \u001b[0m \n",
       " \u001b[2m                            \u001b[0m \u001b[2m                           \u001b[0m \u001b[2m                            \u001b[0m \u001b[2m \u001b[0m\u001b[2mto hours, we divide by   \u001b[0m\u001b[2m \u001b[0m \n",
       " \u001b[2m                            \u001b[0m \u001b[2m                           \u001b[0m \u001b[2m                            \u001b[0m \u001b[2m \u001b[0m\u001b[2m60:                      \u001b[0m\u001b[2m \u001b[0m \n",
       " \u001b[2m                            \u001b[0m \u001b[2m                           \u001b[0m \u001b[2m                            \u001b[0m \u001b[2m \u001b[0m\u001b[2m                         \u001b[0m\u001b[2m \u001b[0m \n",
       " \u001b[2m                            \u001b[0m \u001b[2m                           \u001b[0m \u001b[2m                            \u001b[0m \u001b[2m \u001b[0m\u001b[2mTotal time in hours = 360\u001b[0m\u001b[2m \u001b[0m \n",
       " \u001b[2m                            \u001b[0m \u001b[2m                           \u001b[0m \u001b[2m                            \u001b[0m \u001b[2m \u001b[0m\u001b[2mminutes / 60 = 6 hours   \u001b[0m\u001b[2m \u001b[0m \n",
       " \u001b[2m                            \u001b[0m \u001b[2m                           \u001b[0m \u001b[2m                            \u001b[0m \u001b[2m \u001b[0m\u001b[2m                         \u001b[0m\u001b[2m \u001b[0m \n",
       " \u001b[2m                            \u001b[0m \u001b[2m                           \u001b[0m \u001b[2m                            \u001b[0m \u001b[2m \u001b[0m\u001b[2mTherefore, the whole     \u001b[0m\u001b[2m \u001b[0m \n",
       " \u001b[2m                            \u001b[0m \u001b[2m                           \u001b[0m \u001b[2m                            \u001b[0m \u001b[2m \u001b[0m\u001b[2mprocess takes 6 hours.   \u001b[0m\u001b[2m \u001b[0m \n",
       " \u001b[2m                            \u001b[0m \u001b[2m                           \u001b[0m \u001b[2m                            \u001b[0m \u001b[2m \u001b[0m\u001b[2m                         \u001b[0m\u001b[2m \u001b[0m \n",
       " \u001b[2m                            \u001b[0m \u001b[2m                           \u001b[0m \u001b[2m                            \u001b[0m \u001b[2m \u001b[0m\u001b[2m```                      \u001b[0m\u001b[2m \u001b[0m \n",
       "  Incorrect. Must be equal     Five years ago, there       700                          nan                        \n",
       "  to Last year the librarian   were 500 old books in the                                                           \n",
       "  bought 300 + 100 =           library. Two years ago,                                                             \n",
       "  <<300+100=400>>400 books.    the librarian bought 300                                                            \n",
       "  Thus, there were 500 + 300   books. Last year, the                                                               \n",
       "  + 400 =                      librarian bought 100 more                                                           \n",
       "  <<500+300+400=1200>>1200     books than she had bought                                                           \n",
       "  books as of last year.       the previous year. This                                                             \n",
       "  Therefore, there are 1200    year, the librarian                                                                 \n",
       "  - 200 =                      donated 200 of the                                                                  \n",
       "  <<1200-200=1000>>1000        library's old books. How                                                            \n",
       "  books now in the library.    many books are in the                                                               \n",
       "  #### 1000                    library now?                                                                        \n",
       "                                                                                                                   \n"
      ]
     },
     "metadata": {},
     "output_type": "display_data"
    },
    {
     "data": {
      "text/html": [
       "<pre style=\"white-space:pre;overflow-x:auto;line-height:normal;font-family:Menlo,'DejaVu Sans Mono',consolas,'Courier New',monospace\"><span style=\"color: #800000; text-decoration-color: #800000; font-weight: bold\">Skill output to improve: </span><span style=\"color: #008000; text-decoration-color: #008000\">\"answer\"</span><span style=\"color: #800000; text-decoration-color: #800000; font-weight: bold\"> (</span><span style=\"color: #808000; text-decoration-color: #808000; font-weight: bold\">Skill</span><span style=\"color: #800000; text-decoration-color: #800000; font-weight: bold\">=</span><span style=\"color: #008000; text-decoration-color: #008000\">\"math_solver\"</span><span style=\"color: #800000; text-decoration-color: #800000; font-weight: bold\">)</span>\n",
       "<span style=\"color: #800000; text-decoration-color: #800000; font-weight: bold\">Accuracy = </span><span style=\"color: #008080; text-decoration-color: #008080; font-weight: bold\">0.00</span><span style=\"color: #800000; text-decoration-color: #800000; font-weight: bold\">%</span>\n",
       "</pre>\n"
      ],
      "text/plain": [
       "\u001b[1;31mSkill output to improve: \u001b[0m\u001b[32m\"answer\"\u001b[0m\u001b[1;31m \u001b[0m\u001b[1;31m(\u001b[0m\u001b[1;33mSkill\u001b[0m\u001b[1;31m=\u001b[0m\u001b[32m\"math_solver\"\u001b[0m\u001b[1;31m)\u001b[0m\n",
       "\u001b[1;31mAccuracy = \u001b[0m\u001b[1;36m0.00\u001b[0m\u001b[1;31m%\u001b[0m\n"
      ]
     },
     "metadata": {},
     "output_type": "display_data"
    },
    {
     "data": {
      "text/html": [
       "<pre style=\"white-space:pre;overflow-x:auto;line-height:normal;font-family:Menlo,'DejaVu Sans Mono',consolas,'Courier New',monospace\"><span style=\"font-weight: bold\">{</span><span style=\"color: #008000; text-decoration-color: #008000\">'input'</span>: <span style=\"color: #008000; text-decoration-color: #008000\">'\\n\\t\\t\\tA prompt is a text paragraph that outlines the expected actions and instructs the large language</span>\n",
       "<span style=\"color: #008000; text-decoration-color: #008000\">model (LLM) to \\t\\t\\tgenerate a specific output. This prompt is concatenated with the input text, and the </span>\n",
       "<span style=\"color: #008000; text-decoration-color: #008000\">\\t\\t\\tmodel then creates the required output.\\n\\t\\t\\tThis describes the full template how the prompt is </span>\n",
       "<span style=\"color: #008000; text-decoration-color: #008000\">concatenated with the input to produce the </span>\n",
       "<span style=\"color: #008000; text-decoration-color: #008000\">output:\\n\\t\\t\\t```\\n\\t\\t\\t\\n\\t\\t{prompt}\\n\\t\\t\\t```\\n\\t\\t\\tHere:\\n\\t\\t\\t- \"{prompt}\" is the LLM </span>\n",
       "<span style=\"color: #008000; text-decoration-color: #008000\">prompt\\n\\n\\t\\t\\tModel can produce erroneous output if a prompt is not well defined. \\t\\t\\tIn our collaboration, </span>\n",
       "<span style=\"color: #008000; text-decoration-color: #008000\">we’ll work together to refine a prompt. The process consists of two main steps:\\n\\n\\t\\t\\t## Step 1\\n\\t\\t\\tI will </span>\n",
       "<span style=\"color: #008000; text-decoration-color: #008000\">provide you with the current prompt along with prediction examples. Each example contains the input text, the final</span>\n",
       "<span style=\"color: #008000; text-decoration-color: #008000\">prediction produced by the model, and the user feedback. \\t\\t\\tUser feedback indicates whether the model prediction</span>\n",
       "<span style=\"color: #008000; text-decoration-color: #008000\">is correct or not. \\t\\t\\tYour task is to analyze the examples and user feedback, determining whether the </span>\n",
       "<span style=\"color: #008000; text-decoration-color: #008000\">\\t\\t\\texisting instruction is describing the task reflected by these examples precisely, and suggests changes to </span>\n",
       "<span style=\"color: #008000; text-decoration-color: #008000\">the prompt to address the incorrect predictions.\\n\\n\\t\\t\\t## Step 2\\n\\t\\t\\tNext, you will carefully review your </span>\n",
       "<span style=\"color: #008000; text-decoration-color: #008000\">reasoning in step 1, integrate the insights to refine the prompt, \\t\\t\\tand provide me with the new prompt that </span>\n",
       "<span style=\"color: #008000; text-decoration-color: #008000\">improves the model’s performance.\\n\\t\\t\\t## Current prompt\\n\\t\\t\\t\"Carefully read the given mathematical problem, </span>\n",
       "<span style=\"color: #008000; text-decoration-color: #008000\">break it down into smaller steps, perform the necessary calculations, and provide the final numerical answer. </span>\n",
       "<span style=\"color: #008000; text-decoration-color: #008000\">Ensure to consider all the details provided in the problem and double-check your calculations to ensure accuracy. </span>\n",
       "<span style=\"color: #008000; text-decoration-color: #008000\">Make sure to correctly interpret the problem and apply the appropriate mathematical operations to arrive at the </span>\n",
       "<span style=\"color: #008000; text-decoration-color: #008000\">correct final answer.\"\\n\\t\\t\\t## Examples\\n\\t\\t\\t### Example #0\\n\\nQ: There are 100 lions in Londolozi at first. If</span>\n",
       "<span style=\"color: #008000; text-decoration-color: #008000\">lion cubs are born at the rate of 5 per month and lions die at the rate of 1 per month, how many lions will there </span>\n",
       "<span style=\"color: #008000; text-decoration-color: #008000\">be in Londolozi after 1 year?\\n\\nThe final numerical answer: There will be 164 lions in Londolozi after 1 </span>\n",
       "<span style=\"color: #008000; text-decoration-color: #008000\">year.\\n\\nUser feedback: Incorrect. Must be equal to There are 5-1=&lt;&lt;5-1=4&gt;&gt;4 more lions each month.\\nThere will be </span>\n",
       "<span style=\"color: #008000; text-decoration-color: #008000\">4*12=&lt;&lt;4*12=48&gt;&gt;48 more lions after 1 year.\\nThere will be 100+48=&lt;&lt;100+48=148&gt;&gt;148 lions in Londolozi after 1 </span>\n",
       "<span style=\"color: #008000; text-decoration-color: #008000\">year.\\n#### 148\\n\\n\\n### Example #1\\n\\nQ: Marla is planning the lunch menu for an elementary school. There are 5 </span>\n",
       "<span style=\"color: #008000; text-decoration-color: #008000\">third grade classes with 30 students each, 4 fourth grade classes with 28 students each, and 4 fifth grade classes </span>\n",
       "<span style=\"color: #008000; text-decoration-color: #008000\">with 27 students each. Each student gets a hamburger, which costs $2.10, some carrots, which cost $0.50, and a </span>\n",
       "<span style=\"color: #008000; text-decoration-color: #008000\">cookie, which cost $0.20. How much does one lunch for all the students cost?\\n\\nThe final numerical answer: </span>\n",
       "<span style=\"color: #008000; text-decoration-color: #008000\">$3,402.00\\n\\nUser feedback: Incorrect. Must be equal to First find the total number of students in third grade 5 </span>\n",
       "<span style=\"color: #008000; text-decoration-color: #008000\">classes * 30 students/class = &lt;&lt;5*30=150&gt;&gt;150 students\\nThen find the total number of students in fourth grade 4 </span>\n",
       "<span style=\"color: #008000; text-decoration-color: #008000\">classes * 28 students/class = &lt;&lt;4*28=112&gt;&gt;112 students\\nThen find the total number of student in fifth grade 4 </span>\n",
       "<span style=\"color: #008000; text-decoration-color: #008000\">classes * 27 students/class = &lt;&lt;4*27=108&gt;&gt;108 students\\nNow add the number of students in each grade to find the </span>\n",
       "<span style=\"color: #008000; text-decoration-color: #008000\">total number of students 150 students + 112 students + 108 students = &lt;&lt;150+112+108=370&gt;&gt;370 students\\nNow find the</span>\n",
       "<span style=\"color: #008000; text-decoration-color: #008000\">total cost of one lunch $2.10 + $0.50 + $0.20 = $&lt;&lt;2.10+0.50+0.20=2.80&gt;&gt;2.80\\nNow multiply that cost by the number </span>\n",
       "<span style=\"color: #008000; text-decoration-color: #008000\">of students to find the total cost for the school $2.80/student * 370 students = $&lt;&lt;2.80*370=1036&gt;&gt;1036\\n#### </span>\n",
       "<span style=\"color: #008000; text-decoration-color: #008000\">1036\\n\\n\\n### Example #2\\n\\nQ: Rhonda, Sally, and Diane are members of their school\\'s track team.  The three of </span>\n",
       "<span style=\"color: #008000; text-decoration-color: #008000\">them run the 600-meter relay race together. Rhonda runs the first 200 meters of the race, Sally runs the second 200</span>\n",
       "<span style=\"color: #008000; text-decoration-color: #008000\">meters of the race, and Diane runs the final 200 meters of the race. Rhonda can run 200 meters in 24 seconds.  </span>\n",
       "<span style=\"color: #008000; text-decoration-color: #008000\">Sally takes two seconds longer to run the same distance, while Diane can run 200 meters three seconds faster than </span>\n",
       "<span style=\"color: #008000; text-decoration-color: #008000\">Rhonda.  How many seconds does it take for the three of them to run the 600-meter relay race?\\n\\nThe final </span>\n",
       "<span style=\"color: #008000; text-decoration-color: #008000\">numerical answer: 71\\n\\nUser feedback: Incorrect. Must be equal to Sally takes 24+2=&lt;&lt;24+2=26&gt;&gt;26 seconds.\\nDiane </span>\n",
       "<span style=\"color: #008000; text-decoration-color: #008000\">takes 24-3=&lt;&lt;24-3=21&gt;&gt;21 seconds.\\nThus, the three take 24+26+21=&lt;&lt;24+26+21=71&gt;&gt;71 seconds to run the 600-meter </span>\n",
       "<span style=\"color: #008000; text-decoration-color: #008000\">relay race.\\n#### 71\\n\\n\\n### Example #3\\n\\nQ: Milly is making croissants. She needs to fold the dough 4 times, </span>\n",
       "<span style=\"color: #008000; text-decoration-color: #008000\">which takes 5 minutes each time, then let it rest for 75 minutes each time. If mixing the ingredients takes 10 </span>\n",
       "<span style=\"color: #008000; text-decoration-color: #008000\">minutes and baking the croissants takes 30 minutes, how many hours does the whole process take?\\n\\nThe final </span>\n",
       "<span style=\"color: #008000; text-decoration-color: #008000\">numerical answer: nan\\n\\nUser feedback: nan\\n\\n\\n### Example #4\\n\\nQ: Five years ago, there were 500 old books in </span>\n",
       "<span style=\"color: #008000; text-decoration-color: #008000\">the library. Two years ago, the librarian bought 300 books. Last year, the librarian bought 100 more books than she</span>\n",
       "<span style=\"color: #008000; text-decoration-color: #008000\">had bought the previous year. This year, the librarian donated 200 of the library\\'s old books. How many books are </span>\n",
       "<span style=\"color: #008000; text-decoration-color: #008000\">in the library now?\\n\\nThe final numerical answer: 700\\n\\nUser feedback: Incorrect. Must be equal to Last year the </span>\n",
       "<span style=\"color: #008000; text-decoration-color: #008000\">librarian bought 300 + 100 = &lt;&lt;300+100=400&gt;&gt;400 books.\\nThus, there were 500 + 300 + 400 = &lt;&lt;500+300+400=1200&gt;&gt;1200</span>\n",
       "<span style=\"color: #008000; text-decoration-color: #008000\">books as of last year.\\nTherefore, there are 1200 - 200 = &lt;&lt;1200-200=1000&gt;&gt;1000 books now in the library.\\n#### </span>\n",
       "<span style=\"color: #008000; text-decoration-color: #008000\">1000\\n\\n\\n\\t\\t\\tSummarize your analysis about incorrect predictions and suggest changes to the prompt.'</span><span style=\"font-weight: bold\">}</span>\n",
       "</pre>\n"
      ],
      "text/plain": [
       "\u001b[1m{\u001b[0m\u001b[32m'input'\u001b[0m: \u001b[32m'\\n\\t\\t\\tA prompt is a text paragraph that outlines the expected actions and instructs the large language\u001b[0m\n",
       "\u001b[32mmodel \u001b[0m\u001b[32m(\u001b[0m\u001b[32mLLM\u001b[0m\u001b[32m)\u001b[0m\u001b[32m to \\t\\t\\tgenerate a specific output. This prompt is concatenated with the input text, and the \u001b[0m\n",
       "\u001b[32m\\t\\t\\tmodel then creates the required output.\\n\\t\\t\\tThis describes the full template how the prompt is \u001b[0m\n",
       "\u001b[32mconcatenated with the input to produce the \u001b[0m\n",
       "\u001b[32moutput:\\n\\t\\t\\t```\\n\\t\\t\\t\\n\\t\\t\u001b[0m\u001b[32m{\u001b[0m\u001b[32mprompt\u001b[0m\u001b[32m}\u001b[0m\u001b[32m\\n\\t\\t\\t```\\n\\t\\t\\tHere:\\n\\t\\t\\t- \"\u001b[0m\u001b[32m{\u001b[0m\u001b[32mprompt\u001b[0m\u001b[32m}\u001b[0m\u001b[32m\" is the LLM \u001b[0m\n",
       "\u001b[32mprompt\\n\\n\\t\\t\\tModel can produce erroneous output if a prompt is not well defined. \\t\\t\\tIn our collaboration, \u001b[0m\n",
       "\u001b[32mwe’ll work together to refine a prompt. The process consists of two main steps:\\n\\n\\t\\t\\t## Step 1\\n\\t\\t\\tI will \u001b[0m\n",
       "\u001b[32mprovide you with the current prompt along with prediction examples. Each example contains the input text, the final\u001b[0m\n",
       "\u001b[32mprediction produced by the model, and the user feedback. \\t\\t\\tUser feedback indicates whether the model prediction\u001b[0m\n",
       "\u001b[32mis correct or not. \\t\\t\\tYour task is to analyze the examples and user feedback, determining whether the \u001b[0m\n",
       "\u001b[32m\\t\\t\\texisting instruction is describing the task reflected by these examples precisely, and suggests changes to \u001b[0m\n",
       "\u001b[32mthe prompt to address the incorrect predictions.\\n\\n\\t\\t\\t## Step 2\\n\\t\\t\\tNext, you will carefully review your \u001b[0m\n",
       "\u001b[32mreasoning in step 1, integrate the insights to refine the prompt, \\t\\t\\tand provide me with the new prompt that \u001b[0m\n",
       "\u001b[32mimproves the model’s performance.\\n\\t\\t\\t## Current prompt\\n\\t\\t\\t\"Carefully read the given mathematical problem, \u001b[0m\n",
       "\u001b[32mbreak it down into smaller steps, perform the necessary calculations, and provide the final numerical answer. \u001b[0m\n",
       "\u001b[32mEnsure to consider all the details provided in the problem and double-check your calculations to ensure accuracy. \u001b[0m\n",
       "\u001b[32mMake sure to correctly interpret the problem and apply the appropriate mathematical operations to arrive at the \u001b[0m\n",
       "\u001b[32mcorrect final answer.\"\\n\\t\\t\\t## Examples\\n\\t\\t\\t### Example #0\\n\\nQ: There are 100 lions in Londolozi at first. If\u001b[0m\n",
       "\u001b[32mlion cubs are born at the rate of 5 per month and lions die at the rate of 1 per month, how many lions will there \u001b[0m\n",
       "\u001b[32mbe in Londolozi after 1 year?\\n\\nThe final numerical answer: There will be 164 lions in Londolozi after 1 \u001b[0m\n",
       "\u001b[32myear.\\n\\nUser feedback: Incorrect. Must be equal to There are 5-\u001b[0m\u001b[32m1\u001b[0m\u001b[32m=\u001b[0m\u001b[32m<\u001b[0m\u001b[32m<5-\u001b[0m\u001b[32m1\u001b[0m\u001b[32m=\u001b[0m\u001b[32m4\u001b[0m\u001b[32m>>4 more lions each month.\\nThere will be \u001b[0m\n",
       "\u001b[32m4*\u001b[0m\u001b[32m12\u001b[0m\u001b[32m=<<4*\u001b[0m\u001b[32m12\u001b[0m\u001b[32m=\u001b[0m\u001b[32m48\u001b[0m\u001b[32m>>48 more lions after 1 year.\\nThere will be 100+\u001b[0m\u001b[32m48\u001b[0m\u001b[32m=<<100+\u001b[0m\u001b[32m48\u001b[0m\u001b[32m=\u001b[0m\u001b[32m148\u001b[0m\u001b[32m>>148 lions in Londolozi after 1 \u001b[0m\n",
       "\u001b[32myear.\\n#### 148\\n\\n\\n### Example #1\\n\\nQ: Marla is planning the lunch menu for an elementary school. There are 5 \u001b[0m\n",
       "\u001b[32mthird grade classes with 30 students each, 4 fourth grade classes with 28 students each, and 4 fifth grade classes \u001b[0m\n",
       "\u001b[32mwith 27 students each. Each student gets a hamburger, which costs $2.10, some carrots, which cost $0.50, and a \u001b[0m\n",
       "\u001b[32mcookie, which cost $0.20. How much does one lunch for all the students cost?\\n\\nThe final numerical answer: \u001b[0m\n",
       "\u001b[32m$3,402.00\\n\\nUser feedback: Incorrect. Must be equal to First find the total number of students in third grade 5 \u001b[0m\n",
       "\u001b[32mclasses * 30 students/class = <<5*\u001b[0m\u001b[32m30\u001b[0m\u001b[32m=\u001b[0m\u001b[32m150\u001b[0m\u001b[32m>>150 students\\nThen find the total number of students in fourth grade 4 \u001b[0m\n",
       "\u001b[32mclasses * 28 students/class = <<4*\u001b[0m\u001b[32m28\u001b[0m\u001b[32m=\u001b[0m\u001b[32m112\u001b[0m\u001b[32m>>112 students\\nThen find the total number of student in fifth grade 4 \u001b[0m\n",
       "\u001b[32mclasses * 27 students/class = <<4*\u001b[0m\u001b[32m27\u001b[0m\u001b[32m=\u001b[0m\u001b[32m108\u001b[0m\u001b[32m>>108 students\\nNow add the number of students in each grade to find the \u001b[0m\n",
       "\u001b[32mtotal number of students 150 students + 112 students + 108 students = <<150+112+\u001b[0m\u001b[32m108\u001b[0m\u001b[32m=\u001b[0m\u001b[32m370\u001b[0m\u001b[32m>>370 students\\nNow find the\u001b[0m\n",
       "\u001b[32mtotal cost of one lunch $2.10 + $0.50 + $0.20 = $<<2.10+0.50+0.\u001b[0m\u001b[32m20\u001b[0m\u001b[32m=\u001b[0m\u001b[32m2\u001b[0m\u001b[32m.80>>2.80\\nNow multiply that cost by the number \u001b[0m\n",
       "\u001b[32mof students to find the total cost for the school $2.80/student * 370 students = $<<2.80*\u001b[0m\u001b[32m370\u001b[0m\u001b[32m=\u001b[0m\u001b[32m1036\u001b[0m\u001b[32m>>1036\\n#### \u001b[0m\n",
       "\u001b[32m1036\\n\\n\\n### Example #2\\n\\nQ: Rhonda, Sally, and Diane are members of their school\\'s track team.  The three of \u001b[0m\n",
       "\u001b[32mthem run the 600-meter relay race together. Rhonda runs the first 200 meters of the race, Sally runs the second 200\u001b[0m\n",
       "\u001b[32mmeters of the race, and Diane runs the final 200 meters of the race. Rhonda can run 200 meters in 24 seconds.  \u001b[0m\n",
       "\u001b[32mSally takes two seconds longer to run the same distance, while Diane can run 200 meters three seconds faster than \u001b[0m\n",
       "\u001b[32mRhonda.  How many seconds does it take for the three of them to run the 600-meter relay race?\\n\\nThe final \u001b[0m\n",
       "\u001b[32mnumerical answer: 71\\n\\nUser feedback: Incorrect. Must be equal to Sally takes 24+\u001b[0m\u001b[32m2\u001b[0m\u001b[32m=<<24+\u001b[0m\u001b[32m2\u001b[0m\u001b[32m=\u001b[0m\u001b[32m26\u001b[0m\u001b[32m>>26 seconds.\\nDiane \u001b[0m\n",
       "\u001b[32mtakes 24-\u001b[0m\u001b[32m3\u001b[0m\u001b[32m=<<24-\u001b[0m\u001b[32m3\u001b[0m\u001b[32m=\u001b[0m\u001b[32m21\u001b[0m\u001b[32m>>21 seconds.\\nThus, the three take 24+26+\u001b[0m\u001b[32m21\u001b[0m\u001b[32m=<<24+26+\u001b[0m\u001b[32m21\u001b[0m\u001b[32m=\u001b[0m\u001b[32m71\u001b[0m\u001b[32m>>71 seconds to run the 600-meter \u001b[0m\n",
       "\u001b[32mrelay race.\\n#### 71\\n\\n\\n### Example #3\\n\\nQ: Milly is making croissants. She needs to fold the dough 4 times, \u001b[0m\n",
       "\u001b[32mwhich takes 5 minutes each time, then let it rest for 75 minutes each time. If mixing the ingredients takes 10 \u001b[0m\n",
       "\u001b[32mminutes and baking the croissants takes 30 minutes, how many hours does the whole process take?\\n\\nThe final \u001b[0m\n",
       "\u001b[32mnumerical answer: nan\\n\\nUser feedback: nan\\n\\n\\n### Example #4\\n\\nQ: Five years ago, there were 500 old books in \u001b[0m\n",
       "\u001b[32mthe library. Two years ago, the librarian bought 300 books. Last year, the librarian bought 100 more books than she\u001b[0m\n",
       "\u001b[32mhad bought the previous year. This year, the librarian donated 200 of the library\\'s old books. How many books are \u001b[0m\n",
       "\u001b[32min the library now?\\n\\nThe final numerical answer: 700\\n\\nUser feedback: Incorrect. Must be equal to Last year the \u001b[0m\n",
       "\u001b[32mlibrarian bought 300 + 100 = <<300+\u001b[0m\u001b[32m100\u001b[0m\u001b[32m=\u001b[0m\u001b[32m400\u001b[0m\u001b[32m>>400 books.\\nThus, there were 500 + 300 + 400 = <<500+300+\u001b[0m\u001b[32m400\u001b[0m\u001b[32m=\u001b[0m\u001b[32m1200\u001b[0m\u001b[32m>>1200\u001b[0m\n",
       "\u001b[32mbooks as of last year.\\nTherefore, there are 1200 - 200 = <<1200-\u001b[0m\u001b[32m200\u001b[0m\u001b[32m=\u001b[0m\u001b[32m1000\u001b[0m\u001b[32m>\u001b[0m\u001b[32m>\u001b[0m\u001b[32m1000 books now in the library.\\n#### \u001b[0m\n",
       "\u001b[32m1000\\n\\n\\n\\t\\t\\tSummarize your analysis about incorrect predictions and suggest changes to the prompt.'\u001b[0m\u001b[1m}\u001b[0m\n"
      ]
     },
     "metadata": {},
     "output_type": "display_data"
    },
    {
     "data": {
      "text/html": [
       "<pre style=\"white-space:pre;overflow-x:auto;line-height:normal;font-family:Menlo,'DejaVu Sans Mono',consolas,'Courier New',monospace\"><span style=\"font-weight: bold\">{</span><span style=\"color: #008000; text-decoration-color: #008000\">'input'</span>: <span style=\"color: #008000; text-decoration-color: #008000\">'\\n\\t\\t\\tNow please carefully review your reasoning in Step 1 and help with Step 2: refining the </span>\n",
       "<span style=\"color: #008000; text-decoration-color: #008000\">prompt.\\n\\t\\t\\t## Current prompt\\n\\t\\t\\t\"Carefully read the given mathematical problem, break it down into smaller </span>\n",
       "<span style=\"color: #008000; text-decoration-color: #008000\">steps, perform the necessary calculations, and provide the final numerical answer. Ensure to consider all the </span>\n",
       "<span style=\"color: #008000; text-decoration-color: #008000\">details provided in the problem and double-check your calculations to ensure accuracy. Make sure to correctly </span>\n",
       "<span style=\"color: #008000; text-decoration-color: #008000\">interpret the problem and apply the appropriate mathematical operations to arrive at the correct final </span>\n",
       "<span style=\"color: #008000; text-decoration-color: #008000\">answer.\"\\n\\n\\t\\t\\t## Follow this guidance to refine the prompt:\\n\\n\\t\\t\\t1. The new prompt should should describe </span>\n",
       "<span style=\"color: #008000; text-decoration-color: #008000\">the task precisely, and address the points raised in the user feedback.\\n\\n\\t\\t\\t2. The new prompt should be </span>\n",
       "<span style=\"color: #008000; text-decoration-color: #008000\">similar to the current instruction, and only differ in the parts that address the issues you identified in Step </span>\n",
       "<span style=\"color: #008000; text-decoration-color: #008000\">1.\\n\\t\\t\\t\\t\\tExample:\\n\\t\\t\\t\\t\\t- Current prompt: \"The model should generate a summary of the input </span>\n",
       "<span style=\"color: #008000; text-decoration-color: #008000\">text.\"\\n\\t\\t\\t\\t\\t- New prompt: \"The model should generate a summary of the input text. Pay attention to the </span>\n",
       "<span style=\"color: #008000; text-decoration-color: #008000\">original style.\"\\n\\n\\t\\t\\t3. Reply only with the new prompt. Do not include input and output templates in the </span>\n",
       "<span style=\"color: #008000; text-decoration-color: #008000\">prompt. remove any special characters from the prompt.'</span><span style=\"font-weight: bold\">}</span>\n",
       "</pre>\n"
      ],
      "text/plain": [
       "\u001b[1m{\u001b[0m\u001b[32m'input'\u001b[0m: \u001b[32m'\\n\\t\\t\\tNow please carefully review your reasoning in Step 1 and help with Step 2: refining the \u001b[0m\n",
       "\u001b[32mprompt.\\n\\t\\t\\t## Current prompt\\n\\t\\t\\t\"Carefully read the given mathematical problem, break it down into smaller \u001b[0m\n",
       "\u001b[32msteps, perform the necessary calculations, and provide the final numerical answer. Ensure to consider all the \u001b[0m\n",
       "\u001b[32mdetails provided in the problem and double-check your calculations to ensure accuracy. Make sure to correctly \u001b[0m\n",
       "\u001b[32minterpret the problem and apply the appropriate mathematical operations to arrive at the correct final \u001b[0m\n",
       "\u001b[32manswer.\"\\n\\n\\t\\t\\t## Follow this guidance to refine the prompt:\\n\\n\\t\\t\\t1. The new prompt should should describe \u001b[0m\n",
       "\u001b[32mthe task precisely, and address the points raised in the user feedback.\\n\\n\\t\\t\\t2. The new prompt should be \u001b[0m\n",
       "\u001b[32msimilar to the current instruction, and only differ in the parts that address the issues you identified in Step \u001b[0m\n",
       "\u001b[32m1.\\n\\t\\t\\t\\t\\tExample:\\n\\t\\t\\t\\t\\t- Current prompt: \"The model should generate a summary of the input \u001b[0m\n",
       "\u001b[32mtext.\"\\n\\t\\t\\t\\t\\t- New prompt: \"The model should generate a summary of the input text. Pay attention to the \u001b[0m\n",
       "\u001b[32moriginal style.\"\\n\\n\\t\\t\\t3. Reply only with the new prompt. Do not include input and output templates in the \u001b[0m\n",
       "\u001b[32mprompt. remove any special characters from the prompt.'\u001b[0m\u001b[1m}\u001b[0m\n"
      ]
     },
     "metadata": {},
     "output_type": "display_data"
    },
    {
     "data": {
      "text/html": [
       "<pre style=\"white-space:pre;overflow-x:auto;line-height:normal;font-family:Menlo,'DejaVu Sans Mono',consolas,'Courier New',monospace\">reasoning: The current prompt instructs the model to <span style=\"color: #008000; text-decoration-color: #008000\">\"Carefully read the given mathematical problem, break it down </span>\n",
       "<span style=\"color: #008000; text-decoration-color: #008000\">into smaller steps, perform the necessary calculations, and provide the final numerical answer.\"</span> However, the model\n",
       "seems to be struggling with correctly interpreting the problem and performing the necessary calculations. \n",
       "\n",
       "In Example #<span style=\"color: #008080; text-decoration-color: #008080; font-weight: bold\">0</span>, the model failed to correctly calculate the net increase in the lion population per month. In \n",
       "Example #<span style=\"color: #008080; text-decoration-color: #008080; font-weight: bold\">1</span>, the model incorrectly calculated the total cost of lunch for all students. In Example #<span style=\"color: #008080; text-decoration-color: #008080; font-weight: bold\">2</span>, the model \n",
       "correctly calculated the total time taken for the relay race, but the user feedback suggests that the model's \n",
       "answer was incorrect. In Example #<span style=\"color: #008080; text-decoration-color: #008080; font-weight: bold\">3</span>, the model failed to provide an answer. In Example #<span style=\"color: #008080; text-decoration-color: #008080; font-weight: bold\">4</span>, the model incorrectly \n",
       "calculated the total number of books in the library.\n",
       "\n",
       "The prompt could be improved by emphasizing the importance of correctly interpreting the problem and performing the\n",
       "necessary calculations. The model should also be instructed to double-check its calculations to ensure accuracy. \n",
       "\n",
       "Here is the revised prompt: \n",
       "\n",
       "\"Carefully read the given mathematical problem and interpret it correctly. Break it down into smaller steps, \n",
       "perform the necessary calculations, and provide the final numerical answer. Ensure to consider all the details \n",
       "provided in the problem. Double-check your calculations to ensure accuracy. If the problem involves a\n",
       "</pre>\n"
      ],
      "text/plain": [
       "reasoning: The current prompt instructs the model to \u001b[32m\"Carefully read the given mathematical problem, break it down \u001b[0m\n",
       "\u001b[32minto smaller steps, perform the necessary calculations, and provide the final numerical answer.\"\u001b[0m However, the model\n",
       "seems to be struggling with correctly interpreting the problem and performing the necessary calculations. \n",
       "\n",
       "In Example #\u001b[1;36m0\u001b[0m, the model failed to correctly calculate the net increase in the lion population per month. In \n",
       "Example #\u001b[1;36m1\u001b[0m, the model incorrectly calculated the total cost of lunch for all students. In Example #\u001b[1;36m2\u001b[0m, the model \n",
       "correctly calculated the total time taken for the relay race, but the user feedback suggests that the model's \n",
       "answer was incorrect. In Example #\u001b[1;36m3\u001b[0m, the model failed to provide an answer. In Example #\u001b[1;36m4\u001b[0m, the model incorrectly \n",
       "calculated the total number of books in the library.\n",
       "\n",
       "The prompt could be improved by emphasizing the importance of correctly interpreting the problem and performing the\n",
       "necessary calculations. The model should also be instructed to double-check its calculations to ensure accuracy. \n",
       "\n",
       "Here is the revised prompt: \n",
       "\n",
       "\"Carefully read the given mathematical problem and interpret it correctly. Break it down into smaller steps, \n",
       "perform the necessary calculations, and provide the final numerical answer. Ensure to consider all the details \n",
       "provided in the problem. Double-check your calculations to ensure accuracy. If the problem involves a\n"
      ]
     },
     "metadata": {},
     "output_type": "display_data"
    },
    {
     "data": {
      "text/html": [
       "<pre style=\"white-space:pre;overflow-x:auto;line-height:normal;font-family:Menlo,'DejaVu Sans Mono',consolas,'Courier New',monospace\">New prompt: <span style=\"color: #008000; text-decoration-color: #008000\">\"Carefully read and correctly interpret the given mathematical problem. Break it down into manageable </span>\n",
       "<span style=\"color: #008000; text-decoration-color: #008000\">steps, perform the necessary calculations, and provide the final numerical answer. Pay close attention to all the </span>\n",
       "<span style=\"color: #008000; text-decoration-color: #008000\">details provided in the problem. Double-check your calculations to ensure accuracy and precision. If the problem </span>\n",
       "<span style=\"color: #008000; text-decoration-color: #008000\">involves multiple steps or calculations, ensure each step is correctly executed to arrive at the correct final </span>\n",
       "<span style=\"color: #008000; text-decoration-color: #008000\">answer.\"</span>\n",
       "</pre>\n"
      ],
      "text/plain": [
       "New prompt: \u001b[32m\"Carefully read and correctly interpret the given mathematical problem. Break it down into manageable \u001b[0m\n",
       "\u001b[32msteps, perform the necessary calculations, and provide the final numerical answer. Pay close attention to all the \u001b[0m\n",
       "\u001b[32mdetails provided in the problem. Double-check your calculations to ensure accuracy and precision. If the problem \u001b[0m\n",
       "\u001b[32minvolves multiple steps or calculations, ensure each step is correctly executed to arrive at the correct final \u001b[0m\n",
       "\u001b[32manswer.\"\u001b[0m\n"
      ]
     },
     "metadata": {},
     "output_type": "display_data"
    },
    {
     "data": {
      "text/html": [
       "\"Carefully read <span style=\"background-color: lightgreen;\">a</span><span style=\"background-color: lightgreen;\">n</span><span style=\"background-color: lightgreen;\">d</span><span style=\"background-color: lightgreen;\"> </span><span style=\"background-color: lightgreen;\">c</span><span style=\"background-color: lightgreen;\">o</span><span style=\"background-color: lightgreen;\">r</span><span style=\"background-color: lightgreen;\">r</span><span style=\"background-color: lightgreen;\">e</span><span style=\"background-color: lightgreen;\">c</span><span style=\"background-color: lightgreen;\">t</span><span style=\"background-color: lightgreen;\">l</span><span style=\"background-color: lightgreen;\">y</span><span style=\"background-color: lightgreen;\"> </span><span style=\"background-color: lightgreen;\">i</span><span style=\"background-color: lightgreen;\">n</span><span style=\"background-color: lightgreen;\">t</span><span style=\"background-color: lightgreen;\">e</span><span style=\"background-color: lightgreen;\">r</span><span style=\"background-color: lightgreen;\">p</span><span style=\"background-color: lightgreen;\">r</span><span style=\"background-color: lightgreen;\">e</span><span style=\"background-color: lightgreen;\">t</span><span style=\"background-color: lightgreen;\"> </span>the given mathematical problem<span style=\"background-color: lightgreen;\">.</span><span style=\"background-color: lightgreen;\"> </span><span style=\"background-color: lightgreen;\">B</span><span style=\"background-color: lightgreen;\">r</span><span style=\"background-color: lightgreen;\">e</span><span style=\"background-color: lightgreen;\">a</span><span style=\"background-color: lightgreen;\">k</span><span style=\"background-color: lightgreen;\"> </span><span style=\"background-color: lightgreen;\">i</span><span style=\"background-color: lightgreen;\">t</span><span style=\"background-color: lightgreen;\"> </span><span style=\"background-color: lightgreen;\">d</span><span style=\"background-color: lightgreen;\">o</span><span style=\"background-color: lightgreen;\">w</span><span style=\"background-color: lightgreen;\">n</span><span style=\"background-color: lightgreen;\"> </span><span style=\"background-color: lightgreen;\">i</span><span style=\"background-color: lightgreen;\">n</span><span style=\"background-color: lightgreen;\">t</span><span style=\"background-color: lightgreen;\">o</span><span style=\"background-color: lightgreen;\"> </span><span style=\"background-color: lightgreen;\">m</span><span style=\"background-color: lightgreen;\">a</span><span style=\"background-color: lightgreen;\">n</span><span style=\"background-color: lightgreen;\">a</span><span style=\"background-color: lightgreen;\">g</span><span style=\"background-color: lightgreen;\">e</span><span style=\"background-color: lightgreen;\">a</span><span style=\"background-color: lightgreen;\">b</span><span style=\"background-color: lightgreen;\">l</span><span style=\"background-color: lightgreen;\">e</span><span style=\"background-color: lightgreen;\"> </span><span style=\"background-color: lightgreen;\">s</span><span style=\"background-color: lightgreen;\">t</span><span style=\"background-color: lightgreen;\">e</span><span style=\"background-color: lightgreen;\">p</span><span style=\"background-color: lightgreen;\">s</span>, <span style=\"background-color: lightgreen;\">p</span><span style=\"background-color: lightgreen;\">e</span><span style=\"background-color: lightgreen;\">r</span><span style=\"background-color: lightgreen;\">f</span><span style=\"background-color: lightgreen;\">o</span><span style=\"background-color: lightgreen;\">r</span><span style=\"background-color: lightgreen;\">m</span><span style=\"background-color: lightgreen;\"> </span><span style=\"background-color: lightgreen;\">t</span><span style=\"background-color: lightgreen;\">h</span><span style=\"background-color: lightgreen;\">e</span><span style=\"background-color: lightgreen;\"> </span><span style=\"background-color: lightgreen;\">n</span><span style=\"background-color: lightgreen;\">e</span><span style=\"background-color: lightgreen;\">c</span><span style=\"background-color: lightgreen;\">e</span><span style=\"background-color: lightgreen;\">s</span><span style=\"background-color: lightgreen;\">s</span><span style=\"background-color: lightgreen;\">a</span><span style=\"background-color: lightgreen;\">r</span><span style=\"background-color: lightgreen;\">y</span><span style=\"background-color: lightgreen;\"> </span><span style=\"background-color: lightgreen;\">c</span><span style=\"background-color: lightgreen;\">a</span><span style=\"background-color: lightgreen;\">l</span><span style=\"background-color: lightgreen;\">c</span><span style=\"background-color: lightgreen;\">u</span><span style=\"background-color: lightgreen;\">l</span><span style=\"background-color: lightgreen;\">a</span><span style=\"background-color: lightgreen;\">t</span><span style=\"background-color: lightgreen;\">i</span><span style=\"background-color: lightgreen;\">o</span><span style=\"background-color: lightgreen;\">n</span><span style=\"background-color: lightgreen;\">s</span><span style=\"background-color: lightgreen;\">,</span><span style=\"background-color: lightgreen;\"> </span><span style=\"background-color: lightgreen;\">a</span><span style=\"background-color: lightgreen;\">n</span><span style=\"background-color: lightgreen;\">d</span><span style=\"background-color: lightgreen;\"> </span><span style=\"background-color: lightgreen;\">p</span><span style=\"background-color: lightgreen;\">r</span><span style=\"background-color: lightgreen;\">o</span><span style=\"background-color: lightgreen;\">v</span><span style=\"background-color: lightgreen;\">i</span><span style=\"background-color: lightgreen;\">d</span><span style=\"background-color: lightgreen;\">e</span><span style=\"background-color: lightgreen;\"> </span><span style=\"background-color: lightgreen;\">t</span><span style=\"background-color: lightgreen;\">h</span><span style=\"background-color: lightgreen;\">e</span><span style=\"background-color: lightgreen;\"> </span><span style=\"background-color: lightgreen;\">f</span><span style=\"background-color: lightgreen;\">i</span><span style=\"background-color: lightgreen;\">n</span><span style=\"background-color: lightgreen;\">a</span><span style=\"background-color: lightgreen;\">l</span><span style=\"background-color: lightgreen;\"> </span><span style=\"background-color: lightgreen;\">n</span><span style=\"background-color: lightgreen;\">u</span><span style=\"background-color: lightgreen;\">m</span><span style=\"background-color: lightgreen;\">e</span><span style=\"background-color: lightgreen;\">r</span><span style=\"background-color: lightgreen;\">i</span><span style=\"background-color: lightgreen;\">c</span><span style=\"background-color: lightgreen;\">a</span><span style=\"background-color: lightgreen;\">l</span><span style=\"background-color: lightgreen;\"> </span><span style=\"background-color: lightgreen;\">a</span><span style=\"background-color: lightgreen;\">n</span><span style=\"background-color: lightgreen;\">s</span><span style=\"background-color: lightgreen;\">w</span><span style=\"background-color: lightgreen;\">e</span><span style=\"background-color: lightgreen;\">r</span><span style=\"background-color: lightgreen;\">.</span><span style=\"background-color: lightgreen;\"> </span><span style=\"background-color: lightgreen;\">P</span><span style=\"background-color: lightgreen;\">a</span><span style=\"background-color: lightgreen;\">y</span><span style=\"background-color: lightgreen;\"> </span><span style=\"background-color: lightgreen;\">c</span><span style=\"background-color: lightgreen;\">l</span><span style=\"background-color: lightgreen;\">o</span><span style=\"background-color: lightgreen;\">s</span><span style=\"background-color: lightgreen;\">e</span><span style=\"background-color: lightgreen;\"> </span><span style=\"background-color: lightgreen;\">a</span><span style=\"background-color: lightgreen;\">t</span><span style=\"background-color: lightgreen;\">t</span><span style=\"background-color: lightgreen;\">e</span><span style=\"background-color: lightgreen;\">n</span><span style=\"background-color: lightgreen;\">t</span><span style=\"background-color: lightgreen;\">i</span><span style=\"background-color: lightgreen;\">o</span><span style=\"background-color: lightgreen;\">n</span><span style=\"background-color: lightgreen;\"> </span><span style=\"background-color: lightgreen;\">t</span><span style=\"background-color: lightgreen;\">o</span><span style=\"background-color: lightgreen;\"> </span><span style=\"background-color: lightgreen;\">a</span><span style=\"background-color: lightgreen;\">l</span><span style=\"background-color: lightgreen;\">l</span><span style=\"background-color: lightgreen;\"> </span><span style=\"background-color: lightgreen;\">t</span><span style=\"background-color: lightgreen;\">h</span><span style=\"background-color: lightgreen;\">e</span><span style=\"background-color: lightgreen;\"> </span><span style=\"background-color: lightgreen;\">d</span><span style=\"background-color: lightgreen;\">e</span><span style=\"background-color: lightgreen;\">t</span><span style=\"background-color: lightgreen;\">a</span><span style=\"background-color: lightgreen;\">i</span><span style=\"background-color: lightgreen;\">l</span><span style=\"background-color: lightgreen;\">s</span><span style=\"background-color: lightgreen;\"> </span><span style=\"background-color: lightgreen;\">p</span><span style=\"background-color: lightgreen;\">r</span><span style=\"background-color: lightgreen;\">o</span><span style=\"background-color: lightgreen;\">v</span><span style=\"background-color: lightgreen;\">i</span><span style=\"background-color: lightgreen;\">d</span><span style=\"background-color: lightgreen;\">e</span><span style=\"background-color: lightgreen;\">d</span><span style=\"background-color: lightgreen;\"> </span><span style=\"background-color: lightgreen;\">i</span><span style=\"background-color: lightgreen;\">n</span><span style=\"background-color: lightgreen;\"> </span><span style=\"background-color: lightgreen;\">t</span><span style=\"background-color: lightgreen;\">h</span><span style=\"background-color: lightgreen;\">e</span><span style=\"background-color: lightgreen;\"> </span><span style=\"background-color: lightgreen;\">p</span><span style=\"background-color: lightgreen;\">r</span><span style=\"background-color: lightgreen;\">o</span>b<span style=\"background-color: lightgreen;\">l</span>e<span style=\"background-color: lightgreen;\">m</span><span style=\"background-color: lightgreen;\">.</span><span style=\"background-color: lightgreen;\"> </span><span style=\"background-color: lightgreen;\">D</span><span style=\"background-color: lightgreen;\">o</span><span style=\"background-color: lightgreen;\">u</span><span style=\"background-color: lightgreen;\">b</span><span style=\"background-color: lightgreen;\">l</span><span style=\"background-color: lightgreen;\">e</span><span style=\"background-color: lightgreen;\">-</span><span style=\"background-color: lightgreen;\">c</span><span style=\"background-color: lightgreen;\">h</span><span style=\"background-color: lightgreen;\">e</span><span style=\"background-color: lightgreen;\">c</span>k <span style=\"background-color: lightgreen;\">y</span>o<span style=\"background-color: lightgreen;\">u</span>r <span style=\"background-color: lightgreen;\">c</span><span style=\"background-color: lightgreen;\">a</span><span style=\"background-color: lightgreen;\">l</span><span style=\"background-color: lightgreen;\">c</span><span style=\"background-color: lightgreen;\">u</span><span style=\"background-color: lightgreen;\">l</span><span style=\"background-color: lightgreen;\">a</span>t<span style=\"background-color: lightgreen;\">i</span><span style=\"background-color: lightgreen;\">o</span><span style=\"background-color: lightgreen;\">n</span><span style=\"background-color: lightgreen;\">s</span><span style=\"background-color: lightgreen;\"> </span><span style=\"background-color: lightgreen;\">t</span><span style=\"background-color: lightgreen;\">o</span><span style=\"background-color: lightgreen;\"> </span>e<span style=\"background-color: lightgreen;\">n</span><span style=\"background-color: lightgreen;\">s</span><span style=\"background-color: lightgreen;\">u</span><span style=\"background-color: lightgreen;\">r</span><span style=\"background-color: lightgreen;\">e</span><span style=\"background-color: lightgreen;\"> </span><span style=\"background-color: lightgreen;\">a</span><span style=\"background-color: lightgreen;\">c</span><span style=\"background-color: lightgreen;\">c</span><span style=\"background-color: lightgreen;\">u</span><span style=\"background-color: lightgreen;\">r</span><span style=\"background-color: lightgreen;\">a</span><span style=\"background-color: lightgreen;\">c</span><span style=\"background-color: lightgreen;\">y</span><span style=\"background-color: lightgreen;\"> </span><span style=\"background-color: lightgreen;\">a</span><span style=\"background-color: lightgreen;\">n</span><span style=\"background-color: lightgreen;\">d</span><span style=\"background-color: lightgreen;\"> </span>p<span style=\"background-color: lightgreen;\">r</span><span style=\"background-color: lightgreen;\">e</span><span style=\"background-color: lightgreen;\">c</span><span style=\"background-color: lightgreen;\">i</span><span style=\"background-color: lightgreen;\">s</span><span style=\"background-color: lightgreen;\">i</span><span style=\"background-color: lightgreen;\">o</span><span style=\"background-color: lightgreen;\">n</span><span style=\"background-color: lightgreen;\">.</span><span style=\"background-color: lightgreen;\"> </span><span style=\"background-color: lightgreen;\">I</span><span style=\"background-color: lightgreen;\">f</span><span style=\"background-color: lightgreen;\"> </span><span style=\"background-color: lightgreen;\">t</span><span style=\"background-color: lightgreen;\">h</span><span style=\"background-color: lightgreen;\">e</span><span style=\"background-color: lightgreen;\"> </span><span style=\"background-color: lightgreen;\">p</span><span style=\"background-color: lightgreen;\">r</span><span style=\"background-color: lightgreen;\">o</span><span style=\"background-color: lightgreen;\">b</span><span style=\"background-color: lightgreen;\">l</span><span style=\"background-color: lightgreen;\">e</span><span style=\"background-color: lightgreen;\">m</span><span style=\"background-color: lightgreen;\"> </span><span style=\"background-color: lightgreen;\">i</span><span style=\"background-color: lightgreen;\">n</span><span style=\"background-color: lightgreen;\">v</span><span style=\"background-color: lightgreen;\">o</span><span style=\"background-color: lightgreen;\">l</span><span style=\"background-color: lightgreen;\">v</span><span style=\"background-color: lightgreen;\">e</span><span style=\"background-color: lightgreen;\">s</span><span style=\"background-color: lightgreen;\"> </span><span style=\"background-color: lightgreen;\">m</span><span style=\"background-color: lightgreen;\">u</span><span style=\"background-color: lightgreen;\">l</span><span style=\"background-color: lightgreen;\">t</span><span style=\"background-color: lightgreen;\">i</span><span style=\"background-color: lightgreen;\">p</span><span style=\"background-color: lightgreen;\">l</span><span style=\"background-color: lightgreen;\">e</span><span style=\"background-color: lightgreen;\"> </span><span style=\"background-color: lightgreen;\">s</span><span style=\"background-color: lightgreen;\">t</span><span style=\"background-color: lightgreen;\">e</span><span style=\"background-color: lightgreen;\">p</span><span style=\"background-color: lightgreen;\">s</span><span style=\"background-color: lightgreen;\"> </span><span style=\"background-color: lightgreen;\">o</span><span style=\"background-color: lightgreen;\">r</span><span style=\"background-color: lightgreen;\"> </span><span style=\"background-color: lightgreen;\">c</span><span style=\"background-color: lightgreen;\">a</span><span style=\"background-color: lightgreen;\">l</span><span style=\"background-color: lightgreen;\">c</span><span style=\"background-color: lightgreen;\">u</span><span style=\"background-color: lightgreen;\">l</span><span style=\"background-color: lightgreen;\">a</span><span style=\"background-color: lightgreen;\">t</span><span style=\"background-color: lightgreen;\">i</span><span style=\"background-color: lightgreen;\">o</span><span style=\"background-color: lightgreen;\">n</span>s, ensure each step is correctly e<span style=\"background-color: lightgreen;\">x</span>ec<span style=\"background-color: lightgreen;\">u</span>t<span style=\"background-color: lightgreen;\">e</span><span style=\"background-color: lightgreen;\">d</span> to arrive at the correct final answer.\""
      ],
      "text/plain": [
       "<IPython.core.display.HTML object>"
      ]
     },
     "metadata": {},
     "output_type": "display_data"
    },
    {
     "data": {
      "text/html": [
       "<pre style=\"white-space:pre;overflow-x:auto;line-height:normal;font-family:Menlo,'DejaVu Sans Mono',consolas,'Courier New',monospace\">Train is done!\n",
       "</pre>\n"
      ],
      "text/plain": [
       "Train is done!\n"
      ]
     },
     "metadata": {},
     "output_type": "display_data"
    },
    {
     "data": {
      "text/html": [
       "<pre style=\"white-space:pre;overflow-x:auto;line-height:normal;font-family:Menlo,'DejaVu Sans Mono',consolas,'Courier New',monospace\">\n",
       "\n",
       "=&gt; Iteration #<span style=\"color: #008080; text-decoration-color: #008080; font-weight: bold\">3</span>: Getting feedback, analyzing and improving <span style=\"color: #808000; text-decoration-color: #808000\">...</span>\n",
       "</pre>\n"
      ],
      "text/plain": [
       "\n",
       "\n",
       "=> Iteration #\u001b[1;36m3\u001b[0m: Getting feedback, analyzing and improving \u001b[33m...\u001b[0m\n"
      ]
     },
     "metadata": {},
     "output_type": "display_data"
    },
    {
     "data": {
      "text/html": [
       "<pre style=\"white-space:pre;overflow-x:auto;line-height:normal;font-family:Menlo,'DejaVu Sans Mono',consolas,'Courier New',monospace\">Applying skill: math_solver\n",
       "</pre>\n"
      ],
      "text/plain": [
       "Applying skill: math_solver\n"
      ]
     },
     "metadata": {},
     "output_type": "display_data"
    },
    {
     "name": "stderr",
     "output_type": "stream",
     "text": [
      "  0%|          | 0/5 [00:00<?, ?it/s]"
     ]
    },
    {
     "data": {
      "text/html": [
       "<pre style=\"white-space:pre;overflow-x:auto;line-height:normal;font-family:Menlo,'DejaVu Sans Mono',consolas,'Courier New',monospace\"><span style=\"font-weight: bold\">{</span><span style=\"color: #008000; text-decoration-color: #008000\">'question'</span>: <span style=\"color: #008000; text-decoration-color: #008000\">'Adam has three more than twice as many tattoos as Jason has.  If Jason has two tattoos on each of his</span>\n",
       "<span style=\"color: #008000; text-decoration-color: #008000\">arms and three tattoos on each of his legs, how many tattoos does Adam have?'</span>, <span style=\"color: #008000; text-decoration-color: #008000\">'answer'</span>: <span style=\"color: #008000; text-decoration-color: #008000\">'2 tattoos on each arm is </span>\n",
       "<span style=\"color: #008000; text-decoration-color: #008000\">a total of 2*2=&lt;&lt;2*2=4&gt;&gt;4 tattoos.\\n3 tattoos on each leg is a total of 2*3=&lt;&lt;2*3=6&gt;&gt;6 tattoos.\\nThus, Jason has </span>\n",
       "<span style=\"color: #008000; text-decoration-color: #008000\">4+6=&lt;&lt;4+6=10&gt;&gt;10 tattoos.\\nTwice the number of tattoos that Jason has is 2*10=&lt;&lt;2*10=20&gt;&gt;20 tattoos.\\nAdam has 3 </span>\n",
       "<span style=\"color: #008000; text-decoration-color: #008000\">more than twice the number Jason has, or 3+20=&lt;&lt;3+20=23&gt;&gt;23 tattoos.\\n#### 23'</span><span style=\"font-weight: bold\">}</span>\n",
       "</pre>\n"
      ],
      "text/plain": [
       "\u001b[1m{\u001b[0m\u001b[32m'question'\u001b[0m: \u001b[32m'Adam has three more than twice as many tattoos as Jason has.  If Jason has two tattoos on each of his\u001b[0m\n",
       "\u001b[32marms and three tattoos on each of his legs, how many tattoos does Adam have?'\u001b[0m, \u001b[32m'answer'\u001b[0m: \u001b[32m'2 tattoos on each arm is \u001b[0m\n",
       "\u001b[32ma total of 2*\u001b[0m\u001b[32m2\u001b[0m\u001b[32m=\u001b[0m\u001b[32m<\u001b[0m\u001b[32m<2*\u001b[0m\u001b[32m2\u001b[0m\u001b[32m=\u001b[0m\u001b[32m4\u001b[0m\u001b[32m>>4 tattoos.\\n3 tattoos on each leg is a total of 2*\u001b[0m\u001b[32m3\u001b[0m\u001b[32m=<<2*\u001b[0m\u001b[32m3\u001b[0m\u001b[32m=\u001b[0m\u001b[32m6\u001b[0m\u001b[32m>>6 tattoos.\\nThus, Jason has \u001b[0m\n",
       "\u001b[32m4+\u001b[0m\u001b[32m6\u001b[0m\u001b[32m=<<4+\u001b[0m\u001b[32m6\u001b[0m\u001b[32m=\u001b[0m\u001b[32m10\u001b[0m\u001b[32m>>10 tattoos.\\nTwice the number of tattoos that Jason has is 2*\u001b[0m\u001b[32m10\u001b[0m\u001b[32m=<<2*\u001b[0m\u001b[32m10\u001b[0m\u001b[32m=\u001b[0m\u001b[32m20\u001b[0m\u001b[32m>>20 tattoos.\\nAdam has 3 \u001b[0m\n",
       "\u001b[32mmore than twice the number Jason has, or 3+\u001b[0m\u001b[32m20\u001b[0m\u001b[32m=<<3+\u001b[0m\u001b[32m20\u001b[0m\u001b[32m=\u001b[0m\u001b[32m23\u001b[0m\u001b[32m>\u001b[0m\u001b[32m>\u001b[0m\u001b[32m23 tattoos.\\n#### 23'\u001b[0m\u001b[1m}\u001b[0m\n"
      ]
     },
     "metadata": {},
     "output_type": "display_data"
    },
    {
     "name": "stderr",
     "output_type": "stream",
     "text": [
      " 40%|████      | 2/5 [00:03<00:04,  1.66s/it]"
     ]
    },
    {
     "data": {
      "text/html": [
       "<pre style=\"white-space:pre;overflow-x:auto;line-height:normal;font-family:Menlo,'DejaVu Sans Mono',consolas,'Courier New',monospace\"><span style=\"font-weight: bold\">{</span><span style=\"color: #008000; text-decoration-color: #008000\">'question'</span>: <span style=\"color: #008000; text-decoration-color: #008000\">'Giselle had 20 female doves in a birdhouse. After a month, the doves laid 3 eggs each. If 3/4 of the </span>\n",
       "<span style=\"color: #008000; text-decoration-color: #008000\">eggs hatched, calculate the total number of doves Giselle has now.'</span>, <span style=\"color: #008000; text-decoration-color: #008000\">'answer'</span>: <span style=\"color: #008000; text-decoration-color: #008000\">'If Giselle had 20 doves that laid 3</span>\n",
       "<span style=\"color: #008000; text-decoration-color: #008000\">eggs each, the total number of eggs in the birdhouse is 20*3 = &lt;&lt;20*3=60&gt;&gt;60 eggs.\\nIf 3/4 of the eggs hatched into</span>\n",
       "<span style=\"color: #008000; text-decoration-color: #008000\">birds, their total number is 3/4*60 = &lt;&lt;3/4*60=45&gt;&gt;45\\nIn the birdhouse, there are 20 initial doves + 45 new squabs</span>\n",
       "<span style=\"color: #008000; text-decoration-color: #008000\">= &lt;&lt;20+45=65&gt;&gt;65 birds\\n#### 65'</span><span style=\"font-weight: bold\">}</span>\n",
       "</pre>\n"
      ],
      "text/plain": [
       "\u001b[1m{\u001b[0m\u001b[32m'question'\u001b[0m: \u001b[32m'Giselle had 20 female doves in a birdhouse. After a month, the doves laid 3 eggs each. If 3/4 of the \u001b[0m\n",
       "\u001b[32meggs hatched, calculate the total number of doves Giselle has now.'\u001b[0m, \u001b[32m'answer'\u001b[0m: \u001b[32m'If Giselle had 20 doves that laid 3\u001b[0m\n",
       "\u001b[32meggs each, the total number of eggs in the birdhouse is 20*3 = \u001b[0m\u001b[32m<\u001b[0m\u001b[32m<20*\u001b[0m\u001b[32m3\u001b[0m\u001b[32m=\u001b[0m\u001b[32m60\u001b[0m\u001b[32m>>60 eggs.\\nIf 3/4 of the eggs hatched into\u001b[0m\n",
       "\u001b[32mbirds, their total number is 3/4*60 = <<3/4*\u001b[0m\u001b[32m60\u001b[0m\u001b[32m=\u001b[0m\u001b[32m45\u001b[0m\u001b[32m>>45\\nIn the birdhouse, there are 20 initial doves + 45 new squabs\u001b[0m\n",
       "\u001b[32m= <<20+\u001b[0m\u001b[32m45\u001b[0m\u001b[32m=\u001b[0m\u001b[32m65\u001b[0m\u001b[32m>\u001b[0m\u001b[32m>\u001b[0m\u001b[32m65 birds\\n#### 65'\u001b[0m\u001b[1m}\u001b[0m\n"
      ]
     },
     "metadata": {},
     "output_type": "display_data"
    },
    {
     "name": "stderr",
     "output_type": "stream",
     "text": [
      " 60%|██████    | 3/5 [00:06<00:04,  2.38s/it]"
     ]
    },
    {
     "data": {
      "text/html": [
       "<pre style=\"white-space:pre;overflow-x:auto;line-height:normal;font-family:Menlo,'DejaVu Sans Mono',consolas,'Courier New',monospace\"><span style=\"font-weight: bold\">{</span><span style=\"color: #008000; text-decoration-color: #008000\">'question'</span>: <span style=\"color: #008000; text-decoration-color: #008000\">'New York is two-thirds as populated as all of New England. If New England has 2100000 people, </span>\n",
       "<span style=\"color: #008000; text-decoration-color: #008000\">calculate the combined population of both states.'</span>, <span style=\"color: #008000; text-decoration-color: #008000\">'answer'</span>: <span style=\"color: #008000; text-decoration-color: #008000\">'New York is two-thirds as populated as all of New </span>\n",
       "<span style=\"color: #008000; text-decoration-color: #008000\">England, meaning there are 2/3*2100000 = &lt;&lt;2/3*2100000=1400000&gt;&gt;1400000 people living in New York.\\nThe combined </span>\n",
       "<span style=\"color: #008000; text-decoration-color: #008000\">population of both states is 1400000+2100000 = &lt;&lt;1400000+2100000=3500000&gt;&gt;3500000\\n#### 3500000'</span><span style=\"font-weight: bold\">}</span>\n",
       "</pre>\n"
      ],
      "text/plain": [
       "\u001b[1m{\u001b[0m\u001b[32m'question'\u001b[0m: \u001b[32m'New York is two-thirds as populated as all of New England. If New England has 2100000 people, \u001b[0m\n",
       "\u001b[32mcalculate the combined population of both states.'\u001b[0m, \u001b[32m'answer'\u001b[0m: \u001b[32m'New York is two-thirds as populated as all of New \u001b[0m\n",
       "\u001b[32mEngland, meaning there are 2/3*2100000 = \u001b[0m\u001b[32m<\u001b[0m\u001b[32m<2/3*\u001b[0m\u001b[32m2100000\u001b[0m\u001b[32m=\u001b[0m\u001b[32m1400000\u001b[0m\u001b[32m>>1400000 people living in New York.\\nThe combined \u001b[0m\n",
       "\u001b[32mpopulation of both states is 1400000+2100000 = <<1400000+\u001b[0m\u001b[32m2100000\u001b[0m\u001b[32m=\u001b[0m\u001b[32m3500000\u001b[0m\u001b[32m>\u001b[0m\u001b[32m>\u001b[0m\u001b[32m3500000\\n#### 3500000'\u001b[0m\u001b[1m}\u001b[0m\n"
      ]
     },
     "metadata": {},
     "output_type": "display_data"
    },
    {
     "name": "stderr",
     "output_type": "stream",
     "text": [
      " 80%|████████  | 4/5 [00:11<00:03,  3.17s/it]"
     ]
    },
    {
     "data": {
      "text/html": [
       "<pre style=\"white-space:pre;overflow-x:auto;line-height:normal;font-family:Menlo,'DejaVu Sans Mono',consolas,'Courier New',monospace\"><span style=\"font-weight: bold\">{</span><span style=\"color: #008000; text-decoration-color: #008000\">'question'</span>: <span style=\"color: #008000; text-decoration-color: #008000\">'Jonathan enjoys walking and running for exercise, and he has three different exercise routines.  On </span>\n",
       "<span style=\"color: #008000; text-decoration-color: #008000\">Mondays, he walks at 2 miles per hour.  On Wednesdays, he walks at 3 miles per hour.  And on Fridays, he runs at 6 </span>\n",
       "<span style=\"color: #008000; text-decoration-color: #008000\">miles per hour.  On each exercise day, he travels 6 miles.  What is the combined total time, in hours, he spends </span>\n",
       "<span style=\"color: #008000; text-decoration-color: #008000\">exercising in a week?'</span>, <span style=\"color: #008000; text-decoration-color: #008000\">'answer'</span>: <span style=\"color: #008000; text-decoration-color: #008000\">'On Mondays, he walks 6 miles at 2 miles per hour, for a length of 6/2=&lt;&lt;6/2=3&gt;&gt;3</span>\n",
       "<span style=\"color: #008000; text-decoration-color: #008000\">hours.\\nOn Wednesdays, he walks 6 miles at 3 miles per hour, for a length of 6/3=&lt;&lt;6/3=2&gt;&gt;2 hours.\\nAnd on Fridays,</span>\n",
       "<span style=\"color: #008000; text-decoration-color: #008000\">he runs 6 miles at 6 miles per hour, for a length of 6/6=&lt;&lt;6/6=1&gt;&gt;1 hour.\\nThe combined total time he spends </span>\n",
       "<span style=\"color: #008000; text-decoration-color: #008000\">exercising in a week is 3+2+1=&lt;&lt;3+2+1=6&gt;&gt;6 hours.\\n#### 6'</span><span style=\"font-weight: bold\">}</span>\n",
       "</pre>\n"
      ],
      "text/plain": [
       "\u001b[1m{\u001b[0m\u001b[32m'question'\u001b[0m: \u001b[32m'Jonathan enjoys walking and running for exercise, and he has three different exercise routines.  On \u001b[0m\n",
       "\u001b[32mMondays, he walks at 2 miles per hour.  On Wednesdays, he walks at 3 miles per hour.  And on Fridays, he runs at 6 \u001b[0m\n",
       "\u001b[32mmiles per hour.  On each exercise day, he travels 6 miles.  What is the combined total time, in hours, he spends \u001b[0m\n",
       "\u001b[32mexercising in a week?'\u001b[0m, \u001b[32m'answer'\u001b[0m: \u001b[32m'On Mondays, he walks 6 miles at 2 miles per hour, for a length of 6/\u001b[0m\u001b[32m2\u001b[0m\u001b[32m=\u001b[0m\u001b[32m<\u001b[0m\u001b[32m<6/\u001b[0m\u001b[32m2\u001b[0m\u001b[32m=\u001b[0m\u001b[32m3\u001b[0m\u001b[32m>>3\u001b[0m\n",
       "\u001b[32mhours.\\nOn Wednesdays, he walks 6 miles at 3 miles per hour, for a length of 6/\u001b[0m\u001b[32m3\u001b[0m\u001b[32m=<<6/\u001b[0m\u001b[32m3\u001b[0m\u001b[32m=\u001b[0m\u001b[32m2\u001b[0m\u001b[32m>>2 hours.\\nAnd on Fridays,\u001b[0m\n",
       "\u001b[32mhe runs 6 miles at 6 miles per hour, for a length of 6/\u001b[0m\u001b[32m6\u001b[0m\u001b[32m=<<6/\u001b[0m\u001b[32m6\u001b[0m\u001b[32m=\u001b[0m\u001b[32m1\u001b[0m\u001b[32m>>1 hour.\\nThe combined total time he spends \u001b[0m\n",
       "\u001b[32mexercising in a week is 3+2+\u001b[0m\u001b[32m1\u001b[0m\u001b[32m=<<3+2+\u001b[0m\u001b[32m1\u001b[0m\u001b[32m=\u001b[0m\u001b[32m6\u001b[0m\u001b[32m>\u001b[0m\u001b[32m>\u001b[0m\u001b[32m6 hours.\\n#### 6'\u001b[0m\u001b[1m}\u001b[0m\n"
      ]
     },
     "metadata": {},
     "output_type": "display_data"
    },
    {
     "name": "stderr",
     "output_type": "stream",
     "text": [
      "100%|██████████| 5/5 [00:16<00:00,  3.99s/it]"
     ]
    },
    {
     "data": {
      "text/html": [
       "<pre style=\"white-space:pre;overflow-x:auto;line-height:normal;font-family:Menlo,'DejaVu Sans Mono',consolas,'Courier New',monospace\"><span style=\"font-weight: bold\">{</span><span style=\"color: #008000; text-decoration-color: #008000\">'question'</span>: <span style=\"color: #008000; text-decoration-color: #008000\">\"There were 50 racers in a bicycle charity race at the beginning of the race. After 20 minutes, 30 </span>\n",
       "<span style=\"color: #008000; text-decoration-color: #008000\">more racers joined the race. The total number of racers doubled after another 30 minutes. If at the end of the race</span>\n",
       "<span style=\"color: #008000; text-decoration-color: #008000\">only 130 people finished the race, what's the total number of people who dropped before finishing the race?\"</span>, \n",
       "<span style=\"color: #008000; text-decoration-color: #008000\">'answer'</span>: <span style=\"color: #008000; text-decoration-color: #008000\">'At the start, there were 50 racers, who were joined by 30 more racers, thus 50+30 =&lt;&lt;50+30=80&gt;&gt;80 </span>\n",
       "<span style=\"color: #008000; text-decoration-color: #008000\">racers\\nAfter 30 more minutes, the number of racers doubled, totaling 80*2 = 160 racers.\\nIf the number of racers </span>\n",
       "<span style=\"color: #008000; text-decoration-color: #008000\">who finished is 130, the 160-130 = 30 racers dropped before finishing.\\n#### 30'</span><span style=\"font-weight: bold\">}</span>\n",
       "</pre>\n"
      ],
      "text/plain": [
       "\u001b[1m{\u001b[0m\u001b[32m'question'\u001b[0m: \u001b[32m\"There were 50 racers in a bicycle charity race at the beginning of the race. After 20 minutes, 30 \u001b[0m\n",
       "\u001b[32mmore racers joined the race. The total number of racers doubled after another 30 minutes. If at the end of the race\u001b[0m\n",
       "\u001b[32monly 130 people finished the race, what's the total number of people who dropped before finishing the race?\"\u001b[0m, \n",
       "\u001b[32m'answer'\u001b[0m: \u001b[32m'At the start, there were 50 racers, who were joined by 30 more racers, thus 50+30 =\u001b[0m\u001b[32m<\u001b[0m\u001b[32m<50+\u001b[0m\u001b[32m30\u001b[0m\u001b[32m=\u001b[0m\u001b[32m80\u001b[0m\u001b[32m>\u001b[0m\u001b[32m>\u001b[0m\u001b[32m80 \u001b[0m\n",
       "\u001b[32mracers\\nAfter 30 more minutes, the number of racers doubled, totaling 80*2 = 160 racers.\\nIf the number of racers \u001b[0m\n",
       "\u001b[32mwho finished is 130, the 160-130 = 30 racers dropped before finishing.\\n#### 30'\u001b[0m\u001b[1m}\u001b[0m\n"
      ]
     },
     "metadata": {},
     "output_type": "display_data"
    },
    {
     "name": "stderr",
     "output_type": "stream",
     "text": [
      "100%|██████████| 5/5 [00:21<00:00,  4.31s/it]"
     ]
    },
    {
     "name": "stdout",
     "output_type": "stream",
     "text": [
      "Predictions and feedback:\n"
     ]
    },
    {
     "name": "stderr",
     "output_type": "stream",
     "text": [
      "\n"
     ]
    },
    {
     "data": {
      "text/html": [
       "<pre style=\"white-space:pre;overflow-x:auto;line-height:normal;font-family:Menlo,'DejaVu Sans Mono',consolas,'Courier New',monospace\">                                                                                                                   \n",
       " <span style=\"color: #800080; text-decoration-color: #800080; font-weight: bold\"> answer__fb                                       </span> <span style=\"color: #800080; text-decoration-color: #800080; font-weight: bold\"> question                                         </span> <span style=\"color: #800080; text-decoration-color: #800080; font-weight: bold\"> answer    </span> \n",
       " ───────────────────────────────────────────────────────────────────────────────────────────────────────────────── \n",
       "  Incorrect. Must be equal to 2 tattoos on each      Adam has three more than twice as many tattoos     23         \n",
       "  arm is a total of 2*2=&lt;&lt;2*2=4&gt;&gt;4 tattoos.          as Jason has.  If Jason has two tattoos on each               \n",
       "  3 tattoos on each leg is a total of                of his arms and three tattoos on each of his                  \n",
       "  2*3=&lt;&lt;2*3=6&gt;&gt;6 tattoos.                            legs, how many tattoos does Adam have?                        \n",
       "  Thus, Jason has 4+6=&lt;&lt;4+6=10&gt;&gt;10 tattoos.                                                                        \n",
       "  Twice the number of tattoos that Jason has is                                                                    \n",
       "  2*10=&lt;&lt;2*10=20&gt;&gt;20 tattoos.                                                                                      \n",
       "  Adam has 3 more than twice the number Jason has,                                                                 \n",
       "  or 3+20=&lt;&lt;3+20=23&gt;&gt;23 tattoos.                                                                                   \n",
       "  #### 23                                                                                                          \n",
       " <span style=\"color: #7f7f7f; text-decoration-color: #7f7f7f\"> Incorrect. Must be equal to If Giselle had 20    </span> <span style=\"color: #7f7f7f; text-decoration-color: #7f7f7f\"> Giselle had 20 female doves in a birdhouse.      </span> <span style=\"color: #7f7f7f; text-decoration-color: #7f7f7f\"> 65        </span> \n",
       " <span style=\"color: #7f7f7f; text-decoration-color: #7f7f7f\"> doves that laid 3 eggs each, the total number of </span> <span style=\"color: #7f7f7f; text-decoration-color: #7f7f7f\"> After a month, the doves laid 3 eggs each. If    </span> <span style=\"color: #7f7f7f; text-decoration-color: #7f7f7f\">           </span> \n",
       " <span style=\"color: #7f7f7f; text-decoration-color: #7f7f7f\"> eggs in the birdhouse is 20*3 = &lt;&lt;20*3=60&gt;&gt;60    </span> <span style=\"color: #7f7f7f; text-decoration-color: #7f7f7f\"> 3/4 of the eggs hatched, calculate the total     </span> <span style=\"color: #7f7f7f; text-decoration-color: #7f7f7f\">           </span> \n",
       " <span style=\"color: #7f7f7f; text-decoration-color: #7f7f7f\"> eggs.                                            </span> <span style=\"color: #7f7f7f; text-decoration-color: #7f7f7f\"> number of doves Giselle has now.                 </span> <span style=\"color: #7f7f7f; text-decoration-color: #7f7f7f\">           </span> \n",
       " <span style=\"color: #7f7f7f; text-decoration-color: #7f7f7f\"> If 3/4 of the eggs hatched into birds, their     </span> <span style=\"color: #7f7f7f; text-decoration-color: #7f7f7f\">                                                  </span> <span style=\"color: #7f7f7f; text-decoration-color: #7f7f7f\">           </span> \n",
       " <span style=\"color: #7f7f7f; text-decoration-color: #7f7f7f\"> total number is 3/4*60 = &lt;&lt;3/4*60=45&gt;&gt;45         </span> <span style=\"color: #7f7f7f; text-decoration-color: #7f7f7f\">                                                  </span> <span style=\"color: #7f7f7f; text-decoration-color: #7f7f7f\">           </span> \n",
       " <span style=\"color: #7f7f7f; text-decoration-color: #7f7f7f\"> In the birdhouse, there are 20 initial doves +   </span> <span style=\"color: #7f7f7f; text-decoration-color: #7f7f7f\">                                                  </span> <span style=\"color: #7f7f7f; text-decoration-color: #7f7f7f\">           </span> \n",
       " <span style=\"color: #7f7f7f; text-decoration-color: #7f7f7f\"> 45 new squabs = &lt;&lt;20+45=65&gt;&gt;65 birds             </span> <span style=\"color: #7f7f7f; text-decoration-color: #7f7f7f\">                                                  </span> <span style=\"color: #7f7f7f; text-decoration-color: #7f7f7f\">           </span> \n",
       " <span style=\"color: #7f7f7f; text-decoration-color: #7f7f7f\"> #### 65                                          </span> <span style=\"color: #7f7f7f; text-decoration-color: #7f7f7f\">                                                  </span> <span style=\"color: #7f7f7f; text-decoration-color: #7f7f7f\">           </span> \n",
       "  Incorrect. Must be equal to New York is            New York is two-thirds as populated as all of      3,500,000  \n",
       "  two-thirds as populated as all of New England,     New England. If New England has 2100000 people,               \n",
       "  meaning there are 2/3*2100000 =                    calculate the combined population of both                     \n",
       "  &lt;&lt;2/3*2100000=1400000&gt;&gt;1400000 people living in    states.                                                       \n",
       "  New York.                                                                                                        \n",
       "  The combined population of both states is                                                                        \n",
       "  1400000+2100000 =                                                                                                \n",
       "  &lt;&lt;1400000+2100000=3500000&gt;&gt;3500000                                                                               \n",
       "  #### 3500000                                                                                                     \n",
       " <span style=\"color: #7f7f7f; text-decoration-color: #7f7f7f\"> Incorrect. Must be equal to On Mondays, he walks </span> <span style=\"color: #7f7f7f; text-decoration-color: #7f7f7f\"> Jonathan enjoys walking and running for          </span> <span style=\"color: #7f7f7f; text-decoration-color: #7f7f7f\"> 6 hours   </span> \n",
       " <span style=\"color: #7f7f7f; text-decoration-color: #7f7f7f\"> 6 miles at 2 miles per hour, for a length of     </span> <span style=\"color: #7f7f7f; text-decoration-color: #7f7f7f\"> exercise, and he has three different exercise    </span> <span style=\"color: #7f7f7f; text-decoration-color: #7f7f7f\">           </span> \n",
       " <span style=\"color: #7f7f7f; text-decoration-color: #7f7f7f\"> 6/2=&lt;&lt;6/2=3&gt;&gt;3 hours.                            </span> <span style=\"color: #7f7f7f; text-decoration-color: #7f7f7f\"> routines.  On Mondays, he walks at 2 miles per   </span> <span style=\"color: #7f7f7f; text-decoration-color: #7f7f7f\">           </span> \n",
       " <span style=\"color: #7f7f7f; text-decoration-color: #7f7f7f\"> On Wednesdays, he walks 6 miles at 3 miles per   </span> <span style=\"color: #7f7f7f; text-decoration-color: #7f7f7f\"> hour.  On Wednesdays, he walks at 3 miles per    </span> <span style=\"color: #7f7f7f; text-decoration-color: #7f7f7f\">           </span> \n",
       " <span style=\"color: #7f7f7f; text-decoration-color: #7f7f7f\"> hour, for a length of 6/3=&lt;&lt;6/3=2&gt;&gt;2 hours.      </span> <span style=\"color: #7f7f7f; text-decoration-color: #7f7f7f\"> hour.  And on Fridays, he runs at 6 miles per    </span> <span style=\"color: #7f7f7f; text-decoration-color: #7f7f7f\">           </span> \n",
       " <span style=\"color: #7f7f7f; text-decoration-color: #7f7f7f\"> And on Fridays, he runs 6 miles at 6 miles per   </span> <span style=\"color: #7f7f7f; text-decoration-color: #7f7f7f\"> hour.  On each exercise day, he travels 6 miles. </span> <span style=\"color: #7f7f7f; text-decoration-color: #7f7f7f\">           </span> \n",
       " <span style=\"color: #7f7f7f; text-decoration-color: #7f7f7f\"> hour, for a length of 6/6=&lt;&lt;6/6=1&gt;&gt;1 hour.       </span> <span style=\"color: #7f7f7f; text-decoration-color: #7f7f7f\"> What is the combined total time, in hours, he    </span> <span style=\"color: #7f7f7f; text-decoration-color: #7f7f7f\">           </span> \n",
       " <span style=\"color: #7f7f7f; text-decoration-color: #7f7f7f\"> The combined total time he spends exercising in  </span> <span style=\"color: #7f7f7f; text-decoration-color: #7f7f7f\"> spends exercising in a week?                     </span> <span style=\"color: #7f7f7f; text-decoration-color: #7f7f7f\">           </span> \n",
       " <span style=\"color: #7f7f7f; text-decoration-color: #7f7f7f\"> a week is 3+2+1=&lt;&lt;3+2+1=6&gt;&gt;6 hours.              </span> <span style=\"color: #7f7f7f; text-decoration-color: #7f7f7f\">                                                  </span> <span style=\"color: #7f7f7f; text-decoration-color: #7f7f7f\">           </span> \n",
       " <span style=\"color: #7f7f7f; text-decoration-color: #7f7f7f\"> #### 6                                           </span> <span style=\"color: #7f7f7f; text-decoration-color: #7f7f7f\">                                                  </span> <span style=\"color: #7f7f7f; text-decoration-color: #7f7f7f\">           </span> \n",
       "  Incorrect. Must be equal to At the start, there    There were 50 racers in a bicycle charity race     30         \n",
       "  were 50 racers, who were joined by 30 more         at the beginning of the race. After 20 minutes,               \n",
       "  racers, thus 50+30 =&lt;&lt;50+30=80&gt;&gt;80 racers          30 more racers joined the race. The total number              \n",
       "  After 30 more minutes, the number of racers        of racers doubled after another 30 minutes. If                \n",
       "  doubled, totaling 80*2 = 160 racers.               at the end of the race only 130 people finished               \n",
       "  If the number of racers who finished is 130, the   the race, what's the total number of people who               \n",
       "  160-130 = 30 racers dropped before finishing.      dropped before finishing the race?                            \n",
       "  #### 30                                                                                                          \n",
       "                                                                                                                   \n",
       "</pre>\n"
      ],
      "text/plain": [
       "                                                                                                                   \n",
       " \u001b[1;35m \u001b[0m\u001b[1;35manswer__fb                                      \u001b[0m\u001b[1;35m \u001b[0m \u001b[1;35m \u001b[0m\u001b[1;35mquestion                                        \u001b[0m\u001b[1;35m \u001b[0m \u001b[1;35m \u001b[0m\u001b[1;35manswer   \u001b[0m\u001b[1;35m \u001b[0m \n",
       " ───────────────────────────────────────────────────────────────────────────────────────────────────────────────── \n",
       "  Incorrect. Must be equal to 2 tattoos on each      Adam has three more than twice as many tattoos     23         \n",
       "  arm is a total of 2*2=<<2*2=4>>4 tattoos.          as Jason has.  If Jason has two tattoos on each               \n",
       "  3 tattoos on each leg is a total of                of his arms and three tattoos on each of his                  \n",
       "  2*3=<<2*3=6>>6 tattoos.                            legs, how many tattoos does Adam have?                        \n",
       "  Thus, Jason has 4+6=<<4+6=10>>10 tattoos.                                                                        \n",
       "  Twice the number of tattoos that Jason has is                                                                    \n",
       "  2*10=<<2*10=20>>20 tattoos.                                                                                      \n",
       "  Adam has 3 more than twice the number Jason has,                                                                 \n",
       "  or 3+20=<<3+20=23>>23 tattoos.                                                                                   \n",
       "  #### 23                                                                                                          \n",
       " \u001b[2m \u001b[0m\u001b[2mIncorrect. Must be equal to If Giselle had 20   \u001b[0m\u001b[2m \u001b[0m \u001b[2m \u001b[0m\u001b[2mGiselle had 20 female doves in a birdhouse.     \u001b[0m\u001b[2m \u001b[0m \u001b[2m \u001b[0m\u001b[2m65       \u001b[0m\u001b[2m \u001b[0m \n",
       " \u001b[2m \u001b[0m\u001b[2mdoves that laid 3 eggs each, the total number of\u001b[0m\u001b[2m \u001b[0m \u001b[2m \u001b[0m\u001b[2mAfter a month, the doves laid 3 eggs each. If   \u001b[0m\u001b[2m \u001b[0m \u001b[2m           \u001b[0m \n",
       " \u001b[2m \u001b[0m\u001b[2meggs in the birdhouse is 20*3 = <<20*3=60>>60   \u001b[0m\u001b[2m \u001b[0m \u001b[2m \u001b[0m\u001b[2m3/4 of the eggs hatched, calculate the total    \u001b[0m\u001b[2m \u001b[0m \u001b[2m           \u001b[0m \n",
       " \u001b[2m \u001b[0m\u001b[2meggs.                                           \u001b[0m\u001b[2m \u001b[0m \u001b[2m \u001b[0m\u001b[2mnumber of doves Giselle has now.                \u001b[0m\u001b[2m \u001b[0m \u001b[2m           \u001b[0m \n",
       " \u001b[2m \u001b[0m\u001b[2mIf 3/4 of the eggs hatched into birds, their    \u001b[0m\u001b[2m \u001b[0m \u001b[2m                                                  \u001b[0m \u001b[2m           \u001b[0m \n",
       " \u001b[2m \u001b[0m\u001b[2mtotal number is 3/4*60 = <<3/4*60=45>>45        \u001b[0m\u001b[2m \u001b[0m \u001b[2m                                                  \u001b[0m \u001b[2m           \u001b[0m \n",
       " \u001b[2m \u001b[0m\u001b[2mIn the birdhouse, there are 20 initial doves +  \u001b[0m\u001b[2m \u001b[0m \u001b[2m                                                  \u001b[0m \u001b[2m           \u001b[0m \n",
       " \u001b[2m \u001b[0m\u001b[2m45 new squabs = <<20+45=65>>65 birds            \u001b[0m\u001b[2m \u001b[0m \u001b[2m                                                  \u001b[0m \u001b[2m           \u001b[0m \n",
       " \u001b[2m \u001b[0m\u001b[2m#### 65                                         \u001b[0m\u001b[2m \u001b[0m \u001b[2m                                                  \u001b[0m \u001b[2m           \u001b[0m \n",
       "  Incorrect. Must be equal to New York is            New York is two-thirds as populated as all of      3,500,000  \n",
       "  two-thirds as populated as all of New England,     New England. If New England has 2100000 people,               \n",
       "  meaning there are 2/3*2100000 =                    calculate the combined population of both                     \n",
       "  <<2/3*2100000=1400000>>1400000 people living in    states.                                                       \n",
       "  New York.                                                                                                        \n",
       "  The combined population of both states is                                                                        \n",
       "  1400000+2100000 =                                                                                                \n",
       "  <<1400000+2100000=3500000>>3500000                                                                               \n",
       "  #### 3500000                                                                                                     \n",
       " \u001b[2m \u001b[0m\u001b[2mIncorrect. Must be equal to On Mondays, he walks\u001b[0m\u001b[2m \u001b[0m \u001b[2m \u001b[0m\u001b[2mJonathan enjoys walking and running for         \u001b[0m\u001b[2m \u001b[0m \u001b[2m \u001b[0m\u001b[2m6 hours  \u001b[0m\u001b[2m \u001b[0m \n",
       " \u001b[2m \u001b[0m\u001b[2m6 miles at 2 miles per hour, for a length of    \u001b[0m\u001b[2m \u001b[0m \u001b[2m \u001b[0m\u001b[2mexercise, and he has three different exercise   \u001b[0m\u001b[2m \u001b[0m \u001b[2m           \u001b[0m \n",
       " \u001b[2m \u001b[0m\u001b[2m6/2=<<6/2=3>>3 hours.                           \u001b[0m\u001b[2m \u001b[0m \u001b[2m \u001b[0m\u001b[2mroutines.  On Mondays, he walks at 2 miles per  \u001b[0m\u001b[2m \u001b[0m \u001b[2m           \u001b[0m \n",
       " \u001b[2m \u001b[0m\u001b[2mOn Wednesdays, he walks 6 miles at 3 miles per  \u001b[0m\u001b[2m \u001b[0m \u001b[2m \u001b[0m\u001b[2mhour.  On Wednesdays, he walks at 3 miles per   \u001b[0m\u001b[2m \u001b[0m \u001b[2m           \u001b[0m \n",
       " \u001b[2m \u001b[0m\u001b[2mhour, for a length of 6/3=<<6/3=2>>2 hours.     \u001b[0m\u001b[2m \u001b[0m \u001b[2m \u001b[0m\u001b[2mhour.  And on Fridays, he runs at 6 miles per   \u001b[0m\u001b[2m \u001b[0m \u001b[2m           \u001b[0m \n",
       " \u001b[2m \u001b[0m\u001b[2mAnd on Fridays, he runs 6 miles at 6 miles per  \u001b[0m\u001b[2m \u001b[0m \u001b[2m \u001b[0m\u001b[2mhour.  On each exercise day, he travels 6 miles.\u001b[0m\u001b[2m \u001b[0m \u001b[2m           \u001b[0m \n",
       " \u001b[2m \u001b[0m\u001b[2mhour, for a length of 6/6=<<6/6=1>>1 hour.      \u001b[0m\u001b[2m \u001b[0m \u001b[2m \u001b[0m\u001b[2mWhat is the combined total time, in hours, he   \u001b[0m\u001b[2m \u001b[0m \u001b[2m           \u001b[0m \n",
       " \u001b[2m \u001b[0m\u001b[2mThe combined total time he spends exercising in \u001b[0m\u001b[2m \u001b[0m \u001b[2m \u001b[0m\u001b[2mspends exercising in a week?                    \u001b[0m\u001b[2m \u001b[0m \u001b[2m           \u001b[0m \n",
       " \u001b[2m \u001b[0m\u001b[2ma week is 3+2+1=<<3+2+1=6>>6 hours.             \u001b[0m\u001b[2m \u001b[0m \u001b[2m                                                  \u001b[0m \u001b[2m           \u001b[0m \n",
       " \u001b[2m \u001b[0m\u001b[2m#### 6                                          \u001b[0m\u001b[2m \u001b[0m \u001b[2m                                                  \u001b[0m \u001b[2m           \u001b[0m \n",
       "  Incorrect. Must be equal to At the start, there    There were 50 racers in a bicycle charity race     30         \n",
       "  were 50 racers, who were joined by 30 more         at the beginning of the race. After 20 minutes,               \n",
       "  racers, thus 50+30 =<<50+30=80>>80 racers          30 more racers joined the race. The total number              \n",
       "  After 30 more minutes, the number of racers        of racers doubled after another 30 minutes. If                \n",
       "  doubled, totaling 80*2 = 160 racers.               at the end of the race only 130 people finished               \n",
       "  If the number of racers who finished is 130, the   the race, what's the total number of people who               \n",
       "  160-130 = 30 racers dropped before finishing.      dropped before finishing the race?                            \n",
       "  #### 30                                                                                                          \n",
       "                                                                                                                   \n"
      ]
     },
     "metadata": {},
     "output_type": "display_data"
    },
    {
     "data": {
      "text/html": [
       "<pre style=\"white-space:pre;overflow-x:auto;line-height:normal;font-family:Menlo,'DejaVu Sans Mono',consolas,'Courier New',monospace\"><span style=\"color: #800000; text-decoration-color: #800000; font-weight: bold\">Skill output to improve: </span><span style=\"color: #008000; text-decoration-color: #008000\">\"answer\"</span><span style=\"color: #800000; text-decoration-color: #800000; font-weight: bold\"> (</span><span style=\"color: #808000; text-decoration-color: #808000; font-weight: bold\">Skill</span><span style=\"color: #800000; text-decoration-color: #800000; font-weight: bold\">=</span><span style=\"color: #008000; text-decoration-color: #008000\">\"math_solver\"</span><span style=\"color: #800000; text-decoration-color: #800000; font-weight: bold\">)</span>\n",
       "<span style=\"color: #800000; text-decoration-color: #800000; font-weight: bold\">Accuracy = </span><span style=\"color: #008080; text-decoration-color: #008080; font-weight: bold\">0.00</span><span style=\"color: #800000; text-decoration-color: #800000; font-weight: bold\">%</span>\n",
       "</pre>\n"
      ],
      "text/plain": [
       "\u001b[1;31mSkill output to improve: \u001b[0m\u001b[32m\"answer\"\u001b[0m\u001b[1;31m \u001b[0m\u001b[1;31m(\u001b[0m\u001b[1;33mSkill\u001b[0m\u001b[1;31m=\u001b[0m\u001b[32m\"math_solver\"\u001b[0m\u001b[1;31m)\u001b[0m\n",
       "\u001b[1;31mAccuracy = \u001b[0m\u001b[1;36m0.00\u001b[0m\u001b[1;31m%\u001b[0m\n"
      ]
     },
     "metadata": {},
     "output_type": "display_data"
    },
    {
     "data": {
      "text/html": [
       "<pre style=\"white-space:pre;overflow-x:auto;line-height:normal;font-family:Menlo,'DejaVu Sans Mono',consolas,'Courier New',monospace\"><span style=\"font-weight: bold\">{</span><span style=\"color: #008000; text-decoration-color: #008000\">'input'</span>: <span style=\"color: #008000; text-decoration-color: #008000\">'\\n\\t\\t\\tA prompt is a text paragraph that outlines the expected actions and instructs the large language</span>\n",
       "<span style=\"color: #008000; text-decoration-color: #008000\">model (LLM) to \\t\\t\\tgenerate a specific output. This prompt is concatenated with the input text, and the </span>\n",
       "<span style=\"color: #008000; text-decoration-color: #008000\">\\t\\t\\tmodel then creates the required output.\\n\\t\\t\\tThis describes the full template how the prompt is </span>\n",
       "<span style=\"color: #008000; text-decoration-color: #008000\">concatenated with the input to produce the </span>\n",
       "<span style=\"color: #008000; text-decoration-color: #008000\">output:\\n\\t\\t\\t```\\n\\t\\t\\t\\n\\t\\t{prompt}\\n\\t\\t\\t```\\n\\t\\t\\tHere:\\n\\t\\t\\t- \"{prompt}\" is the LLM </span>\n",
       "<span style=\"color: #008000; text-decoration-color: #008000\">prompt\\n\\n\\t\\t\\tModel can produce erroneous output if a prompt is not well defined. \\t\\t\\tIn our collaboration, </span>\n",
       "<span style=\"color: #008000; text-decoration-color: #008000\">we’ll work together to refine a prompt. The process consists of two main steps:\\n\\n\\t\\t\\t## Step 1\\n\\t\\t\\tI will </span>\n",
       "<span style=\"color: #008000; text-decoration-color: #008000\">provide you with the current prompt along with prediction examples. Each example contains the input text, the final</span>\n",
       "<span style=\"color: #008000; text-decoration-color: #008000\">prediction produced by the model, and the user feedback. \\t\\t\\tUser feedback indicates whether the model prediction</span>\n",
       "<span style=\"color: #008000; text-decoration-color: #008000\">is correct or not. \\t\\t\\tYour task is to analyze the examples and user feedback, determining whether the </span>\n",
       "<span style=\"color: #008000; text-decoration-color: #008000\">\\t\\t\\texisting instruction is describing the task reflected by these examples precisely, and suggests changes to </span>\n",
       "<span style=\"color: #008000; text-decoration-color: #008000\">the prompt to address the incorrect predictions.\\n\\n\\t\\t\\t## Step 2\\n\\t\\t\\tNext, you will carefully review your </span>\n",
       "<span style=\"color: #008000; text-decoration-color: #008000\">reasoning in step 1, integrate the insights to refine the prompt, \\t\\t\\tand provide me with the new prompt that </span>\n",
       "<span style=\"color: #008000; text-decoration-color: #008000\">improves the model’s performance.\\n\\t\\t\\t## Current prompt\\n\\t\\t\\t\"Carefully read and correctly interpret the given</span>\n",
       "<span style=\"color: #008000; text-decoration-color: #008000\">mathematical problem. Break it down into manageable steps, perform the necessary calculations, and provide the </span>\n",
       "<span style=\"color: #008000; text-decoration-color: #008000\">final numerical answer. Pay close attention to all the details provided in the problem. Double-check your </span>\n",
       "<span style=\"color: #008000; text-decoration-color: #008000\">calculations to ensure accuracy and precision. If the problem involves multiple steps or calculations, ensure each </span>\n",
       "<span style=\"color: #008000; text-decoration-color: #008000\">step is correctly executed to arrive at the correct final answer.\"\\n\\t\\t\\t## Examples\\n\\t\\t\\t### Example #0\\n\\nQ: </span>\n",
       "<span style=\"color: #008000; text-decoration-color: #008000\">Adam has three more than twice as many tattoos as Jason has.  If Jason has two tattoos on each of his arms and </span>\n",
       "<span style=\"color: #008000; text-decoration-color: #008000\">three tattoos on each of his legs, how many tattoos does Adam have?\\n\\nThe final numerical answer: 23\\n\\nUser </span>\n",
       "<span style=\"color: #008000; text-decoration-color: #008000\">feedback: Incorrect. Must be equal to 2 tattoos on each arm is a total of 2*2=&lt;&lt;2*2=4&gt;&gt;4 tattoos.\\n3 tattoos on </span>\n",
       "<span style=\"color: #008000; text-decoration-color: #008000\">each leg is a total of 2*3=&lt;&lt;2*3=6&gt;&gt;6 tattoos.\\nThus, Jason has 4+6=&lt;&lt;4+6=10&gt;&gt;10 tattoos.\\nTwice the number of </span>\n",
       "<span style=\"color: #008000; text-decoration-color: #008000\">tattoos that Jason has is 2*10=&lt;&lt;2*10=20&gt;&gt;20 tattoos.\\nAdam has 3 more than twice the number Jason has, or </span>\n",
       "<span style=\"color: #008000; text-decoration-color: #008000\">3+20=&lt;&lt;3+20=23&gt;&gt;23 tattoos.\\n#### 23\\n\\n\\n### Example #1\\n\\nQ: Giselle had 20 female doves in a birdhouse. After a </span>\n",
       "<span style=\"color: #008000; text-decoration-color: #008000\">month, the doves laid 3 eggs each. If 3/4 of the eggs hatched, calculate the total number of doves Giselle has </span>\n",
       "<span style=\"color: #008000; text-decoration-color: #008000\">now.\\n\\nThe final numerical answer: 65\\n\\nUser feedback: Incorrect. Must be equal to If Giselle had 20 doves that </span>\n",
       "<span style=\"color: #008000; text-decoration-color: #008000\">laid 3 eggs each, the total number of eggs in the birdhouse is 20*3 = &lt;&lt;20*3=60&gt;&gt;60 eggs.\\nIf 3/4 of the eggs </span>\n",
       "<span style=\"color: #008000; text-decoration-color: #008000\">hatched into birds, their total number is 3/4*60 = &lt;&lt;3/4*60=45&gt;&gt;45\\nIn the birdhouse, there are 20 initial doves + </span>\n",
       "<span style=\"color: #008000; text-decoration-color: #008000\">45 new squabs = &lt;&lt;20+45=65&gt;&gt;65 birds\\n#### 65\\n\\n\\n### Example #2\\n\\nQ: New York is two-thirds as populated as all </span>\n",
       "<span style=\"color: #008000; text-decoration-color: #008000\">of New England. If New England has 2100000 people, calculate the combined population of both states.\\n\\nThe final </span>\n",
       "<span style=\"color: #008000; text-decoration-color: #008000\">numerical answer: 3,500,000\\n\\nUser feedback: Incorrect. Must be equal to New York is two-thirds as populated as </span>\n",
       "<span style=\"color: #008000; text-decoration-color: #008000\">all of New England, meaning there are 2/3*2100000 = &lt;&lt;2/3*2100000=1400000&gt;&gt;1400000 people living in New York.\\nThe </span>\n",
       "<span style=\"color: #008000; text-decoration-color: #008000\">combined population of both states is 1400000+2100000 = &lt;&lt;1400000+2100000=3500000&gt;&gt;3500000\\n#### 3500000\\n\\n\\n### </span>\n",
       "<span style=\"color: #008000; text-decoration-color: #008000\">Example #3\\n\\nQ: Jonathan enjoys walking and running for exercise, and he has three different exercise routines.  </span>\n",
       "<span style=\"color: #008000; text-decoration-color: #008000\">On Mondays, he walks at 2 miles per hour.  On Wednesdays, he walks at 3 miles per hour.  And on Fridays, he runs at</span>\n",
       "<span style=\"color: #008000; text-decoration-color: #008000\">6 miles per hour.  On each exercise day, he travels 6 miles.  What is the combined total time, in hours, he spends </span>\n",
       "<span style=\"color: #008000; text-decoration-color: #008000\">exercising in a week?\\n\\nThe final numerical answer: 6 hours\\n\\nUser feedback: Incorrect. Must be equal to On </span>\n",
       "<span style=\"color: #008000; text-decoration-color: #008000\">Mondays, he walks 6 miles at 2 miles per hour, for a length of 6/2=&lt;&lt;6/2=3&gt;&gt;3 hours.\\nOn Wednesdays, he walks 6 </span>\n",
       "<span style=\"color: #008000; text-decoration-color: #008000\">miles at 3 miles per hour, for a length of 6/3=&lt;&lt;6/3=2&gt;&gt;2 hours.\\nAnd on Fridays, he runs 6 miles at 6 miles per </span>\n",
       "<span style=\"color: #008000; text-decoration-color: #008000\">hour, for a length of 6/6=&lt;&lt;6/6=1&gt;&gt;1 hour.\\nThe combined total time he spends exercising in a week is </span>\n",
       "<span style=\"color: #008000; text-decoration-color: #008000\">3+2+1=&lt;&lt;3+2+1=6&gt;&gt;6 hours.\\n#### 6\\n\\n\\n### Example #4\\n\\nQ: There were 50 racers in a bicycle charity race at the </span>\n",
       "<span style=\"color: #008000; text-decoration-color: #008000\">beginning of the race. After 20 minutes, 30 more racers joined the race. The total number of racers doubled after </span>\n",
       "<span style=\"color: #008000; text-decoration-color: #008000\">another 30 minutes. If at the end of the race only 130 people finished the race, what\\'s the total number of people</span>\n",
       "<span style=\"color: #008000; text-decoration-color: #008000\">who dropped before finishing the race?\\n\\nThe final numerical answer: 30\\n\\nUser feedback: Incorrect. Must be equal</span>\n",
       "<span style=\"color: #008000; text-decoration-color: #008000\">to At the start, there were 50 racers, who were joined by 30 more racers, thus 50+30 =&lt;&lt;50+30=80&gt;&gt;80 racers\\nAfter </span>\n",
       "<span style=\"color: #008000; text-decoration-color: #008000\">30 more minutes, the number of racers doubled, totaling 80*2 = 160 racers.\\nIf the number of racers who finished is</span>\n",
       "<span style=\"color: #008000; text-decoration-color: #008000\">130, the 160-130 = 30 racers dropped before finishing.\\n#### 30\\n\\n\\n\\t\\t\\tSummarize your analysis about incorrect </span>\n",
       "<span style=\"color: #008000; text-decoration-color: #008000\">predictions and suggest changes to the prompt.'</span><span style=\"font-weight: bold\">}</span>\n",
       "</pre>\n"
      ],
      "text/plain": [
       "\u001b[1m{\u001b[0m\u001b[32m'input'\u001b[0m: \u001b[32m'\\n\\t\\t\\tA prompt is a text paragraph that outlines the expected actions and instructs the large language\u001b[0m\n",
       "\u001b[32mmodel \u001b[0m\u001b[32m(\u001b[0m\u001b[32mLLM\u001b[0m\u001b[32m)\u001b[0m\u001b[32m to \\t\\t\\tgenerate a specific output. This prompt is concatenated with the input text, and the \u001b[0m\n",
       "\u001b[32m\\t\\t\\tmodel then creates the required output.\\n\\t\\t\\tThis describes the full template how the prompt is \u001b[0m\n",
       "\u001b[32mconcatenated with the input to produce the \u001b[0m\n",
       "\u001b[32moutput:\\n\\t\\t\\t```\\n\\t\\t\\t\\n\\t\\t\u001b[0m\u001b[32m{\u001b[0m\u001b[32mprompt\u001b[0m\u001b[32m}\u001b[0m\u001b[32m\\n\\t\\t\\t```\\n\\t\\t\\tHere:\\n\\t\\t\\t- \"\u001b[0m\u001b[32m{\u001b[0m\u001b[32mprompt\u001b[0m\u001b[32m}\u001b[0m\u001b[32m\" is the LLM \u001b[0m\n",
       "\u001b[32mprompt\\n\\n\\t\\t\\tModel can produce erroneous output if a prompt is not well defined. \\t\\t\\tIn our collaboration, \u001b[0m\n",
       "\u001b[32mwe’ll work together to refine a prompt. The process consists of two main steps:\\n\\n\\t\\t\\t## Step 1\\n\\t\\t\\tI will \u001b[0m\n",
       "\u001b[32mprovide you with the current prompt along with prediction examples. Each example contains the input text, the final\u001b[0m\n",
       "\u001b[32mprediction produced by the model, and the user feedback. \\t\\t\\tUser feedback indicates whether the model prediction\u001b[0m\n",
       "\u001b[32mis correct or not. \\t\\t\\tYour task is to analyze the examples and user feedback, determining whether the \u001b[0m\n",
       "\u001b[32m\\t\\t\\texisting instruction is describing the task reflected by these examples precisely, and suggests changes to \u001b[0m\n",
       "\u001b[32mthe prompt to address the incorrect predictions.\\n\\n\\t\\t\\t## Step 2\\n\\t\\t\\tNext, you will carefully review your \u001b[0m\n",
       "\u001b[32mreasoning in step 1, integrate the insights to refine the prompt, \\t\\t\\tand provide me with the new prompt that \u001b[0m\n",
       "\u001b[32mimproves the model’s performance.\\n\\t\\t\\t## Current prompt\\n\\t\\t\\t\"Carefully read and correctly interpret the given\u001b[0m\n",
       "\u001b[32mmathematical problem. Break it down into manageable steps, perform the necessary calculations, and provide the \u001b[0m\n",
       "\u001b[32mfinal numerical answer. Pay close attention to all the details provided in the problem. Double-check your \u001b[0m\n",
       "\u001b[32mcalculations to ensure accuracy and precision. If the problem involves multiple steps or calculations, ensure each \u001b[0m\n",
       "\u001b[32mstep is correctly executed to arrive at the correct final answer.\"\\n\\t\\t\\t## Examples\\n\\t\\t\\t### Example #0\\n\\nQ: \u001b[0m\n",
       "\u001b[32mAdam has three more than twice as many tattoos as Jason has.  If Jason has two tattoos on each of his arms and \u001b[0m\n",
       "\u001b[32mthree tattoos on each of his legs, how many tattoos does Adam have?\\n\\nThe final numerical answer: 23\\n\\nUser \u001b[0m\n",
       "\u001b[32mfeedback: Incorrect. Must be equal to 2 tattoos on each arm is a total of 2*\u001b[0m\u001b[32m2\u001b[0m\u001b[32m=\u001b[0m\u001b[32m<\u001b[0m\u001b[32m<2*\u001b[0m\u001b[32m2\u001b[0m\u001b[32m=\u001b[0m\u001b[32m4\u001b[0m\u001b[32m>>4 tattoos.\\n3 tattoos on \u001b[0m\n",
       "\u001b[32meach leg is a total of 2*\u001b[0m\u001b[32m3\u001b[0m\u001b[32m=<<2*\u001b[0m\u001b[32m3\u001b[0m\u001b[32m=\u001b[0m\u001b[32m6\u001b[0m\u001b[32m>>6 tattoos.\\nThus, Jason has 4+\u001b[0m\u001b[32m6\u001b[0m\u001b[32m=<<4+\u001b[0m\u001b[32m6\u001b[0m\u001b[32m=\u001b[0m\u001b[32m10\u001b[0m\u001b[32m>>10 tattoos.\\nTwice the number of \u001b[0m\n",
       "\u001b[32mtattoos that Jason has is 2*\u001b[0m\u001b[32m10\u001b[0m\u001b[32m=<<2*\u001b[0m\u001b[32m10\u001b[0m\u001b[32m=\u001b[0m\u001b[32m20\u001b[0m\u001b[32m>>20 tattoos.\\nAdam has 3 more than twice the number Jason has, or \u001b[0m\n",
       "\u001b[32m3+\u001b[0m\u001b[32m20\u001b[0m\u001b[32m=<<3+\u001b[0m\u001b[32m20\u001b[0m\u001b[32m=\u001b[0m\u001b[32m23\u001b[0m\u001b[32m>>23 tattoos.\\n#### 23\\n\\n\\n### Example #1\\n\\nQ: Giselle had 20 female doves in a birdhouse. After a \u001b[0m\n",
       "\u001b[32mmonth, the doves laid 3 eggs each. If 3/4 of the eggs hatched, calculate the total number of doves Giselle has \u001b[0m\n",
       "\u001b[32mnow.\\n\\nThe final numerical answer: 65\\n\\nUser feedback: Incorrect. Must be equal to If Giselle had 20 doves that \u001b[0m\n",
       "\u001b[32mlaid 3 eggs each, the total number of eggs in the birdhouse is 20*3 = <<20*\u001b[0m\u001b[32m3\u001b[0m\u001b[32m=\u001b[0m\u001b[32m60\u001b[0m\u001b[32m>>60 eggs.\\nIf 3/4 of the eggs \u001b[0m\n",
       "\u001b[32mhatched into birds, their total number is 3/4*60 = <<3/4*\u001b[0m\u001b[32m60\u001b[0m\u001b[32m=\u001b[0m\u001b[32m45\u001b[0m\u001b[32m>>45\\nIn the birdhouse, there are 20 initial doves + \u001b[0m\n",
       "\u001b[32m45 new squabs = <<20+\u001b[0m\u001b[32m45\u001b[0m\u001b[32m=\u001b[0m\u001b[32m65\u001b[0m\u001b[32m>>65 birds\\n#### 65\\n\\n\\n### Example #2\\n\\nQ: New York is two-thirds as populated as all \u001b[0m\n",
       "\u001b[32mof New England. If New England has 2100000 people, calculate the combined population of both states.\\n\\nThe final \u001b[0m\n",
       "\u001b[32mnumerical answer: 3,500,000\\n\\nUser feedback: Incorrect. Must be equal to New York is two-thirds as populated as \u001b[0m\n",
       "\u001b[32mall of New England, meaning there are 2/3*2100000 = <<2/3*\u001b[0m\u001b[32m2100000\u001b[0m\u001b[32m=\u001b[0m\u001b[32m1400000\u001b[0m\u001b[32m>>1400000 people living in New York.\\nThe \u001b[0m\n",
       "\u001b[32mcombined population of both states is 1400000+2100000 = <<1400000+\u001b[0m\u001b[32m2100000\u001b[0m\u001b[32m=\u001b[0m\u001b[32m3500000\u001b[0m\u001b[32m>>3500000\\n#### 3500000\\n\\n\\n### \u001b[0m\n",
       "\u001b[32mExample #3\\n\\nQ: Jonathan enjoys walking and running for exercise, and he has three different exercise routines.  \u001b[0m\n",
       "\u001b[32mOn Mondays, he walks at 2 miles per hour.  On Wednesdays, he walks at 3 miles per hour.  And on Fridays, he runs at\u001b[0m\n",
       "\u001b[32m6 miles per hour.  On each exercise day, he travels 6 miles.  What is the combined total time, in hours, he spends \u001b[0m\n",
       "\u001b[32mexercising in a week?\\n\\nThe final numerical answer: 6 hours\\n\\nUser feedback: Incorrect. Must be equal to On \u001b[0m\n",
       "\u001b[32mMondays, he walks 6 miles at 2 miles per hour, for a length of 6/\u001b[0m\u001b[32m2\u001b[0m\u001b[32m=<<6/\u001b[0m\u001b[32m2\u001b[0m\u001b[32m=\u001b[0m\u001b[32m3\u001b[0m\u001b[32m>>3 hours.\\nOn Wednesdays, he walks 6 \u001b[0m\n",
       "\u001b[32mmiles at 3 miles per hour, for a length of 6/\u001b[0m\u001b[32m3\u001b[0m\u001b[32m=<<6/\u001b[0m\u001b[32m3\u001b[0m\u001b[32m=\u001b[0m\u001b[32m2\u001b[0m\u001b[32m>>2 hours.\\nAnd on Fridays, he runs 6 miles at 6 miles per \u001b[0m\n",
       "\u001b[32mhour, for a length of 6/\u001b[0m\u001b[32m6\u001b[0m\u001b[32m=<<6/\u001b[0m\u001b[32m6\u001b[0m\u001b[32m=\u001b[0m\u001b[32m1\u001b[0m\u001b[32m>>1 hour.\\nThe combined total time he spends exercising in a week is \u001b[0m\n",
       "\u001b[32m3+2+\u001b[0m\u001b[32m1\u001b[0m\u001b[32m=<<3+2+\u001b[0m\u001b[32m1\u001b[0m\u001b[32m=\u001b[0m\u001b[32m6\u001b[0m\u001b[32m>>6 hours.\\n#### 6\\n\\n\\n### Example #4\\n\\nQ: There were 50 racers in a bicycle charity race at the \u001b[0m\n",
       "\u001b[32mbeginning of the race. After 20 minutes, 30 more racers joined the race. The total number of racers doubled after \u001b[0m\n",
       "\u001b[32manother 30 minutes. If at the end of the race only 130 people finished the race, what\\'s the total number of people\u001b[0m\n",
       "\u001b[32mwho dropped before finishing the race?\\n\\nThe final numerical answer: 30\\n\\nUser feedback: Incorrect. Must be equal\u001b[0m\n",
       "\u001b[32mto At the start, there were 50 racers, who were joined by 30 more racers, thus 50+30 =<<50+\u001b[0m\u001b[32m30\u001b[0m\u001b[32m=\u001b[0m\u001b[32m80\u001b[0m\u001b[32m>\u001b[0m\u001b[32m>\u001b[0m\u001b[32m80 racers\\nAfter \u001b[0m\n",
       "\u001b[32m30 more minutes, the number of racers doubled, totaling 80*2 = 160 racers.\\nIf the number of racers who finished is\u001b[0m\n",
       "\u001b[32m130, the 160-130 = 30 racers dropped before finishing.\\n#### 30\\n\\n\\n\\t\\t\\tSummarize your analysis about incorrect \u001b[0m\n",
       "\u001b[32mpredictions and suggest changes to the prompt.'\u001b[0m\u001b[1m}\u001b[0m\n"
      ]
     },
     "metadata": {},
     "output_type": "display_data"
    },
    {
     "data": {
      "text/html": [
       "<pre style=\"white-space:pre;overflow-x:auto;line-height:normal;font-family:Menlo,'DejaVu Sans Mono',consolas,'Courier New',monospace\"><span style=\"font-weight: bold\">{</span><span style=\"color: #008000; text-decoration-color: #008000\">'input'</span>: <span style=\"color: #008000; text-decoration-color: #008000\">'\\n\\t\\t\\tNow please carefully review your reasoning in Step 1 and help with Step 2: refining the </span>\n",
       "<span style=\"color: #008000; text-decoration-color: #008000\">prompt.\\n\\t\\t\\t## Current prompt\\n\\t\\t\\t\"Carefully read and correctly interpret the given mathematical problem. </span>\n",
       "<span style=\"color: #008000; text-decoration-color: #008000\">Break it down into manageable steps, perform the necessary calculations, and provide the final numerical answer. </span>\n",
       "<span style=\"color: #008000; text-decoration-color: #008000\">Pay close attention to all the details provided in the problem. Double-check your calculations to ensure accuracy </span>\n",
       "<span style=\"color: #008000; text-decoration-color: #008000\">and precision. If the problem involves multiple steps or calculations, ensure each step is correctly executed to </span>\n",
       "<span style=\"color: #008000; text-decoration-color: #008000\">arrive at the correct final answer.\"\\n\\n\\t\\t\\t## Follow this guidance to refine the prompt:\\n\\n\\t\\t\\t1. The new </span>\n",
       "<span style=\"color: #008000; text-decoration-color: #008000\">prompt should should describe the task precisely, and address the points raised in the user feedback.\\n\\n\\t\\t\\t2. </span>\n",
       "<span style=\"color: #008000; text-decoration-color: #008000\">The new prompt should be similar to the current instruction, and only differ in the parts that address the issues </span>\n",
       "<span style=\"color: #008000; text-decoration-color: #008000\">you identified in Step 1.\\n\\t\\t\\t\\t\\tExample:\\n\\t\\t\\t\\t\\t- Current prompt: \"The model should generate a summary of </span>\n",
       "<span style=\"color: #008000; text-decoration-color: #008000\">the input text.\"\\n\\t\\t\\t\\t\\t- New prompt: \"The model should generate a summary of the input text. Pay attention to </span>\n",
       "<span style=\"color: #008000; text-decoration-color: #008000\">the original style.\"\\n\\n\\t\\t\\t3. Reply only with the new prompt. Do not include input and output templates in the </span>\n",
       "<span style=\"color: #008000; text-decoration-color: #008000\">prompt. remove any special characters from the prompt.'</span><span style=\"font-weight: bold\">}</span>\n",
       "</pre>\n"
      ],
      "text/plain": [
       "\u001b[1m{\u001b[0m\u001b[32m'input'\u001b[0m: \u001b[32m'\\n\\t\\t\\tNow please carefully review your reasoning in Step 1 and help with Step 2: refining the \u001b[0m\n",
       "\u001b[32mprompt.\\n\\t\\t\\t## Current prompt\\n\\t\\t\\t\"Carefully read and correctly interpret the given mathematical problem. \u001b[0m\n",
       "\u001b[32mBreak it down into manageable steps, perform the necessary calculations, and provide the final numerical answer. \u001b[0m\n",
       "\u001b[32mPay close attention to all the details provided in the problem. Double-check your calculations to ensure accuracy \u001b[0m\n",
       "\u001b[32mand precision. If the problem involves multiple steps or calculations, ensure each step is correctly executed to \u001b[0m\n",
       "\u001b[32marrive at the correct final answer.\"\\n\\n\\t\\t\\t## Follow this guidance to refine the prompt:\\n\\n\\t\\t\\t1. The new \u001b[0m\n",
       "\u001b[32mprompt should should describe the task precisely, and address the points raised in the user feedback.\\n\\n\\t\\t\\t2. \u001b[0m\n",
       "\u001b[32mThe new prompt should be similar to the current instruction, and only differ in the parts that address the issues \u001b[0m\n",
       "\u001b[32myou identified in Step 1.\\n\\t\\t\\t\\t\\tExample:\\n\\t\\t\\t\\t\\t- Current prompt: \"The model should generate a summary of \u001b[0m\n",
       "\u001b[32mthe input text.\"\\n\\t\\t\\t\\t\\t- New prompt: \"The model should generate a summary of the input text. Pay attention to \u001b[0m\n",
       "\u001b[32mthe original style.\"\\n\\n\\t\\t\\t3. Reply only with the new prompt. Do not include input and output templates in the \u001b[0m\n",
       "\u001b[32mprompt. remove any special characters from the prompt.'\u001b[0m\u001b[1m}\u001b[0m\n"
      ]
     },
     "metadata": {},
     "output_type": "display_data"
    },
    {
     "data": {
      "text/html": [
       "<pre style=\"white-space:pre;overflow-x:auto;line-height:normal;font-family:Menlo,'DejaVu Sans Mono',consolas,'Courier New',monospace\">reasoning: The current prompt instructs the model to <span style=\"color: #008000; text-decoration-color: #008000\">\"Carefully read and correctly interpret the given mathematical</span>\n",
       "<span style=\"color: #008000; text-decoration-color: #008000\">problem. Break it down into manageable steps, perform the necessary calculations, and provide the final numerical </span>\n",
       "<span style=\"color: #008000; text-decoration-color: #008000\">answer.\"</span> However, it seems that the model is not correctly interpreting the problems or performing the necessary \n",
       "calculations in some cases. \n",
       "\n",
       "In Example #<span style=\"color: #008080; text-decoration-color: #008080; font-weight: bold\">0</span>, the model failed to correctly calculate the number of tattoos Jason has, which led to an incorrect \n",
       "calculation of the number of tattoos Adam has. \n",
       "\n",
       "In Example #<span style=\"color: #008080; text-decoration-color: #008080; font-weight: bold\">1</span>, the model did not correctly calculate the number of eggs that hatched, leading to an incorrect total\n",
       "number of doves. \n",
       "\n",
       "In Example #<span style=\"color: #008080; text-decoration-color: #008080; font-weight: bold\">2</span>, the model did not correctly calculate the population of New York, leading to an incorrect combined \n",
       "population of both states. \n",
       "\n",
       "In Example #<span style=\"color: #008080; text-decoration-color: #008080; font-weight: bold\">3</span>, the model did not correctly calculate the total time Jonathan spends exercising in a week. \n",
       "\n",
       "In Example #<span style=\"color: #008080; text-decoration-color: #008080; font-weight: bold\">4</span>, the model did not correctly calculate the number of racers who dropped out before finishing the \n",
       "race. \n",
       "\n",
       "To address these issues, the prompt could be revised to emphasize the importance of correctly interpreting the \n",
       "problem and performing all necessary calculations. For example, the prompt could be revised to: \n",
       "\n",
       "\"Carefully read and understand the given mathematical problem. Make sure to correctly interpret all the details \n",
       "provided\n",
       "</pre>\n"
      ],
      "text/plain": [
       "reasoning: The current prompt instructs the model to \u001b[32m\"Carefully read and correctly interpret the given mathematical\u001b[0m\n",
       "\u001b[32mproblem. Break it down into manageable steps, perform the necessary calculations, and provide the final numerical \u001b[0m\n",
       "\u001b[32manswer.\"\u001b[0m However, it seems that the model is not correctly interpreting the problems or performing the necessary \n",
       "calculations in some cases. \n",
       "\n",
       "In Example #\u001b[1;36m0\u001b[0m, the model failed to correctly calculate the number of tattoos Jason has, which led to an incorrect \n",
       "calculation of the number of tattoos Adam has. \n",
       "\n",
       "In Example #\u001b[1;36m1\u001b[0m, the model did not correctly calculate the number of eggs that hatched, leading to an incorrect total\n",
       "number of doves. \n",
       "\n",
       "In Example #\u001b[1;36m2\u001b[0m, the model did not correctly calculate the population of New York, leading to an incorrect combined \n",
       "population of both states. \n",
       "\n",
       "In Example #\u001b[1;36m3\u001b[0m, the model did not correctly calculate the total time Jonathan spends exercising in a week. \n",
       "\n",
       "In Example #\u001b[1;36m4\u001b[0m, the model did not correctly calculate the number of racers who dropped out before finishing the \n",
       "race. \n",
       "\n",
       "To address these issues, the prompt could be revised to emphasize the importance of correctly interpreting the \n",
       "problem and performing all necessary calculations. For example, the prompt could be revised to: \n",
       "\n",
       "\"Carefully read and understand the given mathematical problem. Make sure to correctly interpret all the details \n",
       "provided\n"
      ]
     },
     "metadata": {},
     "output_type": "display_data"
    },
    {
     "data": {
      "text/html": [
       "<pre style=\"white-space:pre;overflow-x:auto;line-height:normal;font-family:Menlo,'DejaVu Sans Mono',consolas,'Courier New',monospace\">New prompt: <span style=\"color: #008000; text-decoration-color: #008000\">\"Carefully read and understand the given mathematical problem. Make sure to correctly interpret all the</span>\n",
       "<span style=\"color: #008000; text-decoration-color: #008000\">details provided in the problem. Break it down into manageable steps, ensuring each step is correctly executed. </span>\n",
       "<span style=\"color: #008000; text-decoration-color: #008000\">Perform the necessary calculations with precision, and provide the final numerical answer. Double-check your </span>\n",
       "<span style=\"color: #008000; text-decoration-color: #008000\">calculations to ensure accuracy. If the problem involves multiple steps or calculations, ensure each step is </span>\n",
       "<span style=\"color: #008000; text-decoration-color: #008000\">correctly executed to arrive at the correct final answer.\"</span>\n",
       "</pre>\n"
      ],
      "text/plain": [
       "New prompt: \u001b[32m\"Carefully read and understand the given mathematical problem. Make sure to correctly interpret all the\u001b[0m\n",
       "\u001b[32mdetails provided in the problem. Break it down into manageable steps, ensuring each step is correctly executed. \u001b[0m\n",
       "\u001b[32mPerform the necessary calculations with precision, and provide the final numerical answer. Double-check your \u001b[0m\n",
       "\u001b[32mcalculations to ensure accuracy. If the problem involves multiple steps or calculations, ensure each step is \u001b[0m\n",
       "\u001b[32mcorrectly executed to arrive at the correct final answer.\"\u001b[0m\n"
      ]
     },
     "metadata": {},
     "output_type": "display_data"
    },
    {
     "data": {
      "text/html": [
       "\"Carefully read and <span style=\"background-color: lightgreen;\">u</span>n<span style=\"background-color: lightgreen;\">d</span>er<span style=\"background-color: lightgreen;\">s</span>t<span style=\"background-color: lightgreen;\">a</span><span style=\"background-color: lightgreen;\">n</span><span style=\"background-color: lightgreen;\">d</span> the given mathematical problem. <span style=\"background-color: lightgreen;\">M</span><span style=\"background-color: lightgreen;\">a</span><span style=\"background-color: lightgreen;\">k</span><span style=\"background-color: lightgreen;\">e</span><span style=\"background-color: lightgreen;\"> </span><span style=\"background-color: lightgreen;\">s</span><span style=\"background-color: lightgreen;\">u</span><span style=\"background-color: lightgreen;\">r</span><span style=\"background-color: lightgreen;\">e</span><span style=\"background-color: lightgreen;\"> </span><span style=\"background-color: lightgreen;\">t</span><span style=\"background-color: lightgreen;\">o</span><span style=\"background-color: lightgreen;\"> </span><span style=\"background-color: lightgreen;\">c</span><span style=\"background-color: lightgreen;\">o</span><span style=\"background-color: lightgreen;\">r</span><span style=\"background-color: lightgreen;\">r</span><span style=\"background-color: lightgreen;\">e</span><span style=\"background-color: lightgreen;\">c</span><span style=\"background-color: lightgreen;\">t</span><span style=\"background-color: lightgreen;\">l</span><span style=\"background-color: lightgreen;\">y</span><span style=\"background-color: lightgreen;\"> </span><span style=\"background-color: lightgreen;\">i</span><span style=\"background-color: lightgreen;\">n</span><span style=\"background-color: lightgreen;\">t</span><span style=\"background-color: lightgreen;\">e</span><span style=\"background-color: lightgreen;\">r</span><span style=\"background-color: lightgreen;\">p</span><span style=\"background-color: lightgreen;\">r</span><span style=\"background-color: lightgreen;\">e</span><span style=\"background-color: lightgreen;\">t</span><span style=\"background-color: lightgreen;\"> </span><span style=\"background-color: lightgreen;\">a</span><span style=\"background-color: lightgreen;\">l</span><span style=\"background-color: lightgreen;\">l</span><span style=\"background-color: lightgreen;\"> </span><span style=\"background-color: lightgreen;\">t</span><span style=\"background-color: lightgreen;\">h</span><span style=\"background-color: lightgreen;\">e</span><span style=\"background-color: lightgreen;\"> </span><span style=\"background-color: lightgreen;\">d</span><span style=\"background-color: lightgreen;\">e</span><span style=\"background-color: lightgreen;\">t</span><span style=\"background-color: lightgreen;\">a</span><span style=\"background-color: lightgreen;\">i</span><span style=\"background-color: lightgreen;\">l</span><span style=\"background-color: lightgreen;\">s</span><span style=\"background-color: lightgreen;\"> </span><span style=\"background-color: lightgreen;\">p</span><span style=\"background-color: lightgreen;\">r</span><span style=\"background-color: lightgreen;\">o</span><span style=\"background-color: lightgreen;\">v</span><span style=\"background-color: lightgreen;\">i</span><span style=\"background-color: lightgreen;\">d</span><span style=\"background-color: lightgreen;\">e</span><span style=\"background-color: lightgreen;\">d</span><span style=\"background-color: lightgreen;\"> </span><span style=\"background-color: lightgreen;\">i</span><span style=\"background-color: lightgreen;\">n</span><span style=\"background-color: lightgreen;\"> </span><span style=\"background-color: lightgreen;\">t</span><span style=\"background-color: lightgreen;\">h</span><span style=\"background-color: lightgreen;\">e</span><span style=\"background-color: lightgreen;\"> </span><span style=\"background-color: lightgreen;\">p</span><span style=\"background-color: lightgreen;\">r</span><span style=\"background-color: lightgreen;\">o</span><span style=\"background-color: lightgreen;\">b</span><span style=\"background-color: lightgreen;\">l</span><span style=\"background-color: lightgreen;\">e</span><span style=\"background-color: lightgreen;\">m</span><span style=\"background-color: lightgreen;\">.</span><span style=\"background-color: lightgreen;\"> </span>Break it down into manageable steps, <span style=\"background-color: lightgreen;\">e</span><span style=\"background-color: lightgreen;\">n</span><span style=\"background-color: lightgreen;\">s</span><span style=\"background-color: lightgreen;\">u</span><span style=\"background-color: lightgreen;\">r</span><span style=\"background-color: lightgreen;\">i</span><span style=\"background-color: lightgreen;\">n</span><span style=\"background-color: lightgreen;\">g</span><span style=\"background-color: lightgreen;\"> </span><span style=\"background-color: lightgreen;\">e</span><span style=\"background-color: lightgreen;\">a</span><span style=\"background-color: lightgreen;\">c</span><span style=\"background-color: lightgreen;\">h</span><span style=\"background-color: lightgreen;\"> </span><span style=\"background-color: lightgreen;\">s</span><span style=\"background-color: lightgreen;\">t</span><span style=\"background-color: lightgreen;\">e</span>p<span style=\"background-color: lightgreen;\"> </span><span style=\"background-color: lightgreen;\">i</span><span style=\"background-color: lightgreen;\">s</span><span style=\"background-color: lightgreen;\"> </span><span style=\"background-color: lightgreen;\">c</span><span style=\"background-color: lightgreen;\">o</span><span style=\"background-color: lightgreen;\">r</span><span style=\"background-color: lightgreen;\">r</span><span style=\"background-color: lightgreen;\">e</span><span style=\"background-color: lightgreen;\">c</span><span style=\"background-color: lightgreen;\">t</span><span style=\"background-color: lightgreen;\">l</span><span style=\"background-color: lightgreen;\">y</span><span style=\"background-color: lightgreen;\"> </span><span style=\"background-color: lightgreen;\">e</span><span style=\"background-color: lightgreen;\">x</span><span style=\"background-color: lightgreen;\">e</span><span style=\"background-color: lightgreen;\">c</span><span style=\"background-color: lightgreen;\">u</span><span style=\"background-color: lightgreen;\">t</span><span style=\"background-color: lightgreen;\">e</span><span style=\"background-color: lightgreen;\">d</span><span style=\"background-color: lightgreen;\">.</span><span style=\"background-color: lightgreen;\"> </span><span style=\"background-color: lightgreen;\">P</span>erform the necessary calculations<span style=\"background-color: lightgreen;\"> </span><span style=\"background-color: lightgreen;\">w</span><span style=\"background-color: lightgreen;\">i</span><span style=\"background-color: lightgreen;\">t</span><span style=\"background-color: lightgreen;\">h</span><span style=\"background-color: lightgreen;\"> </span><span style=\"background-color: lightgreen;\">p</span><span style=\"background-color: lightgreen;\">r</span><span style=\"background-color: lightgreen;\">e</span><span style=\"background-color: lightgreen;\">c</span><span style=\"background-color: lightgreen;\">i</span><span style=\"background-color: lightgreen;\">s</span><span style=\"background-color: lightgreen;\">i</span><span style=\"background-color: lightgreen;\">o</span><span style=\"background-color: lightgreen;\">n</span>, and provide the final numerical answer. <span style=\"background-color: lightgreen;\">D</span>o<span style=\"background-color: lightgreen;\">u</span>ble-check your calculations to ensure accuracy. If the problem involves multiple steps or calculations, ensure each step is correctly executed to arrive at the correct final answer.\""
      ],
      "text/plain": [
       "<IPython.core.display.HTML object>"
      ]
     },
     "metadata": {},
     "output_type": "display_data"
    },
    {
     "data": {
      "text/html": [
       "<pre style=\"white-space:pre;overflow-x:auto;line-height:normal;font-family:Menlo,'DejaVu Sans Mono',consolas,'Courier New',monospace\">Train is done!\n",
       "</pre>\n"
      ],
      "text/plain": [
       "Train is done!\n"
      ]
     },
     "metadata": {},
     "output_type": "display_data"
    },
    {
     "data": {
      "text/html": [
       "<pre style=\"white-space:pre;overflow-x:auto;line-height:normal;font-family:Menlo,'DejaVu Sans Mono',consolas,'Courier New',monospace\">\n",
       "\n",
       "=&gt; Iteration #<span style=\"color: #008080; text-decoration-color: #008080; font-weight: bold\">4</span>: Getting feedback, analyzing and improving <span style=\"color: #808000; text-decoration-color: #808000\">...</span>\n",
       "</pre>\n"
      ],
      "text/plain": [
       "\n",
       "\n",
       "=> Iteration #\u001b[1;36m4\u001b[0m: Getting feedback, analyzing and improving \u001b[33m...\u001b[0m\n"
      ]
     },
     "metadata": {},
     "output_type": "display_data"
    },
    {
     "data": {
      "text/html": [
       "<pre style=\"white-space:pre;overflow-x:auto;line-height:normal;font-family:Menlo,'DejaVu Sans Mono',consolas,'Courier New',monospace\">Applying skill: math_solver\n",
       "</pre>\n"
      ],
      "text/plain": [
       "Applying skill: math_solver\n"
      ]
     },
     "metadata": {},
     "output_type": "display_data"
    },
    {
     "name": "stderr",
     "output_type": "stream",
     "text": [
      "  0%|          | 0/5 [00:00<?, ?it/s]"
     ]
    },
    {
     "data": {
      "text/html": [
       "<pre style=\"white-space:pre;overflow-x:auto;line-height:normal;font-family:Menlo,'DejaVu Sans Mono',consolas,'Courier New',monospace\"><span style=\"font-weight: bold\">{</span><span style=\"color: #008000; text-decoration-color: #008000\">'question'</span>: <span style=\"color: #008000; text-decoration-color: #008000\">'Reese had a sum of money in her savings account. The company she used to work with was not doing well</span>\n",
       "<span style=\"color: #008000; text-decoration-color: #008000\">which is why she lost her job. So she spent 20% of her savings for her expenses in February, 40% of it in March, </span>\n",
       "<span style=\"color: #008000; text-decoration-color: #008000\">and $1500 in April. How much did she have in her savings account if she still has $2900 after spending those </span>\n",
       "<span style=\"color: #008000; text-decoration-color: #008000\">amounts?'</span>, <span style=\"color: #008000; text-decoration-color: #008000\">'answer'</span>: <span style=\"color: #008000; text-decoration-color: #008000\">'The total percentage of money that Reese spent in February and March is 20% + 40% = </span>\n",
       "<span style=\"color: #008000; text-decoration-color: #008000\">60%.\\nThis means the April expenses and the money left in her account make up 100% - 60% = 40% of her </span>\n",
       "<span style=\"color: #008000; text-decoration-color: #008000\">savings.\\nReese had $2900 + $1500 = $&lt;&lt;2900+1500=4400&gt;&gt;4400 for the April expenses and the money left in her </span>\n",
       "<span style=\"color: #008000; text-decoration-color: #008000\">account.\\nSo, $4400 is equal to 40% which means every 1% is equal to $4400/40 = $&lt;&lt;4400/40=110&gt;&gt;110.\\nTherefore, </span>\n",
       "<span style=\"color: #008000; text-decoration-color: #008000\">Reese originally had $110 x 100 = $&lt;&lt;110*100=11000&gt;&gt;11000 in her savings account.\\n#### 11000'</span><span style=\"font-weight: bold\">}</span>\n",
       "</pre>\n"
      ],
      "text/plain": [
       "\u001b[1m{\u001b[0m\u001b[32m'question'\u001b[0m: \u001b[32m'Reese had a sum of money in her savings account. The company she used to work with was not doing well\u001b[0m\n",
       "\u001b[32mwhich is why she lost her job. So she spent 20% of her savings for her expenses in February, 40% of it in March, \u001b[0m\n",
       "\u001b[32mand $1500 in April. How much did she have in her savings account if she still has $2900 after spending those \u001b[0m\n",
       "\u001b[32mamounts?'\u001b[0m, \u001b[32m'answer'\u001b[0m: \u001b[32m'The total percentage of money that Reese spent in February and March is 20% + 40% = \u001b[0m\n",
       "\u001b[32m60%.\\nThis means the April expenses and the money left in her account make up 100% - 60% = 40% of her \u001b[0m\n",
       "\u001b[32msavings.\\nReese had $2900 + $1500 = $\u001b[0m\u001b[32m<\u001b[0m\u001b[32m<2900+\u001b[0m\u001b[32m1500\u001b[0m\u001b[32m=\u001b[0m\u001b[32m4400\u001b[0m\u001b[32m>>4400 for the April expenses and the money left in her \u001b[0m\n",
       "\u001b[32maccount.\\nSo, $4400 is equal to 40% which means every 1% is equal to $4400/40 = $<<4400/\u001b[0m\u001b[32m40\u001b[0m\u001b[32m=\u001b[0m\u001b[32m110\u001b[0m\u001b[32m>>110.\\nTherefore, \u001b[0m\n",
       "\u001b[32mReese originally had $110 x 100 = $<<110*\u001b[0m\u001b[32m100\u001b[0m\u001b[32m=\u001b[0m\u001b[32m11000\u001b[0m\u001b[32m>\u001b[0m\u001b[32m>\u001b[0m\u001b[32m11000 in her savings account.\\n#### 11000'\u001b[0m\u001b[1m}\u001b[0m\n"
      ]
     },
     "metadata": {},
     "output_type": "display_data"
    },
    {
     "name": "stderr",
     "output_type": "stream",
     "text": [
      " 40%|████      | 2/5 [00:06<00:09,  3.11s/it]"
     ]
    },
    {
     "data": {
      "text/html": [
       "<pre style=\"white-space:pre;overflow-x:auto;line-height:normal;font-family:Menlo,'DejaVu Sans Mono',consolas,'Courier New',monospace\"><span style=\"font-weight: bold\">{</span><span style=\"color: #008000; text-decoration-color: #008000\">'question'</span>: <span style=\"color: #008000; text-decoration-color: #008000\">'Laura needs to buy window treatments for 3 windows in her house.  She will need to buy a set of </span>\n",
       "<span style=\"color: #008000; text-decoration-color: #008000\">sheers and a set of drapes for each window.  The sheers cost $40.00 a pair and the drapes cost $60.00 a pair.  How </span>\n",
       "<span style=\"color: #008000; text-decoration-color: #008000\">much will the window treatments cost?'</span>, <span style=\"color: #008000; text-decoration-color: #008000\">'answer'</span>: <span style=\"color: #008000; text-decoration-color: #008000\">'She needs a set of sheers that cost $40.00 and a set of drapes </span>\n",
       "<span style=\"color: #008000; text-decoration-color: #008000\">that cost $60.00 per window so that will cost her 40+60 = $&lt;&lt;40+60=100.00&gt;&gt;100.00\\nShe had 3 windows she needs </span>\n",
       "<span style=\"color: #008000; text-decoration-color: #008000\">window treatments for they cost her $100.00 each so 3*100 = $&lt;&lt;3*100=300.00&gt;&gt;300.00\\n#### 300'</span><span style=\"font-weight: bold\">}</span>\n",
       "</pre>\n"
      ],
      "text/plain": [
       "\u001b[1m{\u001b[0m\u001b[32m'question'\u001b[0m: \u001b[32m'Laura needs to buy window treatments for 3 windows in her house.  She will need to buy a set of \u001b[0m\n",
       "\u001b[32msheers and a set of drapes for each window.  The sheers cost $40.00 a pair and the drapes cost $60.00 a pair.  How \u001b[0m\n",
       "\u001b[32mmuch will the window treatments cost?'\u001b[0m, \u001b[32m'answer'\u001b[0m: \u001b[32m'She needs a set of sheers that cost $40.00 and a set of drapes \u001b[0m\n",
       "\u001b[32mthat cost $60.00 per window so that will cost her 40+60 = $\u001b[0m\u001b[32m<\u001b[0m\u001b[32m<40+\u001b[0m\u001b[32m60\u001b[0m\u001b[32m=\u001b[0m\u001b[32m100\u001b[0m\u001b[32m.00>>100.00\\nShe had 3 windows she needs \u001b[0m\n",
       "\u001b[32mwindow treatments for they cost her $100.00 each so 3*100 = $<<3*\u001b[0m\u001b[32m100\u001b[0m\u001b[32m=\u001b[0m\u001b[32m300\u001b[0m\u001b[32m.00>\u001b[0m\u001b[32m>\u001b[0m\u001b[32m300.00\\n#### 300'\u001b[0m\u001b[1m}\u001b[0m\n"
      ]
     },
     "metadata": {},
     "output_type": "display_data"
    },
    {
     "name": "stderr",
     "output_type": "stream",
     "text": [
      " 60%|██████    | 3/5 [00:11<00:07,  3.90s/it]"
     ]
    },
    {
     "data": {
      "text/html": [
       "<pre style=\"white-space:pre;overflow-x:auto;line-height:normal;font-family:Menlo,'DejaVu Sans Mono',consolas,'Courier New',monospace\"><span style=\"font-weight: bold\">{</span><span style=\"color: #008000; text-decoration-color: #008000\">'question'</span>: <span style=\"color: #008000; text-decoration-color: #008000\">'Elyse had 100 pieces of gum. She gave half to her brother Rick. He gave half of his to his friend </span>\n",
       "<span style=\"color: #008000; text-decoration-color: #008000\">Shane. Shane chewed 11 pieces of gum. How many pieces does Shane have left?'</span>, <span style=\"color: #008000; text-decoration-color: #008000\">'answer'</span>: <span style=\"color: #008000; text-decoration-color: #008000\">'Elyse gave half of her 100</span>\n",
       "<span style=\"color: #008000; text-decoration-color: #008000\">pieces of gum, or 100 / 2 = &lt;&lt;100/2=50&gt;&gt;50 pieces of gum, to Rick.\\nRick gave half of his 50 pieces of gum, or 50 /</span>\n",
       "<span style=\"color: #008000; text-decoration-color: #008000\">2 = &lt;&lt;50/2=25&gt;&gt;25 pieces of gum, to Shane.\\nShane had 25 pieces of gum and chewed 11, so he had 25 – 11 = </span>\n",
       "<span style=\"color: #008000; text-decoration-color: #008000\">&lt;&lt;25-11=14&gt;&gt;14 pieces of gum left.\\n#### 14'</span><span style=\"font-weight: bold\">}</span>\n",
       "</pre>\n"
      ],
      "text/plain": [
       "\u001b[1m{\u001b[0m\u001b[32m'question'\u001b[0m: \u001b[32m'Elyse had 100 pieces of gum. She gave half to her brother Rick. He gave half of his to his friend \u001b[0m\n",
       "\u001b[32mShane. Shane chewed 11 pieces of gum. How many pieces does Shane have left?'\u001b[0m, \u001b[32m'answer'\u001b[0m: \u001b[32m'Elyse gave half of her 100\u001b[0m\n",
       "\u001b[32mpieces of gum, or 100 / 2 = \u001b[0m\u001b[32m<\u001b[0m\u001b[32m<100/\u001b[0m\u001b[32m2\u001b[0m\u001b[32m=\u001b[0m\u001b[32m50\u001b[0m\u001b[32m>>50 pieces of gum, to Rick.\\nRick gave half of his 50 pieces of gum, or 50 /\u001b[0m\n",
       "\u001b[32m2 = <<50/\u001b[0m\u001b[32m2\u001b[0m\u001b[32m=\u001b[0m\u001b[32m25\u001b[0m\u001b[32m>>25 pieces of gum, to Shane.\\nShane had 25 pieces of gum and chewed 11, so he had 25 – 11 = \u001b[0m\n",
       "\u001b[32m<<25-\u001b[0m\u001b[32m11\u001b[0m\u001b[32m=\u001b[0m\u001b[32m14\u001b[0m\u001b[32m>\u001b[0m\u001b[32m>\u001b[0m\u001b[32m14 pieces of gum left.\\n#### 14'\u001b[0m\u001b[1m}\u001b[0m\n"
      ]
     },
     "metadata": {},
     "output_type": "display_data"
    },
    {
     "name": "stderr",
     "output_type": "stream",
     "text": [
      " 80%|████████  | 4/5 [00:12<00:02,  2.80s/it]"
     ]
    },
    {
     "data": {
      "text/html": [
       "<pre style=\"white-space:pre;overflow-x:auto;line-height:normal;font-family:Menlo,'DejaVu Sans Mono',consolas,'Courier New',monospace\"><span style=\"font-weight: bold\">{</span><span style=\"color: #008000; text-decoration-color: #008000\">'question'</span>: <span style=\"color: #008000; text-decoration-color: #008000\">'In a store, there are three types of cheese: white, swiss, and blue cheese. Each cheese is packaged, </span>\n",
       "<span style=\"color: #008000; text-decoration-color: #008000\">and there are 200 grams of cheese in each package. The package prices are $5 for white cheese, $6 for swiss cheese,</span>\n",
       "<span style=\"color: #008000; text-decoration-color: #008000\">and $8 for blue cheese. Miley needed to get some for her party, and she decided to buy 5 packs of swiss cheese, 600</span>\n",
       "<span style=\"color: #008000; text-decoration-color: #008000\">grams of blue cheese, and one-third less white cheese. How much did she need to pay for all the cheese?'</span>, <span style=\"color: #008000; text-decoration-color: #008000\">'answer'</span>:\n",
       "<span style=\"color: #008000; text-decoration-color: #008000\">'For the swiss cheese, Miley paid 5 * 6 = $&lt;&lt;5*6=30&gt;&gt;30.\\n600 grams of blue cheese means 600 / 200 = &lt;&lt;600/200=3&gt;&gt;3</span>\n",
       "<span style=\"color: #008000; text-decoration-color: #008000\">packages.\\nSo for the blue cheese, Miley paid 3 * 8 = $&lt;&lt;3*8=24&gt;&gt;24.\\nOne-third of the blue cheese means 1/3 * 600 </span>\n",
       "<span style=\"color: #008000; text-decoration-color: #008000\">= &lt;&lt;1/3*600=200&gt;&gt;200 grams.\\nSo Miley bought only 600 - 200 = &lt;&lt;600-200=400&gt;&gt;400 grams of white cheese.\\nWhich </span>\n",
       "<span style=\"color: #008000; text-decoration-color: #008000\">means 400 / 200 = &lt;&lt;400/200=2&gt;&gt;2 packages.\\nSo for the white cheese, Miley paid 2 * 5 = $&lt;&lt;2*5=10&gt;&gt;10.\\nSo in total</span>\n",
       "<span style=\"color: #008000; text-decoration-color: #008000\">for all the cheese, Miley paid 30 + 24 + 10 = $&lt;&lt;30+24+10=64&gt;&gt;64.\\n#### 64'</span><span style=\"font-weight: bold\">}</span>\n",
       "</pre>\n"
      ],
      "text/plain": [
       "\u001b[1m{\u001b[0m\u001b[32m'question'\u001b[0m: \u001b[32m'In a store, there are three types of cheese: white, swiss, and blue cheese. Each cheese is packaged, \u001b[0m\n",
       "\u001b[32mand there are 200 grams of cheese in each package. The package prices are $5 for white cheese, $6 for swiss cheese,\u001b[0m\n",
       "\u001b[32mand $8 for blue cheese. Miley needed to get some for her party, and she decided to buy 5 packs of swiss cheese, 600\u001b[0m\n",
       "\u001b[32mgrams of blue cheese, and one-third less white cheese. How much did she need to pay for all the cheese?'\u001b[0m, \u001b[32m'answer'\u001b[0m:\n",
       "\u001b[32m'For the swiss cheese, Miley paid 5 * 6 = $\u001b[0m\u001b[32m<\u001b[0m\u001b[32m<5*\u001b[0m\u001b[32m6\u001b[0m\u001b[32m=\u001b[0m\u001b[32m30\u001b[0m\u001b[32m>>30.\\n600 grams of blue cheese means 600 / 200 = <<600/\u001b[0m\u001b[32m200\u001b[0m\u001b[32m=\u001b[0m\u001b[32m3\u001b[0m\u001b[32m>>3\u001b[0m\n",
       "\u001b[32mpackages.\\nSo for the blue cheese, Miley paid 3 * 8 = $<<3*\u001b[0m\u001b[32m8\u001b[0m\u001b[32m=\u001b[0m\u001b[32m24\u001b[0m\u001b[32m>>24.\\nOne-third of the blue cheese means 1/3 * 600 \u001b[0m\n",
       "\u001b[32m= <<1/3*\u001b[0m\u001b[32m600\u001b[0m\u001b[32m=\u001b[0m\u001b[32m200\u001b[0m\u001b[32m>>200 grams.\\nSo Miley bought only 600 - 200 = <<600-\u001b[0m\u001b[32m200\u001b[0m\u001b[32m=\u001b[0m\u001b[32m400\u001b[0m\u001b[32m>>400 grams of white cheese.\\nWhich \u001b[0m\n",
       "\u001b[32mmeans 400 / 200 = <<400/\u001b[0m\u001b[32m200\u001b[0m\u001b[32m=\u001b[0m\u001b[32m2\u001b[0m\u001b[32m>>2 packages.\\nSo for the white cheese, Miley paid 2 * 5 = $<<2*\u001b[0m\u001b[32m5\u001b[0m\u001b[32m=\u001b[0m\u001b[32m10\u001b[0m\u001b[32m>>10.\\nSo in total\u001b[0m\n",
       "\u001b[32mfor all the cheese, Miley paid 30 + 24 + 10 = $<<30+24+\u001b[0m\u001b[32m10\u001b[0m\u001b[32m=\u001b[0m\u001b[32m64\u001b[0m\u001b[32m>\u001b[0m\u001b[32m>\u001b[0m\u001b[32m64.\\n#### 64'\u001b[0m\u001b[1m}\u001b[0m\n"
      ]
     },
     "metadata": {},
     "output_type": "display_data"
    },
    {
     "name": "stderr",
     "output_type": "stream",
     "text": [
      "100%|██████████| 5/5 [00:18<00:00,  3.98s/it]"
     ]
    },
    {
     "data": {
      "text/html": [
       "<pre style=\"white-space:pre;overflow-x:auto;line-height:normal;font-family:Menlo,'DejaVu Sans Mono',consolas,'Courier New',monospace\"><span style=\"font-weight: bold\">{</span><span style=\"color: #008000; text-decoration-color: #008000\">'question'</span>: <span style=\"color: #008000; text-decoration-color: #008000\">'Every year in January, Natalia, the librarian, tidies up the books. She has 145 novels, 271 comics, </span>\n",
       "<span style=\"color: #008000; text-decoration-color: #008000\">419 documentaries, and 209 albums to store. She wants to put these in crates that can hold 9 items. How many crates</span>\n",
       "<span style=\"color: #008000; text-decoration-color: #008000\">will Natalia use?'</span>, <span style=\"color: #008000; text-decoration-color: #008000\">'answer'</span>: <span style=\"color: #008000; text-decoration-color: #008000\">'Let’s first calculate the total number of items: 145 + 271 + 419 + 209 = </span>\n",
       "<span style=\"color: #008000; text-decoration-color: #008000\">&lt;&lt;145+271+419+209=1044&gt;&gt;1044 items\\nNow let’s put the items in the crates: 1044 / 9 = &lt;&lt;1044/9=116&gt;&gt;116 </span>\n",
       "<span style=\"color: #008000; text-decoration-color: #008000\">crates\\n#### 116'</span><span style=\"font-weight: bold\">}</span>\n",
       "</pre>\n"
      ],
      "text/plain": [
       "\u001b[1m{\u001b[0m\u001b[32m'question'\u001b[0m: \u001b[32m'Every year in January, Natalia, the librarian, tidies up the books. She has 145 novels, 271 comics, \u001b[0m\n",
       "\u001b[32m419 documentaries, and 209 albums to store. She wants to put these in crates that can hold 9 items. How many crates\u001b[0m\n",
       "\u001b[32mwill Natalia use?'\u001b[0m, \u001b[32m'answer'\u001b[0m: \u001b[32m'Let’s first calculate the total number of items: 145 + 271 + 419 + 209 = \u001b[0m\n",
       "\u001b[32m<\u001b[0m\u001b[32m<145+271+419+\u001b[0m\u001b[32m209\u001b[0m\u001b[32m=\u001b[0m\u001b[32m1044\u001b[0m\u001b[32m>>1044 items\\nNow let’s put the items in the crates: 1044 / 9 = <<1044/\u001b[0m\u001b[32m9\u001b[0m\u001b[32m=\u001b[0m\u001b[32m116\u001b[0m\u001b[32m>\u001b[0m\u001b[32m>\u001b[0m\u001b[32m116 \u001b[0m\n",
       "\u001b[32mcrates\\n#### 116'\u001b[0m\u001b[1m}\u001b[0m\n"
      ]
     },
     "metadata": {},
     "output_type": "display_data"
    },
    {
     "name": "stderr",
     "output_type": "stream",
     "text": [
      "100%|██████████| 5/5 [00:22<00:00,  4.42s/it]"
     ]
    },
    {
     "name": "stdout",
     "output_type": "stream",
     "text": [
      "Predictions and feedback:\n"
     ]
    },
    {
     "name": "stderr",
     "output_type": "stream",
     "text": [
      "\n"
     ]
    },
    {
     "data": {
      "text/html": [
       "<pre style=\"white-space:pre;overflow-x:auto;line-height:normal;font-family:Menlo,'DejaVu Sans Mono',consolas,'Courier New',monospace\">                                                                                                                   \n",
       " <span style=\"color: #800080; text-decoration-color: #800080; font-weight: bold\"> answer__fb                       </span> <span style=\"color: #800080; text-decoration-color: #800080; font-weight: bold\"> question                         </span> <span style=\"color: #800080; text-decoration-color: #800080; font-weight: bold\"> output                          </span> <span style=\"color: #800080; text-decoration-color: #800080; font-weight: bold\"> answer  </span> \n",
       " ───────────────────────────────────────────────────────────────────────────────────────────────────────────────── \n",
       "  nan                                Reese had a sum of money in her    To find out how much Reese had    nan      \n",
       "                                     savings account. The company she   in her savings account                     \n",
       "                                     used to work with was not doing    initially, we need to subtract             \n",
       "                                     well which is why she lost her     the amounts she spent from the             \n",
       "                                     job. So she spent 20% of her       amount she has left.                       \n",
       "                                     savings for her expenses in                                                   \n",
       "                                     February, 40% of it in March,      Let's assume the initial amount            \n",
       "                                     and $1500 in April. How much did   in her savings account is x.               \n",
       "                                     she have in her savings account                                               \n",
       "                                     if she still has $2900 after       In February, she spent 20% of              \n",
       "                                     spending those amounts?            her savings, which is 0.2x.                \n",
       "                                                                        In March, she spent 40% of her             \n",
       "                                                                        savings, which is 0.4x.                    \n",
       "                                                                        In April, she spent $1500.                 \n",
       "                                                                                                                   \n",
       "                                                                        So, the total amount she spent             \n",
       "                                                                        is 0.2x + 0.4x + $1500.                    \n",
       "                                                                                                                   \n",
       "                                                                        We know that she still has                 \n",
       "                                                                        $2900 left, so we can set up               \n",
       "                                                                        the equation:                              \n",
       "                                                                                                                   \n",
       "                                                                        x - (0.2x + 0.4x + $1500) =                \n",
       "                                                                        $2900                                      \n",
       "                                                                                                                   \n",
       "                                                                        Simplifying the equation:                  \n",
       "                                                                                                                   \n",
       "                                                                        x - 0.6x - $1500 = $2900                   \n",
       "                                                                                                                   \n",
       "                                                                        Combining like terms:                      \n",
       "                                                                                                                   \n",
       "                                                                        0.4x - $1500 = $2900                       \n",
       "                                                                                                                   \n",
       "                                                                        Adding $1500 to both sides:                \n",
       "                                                                                                                   \n",
       "                                                                        0.4x = $4400                               \n",
       "                                                                                                                   \n",
       "                                                                        Dividing both sides by 0.4:                \n",
       "                                                                                                                   \n",
       "                                                                        x = $11000                                 \n",
       "                                                                                                                   \n",
       "                                                                        Therefore, Reese initially had             \n",
       "                                                                        $11000 in her savings account.             \n",
       "                                                                                                                   \n",
       "                                                                        ```json                                    \n",
       "                                                                        {                                          \n",
       "                                                                                \"answer\": \"$11000\"                 \n",
       "                                                                        }                                          \n",
       "                                                                                                                   \n",
       " <span style=\"color: #7f7f7f; text-decoration-color: #7f7f7f\"> Incorrect. Must be equal to She  </span> <span style=\"color: #7f7f7f; text-decoration-color: #7f7f7f\"> Laura needs to buy window        </span> <span style=\"color: #7f7f7f; text-decoration-color: #7f7f7f\"> nan                             </span> <span style=\"color: #7f7f7f; text-decoration-color: #7f7f7f\"> $300.00 </span> \n",
       " <span style=\"color: #7f7f7f; text-decoration-color: #7f7f7f\"> needs a set of sheers that cost  </span> <span style=\"color: #7f7f7f; text-decoration-color: #7f7f7f\"> treatments for 3 windows in her  </span> <span style=\"color: #7f7f7f; text-decoration-color: #7f7f7f\">                                 </span> <span style=\"color: #7f7f7f; text-decoration-color: #7f7f7f\">         </span> \n",
       " <span style=\"color: #7f7f7f; text-decoration-color: #7f7f7f\"> $40.00 and a set of drapes that  </span> <span style=\"color: #7f7f7f; text-decoration-color: #7f7f7f\"> house.  She will need to buy a   </span> <span style=\"color: #7f7f7f; text-decoration-color: #7f7f7f\">                                 </span> <span style=\"color: #7f7f7f; text-decoration-color: #7f7f7f\">         </span> \n",
       " <span style=\"color: #7f7f7f; text-decoration-color: #7f7f7f\"> cost $60.00 per window so that   </span> <span style=\"color: #7f7f7f; text-decoration-color: #7f7f7f\"> set of sheers and a set of       </span> <span style=\"color: #7f7f7f; text-decoration-color: #7f7f7f\">                                 </span> <span style=\"color: #7f7f7f; text-decoration-color: #7f7f7f\">         </span> \n",
       " <span style=\"color: #7f7f7f; text-decoration-color: #7f7f7f\"> will cost her 40+60 =            </span> <span style=\"color: #7f7f7f; text-decoration-color: #7f7f7f\"> drapes for each window.  The     </span> <span style=\"color: #7f7f7f; text-decoration-color: #7f7f7f\">                                 </span> <span style=\"color: #7f7f7f; text-decoration-color: #7f7f7f\">         </span> \n",
       " <span style=\"color: #7f7f7f; text-decoration-color: #7f7f7f\"> $&lt;&lt;40+60=100.00&gt;&gt;100.00          </span> <span style=\"color: #7f7f7f; text-decoration-color: #7f7f7f\"> sheers cost $40.00 a pair and    </span> <span style=\"color: #7f7f7f; text-decoration-color: #7f7f7f\">                                 </span> <span style=\"color: #7f7f7f; text-decoration-color: #7f7f7f\">         </span> \n",
       " <span style=\"color: #7f7f7f; text-decoration-color: #7f7f7f\"> She had 3 windows she needs      </span> <span style=\"color: #7f7f7f; text-decoration-color: #7f7f7f\"> the drapes cost $60.00 a pair.   </span> <span style=\"color: #7f7f7f; text-decoration-color: #7f7f7f\">                                 </span> <span style=\"color: #7f7f7f; text-decoration-color: #7f7f7f\">         </span> \n",
       " <span style=\"color: #7f7f7f; text-decoration-color: #7f7f7f\"> window treatments for they cost  </span> <span style=\"color: #7f7f7f; text-decoration-color: #7f7f7f\"> How much will the window         </span> <span style=\"color: #7f7f7f; text-decoration-color: #7f7f7f\">                                 </span> <span style=\"color: #7f7f7f; text-decoration-color: #7f7f7f\">         </span> \n",
       " <span style=\"color: #7f7f7f; text-decoration-color: #7f7f7f\"> her $100.00 each so 3*100 =      </span> <span style=\"color: #7f7f7f; text-decoration-color: #7f7f7f\"> treatments cost?                 </span> <span style=\"color: #7f7f7f; text-decoration-color: #7f7f7f\">                                 </span> <span style=\"color: #7f7f7f; text-decoration-color: #7f7f7f\">         </span> \n",
       " <span style=\"color: #7f7f7f; text-decoration-color: #7f7f7f\"> $&lt;&lt;3*100=300.00&gt;&gt;300.00          </span> <span style=\"color: #7f7f7f; text-decoration-color: #7f7f7f\">                                  </span> <span style=\"color: #7f7f7f; text-decoration-color: #7f7f7f\">                                 </span> <span style=\"color: #7f7f7f; text-decoration-color: #7f7f7f\">         </span> \n",
       " <span style=\"color: #7f7f7f; text-decoration-color: #7f7f7f\"> #### 300                         </span> <span style=\"color: #7f7f7f; text-decoration-color: #7f7f7f\">                                  </span> <span style=\"color: #7f7f7f; text-decoration-color: #7f7f7f\">                                 </span> <span style=\"color: #7f7f7f; text-decoration-color: #7f7f7f\">         </span> \n",
       "  Incorrect. Must be equal to        Elyse had 100 pieces of gum. She   nan                               39       \n",
       "  Elyse gave half of her 100         gave half to her brother Rick.                                                \n",
       "  pieces of gum, or 100 / 2 =        He gave half of his to his                                                    \n",
       "  &lt;&lt;100/2=50&gt;&gt;50 pieces of gum, to   friend Shane. Shane chewed 11                                                 \n",
       "  Rick.                              pieces of gum. How many pieces                                                \n",
       "  Rick gave half of his 50 pieces    does Shane have left?                                                         \n",
       "  of gum, or 50 / 2 =                                                                                              \n",
       "  &lt;&lt;50/2=25&gt;&gt;25 pieces of gum, to                                                                                  \n",
       "  Shane.                                                                                                           \n",
       "  Shane had 25 pieces of gum and                                                                                   \n",
       "  chewed 11, so he had 25 – 11 =                                                                                   \n",
       "  &lt;&lt;25-11=14&gt;&gt;14 pieces of gum                                                                                     \n",
       "  left.                                                                                                            \n",
       "  #### 14                                                                                                          \n",
       " <span style=\"color: #7f7f7f; text-decoration-color: #7f7f7f\"> nan                              </span> <span style=\"color: #7f7f7f; text-decoration-color: #7f7f7f\"> In a store, there are three      </span> <span style=\"color: #7f7f7f; text-decoration-color: #7f7f7f\"> To calculate the total cost of  </span> <span style=\"color: #7f7f7f; text-decoration-color: #7f7f7f\"> nan     </span> \n",
       " <span style=\"color: #7f7f7f; text-decoration-color: #7f7f7f\">                                  </span> <span style=\"color: #7f7f7f; text-decoration-color: #7f7f7f\"> types of cheese: white, swiss,   </span> <span style=\"color: #7f7f7f; text-decoration-color: #7f7f7f\"> the cheese, we need to          </span> <span style=\"color: #7f7f7f; text-decoration-color: #7f7f7f\">         </span> \n",
       " <span style=\"color: #7f7f7f; text-decoration-color: #7f7f7f\">                                  </span> <span style=\"color: #7f7f7f; text-decoration-color: #7f7f7f\"> and blue cheese. Each cheese is  </span> <span style=\"color: #7f7f7f; text-decoration-color: #7f7f7f\"> determine the quantity and      </span> <span style=\"color: #7f7f7f; text-decoration-color: #7f7f7f\">         </span> \n",
       " <span style=\"color: #7f7f7f; text-decoration-color: #7f7f7f\">                                  </span> <span style=\"color: #7f7f7f; text-decoration-color: #7f7f7f\"> packaged, and there are 200      </span> <span style=\"color: #7f7f7f; text-decoration-color: #7f7f7f\"> price of each type of cheese.   </span> <span style=\"color: #7f7f7f; text-decoration-color: #7f7f7f\">         </span> \n",
       " <span style=\"color: #7f7f7f; text-decoration-color: #7f7f7f\">                                  </span> <span style=\"color: #7f7f7f; text-decoration-color: #7f7f7f\"> grams of cheese in each package. </span> <span style=\"color: #7f7f7f; text-decoration-color: #7f7f7f\">                                 </span> <span style=\"color: #7f7f7f; text-decoration-color: #7f7f7f\">         </span> \n",
       " <span style=\"color: #7f7f7f; text-decoration-color: #7f7f7f\">                                  </span> <span style=\"color: #7f7f7f; text-decoration-color: #7f7f7f\"> The package prices are $5 for    </span> <span style=\"color: #7f7f7f; text-decoration-color: #7f7f7f\"> Miley bought 5 packs of swiss   </span> <span style=\"color: #7f7f7f; text-decoration-color: #7f7f7f\">         </span> \n",
       " <span style=\"color: #7f7f7f; text-decoration-color: #7f7f7f\">                                  </span> <span style=\"color: #7f7f7f; text-decoration-color: #7f7f7f\"> white cheese, $6 for swiss       </span> <span style=\"color: #7f7f7f; text-decoration-color: #7f7f7f\"> cheese, so the total weight of  </span> <span style=\"color: #7f7f7f; text-decoration-color: #7f7f7f\">         </span> \n",
       " <span style=\"color: #7f7f7f; text-decoration-color: #7f7f7f\">                                  </span> <span style=\"color: #7f7f7f; text-decoration-color: #7f7f7f\"> cheese, and $8 for blue cheese.  </span> <span style=\"color: #7f7f7f; text-decoration-color: #7f7f7f\"> swiss cheese is 5 packs * 200   </span> <span style=\"color: #7f7f7f; text-decoration-color: #7f7f7f\">         </span> \n",
       " <span style=\"color: #7f7f7f; text-decoration-color: #7f7f7f\">                                  </span> <span style=\"color: #7f7f7f; text-decoration-color: #7f7f7f\"> Miley needed to get some for her </span> <span style=\"color: #7f7f7f; text-decoration-color: #7f7f7f\"> grams/pack = 1000 grams.        </span> <span style=\"color: #7f7f7f; text-decoration-color: #7f7f7f\">         </span> \n",
       " <span style=\"color: #7f7f7f; text-decoration-color: #7f7f7f\">                                  </span> <span style=\"color: #7f7f7f; text-decoration-color: #7f7f7f\"> party, and she decided to buy 5  </span> <span style=\"color: #7f7f7f; text-decoration-color: #7f7f7f\"> The price of swiss cheese is    </span> <span style=\"color: #7f7f7f; text-decoration-color: #7f7f7f\">         </span> \n",
       " <span style=\"color: #7f7f7f; text-decoration-color: #7f7f7f\">                                  </span> <span style=\"color: #7f7f7f; text-decoration-color: #7f7f7f\"> packs of swiss cheese, 600 grams </span> <span style=\"color: #7f7f7f; text-decoration-color: #7f7f7f\"> $6/pack, so the total cost of   </span> <span style=\"color: #7f7f7f; text-decoration-color: #7f7f7f\">         </span> \n",
       " <span style=\"color: #7f7f7f; text-decoration-color: #7f7f7f\">                                  </span> <span style=\"color: #7f7f7f; text-decoration-color: #7f7f7f\"> of blue cheese, and one-third    </span> <span style=\"color: #7f7f7f; text-decoration-color: #7f7f7f\"> swiss cheese is 5 packs *       </span> <span style=\"color: #7f7f7f; text-decoration-color: #7f7f7f\">         </span> \n",
       " <span style=\"color: #7f7f7f; text-decoration-color: #7f7f7f\">                                  </span> <span style=\"color: #7f7f7f; text-decoration-color: #7f7f7f\"> less white cheese. How much did  </span> <span style=\"color: #7f7f7f; text-decoration-color: #7f7f7f\"> $6/pack = $30.                  </span> <span style=\"color: #7f7f7f; text-decoration-color: #7f7f7f\">         </span> \n",
       " <span style=\"color: #7f7f7f; text-decoration-color: #7f7f7f\">                                  </span> <span style=\"color: #7f7f7f; text-decoration-color: #7f7f7f\"> she need to pay for all the      </span> <span style=\"color: #7f7f7f; text-decoration-color: #7f7f7f\">                                 </span> <span style=\"color: #7f7f7f; text-decoration-color: #7f7f7f\">         </span> \n",
       " <span style=\"color: #7f7f7f; text-decoration-color: #7f7f7f\">                                  </span> <span style=\"color: #7f7f7f; text-decoration-color: #7f7f7f\"> cheese?                          </span> <span style=\"color: #7f7f7f; text-decoration-color: #7f7f7f\"> Miley bought 600 grams of blue  </span> <span style=\"color: #7f7f7f; text-decoration-color: #7f7f7f\">         </span> \n",
       " <span style=\"color: #7f7f7f; text-decoration-color: #7f7f7f\">                                  </span> <span style=\"color: #7f7f7f; text-decoration-color: #7f7f7f\">                                  </span> <span style=\"color: #7f7f7f; text-decoration-color: #7f7f7f\"> cheese, and the price of blue   </span> <span style=\"color: #7f7f7f; text-decoration-color: #7f7f7f\">         </span> \n",
       " <span style=\"color: #7f7f7f; text-decoration-color: #7f7f7f\">                                  </span> <span style=\"color: #7f7f7f; text-decoration-color: #7f7f7f\">                                  </span> <span style=\"color: #7f7f7f; text-decoration-color: #7f7f7f\"> cheese is $8/pack.              </span> <span style=\"color: #7f7f7f; text-decoration-color: #7f7f7f\">         </span> \n",
       " <span style=\"color: #7f7f7f; text-decoration-color: #7f7f7f\">                                  </span> <span style=\"color: #7f7f7f; text-decoration-color: #7f7f7f\">                                  </span> <span style=\"color: #7f7f7f; text-decoration-color: #7f7f7f\"> Since each pack contains 200    </span> <span style=\"color: #7f7f7f; text-decoration-color: #7f7f7f\">         </span> \n",
       " <span style=\"color: #7f7f7f; text-decoration-color: #7f7f7f\">                                  </span> <span style=\"color: #7f7f7f; text-decoration-color: #7f7f7f\">                                  </span> <span style=\"color: #7f7f7f; text-decoration-color: #7f7f7f\"> grams of cheese, Miley bought   </span> <span style=\"color: #7f7f7f; text-decoration-color: #7f7f7f\">         </span> \n",
       " <span style=\"color: #7f7f7f; text-decoration-color: #7f7f7f\">                                  </span> <span style=\"color: #7f7f7f; text-decoration-color: #7f7f7f\">                                  </span> <span style=\"color: #7f7f7f; text-decoration-color: #7f7f7f\"> 600 grams / 200 grams/pack = 3  </span> <span style=\"color: #7f7f7f; text-decoration-color: #7f7f7f\">         </span> \n",
       " <span style=\"color: #7f7f7f; text-decoration-color: #7f7f7f\">                                  </span> <span style=\"color: #7f7f7f; text-decoration-color: #7f7f7f\">                                  </span> <span style=\"color: #7f7f7f; text-decoration-color: #7f7f7f\"> packs of blue cheese.           </span> <span style=\"color: #7f7f7f; text-decoration-color: #7f7f7f\">         </span> \n",
       " <span style=\"color: #7f7f7f; text-decoration-color: #7f7f7f\">                                  </span> <span style=\"color: #7f7f7f; text-decoration-color: #7f7f7f\">                                  </span> <span style=\"color: #7f7f7f; text-decoration-color: #7f7f7f\"> Therefore, the total cost of    </span> <span style=\"color: #7f7f7f; text-decoration-color: #7f7f7f\">         </span> \n",
       " <span style=\"color: #7f7f7f; text-decoration-color: #7f7f7f\">                                  </span> <span style=\"color: #7f7f7f; text-decoration-color: #7f7f7f\">                                  </span> <span style=\"color: #7f7f7f; text-decoration-color: #7f7f7f\"> blue cheese is 3 packs *        </span> <span style=\"color: #7f7f7f; text-decoration-color: #7f7f7f\">         </span> \n",
       " <span style=\"color: #7f7f7f; text-decoration-color: #7f7f7f\">                                  </span> <span style=\"color: #7f7f7f; text-decoration-color: #7f7f7f\">                                  </span> <span style=\"color: #7f7f7f; text-decoration-color: #7f7f7f\"> $8/pack = $24.                  </span> <span style=\"color: #7f7f7f; text-decoration-color: #7f7f7f\">         </span> \n",
       " <span style=\"color: #7f7f7f; text-decoration-color: #7f7f7f\">                                  </span> <span style=\"color: #7f7f7f; text-decoration-color: #7f7f7f\">                                  </span> <span style=\"color: #7f7f7f; text-decoration-color: #7f7f7f\">                                 </span> <span style=\"color: #7f7f7f; text-decoration-color: #7f7f7f\">         </span> \n",
       " <span style=\"color: #7f7f7f; text-decoration-color: #7f7f7f\">                                  </span> <span style=\"color: #7f7f7f; text-decoration-color: #7f7f7f\">                                  </span> <span style=\"color: #7f7f7f; text-decoration-color: #7f7f7f\"> Miley bought one-third less     </span> <span style=\"color: #7f7f7f; text-decoration-color: #7f7f7f\">         </span> \n",
       " <span style=\"color: #7f7f7f; text-decoration-color: #7f7f7f\">                                  </span> <span style=\"color: #7f7f7f; text-decoration-color: #7f7f7f\">                                  </span> <span style=\"color: #7f7f7f; text-decoration-color: #7f7f7f\"> white cheese than the other     </span> <span style=\"color: #7f7f7f; text-decoration-color: #7f7f7f\">         </span> \n",
       " <span style=\"color: #7f7f7f; text-decoration-color: #7f7f7f\">                                  </span> <span style=\"color: #7f7f7f; text-decoration-color: #7f7f7f\">                                  </span> <span style=\"color: #7f7f7f; text-decoration-color: #7f7f7f\"> types of cheese.                </span> <span style=\"color: #7f7f7f; text-decoration-color: #7f7f7f\">         </span> \n",
       " <span style=\"color: #7f7f7f; text-decoration-color: #7f7f7f\">                                  </span> <span style=\"color: #7f7f7f; text-decoration-color: #7f7f7f\">                                  </span> <span style=\"color: #7f7f7f; text-decoration-color: #7f7f7f\"> Since she bought 5 packs of     </span> <span style=\"color: #7f7f7f; text-decoration-color: #7f7f7f\">         </span> \n",
       " <span style=\"color: #7f7f7f; text-decoration-color: #7f7f7f\">                                  </span> <span style=\"color: #7f7f7f; text-decoration-color: #7f7f7f\">                                  </span> <span style=\"color: #7f7f7f; text-decoration-color: #7f7f7f\"> swiss cheese, she bought 5      </span> <span style=\"color: #7f7f7f; text-decoration-color: #7f7f7f\">         </span> \n",
       " <span style=\"color: #7f7f7f; text-decoration-color: #7f7f7f\">                                  </span> <span style=\"color: #7f7f7f; text-decoration-color: #7f7f7f\">                                  </span> <span style=\"color: #7f7f7f; text-decoration-color: #7f7f7f\"> packs - 1/3 * 5 packs = 5 packs </span> <span style=\"color: #7f7f7f; text-decoration-color: #7f7f7f\">         </span> \n",
       " <span style=\"color: #7f7f7f; text-decoration-color: #7f7f7f\">                                  </span> <span style=\"color: #7f7f7f; text-decoration-color: #7f7f7f\">                                  </span> <span style=\"color: #7f7f7f; text-decoration-color: #7f7f7f\"> - 5/3 packs = 5 packs - 1.67    </span> <span style=\"color: #7f7f7f; text-decoration-color: #7f7f7f\">         </span> \n",
       " <span style=\"color: #7f7f7f; text-decoration-color: #7f7f7f\">                                  </span> <span style=\"color: #7f7f7f; text-decoration-color: #7f7f7f\">                                  </span> <span style=\"color: #7f7f7f; text-decoration-color: #7f7f7f\"> packs = 3.33 packs of white     </span> <span style=\"color: #7f7f7f; text-decoration-color: #7f7f7f\">         </span> \n",
       " <span style=\"color: #7f7f7f; text-decoration-color: #7f7f7f\">                                  </span> <span style=\"color: #7f7f7f; text-decoration-color: #7f7f7f\">                                  </span> <span style=\"color: #7f7f7f; text-decoration-color: #7f7f7f\"> cheese.                         </span> <span style=\"color: #7f7f7f; text-decoration-color: #7f7f7f\">         </span> \n",
       " <span style=\"color: #7f7f7f; text-decoration-color: #7f7f7f\">                                  </span> <span style=\"color: #7f7f7f; text-decoration-color: #7f7f7f\">                                  </span> <span style=\"color: #7f7f7f; text-decoration-color: #7f7f7f\"> Since each pack contains 200    </span> <span style=\"color: #7f7f7f; text-decoration-color: #7f7f7f\">         </span> \n",
       " <span style=\"color: #7f7f7f; text-decoration-color: #7f7f7f\">                                  </span> <span style=\"color: #7f7f7f; text-decoration-color: #7f7f7f\">                                  </span> <span style=\"color: #7f7f7f; text-decoration-color: #7f7f7f\"> grams of cheese, Miley bought   </span> <span style=\"color: #7f7f7f; text-decoration-color: #7f7f7f\">         </span> \n",
       " <span style=\"color: #7f7f7f; text-decoration-color: #7f7f7f\">                                  </span> <span style=\"color: #7f7f7f; text-decoration-color: #7f7f7f\">                                  </span> <span style=\"color: #7f7f7f; text-decoration-color: #7f7f7f\"> 3.33 packs * 200 grams          </span> <span style=\"color: #7f7f7f; text-decoration-color: #7f7f7f\">         </span> \n",
       "  Incorrect. Must be equal to        Every year in January, Natalia,    nan                               144      \n",
       "  Let’s first calculate the total    the librarian, tidies up the                                                  \n",
       "  number of items: 145 + 271 + 419   books. She has 145 novels, 271                                                \n",
       "  + 209 =                            comics, 419 documentaries, and                                                \n",
       "  &lt;&lt;145+271+419+209=1044&gt;&gt;1044       209 albums to store. She wants                                                \n",
       "  items                              to put these in crates that can                                               \n",
       "  Now let’s put the items in the     hold 9 items. How many crates                                                 \n",
       "  crates: 1044 / 9 =                 will Natalia use?                                                             \n",
       "  &lt;&lt;1044/9=116&gt;&gt;116 crates                                                                                         \n",
       "  #### 116                                                                                                         \n",
       "                                                                                                                   \n",
       "</pre>\n"
      ],
      "text/plain": [
       "                                                                                                                   \n",
       " \u001b[1;35m \u001b[0m\u001b[1;35manswer__fb                      \u001b[0m\u001b[1;35m \u001b[0m \u001b[1;35m \u001b[0m\u001b[1;35mquestion                        \u001b[0m\u001b[1;35m \u001b[0m \u001b[1;35m \u001b[0m\u001b[1;35moutput                         \u001b[0m\u001b[1;35m \u001b[0m \u001b[1;35m \u001b[0m\u001b[1;35manswer \u001b[0m\u001b[1;35m \u001b[0m \n",
       " ───────────────────────────────────────────────────────────────────────────────────────────────────────────────── \n",
       "  nan                                Reese had a sum of money in her    To find out how much Reese had    nan      \n",
       "                                     savings account. The company she   in her savings account                     \n",
       "                                     used to work with was not doing    initially, we need to subtract             \n",
       "                                     well which is why she lost her     the amounts she spent from the             \n",
       "                                     job. So she spent 20% of her       amount she has left.                       \n",
       "                                     savings for her expenses in                                                   \n",
       "                                     February, 40% of it in March,      Let's assume the initial amount            \n",
       "                                     and $1500 in April. How much did   in her savings account is x.               \n",
       "                                     she have in her savings account                                               \n",
       "                                     if she still has $2900 after       In February, she spent 20% of              \n",
       "                                     spending those amounts?            her savings, which is 0.2x.                \n",
       "                                                                        In March, she spent 40% of her             \n",
       "                                                                        savings, which is 0.4x.                    \n",
       "                                                                        In April, she spent $1500.                 \n",
       "                                                                                                                   \n",
       "                                                                        So, the total amount she spent             \n",
       "                                                                        is 0.2x + 0.4x + $1500.                    \n",
       "                                                                                                                   \n",
       "                                                                        We know that she still has                 \n",
       "                                                                        $2900 left, so we can set up               \n",
       "                                                                        the equation:                              \n",
       "                                                                                                                   \n",
       "                                                                        x - (0.2x + 0.4x + $1500) =                \n",
       "                                                                        $2900                                      \n",
       "                                                                                                                   \n",
       "                                                                        Simplifying the equation:                  \n",
       "                                                                                                                   \n",
       "                                                                        x - 0.6x - $1500 = $2900                   \n",
       "                                                                                                                   \n",
       "                                                                        Combining like terms:                      \n",
       "                                                                                                                   \n",
       "                                                                        0.4x - $1500 = $2900                       \n",
       "                                                                                                                   \n",
       "                                                                        Adding $1500 to both sides:                \n",
       "                                                                                                                   \n",
       "                                                                        0.4x = $4400                               \n",
       "                                                                                                                   \n",
       "                                                                        Dividing both sides by 0.4:                \n",
       "                                                                                                                   \n",
       "                                                                        x = $11000                                 \n",
       "                                                                                                                   \n",
       "                                                                        Therefore, Reese initially had             \n",
       "                                                                        $11000 in her savings account.             \n",
       "                                                                                                                   \n",
       "                                                                        ```json                                    \n",
       "                                                                        {                                          \n",
       "                                                                                \"answer\": \"$11000\"                 \n",
       "                                                                        }                                          \n",
       "                                                                                                                   \n",
       " \u001b[2m \u001b[0m\u001b[2mIncorrect. Must be equal to She \u001b[0m\u001b[2m \u001b[0m \u001b[2m \u001b[0m\u001b[2mLaura needs to buy window       \u001b[0m\u001b[2m \u001b[0m \u001b[2m \u001b[0m\u001b[2mnan                            \u001b[0m\u001b[2m \u001b[0m \u001b[2m \u001b[0m\u001b[2m$300.00\u001b[0m\u001b[2m \u001b[0m \n",
       " \u001b[2m \u001b[0m\u001b[2mneeds a set of sheers that cost \u001b[0m\u001b[2m \u001b[0m \u001b[2m \u001b[0m\u001b[2mtreatments for 3 windows in her \u001b[0m\u001b[2m \u001b[0m \u001b[2m                                 \u001b[0m \u001b[2m         \u001b[0m \n",
       " \u001b[2m \u001b[0m\u001b[2m$40.00 and a set of drapes that \u001b[0m\u001b[2m \u001b[0m \u001b[2m \u001b[0m\u001b[2mhouse.  She will need to buy a  \u001b[0m\u001b[2m \u001b[0m \u001b[2m                                 \u001b[0m \u001b[2m         \u001b[0m \n",
       " \u001b[2m \u001b[0m\u001b[2mcost $60.00 per window so that  \u001b[0m\u001b[2m \u001b[0m \u001b[2m \u001b[0m\u001b[2mset of sheers and a set of      \u001b[0m\u001b[2m \u001b[0m \u001b[2m                                 \u001b[0m \u001b[2m         \u001b[0m \n",
       " \u001b[2m \u001b[0m\u001b[2mwill cost her 40+60 =           \u001b[0m\u001b[2m \u001b[0m \u001b[2m \u001b[0m\u001b[2mdrapes for each window.  The    \u001b[0m\u001b[2m \u001b[0m \u001b[2m                                 \u001b[0m \u001b[2m         \u001b[0m \n",
       " \u001b[2m \u001b[0m\u001b[2m$<<40+60=100.00>>100.00         \u001b[0m\u001b[2m \u001b[0m \u001b[2m \u001b[0m\u001b[2msheers cost $40.00 a pair and   \u001b[0m\u001b[2m \u001b[0m \u001b[2m                                 \u001b[0m \u001b[2m         \u001b[0m \n",
       " \u001b[2m \u001b[0m\u001b[2mShe had 3 windows she needs     \u001b[0m\u001b[2m \u001b[0m \u001b[2m \u001b[0m\u001b[2mthe drapes cost $60.00 a pair.  \u001b[0m\u001b[2m \u001b[0m \u001b[2m                                 \u001b[0m \u001b[2m         \u001b[0m \n",
       " \u001b[2m \u001b[0m\u001b[2mwindow treatments for they cost \u001b[0m\u001b[2m \u001b[0m \u001b[2m \u001b[0m\u001b[2mHow much will the window        \u001b[0m\u001b[2m \u001b[0m \u001b[2m                                 \u001b[0m \u001b[2m         \u001b[0m \n",
       " \u001b[2m \u001b[0m\u001b[2mher $100.00 each so 3*100 =     \u001b[0m\u001b[2m \u001b[0m \u001b[2m \u001b[0m\u001b[2mtreatments cost?                \u001b[0m\u001b[2m \u001b[0m \u001b[2m                                 \u001b[0m \u001b[2m         \u001b[0m \n",
       " \u001b[2m \u001b[0m\u001b[2m$<<3*100=300.00>>300.00         \u001b[0m\u001b[2m \u001b[0m \u001b[2m                                  \u001b[0m \u001b[2m                                 \u001b[0m \u001b[2m         \u001b[0m \n",
       " \u001b[2m \u001b[0m\u001b[2m#### 300                        \u001b[0m\u001b[2m \u001b[0m \u001b[2m                                  \u001b[0m \u001b[2m                                 \u001b[0m \u001b[2m         \u001b[0m \n",
       "  Incorrect. Must be equal to        Elyse had 100 pieces of gum. She   nan                               39       \n",
       "  Elyse gave half of her 100         gave half to her brother Rick.                                                \n",
       "  pieces of gum, or 100 / 2 =        He gave half of his to his                                                    \n",
       "  <<100/2=50>>50 pieces of gum, to   friend Shane. Shane chewed 11                                                 \n",
       "  Rick.                              pieces of gum. How many pieces                                                \n",
       "  Rick gave half of his 50 pieces    does Shane have left?                                                         \n",
       "  of gum, or 50 / 2 =                                                                                              \n",
       "  <<50/2=25>>25 pieces of gum, to                                                                                  \n",
       "  Shane.                                                                                                           \n",
       "  Shane had 25 pieces of gum and                                                                                   \n",
       "  chewed 11, so he had 25 – 11 =                                                                                   \n",
       "  <<25-11=14>>14 pieces of gum                                                                                     \n",
       "  left.                                                                                                            \n",
       "  #### 14                                                                                                          \n",
       " \u001b[2m \u001b[0m\u001b[2mnan                             \u001b[0m\u001b[2m \u001b[0m \u001b[2m \u001b[0m\u001b[2mIn a store, there are three     \u001b[0m\u001b[2m \u001b[0m \u001b[2m \u001b[0m\u001b[2mTo calculate the total cost of \u001b[0m\u001b[2m \u001b[0m \u001b[2m \u001b[0m\u001b[2mnan    \u001b[0m\u001b[2m \u001b[0m \n",
       " \u001b[2m                                  \u001b[0m \u001b[2m \u001b[0m\u001b[2mtypes of cheese: white, swiss,  \u001b[0m\u001b[2m \u001b[0m \u001b[2m \u001b[0m\u001b[2mthe cheese, we need to         \u001b[0m\u001b[2m \u001b[0m \u001b[2m         \u001b[0m \n",
       " \u001b[2m                                  \u001b[0m \u001b[2m \u001b[0m\u001b[2mand blue cheese. Each cheese is \u001b[0m\u001b[2m \u001b[0m \u001b[2m \u001b[0m\u001b[2mdetermine the quantity and     \u001b[0m\u001b[2m \u001b[0m \u001b[2m         \u001b[0m \n",
       " \u001b[2m                                  \u001b[0m \u001b[2m \u001b[0m\u001b[2mpackaged, and there are 200     \u001b[0m\u001b[2m \u001b[0m \u001b[2m \u001b[0m\u001b[2mprice of each type of cheese.  \u001b[0m\u001b[2m \u001b[0m \u001b[2m         \u001b[0m \n",
       " \u001b[2m                                  \u001b[0m \u001b[2m \u001b[0m\u001b[2mgrams of cheese in each package.\u001b[0m\u001b[2m \u001b[0m \u001b[2m \u001b[0m\u001b[2m                               \u001b[0m\u001b[2m \u001b[0m \u001b[2m         \u001b[0m \n",
       " \u001b[2m                                  \u001b[0m \u001b[2m \u001b[0m\u001b[2mThe package prices are $5 for   \u001b[0m\u001b[2m \u001b[0m \u001b[2m \u001b[0m\u001b[2mMiley bought 5 packs of swiss  \u001b[0m\u001b[2m \u001b[0m \u001b[2m         \u001b[0m \n",
       " \u001b[2m                                  \u001b[0m \u001b[2m \u001b[0m\u001b[2mwhite cheese, $6 for swiss      \u001b[0m\u001b[2m \u001b[0m \u001b[2m \u001b[0m\u001b[2mcheese, so the total weight of \u001b[0m\u001b[2m \u001b[0m \u001b[2m         \u001b[0m \n",
       " \u001b[2m                                  \u001b[0m \u001b[2m \u001b[0m\u001b[2mcheese, and $8 for blue cheese. \u001b[0m\u001b[2m \u001b[0m \u001b[2m \u001b[0m\u001b[2mswiss cheese is 5 packs * 200  \u001b[0m\u001b[2m \u001b[0m \u001b[2m         \u001b[0m \n",
       " \u001b[2m                                  \u001b[0m \u001b[2m \u001b[0m\u001b[2mMiley needed to get some for her\u001b[0m\u001b[2m \u001b[0m \u001b[2m \u001b[0m\u001b[2mgrams/pack = 1000 grams.       \u001b[0m\u001b[2m \u001b[0m \u001b[2m         \u001b[0m \n",
       " \u001b[2m                                  \u001b[0m \u001b[2m \u001b[0m\u001b[2mparty, and she decided to buy 5 \u001b[0m\u001b[2m \u001b[0m \u001b[2m \u001b[0m\u001b[2mThe price of swiss cheese is   \u001b[0m\u001b[2m \u001b[0m \u001b[2m         \u001b[0m \n",
       " \u001b[2m                                  \u001b[0m \u001b[2m \u001b[0m\u001b[2mpacks of swiss cheese, 600 grams\u001b[0m\u001b[2m \u001b[0m \u001b[2m \u001b[0m\u001b[2m$6/pack, so the total cost of  \u001b[0m\u001b[2m \u001b[0m \u001b[2m         \u001b[0m \n",
       " \u001b[2m                                  \u001b[0m \u001b[2m \u001b[0m\u001b[2mof blue cheese, and one-third   \u001b[0m\u001b[2m \u001b[0m \u001b[2m \u001b[0m\u001b[2mswiss cheese is 5 packs *      \u001b[0m\u001b[2m \u001b[0m \u001b[2m         \u001b[0m \n",
       " \u001b[2m                                  \u001b[0m \u001b[2m \u001b[0m\u001b[2mless white cheese. How much did \u001b[0m\u001b[2m \u001b[0m \u001b[2m \u001b[0m\u001b[2m$6/pack = $30.                 \u001b[0m\u001b[2m \u001b[0m \u001b[2m         \u001b[0m \n",
       " \u001b[2m                                  \u001b[0m \u001b[2m \u001b[0m\u001b[2mshe need to pay for all the     \u001b[0m\u001b[2m \u001b[0m \u001b[2m \u001b[0m\u001b[2m                               \u001b[0m\u001b[2m \u001b[0m \u001b[2m         \u001b[0m \n",
       " \u001b[2m                                  \u001b[0m \u001b[2m \u001b[0m\u001b[2mcheese?                         \u001b[0m\u001b[2m \u001b[0m \u001b[2m \u001b[0m\u001b[2mMiley bought 600 grams of blue \u001b[0m\u001b[2m \u001b[0m \u001b[2m         \u001b[0m \n",
       " \u001b[2m                                  \u001b[0m \u001b[2m                                  \u001b[0m \u001b[2m \u001b[0m\u001b[2mcheese, and the price of blue  \u001b[0m\u001b[2m \u001b[0m \u001b[2m         \u001b[0m \n",
       " \u001b[2m                                  \u001b[0m \u001b[2m                                  \u001b[0m \u001b[2m \u001b[0m\u001b[2mcheese is $8/pack.             \u001b[0m\u001b[2m \u001b[0m \u001b[2m         \u001b[0m \n",
       " \u001b[2m                                  \u001b[0m \u001b[2m                                  \u001b[0m \u001b[2m \u001b[0m\u001b[2mSince each pack contains 200   \u001b[0m\u001b[2m \u001b[0m \u001b[2m         \u001b[0m \n",
       " \u001b[2m                                  \u001b[0m \u001b[2m                                  \u001b[0m \u001b[2m \u001b[0m\u001b[2mgrams of cheese, Miley bought  \u001b[0m\u001b[2m \u001b[0m \u001b[2m         \u001b[0m \n",
       " \u001b[2m                                  \u001b[0m \u001b[2m                                  \u001b[0m \u001b[2m \u001b[0m\u001b[2m600 grams / 200 grams/pack = 3 \u001b[0m\u001b[2m \u001b[0m \u001b[2m         \u001b[0m \n",
       " \u001b[2m                                  \u001b[0m \u001b[2m                                  \u001b[0m \u001b[2m \u001b[0m\u001b[2mpacks of blue cheese.          \u001b[0m\u001b[2m \u001b[0m \u001b[2m         \u001b[0m \n",
       " \u001b[2m                                  \u001b[0m \u001b[2m                                  \u001b[0m \u001b[2m \u001b[0m\u001b[2mTherefore, the total cost of   \u001b[0m\u001b[2m \u001b[0m \u001b[2m         \u001b[0m \n",
       " \u001b[2m                                  \u001b[0m \u001b[2m                                  \u001b[0m \u001b[2m \u001b[0m\u001b[2mblue cheese is 3 packs *       \u001b[0m\u001b[2m \u001b[0m \u001b[2m         \u001b[0m \n",
       " \u001b[2m                                  \u001b[0m \u001b[2m                                  \u001b[0m \u001b[2m \u001b[0m\u001b[2m$8/pack = $24.                 \u001b[0m\u001b[2m \u001b[0m \u001b[2m         \u001b[0m \n",
       " \u001b[2m                                  \u001b[0m \u001b[2m                                  \u001b[0m \u001b[2m \u001b[0m\u001b[2m                               \u001b[0m\u001b[2m \u001b[0m \u001b[2m         \u001b[0m \n",
       " \u001b[2m                                  \u001b[0m \u001b[2m                                  \u001b[0m \u001b[2m \u001b[0m\u001b[2mMiley bought one-third less    \u001b[0m\u001b[2m \u001b[0m \u001b[2m         \u001b[0m \n",
       " \u001b[2m                                  \u001b[0m \u001b[2m                                  \u001b[0m \u001b[2m \u001b[0m\u001b[2mwhite cheese than the other    \u001b[0m\u001b[2m \u001b[0m \u001b[2m         \u001b[0m \n",
       " \u001b[2m                                  \u001b[0m \u001b[2m                                  \u001b[0m \u001b[2m \u001b[0m\u001b[2mtypes of cheese.               \u001b[0m\u001b[2m \u001b[0m \u001b[2m         \u001b[0m \n",
       " \u001b[2m                                  \u001b[0m \u001b[2m                                  \u001b[0m \u001b[2m \u001b[0m\u001b[2mSince she bought 5 packs of    \u001b[0m\u001b[2m \u001b[0m \u001b[2m         \u001b[0m \n",
       " \u001b[2m                                  \u001b[0m \u001b[2m                                  \u001b[0m \u001b[2m \u001b[0m\u001b[2mswiss cheese, she bought 5     \u001b[0m\u001b[2m \u001b[0m \u001b[2m         \u001b[0m \n",
       " \u001b[2m                                  \u001b[0m \u001b[2m                                  \u001b[0m \u001b[2m \u001b[0m\u001b[2mpacks - 1/3 * 5 packs = 5 packs\u001b[0m\u001b[2m \u001b[0m \u001b[2m         \u001b[0m \n",
       " \u001b[2m                                  \u001b[0m \u001b[2m                                  \u001b[0m \u001b[2m \u001b[0m\u001b[2m- 5/3 packs = 5 packs - 1.67   \u001b[0m\u001b[2m \u001b[0m \u001b[2m         \u001b[0m \n",
       " \u001b[2m                                  \u001b[0m \u001b[2m                                  \u001b[0m \u001b[2m \u001b[0m\u001b[2mpacks = 3.33 packs of white    \u001b[0m\u001b[2m \u001b[0m \u001b[2m         \u001b[0m \n",
       " \u001b[2m                                  \u001b[0m \u001b[2m                                  \u001b[0m \u001b[2m \u001b[0m\u001b[2mcheese.                        \u001b[0m\u001b[2m \u001b[0m \u001b[2m         \u001b[0m \n",
       " \u001b[2m                                  \u001b[0m \u001b[2m                                  \u001b[0m \u001b[2m \u001b[0m\u001b[2mSince each pack contains 200   \u001b[0m\u001b[2m \u001b[0m \u001b[2m         \u001b[0m \n",
       " \u001b[2m                                  \u001b[0m \u001b[2m                                  \u001b[0m \u001b[2m \u001b[0m\u001b[2mgrams of cheese, Miley bought  \u001b[0m\u001b[2m \u001b[0m \u001b[2m         \u001b[0m \n",
       " \u001b[2m                                  \u001b[0m \u001b[2m                                  \u001b[0m \u001b[2m \u001b[0m\u001b[2m3.33 packs * 200 grams         \u001b[0m\u001b[2m \u001b[0m \u001b[2m         \u001b[0m \n",
       "  Incorrect. Must be equal to        Every year in January, Natalia,    nan                               144      \n",
       "  Let’s first calculate the total    the librarian, tidies up the                                                  \n",
       "  number of items: 145 + 271 + 419   books. She has 145 novels, 271                                                \n",
       "  + 209 =                            comics, 419 documentaries, and                                                \n",
       "  <<145+271+419+209=1044>>1044       209 albums to store. She wants                                                \n",
       "  items                              to put these in crates that can                                               \n",
       "  Now let’s put the items in the     hold 9 items. How many crates                                                 \n",
       "  crates: 1044 / 9 =                 will Natalia use?                                                             \n",
       "  <<1044/9=116>>116 crates                                                                                         \n",
       "  #### 116                                                                                                         \n",
       "                                                                                                                   \n"
      ]
     },
     "metadata": {},
     "output_type": "display_data"
    },
    {
     "data": {
      "text/html": [
       "<pre style=\"white-space:pre;overflow-x:auto;line-height:normal;font-family:Menlo,'DejaVu Sans Mono',consolas,'Courier New',monospace\"><span style=\"color: #800000; text-decoration-color: #800000; font-weight: bold\">Skill output to improve: </span><span style=\"color: #008000; text-decoration-color: #008000\">\"answer\"</span><span style=\"color: #800000; text-decoration-color: #800000; font-weight: bold\"> (</span><span style=\"color: #808000; text-decoration-color: #808000; font-weight: bold\">Skill</span><span style=\"color: #800000; text-decoration-color: #800000; font-weight: bold\">=</span><span style=\"color: #008000; text-decoration-color: #008000\">\"math_solver\"</span><span style=\"color: #800000; text-decoration-color: #800000; font-weight: bold\">)</span>\n",
       "<span style=\"color: #800000; text-decoration-color: #800000; font-weight: bold\">Accuracy = </span><span style=\"color: #008080; text-decoration-color: #008080; font-weight: bold\">0.00</span><span style=\"color: #800000; text-decoration-color: #800000; font-weight: bold\">%</span>\n",
       "</pre>\n"
      ],
      "text/plain": [
       "\u001b[1;31mSkill output to improve: \u001b[0m\u001b[32m\"answer\"\u001b[0m\u001b[1;31m \u001b[0m\u001b[1;31m(\u001b[0m\u001b[1;33mSkill\u001b[0m\u001b[1;31m=\u001b[0m\u001b[32m\"math_solver\"\u001b[0m\u001b[1;31m)\u001b[0m\n",
       "\u001b[1;31mAccuracy = \u001b[0m\u001b[1;36m0.00\u001b[0m\u001b[1;31m%\u001b[0m\n"
      ]
     },
     "metadata": {},
     "output_type": "display_data"
    },
    {
     "data": {
      "text/html": [
       "<pre style=\"white-space:pre;overflow-x:auto;line-height:normal;font-family:Menlo,'DejaVu Sans Mono',consolas,'Courier New',monospace\"><span style=\"font-weight: bold\">{</span><span style=\"color: #008000; text-decoration-color: #008000\">'input'</span>: <span style=\"color: #008000; text-decoration-color: #008000\">'\\n\\t\\t\\tA prompt is a text paragraph that outlines the expected actions and instructs the large language</span>\n",
       "<span style=\"color: #008000; text-decoration-color: #008000\">model (LLM) to \\t\\t\\tgenerate a specific output. This prompt is concatenated with the input text, and the </span>\n",
       "<span style=\"color: #008000; text-decoration-color: #008000\">\\t\\t\\tmodel then creates the required output.\\n\\t\\t\\tThis describes the full template how the prompt is </span>\n",
       "<span style=\"color: #008000; text-decoration-color: #008000\">concatenated with the input to produce the </span>\n",
       "<span style=\"color: #008000; text-decoration-color: #008000\">output:\\n\\t\\t\\t```\\n\\t\\t\\t\\n\\t\\t{prompt}\\n\\t\\t\\t```\\n\\t\\t\\tHere:\\n\\t\\t\\t- \"{prompt}\" is the LLM </span>\n",
       "<span style=\"color: #008000; text-decoration-color: #008000\">prompt\\n\\n\\t\\t\\tModel can produce erroneous output if a prompt is not well defined. \\t\\t\\tIn our collaboration, </span>\n",
       "<span style=\"color: #008000; text-decoration-color: #008000\">we’ll work together to refine a prompt. The process consists of two main steps:\\n\\n\\t\\t\\t## Step 1\\n\\t\\t\\tI will </span>\n",
       "<span style=\"color: #008000; text-decoration-color: #008000\">provide you with the current prompt along with prediction examples. Each example contains the input text, the final</span>\n",
       "<span style=\"color: #008000; text-decoration-color: #008000\">prediction produced by the model, and the user feedback. \\t\\t\\tUser feedback indicates whether the model prediction</span>\n",
       "<span style=\"color: #008000; text-decoration-color: #008000\">is correct or not. \\t\\t\\tYour task is to analyze the examples and user feedback, determining whether the </span>\n",
       "<span style=\"color: #008000; text-decoration-color: #008000\">\\t\\t\\texisting instruction is describing the task reflected by these examples precisely, and suggests changes to </span>\n",
       "<span style=\"color: #008000; text-decoration-color: #008000\">the prompt to address the incorrect predictions.\\n\\n\\t\\t\\t## Step 2\\n\\t\\t\\tNext, you will carefully review your </span>\n",
       "<span style=\"color: #008000; text-decoration-color: #008000\">reasoning in step 1, integrate the insights to refine the prompt, \\t\\t\\tand provide me with the new prompt that </span>\n",
       "<span style=\"color: #008000; text-decoration-color: #008000\">improves the model’s performance.\\n\\t\\t\\t## Current prompt\\n\\t\\t\\t\"Carefully read and understand the given </span>\n",
       "<span style=\"color: #008000; text-decoration-color: #008000\">mathematical problem. Make sure to correctly interpret all the details provided in the problem. Break it down into </span>\n",
       "<span style=\"color: #008000; text-decoration-color: #008000\">manageable steps, ensuring each step is correctly executed. Perform the necessary calculations with precision, and </span>\n",
       "<span style=\"color: #008000; text-decoration-color: #008000\">provide the final numerical answer. Double-check your calculations to ensure accuracy. If the problem involves </span>\n",
       "<span style=\"color: #008000; text-decoration-color: #008000\">multiple steps or calculations, ensure each step is correctly executed to arrive at the correct final </span>\n",
       "<span style=\"color: #008000; text-decoration-color: #008000\">answer.\"\\n\\t\\t\\t## Examples\\n\\t\\t\\t### Example #0\\n\\nQ: Reese had a sum of money in her savings account. The </span>\n",
       "<span style=\"color: #008000; text-decoration-color: #008000\">company she used to work with was not doing well which is why she lost her job. So she spent 20% of her savings for</span>\n",
       "<span style=\"color: #008000; text-decoration-color: #008000\">her expenses in February, 40% of it in March, and $1500 in April. How much did she have in her savings account if </span>\n",
       "<span style=\"color: #008000; text-decoration-color: #008000\">she still has $2900 after spending those amounts?\\n\\nThe final numerical answer: nan\\n\\nUser feedback: nan\\n\\n\\n###</span>\n",
       "<span style=\"color: #008000; text-decoration-color: #008000\">Example #1\\n\\nQ: Laura needs to buy window treatments for 3 windows in her house.  She will need to buy a set of </span>\n",
       "<span style=\"color: #008000; text-decoration-color: #008000\">sheers and a set of drapes for each window.  The sheers cost $40.00 a pair and the drapes cost $60.00 a pair.  How </span>\n",
       "<span style=\"color: #008000; text-decoration-color: #008000\">much will the window treatments cost?\\n\\nThe final numerical answer: $300.00\\n\\nUser feedback: Incorrect. Must be </span>\n",
       "<span style=\"color: #008000; text-decoration-color: #008000\">equal to She needs a set of sheers that cost $40.00 and a set of drapes that cost $60.00 per window so that will </span>\n",
       "<span style=\"color: #008000; text-decoration-color: #008000\">cost her 40+60 = $&lt;&lt;40+60=100.00&gt;&gt;100.00\\nShe had 3 windows she needs window treatments for they cost her $100.00 </span>\n",
       "<span style=\"color: #008000; text-decoration-color: #008000\">each so 3*100 = $&lt;&lt;3*100=300.00&gt;&gt;300.00\\n#### 300\\n\\n\\n### Example #2\\n\\nQ: Elyse had 100 pieces of gum. She gave </span>\n",
       "<span style=\"color: #008000; text-decoration-color: #008000\">half to her brother Rick. He gave half of his to his friend Shane. Shane chewed 11 pieces of gum. How many pieces </span>\n",
       "<span style=\"color: #008000; text-decoration-color: #008000\">does Shane have left?\\n\\nThe final numerical answer: 39\\n\\nUser feedback: Incorrect. Must be equal to Elyse gave </span>\n",
       "<span style=\"color: #008000; text-decoration-color: #008000\">half of her 100 pieces of gum, or 100 / 2 = &lt;&lt;100/2=50&gt;&gt;50 pieces of gum, to Rick.\\nRick gave half of his 50 pieces</span>\n",
       "<span style=\"color: #008000; text-decoration-color: #008000\">of gum, or 50 / 2 = &lt;&lt;50/2=25&gt;&gt;25 pieces of gum, to Shane.\\nShane had 25 pieces of gum and chewed 11, so he had 25 </span>\n",
       "<span style=\"color: #008000; text-decoration-color: #008000\">– 11 = &lt;&lt;25-11=14&gt;&gt;14 pieces of gum left.\\n#### 14\\n\\n\\n### Example #3\\n\\nQ: In a store, there are three types of </span>\n",
       "<span style=\"color: #008000; text-decoration-color: #008000\">cheese: white, swiss, and blue cheese. Each cheese is packaged, and there are 200 grams of cheese in each package. </span>\n",
       "<span style=\"color: #008000; text-decoration-color: #008000\">The package prices are $5 for white cheese, $6 for swiss cheese, and $8 for blue cheese. Miley needed to get some </span>\n",
       "<span style=\"color: #008000; text-decoration-color: #008000\">for her party, and she decided to buy 5 packs of swiss cheese, 600 grams of blue cheese, and one-third less white </span>\n",
       "<span style=\"color: #008000; text-decoration-color: #008000\">cheese. How much did she need to pay for all the cheese?\\n\\nThe final numerical answer: nan\\n\\nUser feedback: </span>\n",
       "<span style=\"color: #008000; text-decoration-color: #008000\">nan\\n\\n\\n### Example #4\\n\\nQ: Every year in January, Natalia, the librarian, tidies up the books. She has 145 </span>\n",
       "<span style=\"color: #008000; text-decoration-color: #008000\">novels, 271 comics, 419 documentaries, and 209 albums to store. She wants to put these in crates that can hold 9 </span>\n",
       "<span style=\"color: #008000; text-decoration-color: #008000\">items. How many crates will Natalia use?\\n\\nThe final numerical answer: 144\\n\\nUser feedback: Incorrect. Must be </span>\n",
       "<span style=\"color: #008000; text-decoration-color: #008000\">equal to Let’s first calculate the total number of items: 145 + 271 + 419 + 209 = &lt;&lt;145+271+419+209=1044&gt;&gt;1044 </span>\n",
       "<span style=\"color: #008000; text-decoration-color: #008000\">items\\nNow let’s put the items in the crates: 1044 / 9 = &lt;&lt;1044/9=116&gt;&gt;116 crates\\n#### 116\\n\\n\\n\\t\\t\\tSummarize </span>\n",
       "<span style=\"color: #008000; text-decoration-color: #008000\">your analysis about incorrect predictions and suggest changes to the prompt.'</span><span style=\"font-weight: bold\">}</span>\n",
       "</pre>\n"
      ],
      "text/plain": [
       "\u001b[1m{\u001b[0m\u001b[32m'input'\u001b[0m: \u001b[32m'\\n\\t\\t\\tA prompt is a text paragraph that outlines the expected actions and instructs the large language\u001b[0m\n",
       "\u001b[32mmodel \u001b[0m\u001b[32m(\u001b[0m\u001b[32mLLM\u001b[0m\u001b[32m)\u001b[0m\u001b[32m to \\t\\t\\tgenerate a specific output. This prompt is concatenated with the input text, and the \u001b[0m\n",
       "\u001b[32m\\t\\t\\tmodel then creates the required output.\\n\\t\\t\\tThis describes the full template how the prompt is \u001b[0m\n",
       "\u001b[32mconcatenated with the input to produce the \u001b[0m\n",
       "\u001b[32moutput:\\n\\t\\t\\t```\\n\\t\\t\\t\\n\\t\\t\u001b[0m\u001b[32m{\u001b[0m\u001b[32mprompt\u001b[0m\u001b[32m}\u001b[0m\u001b[32m\\n\\t\\t\\t```\\n\\t\\t\\tHere:\\n\\t\\t\\t- \"\u001b[0m\u001b[32m{\u001b[0m\u001b[32mprompt\u001b[0m\u001b[32m}\u001b[0m\u001b[32m\" is the LLM \u001b[0m\n",
       "\u001b[32mprompt\\n\\n\\t\\t\\tModel can produce erroneous output if a prompt is not well defined. \\t\\t\\tIn our collaboration, \u001b[0m\n",
       "\u001b[32mwe’ll work together to refine a prompt. The process consists of two main steps:\\n\\n\\t\\t\\t## Step 1\\n\\t\\t\\tI will \u001b[0m\n",
       "\u001b[32mprovide you with the current prompt along with prediction examples. Each example contains the input text, the final\u001b[0m\n",
       "\u001b[32mprediction produced by the model, and the user feedback. \\t\\t\\tUser feedback indicates whether the model prediction\u001b[0m\n",
       "\u001b[32mis correct or not. \\t\\t\\tYour task is to analyze the examples and user feedback, determining whether the \u001b[0m\n",
       "\u001b[32m\\t\\t\\texisting instruction is describing the task reflected by these examples precisely, and suggests changes to \u001b[0m\n",
       "\u001b[32mthe prompt to address the incorrect predictions.\\n\\n\\t\\t\\t## Step 2\\n\\t\\t\\tNext, you will carefully review your \u001b[0m\n",
       "\u001b[32mreasoning in step 1, integrate the insights to refine the prompt, \\t\\t\\tand provide me with the new prompt that \u001b[0m\n",
       "\u001b[32mimproves the model’s performance.\\n\\t\\t\\t## Current prompt\\n\\t\\t\\t\"Carefully read and understand the given \u001b[0m\n",
       "\u001b[32mmathematical problem. Make sure to correctly interpret all the details provided in the problem. Break it down into \u001b[0m\n",
       "\u001b[32mmanageable steps, ensuring each step is correctly executed. Perform the necessary calculations with precision, and \u001b[0m\n",
       "\u001b[32mprovide the final numerical answer. Double-check your calculations to ensure accuracy. If the problem involves \u001b[0m\n",
       "\u001b[32mmultiple steps or calculations, ensure each step is correctly executed to arrive at the correct final \u001b[0m\n",
       "\u001b[32manswer.\"\\n\\t\\t\\t## Examples\\n\\t\\t\\t### Example #0\\n\\nQ: Reese had a sum of money in her savings account. The \u001b[0m\n",
       "\u001b[32mcompany she used to work with was not doing well which is why she lost her job. So she spent 20% of her savings for\u001b[0m\n",
       "\u001b[32mher expenses in February, 40% of it in March, and $1500 in April. How much did she have in her savings account if \u001b[0m\n",
       "\u001b[32mshe still has $2900 after spending those amounts?\\n\\nThe final numerical answer: nan\\n\\nUser feedback: nan\\n\\n\\n###\u001b[0m\n",
       "\u001b[32mExample #1\\n\\nQ: Laura needs to buy window treatments for 3 windows in her house.  She will need to buy a set of \u001b[0m\n",
       "\u001b[32msheers and a set of drapes for each window.  The sheers cost $40.00 a pair and the drapes cost $60.00 a pair.  How \u001b[0m\n",
       "\u001b[32mmuch will the window treatments cost?\\n\\nThe final numerical answer: $300.00\\n\\nUser feedback: Incorrect. Must be \u001b[0m\n",
       "\u001b[32mequal to She needs a set of sheers that cost $40.00 and a set of drapes that cost $60.00 per window so that will \u001b[0m\n",
       "\u001b[32mcost her 40+60 = $\u001b[0m\u001b[32m<\u001b[0m\u001b[32m<40+\u001b[0m\u001b[32m60\u001b[0m\u001b[32m=\u001b[0m\u001b[32m100\u001b[0m\u001b[32m.00>>100.00\\nShe had 3 windows she needs window treatments for they cost her $100.00 \u001b[0m\n",
       "\u001b[32meach so 3*100 = $<<3*\u001b[0m\u001b[32m100\u001b[0m\u001b[32m=\u001b[0m\u001b[32m300\u001b[0m\u001b[32m.00>>300.00\\n#### 300\\n\\n\\n### Example #2\\n\\nQ: Elyse had 100 pieces of gum. She gave \u001b[0m\n",
       "\u001b[32mhalf to her brother Rick. He gave half of his to his friend Shane. Shane chewed 11 pieces of gum. How many pieces \u001b[0m\n",
       "\u001b[32mdoes Shane have left?\\n\\nThe final numerical answer: 39\\n\\nUser feedback: Incorrect. Must be equal to Elyse gave \u001b[0m\n",
       "\u001b[32mhalf of her 100 pieces of gum, or 100 / 2 = <<100/\u001b[0m\u001b[32m2\u001b[0m\u001b[32m=\u001b[0m\u001b[32m50\u001b[0m\u001b[32m>>50 pieces of gum, to Rick.\\nRick gave half of his 50 pieces\u001b[0m\n",
       "\u001b[32mof gum, or 50 / 2 = <<50/\u001b[0m\u001b[32m2\u001b[0m\u001b[32m=\u001b[0m\u001b[32m25\u001b[0m\u001b[32m>>25 pieces of gum, to Shane.\\nShane had 25 pieces of gum and chewed 11, so he had 25 \u001b[0m\n",
       "\u001b[32m– 11 = <<25-\u001b[0m\u001b[32m11\u001b[0m\u001b[32m=\u001b[0m\u001b[32m14\u001b[0m\u001b[32m>>14 pieces of gum left.\\n#### 14\\n\\n\\n### Example #3\\n\\nQ: In a store, there are three types of \u001b[0m\n",
       "\u001b[32mcheese: white, swiss, and blue cheese. Each cheese is packaged, and there are 200 grams of cheese in each package. \u001b[0m\n",
       "\u001b[32mThe package prices are $5 for white cheese, $6 for swiss cheese, and $8 for blue cheese. Miley needed to get some \u001b[0m\n",
       "\u001b[32mfor her party, and she decided to buy 5 packs of swiss cheese, 600 grams of blue cheese, and one-third less white \u001b[0m\n",
       "\u001b[32mcheese. How much did she need to pay for all the cheese?\\n\\nThe final numerical answer: nan\\n\\nUser feedback: \u001b[0m\n",
       "\u001b[32mnan\\n\\n\\n### Example #4\\n\\nQ: Every year in January, Natalia, the librarian, tidies up the books. She has 145 \u001b[0m\n",
       "\u001b[32mnovels, 271 comics, 419 documentaries, and 209 albums to store. She wants to put these in crates that can hold 9 \u001b[0m\n",
       "\u001b[32mitems. How many crates will Natalia use?\\n\\nThe final numerical answer: 144\\n\\nUser feedback: Incorrect. Must be \u001b[0m\n",
       "\u001b[32mequal to Let’s first calculate the total number of items: 145 + 271 + 419 + 209 = <<145+271+419+\u001b[0m\u001b[32m209\u001b[0m\u001b[32m=\u001b[0m\u001b[32m1044\u001b[0m\u001b[32m>>1044 \u001b[0m\n",
       "\u001b[32mitems\\nNow let’s put the items in the crates: 1044 / 9 = <<1044/\u001b[0m\u001b[32m9\u001b[0m\u001b[32m=\u001b[0m\u001b[32m116\u001b[0m\u001b[32m>\u001b[0m\u001b[32m>\u001b[0m\u001b[32m116 crates\\n#### 116\\n\\n\\n\\t\\t\\tSummarize \u001b[0m\n",
       "\u001b[32myour analysis about incorrect predictions and suggest changes to the prompt.'\u001b[0m\u001b[1m}\u001b[0m\n"
      ]
     },
     "metadata": {},
     "output_type": "display_data"
    },
    {
     "data": {
      "text/html": [
       "<pre style=\"white-space:pre;overflow-x:auto;line-height:normal;font-family:Menlo,'DejaVu Sans Mono',consolas,'Courier New',monospace\"><span style=\"font-weight: bold\">{</span><span style=\"color: #008000; text-decoration-color: #008000\">'input'</span>: <span style=\"color: #008000; text-decoration-color: #008000\">'\\n\\t\\t\\tNow please carefully review your reasoning in Step 1 and help with Step 2: refining the </span>\n",
       "<span style=\"color: #008000; text-decoration-color: #008000\">prompt.\\n\\t\\t\\t## Current prompt\\n\\t\\t\\t\"Carefully read and understand the given mathematical problem. Make sure to</span>\n",
       "<span style=\"color: #008000; text-decoration-color: #008000\">correctly interpret all the details provided in the problem. Break it down into manageable steps, ensuring each </span>\n",
       "<span style=\"color: #008000; text-decoration-color: #008000\">step is correctly executed. Perform the necessary calculations with precision, and provide the final numerical </span>\n",
       "<span style=\"color: #008000; text-decoration-color: #008000\">answer. Double-check your calculations to ensure accuracy. If the problem involves multiple steps or calculations, </span>\n",
       "<span style=\"color: #008000; text-decoration-color: #008000\">ensure each step is correctly executed to arrive at the correct final answer.\"\\n\\n\\t\\t\\t## Follow this guidance to </span>\n",
       "<span style=\"color: #008000; text-decoration-color: #008000\">refine the prompt:\\n\\n\\t\\t\\t1. The new prompt should should describe the task precisely, and address the points </span>\n",
       "<span style=\"color: #008000; text-decoration-color: #008000\">raised in the user feedback.\\n\\n\\t\\t\\t2. The new prompt should be similar to the current instruction, and only </span>\n",
       "<span style=\"color: #008000; text-decoration-color: #008000\">differ in the parts that address the issues you identified in Step 1.\\n\\t\\t\\t\\t\\tExample:\\n\\t\\t\\t\\t\\t- Current </span>\n",
       "<span style=\"color: #008000; text-decoration-color: #008000\">prompt: \"The model should generate a summary of the input text.\"\\n\\t\\t\\t\\t\\t- New prompt: \"The model should </span>\n",
       "<span style=\"color: #008000; text-decoration-color: #008000\">generate a summary of the input text. Pay attention to the original style.\"\\n\\n\\t\\t\\t3. Reply only with the new </span>\n",
       "<span style=\"color: #008000; text-decoration-color: #008000\">prompt. Do not include input and output templates in the prompt. remove any special characters from the prompt.'</span><span style=\"font-weight: bold\">}</span>\n",
       "</pre>\n"
      ],
      "text/plain": [
       "\u001b[1m{\u001b[0m\u001b[32m'input'\u001b[0m: \u001b[32m'\\n\\t\\t\\tNow please carefully review your reasoning in Step 1 and help with Step 2: refining the \u001b[0m\n",
       "\u001b[32mprompt.\\n\\t\\t\\t## Current prompt\\n\\t\\t\\t\"Carefully read and understand the given mathematical problem. Make sure to\u001b[0m\n",
       "\u001b[32mcorrectly interpret all the details provided in the problem. Break it down into manageable steps, ensuring each \u001b[0m\n",
       "\u001b[32mstep is correctly executed. Perform the necessary calculations with precision, and provide the final numerical \u001b[0m\n",
       "\u001b[32manswer. Double-check your calculations to ensure accuracy. If the problem involves multiple steps or calculations, \u001b[0m\n",
       "\u001b[32mensure each step is correctly executed to arrive at the correct final answer.\"\\n\\n\\t\\t\\t## Follow this guidance to \u001b[0m\n",
       "\u001b[32mrefine the prompt:\\n\\n\\t\\t\\t1. The new prompt should should describe the task precisely, and address the points \u001b[0m\n",
       "\u001b[32mraised in the user feedback.\\n\\n\\t\\t\\t2. The new prompt should be similar to the current instruction, and only \u001b[0m\n",
       "\u001b[32mdiffer in the parts that address the issues you identified in Step 1.\\n\\t\\t\\t\\t\\tExample:\\n\\t\\t\\t\\t\\t- Current \u001b[0m\n",
       "\u001b[32mprompt: \"The model should generate a summary of the input text.\"\\n\\t\\t\\t\\t\\t- New prompt: \"The model should \u001b[0m\n",
       "\u001b[32mgenerate a summary of the input text. Pay attention to the original style.\"\\n\\n\\t\\t\\t3. Reply only with the new \u001b[0m\n",
       "\u001b[32mprompt. Do not include input and output templates in the prompt. remove any special characters from the prompt.'\u001b[0m\u001b[1m}\u001b[0m\n"
      ]
     },
     "metadata": {},
     "output_type": "display_data"
    },
    {
     "data": {
      "text/html": [
       "<pre style=\"white-space:pre;overflow-x:auto;line-height:normal;font-family:Menlo,'DejaVu Sans Mono',consolas,'Courier New',monospace\">reasoning: The current prompt instructs the model to carefully read and understand the given mathematical problem, \n",
       "break it down into manageable steps, perform the necessary calculations with precision, and provide the final \n",
       "numerical answer. However, the model seems to struggle with problems that involve multiple steps or require a \n",
       "certain level of interpretation. \n",
       "\n",
       "In Example #<span style=\"color: #008080; text-decoration-color: #008080; font-weight: bold\">1</span>, the model failed to understand that the cost of window treatments for each window includes both \n",
       "sheers and drapes. In Example #<span style=\"color: #008080; text-decoration-color: #008080; font-weight: bold\">2</span>, the model didn't correctly follow the sequence of actions <span style=\"font-weight: bold\">(</span>Elyse giving gum to \n",
       "Rick, Rick giving gum to Shane, and Shane chewing some gum<span style=\"font-weight: bold\">)</span>. In Example #<span style=\"color: #008080; text-decoration-color: #008080; font-weight: bold\">4</span>, the model didn't correctly calculate \n",
       "the total number of items and the number of crates needed.\n",
       "\n",
       "The prompt could be improved by explicitly instructing the model to consider all elements of the problem, to follow\n",
       "the sequence of actions or calculations, and to double-check its calculations. The prompt could also remind the \n",
       "model to consider the units involved <span style=\"font-weight: bold\">(</span>e.g., dollars, pieces of gum, crates<span style=\"font-weight: bold\">)</span> and to ensure that its answer is in the\n",
       "correct unit.\n",
       "\n",
       "Here's a suggested new prompt:\n",
       "\n",
       "\"Carefully read and understand the given mathematical problem. Make sure to correctly interpret all the details \n",
       "provided in the problem, including the units involved. Follow the sequence\n",
       "</pre>\n"
      ],
      "text/plain": [
       "reasoning: The current prompt instructs the model to carefully read and understand the given mathematical problem, \n",
       "break it down into manageable steps, perform the necessary calculations with precision, and provide the final \n",
       "numerical answer. However, the model seems to struggle with problems that involve multiple steps or require a \n",
       "certain level of interpretation. \n",
       "\n",
       "In Example #\u001b[1;36m1\u001b[0m, the model failed to understand that the cost of window treatments for each window includes both \n",
       "sheers and drapes. In Example #\u001b[1;36m2\u001b[0m, the model didn't correctly follow the sequence of actions \u001b[1m(\u001b[0mElyse giving gum to \n",
       "Rick, Rick giving gum to Shane, and Shane chewing some gum\u001b[1m)\u001b[0m. In Example #\u001b[1;36m4\u001b[0m, the model didn't correctly calculate \n",
       "the total number of items and the number of crates needed.\n",
       "\n",
       "The prompt could be improved by explicitly instructing the model to consider all elements of the problem, to follow\n",
       "the sequence of actions or calculations, and to double-check its calculations. The prompt could also remind the \n",
       "model to consider the units involved \u001b[1m(\u001b[0me.g., dollars, pieces of gum, crates\u001b[1m)\u001b[0m and to ensure that its answer is in the\n",
       "correct unit.\n",
       "\n",
       "Here's a suggested new prompt:\n",
       "\n",
       "\"Carefully read and understand the given mathematical problem. Make sure to correctly interpret all the details \n",
       "provided in the problem, including the units involved. Follow the sequence\n"
      ]
     },
     "metadata": {},
     "output_type": "display_data"
    },
    {
     "data": {
      "text/html": [
       "<pre style=\"white-space:pre;overflow-x:auto;line-height:normal;font-family:Menlo,'DejaVu Sans Mono',consolas,'Courier New',monospace\">New prompt: <span style=\"color: #008000; text-decoration-color: #008000\">\"Carefully read and understand the given mathematical problem. Make sure to correctly interpret all the</span>\n",
       "<span style=\"color: #008000; text-decoration-color: #008000\">details provided in the problem, including the sequence of actions or calculations and the units involved. Break it</span>\n",
       "<span style=\"color: #008000; text-decoration-color: #008000\">down into manageable steps, ensuring each step is correctly executed. Perform the necessary calculations with </span>\n",
       "<span style=\"color: #008000; text-decoration-color: #008000\">precision, and provide the final numerical answer in the correct unit. Double-check your calculations to ensure </span>\n",
       "<span style=\"color: #008000; text-decoration-color: #008000\">accuracy. If the problem involves multiple steps or calculations, ensure each step is correctly executed to arrive </span>\n",
       "<span style=\"color: #008000; text-decoration-color: #008000\">at the correct final answer.\"</span>\n",
       "</pre>\n"
      ],
      "text/plain": [
       "New prompt: \u001b[32m\"Carefully read and understand the given mathematical problem. Make sure to correctly interpret all the\u001b[0m\n",
       "\u001b[32mdetails provided in the problem, including the sequence of actions or calculations and the units involved. Break it\u001b[0m\n",
       "\u001b[32mdown into manageable steps, ensuring each step is correctly executed. Perform the necessary calculations with \u001b[0m\n",
       "\u001b[32mprecision, and provide the final numerical answer in the correct unit. Double-check your calculations to ensure \u001b[0m\n",
       "\u001b[32maccuracy. If the problem involves multiple steps or calculations, ensure each step is correctly executed to arrive \u001b[0m\n",
       "\u001b[32mat the correct final answer.\"\u001b[0m\n"
      ]
     },
     "metadata": {},
     "output_type": "display_data"
    },
    {
     "data": {
      "text/html": [
       "\"Carefully read and understand the given mathematical problem. Make sure to correctly interpret all the details provided in the problem<span style=\"background-color: lightgreen;\">,</span><span style=\"background-color: lightgreen;\"> </span><span style=\"background-color: lightgreen;\">i</span><span style=\"background-color: lightgreen;\">n</span><span style=\"background-color: lightgreen;\">c</span><span style=\"background-color: lightgreen;\">l</span><span style=\"background-color: lightgreen;\">u</span><span style=\"background-color: lightgreen;\">d</span><span style=\"background-color: lightgreen;\">i</span><span style=\"background-color: lightgreen;\">n</span><span style=\"background-color: lightgreen;\">g</span><span style=\"background-color: lightgreen;\"> </span><span style=\"background-color: lightgreen;\">t</span><span style=\"background-color: lightgreen;\">h</span><span style=\"background-color: lightgreen;\">e</span><span style=\"background-color: lightgreen;\"> </span><span style=\"background-color: lightgreen;\">s</span><span style=\"background-color: lightgreen;\">e</span><span style=\"background-color: lightgreen;\">q</span><span style=\"background-color: lightgreen;\">u</span><span style=\"background-color: lightgreen;\">e</span><span style=\"background-color: lightgreen;\">n</span><span style=\"background-color: lightgreen;\">c</span><span style=\"background-color: lightgreen;\">e</span><span style=\"background-color: lightgreen;\"> </span><span style=\"background-color: lightgreen;\">o</span><span style=\"background-color: lightgreen;\">f</span><span style=\"background-color: lightgreen;\"> </span><span style=\"background-color: lightgreen;\">a</span><span style=\"background-color: lightgreen;\">c</span><span style=\"background-color: lightgreen;\">t</span><span style=\"background-color: lightgreen;\">i</span><span style=\"background-color: lightgreen;\">o</span><span style=\"background-color: lightgreen;\">n</span><span style=\"background-color: lightgreen;\">s</span><span style=\"background-color: lightgreen;\"> </span><span style=\"background-color: lightgreen;\">o</span><span style=\"background-color: lightgreen;\">r</span><span style=\"background-color: lightgreen;\"> </span><span style=\"background-color: lightgreen;\">c</span><span style=\"background-color: lightgreen;\">a</span><span style=\"background-color: lightgreen;\">l</span><span style=\"background-color: lightgreen;\">c</span><span style=\"background-color: lightgreen;\">u</span><span style=\"background-color: lightgreen;\">l</span><span style=\"background-color: lightgreen;\">a</span><span style=\"background-color: lightgreen;\">t</span><span style=\"background-color: lightgreen;\">i</span><span style=\"background-color: lightgreen;\">o</span><span style=\"background-color: lightgreen;\">n</span><span style=\"background-color: lightgreen;\">s</span><span style=\"background-color: lightgreen;\"> </span><span style=\"background-color: lightgreen;\">a</span><span style=\"background-color: lightgreen;\">n</span><span style=\"background-color: lightgreen;\">d</span><span style=\"background-color: lightgreen;\"> </span><span style=\"background-color: lightgreen;\">t</span><span style=\"background-color: lightgreen;\">h</span><span style=\"background-color: lightgreen;\">e</span><span style=\"background-color: lightgreen;\"> </span><span style=\"background-color: lightgreen;\">u</span><span style=\"background-color: lightgreen;\">n</span><span style=\"background-color: lightgreen;\">i</span><span style=\"background-color: lightgreen;\">t</span><span style=\"background-color: lightgreen;\">s</span><span style=\"background-color: lightgreen;\"> </span><span style=\"background-color: lightgreen;\">i</span><span style=\"background-color: lightgreen;\">n</span><span style=\"background-color: lightgreen;\">v</span><span style=\"background-color: lightgreen;\">o</span><span style=\"background-color: lightgreen;\">l</span><span style=\"background-color: lightgreen;\">v</span><span style=\"background-color: lightgreen;\">e</span><span style=\"background-color: lightgreen;\">d</span>. Break it down into manageable steps, ensuring each step is correctly executed. Perform the necessary calculations with precision, and provide the final numerical answer<span style=\"background-color: lightgreen;\"> </span><span style=\"background-color: lightgreen;\">i</span><span style=\"background-color: lightgreen;\">n</span><span style=\"background-color: lightgreen;\"> </span><span style=\"background-color: lightgreen;\">t</span><span style=\"background-color: lightgreen;\">h</span><span style=\"background-color: lightgreen;\">e</span><span style=\"background-color: lightgreen;\"> </span><span style=\"background-color: lightgreen;\">c</span><span style=\"background-color: lightgreen;\">o</span><span style=\"background-color: lightgreen;\">r</span><span style=\"background-color: lightgreen;\">r</span><span style=\"background-color: lightgreen;\">e</span><span style=\"background-color: lightgreen;\">c</span><span style=\"background-color: lightgreen;\">t</span><span style=\"background-color: lightgreen;\"> </span><span style=\"background-color: lightgreen;\">u</span><span style=\"background-color: lightgreen;\">n</span><span style=\"background-color: lightgreen;\">i</span><span style=\"background-color: lightgreen;\">t</span>. Double-check your calculations to ensure accuracy. If the problem involves multiple steps or calculations, ensure each step is correctly executed to arrive at the correct final answer.\""
      ],
      "text/plain": [
       "<IPython.core.display.HTML object>"
      ]
     },
     "metadata": {},
     "output_type": "display_data"
    },
    {
     "data": {
      "text/html": [
       "<pre style=\"white-space:pre;overflow-x:auto;line-height:normal;font-family:Menlo,'DejaVu Sans Mono',consolas,'Courier New',monospace\">Train is done!\n",
       "</pre>\n"
      ],
      "text/plain": [
       "Train is done!\n"
      ]
     },
     "metadata": {},
     "output_type": "display_data"
    }
   ],
   "source": [
    "agent.learn(batch_size=5, learning_iterations=5)"
   ]
  },
  {
   "cell_type": "code",
   "execution_count": 12,
   "metadata": {},
   "outputs": [
    {
     "data": {
      "text/html": [
       "<pre style=\"white-space:pre;overflow-x:auto;line-height:normal;font-family:Menlo,'DejaVu Sans Mono',consolas,'Courier New',monospace\"><span style=\"color: #008000; text-decoration-color: #008000\">\"Carefully read and understand the given mathematical problem. Make sure to correctly interpret all the details </span>\n",
       "<span style=\"color: #008000; text-decoration-color: #008000\">provided in the problem, including the sequence of actions or calculations and the units involved. Break it down </span>\n",
       "<span style=\"color: #008000; text-decoration-color: #008000\">into manageable steps, ensuring each step is correctly executed. Perform the necessary calculations with precision,</span>\n",
       "<span style=\"color: #008000; text-decoration-color: #008000\">and provide the final numerical answer in the correct unit. Double-check your calculations to ensure accuracy. If </span>\n",
       "<span style=\"color: #008000; text-decoration-color: #008000\">the problem involves multiple steps or calculations, ensure each step is correctly executed to arrive at the </span>\n",
       "<span style=\"color: #008000; text-decoration-color: #008000\">correct final answer.\"</span>\n",
       "</pre>\n"
      ],
      "text/plain": [
       "\u001b[32m\"Carefully read and understand the given mathematical problem. Make sure to correctly interpret all the details \u001b[0m\n",
       "\u001b[32mprovided in the problem, including the sequence of actions or calculations and the units involved. Break it down \u001b[0m\n",
       "\u001b[32minto manageable steps, ensuring each step is correctly executed. Perform the necessary calculations with precision,\u001b[0m\n",
       "\u001b[32mand provide the final numerical answer in the correct unit. Double-check your calculations to ensure accuracy. If \u001b[0m\n",
       "\u001b[32mthe problem involves multiple steps or calculations, ensure each step is correctly executed to arrive at the \u001b[0m\n",
       "\u001b[32mcorrect final answer.\"\u001b[0m\n"
      ]
     },
     "metadata": {},
     "output_type": "display_data"
    }
   ],
   "source": [
    "from ally.utils.logs import print_text\n",
    "\n",
    "\n",
    "print_text(agent.skills['math_solver'].instruction_template)"
   ]
  },
  {
   "cell_type": "code",
   "execution_count": 14,
   "metadata": {},
   "outputs": [
    {
     "data": {
      "text/html": [
       "<pre style=\"white-space:pre;overflow-x:auto;line-height:normal;font-family:Menlo,'DejaVu Sans Mono',consolas,'Courier New',monospace\">Applying skill: math_solver\n",
       "</pre>\n"
      ],
      "text/plain": [
       "Applying skill: math_solver\n"
      ]
     },
     "metadata": {},
     "output_type": "display_data"
    },
    {
     "name": "stderr",
     "output_type": "stream",
     "text": [
      "  0%|          | 0/10 [00:00<?, ?it/s]"
     ]
    },
    {
     "data": {
      "text/html": [
       "<pre style=\"white-space:pre;overflow-x:auto;line-height:normal;font-family:Menlo,'DejaVu Sans Mono',consolas,'Courier New',monospace\"><span style=\"font-weight: bold\">{</span><span style=\"color: #008000; text-decoration-color: #008000\">'question'</span>: <span style=\"color: #008000; text-decoration-color: #008000\">\"Janet’s ducks lay 16 eggs per day. She eats three for breakfast every morning and bakes muffins for </span>\n",
       "<span style=\"color: #008000; text-decoration-color: #008000\">her friends every day with four. She sells the remainder at the farmers' market daily for $2 per fresh duck egg. </span>\n",
       "<span style=\"color: #008000; text-decoration-color: #008000\">How much in dollars does she make every day at the farmers' market?\"</span><span style=\"font-weight: bold\">}</span>\n",
       "</pre>\n"
      ],
      "text/plain": [
       "\u001b[1m{\u001b[0m\u001b[32m'question'\u001b[0m: \u001b[32m\"Janet’s ducks lay 16 eggs per day. She eats three for breakfast every morning and bakes muffins for \u001b[0m\n",
       "\u001b[32mher friends every day with four. She sells the remainder at the farmers' market daily for $2 per fresh duck egg. \u001b[0m\n",
       "\u001b[32mHow much in dollars does she make every day at the farmers' market?\"\u001b[0m\u001b[1m}\u001b[0m\n"
      ]
     },
     "metadata": {},
     "output_type": "display_data"
    },
    {
     "name": "stderr",
     "output_type": "stream",
     "text": [
      " 20%|██        | 2/10 [00:01<00:05,  1.51it/s]"
     ]
    },
    {
     "data": {
      "text/html": [
       "<pre style=\"white-space:pre;overflow-x:auto;line-height:normal;font-family:Menlo,'DejaVu Sans Mono',consolas,'Courier New',monospace\"><span style=\"font-weight: bold\">{</span><span style=\"color: #008000; text-decoration-color: #008000\">'question'</span>: <span style=\"color: #008000; text-decoration-color: #008000\">'A robe takes 2 bolts of blue fiber and half that much white fiber.  How many bolts in total does it </span>\n",
       "<span style=\"color: #008000; text-decoration-color: #008000\">take?'</span><span style=\"font-weight: bold\">}</span>\n",
       "</pre>\n"
      ],
      "text/plain": [
       "\u001b[1m{\u001b[0m\u001b[32m'question'\u001b[0m: \u001b[32m'A robe takes 2 bolts of blue fiber and half that much white fiber.  How many bolts in total does it \u001b[0m\n",
       "\u001b[32mtake?'\u001b[0m\u001b[1m}\u001b[0m\n"
      ]
     },
     "metadata": {},
     "output_type": "display_data"
    },
    {
     "name": "stderr",
     "output_type": "stream",
     "text": [
      " 30%|███       | 3/10 [00:02<00:05,  1.25it/s]"
     ]
    },
    {
     "data": {
      "text/html": [
       "<pre style=\"white-space:pre;overflow-x:auto;line-height:normal;font-family:Menlo,'DejaVu Sans Mono',consolas,'Courier New',monospace\"><span style=\"font-weight: bold\">{</span><span style=\"color: #008000; text-decoration-color: #008000\">'question'</span>: <span style=\"color: #008000; text-decoration-color: #008000\">'Josh decides to try flipping a house.  He buys a house for $80,000 and then puts in $50,000 in </span>\n",
       "<span style=\"color: #008000; text-decoration-color: #008000\">repairs.  This increased the value of the house by 150%.  How much profit did he make?'</span><span style=\"font-weight: bold\">}</span>\n",
       "</pre>\n"
      ],
      "text/plain": [
       "\u001b[1m{\u001b[0m\u001b[32m'question'\u001b[0m: \u001b[32m'Josh decides to try flipping a house.  He buys a house for $80,000 and then puts in $50,000 in \u001b[0m\n",
       "\u001b[32mrepairs.  This increased the value of the house by 150%.  How much profit did he make?'\u001b[0m\u001b[1m}\u001b[0m\n"
      ]
     },
     "metadata": {},
     "output_type": "display_data"
    },
    {
     "name": "stderr",
     "output_type": "stream",
     "text": [
      " 40%|████      | 4/10 [00:08<00:15,  2.65s/it]"
     ]
    },
    {
     "data": {
      "text/html": [
       "<pre style=\"white-space:pre;overflow-x:auto;line-height:normal;font-family:Menlo,'DejaVu Sans Mono',consolas,'Courier New',monospace\"><span style=\"font-weight: bold\">{</span><span style=\"color: #008000; text-decoration-color: #008000\">'question'</span>: <span style=\"color: #008000; text-decoration-color: #008000\">'James decides to run 3 sprints 3 times a week.  He runs 60 meters each sprint.  How many total meters</span>\n",
       "<span style=\"color: #008000; text-decoration-color: #008000\">does he run a week?'</span><span style=\"font-weight: bold\">}</span>\n",
       "</pre>\n"
      ],
      "text/plain": [
       "\u001b[1m{\u001b[0m\u001b[32m'question'\u001b[0m: \u001b[32m'James decides to run 3 sprints 3 times a week.  He runs 60 meters each sprint.  How many total meters\u001b[0m\n",
       "\u001b[32mdoes he run a week?'\u001b[0m\u001b[1m}\u001b[0m\n"
      ]
     },
     "metadata": {},
     "output_type": "display_data"
    },
    {
     "name": "stderr",
     "output_type": "stream",
     "text": [
      " 50%|█████     | 5/10 [00:11<00:14,  2.94s/it]"
     ]
    },
    {
     "data": {
      "text/html": [
       "<pre style=\"white-space:pre;overflow-x:auto;line-height:normal;font-family:Menlo,'DejaVu Sans Mono',consolas,'Courier New',monospace\"><span style=\"font-weight: bold\">{</span><span style=\"color: #008000; text-decoration-color: #008000\">'question'</span>: <span style=\"color: #008000; text-decoration-color: #008000\">\"Every day, Wendi feeds each of her chickens three cups of mixed chicken feed, containing seeds, </span>\n",
       "<span style=\"color: #008000; text-decoration-color: #008000\">mealworms and vegetables to help keep them healthy.  She gives the chickens their feed in three separate meals. In </span>\n",
       "<span style=\"color: #008000; text-decoration-color: #008000\">the morning, she gives her flock of chickens 15 cups of feed.  In the afternoon, she gives her chickens another 25 </span>\n",
       "<span style=\"color: #008000; text-decoration-color: #008000\">cups of feed.  How many cups of feed does she need to give her chickens in the final meal of the day if the size of</span>\n",
       "<span style=\"color: #008000; text-decoration-color: #008000\">Wendi's flock is 20 chickens?\"</span><span style=\"font-weight: bold\">}</span>\n",
       "</pre>\n"
      ],
      "text/plain": [
       "\u001b[1m{\u001b[0m\u001b[32m'question'\u001b[0m: \u001b[32m\"Every day, Wendi feeds each of her chickens three cups of mixed chicken feed, containing seeds, \u001b[0m\n",
       "\u001b[32mmealworms and vegetables to help keep them healthy.  She gives the chickens their feed in three separate meals. In \u001b[0m\n",
       "\u001b[32mthe morning, she gives her flock of chickens 15 cups of feed.  In the afternoon, she gives her chickens another 25 \u001b[0m\n",
       "\u001b[32mcups of feed.  How many cups of feed does she need to give her chickens in the final meal of the day if the size of\u001b[0m\n",
       "\u001b[32mWendi's flock is 20 chickens?\"\u001b[0m\u001b[1m}\u001b[0m\n"
      ]
     },
     "metadata": {},
     "output_type": "display_data"
    },
    {
     "name": "stderr",
     "output_type": "stream",
     "text": [
      " 60%|██████    | 6/10 [00:15<00:12,  3.18s/it]"
     ]
    },
    {
     "data": {
      "text/html": [
       "<pre style=\"white-space:pre;overflow-x:auto;line-height:normal;font-family:Menlo,'DejaVu Sans Mono',consolas,'Courier New',monospace\"><span style=\"font-weight: bold\">{</span><span style=\"color: #008000; text-decoration-color: #008000\">'question'</span>: <span style=\"color: #008000; text-decoration-color: #008000\">'Kylar went to the store to buy glasses for his new apartment. One glass costs $5, but every second </span>\n",
       "<span style=\"color: #008000; text-decoration-color: #008000\">glass costs only 60% of the price. Kylar wants to buy 16 glasses. How much does he need to pay for them?'</span><span style=\"font-weight: bold\">}</span>\n",
       "</pre>\n"
      ],
      "text/plain": [
       "\u001b[1m{\u001b[0m\u001b[32m'question'\u001b[0m: \u001b[32m'Kylar went to the store to buy glasses for his new apartment. One glass costs $5, but every second \u001b[0m\n",
       "\u001b[32mglass costs only 60% of the price. Kylar wants to buy 16 glasses. How much does he need to pay for them?'\u001b[0m\u001b[1m}\u001b[0m\n"
      ]
     },
     "metadata": {},
     "output_type": "display_data"
    },
    {
     "name": "stderr",
     "output_type": "stream",
     "text": [
      " 70%|███████   | 7/10 [00:21<00:12,  4.08s/it]"
     ]
    },
    {
     "data": {
      "text/html": [
       "<pre style=\"white-space:pre;overflow-x:auto;line-height:normal;font-family:Menlo,'DejaVu Sans Mono',consolas,'Courier New',monospace\"><span style=\"font-weight: bold\">{</span><span style=\"color: #008000; text-decoration-color: #008000\">'question'</span>: <span style=\"color: #008000; text-decoration-color: #008000\">'Toulouse has twice as many sheep as Charleston. Charleston has 4 times as many sheep as Seattle. How </span>\n",
       "<span style=\"color: #008000; text-decoration-color: #008000\">many sheep do Toulouse, Charleston, and Seattle have together if Seattle has 20 sheep?'</span><span style=\"font-weight: bold\">}</span>\n",
       "</pre>\n"
      ],
      "text/plain": [
       "\u001b[1m{\u001b[0m\u001b[32m'question'\u001b[0m: \u001b[32m'Toulouse has twice as many sheep as Charleston. Charleston has 4 times as many sheep as Seattle. How \u001b[0m\n",
       "\u001b[32mmany sheep do Toulouse, Charleston, and Seattle have together if Seattle has 20 sheep?'\u001b[0m\u001b[1m}\u001b[0m\n"
      ]
     },
     "metadata": {},
     "output_type": "display_data"
    },
    {
     "name": "stderr",
     "output_type": "stream",
     "text": [
      " 80%|████████  | 8/10 [00:22<00:06,  3.27s/it]"
     ]
    },
    {
     "data": {
      "text/html": [
       "<pre style=\"white-space:pre;overflow-x:auto;line-height:normal;font-family:Menlo,'DejaVu Sans Mono',consolas,'Courier New',monospace\"><span style=\"font-weight: bold\">{</span><span style=\"color: #008000; text-decoration-color: #008000\">'question'</span>: <span style=\"color: #008000; text-decoration-color: #008000\">'Carla is downloading a 200 GB file. Normally she can download 2 GB/minute, but 40% of the way through</span>\n",
       "<span style=\"color: #008000; text-decoration-color: #008000\">the download, Windows forces a restart to install updates, which takes 20 minutes. Then Carla has to restart the </span>\n",
       "<span style=\"color: #008000; text-decoration-color: #008000\">download from the beginning. How load does it take to download the file?'</span><span style=\"font-weight: bold\">}</span>\n",
       "</pre>\n"
      ],
      "text/plain": [
       "\u001b[1m{\u001b[0m\u001b[32m'question'\u001b[0m: \u001b[32m'Carla is downloading a 200 GB file. Normally she can download 2 GB/minute, but 40% of the way through\u001b[0m\n",
       "\u001b[32mthe download, Windows forces a restart to install updates, which takes 20 minutes. Then Carla has to restart the \u001b[0m\n",
       "\u001b[32mdownload from the beginning. How load does it take to download the file?'\u001b[0m\u001b[1m}\u001b[0m\n"
      ]
     },
     "metadata": {},
     "output_type": "display_data"
    },
    {
     "name": "stderr",
     "output_type": "stream",
     "text": [
      " 90%|█████████ | 9/10 [00:27<00:03,  3.90s/it]"
     ]
    },
    {
     "data": {
      "text/html": [
       "<pre style=\"white-space:pre;overflow-x:auto;line-height:normal;font-family:Menlo,'DejaVu Sans Mono',consolas,'Courier New',monospace\"><span style=\"font-weight: bold\">{</span><span style=\"color: #008000; text-decoration-color: #008000\">'question'</span>: <span style=\"color: #008000; text-decoration-color: #008000\">'John drives for 3 hours at a speed of 60 mph and then turns around because he realizes he forgot </span>\n",
       "<span style=\"color: #008000; text-decoration-color: #008000\">something very important at home.  He tries to get home in 4 hours but spends the first 2 hours in standstill </span>\n",
       "<span style=\"color: #008000; text-decoration-color: #008000\">traffic.  He spends the next half-hour driving at a speed of 30mph, before being able to drive the remaining time </span>\n",
       "<span style=\"color: #008000; text-decoration-color: #008000\">of the 4 hours going at 80 mph.  How far is he from home at the end of those 4 hours?'</span><span style=\"font-weight: bold\">}</span>\n",
       "</pre>\n"
      ],
      "text/plain": [
       "\u001b[1m{\u001b[0m\u001b[32m'question'\u001b[0m: \u001b[32m'John drives for 3 hours at a speed of 60 mph and then turns around because he realizes he forgot \u001b[0m\n",
       "\u001b[32msomething very important at home.  He tries to get home in 4 hours but spends the first 2 hours in standstill \u001b[0m\n",
       "\u001b[32mtraffic.  He spends the next half-hour driving at a speed of 30mph, before being able to drive the remaining time \u001b[0m\n",
       "\u001b[32mof the 4 hours going at 80 mph.  How far is he from home at the end of those 4 hours?'\u001b[0m\u001b[1m}\u001b[0m\n"
      ]
     },
     "metadata": {},
     "output_type": "display_data"
    },
    {
     "name": "stderr",
     "output_type": "stream",
     "text": [
      "100%|██████████| 10/10 [00:34<00:00,  4.60s/it]"
     ]
    },
    {
     "data": {
      "text/html": [
       "<pre style=\"white-space:pre;overflow-x:auto;line-height:normal;font-family:Menlo,'DejaVu Sans Mono',consolas,'Courier New',monospace\"><span style=\"font-weight: bold\">{</span><span style=\"color: #008000; text-decoration-color: #008000\">'question'</span>: <span style=\"color: #008000; text-decoration-color: #008000\">\"Eliza's rate per hour for the first 40 hours she works each week is $10. She also receives an </span>\n",
       "<span style=\"color: #008000; text-decoration-color: #008000\">overtime pay of 1.2 times her regular hourly rate. If Eliza worked for 45 hours this week, how much are her </span>\n",
       "<span style=\"color: #008000; text-decoration-color: #008000\">earnings for this week?\"</span><span style=\"font-weight: bold\">}</span>\n",
       "</pre>\n"
      ],
      "text/plain": [
       "\u001b[1m{\u001b[0m\u001b[32m'question'\u001b[0m: \u001b[32m\"Eliza's rate per hour for the first 40 hours she works each week is $10. She also receives an \u001b[0m\n",
       "\u001b[32movertime pay of 1.2 times her regular hourly rate. If Eliza worked for 45 hours this week, how much are her \u001b[0m\n",
       "\u001b[32mearnings for this week?\"\u001b[0m\u001b[1m}\u001b[0m\n"
      ]
     },
     "metadata": {},
     "output_type": "display_data"
    },
    {
     "name": "stderr",
     "output_type": "stream",
     "text": [
      "100%|██████████| 10/10 [00:40<00:00,  4.04s/it]"
     ]
    },
    {
     "name": "stdout",
     "output_type": "stream",
     "text": [
      "New accuracy: 0.2857142857142857\n"
     ]
    },
    {
     "name": "stderr",
     "output_type": "stream",
     "text": [
      "\n"
     ]
    }
   ],
   "source": [
    "result_new = agent.run(df_test.drop(columns='answer')[:10])\n",
    "accuracy = StaticEnvironment(df=df_test, matching_function=evaluate_answers).get_feedback(skills, result_new).get_accuracy()\n",
    "print(f'New accuracy: {accuracy[\"answer\"]}')"
   ]
  }
 ],
 "metadata": {
  "kernelspec": {
   "display_name": "ally",
   "language": "python",
   "name": "python3"
  },
  "language_info": {
   "codemirror_mode": {
    "name": "ipython",
    "version": 3
   },
   "file_extension": ".py",
   "mimetype": "text/x-python",
   "name": "python",
   "nbconvert_exporter": "python",
   "pygments_lexer": "ipython3",
   "version": "3.11.6"
  }
 },
 "nbformat": 4,
 "nbformat_minor": 2
}
