{
 "cells": [
  {
   "cell_type": "code",
   "execution_count": 1,
   "metadata": {},
   "outputs": [
    {
     "data": {
      "text/html": [
       "<div>\n",
       "<style scoped>\n",
       "    .dataframe tbody tr th:only-of-type {\n",
       "        vertical-align: middle;\n",
       "    }\n",
       "\n",
       "    .dataframe tbody tr th {\n",
       "        vertical-align: top;\n",
       "    }\n",
       "\n",
       "    .dataframe thead th {\n",
       "        text-align: right;\n",
       "    }\n",
       "</style>\n",
       "<table border=\"1\" class=\"dataframe\">\n",
       "  <thead>\n",
       "    <tr style=\"text-align: right;\">\n",
       "      <th></th>\n",
       "      <th>text</th>\n",
       "    </tr>\n",
       "  </thead>\n",
       "  <tbody>\n",
       "    <tr>\n",
       "      <th>0</th>\n",
       "      <td>Caffeine comes from coffee beans, but it can a...</td>\n",
       "    </tr>\n",
       "    <tr>\n",
       "      <th>1</th>\n",
       "      <td>Vitamin C is a water-soluble essential vitamin...</td>\n",
       "    </tr>\n",
       "    <tr>\n",
       "      <th>2</th>\n",
       "      <td>Vitamin D is a fat-soluble nutrient. It is one...</td>\n",
       "    </tr>\n",
       "  </tbody>\n",
       "</table>\n",
       "</div>"
      ],
      "text/plain": [
       "                                                text\n",
       "0  Caffeine comes from coffee beans, but it can a...\n",
       "1  Vitamin C is a water-soluble essential vitamin...\n",
       "2  Vitamin D is a fat-soluble nutrient. It is one..."
      ]
     },
     "execution_count": 1,
     "metadata": {},
     "output_type": "execute_result"
    }
   ],
   "source": [
    "import pandas as pd\n",
    "df = pd.DataFrame([\n",
    "    \"Caffeine comes from coffee beans, but it can also be synthesized in a laboratory. It has the same structure whether it’s in coffee, energy drinks, tea, or pills. Caffeine is a powerful stimulant, and it can be used to improve physical strength and endurance. It is classified as a nootropic because it sensitizes neurons and provides mental stimulation. Habitual caffeine use is also associated with a reduced risk of Alzheimer's disease, cirrhosis, and liver cancer. Caffeine’s main mechanism concerns antagonizing adenosine receptors. Adenosine causes sedation and relaxation when it acts upon its receptors, located in the brain. Caffeine prevents this action and causes alertness and wakefulness. This inhibition of adenosine can influence the dopamine, serotonin, acetylcholine, and adrenaline systems. For practical tips on the optimal use of caffeine, check out our Supplement Guides.\",\n",
    "    \"Vitamin C is a water-soluble essential vitamin that can be found in fruits and vegetables, especially citrus. Humans are unable to synthesize vitamin C from their bodies, so it must be acquired through dietary intake. Vitamin C is important for immune system function and is a powerful antioxidant. It also acts as a cofactor for collagen synthesis.[2]. People often supplement with vitamin C when they have a cold. According to various studies, vitamin C may be effective in reducing the duration of a cold, but does not seem to reduce the frequency of colds in a population.[3][4] The available literature suggests that a dose ranging from 200 mg to 2,000 mg could be beneficial for reducing cold duration.Often utilized for its antioxidant effects, vitamin C has been studied for its potential role in Alzheimer’s disease and cancer. Lower vitamin C levels are present in people with Alzheimer’s, even with adequate dietary intake.[5] It is thought that oxidative stress plays a major role in the pathogenesis of the disease, so vitamin C’s antioxidative effects could be beneficial.[6][7] In rodent studies, oral vitamin C was able to reduce oxidative and inflammatory biomarkers.[8] In recent cancer research, vitamin C was found to promote oxidative stress in cancer cells, leading to cytotoxic effects at high doses in mice.[9] While promising, further research and human studies are required to determine efficacy.\",\n",
    "    \"Vitamin D is a fat-soluble nutrient. It is one of the 24 micronutrients critical for human survival. The sun is the major natural source through eliciting vitamin D production in the skin, but vitamin D is also found naturally in oily fish and eggs and is added to milk and milk alternatives. Supplemental vitamin D is associated with a range of benefits, including improved immune health, bone health, and well-being. Supplementation may also reduce the risk of cancer mortality, diabetes, and multiple sclerosis.The effects of vitamin D likely depend on a person’s circulating levels of 25-hydroxyvitamin D (25(OH)D; a form of vitamin D that is measured in blood samples to determine vitamin D status), and many of its benefits will only be seen when a deficiency is reversed.\"\n",
    "], columns=['text'])\n",
    "df"
   ]
  },
  {
   "cell_type": "code",
   "execution_count": 14,
   "metadata": {},
   "outputs": [],
   "source": [
    "import sys\n",
    "sys.path.append('../')\n",
    "\n",
    "from ally.skills.generation.summarization import SummarizationSkill\n",
    "\n",
    "\n",
    "summarize_skill = SummarizationSkill(\n",
    "  input_template=\"text to summarize {text}\",\n",
    "  name='summarize_skill',\n",
    ")"
   ]
  },
  {
   "cell_type": "code",
   "execution_count": 15,
   "metadata": {},
   "outputs": [],
   "source": [
    "from ally.runtimes.openai import OpenAIRuntime\n",
    "from app.core.settings import settings\n",
    "\n",
    "openai_runtime = OpenAIRuntime(\n",
    "    verbose=True,\n",
    "    api_key=settings.openai_api_key,\n",
    "    gpt_model_name=\"gpt-3.5-turbo\",\n",
    "    max_tokens=256,\n",
    "  )"
   ]
  },
  {
   "cell_type": "code",
   "execution_count": 16,
   "metadata": {},
   "outputs": [],
   "source": [
    "from ally.agents.base import Agent\n",
    "from ally.environments.base import BasicEnvironment\n",
    "\n",
    "\n",
    "agent = Agent(\n",
    "\tskills=summarize_skill,\n",
    "  runtimes={\n",
    "    'openai': openai_runtime\n",
    "\t},\n",
    "  teacher_runtimes={\n",
    "    'openai': openai_runtime\n",
    "\t},\n",
    "\tenvironment=BasicEnvironment(\n",
    "\t\t\tground_truth_dataset=df,\n",
    "\t\t\tground_truth_columns={'summarize_skill': 'summary'}\n",
    "\t)\n",
    ")"
   ]
  },
  {
   "cell_type": "code",
   "execution_count": 17,
   "metadata": {},
   "outputs": [
    {
     "data": {
      "text/html": [
       "<pre style=\"white-space:pre;overflow-x:auto;line-height:normal;font-family:Menlo,'DejaVu Sans Mono',consolas,'Courier New',monospace\">Applying skill: summarize_skill\n",
       "</pre>\n"
      ],
      "text/plain": [
       "Applying skill: summarize_skill\n"
      ]
     },
     "metadata": {},
     "output_type": "display_data"
    },
    {
     "data": {
      "text/html": [
       "<pre style=\"white-space:pre;overflow-x:auto;line-height:normal;font-family:Menlo,'DejaVu Sans Mono',consolas,'Courier New',monospace\"><span style=\"font-weight: bold\">[</span><span style=\"color: #008000; text-decoration-color: #008000\">'text'</span><span style=\"font-weight: bold\">]</span>\n",
       "</pre>\n"
      ],
      "text/plain": [
       "\u001b[1m[\u001b[0m\u001b[32m'text'\u001b[0m\u001b[1m]\u001b[0m\n"
      ]
     },
     "metadata": {},
     "output_type": "display_data"
    },
    {
     "name": "stderr",
     "output_type": "stream",
     "text": [
      "  0%|          | 0/3 [00:00<?, ?it/s]"
     ]
    },
    {
     "data": {
      "text/html": [
       "<pre style=\"white-space:pre;overflow-x:auto;line-height:normal;font-family:Menlo,'DejaVu Sans Mono',consolas,'Courier New',monospace\"><span style=\"font-weight: bold\">{</span><span style=\"color: #008000; text-decoration-color: #008000\">'text'</span>: <span style=\"color: #008000; text-decoration-color: #008000\">\"Caffeine comes from coffee beans, but it can also be synthesized in a laboratory. It has the same </span>\n",
       "<span style=\"color: #008000; text-decoration-color: #008000\">structure whether it’s in coffee, energy drinks, tea, or pills. Caffeine is a powerful stimulant, and it can be </span>\n",
       "<span style=\"color: #008000; text-decoration-color: #008000\">used to improve physical strength and endurance. It is classified as a nootropic because it sensitizes neurons and </span>\n",
       "<span style=\"color: #008000; text-decoration-color: #008000\">provides mental stimulation. Habitual caffeine use is also associated with a reduced risk of Alzheimer's disease, </span>\n",
       "<span style=\"color: #008000; text-decoration-color: #008000\">cirrhosis, and liver cancer. Caffeine’s main mechanism concerns antagonizing adenosine receptors. Adenosine causes </span>\n",
       "<span style=\"color: #008000; text-decoration-color: #008000\">sedation and relaxation when it acts upon its receptors, located in the brain. Caffeine prevents this action and </span>\n",
       "<span style=\"color: #008000; text-decoration-color: #008000\">causes alertness and wakefulness. This inhibition of adenosine can influence the dopamine, serotonin, </span>\n",
       "<span style=\"color: #008000; text-decoration-color: #008000\">acetylcholine, and adrenaline systems. For practical tips on the optimal use of caffeine, check out our Supplement </span>\n",
       "<span style=\"color: #008000; text-decoration-color: #008000\">Guides.\"</span><span style=\"font-weight: bold\">}</span>\n",
       "</pre>\n"
      ],
      "text/plain": [
       "\u001b[1m{\u001b[0m\u001b[32m'text'\u001b[0m: \u001b[32m\"Caffeine comes from coffee beans, but it can also be synthesized in a laboratory. It has the same \u001b[0m\n",
       "\u001b[32mstructure whether it’s in coffee, energy drinks, tea, or pills. Caffeine is a powerful stimulant, and it can be \u001b[0m\n",
       "\u001b[32mused to improve physical strength and endurance. It is classified as a nootropic because it sensitizes neurons and \u001b[0m\n",
       "\u001b[32mprovides mental stimulation. Habitual caffeine use is also associated with a reduced risk of Alzheimer's disease, \u001b[0m\n",
       "\u001b[32mcirrhosis, and liver cancer. Caffeine’s main mechanism concerns antagonizing adenosine receptors. Adenosine causes \u001b[0m\n",
       "\u001b[32msedation and relaxation when it acts upon its receptors, located in the brain. Caffeine prevents this action and \u001b[0m\n",
       "\u001b[32mcauses alertness and wakefulness. This inhibition of adenosine can influence the dopamine, serotonin, \u001b[0m\n",
       "\u001b[32macetylcholine, and adrenaline systems. For practical tips on the optimal use of caffeine, check out our Supplement \u001b[0m\n",
       "\u001b[32mGuides.\"\u001b[0m\u001b[1m}\u001b[0m\n"
      ]
     },
     "metadata": {},
     "output_type": "display_data"
    },
    {
     "name": "stderr",
     "output_type": "stream",
     "text": [
      " 67%|██████▋   | 2/3 [00:24<00:12, 12.27s/it]"
     ]
    },
    {
     "data": {
      "text/html": [
       "<pre style=\"white-space:pre;overflow-x:auto;line-height:normal;font-family:Menlo,'DejaVu Sans Mono',consolas,'Courier New',monospace\"><span style=\"font-weight: bold\">{</span><span style=\"color: #008000; text-decoration-color: #008000\">'text'</span>: <span style=\"color: #008000; text-decoration-color: #008000\">'Vitamin C is a water-soluble essential vitamin that can be found in fruits and vegetables, especially </span>\n",
       "<span style=\"color: #008000; text-decoration-color: #008000\">citrus. Humans are unable to synthesize vitamin C from their bodies, so it must be acquired through dietary intake.</span>\n",
       "<span style=\"color: #008000; text-decoration-color: #008000\">Vitamin C is important for immune system function and is a powerful antioxidant. It also acts as a cofactor for </span>\n",
       "<span style=\"color: #008000; text-decoration-color: #008000\">collagen synthesis.[2]. People often supplement with vitamin C when they have a cold. According to various studies,</span>\n",
       "<span style=\"color: #008000; text-decoration-color: #008000\">vitamin C may be effective in reducing the duration of a cold, but does not seem to reduce the frequency of colds </span>\n",
       "<span style=\"color: #008000; text-decoration-color: #008000\">in a population.[3][4] The available literature suggests that a dose ranging from 200 mg to 2,000 mg could be </span>\n",
       "<span style=\"color: #008000; text-decoration-color: #008000\">beneficial for reducing cold duration.Often utilized for its antioxidant effects, vitamin C has been studied for </span>\n",
       "<span style=\"color: #008000; text-decoration-color: #008000\">its potential role in Alzheimer’s disease and cancer. Lower vitamin C levels are present in people with </span>\n",
       "<span style=\"color: #008000; text-decoration-color: #008000\">Alzheimer’s, even with adequate dietary intake.[5] It is thought that oxidative stress plays a major role in the </span>\n",
       "<span style=\"color: #008000; text-decoration-color: #008000\">pathogenesis of the disease, so vitamin C’s antioxidative effects could be beneficial.[6][7] In rodent studies, </span>\n",
       "<span style=\"color: #008000; text-decoration-color: #008000\">oral vitamin C was able to reduce oxidative and inflammatory biomarkers.[8] In recent cancer research, vitamin C </span>\n",
       "<span style=\"color: #008000; text-decoration-color: #008000\">was found to promote oxidative stress in cancer cells, leading to cytotoxic effects at high doses in mice.[9] While</span>\n",
       "<span style=\"color: #008000; text-decoration-color: #008000\">promising, further research and human studies are required to determine efficacy.'</span><span style=\"font-weight: bold\">}</span>\n",
       "</pre>\n"
      ],
      "text/plain": [
       "\u001b[1m{\u001b[0m\u001b[32m'text'\u001b[0m: \u001b[32m'Vitamin C is a water-soluble essential vitamin that can be found in fruits and vegetables, especially \u001b[0m\n",
       "\u001b[32mcitrus. Humans are unable to synthesize vitamin C from their bodies, so it must be acquired through dietary intake.\u001b[0m\n",
       "\u001b[32mVitamin C is important for immune system function and is a powerful antioxidant. It also acts as a cofactor for \u001b[0m\n",
       "\u001b[32mcollagen synthesis.\u001b[0m\u001b[32m[\u001b[0m\u001b[32m2\u001b[0m\u001b[32m]\u001b[0m\u001b[32m. People often supplement with vitamin C when they have a cold. According to various studies,\u001b[0m\n",
       "\u001b[32mvitamin C may be effective in reducing the duration of a cold, but does not seem to reduce the frequency of colds \u001b[0m\n",
       "\u001b[32min a population.\u001b[0m\u001b[32m[\u001b[0m\u001b[32m3\u001b[0m\u001b[32m]\u001b[0m\u001b[32m[\u001b[0m\u001b[32m4\u001b[0m\u001b[32m]\u001b[0m\u001b[32m The available literature suggests that a dose ranging from 200 mg to 2,000 mg could be \u001b[0m\n",
       "\u001b[32mbeneficial for reducing cold duration.Often utilized for its antioxidant effects, vitamin C has been studied for \u001b[0m\n",
       "\u001b[32mits potential role in Alzheimer’s disease and cancer. Lower vitamin C levels are present in people with \u001b[0m\n",
       "\u001b[32mAlzheimer’s, even with adequate dietary intake.\u001b[0m\u001b[32m[\u001b[0m\u001b[32m5\u001b[0m\u001b[32m]\u001b[0m\u001b[32m It is thought that oxidative stress plays a major role in the \u001b[0m\n",
       "\u001b[32mpathogenesis of the disease, so vitamin C’s antioxidative effects could be beneficial.\u001b[0m\u001b[32m[\u001b[0m\u001b[32m6\u001b[0m\u001b[32m]\u001b[0m\u001b[32m[\u001b[0m\u001b[32m7\u001b[0m\u001b[32m]\u001b[0m\u001b[32m In rodent studies, \u001b[0m\n",
       "\u001b[32moral vitamin C was able to reduce oxidative and inflammatory biomarkers.\u001b[0m\u001b[32m[\u001b[0m\u001b[32m8\u001b[0m\u001b[32m]\u001b[0m\u001b[32m In recent cancer research, vitamin C \u001b[0m\n",
       "\u001b[32mwas found to promote oxidative stress in cancer cells, leading to cytotoxic effects at high doses in mice.\u001b[0m\u001b[32m[\u001b[0m\u001b[32m9\u001b[0m\u001b[32m]\u001b[0m\u001b[32m While\u001b[0m\n",
       "\u001b[32mpromising, further research and human studies are required to determine efficacy.'\u001b[0m\u001b[1m}\u001b[0m\n"
      ]
     },
     "metadata": {},
     "output_type": "display_data"
    },
    {
     "name": "stderr",
     "output_type": "stream",
     "text": [
      "100%|██████████| 3/3 [00:45<00:00, 15.87s/it]"
     ]
    },
    {
     "data": {
      "text/html": [
       "<pre style=\"white-space:pre;overflow-x:auto;line-height:normal;font-family:Menlo,'DejaVu Sans Mono',consolas,'Courier New',monospace\"><span style=\"font-weight: bold\">{</span><span style=\"color: #008000; text-decoration-color: #008000\">'text'</span>: <span style=\"color: #008000; text-decoration-color: #008000\">'Vitamin D is a fat-soluble nutrient. It is one of the 24 micronutrients critical for human survival. The </span>\n",
       "<span style=\"color: #008000; text-decoration-color: #008000\">sun is the major natural source through eliciting vitamin D production in the skin, but vitamin D is also found </span>\n",
       "<span style=\"color: #008000; text-decoration-color: #008000\">naturally in oily fish and eggs and is added to milk and milk alternatives. Supplemental vitamin D is associated </span>\n",
       "<span style=\"color: #008000; text-decoration-color: #008000\">with a range of benefits, including improved immune health, bone health, and well-being. Supplementation may also </span>\n",
       "<span style=\"color: #008000; text-decoration-color: #008000\">reduce the risk of cancer mortality, diabetes, and multiple sclerosis.The effects of vitamin D likely depend on a </span>\n",
       "<span style=\"color: #008000; text-decoration-color: #008000\">person’s circulating levels of 25-hydroxyvitamin D (25(OH)D; a form of vitamin D that is measured in blood samples </span>\n",
       "<span style=\"color: #008000; text-decoration-color: #008000\">to determine vitamin D status), and many of its benefits will only be seen when a deficiency is reversed.'</span><span style=\"font-weight: bold\">}</span>\n",
       "</pre>\n"
      ],
      "text/plain": [
       "\u001b[1m{\u001b[0m\u001b[32m'text'\u001b[0m: \u001b[32m'Vitamin D is a fat-soluble nutrient. It is one of the 24 micronutrients critical for human survival. The \u001b[0m\n",
       "\u001b[32msun is the major natural source through eliciting vitamin D production in the skin, but vitamin D is also found \u001b[0m\n",
       "\u001b[32mnaturally in oily fish and eggs and is added to milk and milk alternatives. Supplemental vitamin D is associated \u001b[0m\n",
       "\u001b[32mwith a range of benefits, including improved immune health, bone health, and well-being. Supplementation may also \u001b[0m\n",
       "\u001b[32mreduce the risk of cancer mortality, diabetes, and multiple sclerosis.The effects of vitamin D likely depend on a \u001b[0m\n",
       "\u001b[32mperson’s circulating levels of 25-hydroxyvitamin D \u001b[0m\u001b[32m(\u001b[0m\u001b[32m25\u001b[0m\u001b[32m(\u001b[0m\u001b[32mOH\u001b[0m\u001b[32m)\u001b[0m\u001b[32mD; a form of vitamin D that is measured in blood samples \u001b[0m\n",
       "\u001b[32mto determine vitamin D status\u001b[0m\u001b[32m)\u001b[0m\u001b[32m, and many of its benefits will only be seen when a deficiency is reversed.'\u001b[0m\u001b[1m}\u001b[0m\n"
      ]
     },
     "metadata": {},
     "output_type": "display_data"
    },
    {
     "name": "stderr",
     "output_type": "stream",
     "text": [
      "100%|██████████| 3/3 [01:06<00:00, 22.04s/it]\n"
     ]
    },
    {
     "data": {
      "text/html": [
       "<div>\n",
       "<style scoped>\n",
       "    .dataframe tbody tr th:only-of-type {\n",
       "        vertical-align: middle;\n",
       "    }\n",
       "\n",
       "    .dataframe tbody tr th {\n",
       "        vertical-align: top;\n",
       "    }\n",
       "\n",
       "    .dataframe thead th {\n",
       "        text-align: right;\n",
       "    }\n",
       "</style>\n",
       "<table border=\"1\" class=\"dataframe\">\n",
       "  <thead>\n",
       "    <tr style=\"text-align: right;\">\n",
       "      <th></th>\n",
       "      <th>text</th>\n",
       "      <th>summarize_skill</th>\n",
       "    </tr>\n",
       "  </thead>\n",
       "  <tbody>\n",
       "    <tr>\n",
       "      <th>0</th>\n",
       "      <td>Caffeine comes from coffee beans, but it can a...</td>\n",
       "      <td>Caffeine, found in coffee beans and synthesize...</td>\n",
       "    </tr>\n",
       "    <tr>\n",
       "      <th>1</th>\n",
       "      <td>Vitamin C is a water-soluble essential vitamin...</td>\n",
       "      <td>Vitamin C is an essential water-soluble vitami...</td>\n",
       "    </tr>\n",
       "    <tr>\n",
       "      <th>2</th>\n",
       "      <td>Vitamin D is a fat-soluble nutrient. It is one...</td>\n",
       "      <td>Vitamin D is a fat-soluble nutrient that is cr...</td>\n",
       "    </tr>\n",
       "  </tbody>\n",
       "</table>\n",
       "</div>"
      ],
      "text/plain": [
       "                                                text  \\\n",
       "0  Caffeine comes from coffee beans, but it can a...   \n",
       "1  Vitamin C is a water-soluble essential vitamin...   \n",
       "2  Vitamin D is a fat-soluble nutrient. It is one...   \n",
       "\n",
       "                                     summarize_skill  \n",
       "0  Caffeine, found in coffee beans and synthesize...  \n",
       "1  Vitamin C is an essential water-soluble vitami...  \n",
       "2  Vitamin D is a fat-soluble nutrient that is cr...  "
      ]
     },
     "execution_count": 17,
     "metadata": {},
     "output_type": "execute_result"
    }
   ],
   "source": [
    "agent.run(df)"
   ]
  }
 ],
 "metadata": {
  "kernelspec": {
   "display_name": "ally",
   "language": "python",
   "name": "python3"
  },
  "language_info": {
   "codemirror_mode": {
    "name": "ipython",
    "version": 3
   },
   "file_extension": ".py",
   "mimetype": "text/x-python",
   "name": "python",
   "nbconvert_exporter": "python",
   "pygments_lexer": "ipython3",
   "version": "3.11.6"
  }
 },
 "nbformat": 4,
 "nbformat_minor": 2
}
