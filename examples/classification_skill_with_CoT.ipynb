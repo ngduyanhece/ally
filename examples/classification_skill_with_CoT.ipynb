{
 "cells": [
  {
   "cell_type": "markdown",
   "metadata": {},
   "source": [
    "# Classification skill with Chain-of-Thoughts"
   ]
  },
  {
   "cell_type": "code",
   "execution_count": 1,
   "metadata": {},
   "outputs": [],
   "source": [
    "import sys\n",
    "sys.path.append('../')"
   ]
  },
  {
   "cell_type": "code",
   "execution_count": 2,
   "metadata": {},
   "outputs": [
    {
     "data": {
      "text/html": [
       "<div>\n",
       "<style scoped>\n",
       "    .dataframe tbody tr th:only-of-type {\n",
       "        vertical-align: middle;\n",
       "    }\n",
       "\n",
       "    .dataframe tbody tr th {\n",
       "        vertical-align: top;\n",
       "    }\n",
       "\n",
       "    .dataframe thead th {\n",
       "        text-align: right;\n",
       "    }\n",
       "</style>\n",
       "<table border=\"1\" class=\"dataframe\">\n",
       "  <thead>\n",
       "    <tr style=\"text-align: right;\">\n",
       "      <th></th>\n",
       "      <th>text</th>\n",
       "      <th>category</th>\n",
       "    </tr>\n",
       "  </thead>\n",
       "  <tbody>\n",
       "    <tr>\n",
       "      <th>0</th>\n",
       "      <td>Apple product with a sleek design.</td>\n",
       "      <td>Electronics</td>\n",
       "    </tr>\n",
       "    <tr>\n",
       "      <th>1</th>\n",
       "      <td>Laptop stand for the kitchen.</td>\n",
       "      <td>Furniture/Home Decor</td>\n",
       "    </tr>\n",
       "    <tr>\n",
       "      <th>2</th>\n",
       "      <td>Chocolate leather boots.</td>\n",
       "      <td>Footwear/Clothing</td>\n",
       "    </tr>\n",
       "    <tr>\n",
       "      <th>3</th>\n",
       "      <td>Wooden cream for surfaces.</td>\n",
       "      <td>Furniture/Home Decor</td>\n",
       "    </tr>\n",
       "    <tr>\n",
       "      <th>4</th>\n",
       "      <td>Natural finish for your lips.</td>\n",
       "      <td>Beauty/Personal Care</td>\n",
       "    </tr>\n",
       "  </tbody>\n",
       "</table>\n",
       "</div>"
      ],
      "text/plain": [
       "                                 text              category\n",
       "0  Apple product with a sleek design.           Electronics\n",
       "1       Laptop stand for the kitchen.  Furniture/Home Decor\n",
       "2            Chocolate leather boots.     Footwear/Clothing\n",
       "3          Wooden cream for surfaces.  Furniture/Home Decor\n",
       "4       Natural finish for your lips.  Beauty/Personal Care"
      ]
     },
     "execution_count": 2,
     "metadata": {},
     "output_type": "execute_result"
    }
   ],
   "source": [
    "import pandas as pd\n",
    "df = pd.DataFrame([\n",
    "  {\"text\": \"Apple product with a sleek design.\", \"category\": \"Electronics\"},\n",
    "  {\"text\": \"Laptop stand for the kitchen.\", \"category\": \"Furniture/Home Decor\"},\n",
    "  {\"text\": \"Chocolate leather boots.\", \"category\": \"Footwear/Clothing\"},\n",
    "  {\"text\": \"Wooden cream for surfaces.\", \"category\": \"Furniture/Home Decor\"},\n",
    "  {\"text\": \"Natural finish for your lips.\", \"category\": \"Beauty/Personal Care\"}\n",
    "])\n",
    "df"
   ]
  },
  {
   "cell_type": "code",
   "execution_count": 3,
   "metadata": {},
   "outputs": [],
   "source": [
    "from ally.skills.labeling.classification import ClassificationSkillWithCoT\n",
    "\n",
    "\n",
    "classification_skill = ClassificationSkillWithCoT(\n",
    "  name='product_category_classification',\n",
    "  instruction_template=\"\"\"\n",
    "  Label the input text with the following labels:\n",
    "    \"Footwear/Clothing\",\n",
    "    \"Electronics\",\n",
    "    \"Food/Beverages\",\n",
    "    \"Furniture/Home Decor\",\n",
    "    \"Beauty/Personal Care\"'\n",
    "  \"\"\",\n",
    "  input_template=\"input text: {text}\"\n",
    ")"
   ]
  },
  {
   "cell_type": "code",
   "execution_count": 4,
   "metadata": {},
   "outputs": [],
   "source": [
    "from ally.runtimes.openai import OpenAIRuntime\n",
    "from app.core.settings import settings\n",
    "\n",
    "\n",
    "openai_runtime = OpenAIRuntime(\n",
    "    verbose=True,\n",
    "    api_key=settings.openai_api_key,\n",
    "    gpt_model_name=\"gpt-3.5-turbo\",\n",
    "    max_tokens=512,\n",
    "  )"
   ]
  },
  {
   "cell_type": "code",
   "execution_count": 5,
   "metadata": {},
   "outputs": [],
   "source": [
    "from ally.agents.base import Agent\n",
    "from ally.environments.base import BasicEnvironment\n",
    "\n",
    "\n",
    "agent = Agent(\n",
    "\tskills=classification_skill,\n",
    "  runtimes={\n",
    "    'openai': openai_runtime\n",
    "\t},\n",
    "  teacher_runtimes={\n",
    "    'openai': openai_runtime\n",
    "\t},\n",
    "\tenvironment=BasicEnvironment(\n",
    "\t\t\tground_truth_dataset=df,\n",
    "\t\t\tground_truth_columns={'product_category_classification': 'category'}\n",
    "\t)\n",
    ")"
   ]
  },
  {
   "cell_type": "code",
   "execution_count": 6,
   "metadata": {},
   "outputs": [
    {
     "data": {
      "text/html": [
       "<pre style=\"white-space:pre;overflow-x:auto;line-height:normal;font-family:Menlo,'DejaVu Sans Mono',consolas,'Courier New',monospace\">Applying skill: product_category_classification\n",
       "</pre>\n"
      ],
      "text/plain": [
       "Applying skill: product_category_classification\n"
      ]
     },
     "metadata": {},
     "output_type": "display_data"
    },
    {
     "data": {
      "text/html": [
       "<pre style=\"white-space:pre;overflow-x:auto;line-height:normal;font-family:Menlo,'DejaVu Sans Mono',consolas,'Courier New',monospace\"><span style=\"font-weight: bold\">[</span><span style=\"color: #008000; text-decoration-color: #008000\">'text'</span><span style=\"font-weight: bold\">]</span>\n",
       "</pre>\n"
      ],
      "text/plain": [
       "\u001b[1m[\u001b[0m\u001b[32m'text'\u001b[0m\u001b[1m]\u001b[0m\n"
      ]
     },
     "metadata": {},
     "output_type": "display_data"
    },
    {
     "name": "stderr",
     "output_type": "stream",
     "text": [
      "  0%|          | 0/5 [00:00<?, ?it/s]"
     ]
    },
    {
     "data": {
      "text/html": [
       "<pre style=\"white-space:pre;overflow-x:auto;line-height:normal;font-family:Menlo,'DejaVu Sans Mono',consolas,'Courier New',monospace\"><span style=\"font-weight: bold\">{</span><span style=\"color: #008000; text-decoration-color: #008000\">'text'</span>: <span style=\"color: #008000; text-decoration-color: #008000\">'Apple product with a sleek design.'</span>, <span style=\"color: #008000; text-decoration-color: #008000\">'category'</span>: <span style=\"color: #008000; text-decoration-color: #008000\">'Electronics'</span><span style=\"font-weight: bold\">}</span>\n",
       "</pre>\n"
      ],
      "text/plain": [
       "\u001b[1m{\u001b[0m\u001b[32m'text'\u001b[0m: \u001b[32m'Apple product with a sleek design.'\u001b[0m, \u001b[32m'category'\u001b[0m: \u001b[32m'Electronics'\u001b[0m\u001b[1m}\u001b[0m\n"
      ]
     },
     "metadata": {},
     "output_type": "display_data"
    },
    {
     "name": "stderr",
     "output_type": "stream",
     "text": [
      " 40%|████      | 2/5 [00:10<00:15,  5.22s/it]"
     ]
    },
    {
     "data": {
      "text/html": [
       "<pre style=\"white-space:pre;overflow-x:auto;line-height:normal;font-family:Menlo,'DejaVu Sans Mono',consolas,'Courier New',monospace\"><span style=\"font-weight: bold\">{</span><span style=\"color: #008000; text-decoration-color: #008000\">'text'</span>: <span style=\"color: #008000; text-decoration-color: #008000\">'Laptop stand for the kitchen.'</span>, <span style=\"color: #008000; text-decoration-color: #008000\">'category'</span>: <span style=\"color: #008000; text-decoration-color: #008000\">'Furniture/Home Decor'</span><span style=\"font-weight: bold\">}</span>\n",
       "</pre>\n"
      ],
      "text/plain": [
       "\u001b[1m{\u001b[0m\u001b[32m'text'\u001b[0m: \u001b[32m'Laptop stand for the kitchen.'\u001b[0m, \u001b[32m'category'\u001b[0m: \u001b[32m'Furniture/Home Decor'\u001b[0m\u001b[1m}\u001b[0m\n"
      ]
     },
     "metadata": {},
     "output_type": "display_data"
    },
    {
     "name": "stderr",
     "output_type": "stream",
     "text": [
      " 60%|██████    | 3/5 [00:18<00:13,  6.60s/it]"
     ]
    },
    {
     "data": {
      "text/html": [
       "<pre style=\"white-space:pre;overflow-x:auto;line-height:normal;font-family:Menlo,'DejaVu Sans Mono',consolas,'Courier New',monospace\"><span style=\"font-weight: bold\">{</span><span style=\"color: #008000; text-decoration-color: #008000\">'text'</span>: <span style=\"color: #008000; text-decoration-color: #008000\">'Chocolate leather boots.'</span>, <span style=\"color: #008000; text-decoration-color: #008000\">'category'</span>: <span style=\"color: #008000; text-decoration-color: #008000\">'Footwear/Clothing'</span><span style=\"font-weight: bold\">}</span>\n",
       "</pre>\n"
      ],
      "text/plain": [
       "\u001b[1m{\u001b[0m\u001b[32m'text'\u001b[0m: \u001b[32m'Chocolate leather boots.'\u001b[0m, \u001b[32m'category'\u001b[0m: \u001b[32m'Footwear/Clothing'\u001b[0m\u001b[1m}\u001b[0m\n"
      ]
     },
     "metadata": {},
     "output_type": "display_data"
    },
    {
     "name": "stderr",
     "output_type": "stream",
     "text": [
      " 80%|████████  | 4/5 [00:28<00:07,  7.83s/it]"
     ]
    },
    {
     "data": {
      "text/html": [
       "<pre style=\"white-space:pre;overflow-x:auto;line-height:normal;font-family:Menlo,'DejaVu Sans Mono',consolas,'Courier New',monospace\"><span style=\"font-weight: bold\">{</span><span style=\"color: #008000; text-decoration-color: #008000\">'text'</span>: <span style=\"color: #008000; text-decoration-color: #008000\">'Wooden cream for surfaces.'</span>, <span style=\"color: #008000; text-decoration-color: #008000\">'category'</span>: <span style=\"color: #008000; text-decoration-color: #008000\">'Furniture/Home Decor'</span><span style=\"font-weight: bold\">}</span>\n",
       "</pre>\n"
      ],
      "text/plain": [
       "\u001b[1m{\u001b[0m\u001b[32m'text'\u001b[0m: \u001b[32m'Wooden cream for surfaces.'\u001b[0m, \u001b[32m'category'\u001b[0m: \u001b[32m'Furniture/Home Decor'\u001b[0m\u001b[1m}\u001b[0m\n"
      ]
     },
     "metadata": {},
     "output_type": "display_data"
    },
    {
     "name": "stderr",
     "output_type": "stream",
     "text": [
      "100%|██████████| 5/5 [00:36<00:00,  7.65s/it]"
     ]
    },
    {
     "data": {
      "text/html": [
       "<pre style=\"white-space:pre;overflow-x:auto;line-height:normal;font-family:Menlo,'DejaVu Sans Mono',consolas,'Courier New',monospace\"><span style=\"font-weight: bold\">{</span><span style=\"color: #008000; text-decoration-color: #008000\">'text'</span>: <span style=\"color: #008000; text-decoration-color: #008000\">'Natural finish for your lips.'</span>, <span style=\"color: #008000; text-decoration-color: #008000\">'category'</span>: <span style=\"color: #008000; text-decoration-color: #008000\">'Beauty/Personal Care'</span><span style=\"font-weight: bold\">}</span>\n",
       "</pre>\n"
      ],
      "text/plain": [
       "\u001b[1m{\u001b[0m\u001b[32m'text'\u001b[0m: \u001b[32m'Natural finish for your lips.'\u001b[0m, \u001b[32m'category'\u001b[0m: \u001b[32m'Beauty/Personal Care'\u001b[0m\u001b[1m}\u001b[0m\n"
      ]
     },
     "metadata": {},
     "output_type": "display_data"
    },
    {
     "name": "stderr",
     "output_type": "stream",
     "text": [
      "100%|██████████| 5/5 [00:46<00:00,  9.33s/it]\n"
     ]
    },
    {
     "data": {
      "text/html": [
       "<pre style=\"white-space:pre;overflow-x:auto;line-height:normal;font-family:Menlo,'DejaVu Sans Mono',consolas,'Courier New',monospace\">\n",
       "\n",
       "=&gt; Iteration #<span style=\"color: #008080; text-decoration-color: #008080; font-weight: bold\">0</span>: Comparing to ground truth, analyzing and improving <span style=\"color: #808000; text-decoration-color: #808000\">...</span>\n",
       "</pre>\n"
      ],
      "text/plain": [
       "\n",
       "\n",
       "=> Iteration #\u001b[1;36m0\u001b[0m: Comparing to ground truth, analyzing and improving \u001b[33m...\u001b[0m\n"
      ]
     },
     "metadata": {},
     "output_type": "display_data"
    },
    {
     "data": {
      "text/html": [
       "<pre style=\"white-space:pre;overflow-x:auto;line-height:normal;font-family:Menlo,'DejaVu Sans Mono',consolas,'Courier New',monospace\"><span style=\"color: #008080; text-decoration-color: #008080; font-weight: bold\">0</span>             Electronics\n",
       "<span style=\"color: #008080; text-decoration-color: #008080; font-weight: bold\">1</span>    Furniture/Home Decor\n",
       "<span style=\"color: #008080; text-decoration-color: #008080; font-weight: bold\">2</span>       Footwear/Clothing\n",
       "<span style=\"color: #008080; text-decoration-color: #008080; font-weight: bold\">3</span>    Furniture/Home Decor\n",
       "<span style=\"color: #008080; text-decoration-color: #008080; font-weight: bold\">4</span>    Beauty/Personal Care\n",
       "Name: category, dtype: object\n",
       "</pre>\n"
      ],
      "text/plain": [
       "\u001b[1;36m0\u001b[0m             Electronics\n",
       "\u001b[1;36m1\u001b[0m    Furniture/Home Decor\n",
       "\u001b[1;36m2\u001b[0m       Footwear/Clothing\n",
       "\u001b[1;36m3\u001b[0m    Furniture/Home Decor\n",
       "\u001b[1;36m4\u001b[0m    Beauty/Personal Care\n",
       "Name: category, dtype: object\n"
      ]
     },
     "metadata": {},
     "output_type": "display_data"
    },
    {
     "data": {
      "text/html": [
       "<pre style=\"white-space:pre;overflow-x:auto;line-height:normal;font-family:Menlo,'DejaVu Sans Mono',consolas,'Courier New',monospace\"><span style=\"color: #008080; text-decoration-color: #008080; font-weight: bold\">0</span>             Electronics\n",
       "<span style=\"color: #008080; text-decoration-color: #008080; font-weight: bold\">1</span>    Furniture/Home Decor\n",
       "<span style=\"color: #008080; text-decoration-color: #008080; font-weight: bold\">2</span>       Footwear/Clothing\n",
       "<span style=\"color: #008080; text-decoration-color: #008080; font-weight: bold\">3</span>    Furniture/Home Decor\n",
       "<span style=\"color: #008080; text-decoration-color: #008080; font-weight: bold\">4</span>    Beauty/Personal Care\n",
       "Name: product_category_classification, dtype: object\n",
       "</pre>\n"
      ],
      "text/plain": [
       "\u001b[1;36m0\u001b[0m             Electronics\n",
       "\u001b[1;36m1\u001b[0m    Furniture/Home Decor\n",
       "\u001b[1;36m2\u001b[0m       Footwear/Clothing\n",
       "\u001b[1;36m3\u001b[0m    Furniture/Home Decor\n",
       "\u001b[1;36m4\u001b[0m    Beauty/Personal Care\n",
       "Name: product_category_classification, dtype: object\n"
      ]
     },
     "metadata": {},
     "output_type": "display_data"
    },
    {
     "data": {
      "text/html": [
       "<pre style=\"white-space:pre;overflow-x:auto;line-height:normal;font-family:Menlo,'DejaVu Sans Mono',consolas,'Courier New',monospace\"> compare ground truth with predictions\n",
       "</pre>\n"
      ],
      "text/plain": [
       " compare ground truth with predictions\n"
      ]
     },
     "metadata": {},
     "output_type": "display_data"
    },
    {
     "data": {
      "text/html": [
       "<pre style=\"white-space:pre;overflow-x:auto;line-height:normal;font-family:Menlo,'DejaVu Sans Mono',consolas,'Courier New',monospace\">Comparing predictions to ground truth data <span style=\"color: #808000; text-decoration-color: #808000\">...</span>\n",
       "</pre>\n"
      ],
      "text/plain": [
       "Comparing predictions to ground truth data \u001b[33m...\u001b[0m\n"
      ]
     },
     "metadata": {},
     "output_type": "display_data"
    },
    {
     "data": {
      "text/html": [
       "<pre style=\"white-space:pre;overflow-x:auto;line-height:normal;font-family:Menlo,'DejaVu Sans Mono',consolas,'Courier New',monospace\">                                                                                                                   \n",
       " <span style=\"color: #800080; text-decoration-color: #800080; font-weight: bold\"> text                 </span> <span style=\"color: #800080; text-decoration-color: #800080; font-weight: bold\"> category             </span> <span style=\"color: #800080; text-decoration-color: #800080; font-weight: bold\"> product_category_cl… </span> <span style=\"color: #800080; text-decoration-color: #800080; font-weight: bold\"> rationale            </span> <span style=\"color: #800080; text-decoration-color: #800080; font-weight: bold\"> product_category_c… </span> \n",
       " ───────────────────────────────────────────────────────────────────────────────────────────────────────────────── \n",
       "  Apple product with a   Electronics            Electronics            The input text         True                 \n",
       "  sleek design.                                                        mentions an Apple                           \n",
       "                                                                       product, which is                           \n",
       "                                                                       typically associated                        \n",
       "                                                                       with electronics.                           \n",
       "                                                                       Additionally, the                           \n",
       "                                                                       mention of a sleek                          \n",
       "                                                                       design further                              \n",
       "                                                                       supports the                                \n",
       "                                                                       prediction of an                            \n",
       "                                                                       electronic device.                          \n",
       " <span style=\"color: #7f7f7f; text-decoration-color: #7f7f7f\"> Laptop stand for the </span> <span style=\"color: #7f7f7f; text-decoration-color: #7f7f7f\"> Furniture/Home Decor </span> <span style=\"color: #7f7f7f; text-decoration-color: #7f7f7f\"> Furniture/Home Decor </span> <span style=\"color: #7f7f7f; text-decoration-color: #7f7f7f\"> The input text       </span> <span style=\"color: #7f7f7f; text-decoration-color: #7f7f7f\"> True                </span> \n",
       " <span style=\"color: #7f7f7f; text-decoration-color: #7f7f7f\"> kitchen.             </span> <span style=\"color: #7f7f7f; text-decoration-color: #7f7f7f\">                      </span> <span style=\"color: #7f7f7f; text-decoration-color: #7f7f7f\">                      </span> <span style=\"color: #7f7f7f; text-decoration-color: #7f7f7f\"> mentions a laptop    </span> <span style=\"color: #7f7f7f; text-decoration-color: #7f7f7f\">                     </span> \n",
       " <span style=\"color: #7f7f7f; text-decoration-color: #7f7f7f\">                      </span> <span style=\"color: #7f7f7f; text-decoration-color: #7f7f7f\">                      </span> <span style=\"color: #7f7f7f; text-decoration-color: #7f7f7f\">                      </span> <span style=\"color: #7f7f7f; text-decoration-color: #7f7f7f\"> stand for the        </span> <span style=\"color: #7f7f7f; text-decoration-color: #7f7f7f\">                     </span> \n",
       " <span style=\"color: #7f7f7f; text-decoration-color: #7f7f7f\">                      </span> <span style=\"color: #7f7f7f; text-decoration-color: #7f7f7f\">                      </span> <span style=\"color: #7f7f7f; text-decoration-color: #7f7f7f\">                      </span> <span style=\"color: #7f7f7f; text-decoration-color: #7f7f7f\"> kitchen, which       </span> <span style=\"color: #7f7f7f; text-decoration-color: #7f7f7f\">                     </span> \n",
       " <span style=\"color: #7f7f7f; text-decoration-color: #7f7f7f\">                      </span> <span style=\"color: #7f7f7f; text-decoration-color: #7f7f7f\">                      </span> <span style=\"color: #7f7f7f; text-decoration-color: #7f7f7f\">                      </span> <span style=\"color: #7f7f7f; text-decoration-color: #7f7f7f\"> suggests a           </span> <span style=\"color: #7f7f7f; text-decoration-color: #7f7f7f\">                     </span> \n",
       " <span style=\"color: #7f7f7f; text-decoration-color: #7f7f7f\">                      </span> <span style=\"color: #7f7f7f; text-decoration-color: #7f7f7f\">                      </span> <span style=\"color: #7f7f7f; text-decoration-color: #7f7f7f\">                      </span> <span style=\"color: #7f7f7f; text-decoration-color: #7f7f7f\"> furniture/home decor </span> <span style=\"color: #7f7f7f; text-decoration-color: #7f7f7f\">                     </span> \n",
       " <span style=\"color: #7f7f7f; text-decoration-color: #7f7f7f\">                      </span> <span style=\"color: #7f7f7f; text-decoration-color: #7f7f7f\">                      </span> <span style=\"color: #7f7f7f; text-decoration-color: #7f7f7f\">                      </span> <span style=\"color: #7f7f7f; text-decoration-color: #7f7f7f\"> item.                </span> <span style=\"color: #7f7f7f; text-decoration-color: #7f7f7f\">                     </span> \n",
       "  Chocolate leather      Footwear/Clothing      Footwear/Clothing      The input text         True                 \n",
       "  boots.                                                               'Chocolate leather                          \n",
       "                                                                       boots' is most                              \n",
       "                                                                       likely related to                           \n",
       "                                                                       footwear or                                 \n",
       "                                                                       clothing,                                   \n",
       "                                                                       specifically boots                          \n",
       "                                                                       made of                                     \n",
       "                                                                       chocolate-colored                           \n",
       "                                                                       leather.                                    \n",
       " <span style=\"color: #7f7f7f; text-decoration-color: #7f7f7f\"> Wooden cream for     </span> <span style=\"color: #7f7f7f; text-decoration-color: #7f7f7f\"> Furniture/Home Decor </span> <span style=\"color: #7f7f7f; text-decoration-color: #7f7f7f\"> Furniture/Home Decor </span> <span style=\"color: #7f7f7f; text-decoration-color: #7f7f7f\"> The input text       </span> <span style=\"color: #7f7f7f; text-decoration-color: #7f7f7f\"> True                </span> \n",
       " <span style=\"color: #7f7f7f; text-decoration-color: #7f7f7f\"> surfaces.            </span> <span style=\"color: #7f7f7f; text-decoration-color: #7f7f7f\">                      </span> <span style=\"color: #7f7f7f; text-decoration-color: #7f7f7f\">                      </span> <span style=\"color: #7f7f7f; text-decoration-color: #7f7f7f\"> mentions a wooden    </span> <span style=\"color: #7f7f7f; text-decoration-color: #7f7f7f\">                     </span> \n",
       " <span style=\"color: #7f7f7f; text-decoration-color: #7f7f7f\">                      </span> <span style=\"color: #7f7f7f; text-decoration-color: #7f7f7f\">                      </span> <span style=\"color: #7f7f7f; text-decoration-color: #7f7f7f\">                      </span> <span style=\"color: #7f7f7f; text-decoration-color: #7f7f7f\"> cream for surfaces,  </span> <span style=\"color: #7f7f7f; text-decoration-color: #7f7f7f\">                     </span> \n",
       " <span style=\"color: #7f7f7f; text-decoration-color: #7f7f7f\">                      </span> <span style=\"color: #7f7f7f; text-decoration-color: #7f7f7f\">                      </span> <span style=\"color: #7f7f7f; text-decoration-color: #7f7f7f\">                      </span> <span style=\"color: #7f7f7f; text-decoration-color: #7f7f7f\"> which suggests it is </span> <span style=\"color: #7f7f7f; text-decoration-color: #7f7f7f\">                     </span> \n",
       " <span style=\"color: #7f7f7f; text-decoration-color: #7f7f7f\">                      </span> <span style=\"color: #7f7f7f; text-decoration-color: #7f7f7f\">                      </span> <span style=\"color: #7f7f7f; text-decoration-color: #7f7f7f\">                      </span> <span style=\"color: #7f7f7f; text-decoration-color: #7f7f7f\"> related to furniture </span> <span style=\"color: #7f7f7f; text-decoration-color: #7f7f7f\">                     </span> \n",
       " <span style=\"color: #7f7f7f; text-decoration-color: #7f7f7f\">                      </span> <span style=\"color: #7f7f7f; text-decoration-color: #7f7f7f\">                      </span> <span style=\"color: #7f7f7f; text-decoration-color: #7f7f7f\">                      </span> <span style=\"color: #7f7f7f; text-decoration-color: #7f7f7f\"> or home decor.       </span> <span style=\"color: #7f7f7f; text-decoration-color: #7f7f7f\">                     </span> \n",
       "  Natural finish for     Beauty/Personal Care   Beauty/Personal Care   The input text         True                 \n",
       "  your lips.                                                           mentions a natural                          \n",
       "                                                                       finish for lips,                            \n",
       "                                                                       which is a                                  \n",
       "                                                                       characteristic of                           \n",
       "                                                                       beauty/personal care                        \n",
       "                                                                       products.                                   \n",
       "                                                                                                                   \n",
       "</pre>\n"
      ],
      "text/plain": [
       "                                                                                                                   \n",
       " \u001b[1;35m \u001b[0m\u001b[1;35mtext                \u001b[0m\u001b[1;35m \u001b[0m \u001b[1;35m \u001b[0m\u001b[1;35mcategory            \u001b[0m\u001b[1;35m \u001b[0m \u001b[1;35m \u001b[0m\u001b[1;35mproduct_category_cl…\u001b[0m\u001b[1;35m \u001b[0m \u001b[1;35m \u001b[0m\u001b[1;35mrationale           \u001b[0m\u001b[1;35m \u001b[0m \u001b[1;35m \u001b[0m\u001b[1;35mproduct_category_c…\u001b[0m\u001b[1;35m \u001b[0m \n",
       " ───────────────────────────────────────────────────────────────────────────────────────────────────────────────── \n",
       "  Apple product with a   Electronics            Electronics            The input text         True                 \n",
       "  sleek design.                                                        mentions an Apple                           \n",
       "                                                                       product, which is                           \n",
       "                                                                       typically associated                        \n",
       "                                                                       with electronics.                           \n",
       "                                                                       Additionally, the                           \n",
       "                                                                       mention of a sleek                          \n",
       "                                                                       design further                              \n",
       "                                                                       supports the                                \n",
       "                                                                       prediction of an                            \n",
       "                                                                       electronic device.                          \n",
       " \u001b[2m \u001b[0m\u001b[2mLaptop stand for the\u001b[0m\u001b[2m \u001b[0m \u001b[2m \u001b[0m\u001b[2mFurniture/Home Decor\u001b[0m\u001b[2m \u001b[0m \u001b[2m \u001b[0m\u001b[2mFurniture/Home Decor\u001b[0m\u001b[2m \u001b[0m \u001b[2m \u001b[0m\u001b[2mThe input text      \u001b[0m\u001b[2m \u001b[0m \u001b[2m \u001b[0m\u001b[2mTrue               \u001b[0m\u001b[2m \u001b[0m \n",
       " \u001b[2m \u001b[0m\u001b[2mkitchen.            \u001b[0m\u001b[2m \u001b[0m \u001b[2m                      \u001b[0m \u001b[2m                      \u001b[0m \u001b[2m \u001b[0m\u001b[2mmentions a laptop   \u001b[0m\u001b[2m \u001b[0m \u001b[2m                     \u001b[0m \n",
       " \u001b[2m                      \u001b[0m \u001b[2m                      \u001b[0m \u001b[2m                      \u001b[0m \u001b[2m \u001b[0m\u001b[2mstand for the       \u001b[0m\u001b[2m \u001b[0m \u001b[2m                     \u001b[0m \n",
       " \u001b[2m                      \u001b[0m \u001b[2m                      \u001b[0m \u001b[2m                      \u001b[0m \u001b[2m \u001b[0m\u001b[2mkitchen, which      \u001b[0m\u001b[2m \u001b[0m \u001b[2m                     \u001b[0m \n",
       " \u001b[2m                      \u001b[0m \u001b[2m                      \u001b[0m \u001b[2m                      \u001b[0m \u001b[2m \u001b[0m\u001b[2msuggests a          \u001b[0m\u001b[2m \u001b[0m \u001b[2m                     \u001b[0m \n",
       " \u001b[2m                      \u001b[0m \u001b[2m                      \u001b[0m \u001b[2m                      \u001b[0m \u001b[2m \u001b[0m\u001b[2mfurniture/home decor\u001b[0m\u001b[2m \u001b[0m \u001b[2m                     \u001b[0m \n",
       " \u001b[2m                      \u001b[0m \u001b[2m                      \u001b[0m \u001b[2m                      \u001b[0m \u001b[2m \u001b[0m\u001b[2mitem.               \u001b[0m\u001b[2m \u001b[0m \u001b[2m                     \u001b[0m \n",
       "  Chocolate leather      Footwear/Clothing      Footwear/Clothing      The input text         True                 \n",
       "  boots.                                                               'Chocolate leather                          \n",
       "                                                                       boots' is most                              \n",
       "                                                                       likely related to                           \n",
       "                                                                       footwear or                                 \n",
       "                                                                       clothing,                                   \n",
       "                                                                       specifically boots                          \n",
       "                                                                       made of                                     \n",
       "                                                                       chocolate-colored                           \n",
       "                                                                       leather.                                    \n",
       " \u001b[2m \u001b[0m\u001b[2mWooden cream for    \u001b[0m\u001b[2m \u001b[0m \u001b[2m \u001b[0m\u001b[2mFurniture/Home Decor\u001b[0m\u001b[2m \u001b[0m \u001b[2m \u001b[0m\u001b[2mFurniture/Home Decor\u001b[0m\u001b[2m \u001b[0m \u001b[2m \u001b[0m\u001b[2mThe input text      \u001b[0m\u001b[2m \u001b[0m \u001b[2m \u001b[0m\u001b[2mTrue               \u001b[0m\u001b[2m \u001b[0m \n",
       " \u001b[2m \u001b[0m\u001b[2msurfaces.           \u001b[0m\u001b[2m \u001b[0m \u001b[2m                      \u001b[0m \u001b[2m                      \u001b[0m \u001b[2m \u001b[0m\u001b[2mmentions a wooden   \u001b[0m\u001b[2m \u001b[0m \u001b[2m                     \u001b[0m \n",
       " \u001b[2m                      \u001b[0m \u001b[2m                      \u001b[0m \u001b[2m                      \u001b[0m \u001b[2m \u001b[0m\u001b[2mcream for surfaces, \u001b[0m\u001b[2m \u001b[0m \u001b[2m                     \u001b[0m \n",
       " \u001b[2m                      \u001b[0m \u001b[2m                      \u001b[0m \u001b[2m                      \u001b[0m \u001b[2m \u001b[0m\u001b[2mwhich suggests it is\u001b[0m\u001b[2m \u001b[0m \u001b[2m                     \u001b[0m \n",
       " \u001b[2m                      \u001b[0m \u001b[2m                      \u001b[0m \u001b[2m                      \u001b[0m \u001b[2m \u001b[0m\u001b[2mrelated to furniture\u001b[0m\u001b[2m \u001b[0m \u001b[2m                     \u001b[0m \n",
       " \u001b[2m                      \u001b[0m \u001b[2m                      \u001b[0m \u001b[2m                      \u001b[0m \u001b[2m \u001b[0m\u001b[2mor home decor.      \u001b[0m\u001b[2m \u001b[0m \u001b[2m                     \u001b[0m \n",
       "  Natural finish for     Beauty/Personal Care   Beauty/Personal Care   The input text         True                 \n",
       "  your lips.                                                           mentions a natural                          \n",
       "                                                                       finish for lips,                            \n",
       "                                                                       which is a                                  \n",
       "                                                                       characteristic of                           \n",
       "                                                                       beauty/personal care                        \n",
       "                                                                       products.                                   \n",
       "                                                                                                                   \n"
      ]
     },
     "metadata": {},
     "output_type": "display_data"
    },
    {
     "data": {
      "text/html": [
       "<pre style=\"white-space:pre;overflow-x:auto;line-height:normal;font-family:Menlo,'DejaVu Sans Mono',consolas,'Courier New',monospace\">No skill to improve found. Stopping learning process.\n",
       "</pre>\n"
      ],
      "text/plain": [
       "No skill to improve found. Stopping learning process.\n"
      ]
     },
     "metadata": {},
     "output_type": "display_data"
    },
    {
     "data": {
      "text/html": [
       "<pre style=\"white-space:pre;overflow-x:auto;line-height:normal;font-family:Menlo,'DejaVu Sans Mono',consolas,'Courier New',monospace\">Train is done!\n",
       "</pre>\n"
      ],
      "text/plain": [
       "Train is done!\n"
      ]
     },
     "metadata": {},
     "output_type": "display_data"
    },
    {
     "data": {
      "text/plain": [
       "GroundTruthSignal(match=   product_category_classification\n",
       "0                             True\n",
       "1                             True\n",
       "2                             True\n",
       "3                             True\n",
       "4                             True, errors={'product_category_classification': Empty DataFrame\n",
       "Columns: [predictions, category]\n",
       "Index: []})"
      ]
     },
     "execution_count": 6,
     "metadata": {},
     "output_type": "execute_result"
    }
   ],
   "source": [
    "agent.learn()"
   ]
  }
 ],
 "metadata": {
  "kernelspec": {
   "display_name": "ally",
   "language": "python",
   "name": "python3"
  },
  "language_info": {
   "codemirror_mode": {
    "name": "ipython",
    "version": 3
   },
   "file_extension": ".py",
   "mimetype": "text/x-python",
   "name": "python",
   "nbconvert_exporter": "python",
   "pygments_lexer": "ipython3",
   "version": "3.11.6"
  }
 },
 "nbformat": 4,
 "nbformat_minor": 2
}
