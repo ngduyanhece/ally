{
 "cells": [
  {
   "cell_type": "code",
   "execution_count": 1,
   "metadata": {},
   "outputs": [
    {
     "data": {
      "text/html": [
       "<div>\n",
       "<style scoped>\n",
       "    .dataframe tbody tr th:only-of-type {\n",
       "        vertical-align: middle;\n",
       "    }\n",
       "\n",
       "    .dataframe tbody tr th {\n",
       "        vertical-align: top;\n",
       "    }\n",
       "\n",
       "    .dataframe thead th {\n",
       "        text-align: right;\n",
       "    }\n",
       "</style>\n",
       "<table border=\"1\" class=\"dataframe\">\n",
       "  <thead>\n",
       "    <tr style=\"text-align: right;\">\n",
       "      <th></th>\n",
       "      <th>question</th>\n",
       "      <th>expected_answer</th>\n",
       "    </tr>\n",
       "  </thead>\n",
       "  <tbody>\n",
       "    <tr>\n",
       "      <th>0</th>\n",
       "      <td>In quantum mechanics, what principle asserts t...</td>\n",
       "      <td>Heisenberg Uncertainty Principle</td>\n",
       "    </tr>\n",
       "    <tr>\n",
       "      <th>1</th>\n",
       "      <td>Which famous poet wrote 'The Love Song of J. A...</td>\n",
       "      <td>T.S. Eliot</td>\n",
       "    </tr>\n",
       "    <tr>\n",
       "      <th>2</th>\n",
       "      <td>What mathematical theorem states that in any r...</td>\n",
       "      <td>Pythagorean Theorem</td>\n",
       "    </tr>\n",
       "    <tr>\n",
       "      <th>3</th>\n",
       "      <td>Which philosophical paradox involves a ship wh...</td>\n",
       "      <td>Ship of Theseus</td>\n",
       "    </tr>\n",
       "  </tbody>\n",
       "</table>\n",
       "</div>"
      ],
      "text/plain": [
       "                                            question  \\\n",
       "0  In quantum mechanics, what principle asserts t...   \n",
       "1  Which famous poet wrote 'The Love Song of J. A...   \n",
       "2  What mathematical theorem states that in any r...   \n",
       "3  Which philosophical paradox involves a ship wh...   \n",
       "\n",
       "                    expected_answer  \n",
       "0  Heisenberg Uncertainty Principle  \n",
       "1                        T.S. Eliot  \n",
       "2               Pythagorean Theorem  \n",
       "3                   Ship of Theseus  "
      ]
     },
     "execution_count": 1,
     "metadata": {},
     "output_type": "execute_result"
    }
   ],
   "source": [
    "import sys\n",
    "sys.path.append('../')\n",
    "import pandas as pd\n",
    "df = pd.DataFrame([\n",
    "  {\"question\": \"In quantum mechanics, what principle asserts that it's impossible to simultaneously know the exact position and momentum of a particle?\", \"expected_answer\": \"Heisenberg Uncertainty Principle\"},\n",
    "  {\"question\": \"Which famous poet wrote 'The Love Song of J. Alfred Prufrock'?\", \"expected_answer\": \"T.S. Eliot\"},\n",
    "  {\"question\": \"What mathematical theorem states that in any right-angled triangle, the area of the square whose side is the hypotenuse is equal to the sum of the areas of the squares whose sides are the two legs?\", \"expected_answer\": \"Pythagorean Theorem\"},\n",
    "  {\"question\": \"Which philosophical paradox involves a ship where all of its wooden parts are replaced with metal parts?\", \"expected_answer\": \"Ship of Theseus\"},\n",
    "])\n",
    "df"
   ]
  },
  {
   "cell_type": "code",
   "execution_count": 2,
   "metadata": {},
   "outputs": [],
   "source": [
    "from ally.skills.generation.qa import QuestionAnsweringSkill\n",
    "\n",
    "qa_skill = QuestionAnsweringSkill(\n",
    "  input_template=\"Question: {question}\",\n",
    "  name='qa_skill',\n",
    ")"
   ]
  },
  {
   "cell_type": "code",
   "execution_count": 3,
   "metadata": {},
   "outputs": [],
   "source": [
    "from ally.runtimes.openai import OpenAIRuntime\n",
    "from app.core.settings import settings\n",
    "\n",
    "openai_runtime = OpenAIRuntime(\n",
    "    verbose=True,\n",
    "    api_key=settings.openai_api_key,\n",
    "    gpt_model_name=\"gpt-3.5-turbo\",\n",
    "    max_tokens=256,\n",
    "  )"
   ]
  },
  {
   "cell_type": "code",
   "execution_count": 4,
   "metadata": {},
   "outputs": [],
   "source": [
    "from ally.agents.base import Agent\n",
    "from ally.environments.base import BasicEnvironment\n",
    "\n",
    "\n",
    "agent = Agent(\n",
    "\tskills=qa_skill,\n",
    "  runtimes={\n",
    "    'openai': openai_runtime\n",
    "\t},\n",
    "  teacher_runtimes={\n",
    "    'openai': openai_runtime\n",
    "\t},\n",
    "\tenvironment=BasicEnvironment(\n",
    "\t\t\tground_truth_dataset=df,\n",
    "\t\t\tground_truth_columns={'qa_skill': 'expected_answer'}\n",
    "\t)\n",
    ")"
   ]
  },
  {
   "cell_type": "code",
   "execution_count": 5,
   "metadata": {},
   "outputs": [
    {
     "data": {
      "text/html": [
       "<pre style=\"white-space:pre;overflow-x:auto;line-height:normal;font-family:Menlo,'DejaVu Sans Mono',consolas,'Courier New',monospace\">Applying skill: qa_skill\n",
       "</pre>\n"
      ],
      "text/plain": [
       "Applying skill: qa_skill\n"
      ]
     },
     "metadata": {},
     "output_type": "display_data"
    },
    {
     "data": {
      "text/html": [
       "<pre style=\"white-space:pre;overflow-x:auto;line-height:normal;font-family:Menlo,'DejaVu Sans Mono',consolas,'Courier New',monospace\"><span style=\"font-weight: bold\">[</span><span style=\"color: #008000; text-decoration-color: #008000\">'question'</span><span style=\"font-weight: bold\">]</span>\n",
       "</pre>\n"
      ],
      "text/plain": [
       "\u001b[1m[\u001b[0m\u001b[32m'question'\u001b[0m\u001b[1m]\u001b[0m\n"
      ]
     },
     "metadata": {},
     "output_type": "display_data"
    },
    {
     "name": "stderr",
     "output_type": "stream",
     "text": [
      "  0%|          | 0/4 [00:00<?, ?it/s]"
     ]
    },
    {
     "data": {
      "text/html": [
       "<pre style=\"white-space:pre;overflow-x:auto;line-height:normal;font-family:Menlo,'DejaVu Sans Mono',consolas,'Courier New',monospace\"><span style=\"font-weight: bold\">{</span><span style=\"color: #008000; text-decoration-color: #008000\">'question'</span>: <span style=\"color: #008000; text-decoration-color: #008000\">\"In quantum mechanics, what principle asserts that it's impossible to simultaneously know the exact </span>\n",
       "<span style=\"color: #008000; text-decoration-color: #008000\">position and momentum of a particle?\"</span>, <span style=\"color: #008000; text-decoration-color: #008000\">'expected_answer'</span>: <span style=\"color: #008000; text-decoration-color: #008000\">'Heisenberg Uncertainty Principle'</span><span style=\"font-weight: bold\">}</span>\n",
       "</pre>\n"
      ],
      "text/plain": [
       "\u001b[1m{\u001b[0m\u001b[32m'question'\u001b[0m: \u001b[32m\"In quantum mechanics, what principle asserts that it's impossible to simultaneously know the exact \u001b[0m\n",
       "\u001b[32mposition and momentum of a particle?\"\u001b[0m, \u001b[32m'expected_answer'\u001b[0m: \u001b[32m'Heisenberg Uncertainty Principle'\u001b[0m\u001b[1m}\u001b[0m\n"
      ]
     },
     "metadata": {},
     "output_type": "display_data"
    },
    {
     "name": "stderr",
     "output_type": "stream",
     "text": [
      " 50%|█████     | 2/4 [00:05<00:05,  2.69s/it]"
     ]
    },
    {
     "data": {
      "text/html": [
       "<pre style=\"white-space:pre;overflow-x:auto;line-height:normal;font-family:Menlo,'DejaVu Sans Mono',consolas,'Courier New',monospace\"><span style=\"font-weight: bold\">{</span><span style=\"color: #008000; text-decoration-color: #008000\">'question'</span>: <span style=\"color: #008000; text-decoration-color: #008000\">\"Which famous poet wrote 'The Love Song of J. Alfred Prufrock'?\"</span>, <span style=\"color: #008000; text-decoration-color: #008000\">'expected_answer'</span>: <span style=\"color: #008000; text-decoration-color: #008000\">'T.S. Eliot'</span><span style=\"font-weight: bold\">}</span>\n",
       "</pre>\n"
      ],
      "text/plain": [
       "\u001b[1m{\u001b[0m\u001b[32m'question'\u001b[0m: \u001b[32m\"Which famous poet wrote 'The Love Song of J. Alfred Prufrock'?\"\u001b[0m, \u001b[32m'expected_answer'\u001b[0m: \u001b[32m'T.S. Eliot'\u001b[0m\u001b[1m}\u001b[0m\n"
      ]
     },
     "metadata": {},
     "output_type": "display_data"
    },
    {
     "name": "stderr",
     "output_type": "stream",
     "text": [
      " 75%|███████▌  | 3/4 [00:08<00:03,  3.02s/it]"
     ]
    },
    {
     "data": {
      "text/html": [
       "<pre style=\"white-space:pre;overflow-x:auto;line-height:normal;font-family:Menlo,'DejaVu Sans Mono',consolas,'Courier New',monospace\"><span style=\"font-weight: bold\">{</span><span style=\"color: #008000; text-decoration-color: #008000\">'question'</span>: <span style=\"color: #008000; text-decoration-color: #008000\">'What mathematical theorem states that in any right-angled triangle, the area of the square whose side</span>\n",
       "<span style=\"color: #008000; text-decoration-color: #008000\">is the hypotenuse is equal to the sum of the areas of the squares whose sides are the two legs?'</span>, \n",
       "<span style=\"color: #008000; text-decoration-color: #008000\">'expected_answer'</span>: <span style=\"color: #008000; text-decoration-color: #008000\">'Pythagorean Theorem'</span><span style=\"font-weight: bold\">}</span>\n",
       "</pre>\n"
      ],
      "text/plain": [
       "\u001b[1m{\u001b[0m\u001b[32m'question'\u001b[0m: \u001b[32m'What mathematical theorem states that in any right-angled triangle, the area of the square whose side\u001b[0m\n",
       "\u001b[32mis the hypotenuse is equal to the sum of the areas of the squares whose sides are the two legs?'\u001b[0m, \n",
       "\u001b[32m'expected_answer'\u001b[0m: \u001b[32m'Pythagorean Theorem'\u001b[0m\u001b[1m}\u001b[0m\n"
      ]
     },
     "metadata": {},
     "output_type": "display_data"
    },
    {
     "name": "stderr",
     "output_type": "stream",
     "text": [
      "100%|██████████| 4/4 [00:12<00:00,  3.38s/it]"
     ]
    },
    {
     "data": {
      "text/html": [
       "<pre style=\"white-space:pre;overflow-x:auto;line-height:normal;font-family:Menlo,'DejaVu Sans Mono',consolas,'Courier New',monospace\"><span style=\"font-weight: bold\">{</span><span style=\"color: #008000; text-decoration-color: #008000\">'question'</span>: <span style=\"color: #008000; text-decoration-color: #008000\">'Which philosophical paradox involves a ship where all of its wooden parts are replaced with metal </span>\n",
       "<span style=\"color: #008000; text-decoration-color: #008000\">parts?'</span>, <span style=\"color: #008000; text-decoration-color: #008000\">'expected_answer'</span>: <span style=\"color: #008000; text-decoration-color: #008000\">'Ship of Theseus'</span><span style=\"font-weight: bold\">}</span>\n",
       "</pre>\n"
      ],
      "text/plain": [
       "\u001b[1m{\u001b[0m\u001b[32m'question'\u001b[0m: \u001b[32m'Which philosophical paradox involves a ship where all of its wooden parts are replaced with metal \u001b[0m\n",
       "\u001b[32mparts?'\u001b[0m, \u001b[32m'expected_answer'\u001b[0m: \u001b[32m'Ship of Theseus'\u001b[0m\u001b[1m}\u001b[0m\n"
      ]
     },
     "metadata": {},
     "output_type": "display_data"
    },
    {
     "name": "stderr",
     "output_type": "stream",
     "text": [
      "100%|██████████| 4/4 [00:23<00:00,  5.85s/it]\n"
     ]
    },
    {
     "data": {
      "text/html": [
       "<pre style=\"white-space:pre;overflow-x:auto;line-height:normal;font-family:Menlo,'DejaVu Sans Mono',consolas,'Courier New',monospace\">\n",
       "\n",
       "=&gt; Iteration #<span style=\"color: #008080; text-decoration-color: #008080; font-weight: bold\">0</span>: Comparing to ground truth, analyzing and improving <span style=\"color: #808000; text-decoration-color: #808000\">...</span>\n",
       "</pre>\n"
      ],
      "text/plain": [
       "\n",
       "\n",
       "=> Iteration #\u001b[1;36m0\u001b[0m: Comparing to ground truth, analyzing and improving \u001b[33m...\u001b[0m\n"
      ]
     },
     "metadata": {},
     "output_type": "display_data"
    },
    {
     "data": {
      "text/html": [
       "<pre style=\"white-space:pre;overflow-x:auto;line-height:normal;font-family:Menlo,'DejaVu Sans Mono',consolas,'Courier New',monospace\"><span style=\"color: #008080; text-decoration-color: #008080; font-weight: bold\">0</span>    Heisenberg Uncertainty Principle\n",
       "<span style=\"color: #008080; text-decoration-color: #008080; font-weight: bold\">1</span>                          T.S. Eliot\n",
       "<span style=\"color: #008080; text-decoration-color: #008080; font-weight: bold\">2</span>                 Pythagorean Theorem\n",
       "<span style=\"color: #008080; text-decoration-color: #008080; font-weight: bold\">3</span>                     Ship of Theseus\n",
       "Name: expected_answer, dtype: object\n",
       "</pre>\n"
      ],
      "text/plain": [
       "\u001b[1;36m0\u001b[0m    Heisenberg Uncertainty Principle\n",
       "\u001b[1;36m1\u001b[0m                          T.S. Eliot\n",
       "\u001b[1;36m2\u001b[0m                 Pythagorean Theorem\n",
       "\u001b[1;36m3\u001b[0m                     Ship of Theseus\n",
       "Name: expected_answer, dtype: object\n"
      ]
     },
     "metadata": {},
     "output_type": "display_data"
    },
    {
     "data": {
      "text/html": [
       "<pre style=\"white-space:pre;overflow-x:auto;line-height:normal;font-family:Menlo,'DejaVu Sans Mono',consolas,'Courier New',monospace\"><span style=\"color: #008080; text-decoration-color: #008080; font-weight: bold\">0</span>    The Heisenberg uncertainty principle asserts t<span style=\"color: #808000; text-decoration-color: #808000\">...</span>\n",
       "<span style=\"color: #008080; text-decoration-color: #008080; font-weight: bold\">1</span>                                           T.S. Eliot\n",
       "<span style=\"color: #008080; text-decoration-color: #008080; font-weight: bold\">2</span>    The mathematical theorem that states this is c<span style=\"color: #808000; text-decoration-color: #808000\">...</span>\n",
       "<span style=\"color: #008080; text-decoration-color: #008080; font-weight: bold\">3</span>    The philosophical paradox you are referring to<span style=\"color: #808000; text-decoration-color: #808000\">...</span>\n",
       "Name: qa_skill, dtype: object\n",
       "</pre>\n"
      ],
      "text/plain": [
       "\u001b[1;36m0\u001b[0m    The Heisenberg uncertainty principle asserts t\u001b[33m...\u001b[0m\n",
       "\u001b[1;36m1\u001b[0m                                           T.S. Eliot\n",
       "\u001b[1;36m2\u001b[0m    The mathematical theorem that states this is c\u001b[33m...\u001b[0m\n",
       "\u001b[1;36m3\u001b[0m    The philosophical paradox you are referring to\u001b[33m...\u001b[0m\n",
       "Name: qa_skill, dtype: object\n"
      ]
     },
     "metadata": {},
     "output_type": "display_data"
    },
    {
     "data": {
      "text/html": [
       "<pre style=\"white-space:pre;overflow-x:auto;line-height:normal;font-family:Menlo,'DejaVu Sans Mono',consolas,'Courier New',monospace\"> compare ground truth with predictions\n",
       "</pre>\n"
      ],
      "text/plain": [
       " compare ground truth with predictions\n"
      ]
     },
     "metadata": {},
     "output_type": "display_data"
    },
    {
     "data": {
      "text/html": [
       "<pre style=\"white-space:pre;overflow-x:auto;line-height:normal;font-family:Menlo,'DejaVu Sans Mono',consolas,'Courier New',monospace\">Comparing predictions to ground truth data <span style=\"color: #808000; text-decoration-color: #808000\">...</span>\n",
       "</pre>\n"
      ],
      "text/plain": [
       "Comparing predictions to ground truth data \u001b[33m...\u001b[0m\n"
      ]
     },
     "metadata": {},
     "output_type": "display_data"
    },
    {
     "data": {
      "text/html": [
       "<pre style=\"white-space:pre;overflow-x:auto;line-height:normal;font-family:Menlo,'DejaVu Sans Mono',consolas,'Courier New',monospace\">                                                                                                                   \n",
       " <span style=\"color: #800080; text-decoration-color: #800080; font-weight: bold\"> question                        </span> <span style=\"color: #800080; text-decoration-color: #800080; font-weight: bold\"> expected_answer                  </span> <span style=\"color: #800080; text-decoration-color: #800080; font-weight: bold\"> qa_skill                        </span> <span style=\"color: #800080; text-decoration-color: #800080; font-weight: bold\"> qa_skill </span> \n",
       " ───────────────────────────────────────────────────────────────────────────────────────────────────────────────── \n",
       "  In quantum mechanics, what        Heisenberg Uncertainty Principle   The Heisenberg uncertainty        False     \n",
       "  principle asserts that it's                                          principle asserts that it's                 \n",
       "  impossible to simultaneously                                         impossible to simultaneously                \n",
       "  know the exact position and                                          know the exact position and                 \n",
       "  momentum of a particle?                                              momentum of a particle.                     \n",
       " <span style=\"color: #7f7f7f; text-decoration-color: #7f7f7f\"> Which famous poet wrote 'The    </span> <span style=\"color: #7f7f7f; text-decoration-color: #7f7f7f\"> T.S. Eliot                       </span> <span style=\"color: #7f7f7f; text-decoration-color: #7f7f7f\"> T.S. Eliot                      </span> <span style=\"color: #7f7f7f; text-decoration-color: #7f7f7f\"> True     </span> \n",
       " <span style=\"color: #7f7f7f; text-decoration-color: #7f7f7f\"> Love Song of J. Alfred          </span> <span style=\"color: #7f7f7f; text-decoration-color: #7f7f7f\">                                  </span> <span style=\"color: #7f7f7f; text-decoration-color: #7f7f7f\">                                 </span> <span style=\"color: #7f7f7f; text-decoration-color: #7f7f7f\">          </span> \n",
       " <span style=\"color: #7f7f7f; text-decoration-color: #7f7f7f\"> Prufrock'?                      </span> <span style=\"color: #7f7f7f; text-decoration-color: #7f7f7f\">                                  </span> <span style=\"color: #7f7f7f; text-decoration-color: #7f7f7f\">                                 </span> <span style=\"color: #7f7f7f; text-decoration-color: #7f7f7f\">          </span> \n",
       "  What mathematical theorem         Pythagorean Theorem                The mathematical theorem that     False     \n",
       "  states that in any right-angled                                      states this is called the                   \n",
       "  triangle, the area of the                                            Pythagorean theorem.                        \n",
       "  square whose side is the                                                                                         \n",
       "  hypotenuse is equal to the sum                                                                                   \n",
       "  of the areas of the squares                                                                                      \n",
       "  whose sides are the two legs?                                                                                    \n",
       " <span style=\"color: #7f7f7f; text-decoration-color: #7f7f7f\"> Which philosophical paradox     </span> <span style=\"color: #7f7f7f; text-decoration-color: #7f7f7f\"> Ship of Theseus                  </span> <span style=\"color: #7f7f7f; text-decoration-color: #7f7f7f\"> The philosophical paradox you   </span> <span style=\"color: #7f7f7f; text-decoration-color: #7f7f7f\"> False    </span> \n",
       " <span style=\"color: #7f7f7f; text-decoration-color: #7f7f7f\"> involves a ship where all of    </span> <span style=\"color: #7f7f7f; text-decoration-color: #7f7f7f\">                                  </span> <span style=\"color: #7f7f7f; text-decoration-color: #7f7f7f\"> are referring to is known as    </span> <span style=\"color: #7f7f7f; text-decoration-color: #7f7f7f\">          </span> \n",
       " <span style=\"color: #7f7f7f; text-decoration-color: #7f7f7f\"> its wooden parts are replaced   </span> <span style=\"color: #7f7f7f; text-decoration-color: #7f7f7f\">                                  </span> <span style=\"color: #7f7f7f; text-decoration-color: #7f7f7f\"> the Ship of Theseus paradox.    </span> <span style=\"color: #7f7f7f; text-decoration-color: #7f7f7f\">          </span> \n",
       " <span style=\"color: #7f7f7f; text-decoration-color: #7f7f7f\"> with metal parts?               </span> <span style=\"color: #7f7f7f; text-decoration-color: #7f7f7f\">                                  </span> <span style=\"color: #7f7f7f; text-decoration-color: #7f7f7f\">                                 </span> <span style=\"color: #7f7f7f; text-decoration-color: #7f7f7f\">          </span> \n",
       "                                                                                                                   \n",
       "</pre>\n"
      ],
      "text/plain": [
       "                                                                                                                   \n",
       " \u001b[1;35m \u001b[0m\u001b[1;35mquestion                       \u001b[0m\u001b[1;35m \u001b[0m \u001b[1;35m \u001b[0m\u001b[1;35mexpected_answer                 \u001b[0m\u001b[1;35m \u001b[0m \u001b[1;35m \u001b[0m\u001b[1;35mqa_skill                       \u001b[0m\u001b[1;35m \u001b[0m \u001b[1;35m \u001b[0m\u001b[1;35mqa_skill\u001b[0m\u001b[1;35m \u001b[0m \n",
       " ───────────────────────────────────────────────────────────────────────────────────────────────────────────────── \n",
       "  In quantum mechanics, what        Heisenberg Uncertainty Principle   The Heisenberg uncertainty        False     \n",
       "  principle asserts that it's                                          principle asserts that it's                 \n",
       "  impossible to simultaneously                                         impossible to simultaneously                \n",
       "  know the exact position and                                          know the exact position and                 \n",
       "  momentum of a particle?                                              momentum of a particle.                     \n",
       " \u001b[2m \u001b[0m\u001b[2mWhich famous poet wrote 'The   \u001b[0m\u001b[2m \u001b[0m \u001b[2m \u001b[0m\u001b[2mT.S. Eliot                      \u001b[0m\u001b[2m \u001b[0m \u001b[2m \u001b[0m\u001b[2mT.S. Eliot                     \u001b[0m\u001b[2m \u001b[0m \u001b[2m \u001b[0m\u001b[2mTrue    \u001b[0m\u001b[2m \u001b[0m \n",
       " \u001b[2m \u001b[0m\u001b[2mLove Song of J. Alfred         \u001b[0m\u001b[2m \u001b[0m \u001b[2m                                  \u001b[0m \u001b[2m                                 \u001b[0m \u001b[2m          \u001b[0m \n",
       " \u001b[2m \u001b[0m\u001b[2mPrufrock'?                     \u001b[0m\u001b[2m \u001b[0m \u001b[2m                                  \u001b[0m \u001b[2m                                 \u001b[0m \u001b[2m          \u001b[0m \n",
       "  What mathematical theorem         Pythagorean Theorem                The mathematical theorem that     False     \n",
       "  states that in any right-angled                                      states this is called the                   \n",
       "  triangle, the area of the                                            Pythagorean theorem.                        \n",
       "  square whose side is the                                                                                         \n",
       "  hypotenuse is equal to the sum                                                                                   \n",
       "  of the areas of the squares                                                                                      \n",
       "  whose sides are the two legs?                                                                                    \n",
       " \u001b[2m \u001b[0m\u001b[2mWhich philosophical paradox    \u001b[0m\u001b[2m \u001b[0m \u001b[2m \u001b[0m\u001b[2mShip of Theseus                 \u001b[0m\u001b[2m \u001b[0m \u001b[2m \u001b[0m\u001b[2mThe philosophical paradox you  \u001b[0m\u001b[2m \u001b[0m \u001b[2m \u001b[0m\u001b[2mFalse   \u001b[0m\u001b[2m \u001b[0m \n",
       " \u001b[2m \u001b[0m\u001b[2minvolves a ship where all of   \u001b[0m\u001b[2m \u001b[0m \u001b[2m                                  \u001b[0m \u001b[2m \u001b[0m\u001b[2mare referring to is known as   \u001b[0m\u001b[2m \u001b[0m \u001b[2m          \u001b[0m \n",
       " \u001b[2m \u001b[0m\u001b[2mits wooden parts are replaced  \u001b[0m\u001b[2m \u001b[0m \u001b[2m                                  \u001b[0m \u001b[2m \u001b[0m\u001b[2mthe Ship of Theseus paradox.   \u001b[0m\u001b[2m \u001b[0m \u001b[2m          \u001b[0m \n",
       " \u001b[2m \u001b[0m\u001b[2mwith metal parts?              \u001b[0m\u001b[2m \u001b[0m \u001b[2m                                  \u001b[0m \u001b[2m                                 \u001b[0m \u001b[2m          \u001b[0m \n",
       "                                                                                                                   \n"
      ]
     },
     "metadata": {},
     "output_type": "display_data"
    },
    {
     "data": {
      "text/html": [
       "<pre style=\"white-space:pre;overflow-x:auto;line-height:normal;font-family:Menlo,'DejaVu Sans Mono',consolas,'Courier New',monospace\"><span style=\"color: #800000; text-decoration-color: #800000; font-weight: bold\">Accuracy = </span><span style=\"color: #008080; text-decoration-color: #008080; font-weight: bold\">25.00</span><span style=\"color: #800000; text-decoration-color: #800000; font-weight: bold\">%</span>\n",
       "</pre>\n"
      ],
      "text/plain": [
       "\u001b[1;31mAccuracy = \u001b[0m\u001b[1;36m25.00\u001b[0m\u001b[1;31m%\u001b[0m\n"
      ]
     },
     "metadata": {},
     "output_type": "display_data"
    },
    {
     "data": {
      "text/html": [
       "<pre style=\"white-space:pre;overflow-x:auto;line-height:normal;font-family:Menlo,'DejaVu Sans Mono',consolas,'Courier New',monospace\">Analyze evaluation experience <span style=\"color: #808000; text-decoration-color: #808000\">...</span>\n",
       "</pre>\n"
      ],
      "text/plain": [
       "Analyze evaluation experience \u001b[33m...\u001b[0m\n"
      ]
     },
     "metadata": {},
     "output_type": "display_data"
    },
    {
     "data": {
      "text/html": [
       "<pre style=\"white-space:pre;overflow-x:auto;line-height:normal;font-family:Menlo,'DejaVu Sans Mono',consolas,'Courier New',monospace\"><span style=\"font-weight: bold\">[</span><span style=\"color: #008000; text-decoration-color: #008000\">'question'</span><span style=\"font-weight: bold\">]</span>\n",
       "</pre>\n"
      ],
      "text/plain": [
       "\u001b[1m[\u001b[0m\u001b[32m'question'\u001b[0m\u001b[1m]\u001b[0m\n"
      ]
     },
     "metadata": {},
     "output_type": "display_data"
    },
    {
     "name": "stderr",
     "output_type": "stream",
     "text": [
      "  0%|          | 0/3 [00:00<?, ?it/s]"
     ]
    },
    {
     "data": {
      "text/html": [
       "<pre style=\"white-space:pre;overflow-x:auto;line-height:normal;font-family:Menlo,'DejaVu Sans Mono',consolas,'Courier New',monospace\"><span style=\"font-weight: bold\">{</span><span style=\"color: #008000; text-decoration-color: #008000\">'question'</span>: <span style=\"color: #008000; text-decoration-color: #008000\">'What mathematical theorem states that in any right-angled triangle, the area of the square whose side</span>\n",
       "<span style=\"color: #008000; text-decoration-color: #008000\">is the hypotenuse is equal to the sum of the areas of the squares whose sides are the two legs?'</span>, \n",
       "<span style=\"color: #008000; text-decoration-color: #008000\">'expected_answer'</span>: <span style=\"color: #008000; text-decoration-color: #008000\">'Pythagorean Theorem'</span>, <span style=\"color: #008000; text-decoration-color: #008000\">'qa_skill'</span>: <span style=\"color: #008000; text-decoration-color: #008000\">'The mathematical theorem that states this is called the </span>\n",
       "<span style=\"color: #008000; text-decoration-color: #008000\">Pythagorean theorem.'</span><span style=\"font-weight: bold\">}</span>\n",
       "</pre>\n"
      ],
      "text/plain": [
       "\u001b[1m{\u001b[0m\u001b[32m'question'\u001b[0m: \u001b[32m'What mathematical theorem states that in any right-angled triangle, the area of the square whose side\u001b[0m\n",
       "\u001b[32mis the hypotenuse is equal to the sum of the areas of the squares whose sides are the two legs?'\u001b[0m, \n",
       "\u001b[32m'expected_answer'\u001b[0m: \u001b[32m'Pythagorean Theorem'\u001b[0m, \u001b[32m'qa_skill'\u001b[0m: \u001b[32m'The mathematical theorem that states this is called the \u001b[0m\n",
       "\u001b[32mPythagorean theorem.'\u001b[0m\u001b[1m}\u001b[0m\n"
      ]
     },
     "metadata": {},
     "output_type": "display_data"
    },
    {
     "name": "stderr",
     "output_type": "stream",
     "text": [
      " 67%|██████▋   | 2/3 [00:04<00:02,  2.38s/it]"
     ]
    },
    {
     "data": {
      "text/html": [
       "<pre style=\"white-space:pre;overflow-x:auto;line-height:normal;font-family:Menlo,'DejaVu Sans Mono',consolas,'Courier New',monospace\"><span style=\"font-weight: bold\">{</span><span style=\"color: #008000; text-decoration-color: #008000\">'question'</span>: <span style=\"color: #008000; text-decoration-color: #008000\">'Which philosophical paradox involves a ship where all of its wooden parts are replaced with metal </span>\n",
       "<span style=\"color: #008000; text-decoration-color: #008000\">parts?'</span>, <span style=\"color: #008000; text-decoration-color: #008000\">'expected_answer'</span>: <span style=\"color: #008000; text-decoration-color: #008000\">'Ship of Theseus'</span>, <span style=\"color: #008000; text-decoration-color: #008000\">'qa_skill'</span>: <span style=\"color: #008000; text-decoration-color: #008000\">'The philosophical paradox you are referring to is known</span>\n",
       "<span style=\"color: #008000; text-decoration-color: #008000\">as the Ship of Theseus paradox.'</span><span style=\"font-weight: bold\">}</span>\n",
       "</pre>\n"
      ],
      "text/plain": [
       "\u001b[1m{\u001b[0m\u001b[32m'question'\u001b[0m: \u001b[32m'Which philosophical paradox involves a ship where all of its wooden parts are replaced with metal \u001b[0m\n",
       "\u001b[32mparts?'\u001b[0m, \u001b[32m'expected_answer'\u001b[0m: \u001b[32m'Ship of Theseus'\u001b[0m, \u001b[32m'qa_skill'\u001b[0m: \u001b[32m'The philosophical paradox you are referring to is known\u001b[0m\n",
       "\u001b[32mas the Ship of Theseus paradox.'\u001b[0m\u001b[1m}\u001b[0m\n"
      ]
     },
     "metadata": {},
     "output_type": "display_data"
    },
    {
     "name": "stderr",
     "output_type": "stream",
     "text": [
      "100%|██████████| 3/3 [00:08<00:00,  3.06s/it]"
     ]
    },
    {
     "data": {
      "text/html": [
       "<pre style=\"white-space:pre;overflow-x:auto;line-height:normal;font-family:Menlo,'DejaVu Sans Mono',consolas,'Courier New',monospace\"><span style=\"font-weight: bold\">{</span><span style=\"color: #008000; text-decoration-color: #008000\">'question'</span>: <span style=\"color: #008000; text-decoration-color: #008000\">\"In quantum mechanics, what principle asserts that it's impossible to simultaneously know the exact </span>\n",
       "<span style=\"color: #008000; text-decoration-color: #008000\">position and momentum of a particle?\"</span>, <span style=\"color: #008000; text-decoration-color: #008000\">'expected_answer'</span>: <span style=\"color: #008000; text-decoration-color: #008000\">'Heisenberg Uncertainty Principle'</span>, <span style=\"color: #008000; text-decoration-color: #008000\">'qa_skill'</span>: <span style=\"color: #008000; text-decoration-color: #008000\">\"The </span>\n",
       "<span style=\"color: #008000; text-decoration-color: #008000\">Heisenberg uncertainty principle asserts that it's impossible to simultaneously know the exact position and </span>\n",
       "<span style=\"color: #008000; text-decoration-color: #008000\">momentum of a particle.\"</span><span style=\"font-weight: bold\">}</span>\n",
       "</pre>\n"
      ],
      "text/plain": [
       "\u001b[1m{\u001b[0m\u001b[32m'question'\u001b[0m: \u001b[32m\"In quantum mechanics, what principle asserts that it's impossible to simultaneously know the exact \u001b[0m\n",
       "\u001b[32mposition and momentum of a particle?\"\u001b[0m, \u001b[32m'expected_answer'\u001b[0m: \u001b[32m'Heisenberg Uncertainty Principle'\u001b[0m, \u001b[32m'qa_skill'\u001b[0m: \u001b[32m\"The \u001b[0m\n",
       "\u001b[32mHeisenberg uncertainty principle asserts that it's impossible to simultaneously know the exact position and \u001b[0m\n",
       "\u001b[32mmomentum of a particle.\"\u001b[0m\u001b[1m}\u001b[0m\n"
      ]
     },
     "metadata": {},
     "output_type": "display_data"
    },
    {
     "name": "stderr",
     "output_type": "stream",
     "text": [
      "100%|██████████| 3/3 [00:14<00:00,  4.84s/it]\n"
     ]
    },
    {
     "data": {
      "text/html": [
       "<pre style=\"white-space:pre;overflow-x:auto;line-height:normal;font-family:Menlo,'DejaVu Sans Mono',consolas,'Courier New',monospace\">                                              answer\n",
       "<span style=\"color: #008080; text-decoration-color: #008080; font-weight: bold\">2</span>     The theorem is called the Pythagorean theorem.\n",
       "<span style=\"color: #008080; text-decoration-color: #008080; font-weight: bold\">3</span>  The philosophical paradox you are referring to<span style=\"color: #808000; text-decoration-color: #808000\">...</span>\n",
       "<span style=\"color: #008080; text-decoration-color: #008080; font-weight: bold\">0</span>  The Heisenberg uncertainty principle asserts t<span style=\"color: #808000; text-decoration-color: #808000\">...</span>\n",
       "</pre>\n"
      ],
      "text/plain": [
       "                                              answer\n",
       "\u001b[1;36m2\u001b[0m     The theorem is called the Pythagorean theorem.\n",
       "\u001b[1;36m3\u001b[0m  The philosophical paradox you are referring to\u001b[33m...\u001b[0m\n",
       "\u001b[1;36m0\u001b[0m  The Heisenberg uncertainty principle asserts t\u001b[33m...\u001b[0m\n"
      ]
     },
     "metadata": {},
     "output_type": "display_data"
    },
    {
     "data": {
      "text/html": [
       "<pre style=\"white-space:pre;overflow-x:auto;line-height:normal;font-family:Menlo,'DejaVu Sans Mono',consolas,'Courier New',monospace\"><span style=\"font-weight: bold\">[</span><span style=\"color: #008000; text-decoration-color: #008000\">'ground_truth'</span>, <span style=\"color: #008000; text-decoration-color: #008000\">'input'</span>, <span style=\"color: #008000; text-decoration-color: #008000\">'prediction'</span><span style=\"font-weight: bold\">]</span>\n",
       "</pre>\n"
      ],
      "text/plain": [
       "\u001b[1m[\u001b[0m\u001b[32m'ground_truth'\u001b[0m, \u001b[32m'input'\u001b[0m, \u001b[32m'prediction'\u001b[0m\u001b[1m]\u001b[0m\n"
      ]
     },
     "metadata": {},
     "output_type": "display_data"
    },
    {
     "name": "stderr",
     "output_type": "stream",
     "text": [
      "  0%|          | 0/3 [00:00<?, ?it/s]"
     ]
    },
    {
     "data": {
      "text/html": [
       "<pre style=\"white-space:pre;overflow-x:auto;line-height:normal;font-family:Menlo,'DejaVu Sans Mono',consolas,'Courier New',monospace\"><span style=\"font-weight: bold\">{</span><span style=\"color: #008000; text-decoration-color: #008000\">'input'</span>: <span style=\"color: #008000; text-decoration-color: #008000\">'The theorem is called the Pythagorean theorem.'</span>, <span style=\"color: #008000; text-decoration-color: #008000\">'prediction'</span>: <span style=\"color: #008000; text-decoration-color: #008000\">'The mathematical theorem that states </span>\n",
       "<span style=\"color: #008000; text-decoration-color: #008000\">this is called the Pythagorean theorem.'</span>, <span style=\"color: #008000; text-decoration-color: #008000\">'ground_truth'</span>: <span style=\"color: #008000; text-decoration-color: #008000\">'Pythagorean Theorem'</span><span style=\"font-weight: bold\">}</span>\n",
       "</pre>\n"
      ],
      "text/plain": [
       "\u001b[1m{\u001b[0m\u001b[32m'input'\u001b[0m: \u001b[32m'The theorem is called the Pythagorean theorem.'\u001b[0m, \u001b[32m'prediction'\u001b[0m: \u001b[32m'The mathematical theorem that states \u001b[0m\n",
       "\u001b[32mthis is called the Pythagorean theorem.'\u001b[0m, \u001b[32m'ground_truth'\u001b[0m: \u001b[32m'Pythagorean Theorem'\u001b[0m\u001b[1m}\u001b[0m\n"
      ]
     },
     "metadata": {},
     "output_type": "display_data"
    },
    {
     "name": "stderr",
     "output_type": "stream",
     "text": [
      " 67%|██████▋   | 2/3 [00:07<00:03,  3.94s/it]"
     ]
    },
    {
     "data": {
      "text/html": [
       "<pre style=\"white-space:pre;overflow-x:auto;line-height:normal;font-family:Menlo,'DejaVu Sans Mono',consolas,'Courier New',monospace\"><span style=\"font-weight: bold\">{</span><span style=\"color: #008000; text-decoration-color: #008000\">'input'</span>: <span style=\"color: #008000; text-decoration-color: #008000\">'The philosophical paradox you are referring to is known as the Ship of Theseus paradox.'</span>, <span style=\"color: #008000; text-decoration-color: #008000\">'prediction'</span>: \n",
       "<span style=\"color: #008000; text-decoration-color: #008000\">'The philosophical paradox you are referring to is known as the Ship of Theseus paradox.'</span>, <span style=\"color: #008000; text-decoration-color: #008000\">'ground_truth'</span>: <span style=\"color: #008000; text-decoration-color: #008000\">'Ship of</span>\n",
       "<span style=\"color: #008000; text-decoration-color: #008000\">Theseus'</span><span style=\"font-weight: bold\">}</span>\n",
       "</pre>\n"
      ],
      "text/plain": [
       "\u001b[1m{\u001b[0m\u001b[32m'input'\u001b[0m: \u001b[32m'The philosophical paradox you are referring to is known as the Ship of Theseus paradox.'\u001b[0m, \u001b[32m'prediction'\u001b[0m: \n",
       "\u001b[32m'The philosophical paradox you are referring to is known as the Ship of Theseus paradox.'\u001b[0m, \u001b[32m'ground_truth'\u001b[0m: \u001b[32m'Ship of\u001b[0m\n",
       "\u001b[32mTheseus'\u001b[0m\u001b[1m}\u001b[0m\n"
      ]
     },
     "metadata": {},
     "output_type": "display_data"
    },
    {
     "name": "stderr",
     "output_type": "stream",
     "text": [
      "100%|██████████| 3/3 [00:15<00:00,  5.29s/it]"
     ]
    },
    {
     "data": {
      "text/html": [
       "<pre style=\"white-space:pre;overflow-x:auto;line-height:normal;font-family:Menlo,'DejaVu Sans Mono',consolas,'Courier New',monospace\"><span style=\"font-weight: bold\">{</span><span style=\"color: #008000; text-decoration-color: #008000\">'input'</span>: <span style=\"color: #008000; text-decoration-color: #008000\">\"The Heisenberg uncertainty principle asserts that it's impossible to simultaneously know the exact </span>\n",
       "<span style=\"color: #008000; text-decoration-color: #008000\">position and momentum of a particle.\"</span>, <span style=\"color: #008000; text-decoration-color: #008000\">'prediction'</span>: <span style=\"color: #008000; text-decoration-color: #008000\">\"The Heisenberg uncertainty principle asserts that it's </span>\n",
       "<span style=\"color: #008000; text-decoration-color: #008000\">impossible to simultaneously know the exact position and momentum of a particle.\"</span>, <span style=\"color: #008000; text-decoration-color: #008000\">'ground_truth'</span>: <span style=\"color: #008000; text-decoration-color: #008000\">'Heisenberg </span>\n",
       "<span style=\"color: #008000; text-decoration-color: #008000\">Uncertainty Principle'</span><span style=\"font-weight: bold\">}</span>\n",
       "</pre>\n"
      ],
      "text/plain": [
       "\u001b[1m{\u001b[0m\u001b[32m'input'\u001b[0m: \u001b[32m\"The Heisenberg uncertainty principle asserts that it's impossible to simultaneously know the exact \u001b[0m\n",
       "\u001b[32mposition and momentum of a particle.\"\u001b[0m, \u001b[32m'prediction'\u001b[0m: \u001b[32m\"The Heisenberg uncertainty principle asserts that it's \u001b[0m\n",
       "\u001b[32mimpossible to simultaneously know the exact position and momentum of a particle.\"\u001b[0m, \u001b[32m'ground_truth'\u001b[0m: \u001b[32m'Heisenberg \u001b[0m\n",
       "\u001b[32mUncertainty Principle'\u001b[0m\u001b[1m}\u001b[0m\n"
      ]
     },
     "metadata": {},
     "output_type": "display_data"
    },
    {
     "name": "stderr",
     "output_type": "stream",
     "text": [
      "100%|██████████| 3/3 [00:23<00:00,  7.77s/it]\n"
     ]
    },
    {
     "data": {
      "text/html": [
       "<pre style=\"white-space:pre;overflow-x:auto;line-height:normal;font-family:Menlo,'DejaVu Sans Mono',consolas,'Courier New',monospace\"><span style=\"font-weight: bold\">[</span><span style=\"color: #008000; text-decoration-color: #008000\">'ground_truth'</span>, <span style=\"color: #008000; text-decoration-color: #008000\">'input'</span>, <span style=\"color: #008000; text-decoration-color: #008000\">'prediction'</span>, <span style=\"color: #008000; text-decoration-color: #008000\">'reason'</span><span style=\"font-weight: bold\">]</span>\n",
       "</pre>\n"
      ],
      "text/plain": [
       "\u001b[1m[\u001b[0m\u001b[32m'ground_truth'\u001b[0m, \u001b[32m'input'\u001b[0m, \u001b[32m'prediction'\u001b[0m, \u001b[32m'reason'\u001b[0m\u001b[1m]\u001b[0m\n"
      ]
     },
     "metadata": {},
     "output_type": "display_data"
    },
    {
     "name": "stderr",
     "output_type": "stream",
     "text": [
      "  0%|          | 0/3 [00:00<?, ?it/s]"
     ]
    },
    {
     "data": {
      "text/html": [
       "<pre style=\"white-space:pre;overflow-x:auto;line-height:normal;font-family:Menlo,'DejaVu Sans Mono',consolas,'Courier New',monospace\"><span style=\"font-weight: bold\">{</span><span style=\"color: #008000; text-decoration-color: #008000\">'input'</span>: <span style=\"color: #008000; text-decoration-color: #008000\">'The theorem is called the Pythagorean theorem.'</span>, <span style=\"color: #008000; text-decoration-color: #008000\">'prediction'</span>: <span style=\"color: #008000; text-decoration-color: #008000\">'The mathematical theorem that states </span>\n",
       "<span style=\"color: #008000; text-decoration-color: #008000\">this is called the Pythagorean theorem.'</span>, <span style=\"color: #008000; text-decoration-color: #008000\">'ground_truth'</span>: <span style=\"color: #008000; text-decoration-color: #008000\">'Pythagorean Theorem'</span>, <span style=\"color: #008000; text-decoration-color: #008000\">'reason'</span>: <span style=\"color: #008000; text-decoration-color: #008000\">'The original </span>\n",
       "<span style=\"color: #008000; text-decoration-color: #008000\">instruction asked for a prediction of the mathematical theorem, but the model was given the input text instead. </span>\n",
       "<span style=\"color: #008000; text-decoration-color: #008000\">Therefore, the model simply repeated the input text as the prediction.'</span><span style=\"font-weight: bold\">}</span>\n",
       "</pre>\n"
      ],
      "text/plain": [
       "\u001b[1m{\u001b[0m\u001b[32m'input'\u001b[0m: \u001b[32m'The theorem is called the Pythagorean theorem.'\u001b[0m, \u001b[32m'prediction'\u001b[0m: \u001b[32m'The mathematical theorem that states \u001b[0m\n",
       "\u001b[32mthis is called the Pythagorean theorem.'\u001b[0m, \u001b[32m'ground_truth'\u001b[0m: \u001b[32m'Pythagorean Theorem'\u001b[0m, \u001b[32m'reason'\u001b[0m: \u001b[32m'The original \u001b[0m\n",
       "\u001b[32minstruction asked for a prediction of the mathematical theorem, but the model was given the input text instead. \u001b[0m\n",
       "\u001b[32mTherefore, the model simply repeated the input text as the prediction.'\u001b[0m\u001b[1m}\u001b[0m\n"
      ]
     },
     "metadata": {},
     "output_type": "display_data"
    },
    {
     "name": "stderr",
     "output_type": "stream",
     "text": [
      " 67%|██████▋   | 2/3 [00:15<00:07,  8.00s/it]"
     ]
    },
    {
     "data": {
      "text/html": [
       "<pre style=\"white-space:pre;overflow-x:auto;line-height:normal;font-family:Menlo,'DejaVu Sans Mono',consolas,'Courier New',monospace\"><span style=\"font-weight: bold\">{</span><span style=\"color: #008000; text-decoration-color: #008000\">'input'</span>: <span style=\"color: #008000; text-decoration-color: #008000\">'The philosophical paradox you are referring to is known as the Ship of Theseus paradox.'</span>, <span style=\"color: #008000; text-decoration-color: #008000\">'prediction'</span>: \n",
       "<span style=\"color: #008000; text-decoration-color: #008000\">'The philosophical paradox you are referring to is known as the Ship of Theseus paradox.'</span>, <span style=\"color: #008000; text-decoration-color: #008000\">'ground_truth'</span>: <span style=\"color: #008000; text-decoration-color: #008000\">'Ship of</span>\n",
       "<span style=\"color: #008000; text-decoration-color: #008000\">Theseus'</span>, <span style=\"color: #008000; text-decoration-color: #008000\">'reason'</span>: <span style=\"color: #008000; text-decoration-color: #008000\">'The error is due to the original instruction not being clear enough. The model was not </span>\n",
       "<span style=\"color: #008000; text-decoration-color: #008000\">explicitly instructed to provide the ground truth, so it generated a similar but slightly different response.'</span><span style=\"font-weight: bold\">}</span>\n",
       "</pre>\n"
      ],
      "text/plain": [
       "\u001b[1m{\u001b[0m\u001b[32m'input'\u001b[0m: \u001b[32m'The philosophical paradox you are referring to is known as the Ship of Theseus paradox.'\u001b[0m, \u001b[32m'prediction'\u001b[0m: \n",
       "\u001b[32m'The philosophical paradox you are referring to is known as the Ship of Theseus paradox.'\u001b[0m, \u001b[32m'ground_truth'\u001b[0m: \u001b[32m'Ship of\u001b[0m\n",
       "\u001b[32mTheseus'\u001b[0m, \u001b[32m'reason'\u001b[0m: \u001b[32m'The error is due to the original instruction not being clear enough. The model was not \u001b[0m\n",
       "\u001b[32mexplicitly instructed to provide the ground truth, so it generated a similar but slightly different response.'\u001b[0m\u001b[1m}\u001b[0m\n"
      ]
     },
     "metadata": {},
     "output_type": "display_data"
    },
    {
     "name": "stderr",
     "output_type": "stream",
     "text": [
      "100%|██████████| 3/3 [00:29<00:00, 10.30s/it]"
     ]
    },
    {
     "data": {
      "text/html": [
       "<pre style=\"white-space:pre;overflow-x:auto;line-height:normal;font-family:Menlo,'DejaVu Sans Mono',consolas,'Courier New',monospace\"><span style=\"font-weight: bold\">{</span><span style=\"color: #008000; text-decoration-color: #008000\">'input'</span>: <span style=\"color: #008000; text-decoration-color: #008000\">\"The Heisenberg uncertainty principle asserts that it's impossible to simultaneously know the exact </span>\n",
       "<span style=\"color: #008000; text-decoration-color: #008000\">position and momentum of a particle.\"</span>, <span style=\"color: #008000; text-decoration-color: #008000\">'prediction'</span>: <span style=\"color: #008000; text-decoration-color: #008000\">\"The Heisenberg uncertainty principle asserts that it's </span>\n",
       "<span style=\"color: #008000; text-decoration-color: #008000\">impossible to simultaneously know the exact position and momentum of a particle.\"</span>, <span style=\"color: #008000; text-decoration-color: #008000\">'ground_truth'</span>: <span style=\"color: #008000; text-decoration-color: #008000\">'Heisenberg </span>\n",
       "<span style=\"color: #008000; text-decoration-color: #008000\">Uncertainty Principle'</span>, <span style=\"color: #008000; text-decoration-color: #008000\">'reason'</span>: <span style=\"color: #008000; text-decoration-color: #008000\">\"The original instruction asked the model to answer a question, but the model was</span>\n",
       "<span style=\"color: #008000; text-decoration-color: #008000\">not provided with a question to answer. Instead, it was given a statement to generate a prediction. Therefore, the </span>\n",
       "<span style=\"color: #008000; text-decoration-color: #008000\">model's prediction matches the input text, but it does not answer the question asked in the instruction.\"</span><span style=\"font-weight: bold\">}</span>\n",
       "</pre>\n"
      ],
      "text/plain": [
       "\u001b[1m{\u001b[0m\u001b[32m'input'\u001b[0m: \u001b[32m\"The Heisenberg uncertainty principle asserts that it's impossible to simultaneously know the exact \u001b[0m\n",
       "\u001b[32mposition and momentum of a particle.\"\u001b[0m, \u001b[32m'prediction'\u001b[0m: \u001b[32m\"The Heisenberg uncertainty principle asserts that it's \u001b[0m\n",
       "\u001b[32mimpossible to simultaneously know the exact position and momentum of a particle.\"\u001b[0m, \u001b[32m'ground_truth'\u001b[0m: \u001b[32m'Heisenberg \u001b[0m\n",
       "\u001b[32mUncertainty Principle'\u001b[0m, \u001b[32m'reason'\u001b[0m: \u001b[32m\"The original instruction asked the model to answer a question, but the model was\u001b[0m\n",
       "\u001b[32mnot provided with a question to answer. Instead, it was given a statement to generate a prediction. Therefore, the \u001b[0m\n",
       "\u001b[32mmodel's prediction matches the input text, but it does not answer the question asked in the instruction.\"\u001b[0m\u001b[1m}\u001b[0m\n"
      ]
     },
     "metadata": {},
     "output_type": "display_data"
    },
    {
     "name": "stderr",
     "output_type": "stream",
     "text": [
      "100%|██████████| 3/3 [00:45<00:00, 15.13s/it]\n"
     ]
    },
    {
     "data": {
      "text/html": [
       "<pre style=\"white-space:pre;overflow-x:auto;line-height:normal;font-family:Menlo,'DejaVu Sans Mono',consolas,'Courier New',monospace\">Error analysis for skill <span style=\"color: #008000; text-decoration-color: #008000\">\"qa_skill\"</span>:\n",
       "\n",
       "</pre>\n"
      ],
      "text/plain": [
       "Error analysis for skill \u001b[32m\"qa_skill\"\u001b[0m:\n",
       "\n"
      ]
     },
     "metadata": {},
     "output_type": "display_data"
    },
    {
     "data": {
      "text/html": [
       "<pre style=\"white-space:pre;overflow-x:auto;line-height:normal;font-family:Menlo,'DejaVu Sans Mono',consolas,'Courier New',monospace\"><span style=\"color: #008000; text-decoration-color: #008000\">The model made an error in this case. The input text was </span><span style=\"color: #008000; text-decoration-color: #008000\">'The theorem is called the Pythagorean theorem.'</span><span style=\"color: #008000; text-decoration-color: #008000\"> and the </span>\n",
       "<span style=\"color: #008000; text-decoration-color: #008000\">model's prediction was </span><span style=\"color: #008000; text-decoration-color: #008000\">'The theorem is called the Pythagorean theorem.'</span><span style=\"color: #008000; text-decoration-color: #008000\">, which is the same as the input text. The </span>\n",
       "<span style=\"color: #008000; text-decoration-color: #008000\">ground truth, however, is </span><span style=\"color: #008000; text-decoration-color: #008000\">'Pythagorean Theorem'</span><span style=\"color: #008000; text-decoration-color: #008000\">, which is the correct mathematical theorem. The error occurred </span>\n",
       "<span style=\"color: #008000; text-decoration-color: #008000\">because the model did not understand that it was supposed to provide the name of the mathematical theorem, rather </span>\n",
       "<span style=\"color: #008000; text-decoration-color: #008000\">than simply repeating the input text. The model made a slight error in its prediction. The input was </span><span style=\"color: #008000; text-decoration-color: #008000\">'The </span>\n",
       "<span style=\"color: #008000; text-decoration-color: #008000\">philosophical paradox you are referring to is known as the Ship of Theseus paradox.'</span><span style=\"color: #008000; text-decoration-color: #008000\">, but the model predicted </span><span style=\"color: #008000; text-decoration-color: #008000\">'The </span>\n",
       "<span style=\"color: #008000; text-decoration-color: #008000\">philosophical paradox you are referring to is known as the Ship of Theseus paradox.'</span><span style=\"color: #008000; text-decoration-color: #008000\"> instead of the ground truth </span>\n",
       "<span style=\"color: #008000; text-decoration-color: #008000\">'Ship of Theseus'</span><span style=\"color: #008000; text-decoration-color: #008000\">. The error occurred because the original instruction was not clear enough, and the model </span>\n",
       "<span style=\"color: #008000; text-decoration-color: #008000\">generated a similar but slightly different response. The model's prediction matches the input text, but it does not</span>\n",
       "<span style=\"color: #008000; text-decoration-color: #008000\">answer the question asked in the instruction. The input text is: </span><span style=\"color: #008000; text-decoration-color: #008000\">'The Heisenberg uncertainty principle asserts that</span>\n",
       "<span style=\"color: #008000; text-decoration-color: #008000\">it'</span><span style=\"color: #008000; text-decoration-color: #008000\">s impossible to simultaneously know the exact position and momentum of a particle.</span><span style=\"color: #008000; text-decoration-color: #008000\">' The model'</span><span style=\"color: #008000; text-decoration-color: #008000\">s prediction is: </span>\n",
       "<span style=\"color: #008000; text-decoration-color: #008000\">'The Heisenberg uncertainty principle asserts that it'</span><span style=\"color: #008000; text-decoration-color: #008000\">s impossible to simultaneously know the exact position and </span>\n",
       "<span style=\"color: #008000; text-decoration-color: #008000\">momentum of a particle.</span><span style=\"color: #008000; text-decoration-color: #008000\">' The ground truth is: '</span><span style=\"color: #008000; text-decoration-color: #008000\">Heisenberg Uncertainty Principle'. The error reason is: The original</span>\n",
       "<span style=\"color: #008000; text-decoration-color: #008000\">instruction asked the model to answer a question, but the model was not provided with a question to answer. </span>\n",
       "<span style=\"color: #008000; text-decoration-color: #008000\">Instead, it was given a statement to generate a prediction.</span>\n",
       "</pre>\n"
      ],
      "text/plain": [
       "\u001b[32mThe model made an error in this case. The input text was \u001b[0m\u001b[32m'The theorem is called the Pythagorean theorem.'\u001b[0m\u001b[32m and the \u001b[0m\n",
       "\u001b[32mmodel's prediction was \u001b[0m\u001b[32m'The theorem is called the Pythagorean theorem.'\u001b[0m\u001b[32m, which is the same as the input text. The \u001b[0m\n",
       "\u001b[32mground truth, however, is \u001b[0m\u001b[32m'Pythagorean Theorem'\u001b[0m\u001b[32m, which is the correct mathematical theorem. The error occurred \u001b[0m\n",
       "\u001b[32mbecause the model did not understand that it was supposed to provide the name of the mathematical theorem, rather \u001b[0m\n",
       "\u001b[32mthan simply repeating the input text. The model made a slight error in its prediction. The input was \u001b[0m\u001b[32m'The \u001b[0m\n",
       "\u001b[32mphilosophical paradox you are referring to is known as the Ship of Theseus paradox.'\u001b[0m\u001b[32m, but the model predicted \u001b[0m\u001b[32m'The \u001b[0m\n",
       "\u001b[32mphilosophical paradox you are referring to is known as the Ship of Theseus paradox.'\u001b[0m\u001b[32m instead of the ground truth \u001b[0m\n",
       "\u001b[32m'Ship of Theseus'\u001b[0m\u001b[32m. The error occurred because the original instruction was not clear enough, and the model \u001b[0m\n",
       "\u001b[32mgenerated a similar but slightly different response. The model's prediction matches the input text, but it does not\u001b[0m\n",
       "\u001b[32manswer the question asked in the instruction. The input text is: \u001b[0m\u001b[32m'The Heisenberg uncertainty principle asserts that\u001b[0m\n",
       "\u001b[32mit'\u001b[0m\u001b[32ms impossible to simultaneously know the exact position and momentum of a particle.\u001b[0m\u001b[32m' The model'\u001b[0m\u001b[32ms prediction is: \u001b[0m\n",
       "\u001b[32m'The Heisenberg uncertainty principle asserts that it'\u001b[0m\u001b[32ms impossible to simultaneously know the exact position and \u001b[0m\n",
       "\u001b[32mmomentum of a particle.\u001b[0m\u001b[32m' The ground truth is: '\u001b[0m\u001b[32mHeisenberg Uncertainty Principle'. The error reason is: The original\u001b[0m\n",
       "\u001b[32minstruction asked the model to answer a question, but the model was not provided with a question to answer. \u001b[0m\n",
       "\u001b[32mInstead, it was given a statement to generate a prediction.\u001b[0m\n"
      ]
     },
     "metadata": {},
     "output_type": "display_data"
    },
    {
     "data": {
      "text/html": [
       "<pre style=\"white-space:pre;overflow-x:auto;line-height:normal;font-family:Menlo,'DejaVu Sans Mono',consolas,'Courier New',monospace\">Improve <span style=\"color: #008000; text-decoration-color: #008000\">\"qa_skill\"</span> skill based on analysis <span style=\"color: #808000; text-decoration-color: #808000\">...</span>\n",
       "</pre>\n"
      ],
      "text/plain": [
       "Improve \u001b[32m\"qa_skill\"\u001b[0m skill based on analysis \u001b[33m...\u001b[0m\n"
      ]
     },
     "metadata": {},
     "output_type": "display_data"
    },
    {
     "data": {
      "text/html": [
       "<pre style=\"white-space:pre;overflow-x:auto;line-height:normal;font-family:Menlo,'DejaVu Sans Mono',consolas,'Courier New',monospace\"><span style=\"font-weight: bold\">{</span><span style=\"color: #008000; text-decoration-color: #008000\">'error_analysis'</span>: <span style=\"color: #008000; text-decoration-color: #008000\">\"The model made an error in this case. The input text was 'The theorem is called the Pythagorean</span>\n",
       "<span style=\"color: #008000; text-decoration-color: #008000\">theorem.' and the model's prediction was 'The theorem is called the Pythagorean theorem.', which is the same as the</span>\n",
       "<span style=\"color: #008000; text-decoration-color: #008000\">input text. The ground truth, however, is 'Pythagorean Theorem', which is the correct mathematical theorem. The </span>\n",
       "<span style=\"color: #008000; text-decoration-color: #008000\">error occurred because the model did not understand that it was supposed to provide the name of the mathematical </span>\n",
       "<span style=\"color: #008000; text-decoration-color: #008000\">theorem, rather than simply repeating the input text. The model made a slight error in its prediction. The input </span>\n",
       "<span style=\"color: #008000; text-decoration-color: #008000\">was 'The philosophical paradox you are referring to is known as the Ship of Theseus paradox.', but the model </span>\n",
       "<span style=\"color: #008000; text-decoration-color: #008000\">predicted 'The philosophical paradox you are referring to is known as the Ship of Theseus paradox.' instead of the </span>\n",
       "<span style=\"color: #008000; text-decoration-color: #008000\">ground truth 'Ship of Theseus'. The error occurred because the original instruction was not clear enough, and the </span>\n",
       "<span style=\"color: #008000; text-decoration-color: #008000\">model generated a similar but slightly different response. The model's prediction matches the input text, but it </span>\n",
       "<span style=\"color: #008000; text-decoration-color: #008000\">does not answer the question asked in the instruction. The input text is: 'The Heisenberg uncertainty principle </span>\n",
       "<span style=\"color: #008000; text-decoration-color: #008000\">asserts that it's impossible to simultaneously know the exact position and momentum of a particle.' The model's </span>\n",
       "<span style=\"color: #008000; text-decoration-color: #008000\">prediction is: 'The Heisenberg uncertainty principle asserts that it's impossible to simultaneously know the exact </span>\n",
       "<span style=\"color: #008000; text-decoration-color: #008000\">position and momentum of a particle.' The ground truth is: 'Heisenberg Uncertainty Principle'. The error reason is:</span>\n",
       "<span style=\"color: #008000; text-decoration-color: #008000\">The original instruction asked the model to answer a question, but the model was not provided with a question to </span>\n",
       "<span style=\"color: #008000; text-decoration-color: #008000\">answer. Instead, it was given a statement to generate a prediction.\"</span><span style=\"font-weight: bold\">}</span>\n",
       "</pre>\n"
      ],
      "text/plain": [
       "\u001b[1m{\u001b[0m\u001b[32m'error_analysis'\u001b[0m: \u001b[32m\"The model made an error in this case. The input text was 'The theorem is called the Pythagorean\u001b[0m\n",
       "\u001b[32mtheorem.' and the model's prediction was 'The theorem is called the Pythagorean theorem.', which is the same as the\u001b[0m\n",
       "\u001b[32minput text. The ground truth, however, is 'Pythagorean Theorem', which is the correct mathematical theorem. The \u001b[0m\n",
       "\u001b[32merror occurred because the model did not understand that it was supposed to provide the name of the mathematical \u001b[0m\n",
       "\u001b[32mtheorem, rather than simply repeating the input text. The model made a slight error in its prediction. The input \u001b[0m\n",
       "\u001b[32mwas 'The philosophical paradox you are referring to is known as the Ship of Theseus paradox.', but the model \u001b[0m\n",
       "\u001b[32mpredicted 'The philosophical paradox you are referring to is known as the Ship of Theseus paradox.' instead of the \u001b[0m\n",
       "\u001b[32mground truth 'Ship of Theseus'. The error occurred because the original instruction was not clear enough, and the \u001b[0m\n",
       "\u001b[32mmodel generated a similar but slightly different response. The model's prediction matches the input text, but it \u001b[0m\n",
       "\u001b[32mdoes not answer the question asked in the instruction. The input text is: 'The Heisenberg uncertainty principle \u001b[0m\n",
       "\u001b[32masserts that it's impossible to simultaneously know the exact position and momentum of a particle.' The model's \u001b[0m\n",
       "\u001b[32mprediction is: 'The Heisenberg uncertainty principle asserts that it's impossible to simultaneously know the exact \u001b[0m\n",
       "\u001b[32mposition and momentum of a particle.' The ground truth is: 'Heisenberg Uncertainty Principle'. The error reason is:\u001b[0m\n",
       "\u001b[32mThe original instruction asked the model to answer a question, but the model was not provided with a question to \u001b[0m\n",
       "\u001b[32manswer. Instead, it was given a statement to generate a prediction.\"\u001b[0m\u001b[1m}\u001b[0m\n"
      ]
     },
     "metadata": {},
     "output_type": "display_data"
    },
    {
     "data": {
      "text/html": [
       "<pre style=\"white-space:pre;overflow-x:auto;line-height:normal;font-family:Menlo,'DejaVu Sans Mono',consolas,'Courier New',monospace\">Updated instructions for skill <span style=\"color: #008000; text-decoration-color: #008000\">\"qa_skill\"</span>:\n",
       "\n",
       "</pre>\n"
      ],
      "text/plain": [
       "Updated instructions for skill \u001b[32m\"qa_skill\"\u001b[0m:\n",
       "\n"
      ]
     },
     "metadata": {},
     "output_type": "display_data"
    },
    {
     "data": {
      "text/html": [
       "<pre style=\"white-space:pre;overflow-x:auto;line-height:normal;font-family:Menlo,'DejaVu Sans Mono',consolas,'Courier New',monospace\"><span style=\"color: #008000; text-decoration-color: #008000; font-weight: bold\">Provide the name of the mathematical theorem mentioned in the input text.</span>\n",
       "</pre>\n"
      ],
      "text/plain": [
       "\u001b[1;32mProvide the name of the mathematical theorem mentioned in the input text.\u001b[0m\n"
      ]
     },
     "metadata": {},
     "output_type": "display_data"
    },
    {
     "data": {
      "text/html": [
       "<pre style=\"white-space:pre;overflow-x:auto;line-height:normal;font-family:Menlo,'DejaVu Sans Mono',consolas,'Courier New',monospace\">Re-apply qa_skill skill to dataset <span style=\"color: #808000; text-decoration-color: #808000\">...</span>\n",
       "</pre>\n"
      ],
      "text/plain": [
       "Re-apply qa_skill skill to dataset \u001b[33m...\u001b[0m\n"
      ]
     },
     "metadata": {},
     "output_type": "display_data"
    },
    {
     "data": {
      "text/html": [
       "<pre style=\"white-space:pre;overflow-x:auto;line-height:normal;font-family:Menlo,'DejaVu Sans Mono',consolas,'Courier New',monospace\">Applying skill: qa_skill\n",
       "</pre>\n"
      ],
      "text/plain": [
       "Applying skill: qa_skill\n"
      ]
     },
     "metadata": {},
     "output_type": "display_data"
    },
    {
     "data": {
      "text/html": [
       "<pre style=\"white-space:pre;overflow-x:auto;line-height:normal;font-family:Menlo,'DejaVu Sans Mono',consolas,'Courier New',monospace\"><span style=\"font-weight: bold\">[</span><span style=\"color: #008000; text-decoration-color: #008000\">'question'</span><span style=\"font-weight: bold\">]</span>\n",
       "</pre>\n"
      ],
      "text/plain": [
       "\u001b[1m[\u001b[0m\u001b[32m'question'\u001b[0m\u001b[1m]\u001b[0m\n"
      ]
     },
     "metadata": {},
     "output_type": "display_data"
    },
    {
     "name": "stderr",
     "output_type": "stream",
     "text": [
      "  0%|          | 0/4 [00:00<?, ?it/s]"
     ]
    },
    {
     "data": {
      "text/html": [
       "<pre style=\"white-space:pre;overflow-x:auto;line-height:normal;font-family:Menlo,'DejaVu Sans Mono',consolas,'Courier New',monospace\"><span style=\"font-weight: bold\">{</span><span style=\"color: #008000; text-decoration-color: #008000\">'question'</span>: <span style=\"color: #008000; text-decoration-color: #008000\">\"In quantum mechanics, what principle asserts that it's impossible to simultaneously know the exact </span>\n",
       "<span style=\"color: #008000; text-decoration-color: #008000\">position and momentum of a particle?\"</span>, <span style=\"color: #008000; text-decoration-color: #008000\">'expected_answer'</span>: <span style=\"color: #008000; text-decoration-color: #008000\">'Heisenberg Uncertainty Principle'</span>, <span style=\"color: #008000; text-decoration-color: #008000\">'qa_skill'</span>: <span style=\"color: #008000; text-decoration-color: #008000\">\"The </span>\n",
       "<span style=\"color: #008000; text-decoration-color: #008000\">Heisenberg uncertainty principle asserts that it's impossible to simultaneously know the exact position and </span>\n",
       "<span style=\"color: #008000; text-decoration-color: #008000\">momentum of a particle.\"</span><span style=\"font-weight: bold\">}</span>\n",
       "</pre>\n"
      ],
      "text/plain": [
       "\u001b[1m{\u001b[0m\u001b[32m'question'\u001b[0m: \u001b[32m\"In quantum mechanics, what principle asserts that it's impossible to simultaneously know the exact \u001b[0m\n",
       "\u001b[32mposition and momentum of a particle?\"\u001b[0m, \u001b[32m'expected_answer'\u001b[0m: \u001b[32m'Heisenberg Uncertainty Principle'\u001b[0m, \u001b[32m'qa_skill'\u001b[0m: \u001b[32m\"The \u001b[0m\n",
       "\u001b[32mHeisenberg uncertainty principle asserts that it's impossible to simultaneously know the exact position and \u001b[0m\n",
       "\u001b[32mmomentum of a particle.\"\u001b[0m\u001b[1m}\u001b[0m\n"
      ]
     },
     "metadata": {},
     "output_type": "display_data"
    },
    {
     "name": "stderr",
     "output_type": "stream",
     "text": [
      " 50%|█████     | 2/4 [00:03<00:03,  1.56s/it]"
     ]
    },
    {
     "data": {
      "text/html": [
       "<pre style=\"white-space:pre;overflow-x:auto;line-height:normal;font-family:Menlo,'DejaVu Sans Mono',consolas,'Courier New',monospace\"><span style=\"font-weight: bold\">{</span><span style=\"color: #008000; text-decoration-color: #008000\">'question'</span>: <span style=\"color: #008000; text-decoration-color: #008000\">\"Which famous poet wrote 'The Love Song of J. Alfred Prufrock'?\"</span>, <span style=\"color: #008000; text-decoration-color: #008000\">'expected_answer'</span>: <span style=\"color: #008000; text-decoration-color: #008000\">'T.S. Eliot'</span>, \n",
       "<span style=\"color: #008000; text-decoration-color: #008000\">'qa_skill'</span>: <span style=\"color: #008000; text-decoration-color: #008000\">'T.S. Eliot'</span><span style=\"font-weight: bold\">}</span>\n",
       "</pre>\n"
      ],
      "text/plain": [
       "\u001b[1m{\u001b[0m\u001b[32m'question'\u001b[0m: \u001b[32m\"Which famous poet wrote 'The Love Song of J. Alfred Prufrock'?\"\u001b[0m, \u001b[32m'expected_answer'\u001b[0m: \u001b[32m'T.S. Eliot'\u001b[0m, \n",
       "\u001b[32m'qa_skill'\u001b[0m: \u001b[32m'T.S. Eliot'\u001b[0m\u001b[1m}\u001b[0m\n"
      ]
     },
     "metadata": {},
     "output_type": "display_data"
    },
    {
     "name": "stderr",
     "output_type": "stream",
     "text": [
      " 75%|███████▌  | 3/4 [00:06<00:02,  2.40s/it]"
     ]
    },
    {
     "data": {
      "text/html": [
       "<pre style=\"white-space:pre;overflow-x:auto;line-height:normal;font-family:Menlo,'DejaVu Sans Mono',consolas,'Courier New',monospace\"><span style=\"font-weight: bold\">{</span><span style=\"color: #008000; text-decoration-color: #008000\">'question'</span>: <span style=\"color: #008000; text-decoration-color: #008000\">'What mathematical theorem states that in any right-angled triangle, the area of the square whose side</span>\n",
       "<span style=\"color: #008000; text-decoration-color: #008000\">is the hypotenuse is equal to the sum of the areas of the squares whose sides are the two legs?'</span>, \n",
       "<span style=\"color: #008000; text-decoration-color: #008000\">'expected_answer'</span>: <span style=\"color: #008000; text-decoration-color: #008000\">'Pythagorean Theorem'</span>, <span style=\"color: #008000; text-decoration-color: #008000\">'qa_skill'</span>: <span style=\"color: #008000; text-decoration-color: #008000\">'The mathematical theorem that states this is called the </span>\n",
       "<span style=\"color: #008000; text-decoration-color: #008000\">Pythagorean theorem.'</span><span style=\"font-weight: bold\">}</span>\n",
       "</pre>\n"
      ],
      "text/plain": [
       "\u001b[1m{\u001b[0m\u001b[32m'question'\u001b[0m: \u001b[32m'What mathematical theorem states that in any right-angled triangle, the area of the square whose side\u001b[0m\n",
       "\u001b[32mis the hypotenuse is equal to the sum of the areas of the squares whose sides are the two legs?'\u001b[0m, \n",
       "\u001b[32m'expected_answer'\u001b[0m: \u001b[32m'Pythagorean Theorem'\u001b[0m, \u001b[32m'qa_skill'\u001b[0m: \u001b[32m'The mathematical theorem that states this is called the \u001b[0m\n",
       "\u001b[32mPythagorean theorem.'\u001b[0m\u001b[1m}\u001b[0m\n"
      ]
     },
     "metadata": {},
     "output_type": "display_data"
    },
    {
     "name": "stderr",
     "output_type": "stream",
     "text": [
      "100%|██████████| 4/4 [00:09<00:00,  2.61s/it]"
     ]
    },
    {
     "data": {
      "text/html": [
       "<pre style=\"white-space:pre;overflow-x:auto;line-height:normal;font-family:Menlo,'DejaVu Sans Mono',consolas,'Courier New',monospace\"><span style=\"font-weight: bold\">{</span><span style=\"color: #008000; text-decoration-color: #008000\">'question'</span>: <span style=\"color: #008000; text-decoration-color: #008000\">'Which philosophical paradox involves a ship where all of its wooden parts are replaced with metal </span>\n",
       "<span style=\"color: #008000; text-decoration-color: #008000\">parts?'</span>, <span style=\"color: #008000; text-decoration-color: #008000\">'expected_answer'</span>: <span style=\"color: #008000; text-decoration-color: #008000\">'Ship of Theseus'</span>, <span style=\"color: #008000; text-decoration-color: #008000\">'qa_skill'</span>: <span style=\"color: #008000; text-decoration-color: #008000\">'The philosophical paradox you are referring to is known</span>\n",
       "<span style=\"color: #008000; text-decoration-color: #008000\">as the Ship of Theseus paradox.'</span><span style=\"font-weight: bold\">}</span>\n",
       "</pre>\n"
      ],
      "text/plain": [
       "\u001b[1m{\u001b[0m\u001b[32m'question'\u001b[0m: \u001b[32m'Which philosophical paradox involves a ship where all of its wooden parts are replaced with metal \u001b[0m\n",
       "\u001b[32mparts?'\u001b[0m, \u001b[32m'expected_answer'\u001b[0m: \u001b[32m'Ship of Theseus'\u001b[0m, \u001b[32m'qa_skill'\u001b[0m: \u001b[32m'The philosophical paradox you are referring to is known\u001b[0m\n",
       "\u001b[32mas the Ship of Theseus paradox.'\u001b[0m\u001b[1m}\u001b[0m\n"
      ]
     },
     "metadata": {},
     "output_type": "display_data"
    },
    {
     "name": "stderr",
     "output_type": "stream",
     "text": [
      "100%|██████████| 4/4 [00:14<00:00,  3.59s/it]\n"
     ]
    },
    {
     "data": {
      "text/html": [
       "<pre style=\"white-space:pre;overflow-x:auto;line-height:normal;font-family:Menlo,'DejaVu Sans Mono',consolas,'Courier New',monospace\">\n",
       "\n",
       "=&gt; Iteration #<span style=\"color: #008080; text-decoration-color: #008080; font-weight: bold\">1</span>: Comparing to ground truth, analyzing and improving <span style=\"color: #808000; text-decoration-color: #808000\">...</span>\n",
       "</pre>\n"
      ],
      "text/plain": [
       "\n",
       "\n",
       "=> Iteration #\u001b[1;36m1\u001b[0m: Comparing to ground truth, analyzing and improving \u001b[33m...\u001b[0m\n"
      ]
     },
     "metadata": {},
     "output_type": "display_data"
    },
    {
     "data": {
      "text/html": [
       "<pre style=\"white-space:pre;overflow-x:auto;line-height:normal;font-family:Menlo,'DejaVu Sans Mono',consolas,'Courier New',monospace\"><span style=\"color: #008080; text-decoration-color: #008080; font-weight: bold\">0</span>    Heisenberg Uncertainty Principle\n",
       "<span style=\"color: #008080; text-decoration-color: #008080; font-weight: bold\">1</span>                          T.S. Eliot\n",
       "<span style=\"color: #008080; text-decoration-color: #008080; font-weight: bold\">2</span>                 Pythagorean Theorem\n",
       "<span style=\"color: #008080; text-decoration-color: #008080; font-weight: bold\">3</span>                     Ship of Theseus\n",
       "Name: expected_answer, dtype: object\n",
       "</pre>\n"
      ],
      "text/plain": [
       "\u001b[1;36m0\u001b[0m    Heisenberg Uncertainty Principle\n",
       "\u001b[1;36m1\u001b[0m                          T.S. Eliot\n",
       "\u001b[1;36m2\u001b[0m                 Pythagorean Theorem\n",
       "\u001b[1;36m3\u001b[0m                     Ship of Theseus\n",
       "Name: expected_answer, dtype: object\n"
      ]
     },
     "metadata": {},
     "output_type": "display_data"
    },
    {
     "data": {
      "text/html": [
       "<pre style=\"white-space:pre;overflow-x:auto;line-height:normal;font-family:Menlo,'DejaVu Sans Mono',consolas,'Courier New',monospace\"><span style=\"color: #008080; text-decoration-color: #008080; font-weight: bold\">0</span>                   Heisenberg's uncertainty principle\n",
       "<span style=\"color: #008080; text-decoration-color: #008080; font-weight: bold\">1</span>                                           T.S. Eliot\n",
       "<span style=\"color: #008080; text-decoration-color: #008080; font-weight: bold\">2</span>                                  Pythagorean theorem\n",
       "<span style=\"color: #008080; text-decoration-color: #008080; font-weight: bold\">3</span>    The philosophical paradox you are referring to<span style=\"color: #808000; text-decoration-color: #808000\">...</span>\n",
       "Name: qa_skill, dtype: object\n",
       "</pre>\n"
      ],
      "text/plain": [
       "\u001b[1;36m0\u001b[0m                   Heisenberg's uncertainty principle\n",
       "\u001b[1;36m1\u001b[0m                                           T.S. Eliot\n",
       "\u001b[1;36m2\u001b[0m                                  Pythagorean theorem\n",
       "\u001b[1;36m3\u001b[0m    The philosophical paradox you are referring to\u001b[33m...\u001b[0m\n",
       "Name: qa_skill, dtype: object\n"
      ]
     },
     "metadata": {},
     "output_type": "display_data"
    },
    {
     "data": {
      "text/html": [
       "<pre style=\"white-space:pre;overflow-x:auto;line-height:normal;font-family:Menlo,'DejaVu Sans Mono',consolas,'Courier New',monospace\"> compare ground truth with predictions\n",
       "</pre>\n"
      ],
      "text/plain": [
       " compare ground truth with predictions\n"
      ]
     },
     "metadata": {},
     "output_type": "display_data"
    },
    {
     "data": {
      "text/html": [
       "<pre style=\"white-space:pre;overflow-x:auto;line-height:normal;font-family:Menlo,'DejaVu Sans Mono',consolas,'Courier New',monospace\">Comparing predictions to ground truth data <span style=\"color: #808000; text-decoration-color: #808000\">...</span>\n",
       "</pre>\n"
      ],
      "text/plain": [
       "Comparing predictions to ground truth data \u001b[33m...\u001b[0m\n"
      ]
     },
     "metadata": {},
     "output_type": "display_data"
    },
    {
     "data": {
      "text/html": [
       "<pre style=\"white-space:pre;overflow-x:auto;line-height:normal;font-family:Menlo,'DejaVu Sans Mono',consolas,'Courier New',monospace\">                                                                                                                   \n",
       " <span style=\"color: #800080; text-decoration-color: #800080; font-weight: bold\"> question                        </span> <span style=\"color: #800080; text-decoration-color: #800080; font-weight: bold\"> expected_answer                  </span> <span style=\"color: #800080; text-decoration-color: #800080; font-weight: bold\"> qa_skill                        </span> <span style=\"color: #800080; text-decoration-color: #800080; font-weight: bold\"> qa_skill </span> \n",
       " ───────────────────────────────────────────────────────────────────────────────────────────────────────────────── \n",
       "  In quantum mechanics, what        Heisenberg Uncertainty Principle   Heisenberg's uncertainty          False     \n",
       "  principle asserts that it's                                          principle                                   \n",
       "  impossible to simultaneously                                                                                     \n",
       "  know the exact position and                                                                                      \n",
       "  momentum of a particle?                                                                                          \n",
       " <span style=\"color: #7f7f7f; text-decoration-color: #7f7f7f\"> Which famous poet wrote 'The    </span> <span style=\"color: #7f7f7f; text-decoration-color: #7f7f7f\"> T.S. Eliot                       </span> <span style=\"color: #7f7f7f; text-decoration-color: #7f7f7f\"> T.S. Eliot                      </span> <span style=\"color: #7f7f7f; text-decoration-color: #7f7f7f\"> True     </span> \n",
       " <span style=\"color: #7f7f7f; text-decoration-color: #7f7f7f\"> Love Song of J. Alfred          </span> <span style=\"color: #7f7f7f; text-decoration-color: #7f7f7f\">                                  </span> <span style=\"color: #7f7f7f; text-decoration-color: #7f7f7f\">                                 </span> <span style=\"color: #7f7f7f; text-decoration-color: #7f7f7f\">          </span> \n",
       " <span style=\"color: #7f7f7f; text-decoration-color: #7f7f7f\"> Prufrock'?                      </span> <span style=\"color: #7f7f7f; text-decoration-color: #7f7f7f\">                                  </span> <span style=\"color: #7f7f7f; text-decoration-color: #7f7f7f\">                                 </span> <span style=\"color: #7f7f7f; text-decoration-color: #7f7f7f\">          </span> \n",
       "  What mathematical theorem         Pythagorean Theorem                Pythagorean theorem               False     \n",
       "  states that in any right-angled                                                                                  \n",
       "  triangle, the area of the                                                                                        \n",
       "  square whose side is the                                                                                         \n",
       "  hypotenuse is equal to the sum                                                                                   \n",
       "  of the areas of the squares                                                                                      \n",
       "  whose sides are the two legs?                                                                                    \n",
       " <span style=\"color: #7f7f7f; text-decoration-color: #7f7f7f\"> Which philosophical paradox     </span> <span style=\"color: #7f7f7f; text-decoration-color: #7f7f7f\"> Ship of Theseus                  </span> <span style=\"color: #7f7f7f; text-decoration-color: #7f7f7f\"> The philosophical paradox you   </span> <span style=\"color: #7f7f7f; text-decoration-color: #7f7f7f\"> False    </span> \n",
       " <span style=\"color: #7f7f7f; text-decoration-color: #7f7f7f\"> involves a ship where all of    </span> <span style=\"color: #7f7f7f; text-decoration-color: #7f7f7f\">                                  </span> <span style=\"color: #7f7f7f; text-decoration-color: #7f7f7f\"> are referring to is known as    </span> <span style=\"color: #7f7f7f; text-decoration-color: #7f7f7f\">          </span> \n",
       " <span style=\"color: #7f7f7f; text-decoration-color: #7f7f7f\"> its wooden parts are replaced   </span> <span style=\"color: #7f7f7f; text-decoration-color: #7f7f7f\">                                  </span> <span style=\"color: #7f7f7f; text-decoration-color: #7f7f7f\"> the Ship of Theseus paradox.    </span> <span style=\"color: #7f7f7f; text-decoration-color: #7f7f7f\">          </span> \n",
       " <span style=\"color: #7f7f7f; text-decoration-color: #7f7f7f\"> with metal parts?               </span> <span style=\"color: #7f7f7f; text-decoration-color: #7f7f7f\">                                  </span> <span style=\"color: #7f7f7f; text-decoration-color: #7f7f7f\">                                 </span> <span style=\"color: #7f7f7f; text-decoration-color: #7f7f7f\">          </span> \n",
       "                                                                                                                   \n",
       "</pre>\n"
      ],
      "text/plain": [
       "                                                                                                                   \n",
       " \u001b[1;35m \u001b[0m\u001b[1;35mquestion                       \u001b[0m\u001b[1;35m \u001b[0m \u001b[1;35m \u001b[0m\u001b[1;35mexpected_answer                 \u001b[0m\u001b[1;35m \u001b[0m \u001b[1;35m \u001b[0m\u001b[1;35mqa_skill                       \u001b[0m\u001b[1;35m \u001b[0m \u001b[1;35m \u001b[0m\u001b[1;35mqa_skill\u001b[0m\u001b[1;35m \u001b[0m \n",
       " ───────────────────────────────────────────────────────────────────────────────────────────────────────────────── \n",
       "  In quantum mechanics, what        Heisenberg Uncertainty Principle   Heisenberg's uncertainty          False     \n",
       "  principle asserts that it's                                          principle                                   \n",
       "  impossible to simultaneously                                                                                     \n",
       "  know the exact position and                                                                                      \n",
       "  momentum of a particle?                                                                                          \n",
       " \u001b[2m \u001b[0m\u001b[2mWhich famous poet wrote 'The   \u001b[0m\u001b[2m \u001b[0m \u001b[2m \u001b[0m\u001b[2mT.S. Eliot                      \u001b[0m\u001b[2m \u001b[0m \u001b[2m \u001b[0m\u001b[2mT.S. Eliot                     \u001b[0m\u001b[2m \u001b[0m \u001b[2m \u001b[0m\u001b[2mTrue    \u001b[0m\u001b[2m \u001b[0m \n",
       " \u001b[2m \u001b[0m\u001b[2mLove Song of J. Alfred         \u001b[0m\u001b[2m \u001b[0m \u001b[2m                                  \u001b[0m \u001b[2m                                 \u001b[0m \u001b[2m          \u001b[0m \n",
       " \u001b[2m \u001b[0m\u001b[2mPrufrock'?                     \u001b[0m\u001b[2m \u001b[0m \u001b[2m                                  \u001b[0m \u001b[2m                                 \u001b[0m \u001b[2m          \u001b[0m \n",
       "  What mathematical theorem         Pythagorean Theorem                Pythagorean theorem               False     \n",
       "  states that in any right-angled                                                                                  \n",
       "  triangle, the area of the                                                                                        \n",
       "  square whose side is the                                                                                         \n",
       "  hypotenuse is equal to the sum                                                                                   \n",
       "  of the areas of the squares                                                                                      \n",
       "  whose sides are the two legs?                                                                                    \n",
       " \u001b[2m \u001b[0m\u001b[2mWhich philosophical paradox    \u001b[0m\u001b[2m \u001b[0m \u001b[2m \u001b[0m\u001b[2mShip of Theseus                 \u001b[0m\u001b[2m \u001b[0m \u001b[2m \u001b[0m\u001b[2mThe philosophical paradox you  \u001b[0m\u001b[2m \u001b[0m \u001b[2m \u001b[0m\u001b[2mFalse   \u001b[0m\u001b[2m \u001b[0m \n",
       " \u001b[2m \u001b[0m\u001b[2minvolves a ship where all of   \u001b[0m\u001b[2m \u001b[0m \u001b[2m                                  \u001b[0m \u001b[2m \u001b[0m\u001b[2mare referring to is known as   \u001b[0m\u001b[2m \u001b[0m \u001b[2m          \u001b[0m \n",
       " \u001b[2m \u001b[0m\u001b[2mits wooden parts are replaced  \u001b[0m\u001b[2m \u001b[0m \u001b[2m                                  \u001b[0m \u001b[2m \u001b[0m\u001b[2mthe Ship of Theseus paradox.   \u001b[0m\u001b[2m \u001b[0m \u001b[2m          \u001b[0m \n",
       " \u001b[2m \u001b[0m\u001b[2mwith metal parts?              \u001b[0m\u001b[2m \u001b[0m \u001b[2m                                  \u001b[0m \u001b[2m                                 \u001b[0m \u001b[2m          \u001b[0m \n",
       "                                                                                                                   \n"
      ]
     },
     "metadata": {},
     "output_type": "display_data"
    },
    {
     "data": {
      "text/html": [
       "<pre style=\"white-space:pre;overflow-x:auto;line-height:normal;font-family:Menlo,'DejaVu Sans Mono',consolas,'Courier New',monospace\"><span style=\"color: #800000; text-decoration-color: #800000; font-weight: bold\">Accuracy = </span><span style=\"color: #008080; text-decoration-color: #008080; font-weight: bold\">25.00</span><span style=\"color: #800000; text-decoration-color: #800000; font-weight: bold\">%</span>\n",
       "</pre>\n"
      ],
      "text/plain": [
       "\u001b[1;31mAccuracy = \u001b[0m\u001b[1;36m25.00\u001b[0m\u001b[1;31m%\u001b[0m\n"
      ]
     },
     "metadata": {},
     "output_type": "display_data"
    },
    {
     "data": {
      "text/html": [
       "<pre style=\"white-space:pre;overflow-x:auto;line-height:normal;font-family:Menlo,'DejaVu Sans Mono',consolas,'Courier New',monospace\">Analyze evaluation experience <span style=\"color: #808000; text-decoration-color: #808000\">...</span>\n",
       "</pre>\n"
      ],
      "text/plain": [
       "Analyze evaluation experience \u001b[33m...\u001b[0m\n"
      ]
     },
     "metadata": {},
     "output_type": "display_data"
    },
    {
     "data": {
      "text/html": [
       "<pre style=\"white-space:pre;overflow-x:auto;line-height:normal;font-family:Menlo,'DejaVu Sans Mono',consolas,'Courier New',monospace\"><span style=\"font-weight: bold\">[</span><span style=\"color: #008000; text-decoration-color: #008000\">'question'</span><span style=\"font-weight: bold\">]</span>\n",
       "</pre>\n"
      ],
      "text/plain": [
       "\u001b[1m[\u001b[0m\u001b[32m'question'\u001b[0m\u001b[1m]\u001b[0m\n"
      ]
     },
     "metadata": {},
     "output_type": "display_data"
    },
    {
     "name": "stderr",
     "output_type": "stream",
     "text": [
      "  0%|          | 0/3 [00:00<?, ?it/s]"
     ]
    },
    {
     "data": {
      "text/html": [
       "<pre style=\"white-space:pre;overflow-x:auto;line-height:normal;font-family:Menlo,'DejaVu Sans Mono',consolas,'Courier New',monospace\"><span style=\"font-weight: bold\">{</span><span style=\"color: #008000; text-decoration-color: #008000\">'question'</span>: <span style=\"color: #008000; text-decoration-color: #008000\">'Which philosophical paradox involves a ship where all of its wooden parts are replaced with metal </span>\n",
       "<span style=\"color: #008000; text-decoration-color: #008000\">parts?'</span>, <span style=\"color: #008000; text-decoration-color: #008000\">'expected_answer'</span>: <span style=\"color: #008000; text-decoration-color: #008000\">'Ship of Theseus'</span>, <span style=\"color: #008000; text-decoration-color: #008000\">'qa_skill'</span>: <span style=\"color: #008000; text-decoration-color: #008000\">'The philosophical paradox you are referring to is known</span>\n",
       "<span style=\"color: #008000; text-decoration-color: #008000\">as the Ship of Theseus paradox.'</span><span style=\"font-weight: bold\">}</span>\n",
       "</pre>\n"
      ],
      "text/plain": [
       "\u001b[1m{\u001b[0m\u001b[32m'question'\u001b[0m: \u001b[32m'Which philosophical paradox involves a ship where all of its wooden parts are replaced with metal \u001b[0m\n",
       "\u001b[32mparts?'\u001b[0m, \u001b[32m'expected_answer'\u001b[0m: \u001b[32m'Ship of Theseus'\u001b[0m, \u001b[32m'qa_skill'\u001b[0m: \u001b[32m'The philosophical paradox you are referring to is known\u001b[0m\n",
       "\u001b[32mas the Ship of Theseus paradox.'\u001b[0m\u001b[1m}\u001b[0m\n"
      ]
     },
     "metadata": {},
     "output_type": "display_data"
    },
    {
     "name": "stderr",
     "output_type": "stream",
     "text": [
      " 67%|██████▋   | 2/3 [00:05<00:02,  2.76s/it]"
     ]
    },
    {
     "data": {
      "text/html": [
       "<pre style=\"white-space:pre;overflow-x:auto;line-height:normal;font-family:Menlo,'DejaVu Sans Mono',consolas,'Courier New',monospace\"><span style=\"font-weight: bold\">{</span><span style=\"color: #008000; text-decoration-color: #008000\">'question'</span>: <span style=\"color: #008000; text-decoration-color: #008000\">\"In quantum mechanics, what principle asserts that it's impossible to simultaneously know the exact </span>\n",
       "<span style=\"color: #008000; text-decoration-color: #008000\">position and momentum of a particle?\"</span>, <span style=\"color: #008000; text-decoration-color: #008000\">'expected_answer'</span>: <span style=\"color: #008000; text-decoration-color: #008000\">'Heisenberg Uncertainty Principle'</span>, <span style=\"color: #008000; text-decoration-color: #008000\">'qa_skill'</span>: \n",
       "<span style=\"color: #008000; text-decoration-color: #008000\">\"Heisenberg's uncertainty principle\"</span><span style=\"font-weight: bold\">}</span>\n",
       "</pre>\n"
      ],
      "text/plain": [
       "\u001b[1m{\u001b[0m\u001b[32m'question'\u001b[0m: \u001b[32m\"In quantum mechanics, what principle asserts that it's impossible to simultaneously know the exact \u001b[0m\n",
       "\u001b[32mposition and momentum of a particle?\"\u001b[0m, \u001b[32m'expected_answer'\u001b[0m: \u001b[32m'Heisenberg Uncertainty Principle'\u001b[0m, \u001b[32m'qa_skill'\u001b[0m: \n",
       "\u001b[32m\"Heisenberg's uncertainty principle\"\u001b[0m\u001b[1m}\u001b[0m\n"
      ]
     },
     "metadata": {},
     "output_type": "display_data"
    },
    {
     "name": "stderr",
     "output_type": "stream",
     "text": [
      "100%|██████████| 3/3 [00:21<00:00,  8.18s/it]"
     ]
    },
    {
     "data": {
      "text/html": [
       "<pre style=\"white-space:pre;overflow-x:auto;line-height:normal;font-family:Menlo,'DejaVu Sans Mono',consolas,'Courier New',monospace\"><span style=\"font-weight: bold\">{</span><span style=\"color: #008000; text-decoration-color: #008000\">'question'</span>: <span style=\"color: #008000; text-decoration-color: #008000\">'What mathematical theorem states that in any right-angled triangle, the area of the square whose side</span>\n",
       "<span style=\"color: #008000; text-decoration-color: #008000\">is the hypotenuse is equal to the sum of the areas of the squares whose sides are the two legs?'</span>, \n",
       "<span style=\"color: #008000; text-decoration-color: #008000\">'expected_answer'</span>: <span style=\"color: #008000; text-decoration-color: #008000\">'Pythagorean Theorem'</span>, <span style=\"color: #008000; text-decoration-color: #008000\">'qa_skill'</span>: <span style=\"color: #008000; text-decoration-color: #008000\">'Pythagorean theorem'</span><span style=\"font-weight: bold\">}</span>\n",
       "</pre>\n"
      ],
      "text/plain": [
       "\u001b[1m{\u001b[0m\u001b[32m'question'\u001b[0m: \u001b[32m'What mathematical theorem states that in any right-angled triangle, the area of the square whose side\u001b[0m\n",
       "\u001b[32mis the hypotenuse is equal to the sum of the areas of the squares whose sides are the two legs?'\u001b[0m, \n",
       "\u001b[32m'expected_answer'\u001b[0m: \u001b[32m'Pythagorean Theorem'\u001b[0m, \u001b[32m'qa_skill'\u001b[0m: \u001b[32m'Pythagorean theorem'\u001b[0m\u001b[1m}\u001b[0m\n"
      ]
     },
     "metadata": {},
     "output_type": "display_data"
    },
    {
     "name": "stderr",
     "output_type": "stream",
     "text": [
      "100%|██████████| 3/3 [00:24<00:00,  8.22s/it]\n"
     ]
    },
    {
     "data": {
      "text/html": [
       "<pre style=\"white-space:pre;overflow-x:auto;line-height:normal;font-family:Menlo,'DejaVu Sans Mono',consolas,'Courier New',monospace\">                                              answer\n",
       "<span style=\"color: #008080; text-decoration-color: #008080; font-weight: bold\">3</span>  The philosophical paradox you are referring to<span style=\"color: #808000; text-decoration-color: #808000\">...</span>\n",
       "<span style=\"color: #008080; text-decoration-color: #008080; font-weight: bold\">0</span>                 Heisenberg's uncertainty principle\n",
       "<span style=\"color: #008080; text-decoration-color: #008080; font-weight: bold\">2</span>                                Pythagorean theorem\n",
       "</pre>\n"
      ],
      "text/plain": [
       "                                              answer\n",
       "\u001b[1;36m3\u001b[0m  The philosophical paradox you are referring to\u001b[33m...\u001b[0m\n",
       "\u001b[1;36m0\u001b[0m                 Heisenberg's uncertainty principle\n",
       "\u001b[1;36m2\u001b[0m                                Pythagorean theorem\n"
      ]
     },
     "metadata": {},
     "output_type": "display_data"
    },
    {
     "data": {
      "text/html": [
       "<pre style=\"white-space:pre;overflow-x:auto;line-height:normal;font-family:Menlo,'DejaVu Sans Mono',consolas,'Courier New',monospace\"><span style=\"font-weight: bold\">[</span><span style=\"color: #008000; text-decoration-color: #008000\">'ground_truth'</span>, <span style=\"color: #008000; text-decoration-color: #008000\">'input'</span>, <span style=\"color: #008000; text-decoration-color: #008000\">'prediction'</span><span style=\"font-weight: bold\">]</span>\n",
       "</pre>\n"
      ],
      "text/plain": [
       "\u001b[1m[\u001b[0m\u001b[32m'ground_truth'\u001b[0m, \u001b[32m'input'\u001b[0m, \u001b[32m'prediction'\u001b[0m\u001b[1m]\u001b[0m\n"
      ]
     },
     "metadata": {},
     "output_type": "display_data"
    },
    {
     "name": "stderr",
     "output_type": "stream",
     "text": [
      "  0%|          | 0/3 [00:00<?, ?it/s]"
     ]
    },
    {
     "data": {
      "text/html": [
       "<pre style=\"white-space:pre;overflow-x:auto;line-height:normal;font-family:Menlo,'DejaVu Sans Mono',consolas,'Courier New',monospace\"><span style=\"font-weight: bold\">{</span><span style=\"color: #008000; text-decoration-color: #008000\">'input'</span>: <span style=\"color: #008000; text-decoration-color: #008000\">'The philosophical paradox you are referring to is known as the Ship of Theseus paradox.'</span>, <span style=\"color: #008000; text-decoration-color: #008000\">'prediction'</span>: \n",
       "<span style=\"color: #008000; text-decoration-color: #008000\">'The philosophical paradox you are referring to is known as the Ship of Theseus paradox.'</span>, <span style=\"color: #008000; text-decoration-color: #008000\">'ground_truth'</span>: <span style=\"color: #008000; text-decoration-color: #008000\">'Ship of</span>\n",
       "<span style=\"color: #008000; text-decoration-color: #008000\">Theseus'</span><span style=\"font-weight: bold\">}</span>\n",
       "</pre>\n"
      ],
      "text/plain": [
       "\u001b[1m{\u001b[0m\u001b[32m'input'\u001b[0m: \u001b[32m'The philosophical paradox you are referring to is known as the Ship of Theseus paradox.'\u001b[0m, \u001b[32m'prediction'\u001b[0m: \n",
       "\u001b[32m'The philosophical paradox you are referring to is known as the Ship of Theseus paradox.'\u001b[0m, \u001b[32m'ground_truth'\u001b[0m: \u001b[32m'Ship of\u001b[0m\n",
       "\u001b[32mTheseus'\u001b[0m\u001b[1m}\u001b[0m\n"
      ]
     },
     "metadata": {},
     "output_type": "display_data"
    },
    {
     "name": "stderr",
     "output_type": "stream",
     "text": [
      " 67%|██████▋   | 2/3 [00:06<00:03,  3.22s/it]"
     ]
    },
    {
     "data": {
      "text/html": [
       "<pre style=\"white-space:pre;overflow-x:auto;line-height:normal;font-family:Menlo,'DejaVu Sans Mono',consolas,'Courier New',monospace\"><span style=\"font-weight: bold\">{</span><span style=\"color: #008000; text-decoration-color: #008000\">'input'</span>: <span style=\"color: #008000; text-decoration-color: #008000\">\"Heisenberg's uncertainty principle\"</span>, <span style=\"color: #008000; text-decoration-color: #008000\">'prediction'</span>: <span style=\"color: #008000; text-decoration-color: #008000\">\"Heisenberg's uncertainty principle\"</span>, <span style=\"color: #008000; text-decoration-color: #008000\">'ground_truth'</span>:\n",
       "<span style=\"color: #008000; text-decoration-color: #008000\">'Heisenberg Uncertainty Principle'</span><span style=\"font-weight: bold\">}</span>\n",
       "</pre>\n"
      ],
      "text/plain": [
       "\u001b[1m{\u001b[0m\u001b[32m'input'\u001b[0m: \u001b[32m\"Heisenberg's uncertainty principle\"\u001b[0m, \u001b[32m'prediction'\u001b[0m: \u001b[32m\"Heisenberg's uncertainty principle\"\u001b[0m, \u001b[32m'ground_truth'\u001b[0m:\n",
       "\u001b[32m'Heisenberg Uncertainty Principle'\u001b[0m\u001b[1m}\u001b[0m\n"
      ]
     },
     "metadata": {},
     "output_type": "display_data"
    },
    {
     "name": "stderr",
     "output_type": "stream",
     "text": [
      "100%|██████████| 3/3 [00:16<00:00,  6.02s/it]"
     ]
    },
    {
     "data": {
      "text/html": [
       "<pre style=\"white-space:pre;overflow-x:auto;line-height:normal;font-family:Menlo,'DejaVu Sans Mono',consolas,'Courier New',monospace\"><span style=\"font-weight: bold\">{</span><span style=\"color: #008000; text-decoration-color: #008000\">'input'</span>: <span style=\"color: #008000; text-decoration-color: #008000\">'Pythagorean theorem'</span>, <span style=\"color: #008000; text-decoration-color: #008000\">'prediction'</span>: <span style=\"color: #008000; text-decoration-color: #008000\">'Pythagorean theorem'</span>, <span style=\"color: #008000; text-decoration-color: #008000\">'ground_truth'</span>: <span style=\"color: #008000; text-decoration-color: #008000\">'Pythagorean Theorem'</span><span style=\"font-weight: bold\">}</span>\n",
       "</pre>\n"
      ],
      "text/plain": [
       "\u001b[1m{\u001b[0m\u001b[32m'input'\u001b[0m: \u001b[32m'Pythagorean theorem'\u001b[0m, \u001b[32m'prediction'\u001b[0m: \u001b[32m'Pythagorean theorem'\u001b[0m, \u001b[32m'ground_truth'\u001b[0m: \u001b[32m'Pythagorean Theorem'\u001b[0m\u001b[1m}\u001b[0m\n"
      ]
     },
     "metadata": {},
     "output_type": "display_data"
    },
    {
     "name": "stderr",
     "output_type": "stream",
     "text": [
      "100%|██████████| 3/3 [00:20<00:00,  6.80s/it]\n"
     ]
    },
    {
     "data": {
      "text/html": [
       "<pre style=\"white-space:pre;overflow-x:auto;line-height:normal;font-family:Menlo,'DejaVu Sans Mono',consolas,'Courier New',monospace\"><span style=\"font-weight: bold\">[</span><span style=\"color: #008000; text-decoration-color: #008000\">'ground_truth'</span>, <span style=\"color: #008000; text-decoration-color: #008000\">'input'</span>, <span style=\"color: #008000; text-decoration-color: #008000\">'prediction'</span>, <span style=\"color: #008000; text-decoration-color: #008000\">'reason'</span><span style=\"font-weight: bold\">]</span>\n",
       "</pre>\n"
      ],
      "text/plain": [
       "\u001b[1m[\u001b[0m\u001b[32m'ground_truth'\u001b[0m, \u001b[32m'input'\u001b[0m, \u001b[32m'prediction'\u001b[0m, \u001b[32m'reason'\u001b[0m\u001b[1m]\u001b[0m\n"
      ]
     },
     "metadata": {},
     "output_type": "display_data"
    },
    {
     "name": "stderr",
     "output_type": "stream",
     "text": [
      "  0%|          | 0/3 [00:00<?, ?it/s]"
     ]
    },
    {
     "data": {
      "text/html": [
       "<pre style=\"white-space:pre;overflow-x:auto;line-height:normal;font-family:Menlo,'DejaVu Sans Mono',consolas,'Courier New',monospace\"><span style=\"font-weight: bold\">{</span><span style=\"color: #008000; text-decoration-color: #008000\">'input'</span>: <span style=\"color: #008000; text-decoration-color: #008000\">'The philosophical paradox you are referring to is known as the Ship of Theseus paradox.'</span>, <span style=\"color: #008000; text-decoration-color: #008000\">'prediction'</span>: \n",
       "<span style=\"color: #008000; text-decoration-color: #008000\">'The philosophical paradox you are referring to is known as the Ship of Theseus paradox.'</span>, <span style=\"color: #008000; text-decoration-color: #008000\">'ground_truth'</span>: <span style=\"color: #008000; text-decoration-color: #008000\">'Ship of</span>\n",
       "<span style=\"color: #008000; text-decoration-color: #008000\">Theseus'</span>, <span style=\"color: #008000; text-decoration-color: #008000\">'reason'</span>: <span style=\"color: #008000; text-decoration-color: #008000\">'The original instruction asked for the name of a mathematical theorem, but the Ship of Theseus</span>\n",
       "<span style=\"color: #008000; text-decoration-color: #008000\">paradox is a philosophical paradox, not a mathematical theorem.'</span><span style=\"font-weight: bold\">}</span>\n",
       "</pre>\n"
      ],
      "text/plain": [
       "\u001b[1m{\u001b[0m\u001b[32m'input'\u001b[0m: \u001b[32m'The philosophical paradox you are referring to is known as the Ship of Theseus paradox.'\u001b[0m, \u001b[32m'prediction'\u001b[0m: \n",
       "\u001b[32m'The philosophical paradox you are referring to is known as the Ship of Theseus paradox.'\u001b[0m, \u001b[32m'ground_truth'\u001b[0m: \u001b[32m'Ship of\u001b[0m\n",
       "\u001b[32mTheseus'\u001b[0m, \u001b[32m'reason'\u001b[0m: \u001b[32m'The original instruction asked for the name of a mathematical theorem, but the Ship of Theseus\u001b[0m\n",
       "\u001b[32mparadox is a philosophical paradox, not a mathematical theorem.'\u001b[0m\u001b[1m}\u001b[0m\n"
      ]
     },
     "metadata": {},
     "output_type": "display_data"
    },
    {
     "name": "stderr",
     "output_type": "stream",
     "text": [
      " 67%|██████▋   | 2/3 [00:05<00:02,  2.91s/it]"
     ]
    },
    {
     "data": {
      "text/html": [
       "<pre style=\"white-space:pre;overflow-x:auto;line-height:normal;font-family:Menlo,'DejaVu Sans Mono',consolas,'Courier New',monospace\"><span style=\"font-weight: bold\">{</span><span style=\"color: #008000; text-decoration-color: #008000\">'input'</span>: <span style=\"color: #008000; text-decoration-color: #008000\">\"Heisenberg's uncertainty principle\"</span>, <span style=\"color: #008000; text-decoration-color: #008000\">'prediction'</span>: <span style=\"color: #008000; text-decoration-color: #008000\">\"Heisenberg's uncertainty principle\"</span>, <span style=\"color: #008000; text-decoration-color: #008000\">'ground_truth'</span>:\n",
       "<span style=\"color: #008000; text-decoration-color: #008000\">'Heisenberg Uncertainty Principle'</span>, <span style=\"color: #008000; text-decoration-color: #008000\">'reason'</span>: <span style=\"color: #008000; text-decoration-color: #008000\">\"The original instruction is asking for the name of the mathematical </span>\n",
       "<span style=\"color: #008000; text-decoration-color: #008000\">theorem mentioned in the input text, but the prediction already correctly identifies it as Heisenberg's uncertainty</span>\n",
       "<span style=\"color: #008000; text-decoration-color: #008000\">principle. Therefore, there is no error in the prediction.\"</span><span style=\"font-weight: bold\">}</span>\n",
       "</pre>\n"
      ],
      "text/plain": [
       "\u001b[1m{\u001b[0m\u001b[32m'input'\u001b[0m: \u001b[32m\"Heisenberg's uncertainty principle\"\u001b[0m, \u001b[32m'prediction'\u001b[0m: \u001b[32m\"Heisenberg's uncertainty principle\"\u001b[0m, \u001b[32m'ground_truth'\u001b[0m:\n",
       "\u001b[32m'Heisenberg Uncertainty Principle'\u001b[0m, \u001b[32m'reason'\u001b[0m: \u001b[32m\"The original instruction is asking for the name of the mathematical \u001b[0m\n",
       "\u001b[32mtheorem mentioned in the input text, but the prediction already correctly identifies it as Heisenberg's uncertainty\u001b[0m\n",
       "\u001b[32mprinciple. Therefore, there is no error in the prediction.\"\u001b[0m\u001b[1m}\u001b[0m\n"
      ]
     },
     "metadata": {},
     "output_type": "display_data"
    },
    {
     "name": "stderr",
     "output_type": "stream",
     "text": [
      "100%|██████████| 3/3 [00:15<00:00,  5.87s/it]"
     ]
    },
    {
     "data": {
      "text/html": [
       "<pre style=\"white-space:pre;overflow-x:auto;line-height:normal;font-family:Menlo,'DejaVu Sans Mono',consolas,'Courier New',monospace\"><span style=\"font-weight: bold\">{</span><span style=\"color: #008000; text-decoration-color: #008000\">'input'</span>: <span style=\"color: #008000; text-decoration-color: #008000\">'Pythagorean theorem'</span>, <span style=\"color: #008000; text-decoration-color: #008000\">'prediction'</span>: <span style=\"color: #008000; text-decoration-color: #008000\">'Pythagorean theorem'</span>, <span style=\"color: #008000; text-decoration-color: #008000\">'ground_truth'</span>: <span style=\"color: #008000; text-decoration-color: #008000\">'Pythagorean Theorem'</span>, \n",
       "<span style=\"color: #008000; text-decoration-color: #008000\">'reason'</span>: <span style=\"color: #008000; text-decoration-color: #008000\">\"The error is due to the misspelling of 'Theorem' as 'theorem' in the input text.\"</span><span style=\"font-weight: bold\">}</span>\n",
       "</pre>\n"
      ],
      "text/plain": [
       "\u001b[1m{\u001b[0m\u001b[32m'input'\u001b[0m: \u001b[32m'Pythagorean theorem'\u001b[0m, \u001b[32m'prediction'\u001b[0m: \u001b[32m'Pythagorean theorem'\u001b[0m, \u001b[32m'ground_truth'\u001b[0m: \u001b[32m'Pythagorean Theorem'\u001b[0m, \n",
       "\u001b[32m'reason'\u001b[0m: \u001b[32m\"The error is due to the misspelling of 'Theorem' as 'theorem' in the input text.\"\u001b[0m\u001b[1m}\u001b[0m\n"
      ]
     },
     "metadata": {},
     "output_type": "display_data"
    },
    {
     "name": "stderr",
     "output_type": "stream",
     "text": [
      "100%|██████████| 3/3 [00:22<00:00,  7.36s/it]\n"
     ]
    },
    {
     "data": {
      "text/html": [
       "<pre style=\"white-space:pre;overflow-x:auto;line-height:normal;font-family:Menlo,'DejaVu Sans Mono',consolas,'Courier New',monospace\">Error analysis for skill <span style=\"color: #008000; text-decoration-color: #008000\">\"qa_skill\"</span>:\n",
       "\n",
       "</pre>\n"
      ],
      "text/plain": [
       "Error analysis for skill \u001b[32m\"qa_skill\"\u001b[0m:\n",
       "\n"
      ]
     },
     "metadata": {},
     "output_type": "display_data"
    },
    {
     "data": {
      "text/html": [
       "<pre style=\"white-space:pre;overflow-x:auto;line-height:normal;font-family:Menlo,'DejaVu Sans Mono',consolas,'Courier New',monospace\"><span style=\"color: #008000; text-decoration-color: #008000\">The model incorrectly predicted that the philosophical paradox referred to is known as the Ship of Theseus paradox,</span>\n",
       "<span style=\"color: #008000; text-decoration-color: #008000\">while the ground truth is Ship of Theseus. The error reason is that the original instruction asked for the name of </span>\n",
       "<span style=\"color: #008000; text-decoration-color: #008000\">a mathematical theorem, not a philosophical paradox. The original instruction is asking for the name of the </span>\n",
       "<span style=\"color: #008000; text-decoration-color: #008000\">mathematical theorem mentioned in the input text, but the prediction already correctly identifies it as </span>\n",
       "<span style=\"color: #008000; text-decoration-color: #008000\">Heisenberg's uncertainty principle. Therefore, there is no error in the prediction. The error is due to the </span>\n",
       "<span style=\"color: #008000; text-decoration-color: #008000\">misspelling of </span><span style=\"color: #008000; text-decoration-color: #008000\">'Theorem'</span><span style=\"color: #008000; text-decoration-color: #008000\"> as </span><span style=\"color: #008000; text-decoration-color: #008000\">'theorem'</span><span style=\"color: #008000; text-decoration-color: #008000\"> in the input text.</span>\n",
       "</pre>\n"
      ],
      "text/plain": [
       "\u001b[32mThe model incorrectly predicted that the philosophical paradox referred to is known as the Ship of Theseus paradox,\u001b[0m\n",
       "\u001b[32mwhile the ground truth is Ship of Theseus. The error reason is that the original instruction asked for the name of \u001b[0m\n",
       "\u001b[32ma mathematical theorem, not a philosophical paradox. The original instruction is asking for the name of the \u001b[0m\n",
       "\u001b[32mmathematical theorem mentioned in the input text, but the prediction already correctly identifies it as \u001b[0m\n",
       "\u001b[32mHeisenberg's uncertainty principle. Therefore, there is no error in the prediction. The error is due to the \u001b[0m\n",
       "\u001b[32mmisspelling of \u001b[0m\u001b[32m'Theorem'\u001b[0m\u001b[32m as \u001b[0m\u001b[32m'theorem'\u001b[0m\u001b[32m in the input text.\u001b[0m\n"
      ]
     },
     "metadata": {},
     "output_type": "display_data"
    },
    {
     "data": {
      "text/html": [
       "<pre style=\"white-space:pre;overflow-x:auto;line-height:normal;font-family:Menlo,'DejaVu Sans Mono',consolas,'Courier New',monospace\">Improve <span style=\"color: #008000; text-decoration-color: #008000\">\"qa_skill\"</span> skill based on analysis <span style=\"color: #808000; text-decoration-color: #808000\">...</span>\n",
       "</pre>\n"
      ],
      "text/plain": [
       "Improve \u001b[32m\"qa_skill\"\u001b[0m skill based on analysis \u001b[33m...\u001b[0m\n"
      ]
     },
     "metadata": {},
     "output_type": "display_data"
    },
    {
     "data": {
      "text/html": [
       "<pre style=\"white-space:pre;overflow-x:auto;line-height:normal;font-family:Menlo,'DejaVu Sans Mono',consolas,'Courier New',monospace\"><span style=\"font-weight: bold\">{</span><span style=\"color: #008000; text-decoration-color: #008000\">'error_analysis'</span>: <span style=\"color: #008000; text-decoration-color: #008000\">\"The model incorrectly predicted that the philosophical paradox referred to is known as the Ship</span>\n",
       "<span style=\"color: #008000; text-decoration-color: #008000\">of Theseus paradox, while the ground truth is Ship of Theseus. The error reason is that the original instruction </span>\n",
       "<span style=\"color: #008000; text-decoration-color: #008000\">asked for the name of a mathematical theorem, not a philosophical paradox. The original instruction is asking for </span>\n",
       "<span style=\"color: #008000; text-decoration-color: #008000\">the name of the mathematical theorem mentioned in the input text, but the prediction already correctly identifies </span>\n",
       "<span style=\"color: #008000; text-decoration-color: #008000\">it as Heisenberg's uncertainty principle. Therefore, there is no error in the prediction. The error is due to the </span>\n",
       "<span style=\"color: #008000; text-decoration-color: #008000\">misspelling of 'Theorem' as 'theorem' in the input text.\"</span><span style=\"font-weight: bold\">}</span>\n",
       "</pre>\n"
      ],
      "text/plain": [
       "\u001b[1m{\u001b[0m\u001b[32m'error_analysis'\u001b[0m: \u001b[32m\"The model incorrectly predicted that the philosophical paradox referred to is known as the Ship\u001b[0m\n",
       "\u001b[32mof Theseus paradox, while the ground truth is Ship of Theseus. The error reason is that the original instruction \u001b[0m\n",
       "\u001b[32masked for the name of a mathematical theorem, not a philosophical paradox. The original instruction is asking for \u001b[0m\n",
       "\u001b[32mthe name of the mathematical theorem mentioned in the input text, but the prediction already correctly identifies \u001b[0m\n",
       "\u001b[32mit as Heisenberg's uncertainty principle. Therefore, there is no error in the prediction. The error is due to the \u001b[0m\n",
       "\u001b[32mmisspelling of 'Theorem' as 'theorem' in the input text.\"\u001b[0m\u001b[1m}\u001b[0m\n"
      ]
     },
     "metadata": {},
     "output_type": "display_data"
    },
    {
     "data": {
      "text/html": [
       "<pre style=\"white-space:pre;overflow-x:auto;line-height:normal;font-family:Menlo,'DejaVu Sans Mono',consolas,'Courier New',monospace\">Updated instructions for skill <span style=\"color: #008000; text-decoration-color: #008000\">\"qa_skill\"</span>:\n",
       "\n",
       "</pre>\n"
      ],
      "text/plain": [
       "Updated instructions for skill \u001b[32m\"qa_skill\"\u001b[0m:\n",
       "\n"
      ]
     },
     "metadata": {},
     "output_type": "display_data"
    },
    {
     "data": {
      "text/html": [
       "<pre style=\"white-space:pre;overflow-x:auto;line-height:normal;font-family:Menlo,'DejaVu Sans Mono',consolas,'Courier New',monospace\"><span style=\"color: #008000; text-decoration-color: #008000; font-weight: bold\">Provide the name of the mathematical theorem mentioned in the input text.</span>\n",
       "</pre>\n"
      ],
      "text/plain": [
       "\u001b[1;32mProvide the name of the mathematical theorem mentioned in the input text.\u001b[0m\n"
      ]
     },
     "metadata": {},
     "output_type": "display_data"
    },
    {
     "data": {
      "text/html": [
       "<pre style=\"white-space:pre;overflow-x:auto;line-height:normal;font-family:Menlo,'DejaVu Sans Mono',consolas,'Courier New',monospace\">Re-apply qa_skill skill to dataset <span style=\"color: #808000; text-decoration-color: #808000\">...</span>\n",
       "</pre>\n"
      ],
      "text/plain": [
       "Re-apply qa_skill skill to dataset \u001b[33m...\u001b[0m\n"
      ]
     },
     "metadata": {},
     "output_type": "display_data"
    },
    {
     "data": {
      "text/html": [
       "<pre style=\"white-space:pre;overflow-x:auto;line-height:normal;font-family:Menlo,'DejaVu Sans Mono',consolas,'Courier New',monospace\">Applying skill: qa_skill\n",
       "</pre>\n"
      ],
      "text/plain": [
       "Applying skill: qa_skill\n"
      ]
     },
     "metadata": {},
     "output_type": "display_data"
    },
    {
     "data": {
      "text/html": [
       "<pre style=\"white-space:pre;overflow-x:auto;line-height:normal;font-family:Menlo,'DejaVu Sans Mono',consolas,'Courier New',monospace\"><span style=\"font-weight: bold\">[</span><span style=\"color: #008000; text-decoration-color: #008000\">'question'</span><span style=\"font-weight: bold\">]</span>\n",
       "</pre>\n"
      ],
      "text/plain": [
       "\u001b[1m[\u001b[0m\u001b[32m'question'\u001b[0m\u001b[1m]\u001b[0m\n"
      ]
     },
     "metadata": {},
     "output_type": "display_data"
    },
    {
     "name": "stderr",
     "output_type": "stream",
     "text": [
      "  0%|          | 0/4 [00:00<?, ?it/s]"
     ]
    },
    {
     "data": {
      "text/html": [
       "<pre style=\"white-space:pre;overflow-x:auto;line-height:normal;font-family:Menlo,'DejaVu Sans Mono',consolas,'Courier New',monospace\"><span style=\"font-weight: bold\">{</span><span style=\"color: #008000; text-decoration-color: #008000\">'question'</span>: <span style=\"color: #008000; text-decoration-color: #008000\">\"In quantum mechanics, what principle asserts that it's impossible to simultaneously know the exact </span>\n",
       "<span style=\"color: #008000; text-decoration-color: #008000\">position and momentum of a particle?\"</span>, <span style=\"color: #008000; text-decoration-color: #008000\">'expected_answer'</span>: <span style=\"color: #008000; text-decoration-color: #008000\">'Heisenberg Uncertainty Principle'</span>, <span style=\"color: #008000; text-decoration-color: #008000\">'qa_skill'</span>: \n",
       "<span style=\"color: #008000; text-decoration-color: #008000\">\"Heisenberg's uncertainty principle\"</span><span style=\"font-weight: bold\">}</span>\n",
       "</pre>\n"
      ],
      "text/plain": [
       "\u001b[1m{\u001b[0m\u001b[32m'question'\u001b[0m: \u001b[32m\"In quantum mechanics, what principle asserts that it's impossible to simultaneously know the exact \u001b[0m\n",
       "\u001b[32mposition and momentum of a particle?\"\u001b[0m, \u001b[32m'expected_answer'\u001b[0m: \u001b[32m'Heisenberg Uncertainty Principle'\u001b[0m, \u001b[32m'qa_skill'\u001b[0m: \n",
       "\u001b[32m\"Heisenberg's uncertainty principle\"\u001b[0m\u001b[1m}\u001b[0m\n"
      ]
     },
     "metadata": {},
     "output_type": "display_data"
    },
    {
     "name": "stderr",
     "output_type": "stream",
     "text": [
      " 50%|█████     | 2/4 [00:03<00:03,  1.59s/it]"
     ]
    },
    {
     "data": {
      "text/html": [
       "<pre style=\"white-space:pre;overflow-x:auto;line-height:normal;font-family:Menlo,'DejaVu Sans Mono',consolas,'Courier New',monospace\"><span style=\"font-weight: bold\">{</span><span style=\"color: #008000; text-decoration-color: #008000\">'question'</span>: <span style=\"color: #008000; text-decoration-color: #008000\">\"Which famous poet wrote 'The Love Song of J. Alfred Prufrock'?\"</span>, <span style=\"color: #008000; text-decoration-color: #008000\">'expected_answer'</span>: <span style=\"color: #008000; text-decoration-color: #008000\">'T.S. Eliot'</span>, \n",
       "<span style=\"color: #008000; text-decoration-color: #008000\">'qa_skill'</span>: <span style=\"color: #008000; text-decoration-color: #008000\">'T.S. Eliot'</span><span style=\"font-weight: bold\">}</span>\n",
       "</pre>\n"
      ],
      "text/plain": [
       "\u001b[1m{\u001b[0m\u001b[32m'question'\u001b[0m: \u001b[32m\"Which famous poet wrote 'The Love Song of J. Alfred Prufrock'?\"\u001b[0m, \u001b[32m'expected_answer'\u001b[0m: \u001b[32m'T.S. Eliot'\u001b[0m, \n",
       "\u001b[32m'qa_skill'\u001b[0m: \u001b[32m'T.S. Eliot'\u001b[0m\u001b[1m}\u001b[0m\n"
      ]
     },
     "metadata": {},
     "output_type": "display_data"
    },
    {
     "name": "stderr",
     "output_type": "stream",
     "text": [
      " 75%|███████▌  | 3/4 [00:06<00:02,  2.21s/it]"
     ]
    },
    {
     "data": {
      "text/html": [
       "<pre style=\"white-space:pre;overflow-x:auto;line-height:normal;font-family:Menlo,'DejaVu Sans Mono',consolas,'Courier New',monospace\"><span style=\"font-weight: bold\">{</span><span style=\"color: #008000; text-decoration-color: #008000\">'question'</span>: <span style=\"color: #008000; text-decoration-color: #008000\">'What mathematical theorem states that in any right-angled triangle, the area of the square whose side</span>\n",
       "<span style=\"color: #008000; text-decoration-color: #008000\">is the hypotenuse is equal to the sum of the areas of the squares whose sides are the two legs?'</span>, \n",
       "<span style=\"color: #008000; text-decoration-color: #008000\">'expected_answer'</span>: <span style=\"color: #008000; text-decoration-color: #008000\">'Pythagorean Theorem'</span>, <span style=\"color: #008000; text-decoration-color: #008000\">'qa_skill'</span>: <span style=\"color: #008000; text-decoration-color: #008000\">'Pythagorean theorem'</span><span style=\"font-weight: bold\">}</span>\n",
       "</pre>\n"
      ],
      "text/plain": [
       "\u001b[1m{\u001b[0m\u001b[32m'question'\u001b[0m: \u001b[32m'What mathematical theorem states that in any right-angled triangle, the area of the square whose side\u001b[0m\n",
       "\u001b[32mis the hypotenuse is equal to the sum of the areas of the squares whose sides are the two legs?'\u001b[0m, \n",
       "\u001b[32m'expected_answer'\u001b[0m: \u001b[32m'Pythagorean Theorem'\u001b[0m, \u001b[32m'qa_skill'\u001b[0m: \u001b[32m'Pythagorean theorem'\u001b[0m\u001b[1m}\u001b[0m\n"
      ]
     },
     "metadata": {},
     "output_type": "display_data"
    },
    {
     "name": "stderr",
     "output_type": "stream",
     "text": [
      "100%|██████████| 4/4 [00:10<00:00,  3.14s/it]"
     ]
    },
    {
     "data": {
      "text/html": [
       "<pre style=\"white-space:pre;overflow-x:auto;line-height:normal;font-family:Menlo,'DejaVu Sans Mono',consolas,'Courier New',monospace\"><span style=\"font-weight: bold\">{</span><span style=\"color: #008000; text-decoration-color: #008000\">'question'</span>: <span style=\"color: #008000; text-decoration-color: #008000\">'Which philosophical paradox involves a ship where all of its wooden parts are replaced with metal </span>\n",
       "<span style=\"color: #008000; text-decoration-color: #008000\">parts?'</span>, <span style=\"color: #008000; text-decoration-color: #008000\">'expected_answer'</span>: <span style=\"color: #008000; text-decoration-color: #008000\">'Ship of Theseus'</span>, <span style=\"color: #008000; text-decoration-color: #008000\">'qa_skill'</span>: <span style=\"color: #008000; text-decoration-color: #008000\">'The philosophical paradox you are referring to is known</span>\n",
       "<span style=\"color: #008000; text-decoration-color: #008000\">as the Ship of Theseus paradox.'</span><span style=\"font-weight: bold\">}</span>\n",
       "</pre>\n"
      ],
      "text/plain": [
       "\u001b[1m{\u001b[0m\u001b[32m'question'\u001b[0m: \u001b[32m'Which philosophical paradox involves a ship where all of its wooden parts are replaced with metal \u001b[0m\n",
       "\u001b[32mparts?'\u001b[0m, \u001b[32m'expected_answer'\u001b[0m: \u001b[32m'Ship of Theseus'\u001b[0m, \u001b[32m'qa_skill'\u001b[0m: \u001b[32m'The philosophical paradox you are referring to is known\u001b[0m\n",
       "\u001b[32mas the Ship of Theseus paradox.'\u001b[0m\u001b[1m}\u001b[0m\n"
      ]
     },
     "metadata": {},
     "output_type": "display_data"
    },
    {
     "name": "stderr",
     "output_type": "stream",
     "text": [
      "100%|██████████| 4/4 [00:15<00:00,  3.86s/it]\n"
     ]
    },
    {
     "data": {
      "text/html": [
       "<pre style=\"white-space:pre;overflow-x:auto;line-height:normal;font-family:Menlo,'DejaVu Sans Mono',consolas,'Courier New',monospace\">\n",
       "\n",
       "=&gt; Iteration #<span style=\"color: #008080; text-decoration-color: #008080; font-weight: bold\">2</span>: Comparing to ground truth, analyzing and improving <span style=\"color: #808000; text-decoration-color: #808000\">...</span>\n",
       "</pre>\n"
      ],
      "text/plain": [
       "\n",
       "\n",
       "=> Iteration #\u001b[1;36m2\u001b[0m: Comparing to ground truth, analyzing and improving \u001b[33m...\u001b[0m\n"
      ]
     },
     "metadata": {},
     "output_type": "display_data"
    },
    {
     "data": {
      "text/html": [
       "<pre style=\"white-space:pre;overflow-x:auto;line-height:normal;font-family:Menlo,'DejaVu Sans Mono',consolas,'Courier New',monospace\"><span style=\"color: #008080; text-decoration-color: #008080; font-weight: bold\">0</span>    Heisenberg Uncertainty Principle\n",
       "<span style=\"color: #008080; text-decoration-color: #008080; font-weight: bold\">1</span>                          T.S. Eliot\n",
       "<span style=\"color: #008080; text-decoration-color: #008080; font-weight: bold\">2</span>                 Pythagorean Theorem\n",
       "<span style=\"color: #008080; text-decoration-color: #008080; font-weight: bold\">3</span>                     Ship of Theseus\n",
       "Name: expected_answer, dtype: object\n",
       "</pre>\n"
      ],
      "text/plain": [
       "\u001b[1;36m0\u001b[0m    Heisenberg Uncertainty Principle\n",
       "\u001b[1;36m1\u001b[0m                          T.S. Eliot\n",
       "\u001b[1;36m2\u001b[0m                 Pythagorean Theorem\n",
       "\u001b[1;36m3\u001b[0m                     Ship of Theseus\n",
       "Name: expected_answer, dtype: object\n"
      ]
     },
     "metadata": {},
     "output_type": "display_data"
    },
    {
     "data": {
      "text/html": [
       "<pre style=\"white-space:pre;overflow-x:auto;line-height:normal;font-family:Menlo,'DejaVu Sans Mono',consolas,'Courier New',monospace\"><span style=\"color: #008080; text-decoration-color: #008080; font-weight: bold\">0</span>                   Heisenberg's uncertainty principle\n",
       "<span style=\"color: #008080; text-decoration-color: #008080; font-weight: bold\">1</span>                                           T.S. Eliot\n",
       "<span style=\"color: #008080; text-decoration-color: #008080; font-weight: bold\">2</span>                                  Pythagorean theorem\n",
       "<span style=\"color: #008080; text-decoration-color: #008080; font-weight: bold\">3</span>    The philosophical paradox you are referring to<span style=\"color: #808000; text-decoration-color: #808000\">...</span>\n",
       "Name: qa_skill, dtype: object\n",
       "</pre>\n"
      ],
      "text/plain": [
       "\u001b[1;36m0\u001b[0m                   Heisenberg's uncertainty principle\n",
       "\u001b[1;36m1\u001b[0m                                           T.S. Eliot\n",
       "\u001b[1;36m2\u001b[0m                                  Pythagorean theorem\n",
       "\u001b[1;36m3\u001b[0m    The philosophical paradox you are referring to\u001b[33m...\u001b[0m\n",
       "Name: qa_skill, dtype: object\n"
      ]
     },
     "metadata": {},
     "output_type": "display_data"
    },
    {
     "data": {
      "text/html": [
       "<pre style=\"white-space:pre;overflow-x:auto;line-height:normal;font-family:Menlo,'DejaVu Sans Mono',consolas,'Courier New',monospace\"> compare ground truth with predictions\n",
       "</pre>\n"
      ],
      "text/plain": [
       " compare ground truth with predictions\n"
      ]
     },
     "metadata": {},
     "output_type": "display_data"
    },
    {
     "data": {
      "text/html": [
       "<pre style=\"white-space:pre;overflow-x:auto;line-height:normal;font-family:Menlo,'DejaVu Sans Mono',consolas,'Courier New',monospace\">Comparing predictions to ground truth data <span style=\"color: #808000; text-decoration-color: #808000\">...</span>\n",
       "</pre>\n"
      ],
      "text/plain": [
       "Comparing predictions to ground truth data \u001b[33m...\u001b[0m\n"
      ]
     },
     "metadata": {},
     "output_type": "display_data"
    },
    {
     "data": {
      "text/html": [
       "<pre style=\"white-space:pre;overflow-x:auto;line-height:normal;font-family:Menlo,'DejaVu Sans Mono',consolas,'Courier New',monospace\">                                                                                                                   \n",
       " <span style=\"color: #800080; text-decoration-color: #800080; font-weight: bold\"> question                        </span> <span style=\"color: #800080; text-decoration-color: #800080; font-weight: bold\"> expected_answer                  </span> <span style=\"color: #800080; text-decoration-color: #800080; font-weight: bold\"> qa_skill                        </span> <span style=\"color: #800080; text-decoration-color: #800080; font-weight: bold\"> qa_skill </span> \n",
       " ───────────────────────────────────────────────────────────────────────────────────────────────────────────────── \n",
       "  In quantum mechanics, what        Heisenberg Uncertainty Principle   Heisenberg's uncertainty          False     \n",
       "  principle asserts that it's                                          principle                                   \n",
       "  impossible to simultaneously                                                                                     \n",
       "  know the exact position and                                                                                      \n",
       "  momentum of a particle?                                                                                          \n",
       " <span style=\"color: #7f7f7f; text-decoration-color: #7f7f7f\"> Which famous poet wrote 'The    </span> <span style=\"color: #7f7f7f; text-decoration-color: #7f7f7f\"> T.S. Eliot                       </span> <span style=\"color: #7f7f7f; text-decoration-color: #7f7f7f\"> T.S. Eliot                      </span> <span style=\"color: #7f7f7f; text-decoration-color: #7f7f7f\"> True     </span> \n",
       " <span style=\"color: #7f7f7f; text-decoration-color: #7f7f7f\"> Love Song of J. Alfred          </span> <span style=\"color: #7f7f7f; text-decoration-color: #7f7f7f\">                                  </span> <span style=\"color: #7f7f7f; text-decoration-color: #7f7f7f\">                                 </span> <span style=\"color: #7f7f7f; text-decoration-color: #7f7f7f\">          </span> \n",
       " <span style=\"color: #7f7f7f; text-decoration-color: #7f7f7f\"> Prufrock'?                      </span> <span style=\"color: #7f7f7f; text-decoration-color: #7f7f7f\">                                  </span> <span style=\"color: #7f7f7f; text-decoration-color: #7f7f7f\">                                 </span> <span style=\"color: #7f7f7f; text-decoration-color: #7f7f7f\">          </span> \n",
       "  What mathematical theorem         Pythagorean Theorem                Pythagorean theorem               False     \n",
       "  states that in any right-angled                                                                                  \n",
       "  triangle, the area of the                                                                                        \n",
       "  square whose side is the                                                                                         \n",
       "  hypotenuse is equal to the sum                                                                                   \n",
       "  of the areas of the squares                                                                                      \n",
       "  whose sides are the two legs?                                                                                    \n",
       " <span style=\"color: #7f7f7f; text-decoration-color: #7f7f7f\"> Which philosophical paradox     </span> <span style=\"color: #7f7f7f; text-decoration-color: #7f7f7f\"> Ship of Theseus                  </span> <span style=\"color: #7f7f7f; text-decoration-color: #7f7f7f\"> The philosophical paradox you   </span> <span style=\"color: #7f7f7f; text-decoration-color: #7f7f7f\"> False    </span> \n",
       " <span style=\"color: #7f7f7f; text-decoration-color: #7f7f7f\"> involves a ship where all of    </span> <span style=\"color: #7f7f7f; text-decoration-color: #7f7f7f\">                                  </span> <span style=\"color: #7f7f7f; text-decoration-color: #7f7f7f\"> are referring to is known as    </span> <span style=\"color: #7f7f7f; text-decoration-color: #7f7f7f\">          </span> \n",
       " <span style=\"color: #7f7f7f; text-decoration-color: #7f7f7f\"> its wooden parts are replaced   </span> <span style=\"color: #7f7f7f; text-decoration-color: #7f7f7f\">                                  </span> <span style=\"color: #7f7f7f; text-decoration-color: #7f7f7f\"> the Ship of Theseus paradox.    </span> <span style=\"color: #7f7f7f; text-decoration-color: #7f7f7f\">          </span> \n",
       " <span style=\"color: #7f7f7f; text-decoration-color: #7f7f7f\"> with metal parts?               </span> <span style=\"color: #7f7f7f; text-decoration-color: #7f7f7f\">                                  </span> <span style=\"color: #7f7f7f; text-decoration-color: #7f7f7f\">                                 </span> <span style=\"color: #7f7f7f; text-decoration-color: #7f7f7f\">          </span> \n",
       "                                                                                                                   \n",
       "</pre>\n"
      ],
      "text/plain": [
       "                                                                                                                   \n",
       " \u001b[1;35m \u001b[0m\u001b[1;35mquestion                       \u001b[0m\u001b[1;35m \u001b[0m \u001b[1;35m \u001b[0m\u001b[1;35mexpected_answer                 \u001b[0m\u001b[1;35m \u001b[0m \u001b[1;35m \u001b[0m\u001b[1;35mqa_skill                       \u001b[0m\u001b[1;35m \u001b[0m \u001b[1;35m \u001b[0m\u001b[1;35mqa_skill\u001b[0m\u001b[1;35m \u001b[0m \n",
       " ───────────────────────────────────────────────────────────────────────────────────────────────────────────────── \n",
       "  In quantum mechanics, what        Heisenberg Uncertainty Principle   Heisenberg's uncertainty          False     \n",
       "  principle asserts that it's                                          principle                                   \n",
       "  impossible to simultaneously                                                                                     \n",
       "  know the exact position and                                                                                      \n",
       "  momentum of a particle?                                                                                          \n",
       " \u001b[2m \u001b[0m\u001b[2mWhich famous poet wrote 'The   \u001b[0m\u001b[2m \u001b[0m \u001b[2m \u001b[0m\u001b[2mT.S. Eliot                      \u001b[0m\u001b[2m \u001b[0m \u001b[2m \u001b[0m\u001b[2mT.S. Eliot                     \u001b[0m\u001b[2m \u001b[0m \u001b[2m \u001b[0m\u001b[2mTrue    \u001b[0m\u001b[2m \u001b[0m \n",
       " \u001b[2m \u001b[0m\u001b[2mLove Song of J. Alfred         \u001b[0m\u001b[2m \u001b[0m \u001b[2m                                  \u001b[0m \u001b[2m                                 \u001b[0m \u001b[2m          \u001b[0m \n",
       " \u001b[2m \u001b[0m\u001b[2mPrufrock'?                     \u001b[0m\u001b[2m \u001b[0m \u001b[2m                                  \u001b[0m \u001b[2m                                 \u001b[0m \u001b[2m          \u001b[0m \n",
       "  What mathematical theorem         Pythagorean Theorem                Pythagorean theorem               False     \n",
       "  states that in any right-angled                                                                                  \n",
       "  triangle, the area of the                                                                                        \n",
       "  square whose side is the                                                                                         \n",
       "  hypotenuse is equal to the sum                                                                                   \n",
       "  of the areas of the squares                                                                                      \n",
       "  whose sides are the two legs?                                                                                    \n",
       " \u001b[2m \u001b[0m\u001b[2mWhich philosophical paradox    \u001b[0m\u001b[2m \u001b[0m \u001b[2m \u001b[0m\u001b[2mShip of Theseus                 \u001b[0m\u001b[2m \u001b[0m \u001b[2m \u001b[0m\u001b[2mThe philosophical paradox you  \u001b[0m\u001b[2m \u001b[0m \u001b[2m \u001b[0m\u001b[2mFalse   \u001b[0m\u001b[2m \u001b[0m \n",
       " \u001b[2m \u001b[0m\u001b[2minvolves a ship where all of   \u001b[0m\u001b[2m \u001b[0m \u001b[2m                                  \u001b[0m \u001b[2m \u001b[0m\u001b[2mare referring to is known as   \u001b[0m\u001b[2m \u001b[0m \u001b[2m          \u001b[0m \n",
       " \u001b[2m \u001b[0m\u001b[2mits wooden parts are replaced  \u001b[0m\u001b[2m \u001b[0m \u001b[2m                                  \u001b[0m \u001b[2m \u001b[0m\u001b[2mthe Ship of Theseus paradox.   \u001b[0m\u001b[2m \u001b[0m \u001b[2m          \u001b[0m \n",
       " \u001b[2m \u001b[0m\u001b[2mwith metal parts?              \u001b[0m\u001b[2m \u001b[0m \u001b[2m                                  \u001b[0m \u001b[2m                                 \u001b[0m \u001b[2m          \u001b[0m \n",
       "                                                                                                                   \n"
      ]
     },
     "metadata": {},
     "output_type": "display_data"
    },
    {
     "data": {
      "text/html": [
       "<pre style=\"white-space:pre;overflow-x:auto;line-height:normal;font-family:Menlo,'DejaVu Sans Mono',consolas,'Courier New',monospace\"><span style=\"color: #800000; text-decoration-color: #800000; font-weight: bold\">Accuracy = </span><span style=\"color: #008080; text-decoration-color: #008080; font-weight: bold\">25.00</span><span style=\"color: #800000; text-decoration-color: #800000; font-weight: bold\">%</span>\n",
       "</pre>\n"
      ],
      "text/plain": [
       "\u001b[1;31mAccuracy = \u001b[0m\u001b[1;36m25.00\u001b[0m\u001b[1;31m%\u001b[0m\n"
      ]
     },
     "metadata": {},
     "output_type": "display_data"
    },
    {
     "data": {
      "text/html": [
       "<pre style=\"white-space:pre;overflow-x:auto;line-height:normal;font-family:Menlo,'DejaVu Sans Mono',consolas,'Courier New',monospace\">Analyze evaluation experience <span style=\"color: #808000; text-decoration-color: #808000\">...</span>\n",
       "</pre>\n"
      ],
      "text/plain": [
       "Analyze evaluation experience \u001b[33m...\u001b[0m\n"
      ]
     },
     "metadata": {},
     "output_type": "display_data"
    },
    {
     "data": {
      "text/html": [
       "<pre style=\"white-space:pre;overflow-x:auto;line-height:normal;font-family:Menlo,'DejaVu Sans Mono',consolas,'Courier New',monospace\"><span style=\"font-weight: bold\">[</span><span style=\"color: #008000; text-decoration-color: #008000\">'question'</span><span style=\"font-weight: bold\">]</span>\n",
       "</pre>\n"
      ],
      "text/plain": [
       "\u001b[1m[\u001b[0m\u001b[32m'question'\u001b[0m\u001b[1m]\u001b[0m\n"
      ]
     },
     "metadata": {},
     "output_type": "display_data"
    },
    {
     "name": "stderr",
     "output_type": "stream",
     "text": [
      "  0%|          | 0/3 [00:00<?, ?it/s]"
     ]
    },
    {
     "data": {
      "text/html": [
       "<pre style=\"white-space:pre;overflow-x:auto;line-height:normal;font-family:Menlo,'DejaVu Sans Mono',consolas,'Courier New',monospace\"><span style=\"font-weight: bold\">{</span><span style=\"color: #008000; text-decoration-color: #008000\">'question'</span>: <span style=\"color: #008000; text-decoration-color: #008000\">'What mathematical theorem states that in any right-angled triangle, the area of the square whose side</span>\n",
       "<span style=\"color: #008000; text-decoration-color: #008000\">is the hypotenuse is equal to the sum of the areas of the squares whose sides are the two legs?'</span>, \n",
       "<span style=\"color: #008000; text-decoration-color: #008000\">'expected_answer'</span>: <span style=\"color: #008000; text-decoration-color: #008000\">'Pythagorean Theorem'</span>, <span style=\"color: #008000; text-decoration-color: #008000\">'qa_skill'</span>: <span style=\"color: #008000; text-decoration-color: #008000\">'Pythagorean theorem'</span><span style=\"font-weight: bold\">}</span>\n",
       "</pre>\n"
      ],
      "text/plain": [
       "\u001b[1m{\u001b[0m\u001b[32m'question'\u001b[0m: \u001b[32m'What mathematical theorem states that in any right-angled triangle, the area of the square whose side\u001b[0m\n",
       "\u001b[32mis the hypotenuse is equal to the sum of the areas of the squares whose sides are the two legs?'\u001b[0m, \n",
       "\u001b[32m'expected_answer'\u001b[0m: \u001b[32m'Pythagorean Theorem'\u001b[0m, \u001b[32m'qa_skill'\u001b[0m: \u001b[32m'Pythagorean theorem'\u001b[0m\u001b[1m}\u001b[0m\n"
      ]
     },
     "metadata": {},
     "output_type": "display_data"
    },
    {
     "name": "stderr",
     "output_type": "stream",
     "text": [
      " 67%|██████▋   | 2/3 [00:03<00:01,  1.78s/it]"
     ]
    },
    {
     "data": {
      "text/html": [
       "<pre style=\"white-space:pre;overflow-x:auto;line-height:normal;font-family:Menlo,'DejaVu Sans Mono',consolas,'Courier New',monospace\"><span style=\"font-weight: bold\">{</span><span style=\"color: #008000; text-decoration-color: #008000\">'question'</span>: <span style=\"color: #008000; text-decoration-color: #008000\">'Which philosophical paradox involves a ship where all of its wooden parts are replaced with metal </span>\n",
       "<span style=\"color: #008000; text-decoration-color: #008000\">parts?'</span>, <span style=\"color: #008000; text-decoration-color: #008000\">'expected_answer'</span>: <span style=\"color: #008000; text-decoration-color: #008000\">'Ship of Theseus'</span>, <span style=\"color: #008000; text-decoration-color: #008000\">'qa_skill'</span>: <span style=\"color: #008000; text-decoration-color: #008000\">'The philosophical paradox you are referring to is known</span>\n",
       "<span style=\"color: #008000; text-decoration-color: #008000\">as the Ship of Theseus paradox.'</span><span style=\"font-weight: bold\">}</span>\n",
       "</pre>\n"
      ],
      "text/plain": [
       "\u001b[1m{\u001b[0m\u001b[32m'question'\u001b[0m: \u001b[32m'Which philosophical paradox involves a ship where all of its wooden parts are replaced with metal \u001b[0m\n",
       "\u001b[32mparts?'\u001b[0m, \u001b[32m'expected_answer'\u001b[0m: \u001b[32m'Ship of Theseus'\u001b[0m, \u001b[32m'qa_skill'\u001b[0m: \u001b[32m'The philosophical paradox you are referring to is known\u001b[0m\n",
       "\u001b[32mas the Ship of Theseus paradox.'\u001b[0m\u001b[1m}\u001b[0m\n"
      ]
     },
     "metadata": {},
     "output_type": "display_data"
    },
    {
     "name": "stderr",
     "output_type": "stream",
     "text": [
      "100%|██████████| 3/3 [00:06<00:00,  2.25s/it]"
     ]
    },
    {
     "data": {
      "text/html": [
       "<pre style=\"white-space:pre;overflow-x:auto;line-height:normal;font-family:Menlo,'DejaVu Sans Mono',consolas,'Courier New',monospace\"><span style=\"font-weight: bold\">{</span><span style=\"color: #008000; text-decoration-color: #008000\">'question'</span>: <span style=\"color: #008000; text-decoration-color: #008000\">\"In quantum mechanics, what principle asserts that it's impossible to simultaneously know the exact </span>\n",
       "<span style=\"color: #008000; text-decoration-color: #008000\">position and momentum of a particle?\"</span>, <span style=\"color: #008000; text-decoration-color: #008000\">'expected_answer'</span>: <span style=\"color: #008000; text-decoration-color: #008000\">'Heisenberg Uncertainty Principle'</span>, <span style=\"color: #008000; text-decoration-color: #008000\">'qa_skill'</span>: \n",
       "<span style=\"color: #008000; text-decoration-color: #008000\">\"Heisenberg's uncertainty principle\"</span><span style=\"font-weight: bold\">}</span>\n",
       "</pre>\n"
      ],
      "text/plain": [
       "\u001b[1m{\u001b[0m\u001b[32m'question'\u001b[0m: \u001b[32m\"In quantum mechanics, what principle asserts that it's impossible to simultaneously know the exact \u001b[0m\n",
       "\u001b[32mposition and momentum of a particle?\"\u001b[0m, \u001b[32m'expected_answer'\u001b[0m: \u001b[32m'Heisenberg Uncertainty Principle'\u001b[0m, \u001b[32m'qa_skill'\u001b[0m: \n",
       "\u001b[32m\"Heisenberg's uncertainty principle\"\u001b[0m\u001b[1m}\u001b[0m\n"
      ]
     },
     "metadata": {},
     "output_type": "display_data"
    },
    {
     "name": "stderr",
     "output_type": "stream",
     "text": [
      "100%|██████████| 3/3 [00:16<00:00,  5.49s/it]\n"
     ]
    },
    {
     "data": {
      "text/html": [
       "<pre style=\"white-space:pre;overflow-x:auto;line-height:normal;font-family:Menlo,'DejaVu Sans Mono',consolas,'Courier New',monospace\">                               answer\n",
       "<span style=\"color: #008080; text-decoration-color: #008080; font-weight: bold\">2</span>                 Pythagorean theorem\n",
       "<span style=\"color: #008080; text-decoration-color: #008080; font-weight: bold\">3</span>                     Ship of Theseus\n",
       "<span style=\"color: #008080; text-decoration-color: #008080; font-weight: bold\">0</span>  Heisenberg's uncertainty principle\n",
       "</pre>\n"
      ],
      "text/plain": [
       "                               answer\n",
       "\u001b[1;36m2\u001b[0m                 Pythagorean theorem\n",
       "\u001b[1;36m3\u001b[0m                     Ship of Theseus\n",
       "\u001b[1;36m0\u001b[0m  Heisenberg's uncertainty principle\n"
      ]
     },
     "metadata": {},
     "output_type": "display_data"
    },
    {
     "data": {
      "text/html": [
       "<pre style=\"white-space:pre;overflow-x:auto;line-height:normal;font-family:Menlo,'DejaVu Sans Mono',consolas,'Courier New',monospace\"><span style=\"font-weight: bold\">[</span><span style=\"color: #008000; text-decoration-color: #008000\">'ground_truth'</span>, <span style=\"color: #008000; text-decoration-color: #008000\">'input'</span>, <span style=\"color: #008000; text-decoration-color: #008000\">'prediction'</span><span style=\"font-weight: bold\">]</span>\n",
       "</pre>\n"
      ],
      "text/plain": [
       "\u001b[1m[\u001b[0m\u001b[32m'ground_truth'\u001b[0m, \u001b[32m'input'\u001b[0m, \u001b[32m'prediction'\u001b[0m\u001b[1m]\u001b[0m\n"
      ]
     },
     "metadata": {},
     "output_type": "display_data"
    },
    {
     "name": "stderr",
     "output_type": "stream",
     "text": [
      "  0%|          | 0/3 [00:00<?, ?it/s]"
     ]
    },
    {
     "data": {
      "text/html": [
       "<pre style=\"white-space:pre;overflow-x:auto;line-height:normal;font-family:Menlo,'DejaVu Sans Mono',consolas,'Courier New',monospace\"><span style=\"font-weight: bold\">{</span><span style=\"color: #008000; text-decoration-color: #008000\">'input'</span>: <span style=\"color: #008000; text-decoration-color: #008000\">'Pythagorean theorem'</span>, <span style=\"color: #008000; text-decoration-color: #008000\">'prediction'</span>: <span style=\"color: #008000; text-decoration-color: #008000\">'Pythagorean theorem'</span>, <span style=\"color: #008000; text-decoration-color: #008000\">'ground_truth'</span>: <span style=\"color: #008000; text-decoration-color: #008000\">'Pythagorean Theorem'</span><span style=\"font-weight: bold\">}</span>\n",
       "</pre>\n"
      ],
      "text/plain": [
       "\u001b[1m{\u001b[0m\u001b[32m'input'\u001b[0m: \u001b[32m'Pythagorean theorem'\u001b[0m, \u001b[32m'prediction'\u001b[0m: \u001b[32m'Pythagorean theorem'\u001b[0m, \u001b[32m'ground_truth'\u001b[0m: \u001b[32m'Pythagorean Theorem'\u001b[0m\u001b[1m}\u001b[0m\n"
      ]
     },
     "metadata": {},
     "output_type": "display_data"
    },
    {
     "name": "stderr",
     "output_type": "stream",
     "text": [
      " 67%|██████▋   | 2/3 [00:07<00:03,  3.80s/it]"
     ]
    },
    {
     "data": {
      "text/html": [
       "<pre style=\"white-space:pre;overflow-x:auto;line-height:normal;font-family:Menlo,'DejaVu Sans Mono',consolas,'Courier New',monospace\"><span style=\"font-weight: bold\">{</span><span style=\"color: #008000; text-decoration-color: #008000\">'input'</span>: <span style=\"color: #008000; text-decoration-color: #008000\">'Ship of Theseus'</span>, <span style=\"color: #008000; text-decoration-color: #008000\">'prediction'</span>: <span style=\"color: #008000; text-decoration-color: #008000\">'The philosophical paradox you are referring to is known as the Ship of </span>\n",
       "<span style=\"color: #008000; text-decoration-color: #008000\">Theseus paradox.'</span>, <span style=\"color: #008000; text-decoration-color: #008000\">'ground_truth'</span>: <span style=\"color: #008000; text-decoration-color: #008000\">'Ship of Theseus'</span><span style=\"font-weight: bold\">}</span>\n",
       "</pre>\n"
      ],
      "text/plain": [
       "\u001b[1m{\u001b[0m\u001b[32m'input'\u001b[0m: \u001b[32m'Ship of Theseus'\u001b[0m, \u001b[32m'prediction'\u001b[0m: \u001b[32m'The philosophical paradox you are referring to is known as the Ship of \u001b[0m\n",
       "\u001b[32mTheseus paradox.'\u001b[0m, \u001b[32m'ground_truth'\u001b[0m: \u001b[32m'Ship of Theseus'\u001b[0m\u001b[1m}\u001b[0m\n"
      ]
     },
     "metadata": {},
     "output_type": "display_data"
    },
    {
     "name": "stderr",
     "output_type": "stream",
     "text": [
      "100%|██████████| 3/3 [00:14<00:00,  4.92s/it]"
     ]
    },
    {
     "data": {
      "text/html": [
       "<pre style=\"white-space:pre;overflow-x:auto;line-height:normal;font-family:Menlo,'DejaVu Sans Mono',consolas,'Courier New',monospace\"><span style=\"font-weight: bold\">{</span><span style=\"color: #008000; text-decoration-color: #008000\">'input'</span>: <span style=\"color: #008000; text-decoration-color: #008000\">\"Heisenberg's uncertainty principle\"</span>, <span style=\"color: #008000; text-decoration-color: #008000\">'prediction'</span>: <span style=\"color: #008000; text-decoration-color: #008000\">\"Heisenberg's uncertainty principle\"</span>, <span style=\"color: #008000; text-decoration-color: #008000\">'ground_truth'</span>:\n",
       "<span style=\"color: #008000; text-decoration-color: #008000\">'Heisenberg Uncertainty Principle'</span><span style=\"font-weight: bold\">}</span>\n",
       "</pre>\n"
      ],
      "text/plain": [
       "\u001b[1m{\u001b[0m\u001b[32m'input'\u001b[0m: \u001b[32m\"Heisenberg's uncertainty principle\"\u001b[0m, \u001b[32m'prediction'\u001b[0m: \u001b[32m\"Heisenberg's uncertainty principle\"\u001b[0m, \u001b[32m'ground_truth'\u001b[0m:\n",
       "\u001b[32m'Heisenberg Uncertainty Principle'\u001b[0m\u001b[1m}\u001b[0m\n"
      ]
     },
     "metadata": {},
     "output_type": "display_data"
    },
    {
     "name": "stderr",
     "output_type": "stream",
     "text": [
      "100%|██████████| 3/3 [00:22<00:00,  7.45s/it]\n"
     ]
    },
    {
     "data": {
      "text/html": [
       "<pre style=\"white-space:pre;overflow-x:auto;line-height:normal;font-family:Menlo,'DejaVu Sans Mono',consolas,'Courier New',monospace\"><span style=\"font-weight: bold\">[</span><span style=\"color: #008000; text-decoration-color: #008000\">'ground_truth'</span>, <span style=\"color: #008000; text-decoration-color: #008000\">'input'</span>, <span style=\"color: #008000; text-decoration-color: #008000\">'prediction'</span>, <span style=\"color: #008000; text-decoration-color: #008000\">'reason'</span><span style=\"font-weight: bold\">]</span>\n",
       "</pre>\n"
      ],
      "text/plain": [
       "\u001b[1m[\u001b[0m\u001b[32m'ground_truth'\u001b[0m, \u001b[32m'input'\u001b[0m, \u001b[32m'prediction'\u001b[0m, \u001b[32m'reason'\u001b[0m\u001b[1m]\u001b[0m\n"
      ]
     },
     "metadata": {},
     "output_type": "display_data"
    },
    {
     "name": "stderr",
     "output_type": "stream",
     "text": [
      "  0%|          | 0/3 [00:00<?, ?it/s]"
     ]
    },
    {
     "data": {
      "text/html": [
       "<pre style=\"white-space:pre;overflow-x:auto;line-height:normal;font-family:Menlo,'DejaVu Sans Mono',consolas,'Courier New',monospace\"><span style=\"font-weight: bold\">{</span><span style=\"color: #008000; text-decoration-color: #008000\">'input'</span>: <span style=\"color: #008000; text-decoration-color: #008000\">'Pythagorean theorem'</span>, <span style=\"color: #008000; text-decoration-color: #008000\">'prediction'</span>: <span style=\"color: #008000; text-decoration-color: #008000\">'Pythagorean theorem'</span>, <span style=\"color: #008000; text-decoration-color: #008000\">'ground_truth'</span>: <span style=\"color: #008000; text-decoration-color: #008000\">'Pythagorean Theorem'</span>, \n",
       "<span style=\"color: #008000; text-decoration-color: #008000\">'reason'</span>: <span style=\"color: #008000; text-decoration-color: #008000\">'The error is due to the incorrect capitalization of the ground truth. The input text and the ground </span>\n",
       "<span style=\"color: #008000; text-decoration-color: #008000\">truth are referring to the same mathematical theorem, but the capitalization in the ground truth is incorrect.'</span><span style=\"font-weight: bold\">}</span>\n",
       "</pre>\n"
      ],
      "text/plain": [
       "\u001b[1m{\u001b[0m\u001b[32m'input'\u001b[0m: \u001b[32m'Pythagorean theorem'\u001b[0m, \u001b[32m'prediction'\u001b[0m: \u001b[32m'Pythagorean theorem'\u001b[0m, \u001b[32m'ground_truth'\u001b[0m: \u001b[32m'Pythagorean Theorem'\u001b[0m, \n",
       "\u001b[32m'reason'\u001b[0m: \u001b[32m'The error is due to the incorrect capitalization of the ground truth. The input text and the ground \u001b[0m\n",
       "\u001b[32mtruth are referring to the same mathematical theorem, but the capitalization in the ground truth is incorrect.'\u001b[0m\u001b[1m}\u001b[0m\n"
      ]
     },
     "metadata": {},
     "output_type": "display_data"
    },
    {
     "name": "stderr",
     "output_type": "stream",
     "text": [
      " 67%|██████▋   | 2/3 [00:15<00:07,  7.68s/it]"
     ]
    },
    {
     "data": {
      "text/html": [
       "<pre style=\"white-space:pre;overflow-x:auto;line-height:normal;font-family:Menlo,'DejaVu Sans Mono',consolas,'Courier New',monospace\"><span style=\"font-weight: bold\">{</span><span style=\"color: #008000; text-decoration-color: #008000\">'input'</span>: <span style=\"color: #008000; text-decoration-color: #008000\">'Ship of Theseus'</span>, <span style=\"color: #008000; text-decoration-color: #008000\">'prediction'</span>: <span style=\"color: #008000; text-decoration-color: #008000\">'The philosophical paradox you are referring to is known as the Ship of </span>\n",
       "<span style=\"color: #008000; text-decoration-color: #008000\">Theseus paradox.'</span>, <span style=\"color: #008000; text-decoration-color: #008000\">'ground_truth'</span>: <span style=\"color: #008000; text-decoration-color: #008000\">'Ship of Theseus'</span>, <span style=\"color: #008000; text-decoration-color: #008000\">'reason'</span>: <span style=\"color: #008000; text-decoration-color: #008000\">'The original instruction asked for the name of a </span>\n",
       "<span style=\"color: #008000; text-decoration-color: #008000\">mathematical theorem, but the input text refers to a philosophical paradox.'</span><span style=\"font-weight: bold\">}</span>\n",
       "</pre>\n"
      ],
      "text/plain": [
       "\u001b[1m{\u001b[0m\u001b[32m'input'\u001b[0m: \u001b[32m'Ship of Theseus'\u001b[0m, \u001b[32m'prediction'\u001b[0m: \u001b[32m'The philosophical paradox you are referring to is known as the Ship of \u001b[0m\n",
       "\u001b[32mTheseus paradox.'\u001b[0m, \u001b[32m'ground_truth'\u001b[0m: \u001b[32m'Ship of Theseus'\u001b[0m, \u001b[32m'reason'\u001b[0m: \u001b[32m'The original instruction asked for the name of a \u001b[0m\n",
       "\u001b[32mmathematical theorem, but the input text refers to a philosophical paradox.'\u001b[0m\u001b[1m}\u001b[0m\n"
      ]
     },
     "metadata": {},
     "output_type": "display_data"
    },
    {
     "name": "stderr",
     "output_type": "stream",
     "text": [
      "100%|██████████| 3/3 [00:24<00:00,  8.21s/it]"
     ]
    },
    {
     "data": {
      "text/html": [
       "<pre style=\"white-space:pre;overflow-x:auto;line-height:normal;font-family:Menlo,'DejaVu Sans Mono',consolas,'Courier New',monospace\"><span style=\"font-weight: bold\">{</span><span style=\"color: #008000; text-decoration-color: #008000\">'input'</span>: <span style=\"color: #008000; text-decoration-color: #008000\">\"Heisenberg's uncertainty principle\"</span>, <span style=\"color: #008000; text-decoration-color: #008000\">'prediction'</span>: <span style=\"color: #008000; text-decoration-color: #008000\">\"Heisenberg's uncertainty principle\"</span>, <span style=\"color: #008000; text-decoration-color: #008000\">'ground_truth'</span>:\n",
       "<span style=\"color: #008000; text-decoration-color: #008000\">'Heisenberg Uncertainty Principle'</span>, <span style=\"color: #008000; text-decoration-color: #008000\">'reason'</span>: <span style=\"color: #008000; text-decoration-color: #008000\">\"The original instruction is asking for the name of the mathematical </span>\n",
       "<span style=\"color: #008000; text-decoration-color: #008000\">theorem mentioned in the input text, but the prediction already correctly identifies it as Heisenberg's uncertainty</span>\n",
       "<span style=\"color: #008000; text-decoration-color: #008000\">principle. Therefore, there is no error in the prediction.\"</span><span style=\"font-weight: bold\">}</span>\n",
       "</pre>\n"
      ],
      "text/plain": [
       "\u001b[1m{\u001b[0m\u001b[32m'input'\u001b[0m: \u001b[32m\"Heisenberg's uncertainty principle\"\u001b[0m, \u001b[32m'prediction'\u001b[0m: \u001b[32m\"Heisenberg's uncertainty principle\"\u001b[0m, \u001b[32m'ground_truth'\u001b[0m:\n",
       "\u001b[32m'Heisenberg Uncertainty Principle'\u001b[0m, \u001b[32m'reason'\u001b[0m: \u001b[32m\"The original instruction is asking for the name of the mathematical \u001b[0m\n",
       "\u001b[32mtheorem mentioned in the input text, but the prediction already correctly identifies it as Heisenberg's uncertainty\u001b[0m\n",
       "\u001b[32mprinciple. Therefore, there is no error in the prediction.\"\u001b[0m\u001b[1m}\u001b[0m\n"
      ]
     },
     "metadata": {},
     "output_type": "display_data"
    },
    {
     "name": "stderr",
     "output_type": "stream",
     "text": [
      "100%|██████████| 3/3 [00:33<00:00, 11.03s/it]\n"
     ]
    },
    {
     "data": {
      "text/html": [
       "<pre style=\"white-space:pre;overflow-x:auto;line-height:normal;font-family:Menlo,'DejaVu Sans Mono',consolas,'Courier New',monospace\">Error analysis for skill <span style=\"color: #008000; text-decoration-color: #008000\">\"qa_skill\"</span>:\n",
       "\n",
       "</pre>\n"
      ],
      "text/plain": [
       "Error analysis for skill \u001b[32m\"qa_skill\"\u001b[0m:\n",
       "\n"
      ]
     },
     "metadata": {},
     "output_type": "display_data"
    },
    {
     "data": {
      "text/html": [
       "<pre style=\"white-space:pre;overflow-x:auto;line-height:normal;font-family:Menlo,'DejaVu Sans Mono',consolas,'Courier New',monospace\"><span style=\"color: #008000; text-decoration-color: #008000\">The error is due to the incorrect capitalization of the ground truth. The input text and the ground truth are </span>\n",
       "<span style=\"color: #008000; text-decoration-color: #008000\">referring to the same mathematical theorem, but the capitalization in the ground truth is incorrect. The model made</span>\n",
       "<span style=\"color: #008000; text-decoration-color: #008000\">an error in predicting the name of a mathematical theorem. The input text refers to the philosophical paradox known</span>\n",
       "<span style=\"color: #008000; text-decoration-color: #008000\">as the Ship of Theseus paradox, which is not a mathematical theorem. Therefore, the model's prediction does not </span>\n",
       "<span style=\"color: #008000; text-decoration-color: #008000\">match the ground truth. The original instruction is asking for the name of the mathematical theorem mentioned in </span>\n",
       "<span style=\"color: #008000; text-decoration-color: #008000\">the input text, but the prediction already correctly identifies it as Heisenberg's uncertainty principle. </span>\n",
       "<span style=\"color: #008000; text-decoration-color: #008000\">Therefore, there is no error in the prediction.</span>\n",
       "</pre>\n"
      ],
      "text/plain": [
       "\u001b[32mThe error is due to the incorrect capitalization of the ground truth. The input text and the ground truth are \u001b[0m\n",
       "\u001b[32mreferring to the same mathematical theorem, but the capitalization in the ground truth is incorrect. The model made\u001b[0m\n",
       "\u001b[32man error in predicting the name of a mathematical theorem. The input text refers to the philosophical paradox known\u001b[0m\n",
       "\u001b[32mas the Ship of Theseus paradox, which is not a mathematical theorem. Therefore, the model's prediction does not \u001b[0m\n",
       "\u001b[32mmatch the ground truth. The original instruction is asking for the name of the mathematical theorem mentioned in \u001b[0m\n",
       "\u001b[32mthe input text, but the prediction already correctly identifies it as Heisenberg's uncertainty principle. \u001b[0m\n",
       "\u001b[32mTherefore, there is no error in the prediction.\u001b[0m\n"
      ]
     },
     "metadata": {},
     "output_type": "display_data"
    },
    {
     "data": {
      "text/html": [
       "<pre style=\"white-space:pre;overflow-x:auto;line-height:normal;font-family:Menlo,'DejaVu Sans Mono',consolas,'Courier New',monospace\">Improve <span style=\"color: #008000; text-decoration-color: #008000\">\"qa_skill\"</span> skill based on analysis <span style=\"color: #808000; text-decoration-color: #808000\">...</span>\n",
       "</pre>\n"
      ],
      "text/plain": [
       "Improve \u001b[32m\"qa_skill\"\u001b[0m skill based on analysis \u001b[33m...\u001b[0m\n"
      ]
     },
     "metadata": {},
     "output_type": "display_data"
    },
    {
     "data": {
      "text/html": [
       "<pre style=\"white-space:pre;overflow-x:auto;line-height:normal;font-family:Menlo,'DejaVu Sans Mono',consolas,'Courier New',monospace\"><span style=\"font-weight: bold\">{</span><span style=\"color: #008000; text-decoration-color: #008000\">'error_analysis'</span>: <span style=\"color: #008000; text-decoration-color: #008000\">\"The error is due to the incorrect capitalization of the ground truth. The input text and the </span>\n",
       "<span style=\"color: #008000; text-decoration-color: #008000\">ground truth are referring to the same mathematical theorem, but the capitalization in the ground truth is </span>\n",
       "<span style=\"color: #008000; text-decoration-color: #008000\">incorrect. The model made an error in predicting the name of a mathematical theorem. The input text refers to the </span>\n",
       "<span style=\"color: #008000; text-decoration-color: #008000\">philosophical paradox known as the Ship of Theseus paradox, which is not a mathematical theorem. Therefore, the </span>\n",
       "<span style=\"color: #008000; text-decoration-color: #008000\">model's prediction does not match the ground truth. The original instruction is asking for the name of the </span>\n",
       "<span style=\"color: #008000; text-decoration-color: #008000\">mathematical theorem mentioned in the input text, but the prediction already correctly identifies it as </span>\n",
       "<span style=\"color: #008000; text-decoration-color: #008000\">Heisenberg's uncertainty principle. Therefore, there is no error in the prediction.\"</span><span style=\"font-weight: bold\">}</span>\n",
       "</pre>\n"
      ],
      "text/plain": [
       "\u001b[1m{\u001b[0m\u001b[32m'error_analysis'\u001b[0m: \u001b[32m\"The error is due to the incorrect capitalization of the ground truth. The input text and the \u001b[0m\n",
       "\u001b[32mground truth are referring to the same mathematical theorem, but the capitalization in the ground truth is \u001b[0m\n",
       "\u001b[32mincorrect. The model made an error in predicting the name of a mathematical theorem. The input text refers to the \u001b[0m\n",
       "\u001b[32mphilosophical paradox known as the Ship of Theseus paradox, which is not a mathematical theorem. Therefore, the \u001b[0m\n",
       "\u001b[32mmodel's prediction does not match the ground truth. The original instruction is asking for the name of the \u001b[0m\n",
       "\u001b[32mmathematical theorem mentioned in the input text, but the prediction already correctly identifies it as \u001b[0m\n",
       "\u001b[32mHeisenberg's uncertainty principle. Therefore, there is no error in the prediction.\"\u001b[0m\u001b[1m}\u001b[0m\n"
      ]
     },
     "metadata": {},
     "output_type": "display_data"
    },
    {
     "data": {
      "text/html": [
       "<pre style=\"white-space:pre;overflow-x:auto;line-height:normal;font-family:Menlo,'DejaVu Sans Mono',consolas,'Courier New',monospace\">Updated instructions for skill <span style=\"color: #008000; text-decoration-color: #008000\">\"qa_skill\"</span>:\n",
       "\n",
       "</pre>\n"
      ],
      "text/plain": [
       "Updated instructions for skill \u001b[32m\"qa_skill\"\u001b[0m:\n",
       "\n"
      ]
     },
     "metadata": {},
     "output_type": "display_data"
    },
    {
     "data": {
      "text/html": [
       "<pre style=\"white-space:pre;overflow-x:auto;line-height:normal;font-family:Menlo,'DejaVu Sans Mono',consolas,'Courier New',monospace\"><span style=\"color: #008000; text-decoration-color: #008000; font-weight: bold\">Provide the name of the philosophical paradox mentioned in the input text.</span>\n",
       "</pre>\n"
      ],
      "text/plain": [
       "\u001b[1;32mProvide the name of the philosophical paradox mentioned in the input text.\u001b[0m\n"
      ]
     },
     "metadata": {},
     "output_type": "display_data"
    },
    {
     "data": {
      "text/html": [
       "<pre style=\"white-space:pre;overflow-x:auto;line-height:normal;font-family:Menlo,'DejaVu Sans Mono',consolas,'Courier New',monospace\">Re-apply qa_skill skill to dataset <span style=\"color: #808000; text-decoration-color: #808000\">...</span>\n",
       "</pre>\n"
      ],
      "text/plain": [
       "Re-apply qa_skill skill to dataset \u001b[33m...\u001b[0m\n"
      ]
     },
     "metadata": {},
     "output_type": "display_data"
    },
    {
     "data": {
      "text/html": [
       "<pre style=\"white-space:pre;overflow-x:auto;line-height:normal;font-family:Menlo,'DejaVu Sans Mono',consolas,'Courier New',monospace\">Applying skill: qa_skill\n",
       "</pre>\n"
      ],
      "text/plain": [
       "Applying skill: qa_skill\n"
      ]
     },
     "metadata": {},
     "output_type": "display_data"
    },
    {
     "data": {
      "text/html": [
       "<pre style=\"white-space:pre;overflow-x:auto;line-height:normal;font-family:Menlo,'DejaVu Sans Mono',consolas,'Courier New',monospace\"><span style=\"font-weight: bold\">[</span><span style=\"color: #008000; text-decoration-color: #008000\">'question'</span><span style=\"font-weight: bold\">]</span>\n",
       "</pre>\n"
      ],
      "text/plain": [
       "\u001b[1m[\u001b[0m\u001b[32m'question'\u001b[0m\u001b[1m]\u001b[0m\n"
      ]
     },
     "metadata": {},
     "output_type": "display_data"
    },
    {
     "name": "stderr",
     "output_type": "stream",
     "text": [
      "  0%|          | 0/4 [00:00<?, ?it/s]"
     ]
    },
    {
     "data": {
      "text/html": [
       "<pre style=\"white-space:pre;overflow-x:auto;line-height:normal;font-family:Menlo,'DejaVu Sans Mono',consolas,'Courier New',monospace\"><span style=\"font-weight: bold\">{</span><span style=\"color: #008000; text-decoration-color: #008000\">'question'</span>: <span style=\"color: #008000; text-decoration-color: #008000\">\"In quantum mechanics, what principle asserts that it's impossible to simultaneously know the exact </span>\n",
       "<span style=\"color: #008000; text-decoration-color: #008000\">position and momentum of a particle?\"</span>, <span style=\"color: #008000; text-decoration-color: #008000\">'expected_answer'</span>: <span style=\"color: #008000; text-decoration-color: #008000\">'Heisenberg Uncertainty Principle'</span>, <span style=\"color: #008000; text-decoration-color: #008000\">'qa_skill'</span>: \n",
       "<span style=\"color: #008000; text-decoration-color: #008000\">\"Heisenberg's uncertainty principle\"</span><span style=\"font-weight: bold\">}</span>\n",
       "</pre>\n"
      ],
      "text/plain": [
       "\u001b[1m{\u001b[0m\u001b[32m'question'\u001b[0m: \u001b[32m\"In quantum mechanics, what principle asserts that it's impossible to simultaneously know the exact \u001b[0m\n",
       "\u001b[32mposition and momentum of a particle?\"\u001b[0m, \u001b[32m'expected_answer'\u001b[0m: \u001b[32m'Heisenberg Uncertainty Principle'\u001b[0m, \u001b[32m'qa_skill'\u001b[0m: \n",
       "\u001b[32m\"Heisenberg's uncertainty principle\"\u001b[0m\u001b[1m}\u001b[0m\n"
      ]
     },
     "metadata": {},
     "output_type": "display_data"
    },
    {
     "name": "stderr",
     "output_type": "stream",
     "text": [
      " 50%|█████     | 2/4 [00:03<00:03,  1.53s/it]"
     ]
    },
    {
     "data": {
      "text/html": [
       "<pre style=\"white-space:pre;overflow-x:auto;line-height:normal;font-family:Menlo,'DejaVu Sans Mono',consolas,'Courier New',monospace\"><span style=\"font-weight: bold\">{</span><span style=\"color: #008000; text-decoration-color: #008000\">'question'</span>: <span style=\"color: #008000; text-decoration-color: #008000\">\"Which famous poet wrote 'The Love Song of J. Alfred Prufrock'?\"</span>, <span style=\"color: #008000; text-decoration-color: #008000\">'expected_answer'</span>: <span style=\"color: #008000; text-decoration-color: #008000\">'T.S. Eliot'</span>, \n",
       "<span style=\"color: #008000; text-decoration-color: #008000\">'qa_skill'</span>: <span style=\"color: #008000; text-decoration-color: #008000\">'T.S. Eliot'</span><span style=\"font-weight: bold\">}</span>\n",
       "</pre>\n"
      ],
      "text/plain": [
       "\u001b[1m{\u001b[0m\u001b[32m'question'\u001b[0m: \u001b[32m\"Which famous poet wrote 'The Love Song of J. Alfred Prufrock'?\"\u001b[0m, \u001b[32m'expected_answer'\u001b[0m: \u001b[32m'T.S. Eliot'\u001b[0m, \n",
       "\u001b[32m'qa_skill'\u001b[0m: \u001b[32m'T.S. Eliot'\u001b[0m\u001b[1m}\u001b[0m\n"
      ]
     },
     "metadata": {},
     "output_type": "display_data"
    },
    {
     "name": "stderr",
     "output_type": "stream",
     "text": [
      " 75%|███████▌  | 3/4 [00:06<00:02,  2.13s/it]"
     ]
    },
    {
     "data": {
      "text/html": [
       "<pre style=\"white-space:pre;overflow-x:auto;line-height:normal;font-family:Menlo,'DejaVu Sans Mono',consolas,'Courier New',monospace\"><span style=\"font-weight: bold\">{</span><span style=\"color: #008000; text-decoration-color: #008000\">'question'</span>: <span style=\"color: #008000; text-decoration-color: #008000\">'What mathematical theorem states that in any right-angled triangle, the area of the square whose side</span>\n",
       "<span style=\"color: #008000; text-decoration-color: #008000\">is the hypotenuse is equal to the sum of the areas of the squares whose sides are the two legs?'</span>, \n",
       "<span style=\"color: #008000; text-decoration-color: #008000\">'expected_answer'</span>: <span style=\"color: #008000; text-decoration-color: #008000\">'Pythagorean Theorem'</span>, <span style=\"color: #008000; text-decoration-color: #008000\">'qa_skill'</span>: <span style=\"color: #008000; text-decoration-color: #008000\">'Pythagorean theorem'</span><span style=\"font-weight: bold\">}</span>\n",
       "</pre>\n"
      ],
      "text/plain": [
       "\u001b[1m{\u001b[0m\u001b[32m'question'\u001b[0m: \u001b[32m'What mathematical theorem states that in any right-angled triangle, the area of the square whose side\u001b[0m\n",
       "\u001b[32mis the hypotenuse is equal to the sum of the areas of the squares whose sides are the two legs?'\u001b[0m, \n",
       "\u001b[32m'expected_answer'\u001b[0m: \u001b[32m'Pythagorean Theorem'\u001b[0m, \u001b[32m'qa_skill'\u001b[0m: \u001b[32m'Pythagorean theorem'\u001b[0m\u001b[1m}\u001b[0m\n"
      ]
     },
     "metadata": {},
     "output_type": "display_data"
    },
    {
     "name": "stderr",
     "output_type": "stream",
     "text": [
      "100%|██████████| 4/4 [00:09<00:00,  2.46s/it]"
     ]
    },
    {
     "data": {
      "text/html": [
       "<pre style=\"white-space:pre;overflow-x:auto;line-height:normal;font-family:Menlo,'DejaVu Sans Mono',consolas,'Courier New',monospace\"><span style=\"font-weight: bold\">{</span><span style=\"color: #008000; text-decoration-color: #008000\">'question'</span>: <span style=\"color: #008000; text-decoration-color: #008000\">'Which philosophical paradox involves a ship where all of its wooden parts are replaced with metal </span>\n",
       "<span style=\"color: #008000; text-decoration-color: #008000\">parts?'</span>, <span style=\"color: #008000; text-decoration-color: #008000\">'expected_answer'</span>: <span style=\"color: #008000; text-decoration-color: #008000\">'Ship of Theseus'</span>, <span style=\"color: #008000; text-decoration-color: #008000\">'qa_skill'</span>: <span style=\"color: #008000; text-decoration-color: #008000\">'The philosophical paradox you are referring to is known</span>\n",
       "<span style=\"color: #008000; text-decoration-color: #008000\">as the Ship of Theseus paradox.'</span><span style=\"font-weight: bold\">}</span>\n",
       "</pre>\n"
      ],
      "text/plain": [
       "\u001b[1m{\u001b[0m\u001b[32m'question'\u001b[0m: \u001b[32m'Which philosophical paradox involves a ship where all of its wooden parts are replaced with metal \u001b[0m\n",
       "\u001b[32mparts?'\u001b[0m, \u001b[32m'expected_answer'\u001b[0m: \u001b[32m'Ship of Theseus'\u001b[0m, \u001b[32m'qa_skill'\u001b[0m: \u001b[32m'The philosophical paradox you are referring to is known\u001b[0m\n",
       "\u001b[32mas the Ship of Theseus paradox.'\u001b[0m\u001b[1m}\u001b[0m\n"
      ]
     },
     "metadata": {},
     "output_type": "display_data"
    },
    {
     "name": "stderr",
     "output_type": "stream",
     "text": [
      "100%|██████████| 4/4 [00:11<00:00,  2.99s/it]\n"
     ]
    },
    {
     "data": {
      "text/html": [
       "<pre style=\"white-space:pre;overflow-x:auto;line-height:normal;font-family:Menlo,'DejaVu Sans Mono',consolas,'Courier New',monospace\">Train is done!\n",
       "</pre>\n"
      ],
      "text/plain": [
       "Train is done!\n"
      ]
     },
     "metadata": {},
     "output_type": "display_data"
    },
    {
     "data": {
      "text/plain": [
       "GroundTruthSignal(match=   qa_skill\n",
       "0     False\n",
       "1      True\n",
       "2     False\n",
       "3     False, errors={'qa_skill':                                          predictions  \\\n",
       "0                 Heisenberg's uncertainty principle   \n",
       "2                                Pythagorean theorem   \n",
       "3  The philosophical paradox you are referring to...   \n",
       "\n",
       "                    expected_answer  \n",
       "0  Heisenberg Uncertainty Principle  \n",
       "2               Pythagorean Theorem  \n",
       "3                   Ship of Theseus  })"
      ]
     },
     "execution_count": 5,
     "metadata": {},
     "output_type": "execute_result"
    }
   ],
   "source": [
    "agent.learn()"
   ]
  }
 ],
 "metadata": {
  "kernelspec": {
   "display_name": "ally",
   "language": "python",
   "name": "python3"
  },
  "language_info": {
   "codemirror_mode": {
    "name": "ipython",
    "version": 3
   },
   "file_extension": ".py",
   "mimetype": "text/x-python",
   "name": "python",
   "nbconvert_exporter": "python",
   "pygments_lexer": "ipython3",
   "version": "3.11.6"
  }
 },
 "nbformat": 4,
 "nbformat_minor": 2
}
