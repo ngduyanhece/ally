{
 "cells": [
  {
   "cell_type": "code",
   "execution_count": 1,
   "metadata": {},
   "outputs": [
    {
     "data": {
      "text/html": [
       "<div>\n",
       "<style scoped>\n",
       "    .dataframe tbody tr th:only-of-type {\n",
       "        vertical-align: middle;\n",
       "    }\n",
       "\n",
       "    .dataframe tbody tr th {\n",
       "        vertical-align: top;\n",
       "    }\n",
       "\n",
       "    .dataframe thead th {\n",
       "        text-align: right;\n",
       "    }\n",
       "</style>\n",
       "<table border=\"1\" class=\"dataframe\">\n",
       "  <thead>\n",
       "    <tr style=\"text-align: right;\">\n",
       "      <th></th>\n",
       "      <th>question</th>\n",
       "      <th>expected_answer</th>\n",
       "    </tr>\n",
       "  </thead>\n",
       "  <tbody>\n",
       "    <tr>\n",
       "      <th>0</th>\n",
       "      <td>In quantum mechanics, what principle asserts t...</td>\n",
       "      <td>Heisenberg Uncertainty Principle</td>\n",
       "    </tr>\n",
       "    <tr>\n",
       "      <th>1</th>\n",
       "      <td>Which famous poet wrote 'The Love Song of J. A...</td>\n",
       "      <td>T.S. Eliot</td>\n",
       "    </tr>\n",
       "    <tr>\n",
       "      <th>2</th>\n",
       "      <td>What mathematical theorem states that in any r...</td>\n",
       "      <td>Pythagorean Theorem</td>\n",
       "    </tr>\n",
       "    <tr>\n",
       "      <th>3</th>\n",
       "      <td>Which philosophical paradox involves a ship wh...</td>\n",
       "      <td>Ship of Theseus</td>\n",
       "    </tr>\n",
       "  </tbody>\n",
       "</table>\n",
       "</div>"
      ],
      "text/plain": [
       "                                            question  \\\n",
       "0  In quantum mechanics, what principle asserts t...   \n",
       "1  Which famous poet wrote 'The Love Song of J. A...   \n",
       "2  What mathematical theorem states that in any r...   \n",
       "3  Which philosophical paradox involves a ship wh...   \n",
       "\n",
       "                    expected_answer  \n",
       "0  Heisenberg Uncertainty Principle  \n",
       "1                        T.S. Eliot  \n",
       "2               Pythagorean Theorem  \n",
       "3                   Ship of Theseus  "
      ]
     },
     "execution_count": 1,
     "metadata": {},
     "output_type": "execute_result"
    }
   ],
   "source": [
    "import sys\n",
    "sys.path.append('../')\n",
    "import pandas as pd\n",
    "df = pd.DataFrame([\n",
    "  {\"question\": \"In quantum mechanics, what principle asserts that it's impossible to simultaneously know the exact position and momentum of a particle?\", \"expected_answer\": \"Heisenberg Uncertainty Principle\"},\n",
    "  {\"question\": \"Which famous poet wrote 'The Love Song of J. Alfred Prufrock'?\", \"expected_answer\": \"T.S. Eliot\"},\n",
    "  {\"question\": \"What mathematical theorem states that in any right-angled triangle, the area of the square whose side is the hypotenuse is equal to the sum of the areas of the squares whose sides are the two legs?\", \"expected_answer\": \"Pythagorean Theorem\"},\n",
    "  {\"question\": \"Which philosophical paradox involves a ship where all of its wooden parts are replaced with metal parts?\", \"expected_answer\": \"Ship of Theseus\"},\n",
    "])\n",
    "df"
   ]
  },
  {
   "cell_type": "code",
   "execution_count": 2,
   "metadata": {},
   "outputs": [],
   "source": [
    "\n",
    "\n",
    "from ally.skills.collection.qa import QuestionAnsweringSkill\n",
    "\n",
    "\n",
    "qa_skill = QuestionAnsweringSkill(\n",
    "  input_template=\"Question: {question}\",\n",
    "  name='qa_skill',\n",
    ")"
   ]
  },
  {
   "cell_type": "code",
   "execution_count": 3,
   "metadata": {},
   "outputs": [],
   "source": [
    "from ally.runtimes.openai import OpenAIRuntime\n",
    "from app.core.settings import settings\n",
    "\n",
    "student_openai_runtime = OpenAIRuntime(\n",
    "    verbose=True,\n",
    "    api_key=settings.openai_api_key,\n",
    "    gpt_model_name=\"gpt-3.5-turbo\",\n",
    "    max_tokens=256,\n",
    "  )\n",
    "\n",
    "teacher_openai_runtime = OpenAIRuntime(\n",
    "    verbose=True,\n",
    "    api_key=settings.openai_api_key,\n",
    "    gpt_model_name=\"gpt-4\",\n",
    "    max_tokens=512,\n",
    "  )"
   ]
  },
  {
   "cell_type": "code",
   "execution_count": 4,
   "metadata": {},
   "outputs": [],
   "source": [
    "from ally.agents.base import Agent\n",
    "from ally.environments.base import StaticEnvironment\n",
    "\n",
    "\n",
    "agent = Agent(\n",
    "\tskills=qa_skill,\n",
    "  runtimes={\n",
    "    'openai': student_openai_runtime\n",
    "\t},\n",
    "  teacher_runtimes={\n",
    "    'openai': teacher_openai_runtime\n",
    "\t},\n",
    "\tenvironment=StaticEnvironment(\n",
    "\t\t\tdf=df,\n",
    "\t\t\tground_truth_columns={'answer': 'expected_answer'}\n",
    "\t)\n",
    ")"
   ]
  },
  {
   "cell_type": "code",
   "execution_count": 5,
   "metadata": {},
   "outputs": [
    {
     "data": {
      "text/html": [
       "<pre style=\"white-space:pre;overflow-x:auto;line-height:normal;font-family:Menlo,'DejaVu Sans Mono',consolas,'Courier New',monospace\">\n",
       "\n",
       "=&gt; Iteration #<span style=\"color: #008080; text-decoration-color: #008080; font-weight: bold\">0</span>: Getting feedback, analyzing and improving <span style=\"color: #808000; text-decoration-color: #808000\">...</span>\n",
       "</pre>\n"
      ],
      "text/plain": [
       "\n",
       "\n",
       "=> Iteration #\u001b[1;36m0\u001b[0m: Getting feedback, analyzing and improving \u001b[33m...\u001b[0m\n"
      ]
     },
     "metadata": {},
     "output_type": "display_data"
    },
    {
     "data": {
      "text/html": [
       "<pre style=\"white-space:pre;overflow-x:auto;line-height:normal;font-family:Menlo,'DejaVu Sans Mono',consolas,'Courier New',monospace\">Applying skill: qa_skill\n",
       "</pre>\n"
      ],
      "text/plain": [
       "Applying skill: qa_skill\n"
      ]
     },
     "metadata": {},
     "output_type": "display_data"
    },
    {
     "data": {
      "text/html": [
       "<pre style=\"white-space:pre;overflow-x:auto;line-height:normal;font-family:Menlo,'DejaVu Sans Mono',consolas,'Courier New',monospace\"><span style=\"font-weight: bold\">[</span><span style=\"color: #008000; text-decoration-color: #008000\">'question'</span><span style=\"font-weight: bold\">]</span>\n",
       "</pre>\n"
      ],
      "text/plain": [
       "\u001b[1m[\u001b[0m\u001b[32m'question'\u001b[0m\u001b[1m]\u001b[0m\n"
      ]
     },
     "metadata": {},
     "output_type": "display_data"
    },
    {
     "name": "stderr",
     "output_type": "stream",
     "text": [
      "  0%|          | 0/4 [00:00<?, ?it/s]"
     ]
    },
    {
     "data": {
      "text/html": [
       "<pre style=\"white-space:pre;overflow-x:auto;line-height:normal;font-family:Menlo,'DejaVu Sans Mono',consolas,'Courier New',monospace\"><span style=\"font-weight: bold\">{</span><span style=\"color: #008000; text-decoration-color: #008000\">'question'</span>: <span style=\"color: #008000; text-decoration-color: #008000\">\"In quantum mechanics, what principle asserts that it's impossible to simultaneously know the exact </span>\n",
       "<span style=\"color: #008000; text-decoration-color: #008000\">position and momentum of a particle?\"</span>, <span style=\"color: #008000; text-decoration-color: #008000\">'expected_answer'</span>: <span style=\"color: #008000; text-decoration-color: #008000\">'Heisenberg Uncertainty Principle'</span><span style=\"font-weight: bold\">}</span>\n",
       "</pre>\n"
      ],
      "text/plain": [
       "\u001b[1m{\u001b[0m\u001b[32m'question'\u001b[0m: \u001b[32m\"In quantum mechanics, what principle asserts that it's impossible to simultaneously know the exact \u001b[0m\n",
       "\u001b[32mposition and momentum of a particle?\"\u001b[0m, \u001b[32m'expected_answer'\u001b[0m: \u001b[32m'Heisenberg Uncertainty Principle'\u001b[0m\u001b[1m}\u001b[0m\n"
      ]
     },
     "metadata": {},
     "output_type": "display_data"
    },
    {
     "name": "stderr",
     "output_type": "stream",
     "text": [
      " 50%|█████     | 2/4 [00:06<00:06,  3.42s/it]"
     ]
    },
    {
     "data": {
      "text/html": [
       "<pre style=\"white-space:pre;overflow-x:auto;line-height:normal;font-family:Menlo,'DejaVu Sans Mono',consolas,'Courier New',monospace\"><span style=\"font-weight: bold\">{</span><span style=\"color: #008000; text-decoration-color: #008000\">'question'</span>: <span style=\"color: #008000; text-decoration-color: #008000\">\"Which famous poet wrote 'The Love Song of J. Alfred Prufrock'?\"</span>, <span style=\"color: #008000; text-decoration-color: #008000\">'expected_answer'</span>: <span style=\"color: #008000; text-decoration-color: #008000\">'T.S. Eliot'</span><span style=\"font-weight: bold\">}</span>\n",
       "</pre>\n"
      ],
      "text/plain": [
       "\u001b[1m{\u001b[0m\u001b[32m'question'\u001b[0m: \u001b[32m\"Which famous poet wrote 'The Love Song of J. Alfred Prufrock'?\"\u001b[0m, \u001b[32m'expected_answer'\u001b[0m: \u001b[32m'T.S. Eliot'\u001b[0m\u001b[1m}\u001b[0m\n"
      ]
     },
     "metadata": {},
     "output_type": "display_data"
    },
    {
     "name": "stderr",
     "output_type": "stream",
     "text": [
      " 75%|███████▌  | 3/4 [00:09<00:02,  2.91s/it]"
     ]
    },
    {
     "data": {
      "text/html": [
       "<pre style=\"white-space:pre;overflow-x:auto;line-height:normal;font-family:Menlo,'DejaVu Sans Mono',consolas,'Courier New',monospace\"><span style=\"font-weight: bold\">{</span><span style=\"color: #008000; text-decoration-color: #008000\">'question'</span>: <span style=\"color: #008000; text-decoration-color: #008000\">'What mathematical theorem states that in any right-angled triangle, the area of the square whose side</span>\n",
       "<span style=\"color: #008000; text-decoration-color: #008000\">is the hypotenuse is equal to the sum of the areas of the squares whose sides are the two legs?'</span>, \n",
       "<span style=\"color: #008000; text-decoration-color: #008000\">'expected_answer'</span>: <span style=\"color: #008000; text-decoration-color: #008000\">'Pythagorean Theorem'</span><span style=\"font-weight: bold\">}</span>\n",
       "</pre>\n"
      ],
      "text/plain": [
       "\u001b[1m{\u001b[0m\u001b[32m'question'\u001b[0m: \u001b[32m'What mathematical theorem states that in any right-angled triangle, the area of the square whose side\u001b[0m\n",
       "\u001b[32mis the hypotenuse is equal to the sum of the areas of the squares whose sides are the two legs?'\u001b[0m, \n",
       "\u001b[32m'expected_answer'\u001b[0m: \u001b[32m'Pythagorean Theorem'\u001b[0m\u001b[1m}\u001b[0m\n"
      ]
     },
     "metadata": {},
     "output_type": "display_data"
    },
    {
     "name": "stderr",
     "output_type": "stream",
     "text": [
      "100%|██████████| 4/4 [00:12<00:00,  3.09s/it]"
     ]
    },
    {
     "data": {
      "text/html": [
       "<pre style=\"white-space:pre;overflow-x:auto;line-height:normal;font-family:Menlo,'DejaVu Sans Mono',consolas,'Courier New',monospace\"><span style=\"font-weight: bold\">{</span><span style=\"color: #008000; text-decoration-color: #008000\">'question'</span>: <span style=\"color: #008000; text-decoration-color: #008000\">'Which philosophical paradox involves a ship where all of its wooden parts are replaced with metal </span>\n",
       "<span style=\"color: #008000; text-decoration-color: #008000\">parts?'</span>, <span style=\"color: #008000; text-decoration-color: #008000\">'expected_answer'</span>: <span style=\"color: #008000; text-decoration-color: #008000\">'Ship of Theseus'</span><span style=\"font-weight: bold\">}</span>\n",
       "</pre>\n"
      ],
      "text/plain": [
       "\u001b[1m{\u001b[0m\u001b[32m'question'\u001b[0m: \u001b[32m'Which philosophical paradox involves a ship where all of its wooden parts are replaced with metal \u001b[0m\n",
       "\u001b[32mparts?'\u001b[0m, \u001b[32m'expected_answer'\u001b[0m: \u001b[32m'Ship of Theseus'\u001b[0m\u001b[1m}\u001b[0m\n"
      ]
     },
     "metadata": {},
     "output_type": "display_data"
    },
    {
     "name": "stderr",
     "output_type": "stream",
     "text": [
      "100%|██████████| 4/4 [00:15<00:00,  3.99s/it]\n"
     ]
    },
    {
     "data": {
      "text/html": [
       "<pre style=\"white-space:pre;overflow-x:auto;line-height:normal;font-family:Menlo,'DejaVu Sans Mono',consolas,'Courier New',monospace\">Predictions and feedback:\n",
       "</pre>\n"
      ],
      "text/plain": [
       "Predictions and feedback:\n"
      ]
     },
     "metadata": {},
     "output_type": "display_data"
    },
    {
     "data": {
      "text/html": [
       "<pre style=\"white-space:pre;overflow-x:auto;line-height:normal;font-family:Menlo,'DejaVu Sans Mono',consolas,'Courier New',monospace\">                                                                                                                   \n",
       " <span style=\"color: #800080; text-decoration-color: #800080; font-weight: bold\"> question                </span> <span style=\"color: #800080; text-decoration-color: #800080; font-weight: bold\"> expected_answer         </span> <span style=\"color: #800080; text-decoration-color: #800080; font-weight: bold\"> answer                   </span> <span style=\"color: #800080; text-decoration-color: #800080; font-weight: bold\"> answer </span> <span style=\"color: #800080; text-decoration-color: #800080; font-weight: bold\"> answer__fb              </span> \n",
       " ───────────────────────────────────────────────────────────────────────────────────────────────────────────────── \n",
       "  In quantum mechanics,     Heisenberg Uncertainty    The Heisenberg             False    Incorrect. Must be       \n",
       "  what principle asserts    Principle                 uncertainty principle               equal to Heisenberg      \n",
       "  that it's impossible to                             asserts that it's                   Uncertainty Principle    \n",
       "  simultaneously know the                             impossible to                                                \n",
       "  exact position and                                  simultaneously know the                                      \n",
       "  momentum of a particle?                             exact position and                                           \n",
       "                                                      momentum of a particle.                                      \n",
       " <span style=\"color: #7f7f7f; text-decoration-color: #7f7f7f\"> Which famous poet wrote </span> <span style=\"color: #7f7f7f; text-decoration-color: #7f7f7f\"> T.S. Eliot              </span> <span style=\"color: #7f7f7f; text-decoration-color: #7f7f7f\"> T.S. Eliot               </span> <span style=\"color: #7f7f7f; text-decoration-color: #7f7f7f\"> True   </span> <span style=\"color: #7f7f7f; text-decoration-color: #7f7f7f\"> Correct.                </span> \n",
       " <span style=\"color: #7f7f7f; text-decoration-color: #7f7f7f\"> 'The Love Song of J.    </span> <span style=\"color: #7f7f7f; text-decoration-color: #7f7f7f\">                         </span> <span style=\"color: #7f7f7f; text-decoration-color: #7f7f7f\">                          </span> <span style=\"color: #7f7f7f; text-decoration-color: #7f7f7f\">        </span> <span style=\"color: #7f7f7f; text-decoration-color: #7f7f7f\">                         </span> \n",
       " <span style=\"color: #7f7f7f; text-decoration-color: #7f7f7f\"> Alfred Prufrock'?       </span> <span style=\"color: #7f7f7f; text-decoration-color: #7f7f7f\">                         </span> <span style=\"color: #7f7f7f; text-decoration-color: #7f7f7f\">                          </span> <span style=\"color: #7f7f7f; text-decoration-color: #7f7f7f\">        </span> <span style=\"color: #7f7f7f; text-decoration-color: #7f7f7f\">                         </span> \n",
       "  What mathematical         Pythagorean Theorem       The mathematical theorem   False    Incorrect. Must be       \n",
       "  theorem states that in                              that states this is                 equal to Pythagorean     \n",
       "  any right-angled                                    called the Pythagorean              Theorem                  \n",
       "  triangle, the area of                               theorem.                                                     \n",
       "  the square whose side                                                                                            \n",
       "  is the hypotenuse is                                                                                             \n",
       "  equal to the sum of the                                                                                          \n",
       "  areas of the squares                                                                                             \n",
       "  whose sides are the two                                                                                          \n",
       "  legs?                                                                                                            \n",
       " <span style=\"color: #7f7f7f; text-decoration-color: #7f7f7f\"> Which philosophical     </span> <span style=\"color: #7f7f7f; text-decoration-color: #7f7f7f\"> Ship of Theseus         </span> <span style=\"color: #7f7f7f; text-decoration-color: #7f7f7f\"> The philosophical        </span> <span style=\"color: #7f7f7f; text-decoration-color: #7f7f7f\"> False  </span> <span style=\"color: #7f7f7f; text-decoration-color: #7f7f7f\"> Incorrect. Must be      </span> \n",
       " <span style=\"color: #7f7f7f; text-decoration-color: #7f7f7f\"> paradox involves a ship </span> <span style=\"color: #7f7f7f; text-decoration-color: #7f7f7f\">                         </span> <span style=\"color: #7f7f7f; text-decoration-color: #7f7f7f\"> paradox you are          </span> <span style=\"color: #7f7f7f; text-decoration-color: #7f7f7f\">        </span> <span style=\"color: #7f7f7f; text-decoration-color: #7f7f7f\"> equal to Ship of        </span> \n",
       " <span style=\"color: #7f7f7f; text-decoration-color: #7f7f7f\"> where all of its wooden </span> <span style=\"color: #7f7f7f; text-decoration-color: #7f7f7f\">                         </span> <span style=\"color: #7f7f7f; text-decoration-color: #7f7f7f\"> referring to is known as </span> <span style=\"color: #7f7f7f; text-decoration-color: #7f7f7f\">        </span> <span style=\"color: #7f7f7f; text-decoration-color: #7f7f7f\"> Theseus                 </span> \n",
       " <span style=\"color: #7f7f7f; text-decoration-color: #7f7f7f\"> parts are replaced with </span> <span style=\"color: #7f7f7f; text-decoration-color: #7f7f7f\">                         </span> <span style=\"color: #7f7f7f; text-decoration-color: #7f7f7f\"> the Ship of Theseus      </span> <span style=\"color: #7f7f7f; text-decoration-color: #7f7f7f\">        </span> <span style=\"color: #7f7f7f; text-decoration-color: #7f7f7f\">                         </span> \n",
       " <span style=\"color: #7f7f7f; text-decoration-color: #7f7f7f\"> metal parts?            </span> <span style=\"color: #7f7f7f; text-decoration-color: #7f7f7f\">                         </span> <span style=\"color: #7f7f7f; text-decoration-color: #7f7f7f\"> paradox.                 </span> <span style=\"color: #7f7f7f; text-decoration-color: #7f7f7f\">        </span> <span style=\"color: #7f7f7f; text-decoration-color: #7f7f7f\">                         </span> \n",
       "                                                                                                                   \n",
       "</pre>\n"
      ],
      "text/plain": [
       "                                                                                                                   \n",
       " \u001b[1;35m \u001b[0m\u001b[1;35mquestion               \u001b[0m\u001b[1;35m \u001b[0m \u001b[1;35m \u001b[0m\u001b[1;35mexpected_answer        \u001b[0m\u001b[1;35m \u001b[0m \u001b[1;35m \u001b[0m\u001b[1;35manswer                  \u001b[0m\u001b[1;35m \u001b[0m \u001b[1;35m \u001b[0m\u001b[1;35manswer\u001b[0m\u001b[1;35m \u001b[0m \u001b[1;35m \u001b[0m\u001b[1;35manswer__fb             \u001b[0m\u001b[1;35m \u001b[0m \n",
       " ───────────────────────────────────────────────────────────────────────────────────────────────────────────────── \n",
       "  In quantum mechanics,     Heisenberg Uncertainty    The Heisenberg             False    Incorrect. Must be       \n",
       "  what principle asserts    Principle                 uncertainty principle               equal to Heisenberg      \n",
       "  that it's impossible to                             asserts that it's                   Uncertainty Principle    \n",
       "  simultaneously know the                             impossible to                                                \n",
       "  exact position and                                  simultaneously know the                                      \n",
       "  momentum of a particle?                             exact position and                                           \n",
       "                                                      momentum of a particle.                                      \n",
       " \u001b[2m \u001b[0m\u001b[2mWhich famous poet wrote\u001b[0m\u001b[2m \u001b[0m \u001b[2m \u001b[0m\u001b[2mT.S. Eliot             \u001b[0m\u001b[2m \u001b[0m \u001b[2m \u001b[0m\u001b[2mT.S. Eliot              \u001b[0m\u001b[2m \u001b[0m \u001b[2m \u001b[0m\u001b[2mTrue  \u001b[0m\u001b[2m \u001b[0m \u001b[2m \u001b[0m\u001b[2mCorrect.               \u001b[0m\u001b[2m \u001b[0m \n",
       " \u001b[2m \u001b[0m\u001b[2m'The Love Song of J.   \u001b[0m\u001b[2m \u001b[0m \u001b[2m                         \u001b[0m \u001b[2m                          \u001b[0m \u001b[2m        \u001b[0m \u001b[2m                         \u001b[0m \n",
       " \u001b[2m \u001b[0m\u001b[2mAlfred Prufrock'?      \u001b[0m\u001b[2m \u001b[0m \u001b[2m                         \u001b[0m \u001b[2m                          \u001b[0m \u001b[2m        \u001b[0m \u001b[2m                         \u001b[0m \n",
       "  What mathematical         Pythagorean Theorem       The mathematical theorem   False    Incorrect. Must be       \n",
       "  theorem states that in                              that states this is                 equal to Pythagorean     \n",
       "  any right-angled                                    called the Pythagorean              Theorem                  \n",
       "  triangle, the area of                               theorem.                                                     \n",
       "  the square whose side                                                                                            \n",
       "  is the hypotenuse is                                                                                             \n",
       "  equal to the sum of the                                                                                          \n",
       "  areas of the squares                                                                                             \n",
       "  whose sides are the two                                                                                          \n",
       "  legs?                                                                                                            \n",
       " \u001b[2m \u001b[0m\u001b[2mWhich philosophical    \u001b[0m\u001b[2m \u001b[0m \u001b[2m \u001b[0m\u001b[2mShip of Theseus        \u001b[0m\u001b[2m \u001b[0m \u001b[2m \u001b[0m\u001b[2mThe philosophical       \u001b[0m\u001b[2m \u001b[0m \u001b[2m \u001b[0m\u001b[2mFalse \u001b[0m\u001b[2m \u001b[0m \u001b[2m \u001b[0m\u001b[2mIncorrect. Must be     \u001b[0m\u001b[2m \u001b[0m \n",
       " \u001b[2m \u001b[0m\u001b[2mparadox involves a ship\u001b[0m\u001b[2m \u001b[0m \u001b[2m                         \u001b[0m \u001b[2m \u001b[0m\u001b[2mparadox you are         \u001b[0m\u001b[2m \u001b[0m \u001b[2m        \u001b[0m \u001b[2m \u001b[0m\u001b[2mequal to Ship of       \u001b[0m\u001b[2m \u001b[0m \n",
       " \u001b[2m \u001b[0m\u001b[2mwhere all of its wooden\u001b[0m\u001b[2m \u001b[0m \u001b[2m                         \u001b[0m \u001b[2m \u001b[0m\u001b[2mreferring to is known as\u001b[0m\u001b[2m \u001b[0m \u001b[2m        \u001b[0m \u001b[2m \u001b[0m\u001b[2mTheseus                \u001b[0m\u001b[2m \u001b[0m \n",
       " \u001b[2m \u001b[0m\u001b[2mparts are replaced with\u001b[0m\u001b[2m \u001b[0m \u001b[2m                         \u001b[0m \u001b[2m \u001b[0m\u001b[2mthe Ship of Theseus     \u001b[0m\u001b[2m \u001b[0m \u001b[2m        \u001b[0m \u001b[2m                         \u001b[0m \n",
       " \u001b[2m \u001b[0m\u001b[2mmetal parts?           \u001b[0m\u001b[2m \u001b[0m \u001b[2m                         \u001b[0m \u001b[2m \u001b[0m\u001b[2mparadox.                \u001b[0m\u001b[2m \u001b[0m \u001b[2m        \u001b[0m \u001b[2m                         \u001b[0m \n",
       "                                                                                                                   \n"
      ]
     },
     "metadata": {},
     "output_type": "display_data"
    },
    {
     "data": {
      "text/html": [
       "<pre style=\"white-space:pre;overflow-x:auto;line-height:normal;font-family:Menlo,'DejaVu Sans Mono',consolas,'Courier New',monospace\"><span style=\"color: #008000; text-decoration-color: #008000; font-weight: bold\">Output to improve: answer | </span><span style=\"color: #808000; text-decoration-color: #808000; font-weight: bold\">Skill</span><span style=\"color: #008000; text-decoration-color: #008000; font-weight: bold\">=</span><span style=\"color: #800080; text-decoration-color: #800080; font-weight: bold\">qa_skill</span><span style=\"color: #008000; text-decoration-color: #008000; font-weight: bold\"> | Accuracy = </span><span style=\"color: #008080; text-decoration-color: #008080; font-weight: bold\">25.00</span><span style=\"color: #008000; text-decoration-color: #008000; font-weight: bold\">% </span>\n",
       "\n",
       "<span style=\"color: #008000; text-decoration-color: #008000; font-weight: bold\">                                                                </span>\n",
       "</pre>\n"
      ],
      "text/plain": [
       "\u001b[1;32mOutput to improve: answer | \u001b[0m\u001b[1;33mSkill\u001b[0m\u001b[1;32m=\u001b[0m\u001b[1;35mqa_skill\u001b[0m\u001b[1;32m | Accuracy = \u001b[0m\u001b[1;36m25.00\u001b[0m\u001b[1;32m% \u001b[0m\n",
       "\n",
       "\u001b[1;32m                                                                \u001b[0m\n"
      ]
     },
     "metadata": {},
     "output_type": "display_data"
    },
    {
     "data": {
      "text/html": [
       "<pre style=\"white-space:pre;overflow-x:auto;line-height:normal;font-family:Menlo,'DejaVu Sans Mono',consolas,'Courier New',monospace\"><span style=\"font-weight: bold\">{</span><span style=\"color: #008000; text-decoration-color: #008000\">'input'</span>: <span style=\"color: #008000; text-decoration-color: #008000\">\"Here is the feedback based on the current instructions:\\n\\n\\n\\n    \\t\\t\\tQuestion: In quantum mechanics,</span>\n",
       "<span style=\"color: #008000; text-decoration-color: #008000\">what principle asserts that it's impossible to simultaneously know the exact position and momentum of a </span>\n",
       "<span style=\"color: #008000; text-decoration-color: #008000\">particle?\\n\\n    \\t\\t\\tthe answer to the question:The Heisenberg uncertainty principle asserts that it's impossible</span>\n",
       "<span style=\"color: #008000; text-decoration-color: #008000\">to simultaneously know the exact position and momentum of a particle.\\n\\n    \\t\\t\\tIncorrect. Must be equal to </span>\n",
       "<span style=\"color: #008000; text-decoration-color: #008000\">Heisenberg Uncertainty Principle\\n\\n\\n  \\t\\t\\t\\n\\n    \\t\\t\\tQuestion: Which famous poet wrote 'The Love Song of J. </span>\n",
       "<span style=\"color: #008000; text-decoration-color: #008000\">Alfred Prufrock'?\\n\\n    \\t\\t\\tthe answer to the question:T.S. Eliot\\n\\n    \\t\\t\\tCorrect.\\n\\n\\n  \\t\\t\\t\\n\\n    </span>\n",
       "<span style=\"color: #008000; text-decoration-color: #008000\">\\t\\t\\tQuestion: What mathematical theorem states that in any right-angled triangle, the area of the square whose </span>\n",
       "<span style=\"color: #008000; text-decoration-color: #008000\">side is the hypotenuse is equal to the sum of the areas of the squares whose sides are the two legs?\\n\\n    </span>\n",
       "<span style=\"color: #008000; text-decoration-color: #008000\">\\t\\t\\tthe answer to the question:The mathematical theorem that states this is called the Pythagorean theorem.\\n\\n  </span>\n",
       "<span style=\"color: #008000; text-decoration-color: #008000\">\\t\\t\\tIncorrect. Must be equal to Pythagorean Theorem\\n\\n\\n  \\t\\t\\t\\n\\n    \\t\\t\\tQuestion: Which philosophical </span>\n",
       "<span style=\"color: #008000; text-decoration-color: #008000\">paradox involves a ship where all of its wooden parts are replaced with metal parts?\\n\\n    \\t\\t\\tthe answer to the</span>\n",
       "<span style=\"color: #008000; text-decoration-color: #008000\">question:The philosophical paradox you are referring to is known as the Ship of Theseus paradox.\\n\\n    </span>\n",
       "<span style=\"color: #008000; text-decoration-color: #008000\">\\t\\t\\tIncorrect. Must be equal to Ship of Theseus\\n\\n\\n  \\t\\t\\t\\n\\n'\\n\\t\\t\\t\\tPlease address the feedback and </span>\n",
       "<span style=\"color: #008000; text-decoration-color: #008000\">provide new improved instructions for the LLM.\\n\\n\\t\\t\\t\\tUse the following format for the few-shot </span>\n",
       "<span style=\"color: #008000; text-decoration-color: #008000\">examples:\\n\\n\\n\\t\\t\\t\\tQuestion: {question}\\n\\n\\t\\t\\t\\t[{'name': 'answer', 'description': 'the answer to the </span>\n",
       "<span style=\"color: #008000; text-decoration-color: #008000\">question'}]\\n\\n\\n\\t\\t\\t\\tCarefully analyze this feedback, and provide updated prompting instructions for </span>\n",
       "<span style=\"color: #008000; text-decoration-color: #008000\">LLM:\\n\\t\\t\\t\"</span><span style=\"font-weight: bold\">}</span>\n",
       "</pre>\n"
      ],
      "text/plain": [
       "\u001b[1m{\u001b[0m\u001b[32m'input'\u001b[0m: \u001b[32m\"Here is the feedback based on the current instructions:\\n\\n\\n\\n    \\t\\t\\tQuestion: In quantum mechanics,\u001b[0m\n",
       "\u001b[32mwhat principle asserts that it's impossible to simultaneously know the exact position and momentum of a \u001b[0m\n",
       "\u001b[32mparticle?\\n\\n    \\t\\t\\tthe answer to the question:The Heisenberg uncertainty principle asserts that it's impossible\u001b[0m\n",
       "\u001b[32mto simultaneously know the exact position and momentum of a particle.\\n\\n    \\t\\t\\tIncorrect. Must be equal to \u001b[0m\n",
       "\u001b[32mHeisenberg Uncertainty Principle\\n\\n\\n  \\t\\t\\t\\n\\n    \\t\\t\\tQuestion: Which famous poet wrote 'The Love Song of J. \u001b[0m\n",
       "\u001b[32mAlfred Prufrock'?\\n\\n    \\t\\t\\tthe answer to the question:T.S. Eliot\\n\\n    \\t\\t\\tCorrect.\\n\\n\\n  \\t\\t\\t\\n\\n    \u001b[0m\n",
       "\u001b[32m\\t\\t\\tQuestion: What mathematical theorem states that in any right-angled triangle, the area of the square whose \u001b[0m\n",
       "\u001b[32mside is the hypotenuse is equal to the sum of the areas of the squares whose sides are the two legs?\\n\\n    \u001b[0m\n",
       "\u001b[32m\\t\\t\\tthe answer to the question:The mathematical theorem that states this is called the Pythagorean theorem.\\n\\n  \u001b[0m\n",
       "\u001b[32m\\t\\t\\tIncorrect. Must be equal to Pythagorean Theorem\\n\\n\\n  \\t\\t\\t\\n\\n    \\t\\t\\tQuestion: Which philosophical \u001b[0m\n",
       "\u001b[32mparadox involves a ship where all of its wooden parts are replaced with metal parts?\\n\\n    \\t\\t\\tthe answer to the\u001b[0m\n",
       "\u001b[32mquestion:The philosophical paradox you are referring to is known as the Ship of Theseus paradox.\\n\\n    \u001b[0m\n",
       "\u001b[32m\\t\\t\\tIncorrect. Must be equal to Ship of Theseus\\n\\n\\n  \\t\\t\\t\\n\\n'\\n\\t\\t\\t\\tPlease address the feedback and \u001b[0m\n",
       "\u001b[32mprovide new improved instructions for the LLM.\\n\\n\\t\\t\\t\\tUse the following format for the few-shot \u001b[0m\n",
       "\u001b[32mexamples:\\n\\n\\n\\t\\t\\t\\tQuestion: \u001b[0m\u001b[32m{\u001b[0m\u001b[32mquestion\u001b[0m\u001b[32m}\u001b[0m\u001b[32m\\n\\n\\t\\t\\t\\t\u001b[0m\u001b[32m[\u001b[0m\u001b[32m{\u001b[0m\u001b[32m'name': 'answer', 'description': 'the answer to the \u001b[0m\n",
       "\u001b[32mquestion'\u001b[0m\u001b[32m}\u001b[0m\u001b[32m]\u001b[0m\u001b[32m\\n\\n\\n\\t\\t\\t\\tCarefully analyze this feedback, and provide updated prompting instructions for \u001b[0m\n",
       "\u001b[32mLLM:\\n\\t\\t\\t\"\u001b[0m\u001b[1m}\u001b[0m\n"
      ]
     },
     "metadata": {},
     "output_type": "display_data"
    },
    {
     "data": {
      "text/html": [
       "<pre style=\"white-space:pre;overflow-x:auto;line-height:normal;font-family:Menlo,'DejaVu Sans Mono',consolas,'Courier New',monospace\"><span style=\"color: #008000; text-decoration-color: #008000; font-weight: bold\">Provide a concise and direct answer to the question. Avoid using additional phrases such as </span><span style=\"color: #008000; text-decoration-color: #008000\">'the answer to the </span>\n",
       "<span style=\"color: #008000; text-decoration-color: #008000\">question is'</span><span style=\"color: #008000; text-decoration-color: #008000; font-weight: bold\"> or </span><span style=\"color: #008000; text-decoration-color: #008000\">'you are referring to'</span><span style=\"color: #008000; text-decoration-color: #008000; font-weight: bold\">. Instead, simply state the answer. For example, if the question is </span><span style=\"color: #008000; text-decoration-color: #008000\">'Who </span>\n",
       "<span style=\"color: #008000; text-decoration-color: #008000\">wrote '</span><span style=\"color: #008000; text-decoration-color: #008000; font-weight: bold\">The Love Song of J. Alfred Prufrock'?</span><span style=\"color: #008000; text-decoration-color: #008000\">', your answer should be '</span><span style=\"color: #008000; text-decoration-color: #008000; font-weight: bold\">T.S. Eliot'. If the question is </span><span style=\"color: #008000; text-decoration-color: #008000\">'What </span>\n",
       "<span style=\"color: #008000; text-decoration-color: #008000\">principle in quantum mechanics asserts that it'</span><span style=\"color: #008000; text-decoration-color: #008000; font-weight: bold\">s impossible to simultaneously know the exact position and momentum </span>\n",
       "<span style=\"color: #008000; text-decoration-color: #008000; font-weight: bold\">of a particle?</span><span style=\"color: #008000; text-decoration-color: #008000\">', your answer should be '</span><span style=\"color: #008000; text-decoration-color: #008000; font-weight: bold\">Heisenberg Uncertainty Principle'.</span>\n",
       "</pre>\n"
      ],
      "text/plain": [
       "\u001b[1;32mProvide a concise and direct answer to the question. Avoid using additional phrases such as \u001b[0m\u001b[32m'the answer to the \u001b[0m\n",
       "\u001b[32mquestion is'\u001b[0m\u001b[1;32m or \u001b[0m\u001b[32m'you are referring to'\u001b[0m\u001b[1;32m. Instead, simply state the answer. For example, if the question is \u001b[0m\u001b[32m'Who \u001b[0m\n",
       "\u001b[32mwrote '\u001b[0m\u001b[1;32mThe Love Song of J. Alfred Prufrock'?\u001b[0m\u001b[32m', your answer should be '\u001b[0m\u001b[1;32mT.S. Eliot'. If the question is \u001b[0m\u001b[32m'What \u001b[0m\n",
       "\u001b[32mprinciple in quantum mechanics asserts that it'\u001b[0m\u001b[1;32ms impossible to simultaneously know the exact position and momentum \u001b[0m\n",
       "\u001b[1;32mof a particle?\u001b[0m\u001b[32m', your answer should be '\u001b[0m\u001b[1;32mHeisenberg Uncertainty Principle'.\u001b[0m\n"
      ]
     },
     "metadata": {},
     "output_type": "display_data"
    },
    {
     "data": {
      "text/html": [
       "<pre style=\"white-space:pre;overflow-x:auto;line-height:normal;font-family:Menlo,'DejaVu Sans Mono',consolas,'Courier New',monospace\">Train is done!\n",
       "</pre>\n"
      ],
      "text/plain": [
       "Train is done!\n"
      ]
     },
     "metadata": {},
     "output_type": "display_data"
    },
    {
     "data": {
      "text/html": [
       "<pre style=\"white-space:pre;overflow-x:auto;line-height:normal;font-family:Menlo,'DejaVu Sans Mono',consolas,'Courier New',monospace\">\n",
       "\n",
       "=&gt; Iteration #<span style=\"color: #008080; text-decoration-color: #008080; font-weight: bold\">1</span>: Getting feedback, analyzing and improving <span style=\"color: #808000; text-decoration-color: #808000\">...</span>\n",
       "</pre>\n"
      ],
      "text/plain": [
       "\n",
       "\n",
       "=> Iteration #\u001b[1;36m1\u001b[0m: Getting feedback, analyzing and improving \u001b[33m...\u001b[0m\n"
      ]
     },
     "metadata": {},
     "output_type": "display_data"
    },
    {
     "data": {
      "text/html": [
       "<pre style=\"white-space:pre;overflow-x:auto;line-height:normal;font-family:Menlo,'DejaVu Sans Mono',consolas,'Courier New',monospace\">Applying skill: qa_skill\n",
       "</pre>\n"
      ],
      "text/plain": [
       "Applying skill: qa_skill\n"
      ]
     },
     "metadata": {},
     "output_type": "display_data"
    },
    {
     "data": {
      "text/html": [
       "<pre style=\"white-space:pre;overflow-x:auto;line-height:normal;font-family:Menlo,'DejaVu Sans Mono',consolas,'Courier New',monospace\"><span style=\"font-weight: bold\">[</span><span style=\"color: #008000; text-decoration-color: #008000\">'question'</span><span style=\"font-weight: bold\">]</span>\n",
       "</pre>\n"
      ],
      "text/plain": [
       "\u001b[1m[\u001b[0m\u001b[32m'question'\u001b[0m\u001b[1m]\u001b[0m\n"
      ]
     },
     "metadata": {},
     "output_type": "display_data"
    },
    {
     "name": "stderr",
     "output_type": "stream",
     "text": [
      "  0%|          | 0/4 [00:00<?, ?it/s]"
     ]
    },
    {
     "data": {
      "text/html": [
       "<pre style=\"white-space:pre;overflow-x:auto;line-height:normal;font-family:Menlo,'DejaVu Sans Mono',consolas,'Courier New',monospace\"><span style=\"font-weight: bold\">{</span><span style=\"color: #008000; text-decoration-color: #008000\">'question'</span>: <span style=\"color: #008000; text-decoration-color: #008000\">\"In quantum mechanics, what principle asserts that it's impossible to simultaneously know the exact </span>\n",
       "<span style=\"color: #008000; text-decoration-color: #008000\">position and momentum of a particle?\"</span>, <span style=\"color: #008000; text-decoration-color: #008000\">'expected_answer'</span>: <span style=\"color: #008000; text-decoration-color: #008000\">'Heisenberg Uncertainty Principle'</span><span style=\"font-weight: bold\">}</span>\n",
       "</pre>\n"
      ],
      "text/plain": [
       "\u001b[1m{\u001b[0m\u001b[32m'question'\u001b[0m: \u001b[32m\"In quantum mechanics, what principle asserts that it's impossible to simultaneously know the exact \u001b[0m\n",
       "\u001b[32mposition and momentum of a particle?\"\u001b[0m, \u001b[32m'expected_answer'\u001b[0m: \u001b[32m'Heisenberg Uncertainty Principle'\u001b[0m\u001b[1m}\u001b[0m\n"
      ]
     },
     "metadata": {},
     "output_type": "display_data"
    },
    {
     "name": "stderr",
     "output_type": "stream",
     "text": [
      " 50%|█████     | 2/4 [00:03<00:03,  1.98s/it]"
     ]
    },
    {
     "data": {
      "text/html": [
       "<pre style=\"white-space:pre;overflow-x:auto;line-height:normal;font-family:Menlo,'DejaVu Sans Mono',consolas,'Courier New',monospace\"><span style=\"font-weight: bold\">{</span><span style=\"color: #008000; text-decoration-color: #008000\">'question'</span>: <span style=\"color: #008000; text-decoration-color: #008000\">\"Which famous poet wrote 'The Love Song of J. Alfred Prufrock'?\"</span>, <span style=\"color: #008000; text-decoration-color: #008000\">'expected_answer'</span>: <span style=\"color: #008000; text-decoration-color: #008000\">'T.S. Eliot'</span><span style=\"font-weight: bold\">}</span>\n",
       "</pre>\n"
      ],
      "text/plain": [
       "\u001b[1m{\u001b[0m\u001b[32m'question'\u001b[0m: \u001b[32m\"Which famous poet wrote 'The Love Song of J. Alfred Prufrock'?\"\u001b[0m, \u001b[32m'expected_answer'\u001b[0m: \u001b[32m'T.S. Eliot'\u001b[0m\u001b[1m}\u001b[0m\n"
      ]
     },
     "metadata": {},
     "output_type": "display_data"
    },
    {
     "name": "stderr",
     "output_type": "stream",
     "text": [
      " 75%|███████▌  | 3/4 [00:06<00:02,  2.14s/it]"
     ]
    },
    {
     "data": {
      "text/html": [
       "<pre style=\"white-space:pre;overflow-x:auto;line-height:normal;font-family:Menlo,'DejaVu Sans Mono',consolas,'Courier New',monospace\"><span style=\"font-weight: bold\">{</span><span style=\"color: #008000; text-decoration-color: #008000\">'question'</span>: <span style=\"color: #008000; text-decoration-color: #008000\">'What mathematical theorem states that in any right-angled triangle, the area of the square whose side</span>\n",
       "<span style=\"color: #008000; text-decoration-color: #008000\">is the hypotenuse is equal to the sum of the areas of the squares whose sides are the two legs?'</span>, \n",
       "<span style=\"color: #008000; text-decoration-color: #008000\">'expected_answer'</span>: <span style=\"color: #008000; text-decoration-color: #008000\">'Pythagorean Theorem'</span><span style=\"font-weight: bold\">}</span>\n",
       "</pre>\n"
      ],
      "text/plain": [
       "\u001b[1m{\u001b[0m\u001b[32m'question'\u001b[0m: \u001b[32m'What mathematical theorem states that in any right-angled triangle, the area of the square whose side\u001b[0m\n",
       "\u001b[32mis the hypotenuse is equal to the sum of the areas of the squares whose sides are the two legs?'\u001b[0m, \n",
       "\u001b[32m'expected_answer'\u001b[0m: \u001b[32m'Pythagorean Theorem'\u001b[0m\u001b[1m}\u001b[0m\n"
      ]
     },
     "metadata": {},
     "output_type": "display_data"
    },
    {
     "name": "stderr",
     "output_type": "stream",
     "text": [
      "100%|██████████| 4/4 [00:09<00:00,  2.45s/it]"
     ]
    },
    {
     "data": {
      "text/html": [
       "<pre style=\"white-space:pre;overflow-x:auto;line-height:normal;font-family:Menlo,'DejaVu Sans Mono',consolas,'Courier New',monospace\"><span style=\"font-weight: bold\">{</span><span style=\"color: #008000; text-decoration-color: #008000\">'question'</span>: <span style=\"color: #008000; text-decoration-color: #008000\">'Which philosophical paradox involves a ship where all of its wooden parts are replaced with metal </span>\n",
       "<span style=\"color: #008000; text-decoration-color: #008000\">parts?'</span>, <span style=\"color: #008000; text-decoration-color: #008000\">'expected_answer'</span>: <span style=\"color: #008000; text-decoration-color: #008000\">'Ship of Theseus'</span><span style=\"font-weight: bold\">}</span>\n",
       "</pre>\n"
      ],
      "text/plain": [
       "\u001b[1m{\u001b[0m\u001b[32m'question'\u001b[0m: \u001b[32m'Which philosophical paradox involves a ship where all of its wooden parts are replaced with metal \u001b[0m\n",
       "\u001b[32mparts?'\u001b[0m, \u001b[32m'expected_answer'\u001b[0m: \u001b[32m'Ship of Theseus'\u001b[0m\u001b[1m}\u001b[0m\n"
      ]
     },
     "metadata": {},
     "output_type": "display_data"
    },
    {
     "name": "stderr",
     "output_type": "stream",
     "text": [
      "100%|██████████| 4/4 [00:12<00:00,  3.08s/it]\n"
     ]
    },
    {
     "data": {
      "text/html": [
       "<pre style=\"white-space:pre;overflow-x:auto;line-height:normal;font-family:Menlo,'DejaVu Sans Mono',consolas,'Courier New',monospace\">Predictions and feedback:\n",
       "</pre>\n"
      ],
      "text/plain": [
       "Predictions and feedback:\n"
      ]
     },
     "metadata": {},
     "output_type": "display_data"
    },
    {
     "data": {
      "text/html": [
       "<pre style=\"white-space:pre;overflow-x:auto;line-height:normal;font-family:Menlo,'DejaVu Sans Mono',consolas,'Courier New',monospace\">                                                                                                                   \n",
       " <span style=\"color: #800080; text-decoration-color: #800080; font-weight: bold\"> question                </span> <span style=\"color: #800080; text-decoration-color: #800080; font-weight: bold\"> expected_answer         </span> <span style=\"color: #800080; text-decoration-color: #800080; font-weight: bold\"> answer                   </span> <span style=\"color: #800080; text-decoration-color: #800080; font-weight: bold\"> answer </span> <span style=\"color: #800080; text-decoration-color: #800080; font-weight: bold\"> answer__fb              </span> \n",
       " ───────────────────────────────────────────────────────────────────────────────────────────────────────────────── \n",
       "  In quantum mechanics,     Heisenberg Uncertainty    Heisenberg Uncertainty     True     Correct.                 \n",
       "  what principle asserts    Principle                 Principle                                                    \n",
       "  that it's impossible to                                                                                          \n",
       "  simultaneously know the                                                                                          \n",
       "  exact position and                                                                                               \n",
       "  momentum of a particle?                                                                                          \n",
       " <span style=\"color: #7f7f7f; text-decoration-color: #7f7f7f\"> Which famous poet wrote </span> <span style=\"color: #7f7f7f; text-decoration-color: #7f7f7f\"> T.S. Eliot              </span> <span style=\"color: #7f7f7f; text-decoration-color: #7f7f7f\"> T.S. Eliot               </span> <span style=\"color: #7f7f7f; text-decoration-color: #7f7f7f\"> True   </span> <span style=\"color: #7f7f7f; text-decoration-color: #7f7f7f\"> Correct.                </span> \n",
       " <span style=\"color: #7f7f7f; text-decoration-color: #7f7f7f\"> 'The Love Song of J.    </span> <span style=\"color: #7f7f7f; text-decoration-color: #7f7f7f\">                         </span> <span style=\"color: #7f7f7f; text-decoration-color: #7f7f7f\">                          </span> <span style=\"color: #7f7f7f; text-decoration-color: #7f7f7f\">        </span> <span style=\"color: #7f7f7f; text-decoration-color: #7f7f7f\">                         </span> \n",
       " <span style=\"color: #7f7f7f; text-decoration-color: #7f7f7f\"> Alfred Prufrock'?       </span> <span style=\"color: #7f7f7f; text-decoration-color: #7f7f7f\">                         </span> <span style=\"color: #7f7f7f; text-decoration-color: #7f7f7f\">                          </span> <span style=\"color: #7f7f7f; text-decoration-color: #7f7f7f\">        </span> <span style=\"color: #7f7f7f; text-decoration-color: #7f7f7f\">                         </span> \n",
       "  What mathematical         Pythagorean Theorem       Pythagorean theorem        True     Correct.                 \n",
       "  theorem states that in                                                                                           \n",
       "  any right-angled                                                                                                 \n",
       "  triangle, the area of                                                                                            \n",
       "  the square whose side                                                                                            \n",
       "  is the hypotenuse is                                                                                             \n",
       "  equal to the sum of the                                                                                          \n",
       "  areas of the squares                                                                                             \n",
       "  whose sides are the two                                                                                          \n",
       "  legs?                                                                                                            \n",
       " <span style=\"color: #7f7f7f; text-decoration-color: #7f7f7f\"> Which philosophical     </span> <span style=\"color: #7f7f7f; text-decoration-color: #7f7f7f\"> Ship of Theseus         </span> <span style=\"color: #7f7f7f; text-decoration-color: #7f7f7f\"> The philosophical        </span> <span style=\"color: #7f7f7f; text-decoration-color: #7f7f7f\"> False  </span> <span style=\"color: #7f7f7f; text-decoration-color: #7f7f7f\"> Incorrect. Must be      </span> \n",
       " <span style=\"color: #7f7f7f; text-decoration-color: #7f7f7f\"> paradox involves a ship </span> <span style=\"color: #7f7f7f; text-decoration-color: #7f7f7f\">                         </span> <span style=\"color: #7f7f7f; text-decoration-color: #7f7f7f\"> paradox is known as the  </span> <span style=\"color: #7f7f7f; text-decoration-color: #7f7f7f\">        </span> <span style=\"color: #7f7f7f; text-decoration-color: #7f7f7f\"> equal to Ship of        </span> \n",
       " <span style=\"color: #7f7f7f; text-decoration-color: #7f7f7f\"> where all of its wooden </span> <span style=\"color: #7f7f7f; text-decoration-color: #7f7f7f\">                         </span> <span style=\"color: #7f7f7f; text-decoration-color: #7f7f7f\"> Ship of Theseus.         </span> <span style=\"color: #7f7f7f; text-decoration-color: #7f7f7f\">        </span> <span style=\"color: #7f7f7f; text-decoration-color: #7f7f7f\"> Theseus                 </span> \n",
       " <span style=\"color: #7f7f7f; text-decoration-color: #7f7f7f\"> parts are replaced with </span> <span style=\"color: #7f7f7f; text-decoration-color: #7f7f7f\">                         </span> <span style=\"color: #7f7f7f; text-decoration-color: #7f7f7f\">                          </span> <span style=\"color: #7f7f7f; text-decoration-color: #7f7f7f\">        </span> <span style=\"color: #7f7f7f; text-decoration-color: #7f7f7f\">                         </span> \n",
       " <span style=\"color: #7f7f7f; text-decoration-color: #7f7f7f\"> metal parts?            </span> <span style=\"color: #7f7f7f; text-decoration-color: #7f7f7f\">                         </span> <span style=\"color: #7f7f7f; text-decoration-color: #7f7f7f\">                          </span> <span style=\"color: #7f7f7f; text-decoration-color: #7f7f7f\">        </span> <span style=\"color: #7f7f7f; text-decoration-color: #7f7f7f\">                         </span> \n",
       "                                                                                                                   \n",
       "</pre>\n"
      ],
      "text/plain": [
       "                                                                                                                   \n",
       " \u001b[1;35m \u001b[0m\u001b[1;35mquestion               \u001b[0m\u001b[1;35m \u001b[0m \u001b[1;35m \u001b[0m\u001b[1;35mexpected_answer        \u001b[0m\u001b[1;35m \u001b[0m \u001b[1;35m \u001b[0m\u001b[1;35manswer                  \u001b[0m\u001b[1;35m \u001b[0m \u001b[1;35m \u001b[0m\u001b[1;35manswer\u001b[0m\u001b[1;35m \u001b[0m \u001b[1;35m \u001b[0m\u001b[1;35manswer__fb             \u001b[0m\u001b[1;35m \u001b[0m \n",
       " ───────────────────────────────────────────────────────────────────────────────────────────────────────────────── \n",
       "  In quantum mechanics,     Heisenberg Uncertainty    Heisenberg Uncertainty     True     Correct.                 \n",
       "  what principle asserts    Principle                 Principle                                                    \n",
       "  that it's impossible to                                                                                          \n",
       "  simultaneously know the                                                                                          \n",
       "  exact position and                                                                                               \n",
       "  momentum of a particle?                                                                                          \n",
       " \u001b[2m \u001b[0m\u001b[2mWhich famous poet wrote\u001b[0m\u001b[2m \u001b[0m \u001b[2m \u001b[0m\u001b[2mT.S. Eliot             \u001b[0m\u001b[2m \u001b[0m \u001b[2m \u001b[0m\u001b[2mT.S. Eliot              \u001b[0m\u001b[2m \u001b[0m \u001b[2m \u001b[0m\u001b[2mTrue  \u001b[0m\u001b[2m \u001b[0m \u001b[2m \u001b[0m\u001b[2mCorrect.               \u001b[0m\u001b[2m \u001b[0m \n",
       " \u001b[2m \u001b[0m\u001b[2m'The Love Song of J.   \u001b[0m\u001b[2m \u001b[0m \u001b[2m                         \u001b[0m \u001b[2m                          \u001b[0m \u001b[2m        \u001b[0m \u001b[2m                         \u001b[0m \n",
       " \u001b[2m \u001b[0m\u001b[2mAlfred Prufrock'?      \u001b[0m\u001b[2m \u001b[0m \u001b[2m                         \u001b[0m \u001b[2m                          \u001b[0m \u001b[2m        \u001b[0m \u001b[2m                         \u001b[0m \n",
       "  What mathematical         Pythagorean Theorem       Pythagorean theorem        True     Correct.                 \n",
       "  theorem states that in                                                                                           \n",
       "  any right-angled                                                                                                 \n",
       "  triangle, the area of                                                                                            \n",
       "  the square whose side                                                                                            \n",
       "  is the hypotenuse is                                                                                             \n",
       "  equal to the sum of the                                                                                          \n",
       "  areas of the squares                                                                                             \n",
       "  whose sides are the two                                                                                          \n",
       "  legs?                                                                                                            \n",
       " \u001b[2m \u001b[0m\u001b[2mWhich philosophical    \u001b[0m\u001b[2m \u001b[0m \u001b[2m \u001b[0m\u001b[2mShip of Theseus        \u001b[0m\u001b[2m \u001b[0m \u001b[2m \u001b[0m\u001b[2mThe philosophical       \u001b[0m\u001b[2m \u001b[0m \u001b[2m \u001b[0m\u001b[2mFalse \u001b[0m\u001b[2m \u001b[0m \u001b[2m \u001b[0m\u001b[2mIncorrect. Must be     \u001b[0m\u001b[2m \u001b[0m \n",
       " \u001b[2m \u001b[0m\u001b[2mparadox involves a ship\u001b[0m\u001b[2m \u001b[0m \u001b[2m                         \u001b[0m \u001b[2m \u001b[0m\u001b[2mparadox is known as the \u001b[0m\u001b[2m \u001b[0m \u001b[2m        \u001b[0m \u001b[2m \u001b[0m\u001b[2mequal to Ship of       \u001b[0m\u001b[2m \u001b[0m \n",
       " \u001b[2m \u001b[0m\u001b[2mwhere all of its wooden\u001b[0m\u001b[2m \u001b[0m \u001b[2m                         \u001b[0m \u001b[2m \u001b[0m\u001b[2mShip of Theseus.        \u001b[0m\u001b[2m \u001b[0m \u001b[2m        \u001b[0m \u001b[2m \u001b[0m\u001b[2mTheseus                \u001b[0m\u001b[2m \u001b[0m \n",
       " \u001b[2m \u001b[0m\u001b[2mparts are replaced with\u001b[0m\u001b[2m \u001b[0m \u001b[2m                         \u001b[0m \u001b[2m                          \u001b[0m \u001b[2m        \u001b[0m \u001b[2m                         \u001b[0m \n",
       " \u001b[2m \u001b[0m\u001b[2mmetal parts?           \u001b[0m\u001b[2m \u001b[0m \u001b[2m                         \u001b[0m \u001b[2m                          \u001b[0m \u001b[2m        \u001b[0m \u001b[2m                         \u001b[0m \n",
       "                                                                                                                   \n"
      ]
     },
     "metadata": {},
     "output_type": "display_data"
    },
    {
     "data": {
      "text/html": [
       "<pre style=\"white-space:pre;overflow-x:auto;line-height:normal;font-family:Menlo,'DejaVu Sans Mono',consolas,'Courier New',monospace\"><span style=\"color: #008000; text-decoration-color: #008000; font-weight: bold\">Output to improve: answer | </span><span style=\"color: #808000; text-decoration-color: #808000; font-weight: bold\">Skill</span><span style=\"color: #008000; text-decoration-color: #008000; font-weight: bold\">=</span><span style=\"color: #800080; text-decoration-color: #800080; font-weight: bold\">qa_skill</span><span style=\"color: #008000; text-decoration-color: #008000; font-weight: bold\"> | Accuracy = </span><span style=\"color: #008080; text-decoration-color: #008080; font-weight: bold\">75.00</span><span style=\"color: #008000; text-decoration-color: #008000; font-weight: bold\">% </span>\n",
       "\n",
       "<span style=\"color: #008000; text-decoration-color: #008000; font-weight: bold\">                                                                </span>\n",
       "</pre>\n"
      ],
      "text/plain": [
       "\u001b[1;32mOutput to improve: answer | \u001b[0m\u001b[1;33mSkill\u001b[0m\u001b[1;32m=\u001b[0m\u001b[1;35mqa_skill\u001b[0m\u001b[1;32m | Accuracy = \u001b[0m\u001b[1;36m75.00\u001b[0m\u001b[1;32m% \u001b[0m\n",
       "\n",
       "\u001b[1;32m                                                                \u001b[0m\n"
      ]
     },
     "metadata": {},
     "output_type": "display_data"
    },
    {
     "data": {
      "text/html": [
       "<pre style=\"white-space:pre;overflow-x:auto;line-height:normal;font-family:Menlo,'DejaVu Sans Mono',consolas,'Courier New',monospace\"><span style=\"font-weight: bold\">{</span><span style=\"color: #008000; text-decoration-color: #008000\">'input'</span>: <span style=\"color: #008000; text-decoration-color: #008000\">\"Here is the feedback based on the current instructions:\\n\\n\\n\\n    \\t\\t\\tQuestion: In quantum mechanics,</span>\n",
       "<span style=\"color: #008000; text-decoration-color: #008000\">what principle asserts that it's impossible to simultaneously know the exact position and momentum of a </span>\n",
       "<span style=\"color: #008000; text-decoration-color: #008000\">particle?\\n\\n    \\t\\t\\tthe answer to the question:Heisenberg Uncertainty Principle\\n\\n    \\t\\t\\tCorrect.\\n\\n\\n  </span>\n",
       "<span style=\"color: #008000; text-decoration-color: #008000\">\\t\\t\\t\\n\\n    \\t\\t\\tQuestion: Which famous poet wrote 'The Love Song of J. Alfred Prufrock'?\\n\\n    \\t\\t\\tthe </span>\n",
       "<span style=\"color: #008000; text-decoration-color: #008000\">answer to the question:T.S. Eliot\\n\\n    \\t\\t\\tCorrect.\\n\\n\\n  \\t\\t\\t\\n\\n    \\t\\t\\tQuestion: What mathematical </span>\n",
       "<span style=\"color: #008000; text-decoration-color: #008000\">theorem states that in any right-angled triangle, the area of the square whose side is the hypotenuse is equal to </span>\n",
       "<span style=\"color: #008000; text-decoration-color: #008000\">the sum of the areas of the squares whose sides are the two legs?\\n\\n    \\t\\t\\tthe answer to the </span>\n",
       "<span style=\"color: #008000; text-decoration-color: #008000\">question:Pythagorean theorem\\n\\n    \\t\\t\\tCorrect.\\n\\n\\n  \\t\\t\\t\\n\\n    \\t\\t\\tQuestion: Which philosophical paradox</span>\n",
       "<span style=\"color: #008000; text-decoration-color: #008000\">involves a ship where all of its wooden parts are replaced with metal parts?\\n\\n    \\t\\t\\tthe answer to the </span>\n",
       "<span style=\"color: #008000; text-decoration-color: #008000\">question:The philosophical paradox is known as the Ship of Theseus.\\n\\n    \\t\\t\\tIncorrect. Must be equal to Ship </span>\n",
       "<span style=\"color: #008000; text-decoration-color: #008000\">of Theseus\\n\\n\\n  \\t\\t\\t\\n\\n'\\n\\t\\t\\t\\tPlease address the feedback and provide new improved instructions for the </span>\n",
       "<span style=\"color: #008000; text-decoration-color: #008000\">LLM.\\n\\n\\t\\t\\t\\tUse the following format for the few-shot examples:\\n\\n\\n\\t\\t\\t\\tQuestion: </span>\n",
       "<span style=\"color: #008000; text-decoration-color: #008000\">{question}\\n\\n\\t\\t\\t\\t[{'name': 'answer', 'description': 'the answer to the question'}]\\n\\n\\n\\t\\t\\t\\tCarefully </span>\n",
       "<span style=\"color: #008000; text-decoration-color: #008000\">analyze this feedback, and provide updated prompting instructions for LLM:\\n\\t\\t\\t\"</span><span style=\"font-weight: bold\">}</span>\n",
       "</pre>\n"
      ],
      "text/plain": [
       "\u001b[1m{\u001b[0m\u001b[32m'input'\u001b[0m: \u001b[32m\"Here is the feedback based on the current instructions:\\n\\n\\n\\n    \\t\\t\\tQuestion: In quantum mechanics,\u001b[0m\n",
       "\u001b[32mwhat principle asserts that it's impossible to simultaneously know the exact position and momentum of a \u001b[0m\n",
       "\u001b[32mparticle?\\n\\n    \\t\\t\\tthe answer to the question:Heisenberg Uncertainty Principle\\n\\n    \\t\\t\\tCorrect.\\n\\n\\n  \u001b[0m\n",
       "\u001b[32m\\t\\t\\t\\n\\n    \\t\\t\\tQuestion: Which famous poet wrote 'The Love Song of J. Alfred Prufrock'?\\n\\n    \\t\\t\\tthe \u001b[0m\n",
       "\u001b[32manswer to the question:T.S. Eliot\\n\\n    \\t\\t\\tCorrect.\\n\\n\\n  \\t\\t\\t\\n\\n    \\t\\t\\tQuestion: What mathematical \u001b[0m\n",
       "\u001b[32mtheorem states that in any right-angled triangle, the area of the square whose side is the hypotenuse is equal to \u001b[0m\n",
       "\u001b[32mthe sum of the areas of the squares whose sides are the two legs?\\n\\n    \\t\\t\\tthe answer to the \u001b[0m\n",
       "\u001b[32mquestion:Pythagorean theorem\\n\\n    \\t\\t\\tCorrect.\\n\\n\\n  \\t\\t\\t\\n\\n    \\t\\t\\tQuestion: Which philosophical paradox\u001b[0m\n",
       "\u001b[32minvolves a ship where all of its wooden parts are replaced with metal parts?\\n\\n    \\t\\t\\tthe answer to the \u001b[0m\n",
       "\u001b[32mquestion:The philosophical paradox is known as the Ship of Theseus.\\n\\n    \\t\\t\\tIncorrect. Must be equal to Ship \u001b[0m\n",
       "\u001b[32mof Theseus\\n\\n\\n  \\t\\t\\t\\n\\n'\\n\\t\\t\\t\\tPlease address the feedback and provide new improved instructions for the \u001b[0m\n",
       "\u001b[32mLLM.\\n\\n\\t\\t\\t\\tUse the following format for the few-shot examples:\\n\\n\\n\\t\\t\\t\\tQuestion: \u001b[0m\n",
       "\u001b[32m{\u001b[0m\u001b[32mquestion\u001b[0m\u001b[32m}\u001b[0m\u001b[32m\\n\\n\\t\\t\\t\\t\u001b[0m\u001b[32m[\u001b[0m\u001b[32m{\u001b[0m\u001b[32m'name': 'answer', 'description': 'the answer to the question'\u001b[0m\u001b[32m}\u001b[0m\u001b[32m]\u001b[0m\u001b[32m\\n\\n\\n\\t\\t\\t\\tCarefully \u001b[0m\n",
       "\u001b[32manalyze this feedback, and provide updated prompting instructions for LLM:\\n\\t\\t\\t\"\u001b[0m\u001b[1m}\u001b[0m\n"
      ]
     },
     "metadata": {},
     "output_type": "display_data"
    },
    {
     "data": {
      "text/html": [
       "<pre style=\"white-space:pre;overflow-x:auto;line-height:normal;font-family:Menlo,'DejaVu Sans Mono',consolas,'Courier New',monospace\"><span style=\"color: #008000; text-decoration-color: #008000; font-weight: bold\">Answer the question directly and concisely. Avoid using additional phrases such as </span><span style=\"color: #008000; text-decoration-color: #008000\">'the answer to the question is'</span><span style=\"color: #008000; text-decoration-color: #008000; font-weight: bold\"> </span>\n",
       "<span style=\"color: #008000; text-decoration-color: #008000; font-weight: bold\">or </span><span style=\"color: #008000; text-decoration-color: #008000\">'you are referring to'</span><span style=\"color: #008000; text-decoration-color: #008000; font-weight: bold\">. Instead, simply state the answer. For example, if the question is </span><span style=\"color: #008000; text-decoration-color: #008000\">'Who wrote '</span><span style=\"color: #008000; text-decoration-color: #008000; font-weight: bold\">The Love </span>\n",
       "<span style=\"color: #008000; text-decoration-color: #008000; font-weight: bold\">Song of J. Alfred Prufrock'?</span><span style=\"color: #008000; text-decoration-color: #008000\">', your answer should be '</span><span style=\"color: #008000; text-decoration-color: #008000; font-weight: bold\">T.S. Eliot'. If the question is </span><span style=\"color: #008000; text-decoration-color: #008000\">'What principle in quantum </span>\n",
       "<span style=\"color: #008000; text-decoration-color: #008000\">mechanics asserts that it'</span><span style=\"color: #008000; text-decoration-color: #008000; font-weight: bold\">s impossible to simultaneously know the exact position and momentum of a particle?</span><span style=\"color: #008000; text-decoration-color: #008000\">', your</span>\n",
       "<span style=\"color: #008000; text-decoration-color: #008000\">answer should be '</span><span style=\"color: #008000; text-decoration-color: #008000; font-weight: bold\">Heisenberg Uncertainty Principle'.</span>\n",
       "</pre>\n"
      ],
      "text/plain": [
       "\u001b[1;32mAnswer the question directly and concisely. Avoid using additional phrases such as \u001b[0m\u001b[32m'the answer to the question is'\u001b[0m\u001b[1;32m \u001b[0m\n",
       "\u001b[1;32mor \u001b[0m\u001b[32m'you are referring to'\u001b[0m\u001b[1;32m. Instead, simply state the answer. For example, if the question is \u001b[0m\u001b[32m'Who wrote '\u001b[0m\u001b[1;32mThe Love \u001b[0m\n",
       "\u001b[1;32mSong of J. Alfred Prufrock'?\u001b[0m\u001b[32m', your answer should be '\u001b[0m\u001b[1;32mT.S. Eliot'. If the question is \u001b[0m\u001b[32m'What principle in quantum \u001b[0m\n",
       "\u001b[32mmechanics asserts that it'\u001b[0m\u001b[1;32ms impossible to simultaneously know the exact position and momentum of a particle?\u001b[0m\u001b[32m', your\u001b[0m\n",
       "\u001b[32manswer should be '\u001b[0m\u001b[1;32mHeisenberg Uncertainty Principle'.\u001b[0m\n"
      ]
     },
     "metadata": {},
     "output_type": "display_data"
    },
    {
     "data": {
      "text/html": [
       "<pre style=\"white-space:pre;overflow-x:auto;line-height:normal;font-family:Menlo,'DejaVu Sans Mono',consolas,'Courier New',monospace\">Train is done!\n",
       "</pre>\n"
      ],
      "text/plain": [
       "Train is done!\n"
      ]
     },
     "metadata": {},
     "output_type": "display_data"
    },
    {
     "data": {
      "text/html": [
       "<pre style=\"white-space:pre;overflow-x:auto;line-height:normal;font-family:Menlo,'DejaVu Sans Mono',consolas,'Courier New',monospace\">\n",
       "\n",
       "=&gt; Iteration #<span style=\"color: #008080; text-decoration-color: #008080; font-weight: bold\">2</span>: Getting feedback, analyzing and improving <span style=\"color: #808000; text-decoration-color: #808000\">...</span>\n",
       "</pre>\n"
      ],
      "text/plain": [
       "\n",
       "\n",
       "=> Iteration #\u001b[1;36m2\u001b[0m: Getting feedback, analyzing and improving \u001b[33m...\u001b[0m\n"
      ]
     },
     "metadata": {},
     "output_type": "display_data"
    },
    {
     "data": {
      "text/html": [
       "<pre style=\"white-space:pre;overflow-x:auto;line-height:normal;font-family:Menlo,'DejaVu Sans Mono',consolas,'Courier New',monospace\">Applying skill: qa_skill\n",
       "</pre>\n"
      ],
      "text/plain": [
       "Applying skill: qa_skill\n"
      ]
     },
     "metadata": {},
     "output_type": "display_data"
    },
    {
     "data": {
      "text/html": [
       "<pre style=\"white-space:pre;overflow-x:auto;line-height:normal;font-family:Menlo,'DejaVu Sans Mono',consolas,'Courier New',monospace\"><span style=\"font-weight: bold\">[</span><span style=\"color: #008000; text-decoration-color: #008000\">'question'</span><span style=\"font-weight: bold\">]</span>\n",
       "</pre>\n"
      ],
      "text/plain": [
       "\u001b[1m[\u001b[0m\u001b[32m'question'\u001b[0m\u001b[1m]\u001b[0m\n"
      ]
     },
     "metadata": {},
     "output_type": "display_data"
    },
    {
     "name": "stderr",
     "output_type": "stream",
     "text": [
      "  0%|          | 0/4 [00:00<?, ?it/s]"
     ]
    },
    {
     "data": {
      "text/html": [
       "<pre style=\"white-space:pre;overflow-x:auto;line-height:normal;font-family:Menlo,'DejaVu Sans Mono',consolas,'Courier New',monospace\"><span style=\"font-weight: bold\">{</span><span style=\"color: #008000; text-decoration-color: #008000\">'question'</span>: <span style=\"color: #008000; text-decoration-color: #008000\">\"In quantum mechanics, what principle asserts that it's impossible to simultaneously know the exact </span>\n",
       "<span style=\"color: #008000; text-decoration-color: #008000\">position and momentum of a particle?\"</span>, <span style=\"color: #008000; text-decoration-color: #008000\">'expected_answer'</span>: <span style=\"color: #008000; text-decoration-color: #008000\">'Heisenberg Uncertainty Principle'</span><span style=\"font-weight: bold\">}</span>\n",
       "</pre>\n"
      ],
      "text/plain": [
       "\u001b[1m{\u001b[0m\u001b[32m'question'\u001b[0m: \u001b[32m\"In quantum mechanics, what principle asserts that it's impossible to simultaneously know the exact \u001b[0m\n",
       "\u001b[32mposition and momentum of a particle?\"\u001b[0m, \u001b[32m'expected_answer'\u001b[0m: \u001b[32m'Heisenberg Uncertainty Principle'\u001b[0m\u001b[1m}\u001b[0m\n"
      ]
     },
     "metadata": {},
     "output_type": "display_data"
    },
    {
     "name": "stderr",
     "output_type": "stream",
     "text": [
      " 50%|█████     | 2/4 [00:02<00:02,  1.40s/it]"
     ]
    },
    {
     "data": {
      "text/html": [
       "<pre style=\"white-space:pre;overflow-x:auto;line-height:normal;font-family:Menlo,'DejaVu Sans Mono',consolas,'Courier New',monospace\"><span style=\"font-weight: bold\">{</span><span style=\"color: #008000; text-decoration-color: #008000\">'question'</span>: <span style=\"color: #008000; text-decoration-color: #008000\">\"Which famous poet wrote 'The Love Song of J. Alfred Prufrock'?\"</span>, <span style=\"color: #008000; text-decoration-color: #008000\">'expected_answer'</span>: <span style=\"color: #008000; text-decoration-color: #008000\">'T.S. Eliot'</span><span style=\"font-weight: bold\">}</span>\n",
       "</pre>\n"
      ],
      "text/plain": [
       "\u001b[1m{\u001b[0m\u001b[32m'question'\u001b[0m: \u001b[32m\"Which famous poet wrote 'The Love Song of J. Alfred Prufrock'?\"\u001b[0m, \u001b[32m'expected_answer'\u001b[0m: \u001b[32m'T.S. Eliot'\u001b[0m\u001b[1m}\u001b[0m\n"
      ]
     },
     "metadata": {},
     "output_type": "display_data"
    },
    {
     "name": "stderr",
     "output_type": "stream",
     "text": [
      " 75%|███████▌  | 3/4 [00:05<00:01,  1.82s/it]"
     ]
    },
    {
     "data": {
      "text/html": [
       "<pre style=\"white-space:pre;overflow-x:auto;line-height:normal;font-family:Menlo,'DejaVu Sans Mono',consolas,'Courier New',monospace\"><span style=\"font-weight: bold\">{</span><span style=\"color: #008000; text-decoration-color: #008000\">'question'</span>: <span style=\"color: #008000; text-decoration-color: #008000\">'What mathematical theorem states that in any right-angled triangle, the area of the square whose side</span>\n",
       "<span style=\"color: #008000; text-decoration-color: #008000\">is the hypotenuse is equal to the sum of the areas of the squares whose sides are the two legs?'</span>, \n",
       "<span style=\"color: #008000; text-decoration-color: #008000\">'expected_answer'</span>: <span style=\"color: #008000; text-decoration-color: #008000\">'Pythagorean Theorem'</span><span style=\"font-weight: bold\">}</span>\n",
       "</pre>\n"
      ],
      "text/plain": [
       "\u001b[1m{\u001b[0m\u001b[32m'question'\u001b[0m: \u001b[32m'What mathematical theorem states that in any right-angled triangle, the area of the square whose side\u001b[0m\n",
       "\u001b[32mis the hypotenuse is equal to the sum of the areas of the squares whose sides are the two legs?'\u001b[0m, \n",
       "\u001b[32m'expected_answer'\u001b[0m: \u001b[32m'Pythagorean Theorem'\u001b[0m\u001b[1m}\u001b[0m\n"
      ]
     },
     "metadata": {},
     "output_type": "display_data"
    },
    {
     "name": "stderr",
     "output_type": "stream",
     "text": [
      "100%|██████████| 4/4 [00:07<00:00,  1.99s/it]"
     ]
    },
    {
     "data": {
      "text/html": [
       "<pre style=\"white-space:pre;overflow-x:auto;line-height:normal;font-family:Menlo,'DejaVu Sans Mono',consolas,'Courier New',monospace\"><span style=\"font-weight: bold\">{</span><span style=\"color: #008000; text-decoration-color: #008000\">'question'</span>: <span style=\"color: #008000; text-decoration-color: #008000\">'Which philosophical paradox involves a ship where all of its wooden parts are replaced with metal </span>\n",
       "<span style=\"color: #008000; text-decoration-color: #008000\">parts?'</span>, <span style=\"color: #008000; text-decoration-color: #008000\">'expected_answer'</span>: <span style=\"color: #008000; text-decoration-color: #008000\">'Ship of Theseus'</span><span style=\"font-weight: bold\">}</span>\n",
       "</pre>\n"
      ],
      "text/plain": [
       "\u001b[1m{\u001b[0m\u001b[32m'question'\u001b[0m: \u001b[32m'Which philosophical paradox involves a ship where all of its wooden parts are replaced with metal \u001b[0m\n",
       "\u001b[32mparts?'\u001b[0m, \u001b[32m'expected_answer'\u001b[0m: \u001b[32m'Ship of Theseus'\u001b[0m\u001b[1m}\u001b[0m\n"
      ]
     },
     "metadata": {},
     "output_type": "display_data"
    },
    {
     "name": "stderr",
     "output_type": "stream",
     "text": [
      "100%|██████████| 4/4 [00:09<00:00,  2.40s/it]\n"
     ]
    },
    {
     "data": {
      "text/html": [
       "<pre style=\"white-space:pre;overflow-x:auto;line-height:normal;font-family:Menlo,'DejaVu Sans Mono',consolas,'Courier New',monospace\">Predictions and feedback:\n",
       "</pre>\n"
      ],
      "text/plain": [
       "Predictions and feedback:\n"
      ]
     },
     "metadata": {},
     "output_type": "display_data"
    },
    {
     "data": {
      "text/html": [
       "<pre style=\"white-space:pre;overflow-x:auto;line-height:normal;font-family:Menlo,'DejaVu Sans Mono',consolas,'Courier New',monospace\">                                                                                                                   \n",
       " <span style=\"color: #800080; text-decoration-color: #800080; font-weight: bold\"> question                </span> <span style=\"color: #800080; text-decoration-color: #800080; font-weight: bold\"> expected_answer         </span> <span style=\"color: #800080; text-decoration-color: #800080; font-weight: bold\"> answer                   </span> <span style=\"color: #800080; text-decoration-color: #800080; font-weight: bold\"> answer </span> <span style=\"color: #800080; text-decoration-color: #800080; font-weight: bold\"> answer__fb              </span> \n",
       " ───────────────────────────────────────────────────────────────────────────────────────────────────────────────── \n",
       "  In quantum mechanics,     Heisenberg Uncertainty    Heisenberg Uncertainty     True     Correct.                 \n",
       "  what principle asserts    Principle                 Principle                                                    \n",
       "  that it's impossible to                                                                                          \n",
       "  simultaneously know the                                                                                          \n",
       "  exact position and                                                                                               \n",
       "  momentum of a particle?                                                                                          \n",
       " <span style=\"color: #7f7f7f; text-decoration-color: #7f7f7f\"> Which famous poet wrote </span> <span style=\"color: #7f7f7f; text-decoration-color: #7f7f7f\"> T.S. Eliot              </span> <span style=\"color: #7f7f7f; text-decoration-color: #7f7f7f\"> T.S. Eliot               </span> <span style=\"color: #7f7f7f; text-decoration-color: #7f7f7f\"> True   </span> <span style=\"color: #7f7f7f; text-decoration-color: #7f7f7f\"> Correct.                </span> \n",
       " <span style=\"color: #7f7f7f; text-decoration-color: #7f7f7f\"> 'The Love Song of J.    </span> <span style=\"color: #7f7f7f; text-decoration-color: #7f7f7f\">                         </span> <span style=\"color: #7f7f7f; text-decoration-color: #7f7f7f\">                          </span> <span style=\"color: #7f7f7f; text-decoration-color: #7f7f7f\">        </span> <span style=\"color: #7f7f7f; text-decoration-color: #7f7f7f\">                         </span> \n",
       " <span style=\"color: #7f7f7f; text-decoration-color: #7f7f7f\"> Alfred Prufrock'?       </span> <span style=\"color: #7f7f7f; text-decoration-color: #7f7f7f\">                         </span> <span style=\"color: #7f7f7f; text-decoration-color: #7f7f7f\">                          </span> <span style=\"color: #7f7f7f; text-decoration-color: #7f7f7f\">        </span> <span style=\"color: #7f7f7f; text-decoration-color: #7f7f7f\">                         </span> \n",
       "  What mathematical         Pythagorean Theorem       Pythagorean theorem        True     Correct.                 \n",
       "  theorem states that in                                                                                           \n",
       "  any right-angled                                                                                                 \n",
       "  triangle, the area of                                                                                            \n",
       "  the square whose side                                                                                            \n",
       "  is the hypotenuse is                                                                                             \n",
       "  equal to the sum of the                                                                                          \n",
       "  areas of the squares                                                                                             \n",
       "  whose sides are the two                                                                                          \n",
       "  legs?                                                                                                            \n",
       " <span style=\"color: #7f7f7f; text-decoration-color: #7f7f7f\"> Which philosophical     </span> <span style=\"color: #7f7f7f; text-decoration-color: #7f7f7f\"> Ship of Theseus         </span> <span style=\"color: #7f7f7f; text-decoration-color: #7f7f7f\"> The Ship of Theseus      </span> <span style=\"color: #7f7f7f; text-decoration-color: #7f7f7f\"> False  </span> <span style=\"color: #7f7f7f; text-decoration-color: #7f7f7f\"> Incorrect. Must be      </span> \n",
       " <span style=\"color: #7f7f7f; text-decoration-color: #7f7f7f\"> paradox involves a ship </span> <span style=\"color: #7f7f7f; text-decoration-color: #7f7f7f\">                         </span> <span style=\"color: #7f7f7f; text-decoration-color: #7f7f7f\">                          </span> <span style=\"color: #7f7f7f; text-decoration-color: #7f7f7f\">        </span> <span style=\"color: #7f7f7f; text-decoration-color: #7f7f7f\"> equal to Ship of        </span> \n",
       " <span style=\"color: #7f7f7f; text-decoration-color: #7f7f7f\"> where all of its wooden </span> <span style=\"color: #7f7f7f; text-decoration-color: #7f7f7f\">                         </span> <span style=\"color: #7f7f7f; text-decoration-color: #7f7f7f\">                          </span> <span style=\"color: #7f7f7f; text-decoration-color: #7f7f7f\">        </span> <span style=\"color: #7f7f7f; text-decoration-color: #7f7f7f\"> Theseus                 </span> \n",
       " <span style=\"color: #7f7f7f; text-decoration-color: #7f7f7f\"> parts are replaced with </span> <span style=\"color: #7f7f7f; text-decoration-color: #7f7f7f\">                         </span> <span style=\"color: #7f7f7f; text-decoration-color: #7f7f7f\">                          </span> <span style=\"color: #7f7f7f; text-decoration-color: #7f7f7f\">        </span> <span style=\"color: #7f7f7f; text-decoration-color: #7f7f7f\">                         </span> \n",
       " <span style=\"color: #7f7f7f; text-decoration-color: #7f7f7f\"> metal parts?            </span> <span style=\"color: #7f7f7f; text-decoration-color: #7f7f7f\">                         </span> <span style=\"color: #7f7f7f; text-decoration-color: #7f7f7f\">                          </span> <span style=\"color: #7f7f7f; text-decoration-color: #7f7f7f\">        </span> <span style=\"color: #7f7f7f; text-decoration-color: #7f7f7f\">                         </span> \n",
       "                                                                                                                   \n",
       "</pre>\n"
      ],
      "text/plain": [
       "                                                                                                                   \n",
       " \u001b[1;35m \u001b[0m\u001b[1;35mquestion               \u001b[0m\u001b[1;35m \u001b[0m \u001b[1;35m \u001b[0m\u001b[1;35mexpected_answer        \u001b[0m\u001b[1;35m \u001b[0m \u001b[1;35m \u001b[0m\u001b[1;35manswer                  \u001b[0m\u001b[1;35m \u001b[0m \u001b[1;35m \u001b[0m\u001b[1;35manswer\u001b[0m\u001b[1;35m \u001b[0m \u001b[1;35m \u001b[0m\u001b[1;35manswer__fb             \u001b[0m\u001b[1;35m \u001b[0m \n",
       " ───────────────────────────────────────────────────────────────────────────────────────────────────────────────── \n",
       "  In quantum mechanics,     Heisenberg Uncertainty    Heisenberg Uncertainty     True     Correct.                 \n",
       "  what principle asserts    Principle                 Principle                                                    \n",
       "  that it's impossible to                                                                                          \n",
       "  simultaneously know the                                                                                          \n",
       "  exact position and                                                                                               \n",
       "  momentum of a particle?                                                                                          \n",
       " \u001b[2m \u001b[0m\u001b[2mWhich famous poet wrote\u001b[0m\u001b[2m \u001b[0m \u001b[2m \u001b[0m\u001b[2mT.S. Eliot             \u001b[0m\u001b[2m \u001b[0m \u001b[2m \u001b[0m\u001b[2mT.S. Eliot              \u001b[0m\u001b[2m \u001b[0m \u001b[2m \u001b[0m\u001b[2mTrue  \u001b[0m\u001b[2m \u001b[0m \u001b[2m \u001b[0m\u001b[2mCorrect.               \u001b[0m\u001b[2m \u001b[0m \n",
       " \u001b[2m \u001b[0m\u001b[2m'The Love Song of J.   \u001b[0m\u001b[2m \u001b[0m \u001b[2m                         \u001b[0m \u001b[2m                          \u001b[0m \u001b[2m        \u001b[0m \u001b[2m                         \u001b[0m \n",
       " \u001b[2m \u001b[0m\u001b[2mAlfred Prufrock'?      \u001b[0m\u001b[2m \u001b[0m \u001b[2m                         \u001b[0m \u001b[2m                          \u001b[0m \u001b[2m        \u001b[0m \u001b[2m                         \u001b[0m \n",
       "  What mathematical         Pythagorean Theorem       Pythagorean theorem        True     Correct.                 \n",
       "  theorem states that in                                                                                           \n",
       "  any right-angled                                                                                                 \n",
       "  triangle, the area of                                                                                            \n",
       "  the square whose side                                                                                            \n",
       "  is the hypotenuse is                                                                                             \n",
       "  equal to the sum of the                                                                                          \n",
       "  areas of the squares                                                                                             \n",
       "  whose sides are the two                                                                                          \n",
       "  legs?                                                                                                            \n",
       " \u001b[2m \u001b[0m\u001b[2mWhich philosophical    \u001b[0m\u001b[2m \u001b[0m \u001b[2m \u001b[0m\u001b[2mShip of Theseus        \u001b[0m\u001b[2m \u001b[0m \u001b[2m \u001b[0m\u001b[2mThe Ship of Theseus     \u001b[0m\u001b[2m \u001b[0m \u001b[2m \u001b[0m\u001b[2mFalse \u001b[0m\u001b[2m \u001b[0m \u001b[2m \u001b[0m\u001b[2mIncorrect. Must be     \u001b[0m\u001b[2m \u001b[0m \n",
       " \u001b[2m \u001b[0m\u001b[2mparadox involves a ship\u001b[0m\u001b[2m \u001b[0m \u001b[2m                         \u001b[0m \u001b[2m                          \u001b[0m \u001b[2m        \u001b[0m \u001b[2m \u001b[0m\u001b[2mequal to Ship of       \u001b[0m\u001b[2m \u001b[0m \n",
       " \u001b[2m \u001b[0m\u001b[2mwhere all of its wooden\u001b[0m\u001b[2m \u001b[0m \u001b[2m                         \u001b[0m \u001b[2m                          \u001b[0m \u001b[2m        \u001b[0m \u001b[2m \u001b[0m\u001b[2mTheseus                \u001b[0m\u001b[2m \u001b[0m \n",
       " \u001b[2m \u001b[0m\u001b[2mparts are replaced with\u001b[0m\u001b[2m \u001b[0m \u001b[2m                         \u001b[0m \u001b[2m                          \u001b[0m \u001b[2m        \u001b[0m \u001b[2m                         \u001b[0m \n",
       " \u001b[2m \u001b[0m\u001b[2mmetal parts?           \u001b[0m\u001b[2m \u001b[0m \u001b[2m                         \u001b[0m \u001b[2m                          \u001b[0m \u001b[2m        \u001b[0m \u001b[2m                         \u001b[0m \n",
       "                                                                                                                   \n"
      ]
     },
     "metadata": {},
     "output_type": "display_data"
    },
    {
     "data": {
      "text/html": [
       "<pre style=\"white-space:pre;overflow-x:auto;line-height:normal;font-family:Menlo,'DejaVu Sans Mono',consolas,'Courier New',monospace\"><span style=\"color: #008000; text-decoration-color: #008000; font-weight: bold\">Output to improve: answer | </span><span style=\"color: #808000; text-decoration-color: #808000; font-weight: bold\">Skill</span><span style=\"color: #008000; text-decoration-color: #008000; font-weight: bold\">=</span><span style=\"color: #800080; text-decoration-color: #800080; font-weight: bold\">qa_skill</span><span style=\"color: #008000; text-decoration-color: #008000; font-weight: bold\"> | Accuracy = </span><span style=\"color: #008080; text-decoration-color: #008080; font-weight: bold\">75.00</span><span style=\"color: #008000; text-decoration-color: #008000; font-weight: bold\">% </span>\n",
       "\n",
       "<span style=\"color: #008000; text-decoration-color: #008000; font-weight: bold\">                                                                </span>\n",
       "</pre>\n"
      ],
      "text/plain": [
       "\u001b[1;32mOutput to improve: answer | \u001b[0m\u001b[1;33mSkill\u001b[0m\u001b[1;32m=\u001b[0m\u001b[1;35mqa_skill\u001b[0m\u001b[1;32m | Accuracy = \u001b[0m\u001b[1;36m75.00\u001b[0m\u001b[1;32m% \u001b[0m\n",
       "\n",
       "\u001b[1;32m                                                                \u001b[0m\n"
      ]
     },
     "metadata": {},
     "output_type": "display_data"
    },
    {
     "data": {
      "text/html": [
       "<pre style=\"white-space:pre;overflow-x:auto;line-height:normal;font-family:Menlo,'DejaVu Sans Mono',consolas,'Courier New',monospace\"><span style=\"font-weight: bold\">{</span><span style=\"color: #008000; text-decoration-color: #008000\">'input'</span>: <span style=\"color: #008000; text-decoration-color: #008000\">\"The quality of the proposed instructions has not improved. Carefully analyze the feedback and do your </span>\n",
       "<span style=\"color: #008000; text-decoration-color: #008000\">best to improve the instructions. Here is the feedback based on the current instructions:\\n\\n\\n\\n    </span>\n",
       "<span style=\"color: #008000; text-decoration-color: #008000\">\\t\\t\\tQuestion: In quantum mechanics, what principle asserts that it's impossible to simultaneously know the exact </span>\n",
       "<span style=\"color: #008000; text-decoration-color: #008000\">position and momentum of a particle?\\n\\n    \\t\\t\\tthe answer to the question:Heisenberg Uncertainty Principle\\n\\n  </span>\n",
       "<span style=\"color: #008000; text-decoration-color: #008000\">\\t\\t\\tCorrect.\\n\\n\\n  \\t\\t\\t\\n\\n    \\t\\t\\tQuestion: Which famous poet wrote 'The Love Song of J. Alfred </span>\n",
       "<span style=\"color: #008000; text-decoration-color: #008000\">Prufrock'?\\n\\n    \\t\\t\\tthe answer to the question:T.S. Eliot\\n\\n    \\t\\t\\tCorrect.\\n\\n\\n  \\t\\t\\t\\n\\n    </span>\n",
       "<span style=\"color: #008000; text-decoration-color: #008000\">\\t\\t\\tQuestion: What mathematical theorem states that in any right-angled triangle, the area of the square whose </span>\n",
       "<span style=\"color: #008000; text-decoration-color: #008000\">side is the hypotenuse is equal to the sum of the areas of the squares whose sides are the two legs?\\n\\n    </span>\n",
       "<span style=\"color: #008000; text-decoration-color: #008000\">\\t\\t\\tthe answer to the question:Pythagorean theorem\\n\\n    \\t\\t\\tCorrect.\\n\\n\\n  \\t\\t\\t\\n\\n    \\t\\t\\tQuestion: </span>\n",
       "<span style=\"color: #008000; text-decoration-color: #008000\">Which philosophical paradox involves a ship where all of its wooden parts are replaced with metal parts?\\n\\n    </span>\n",
       "<span style=\"color: #008000; text-decoration-color: #008000\">\\t\\t\\tthe answer to the question:The Ship of Theseus\\n\\n    \\t\\t\\tIncorrect. Must be equal to Ship of Theseus\\n\\n\\n</span>\n",
       "<span style=\"color: #008000; text-decoration-color: #008000\">\\t\\t\\t\\n\\n'\\n\\t\\t\\t\\tPlease address the feedback and provide new improved instructions for the LLM.\\n\\n\\t\\t\\t\\tUse </span>\n",
       "<span style=\"color: #008000; text-decoration-color: #008000\">the following format for the few-shot examples:\\n\\n\\n\\t\\t\\t\\tQuestion: {question}\\n\\n\\t\\t\\t\\t[{'name': 'answer', </span>\n",
       "<span style=\"color: #008000; text-decoration-color: #008000\">'description': 'the answer to the question'}]\\n\\n\\n\\t\\t\\t\\tCarefully analyze this feedback, and provide updated </span>\n",
       "<span style=\"color: #008000; text-decoration-color: #008000\">prompting instructions for LLM:\\n\\t\\t\\t\"</span><span style=\"font-weight: bold\">}</span>\n",
       "</pre>\n"
      ],
      "text/plain": [
       "\u001b[1m{\u001b[0m\u001b[32m'input'\u001b[0m: \u001b[32m\"The quality of the proposed instructions has not improved. Carefully analyze the feedback and do your \u001b[0m\n",
       "\u001b[32mbest to improve the instructions. Here is the feedback based on the current instructions:\\n\\n\\n\\n    \u001b[0m\n",
       "\u001b[32m\\t\\t\\tQuestion: In quantum mechanics, what principle asserts that it's impossible to simultaneously know the exact \u001b[0m\n",
       "\u001b[32mposition and momentum of a particle?\\n\\n    \\t\\t\\tthe answer to the question:Heisenberg Uncertainty Principle\\n\\n  \u001b[0m\n",
       "\u001b[32m\\t\\t\\tCorrect.\\n\\n\\n  \\t\\t\\t\\n\\n    \\t\\t\\tQuestion: Which famous poet wrote 'The Love Song of J. Alfred \u001b[0m\n",
       "\u001b[32mPrufrock'?\\n\\n    \\t\\t\\tthe answer to the question:T.S. Eliot\\n\\n    \\t\\t\\tCorrect.\\n\\n\\n  \\t\\t\\t\\n\\n    \u001b[0m\n",
       "\u001b[32m\\t\\t\\tQuestion: What mathematical theorem states that in any right-angled triangle, the area of the square whose \u001b[0m\n",
       "\u001b[32mside is the hypotenuse is equal to the sum of the areas of the squares whose sides are the two legs?\\n\\n    \u001b[0m\n",
       "\u001b[32m\\t\\t\\tthe answer to the question:Pythagorean theorem\\n\\n    \\t\\t\\tCorrect.\\n\\n\\n  \\t\\t\\t\\n\\n    \\t\\t\\tQuestion: \u001b[0m\n",
       "\u001b[32mWhich philosophical paradox involves a ship where all of its wooden parts are replaced with metal parts?\\n\\n    \u001b[0m\n",
       "\u001b[32m\\t\\t\\tthe answer to the question:The Ship of Theseus\\n\\n    \\t\\t\\tIncorrect. Must be equal to Ship of Theseus\\n\\n\\n\u001b[0m\n",
       "\u001b[32m\\t\\t\\t\\n\\n'\\n\\t\\t\\t\\tPlease address the feedback and provide new improved instructions for the LLM.\\n\\n\\t\\t\\t\\tUse \u001b[0m\n",
       "\u001b[32mthe following format for the few-shot examples:\\n\\n\\n\\t\\t\\t\\tQuestion: \u001b[0m\u001b[32m{\u001b[0m\u001b[32mquestion\u001b[0m\u001b[32m}\u001b[0m\u001b[32m\\n\\n\\t\\t\\t\\t\u001b[0m\u001b[32m[\u001b[0m\u001b[32m{\u001b[0m\u001b[32m'name': 'answer', \u001b[0m\n",
       "\u001b[32m'description': 'the answer to the question'\u001b[0m\u001b[32m}\u001b[0m\u001b[32m]\u001b[0m\u001b[32m\\n\\n\\n\\t\\t\\t\\tCarefully analyze this feedback, and provide updated \u001b[0m\n",
       "\u001b[32mprompting instructions for LLM:\\n\\t\\t\\t\"\u001b[0m\u001b[1m}\u001b[0m\n"
      ]
     },
     "metadata": {},
     "output_type": "display_data"
    },
    {
     "data": {
      "text/html": [
       "<pre style=\"white-space:pre;overflow-x:auto;line-height:normal;font-family:Menlo,'DejaVu Sans Mono',consolas,'Courier New',monospace\"><span style=\"color: #008000; text-decoration-color: #008000; font-weight: bold\">Provide a direct and concise answer to the question. Avoid using additional phrases such as </span><span style=\"color: #008000; text-decoration-color: #008000\">'the answer to the </span>\n",
       "<span style=\"color: #008000; text-decoration-color: #008000\">question is'</span><span style=\"color: #008000; text-decoration-color: #008000; font-weight: bold\"> or </span><span style=\"color: #008000; text-decoration-color: #008000\">'you are referring to'</span><span style=\"color: #008000; text-decoration-color: #008000; font-weight: bold\">. Instead, simply state the answer. For example, if the question is </span><span style=\"color: #008000; text-decoration-color: #008000\">'Who </span>\n",
       "<span style=\"color: #008000; text-decoration-color: #008000\">wrote '</span><span style=\"color: #008000; text-decoration-color: #008000; font-weight: bold\">The Love Song of J. Alfred Prufrock'?</span><span style=\"color: #008000; text-decoration-color: #008000\">', your answer should be '</span><span style=\"color: #008000; text-decoration-color: #008000; font-weight: bold\">T.S. Eliot'. If the question is </span><span style=\"color: #008000; text-decoration-color: #008000\">'What </span>\n",
       "<span style=\"color: #008000; text-decoration-color: #008000\">principle in quantum mechanics asserts that it'</span><span style=\"color: #008000; text-decoration-color: #008000; font-weight: bold\">s impossible to simultaneously know the exact position and momentum </span>\n",
       "<span style=\"color: #008000; text-decoration-color: #008000; font-weight: bold\">of a particle?</span><span style=\"color: #008000; text-decoration-color: #008000\">', your answer should be '</span><span style=\"color: #008000; text-decoration-color: #008000; font-weight: bold\">Heisenberg Uncertainty Principle'.</span>\n",
       "</pre>\n"
      ],
      "text/plain": [
       "\u001b[1;32mProvide a direct and concise answer to the question. Avoid using additional phrases such as \u001b[0m\u001b[32m'the answer to the \u001b[0m\n",
       "\u001b[32mquestion is'\u001b[0m\u001b[1;32m or \u001b[0m\u001b[32m'you are referring to'\u001b[0m\u001b[1;32m. Instead, simply state the answer. For example, if the question is \u001b[0m\u001b[32m'Who \u001b[0m\n",
       "\u001b[32mwrote '\u001b[0m\u001b[1;32mThe Love Song of J. Alfred Prufrock'?\u001b[0m\u001b[32m', your answer should be '\u001b[0m\u001b[1;32mT.S. Eliot'. If the question is \u001b[0m\u001b[32m'What \u001b[0m\n",
       "\u001b[32mprinciple in quantum mechanics asserts that it'\u001b[0m\u001b[1;32ms impossible to simultaneously know the exact position and momentum \u001b[0m\n",
       "\u001b[1;32mof a particle?\u001b[0m\u001b[32m', your answer should be '\u001b[0m\u001b[1;32mHeisenberg Uncertainty Principle'.\u001b[0m\n"
      ]
     },
     "metadata": {},
     "output_type": "display_data"
    },
    {
     "data": {
      "text/html": [
       "<pre style=\"white-space:pre;overflow-x:auto;line-height:normal;font-family:Menlo,'DejaVu Sans Mono',consolas,'Courier New',monospace\">Train is done!\n",
       "</pre>\n"
      ],
      "text/plain": [
       "Train is done!\n"
      ]
     },
     "metadata": {},
     "output_type": "display_data"
    }
   ],
   "source": [
    "agent.learn()"
   ]
  }
 ],
 "metadata": {
  "kernelspec": {
   "display_name": "ally",
   "language": "python",
   "name": "python3"
  },
  "language_info": {
   "codemirror_mode": {
    "name": "ipython",
    "version": 3
   },
   "file_extension": ".py",
   "mimetype": "text/x-python",
   "name": "python",
   "nbconvert_exporter": "python",
   "pygments_lexer": "ipython3",
   "version": "3.11.6"
  }
 },
 "nbformat": 4,
 "nbformat_minor": 2
}
